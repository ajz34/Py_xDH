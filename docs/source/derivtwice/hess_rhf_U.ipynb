{
 "cells": [
  {
   "cell_type": "markdown",
   "metadata": {},
   "source": [
    "# RHF 核坐标二阶 U 矩阵"
   ]
  },
  {
   "cell_type": "markdown",
   "metadata": {},
   "source": [
    "这一节我们会讨论二阶 U 矩阵的计算。我们以前定义了一阶 U 矩阵 (Yamaguchi, p398, eq G.1)\n",
    "\n",
    "$$\n",
    "\\frac{\\partial}{\\partial \\mathbb{A}} C_{\\mu p} = C_{\\mu m} U_{mp}^\\mathbb{A}\n",
    "$$"
   ]
  },
  {
   "cell_type": "markdown",
   "metadata": {},
   "source": [
    "而二阶 U 矩阵则定义为 (Yamaguchi, p398, eq G.2)\n",
    "\n",
    "$$\n",
    "\\frac{\\partial^2}{\\partial \\mathbb{A} \\partial \\mathbb{B}} C_{\\mu p} = C_{\\mu m} U_{mp}^\\mathbb{AB}\n",
    "$$"
   ]
  },
  {
   "cell_type": "markdown",
   "metadata": {},
   "source": [
    "尽管二阶 U 矩阵的定义直截了当，但我们以后其实是不使用二阶 U 矩阵的。尽管如此，讨论二阶 U 矩阵的过程仍然是有意义的。"
   ]
  },
  {
   "cell_type": "markdown",
   "metadata": {},
   "source": [
    "## 准备工作"
   ]
  },
  {
   "cell_type": "code",
   "execution_count": 1,
   "metadata": {},
   "outputs": [],
   "source": [
    "%matplotlib notebook\n",
    "\n",
    "from pyscf import gto, scf, dft, lib, grad, hessian\n",
    "from pyscf.scf import cphf\n",
    "import numpy as np\n",
    "from functools import partial\n",
    "import warnings\n",
    "from matplotlib import pyplot as plt\n",
    "from pyxdh.Utilities import NucCoordDerivGenerator, DipoleDerivGenerator, NumericDiff\n",
    "from pyxdh.DerivOnce import GradSCF\n",
    "from pyxdh.DerivTwice import HessSCF\n",
    "\n",
    "np.einsum = partial(np.einsum, optimize=[\"greedy\", 1024 ** 3 * 2 / 8])\n",
    "np.allclose = partial(np.allclose, atol=1e-6, rtol=1e-4)\n",
    "np.set_printoptions(5, linewidth=150, suppress=True)\n",
    "warnings.filterwarnings(\"ignore\")"
   ]
  },
  {
   "cell_type": "code",
   "execution_count": 2,
   "metadata": {},
   "outputs": [
    {
     "data": {
      "text/plain": [
       "<pyscf.gto.mole.Mole at 0x7f94800ef1c0>"
      ]
     },
     "execution_count": 2,
     "metadata": {},
     "output_type": "execute_result"
    }
   ],
   "source": [
    "mol = gto.Mole()\n",
    "mol.atom = \"\"\"\n",
    "O  0.0  0.0  0.0\n",
    "O  0.0  0.0  1.5\n",
    "H  1.0  0.0  0.0\n",
    "H  0.0  0.7  1.0\n",
    "\"\"\"\n",
    "mol.basis = \"6-31G\"\n",
    "mol.verbose = 0\n",
    "mol.build()"
   ]
  },
  {
   "cell_type": "code",
   "execution_count": 3,
   "metadata": {},
   "outputs": [],
   "source": [
    "gradh = GradSCF({\"scf_eng\": scf.RHF(mol), \"cphf_tol\": 1e-12})\n",
    "hessh = HessSCF({\"deriv_A\": gradh, \"deriv_B\": gradh})"
   ]
  },
  {
   "cell_type": "code",
   "execution_count": 4,
   "metadata": {},
   "outputs": [],
   "source": [
    "nmo, nao, natm, nocc, nvir = gradh.nao, gradh.nao, gradh.natm, gradh.nocc, gradh.nvir\n",
    "so, sv, sa = gradh.so, gradh.sv, gradh.sa\n",
    "mol_slice = gradh.mol_slice\n",
    "C, Co, Cv, e, eo, ev, D = gradh.C, gradh.Co, gradh.Cv, gradh.e, gradh.eo, gradh.ev, gradh.D\n",
    "H_0_ao, S_0_ao, eri0_ao, F_0_ao = gradh.H_0_ao, gradh.S_0_ao, gradh.eri0_ao, gradh.F_0_ao\n",
    "H_0_mo, S_0_mo, eri0_mo, F_0_mo = gradh.H_0_mo, gradh.S_0_mo, gradh.eri0_mo, gradh.F_0_mo\n",
    "H_1_ao, S_1_ao, eri1_ao, F_1_ao = gradh.H_1_ao, gradh.S_1_ao, gradh.eri1_ao, gradh.F_1_ao\n",
    "H_1_mo, S_1_mo, eri1_mo, F_1_mo = gradh.H_1_mo, gradh.S_1_mo, gradh.eri1_mo, gradh.F_1_mo\n",
    "Ax0_Core, B_1, U_1, U_1_vo = gradh.Ax0_Core, gradh.B_1, gradh.U_1, gradh.U_1_vo\n",
    "H_2_ao, S_2_ao, eri2_ao = hessh.H_2_ao, hessh.S_2_ao, hessh.eri2_ao\n",
    "H_2_mo, S_2_mo, eri2_mo = hessh.H_2_mo, hessh.S_2_mo, hessh.eri2_mo"
   ]
  },
  {
   "cell_type": "code",
   "execution_count": 5,
   "metadata": {},
   "outputs": [],
   "source": [
    "def grad_generator(mol):\n",
    "    scf_eng = scf.RHF(mol)\n",
    "    config = {\"scf_eng\": scf_eng, \"cphf_tol\": 1e-12}\n",
    "    return GradSCF(config)\n",
    "\n",
    "gradn = NucCoordDerivGenerator(mol, grad_generator)"
   ]
  },
  {
   "cell_type": "code",
   "execution_count": 6,
   "metadata": {},
   "outputs": [],
   "source": [
    "def plot_diff(anal_mat, num_mat):\n",
    "    fig, ax = plt.subplots(figsize=(2.4, 1.8)); ax.set_xscale(\"log\")\n",
    "    ax.hist(abs(anal_mat.ravel() - num_mat.ravel()), bins=np.logspace(np.log10(1e-10), np.log10(1e-1), 50), alpha=0.5)\n",
    "    ax.hist(abs(num_mat.ravel()), bins=np.logspace(np.log10(1e-10), np.log10(1e-1), 50), alpha=0.5)\n",
    "    return fig.tight_layout()"
   ]
  },
  {
   "cell_type": "markdown",
   "metadata": {},
   "source": [
    "这一节中，我们所提及的 U 矩阵通常是未经“轨道旋转”的 (而非经过旋转的 $\\mathscr{U}$)，它用 `U_1_nr` 表示。同时，使用了未经旋转的 $U_{pq}^\\mathbb{A}$ 的计算实例 `gradh_nr`, `hessh_nr`："
   ]
  },
  {
   "cell_type": "code",
   "execution_count": 7,
   "metadata": {},
   "outputs": [],
   "source": [
    "gradh_nr = GradSCF({\"scf_eng\": scf.RHF(mol), \"cphf_tol\": 1e-12, \"rotation\": False})\n",
    "hessh_nr = HessSCF({\"deriv_A\": gradh_nr, \"deriv_B\": gradh_nr, \"rotation\": False})\n",
    "U_1_nr = gradh_nr.U_1"
   ]
  },
  {
   "cell_type": "code",
   "execution_count": 8,
   "metadata": {},
   "outputs": [],
   "source": [
    "def grad_nr_generator(mol):\n",
    "    scf_eng = scf.RHF(mol)\n",
    "    config = {\"scf_eng\": scf_eng, \"cphf_tol\": 1e-12, \"rotation\": False}\n",
    "    return GradSCF(config)\n",
    "\n",
    "gradn_nr = NucCoordDerivGenerator(mol, grad_nr_generator)"
   ]
  },
  {
   "cell_type": "markdown",
   "metadata": {},
   "source": [
    "但二阶 U 矩阵在以后我们就简单地用 `U_2` 表示了。在 pyxdh 中，并不存在专门用于计算二阶 U 矩阵的函数。"
   ]
  },
  {
   "cell_type": "markdown",
   "metadata": {},
   "source": [
    "## 数值二阶 U 矩阵"
   ]
  },
  {
   "cell_type": "markdown",
   "metadata": {},
   "source": [
    "由于二阶数值梯度的误差较大，我们应当将上面的二阶梯度求取方式尽量化为一阶数值导数。根据对 $C_{\\mu p}$ 一阶导数的结果，我们容易知道\n",
    "\n",
    "$$\n",
    "\\frac{\\partial^2}{\\partial \\mathbb{A} \\partial \\mathbb{B}} C_{\\mu p} = C_{\\mu m} U_{mp}^\\mathbb{AB} = C_{\\mu m} \\frac{\\partial U_{mp}^\\mathbb{A}}{\\partial \\mathbb{B}} + C_{\\mu m} U_{mr}^\\mathbb{B} U_{rp}^\\mathbb{A}\n",
    "$$"
   ]
  },
  {
   "cell_type": "markdown",
   "metadata": {},
   "source": [
    "假使 $C_{\\mu m}$ 矩阵可逆，同时我们更换一下角标，就得到 (Yamaguchi, p399, eq H.1)\n",
    "\n",
    "$$\n",
    "U_{pq}^\\mathbb{AB} = \\frac{\\partial U_{pq}^\\mathbb{A}}{\\partial \\mathbb{B}} + U_{pm}^\\mathbb{B} U_{mq}^\\mathbb{A}\n",
    "$$"
   ]
  },
  {
   "cell_type": "markdown",
   "metadata": {},
   "source": [
    "我们用 `n_U_2` 表示通过数值方法给出的 $U_{pq}^{A_t B_s}$："
   ]
  },
  {
   "cell_type": "code",
   "execution_count": 9,
   "metadata": {},
   "outputs": [
    {
     "data": {
      "text/plain": [
       "(12, 12, 22, 22)"
      ]
     },
     "execution_count": 9,
     "metadata": {},
     "output_type": "execute_result"
    }
   ],
   "source": [
    "nd_U_1 = NumericDiff(gradn_nr, lambda gradh_nr: gradh_nr.U_1).derivative.swapaxes(0, 1)\n",
    "n_U_2 = nd_U_1 + np.einsum(\"Bpm, Amq -> ABpq\", U_1_nr, U_1_nr)\n",
    "n_U_2.shape"
   ]
  },
  {
   "cell_type": "markdown",
   "metadata": {},
   "source": [
    "## 解析二阶 U 矩阵"
   ]
  },
  {
   "cell_type": "markdown",
   "metadata": {},
   "source": [
    "### Fock 矩阵二阶全导数"
   ]
  },
  {
   "cell_type": "markdown",
   "metadata": {},
   "source": [
    "回顾到一阶 U 矩阵的计算，它的前提是未经过“轨道旋转”的 (Canonical) RHF 的 Fock 矩阵的非对角元为零。二阶 U 矩阵的推导也一样是这个前提。"
   ]
  },
  {
   "cell_type": "markdown",
   "metadata": {},
   "source": [
    "我们先需要回顾一下 Fock 一阶梯度计算：\n",
    "\n",
    "$$\n",
    "\\frac{\\partial F_{pq}}{\\partial \\mathbb{A}} = \\big[ F_{pm} U_{mq}^\\mathbb{A} + \\mathrm{swap} (p, q) \\big] + \\frac{\\partial F_{\\mu \\nu}}{\\partial \\mathbb{A}} C_{\\mu p} C_{\\nu q}\n",
    "$$"
   ]
  },
  {
   "cell_type": "markdown",
   "metadata": {},
   "source": [
    "上式有意地没有写成我们可以用于实际计算的表达式\n",
    "\n",
    "$$\n",
    "\\frac{\\partial F_{pq}}{\\partial \\mathbb{A}} = F_{pm} U_{mq}^\\mathbb{A} + F_{qm} U_{mp}^\\mathbb{A} + F_{pq}^\\mathbb{A} + A_{pq, mk} U_{mk}^\\mathbb{A}\n",
    "$$"
   ]
  },
  {
   "cell_type": "markdown",
   "metadata": {},
   "source": [
    "我们再作二阶导数，得到\n",
    "\n",
    "$$\n",
    "\\begin{align}\n",
    "\\frac{\\partial^2 F_{pq}}{\\partial \\mathbb{A} \\partial \\mathbb{B}}\n",
    "&= \\big[ F_{pr} U_{rm}^\\mathbb{B} U_{mq}^\\mathbb{A} + F_{rm} U_{rp}^\\mathbb{B} U_{mq}^\\mathbb{A} + \\mathrm{swap} (p, q) \\big] \\\\\n",
    "&\\quad + \\big[ \\frac{\\partial F_{\\mu \\nu}}{\\partial \\mathbb{A}} C_{\\mu m} U_{mp}^\\mathbb{B} C_{\\nu q} + \\mathrm{swap} (p, q) + \\mathrm{swap} (\\mathbb{A}, \\mathbb{B}) \\big] \\\\\n",
    "&\\quad + \\frac{\\partial^2 F_{\\mu \\nu}}{\\partial \\mathbb{A} \\partial \\mathbb{B}} C_{\\mu p} C_{\\nu q} + \\big[ F_{pm} \\frac{\\partial U_{mq}^\\mathbb{A}}{\\partial \\mathbb{B}} + \\mathrm{swap} (p, q) \\big] \\\\\n",
    "&= \\big[ F_{pm} U_{mq}^{\\mathbb{A} \\mathbb{B}} + F_{rm} U_{rp}^\\mathbb{B} U_{mq}^\\mathbb{A} + \\mathrm{swap} (p, q) \\big] \\\\\n",
    "&\\quad + \\big[ F_{pm}^\\mathbb{A} U_{mq}^\\mathbb{B} + A_{pm, rk} U_{rk}^\\mathbb{A} U_{mq}^\\mathbb{B} + \\mathrm{swap} (p, q) + \\mathrm{swap} (\\mathbb{A}, \\mathbb{B}) \\big] \\\\\n",
    "&\\quad + \\frac{\\partial^2 F_{\\mu \\nu}}{\\partial \\mathbb{A} \\partial \\mathbb{B}} C_{\\mu p} C_{\\nu q} \\\\\n",
    "\\end{align}\n",
    "$$"
   ]
  },
  {
   "cell_type": "markdown",
   "metadata": {},
   "source": [
    "上式中，$\\partial_\\mathbb{A} \\partial_\\mathbb{B} F_{\\mu \\nu}$ 还需要再进行进一步推导。"
   ]
  },
  {
   "cell_type": "markdown",
   "metadata": {},
   "source": [
    "\n",
    "$$\n",
    "\\frac{\\partial^2 F_{\\mu \\nu}}{\\partial \\mathbb{A} \\partial \\mathbb{B}} C_{\\mu p} C_{\\nu q} = \\frac{\\partial \\big( F_{\\mu \\nu}^\\mathbb{A} + A_{\\mu \\nu, \\kappa \\lambda} C_{\\kappa m} U_{mk}^\\mathbb{A} C_{\\lambda k} \\big)}{\\partial \\mathbb{B}} C_{\\mu p} C_{\\nu q}\n",
    "$$"
   ]
  },
  {
   "cell_type": "markdown",
   "metadata": {},
   "source": [
    "若我们定义 Fock Skeleton 导数 `F_2_ao` $F_{\\mu \\nu}^\\mathbb{AB}$ 为\n",
    "\n",
    "$$\n",
    "\\frac{\\partial F_{\\mu \\nu}^\\mathbb{A}}{\\partial \\mathbb{B}} = F_{\\mu \\nu}^\\mathbb{AB} + \\frac{\\partial A_{\\mu \\nu, \\kappa \\lambda}}{\\partial \\mathbb{A}} C_{\\kappa m} U_{mk}^\\mathbb{B} C_{\\lambda k}\n",
    "$$\n",
    "\n",
    "以及 A 张量全导数\n",
    "\n",
    "$$\n",
    "A_{\\mu \\nu, \\kappa \\lambda}^\\mathbb{A} = \\frac{\\partial A_{\\mu \\nu, \\kappa \\lambda}}{\\partial \\mathbb{A}}\n",
    "$$"
   ]
  },
  {
   "cell_type": "markdown",
   "metadata": {},
   "source": [
    "那么，\n",
    "\n",
    "$$\n",
    "\\frac{\\partial^2 F_{\\mu \\nu}}{\\partial \\mathbb{A} \\partial \\mathbb{B}} C_{\\mu p} C_{\\nu q}\n",
    "= F_{pq}^\\mathbb{AB} + A_{pq, mk}^\\mathbb{A} U_{mk}^\\mathbb{B} + A_{pq, mk}^\\mathbb{B} U_{mk}^\\mathbb{A} + A_{pq, rk} U_{rm}^\\mathbb{B} U_{mk}^\\mathbb{A} + A_{pq, mr} U_{rk}^\\mathbb{B} U_{mk}^\\mathbb{A} + A_{pq, mk} U_{mk}^\\mathbb{AB} - A_{pq, mk} U_{mr}^\\mathbb{B} U_{rk}^\\mathbb{A}\n",
    "$$"
   ]
  },
  {
   "cell_type": "markdown",
   "metadata": {},
   "source": [
    "综上，我们可以整理得到\n",
    "\n",
    "$$\n",
    "\\begin{align}\n",
    "\\frac{\\partial^2 F_{pq}}{\\partial \\mathbb{A} \\partial \\mathbb{B}}\n",
    "&= F_{pq}^\\mathbb{AB} + A_{pq, mk} U_{mk}^\\mathbb{AB} + \\varepsilon_p U_{pq}^\\mathbb{AB} + \\varepsilon_q U_{qp}^\\mathbb{AB} \\\\\n",
    "&\\quad + \\big[ F_{pm}^\\mathbb{A} U_{mq}^\\mathbb{B} + \\mathrm{swap} (p, q) + \\mathrm{swap} (\\mathbb{A}, \\mathbb{B}) \\big] \\\\\n",
    "&\\quad + \\varepsilon_m \\big[ U_{mp}^\\mathbb{A} U_{mq}^\\mathbb{B} + \\mathrm{swap} (p, q) \\big] \\\\\n",
    "&\\quad + A_{pq, mr} U_{mk}^\\mathbb{A} U_{rk}^\\mathbb{B} \\\\\n",
    "&\\quad + \\big[ A_{pm, rk} U_{rk}^\\mathbb{A} U_{mq}^\\mathbb{B} + \\mathrm{swap} (p, q) + \\mathrm{swap} (\\mathbb{A}, \\mathbb{B}) \\big] \\\\\n",
    "&\\quad + \\big[ A_{pq, mk}^\\mathbb{A} U_{mk}^\\mathbb{B} + \\mathrm{swap} (\\mathbb{A}, \\mathbb{B}) \\big]\n",
    "\\end{align}\n",
    "$$"
   ]
  },
  {
   "cell_type": "markdown",
   "metadata": {},
   "source": [
    "### 重叠矩阵二阶全导数"
   ]
  },
  {
   "cell_type": "markdown",
   "metadata": {},
   "source": [
    "在继续推导之前，我们引入二阶 U 矩阵的一个性质。我们考察重叠矩阵的全导数。在此之前，我们先回顾一下重叠矩阵一阶导数："
   ]
  },
  {
   "cell_type": "markdown",
   "metadata": {},
   "source": [
    "$$\n",
    "\\begin{align}\n",
    "\\frac{\\partial S_{pq}}{\\partial \\mathbb{A}} = S_{pq}^\\mathbb{A} + U_{pq}^\\mathbb{A} + U_{qp}^\\mathbb{A} = 0 \n",
    "\\end{align}\n",
    "$$"
   ]
  },
  {
   "cell_type": "markdown",
   "metadata": {},
   "source": [
    "相应地，我们可以给出\n",
    "\n",
    "$$\n",
    "\\begin{align}\n",
    "0 = \\frac{\\partial^2 S_{pq}}{\\partial \\mathbb{A} \\partial \\mathbb{B}}\n",
    "&= S_{pq}^\\mathbb{AB} + S_{pm}^\\mathbb{A} U_{mq}^\\mathbb{B} + S_{mq}^\\mathbb{A} U_{mp}^\\mathbb{B} \\\\\n",
    "&\\quad + U_{pq}^\\mathbb{AB} + U_{qp}^\\mathbb{AB} - U_{pm}^\\mathbb{B} U_{mq}^\\mathbb{A} - U_{qm}^\\mathbb{B} U_{mp}^\\mathbb{A}\n",
    "\\end{align}\n",
    "$$"
   ]
  },
  {
   "cell_type": "markdown",
   "metadata": {},
   "source": [
    "我们会将上式中除了二阶 U 矩阵之外的项写为 `Xi_2` $\\xi_{pq}^\\mathbb{AB}$：(Yamaguchi, p405, eq L.4)\n",
    "\n",
    "$$\n",
    "\\begin{align}\n",
    "\\xi_{pq}^\\mathbb{AB}\n",
    "&= S_{pq}^\\mathbb{AB} + S_{pm}^\\mathbb{A} U_{mq}^\\mathbb{B} + S_{mq}^\\mathbb{A} U_{mp}^\\mathbb{B} - U_{pm}^\\mathbb{B} U_{mq}^\\mathbb{A} - U_{qm}^\\mathbb{B} U_{mp}^\\mathbb{A} \\\\\n",
    "&= \\frac{1}{2} S_{pq}^\\mathbb{AB} + U_{pm}^\\mathbb{A} U_{qm}^\\mathbb{B} - S_{pm}^\\mathbb{A} S_{qm}^\\mathbb{B} + \\mathrm{swap} (\\mathbb{A}, \\mathbb{B})\n",
    "\\end{align}\n",
    "$$"
   ]
  },
  {
   "cell_type": "markdown",
   "metadata": {},
   "source": [
    "对于二阶核坐标梯度而言，代码可以写如："
   ]
  },
  {
   "cell_type": "code",
   "execution_count": 10,
   "metadata": {},
   "outputs": [],
   "source": [
    "Xi_2 = (\n",
    "    + 0.5 * S_2_mo\n",
    "    + np.einsum(\"Apm, Bqm -> ABpq\", U_1_nr, U_1_nr)\n",
    "    - np.einsum(\"Apm, Bqm -> ABpq\", S_1_mo, S_1_mo)\n",
    ")\n",
    "Xi_2 += Xi_2.swapaxes(0, 1)"
   ]
  },
  {
   "cell_type": "markdown",
   "metadata": {},
   "source": [
    "但需要注意到，现在我们讨论的是二阶核坐标梯度，因此被求导量 $\\mathbb{A}, \\mathbb{B}$ 是相同的，所以可以使用 `swapaxes` 求取。但若是像核坐标与电场混合二阶导数，就必须要显式地展开 $\\mathrm{swap} (\\mathbb{A}, \\mathbb{B})$。"
   ]
  },
  {
   "cell_type": "markdown",
   "metadata": {},
   "source": [
    "该量在 pyxdh 中也存在对应的 property："
   ]
  },
  {
   "cell_type": "code",
   "execution_count": 11,
   "metadata": {},
   "outputs": [
    {
     "data": {
      "text/plain": [
       "True"
      ]
     },
     "execution_count": 11,
     "metadata": {},
     "output_type": "execute_result"
    }
   ],
   "source": [
    "np.allclose(Xi_2, hessh_nr.Xi_2)"
   ]
  },
  {
   "cell_type": "markdown",
   "metadata": {},
   "source": [
    "<div class=\"alert alert-info\">\n",
    "\n",
    "**任务 (1)**\n",
    "\n",
    "用程序证明，\n",
    "    \n",
    "$$\n",
    "\\xi_{pq}^\\mathbb{AB} \\neq S_{pq}^\\mathbb{AB} + \\mathscr{U}_{pm}^\\mathbb{A} \\mathscr{U}_{qm}^\\mathbb{B} - S_{pm}^\\mathbb{A} S_{qm}^\\mathbb{B} + \\mathrm{swap} (\\mathbb{A}, \\mathbb{B})\n",
    "$$\n",
    "\n",
    "这个结论几乎表明，尽管轨道旋转后的 $\\mathscr{U}_{ai}^\\mathbb{A}$ 可以与未旋转的 $U_{ai}^\\mathbb{A}$ 设为相同，但在相同的轨道旋转构造下，$\\mathscr{U}_{ai}^\\mathbb{AB} \\not\\equiv U_{ai}^\\mathbb{AB}$。\n",
    "\n",
    "</div>"
   ]
  },
  {
   "cell_type": "markdown",
   "metadata": {},
   "source": [
    "因此 (Yamaguchi, p405, eq L.3)\n",
    "\n",
    "$$\n",
    "\\xi_{pq}^\\mathbb{AB} + U_{pq}^\\mathbb{AB} + U_{qp}^\\mathbb{AB} = 0\n",
    "$$"
   ]
  },
  {
   "cell_type": "markdown",
   "metadata": {},
   "source": [
    "### 一阶 A 张量、Fock 二阶 Skeleton 导数与二阶 B 矩阵"
   ]
  },
  {
   "cell_type": "markdown",
   "metadata": {},
   "source": [
    "我们利用上述的 $U_{pq}^\\mathbb{AB}$ 与 $U_{qp}^\\mathbb{AB}$ 之间的关系，重述 $\\partial_\\mathbb{A} \\partial_\\mathbb{B} F_{pq}$ 为：(Yamaguchi, p433, eq W.2)\n",
    "\n",
    "$$\n",
    "\\begin{align}\n",
    "\\frac{\\partial^2 F_{pq}}{\\partial \\mathbb{A} \\partial \\mathbb{B}}\n",
    "&= (\\varepsilon_p - \\varepsilon_q) U_{pq}^\\mathbb{AB} + A_{pq, bj} U_{bj}^\\mathbb{AB} \\\\\n",
    "&\\quad + F_{pq}^\\mathbb{AB} - \\frac{1}{2} A_{pq, kl} \\xi_{kl}^\\mathbb{AB} - \\xi_{pq}^\\mathbb{AB} \\varepsilon_q \\\\\n",
    "&\\quad + \\big[ F_{pm}^\\mathbb{A} U_{mq}^\\mathbb{B} + \\mathrm{swap} (p, q) + \\mathrm{swap} (\\mathbb{A}, \\mathbb{B}) \\big] \\\\\n",
    "&\\quad + \\varepsilon_m \\big[ U_{mp}^\\mathbb{A} U_{mq}^\\mathbb{B} + \\mathrm{swap} (p, q) \\big] \\\\\n",
    "&\\quad + A_{pq, mr} U_{mk}^\\mathbb{A} U_{rk}^\\mathbb{B} \\\\\n",
    "&\\quad + \\big[ A_{pm, rk} U_{rk}^\\mathbb{A} U_{mq}^\\mathbb{B} + \\mathrm{swap} (p, q) + \\mathrm{swap} (\\mathbb{A}, \\mathbb{B}) \\big] \\\\\n",
    "&\\quad + \\big[ A_{pq, mk}^\\mathbb{A} U_{mk}^\\mathbb{B} + \\mathrm{swap} (\\mathbb{A}, \\mathbb{B}) \\big]\n",
    "\\end{align}\n",
    "$$"
   ]
  },
  {
   "cell_type": "markdown",
   "metadata": {},
   "source": [
    "上式的第二行以后的所有项，我们定义为 `B_2` $B_{pq}^\\mathbb{AB}$。在此之前，我们还是现将 $\\mathrm{swap} (\\mathbb{A}, \\mathbb{B})$ 展开，避免以后的混合偏导数情况时重写代码：(Yamaguchi, p437, eq X.5)\n",
    "\n",
    "$$\n",
    "\\begin{align}\n",
    "B_{pq}^\\mathbb{AB}\n",
    "&= F_{pq}^\\mathbb{AB} - \\frac{1}{2} A_{pq, kl} \\xi_{kl}^\\mathbb{AB} - \\xi_{pq}^\\mathbb{AB} \\varepsilon_q \\\\\n",
    "&\\quad + F_{mp}^\\mathbb{A} U_{mq}^\\mathbb{B} + F_{mp}^\\mathbb{B} U_{mq}^\\mathbb{A} + F_{mq}^\\mathbb{A} U_{mp}^\\mathbb{B} + F_{mq}^\\mathbb{B} U_{mp}^\\mathbb{A} \\\\\n",
    "&\\quad + ( U_{mp}^\\mathbb{A} U_{mq}^\\mathbb{B} + U_{mp}^\\mathbb{B} U_{mq}^\\mathbb{A} ) \\varepsilon_m \\\\\n",
    "&\\quad + A_{pq, mr} U_{mk}^\\mathbb{A} U_{rk}^\\mathbb{B} \\\\\n",
    "&\\quad + A_{pm, rk} (U_{rk}^\\mathbb{A} U_{mq}^\\mathbb{B} + U_{rk}^\\mathbb{B} U_{mq}^\\mathbb{A}) \\\\\n",
    "&\\quad + A_{qm, rk} (U_{rk}^\\mathbb{A} U_{mp}^\\mathbb{B} + U_{rk}^\\mathbb{B} U_{mp}^\\mathbb{A}) \\\\\n",
    "&\\quad + A_{pq, mk}^\\mathbb{A} U_{mk}^\\mathbb{B} + A_{pq, mk}^\\mathbb{B} U_{mk}^\\mathbb{A}\n",
    "\\end{align}\n",
    "$$"
   ]
  },
  {
   "cell_type": "markdown",
   "metadata": {},
   "source": [
    "在给出二阶 B 矩阵之前，我们需要给出 `A_1_mo` $A_{pq, rs}^\\mathbb{A}$ 的表达式：(Yamaguchi, p407, eq M.5)\n",
    "\n",
    "$$\n",
    "A_{pq, rs}^\\mathbb{A} = C_{\\mu p} C_{\\nu q} \\frac{\\partial A_{\\mu \\nu, \\kappa \\lambda}}{\\partial \\mathbb{A}} C_{\\kappa r} C_{\\lambda s} = 4 (pq | rs)^\\mathbb{AB} - (pr | qs)^\\mathbb{AB} - (ps | qr)^\\mathbb{AB}\n",
    "$$\n",
    "\n",
    "下述的代码并不是严格按上式来编写的，利用到了 ERI 积分的对称性。但需要指出，$A_{pq, rs}^\\mathbb{A}$ 从推导的过程上，并不是 $A_{pq, rs}$ 的 Skeleton 导数。这点很关键，我们将会在 GGA 的 A 张量导数时作进一步说明。"
   ]
  },
  {
   "cell_type": "code",
   "execution_count": 12,
   "metadata": {},
   "outputs": [],
   "source": [
    "A_1_mo = 4 * eri1_mo - eri1_mo.swapaxes(-1, -3) - eri1_mo.swapaxes(-2, -3)"
   ]
  },
  {
   "cell_type": "markdown",
   "metadata": {},
   "source": [
    "在 pyxdh 中，具体执行 A 张量缩并的程序是 `Ax1_Core`，譬如对于 $A_{pq, rs}^\\mathbb{A} X_{rs}$ 而言，"
   ]
  },
  {
   "cell_type": "code",
   "execution_count": 13,
   "metadata": {},
   "outputs": [
    {
     "data": {
      "text/plain": [
       "True"
      ]
     },
     "execution_count": 13,
     "metadata": {},
     "output_type": "execute_result"
    }
   ],
   "source": [
    "X = np.random.randn(nmo, nmo)\n",
    "np.allclose(\n",
    "    np.einsum(\"Apqrs, rs -> Apq\", A_1_mo, X),\n",
    "    gradh.Ax1_Core(sa, sa, sa, sa)(X)\n",
    ")"
   ]
  },
  {
   "cell_type": "markdown",
   "metadata": {},
   "source": [
    "除此之外，我们还需要给出 Fock 矩阵二阶 Skeleton 导数。需要留意的是，`F_2_ao` $F_{\\mu \\nu}^\\mathbb{AB}$ 是由下式定义而来：\n",
    "\n",
    "$$\n",
    "\\frac{\\partial F_{\\mu \\nu}^\\mathbb{A}}{\\partial \\mathbb{B}} = F_{\\mu \\nu}^\\mathbb{AB} + \\frac{\\partial A_{\\mu \\nu, \\kappa \\lambda}}{\\partial \\mathbb{A}} C_{\\kappa m} U_{mk}^\\mathbb{B} C_{\\lambda k}\n",
    "$$\n",
    "\n",
    "其在 RHF 下，表达式则为 (Yamaguchi, p408, M.7)\n",
    "\n",
    "$$\n",
    "F_{\\mu \\nu}^\\mathbb{AB} = h_{\\mu \\nu}^\\mathbb{AB} + (\\mu \\nu | \\kappa \\lambda)^\\mathbb{AB} D_{\\kappa \\lambda} - \\frac{1}{2} (\\mu \\kappa | \\nu \\lambda)^\\mathbb{AB} D_{\\kappa \\lambda}\n",
    "$$"
   ]
  },
  {
   "cell_type": "code",
   "execution_count": 14,
   "metadata": {},
   "outputs": [],
   "source": [
    "F_2_ao = H_2_ao + ((eri2_ao - 0.5 * eri2_ao.swapaxes(-2, -3)) * D).sum(axis=(-1, -2))\n",
    "F_2_mo = C.T @ F_2_ao @ C"
   ]
  },
  {
   "cell_type": "markdown",
   "metadata": {},
   "source": [
    "我们仍然需要注意到，Fock 矩阵的 Skeleton 导数是由上式给出的。在 GGA 推导中，我们需要格外注意。"
   ]
  },
  {
   "cell_type": "markdown",
   "metadata": {},
   "source": [
    "有这些准备后，我们就能给出二阶 B 矩阵 `B_2` 了："
   ]
  },
  {
   "cell_type": "markdown",
   "metadata": {},
   "source": [
    "上式的第二行以后的所有项，我们定义为 `B_2` $B_{pq}^\\mathbb{AB}$。在此之前，我们还是现将 $\\mathrm{swap} (\\mathbb{A}, \\mathbb{B})$ 展开，避免以后的混合偏导数情况时重写代码：(Yamaguchi, p437, eq X.5)\n",
    "\n",
    "$$\n",
    "\\begin{align}\n",
    "B_{pq}^\\mathbb{AB}\n",
    "&= F_{pq}^\\mathbb{AB} - \\frac{1}{2} A_{pq, kl} \\xi_{kl}^\\mathbb{AB} - \\xi_{pq}^\\mathbb{AB} \\varepsilon_q \\\\\n",
    "&\\quad + F_{mp}^\\mathbb{A} U_{mq}^\\mathbb{B} + F_{mp}^\\mathbb{B} U_{mq}^\\mathbb{A} + F_{mq}^\\mathbb{A} U_{mp}^\\mathbb{B} + F_{mq}^\\mathbb{B} U_{mp}^\\mathbb{A} \\\\\n",
    "&\\quad + ( U_{mp}^\\mathbb{A} U_{mq}^\\mathbb{B} + U_{mp}^\\mathbb{B} U_{mq}^\\mathbb{A} ) \\varepsilon_m \\\\\n",
    "&\\quad + A_{pq, mr} U_{mk}^\\mathbb{A} U_{rk}^\\mathbb{B} \\\\\n",
    "&\\quad + A_{pm, rk} (U_{rk}^\\mathbb{A} U_{mq}^\\mathbb{B} + U_{rk}^\\mathbb{B} U_{mq}^\\mathbb{A}) \\\\\n",
    "&\\quad + A_{qm, rk} (U_{rk}^\\mathbb{A} U_{mp}^\\mathbb{B} + U_{rk}^\\mathbb{B} U_{mp}^\\mathbb{A}) \\\\\n",
    "&\\quad + A_{pq, mk}^\\mathbb{A} U_{mk}^\\mathbb{B} + A_{pq, mk}^\\mathbb{B} U_{mk}^\\mathbb{A}\n",
    "\\end{align}\n",
    "$$"
   ]
  },
  {
   "cell_type": "code",
   "execution_count": 15,
   "metadata": {},
   "outputs": [],
   "source": [
    "B_2 = (\n",
    "    # Line 1\n",
    "    + F_2_mo\n",
    "    - 0.5 * Ax0_Core(sa, sa, so, so)(Xi_2[:, :, so, so])\n",
    "    - Xi_2 * e\n",
    "    # Line 2\n",
    "    + np.einsum(\"Amp, Bmq -> ABpq\", F_1_mo, U_1_nr)\n",
    "    + np.einsum(\"Bmp, Amq -> ABpq\", F_1_mo, U_1_nr)\n",
    "    + np.einsum(\"Amq, Bmp -> ABpq\", F_1_mo, U_1_nr)\n",
    "    + np.einsum(\"Bmq, Amp -> ABpq\", F_1_mo, U_1_nr)\n",
    "    # Line 3\n",
    "    + np.einsum(\"Amp, Bmq, m -> ABpq\", U_1_nr, U_1_nr, e)\n",
    "    + np.einsum(\"Bmp, Amq, m -> ABpq\", U_1_nr, U_1_nr, e)\n",
    "    # Line 4\n",
    "    + Ax0_Core(sa, sa, sa, sa)(np.einsum(\"Amk, Brk -> ABmr\", U_1_nr[:, :, so], U_1_nr[:, :, so]))\n",
    "    # Line 5\n",
    "    + np.einsum(\"Apm, Bmq -> ABpq\", Ax0_Core(sa, sa, sa, so)(U_1_nr[:, :, so]), U_1_nr)\n",
    "    + np.einsum(\"Bpm, Amq -> ABpq\", Ax0_Core(sa, sa, sa, so)(U_1_nr[:, :, so]), U_1_nr)\n",
    "    # Line 6\n",
    "    + np.einsum(\"Aqm, Bmp -> ABpq\", Ax0_Core(sa, sa, sa, so)(U_1_nr[:, :, so]), U_1_nr)\n",
    "    + np.einsum(\"Bqm, Amp -> ABpq\", Ax0_Core(sa, sa, sa, so)(U_1_nr[:, :, so]), U_1_nr)\n",
    "    # Line 7\n",
    "    + np.einsum(\"Apqmk, Bmk -> ABpq\", A_1_mo[:, :, :, :, so], U_1_nr[:, :, so])\n",
    "    + np.einsum(\"Bpqmk, Amk -> ABpq\", A_1_mo[:, :, :, :, so], U_1_nr[:, :, so])\n",
    ")"
   ]
  },
  {
   "cell_type": "code",
   "execution_count": 16,
   "metadata": {},
   "outputs": [
    {
     "data": {
      "text/plain": [
       "True"
      ]
     },
     "execution_count": 16,
     "metadata": {},
     "output_type": "execute_result"
    }
   ],
   "source": [
    "np.allclose(B_2, hessh_nr.B_2)"
   ]
  },
  {
   "cell_type": "markdown",
   "metadata": {},
   "source": [
    "### CP-HF 方程解二阶 U 矩阵"
   ]
  },
  {
   "cell_type": "markdown",
   "metadata": {},
   "source": [
    "根据 $\\partial_\\mathbb{A} \\partial_\\mathbb{B} F_{ai}$ 的条件，我们能得到二阶 CP-HF 方程：\n",
    "\n",
    "$$\n",
    "- (\\varepsilon_i - \\varepsilon_a) U_{ai}^\\mathbb{AB} - A_{ai, bj} U_{bj}^\\mathbb{AB} = B_{ai}^\\mathbb{AB}\n",
    "$$\n",
    "\n",
    "该式的求解过程与 CP-HF 方程求解一阶 U 矩阵、或者通过 Z-Vector 方法求 PT2+ 密度矩阵的方法完全相同。`U_2_nr_vo` 就可以用下述代码获得："
   ]
  },
  {
   "cell_type": "code",
   "execution_count": 17,
   "metadata": {},
   "outputs": [],
   "source": [
    "U_2_vo_nr = cphf.solve(\n",
    "    Ax0_Core(sv, so, sv, so),\n",
    "    e,\n",
    "    gradh.scf_eng.mo_occ,\n",
    "    B_2[:, :, sv, so].reshape(-1, nvir, nocc),\n",
    "    max_cycle=100,\n",
    "    tol=1e-12,\n",
    ")[0].reshape(natm * 3, natm * 3, nvir, nocc)"
   ]
  },
  {
   "cell_type": "markdown",
   "metadata": {},
   "source": [
    "就像一阶 U 矩阵的计算方式一样，剩余的部分是占据-占据与非占-非占部分。除了对角元之外，其余的项都可以用下述表达式给出：\n",
    "\n",
    "$$\n",
    "U_{pq}^\\mathbb{AB} = - (B_{pq}^\\mathbb{AB} + A_{pq, bj} U_{bj}^\\mathbb{AB}) / (\\varepsilon_p - \\varepsilon_q), \\quad p \\neq q\n",
    "$$"
   ]
  },
  {
   "cell_type": "code",
   "execution_count": 18,
   "metadata": {},
   "outputs": [],
   "source": [
    "U_2_nr = - (B_2 + Ax0_Core(sa, sa, sv, so)(U_2_vo_nr)) / (e[:, None] - e[None, :])"
   ]
  },
  {
   "cell_type": "markdown",
   "metadata": {},
   "source": [
    "而对角元是通过 $\\xi_{pq}^\\mathbb{AB} + U_{pq}^\\mathbb{AB} + U_{qp}^\\mathbb{AB} = 0$ 给出：\n",
    "\n",
    "$$\n",
    "U_{pp}^\\mathbb{AB} = - \\frac{1}{2} \\xi_{pq}^\\mathbb{AB}\n",
    "$$"
   ]
  },
  {
   "cell_type": "code",
   "execution_count": 19,
   "metadata": {},
   "outputs": [],
   "source": [
    "for p in range(nmo):\n",
    "    U_2_nr[:, :, p, p] = - Xi_2[:, :, p, p] / 2"
   ]
  },
  {
   "cell_type": "markdown",
   "metadata": {},
   "source": [
    "在 pyxdh 中，在给定 `rotation` 选项为 False 时，可以获得相同的 $U_{pq}^\\mathbb{AB}$："
   ]
  },
  {
   "cell_type": "code",
   "execution_count": 20,
   "metadata": {},
   "outputs": [
    {
     "data": {
      "text/plain": [
       "True"
      ]
     },
     "execution_count": 20,
     "metadata": {},
     "output_type": "execute_result"
    }
   ],
   "source": [
    "np.allclose(U_2_nr, hessh_nr.U_2)"
   ]
  },
  {
   "cell_type": "markdown",
   "metadata": {},
   "source": [
    "我们也可以用数值方式给出的二阶 U 矩阵来验证我们的结果："
   ]
  },
  {
   "cell_type": "code",
   "execution_count": 21,
   "metadata": {
    "scrolled": true
   },
   "outputs": [
    {
     "data": {
      "application/javascript": [
       "/* Put everything inside the global mpl namespace */\n",
       "window.mpl = {};\n",
       "\n",
       "\n",
       "mpl.get_websocket_type = function() {\n",
       "    if (typeof(WebSocket) !== 'undefined') {\n",
       "        return WebSocket;\n",
       "    } else if (typeof(MozWebSocket) !== 'undefined') {\n",
       "        return MozWebSocket;\n",
       "    } else {\n",
       "        alert('Your browser does not have WebSocket support. ' +\n",
       "              'Please try Chrome, Safari or Firefox ≥ 6. ' +\n",
       "              'Firefox 4 and 5 are also supported but you ' +\n",
       "              'have to enable WebSockets in about:config.');\n",
       "    };\n",
       "}\n",
       "\n",
       "mpl.figure = function(figure_id, websocket, ondownload, parent_element) {\n",
       "    this.id = figure_id;\n",
       "\n",
       "    this.ws = websocket;\n",
       "\n",
       "    this.supports_binary = (this.ws.binaryType != undefined);\n",
       "\n",
       "    if (!this.supports_binary) {\n",
       "        var warnings = document.getElementById(\"mpl-warnings\");\n",
       "        if (warnings) {\n",
       "            warnings.style.display = 'block';\n",
       "            warnings.textContent = (\n",
       "                \"This browser does not support binary websocket messages. \" +\n",
       "                    \"Performance may be slow.\");\n",
       "        }\n",
       "    }\n",
       "\n",
       "    this.imageObj = new Image();\n",
       "\n",
       "    this.context = undefined;\n",
       "    this.message = undefined;\n",
       "    this.canvas = undefined;\n",
       "    this.rubberband_canvas = undefined;\n",
       "    this.rubberband_context = undefined;\n",
       "    this.format_dropdown = undefined;\n",
       "\n",
       "    this.image_mode = 'full';\n",
       "\n",
       "    this.root = $('<div/>');\n",
       "    this._root_extra_style(this.root)\n",
       "    this.root.attr('style', 'display: inline-block');\n",
       "\n",
       "    $(parent_element).append(this.root);\n",
       "\n",
       "    this._init_header(this);\n",
       "    this._init_canvas(this);\n",
       "    this._init_toolbar(this);\n",
       "\n",
       "    var fig = this;\n",
       "\n",
       "    this.waiting = false;\n",
       "\n",
       "    this.ws.onopen =  function () {\n",
       "            fig.send_message(\"supports_binary\", {value: fig.supports_binary});\n",
       "            fig.send_message(\"send_image_mode\", {});\n",
       "            if (mpl.ratio != 1) {\n",
       "                fig.send_message(\"set_dpi_ratio\", {'dpi_ratio': mpl.ratio});\n",
       "            }\n",
       "            fig.send_message(\"refresh\", {});\n",
       "        }\n",
       "\n",
       "    this.imageObj.onload = function() {\n",
       "            if (fig.image_mode == 'full') {\n",
       "                // Full images could contain transparency (where diff images\n",
       "                // almost always do), so we need to clear the canvas so that\n",
       "                // there is no ghosting.\n",
       "                fig.context.clearRect(0, 0, fig.canvas.width, fig.canvas.height);\n",
       "            }\n",
       "            fig.context.drawImage(fig.imageObj, 0, 0);\n",
       "        };\n",
       "\n",
       "    this.imageObj.onunload = function() {\n",
       "        fig.ws.close();\n",
       "    }\n",
       "\n",
       "    this.ws.onmessage = this._make_on_message_function(this);\n",
       "\n",
       "    this.ondownload = ondownload;\n",
       "}\n",
       "\n",
       "mpl.figure.prototype._init_header = function() {\n",
       "    var titlebar = $(\n",
       "        '<div class=\"ui-dialog-titlebar ui-widget-header ui-corner-all ' +\n",
       "        'ui-helper-clearfix\"/>');\n",
       "    var titletext = $(\n",
       "        '<div class=\"ui-dialog-title\" style=\"width: 100%; ' +\n",
       "        'text-align: center; padding: 3px;\"/>');\n",
       "    titlebar.append(titletext)\n",
       "    this.root.append(titlebar);\n",
       "    this.header = titletext[0];\n",
       "}\n",
       "\n",
       "\n",
       "\n",
       "mpl.figure.prototype._canvas_extra_style = function(canvas_div) {\n",
       "\n",
       "}\n",
       "\n",
       "\n",
       "mpl.figure.prototype._root_extra_style = function(canvas_div) {\n",
       "\n",
       "}\n",
       "\n",
       "mpl.figure.prototype._init_canvas = function() {\n",
       "    var fig = this;\n",
       "\n",
       "    var canvas_div = $('<div/>');\n",
       "\n",
       "    canvas_div.attr('style', 'position: relative; clear: both; outline: 0');\n",
       "\n",
       "    function canvas_keyboard_event(event) {\n",
       "        return fig.key_event(event, event['data']);\n",
       "    }\n",
       "\n",
       "    canvas_div.keydown('key_press', canvas_keyboard_event);\n",
       "    canvas_div.keyup('key_release', canvas_keyboard_event);\n",
       "    this.canvas_div = canvas_div\n",
       "    this._canvas_extra_style(canvas_div)\n",
       "    this.root.append(canvas_div);\n",
       "\n",
       "    var canvas = $('<canvas/>');\n",
       "    canvas.addClass('mpl-canvas');\n",
       "    canvas.attr('style', \"left: 0; top: 0; z-index: 0; outline: 0\")\n",
       "\n",
       "    this.canvas = canvas[0];\n",
       "    this.context = canvas[0].getContext(\"2d\");\n",
       "\n",
       "    var backingStore = this.context.backingStorePixelRatio ||\n",
       "\tthis.context.webkitBackingStorePixelRatio ||\n",
       "\tthis.context.mozBackingStorePixelRatio ||\n",
       "\tthis.context.msBackingStorePixelRatio ||\n",
       "\tthis.context.oBackingStorePixelRatio ||\n",
       "\tthis.context.backingStorePixelRatio || 1;\n",
       "\n",
       "    mpl.ratio = (window.devicePixelRatio || 1) / backingStore;\n",
       "\n",
       "    var rubberband = $('<canvas/>');\n",
       "    rubberband.attr('style', \"position: absolute; left: 0; top: 0; z-index: 1;\")\n",
       "\n",
       "    var pass_mouse_events = true;\n",
       "\n",
       "    canvas_div.resizable({\n",
       "        start: function(event, ui) {\n",
       "            pass_mouse_events = false;\n",
       "        },\n",
       "        resize: function(event, ui) {\n",
       "            fig.request_resize(ui.size.width, ui.size.height);\n",
       "        },\n",
       "        stop: function(event, ui) {\n",
       "            pass_mouse_events = true;\n",
       "            fig.request_resize(ui.size.width, ui.size.height);\n",
       "        },\n",
       "    });\n",
       "\n",
       "    function mouse_event_fn(event) {\n",
       "        if (pass_mouse_events)\n",
       "            return fig.mouse_event(event, event['data']);\n",
       "    }\n",
       "\n",
       "    rubberband.mousedown('button_press', mouse_event_fn);\n",
       "    rubberband.mouseup('button_release', mouse_event_fn);\n",
       "    // Throttle sequential mouse events to 1 every 20ms.\n",
       "    rubberband.mousemove('motion_notify', mouse_event_fn);\n",
       "\n",
       "    rubberband.mouseenter('figure_enter', mouse_event_fn);\n",
       "    rubberband.mouseleave('figure_leave', mouse_event_fn);\n",
       "\n",
       "    canvas_div.on(\"wheel\", function (event) {\n",
       "        event = event.originalEvent;\n",
       "        event['data'] = 'scroll'\n",
       "        if (event.deltaY < 0) {\n",
       "            event.step = 1;\n",
       "        } else {\n",
       "            event.step = -1;\n",
       "        }\n",
       "        mouse_event_fn(event);\n",
       "    });\n",
       "\n",
       "    canvas_div.append(canvas);\n",
       "    canvas_div.append(rubberband);\n",
       "\n",
       "    this.rubberband = rubberband;\n",
       "    this.rubberband_canvas = rubberband[0];\n",
       "    this.rubberband_context = rubberband[0].getContext(\"2d\");\n",
       "    this.rubberband_context.strokeStyle = \"#000000\";\n",
       "\n",
       "    this._resize_canvas = function(width, height) {\n",
       "        // Keep the size of the canvas, canvas container, and rubber band\n",
       "        // canvas in synch.\n",
       "        canvas_div.css('width', width)\n",
       "        canvas_div.css('height', height)\n",
       "\n",
       "        canvas.attr('width', width * mpl.ratio);\n",
       "        canvas.attr('height', height * mpl.ratio);\n",
       "        canvas.attr('style', 'width: ' + width + 'px; height: ' + height + 'px;');\n",
       "\n",
       "        rubberband.attr('width', width);\n",
       "        rubberband.attr('height', height);\n",
       "    }\n",
       "\n",
       "    // Set the figure to an initial 600x600px, this will subsequently be updated\n",
       "    // upon first draw.\n",
       "    this._resize_canvas(600, 600);\n",
       "\n",
       "    // Disable right mouse context menu.\n",
       "    $(this.rubberband_canvas).bind(\"contextmenu\",function(e){\n",
       "        return false;\n",
       "    });\n",
       "\n",
       "    function set_focus () {\n",
       "        canvas.focus();\n",
       "        canvas_div.focus();\n",
       "    }\n",
       "\n",
       "    window.setTimeout(set_focus, 100);\n",
       "}\n",
       "\n",
       "mpl.figure.prototype._init_toolbar = function() {\n",
       "    var fig = this;\n",
       "\n",
       "    var nav_element = $('<div/>');\n",
       "    nav_element.attr('style', 'width: 100%');\n",
       "    this.root.append(nav_element);\n",
       "\n",
       "    // Define a callback function for later on.\n",
       "    function toolbar_event(event) {\n",
       "        return fig.toolbar_button_onclick(event['data']);\n",
       "    }\n",
       "    function toolbar_mouse_event(event) {\n",
       "        return fig.toolbar_button_onmouseover(event['data']);\n",
       "    }\n",
       "\n",
       "    for(var toolbar_ind in mpl.toolbar_items) {\n",
       "        var name = mpl.toolbar_items[toolbar_ind][0];\n",
       "        var tooltip = mpl.toolbar_items[toolbar_ind][1];\n",
       "        var image = mpl.toolbar_items[toolbar_ind][2];\n",
       "        var method_name = mpl.toolbar_items[toolbar_ind][3];\n",
       "\n",
       "        if (!name) {\n",
       "            // put a spacer in here.\n",
       "            continue;\n",
       "        }\n",
       "        var button = $('<button/>');\n",
       "        button.addClass('ui-button ui-widget ui-state-default ui-corner-all ' +\n",
       "                        'ui-button-icon-only');\n",
       "        button.attr('role', 'button');\n",
       "        button.attr('aria-disabled', 'false');\n",
       "        button.click(method_name, toolbar_event);\n",
       "        button.mouseover(tooltip, toolbar_mouse_event);\n",
       "\n",
       "        var icon_img = $('<span/>');\n",
       "        icon_img.addClass('ui-button-icon-primary ui-icon');\n",
       "        icon_img.addClass(image);\n",
       "        icon_img.addClass('ui-corner-all');\n",
       "\n",
       "        var tooltip_span = $('<span/>');\n",
       "        tooltip_span.addClass('ui-button-text');\n",
       "        tooltip_span.html(tooltip);\n",
       "\n",
       "        button.append(icon_img);\n",
       "        button.append(tooltip_span);\n",
       "\n",
       "        nav_element.append(button);\n",
       "    }\n",
       "\n",
       "    var fmt_picker_span = $('<span/>');\n",
       "\n",
       "    var fmt_picker = $('<select/>');\n",
       "    fmt_picker.addClass('mpl-toolbar-option ui-widget ui-widget-content');\n",
       "    fmt_picker_span.append(fmt_picker);\n",
       "    nav_element.append(fmt_picker_span);\n",
       "    this.format_dropdown = fmt_picker[0];\n",
       "\n",
       "    for (var ind in mpl.extensions) {\n",
       "        var fmt = mpl.extensions[ind];\n",
       "        var option = $(\n",
       "            '<option/>', {selected: fmt === mpl.default_extension}).html(fmt);\n",
       "        fmt_picker.append(option);\n",
       "    }\n",
       "\n",
       "    // Add hover states to the ui-buttons\n",
       "    $( \".ui-button\" ).hover(\n",
       "        function() { $(this).addClass(\"ui-state-hover\");},\n",
       "        function() { $(this).removeClass(\"ui-state-hover\");}\n",
       "    );\n",
       "\n",
       "    var status_bar = $('<span class=\"mpl-message\"/>');\n",
       "    nav_element.append(status_bar);\n",
       "    this.message = status_bar[0];\n",
       "}\n",
       "\n",
       "mpl.figure.prototype.request_resize = function(x_pixels, y_pixels) {\n",
       "    // Request matplotlib to resize the figure. Matplotlib will then trigger a resize in the client,\n",
       "    // which will in turn request a refresh of the image.\n",
       "    this.send_message('resize', {'width': x_pixels, 'height': y_pixels});\n",
       "}\n",
       "\n",
       "mpl.figure.prototype.send_message = function(type, properties) {\n",
       "    properties['type'] = type;\n",
       "    properties['figure_id'] = this.id;\n",
       "    this.ws.send(JSON.stringify(properties));\n",
       "}\n",
       "\n",
       "mpl.figure.prototype.send_draw_message = function() {\n",
       "    if (!this.waiting) {\n",
       "        this.waiting = true;\n",
       "        this.ws.send(JSON.stringify({type: \"draw\", figure_id: this.id}));\n",
       "    }\n",
       "}\n",
       "\n",
       "\n",
       "mpl.figure.prototype.handle_save = function(fig, msg) {\n",
       "    var format_dropdown = fig.format_dropdown;\n",
       "    var format = format_dropdown.options[format_dropdown.selectedIndex].value;\n",
       "    fig.ondownload(fig, format);\n",
       "}\n",
       "\n",
       "\n",
       "mpl.figure.prototype.handle_resize = function(fig, msg) {\n",
       "    var size = msg['size'];\n",
       "    if (size[0] != fig.canvas.width || size[1] != fig.canvas.height) {\n",
       "        fig._resize_canvas(size[0], size[1]);\n",
       "        fig.send_message(\"refresh\", {});\n",
       "    };\n",
       "}\n",
       "\n",
       "mpl.figure.prototype.handle_rubberband = function(fig, msg) {\n",
       "    var x0 = msg['x0'] / mpl.ratio;\n",
       "    var y0 = (fig.canvas.height - msg['y0']) / mpl.ratio;\n",
       "    var x1 = msg['x1'] / mpl.ratio;\n",
       "    var y1 = (fig.canvas.height - msg['y1']) / mpl.ratio;\n",
       "    x0 = Math.floor(x0) + 0.5;\n",
       "    y0 = Math.floor(y0) + 0.5;\n",
       "    x1 = Math.floor(x1) + 0.5;\n",
       "    y1 = Math.floor(y1) + 0.5;\n",
       "    var min_x = Math.min(x0, x1);\n",
       "    var min_y = Math.min(y0, y1);\n",
       "    var width = Math.abs(x1 - x0);\n",
       "    var height = Math.abs(y1 - y0);\n",
       "\n",
       "    fig.rubberband_context.clearRect(\n",
       "        0, 0, fig.canvas.width / mpl.ratio, fig.canvas.height / mpl.ratio);\n",
       "\n",
       "    fig.rubberband_context.strokeRect(min_x, min_y, width, height);\n",
       "}\n",
       "\n",
       "mpl.figure.prototype.handle_figure_label = function(fig, msg) {\n",
       "    // Updates the figure title.\n",
       "    fig.header.textContent = msg['label'];\n",
       "}\n",
       "\n",
       "mpl.figure.prototype.handle_cursor = function(fig, msg) {\n",
       "    var cursor = msg['cursor'];\n",
       "    switch(cursor)\n",
       "    {\n",
       "    case 0:\n",
       "        cursor = 'pointer';\n",
       "        break;\n",
       "    case 1:\n",
       "        cursor = 'default';\n",
       "        break;\n",
       "    case 2:\n",
       "        cursor = 'crosshair';\n",
       "        break;\n",
       "    case 3:\n",
       "        cursor = 'move';\n",
       "        break;\n",
       "    }\n",
       "    fig.rubberband_canvas.style.cursor = cursor;\n",
       "}\n",
       "\n",
       "mpl.figure.prototype.handle_message = function(fig, msg) {\n",
       "    fig.message.textContent = msg['message'];\n",
       "}\n",
       "\n",
       "mpl.figure.prototype.handle_draw = function(fig, msg) {\n",
       "    // Request the server to send over a new figure.\n",
       "    fig.send_draw_message();\n",
       "}\n",
       "\n",
       "mpl.figure.prototype.handle_image_mode = function(fig, msg) {\n",
       "    fig.image_mode = msg['mode'];\n",
       "}\n",
       "\n",
       "mpl.figure.prototype.updated_canvas_event = function() {\n",
       "    // Called whenever the canvas gets updated.\n",
       "    this.send_message(\"ack\", {});\n",
       "}\n",
       "\n",
       "// A function to construct a web socket function for onmessage handling.\n",
       "// Called in the figure constructor.\n",
       "mpl.figure.prototype._make_on_message_function = function(fig) {\n",
       "    return function socket_on_message(evt) {\n",
       "        if (evt.data instanceof Blob) {\n",
       "            /* FIXME: We get \"Resource interpreted as Image but\n",
       "             * transferred with MIME type text/plain:\" errors on\n",
       "             * Chrome.  But how to set the MIME type?  It doesn't seem\n",
       "             * to be part of the websocket stream */\n",
       "            evt.data.type = \"image/png\";\n",
       "\n",
       "            /* Free the memory for the previous frames */\n",
       "            if (fig.imageObj.src) {\n",
       "                (window.URL || window.webkitURL).revokeObjectURL(\n",
       "                    fig.imageObj.src);\n",
       "            }\n",
       "\n",
       "            fig.imageObj.src = (window.URL || window.webkitURL).createObjectURL(\n",
       "                evt.data);\n",
       "            fig.updated_canvas_event();\n",
       "            fig.waiting = false;\n",
       "            return;\n",
       "        }\n",
       "        else if (typeof evt.data === 'string' && evt.data.slice(0, 21) == \"data:image/png;base64\") {\n",
       "            fig.imageObj.src = evt.data;\n",
       "            fig.updated_canvas_event();\n",
       "            fig.waiting = false;\n",
       "            return;\n",
       "        }\n",
       "\n",
       "        var msg = JSON.parse(evt.data);\n",
       "        var msg_type = msg['type'];\n",
       "\n",
       "        // Call the  \"handle_{type}\" callback, which takes\n",
       "        // the figure and JSON message as its only arguments.\n",
       "        try {\n",
       "            var callback = fig[\"handle_\" + msg_type];\n",
       "        } catch (e) {\n",
       "            console.log(\"No handler for the '\" + msg_type + \"' message type: \", msg);\n",
       "            return;\n",
       "        }\n",
       "\n",
       "        if (callback) {\n",
       "            try {\n",
       "                // console.log(\"Handling '\" + msg_type + \"' message: \", msg);\n",
       "                callback(fig, msg);\n",
       "            } catch (e) {\n",
       "                console.log(\"Exception inside the 'handler_\" + msg_type + \"' callback:\", e, e.stack, msg);\n",
       "            }\n",
       "        }\n",
       "    };\n",
       "}\n",
       "\n",
       "// from http://stackoverflow.com/questions/1114465/getting-mouse-location-in-canvas\n",
       "mpl.findpos = function(e) {\n",
       "    //this section is from http://www.quirksmode.org/js/events_properties.html\n",
       "    var targ;\n",
       "    if (!e)\n",
       "        e = window.event;\n",
       "    if (e.target)\n",
       "        targ = e.target;\n",
       "    else if (e.srcElement)\n",
       "        targ = e.srcElement;\n",
       "    if (targ.nodeType == 3) // defeat Safari bug\n",
       "        targ = targ.parentNode;\n",
       "\n",
       "    // jQuery normalizes the pageX and pageY\n",
       "    // pageX,Y are the mouse positions relative to the document\n",
       "    // offset() returns the position of the element relative to the document\n",
       "    var x = e.pageX - $(targ).offset().left;\n",
       "    var y = e.pageY - $(targ).offset().top;\n",
       "\n",
       "    return {\"x\": x, \"y\": y};\n",
       "};\n",
       "\n",
       "/*\n",
       " * return a copy of an object with only non-object keys\n",
       " * we need this to avoid circular references\n",
       " * http://stackoverflow.com/a/24161582/3208463\n",
       " */\n",
       "function simpleKeys (original) {\n",
       "  return Object.keys(original).reduce(function (obj, key) {\n",
       "    if (typeof original[key] !== 'object')\n",
       "        obj[key] = original[key]\n",
       "    return obj;\n",
       "  }, {});\n",
       "}\n",
       "\n",
       "mpl.figure.prototype.mouse_event = function(event, name) {\n",
       "    var canvas_pos = mpl.findpos(event)\n",
       "\n",
       "    if (name === 'button_press')\n",
       "    {\n",
       "        this.canvas.focus();\n",
       "        this.canvas_div.focus();\n",
       "    }\n",
       "\n",
       "    var x = canvas_pos.x * mpl.ratio;\n",
       "    var y = canvas_pos.y * mpl.ratio;\n",
       "\n",
       "    this.send_message(name, {x: x, y: y, button: event.button,\n",
       "                             step: event.step,\n",
       "                             guiEvent: simpleKeys(event)});\n",
       "\n",
       "    /* This prevents the web browser from automatically changing to\n",
       "     * the text insertion cursor when the button is pressed.  We want\n",
       "     * to control all of the cursor setting manually through the\n",
       "     * 'cursor' event from matplotlib */\n",
       "    event.preventDefault();\n",
       "    return false;\n",
       "}\n",
       "\n",
       "mpl.figure.prototype._key_event_extra = function(event, name) {\n",
       "    // Handle any extra behaviour associated with a key event\n",
       "}\n",
       "\n",
       "mpl.figure.prototype.key_event = function(event, name) {\n",
       "\n",
       "    // Prevent repeat events\n",
       "    if (name == 'key_press')\n",
       "    {\n",
       "        if (event.which === this._key)\n",
       "            return;\n",
       "        else\n",
       "            this._key = event.which;\n",
       "    }\n",
       "    if (name == 'key_release')\n",
       "        this._key = null;\n",
       "\n",
       "    var value = '';\n",
       "    if (event.ctrlKey && event.which != 17)\n",
       "        value += \"ctrl+\";\n",
       "    if (event.altKey && event.which != 18)\n",
       "        value += \"alt+\";\n",
       "    if (event.shiftKey && event.which != 16)\n",
       "        value += \"shift+\";\n",
       "\n",
       "    value += 'k';\n",
       "    value += event.which.toString();\n",
       "\n",
       "    this._key_event_extra(event, name);\n",
       "\n",
       "    this.send_message(name, {key: value,\n",
       "                             guiEvent: simpleKeys(event)});\n",
       "    return false;\n",
       "}\n",
       "\n",
       "mpl.figure.prototype.toolbar_button_onclick = function(name) {\n",
       "    if (name == 'download') {\n",
       "        this.handle_save(this, null);\n",
       "    } else {\n",
       "        this.send_message(\"toolbar_button\", {name: name});\n",
       "    }\n",
       "};\n",
       "\n",
       "mpl.figure.prototype.toolbar_button_onmouseover = function(tooltip) {\n",
       "    this.message.textContent = tooltip;\n",
       "};\n",
       "mpl.toolbar_items = [[\"Home\", \"Reset original view\", \"fa fa-home icon-home\", \"home\"], [\"Back\", \"Back to previous view\", \"fa fa-arrow-left icon-arrow-left\", \"back\"], [\"Forward\", \"Forward to next view\", \"fa fa-arrow-right icon-arrow-right\", \"forward\"], [\"\", \"\", \"\", \"\"], [\"Pan\", \"Pan axes with left mouse, zoom with right\", \"fa fa-arrows icon-move\", \"pan\"], [\"Zoom\", \"Zoom to rectangle\", \"fa fa-square-o icon-check-empty\", \"zoom\"], [\"\", \"\", \"\", \"\"], [\"Download\", \"Download plot\", \"fa fa-floppy-o icon-save\", \"download\"]];\n",
       "\n",
       "mpl.extensions = [\"eps\", \"pdf\", \"png\", \"ps\", \"raw\", \"svg\"];\n",
       "\n",
       "mpl.default_extension = \"png\";var comm_websocket_adapter = function(comm) {\n",
       "    // Create a \"websocket\"-like object which calls the given IPython comm\n",
       "    // object with the appropriate methods. Currently this is a non binary\n",
       "    // socket, so there is still some room for performance tuning.\n",
       "    var ws = {};\n",
       "\n",
       "    ws.close = function() {\n",
       "        comm.close()\n",
       "    };\n",
       "    ws.send = function(m) {\n",
       "        //console.log('sending', m);\n",
       "        comm.send(m);\n",
       "    };\n",
       "    // Register the callback with on_msg.\n",
       "    comm.on_msg(function(msg) {\n",
       "        //console.log('receiving', msg['content']['data'], msg);\n",
       "        // Pass the mpl event to the overridden (by mpl) onmessage function.\n",
       "        ws.onmessage(msg['content']['data'])\n",
       "    });\n",
       "    return ws;\n",
       "}\n",
       "\n",
       "mpl.mpl_figure_comm = function(comm, msg) {\n",
       "    // This is the function which gets called when the mpl process\n",
       "    // starts-up an IPython Comm through the \"matplotlib\" channel.\n",
       "\n",
       "    var id = msg.content.data.id;\n",
       "    // Get hold of the div created by the display call when the Comm\n",
       "    // socket was opened in Python.\n",
       "    var element = $(\"#\" + id);\n",
       "    var ws_proxy = comm_websocket_adapter(comm)\n",
       "\n",
       "    function ondownload(figure, format) {\n",
       "        window.open(figure.imageObj.src);\n",
       "    }\n",
       "\n",
       "    var fig = new mpl.figure(id, ws_proxy,\n",
       "                           ondownload,\n",
       "                           element.get(0));\n",
       "\n",
       "    // Call onopen now - mpl needs it, as it is assuming we've passed it a real\n",
       "    // web socket which is closed, not our websocket->open comm proxy.\n",
       "    ws_proxy.onopen();\n",
       "\n",
       "    fig.parent_element = element.get(0);\n",
       "    fig.cell_info = mpl.find_output_cell(\"<div id='\" + id + \"'></div>\");\n",
       "    if (!fig.cell_info) {\n",
       "        console.error(\"Failed to find cell for figure\", id, fig);\n",
       "        return;\n",
       "    }\n",
       "\n",
       "    var output_index = fig.cell_info[2]\n",
       "    var cell = fig.cell_info[0];\n",
       "\n",
       "};\n",
       "\n",
       "mpl.figure.prototype.handle_close = function(fig, msg) {\n",
       "    var width = fig.canvas.width/mpl.ratio\n",
       "    fig.root.unbind('remove')\n",
       "\n",
       "    // Update the output cell to use the data from the current canvas.\n",
       "    fig.push_to_output();\n",
       "    var dataURL = fig.canvas.toDataURL();\n",
       "    // Re-enable the keyboard manager in IPython - without this line, in FF,\n",
       "    // the notebook keyboard shortcuts fail.\n",
       "    IPython.keyboard_manager.enable()\n",
       "    $(fig.parent_element).html('<img src=\"' + dataURL + '\" width=\"' + width + '\">');\n",
       "    fig.close_ws(fig, msg);\n",
       "}\n",
       "\n",
       "mpl.figure.prototype.close_ws = function(fig, msg){\n",
       "    fig.send_message('closing', msg);\n",
       "    // fig.ws.close()\n",
       "}\n",
       "\n",
       "mpl.figure.prototype.push_to_output = function(remove_interactive) {\n",
       "    // Turn the data on the canvas into data in the output cell.\n",
       "    var width = this.canvas.width/mpl.ratio\n",
       "    var dataURL = this.canvas.toDataURL();\n",
       "    this.cell_info[1]['text/html'] = '<img src=\"' + dataURL + '\" width=\"' + width + '\">';\n",
       "}\n",
       "\n",
       "mpl.figure.prototype.updated_canvas_event = function() {\n",
       "    // Tell IPython that the notebook contents must change.\n",
       "    IPython.notebook.set_dirty(true);\n",
       "    this.send_message(\"ack\", {});\n",
       "    var fig = this;\n",
       "    // Wait a second, then push the new image to the DOM so\n",
       "    // that it is saved nicely (might be nice to debounce this).\n",
       "    setTimeout(function () { fig.push_to_output() }, 1000);\n",
       "}\n",
       "\n",
       "mpl.figure.prototype._init_toolbar = function() {\n",
       "    var fig = this;\n",
       "\n",
       "    var nav_element = $('<div/>');\n",
       "    nav_element.attr('style', 'width: 100%');\n",
       "    this.root.append(nav_element);\n",
       "\n",
       "    // Define a callback function for later on.\n",
       "    function toolbar_event(event) {\n",
       "        return fig.toolbar_button_onclick(event['data']);\n",
       "    }\n",
       "    function toolbar_mouse_event(event) {\n",
       "        return fig.toolbar_button_onmouseover(event['data']);\n",
       "    }\n",
       "\n",
       "    for(var toolbar_ind in mpl.toolbar_items){\n",
       "        var name = mpl.toolbar_items[toolbar_ind][0];\n",
       "        var tooltip = mpl.toolbar_items[toolbar_ind][1];\n",
       "        var image = mpl.toolbar_items[toolbar_ind][2];\n",
       "        var method_name = mpl.toolbar_items[toolbar_ind][3];\n",
       "\n",
       "        if (!name) { continue; };\n",
       "\n",
       "        var button = $('<button class=\"btn btn-default\" href=\"#\" title=\"' + name + '\"><i class=\"fa ' + image + ' fa-lg\"></i></button>');\n",
       "        button.click(method_name, toolbar_event);\n",
       "        button.mouseover(tooltip, toolbar_mouse_event);\n",
       "        nav_element.append(button);\n",
       "    }\n",
       "\n",
       "    // Add the status bar.\n",
       "    var status_bar = $('<span class=\"mpl-message\" style=\"text-align:right; float: right;\"/>');\n",
       "    nav_element.append(status_bar);\n",
       "    this.message = status_bar[0];\n",
       "\n",
       "    // Add the close button to the window.\n",
       "    var buttongrp = $('<div class=\"btn-group inline pull-right\"></div>');\n",
       "    var button = $('<button class=\"btn btn-mini btn-primary\" href=\"#\" title=\"Stop Interaction\"><i class=\"fa fa-power-off icon-remove icon-large\"></i></button>');\n",
       "    button.click(function (evt) { fig.handle_close(fig, {}); } );\n",
       "    button.mouseover('Stop Interaction', toolbar_mouse_event);\n",
       "    buttongrp.append(button);\n",
       "    var titlebar = this.root.find($('.ui-dialog-titlebar'));\n",
       "    titlebar.prepend(buttongrp);\n",
       "}\n",
       "\n",
       "mpl.figure.prototype._root_extra_style = function(el){\n",
       "    var fig = this\n",
       "    el.on(\"remove\", function(){\n",
       "\tfig.close_ws(fig, {});\n",
       "    });\n",
       "}\n",
       "\n",
       "mpl.figure.prototype._canvas_extra_style = function(el){\n",
       "    // this is important to make the div 'focusable\n",
       "    el.attr('tabindex', 0)\n",
       "    // reach out to IPython and tell the keyboard manager to turn it's self\n",
       "    // off when our div gets focus\n",
       "\n",
       "    // location in version 3\n",
       "    if (IPython.notebook.keyboard_manager) {\n",
       "        IPython.notebook.keyboard_manager.register_events(el);\n",
       "    }\n",
       "    else {\n",
       "        // location in version 2\n",
       "        IPython.keyboard_manager.register_events(el);\n",
       "    }\n",
       "\n",
       "}\n",
       "\n",
       "mpl.figure.prototype._key_event_extra = function(event, name) {\n",
       "    var manager = IPython.notebook.keyboard_manager;\n",
       "    if (!manager)\n",
       "        manager = IPython.keyboard_manager;\n",
       "\n",
       "    // Check for shift+enter\n",
       "    if (event.shiftKey && event.which == 13) {\n",
       "        this.canvas_div.blur();\n",
       "        // select the cell after this one\n",
       "        var index = IPython.notebook.find_cell_index(this.cell_info[0]);\n",
       "        IPython.notebook.select(index + 1);\n",
       "    }\n",
       "}\n",
       "\n",
       "mpl.figure.prototype.handle_save = function(fig, msg) {\n",
       "    fig.ondownload(fig, null);\n",
       "}\n",
       "\n",
       "\n",
       "mpl.find_output_cell = function(html_output) {\n",
       "    // Return the cell and output element which can be found *uniquely* in the notebook.\n",
       "    // Note - this is a bit hacky, but it is done because the \"notebook_saving.Notebook\"\n",
       "    // IPython event is triggered only after the cells have been serialised, which for\n",
       "    // our purposes (turning an active figure into a static one), is too late.\n",
       "    var cells = IPython.notebook.get_cells();\n",
       "    var ncells = cells.length;\n",
       "    for (var i=0; i<ncells; i++) {\n",
       "        var cell = cells[i];\n",
       "        if (cell.cell_type === 'code'){\n",
       "            for (var j=0; j<cell.output_area.outputs.length; j++) {\n",
       "                var data = cell.output_area.outputs[j];\n",
       "                if (data.data) {\n",
       "                    // IPython >= 3 moved mimebundle to data attribute of output\n",
       "                    data = data.data;\n",
       "                }\n",
       "                if (data['text/html'] == html_output) {\n",
       "                    return [cell, data, j];\n",
       "                }\n",
       "            }\n",
       "        }\n",
       "    }\n",
       "}\n",
       "\n",
       "// Register the function which deals with the matplotlib target/channel.\n",
       "// The kernel may be null if the page has been refreshed.\n",
       "if (IPython.notebook.kernel != null) {\n",
       "    IPython.notebook.kernel.comm_manager.register_target('matplotlib', mpl.mpl_figure_comm);\n",
       "}\n"
      ],
      "text/plain": [
       "<IPython.core.display.Javascript object>"
      ]
     },
     "metadata": {},
     "output_type": "display_data"
    },
    {
     "data": {
      "text/html": [
       "<img src=\"data:image/png;base64,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\" width=\"240\">"
      ],
      "text/plain": [
       "<IPython.core.display.HTML object>"
      ]
     },
     "metadata": {},
     "output_type": "display_data"
    }
   ],
   "source": [
    "plot_diff(U_2_nr, n_U_2)"
   ]
  },
  {
   "cell_type": "markdown",
   "metadata": {},
   "source": [
    "## 参考任务解答"
   ]
  },
  {
   "cell_type": "markdown",
   "metadata": {},
   "source": [
    "### 任务 (1)"
   ]
  },
  {
   "cell_type": "code",
   "execution_count": 22,
   "metadata": {},
   "outputs": [
    {
     "data": {
      "text/plain": [
       "False"
      ]
     },
     "execution_count": 22,
     "metadata": {},
     "output_type": "execute_result"
    }
   ],
   "source": [
    "np.allclose(Xi_2, hessh.Xi_2)"
   ]
  }
 ],
 "metadata": {
  "kernelspec": {
   "display_name": "Python 3",
   "language": "python",
   "name": "python3"
  },
  "language_info": {
   "codemirror_mode": {
    "name": "ipython",
    "version": 3
   },
   "file_extension": ".py",
   "mimetype": "text/x-python",
   "name": "python",
   "nbconvert_exporter": "python",
   "pygments_lexer": "ipython3",
   "version": "3.8.1"
  },
  "toc": {
   "base_numbering": 1,
   "nav_menu": {},
   "number_sections": true,
   "sideBar": true,
   "skip_h1_title": false,
   "title_cell": "Table of Contents",
   "title_sidebar": "Contents",
   "toc_cell": false,
   "toc_position": {},
   "toc_section_display": true,
   "toc_window_display": false
  }
 },
 "nbformat": 4,
 "nbformat_minor": 4
}
