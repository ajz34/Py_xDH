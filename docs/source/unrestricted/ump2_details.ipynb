{
 "cells": [
  {
   "cell_type": "markdown",
   "metadata": {},
   "source": [
    "# Unrestricted MP2 一阶梯度与中间量"
   ]
  },
  {
   "cell_type": "markdown",
   "metadata": {},
   "source": [
    "## 准备工作"
   ]
  },
  {
   "cell_type": "code",
   "execution_count": 1,
   "metadata": {},
   "outputs": [],
   "source": [
    "%load_ext autoreload\n",
    "%autoreload 2\n",
    "%matplotlib notebook\n",
    "\n",
    "from matplotlib import pyplot as plt\n",
    "import numpy as np\n",
    "from pyscf import gto, scf, grad, mp\n",
    "from pyscf.scf import ucphf\n",
    "from functools import partial\n",
    "from pyxdh.DerivOnce import GradUMP2\n",
    "from pyxdh.Utilities import NucCoordDerivGenerator, NumericDiff\n",
    "import warnings\n",
    "\n",
    "np.einsum = partial(np.einsum, optimize=[\"greedy\", 1024 ** 3 * 2 / 8])\n",
    "np.allclose = partial(np.allclose, atol=1e-6, rtol=1e-4)\n",
    "np.set_printoptions(5, linewidth=180, suppress=True)\n",
    "warnings.filterwarnings(\"ignore\")"
   ]
  },
  {
   "cell_type": "code",
   "execution_count": 2,
   "metadata": {},
   "outputs": [
    {
     "data": {
      "text/plain": [
       "<pyscf.gto.mole.Mole at 0x7fdec1f09160>"
      ]
     },
     "execution_count": 2,
     "metadata": {},
     "output_type": "execute_result"
    }
   ],
   "source": [
    "mol = gto.Mole()\n",
    "mol.atom = \"\"\"\n",
    "C  0. 0. 0.\n",
    "H  1. 0. 0.\n",
    "H  0. 2. 0.\n",
    "H  0. 0. 1.5\n",
    "\"\"\"\n",
    "mol.basis = \"6-31G\"\n",
    "mol.spin = 1\n",
    "mol.verbose = 0\n",
    "mol.build()"
   ]
  },
  {
   "cell_type": "code",
   "execution_count": 3,
   "metadata": {},
   "outputs": [
    {
     "data": {
      "text/plain": [
       "-39.315520907160426"
      ]
     },
     "execution_count": 3,
     "metadata": {},
     "output_type": "execute_result"
    }
   ],
   "source": [
    "scf_eng = scf.UHF(mol).run()\n",
    "scf_eng.e_tot"
   ]
  },
  {
   "cell_type": "markdown",
   "metadata": {},
   "source": [
    "下面我们用 PySCF 计算一些 MP2 一阶梯度中的一些中间结论。首先是 MP2 的相关能："
   ]
  },
  {
   "cell_type": "code",
   "execution_count": 4,
   "metadata": {},
   "outputs": [
    {
     "data": {
      "text/plain": [
       "-0.06954272279822271"
      ]
     },
     "execution_count": 4,
     "metadata": {},
     "output_type": "execute_result"
    }
   ],
   "source": [
    "mp2_eng = mp.UMP2(scf_eng).run()\n",
    "mp2_eng.e_corr"
   ]
  },
  {
   "cell_type": "markdown",
   "metadata": {},
   "source": [
    "MP2 的梯度可以求取如下："
   ]
  },
  {
   "cell_type": "code",
   "execution_count": 5,
   "metadata": {},
   "outputs": [
    {
     "data": {
      "text/plain": [
       "array([[ 0.07528, -0.04775, -0.1069 ],\n",
       "       [-0.09696,  0.01381,  0.02217],\n",
       "       [ 0.0069 ,  0.02597,  0.00598],\n",
       "       [ 0.01478,  0.00797,  0.07876]])"
      ]
     },
     "execution_count": 5,
     "metadata": {},
     "output_type": "execute_result"
    }
   ],
   "source": [
    "mp2_grad = grad.ump2.Gradients(mp2_eng).run()\n",
    "mp2_grad.de"
   ]
  },
  {
   "cell_type": "markdown",
   "metadata": {},
   "source": [
    "上述梯度中，相关能的梯度贡献可以通过下述方式求取得到："
   ]
  },
  {
   "cell_type": "code",
   "execution_count": 6,
   "metadata": {},
   "outputs": [
    {
     "data": {
      "text/plain": [
       "array([[ 0.01346, -0.01382,  0.01127],\n",
       "       [-0.01264,  0.00222, -0.00289],\n",
       "       [ 0.00111,  0.01063,  0.00073],\n",
       "       [-0.00193,  0.00097, -0.0091 ]])"
      ]
     },
     "execution_count": 6,
     "metadata": {},
     "output_type": "execute_result"
    }
   ],
   "source": [
    "scf_grad = grad.uhf.Gradients(scf_eng).run()\n",
    "mp2_grad.de - scf_grad.de"
   ]
  },
  {
   "cell_type": "markdown",
   "metadata": {},
   "source": [
    "所有与 SCF 一阶梯度有关的量定义如下："
   ]
  },
  {
   "cell_type": "code",
   "execution_count": 7,
   "metadata": {},
   "outputs": [
    {
     "data": {
      "text/plain": [
       "-39.38506362995865"
      ]
     },
     "execution_count": 7,
     "metadata": {},
     "output_type": "execute_result"
    }
   ],
   "source": [
    "gradh = GradUMP2({\"scf_eng\": scf_eng, \"cphf_tol\": 1e-10})\n",
    "gradh.eng"
   ]
  },
  {
   "cell_type": "code",
   "execution_count": 8,
   "metadata": {},
   "outputs": [],
   "source": [
    "nmo, nao, natm = gradh.nmo, gradh.nao, gradh.natm\n",
    "nocc, nvir = gradh.nocc, gradh.nvir\n",
    "so, sv, sa = gradh.so, gradh.sv, gradh.sa\n",
    "C, e = gradh.C, gradh.e\n",
    "Co, eo = gradh.Co, gradh.eo\n",
    "Cv, ev = gradh.Cv, gradh.ev\n",
    "mo_occ = gradh.mo_occ"
   ]
  },
  {
   "cell_type": "code",
   "execution_count": 9,
   "metadata": {},
   "outputs": [],
   "source": [
    "H_0_ao, H_0_mo, H_1_ao, H_1_mo = gradh.H_0_ao, gradh.H_0_mo, gradh.H_1_ao, gradh.H_1_mo\n",
    "S_0_ao, S_0_mo, S_1_ao, S_1_mo = gradh.S_0_ao, gradh.S_0_mo, gradh.S_1_ao, gradh.S_1_mo\n",
    "F_0_ao, F_0_mo, F_1_ao, F_1_mo = gradh.F_0_ao, gradh.F_0_mo, gradh.F_1_ao, gradh.F_1_mo\n",
    "eri0_ao, eri0_mo, eri1_ao, eri1_mo = gradh.eri0_ao, gradh.eri0_mo, gradh.eri1_ao, gradh.eri1_mo"
   ]
  },
  {
   "cell_type": "code",
   "execution_count": 10,
   "metadata": {},
   "outputs": [],
   "source": [
    "Ax0_Core = gradh.Ax0_Core"
   ]
  },
  {
   "cell_type": "markdown",
   "metadata": {},
   "source": [
    "## MP2 能量计算中间张量"
   ]
  },
  {
   "cell_type": "markdown",
   "metadata": {},
   "source": [
    "- `D_iajb` $D_{ij}^{ab, \\sigma \\sigma'}$, dim: $(\\sigma \\sigma', i, a, j, b)$, type: `Tuple[np.ndarray]`\n",
    "\n",
    "$$\n",
    "D_{ij}^{ab, \\sigma \\sigma'} = \\varepsilon_i^\\sigma - \\varepsilon_a^\\sigma + \\varepsilon_j^{\\sigma'} - \\varepsilon_b^{\\sigma'}\n",
    "$$"
   ]
  },
  {
   "cell_type": "markdown",
   "metadata": {},
   "source": [
    "其中，$i, a$ 为 $\\sigma$ 自旋，$j, b$ 为 $\\sigma'$ 自旋；后同。"
   ]
  },
  {
   "cell_type": "code",
   "execution_count": 11,
   "metadata": {},
   "outputs": [
    {
     "data": {
      "text/plain": [
       "[(5, 10, 5, 10), (5, 10, 4, 11), (4, 11, 4, 11)]"
      ]
     },
     "execution_count": 11,
     "metadata": {},
     "output_type": "execute_result"
    }
   ],
   "source": [
    "D_iajb = gradh.D_iajb\n",
    "[t.shape for t in D_iajb]"
   ]
  },
  {
   "cell_type": "code",
   "execution_count": 12,
   "metadata": {},
   "outputs": [
    {
     "data": {
      "text/plain": [
       "[True, True, True]"
      ]
     },
     "execution_count": 12,
     "metadata": {},
     "output_type": "execute_result"
    }
   ],
   "source": [
    "D_iajb_ = (\n",
    "    eo[0][:, None, None, None] - ev[0][None, :, None, None] + eo[0][None, None, :, None] - ev[0][None, None, None, :],\n",
    "    eo[0][:, None, None, None] - ev[0][None, :, None, None] + eo[1][None, None, :, None] - ev[1][None, None, None, :],\n",
    "    eo[1][:, None, None, None] - ev[1][None, :, None, None] + eo[1][None, None, :, None] - ev[1][None, None, None, :]\n",
    ")\n",
    "[np.allclose(t_, t) for t_, t in zip(D_iajb_, D_iajb)]"
   ]
  },
  {
   "cell_type": "markdown",
   "metadata": {},
   "source": [
    "- `t_iajb` $t_{ij}^{ab, \\sigma \\sigma'}$, dim: $(\\sigma \\sigma', i, a, j, b)$, type: `Tuple[np.ndarray]`\n",
    "\n",
    "$$\n",
    "t_{ij}^{ab, \\sigma \\sigma'} = \\frac{(ia|jb)^{\\sigma \\sigma'}}{D_{ij}^{ab, \\sigma \\sigma'}}\n",
    "$$"
   ]
  },
  {
   "cell_type": "code",
   "execution_count": 13,
   "metadata": {},
   "outputs": [
    {
     "data": {
      "text/plain": [
       "[(5, 10, 5, 10), (5, 10, 4, 11), (4, 11, 4, 11)]"
      ]
     },
     "execution_count": 13,
     "metadata": {},
     "output_type": "execute_result"
    }
   ],
   "source": [
    "t_iajb = gradh.t_iajb\n",
    "[t.shape for t in t_iajb]"
   ]
  },
  {
   "cell_type": "code",
   "execution_count": 14,
   "metadata": {},
   "outputs": [
    {
     "data": {
      "text/plain": [
       "[True, True, True]"
      ]
     },
     "execution_count": 14,
     "metadata": {},
     "output_type": "execute_result"
    }
   ],
   "source": [
    "t_iajb_ = (\n",
    "    eri0_mo[0][so[0], sv[0], so[0], sv[0]] / D_iajb[0],\n",
    "    eri0_mo[1][so[0], sv[0], so[1], sv[1]] / D_iajb[1],\n",
    "    eri0_mo[2][so[1], sv[1], so[1], sv[1]] / D_iajb[2]\n",
    ")\n",
    "[np.allclose(t_, t) for t_, t in zip(t_iajb_, t_iajb)]"
   ]
  },
  {
   "cell_type": "markdown",
   "metadata": {},
   "source": [
    "- `T_iajb` $T_{ij}^{ab, \\sigma \\sigma'}$, dim: $(\\sigma \\sigma', i, a, j, b)$, type: `Tuple[np.ndarray]`\n",
    "\n",
    "$$\n",
    "\\begin{align}\n",
    "T_{ij}^{ab, \\alpha \\alpha} &= c_\\mathrm{c} c_\\mathrm{SS} \\frac{1}{2} (t_{ij}^{ab, \\alpha \\alpha} - t_{ij}^{ba, \\alpha \\alpha}) \\\\\n",
    "T_{ij}^{ab, \\alpha \\beta} &= c_\\mathrm{c} c_\\mathrm{OS} t_{ij}^{ab, \\alpha \\beta}\n",
    "\\end{align}\n",
    "$$\n",
    "\n",
    "对于 $T_{ij}^{ab, \\beta \\beta}$，其情况可以通过将 RHS $\\alpha$ 与 $\\beta$ 互换得到。在普通的 MP2 中，\n",
    "\n",
    "$$\n",
    "c_\\mathrm{c} = c_\\mathrm{SS} = c_\\mathrm{OS} = 1\n",
    "$$\n",
    "\n",
    "因此我们可以在尝试 MP2 的实现时可以简化一些代码。但对于 XYGJ-OS 而言，\n",
    "\n",
    "$$\n",
    "c_\\mathrm{c} = 0.4364, \\quad c_\\mathrm{SS} = 0, \\quad c_\\mathrm{OS} = 1\n",
    "$$\n",
    "\n",
    "因此在尝试这些泛函时，需要少许改变下述的代码。"
   ]
  },
  {
   "cell_type": "code",
   "execution_count": 15,
   "metadata": {},
   "outputs": [
    {
     "data": {
      "text/plain": [
       "[(5, 10, 5, 10), (5, 10, 4, 11), (4, 11, 4, 11)]"
      ]
     },
     "execution_count": 15,
     "metadata": {},
     "output_type": "execute_result"
    }
   ],
   "source": [
    "T_iajb = gradh.T_iajb\n",
    "[t.shape for t in T_iajb]"
   ]
  },
  {
   "cell_type": "code",
   "execution_count": 16,
   "metadata": {},
   "outputs": [
    {
     "data": {
      "text/plain": [
       "[True, True, True]"
      ]
     },
     "execution_count": 16,
     "metadata": {},
     "output_type": "execute_result"
    }
   ],
   "source": [
    "T_iajb_ = (\n",
    "    0.5 * (t_iajb[0] - t_iajb[0].swapaxes(-1, -3)),\n",
    "    t_iajb[1],\n",
    "    0.5 * (t_iajb[2] - t_iajb[2].swapaxes(-1, -3))\n",
    ")\n",
    "[np.allclose(t_, t) for t_, t in zip(T_iajb_, T_iajb)]"
   ]
  },
  {
   "cell_type": "markdown",
   "metadata": {},
   "source": [
    "最后，我们可以复现 MP2 的能量：\n",
    "\n",
    "$$\n",
    "E_\\mathrm{corr} = T_{ij}^{ab, \\sigma \\sigma'} t_{ij}^{ab, \\sigma \\sigma'} D_{ij}^{ab, \\sigma \\sigma'}\n",
    "$$"
   ]
  },
  {
   "cell_type": "code",
   "execution_count": 17,
   "metadata": {},
   "outputs": [
    {
     "data": {
      "text/plain": [
       "-0.06954272279822277"
      ]
     },
     "execution_count": 17,
     "metadata": {},
     "output_type": "execute_result"
    }
   ],
   "source": [
    "np.array([(T_iajb[i] * t_iajb[i] * D_iajb[i]).sum() for i in range(3)]).sum()"
   ]
  },
  {
   "cell_type": "code",
   "execution_count": 18,
   "metadata": {},
   "outputs": [
    {
     "data": {
      "text/plain": [
       "-0.06954272279822271"
      ]
     },
     "execution_count": 18,
     "metadata": {},
     "output_type": "execute_result"
    }
   ],
   "source": [
    "mp2_eng.e_corr"
   ]
  },
  {
   "cell_type": "markdown",
   "metadata": {},
   "source": [
    "## MP2 梯度中间张量"
   ]
  },
  {
   "cell_type": "markdown",
   "metadata": {},
   "source": [
    "### $W_{pq}^{\\sigma, \\mathrm{MP2}}[\\mathrm{I}]$"
   ]
  },
  {
   "cell_type": "markdown",
   "metadata": {},
   "source": [
    "- `W_I` $W_{pq}^{\\sigma, \\mathrm{MP2}}[\\mathrm{I}]$, dim: $(\\sigma, p, q)$；但需要对 $\\alpha, \\beta$ 两种自旋分开生成"
   ]
  },
  {
   "cell_type": "code",
   "execution_count": 19,
   "metadata": {},
   "outputs": [],
   "source": [
    "W_I = np.zeros((2, nmo, nmo))"
   ]
  },
  {
   "cell_type": "markdown",
   "metadata": {},
   "source": [
    "$$\n",
    "W_{ij}^{\\alpha, \\mathrm{MP2}} [\\mathrm{I}] = - 2 T_{ik}^{ab, \\alpha \\alpha} (ja|kb)^{\\alpha \\alpha} - T_{ik}^{ab, \\alpha \\beta} (ja|kb)^{\\alpha \\beta}\n",
    "$$\n",
    "\n",
    "对 $\\beta$ 自旋的情况，交换上式 $\\alpha, \\beta$ 即可。"
   ]
  },
  {
   "cell_type": "code",
   "execution_count": 20,
   "metadata": {},
   "outputs": [],
   "source": [
    "W_I[0, so[0], so[0]] = (\n",
    "    - 2 * np.einsum(\"iakb, jakb -> ij\", T_iajb[0], t_iajb[0] * D_iajb[0])\n",
    "    -     np.einsum(\"iakb, jakb -> ij\", T_iajb[1], t_iajb[1] * D_iajb[1]))\n",
    "W_I[1, so[1], so[1]] = (\n",
    "    - 2 * np.einsum(\"iakb, jakb -> ij\", T_iajb[2], t_iajb[2] * D_iajb[2])\n",
    "    -     np.einsum(\"kbia, kbja -> ij\", T_iajb[1], t_iajb[1] * D_iajb[1]))"
   ]
  },
  {
   "cell_type": "markdown",
   "metadata": {},
   "source": [
    "$$\n",
    "W_{ab}^{\\alpha, \\mathrm{PT2}} [\\mathrm{I}] = - 2 T_{ij}^{ac, \\alpha \\alpha} (ib|jc)^{\\alpha \\alpha} - T_{ij}^{ac, \\alpha \\beta} (ib|jc)^{\\alpha \\beta}\n",
    "$$"
   ]
  },
  {
   "cell_type": "code",
   "execution_count": 21,
   "metadata": {},
   "outputs": [],
   "source": [
    "W_I[0, sv[0], sv[0]] = (\n",
    "    - 2 * np.einsum(\"iajc, ibjc -> ab\", T_iajb[0], t_iajb[0] * D_iajb[0])\n",
    "    -     np.einsum(\"iajc, ibjc -> ab\", T_iajb[1], t_iajb[1] * D_iajb[1]))\n",
    "W_I[1, sv[1], sv[1]] = (\n",
    "    - 2 * np.einsum(\"iajc, ibjc -> ab\", T_iajb[2], t_iajb[2] * D_iajb[2])\n",
    "    -     np.einsum(\"jcia, jcib -> ab\", T_iajb[1], t_iajb[1] * D_iajb[1]))"
   ]
  },
  {
   "cell_type": "markdown",
   "metadata": {},
   "source": [
    "$$\n",
    "W_{ai}^{\\alpha, \\mathrm{PT2}} [\\mathrm{I}] = - 4 T_{jk}^{ab, \\alpha \\alpha} (ij|bk)^{\\alpha \\alpha} - 2 T_{jk}^{ab, \\alpha \\beta} (ij|bk)^{\\alpha \\beta}\n",
    "$$"
   ]
  },
  {
   "cell_type": "code",
   "execution_count": 22,
   "metadata": {},
   "outputs": [],
   "source": [
    "W_I[0, sv[0], so[0]] = (\n",
    "    - 4 * np.einsum(\"jakb, ijbk -> ai\", T_iajb[0], eri0_mo[0][so[0], so[0], sv[0], so[0]])\n",
    "    - 2 * np.einsum(\"jakb, ijbk -> ai\", T_iajb[1], eri0_mo[1][so[0], so[0], sv[1], so[1]]))\n",
    "W_I[1, sv[1], so[1]] = (\n",
    "    - 4 * np.einsum(\"jakb, ijbk -> ai\", T_iajb[2], eri0_mo[2][so[1], so[1], sv[1], so[1]])\n",
    "    - 2 * np.einsum(\"kbja, bkij -> ai\", T_iajb[1], eri0_mo[1][sv[0], so[0], so[1], so[1]]))"
   ]
  },
  {
   "cell_type": "markdown",
   "metadata": {},
   "source": [
    "可能需要留意，由于我们的程序中只有 `eri0_mo[1]` $(pq|rs)^{\\alpha \\beta}$ 而没有 $(pq|rs)^{\\beta \\alpha}$，因此在程序中若要对后者作张量缩并，首先需要转置为前者的情况，或者在 np.einsum 中调整缩并角标的顺序。"
   ]
  },
  {
   "cell_type": "markdown",
   "metadata": {},
   "source": [
    "### $D_{ij}^{\\sigma, \\mathrm{MP2}}$, $D_{ab}^{\\sigma, \\mathrm{MP2}}$"
   ]
  },
  {
   "cell_type": "markdown",
   "metadata": {},
   "source": [
    "- `D_r_oovv` $D_{pq}^{\\sigma, \\mathrm{MP2}}$, only occ-occ and vir-vir part, dim: $(\\sigma, p, q)$"
   ]
  },
  {
   "cell_type": "code",
   "execution_count": 23,
   "metadata": {},
   "outputs": [],
   "source": [
    "D_r_oovv = np.zeros((2, nmo, nmo))"
   ]
  },
  {
   "cell_type": "markdown",
   "metadata": {},
   "source": [
    "$$\n",
    "D_{ij}^{\\alpha, \\text{MP2}} = - 2 T_{ik}^{ab, \\alpha \\alpha} t_{jk}^{ab, \\alpha \\alpha} - T_{ik}^{ab, \\alpha \\beta} t_{jk}^{ab, \\alpha \\beta}\n",
    "$$"
   ]
  },
  {
   "cell_type": "code",
   "execution_count": 24,
   "metadata": {},
   "outputs": [],
   "source": [
    "D_r_oovv[0, so[0], so[0]] = (\n",
    "    - 2 * np.einsum(\"iakb, jakb -> ij\", T_iajb[0], t_iajb[0])\n",
    "    -     np.einsum(\"iakb, jakb -> ij\", T_iajb[1], t_iajb[1]))\n",
    "D_r_oovv[1, so[1], so[1]] = (\n",
    "    - 2 * np.einsum(\"iakb, jakb -> ij\", T_iajb[2], t_iajb[2])\n",
    "    -     np.einsum(\"kbia, kbja -> ij\", T_iajb[1], t_iajb[1]))"
   ]
  },
  {
   "cell_type": "markdown",
   "metadata": {},
   "source": [
    "$$\n",
    "D_{ab}^{\\alpha, \\text{MP2}} = 2 T_{ij}^{ac, \\alpha \\alpha} t_{ij}^{bc, \\alpha \\alpha} + T_{ij}^{ac, \\alpha \\beta} t_{ij}^{bc, \\alpha \\beta}\n",
    "$$"
   ]
  },
  {
   "cell_type": "code",
   "execution_count": 25,
   "metadata": {},
   "outputs": [],
   "source": [
    "D_r_oovv[0, sv[0], sv[0]] = (\n",
    "    + 2 * np.einsum(\"iajc, ibjc -> ab\", T_iajb[0], t_iajb[0])\n",
    "    +     np.einsum(\"iajc, ibjc -> ab\", T_iajb[1], t_iajb[1]))\n",
    "D_r_oovv[1, sv[1], sv[1]] = (\n",
    "    + 2 * np.einsum(\"iajc, ibjc -> ab\", T_iajb[2], t_iajb[2])\n",
    "    +     np.einsum(\"jcia, jcib -> ab\", T_iajb[1], t_iajb[1]))"
   ]
  },
  {
   "cell_type": "markdown",
   "metadata": {},
   "source": [
    "### $L_{ai}^\\sigma$"
   ]
  },
  {
   "cell_type": "markdown",
   "metadata": {},
   "source": [
    "- `L` $L_{ai}^\\sigma$, dim: $(\\sigma, a, i)$, type: `Tuple[np.ndarray]`"
   ]
  },
  {
   "cell_type": "markdown",
   "metadata": {},
   "source": [
    "$$\n",
    "L_{ai}^\\alpha = \\mathtt{Ax}_{ai}^\\alpha [D_{kl}^{\\sigma, \\mathrm{MP2}}] + \\mathtt{Ax}_{ai}^\\alpha [D_{bc}^{\\sigma, \\mathrm{MP2}}] - 4 T_{jk}^{ab, \\alpha \\alpha} (ij|bk)^{\\alpha \\alpha} - 4 T_{jk}^{ab, \\alpha \\beta} (ij|bk)^{\\alpha \\beta} + 4 T_{ij}^{bc, \\alpha \\alpha} (ab|jc)^{\\alpha \\alpha} + 4 T_{ij}^{bc, \\alpha \\beta} (ab|jc)^{\\alpha \\beta}\n",
    "$$"
   ]
  },
  {
   "cell_type": "code",
   "execution_count": 26,
   "metadata": {},
   "outputs": [],
   "source": [
    "L = Ax0_Core(sv, so, sa, sa)(D_r_oovv)"
   ]
  },
  {
   "cell_type": "code",
   "execution_count": 27,
   "metadata": {},
   "outputs": [],
   "source": [
    "L[0][:] += (\n",
    "    - 4 * np.einsum(\"jakb, ijbk -> ai\", T_iajb[0], eri0_mo[0][so[0], so[0], sv[0], so[0]])\n",
    "    - 2 * np.einsum(\"jakb, ijbk -> ai\", T_iajb[1], eri0_mo[1][so[0], so[0], sv[1], so[1]])\n",
    "    + 4 * np.einsum(\"ibjc, abjc -> ai\", T_iajb[0], eri0_mo[0][sv[0], sv[0], so[0], sv[0]])\n",
    "    + 2 * np.einsum(\"ibjc, abjc -> ai\", T_iajb[1], eri0_mo[1][sv[0], sv[0], so[1], sv[1]])\n",
    ")"
   ]
  },
  {
   "cell_type": "code",
   "execution_count": 28,
   "metadata": {},
   "outputs": [],
   "source": [
    "L[1][:] += (\n",
    "    - 4 * np.einsum(\"jakb, ijbk -> ai\", T_iajb[2], eri0_mo[2][so[1], so[1], sv[1], so[1]])\n",
    "    - 2 * np.einsum(\"kbja, bkij -> ai\", T_iajb[1], eri0_mo[1][sv[0], so[0], so[1], so[1]])\n",
    "    + 4 * np.einsum(\"ibjc, abjc -> ai\", T_iajb[2], eri0_mo[2][sv[1], sv[1], so[1], sv[1]])\n",
    "    + 2 * np.einsum(\"jcib, jcab -> ai\", T_iajb[1], eri0_mo[1][so[0], sv[0], sv[1], sv[1]])\n",
    ")"
   ]
  },
  {
   "cell_type": "markdown",
   "metadata": {},
   "source": [
    "### $D_{ai}^{\\sigma, \\mathrm{MP2}}$"
   ]
  },
  {
   "cell_type": "markdown",
   "metadata": {},
   "source": [
    "- `D_r_vo` $D_{ij}^{\\sigma, \\mathrm{MP2}}$, dim: $(\\sigma, a, i)$, type: `Type[np.ndarray]`"
   ]
  },
  {
   "cell_type": "markdown",
   "metadata": {},
   "source": [
    "$$\n",
    "- (\\varepsilon_a^\\sigma - \\varepsilon_i^\\sigma) D_{ai}^{\\sigma, \\mathrm{MP2}} - \\mathtt{Ax}_{ai}^\\sigma [D_{bj}^{\\sigma' \\mathrm{MP2}}] = L_{ai}^\\sigma\n",
    "$$"
   ]
  },
  {
   "cell_type": "code",
   "execution_count": 29,
   "metadata": {},
   "outputs": [],
   "source": [
    "def fx(X):\n",
    "    X_alpha = X[:, :nocc[0] * nvir[0]].reshape((nvir[0], nocc[0]))\n",
    "    X_beta = X[:, nocc[0] * nvir[0]:].reshape((nvir[1], nocc[1]))\n",
    "    Ax = Ax0_Core(sv, so, sv, so, in_cphf=True)((X_alpha, X_beta))\n",
    "    result = np.concatenate([Ax[0].reshape(-1), Ax[1].reshape(-1)])\n",
    "    return result\n",
    "\n",
    "D_r_vo = ucphf.solve(fx, e, mo_occ, L, max_cycle=100, tol=1e-10)[0]"
   ]
  },
  {
   "cell_type": "markdown",
   "metadata": {},
   "source": [
    "### $D_{pq}^{\\sigma, \\mathrm{MP2}}$"
   ]
  },
  {
   "cell_type": "markdown",
   "metadata": {},
   "source": [
    "- `D_r` $D_{pq}^{\\sigma, \\mathrm{MP2}}$, dim: $(\\sigma, p, q)$"
   ]
  },
  {
   "cell_type": "code",
   "execution_count": 30,
   "metadata": {},
   "outputs": [],
   "source": [
    "D_r = np.copy(D_r_oovv)\n",
    "D_r[0][sv[0], so[0]] = D_r_vo[0]\n",
    "D_r[1][sv[1], so[1]] = D_r_vo[1]"
   ]
  },
  {
   "cell_type": "markdown",
   "metadata": {},
   "source": [
    "## MP2 一阶梯度"
   ]
  },
  {
   "cell_type": "markdown",
   "metadata": {},
   "source": [
    "### 弛豫密度贡献"
   ]
  },
  {
   "cell_type": "markdown",
   "metadata": {},
   "source": [
    "$$\n",
    "\\partial_{\\mathbb{A}} E_\\mathrm{corr} \\leftarrow D_{pq}^{\\sigma, \\mathrm{MP2}} B_{pq}^{\\mathbb{A}, \\sigma}\n",
    "$$"
   ]
  },
  {
   "cell_type": "code",
   "execution_count": 31,
   "metadata": {},
   "outputs": [
    {
     "data": {
      "text/plain": [
       "array([[ 0.00819, -0.01257,  0.00115],\n",
       "       [-0.00897,  0.0027 , -0.00033],\n",
       "       [ 0.00095,  0.00815,  0.00089],\n",
       "       [-0.00017,  0.00171, -0.00171]])"
      ]
     },
     "execution_count": 31,
     "metadata": {},
     "output_type": "execute_result"
    }
   ],
   "source": [
    "E_1_MP2_contrib1 = np.einsum(\"xpq, xApq -> A\", D_r, gradh.B_1).reshape((natm, 3))\n",
    "E_1_MP2_contrib1"
   ]
  },
  {
   "cell_type": "markdown",
   "metadata": {},
   "source": [
    "$$\n",
    "\\partial_{\\mathbb{A}} E_\\mathrm{corr} \\leftarrow W_{pq}^{\\sigma} [\\mathrm{I}] S_{pq}^{\\mathbb{A}, \\sigma}\n",
    "$$"
   ]
  },
  {
   "cell_type": "code",
   "execution_count": 32,
   "metadata": {},
   "outputs": [
    {
     "data": {
      "text/plain": [
       "array([[-0.00464, -0.00136,  0.00005],\n",
       "       [ 0.00391, -0.0006 , -0.00406],\n",
       "       [ 0.00052,  0.00219, -0.00011],\n",
       "       [ 0.00021, -0.00023,  0.00413]])"
      ]
     },
     "execution_count": 32,
     "metadata": {},
     "output_type": "execute_result"
    }
   ],
   "source": [
    "E_1_MP2_contrib2 = np.einsum(\"xpq, xApq -> A\", W_I, S_1_mo).reshape((natm, 3))\n",
    "E_1_MP2_contrib2"
   ]
  },
  {
   "cell_type": "markdown",
   "metadata": {},
   "source": [
    "$$\n",
    "\\partial_{\\mathbb{A}} E_\\mathrm{corr} \\leftarrow T_{ij}^{ab, \\sigma \\sigma'} (pq|rs)^{\\sigma \\sigma'}\n",
    "$$"
   ]
  },
  {
   "cell_type": "code",
   "execution_count": 33,
   "metadata": {},
   "outputs": [
    {
     "data": {
      "text/plain": [
       "array([[ 0.00991,  0.0001 ,  0.01007],\n",
       "       [-0.00758,  0.00012,  0.0015 ],\n",
       "       [-0.00037,  0.00029, -0.00005],\n",
       "       [-0.00197, -0.00051, -0.01152]])"
      ]
     },
     "execution_count": 33,
     "metadata": {},
     "output_type": "execute_result"
    }
   ],
   "source": [
    "E_1_MP2_contrib3 = (\n",
    "    + 2 * np.einsum(\"iajb, Aiajb -> A\", T_iajb[0], eri1_mo[0][:, so[0], sv[0], so[0], sv[0]])\n",
    "    + 2 * np.einsum(\"iajb, Aiajb -> A\", T_iajb[1], eri1_mo[1][:, so[0], sv[0], so[1], sv[1]])\n",
    "    + 2 * np.einsum(\"iajb, Aiajb -> A\", T_iajb[2], eri1_mo[2][:, so[1], sv[1], so[1], sv[1]])\n",
    ").reshape((natm, 3))\n",
    "E_1_MP2_contrib3"
   ]
  },
  {
   "cell_type": "markdown",
   "metadata": {},
   "source": [
    "总能量梯度可以表示为"
   ]
  },
  {
   "cell_type": "code",
   "execution_count": 34,
   "metadata": {},
   "outputs": [
    {
     "data": {
      "text/plain": [
       "array([[ 0.01346, -0.01382,  0.01127],\n",
       "       [-0.01264,  0.00222, -0.00289],\n",
       "       [ 0.00111,  0.01063,  0.00073],\n",
       "       [-0.00193,  0.00097, -0.0091 ]])"
      ]
     },
     "execution_count": 34,
     "metadata": {},
     "output_type": "execute_result"
    }
   ],
   "source": [
    "E_1_MP2_contrib1 + E_1_MP2_contrib2 + E_1_MP2_contrib3"
   ]
  },
  {
   "cell_type": "markdown",
   "metadata": {},
   "source": [
    "我们可以与 PySCF 的梯度作对比："
   ]
  },
  {
   "cell_type": "code",
   "execution_count": 35,
   "metadata": {},
   "outputs": [
    {
     "data": {
      "text/plain": [
       "array([[ 0.01346, -0.01382,  0.01127],\n",
       "       [-0.01264,  0.00222, -0.00289],\n",
       "       [ 0.00111,  0.01063,  0.00073],\n",
       "       [-0.00193,  0.00097, -0.0091 ]])"
      ]
     },
     "execution_count": 35,
     "metadata": {},
     "output_type": "execute_result"
    }
   ],
   "source": [
    "mp2_grad.de - scf_grad.de"
   ]
  }
 ],
 "metadata": {
  "kernelspec": {
   "display_name": "Python 3",
   "language": "python",
   "name": "python3"
  },
  "language_info": {
   "codemirror_mode": {
    "name": "ipython",
    "version": 3
   },
   "file_extension": ".py",
   "mimetype": "text/x-python",
   "name": "python",
   "nbconvert_exporter": "python",
   "pygments_lexer": "ipython3",
   "version": "3.8.1"
  },
  "toc": {
   "base_numbering": 1,
   "nav_menu": {},
   "number_sections": true,
   "sideBar": true,
   "skip_h1_title": false,
   "title_cell": "Table of Contents",
   "title_sidebar": "Contents",
   "toc_cell": false,
   "toc_position": {},
   "toc_section_display": true,
   "toc_window_display": false
  }
 },
 "nbformat": 4,
 "nbformat_minor": 4
}
