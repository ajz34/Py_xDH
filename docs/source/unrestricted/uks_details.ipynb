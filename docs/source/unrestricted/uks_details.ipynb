{
 "cells": [
  {
   "cell_type": "markdown",
   "metadata": {},
   "source": [
    "# Unrestricted Kohn-Sham 一阶梯度与中间矩阵"
   ]
  },
  {
   "cell_type": "markdown",
   "metadata": {},
   "source": [
    "这一节我们相对系统地讨论一阶 GGA 梯度的相关性质，包括能量表达式、一阶梯度、U 矩阵的计算与关联；从而对后续的 UKS 的计算打下基础。"
   ]
  },
  {
   "cell_type": "markdown",
   "metadata": {},
   "source": [
    "## 准备工作"
   ]
  },
  {
   "cell_type": "code",
   "execution_count": 1,
   "metadata": {},
   "outputs": [],
   "source": [
    "%load_ext autoreload\n",
    "%autoreload 2\n",
    "%matplotlib notebook\n",
    "\n",
    "from matplotlib import pyplot as plt\n",
    "import numpy as np\n",
    "from pyscf import gto, scf, dft, grad\n",
    "from pyscf.scf import ucphf\n",
    "from functools import partial\n",
    "from pyxdh.DerivOnce import GradUSCF, GradSCF\n",
    "from pyxdh.Utilities import GridHelper, KernelHelper\n",
    "from pyxdh.Utilities import NucCoordDerivGenerator, NumericDiff\n",
    "import warnings\n",
    "\n",
    "np.einsum = partial(np.einsum, optimize=[\"greedy\", 1024 ** 3 * 2 / 8])\n",
    "np.allclose = partial(np.allclose, atol=1e-6, rtol=1e-4)\n",
    "np.set_printoptions(5, linewidth=180, suppress=True)\n",
    "warnings.filterwarnings(\"ignore\")"
   ]
  },
  {
   "cell_type": "markdown",
   "metadata": {},
   "source": [
    "为了简化计算量，我们大多数时候对格点积分不作非常精细的计算，因此使用非常小的格点 (50, 194)。使用的分子是非对称的 CH3 自由基。"
   ]
  },
  {
   "cell_type": "code",
   "execution_count": 2,
   "metadata": {},
   "outputs": [
    {
     "data": {
      "text/plain": [
       "<pyscf.gto.mole.Mole at 0x7fbfa1f4fcd0>"
      ]
     },
     "execution_count": 2,
     "metadata": {},
     "output_type": "execute_result"
    }
   ],
   "source": [
    "mol = gto.Mole()\n",
    "mol.atom = \"\"\"\n",
    "C  0. 0. 0.\n",
    "H  1. 0. 0.\n",
    "H  0. 2. 0.\n",
    "H  0. 0. 1.5\n",
    "\"\"\"\n",
    "mol.basis = \"6-31G\"\n",
    "mol.spin = 1\n",
    "mol.verbose = 0\n",
    "mol.build()\n",
    "# mol = gto.Mole()\n",
    "# mol.atom = \"\"\"\n",
    "# N  0. 0. 0.\n",
    "# H  1. 0. 0.\n",
    "# H  0. 2. 0.\n",
    "# H  0. 0. 1.5\n",
    "# \"\"\"\n",
    "# mol.basis = \"6-31G\"\n",
    "# mol.spin = 0\n",
    "# mol.verbose = 0\n",
    "# mol.build()"
   ]
  },
  {
   "cell_type": "code",
   "execution_count": 3,
   "metadata": {},
   "outputs": [
    {
     "data": {
      "text/plain": [
       "<pyscf.dft.gen_grid.Grids at 0x7fbfa1f4f7f0>"
      ]
     },
     "execution_count": 3,
     "metadata": {},
     "output_type": "execute_result"
    }
   ],
   "source": [
    "grids = dft.Grids(mol)\n",
    "grids.atom_grid = (50, 194)\n",
    "grids.build()"
   ]
  },
  {
   "cell_type": "code",
   "execution_count": 4,
   "metadata": {},
   "outputs": [
    {
     "data": {
      "text/plain": [
       "-39.60377211830869"
      ]
     },
     "execution_count": 4,
     "metadata": {},
     "output_type": "execute_result"
    }
   ],
   "source": [
    "scf_eng = dft.UKS(mol)\n",
    "scf_eng.xc = \"B3LYPg\"\n",
    "scf_eng.grids = grids\n",
    "scf_eng.run()\n",
    "scf_eng.e_tot"
   ]
  },
  {
   "cell_type": "code",
   "execution_count": 5,
   "metadata": {},
   "outputs": [
    {
     "data": {
      "text/plain": [
       "-39.60377211830869"
      ]
     },
     "execution_count": 5,
     "metadata": {},
     "output_type": "execute_result"
    }
   ],
   "source": [
    "gradh = GradUSCF({\"scf_eng\": scf_eng, \"cphf_tol\": 1e-10})\n",
    "gradh.eng"
   ]
  },
  {
   "cell_type": "markdown",
   "metadata": {},
   "source": [
    "我们顺便定义一下数值导数计算量 `gradn`。可以用它来进行若干矩阵的数值导数计算。"
   ]
  },
  {
   "cell_type": "code",
   "execution_count": 6,
   "metadata": {},
   "outputs": [],
   "source": [
    "def mol_to_grad_helper(mol):\n",
    "    g = dft.Grids(mol)\n",
    "    g.atom_grid = (50, 194)\n",
    "    g.build()\n",
    "    mf = dft.UKS(mol)\n",
    "    mf.xc = \"B3LYPg\"\n",
    "    mf.grids = g\n",
    "    return GradUSCF({\"scf_eng\": mf.run()})\n",
    "\n",
    "gradn = NucCoordDerivGenerator(mol, mol_to_grad_helper)"
   ]
  },
  {
   "cell_type": "code",
   "execution_count": 7,
   "metadata": {},
   "outputs": [],
   "source": [
    "def plot_diff(anal_mat, num_mat):\n",
    "    fig, ax = plt.subplots(figsize=(2.4, 1.8)); ax.set_xscale(\"log\")\n",
    "    ax.hist(abs(anal_mat.ravel() - num_mat.ravel()), bins=np.logspace(np.log10(1e-10), np.log10(1e-1), 50), alpha=0.5)\n",
    "    ax.hist(abs(num_mat.ravel()), bins=np.logspace(np.log10(1e-10), np.log10(1e-1), 50), alpha=0.5)\n",
    "    return fig.tight_layout()"
   ]
  },
  {
   "cell_type": "markdown",
   "metadata": {},
   "source": [
    "## 能量 UKS 计算与相关矩阵"
   ]
  },
  {
   "cell_type": "markdown",
   "metadata": {
    "heading_collapsed": true
   },
   "source": [
    "### 新的基础数据结构"
   ]
  },
  {
   "cell_type": "markdown",
   "metadata": {
    "hidden": true
   },
   "source": [
    "由于 Unrestricted 计算会在同一分子中涉及到两套占据轨道信息，因此会产生 RKS 所不会出现的各种不便利，并且要求一种新的数据结构。我们会作简单的说明。"
   ]
  },
  {
   "cell_type": "markdown",
   "metadata": {
    "hidden": true
   },
   "source": [
    "- 对于 GGA 而言，`cx` $c_\\mathrm{x}$ 与 `xc` 泛函名称与 RKS 情形相同"
   ]
  },
  {
   "cell_type": "code",
   "execution_count": 8,
   "metadata": {
    "hidden": true
   },
   "outputs": [
    {
     "data": {
      "text/plain": [
       "(0.2, 'B3LYPg')"
      ]
     },
     "execution_count": 8,
     "metadata": {},
     "output_type": "execute_result"
    }
   ],
   "source": [
    "cx, xc = gradh.cx, gradh.xc\n",
    "cx, xc"
   ]
  },
  {
   "cell_type": "markdown",
   "metadata": {
    "hidden": true
   },
   "source": [
    "- `nmo` $n_\\mathrm{MO}$、`nao` $n_\\mathrm{AO}$、`natm` $n_\\mathrm{Atom}$ 与 RKS 的情形相同"
   ]
  },
  {
   "cell_type": "code",
   "execution_count": 9,
   "metadata": {
    "hidden": true
   },
   "outputs": [
    {
     "data": {
      "text/plain": [
       "(15, 15, 4)"
      ]
     },
     "execution_count": 9,
     "metadata": {},
     "output_type": "execute_result"
    }
   ],
   "source": [
    "nmo, nao, natm = gradh.nmo, gradh.nao, gradh.natm\n",
    "nmo, nao, natm"
   ]
  },
  {
   "cell_type": "markdown",
   "metadata": {
    "hidden": true
   },
   "source": [
    "- `nocc` $(n_\\mathrm{occ}^\\alpha, n_\\mathrm{occ}^\\beta)$, `nvir` $(n_\\mathrm{vir}^\\alpha, n_\\mathrm{vir}^\\beta)$ 则是 `Tuple[int]` 类型"
   ]
  },
  {
   "cell_type": "code",
   "execution_count": 10,
   "metadata": {
    "hidden": true
   },
   "outputs": [
    {
     "data": {
      "text/plain": [
       "((5, 4), (10, 11))"
      ]
     },
     "execution_count": 10,
     "metadata": {},
     "output_type": "execute_result"
    }
   ],
   "source": [
    "nocc, nvir = gradh.nocc, gradh.nvir\n",
    "nocc, nvir"
   ]
  },
  {
   "cell_type": "markdown",
   "metadata": {
    "hidden": true
   },
   "source": [
    "- `so`, `sv`, `sa` 作为占据、非占、全轨道的分割，其类型也变为了 `Tuple[slice]` 类型"
   ]
  },
  {
   "cell_type": "code",
   "execution_count": 11,
   "metadata": {
    "hidden": true
   },
   "outputs": [
    {
     "data": {
      "text/plain": [
       "((slice(0, 5, None), slice(0, 4, None)),\n",
       " (slice(5, 15, None), slice(4, 15, None)),\n",
       " (slice(0, 15, None), slice(0, 15, None)))"
      ]
     },
     "execution_count": 11,
     "metadata": {},
     "output_type": "execute_result"
    }
   ],
   "source": [
    "so, sv, sa = gradh.so, gradh.sv, gradh.sa\n",
    "so, sv, sa"
   ]
  },
  {
   "cell_type": "markdown",
   "metadata": {
    "hidden": true
   },
   "source": [
    "- `C` $C_{\\mu p}^\\sigma$, `e` $e_p^\\sigma$ 分别是轨道系数与轨道能，维度分别是 $(\\sigma, \\mu, p)$ 与 $(\\sigma, p)$\n",
    "\n",
    "- 一般来说，$\\sigma$ 在 np.einsum 程序中会用 `x`, `y` 等表示\n",
    "\n",
    "- $\\sigma$ 在以后的程序中，通常置于维度的第一位置，比被求导量 $\\mathbb{A}$ 优先\n",
    "\n",
    "- 由于 `C[0]` $C_{\\mu p}^\\alpha$ 与 `C[1]` $C_{\\mu p}^\\beta$ 维度相同，因此 `C` 使用 `np.ndarray` 储存；`e` 同理"
   ]
  },
  {
   "cell_type": "code",
   "execution_count": 12,
   "metadata": {
    "hidden": true
   },
   "outputs": [
    {
     "data": {
      "text/plain": [
       "((2, 15, 15), (2, 15))"
      ]
     },
     "execution_count": 12,
     "metadata": {},
     "output_type": "execute_result"
    }
   ],
   "source": [
    "C, e = gradh.C, gradh.e\n",
    "C.shape, e.shape"
   ]
  },
  {
   "cell_type": "markdown",
   "metadata": {
    "hidden": true
   },
   "source": [
    "- `Co` $C_{\\mu i}^\\sigma$ 为占据轨道系数，维度是 $(\\sigma, \\mu, i)$\n",
    "\n",
    "- 但是留意，由于 $\\alpha$ 与 $\\beta$ 自旋的占据轨道数不同，因此使用 `Tuple[np.ndarray]` 储存；以后的矩阵通常也按照这两种方式分别处理"
   ]
  },
  {
   "cell_type": "code",
   "execution_count": 13,
   "metadata": {
    "hidden": true
   },
   "outputs": [
    {
     "data": {
      "text/plain": [
       "((15, 5), (15, 4))"
      ]
     },
     "execution_count": 13,
     "metadata": {},
     "output_type": "execute_result"
    }
   ],
   "source": [
    "Co = gradh.Co\n",
    "Co[0].shape, Co[1].shape"
   ]
  },
  {
   "cell_type": "markdown",
   "metadata": {
    "hidden": true
   },
   "source": [
    "- `eo` $e_i^\\sigma$ 为占据轨道能，维度 $(\\sigma, i)$，类型同理 `Tuple[np.ndarray]`"
   ]
  },
  {
   "cell_type": "code",
   "execution_count": 14,
   "metadata": {
    "hidden": true
   },
   "outputs": [
    {
     "data": {
      "text/plain": [
       "((5,), (4,))"
      ]
     },
     "execution_count": 14,
     "metadata": {},
     "output_type": "execute_result"
    }
   ],
   "source": [
    "eo = gradh.eo\n",
    "eo[0].shape, eo[1].shape"
   ]
  },
  {
   "cell_type": "markdown",
   "metadata": {
    "hidden": true
   },
   "source": [
    "上述的情况也可以用于定义非占轨道系数与非占轨道能："
   ]
  },
  {
   "cell_type": "code",
   "execution_count": 15,
   "metadata": {
    "hidden": true
   },
   "outputs": [],
   "source": [
    "Cv, ev = gradh.Cv, gradh.ev"
   ]
  },
  {
   "cell_type": "markdown",
   "metadata": {
    "hidden": true
   },
   "source": [
    "- `mo_occ` $\\delta_{p \\in \\mathrm{occ}}^\\sigma$ 表示轨道占据情况"
   ]
  },
  {
   "cell_type": "code",
   "execution_count": 16,
   "metadata": {
    "hidden": true
   },
   "outputs": [
    {
     "data": {
      "text/plain": [
       "array([[1., 1., 1., 1., 1., 0., 0., 0., 0., 0., 0., 0., 0., 0., 0.],\n",
       "       [1., 1., 1., 1., 0., 0., 0., 0., 0., 0., 0., 0., 0., 0., 0.]])"
      ]
     },
     "execution_count": 16,
     "metadata": {},
     "output_type": "execute_result"
    }
   ],
   "source": [
    "mo_occ = gradh.mo_occ\n",
    "mo_occ"
   ]
  },
  {
   "cell_type": "markdown",
   "metadata": {
    "heading_collapsed": true
   },
   "source": [
    "### 电子积分"
   ]
  },
  {
   "cell_type": "markdown",
   "metadata": {
    "hidden": true
   },
   "source": [
    "- `H_0_ao` $h_{\\mu \\nu}$, `S_0_ao` $S_{\\mu \\nu}$, `eri0_ao` $(\\mu \\nu | \\kappa \\lambda)$, `H_1_ao` $h_{\\mu \\nu}^\\mathbb{A}$, `S_1_ao` $S_{\\mu \\nu}^\\mathbb{A}$, `eri1_ao` $(\\mu \\nu | \\kappa \\lambda)^\\mathbb{A}$ 与 RKS 没有区别"
   ]
  },
  {
   "cell_type": "code",
   "execution_count": 17,
   "metadata": {
    "hidden": true
   },
   "outputs": [],
   "source": [
    "H_0_ao, S_0_ao, eri0_ao, H_1_ao, S_1_ao, eri1_ao = gradh.H_0_ao, gradh.S_0_ao, gradh.eri0_ao, gradh.H_1_ao, gradh.S_1_ao, gradh.eri1_ao"
   ]
  },
  {
   "cell_type": "markdown",
   "metadata": {
    "hidden": true
   },
   "source": [
    "- `H_0_mo` $h_{pq}^\\sigma$, `S_0_mo` $S_{pq}^\\sigma$, dim: $(\\sigma, p, q)$, type: `np.ndarray`\n",
    "\n",
    "- `H_1_mo` $h_{pq}^{\\mathbb{A}, \\sigma}$, `S_1_mo` $S_{\\mu \\nu}^{\\mathbb{A}, \\sigma}$, dim: $(\\sigma, \\mathbb{A}, p, q)$, type: `np.ndarray`"
   ]
  },
  {
   "cell_type": "code",
   "execution_count": 18,
   "metadata": {
    "hidden": true
   },
   "outputs": [
    {
     "data": {
      "text/plain": [
       "((2, 15, 15), (2, 15, 15))"
      ]
     },
     "execution_count": 18,
     "metadata": {},
     "output_type": "execute_result"
    }
   ],
   "source": [
    "H_0_mo, S_0_mo = gradh.H_0_mo, gradh.S_0_mo\n",
    "H_0_mo.shape, S_0_mo.shape"
   ]
  },
  {
   "cell_type": "code",
   "execution_count": 19,
   "metadata": {
    "hidden": true
   },
   "outputs": [
    {
     "data": {
      "text/plain": [
       "((2, 12, 15, 15), (2, 12, 15, 15))"
      ]
     },
     "execution_count": 19,
     "metadata": {},
     "output_type": "execute_result"
    }
   ],
   "source": [
    "H_1_mo, S_1_mo = gradh.H_1_mo, gradh.S_1_mo\n",
    "H_1_mo.shape, S_1_mo.shape"
   ]
  },
  {
   "cell_type": "markdown",
   "metadata": {
    "hidden": true
   },
   "source": [
    "以 `H_1_mo` $h_{pq}^{\\mathbb{A}, \\sigma}$ 为例，\n",
    "\n",
    "$$\n",
    "h_{pq}^{\\mathbb{A}, \\sigma} = h_{\\mu \\nu}^\\mathbb{A} C_{\\mu p}^\\sigma C_{\\nu q}^\\sigma\n",
    "$$"
   ]
  },
  {
   "cell_type": "code",
   "execution_count": 20,
   "metadata": {
    "hidden": true
   },
   "outputs": [
    {
     "data": {
      "text/plain": [
       "True"
      ]
     },
     "execution_count": 20,
     "metadata": {},
     "output_type": "execute_result"
    }
   ],
   "source": [
    "np.allclose(np.einsum(\"Auv, xup, xvq -> xApq\", H_1_ao, C, C), H_1_mo)"
   ]
  },
  {
   "cell_type": "markdown",
   "metadata": {
    "hidden": true
   },
   "source": [
    "- `eri0_mo` $(pq|rs)^{\\sigma \\sigma'}$, dim: $(\\sigma \\sigma', p, q, r, s)$, type: `np.ndarray`\n",
    "\n",
    "- 上述的 $\\sigma \\sigma'$ 所实际指代的是 $\\alpha \\alpha, \\alpha \\beta, \\beta \\beta$；$(pq|rs)^{\\sigma \\sigma'}$ 中，$p, q$ 是 $\\sigma$ 自旋的，而 $r, s$ 是 $\\sigma'$ 自旋的\n",
    "\n",
    "$$\n",
    "(pq|rs)^{\\sigma \\sigma'} = (\\mu \\nu | \\kappa \\lambda) C_{\\mu p}^\\sigma C_{\\nu q}^\\sigma C_{\\kappa r}^{\\sigma'} C_{\\lambda s}^{\\sigma'}\n",
    "$$"
   ]
  },
  {
   "cell_type": "code",
   "execution_count": 21,
   "metadata": {
    "hidden": true
   },
   "outputs": [
    {
     "data": {
      "text/plain": [
       "(3, 15, 15, 15, 15)"
      ]
     },
     "execution_count": 21,
     "metadata": {},
     "output_type": "execute_result"
    }
   ],
   "source": [
    "eri0_mo = gradh.eri0_mo\n",
    "eri0_mo.shape"
   ]
  },
  {
   "cell_type": "code",
   "execution_count": 22,
   "metadata": {
    "hidden": true
   },
   "outputs": [
    {
     "data": {
      "text/plain": [
       "True"
      ]
     },
     "execution_count": 22,
     "metadata": {},
     "output_type": "execute_result"
    }
   ],
   "source": [
    "np.allclose(\n",
    "    np.array([\n",
    "        np.einsum(\"uvkl, up, vq, kr, ls -> pqrs\", eri0_ao, C[0], C[0], C[0], C[0]),\n",
    "        np.einsum(\"uvkl, up, vq, kr, ls -> pqrs\", eri0_ao, C[0], C[0], C[1], C[1]),\n",
    "        np.einsum(\"uvkl, up, vq, kr, ls -> pqrs\", eri0_ao, C[1], C[1], C[1], C[1]),\n",
    "    ]),\n",
    "    eri0_mo\n",
    ")"
   ]
  },
  {
   "cell_type": "markdown",
   "metadata": {
    "hidden": true
   },
   "source": [
    "- `eri1_mo` $(pq|rs)^{\\mathbb{A}, \\sigma \\sigma'}$, dim: $(\\sigma \\sigma', \\mathbb{A}, p, q, r, s)$, type: `np.ndarray`，与 `eri0_mo` $(pq|rs)^{\\sigma \\sigma'}$ 同理"
   ]
  },
  {
   "cell_type": "code",
   "execution_count": 23,
   "metadata": {
    "hidden": true
   },
   "outputs": [
    {
     "data": {
      "text/plain": [
       "(3, 12, 15, 15, 15, 15)"
      ]
     },
     "execution_count": 23,
     "metadata": {},
     "output_type": "execute_result"
    }
   ],
   "source": [
    "eri1_mo = gradh.eri1_mo\n",
    "eri1_mo.shape"
   ]
  },
  {
   "cell_type": "markdown",
   "metadata": {
    "heading_collapsed": true
   },
   "source": [
    "### 密度矩阵 $D_{\\mu \\nu}^\\sigma$"
   ]
  },
  {
   "cell_type": "markdown",
   "metadata": {
    "hidden": true
   },
   "source": [
    "- `D` $D_{\\mu \\nu}^\\sigma$, dim: $(\\sigma, \\mu, \\nu)$, type: `np.ndarray`\n",
    "\n",
    "$$\n",
    "D_{\\mu \\nu}^\\sigma = C_{\\mu p}^\\sigma C_{\\nu p}^\\sigma \\delta_{p \\in \\mathrm{occ}}^\\sigma\n",
    "$$"
   ]
  },
  {
   "cell_type": "code",
   "execution_count": 24,
   "metadata": {
    "hidden": true
   },
   "outputs": [
    {
     "data": {
      "text/plain": [
       "(2, 15, 15)"
      ]
     },
     "execution_count": 24,
     "metadata": {},
     "output_type": "execute_result"
    }
   ],
   "source": [
    "D = gradh.D\n",
    "D.shape"
   ]
  },
  {
   "cell_type": "code",
   "execution_count": 25,
   "metadata": {
    "hidden": true
   },
   "outputs": [
    {
     "data": {
      "text/plain": [
       "True"
      ]
     },
     "execution_count": 25,
     "metadata": {},
     "output_type": "execute_result"
    }
   ],
   "source": [
    "np.allclose(np.einsum(\"xup, xvp, xp -> xuv\", C, C, mo_occ), D)"
   ]
  },
  {
   "cell_type": "markdown",
   "metadata": {
    "hidden": true
   },
   "source": [
    "另一种验证方式是\n",
    "\n",
    "$$\n",
    "D_{\\mu \\nu}^\\sigma = C_{\\mu i}^\\sigma C_{\\nu i}^\\sigma\n",
    "$$\n",
    "\n",
    "但需要留意到，两种自旋的占据轨道数量并不相同；因此，不能像上面一行代码即可验证。"
   ]
  },
  {
   "cell_type": "code",
   "execution_count": 26,
   "metadata": {
    "hidden": true
   },
   "outputs": [
    {
     "data": {
      "text/plain": [
       "(True, True)"
      ]
     },
     "execution_count": 26,
     "metadata": {},
     "output_type": "execute_result"
    }
   ],
   "source": [
    "(\n",
    "    np.allclose(np.einsum(\"ui, vi -> uv\", Co[0], Co[0]), D[0]),\n",
    "    np.allclose(np.einsum(\"ui, vi -> uv\", Co[1], Co[1]), D[1])\n",
    ")"
   ]
  },
  {
   "cell_type": "markdown",
   "metadata": {
    "heading_collapsed": true
   },
   "source": [
    "### 库伦积分 $J_{\\mu \\nu}$ 与交换积分 $K_{\\mu \\nu}$"
   ]
  },
  {
   "cell_type": "markdown",
   "metadata": {
    "hidden": true
   },
   "source": [
    "该积分尽管常用，但以后不经常用该记号。通常以后会显式地写出如何从原子轨道与密度作张量缩并。\n",
    "\n",
    "该积分的定义与 RKS 相同。如果我们定义影响库伦积分的密度矩阵为 $X_{\\kappa \\lambda}$，那么\n",
    "\n",
    "- $J_{\\mu \\nu} = (\\mu \\nu | \\kappa \\lambda) X_{\\kappa \\lambda}$\n",
    "\n",
    "- $K_{\\mu \\nu} = (\\mu \\kappa | \\nu \\lambda) X_{\\kappa \\lambda}$"
   ]
  },
  {
   "cell_type": "code",
   "execution_count": 27,
   "metadata": {
    "hidden": true
   },
   "outputs": [],
   "source": [
    "X = np.random.randn(nao, nao)"
   ]
  },
  {
   "cell_type": "code",
   "execution_count": 28,
   "metadata": {
    "hidden": true
   },
   "outputs": [
    {
     "data": {
      "text/plain": [
       "True"
      ]
     },
     "execution_count": 28,
     "metadata": {},
     "output_type": "execute_result"
    }
   ],
   "source": [
    "np.allclose(np.einsum(\"uvkl, kl -> uv\", eri0_ao, X), scf_eng.get_j(dm=X))"
   ]
  },
  {
   "cell_type": "code",
   "execution_count": 29,
   "metadata": {
    "hidden": true
   },
   "outputs": [
    {
     "data": {
      "text/plain": [
       "True"
      ]
     },
     "execution_count": 29,
     "metadata": {},
     "output_type": "execute_result"
    }
   ],
   "source": [
    "np.allclose(np.einsum(\"ukvl, kl -> uv\", eri0_ao, X), scf_eng.get_k(dm=X, hermi=0))"
   ]
  },
  {
   "cell_type": "markdown",
   "metadata": {
    "heading_collapsed": true
   },
   "source": [
    "### 轨道与密度格点、泛函核格点"
   ]
  },
  {
   "cell_type": "markdown",
   "metadata": {
    "hidden": true
   },
   "source": [
    "- 轨道与密度格点仍然用 `grdh` 记号表示，但在文档中，会使用 `Tuple[GridHelper]` 类型储存，长度为 2。两个 `GridHelper` 类型分别代表 $\\alpha, \\beta$ 密度下的轨道与密度格点。在 pyxdh 程序中，使用 `zip[GridIterator]`。"
   ]
  },
  {
   "cell_type": "code",
   "execution_count": 30,
   "metadata": {
    "hidden": true
   },
   "outputs": [],
   "source": [
    "grdh = (GridHelper(mol, grids, D[0]), GridHelper(mol, grids, D[1]))"
   ]
  },
  {
   "cell_type": "code",
   "execution_count": 31,
   "metadata": {
    "hidden": true
   },
   "outputs": [
    {
     "data": {
      "text/plain": [
       "26836"
      ]
     },
     "execution_count": 31,
     "metadata": {},
     "output_type": "execute_result"
    }
   ],
   "source": [
    "ngrid = grdh[0].ngrid\n",
    "ngrid"
   ]
  },
  {
   "cell_type": "markdown",
   "metadata": {
    "hidden": true
   },
   "source": [
    "- 泛函核格点仍然用 `kerh` 记号表示"
   ]
  },
  {
   "cell_type": "code",
   "execution_count": 32,
   "metadata": {
    "hidden": true
   },
   "outputs": [],
   "source": [
    "kerh = KernelHelper(grdh, xc, deriv=3)"
   ]
  },
  {
   "cell_type": "markdown",
   "metadata": {
    "hidden": true
   },
   "source": [
    "但由于使用了带自旋密度，因此许多量与 RKS 稍有不同。简单的情况中，在 RKS 中为向量的 $f_\\rho$ 在这里变成两条向量 $(f_{\\rho^\\alpha}, f_{\\rho^\\beta})$。"
   ]
  },
  {
   "cell_type": "code",
   "execution_count": 33,
   "metadata": {
    "hidden": true
   },
   "outputs": [
    {
     "data": {
      "text/plain": [
       "array([[-0.     , -0.     , -0.     , ..., -0.01168, -0.01275, -0.01399],\n",
       "       [-0.     , -0.     , -0.     , ..., -0.01172, -0.01275, -0.014  ]])"
      ]
     },
     "execution_count": 33,
     "metadata": {},
     "output_type": "execute_result"
    }
   ],
   "source": [
    "kerh.fr"
   ]
  },
  {
   "cell_type": "markdown",
   "metadata": {
    "hidden": true
   },
   "source": [
    "而 $f_{\\gamma}$ 则分为了 $(f_{\\gamma^{\\alpha \\alpha}}, f_{\\gamma^{\\alpha \\beta}}, f_{\\gamma^{\\beta \\beta}})$。"
   ]
  },
  {
   "cell_type": "code",
   "execution_count": 34,
   "metadata": {
    "hidden": true
   },
   "outputs": [
    {
     "data": {
      "text/plain": [
       "array([[-0.     , -0.     , -0.     , ..., -0.36551, -0.46675, -0.43452],\n",
       "       [ 0.     ,  0.     ,  0.     , ...,  0.21322,  0.34198,  0.32137],\n",
       "       [-0.     , -0.     , -0.     , ..., -0.36812, -0.43788, -0.4247 ]])"
      ]
     },
     "execution_count": 34,
     "metadata": {},
     "output_type": "execute_result"
    }
   ],
   "source": [
    "kerh.fg"
   ]
  },
  {
   "cell_type": "markdown",
   "metadata": {
    "hidden": true
   },
   "source": [
    "我们下面系统地整理一下 PySCF 中对泛函核导数的 [说明](http://pyscf.org/pyscf/dft.html#pyscf.dft.libxc.eval_xc):"
   ]
  },
  {
   "cell_type": "markdown",
   "metadata": {
    "hidden": true
   },
   "source": [
    "- `exc` $f$ 与 RKS 较为接近"
   ]
  },
  {
   "cell_type": "code",
   "execution_count": 35,
   "metadata": {
    "hidden": true
   },
   "outputs": [
    {
     "data": {
      "text/plain": [
       "(26836,)"
      ]
     },
     "execution_count": 35,
     "metadata": {},
     "output_type": "execute_result"
    }
   ],
   "source": [
    "kerh.exc.shape"
   ]
  },
  {
   "cell_type": "markdown",
   "metadata": {
    "hidden": true
   },
   "source": [
    "- `fr` 2: `u, d`\n",
    "\n",
    "    - $f_{\\rho^\\alpha}, f_{\\rho^\\beta}$\n",
    "\n",
    "- `fg` 3: `uu, ud, dd`\n",
    "\n",
    "    - $f_{\\gamma^{\\alpha \\alpha}}, f_{\\gamma^{\\alpha \\beta}}, f_{\\gamma^{\\beta \\beta}}$"
   ]
  },
  {
   "cell_type": "code",
   "execution_count": 36,
   "metadata": {
    "hidden": true
   },
   "outputs": [
    {
     "data": {
      "text/plain": [
       "(2, 3)"
      ]
     },
     "execution_count": 36,
     "metadata": {},
     "output_type": "execute_result"
    }
   ],
   "source": [
    "kerh.fr.shape[0], kerh.fg.shape[0]"
   ]
  },
  {
   "cell_type": "markdown",
   "metadata": {
    "hidden": true
   },
   "source": [
    "- `frr` 3: `u_u, u_d, d_d`\n",
    "\n",
    "    - $f_{\\rho^\\alpha \\rho^\\alpha}, f_{\\rho^\\alpha \\rho^\\beta}, f_{\\rho^\\beta \\rho^\\beta}$\n",
    "\n",
    "- `frg` 6: `u_uu, u_ud, u_dd, d_uu, d_ud, d_dd`\n",
    "\n",
    "    - $f_{\\rho^\\alpha \\gamma^{\\alpha \\alpha}}, f_{\\rho^\\alpha \\gamma^{\\alpha \\beta}}, f_{\\rho^\\alpha \\gamma^{\\beta \\beta}}, f_{\\rho^\\beta \\gamma^{\\alpha \\alpha}}, f_{\\rho^\\beta \\gamma^{\\alpha \\beta}}, f_{\\rho^\\beta \\gamma^{\\beta \\beta}}$\n",
    "\n",
    "- `fgg` 6: `uu_uu, uu_ud, uu_dd, ud_ud, ud_dd, dd_dd`\n",
    "\n",
    "    - $f_{\\gamma^{\\alpha \\alpha} \\gamma^{\\alpha \\alpha}}, f_{\\gamma^{\\alpha \\alpha} \\gamma^{\\alpha \\beta}}, f_{\\gamma^{\\alpha \\alpha} \\gamma^{\\beta \\beta}}, f_{\\gamma^{\\alpha \\beta} \\gamma^{\\alpha \\beta}}, f_{\\gamma^{\\alpha \\beta} \\gamma^{\\beta \\beta}}, f_{\\gamma^{\\beta \\beta} \\gamma^{\\beta \\beta}}$"
   ]
  },
  {
   "cell_type": "code",
   "execution_count": 37,
   "metadata": {
    "hidden": true
   },
   "outputs": [
    {
     "data": {
      "text/plain": [
       "(3, 6, 6)"
      ]
     },
     "execution_count": 37,
     "metadata": {},
     "output_type": "execute_result"
    }
   ],
   "source": [
    "kerh.frr.shape[0], kerh.frg.shape[0], kerh.fgg.shape[0]"
   ]
  },
  {
   "cell_type": "markdown",
   "metadata": {
    "hidden": true
   },
   "source": [
    "- `frrr` 4: `u_u_u, u_u_d, u_d_d, d_d_d`\n",
    "\n",
    "    - $f_{\\rho^\\alpha \\rho^\\alpha \\rho^\\alpha}, f_{\\rho^\\alpha \\rho^\\alpha \\rho^\\beta}, f_{\\rho^\\alpha \\rho^\\beta \\rho^\\beta}, f_{\\rho^\\beta \\rho^\\beta \\rho^\\beta}$\n",
    "\n",
    "- `frrg` 9: `u_u_uu, u_u_ud, u_u_dd, u_d_uu, u_d_ud, u_d_dd, d_d_uu, d_d_ud, d_d_dd`\n",
    "\n",
    "    - $f_{\\rho^\\alpha \\rho^\\alpha \\gamma^{\\alpha \\alpha}}, f_{\\rho^\\alpha \\rho^\\alpha \\gamma^{\\alpha \\beta}}, f_{\\rho^\\alpha \\rho^\\alpha \\gamma^{\\beta \\beta}}, f_{\\rho^\\alpha \\rho^\\beta \\gamma^{\\alpha \\alpha}}, f_{\\rho^\\alpha \\rho^\\beta \\gamma^{\\alpha \\beta}}, f_{\\rho^\\alpha \\rho^\\beta \\gamma^{\\beta \\beta}}, f_{\\rho^\\beta \\rho^\\beta \\gamma^{\\alpha \\alpha}}, f_{\\rho^\\beta \\rho^\\beta \\gamma^{\\alpha \\beta}}, f_{\\rho^\\beta \\rho^\\beta \\gamma^{\\beta \\beta}}$\n",
    "\n",
    "- `frgg` 12: `u_uu_uu, u_uu_ud, u_uu_dd, u_ud_ud, u_ud_dd, u_dd_dd, d_uu_uu, d_uu_ud, d_uu_dd, d_ud_ud, d_ud_dd, d_dd_dd`\n",
    "\n",
    "    - $f_{\\rho^\\alpha \\gamma^{\\alpha \\alpha} \\gamma^{\\alpha \\alpha}}, f_{\\rho^\\alpha \\gamma^{\\alpha \\alpha} \\gamma^{\\alpha \\beta}}, f_{\\rho^\\alpha \\gamma^{\\alpha \\alpha} \\gamma^{\\beta \\beta}}, f_{\\rho^\\alpha \\gamma^{\\alpha \\beta} \\gamma^{\\alpha \\beta}}, f_{\\rho^\\alpha \\gamma^{\\alpha \\beta} \\gamma^{\\beta \\beta}}, f_{\\rho^\\alpha \\gamma^{\\beta \\beta} \\gamma^{\\beta \\beta}}, f_{\\rho^\\beta \\gamma^{\\alpha \\alpha} \\gamma^{\\alpha \\alpha}}, f_{\\rho^\\beta \\gamma^{\\alpha \\alpha} \\gamma^{\\alpha \\beta}}, f_{\\rho^\\beta \\gamma^{\\alpha \\alpha} \\gamma^{\\beta \\beta}}, f_{\\rho^\\beta \\gamma^{\\alpha \\beta} \\gamma^{\\alpha \\beta}}, f_{\\rho^\\beta \\gamma^{\\alpha \\beta} \\gamma^{\\beta \\beta}}, f_{\\rho^\\beta \\gamma^{\\beta \\beta} \\gamma^{\\beta \\beta}}$\n",
    "\n",
    "- `fggg` 10: `uu_uu_uu, uu_uu_ud, uu_uu_dd, uu_ud_ud, uu_ud_dd, uu_dd_dd, ud_ud_ud, ud_ud_dd, ud_dd_dd, dd_dd_dd`\n",
    "\n",
    "    - $f_{\\gamma^{\\alpha \\alpha} \\gamma^{\\alpha \\alpha} \\gamma^{\\alpha \\alpha}}, f_{\\gamma^{\\alpha \\alpha} \\gamma^{\\alpha \\alpha} \\gamma^{\\alpha \\beta}}, f_{\\gamma^{\\alpha \\alpha} \\gamma^{\\alpha \\alpha} \\gamma^{\\beta \\beta}}, f_{\\gamma^{\\alpha \\alpha} \\gamma^{\\alpha \\beta} \\gamma^{\\alpha \\beta}}, f_{\\gamma^{\\alpha \\alpha} \\gamma^{\\alpha \\beta} \\gamma^{\\beta \\beta}}, f_{\\gamma^{\\alpha \\alpha} \\gamma^{\\beta \\beta} \\gamma^{\\beta \\beta}}, f_{\\gamma^{\\alpha \\beta} \\gamma^{\\alpha \\beta} \\gamma^{\\alpha \\beta}}, f_{\\gamma^{\\alpha \\beta} \\gamma^{\\alpha \\beta} \\gamma^{\\beta \\beta}}, f_{\\gamma^{\\alpha \\beta} \\gamma^{\\beta \\beta} \\gamma^{\\beta \\beta}}, f_{\\gamma^{\\beta \\beta} \\gamma^{\\beta \\beta} \\gamma^{\\beta \\beta}}$"
   ]
  },
  {
   "cell_type": "code",
   "execution_count": 38,
   "metadata": {
    "hidden": true
   },
   "outputs": [
    {
     "data": {
      "text/plain": [
       "(4, 9, 12, 10)"
      ]
     },
     "execution_count": 38,
     "metadata": {},
     "output_type": "execute_result"
    }
   ],
   "source": [
    "kerh.frrr.shape[0], kerh.frrg.shape[0], kerh.frgg.shape[0], kerh.fggg.shape[0]"
   ]
  },
  {
   "cell_type": "markdown",
   "metadata": {
    "heading_collapsed": true
   },
   "source": [
    "### 能量计算"
   ]
  },
  {
   "cell_type": "markdown",
   "metadata": {
    "hidden": true
   },
   "source": [
    "$$\n",
    "E_\\mathrm{elec} = h_{\\mu \\nu} D_{\\mu \\nu}^\\sigma + \\frac{1}{2} (\\mu \\nu | \\kappa \\lambda) D_{\\mu \\nu}^\\sigma D_{\\kappa \\lambda}^{\\sigma'} - \\frac{c_\\mathrm{x}}{2} (\\mu \\kappa | \\nu \\lambda) D_{\\mu \\nu}^\\sigma D_{\\kappa \\lambda}^\\sigma + f \\rho^\\sigma\n",
    "$$"
   ]
  },
  {
   "cell_type": "code",
   "execution_count": 39,
   "metadata": {
    "hidden": true
   },
   "outputs": [
    {
     "data": {
      "text/plain": [
       "-47.22493668809642"
      ]
     },
     "execution_count": 39,
     "metadata": {},
     "output_type": "execute_result"
    }
   ],
   "source": [
    "(\n",
    "    + np.einsum(\"uv, xuv -> \", H_0_ao, D)\n",
    "    + 0.5 * np.einsum(\"uvkl, xuv, ykl -> \", eri0_ao, D, D)\n",
    "    - 0.5 * cx * np.einsum(\"ukvl, xuv, xkl -> \", eri0_ao, D, D)\n",
    "    + np.einsum(\"g, g -> \", kerh.exc, grdh[0].rho_0)\n",
    "    + np.einsum(\"g, g -> \", kerh.exc, grdh[1].rho_0)\n",
    ")"
   ]
  },
  {
   "cell_type": "code",
   "execution_count": 40,
   "metadata": {
    "hidden": true
   },
   "outputs": [
    {
     "data": {
      "text/plain": [
       "-47.22493669052412"
      ]
     },
     "execution_count": 40,
     "metadata": {},
     "output_type": "execute_result"
    }
   ],
   "source": [
    "scf_eng.energy_elec()[0]"
   ]
  },
  {
   "cell_type": "markdown",
   "metadata": {
    "heading_collapsed": true
   },
   "source": [
    "### Fock 矩阵"
   ]
  },
  {
   "cell_type": "markdown",
   "metadata": {
    "hidden": true
   },
   "source": [
    "- `F_0_ao` $F_{\\mu \\nu}^\\sigma$, dim: $(\\sigma, \\mu, \\nu)$, type: `np.ndarray`\n",
    "\n",
    "$$\n",
    "F_{\\mu \\nu}^\\sigma \\xleftarrow{\\textsf{HF contrib}} h_{\\mu \\nu} + (\\mu \\nu | \\kappa \\lambda) D_{\\kappa \\lambda}^{\\sigma'} - c_\\mathrm{x} (\\mu \\kappa | \\nu \\lambda) D_{\\kappa \\lambda}^\\sigma\n",
    "$$\n",
    "\n",
    "$$\n",
    "F_{\\mu \\nu}^\\alpha \\xleftarrow{\\textsf{GGA contrib}} f_{\\rho^\\alpha} \\phi_\\mu \\phi_\\nu + \\big[ (2 f_{\\gamma^{\\alpha \\alpha}} \\rho_r^\\alpha + f_{\\gamma^{\\alpha \\beta}} \\rho_r^{\\beta}) \\phi_{r \\mu} \\phi_\\nu + \\mathrm{swap} (\\mu, \\nu) \\big]\n",
    "$$\n",
    "\n",
    "需要注意，不像其他电子积分的原子轨道矩阵一样，Fock 矩阵是有自旋之分的。生成 Fock 矩阵的过程稍复杂，因此我们需要将 HF 贡献部分先计算，随后计算 GGA 贡献部分，最后加和。"
   ]
  },
  {
   "cell_type": "code",
   "execution_count": 41,
   "metadata": {
    "hidden": true
   },
   "outputs": [
    {
     "data": {
      "text/plain": [
       "(2, 15, 15)"
      ]
     },
     "execution_count": 41,
     "metadata": {},
     "output_type": "execute_result"
    }
   ],
   "source": [
    "F_0_ao = gradh.F_0_ao\n",
    "F_0_ao.shape"
   ]
  },
  {
   "cell_type": "code",
   "execution_count": 42,
   "metadata": {
    "hidden": true
   },
   "outputs": [],
   "source": [
    "F_0_ao_ = (\n",
    "    + H_0_ao\n",
    "    + np.einsum(\"uvkl, ykl -> uv\", eri0_ao, D)\n",
    "    - cx * np.einsum(\"ukvl, xkl -> xuv\", eri0_ao, D)\n",
    ")"
   ]
  },
  {
   "cell_type": "code",
   "execution_count": 43,
   "metadata": {
    "hidden": true,
    "scrolled": true
   },
   "outputs": [],
   "source": [
    "F_0_ao_GGA_ = np.zeros_like(F_0_ao_)\n",
    "F_0_ao_GGA_[0] = (\n",
    "    + 2 * np.einsum(\"g, rg, rgu, gv -> uv\", kerh.fg[0], grdh[0].rho_1, grdh[0].ao_1, grdh[0].ao_0)\n",
    "    + np.einsum(\"g, rg, rgu, gv -> uv\", kerh.fg[1], grdh[1].rho_1, grdh[0].ao_1, grdh[0].ao_0)\n",
    ")\n",
    "F_0_ao_GGA_[1] = (\n",
    "    + 2 * np.einsum(\"g, rg, rgu, gv -> uv\", kerh.fg[2], grdh[1].rho_1, grdh[0].ao_1, grdh[0].ao_0)\n",
    "    + np.einsum(\"g, rg, rgu, gv -> uv\", kerh.fg[1], grdh[0].rho_1, grdh[0].ao_1, grdh[0].ao_0)\n",
    ")\n",
    "F_0_ao_GGA_ += F_0_ao_GGA_.swapaxes(-1, -2)\n",
    "F_0_ao_GGA_ += np.einsum(\"xg, gu, gv -> xuv\", kerh.fr, grdh[0].ao_0, grdh[0].ao_0)"
   ]
  },
  {
   "cell_type": "code",
   "execution_count": 44,
   "metadata": {
    "hidden": true
   },
   "outputs": [],
   "source": [
    "F_0_ao_ += F_0_ao_GGA_"
   ]
  },
  {
   "cell_type": "code",
   "execution_count": 45,
   "metadata": {
    "hidden": true
   },
   "outputs": [
    {
     "data": {
      "text/plain": [
       "True"
      ]
     },
     "execution_count": 45,
     "metadata": {},
     "output_type": "execute_result"
    }
   ],
   "source": [
    "np.allclose(F_0_ao_, F_0_ao)"
   ]
  },
  {
   "cell_type": "markdown",
   "metadata": {
    "hidden": true
   },
   "source": [
    "- `F_0_ao` $F_{pq}^\\sigma$, dim: $(\\sigma, p, q)$, type: `np.ndarray`\n",
    "\n",
    "$$\n",
    "F_{pq}^\\sigma = F_{\\mu \\nu}^\\sigma C_{\\mu p}^\\sigma C_{\\nu q}^\\sigma\n",
    "$$"
   ]
  },
  {
   "cell_type": "code",
   "execution_count": 46,
   "metadata": {
    "hidden": true
   },
   "outputs": [
    {
     "data": {
      "text/plain": [
       "(2, 15, 15)"
      ]
     },
     "execution_count": 46,
     "metadata": {},
     "output_type": "execute_result"
    }
   ],
   "source": [
    "F_0_mo = gradh.F_0_mo\n",
    "F_0_mo.shape"
   ]
  },
  {
   "cell_type": "code",
   "execution_count": 47,
   "metadata": {
    "hidden": true
   },
   "outputs": [
    {
     "data": {
      "text/plain": [
       "True"
      ]
     },
     "execution_count": 47,
     "metadata": {},
     "output_type": "execute_result"
    }
   ],
   "source": [
    "np.allclose(np.einsum(\"xuv, xup, xvq -> xpq\", F_0_ao, C, C), F_0_mo)"
   ]
  },
  {
   "cell_type": "markdown",
   "metadata": {},
   "source": [
    "## 一阶 Skeleton 导数"
   ]
  },
  {
   "cell_type": "markdown",
   "metadata": {
    "heading_collapsed": true
   },
   "source": [
    "### 一阶核坐标梯度"
   ]
  },
  {
   "cell_type": "markdown",
   "metadata": {
    "hidden": true
   },
   "source": [
    "$$\n",
    "E_\\mathrm{tot}^\\mathbb{A} \\xleftarrow{\\textsf{HF/nuc contrib}} h_{\\mu \\nu}^\\mathbb{A} D_{\\mu \\nu}^\\sigma + \\frac{1}{2} (\\mu \\nu | \\kappa \\lambda)^\\mathbb{A} D_{\\mu \\nu}^\\sigma D_{\\kappa \\lambda}^{\\sigma'} - \\frac{c_\\mathrm{x}}{2} (\\mu \\kappa | \\nu \\lambda)^\\mathbb{A} D_{\\mu \\nu}^\\sigma D_{\\kappa \\lambda}^{\\sigma} - S_{i}^{\\mathbb{A}, \\sigma} \\varepsilon_{i}^\\sigma + E_\\mathrm{nuc}^\\mathbb{A}\n",
    "$$"
   ]
  },
  {
   "cell_type": "markdown",
   "metadata": {
    "hidden": true
   },
   "source": [
    "$$\n",
    "E_\\mathrm{tot}^\\mathbb{A} \\xleftarrow{\\textsf{GGA contrib}} f_{\\rho^\\alpha} \\rho^{\\mathbb{A}, \\alpha} + 2 f_{\\gamma^{\\alpha \\alpha}} \\rho_r^{\\alpha} \\rho_r^{\\mathbb{A}, \\alpha} + f_{\\gamma^{\\alpha \\beta}} \\rho_r^{\\beta} \\rho_r^{\\mathbb{A}, \\beta} + \\mathrm{swap} (\\alpha, \\beta)\n",
    "$$"
   ]
  },
  {
   "cell_type": "code",
   "execution_count": 48,
   "metadata": {
    "hidden": true
   },
   "outputs": [
    {
     "data": {
      "text/plain": [
       "array([[ 0.06565, -0.08058, -0.11324],\n",
       "       [-0.0919 ,  0.01814,  0.02577],\n",
       "       [ 0.00907,  0.05126,  0.00839],\n",
       "       [ 0.01718,  0.01118,  0.07909]])"
      ]
     },
     "execution_count": 48,
     "metadata": {},
     "output_type": "execute_result"
    }
   ],
   "source": [
    "E_1 = gradh.E_1\n",
    "E_1"
   ]
  },
  {
   "cell_type": "code",
   "execution_count": 49,
   "metadata": {
    "hidden": true
   },
   "outputs": [],
   "source": [
    "E_1_ = (\n",
    "    + np.einsum(\"Auv, xuv -> A\", H_1_ao, D)\n",
    "    + 0.5 * np.einsum(\"Auvkl, yuv, xkl -> A\", eri1_ao, D, D)\n",
    "    - 0.5 * cx * np.einsum(\"Aukvl, xuv, xkl -> A\", eri1_ao, D, D)\n",
    "    # - np.einsum(\"xApq, xpq, xp, xq -> A\", S_1_mo, F_0_mo, mo_occ, mo_occ)\n",
    "    - np.einsum(\"Ai, i -> A\", S_1_mo[0, :, so[0], so[0]].diagonal(axis1=-1, axis2=-2), eo[0])\n",
    "    - np.einsum(\"Ai, i -> A\", S_1_mo[1, :, so[1], so[1]].diagonal(axis1=-1, axis2=-2), eo[1])\n",
    "    + grad.rhf.grad_nuc(mol).reshape(-1)\n",
    ").reshape((natm, 3))"
   ]
  },
  {
   "cell_type": "code",
   "execution_count": 50,
   "metadata": {
    "hidden": true
   },
   "outputs": [],
   "source": [
    "E_1_ += (\n",
    "    + np.einsum(\"g, Atg -> At\", kerh.fr[0], grdh[0].A_rho_1)\n",
    "    + np.einsum(\"g, Atg -> At\", kerh.fr[1], grdh[1].A_rho_1)\n",
    "    + 2 * np.einsum(\"g, rg, Atrg -> At\", kerh.fg[0], grdh[0].rho_1, grdh[0].A_rho_2)\n",
    "    + 2 * np.einsum(\"g, rg, Atrg -> At\", kerh.fg[2], grdh[1].rho_1, grdh[1].A_rho_2)\n",
    "    + 1 * np.einsum(\"g, rg, Atrg -> At\", kerh.fg[1], grdh[1].rho_1, grdh[0].A_rho_2)\n",
    "    + 1 * np.einsum(\"g, rg, Atrg -> At\", kerh.fg[1], grdh[0].rho_1, grdh[1].A_rho_2)\n",
    ")"
   ]
  },
  {
   "cell_type": "code",
   "execution_count": 51,
   "metadata": {
    "hidden": true
   },
   "outputs": [
    {
     "data": {
      "text/plain": [
       "array([[ 0.06565, -0.08058, -0.11324],\n",
       "       [-0.0919 ,  0.01814,  0.02577],\n",
       "       [ 0.00907,  0.05126,  0.00839],\n",
       "       [ 0.01718,  0.01118,  0.07909]])"
      ]
     },
     "execution_count": 51,
     "metadata": {},
     "output_type": "execute_result"
    }
   ],
   "source": [
    "E_1"
   ]
  },
  {
   "cell_type": "markdown",
   "metadata": {
    "heading_collapsed": true
   },
   "source": [
    "### Fock Skeleton 一阶导数：HF 部分"
   ]
  },
  {
   "cell_type": "markdown",
   "metadata": {
    "hidden": true
   },
   "source": [
    "- `F_1_ao` $F_{\\mu \\nu}^{\\mathbb{A}, \\sigma}$, dim: $(\\sigma, \\mathbb{A}, \\mu, \\nu)$, type: `np.ndarray`"
   ]
  },
  {
   "cell_type": "code",
   "execution_count": 52,
   "metadata": {
    "hidden": true
   },
   "outputs": [
    {
     "data": {
      "text/plain": [
       "(2, 12, 15, 15)"
      ]
     },
     "execution_count": 52,
     "metadata": {},
     "output_type": "execute_result"
    }
   ],
   "source": [
    "F_1_ao = gradh.F_1_ao\n",
    "F_1_ao.shape"
   ]
  },
  {
   "cell_type": "markdown",
   "metadata": {
    "hidden": true
   },
   "source": [
    "该式的推导方式比 RKS 的情形要复杂很多。我们首先需要定义变量\n",
    "\n",
    "- `A_gamma_1` $\\gamma^{\\mathbb{A}, \\sigma \\sigma'}$, dim: $(\\sigma \\sigma', A, t, g)$, type: `np.ndarray`\n",
    "\n",
    "$$\n",
    "\\gamma^{\\mathbb{A}, \\sigma \\sigma'} = \\rho_r^{\\mathbb{A}, \\sigma} \\rho_r^{\\sigma'} + \\rho_r^{\\mathbb{A}, \\sigma'} \\rho_r^{\\sigma}\n",
    "$$"
   ]
  },
  {
   "cell_type": "code",
   "execution_count": 53,
   "metadata": {
    "hidden": true
   },
   "outputs": [],
   "source": [
    "A_gamma_1 = np.zeros((3, natm, 3, grdh[0].ngrid))\n",
    "A_gamma_1[0] = 2 * np.einsum(\"Atrg, rg -> Atg\", grdh[0].A_rho_2, grdh[0].rho_1)\n",
    "A_gamma_1[1] = (\n",
    "    + np.einsum(\"Atrg, rg -> Atg\", grdh[0].A_rho_2, grdh[1].rho_1)\n",
    "    + np.einsum(\"Atrg, rg -> Atg\", grdh[1].A_rho_2, grdh[0].rho_1)\n",
    ")\n",
    "A_gamma_1[2] = 2 * np.einsum(\"Atrg, rg -> Atg\", grdh[1].A_rho_2, grdh[1].rho_1)"
   ]
  },
  {
   "cell_type": "markdown",
   "metadata": {
    "hidden": true
   },
   "source": [
    "我们之后生成的 Fock 矩阵的 Skeleton 导数会放在变量 `F_1_ao_` 中 (后面加上下划线以示区别)。HF 部分的贡献相当容易给出："
   ]
  },
  {
   "cell_type": "markdown",
   "metadata": {
    "hidden": true
   },
   "source": [
    "$$\n",
    "F_{\\mu \\nu}^{\\mathbb{A}, \\sigma} \\xleftarrow{\\textsf{HF contrib}} h_{\\mu \\nu}^\\mathbb{A} + (\\mu \\nu | \\kappa \\lambda)^\\mathbb{A} D_{\\kappa \\lambda}^{\\sigma'} - c_\\mathrm{x} (\\mu \\kappa | \\nu \\lambda)^\\mathbb{A} D_{\\kappa \\lambda}^\\sigma\n",
    "$$"
   ]
  },
  {
   "cell_type": "code",
   "execution_count": 54,
   "metadata": {
    "hidden": true
   },
   "outputs": [],
   "source": [
    "F_1_ao_ = (\n",
    "    + H_1_ao\n",
    "    + np.einsum(\"Auvkl, ykl -> Auv\", eri1_ao, D)\n",
    "    - cx * np.einsum(\"Aukvl, xkl -> xAuv\", eri1_ao, D)\n",
    ")"
   ]
  },
  {
   "cell_type": "markdown",
   "metadata": {
    "heading_collapsed": true
   },
   "source": [
    "### Fock Skeleton 一阶导数：GGA $\\alpha$ 自旋部分"
   ]
  },
  {
   "cell_type": "markdown",
   "metadata": {
    "hidden": true
   },
   "source": [
    "GGA 部分的贡献会很复杂。我们先回顾一下 GGA 对 Fock 矩阵的贡献方式："
   ]
  },
  {
   "cell_type": "markdown",
   "metadata": {
    "hidden": true
   },
   "source": [
    "$$\n",
    "F_{\\mu \\nu}^\\alpha \\xleftarrow{\\textsf{GGA contrib}} f_{\\rho^\\alpha} \\phi_\\mu \\phi_\\nu + \\big[ (2 f_{\\gamma^{\\alpha \\alpha}} \\rho_r^\\alpha + f_{\\gamma^{\\alpha \\beta}} \\rho_r^{\\beta}) \\phi_{r \\mu} \\phi_\\nu + \\mathrm{swap} (\\mu, \\nu) \\big]\n",
    "$$"
   ]
  },
  {
   "cell_type": "markdown",
   "metadata": {
    "hidden": true
   },
   "source": [
    "我们按照下述方式给出 Skeleton 导数。\n",
    "\n",
    "- 0：$f_{\\rho^\\alpha}$ 的所有 Skeleton 导数贡献\n",
    "\n",
    "- 1：$f_{\\gamma^{\\alpha \\beta}}$ 关于 $\\rho^\\sigma$ 的所有偏导部分的 Skeleton 导数贡献\n",
    "\n",
    "- 2：$f_{\\gamma^{\\alpha \\beta}}$ 关于 $\\gamma^{\\sigma \\sigma'}$ 的所有偏导部分的 Skeleton 导数贡献\n",
    "\n",
    "- 3：上式中出现的 $\\rho_r^\\sigma$ 的 Skeleton 导数贡献\n",
    "\n",
    "- 4：上式中出现的原子轨道格点的 Skeleton 导数贡献"
   ]
  },
  {
   "cell_type": "markdown",
   "metadata": {
    "hidden": true
   },
   "source": [
    "$$\n",
    "F_{\\mu \\nu}^{\\mathbb{A}, \\alpha} \\xleftarrow{\\textsf{GGA contrib 0}} \n",
    "\\left[\n",
    "f_{\\rho^\\alpha \\rho^\\alpha} \\rho^{\\mathbb{A}, \\alpha}\n",
    "+ f_{\\rho^\\alpha \\rho^\\beta} \\rho^{\\mathbb{A}, \\beta}\n",
    "+ f_{\\rho^\\alpha \\gamma^{\\alpha \\alpha}} \\gamma^{\\mathbb{A}, \\alpha \\alpha}\n",
    "+ f_{\\rho^\\alpha \\gamma^{\\alpha \\beta}} \\gamma^{\\mathbb{A}, \\alpha \\beta}\n",
    "+ f_{\\rho^\\alpha \\gamma^{\\beta \\beta}} \\gamma^{\\mathbb{A}, \\beta \\beta}\n",
    "\\right] \\phi_\\mu \\phi_\\nu\n",
    "$$"
   ]
  },
  {
   "cell_type": "markdown",
   "metadata": {
    "hidden": true
   },
   "source": [
    "$$\n",
    "F_{\\mu \\nu}^{\\mathbb{A}, \\alpha} \\xleftarrow{\\textsf{GGA contrib 1}}\n",
    "\\big[\n",
    "(2 f_{\\rho^\\alpha \\gamma^{\\alpha \\alpha}} \\rho_r^\\alpha + f_{\\rho^\\alpha \\gamma^{\\alpha \\beta}} \\rho_r^{\\beta}) \\rho^{\\mathbb{A}, \\alpha}\n",
    "+ (2 f_{\\rho^\\beta \\gamma^{\\alpha \\alpha}} \\rho_r^\\alpha + f_{\\rho^\\beta \\gamma^{\\alpha \\beta}} \\rho_r^{\\beta}) \\rho^{\\mathbb{A}, \\beta}\n",
    "\\big] \\phi_{r \\mu} \\phi_\\nu\n",
    "+ \\mathrm{swap} (\\mu, \\nu)\n",
    "$$"
   ]
  },
  {
   "cell_type": "markdown",
   "metadata": {
    "hidden": true
   },
   "source": [
    "$$\n",
    "F_{\\mu \\nu}^{\\mathbb{A}, \\alpha} \\xleftarrow{\\textsf{GGA contrib 2}}\n",
    "\\big[\n",
    "(2 f_{\\gamma^{\\alpha \\alpha} \\gamma^{\\alpha \\alpha}} \\rho_r^\\alpha + f_{\\gamma^{\\alpha \\beta} \\gamma^{\\alpha \\alpha}} \\rho_r^\\beta)  \\gamma^{\\mathbb{A}, \\alpha \\alpha}\n",
    "+ (2 f_{\\gamma^{\\alpha \\alpha} \\gamma^{\\alpha \\beta}} \\rho_r^\\alpha + f_{\\gamma^{\\alpha \\beta} \\gamma^{\\alpha \\beta}} \\rho_r^\\beta)  \\gamma^{\\mathbb{A}, \\alpha \\beta}\n",
    "+ (2 f_{\\gamma^{\\alpha \\alpha} \\gamma^{\\beta \\beta}} \\rho_r^\\alpha + f_{\\gamma^{\\alpha \\beta} \\gamma^{\\beta \\beta}} \\rho_r^\\beta) \\gamma^{\\mathbb{A}, \\beta \\beta}\n",
    "\\big] \\phi_{r \\mu} \\phi_\\nu\n",
    "+ \\mathrm{swap} (\\mu, \\nu)\n",
    "$$"
   ]
  },
  {
   "cell_type": "markdown",
   "metadata": {
    "hidden": true
   },
   "source": [
    "$$\n",
    "F_{\\mu \\nu}^{\\mathbb{A}, \\alpha} \\xleftarrow{\\textsf{GGA contrib 3}}\n",
    "\\big[\n",
    "2 f_{\\gamma^{\\alpha \\alpha}} \\rho_r^{\\mathbb{A}, \\alpha} + f_{\\gamma^{\\alpha \\beta}} \\rho_r^{\\mathbb{A}, \\beta}\n",
    "\\big] \\phi_{r \\mu} \\phi_\\nu\n",
    "+ \\mathrm{swap} (\\mu, \\nu)\n",
    "$$"
   ]
  },
  {
   "cell_type": "markdown",
   "metadata": {
    "hidden": true
   },
   "source": [
    "$$\n",
    "F_{\\mu \\nu}^{A_t, \\alpha} \\xleftarrow{\\textsf{GGA contrib 4}}\n",
    "- \\big[\n",
    "f_{\\rho^\\alpha} \\phi_{t \\mu_A} \\phi_\\nu\n",
    "+ (2 f_{\\gamma^{\\alpha \\alpha}} \\rho_r^\\alpha + f_{\\gamma^{\\alpha \\beta}} \\rho_r^{\\beta}) (\\phi_{tr \\mu_A} \\phi_\\nu + \\phi_{t \\mu_A} \\phi_{r \\nu})\n",
    "\\big] + \\mathrm{swap} (\\mu, \\nu)\n",
    "$$"
   ]
  },
  {
   "cell_type": "markdown",
   "metadata": {
    "hidden": true
   },
   "source": [
    "由于两种自旋所取用泛函核不同，因此 $\\alpha, \\beta$ 两种自旋对 Fock 矩阵 Skeleton 导数的贡献代码应当要分开写。我们将所有 $\\alpha$ 自旋下，GGA 的所有贡献写到 `F_1_ao_GGA_alpha_` 中。\n",
    "\n",
    "- `F_1_ao_GGA_alpha_`, type: `List[np.ndarray]`; for each element in list, dim: $(A, t, \\mu, \\nu)$\n",
    "\n",
    "    - 之所以每个列表元素的维度不是 $(\\mathbb{A}, \\mu, \\nu)$，单纯地是因为在 `GridHelper` 中的所有格点导数均采用 $(A, t)$ 即 $(n_\\mathrm{Atom}, 3)$ 的维度大小的形式，而不是使用 pyxdh 项目中通常会用的 $(\\mathbb{A}, )$ 即 $(n_\\mathrm{Atom} \\times 3, )$ 的形式。"
   ]
  },
  {
   "cell_type": "code",
   "execution_count": 55,
   "metadata": {
    "hidden": true
   },
   "outputs": [],
   "source": [
    "F_1_ao_GGA_alpha_ = [None for _ in range(5)]"
   ]
  },
  {
   "cell_type": "markdown",
   "metadata": {
    "hidden": true
   },
   "source": [
    "$$\n",
    "F_{\\mu \\nu}^{\\mathbb{A}, \\alpha} \\xleftarrow{\\textsf{GGA contrib 0}} \n",
    "\\left[\n",
    "f_{\\rho^\\alpha \\rho^\\alpha} \\rho^{\\mathbb{A}, \\alpha}\n",
    "+ f_{\\rho^\\alpha \\rho^\\beta} \\rho^{\\mathbb{A}, \\beta}\n",
    "+ f_{\\rho^\\alpha \\gamma^{\\alpha \\alpha}} \\gamma^{\\mathbb{A}, \\alpha \\alpha}\n",
    "+ f_{\\rho^\\alpha \\gamma^{\\alpha \\beta}} \\gamma^{\\mathbb{A}, \\alpha \\beta}\n",
    "+ f_{\\rho^\\alpha \\gamma^{\\beta \\beta}} \\gamma^{\\mathbb{A}, \\beta \\beta}\n",
    "\\right] \\phi_\\mu \\phi_\\nu\n",
    "$$"
   ]
  },
  {
   "cell_type": "code",
   "execution_count": 56,
   "metadata": {
    "code_folding": [],
    "hidden": true
   },
   "outputs": [],
   "source": [
    "tmp = (\n",
    "    + kerh.frr[0] * grdh[0].A_rho_1 + kerh.frr[1] * grdh[1].A_rho_1\n",
    "    + kerh.frg[0] * A_gamma_1[0] + kerh.frg[1] * A_gamma_1[1] + kerh.frg[2] * A_gamma_1[2]\n",
    ")\n",
    "F_1_ao_GGA_alpha_[0] = np.einsum(\"Atg, gu, gv -> Atuv\", tmp, grdh[0].ao_0, grdh[0].ao_0)"
   ]
  },
  {
   "cell_type": "markdown",
   "metadata": {
    "hidden": true
   },
   "source": [
    "$$\n",
    "F_{\\mu \\nu}^{\\mathbb{A}, \\alpha} \\xleftarrow{\\textsf{GGA contrib 1}}\n",
    "\\big[\n",
    "(2 f_{\\rho^\\alpha \\gamma^{\\alpha \\alpha}} \\rho_r^\\alpha + f_{\\rho^\\alpha \\gamma^{\\alpha \\beta}} \\rho_r^{\\beta}) \\rho^{\\mathbb{A}, \\alpha}\n",
    "+ (2 f_{\\rho^\\beta \\gamma^{\\alpha \\alpha}} \\rho_r^\\alpha + f_{\\rho^\\beta \\gamma^{\\alpha \\beta}} \\rho_r^{\\beta}) \\rho^{\\mathbb{A}, \\beta}\n",
    "\\big] \\phi_{r \\mu} \\phi_\\nu\n",
    "+ \\mathrm{swap} (\\mu, \\nu)\n",
    "$$"
   ]
  },
  {
   "cell_type": "code",
   "execution_count": 57,
   "metadata": {
    "hidden": true
   },
   "outputs": [],
   "source": [
    "tmp = (\n",
    "    + np.einsum(\"rg, Atg -> Atrg\", 2 * kerh.frg[0] * grdh[0].rho_1 + kerh.frg[1] * grdh[1].rho_1, grdh[0].A_rho_1)\n",
    "    + np.einsum(\"rg, Atg -> Atrg\", 2 * kerh.frg[3] * grdh[0].rho_1 + kerh.frg[4] * grdh[1].rho_1, grdh[1].A_rho_1)\n",
    ")\n",
    "F_1_ao_GGA_alpha_[1] = np.einsum(\"Atrg, rgu, gv -> Atuv\", tmp, grdh[0].ao_1, grdh[0].ao_0)\n",
    "F_1_ao_GGA_alpha_[1] += F_1_ao_GGA_alpha_[1].swapaxes(-1, -2)"
   ]
  },
  {
   "cell_type": "markdown",
   "metadata": {
    "hidden": true
   },
   "source": [
    "$$\n",
    "F_{\\mu \\nu}^{\\mathbb{A}, \\alpha} \\xleftarrow{\\textsf{GGA contrib 2}}\n",
    "\\big[\n",
    "(2 f_{\\gamma^{\\alpha \\alpha} \\gamma^{\\alpha \\alpha}} \\rho_r^\\alpha + f_{\\gamma^{\\alpha \\beta} \\gamma^{\\alpha \\alpha}} \\rho_r^\\beta)  \\gamma^{\\mathbb{A}, \\alpha \\alpha}\n",
    "+ (2 f_{\\gamma^{\\alpha \\alpha} \\gamma^{\\alpha \\beta}} \\rho_r^\\alpha + f_{\\gamma^{\\alpha \\beta} \\gamma^{\\alpha \\beta}} \\rho_r^\\beta)  \\gamma^{\\mathbb{A}, \\alpha \\beta}\n",
    "+ (2 f_{\\gamma^{\\alpha \\alpha} \\gamma^{\\beta \\beta}} \\rho_r^\\alpha + f_{\\gamma^{\\alpha \\beta} \\gamma^{\\beta \\beta}} \\rho_r^\\beta) \\gamma^{\\mathbb{A}, \\beta \\beta}\n",
    "\\big] \\phi_{r \\mu} \\phi_\\nu\n",
    "+ \\mathrm{swap} (\\mu, \\nu)\n",
    "$$"
   ]
  },
  {
   "cell_type": "code",
   "execution_count": 58,
   "metadata": {
    "hidden": true
   },
   "outputs": [],
   "source": [
    "tmp = (\n",
    "    + np.einsum(\"rg, Atg -> Atrg\", 2 * kerh.fgg[0] * grdh[0].rho_1 + kerh.fgg[1] * grdh[1].rho_1, A_gamma_1[0])\n",
    "    + np.einsum(\"rg, Atg -> Atrg\", 2 * kerh.fgg[1] * grdh[0].rho_1 + kerh.fgg[3] * grdh[1].rho_1, A_gamma_1[1])\n",
    "    + np.einsum(\"rg, Atg -> Atrg\", 2 * kerh.fgg[2] * grdh[0].rho_1 + kerh.fgg[4] * grdh[1].rho_1, A_gamma_1[2])\n",
    ")\n",
    "F_1_ao_GGA_alpha_[2] = np.einsum(\"Atrg, rgu, gv -> Atuv\", tmp, grdh[0].ao_1, grdh[0].ao_0)\n",
    "F_1_ao_GGA_alpha_[2] += F_1_ao_GGA_alpha_[2].swapaxes(-1, -2)"
   ]
  },
  {
   "cell_type": "markdown",
   "metadata": {
    "hidden": true
   },
   "source": [
    "$$\n",
    "F_{\\mu \\nu}^{\\mathbb{A}, \\alpha} \\xleftarrow{\\textsf{GGA contrib 4}}\n",
    "\\big[\n",
    "2 f_{\\gamma^{\\alpha \\alpha}} \\rho_r^{\\mathbb{A}, \\alpha} + f_{\\gamma^{\\alpha \\beta}} \\rho_r^{\\mathbb{A}, \\beta}\n",
    "\\big] \\phi_{r \\mu} \\phi_\\nu\n",
    "+ \\mathrm{swap} (\\mu, \\nu)\n",
    "$$"
   ]
  },
  {
   "cell_type": "code",
   "execution_count": 59,
   "metadata": {
    "hidden": true
   },
   "outputs": [],
   "source": [
    "tmp = 2 * kerh.fg[0] * grdh[0].A_rho_2 + kerh.fg[1] * grdh[1].A_rho_2\n",
    "F_1_ao_GGA_alpha_[3] = np.einsum(\"Atrg, rgu, gv -> Atuv\", tmp, grdh[0].ao_1, grdh[0].ao_0)\n",
    "F_1_ao_GGA_alpha_[3] += F_1_ao_GGA_alpha_[3].swapaxes(-1, -2)"
   ]
  },
  {
   "cell_type": "markdown",
   "metadata": {
    "hidden": true
   },
   "source": [
    "$$\n",
    "F_{\\mu \\nu}^{A_t, \\alpha} \\xleftarrow{\\textsf{GGA contrib 5}}\n",
    "- \\big[\n",
    "f_{\\rho^\\alpha} \\phi_{t \\mu_A} \\phi_\\nu\n",
    "+ (2 f_{\\gamma^{\\alpha \\alpha}} \\rho_r^\\alpha + f_{\\gamma^{\\alpha \\beta}} \\rho_r^{\\beta}) (\\phi_{tr \\mu_A} \\phi_\\nu + \\phi_{t \\mu_A} \\phi_{r \\nu})\n",
    "\\big] + \\mathrm{swap} (\\mu, \\nu)\n",
    "$$"
   ]
  },
  {
   "cell_type": "code",
   "execution_count": 60,
   "metadata": {
    "hidden": true
   },
   "outputs": [],
   "source": [
    "mol_slice = gradh.mol_slice"
   ]
  },
  {
   "cell_type": "code",
   "execution_count": 61,
   "metadata": {
    "hidden": true
   },
   "outputs": [],
   "source": [
    "tmp = 2 * kerh.fg[0] * grdh[0].rho_1 + kerh.fg[1] * grdh[1].rho_1\n",
    "\n",
    "F_1_ao_GGA_alpha_[4] = np.zeros((natm, 3, nao, nao))\n",
    "for A in range(natm):\n",
    "    sA = mol_slice(A)\n",
    "    F_1_ao_GGA_alpha_[4][A, :, sA, :] += - np.einsum(\"g, tgu, gv -> tuv\", kerh.fr[0], grdh[0].ao_1[:, :, sA], grdh[0].ao_0)\n",
    "    F_1_ao_GGA_alpha_[4][A, :, sA, :] += - np.einsum(\"rg, trgu, gv -> tuv\", tmp, grdh[0].ao_2[:, :, :, sA], grdh[0].ao_0)\n",
    "    F_1_ao_GGA_alpha_[4][A, :, sA, :] += - np.einsum(\"rg, tgu, rgv -> tuv\", tmp, grdh[0].ao_1[:, :, sA], grdh[0].ao_1)\n",
    "F_1_ao_GGA_alpha_[4] += F_1_ao_GGA_alpha_[4].swapaxes(-1, -2)"
   ]
  },
  {
   "cell_type": "markdown",
   "metadata": {
    "hidden": true
   },
   "source": [
    "最后，我们将 $\\alpha$ 自旋的 GGA 贡献部分加到 HF 贡献部分，得到最终的 $F_{\\mu \\nu}^{\\mathbb{A}, \\alpha}$。 "
   ]
  },
  {
   "cell_type": "code",
   "execution_count": 62,
   "metadata": {
    "hidden": true,
    "scrolled": true
   },
   "outputs": [],
   "source": [
    "F_1_ao_[0] += np.array(F_1_ao_GGA_alpha_).sum(axis=0).reshape((natm * 3, nao, nao))"
   ]
  },
  {
   "cell_type": "code",
   "execution_count": 63,
   "metadata": {
    "hidden": true
   },
   "outputs": [
    {
     "data": {
      "text/plain": [
       "True"
      ]
     },
     "execution_count": 63,
     "metadata": {},
     "output_type": "execute_result"
    }
   ],
   "source": [
    "np.allclose(F_1_ao_[0], F_1_ao[0])"
   ]
  },
  {
   "cell_type": "markdown",
   "metadata": {
    "heading_collapsed": true
   },
   "source": [
    "### Fock Skeleton 一阶导数：GGA $\\beta$ 自旋部分"
   ]
  },
  {
   "cell_type": "markdown",
   "metadata": {
    "hidden": true
   },
   "source": [
    "但需要留意，我们尚没有实现 $\\beta$ 自旋的贡献部分。尽管思路是相同的，但代码应当要重新写一遍。"
   ]
  },
  {
   "cell_type": "code",
   "execution_count": 64,
   "metadata": {
    "hidden": true
   },
   "outputs": [],
   "source": [
    "F_1_ao_GGA_beta_ = [None for _ in range(5)]"
   ]
  },
  {
   "cell_type": "markdown",
   "metadata": {
    "hidden": true
   },
   "source": [
    "$$\n",
    "F_{\\mu \\nu}^{\\mathbb{A}, \\beta} \\xleftarrow{\\textsf{GGA contrib 0}} \n",
    "\\left[\n",
    "f_{\\rho^\\beta \\rho^\\alpha} \\rho^{\\mathbb{A}, \\alpha}\n",
    "+ f_{\\rho^\\beta \\rho^\\beta} \\rho^{\\mathbb{A}, \\beta}\n",
    "+ f_{\\rho^\\beta \\gamma^{\\alpha \\alpha}} \\gamma^{\\mathbb{A}, \\alpha \\alpha}\n",
    "+ f_{\\rho^\\beta \\gamma^{\\beta \\alpha}} \\gamma^{\\mathbb{A}, \\beta \\alpha}\n",
    "+ f_{\\rho^\\beta \\gamma^{\\beta \\beta}} \\gamma^{\\mathbb{A}, \\beta \\beta}\n",
    "\\right] \\phi_\\mu \\phi_\\nu\n",
    "$$"
   ]
  },
  {
   "cell_type": "code",
   "execution_count": 65,
   "metadata": {
    "code_folding": [],
    "hidden": true
   },
   "outputs": [],
   "source": [
    "tmp = (\n",
    "    + kerh.frr[1] * grdh[0].A_rho_1 + kerh.frr[2] * grdh[1].A_rho_1\n",
    "    + kerh.frg[3] * A_gamma_1[0] + kerh.frg[4] * A_gamma_1[1] + kerh.frg[5] * A_gamma_1[2]\n",
    ")\n",
    "F_1_ao_GGA_beta_[0] = np.einsum(\"Atg, gu, gv -> Atuv\", tmp, grdh[0].ao_0, grdh[0].ao_0)"
   ]
  },
  {
   "cell_type": "markdown",
   "metadata": {
    "hidden": true
   },
   "source": [
    "$$\n",
    "F_{\\mu \\nu}^{\\mathbb{A}, \\beta} \\xleftarrow{\\textsf{GGA contrib 1}}\n",
    "\\big[\n",
    "(2 f_{\\rho^\\alpha \\gamma^{\\beta \\beta}} \\rho_r^\\beta + f_{\\rho^\\alpha \\gamma^{\\beta \\alpha}} \\rho_r^{\\alpha}) \\rho^{\\mathbb{A}, \\alpha}\n",
    "+ (2 f_{\\rho^\\beta \\gamma^{\\beta \\beta}} \\rho_r^\\beta + f_{\\rho^\\beta \\gamma^{\\beta \\alpha}} \\rho_r^{\\alpha}) \\rho^{\\mathbb{A}, \\beta}\n",
    "\\big] \\phi_{r \\mu} \\phi_\\nu\n",
    "+ \\mathrm{swap} (\\mu, \\nu)\n",
    "$$"
   ]
  },
  {
   "cell_type": "code",
   "execution_count": 66,
   "metadata": {
    "hidden": true
   },
   "outputs": [],
   "source": [
    "tmp = (\n",
    "    + np.einsum(\"rg, Atg -> Atrg\", 2 * kerh.frg[2] * grdh[1].rho_1 + kerh.frg[1] * grdh[0].rho_1, grdh[0].A_rho_1)\n",
    "    + np.einsum(\"rg, Atg -> Atrg\", 2 * kerh.frg[5] * grdh[1].rho_1 + kerh.frg[4] * grdh[0].rho_1, grdh[1].A_rho_1)\n",
    ")\n",
    "F_1_ao_GGA_beta_[1] = np.einsum(\"Atrg, rgu, gv -> Atuv\", tmp, grdh[0].ao_1, grdh[0].ao_0)\n",
    "F_1_ao_GGA_beta_[1] += F_1_ao_GGA_beta_[1].swapaxes(-1, -2)"
   ]
  },
  {
   "cell_type": "markdown",
   "metadata": {
    "hidden": true
   },
   "source": [
    "$$\n",
    "F_{\\mu \\nu}^{\\mathbb{A}, \\beta} \\xleftarrow{\\textsf{GGA contrib 2}}\n",
    "\\big[\n",
    "(2 f_{\\gamma^{\\beta \\beta} \\gamma^{\\alpha \\alpha}} \\rho_r^\\beta + f_{\\gamma^{\\beta \\alpha} \\gamma^{\\alpha \\alpha}} \\rho_r^\\alpha) \\gamma^{\\mathbb{A}, \\alpha \\alpha}\n",
    "+ (2 f_{\\gamma^{\\beta \\beta} \\gamma^{\\beta \\alpha}} \\rho_r^\\beta + f_{\\gamma^{\\beta \\alpha} \\gamma^{\\beta \\alpha}} \\rho_r^\\alpha)  \\gamma^{\\mathbb{A}, \\beta \\alpha}\n",
    "+ (2 f_{\\gamma^{\\beta \\beta} \\gamma^{\\beta \\beta}} \\rho_r^\\beta + f_{\\gamma^{\\beta \\alpha} \\gamma^{\\beta \\beta}} \\rho_r^\\alpha)  \\gamma^{\\mathbb{A}, \\beta \\beta}\n",
    "\\big] \\phi_{r \\mu} \\phi_\\nu\n",
    "+ \\mathrm{swap} (\\mu, \\nu)\n",
    "$$"
   ]
  },
  {
   "cell_type": "code",
   "execution_count": 67,
   "metadata": {
    "hidden": true
   },
   "outputs": [],
   "source": [
    "tmp = (\n",
    "    + np.einsum(\"rg, Atg -> Atrg\", 2 * kerh.fgg[2] * grdh[1].rho_1 + kerh.fgg[1] * grdh[0].rho_1, A_gamma_1[0])\n",
    "    + np.einsum(\"rg, Atg -> Atrg\", 2 * kerh.fgg[4] * grdh[1].rho_1 + kerh.fgg[3] * grdh[0].rho_1, A_gamma_1[1])\n",
    "    + np.einsum(\"rg, Atg -> Atrg\", 2 * kerh.fgg[5] * grdh[1].rho_1 + kerh.fgg[4] * grdh[0].rho_1, A_gamma_1[2])\n",
    ")\n",
    "F_1_ao_GGA_beta_[2] = np.einsum(\"Atrg, rgu, gv -> Atuv\", tmp, grdh[0].ao_1, grdh[0].ao_0)\n",
    "F_1_ao_GGA_beta_[2] += F_1_ao_GGA_beta_[2].swapaxes(-1, -2)"
   ]
  },
  {
   "cell_type": "markdown",
   "metadata": {
    "hidden": true
   },
   "source": [
    "$$\n",
    "F_{\\mu \\nu}^{\\mathbb{A}, \\beta} \\xleftarrow{\\textsf{GGA contrib 4}}\n",
    "\\big[\n",
    "2 f_{\\gamma^{\\beta \\beta}} \\rho_r^{\\mathbb{A}, \\beta} + f_{\\gamma^{\\beta \\alpha}} \\rho_r^{\\mathbb{A}, \\alpha}\n",
    "\\big] \\phi_{r \\mu} \\phi_\\nu\n",
    "+ \\mathrm{swap} (\\mu, \\nu)\n",
    "$$"
   ]
  },
  {
   "cell_type": "code",
   "execution_count": 68,
   "metadata": {
    "hidden": true
   },
   "outputs": [],
   "source": [
    "tmp = 2 * kerh.fg[2] * grdh[1].A_rho_2 + kerh.fg[1] * grdh[0].A_rho_2\n",
    "F_1_ao_GGA_beta_[3] = np.einsum(\"Atrg, rgu, gv -> Atuv\", tmp, grdh[0].ao_1, grdh[0].ao_0)\n",
    "F_1_ao_GGA_beta_[3] += F_1_ao_GGA_beta_[3].swapaxes(-1, -2)"
   ]
  },
  {
   "cell_type": "markdown",
   "metadata": {
    "hidden": true
   },
   "source": [
    "$$\n",
    "F_{\\mu \\nu}^{A_t, \\beta} \\xleftarrow{\\textsf{GGA contrib 5}}\n",
    "- \\big[\n",
    "f_{\\rho^\\beta} \\phi_{t \\mu_A} \\phi_\\nu\n",
    "+ (2 f_{\\gamma^{\\beta \\beta}} \\rho_r^\\beta + f_{\\gamma^{\\beta \\alpha}} \\rho_r^{\\alpha}) (\\phi_{tr \\mu_A} \\phi_\\nu + \\phi_{t \\mu_A} \\phi_{r \\nu})\n",
    "\\big] + \\mathrm{swap} (\\mu, \\nu)\n",
    "$$"
   ]
  },
  {
   "cell_type": "code",
   "execution_count": 69,
   "metadata": {
    "hidden": true
   },
   "outputs": [],
   "source": [
    "mol_slice = gradh.mol_slice"
   ]
  },
  {
   "cell_type": "code",
   "execution_count": 70,
   "metadata": {
    "hidden": true
   },
   "outputs": [],
   "source": [
    "tmp = 2 * kerh.fg[2] * grdh[1].rho_1 + kerh.fg[1] * grdh[0].rho_1\n",
    "\n",
    "F_1_ao_GGA_beta_[4] = np.zeros((natm, 3, nao, nao))\n",
    "for A in range(natm):\n",
    "    sA = mol_slice(A)\n",
    "    F_1_ao_GGA_beta_[4][A, :, sA, :] += - np.einsum(\"g, tgu, gv -> tuv\", kerh.fr[1], grdh[0].ao_1[:, :, sA], grdh[0].ao_0)\n",
    "    F_1_ao_GGA_beta_[4][A, :, sA, :] += - np.einsum(\"rg, trgu, gv -> tuv\", tmp, grdh[0].ao_2[:, :, :, sA], grdh[0].ao_0)\n",
    "    F_1_ao_GGA_beta_[4][A, :, sA, :] += - np.einsum(\"rg, tgu, rgv -> tuv\", tmp, grdh[0].ao_1[:, :, sA], grdh[0].ao_1)\n",
    "F_1_ao_GGA_beta_[4] += F_1_ao_GGA_beta_[4].swapaxes(-1, -2)"
   ]
  },
  {
   "cell_type": "markdown",
   "metadata": {
    "hidden": true
   },
   "source": [
    "将 $\\beta$ 自旋的 GGA 贡献部分加到 HF 贡献部分，得到最终的 $F_{\\mu \\nu}^{\\mathbb{A}, \\beta}$。"
   ]
  },
  {
   "cell_type": "code",
   "execution_count": 71,
   "metadata": {
    "hidden": true
   },
   "outputs": [],
   "source": [
    "F_1_ao_[1] += np.array(F_1_ao_GGA_beta_).sum(axis=0).reshape((natm * 3, nao, nao))"
   ]
  },
  {
   "cell_type": "markdown",
   "metadata": {
    "hidden": true
   },
   "source": [
    "最终，我们可以验证，我们计算所得到的 Fock 矩阵与 pyxdh 给出的结果一致："
   ]
  },
  {
   "cell_type": "code",
   "execution_count": 72,
   "metadata": {
    "hidden": true
   },
   "outputs": [
    {
     "data": {
      "text/plain": [
       "True"
      ]
     },
     "execution_count": 72,
     "metadata": {},
     "output_type": "execute_result"
    }
   ],
   "source": [
    "np.allclose(F_1_ao_, F_1_ao)"
   ]
  },
  {
   "cell_type": "markdown",
   "metadata": {
    "hidden": true
   },
   "source": [
    "需要指出的是，pyxdh 中计算 `F_1_ao` 的方式并不是直接执行类似于上述的代码，而是利用了 PySCF 的 `hessian.uks.make_h1` 方法。"
   ]
  },
  {
   "cell_type": "markdown",
   "metadata": {},
   "source": [
    "## A 张量"
   ]
  },
  {
   "cell_type": "markdown",
   "metadata": {},
   "source": [
    "### A 张量计算函数：前置工作"
   ]
  },
  {
   "cell_type": "markdown",
   "metadata": {},
   "source": [
    "我们应当留意到 A 张量从定义上是从 Fock 矩阵 $F_{\\mu \\nu}^\\sigma$ 的 U 导数产生的。我们下面对当输入的矩阵 `X` $X_{ai}^{\\mathbb{A}, \\sigma}$ 为任意矩阵时的情况作讨论。这里的 $\\mathbb{A}$ 可以是任意的，未必要指代原子核坐标分量。"
   ]
  },
  {
   "cell_type": "code",
   "execution_count": 73,
   "metadata": {},
   "outputs": [],
   "source": [
    "Ax0_Core = gradh.Ax0_Core\n",
    "X = (np.random.randn(3, nvir[0], nocc[0]), np.random.randn(3, nvir[1], nocc[1]))"
   ]
  },
  {
   "cell_type": "markdown",
   "metadata": {},
   "source": [
    "我们将 pyxdh 输出的 $\\mathtt{AX}_{ai}^{\\mathbb{A}, \\sigma}$ 储存在 `Ax` 中。由于 A 张量与 X 矩阵之间的缩并方式与 RKS 不太一样，因此我们不会采用类似于 $A_{ai, bj} X_{bj}^\\mathbb{A}$ 的写法。\n",
    "\n",
    "- `X` $X_{ai}^{\\mathbb{A}, \\sigma}$, dim: $(\\sigma, \\mathbb{A}, a, i)$, type: `Tuple[np.ndarray]`\n",
    "\n",
    "- `Ax` $\\mathtt{AX}_{ai}^{\\mathbb{A}, \\sigma}$, dim: $(\\sigma, \\mathbb{A}, a, i)$, type: `Tuple[np.ndarray]`\n",
    "\n",
    "需要指出，`Ax0_Core` 函数不只可以实现非占-占据轨道的计算，也可以实现任意分子轨道下的分割计算。"
   ]
  },
  {
   "cell_type": "code",
   "execution_count": 74,
   "metadata": {},
   "outputs": [],
   "source": [
    "Ax = Ax0_Core(sv, so, sv, so)(X)"
   ]
  },
  {
   "cell_type": "markdown",
   "metadata": {},
   "source": [
    "在实际进行 A 张量计算前，我们会对输入的 $X_{ai}^{\\mathbb{A}, \\sigma}$ 作到原子轨道的转换：\n",
    "\n",
    "- `dmX` $X_{\\mu \\nu}^{\\mathbb{A}, \\sigma}$, dim: $(\\sigma, \\mathbb{A}, \\mu, \\nu)$, type: `np.ndarray`\n",
    "\n",
    "$$\n",
    "X_{\\mu \\nu}^{\\mathbb{A}, \\sigma} = C_{\\mu a}^\\sigma X_{ai}^{\\mathbb{A}, \\sigma} C_{\\nu i}^\\sigma + \\mathrm{swap} (\\mu, \\nu)\n",
    "$$"
   ]
  },
  {
   "cell_type": "code",
   "execution_count": 75,
   "metadata": {},
   "outputs": [
    {
     "data": {
      "text/plain": [
       "(2, 3, 15, 15)"
      ]
     },
     "execution_count": 75,
     "metadata": {},
     "output_type": "execute_result"
    }
   ],
   "source": [
    "prop_dim = X[0].shape[0]\n",
    "dmX = np.zeros((2, prop_dim, nao, nao))\n",
    "dmX[0] = Cv[0] @ X[0] @ Co[0].T\n",
    "dmX[1] = Cv[1] @ X[1] @ Co[1].T\n",
    "dmX += dmX.swapaxes(-1, -2)\n",
    "dmX.shape"
   ]
  },
  {
   "cell_type": "markdown",
   "metadata": {},
   "source": [
    "### A 张量计算函数：HF 贡献部分"
   ]
  },
  {
   "cell_type": "markdown",
   "metadata": {},
   "source": [
    "- `ax_ao_HF_`, dim: $(\\sigma, \\mathbb{A}, \\mu, \\nu)$, type: `np.ndarray`\n",
    "\n",
    "$$\n",
    "\\mathtt{AX}_{\\kappa \\lambda}^{\\mathbb{A}, \\sigma} \\xleftarrow{\\textsf{HF contrib}}\n",
    "(\\mu \\nu | \\kappa \\lambda) X_{\\kappa \\lambda}^{\\sigma'}\n",
    "- c_\\mathrm{x} (\\mu \\kappa | \\nu \\lambda) X_{\\kappa \\lambda}^{\\sigma}\n",
    "$$"
   ]
  },
  {
   "cell_type": "code",
   "execution_count": 76,
   "metadata": {},
   "outputs": [
    {
     "data": {
      "text/plain": [
       "(2, 3, 15, 15)"
      ]
     },
     "execution_count": 76,
     "metadata": {},
     "output_type": "execute_result"
    }
   ],
   "source": [
    "ax_ao_HF_ = (\n",
    "    + np.einsum(\"uvkl, xAkl -> Auv\", eri0_ao, dmX)\n",
    "    - cx * np.einsum(\"ukvl, xAkl -> xAuv\", eri0_ao, dmX)\n",
    ")\n",
    "ax_ao_HF_.shape"
   ]
  },
  {
   "cell_type": "markdown",
   "metadata": {},
   "source": [
    "- `Ax_HF_`, dim: $(\\sigma, \\mathbb{A}, a, i)$\n",
    "\n",
    "$$\n",
    "\\mathtt{AX}_{ai}^{\\mathbb{A}, \\sigma} \\xleftarrow{\\textsf{HF contrib}} C_{\\mu a}^\\sigma \\mathtt{AX}_{\\kappa \\lambda}^{\\mathbb{A}, \\sigma} C_{\\nu i}^\\sigma\n",
    "$$"
   ]
  },
  {
   "cell_type": "code",
   "execution_count": 77,
   "metadata": {},
   "outputs": [],
   "source": [
    "Ax_HF_ = (np.zeros((prop_dim, nvir[0], nocc[0])), np.zeros((prop_dim, nvir[1], nocc[1])))\n",
    "Ax_HF_[0][:] = Cv[0].T @ ax_ao_HF_[0] @ Co[0]\n",
    "Ax_HF_[1][:] = Cv[1].T @ ax_ao_HF_[1] @ Co[1]"
   ]
  },
  {
   "cell_type": "markdown",
   "metadata": {},
   "source": [
    "### A 张量计算函数：$f_{\\rho}$ 导数贡献部分"
   ]
  },
  {
   "cell_type": "markdown",
   "metadata": {},
   "source": [
    "- `rho_X_0` $\\varrho^{\\mathbb{A}, \\sigma}$, dim: $(\\sigma, \\mathbb{A}, g)$\n",
    "\n",
    "- `rho_X_1` $\\varrho_g^{\\mathbb{A}, \\sigma}$, dim: $(\\sigma, \\mathbb{A}, r, g)$"
   ]
  },
  {
   "cell_type": "markdown",
   "metadata": {},
   "source": [
    "$$\n",
    "\\begin{align}\n",
    "\\varrho^{\\mathbb{A}, \\sigma} &= X_{\\kappa \\lambda}^{\\mathbb{A}, \\sigma} \\phi_\\kappa \\phi_\\lambda \\\\\n",
    "\\varrho_r^{\\mathbb{A}, \\sigma} &= 2 X_{\\kappa \\lambda}^{\\mathbb{A}, \\sigma} \\phi_{r \\kappa} \\phi_\\lambda\n",
    "\\end{align}\n",
    "$$"
   ]
  },
  {
   "cell_type": "code",
   "execution_count": 78,
   "metadata": {},
   "outputs": [],
   "source": [
    "tmp_K = np.einsum(\"xAkl, gl -> xAgk\", dmX, grdh[0].ao_0)\n",
    "rho_X_0 = np.einsum(\"gk, xAgk -> xAg\", grdh[0].ao_0, tmp_K)\n",
    "rho_X_1 = 2 * np.einsum(\"rgk, xAgk -> xArg\", grdh[0].ao_1, tmp_K)"
   ]
  },
  {
   "cell_type": "markdown",
   "metadata": {},
   "source": [
    "- `gamma_X_0` $\\gamma^{\\mathbb{A}, \\sigma \\sigma'}$, dim: $(\\sigma \\sigma', \\mathbb{A}, g)$\n",
    "\n",
    "需要留意到，这里单纯地因为符号不够用，因此与 Fock Skeleton 导数处使用了相同的 $\\gamma^{\\mathbb{A}, \\sigma \\sigma'}$ 符号。但这两者的定义是不同的 (即使是相似的)。"
   ]
  },
  {
   "cell_type": "markdown",
   "metadata": {},
   "source": [
    "$$\n",
    "\\gamma^{\\mathbb{A}, \\sigma \\sigma'} = \\varrho_r^{\\mathbb{A}, \\sigma} \\rho_r^{\\sigma'} + \\varrho_r^{\\mathbb{A}, \\sigma'} \\rho_r^{\\sigma}\n",
    "$$"
   ]
  },
  {
   "cell_type": "code",
   "execution_count": 79,
   "metadata": {},
   "outputs": [],
   "source": [
    "gamma_X_0 = np.zeros((3, prop_dim, grdh[0].ngrid))\n",
    "gamma_X_0[0] = 2 * np.einsum(\"Arg, rg -> Ag\", rho_X_1[0], grdh[0].rho_1)\n",
    "gamma_X_0[1] = (\n",
    "    + np.einsum(\"Arg, rg -> Ag\", rho_X_1[0], grdh[1].rho_1)\n",
    "    + np.einsum(\"Arg, rg -> Ag\", rho_X_1[1], grdh[0].rho_1)\n",
    ")\n",
    "gamma_X_0[2] = 2 * np.einsum(\"Arg, rg -> Ag\", rho_X_1[1], grdh[1].rho_1)"
   ]
  },
  {
   "cell_type": "markdown",
   "metadata": {},
   "source": [
    "- `M_0_` $M^{\\mathbb{A}, \\sigma}$, dim: $(\\sigma, \\mathbb{A}, g)$"
   ]
  },
  {
   "cell_type": "code",
   "execution_count": 80,
   "metadata": {},
   "outputs": [],
   "source": [
    "M_0_ = np.zeros((2, prop_dim, ngrid))"
   ]
  },
  {
   "cell_type": "markdown",
   "metadata": {},
   "source": [
    "$$\n",
    "M^{\\mathbb{A}, \\alpha} =\n",
    "  f_{\\rho^\\alpha \\rho^\\alpha} \\varrho^{\\mathbb{A}, \\alpha}\n",
    "+ f_{\\rho^\\alpha \\rho^\\beta} \\varrho^{\\mathbb{A}, \\beta}\n",
    "+ f_{\\rho^\\alpha \\gamma^{\\alpha \\alpha}} \\gamma_r^{\\mathbb{A}, \\alpha \\alpha}\n",
    "+ f_{\\rho^\\alpha \\gamma^{\\alpha \\beta}} \\gamma_r^{\\mathbb{A}, \\alpha \\beta}\n",
    "+ f_{\\rho^\\alpha \\gamma^{\\beta \\beta}} \\gamma_r^{\\mathbb{A}, \\beta \\beta}\n",
    "$$"
   ]
  },
  {
   "cell_type": "code",
   "execution_count": 81,
   "metadata": {},
   "outputs": [],
   "source": [
    "M_0_[0] = (\n",
    "    + kerh.frr[0] * rho_X_0[0]\n",
    "    + kerh.frr[1] * rho_X_0[1]\n",
    "    + kerh.frg[0] * gamma_X_0[0]\n",
    "    + kerh.frg[1] * gamma_X_0[1]\n",
    "    + kerh.frg[2] * gamma_X_0[2]\n",
    ")"
   ]
  },
  {
   "cell_type": "markdown",
   "metadata": {},
   "source": [
    "$$\n",
    "M^{\\mathbb{A}, \\beta} =\n",
    "  f_{\\rho^\\beta \\rho^\\alpha} \\varrho^{\\mathbb{A}, \\alpha}\n",
    "+ f_{\\rho^\\beta \\rho^\\beta} \\varrho^{\\mathbb{A}, \\beta}\n",
    "+ f_{\\rho^\\beta \\gamma^{\\alpha \\alpha}} \\gamma^{\\mathbb{A}, \\alpha \\alpha}\n",
    "+ f_{\\rho^\\beta \\gamma^{\\beta \\alpha}} \\gamma^{\\mathbb{A}, \\beta \\alpha}\n",
    "+ f_{\\rho^\\beta \\gamma^{\\beta \\beta}} \\gamma^{\\mathbb{A}, \\beta \\beta}\n",
    "$$"
   ]
  },
  {
   "cell_type": "code",
   "execution_count": 82,
   "metadata": {},
   "outputs": [],
   "source": [
    "M_0_[1] = (\n",
    "    + kerh.frr[1] * rho_X_0[0]\n",
    "    + kerh.frr[2] * rho_X_0[1]\n",
    "    + kerh.frg[3] * gamma_X_0[0]\n",
    "    + kerh.frg[4] * gamma_X_0[1]\n",
    "    + kerh.frg[5] * gamma_X_0[2]\n",
    ")"
   ]
  },
  {
   "cell_type": "markdown",
   "metadata": {},
   "source": [
    "- `Ax_GGA_M_0_`, dim: $(\\sigma, \\mathbb{A}, a, i)$, type: `Tuple[np.ndarray]`"
   ]
  },
  {
   "cell_type": "markdown",
   "metadata": {},
   "source": [
    "$$\n",
    "\\mathtt{AX}_{ai}^{\\mathbb{A}, \\alpha} \\xleftarrow{M^{\\mathbb{A}, \\alpha} \\textsf{ contrib}} M^{\\mathbb{A}, \\alpha} \\phi_\\mu \\phi_\\nu C_{\\mu a}^\\alpha C_{\\nu i}^\\alpha\n",
    "$$"
   ]
  },
  {
   "cell_type": "code",
   "execution_count": 83,
   "metadata": {},
   "outputs": [],
   "source": [
    "ax_ao_M_0_ = np.einsum(\"xAg, gu, gv -> xAuv\", M_0_, grdh[0].ao_0, grdh[0].ao_0)"
   ]
  },
  {
   "cell_type": "code",
   "execution_count": 84,
   "metadata": {},
   "outputs": [],
   "source": [
    "Ax_GGA_M_0_ = (\n",
    "    np.einsum(\"Auv, ua, vi -> Aai\", ax_ao_M_0_[0], Cv[0], Co[0]),\n",
    "    np.einsum(\"Auv, ua, vi -> Aai\", ax_ao_M_0_[1], Cv[1], Co[1])\n",
    ")"
   ]
  },
  {
   "cell_type": "markdown",
   "metadata": {},
   "source": [
    "### A 张量计算函数：$f_{\\gamma}$ 对 $\\rho$ 导数贡献部分"
   ]
  },
  {
   "cell_type": "markdown",
   "metadata": {},
   "source": [
    "- `M_1_` $M_r^{\\mathbb{A}, \\sigma}$, dim: $(\\sigma, \\mathbb{A}, r, g)$"
   ]
  },
  {
   "cell_type": "code",
   "execution_count": 85,
   "metadata": {},
   "outputs": [],
   "source": [
    "M_1_ = np.zeros((2, prop_dim, 3, ngrid))"
   ]
  },
  {
   "cell_type": "markdown",
   "metadata": {},
   "source": [
    "$$\n",
    "\\begin{align}\n",
    "M_r^{\\mathbb{A}, \\alpha}\n",
    "&= (2 f_{\\rho^\\alpha \\gamma^{\\alpha \\alpha}} \\rho_r^\\alpha + f_{\\rho^\\alpha \\gamma^{\\alpha \\beta}} \\rho_r^{\\beta}) \\varrho^{\\mathbb{A}, \\alpha}\n",
    "+ (2 f_{\\rho^\\beta \\gamma^{\\alpha \\alpha}} \\rho_r^\\alpha + f_{\\rho^\\beta \\gamma^{\\alpha \\beta}} \\rho_r^{\\beta}) \\varrho^{\\mathbb{A}, \\beta} \\\\\n",
    "&\\quad+ (2 f_{\\gamma^{\\alpha \\alpha} \\gamma^{\\alpha \\alpha}} \\rho_r^\\alpha + f_{\\gamma^{\\alpha \\beta} \\gamma^{\\alpha \\alpha}} \\rho_r^\\beta)  \\gamma^{\\mathbb{A}, \\alpha \\alpha}\n",
    "+ (2 f_{\\gamma^{\\alpha \\alpha} \\gamma^{\\alpha \\beta}} \\rho_r^\\alpha + f_{\\gamma^{\\alpha \\beta} \\gamma^{\\alpha \\beta}} \\rho_r^\\beta)  \\gamma^{\\mathbb{A}, \\alpha \\beta}\n",
    "+ (2 f_{\\gamma^{\\alpha \\alpha} \\gamma^{\\beta \\beta}} \\rho_r^\\alpha + f_{\\gamma^{\\alpha \\beta} \\gamma^{\\beta \\beta}} \\rho_r^\\beta) \\gamma^{\\mathbb{A}, \\beta \\beta} \\\\\n",
    "&\\quad+ 2 f_{\\gamma^{\\alpha \\alpha}} \\varrho_r^{\\mathbb{A}, \\alpha} + f_{\\gamma^{\\alpha \\beta}} \\varrho_r^{\\mathbb{A}, \\beta}\n",
    "\\end{align}\n",
    "$$"
   ]
  },
  {
   "cell_type": "code",
   "execution_count": 86,
   "metadata": {},
   "outputs": [],
   "source": [
    "M_1_[0] = (\n",
    "    + np.einsum(\"rg, Ag -> Arg\", 2 * kerh.frg[0] * grdh[0].rho_1 + kerh.frg[1] * grdh[1].rho_1, rho_X_0[0])\n",
    "    + np.einsum(\"rg, Ag -> Arg\", 2 * kerh.frg[3] * grdh[0].rho_1 + kerh.frg[4] * grdh[1].rho_1, rho_X_0[1])\n",
    "    + np.einsum(\"rg, Ag -> Arg\", 2 * kerh.fgg[0] * grdh[0].rho_1 + kerh.fgg[1] * grdh[1].rho_1, gamma_X_0[0])\n",
    "    + np.einsum(\"rg, Ag -> Arg\", 2 * kerh.fgg[1] * grdh[0].rho_1 + kerh.fgg[3] * grdh[1].rho_1, gamma_X_0[1])\n",
    "    + np.einsum(\"rg, Ag -> Arg\", 2 * kerh.fgg[2] * grdh[0].rho_1 + kerh.fgg[4] * grdh[1].rho_1, gamma_X_0[2])\n",
    "    + 2 * kerh.fg[0] * rho_X_1[0] + kerh.fg[1] * rho_X_1[1]\n",
    ")"
   ]
  },
  {
   "cell_type": "markdown",
   "metadata": {},
   "source": [
    "$$\n",
    "\\begin{align}\n",
    "M_r^{\\mathbb{A}, \\beta}\n",
    "&= (2 f_{\\rho^\\alpha \\gamma^{\\beta \\beta}} \\rho_r^\\beta + f_{\\rho^\\alpha \\gamma^{\\beta \\alpha}} \\rho_r^{\\alpha}) \\varrho^{\\mathbb{A}, \\alpha}\n",
    "+ (2 f_{\\rho^\\beta \\gamma^{\\beta \\beta}} \\rho_r^\\beta + f_{\\rho^\\beta \\gamma^{\\beta \\alpha}} \\rho_r^{\\alpha}) \\varrho^{\\mathbb{A}, \\beta} \\\\\n",
    "&\\quad+ (2 f_{\\gamma^{\\beta \\beta} \\gamma^{\\alpha \\alpha}} \\rho_r^\\beta + f_{\\gamma^{\\beta \\alpha} \\gamma^{\\alpha \\alpha}} \\rho_r^\\alpha) \\gamma^{\\mathbb{A}, \\alpha \\alpha}\n",
    "+ (2 f_{\\gamma^{\\beta \\beta} \\gamma^{\\beta \\alpha}} \\rho_r^\\beta + f_{\\gamma^{\\beta \\alpha} \\gamma^{\\beta \\alpha}} \\rho_r^\\alpha)  \\gamma^{\\mathbb{A}, \\beta \\alpha}\n",
    "+ (2 f_{\\gamma^{\\beta \\beta} \\gamma^{\\beta \\beta}} \\rho_r^\\beta + f_{\\gamma^{\\beta \\alpha} \\gamma^{\\beta \\beta}} \\rho_r^\\alpha)  \\gamma^{\\mathbb{A}, \\beta \\beta} \\\\\n",
    "&\\quad+ 2 f_{\\gamma^{\\beta \\beta}} \\varrho_r^{\\mathbb{A}, \\beta} + f_{\\gamma^{\\beta \\alpha}} \\varrho_r^{\\mathbb{A}, \\alpha}\n",
    "\\end{align}\n",
    "$$"
   ]
  },
  {
   "cell_type": "code",
   "execution_count": 87,
   "metadata": {},
   "outputs": [],
   "source": [
    "M_1_[1] = (\n",
    "    + np.einsum(\"rg, Ag -> Arg\", 2 * kerh.frg[2] * grdh[1].rho_1 + kerh.frg[1] * grdh[0].rho_1, rho_X_0[0])\n",
    "    + np.einsum(\"rg, Ag -> Arg\", 2 * kerh.frg[5] * grdh[1].rho_1 + kerh.frg[4] * grdh[0].rho_1, rho_X_0[1])\n",
    "    + np.einsum(\"rg, Ag -> Arg\", 2 * kerh.fgg[2] * grdh[1].rho_1 + kerh.fgg[1] * grdh[0].rho_1, gamma_X_0[0])\n",
    "    + np.einsum(\"rg, Ag -> Arg\", 2 * kerh.fgg[4] * grdh[1].rho_1 + kerh.fgg[3] * grdh[0].rho_1, gamma_X_0[1])\n",
    "    + np.einsum(\"rg, Ag -> Arg\", 2 * kerh.fgg[5] * grdh[1].rho_1 + kerh.fgg[4] * grdh[0].rho_1, gamma_X_0[2])\n",
    "    + 2 * kerh.fg[2] * rho_X_1[1] + kerh.fg[1] * rho_X_1[0]\n",
    ")"
   ]
  },
  {
   "cell_type": "markdown",
   "metadata": {},
   "source": [
    "- `Ax_GGA_M_1_`, dim: $(\\sigma, \\mathbb{A}, a, i)$, type: `Tuple[np.ndarray]`"
   ]
  },
  {
   "cell_type": "markdown",
   "metadata": {},
   "source": [
    "$$\n",
    "\\mathtt{AX}_{ai}^{\\mathbb{A}, \\alpha} \\xleftarrow{M_r^{\\mathbb{A}, \\alpha} \\textsf{ contrib}} M_r^{\\mathbb{A}, \\alpha} \\phi_{r \\mu} \\phi_\\nu C_{\\mu a}^\\alpha C_{\\nu i}^\\alpha + \\mathrm{swap} (\\mu, \\nu)\n",
    "$$"
   ]
  },
  {
   "cell_type": "code",
   "execution_count": 88,
   "metadata": {},
   "outputs": [],
   "source": [
    "ax_ao_M_1_ = np.einsum(\"xArg, rgu, gv -> xAuv\", M_1_, grdh[0].ao_1, grdh[0].ao_0)\n",
    "ax_ao_M_1_ += ax_ao_M_1_.swapaxes(-1, -2)"
   ]
  },
  {
   "cell_type": "code",
   "execution_count": 89,
   "metadata": {},
   "outputs": [],
   "source": [
    "Ax_GGA_M_1_ = (\n",
    "    np.einsum(\"Auv, ua, vi -> Aai\", ax_ao_M_1_[0], Cv[0], Co[0]),\n",
    "    np.einsum(\"Auv, ua, vi -> Aai\", ax_ao_M_1_[1], Cv[1], Co[1])\n",
    ")"
   ]
  },
  {
   "cell_type": "markdown",
   "metadata": {},
   "source": [
    "最后我们可以验证一下计算过程的正确性："
   ]
  },
  {
   "cell_type": "code",
   "execution_count": 90,
   "metadata": {},
   "outputs": [
    {
     "data": {
      "text/plain": [
       "(True, True)"
      ]
     },
     "execution_count": 90,
     "metadata": {},
     "output_type": "execute_result"
    }
   ],
   "source": [
    "(\n",
    "    np.allclose(Ax_HF_[0] + Ax_GGA_M_0_[0] + Ax_GGA_M_1_[0], Ax[0]),\n",
    "    np.allclose(Ax_HF_[1] + Ax_GGA_M_0_[1] + Ax_GGA_M_1_[1], Ax[1])\n",
    ")"
   ]
  },
  {
   "cell_type": "markdown",
   "metadata": {},
   "source": [
    "作者注意到了 A 张量的生成过程与 Fock Skeleton 导数生成的过程极其相似。在以后的程序版本中，可能会考虑引入对 `M_0` $M^{\\mathbb{A}, \\sigma}$ 与 `M_1` $M_r^{\\mathbb{A}, \\sigma}$ 的显式定义，避免程序重复并避免编写失误。"
   ]
  },
  {
   "cell_type": "markdown",
   "metadata": {},
   "source": [
    "## 一阶 U 矩阵"
   ]
  },
  {
   "cell_type": "markdown",
   "metadata": {},
   "source": [
    "事实上，为一阶梯度所使用的所有变量都已经考虑完毕了 (因为一阶梯度不需要使用一阶 U 矩阵)。在此生成的一阶 U 矩阵有两个目的：其一是用来验证各种数值梯度；其二是熟悉 UKS 下 CP-HF 方程。"
   ]
  },
  {
   "cell_type": "markdown",
   "metadata": {},
   "source": [
    "### 数值一阶 U 矩阵"
   ]
  },
  {
   "cell_type": "markdown",
   "metadata": {},
   "source": [
    "- `nd_C` $\\partial_\\mathbb{A} C_{\\mu p}^\\sigma$, dim: $(\\sigma, \\mathbb{A}, \\mu, p)$，通过数值导数获得\n",
    "\n",
    "- `C_inv` $(\\mathbf{C}^\\sigma)^{-1}_{p \\mu}$, dim: $(\\sigma, p, \\mu)$"
   ]
  },
  {
   "cell_type": "code",
   "execution_count": 91,
   "metadata": {},
   "outputs": [
    {
     "data": {
      "text/plain": [
       "(2, 12, 15, 15)"
      ]
     },
     "execution_count": 91,
     "metadata": {},
     "output_type": "execute_result"
    }
   ],
   "source": [
    "nd_C = NumericDiff(gradn, lambda gradh: gradh.C).derivative.swapaxes(0, 1)\n",
    "nd_C.shape"
   ]
  },
  {
   "cell_type": "code",
   "execution_count": 92,
   "metadata": {},
   "outputs": [
    {
     "data": {
      "text/plain": [
       "(2, 15, 15)"
      ]
     },
     "execution_count": 92,
     "metadata": {},
     "output_type": "execute_result"
    }
   ],
   "source": [
    "C_inv = np.array([np.linalg.inv(C[0]), np.linalg.inv(C[1])])\n",
    "C_inv.shape"
   ]
  },
  {
   "cell_type": "markdown",
   "metadata": {},
   "source": [
    "利用 $\\partial_\\mathbb{A} C_{\\mu p}^\\sigma = C_{\\mu m}^\\sigma U_{mp}^{\\mathbb{A}, \\sigma}$，我们能得到数值 U 矩阵\n",
    "\n",
    "- `nd_U` $U_{mp}^{\\mathbb{A}, \\sigma}$, dim: $(\\sigma, \\mathbb{A}, m, p)$，通过数值导数获得"
   ]
  },
  {
   "cell_type": "code",
   "execution_count": 93,
   "metadata": {},
   "outputs": [],
   "source": [
    "nd_U = np.einsum(\"xmu, xAup -> xAmp\", C_inv, nd_C)"
   ]
  },
  {
   "cell_type": "markdown",
   "metadata": {},
   "source": [
    "我们能用数值 U 矩阵立即验证下述公式：\n",
    "\n",
    "$$\n",
    "U_{pq}^{\\mathbb{A}, \\sigma} + U_{qp}^{\\mathbb{A}, \\sigma} + S_{pq}^{\\mathbb{A}, \\sigma} = 0\n",
    "$$"
   ]
  },
  {
   "cell_type": "code",
   "execution_count": 94,
   "metadata": {},
   "outputs": [
    {
     "data": {
      "application/javascript": [
       "/* Put everything inside the global mpl namespace */\n",
       "window.mpl = {};\n",
       "\n",
       "\n",
       "mpl.get_websocket_type = function() {\n",
       "    if (typeof(WebSocket) !== 'undefined') {\n",
       "        return WebSocket;\n",
       "    } else if (typeof(MozWebSocket) !== 'undefined') {\n",
       "        return MozWebSocket;\n",
       "    } else {\n",
       "        alert('Your browser does not have WebSocket support. ' +\n",
       "              'Please try Chrome, Safari or Firefox ≥ 6. ' +\n",
       "              'Firefox 4 and 5 are also supported but you ' +\n",
       "              'have to enable WebSockets in about:config.');\n",
       "    };\n",
       "}\n",
       "\n",
       "mpl.figure = function(figure_id, websocket, ondownload, parent_element) {\n",
       "    this.id = figure_id;\n",
       "\n",
       "    this.ws = websocket;\n",
       "\n",
       "    this.supports_binary = (this.ws.binaryType != undefined);\n",
       "\n",
       "    if (!this.supports_binary) {\n",
       "        var warnings = document.getElementById(\"mpl-warnings\");\n",
       "        if (warnings) {\n",
       "            warnings.style.display = 'block';\n",
       "            warnings.textContent = (\n",
       "                \"This browser does not support binary websocket messages. \" +\n",
       "                    \"Performance may be slow.\");\n",
       "        }\n",
       "    }\n",
       "\n",
       "    this.imageObj = new Image();\n",
       "\n",
       "    this.context = undefined;\n",
       "    this.message = undefined;\n",
       "    this.canvas = undefined;\n",
       "    this.rubberband_canvas = undefined;\n",
       "    this.rubberband_context = undefined;\n",
       "    this.format_dropdown = undefined;\n",
       "\n",
       "    this.image_mode = 'full';\n",
       "\n",
       "    this.root = $('<div/>');\n",
       "    this._root_extra_style(this.root)\n",
       "    this.root.attr('style', 'display: inline-block');\n",
       "\n",
       "    $(parent_element).append(this.root);\n",
       "\n",
       "    this._init_header(this);\n",
       "    this._init_canvas(this);\n",
       "    this._init_toolbar(this);\n",
       "\n",
       "    var fig = this;\n",
       "\n",
       "    this.waiting = false;\n",
       "\n",
       "    this.ws.onopen =  function () {\n",
       "            fig.send_message(\"supports_binary\", {value: fig.supports_binary});\n",
       "            fig.send_message(\"send_image_mode\", {});\n",
       "            if (mpl.ratio != 1) {\n",
       "                fig.send_message(\"set_dpi_ratio\", {'dpi_ratio': mpl.ratio});\n",
       "            }\n",
       "            fig.send_message(\"refresh\", {});\n",
       "        }\n",
       "\n",
       "    this.imageObj.onload = function() {\n",
       "            if (fig.image_mode == 'full') {\n",
       "                // Full images could contain transparency (where diff images\n",
       "                // almost always do), so we need to clear the canvas so that\n",
       "                // there is no ghosting.\n",
       "                fig.context.clearRect(0, 0, fig.canvas.width, fig.canvas.height);\n",
       "            }\n",
       "            fig.context.drawImage(fig.imageObj, 0, 0);\n",
       "        };\n",
       "\n",
       "    this.imageObj.onunload = function() {\n",
       "        fig.ws.close();\n",
       "    }\n",
       "\n",
       "    this.ws.onmessage = this._make_on_message_function(this);\n",
       "\n",
       "    this.ondownload = ondownload;\n",
       "}\n",
       "\n",
       "mpl.figure.prototype._init_header = function() {\n",
       "    var titlebar = $(\n",
       "        '<div class=\"ui-dialog-titlebar ui-widget-header ui-corner-all ' +\n",
       "        'ui-helper-clearfix\"/>');\n",
       "    var titletext = $(\n",
       "        '<div class=\"ui-dialog-title\" style=\"width: 100%; ' +\n",
       "        'text-align: center; padding: 3px;\"/>');\n",
       "    titlebar.append(titletext)\n",
       "    this.root.append(titlebar);\n",
       "    this.header = titletext[0];\n",
       "}\n",
       "\n",
       "\n",
       "\n",
       "mpl.figure.prototype._canvas_extra_style = function(canvas_div) {\n",
       "\n",
       "}\n",
       "\n",
       "\n",
       "mpl.figure.prototype._root_extra_style = function(canvas_div) {\n",
       "\n",
       "}\n",
       "\n",
       "mpl.figure.prototype._init_canvas = function() {\n",
       "    var fig = this;\n",
       "\n",
       "    var canvas_div = $('<div/>');\n",
       "\n",
       "    canvas_div.attr('style', 'position: relative; clear: both; outline: 0');\n",
       "\n",
       "    function canvas_keyboard_event(event) {\n",
       "        return fig.key_event(event, event['data']);\n",
       "    }\n",
       "\n",
       "    canvas_div.keydown('key_press', canvas_keyboard_event);\n",
       "    canvas_div.keyup('key_release', canvas_keyboard_event);\n",
       "    this.canvas_div = canvas_div\n",
       "    this._canvas_extra_style(canvas_div)\n",
       "    this.root.append(canvas_div);\n",
       "\n",
       "    var canvas = $('<canvas/>');\n",
       "    canvas.addClass('mpl-canvas');\n",
       "    canvas.attr('style', \"left: 0; top: 0; z-index: 0; outline: 0\")\n",
       "\n",
       "    this.canvas = canvas[0];\n",
       "    this.context = canvas[0].getContext(\"2d\");\n",
       "\n",
       "    var backingStore = this.context.backingStorePixelRatio ||\n",
       "\tthis.context.webkitBackingStorePixelRatio ||\n",
       "\tthis.context.mozBackingStorePixelRatio ||\n",
       "\tthis.context.msBackingStorePixelRatio ||\n",
       "\tthis.context.oBackingStorePixelRatio ||\n",
       "\tthis.context.backingStorePixelRatio || 1;\n",
       "\n",
       "    mpl.ratio = (window.devicePixelRatio || 1) / backingStore;\n",
       "\n",
       "    var rubberband = $('<canvas/>');\n",
       "    rubberband.attr('style', \"position: absolute; left: 0; top: 0; z-index: 1;\")\n",
       "\n",
       "    var pass_mouse_events = true;\n",
       "\n",
       "    canvas_div.resizable({\n",
       "        start: function(event, ui) {\n",
       "            pass_mouse_events = false;\n",
       "        },\n",
       "        resize: function(event, ui) {\n",
       "            fig.request_resize(ui.size.width, ui.size.height);\n",
       "        },\n",
       "        stop: function(event, ui) {\n",
       "            pass_mouse_events = true;\n",
       "            fig.request_resize(ui.size.width, ui.size.height);\n",
       "        },\n",
       "    });\n",
       "\n",
       "    function mouse_event_fn(event) {\n",
       "        if (pass_mouse_events)\n",
       "            return fig.mouse_event(event, event['data']);\n",
       "    }\n",
       "\n",
       "    rubberband.mousedown('button_press', mouse_event_fn);\n",
       "    rubberband.mouseup('button_release', mouse_event_fn);\n",
       "    // Throttle sequential mouse events to 1 every 20ms.\n",
       "    rubberband.mousemove('motion_notify', mouse_event_fn);\n",
       "\n",
       "    rubberband.mouseenter('figure_enter', mouse_event_fn);\n",
       "    rubberband.mouseleave('figure_leave', mouse_event_fn);\n",
       "\n",
       "    canvas_div.on(\"wheel\", function (event) {\n",
       "        event = event.originalEvent;\n",
       "        event['data'] = 'scroll'\n",
       "        if (event.deltaY < 0) {\n",
       "            event.step = 1;\n",
       "        } else {\n",
       "            event.step = -1;\n",
       "        }\n",
       "        mouse_event_fn(event);\n",
       "    });\n",
       "\n",
       "    canvas_div.append(canvas);\n",
       "    canvas_div.append(rubberband);\n",
       "\n",
       "    this.rubberband = rubberband;\n",
       "    this.rubberband_canvas = rubberband[0];\n",
       "    this.rubberband_context = rubberband[0].getContext(\"2d\");\n",
       "    this.rubberband_context.strokeStyle = \"#000000\";\n",
       "\n",
       "    this._resize_canvas = function(width, height) {\n",
       "        // Keep the size of the canvas, canvas container, and rubber band\n",
       "        // canvas in synch.\n",
       "        canvas_div.css('width', width)\n",
       "        canvas_div.css('height', height)\n",
       "\n",
       "        canvas.attr('width', width * mpl.ratio);\n",
       "        canvas.attr('height', height * mpl.ratio);\n",
       "        canvas.attr('style', 'width: ' + width + 'px; height: ' + height + 'px;');\n",
       "\n",
       "        rubberband.attr('width', width);\n",
       "        rubberband.attr('height', height);\n",
       "    }\n",
       "\n",
       "    // Set the figure to an initial 600x600px, this will subsequently be updated\n",
       "    // upon first draw.\n",
       "    this._resize_canvas(600, 600);\n",
       "\n",
       "    // Disable right mouse context menu.\n",
       "    $(this.rubberband_canvas).bind(\"contextmenu\",function(e){\n",
       "        return false;\n",
       "    });\n",
       "\n",
       "    function set_focus () {\n",
       "        canvas.focus();\n",
       "        canvas_div.focus();\n",
       "    }\n",
       "\n",
       "    window.setTimeout(set_focus, 100);\n",
       "}\n",
       "\n",
       "mpl.figure.prototype._init_toolbar = function() {\n",
       "    var fig = this;\n",
       "\n",
       "    var nav_element = $('<div/>');\n",
       "    nav_element.attr('style', 'width: 100%');\n",
       "    this.root.append(nav_element);\n",
       "\n",
       "    // Define a callback function for later on.\n",
       "    function toolbar_event(event) {\n",
       "        return fig.toolbar_button_onclick(event['data']);\n",
       "    }\n",
       "    function toolbar_mouse_event(event) {\n",
       "        return fig.toolbar_button_onmouseover(event['data']);\n",
       "    }\n",
       "\n",
       "    for(var toolbar_ind in mpl.toolbar_items) {\n",
       "        var name = mpl.toolbar_items[toolbar_ind][0];\n",
       "        var tooltip = mpl.toolbar_items[toolbar_ind][1];\n",
       "        var image = mpl.toolbar_items[toolbar_ind][2];\n",
       "        var method_name = mpl.toolbar_items[toolbar_ind][3];\n",
       "\n",
       "        if (!name) {\n",
       "            // put a spacer in here.\n",
       "            continue;\n",
       "        }\n",
       "        var button = $('<button/>');\n",
       "        button.addClass('ui-button ui-widget ui-state-default ui-corner-all ' +\n",
       "                        'ui-button-icon-only');\n",
       "        button.attr('role', 'button');\n",
       "        button.attr('aria-disabled', 'false');\n",
       "        button.click(method_name, toolbar_event);\n",
       "        button.mouseover(tooltip, toolbar_mouse_event);\n",
       "\n",
       "        var icon_img = $('<span/>');\n",
       "        icon_img.addClass('ui-button-icon-primary ui-icon');\n",
       "        icon_img.addClass(image);\n",
       "        icon_img.addClass('ui-corner-all');\n",
       "\n",
       "        var tooltip_span = $('<span/>');\n",
       "        tooltip_span.addClass('ui-button-text');\n",
       "        tooltip_span.html(tooltip);\n",
       "\n",
       "        button.append(icon_img);\n",
       "        button.append(tooltip_span);\n",
       "\n",
       "        nav_element.append(button);\n",
       "    }\n",
       "\n",
       "    var fmt_picker_span = $('<span/>');\n",
       "\n",
       "    var fmt_picker = $('<select/>');\n",
       "    fmt_picker.addClass('mpl-toolbar-option ui-widget ui-widget-content');\n",
       "    fmt_picker_span.append(fmt_picker);\n",
       "    nav_element.append(fmt_picker_span);\n",
       "    this.format_dropdown = fmt_picker[0];\n",
       "\n",
       "    for (var ind in mpl.extensions) {\n",
       "        var fmt = mpl.extensions[ind];\n",
       "        var option = $(\n",
       "            '<option/>', {selected: fmt === mpl.default_extension}).html(fmt);\n",
       "        fmt_picker.append(option);\n",
       "    }\n",
       "\n",
       "    // Add hover states to the ui-buttons\n",
       "    $( \".ui-button\" ).hover(\n",
       "        function() { $(this).addClass(\"ui-state-hover\");},\n",
       "        function() { $(this).removeClass(\"ui-state-hover\");}\n",
       "    );\n",
       "\n",
       "    var status_bar = $('<span class=\"mpl-message\"/>');\n",
       "    nav_element.append(status_bar);\n",
       "    this.message = status_bar[0];\n",
       "}\n",
       "\n",
       "mpl.figure.prototype.request_resize = function(x_pixels, y_pixels) {\n",
       "    // Request matplotlib to resize the figure. Matplotlib will then trigger a resize in the client,\n",
       "    // which will in turn request a refresh of the image.\n",
       "    this.send_message('resize', {'width': x_pixels, 'height': y_pixels});\n",
       "}\n",
       "\n",
       "mpl.figure.prototype.send_message = function(type, properties) {\n",
       "    properties['type'] = type;\n",
       "    properties['figure_id'] = this.id;\n",
       "    this.ws.send(JSON.stringify(properties));\n",
       "}\n",
       "\n",
       "mpl.figure.prototype.send_draw_message = function() {\n",
       "    if (!this.waiting) {\n",
       "        this.waiting = true;\n",
       "        this.ws.send(JSON.stringify({type: \"draw\", figure_id: this.id}));\n",
       "    }\n",
       "}\n",
       "\n",
       "\n",
       "mpl.figure.prototype.handle_save = function(fig, msg) {\n",
       "    var format_dropdown = fig.format_dropdown;\n",
       "    var format = format_dropdown.options[format_dropdown.selectedIndex].value;\n",
       "    fig.ondownload(fig, format);\n",
       "}\n",
       "\n",
       "\n",
       "mpl.figure.prototype.handle_resize = function(fig, msg) {\n",
       "    var size = msg['size'];\n",
       "    if (size[0] != fig.canvas.width || size[1] != fig.canvas.height) {\n",
       "        fig._resize_canvas(size[0], size[1]);\n",
       "        fig.send_message(\"refresh\", {});\n",
       "    };\n",
       "}\n",
       "\n",
       "mpl.figure.prototype.handle_rubberband = function(fig, msg) {\n",
       "    var x0 = msg['x0'] / mpl.ratio;\n",
       "    var y0 = (fig.canvas.height - msg['y0']) / mpl.ratio;\n",
       "    var x1 = msg['x1'] / mpl.ratio;\n",
       "    var y1 = (fig.canvas.height - msg['y1']) / mpl.ratio;\n",
       "    x0 = Math.floor(x0) + 0.5;\n",
       "    y0 = Math.floor(y0) + 0.5;\n",
       "    x1 = Math.floor(x1) + 0.5;\n",
       "    y1 = Math.floor(y1) + 0.5;\n",
       "    var min_x = Math.min(x0, x1);\n",
       "    var min_y = Math.min(y0, y1);\n",
       "    var width = Math.abs(x1 - x0);\n",
       "    var height = Math.abs(y1 - y0);\n",
       "\n",
       "    fig.rubberband_context.clearRect(\n",
       "        0, 0, fig.canvas.width / mpl.ratio, fig.canvas.height / mpl.ratio);\n",
       "\n",
       "    fig.rubberband_context.strokeRect(min_x, min_y, width, height);\n",
       "}\n",
       "\n",
       "mpl.figure.prototype.handle_figure_label = function(fig, msg) {\n",
       "    // Updates the figure title.\n",
       "    fig.header.textContent = msg['label'];\n",
       "}\n",
       "\n",
       "mpl.figure.prototype.handle_cursor = function(fig, msg) {\n",
       "    var cursor = msg['cursor'];\n",
       "    switch(cursor)\n",
       "    {\n",
       "    case 0:\n",
       "        cursor = 'pointer';\n",
       "        break;\n",
       "    case 1:\n",
       "        cursor = 'default';\n",
       "        break;\n",
       "    case 2:\n",
       "        cursor = 'crosshair';\n",
       "        break;\n",
       "    case 3:\n",
       "        cursor = 'move';\n",
       "        break;\n",
       "    }\n",
       "    fig.rubberband_canvas.style.cursor = cursor;\n",
       "}\n",
       "\n",
       "mpl.figure.prototype.handle_message = function(fig, msg) {\n",
       "    fig.message.textContent = msg['message'];\n",
       "}\n",
       "\n",
       "mpl.figure.prototype.handle_draw = function(fig, msg) {\n",
       "    // Request the server to send over a new figure.\n",
       "    fig.send_draw_message();\n",
       "}\n",
       "\n",
       "mpl.figure.prototype.handle_image_mode = function(fig, msg) {\n",
       "    fig.image_mode = msg['mode'];\n",
       "}\n",
       "\n",
       "mpl.figure.prototype.updated_canvas_event = function() {\n",
       "    // Called whenever the canvas gets updated.\n",
       "    this.send_message(\"ack\", {});\n",
       "}\n",
       "\n",
       "// A function to construct a web socket function for onmessage handling.\n",
       "// Called in the figure constructor.\n",
       "mpl.figure.prototype._make_on_message_function = function(fig) {\n",
       "    return function socket_on_message(evt) {\n",
       "        if (evt.data instanceof Blob) {\n",
       "            /* FIXME: We get \"Resource interpreted as Image but\n",
       "             * transferred with MIME type text/plain:\" errors on\n",
       "             * Chrome.  But how to set the MIME type?  It doesn't seem\n",
       "             * to be part of the websocket stream */\n",
       "            evt.data.type = \"image/png\";\n",
       "\n",
       "            /* Free the memory for the previous frames */\n",
       "            if (fig.imageObj.src) {\n",
       "                (window.URL || window.webkitURL).revokeObjectURL(\n",
       "                    fig.imageObj.src);\n",
       "            }\n",
       "\n",
       "            fig.imageObj.src = (window.URL || window.webkitURL).createObjectURL(\n",
       "                evt.data);\n",
       "            fig.updated_canvas_event();\n",
       "            fig.waiting = false;\n",
       "            return;\n",
       "        }\n",
       "        else if (typeof evt.data === 'string' && evt.data.slice(0, 21) == \"data:image/png;base64\") {\n",
       "            fig.imageObj.src = evt.data;\n",
       "            fig.updated_canvas_event();\n",
       "            fig.waiting = false;\n",
       "            return;\n",
       "        }\n",
       "\n",
       "        var msg = JSON.parse(evt.data);\n",
       "        var msg_type = msg['type'];\n",
       "\n",
       "        // Call the  \"handle_{type}\" callback, which takes\n",
       "        // the figure and JSON message as its only arguments.\n",
       "        try {\n",
       "            var callback = fig[\"handle_\" + msg_type];\n",
       "        } catch (e) {\n",
       "            console.log(\"No handler for the '\" + msg_type + \"' message type: \", msg);\n",
       "            return;\n",
       "        }\n",
       "\n",
       "        if (callback) {\n",
       "            try {\n",
       "                // console.log(\"Handling '\" + msg_type + \"' message: \", msg);\n",
       "                callback(fig, msg);\n",
       "            } catch (e) {\n",
       "                console.log(\"Exception inside the 'handler_\" + msg_type + \"' callback:\", e, e.stack, msg);\n",
       "            }\n",
       "        }\n",
       "    };\n",
       "}\n",
       "\n",
       "// from http://stackoverflow.com/questions/1114465/getting-mouse-location-in-canvas\n",
       "mpl.findpos = function(e) {\n",
       "    //this section is from http://www.quirksmode.org/js/events_properties.html\n",
       "    var targ;\n",
       "    if (!e)\n",
       "        e = window.event;\n",
       "    if (e.target)\n",
       "        targ = e.target;\n",
       "    else if (e.srcElement)\n",
       "        targ = e.srcElement;\n",
       "    if (targ.nodeType == 3) // defeat Safari bug\n",
       "        targ = targ.parentNode;\n",
       "\n",
       "    // jQuery normalizes the pageX and pageY\n",
       "    // pageX,Y are the mouse positions relative to the document\n",
       "    // offset() returns the position of the element relative to the document\n",
       "    var x = e.pageX - $(targ).offset().left;\n",
       "    var y = e.pageY - $(targ).offset().top;\n",
       "\n",
       "    return {\"x\": x, \"y\": y};\n",
       "};\n",
       "\n",
       "/*\n",
       " * return a copy of an object with only non-object keys\n",
       " * we need this to avoid circular references\n",
       " * http://stackoverflow.com/a/24161582/3208463\n",
       " */\n",
       "function simpleKeys (original) {\n",
       "  return Object.keys(original).reduce(function (obj, key) {\n",
       "    if (typeof original[key] !== 'object')\n",
       "        obj[key] = original[key]\n",
       "    return obj;\n",
       "  }, {});\n",
       "}\n",
       "\n",
       "mpl.figure.prototype.mouse_event = function(event, name) {\n",
       "    var canvas_pos = mpl.findpos(event)\n",
       "\n",
       "    if (name === 'button_press')\n",
       "    {\n",
       "        this.canvas.focus();\n",
       "        this.canvas_div.focus();\n",
       "    }\n",
       "\n",
       "    var x = canvas_pos.x * mpl.ratio;\n",
       "    var y = canvas_pos.y * mpl.ratio;\n",
       "\n",
       "    this.send_message(name, {x: x, y: y, button: event.button,\n",
       "                             step: event.step,\n",
       "                             guiEvent: simpleKeys(event)});\n",
       "\n",
       "    /* This prevents the web browser from automatically changing to\n",
       "     * the text insertion cursor when the button is pressed.  We want\n",
       "     * to control all of the cursor setting manually through the\n",
       "     * 'cursor' event from matplotlib */\n",
       "    event.preventDefault();\n",
       "    return false;\n",
       "}\n",
       "\n",
       "mpl.figure.prototype._key_event_extra = function(event, name) {\n",
       "    // Handle any extra behaviour associated with a key event\n",
       "}\n",
       "\n",
       "mpl.figure.prototype.key_event = function(event, name) {\n",
       "\n",
       "    // Prevent repeat events\n",
       "    if (name == 'key_press')\n",
       "    {\n",
       "        if (event.which === this._key)\n",
       "            return;\n",
       "        else\n",
       "            this._key = event.which;\n",
       "    }\n",
       "    if (name == 'key_release')\n",
       "        this._key = null;\n",
       "\n",
       "    var value = '';\n",
       "    if (event.ctrlKey && event.which != 17)\n",
       "        value += \"ctrl+\";\n",
       "    if (event.altKey && event.which != 18)\n",
       "        value += \"alt+\";\n",
       "    if (event.shiftKey && event.which != 16)\n",
       "        value += \"shift+\";\n",
       "\n",
       "    value += 'k';\n",
       "    value += event.which.toString();\n",
       "\n",
       "    this._key_event_extra(event, name);\n",
       "\n",
       "    this.send_message(name, {key: value,\n",
       "                             guiEvent: simpleKeys(event)});\n",
       "    return false;\n",
       "}\n",
       "\n",
       "mpl.figure.prototype.toolbar_button_onclick = function(name) {\n",
       "    if (name == 'download') {\n",
       "        this.handle_save(this, null);\n",
       "    } else {\n",
       "        this.send_message(\"toolbar_button\", {name: name});\n",
       "    }\n",
       "};\n",
       "\n",
       "mpl.figure.prototype.toolbar_button_onmouseover = function(tooltip) {\n",
       "    this.message.textContent = tooltip;\n",
       "};\n",
       "mpl.toolbar_items = [[\"Home\", \"Reset original view\", \"fa fa-home icon-home\", \"home\"], [\"Back\", \"Back to previous view\", \"fa fa-arrow-left icon-arrow-left\", \"back\"], [\"Forward\", \"Forward to next view\", \"fa fa-arrow-right icon-arrow-right\", \"forward\"], [\"\", \"\", \"\", \"\"], [\"Pan\", \"Pan axes with left mouse, zoom with right\", \"fa fa-arrows icon-move\", \"pan\"], [\"Zoom\", \"Zoom to rectangle\", \"fa fa-square-o icon-check-empty\", \"zoom\"], [\"\", \"\", \"\", \"\"], [\"Download\", \"Download plot\", \"fa fa-floppy-o icon-save\", \"download\"]];\n",
       "\n",
       "mpl.extensions = [\"eps\", \"jpeg\", \"pdf\", \"png\", \"ps\", \"raw\", \"svg\", \"tif\"];\n",
       "\n",
       "mpl.default_extension = \"png\";var comm_websocket_adapter = function(comm) {\n",
       "    // Create a \"websocket\"-like object which calls the given IPython comm\n",
       "    // object with the appropriate methods. Currently this is a non binary\n",
       "    // socket, so there is still some room for performance tuning.\n",
       "    var ws = {};\n",
       "\n",
       "    ws.close = function() {\n",
       "        comm.close()\n",
       "    };\n",
       "    ws.send = function(m) {\n",
       "        //console.log('sending', m);\n",
       "        comm.send(m);\n",
       "    };\n",
       "    // Register the callback with on_msg.\n",
       "    comm.on_msg(function(msg) {\n",
       "        //console.log('receiving', msg['content']['data'], msg);\n",
       "        // Pass the mpl event to the overridden (by mpl) onmessage function.\n",
       "        ws.onmessage(msg['content']['data'])\n",
       "    });\n",
       "    return ws;\n",
       "}\n",
       "\n",
       "mpl.mpl_figure_comm = function(comm, msg) {\n",
       "    // This is the function which gets called when the mpl process\n",
       "    // starts-up an IPython Comm through the \"matplotlib\" channel.\n",
       "\n",
       "    var id = msg.content.data.id;\n",
       "    // Get hold of the div created by the display call when the Comm\n",
       "    // socket was opened in Python.\n",
       "    var element = $(\"#\" + id);\n",
       "    var ws_proxy = comm_websocket_adapter(comm)\n",
       "\n",
       "    function ondownload(figure, format) {\n",
       "        window.open(figure.imageObj.src);\n",
       "    }\n",
       "\n",
       "    var fig = new mpl.figure(id, ws_proxy,\n",
       "                           ondownload,\n",
       "                           element.get(0));\n",
       "\n",
       "    // Call onopen now - mpl needs it, as it is assuming we've passed it a real\n",
       "    // web socket which is closed, not our websocket->open comm proxy.\n",
       "    ws_proxy.onopen();\n",
       "\n",
       "    fig.parent_element = element.get(0);\n",
       "    fig.cell_info = mpl.find_output_cell(\"<div id='\" + id + \"'></div>\");\n",
       "    if (!fig.cell_info) {\n",
       "        console.error(\"Failed to find cell for figure\", id, fig);\n",
       "        return;\n",
       "    }\n",
       "\n",
       "    var output_index = fig.cell_info[2]\n",
       "    var cell = fig.cell_info[0];\n",
       "\n",
       "};\n",
       "\n",
       "mpl.figure.prototype.handle_close = function(fig, msg) {\n",
       "    var width = fig.canvas.width/mpl.ratio\n",
       "    fig.root.unbind('remove')\n",
       "\n",
       "    // Update the output cell to use the data from the current canvas.\n",
       "    fig.push_to_output();\n",
       "    var dataURL = fig.canvas.toDataURL();\n",
       "    // Re-enable the keyboard manager in IPython - without this line, in FF,\n",
       "    // the notebook keyboard shortcuts fail.\n",
       "    IPython.keyboard_manager.enable()\n",
       "    $(fig.parent_element).html('<img src=\"' + dataURL + '\" width=\"' + width + '\">');\n",
       "    fig.close_ws(fig, msg);\n",
       "}\n",
       "\n",
       "mpl.figure.prototype.close_ws = function(fig, msg){\n",
       "    fig.send_message('closing', msg);\n",
       "    // fig.ws.close()\n",
       "}\n",
       "\n",
       "mpl.figure.prototype.push_to_output = function(remove_interactive) {\n",
       "    // Turn the data on the canvas into data in the output cell.\n",
       "    var width = this.canvas.width/mpl.ratio\n",
       "    var dataURL = this.canvas.toDataURL();\n",
       "    this.cell_info[1]['text/html'] = '<img src=\"' + dataURL + '\" width=\"' + width + '\">';\n",
       "}\n",
       "\n",
       "mpl.figure.prototype.updated_canvas_event = function() {\n",
       "    // Tell IPython that the notebook contents must change.\n",
       "    IPython.notebook.set_dirty(true);\n",
       "    this.send_message(\"ack\", {});\n",
       "    var fig = this;\n",
       "    // Wait a second, then push the new image to the DOM so\n",
       "    // that it is saved nicely (might be nice to debounce this).\n",
       "    setTimeout(function () { fig.push_to_output() }, 1000);\n",
       "}\n",
       "\n",
       "mpl.figure.prototype._init_toolbar = function() {\n",
       "    var fig = this;\n",
       "\n",
       "    var nav_element = $('<div/>');\n",
       "    nav_element.attr('style', 'width: 100%');\n",
       "    this.root.append(nav_element);\n",
       "\n",
       "    // Define a callback function for later on.\n",
       "    function toolbar_event(event) {\n",
       "        return fig.toolbar_button_onclick(event['data']);\n",
       "    }\n",
       "    function toolbar_mouse_event(event) {\n",
       "        return fig.toolbar_button_onmouseover(event['data']);\n",
       "    }\n",
       "\n",
       "    for(var toolbar_ind in mpl.toolbar_items){\n",
       "        var name = mpl.toolbar_items[toolbar_ind][0];\n",
       "        var tooltip = mpl.toolbar_items[toolbar_ind][1];\n",
       "        var image = mpl.toolbar_items[toolbar_ind][2];\n",
       "        var method_name = mpl.toolbar_items[toolbar_ind][3];\n",
       "\n",
       "        if (!name) { continue; };\n",
       "\n",
       "        var button = $('<button class=\"btn btn-default\" href=\"#\" title=\"' + name + '\"><i class=\"fa ' + image + ' fa-lg\"></i></button>');\n",
       "        button.click(method_name, toolbar_event);\n",
       "        button.mouseover(tooltip, toolbar_mouse_event);\n",
       "        nav_element.append(button);\n",
       "    }\n",
       "\n",
       "    // Add the status bar.\n",
       "    var status_bar = $('<span class=\"mpl-message\" style=\"text-align:right; float: right;\"/>');\n",
       "    nav_element.append(status_bar);\n",
       "    this.message = status_bar[0];\n",
       "\n",
       "    // Add the close button to the window.\n",
       "    var buttongrp = $('<div class=\"btn-group inline pull-right\"></div>');\n",
       "    var button = $('<button class=\"btn btn-mini btn-primary\" href=\"#\" title=\"Stop Interaction\"><i class=\"fa fa-power-off icon-remove icon-large\"></i></button>');\n",
       "    button.click(function (evt) { fig.handle_close(fig, {}); } );\n",
       "    button.mouseover('Stop Interaction', toolbar_mouse_event);\n",
       "    buttongrp.append(button);\n",
       "    var titlebar = this.root.find($('.ui-dialog-titlebar'));\n",
       "    titlebar.prepend(buttongrp);\n",
       "}\n",
       "\n",
       "mpl.figure.prototype._root_extra_style = function(el){\n",
       "    var fig = this\n",
       "    el.on(\"remove\", function(){\n",
       "\tfig.close_ws(fig, {});\n",
       "    });\n",
       "}\n",
       "\n",
       "mpl.figure.prototype._canvas_extra_style = function(el){\n",
       "    // this is important to make the div 'focusable\n",
       "    el.attr('tabindex', 0)\n",
       "    // reach out to IPython and tell the keyboard manager to turn it's self\n",
       "    // off when our div gets focus\n",
       "\n",
       "    // location in version 3\n",
       "    if (IPython.notebook.keyboard_manager) {\n",
       "        IPython.notebook.keyboard_manager.register_events(el);\n",
       "    }\n",
       "    else {\n",
       "        // location in version 2\n",
       "        IPython.keyboard_manager.register_events(el);\n",
       "    }\n",
       "\n",
       "}\n",
       "\n",
       "mpl.figure.prototype._key_event_extra = function(event, name) {\n",
       "    var manager = IPython.notebook.keyboard_manager;\n",
       "    if (!manager)\n",
       "        manager = IPython.keyboard_manager;\n",
       "\n",
       "    // Check for shift+enter\n",
       "    if (event.shiftKey && event.which == 13) {\n",
       "        this.canvas_div.blur();\n",
       "        // select the cell after this one\n",
       "        var index = IPython.notebook.find_cell_index(this.cell_info[0]);\n",
       "        IPython.notebook.select(index + 1);\n",
       "    }\n",
       "}\n",
       "\n",
       "mpl.figure.prototype.handle_save = function(fig, msg) {\n",
       "    fig.ondownload(fig, null);\n",
       "}\n",
       "\n",
       "\n",
       "mpl.find_output_cell = function(html_output) {\n",
       "    // Return the cell and output element which can be found *uniquely* in the notebook.\n",
       "    // Note - this is a bit hacky, but it is done because the \"notebook_saving.Notebook\"\n",
       "    // IPython event is triggered only after the cells have been serialised, which for\n",
       "    // our purposes (turning an active figure into a static one), is too late.\n",
       "    var cells = IPython.notebook.get_cells();\n",
       "    var ncells = cells.length;\n",
       "    for (var i=0; i<ncells; i++) {\n",
       "        var cell = cells[i];\n",
       "        if (cell.cell_type === 'code'){\n",
       "            for (var j=0; j<cell.output_area.outputs.length; j++) {\n",
       "                var data = cell.output_area.outputs[j];\n",
       "                if (data.data) {\n",
       "                    // IPython >= 3 moved mimebundle to data attribute of output\n",
       "                    data = data.data;\n",
       "                }\n",
       "                if (data['text/html'] == html_output) {\n",
       "                    return [cell, data, j];\n",
       "                }\n",
       "            }\n",
       "        }\n",
       "    }\n",
       "}\n",
       "\n",
       "// Register the function which deals with the matplotlib target/channel.\n",
       "// The kernel may be null if the page has been refreshed.\n",
       "if (IPython.notebook.kernel != null) {\n",
       "    IPython.notebook.kernel.comm_manager.register_target('matplotlib', mpl.mpl_figure_comm);\n",
       "}\n"
      ],
      "text/plain": [
       "<IPython.core.display.Javascript object>"
      ]
     },
     "metadata": {},
     "output_type": "display_data"
    },
    {
     "data": {
      "text/html": [
       "<img src=\"data:image/png;base64,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\" width=\"240\">"
      ],
      "text/plain": [
       "<IPython.core.display.HTML object>"
      ]
     },
     "metadata": {},
     "output_type": "display_data"
    }
   ],
   "source": [
    "plot_diff(nd_U + nd_U.swapaxes(-1, -2), - S_1_mo)"
   ]
  },
  {
   "cell_type": "markdown",
   "metadata": {},
   "source": [
    "### B 矩阵"
   ]
  },
  {
   "cell_type": "markdown",
   "metadata": {},
   "source": [
    "- `B_1` $B_{pq}^{\\mathbb{A}, \\sigma}$, dim: $(\\sigma, \\mathbb{A}, p, q)$\n",
    "\n",
    "$$\n",
    "B_{pq}^{\\mathbb{A}, \\sigma} = F_{pq}^{\\mathbb{A}, \\sigma} - S_{pq}^{\\mathbb{A}, \\sigma} \\varepsilon_q^\\sigma - \\frac{1}{2} \\mathtt{Ax}_{pq}^\\sigma [S_{ij}^{\\sigma'}]\n",
    "$$"
   ]
  },
  {
   "cell_type": "code",
   "execution_count": 95,
   "metadata": {},
   "outputs": [
    {
     "data": {
      "text/plain": [
       "(2, 12, 15, 15)"
      ]
     },
     "execution_count": 95,
     "metadata": {},
     "output_type": "execute_result"
    }
   ],
   "source": [
    "B_1 = gradh.B_1\n",
    "B_1.shape"
   ]
  },
  {
   "cell_type": "code",
   "execution_count": 96,
   "metadata": {},
   "outputs": [],
   "source": [
    "F_1_mo = gradh.F_1_mo\n",
    "B_1_ = (\n",
    "    + F_1_mo\n",
    "    - np.einsum(\"xApq, xq -> xApq\", S_1_mo, e)\n",
    "    - 0.5 * np.array(Ax0_Core(sa, sa, so, so)((S_1_mo[0, :, so[0], so[0]], S_1_mo[1, :, so[1], so[1]])))\n",
    ")"
   ]
  },
  {
   "cell_type": "code",
   "execution_count": 97,
   "metadata": {},
   "outputs": [
    {
     "data": {
      "text/plain": [
       "True"
      ]
     },
     "execution_count": 97,
     "metadata": {},
     "output_type": "execute_result"
    }
   ],
   "source": [
    "np.allclose(B_1_, B_1)"
   ]
  },
  {
   "cell_type": "markdown",
   "metadata": {},
   "source": [
    "### CP-HF 方程验证"
   ]
  },
  {
   "cell_type": "markdown",
   "metadata": {},
   "source": [
    "$$\n",
    "- (\\varepsilon_a^\\sigma - \\varepsilon_i^\\sigma) U_{ai}^{\\mathbb{A}, \\sigma} - \\mathtt{Ax}_{ai}^\\sigma [U_{bj}^{\\mathbb{A}, \\sigma'}] = B_{ai}^{\\mathbb{A}, \\sigma}\n",
    "$$"
   ]
  },
  {
   "cell_type": "code",
   "execution_count": 98,
   "metadata": {},
   "outputs": [
    {
     "data": {
      "application/javascript": [
       "/* Put everything inside the global mpl namespace */\n",
       "window.mpl = {};\n",
       "\n",
       "\n",
       "mpl.get_websocket_type = function() {\n",
       "    if (typeof(WebSocket) !== 'undefined') {\n",
       "        return WebSocket;\n",
       "    } else if (typeof(MozWebSocket) !== 'undefined') {\n",
       "        return MozWebSocket;\n",
       "    } else {\n",
       "        alert('Your browser does not have WebSocket support. ' +\n",
       "              'Please try Chrome, Safari or Firefox ≥ 6. ' +\n",
       "              'Firefox 4 and 5 are also supported but you ' +\n",
       "              'have to enable WebSockets in about:config.');\n",
       "    };\n",
       "}\n",
       "\n",
       "mpl.figure = function(figure_id, websocket, ondownload, parent_element) {\n",
       "    this.id = figure_id;\n",
       "\n",
       "    this.ws = websocket;\n",
       "\n",
       "    this.supports_binary = (this.ws.binaryType != undefined);\n",
       "\n",
       "    if (!this.supports_binary) {\n",
       "        var warnings = document.getElementById(\"mpl-warnings\");\n",
       "        if (warnings) {\n",
       "            warnings.style.display = 'block';\n",
       "            warnings.textContent = (\n",
       "                \"This browser does not support binary websocket messages. \" +\n",
       "                    \"Performance may be slow.\");\n",
       "        }\n",
       "    }\n",
       "\n",
       "    this.imageObj = new Image();\n",
       "\n",
       "    this.context = undefined;\n",
       "    this.message = undefined;\n",
       "    this.canvas = undefined;\n",
       "    this.rubberband_canvas = undefined;\n",
       "    this.rubberband_context = undefined;\n",
       "    this.format_dropdown = undefined;\n",
       "\n",
       "    this.image_mode = 'full';\n",
       "\n",
       "    this.root = $('<div/>');\n",
       "    this._root_extra_style(this.root)\n",
       "    this.root.attr('style', 'display: inline-block');\n",
       "\n",
       "    $(parent_element).append(this.root);\n",
       "\n",
       "    this._init_header(this);\n",
       "    this._init_canvas(this);\n",
       "    this._init_toolbar(this);\n",
       "\n",
       "    var fig = this;\n",
       "\n",
       "    this.waiting = false;\n",
       "\n",
       "    this.ws.onopen =  function () {\n",
       "            fig.send_message(\"supports_binary\", {value: fig.supports_binary});\n",
       "            fig.send_message(\"send_image_mode\", {});\n",
       "            if (mpl.ratio != 1) {\n",
       "                fig.send_message(\"set_dpi_ratio\", {'dpi_ratio': mpl.ratio});\n",
       "            }\n",
       "            fig.send_message(\"refresh\", {});\n",
       "        }\n",
       "\n",
       "    this.imageObj.onload = function() {\n",
       "            if (fig.image_mode == 'full') {\n",
       "                // Full images could contain transparency (where diff images\n",
       "                // almost always do), so we need to clear the canvas so that\n",
       "                // there is no ghosting.\n",
       "                fig.context.clearRect(0, 0, fig.canvas.width, fig.canvas.height);\n",
       "            }\n",
       "            fig.context.drawImage(fig.imageObj, 0, 0);\n",
       "        };\n",
       "\n",
       "    this.imageObj.onunload = function() {\n",
       "        fig.ws.close();\n",
       "    }\n",
       "\n",
       "    this.ws.onmessage = this._make_on_message_function(this);\n",
       "\n",
       "    this.ondownload = ondownload;\n",
       "}\n",
       "\n",
       "mpl.figure.prototype._init_header = function() {\n",
       "    var titlebar = $(\n",
       "        '<div class=\"ui-dialog-titlebar ui-widget-header ui-corner-all ' +\n",
       "        'ui-helper-clearfix\"/>');\n",
       "    var titletext = $(\n",
       "        '<div class=\"ui-dialog-title\" style=\"width: 100%; ' +\n",
       "        'text-align: center; padding: 3px;\"/>');\n",
       "    titlebar.append(titletext)\n",
       "    this.root.append(titlebar);\n",
       "    this.header = titletext[0];\n",
       "}\n",
       "\n",
       "\n",
       "\n",
       "mpl.figure.prototype._canvas_extra_style = function(canvas_div) {\n",
       "\n",
       "}\n",
       "\n",
       "\n",
       "mpl.figure.prototype._root_extra_style = function(canvas_div) {\n",
       "\n",
       "}\n",
       "\n",
       "mpl.figure.prototype._init_canvas = function() {\n",
       "    var fig = this;\n",
       "\n",
       "    var canvas_div = $('<div/>');\n",
       "\n",
       "    canvas_div.attr('style', 'position: relative; clear: both; outline: 0');\n",
       "\n",
       "    function canvas_keyboard_event(event) {\n",
       "        return fig.key_event(event, event['data']);\n",
       "    }\n",
       "\n",
       "    canvas_div.keydown('key_press', canvas_keyboard_event);\n",
       "    canvas_div.keyup('key_release', canvas_keyboard_event);\n",
       "    this.canvas_div = canvas_div\n",
       "    this._canvas_extra_style(canvas_div)\n",
       "    this.root.append(canvas_div);\n",
       "\n",
       "    var canvas = $('<canvas/>');\n",
       "    canvas.addClass('mpl-canvas');\n",
       "    canvas.attr('style', \"left: 0; top: 0; z-index: 0; outline: 0\")\n",
       "\n",
       "    this.canvas = canvas[0];\n",
       "    this.context = canvas[0].getContext(\"2d\");\n",
       "\n",
       "    var backingStore = this.context.backingStorePixelRatio ||\n",
       "\tthis.context.webkitBackingStorePixelRatio ||\n",
       "\tthis.context.mozBackingStorePixelRatio ||\n",
       "\tthis.context.msBackingStorePixelRatio ||\n",
       "\tthis.context.oBackingStorePixelRatio ||\n",
       "\tthis.context.backingStorePixelRatio || 1;\n",
       "\n",
       "    mpl.ratio = (window.devicePixelRatio || 1) / backingStore;\n",
       "\n",
       "    var rubberband = $('<canvas/>');\n",
       "    rubberband.attr('style', \"position: absolute; left: 0; top: 0; z-index: 1;\")\n",
       "\n",
       "    var pass_mouse_events = true;\n",
       "\n",
       "    canvas_div.resizable({\n",
       "        start: function(event, ui) {\n",
       "            pass_mouse_events = false;\n",
       "        },\n",
       "        resize: function(event, ui) {\n",
       "            fig.request_resize(ui.size.width, ui.size.height);\n",
       "        },\n",
       "        stop: function(event, ui) {\n",
       "            pass_mouse_events = true;\n",
       "            fig.request_resize(ui.size.width, ui.size.height);\n",
       "        },\n",
       "    });\n",
       "\n",
       "    function mouse_event_fn(event) {\n",
       "        if (pass_mouse_events)\n",
       "            return fig.mouse_event(event, event['data']);\n",
       "    }\n",
       "\n",
       "    rubberband.mousedown('button_press', mouse_event_fn);\n",
       "    rubberband.mouseup('button_release', mouse_event_fn);\n",
       "    // Throttle sequential mouse events to 1 every 20ms.\n",
       "    rubberband.mousemove('motion_notify', mouse_event_fn);\n",
       "\n",
       "    rubberband.mouseenter('figure_enter', mouse_event_fn);\n",
       "    rubberband.mouseleave('figure_leave', mouse_event_fn);\n",
       "\n",
       "    canvas_div.on(\"wheel\", function (event) {\n",
       "        event = event.originalEvent;\n",
       "        event['data'] = 'scroll'\n",
       "        if (event.deltaY < 0) {\n",
       "            event.step = 1;\n",
       "        } else {\n",
       "            event.step = -1;\n",
       "        }\n",
       "        mouse_event_fn(event);\n",
       "    });\n",
       "\n",
       "    canvas_div.append(canvas);\n",
       "    canvas_div.append(rubberband);\n",
       "\n",
       "    this.rubberband = rubberband;\n",
       "    this.rubberband_canvas = rubberband[0];\n",
       "    this.rubberband_context = rubberband[0].getContext(\"2d\");\n",
       "    this.rubberband_context.strokeStyle = \"#000000\";\n",
       "\n",
       "    this._resize_canvas = function(width, height) {\n",
       "        // Keep the size of the canvas, canvas container, and rubber band\n",
       "        // canvas in synch.\n",
       "        canvas_div.css('width', width)\n",
       "        canvas_div.css('height', height)\n",
       "\n",
       "        canvas.attr('width', width * mpl.ratio);\n",
       "        canvas.attr('height', height * mpl.ratio);\n",
       "        canvas.attr('style', 'width: ' + width + 'px; height: ' + height + 'px;');\n",
       "\n",
       "        rubberband.attr('width', width);\n",
       "        rubberband.attr('height', height);\n",
       "    }\n",
       "\n",
       "    // Set the figure to an initial 600x600px, this will subsequently be updated\n",
       "    // upon first draw.\n",
       "    this._resize_canvas(600, 600);\n",
       "\n",
       "    // Disable right mouse context menu.\n",
       "    $(this.rubberband_canvas).bind(\"contextmenu\",function(e){\n",
       "        return false;\n",
       "    });\n",
       "\n",
       "    function set_focus () {\n",
       "        canvas.focus();\n",
       "        canvas_div.focus();\n",
       "    }\n",
       "\n",
       "    window.setTimeout(set_focus, 100);\n",
       "}\n",
       "\n",
       "mpl.figure.prototype._init_toolbar = function() {\n",
       "    var fig = this;\n",
       "\n",
       "    var nav_element = $('<div/>');\n",
       "    nav_element.attr('style', 'width: 100%');\n",
       "    this.root.append(nav_element);\n",
       "\n",
       "    // Define a callback function for later on.\n",
       "    function toolbar_event(event) {\n",
       "        return fig.toolbar_button_onclick(event['data']);\n",
       "    }\n",
       "    function toolbar_mouse_event(event) {\n",
       "        return fig.toolbar_button_onmouseover(event['data']);\n",
       "    }\n",
       "\n",
       "    for(var toolbar_ind in mpl.toolbar_items) {\n",
       "        var name = mpl.toolbar_items[toolbar_ind][0];\n",
       "        var tooltip = mpl.toolbar_items[toolbar_ind][1];\n",
       "        var image = mpl.toolbar_items[toolbar_ind][2];\n",
       "        var method_name = mpl.toolbar_items[toolbar_ind][3];\n",
       "\n",
       "        if (!name) {\n",
       "            // put a spacer in here.\n",
       "            continue;\n",
       "        }\n",
       "        var button = $('<button/>');\n",
       "        button.addClass('ui-button ui-widget ui-state-default ui-corner-all ' +\n",
       "                        'ui-button-icon-only');\n",
       "        button.attr('role', 'button');\n",
       "        button.attr('aria-disabled', 'false');\n",
       "        button.click(method_name, toolbar_event);\n",
       "        button.mouseover(tooltip, toolbar_mouse_event);\n",
       "\n",
       "        var icon_img = $('<span/>');\n",
       "        icon_img.addClass('ui-button-icon-primary ui-icon');\n",
       "        icon_img.addClass(image);\n",
       "        icon_img.addClass('ui-corner-all');\n",
       "\n",
       "        var tooltip_span = $('<span/>');\n",
       "        tooltip_span.addClass('ui-button-text');\n",
       "        tooltip_span.html(tooltip);\n",
       "\n",
       "        button.append(icon_img);\n",
       "        button.append(tooltip_span);\n",
       "\n",
       "        nav_element.append(button);\n",
       "    }\n",
       "\n",
       "    var fmt_picker_span = $('<span/>');\n",
       "\n",
       "    var fmt_picker = $('<select/>');\n",
       "    fmt_picker.addClass('mpl-toolbar-option ui-widget ui-widget-content');\n",
       "    fmt_picker_span.append(fmt_picker);\n",
       "    nav_element.append(fmt_picker_span);\n",
       "    this.format_dropdown = fmt_picker[0];\n",
       "\n",
       "    for (var ind in mpl.extensions) {\n",
       "        var fmt = mpl.extensions[ind];\n",
       "        var option = $(\n",
       "            '<option/>', {selected: fmt === mpl.default_extension}).html(fmt);\n",
       "        fmt_picker.append(option);\n",
       "    }\n",
       "\n",
       "    // Add hover states to the ui-buttons\n",
       "    $( \".ui-button\" ).hover(\n",
       "        function() { $(this).addClass(\"ui-state-hover\");},\n",
       "        function() { $(this).removeClass(\"ui-state-hover\");}\n",
       "    );\n",
       "\n",
       "    var status_bar = $('<span class=\"mpl-message\"/>');\n",
       "    nav_element.append(status_bar);\n",
       "    this.message = status_bar[0];\n",
       "}\n",
       "\n",
       "mpl.figure.prototype.request_resize = function(x_pixels, y_pixels) {\n",
       "    // Request matplotlib to resize the figure. Matplotlib will then trigger a resize in the client,\n",
       "    // which will in turn request a refresh of the image.\n",
       "    this.send_message('resize', {'width': x_pixels, 'height': y_pixels});\n",
       "}\n",
       "\n",
       "mpl.figure.prototype.send_message = function(type, properties) {\n",
       "    properties['type'] = type;\n",
       "    properties['figure_id'] = this.id;\n",
       "    this.ws.send(JSON.stringify(properties));\n",
       "}\n",
       "\n",
       "mpl.figure.prototype.send_draw_message = function() {\n",
       "    if (!this.waiting) {\n",
       "        this.waiting = true;\n",
       "        this.ws.send(JSON.stringify({type: \"draw\", figure_id: this.id}));\n",
       "    }\n",
       "}\n",
       "\n",
       "\n",
       "mpl.figure.prototype.handle_save = function(fig, msg) {\n",
       "    var format_dropdown = fig.format_dropdown;\n",
       "    var format = format_dropdown.options[format_dropdown.selectedIndex].value;\n",
       "    fig.ondownload(fig, format);\n",
       "}\n",
       "\n",
       "\n",
       "mpl.figure.prototype.handle_resize = function(fig, msg) {\n",
       "    var size = msg['size'];\n",
       "    if (size[0] != fig.canvas.width || size[1] != fig.canvas.height) {\n",
       "        fig._resize_canvas(size[0], size[1]);\n",
       "        fig.send_message(\"refresh\", {});\n",
       "    };\n",
       "}\n",
       "\n",
       "mpl.figure.prototype.handle_rubberband = function(fig, msg) {\n",
       "    var x0 = msg['x0'] / mpl.ratio;\n",
       "    var y0 = (fig.canvas.height - msg['y0']) / mpl.ratio;\n",
       "    var x1 = msg['x1'] / mpl.ratio;\n",
       "    var y1 = (fig.canvas.height - msg['y1']) / mpl.ratio;\n",
       "    x0 = Math.floor(x0) + 0.5;\n",
       "    y0 = Math.floor(y0) + 0.5;\n",
       "    x1 = Math.floor(x1) + 0.5;\n",
       "    y1 = Math.floor(y1) + 0.5;\n",
       "    var min_x = Math.min(x0, x1);\n",
       "    var min_y = Math.min(y0, y1);\n",
       "    var width = Math.abs(x1 - x0);\n",
       "    var height = Math.abs(y1 - y0);\n",
       "\n",
       "    fig.rubberband_context.clearRect(\n",
       "        0, 0, fig.canvas.width / mpl.ratio, fig.canvas.height / mpl.ratio);\n",
       "\n",
       "    fig.rubberband_context.strokeRect(min_x, min_y, width, height);\n",
       "}\n",
       "\n",
       "mpl.figure.prototype.handle_figure_label = function(fig, msg) {\n",
       "    // Updates the figure title.\n",
       "    fig.header.textContent = msg['label'];\n",
       "}\n",
       "\n",
       "mpl.figure.prototype.handle_cursor = function(fig, msg) {\n",
       "    var cursor = msg['cursor'];\n",
       "    switch(cursor)\n",
       "    {\n",
       "    case 0:\n",
       "        cursor = 'pointer';\n",
       "        break;\n",
       "    case 1:\n",
       "        cursor = 'default';\n",
       "        break;\n",
       "    case 2:\n",
       "        cursor = 'crosshair';\n",
       "        break;\n",
       "    case 3:\n",
       "        cursor = 'move';\n",
       "        break;\n",
       "    }\n",
       "    fig.rubberband_canvas.style.cursor = cursor;\n",
       "}\n",
       "\n",
       "mpl.figure.prototype.handle_message = function(fig, msg) {\n",
       "    fig.message.textContent = msg['message'];\n",
       "}\n",
       "\n",
       "mpl.figure.prototype.handle_draw = function(fig, msg) {\n",
       "    // Request the server to send over a new figure.\n",
       "    fig.send_draw_message();\n",
       "}\n",
       "\n",
       "mpl.figure.prototype.handle_image_mode = function(fig, msg) {\n",
       "    fig.image_mode = msg['mode'];\n",
       "}\n",
       "\n",
       "mpl.figure.prototype.updated_canvas_event = function() {\n",
       "    // Called whenever the canvas gets updated.\n",
       "    this.send_message(\"ack\", {});\n",
       "}\n",
       "\n",
       "// A function to construct a web socket function for onmessage handling.\n",
       "// Called in the figure constructor.\n",
       "mpl.figure.prototype._make_on_message_function = function(fig) {\n",
       "    return function socket_on_message(evt) {\n",
       "        if (evt.data instanceof Blob) {\n",
       "            /* FIXME: We get \"Resource interpreted as Image but\n",
       "             * transferred with MIME type text/plain:\" errors on\n",
       "             * Chrome.  But how to set the MIME type?  It doesn't seem\n",
       "             * to be part of the websocket stream */\n",
       "            evt.data.type = \"image/png\";\n",
       "\n",
       "            /* Free the memory for the previous frames */\n",
       "            if (fig.imageObj.src) {\n",
       "                (window.URL || window.webkitURL).revokeObjectURL(\n",
       "                    fig.imageObj.src);\n",
       "            }\n",
       "\n",
       "            fig.imageObj.src = (window.URL || window.webkitURL).createObjectURL(\n",
       "                evt.data);\n",
       "            fig.updated_canvas_event();\n",
       "            fig.waiting = false;\n",
       "            return;\n",
       "        }\n",
       "        else if (typeof evt.data === 'string' && evt.data.slice(0, 21) == \"data:image/png;base64\") {\n",
       "            fig.imageObj.src = evt.data;\n",
       "            fig.updated_canvas_event();\n",
       "            fig.waiting = false;\n",
       "            return;\n",
       "        }\n",
       "\n",
       "        var msg = JSON.parse(evt.data);\n",
       "        var msg_type = msg['type'];\n",
       "\n",
       "        // Call the  \"handle_{type}\" callback, which takes\n",
       "        // the figure and JSON message as its only arguments.\n",
       "        try {\n",
       "            var callback = fig[\"handle_\" + msg_type];\n",
       "        } catch (e) {\n",
       "            console.log(\"No handler for the '\" + msg_type + \"' message type: \", msg);\n",
       "            return;\n",
       "        }\n",
       "\n",
       "        if (callback) {\n",
       "            try {\n",
       "                // console.log(\"Handling '\" + msg_type + \"' message: \", msg);\n",
       "                callback(fig, msg);\n",
       "            } catch (e) {\n",
       "                console.log(\"Exception inside the 'handler_\" + msg_type + \"' callback:\", e, e.stack, msg);\n",
       "            }\n",
       "        }\n",
       "    };\n",
       "}\n",
       "\n",
       "// from http://stackoverflow.com/questions/1114465/getting-mouse-location-in-canvas\n",
       "mpl.findpos = function(e) {\n",
       "    //this section is from http://www.quirksmode.org/js/events_properties.html\n",
       "    var targ;\n",
       "    if (!e)\n",
       "        e = window.event;\n",
       "    if (e.target)\n",
       "        targ = e.target;\n",
       "    else if (e.srcElement)\n",
       "        targ = e.srcElement;\n",
       "    if (targ.nodeType == 3) // defeat Safari bug\n",
       "        targ = targ.parentNode;\n",
       "\n",
       "    // jQuery normalizes the pageX and pageY\n",
       "    // pageX,Y are the mouse positions relative to the document\n",
       "    // offset() returns the position of the element relative to the document\n",
       "    var x = e.pageX - $(targ).offset().left;\n",
       "    var y = e.pageY - $(targ).offset().top;\n",
       "\n",
       "    return {\"x\": x, \"y\": y};\n",
       "};\n",
       "\n",
       "/*\n",
       " * return a copy of an object with only non-object keys\n",
       " * we need this to avoid circular references\n",
       " * http://stackoverflow.com/a/24161582/3208463\n",
       " */\n",
       "function simpleKeys (original) {\n",
       "  return Object.keys(original).reduce(function (obj, key) {\n",
       "    if (typeof original[key] !== 'object')\n",
       "        obj[key] = original[key]\n",
       "    return obj;\n",
       "  }, {});\n",
       "}\n",
       "\n",
       "mpl.figure.prototype.mouse_event = function(event, name) {\n",
       "    var canvas_pos = mpl.findpos(event)\n",
       "\n",
       "    if (name === 'button_press')\n",
       "    {\n",
       "        this.canvas.focus();\n",
       "        this.canvas_div.focus();\n",
       "    }\n",
       "\n",
       "    var x = canvas_pos.x * mpl.ratio;\n",
       "    var y = canvas_pos.y * mpl.ratio;\n",
       "\n",
       "    this.send_message(name, {x: x, y: y, button: event.button,\n",
       "                             step: event.step,\n",
       "                             guiEvent: simpleKeys(event)});\n",
       "\n",
       "    /* This prevents the web browser from automatically changing to\n",
       "     * the text insertion cursor when the button is pressed.  We want\n",
       "     * to control all of the cursor setting manually through the\n",
       "     * 'cursor' event from matplotlib */\n",
       "    event.preventDefault();\n",
       "    return false;\n",
       "}\n",
       "\n",
       "mpl.figure.prototype._key_event_extra = function(event, name) {\n",
       "    // Handle any extra behaviour associated with a key event\n",
       "}\n",
       "\n",
       "mpl.figure.prototype.key_event = function(event, name) {\n",
       "\n",
       "    // Prevent repeat events\n",
       "    if (name == 'key_press')\n",
       "    {\n",
       "        if (event.which === this._key)\n",
       "            return;\n",
       "        else\n",
       "            this._key = event.which;\n",
       "    }\n",
       "    if (name == 'key_release')\n",
       "        this._key = null;\n",
       "\n",
       "    var value = '';\n",
       "    if (event.ctrlKey && event.which != 17)\n",
       "        value += \"ctrl+\";\n",
       "    if (event.altKey && event.which != 18)\n",
       "        value += \"alt+\";\n",
       "    if (event.shiftKey && event.which != 16)\n",
       "        value += \"shift+\";\n",
       "\n",
       "    value += 'k';\n",
       "    value += event.which.toString();\n",
       "\n",
       "    this._key_event_extra(event, name);\n",
       "\n",
       "    this.send_message(name, {key: value,\n",
       "                             guiEvent: simpleKeys(event)});\n",
       "    return false;\n",
       "}\n",
       "\n",
       "mpl.figure.prototype.toolbar_button_onclick = function(name) {\n",
       "    if (name == 'download') {\n",
       "        this.handle_save(this, null);\n",
       "    } else {\n",
       "        this.send_message(\"toolbar_button\", {name: name});\n",
       "    }\n",
       "};\n",
       "\n",
       "mpl.figure.prototype.toolbar_button_onmouseover = function(tooltip) {\n",
       "    this.message.textContent = tooltip;\n",
       "};\n",
       "mpl.toolbar_items = [[\"Home\", \"Reset original view\", \"fa fa-home icon-home\", \"home\"], [\"Back\", \"Back to previous view\", \"fa fa-arrow-left icon-arrow-left\", \"back\"], [\"Forward\", \"Forward to next view\", \"fa fa-arrow-right icon-arrow-right\", \"forward\"], [\"\", \"\", \"\", \"\"], [\"Pan\", \"Pan axes with left mouse, zoom with right\", \"fa fa-arrows icon-move\", \"pan\"], [\"Zoom\", \"Zoom to rectangle\", \"fa fa-square-o icon-check-empty\", \"zoom\"], [\"\", \"\", \"\", \"\"], [\"Download\", \"Download plot\", \"fa fa-floppy-o icon-save\", \"download\"]];\n",
       "\n",
       "mpl.extensions = [\"eps\", \"jpeg\", \"pdf\", \"png\", \"ps\", \"raw\", \"svg\", \"tif\"];\n",
       "\n",
       "mpl.default_extension = \"png\";var comm_websocket_adapter = function(comm) {\n",
       "    // Create a \"websocket\"-like object which calls the given IPython comm\n",
       "    // object with the appropriate methods. Currently this is a non binary\n",
       "    // socket, so there is still some room for performance tuning.\n",
       "    var ws = {};\n",
       "\n",
       "    ws.close = function() {\n",
       "        comm.close()\n",
       "    };\n",
       "    ws.send = function(m) {\n",
       "        //console.log('sending', m);\n",
       "        comm.send(m);\n",
       "    };\n",
       "    // Register the callback with on_msg.\n",
       "    comm.on_msg(function(msg) {\n",
       "        //console.log('receiving', msg['content']['data'], msg);\n",
       "        // Pass the mpl event to the overridden (by mpl) onmessage function.\n",
       "        ws.onmessage(msg['content']['data'])\n",
       "    });\n",
       "    return ws;\n",
       "}\n",
       "\n",
       "mpl.mpl_figure_comm = function(comm, msg) {\n",
       "    // This is the function which gets called when the mpl process\n",
       "    // starts-up an IPython Comm through the \"matplotlib\" channel.\n",
       "\n",
       "    var id = msg.content.data.id;\n",
       "    // Get hold of the div created by the display call when the Comm\n",
       "    // socket was opened in Python.\n",
       "    var element = $(\"#\" + id);\n",
       "    var ws_proxy = comm_websocket_adapter(comm)\n",
       "\n",
       "    function ondownload(figure, format) {\n",
       "        window.open(figure.imageObj.src);\n",
       "    }\n",
       "\n",
       "    var fig = new mpl.figure(id, ws_proxy,\n",
       "                           ondownload,\n",
       "                           element.get(0));\n",
       "\n",
       "    // Call onopen now - mpl needs it, as it is assuming we've passed it a real\n",
       "    // web socket which is closed, not our websocket->open comm proxy.\n",
       "    ws_proxy.onopen();\n",
       "\n",
       "    fig.parent_element = element.get(0);\n",
       "    fig.cell_info = mpl.find_output_cell(\"<div id='\" + id + \"'></div>\");\n",
       "    if (!fig.cell_info) {\n",
       "        console.error(\"Failed to find cell for figure\", id, fig);\n",
       "        return;\n",
       "    }\n",
       "\n",
       "    var output_index = fig.cell_info[2]\n",
       "    var cell = fig.cell_info[0];\n",
       "\n",
       "};\n",
       "\n",
       "mpl.figure.prototype.handle_close = function(fig, msg) {\n",
       "    var width = fig.canvas.width/mpl.ratio\n",
       "    fig.root.unbind('remove')\n",
       "\n",
       "    // Update the output cell to use the data from the current canvas.\n",
       "    fig.push_to_output();\n",
       "    var dataURL = fig.canvas.toDataURL();\n",
       "    // Re-enable the keyboard manager in IPython - without this line, in FF,\n",
       "    // the notebook keyboard shortcuts fail.\n",
       "    IPython.keyboard_manager.enable()\n",
       "    $(fig.parent_element).html('<img src=\"' + dataURL + '\" width=\"' + width + '\">');\n",
       "    fig.close_ws(fig, msg);\n",
       "}\n",
       "\n",
       "mpl.figure.prototype.close_ws = function(fig, msg){\n",
       "    fig.send_message('closing', msg);\n",
       "    // fig.ws.close()\n",
       "}\n",
       "\n",
       "mpl.figure.prototype.push_to_output = function(remove_interactive) {\n",
       "    // Turn the data on the canvas into data in the output cell.\n",
       "    var width = this.canvas.width/mpl.ratio\n",
       "    var dataURL = this.canvas.toDataURL();\n",
       "    this.cell_info[1]['text/html'] = '<img src=\"' + dataURL + '\" width=\"' + width + '\">';\n",
       "}\n",
       "\n",
       "mpl.figure.prototype.updated_canvas_event = function() {\n",
       "    // Tell IPython that the notebook contents must change.\n",
       "    IPython.notebook.set_dirty(true);\n",
       "    this.send_message(\"ack\", {});\n",
       "    var fig = this;\n",
       "    // Wait a second, then push the new image to the DOM so\n",
       "    // that it is saved nicely (might be nice to debounce this).\n",
       "    setTimeout(function () { fig.push_to_output() }, 1000);\n",
       "}\n",
       "\n",
       "mpl.figure.prototype._init_toolbar = function() {\n",
       "    var fig = this;\n",
       "\n",
       "    var nav_element = $('<div/>');\n",
       "    nav_element.attr('style', 'width: 100%');\n",
       "    this.root.append(nav_element);\n",
       "\n",
       "    // Define a callback function for later on.\n",
       "    function toolbar_event(event) {\n",
       "        return fig.toolbar_button_onclick(event['data']);\n",
       "    }\n",
       "    function toolbar_mouse_event(event) {\n",
       "        return fig.toolbar_button_onmouseover(event['data']);\n",
       "    }\n",
       "\n",
       "    for(var toolbar_ind in mpl.toolbar_items){\n",
       "        var name = mpl.toolbar_items[toolbar_ind][0];\n",
       "        var tooltip = mpl.toolbar_items[toolbar_ind][1];\n",
       "        var image = mpl.toolbar_items[toolbar_ind][2];\n",
       "        var method_name = mpl.toolbar_items[toolbar_ind][3];\n",
       "\n",
       "        if (!name) { continue; };\n",
       "\n",
       "        var button = $('<button class=\"btn btn-default\" href=\"#\" title=\"' + name + '\"><i class=\"fa ' + image + ' fa-lg\"></i></button>');\n",
       "        button.click(method_name, toolbar_event);\n",
       "        button.mouseover(tooltip, toolbar_mouse_event);\n",
       "        nav_element.append(button);\n",
       "    }\n",
       "\n",
       "    // Add the status bar.\n",
       "    var status_bar = $('<span class=\"mpl-message\" style=\"text-align:right; float: right;\"/>');\n",
       "    nav_element.append(status_bar);\n",
       "    this.message = status_bar[0];\n",
       "\n",
       "    // Add the close button to the window.\n",
       "    var buttongrp = $('<div class=\"btn-group inline pull-right\"></div>');\n",
       "    var button = $('<button class=\"btn btn-mini btn-primary\" href=\"#\" title=\"Stop Interaction\"><i class=\"fa fa-power-off icon-remove icon-large\"></i></button>');\n",
       "    button.click(function (evt) { fig.handle_close(fig, {}); } );\n",
       "    button.mouseover('Stop Interaction', toolbar_mouse_event);\n",
       "    buttongrp.append(button);\n",
       "    var titlebar = this.root.find($('.ui-dialog-titlebar'));\n",
       "    titlebar.prepend(buttongrp);\n",
       "}\n",
       "\n",
       "mpl.figure.prototype._root_extra_style = function(el){\n",
       "    var fig = this\n",
       "    el.on(\"remove\", function(){\n",
       "\tfig.close_ws(fig, {});\n",
       "    });\n",
       "}\n",
       "\n",
       "mpl.figure.prototype._canvas_extra_style = function(el){\n",
       "    // this is important to make the div 'focusable\n",
       "    el.attr('tabindex', 0)\n",
       "    // reach out to IPython and tell the keyboard manager to turn it's self\n",
       "    // off when our div gets focus\n",
       "\n",
       "    // location in version 3\n",
       "    if (IPython.notebook.keyboard_manager) {\n",
       "        IPython.notebook.keyboard_manager.register_events(el);\n",
       "    }\n",
       "    else {\n",
       "        // location in version 2\n",
       "        IPython.keyboard_manager.register_events(el);\n",
       "    }\n",
       "\n",
       "}\n",
       "\n",
       "mpl.figure.prototype._key_event_extra = function(event, name) {\n",
       "    var manager = IPython.notebook.keyboard_manager;\n",
       "    if (!manager)\n",
       "        manager = IPython.keyboard_manager;\n",
       "\n",
       "    // Check for shift+enter\n",
       "    if (event.shiftKey && event.which == 13) {\n",
       "        this.canvas_div.blur();\n",
       "        // select the cell after this one\n",
       "        var index = IPython.notebook.find_cell_index(this.cell_info[0]);\n",
       "        IPython.notebook.select(index + 1);\n",
       "    }\n",
       "}\n",
       "\n",
       "mpl.figure.prototype.handle_save = function(fig, msg) {\n",
       "    fig.ondownload(fig, null);\n",
       "}\n",
       "\n",
       "\n",
       "mpl.find_output_cell = function(html_output) {\n",
       "    // Return the cell and output element which can be found *uniquely* in the notebook.\n",
       "    // Note - this is a bit hacky, but it is done because the \"notebook_saving.Notebook\"\n",
       "    // IPython event is triggered only after the cells have been serialised, which for\n",
       "    // our purposes (turning an active figure into a static one), is too late.\n",
       "    var cells = IPython.notebook.get_cells();\n",
       "    var ncells = cells.length;\n",
       "    for (var i=0; i<ncells; i++) {\n",
       "        var cell = cells[i];\n",
       "        if (cell.cell_type === 'code'){\n",
       "            for (var j=0; j<cell.output_area.outputs.length; j++) {\n",
       "                var data = cell.output_area.outputs[j];\n",
       "                if (data.data) {\n",
       "                    // IPython >= 3 moved mimebundle to data attribute of output\n",
       "                    data = data.data;\n",
       "                }\n",
       "                if (data['text/html'] == html_output) {\n",
       "                    return [cell, data, j];\n",
       "                }\n",
       "            }\n",
       "        }\n",
       "    }\n",
       "}\n",
       "\n",
       "// Register the function which deals with the matplotlib target/channel.\n",
       "// The kernel may be null if the page has been refreshed.\n",
       "if (IPython.notebook.kernel != null) {\n",
       "    IPython.notebook.kernel.comm_manager.register_target('matplotlib', mpl.mpl_figure_comm);\n",
       "}\n"
      ],
      "text/plain": [
       "<IPython.core.display.Javascript object>"
      ]
     },
     "metadata": {},
     "output_type": "display_data"
    },
    {
     "data": {
      "text/html": [
       "<img src=\"data:image/png;base64,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\" width=\"240\">"
      ],
      "text/plain": [
       "<IPython.core.display.HTML object>"
      ]
     },
     "metadata": {},
     "output_type": "display_data"
    }
   ],
   "source": [
    "plot_diff(\n",
    "    - (ev[0][:, None] - eo[0][None, :]) * nd_U[0][:, sv[0], so[0]]\n",
    "    - Ax0_Core(sv, so, sv, so)((nd_U[0][:, sv[0], so[0]], nd_U[1][:, sv[1], so[1]]))[0]\n",
    "    ,\n",
    "    B_1[0][:, sv[0], so[0]]\n",
    ")"
   ]
  },
  {
   "cell_type": "markdown",
   "metadata": {},
   "source": [
    "上述等式还可以将 $a, i$ 拓展到 $p \\neq q$ 的情形。"
   ]
  },
  {
   "cell_type": "markdown",
   "metadata": {},
   "source": [
    "### CP-HF 方程求解"
   ]
  },
  {
   "cell_type": "markdown",
   "metadata": {},
   "source": [
    "在 PySCF 中，求解 Unrestricted CP-HF 方程需要使用的是 `scf.ucphf` 模块。为了讨论问题方便，即使是求取 U 矩阵，我们仍然不会使用到 `solve_withs1` 函数，而实际使用的是 `solve_nos1` 函数。当然，在 PySCF 中，两个函数都会被打包在 `solve` 函数中。"
   ]
  },
  {
   "cell_type": "markdown",
   "metadata": {},
   "source": [
    "与 Restricted 情形完全不同的是，`ucphf.solve` 在计算过程中的传参方式与 `cphf.solve` 完全不同，尽管两个函数有非常类似的参数签名 (signature)。因此，我们传入的第一个参数不可以再像 Restricted CP-HF 一样使用 `Ax0_Core(sv, so, sv, so)`，而必须要额外定义一个函数 `fx`。传参过程中，U 矩阵会转化为维度 $(\\mathbb{A}, n_\\mathrm{vir}^\\alpha n_\\mathrm{occ}^\\alpha + n_\\mathrm{vir}^\\beta n_\\mathrm{occ}^\\beta)$ 的中间矩阵；这些中间矩阵在下述函数中为 `X` 与 `result` 所指代。"
   ]
  },
  {
   "cell_type": "code",
   "execution_count": 99,
   "metadata": {},
   "outputs": [],
   "source": [
    "def fx(X):\n",
    "    prop_dim = X.shape[0]\n",
    "    X_alpha = X[:, :nocc[0] * nvir[0]].reshape((prop_dim, nvir[0], nocc[0]))\n",
    "    X_beta = X[:, nocc[0] * nvir[0]:].reshape((prop_dim, nvir[1], nocc[1]))\n",
    "    Ax = Ax0_Core(sv, so, sv, so, in_cphf=True)((X_alpha, X_beta))\n",
    "    result = np.concatenate([Ax[0].reshape(prop_dim, -1), Ax[1].reshape(prop_dim, -1)], axis=1)\n",
    "    return result"
   ]
  },
  {
   "cell_type": "markdown",
   "metadata": {},
   "source": [
    "- `U_1_vo_` $U_{ai}^{\\mathbb{A}, \\sigma}$, dim: $(\\sigma, \\mathbb{A}, a, i)$, type: `Tuple[np.ndarray]`"
   ]
  },
  {
   "cell_type": "code",
   "execution_count": 100,
   "metadata": {},
   "outputs": [],
   "source": [
    "U_1_vo_ = ucphf.solve(fx, e, mo_occ, (B_1[0, :, sv[0], so[0]], B_1[1, :, sv[1], so[1]]), max_cycle=100, tol=1e-10)[0]"
   ]
  },
  {
   "cell_type": "code",
   "execution_count": 101,
   "metadata": {},
   "outputs": [
    {
     "data": {
      "application/javascript": [
       "/* Put everything inside the global mpl namespace */\n",
       "window.mpl = {};\n",
       "\n",
       "\n",
       "mpl.get_websocket_type = function() {\n",
       "    if (typeof(WebSocket) !== 'undefined') {\n",
       "        return WebSocket;\n",
       "    } else if (typeof(MozWebSocket) !== 'undefined') {\n",
       "        return MozWebSocket;\n",
       "    } else {\n",
       "        alert('Your browser does not have WebSocket support. ' +\n",
       "              'Please try Chrome, Safari or Firefox ≥ 6. ' +\n",
       "              'Firefox 4 and 5 are also supported but you ' +\n",
       "              'have to enable WebSockets in about:config.');\n",
       "    };\n",
       "}\n",
       "\n",
       "mpl.figure = function(figure_id, websocket, ondownload, parent_element) {\n",
       "    this.id = figure_id;\n",
       "\n",
       "    this.ws = websocket;\n",
       "\n",
       "    this.supports_binary = (this.ws.binaryType != undefined);\n",
       "\n",
       "    if (!this.supports_binary) {\n",
       "        var warnings = document.getElementById(\"mpl-warnings\");\n",
       "        if (warnings) {\n",
       "            warnings.style.display = 'block';\n",
       "            warnings.textContent = (\n",
       "                \"This browser does not support binary websocket messages. \" +\n",
       "                    \"Performance may be slow.\");\n",
       "        }\n",
       "    }\n",
       "\n",
       "    this.imageObj = new Image();\n",
       "\n",
       "    this.context = undefined;\n",
       "    this.message = undefined;\n",
       "    this.canvas = undefined;\n",
       "    this.rubberband_canvas = undefined;\n",
       "    this.rubberband_context = undefined;\n",
       "    this.format_dropdown = undefined;\n",
       "\n",
       "    this.image_mode = 'full';\n",
       "\n",
       "    this.root = $('<div/>');\n",
       "    this._root_extra_style(this.root)\n",
       "    this.root.attr('style', 'display: inline-block');\n",
       "\n",
       "    $(parent_element).append(this.root);\n",
       "\n",
       "    this._init_header(this);\n",
       "    this._init_canvas(this);\n",
       "    this._init_toolbar(this);\n",
       "\n",
       "    var fig = this;\n",
       "\n",
       "    this.waiting = false;\n",
       "\n",
       "    this.ws.onopen =  function () {\n",
       "            fig.send_message(\"supports_binary\", {value: fig.supports_binary});\n",
       "            fig.send_message(\"send_image_mode\", {});\n",
       "            if (mpl.ratio != 1) {\n",
       "                fig.send_message(\"set_dpi_ratio\", {'dpi_ratio': mpl.ratio});\n",
       "            }\n",
       "            fig.send_message(\"refresh\", {});\n",
       "        }\n",
       "\n",
       "    this.imageObj.onload = function() {\n",
       "            if (fig.image_mode == 'full') {\n",
       "                // Full images could contain transparency (where diff images\n",
       "                // almost always do), so we need to clear the canvas so that\n",
       "                // there is no ghosting.\n",
       "                fig.context.clearRect(0, 0, fig.canvas.width, fig.canvas.height);\n",
       "            }\n",
       "            fig.context.drawImage(fig.imageObj, 0, 0);\n",
       "        };\n",
       "\n",
       "    this.imageObj.onunload = function() {\n",
       "        fig.ws.close();\n",
       "    }\n",
       "\n",
       "    this.ws.onmessage = this._make_on_message_function(this);\n",
       "\n",
       "    this.ondownload = ondownload;\n",
       "}\n",
       "\n",
       "mpl.figure.prototype._init_header = function() {\n",
       "    var titlebar = $(\n",
       "        '<div class=\"ui-dialog-titlebar ui-widget-header ui-corner-all ' +\n",
       "        'ui-helper-clearfix\"/>');\n",
       "    var titletext = $(\n",
       "        '<div class=\"ui-dialog-title\" style=\"width: 100%; ' +\n",
       "        'text-align: center; padding: 3px;\"/>');\n",
       "    titlebar.append(titletext)\n",
       "    this.root.append(titlebar);\n",
       "    this.header = titletext[0];\n",
       "}\n",
       "\n",
       "\n",
       "\n",
       "mpl.figure.prototype._canvas_extra_style = function(canvas_div) {\n",
       "\n",
       "}\n",
       "\n",
       "\n",
       "mpl.figure.prototype._root_extra_style = function(canvas_div) {\n",
       "\n",
       "}\n",
       "\n",
       "mpl.figure.prototype._init_canvas = function() {\n",
       "    var fig = this;\n",
       "\n",
       "    var canvas_div = $('<div/>');\n",
       "\n",
       "    canvas_div.attr('style', 'position: relative; clear: both; outline: 0');\n",
       "\n",
       "    function canvas_keyboard_event(event) {\n",
       "        return fig.key_event(event, event['data']);\n",
       "    }\n",
       "\n",
       "    canvas_div.keydown('key_press', canvas_keyboard_event);\n",
       "    canvas_div.keyup('key_release', canvas_keyboard_event);\n",
       "    this.canvas_div = canvas_div\n",
       "    this._canvas_extra_style(canvas_div)\n",
       "    this.root.append(canvas_div);\n",
       "\n",
       "    var canvas = $('<canvas/>');\n",
       "    canvas.addClass('mpl-canvas');\n",
       "    canvas.attr('style', \"left: 0; top: 0; z-index: 0; outline: 0\")\n",
       "\n",
       "    this.canvas = canvas[0];\n",
       "    this.context = canvas[0].getContext(\"2d\");\n",
       "\n",
       "    var backingStore = this.context.backingStorePixelRatio ||\n",
       "\tthis.context.webkitBackingStorePixelRatio ||\n",
       "\tthis.context.mozBackingStorePixelRatio ||\n",
       "\tthis.context.msBackingStorePixelRatio ||\n",
       "\tthis.context.oBackingStorePixelRatio ||\n",
       "\tthis.context.backingStorePixelRatio || 1;\n",
       "\n",
       "    mpl.ratio = (window.devicePixelRatio || 1) / backingStore;\n",
       "\n",
       "    var rubberband = $('<canvas/>');\n",
       "    rubberband.attr('style', \"position: absolute; left: 0; top: 0; z-index: 1;\")\n",
       "\n",
       "    var pass_mouse_events = true;\n",
       "\n",
       "    canvas_div.resizable({\n",
       "        start: function(event, ui) {\n",
       "            pass_mouse_events = false;\n",
       "        },\n",
       "        resize: function(event, ui) {\n",
       "            fig.request_resize(ui.size.width, ui.size.height);\n",
       "        },\n",
       "        stop: function(event, ui) {\n",
       "            pass_mouse_events = true;\n",
       "            fig.request_resize(ui.size.width, ui.size.height);\n",
       "        },\n",
       "    });\n",
       "\n",
       "    function mouse_event_fn(event) {\n",
       "        if (pass_mouse_events)\n",
       "            return fig.mouse_event(event, event['data']);\n",
       "    }\n",
       "\n",
       "    rubberband.mousedown('button_press', mouse_event_fn);\n",
       "    rubberband.mouseup('button_release', mouse_event_fn);\n",
       "    // Throttle sequential mouse events to 1 every 20ms.\n",
       "    rubberband.mousemove('motion_notify', mouse_event_fn);\n",
       "\n",
       "    rubberband.mouseenter('figure_enter', mouse_event_fn);\n",
       "    rubberband.mouseleave('figure_leave', mouse_event_fn);\n",
       "\n",
       "    canvas_div.on(\"wheel\", function (event) {\n",
       "        event = event.originalEvent;\n",
       "        event['data'] = 'scroll'\n",
       "        if (event.deltaY < 0) {\n",
       "            event.step = 1;\n",
       "        } else {\n",
       "            event.step = -1;\n",
       "        }\n",
       "        mouse_event_fn(event);\n",
       "    });\n",
       "\n",
       "    canvas_div.append(canvas);\n",
       "    canvas_div.append(rubberband);\n",
       "\n",
       "    this.rubberband = rubberband;\n",
       "    this.rubberband_canvas = rubberband[0];\n",
       "    this.rubberband_context = rubberband[0].getContext(\"2d\");\n",
       "    this.rubberband_context.strokeStyle = \"#000000\";\n",
       "\n",
       "    this._resize_canvas = function(width, height) {\n",
       "        // Keep the size of the canvas, canvas container, and rubber band\n",
       "        // canvas in synch.\n",
       "        canvas_div.css('width', width)\n",
       "        canvas_div.css('height', height)\n",
       "\n",
       "        canvas.attr('width', width * mpl.ratio);\n",
       "        canvas.attr('height', height * mpl.ratio);\n",
       "        canvas.attr('style', 'width: ' + width + 'px; height: ' + height + 'px;');\n",
       "\n",
       "        rubberband.attr('width', width);\n",
       "        rubberband.attr('height', height);\n",
       "    }\n",
       "\n",
       "    // Set the figure to an initial 600x600px, this will subsequently be updated\n",
       "    // upon first draw.\n",
       "    this._resize_canvas(600, 600);\n",
       "\n",
       "    // Disable right mouse context menu.\n",
       "    $(this.rubberband_canvas).bind(\"contextmenu\",function(e){\n",
       "        return false;\n",
       "    });\n",
       "\n",
       "    function set_focus () {\n",
       "        canvas.focus();\n",
       "        canvas_div.focus();\n",
       "    }\n",
       "\n",
       "    window.setTimeout(set_focus, 100);\n",
       "}\n",
       "\n",
       "mpl.figure.prototype._init_toolbar = function() {\n",
       "    var fig = this;\n",
       "\n",
       "    var nav_element = $('<div/>');\n",
       "    nav_element.attr('style', 'width: 100%');\n",
       "    this.root.append(nav_element);\n",
       "\n",
       "    // Define a callback function for later on.\n",
       "    function toolbar_event(event) {\n",
       "        return fig.toolbar_button_onclick(event['data']);\n",
       "    }\n",
       "    function toolbar_mouse_event(event) {\n",
       "        return fig.toolbar_button_onmouseover(event['data']);\n",
       "    }\n",
       "\n",
       "    for(var toolbar_ind in mpl.toolbar_items) {\n",
       "        var name = mpl.toolbar_items[toolbar_ind][0];\n",
       "        var tooltip = mpl.toolbar_items[toolbar_ind][1];\n",
       "        var image = mpl.toolbar_items[toolbar_ind][2];\n",
       "        var method_name = mpl.toolbar_items[toolbar_ind][3];\n",
       "\n",
       "        if (!name) {\n",
       "            // put a spacer in here.\n",
       "            continue;\n",
       "        }\n",
       "        var button = $('<button/>');\n",
       "        button.addClass('ui-button ui-widget ui-state-default ui-corner-all ' +\n",
       "                        'ui-button-icon-only');\n",
       "        button.attr('role', 'button');\n",
       "        button.attr('aria-disabled', 'false');\n",
       "        button.click(method_name, toolbar_event);\n",
       "        button.mouseover(tooltip, toolbar_mouse_event);\n",
       "\n",
       "        var icon_img = $('<span/>');\n",
       "        icon_img.addClass('ui-button-icon-primary ui-icon');\n",
       "        icon_img.addClass(image);\n",
       "        icon_img.addClass('ui-corner-all');\n",
       "\n",
       "        var tooltip_span = $('<span/>');\n",
       "        tooltip_span.addClass('ui-button-text');\n",
       "        tooltip_span.html(tooltip);\n",
       "\n",
       "        button.append(icon_img);\n",
       "        button.append(tooltip_span);\n",
       "\n",
       "        nav_element.append(button);\n",
       "    }\n",
       "\n",
       "    var fmt_picker_span = $('<span/>');\n",
       "\n",
       "    var fmt_picker = $('<select/>');\n",
       "    fmt_picker.addClass('mpl-toolbar-option ui-widget ui-widget-content');\n",
       "    fmt_picker_span.append(fmt_picker);\n",
       "    nav_element.append(fmt_picker_span);\n",
       "    this.format_dropdown = fmt_picker[0];\n",
       "\n",
       "    for (var ind in mpl.extensions) {\n",
       "        var fmt = mpl.extensions[ind];\n",
       "        var option = $(\n",
       "            '<option/>', {selected: fmt === mpl.default_extension}).html(fmt);\n",
       "        fmt_picker.append(option);\n",
       "    }\n",
       "\n",
       "    // Add hover states to the ui-buttons\n",
       "    $( \".ui-button\" ).hover(\n",
       "        function() { $(this).addClass(\"ui-state-hover\");},\n",
       "        function() { $(this).removeClass(\"ui-state-hover\");}\n",
       "    );\n",
       "\n",
       "    var status_bar = $('<span class=\"mpl-message\"/>');\n",
       "    nav_element.append(status_bar);\n",
       "    this.message = status_bar[0];\n",
       "}\n",
       "\n",
       "mpl.figure.prototype.request_resize = function(x_pixels, y_pixels) {\n",
       "    // Request matplotlib to resize the figure. Matplotlib will then trigger a resize in the client,\n",
       "    // which will in turn request a refresh of the image.\n",
       "    this.send_message('resize', {'width': x_pixels, 'height': y_pixels});\n",
       "}\n",
       "\n",
       "mpl.figure.prototype.send_message = function(type, properties) {\n",
       "    properties['type'] = type;\n",
       "    properties['figure_id'] = this.id;\n",
       "    this.ws.send(JSON.stringify(properties));\n",
       "}\n",
       "\n",
       "mpl.figure.prototype.send_draw_message = function() {\n",
       "    if (!this.waiting) {\n",
       "        this.waiting = true;\n",
       "        this.ws.send(JSON.stringify({type: \"draw\", figure_id: this.id}));\n",
       "    }\n",
       "}\n",
       "\n",
       "\n",
       "mpl.figure.prototype.handle_save = function(fig, msg) {\n",
       "    var format_dropdown = fig.format_dropdown;\n",
       "    var format = format_dropdown.options[format_dropdown.selectedIndex].value;\n",
       "    fig.ondownload(fig, format);\n",
       "}\n",
       "\n",
       "\n",
       "mpl.figure.prototype.handle_resize = function(fig, msg) {\n",
       "    var size = msg['size'];\n",
       "    if (size[0] != fig.canvas.width || size[1] != fig.canvas.height) {\n",
       "        fig._resize_canvas(size[0], size[1]);\n",
       "        fig.send_message(\"refresh\", {});\n",
       "    };\n",
       "}\n",
       "\n",
       "mpl.figure.prototype.handle_rubberband = function(fig, msg) {\n",
       "    var x0 = msg['x0'] / mpl.ratio;\n",
       "    var y0 = (fig.canvas.height - msg['y0']) / mpl.ratio;\n",
       "    var x1 = msg['x1'] / mpl.ratio;\n",
       "    var y1 = (fig.canvas.height - msg['y1']) / mpl.ratio;\n",
       "    x0 = Math.floor(x0) + 0.5;\n",
       "    y0 = Math.floor(y0) + 0.5;\n",
       "    x1 = Math.floor(x1) + 0.5;\n",
       "    y1 = Math.floor(y1) + 0.5;\n",
       "    var min_x = Math.min(x0, x1);\n",
       "    var min_y = Math.min(y0, y1);\n",
       "    var width = Math.abs(x1 - x0);\n",
       "    var height = Math.abs(y1 - y0);\n",
       "\n",
       "    fig.rubberband_context.clearRect(\n",
       "        0, 0, fig.canvas.width / mpl.ratio, fig.canvas.height / mpl.ratio);\n",
       "\n",
       "    fig.rubberband_context.strokeRect(min_x, min_y, width, height);\n",
       "}\n",
       "\n",
       "mpl.figure.prototype.handle_figure_label = function(fig, msg) {\n",
       "    // Updates the figure title.\n",
       "    fig.header.textContent = msg['label'];\n",
       "}\n",
       "\n",
       "mpl.figure.prototype.handle_cursor = function(fig, msg) {\n",
       "    var cursor = msg['cursor'];\n",
       "    switch(cursor)\n",
       "    {\n",
       "    case 0:\n",
       "        cursor = 'pointer';\n",
       "        break;\n",
       "    case 1:\n",
       "        cursor = 'default';\n",
       "        break;\n",
       "    case 2:\n",
       "        cursor = 'crosshair';\n",
       "        break;\n",
       "    case 3:\n",
       "        cursor = 'move';\n",
       "        break;\n",
       "    }\n",
       "    fig.rubberband_canvas.style.cursor = cursor;\n",
       "}\n",
       "\n",
       "mpl.figure.prototype.handle_message = function(fig, msg) {\n",
       "    fig.message.textContent = msg['message'];\n",
       "}\n",
       "\n",
       "mpl.figure.prototype.handle_draw = function(fig, msg) {\n",
       "    // Request the server to send over a new figure.\n",
       "    fig.send_draw_message();\n",
       "}\n",
       "\n",
       "mpl.figure.prototype.handle_image_mode = function(fig, msg) {\n",
       "    fig.image_mode = msg['mode'];\n",
       "}\n",
       "\n",
       "mpl.figure.prototype.updated_canvas_event = function() {\n",
       "    // Called whenever the canvas gets updated.\n",
       "    this.send_message(\"ack\", {});\n",
       "}\n",
       "\n",
       "// A function to construct a web socket function for onmessage handling.\n",
       "// Called in the figure constructor.\n",
       "mpl.figure.prototype._make_on_message_function = function(fig) {\n",
       "    return function socket_on_message(evt) {\n",
       "        if (evt.data instanceof Blob) {\n",
       "            /* FIXME: We get \"Resource interpreted as Image but\n",
       "             * transferred with MIME type text/plain:\" errors on\n",
       "             * Chrome.  But how to set the MIME type?  It doesn't seem\n",
       "             * to be part of the websocket stream */\n",
       "            evt.data.type = \"image/png\";\n",
       "\n",
       "            /* Free the memory for the previous frames */\n",
       "            if (fig.imageObj.src) {\n",
       "                (window.URL || window.webkitURL).revokeObjectURL(\n",
       "                    fig.imageObj.src);\n",
       "            }\n",
       "\n",
       "            fig.imageObj.src = (window.URL || window.webkitURL).createObjectURL(\n",
       "                evt.data);\n",
       "            fig.updated_canvas_event();\n",
       "            fig.waiting = false;\n",
       "            return;\n",
       "        }\n",
       "        else if (typeof evt.data === 'string' && evt.data.slice(0, 21) == \"data:image/png;base64\") {\n",
       "            fig.imageObj.src = evt.data;\n",
       "            fig.updated_canvas_event();\n",
       "            fig.waiting = false;\n",
       "            return;\n",
       "        }\n",
       "\n",
       "        var msg = JSON.parse(evt.data);\n",
       "        var msg_type = msg['type'];\n",
       "\n",
       "        // Call the  \"handle_{type}\" callback, which takes\n",
       "        // the figure and JSON message as its only arguments.\n",
       "        try {\n",
       "            var callback = fig[\"handle_\" + msg_type];\n",
       "        } catch (e) {\n",
       "            console.log(\"No handler for the '\" + msg_type + \"' message type: \", msg);\n",
       "            return;\n",
       "        }\n",
       "\n",
       "        if (callback) {\n",
       "            try {\n",
       "                // console.log(\"Handling '\" + msg_type + \"' message: \", msg);\n",
       "                callback(fig, msg);\n",
       "            } catch (e) {\n",
       "                console.log(\"Exception inside the 'handler_\" + msg_type + \"' callback:\", e, e.stack, msg);\n",
       "            }\n",
       "        }\n",
       "    };\n",
       "}\n",
       "\n",
       "// from http://stackoverflow.com/questions/1114465/getting-mouse-location-in-canvas\n",
       "mpl.findpos = function(e) {\n",
       "    //this section is from http://www.quirksmode.org/js/events_properties.html\n",
       "    var targ;\n",
       "    if (!e)\n",
       "        e = window.event;\n",
       "    if (e.target)\n",
       "        targ = e.target;\n",
       "    else if (e.srcElement)\n",
       "        targ = e.srcElement;\n",
       "    if (targ.nodeType == 3) // defeat Safari bug\n",
       "        targ = targ.parentNode;\n",
       "\n",
       "    // jQuery normalizes the pageX and pageY\n",
       "    // pageX,Y are the mouse positions relative to the document\n",
       "    // offset() returns the position of the element relative to the document\n",
       "    var x = e.pageX - $(targ).offset().left;\n",
       "    var y = e.pageY - $(targ).offset().top;\n",
       "\n",
       "    return {\"x\": x, \"y\": y};\n",
       "};\n",
       "\n",
       "/*\n",
       " * return a copy of an object with only non-object keys\n",
       " * we need this to avoid circular references\n",
       " * http://stackoverflow.com/a/24161582/3208463\n",
       " */\n",
       "function simpleKeys (original) {\n",
       "  return Object.keys(original).reduce(function (obj, key) {\n",
       "    if (typeof original[key] !== 'object')\n",
       "        obj[key] = original[key]\n",
       "    return obj;\n",
       "  }, {});\n",
       "}\n",
       "\n",
       "mpl.figure.prototype.mouse_event = function(event, name) {\n",
       "    var canvas_pos = mpl.findpos(event)\n",
       "\n",
       "    if (name === 'button_press')\n",
       "    {\n",
       "        this.canvas.focus();\n",
       "        this.canvas_div.focus();\n",
       "    }\n",
       "\n",
       "    var x = canvas_pos.x * mpl.ratio;\n",
       "    var y = canvas_pos.y * mpl.ratio;\n",
       "\n",
       "    this.send_message(name, {x: x, y: y, button: event.button,\n",
       "                             step: event.step,\n",
       "                             guiEvent: simpleKeys(event)});\n",
       "\n",
       "    /* This prevents the web browser from automatically changing to\n",
       "     * the text insertion cursor when the button is pressed.  We want\n",
       "     * to control all of the cursor setting manually through the\n",
       "     * 'cursor' event from matplotlib */\n",
       "    event.preventDefault();\n",
       "    return false;\n",
       "}\n",
       "\n",
       "mpl.figure.prototype._key_event_extra = function(event, name) {\n",
       "    // Handle any extra behaviour associated with a key event\n",
       "}\n",
       "\n",
       "mpl.figure.prototype.key_event = function(event, name) {\n",
       "\n",
       "    // Prevent repeat events\n",
       "    if (name == 'key_press')\n",
       "    {\n",
       "        if (event.which === this._key)\n",
       "            return;\n",
       "        else\n",
       "            this._key = event.which;\n",
       "    }\n",
       "    if (name == 'key_release')\n",
       "        this._key = null;\n",
       "\n",
       "    var value = '';\n",
       "    if (event.ctrlKey && event.which != 17)\n",
       "        value += \"ctrl+\";\n",
       "    if (event.altKey && event.which != 18)\n",
       "        value += \"alt+\";\n",
       "    if (event.shiftKey && event.which != 16)\n",
       "        value += \"shift+\";\n",
       "\n",
       "    value += 'k';\n",
       "    value += event.which.toString();\n",
       "\n",
       "    this._key_event_extra(event, name);\n",
       "\n",
       "    this.send_message(name, {key: value,\n",
       "                             guiEvent: simpleKeys(event)});\n",
       "    return false;\n",
       "}\n",
       "\n",
       "mpl.figure.prototype.toolbar_button_onclick = function(name) {\n",
       "    if (name == 'download') {\n",
       "        this.handle_save(this, null);\n",
       "    } else {\n",
       "        this.send_message(\"toolbar_button\", {name: name});\n",
       "    }\n",
       "};\n",
       "\n",
       "mpl.figure.prototype.toolbar_button_onmouseover = function(tooltip) {\n",
       "    this.message.textContent = tooltip;\n",
       "};\n",
       "mpl.toolbar_items = [[\"Home\", \"Reset original view\", \"fa fa-home icon-home\", \"home\"], [\"Back\", \"Back to previous view\", \"fa fa-arrow-left icon-arrow-left\", \"back\"], [\"Forward\", \"Forward to next view\", \"fa fa-arrow-right icon-arrow-right\", \"forward\"], [\"\", \"\", \"\", \"\"], [\"Pan\", \"Pan axes with left mouse, zoom with right\", \"fa fa-arrows icon-move\", \"pan\"], [\"Zoom\", \"Zoom to rectangle\", \"fa fa-square-o icon-check-empty\", \"zoom\"], [\"\", \"\", \"\", \"\"], [\"Download\", \"Download plot\", \"fa fa-floppy-o icon-save\", \"download\"]];\n",
       "\n",
       "mpl.extensions = [\"eps\", \"jpeg\", \"pdf\", \"png\", \"ps\", \"raw\", \"svg\", \"tif\"];\n",
       "\n",
       "mpl.default_extension = \"png\";var comm_websocket_adapter = function(comm) {\n",
       "    // Create a \"websocket\"-like object which calls the given IPython comm\n",
       "    // object with the appropriate methods. Currently this is a non binary\n",
       "    // socket, so there is still some room for performance tuning.\n",
       "    var ws = {};\n",
       "\n",
       "    ws.close = function() {\n",
       "        comm.close()\n",
       "    };\n",
       "    ws.send = function(m) {\n",
       "        //console.log('sending', m);\n",
       "        comm.send(m);\n",
       "    };\n",
       "    // Register the callback with on_msg.\n",
       "    comm.on_msg(function(msg) {\n",
       "        //console.log('receiving', msg['content']['data'], msg);\n",
       "        // Pass the mpl event to the overridden (by mpl) onmessage function.\n",
       "        ws.onmessage(msg['content']['data'])\n",
       "    });\n",
       "    return ws;\n",
       "}\n",
       "\n",
       "mpl.mpl_figure_comm = function(comm, msg) {\n",
       "    // This is the function which gets called when the mpl process\n",
       "    // starts-up an IPython Comm through the \"matplotlib\" channel.\n",
       "\n",
       "    var id = msg.content.data.id;\n",
       "    // Get hold of the div created by the display call when the Comm\n",
       "    // socket was opened in Python.\n",
       "    var element = $(\"#\" + id);\n",
       "    var ws_proxy = comm_websocket_adapter(comm)\n",
       "\n",
       "    function ondownload(figure, format) {\n",
       "        window.open(figure.imageObj.src);\n",
       "    }\n",
       "\n",
       "    var fig = new mpl.figure(id, ws_proxy,\n",
       "                           ondownload,\n",
       "                           element.get(0));\n",
       "\n",
       "    // Call onopen now - mpl needs it, as it is assuming we've passed it a real\n",
       "    // web socket which is closed, not our websocket->open comm proxy.\n",
       "    ws_proxy.onopen();\n",
       "\n",
       "    fig.parent_element = element.get(0);\n",
       "    fig.cell_info = mpl.find_output_cell(\"<div id='\" + id + \"'></div>\");\n",
       "    if (!fig.cell_info) {\n",
       "        console.error(\"Failed to find cell for figure\", id, fig);\n",
       "        return;\n",
       "    }\n",
       "\n",
       "    var output_index = fig.cell_info[2]\n",
       "    var cell = fig.cell_info[0];\n",
       "\n",
       "};\n",
       "\n",
       "mpl.figure.prototype.handle_close = function(fig, msg) {\n",
       "    var width = fig.canvas.width/mpl.ratio\n",
       "    fig.root.unbind('remove')\n",
       "\n",
       "    // Update the output cell to use the data from the current canvas.\n",
       "    fig.push_to_output();\n",
       "    var dataURL = fig.canvas.toDataURL();\n",
       "    // Re-enable the keyboard manager in IPython - without this line, in FF,\n",
       "    // the notebook keyboard shortcuts fail.\n",
       "    IPython.keyboard_manager.enable()\n",
       "    $(fig.parent_element).html('<img src=\"' + dataURL + '\" width=\"' + width + '\">');\n",
       "    fig.close_ws(fig, msg);\n",
       "}\n",
       "\n",
       "mpl.figure.prototype.close_ws = function(fig, msg){\n",
       "    fig.send_message('closing', msg);\n",
       "    // fig.ws.close()\n",
       "}\n",
       "\n",
       "mpl.figure.prototype.push_to_output = function(remove_interactive) {\n",
       "    // Turn the data on the canvas into data in the output cell.\n",
       "    var width = this.canvas.width/mpl.ratio\n",
       "    var dataURL = this.canvas.toDataURL();\n",
       "    this.cell_info[1]['text/html'] = '<img src=\"' + dataURL + '\" width=\"' + width + '\">';\n",
       "}\n",
       "\n",
       "mpl.figure.prototype.updated_canvas_event = function() {\n",
       "    // Tell IPython that the notebook contents must change.\n",
       "    IPython.notebook.set_dirty(true);\n",
       "    this.send_message(\"ack\", {});\n",
       "    var fig = this;\n",
       "    // Wait a second, then push the new image to the DOM so\n",
       "    // that it is saved nicely (might be nice to debounce this).\n",
       "    setTimeout(function () { fig.push_to_output() }, 1000);\n",
       "}\n",
       "\n",
       "mpl.figure.prototype._init_toolbar = function() {\n",
       "    var fig = this;\n",
       "\n",
       "    var nav_element = $('<div/>');\n",
       "    nav_element.attr('style', 'width: 100%');\n",
       "    this.root.append(nav_element);\n",
       "\n",
       "    // Define a callback function for later on.\n",
       "    function toolbar_event(event) {\n",
       "        return fig.toolbar_button_onclick(event['data']);\n",
       "    }\n",
       "    function toolbar_mouse_event(event) {\n",
       "        return fig.toolbar_button_onmouseover(event['data']);\n",
       "    }\n",
       "\n",
       "    for(var toolbar_ind in mpl.toolbar_items){\n",
       "        var name = mpl.toolbar_items[toolbar_ind][0];\n",
       "        var tooltip = mpl.toolbar_items[toolbar_ind][1];\n",
       "        var image = mpl.toolbar_items[toolbar_ind][2];\n",
       "        var method_name = mpl.toolbar_items[toolbar_ind][3];\n",
       "\n",
       "        if (!name) { continue; };\n",
       "\n",
       "        var button = $('<button class=\"btn btn-default\" href=\"#\" title=\"' + name + '\"><i class=\"fa ' + image + ' fa-lg\"></i></button>');\n",
       "        button.click(method_name, toolbar_event);\n",
       "        button.mouseover(tooltip, toolbar_mouse_event);\n",
       "        nav_element.append(button);\n",
       "    }\n",
       "\n",
       "    // Add the status bar.\n",
       "    var status_bar = $('<span class=\"mpl-message\" style=\"text-align:right; float: right;\"/>');\n",
       "    nav_element.append(status_bar);\n",
       "    this.message = status_bar[0];\n",
       "\n",
       "    // Add the close button to the window.\n",
       "    var buttongrp = $('<div class=\"btn-group inline pull-right\"></div>');\n",
       "    var button = $('<button class=\"btn btn-mini btn-primary\" href=\"#\" title=\"Stop Interaction\"><i class=\"fa fa-power-off icon-remove icon-large\"></i></button>');\n",
       "    button.click(function (evt) { fig.handle_close(fig, {}); } );\n",
       "    button.mouseover('Stop Interaction', toolbar_mouse_event);\n",
       "    buttongrp.append(button);\n",
       "    var titlebar = this.root.find($('.ui-dialog-titlebar'));\n",
       "    titlebar.prepend(buttongrp);\n",
       "}\n",
       "\n",
       "mpl.figure.prototype._root_extra_style = function(el){\n",
       "    var fig = this\n",
       "    el.on(\"remove\", function(){\n",
       "\tfig.close_ws(fig, {});\n",
       "    });\n",
       "}\n",
       "\n",
       "mpl.figure.prototype._canvas_extra_style = function(el){\n",
       "    // this is important to make the div 'focusable\n",
       "    el.attr('tabindex', 0)\n",
       "    // reach out to IPython and tell the keyboard manager to turn it's self\n",
       "    // off when our div gets focus\n",
       "\n",
       "    // location in version 3\n",
       "    if (IPython.notebook.keyboard_manager) {\n",
       "        IPython.notebook.keyboard_manager.register_events(el);\n",
       "    }\n",
       "    else {\n",
       "        // location in version 2\n",
       "        IPython.keyboard_manager.register_events(el);\n",
       "    }\n",
       "\n",
       "}\n",
       "\n",
       "mpl.figure.prototype._key_event_extra = function(event, name) {\n",
       "    var manager = IPython.notebook.keyboard_manager;\n",
       "    if (!manager)\n",
       "        manager = IPython.keyboard_manager;\n",
       "\n",
       "    // Check for shift+enter\n",
       "    if (event.shiftKey && event.which == 13) {\n",
       "        this.canvas_div.blur();\n",
       "        // select the cell after this one\n",
       "        var index = IPython.notebook.find_cell_index(this.cell_info[0]);\n",
       "        IPython.notebook.select(index + 1);\n",
       "    }\n",
       "}\n",
       "\n",
       "mpl.figure.prototype.handle_save = function(fig, msg) {\n",
       "    fig.ondownload(fig, null);\n",
       "}\n",
       "\n",
       "\n",
       "mpl.find_output_cell = function(html_output) {\n",
       "    // Return the cell and output element which can be found *uniquely* in the notebook.\n",
       "    // Note - this is a bit hacky, but it is done because the \"notebook_saving.Notebook\"\n",
       "    // IPython event is triggered only after the cells have been serialised, which for\n",
       "    // our purposes (turning an active figure into a static one), is too late.\n",
       "    var cells = IPython.notebook.get_cells();\n",
       "    var ncells = cells.length;\n",
       "    for (var i=0; i<ncells; i++) {\n",
       "        var cell = cells[i];\n",
       "        if (cell.cell_type === 'code'){\n",
       "            for (var j=0; j<cell.output_area.outputs.length; j++) {\n",
       "                var data = cell.output_area.outputs[j];\n",
       "                if (data.data) {\n",
       "                    // IPython >= 3 moved mimebundle to data attribute of output\n",
       "                    data = data.data;\n",
       "                }\n",
       "                if (data['text/html'] == html_output) {\n",
       "                    return [cell, data, j];\n",
       "                }\n",
       "            }\n",
       "        }\n",
       "    }\n",
       "}\n",
       "\n",
       "// Register the function which deals with the matplotlib target/channel.\n",
       "// The kernel may be null if the page has been refreshed.\n",
       "if (IPython.notebook.kernel != null) {\n",
       "    IPython.notebook.kernel.comm_manager.register_target('matplotlib', mpl.mpl_figure_comm);\n",
       "}\n"
      ],
      "text/plain": [
       "<IPython.core.display.Javascript object>"
      ]
     },
     "metadata": {},
     "output_type": "display_data"
    },
    {
     "data": {
      "text/html": [
       "<img src=\"data:image/png;base64,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\" width=\"240\">"
      ],
      "text/plain": [
       "<IPython.core.display.HTML object>"
      ]
     },
     "metadata": {},
     "output_type": "display_data"
    }
   ],
   "source": [
    "plot_diff(U_1_vo_[0], nd_U[0][:, sv[0], so[0]])"
   ]
  },
  {
   "cell_type": "code",
   "execution_count": 102,
   "metadata": {},
   "outputs": [
    {
     "data": {
      "application/javascript": [
       "/* Put everything inside the global mpl namespace */\n",
       "window.mpl = {};\n",
       "\n",
       "\n",
       "mpl.get_websocket_type = function() {\n",
       "    if (typeof(WebSocket) !== 'undefined') {\n",
       "        return WebSocket;\n",
       "    } else if (typeof(MozWebSocket) !== 'undefined') {\n",
       "        return MozWebSocket;\n",
       "    } else {\n",
       "        alert('Your browser does not have WebSocket support. ' +\n",
       "              'Please try Chrome, Safari or Firefox ≥ 6. ' +\n",
       "              'Firefox 4 and 5 are also supported but you ' +\n",
       "              'have to enable WebSockets in about:config.');\n",
       "    };\n",
       "}\n",
       "\n",
       "mpl.figure = function(figure_id, websocket, ondownload, parent_element) {\n",
       "    this.id = figure_id;\n",
       "\n",
       "    this.ws = websocket;\n",
       "\n",
       "    this.supports_binary = (this.ws.binaryType != undefined);\n",
       "\n",
       "    if (!this.supports_binary) {\n",
       "        var warnings = document.getElementById(\"mpl-warnings\");\n",
       "        if (warnings) {\n",
       "            warnings.style.display = 'block';\n",
       "            warnings.textContent = (\n",
       "                \"This browser does not support binary websocket messages. \" +\n",
       "                    \"Performance may be slow.\");\n",
       "        }\n",
       "    }\n",
       "\n",
       "    this.imageObj = new Image();\n",
       "\n",
       "    this.context = undefined;\n",
       "    this.message = undefined;\n",
       "    this.canvas = undefined;\n",
       "    this.rubberband_canvas = undefined;\n",
       "    this.rubberband_context = undefined;\n",
       "    this.format_dropdown = undefined;\n",
       "\n",
       "    this.image_mode = 'full';\n",
       "\n",
       "    this.root = $('<div/>');\n",
       "    this._root_extra_style(this.root)\n",
       "    this.root.attr('style', 'display: inline-block');\n",
       "\n",
       "    $(parent_element).append(this.root);\n",
       "\n",
       "    this._init_header(this);\n",
       "    this._init_canvas(this);\n",
       "    this._init_toolbar(this);\n",
       "\n",
       "    var fig = this;\n",
       "\n",
       "    this.waiting = false;\n",
       "\n",
       "    this.ws.onopen =  function () {\n",
       "            fig.send_message(\"supports_binary\", {value: fig.supports_binary});\n",
       "            fig.send_message(\"send_image_mode\", {});\n",
       "            if (mpl.ratio != 1) {\n",
       "                fig.send_message(\"set_dpi_ratio\", {'dpi_ratio': mpl.ratio});\n",
       "            }\n",
       "            fig.send_message(\"refresh\", {});\n",
       "        }\n",
       "\n",
       "    this.imageObj.onload = function() {\n",
       "            if (fig.image_mode == 'full') {\n",
       "                // Full images could contain transparency (where diff images\n",
       "                // almost always do), so we need to clear the canvas so that\n",
       "                // there is no ghosting.\n",
       "                fig.context.clearRect(0, 0, fig.canvas.width, fig.canvas.height);\n",
       "            }\n",
       "            fig.context.drawImage(fig.imageObj, 0, 0);\n",
       "        };\n",
       "\n",
       "    this.imageObj.onunload = function() {\n",
       "        fig.ws.close();\n",
       "    }\n",
       "\n",
       "    this.ws.onmessage = this._make_on_message_function(this);\n",
       "\n",
       "    this.ondownload = ondownload;\n",
       "}\n",
       "\n",
       "mpl.figure.prototype._init_header = function() {\n",
       "    var titlebar = $(\n",
       "        '<div class=\"ui-dialog-titlebar ui-widget-header ui-corner-all ' +\n",
       "        'ui-helper-clearfix\"/>');\n",
       "    var titletext = $(\n",
       "        '<div class=\"ui-dialog-title\" style=\"width: 100%; ' +\n",
       "        'text-align: center; padding: 3px;\"/>');\n",
       "    titlebar.append(titletext)\n",
       "    this.root.append(titlebar);\n",
       "    this.header = titletext[0];\n",
       "}\n",
       "\n",
       "\n",
       "\n",
       "mpl.figure.prototype._canvas_extra_style = function(canvas_div) {\n",
       "\n",
       "}\n",
       "\n",
       "\n",
       "mpl.figure.prototype._root_extra_style = function(canvas_div) {\n",
       "\n",
       "}\n",
       "\n",
       "mpl.figure.prototype._init_canvas = function() {\n",
       "    var fig = this;\n",
       "\n",
       "    var canvas_div = $('<div/>');\n",
       "\n",
       "    canvas_div.attr('style', 'position: relative; clear: both; outline: 0');\n",
       "\n",
       "    function canvas_keyboard_event(event) {\n",
       "        return fig.key_event(event, event['data']);\n",
       "    }\n",
       "\n",
       "    canvas_div.keydown('key_press', canvas_keyboard_event);\n",
       "    canvas_div.keyup('key_release', canvas_keyboard_event);\n",
       "    this.canvas_div = canvas_div\n",
       "    this._canvas_extra_style(canvas_div)\n",
       "    this.root.append(canvas_div);\n",
       "\n",
       "    var canvas = $('<canvas/>');\n",
       "    canvas.addClass('mpl-canvas');\n",
       "    canvas.attr('style', \"left: 0; top: 0; z-index: 0; outline: 0\")\n",
       "\n",
       "    this.canvas = canvas[0];\n",
       "    this.context = canvas[0].getContext(\"2d\");\n",
       "\n",
       "    var backingStore = this.context.backingStorePixelRatio ||\n",
       "\tthis.context.webkitBackingStorePixelRatio ||\n",
       "\tthis.context.mozBackingStorePixelRatio ||\n",
       "\tthis.context.msBackingStorePixelRatio ||\n",
       "\tthis.context.oBackingStorePixelRatio ||\n",
       "\tthis.context.backingStorePixelRatio || 1;\n",
       "\n",
       "    mpl.ratio = (window.devicePixelRatio || 1) / backingStore;\n",
       "\n",
       "    var rubberband = $('<canvas/>');\n",
       "    rubberband.attr('style', \"position: absolute; left: 0; top: 0; z-index: 1;\")\n",
       "\n",
       "    var pass_mouse_events = true;\n",
       "\n",
       "    canvas_div.resizable({\n",
       "        start: function(event, ui) {\n",
       "            pass_mouse_events = false;\n",
       "        },\n",
       "        resize: function(event, ui) {\n",
       "            fig.request_resize(ui.size.width, ui.size.height);\n",
       "        },\n",
       "        stop: function(event, ui) {\n",
       "            pass_mouse_events = true;\n",
       "            fig.request_resize(ui.size.width, ui.size.height);\n",
       "        },\n",
       "    });\n",
       "\n",
       "    function mouse_event_fn(event) {\n",
       "        if (pass_mouse_events)\n",
       "            return fig.mouse_event(event, event['data']);\n",
       "    }\n",
       "\n",
       "    rubberband.mousedown('button_press', mouse_event_fn);\n",
       "    rubberband.mouseup('button_release', mouse_event_fn);\n",
       "    // Throttle sequential mouse events to 1 every 20ms.\n",
       "    rubberband.mousemove('motion_notify', mouse_event_fn);\n",
       "\n",
       "    rubberband.mouseenter('figure_enter', mouse_event_fn);\n",
       "    rubberband.mouseleave('figure_leave', mouse_event_fn);\n",
       "\n",
       "    canvas_div.on(\"wheel\", function (event) {\n",
       "        event = event.originalEvent;\n",
       "        event['data'] = 'scroll'\n",
       "        if (event.deltaY < 0) {\n",
       "            event.step = 1;\n",
       "        } else {\n",
       "            event.step = -1;\n",
       "        }\n",
       "        mouse_event_fn(event);\n",
       "    });\n",
       "\n",
       "    canvas_div.append(canvas);\n",
       "    canvas_div.append(rubberband);\n",
       "\n",
       "    this.rubberband = rubberband;\n",
       "    this.rubberband_canvas = rubberband[0];\n",
       "    this.rubberband_context = rubberband[0].getContext(\"2d\");\n",
       "    this.rubberband_context.strokeStyle = \"#000000\";\n",
       "\n",
       "    this._resize_canvas = function(width, height) {\n",
       "        // Keep the size of the canvas, canvas container, and rubber band\n",
       "        // canvas in synch.\n",
       "        canvas_div.css('width', width)\n",
       "        canvas_div.css('height', height)\n",
       "\n",
       "        canvas.attr('width', width * mpl.ratio);\n",
       "        canvas.attr('height', height * mpl.ratio);\n",
       "        canvas.attr('style', 'width: ' + width + 'px; height: ' + height + 'px;');\n",
       "\n",
       "        rubberband.attr('width', width);\n",
       "        rubberband.attr('height', height);\n",
       "    }\n",
       "\n",
       "    // Set the figure to an initial 600x600px, this will subsequently be updated\n",
       "    // upon first draw.\n",
       "    this._resize_canvas(600, 600);\n",
       "\n",
       "    // Disable right mouse context menu.\n",
       "    $(this.rubberband_canvas).bind(\"contextmenu\",function(e){\n",
       "        return false;\n",
       "    });\n",
       "\n",
       "    function set_focus () {\n",
       "        canvas.focus();\n",
       "        canvas_div.focus();\n",
       "    }\n",
       "\n",
       "    window.setTimeout(set_focus, 100);\n",
       "}\n",
       "\n",
       "mpl.figure.prototype._init_toolbar = function() {\n",
       "    var fig = this;\n",
       "\n",
       "    var nav_element = $('<div/>');\n",
       "    nav_element.attr('style', 'width: 100%');\n",
       "    this.root.append(nav_element);\n",
       "\n",
       "    // Define a callback function for later on.\n",
       "    function toolbar_event(event) {\n",
       "        return fig.toolbar_button_onclick(event['data']);\n",
       "    }\n",
       "    function toolbar_mouse_event(event) {\n",
       "        return fig.toolbar_button_onmouseover(event['data']);\n",
       "    }\n",
       "\n",
       "    for(var toolbar_ind in mpl.toolbar_items) {\n",
       "        var name = mpl.toolbar_items[toolbar_ind][0];\n",
       "        var tooltip = mpl.toolbar_items[toolbar_ind][1];\n",
       "        var image = mpl.toolbar_items[toolbar_ind][2];\n",
       "        var method_name = mpl.toolbar_items[toolbar_ind][3];\n",
       "\n",
       "        if (!name) {\n",
       "            // put a spacer in here.\n",
       "            continue;\n",
       "        }\n",
       "        var button = $('<button/>');\n",
       "        button.addClass('ui-button ui-widget ui-state-default ui-corner-all ' +\n",
       "                        'ui-button-icon-only');\n",
       "        button.attr('role', 'button');\n",
       "        button.attr('aria-disabled', 'false');\n",
       "        button.click(method_name, toolbar_event);\n",
       "        button.mouseover(tooltip, toolbar_mouse_event);\n",
       "\n",
       "        var icon_img = $('<span/>');\n",
       "        icon_img.addClass('ui-button-icon-primary ui-icon');\n",
       "        icon_img.addClass(image);\n",
       "        icon_img.addClass('ui-corner-all');\n",
       "\n",
       "        var tooltip_span = $('<span/>');\n",
       "        tooltip_span.addClass('ui-button-text');\n",
       "        tooltip_span.html(tooltip);\n",
       "\n",
       "        button.append(icon_img);\n",
       "        button.append(tooltip_span);\n",
       "\n",
       "        nav_element.append(button);\n",
       "    }\n",
       "\n",
       "    var fmt_picker_span = $('<span/>');\n",
       "\n",
       "    var fmt_picker = $('<select/>');\n",
       "    fmt_picker.addClass('mpl-toolbar-option ui-widget ui-widget-content');\n",
       "    fmt_picker_span.append(fmt_picker);\n",
       "    nav_element.append(fmt_picker_span);\n",
       "    this.format_dropdown = fmt_picker[0];\n",
       "\n",
       "    for (var ind in mpl.extensions) {\n",
       "        var fmt = mpl.extensions[ind];\n",
       "        var option = $(\n",
       "            '<option/>', {selected: fmt === mpl.default_extension}).html(fmt);\n",
       "        fmt_picker.append(option);\n",
       "    }\n",
       "\n",
       "    // Add hover states to the ui-buttons\n",
       "    $( \".ui-button\" ).hover(\n",
       "        function() { $(this).addClass(\"ui-state-hover\");},\n",
       "        function() { $(this).removeClass(\"ui-state-hover\");}\n",
       "    );\n",
       "\n",
       "    var status_bar = $('<span class=\"mpl-message\"/>');\n",
       "    nav_element.append(status_bar);\n",
       "    this.message = status_bar[0];\n",
       "}\n",
       "\n",
       "mpl.figure.prototype.request_resize = function(x_pixels, y_pixels) {\n",
       "    // Request matplotlib to resize the figure. Matplotlib will then trigger a resize in the client,\n",
       "    // which will in turn request a refresh of the image.\n",
       "    this.send_message('resize', {'width': x_pixels, 'height': y_pixels});\n",
       "}\n",
       "\n",
       "mpl.figure.prototype.send_message = function(type, properties) {\n",
       "    properties['type'] = type;\n",
       "    properties['figure_id'] = this.id;\n",
       "    this.ws.send(JSON.stringify(properties));\n",
       "}\n",
       "\n",
       "mpl.figure.prototype.send_draw_message = function() {\n",
       "    if (!this.waiting) {\n",
       "        this.waiting = true;\n",
       "        this.ws.send(JSON.stringify({type: \"draw\", figure_id: this.id}));\n",
       "    }\n",
       "}\n",
       "\n",
       "\n",
       "mpl.figure.prototype.handle_save = function(fig, msg) {\n",
       "    var format_dropdown = fig.format_dropdown;\n",
       "    var format = format_dropdown.options[format_dropdown.selectedIndex].value;\n",
       "    fig.ondownload(fig, format);\n",
       "}\n",
       "\n",
       "\n",
       "mpl.figure.prototype.handle_resize = function(fig, msg) {\n",
       "    var size = msg['size'];\n",
       "    if (size[0] != fig.canvas.width || size[1] != fig.canvas.height) {\n",
       "        fig._resize_canvas(size[0], size[1]);\n",
       "        fig.send_message(\"refresh\", {});\n",
       "    };\n",
       "}\n",
       "\n",
       "mpl.figure.prototype.handle_rubberband = function(fig, msg) {\n",
       "    var x0 = msg['x0'] / mpl.ratio;\n",
       "    var y0 = (fig.canvas.height - msg['y0']) / mpl.ratio;\n",
       "    var x1 = msg['x1'] / mpl.ratio;\n",
       "    var y1 = (fig.canvas.height - msg['y1']) / mpl.ratio;\n",
       "    x0 = Math.floor(x0) + 0.5;\n",
       "    y0 = Math.floor(y0) + 0.5;\n",
       "    x1 = Math.floor(x1) + 0.5;\n",
       "    y1 = Math.floor(y1) + 0.5;\n",
       "    var min_x = Math.min(x0, x1);\n",
       "    var min_y = Math.min(y0, y1);\n",
       "    var width = Math.abs(x1 - x0);\n",
       "    var height = Math.abs(y1 - y0);\n",
       "\n",
       "    fig.rubberband_context.clearRect(\n",
       "        0, 0, fig.canvas.width / mpl.ratio, fig.canvas.height / mpl.ratio);\n",
       "\n",
       "    fig.rubberband_context.strokeRect(min_x, min_y, width, height);\n",
       "}\n",
       "\n",
       "mpl.figure.prototype.handle_figure_label = function(fig, msg) {\n",
       "    // Updates the figure title.\n",
       "    fig.header.textContent = msg['label'];\n",
       "}\n",
       "\n",
       "mpl.figure.prototype.handle_cursor = function(fig, msg) {\n",
       "    var cursor = msg['cursor'];\n",
       "    switch(cursor)\n",
       "    {\n",
       "    case 0:\n",
       "        cursor = 'pointer';\n",
       "        break;\n",
       "    case 1:\n",
       "        cursor = 'default';\n",
       "        break;\n",
       "    case 2:\n",
       "        cursor = 'crosshair';\n",
       "        break;\n",
       "    case 3:\n",
       "        cursor = 'move';\n",
       "        break;\n",
       "    }\n",
       "    fig.rubberband_canvas.style.cursor = cursor;\n",
       "}\n",
       "\n",
       "mpl.figure.prototype.handle_message = function(fig, msg) {\n",
       "    fig.message.textContent = msg['message'];\n",
       "}\n",
       "\n",
       "mpl.figure.prototype.handle_draw = function(fig, msg) {\n",
       "    // Request the server to send over a new figure.\n",
       "    fig.send_draw_message();\n",
       "}\n",
       "\n",
       "mpl.figure.prototype.handle_image_mode = function(fig, msg) {\n",
       "    fig.image_mode = msg['mode'];\n",
       "}\n",
       "\n",
       "mpl.figure.prototype.updated_canvas_event = function() {\n",
       "    // Called whenever the canvas gets updated.\n",
       "    this.send_message(\"ack\", {});\n",
       "}\n",
       "\n",
       "// A function to construct a web socket function for onmessage handling.\n",
       "// Called in the figure constructor.\n",
       "mpl.figure.prototype._make_on_message_function = function(fig) {\n",
       "    return function socket_on_message(evt) {\n",
       "        if (evt.data instanceof Blob) {\n",
       "            /* FIXME: We get \"Resource interpreted as Image but\n",
       "             * transferred with MIME type text/plain:\" errors on\n",
       "             * Chrome.  But how to set the MIME type?  It doesn't seem\n",
       "             * to be part of the websocket stream */\n",
       "            evt.data.type = \"image/png\";\n",
       "\n",
       "            /* Free the memory for the previous frames */\n",
       "            if (fig.imageObj.src) {\n",
       "                (window.URL || window.webkitURL).revokeObjectURL(\n",
       "                    fig.imageObj.src);\n",
       "            }\n",
       "\n",
       "            fig.imageObj.src = (window.URL || window.webkitURL).createObjectURL(\n",
       "                evt.data);\n",
       "            fig.updated_canvas_event();\n",
       "            fig.waiting = false;\n",
       "            return;\n",
       "        }\n",
       "        else if (typeof evt.data === 'string' && evt.data.slice(0, 21) == \"data:image/png;base64\") {\n",
       "            fig.imageObj.src = evt.data;\n",
       "            fig.updated_canvas_event();\n",
       "            fig.waiting = false;\n",
       "            return;\n",
       "        }\n",
       "\n",
       "        var msg = JSON.parse(evt.data);\n",
       "        var msg_type = msg['type'];\n",
       "\n",
       "        // Call the  \"handle_{type}\" callback, which takes\n",
       "        // the figure and JSON message as its only arguments.\n",
       "        try {\n",
       "            var callback = fig[\"handle_\" + msg_type];\n",
       "        } catch (e) {\n",
       "            console.log(\"No handler for the '\" + msg_type + \"' message type: \", msg);\n",
       "            return;\n",
       "        }\n",
       "\n",
       "        if (callback) {\n",
       "            try {\n",
       "                // console.log(\"Handling '\" + msg_type + \"' message: \", msg);\n",
       "                callback(fig, msg);\n",
       "            } catch (e) {\n",
       "                console.log(\"Exception inside the 'handler_\" + msg_type + \"' callback:\", e, e.stack, msg);\n",
       "            }\n",
       "        }\n",
       "    };\n",
       "}\n",
       "\n",
       "// from http://stackoverflow.com/questions/1114465/getting-mouse-location-in-canvas\n",
       "mpl.findpos = function(e) {\n",
       "    //this section is from http://www.quirksmode.org/js/events_properties.html\n",
       "    var targ;\n",
       "    if (!e)\n",
       "        e = window.event;\n",
       "    if (e.target)\n",
       "        targ = e.target;\n",
       "    else if (e.srcElement)\n",
       "        targ = e.srcElement;\n",
       "    if (targ.nodeType == 3) // defeat Safari bug\n",
       "        targ = targ.parentNode;\n",
       "\n",
       "    // jQuery normalizes the pageX and pageY\n",
       "    // pageX,Y are the mouse positions relative to the document\n",
       "    // offset() returns the position of the element relative to the document\n",
       "    var x = e.pageX - $(targ).offset().left;\n",
       "    var y = e.pageY - $(targ).offset().top;\n",
       "\n",
       "    return {\"x\": x, \"y\": y};\n",
       "};\n",
       "\n",
       "/*\n",
       " * return a copy of an object with only non-object keys\n",
       " * we need this to avoid circular references\n",
       " * http://stackoverflow.com/a/24161582/3208463\n",
       " */\n",
       "function simpleKeys (original) {\n",
       "  return Object.keys(original).reduce(function (obj, key) {\n",
       "    if (typeof original[key] !== 'object')\n",
       "        obj[key] = original[key]\n",
       "    return obj;\n",
       "  }, {});\n",
       "}\n",
       "\n",
       "mpl.figure.prototype.mouse_event = function(event, name) {\n",
       "    var canvas_pos = mpl.findpos(event)\n",
       "\n",
       "    if (name === 'button_press')\n",
       "    {\n",
       "        this.canvas.focus();\n",
       "        this.canvas_div.focus();\n",
       "    }\n",
       "\n",
       "    var x = canvas_pos.x * mpl.ratio;\n",
       "    var y = canvas_pos.y * mpl.ratio;\n",
       "\n",
       "    this.send_message(name, {x: x, y: y, button: event.button,\n",
       "                             step: event.step,\n",
       "                             guiEvent: simpleKeys(event)});\n",
       "\n",
       "    /* This prevents the web browser from automatically changing to\n",
       "     * the text insertion cursor when the button is pressed.  We want\n",
       "     * to control all of the cursor setting manually through the\n",
       "     * 'cursor' event from matplotlib */\n",
       "    event.preventDefault();\n",
       "    return false;\n",
       "}\n",
       "\n",
       "mpl.figure.prototype._key_event_extra = function(event, name) {\n",
       "    // Handle any extra behaviour associated with a key event\n",
       "}\n",
       "\n",
       "mpl.figure.prototype.key_event = function(event, name) {\n",
       "\n",
       "    // Prevent repeat events\n",
       "    if (name == 'key_press')\n",
       "    {\n",
       "        if (event.which === this._key)\n",
       "            return;\n",
       "        else\n",
       "            this._key = event.which;\n",
       "    }\n",
       "    if (name == 'key_release')\n",
       "        this._key = null;\n",
       "\n",
       "    var value = '';\n",
       "    if (event.ctrlKey && event.which != 17)\n",
       "        value += \"ctrl+\";\n",
       "    if (event.altKey && event.which != 18)\n",
       "        value += \"alt+\";\n",
       "    if (event.shiftKey && event.which != 16)\n",
       "        value += \"shift+\";\n",
       "\n",
       "    value += 'k';\n",
       "    value += event.which.toString();\n",
       "\n",
       "    this._key_event_extra(event, name);\n",
       "\n",
       "    this.send_message(name, {key: value,\n",
       "                             guiEvent: simpleKeys(event)});\n",
       "    return false;\n",
       "}\n",
       "\n",
       "mpl.figure.prototype.toolbar_button_onclick = function(name) {\n",
       "    if (name == 'download') {\n",
       "        this.handle_save(this, null);\n",
       "    } else {\n",
       "        this.send_message(\"toolbar_button\", {name: name});\n",
       "    }\n",
       "};\n",
       "\n",
       "mpl.figure.prototype.toolbar_button_onmouseover = function(tooltip) {\n",
       "    this.message.textContent = tooltip;\n",
       "};\n",
       "mpl.toolbar_items = [[\"Home\", \"Reset original view\", \"fa fa-home icon-home\", \"home\"], [\"Back\", \"Back to previous view\", \"fa fa-arrow-left icon-arrow-left\", \"back\"], [\"Forward\", \"Forward to next view\", \"fa fa-arrow-right icon-arrow-right\", \"forward\"], [\"\", \"\", \"\", \"\"], [\"Pan\", \"Pan axes with left mouse, zoom with right\", \"fa fa-arrows icon-move\", \"pan\"], [\"Zoom\", \"Zoom to rectangle\", \"fa fa-square-o icon-check-empty\", \"zoom\"], [\"\", \"\", \"\", \"\"], [\"Download\", \"Download plot\", \"fa fa-floppy-o icon-save\", \"download\"]];\n",
       "\n",
       "mpl.extensions = [\"eps\", \"jpeg\", \"pdf\", \"png\", \"ps\", \"raw\", \"svg\", \"tif\"];\n",
       "\n",
       "mpl.default_extension = \"png\";var comm_websocket_adapter = function(comm) {\n",
       "    // Create a \"websocket\"-like object which calls the given IPython comm\n",
       "    // object with the appropriate methods. Currently this is a non binary\n",
       "    // socket, so there is still some room for performance tuning.\n",
       "    var ws = {};\n",
       "\n",
       "    ws.close = function() {\n",
       "        comm.close()\n",
       "    };\n",
       "    ws.send = function(m) {\n",
       "        //console.log('sending', m);\n",
       "        comm.send(m);\n",
       "    };\n",
       "    // Register the callback with on_msg.\n",
       "    comm.on_msg(function(msg) {\n",
       "        //console.log('receiving', msg['content']['data'], msg);\n",
       "        // Pass the mpl event to the overridden (by mpl) onmessage function.\n",
       "        ws.onmessage(msg['content']['data'])\n",
       "    });\n",
       "    return ws;\n",
       "}\n",
       "\n",
       "mpl.mpl_figure_comm = function(comm, msg) {\n",
       "    // This is the function which gets called when the mpl process\n",
       "    // starts-up an IPython Comm through the \"matplotlib\" channel.\n",
       "\n",
       "    var id = msg.content.data.id;\n",
       "    // Get hold of the div created by the display call when the Comm\n",
       "    // socket was opened in Python.\n",
       "    var element = $(\"#\" + id);\n",
       "    var ws_proxy = comm_websocket_adapter(comm)\n",
       "\n",
       "    function ondownload(figure, format) {\n",
       "        window.open(figure.imageObj.src);\n",
       "    }\n",
       "\n",
       "    var fig = new mpl.figure(id, ws_proxy,\n",
       "                           ondownload,\n",
       "                           element.get(0));\n",
       "\n",
       "    // Call onopen now - mpl needs it, as it is assuming we've passed it a real\n",
       "    // web socket which is closed, not our websocket->open comm proxy.\n",
       "    ws_proxy.onopen();\n",
       "\n",
       "    fig.parent_element = element.get(0);\n",
       "    fig.cell_info = mpl.find_output_cell(\"<div id='\" + id + \"'></div>\");\n",
       "    if (!fig.cell_info) {\n",
       "        console.error(\"Failed to find cell for figure\", id, fig);\n",
       "        return;\n",
       "    }\n",
       "\n",
       "    var output_index = fig.cell_info[2]\n",
       "    var cell = fig.cell_info[0];\n",
       "\n",
       "};\n",
       "\n",
       "mpl.figure.prototype.handle_close = function(fig, msg) {\n",
       "    var width = fig.canvas.width/mpl.ratio\n",
       "    fig.root.unbind('remove')\n",
       "\n",
       "    // Update the output cell to use the data from the current canvas.\n",
       "    fig.push_to_output();\n",
       "    var dataURL = fig.canvas.toDataURL();\n",
       "    // Re-enable the keyboard manager in IPython - without this line, in FF,\n",
       "    // the notebook keyboard shortcuts fail.\n",
       "    IPython.keyboard_manager.enable()\n",
       "    $(fig.parent_element).html('<img src=\"' + dataURL + '\" width=\"' + width + '\">');\n",
       "    fig.close_ws(fig, msg);\n",
       "}\n",
       "\n",
       "mpl.figure.prototype.close_ws = function(fig, msg){\n",
       "    fig.send_message('closing', msg);\n",
       "    // fig.ws.close()\n",
       "}\n",
       "\n",
       "mpl.figure.prototype.push_to_output = function(remove_interactive) {\n",
       "    // Turn the data on the canvas into data in the output cell.\n",
       "    var width = this.canvas.width/mpl.ratio\n",
       "    var dataURL = this.canvas.toDataURL();\n",
       "    this.cell_info[1]['text/html'] = '<img src=\"' + dataURL + '\" width=\"' + width + '\">';\n",
       "}\n",
       "\n",
       "mpl.figure.prototype.updated_canvas_event = function() {\n",
       "    // Tell IPython that the notebook contents must change.\n",
       "    IPython.notebook.set_dirty(true);\n",
       "    this.send_message(\"ack\", {});\n",
       "    var fig = this;\n",
       "    // Wait a second, then push the new image to the DOM so\n",
       "    // that it is saved nicely (might be nice to debounce this).\n",
       "    setTimeout(function () { fig.push_to_output() }, 1000);\n",
       "}\n",
       "\n",
       "mpl.figure.prototype._init_toolbar = function() {\n",
       "    var fig = this;\n",
       "\n",
       "    var nav_element = $('<div/>');\n",
       "    nav_element.attr('style', 'width: 100%');\n",
       "    this.root.append(nav_element);\n",
       "\n",
       "    // Define a callback function for later on.\n",
       "    function toolbar_event(event) {\n",
       "        return fig.toolbar_button_onclick(event['data']);\n",
       "    }\n",
       "    function toolbar_mouse_event(event) {\n",
       "        return fig.toolbar_button_onmouseover(event['data']);\n",
       "    }\n",
       "\n",
       "    for(var toolbar_ind in mpl.toolbar_items){\n",
       "        var name = mpl.toolbar_items[toolbar_ind][0];\n",
       "        var tooltip = mpl.toolbar_items[toolbar_ind][1];\n",
       "        var image = mpl.toolbar_items[toolbar_ind][2];\n",
       "        var method_name = mpl.toolbar_items[toolbar_ind][3];\n",
       "\n",
       "        if (!name) { continue; };\n",
       "\n",
       "        var button = $('<button class=\"btn btn-default\" href=\"#\" title=\"' + name + '\"><i class=\"fa ' + image + ' fa-lg\"></i></button>');\n",
       "        button.click(method_name, toolbar_event);\n",
       "        button.mouseover(tooltip, toolbar_mouse_event);\n",
       "        nav_element.append(button);\n",
       "    }\n",
       "\n",
       "    // Add the status bar.\n",
       "    var status_bar = $('<span class=\"mpl-message\" style=\"text-align:right; float: right;\"/>');\n",
       "    nav_element.append(status_bar);\n",
       "    this.message = status_bar[0];\n",
       "\n",
       "    // Add the close button to the window.\n",
       "    var buttongrp = $('<div class=\"btn-group inline pull-right\"></div>');\n",
       "    var button = $('<button class=\"btn btn-mini btn-primary\" href=\"#\" title=\"Stop Interaction\"><i class=\"fa fa-power-off icon-remove icon-large\"></i></button>');\n",
       "    button.click(function (evt) { fig.handle_close(fig, {}); } );\n",
       "    button.mouseover('Stop Interaction', toolbar_mouse_event);\n",
       "    buttongrp.append(button);\n",
       "    var titlebar = this.root.find($('.ui-dialog-titlebar'));\n",
       "    titlebar.prepend(buttongrp);\n",
       "}\n",
       "\n",
       "mpl.figure.prototype._root_extra_style = function(el){\n",
       "    var fig = this\n",
       "    el.on(\"remove\", function(){\n",
       "\tfig.close_ws(fig, {});\n",
       "    });\n",
       "}\n",
       "\n",
       "mpl.figure.prototype._canvas_extra_style = function(el){\n",
       "    // this is important to make the div 'focusable\n",
       "    el.attr('tabindex', 0)\n",
       "    // reach out to IPython and tell the keyboard manager to turn it's self\n",
       "    // off when our div gets focus\n",
       "\n",
       "    // location in version 3\n",
       "    if (IPython.notebook.keyboard_manager) {\n",
       "        IPython.notebook.keyboard_manager.register_events(el);\n",
       "    }\n",
       "    else {\n",
       "        // location in version 2\n",
       "        IPython.keyboard_manager.register_events(el);\n",
       "    }\n",
       "\n",
       "}\n",
       "\n",
       "mpl.figure.prototype._key_event_extra = function(event, name) {\n",
       "    var manager = IPython.notebook.keyboard_manager;\n",
       "    if (!manager)\n",
       "        manager = IPython.keyboard_manager;\n",
       "\n",
       "    // Check for shift+enter\n",
       "    if (event.shiftKey && event.which == 13) {\n",
       "        this.canvas_div.blur();\n",
       "        // select the cell after this one\n",
       "        var index = IPython.notebook.find_cell_index(this.cell_info[0]);\n",
       "        IPython.notebook.select(index + 1);\n",
       "    }\n",
       "}\n",
       "\n",
       "mpl.figure.prototype.handle_save = function(fig, msg) {\n",
       "    fig.ondownload(fig, null);\n",
       "}\n",
       "\n",
       "\n",
       "mpl.find_output_cell = function(html_output) {\n",
       "    // Return the cell and output element which can be found *uniquely* in the notebook.\n",
       "    // Note - this is a bit hacky, but it is done because the \"notebook_saving.Notebook\"\n",
       "    // IPython event is triggered only after the cells have been serialised, which for\n",
       "    // our purposes (turning an active figure into a static one), is too late.\n",
       "    var cells = IPython.notebook.get_cells();\n",
       "    var ncells = cells.length;\n",
       "    for (var i=0; i<ncells; i++) {\n",
       "        var cell = cells[i];\n",
       "        if (cell.cell_type === 'code'){\n",
       "            for (var j=0; j<cell.output_area.outputs.length; j++) {\n",
       "                var data = cell.output_area.outputs[j];\n",
       "                if (data.data) {\n",
       "                    // IPython >= 3 moved mimebundle to data attribute of output\n",
       "                    data = data.data;\n",
       "                }\n",
       "                if (data['text/html'] == html_output) {\n",
       "                    return [cell, data, j];\n",
       "                }\n",
       "            }\n",
       "        }\n",
       "    }\n",
       "}\n",
       "\n",
       "// Register the function which deals with the matplotlib target/channel.\n",
       "// The kernel may be null if the page has been refreshed.\n",
       "if (IPython.notebook.kernel != null) {\n",
       "    IPython.notebook.kernel.comm_manager.register_target('matplotlib', mpl.mpl_figure_comm);\n",
       "}\n"
      ],
      "text/plain": [
       "<IPython.core.display.Javascript object>"
      ]
     },
     "metadata": {},
     "output_type": "display_data"
    },
    {
     "data": {
      "text/html": [
       "<img src=\"data:image/png;base64,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\" width=\"240\">"
      ],
      "text/plain": [
       "<IPython.core.display.HTML object>"
      ]
     },
     "metadata": {},
     "output_type": "display_data"
    }
   ],
   "source": [
    "plot_diff(U_1_vo_[1], nd_U[1][:, sv[1], so[1]])"
   ]
  },
  {
   "cell_type": "markdown",
   "metadata": {},
   "source": [
    "### 完整未“旋转”的 U 矩阵"
   ]
  },
  {
   "cell_type": "markdown",
   "metadata": {},
   "source": [
    "- `U_1_` $U_{pq}^{\\mathbb{A}, \\sigma}$, dim: $(\\sigma, \\mathbb{A}, p, q)$"
   ]
  },
  {
   "cell_type": "code",
   "execution_count": 103,
   "metadata": {},
   "outputs": [],
   "source": [
    "U_1_ = np.zeros((2, natm * 3, nmo, nmo))\n",
    "U_1_[0, :, sv[0], so[0]] = U_1_vo_[0]\n",
    "U_1_[1, :, sv[1], so[1]] = U_1_vo_[1]"
   ]
  },
  {
   "cell_type": "markdown",
   "metadata": {},
   "source": [
    "$$\n",
    "U_{ia}^{\\mathbb{A}, \\sigma} = - S_{ia}^{\\mathbb{A}, \\sigma} - U_{ai}^{\\mathbb{A}, \\sigma}\n",
    "$$"
   ]
  },
  {
   "cell_type": "code",
   "execution_count": 104,
   "metadata": {},
   "outputs": [],
   "source": [
    "U_1_[0, :, so[0], sv[0]] = - S_1_mo[0, :, so[0], sv[0]] - U_1_vo_[0].swapaxes(-1, -2)\n",
    "U_1_[1, :, so[1], sv[1]] = - S_1_mo[1, :, so[1], sv[1]] - U_1_vo_[1].swapaxes(-1, -2)"
   ]
  },
  {
   "cell_type": "markdown",
   "metadata": {},
   "source": [
    "$$\n",
    "U_{ij}^{\\mathbb{A}, \\sigma} = - \\frac{\\mathtt{A}_{ij}^\\sigma [U_{ck}^{\\mathbb{A}, \\sigma'}] + B_{ij}^{\\mathbb{A}, \\sigma}}{\\varepsilon_i^\\sigma - \\varepsilon_j^\\sigma} \\quad i \\neq j\n",
    "$$\n",
    "\n",
    "相同的公式可以用于非占-非占的情形。"
   ]
  },
  {
   "cell_type": "code",
   "execution_count": 105,
   "metadata": {},
   "outputs": [],
   "source": [
    "Ax_oo = Ax0_Core(so, so, sv, so)(U_1_vo_)\n",
    "Ax_vv = Ax0_Core(sv, sv, sv, so)(U_1_vo_)"
   ]
  },
  {
   "cell_type": "code",
   "execution_count": 106,
   "metadata": {},
   "outputs": [],
   "source": [
    "U_1_[0, :, so[0], so[0]] = - (Ax_oo[0] + B_1[0, :, so[0], so[0]]) / (eo[0][:, None] - eo[0][None, :])\n",
    "U_1_[1, :, so[1], so[1]] = - (Ax_oo[1] + B_1[1, :, so[1], so[1]]) / (eo[1][:, None] - eo[1][None, :])\n",
    "U_1_[0, :, sv[0], sv[0]] = - (Ax_vv[0] + B_1[0, :, sv[0], sv[0]]) / (ev[0][:, None] - ev[0][None, :])\n",
    "U_1_[1, :, sv[1], sv[1]] = - (Ax_vv[1] + B_1[1, :, sv[1], sv[1]]) / (ev[1][:, None] - ev[1][None, :])"
   ]
  },
  {
   "cell_type": "markdown",
   "metadata": {},
   "source": [
    "$$\n",
    "U_{pp}^{\\mathbb{A}, \\sigma} = - \\frac{1}{2} S_{pp}^{\\mathbb{A}, \\sigma}\n",
    "$$"
   ]
  },
  {
   "cell_type": "code",
   "execution_count": 107,
   "metadata": {},
   "outputs": [],
   "source": [
    "for p in range(nmo):\n",
    "    U_1_[:, :, p, p] = - S_1_mo[:, :, p, p] / 2"
   ]
  },
  {
   "cell_type": "code",
   "execution_count": 108,
   "metadata": {},
   "outputs": [
    {
     "data": {
      "application/javascript": [
       "/* Put everything inside the global mpl namespace */\n",
       "window.mpl = {};\n",
       "\n",
       "\n",
       "mpl.get_websocket_type = function() {\n",
       "    if (typeof(WebSocket) !== 'undefined') {\n",
       "        return WebSocket;\n",
       "    } else if (typeof(MozWebSocket) !== 'undefined') {\n",
       "        return MozWebSocket;\n",
       "    } else {\n",
       "        alert('Your browser does not have WebSocket support. ' +\n",
       "              'Please try Chrome, Safari or Firefox ≥ 6. ' +\n",
       "              'Firefox 4 and 5 are also supported but you ' +\n",
       "              'have to enable WebSockets in about:config.');\n",
       "    };\n",
       "}\n",
       "\n",
       "mpl.figure = function(figure_id, websocket, ondownload, parent_element) {\n",
       "    this.id = figure_id;\n",
       "\n",
       "    this.ws = websocket;\n",
       "\n",
       "    this.supports_binary = (this.ws.binaryType != undefined);\n",
       "\n",
       "    if (!this.supports_binary) {\n",
       "        var warnings = document.getElementById(\"mpl-warnings\");\n",
       "        if (warnings) {\n",
       "            warnings.style.display = 'block';\n",
       "            warnings.textContent = (\n",
       "                \"This browser does not support binary websocket messages. \" +\n",
       "                    \"Performance may be slow.\");\n",
       "        }\n",
       "    }\n",
       "\n",
       "    this.imageObj = new Image();\n",
       "\n",
       "    this.context = undefined;\n",
       "    this.message = undefined;\n",
       "    this.canvas = undefined;\n",
       "    this.rubberband_canvas = undefined;\n",
       "    this.rubberband_context = undefined;\n",
       "    this.format_dropdown = undefined;\n",
       "\n",
       "    this.image_mode = 'full';\n",
       "\n",
       "    this.root = $('<div/>');\n",
       "    this._root_extra_style(this.root)\n",
       "    this.root.attr('style', 'display: inline-block');\n",
       "\n",
       "    $(parent_element).append(this.root);\n",
       "\n",
       "    this._init_header(this);\n",
       "    this._init_canvas(this);\n",
       "    this._init_toolbar(this);\n",
       "\n",
       "    var fig = this;\n",
       "\n",
       "    this.waiting = false;\n",
       "\n",
       "    this.ws.onopen =  function () {\n",
       "            fig.send_message(\"supports_binary\", {value: fig.supports_binary});\n",
       "            fig.send_message(\"send_image_mode\", {});\n",
       "            if (mpl.ratio != 1) {\n",
       "                fig.send_message(\"set_dpi_ratio\", {'dpi_ratio': mpl.ratio});\n",
       "            }\n",
       "            fig.send_message(\"refresh\", {});\n",
       "        }\n",
       "\n",
       "    this.imageObj.onload = function() {\n",
       "            if (fig.image_mode == 'full') {\n",
       "                // Full images could contain transparency (where diff images\n",
       "                // almost always do), so we need to clear the canvas so that\n",
       "                // there is no ghosting.\n",
       "                fig.context.clearRect(0, 0, fig.canvas.width, fig.canvas.height);\n",
       "            }\n",
       "            fig.context.drawImage(fig.imageObj, 0, 0);\n",
       "        };\n",
       "\n",
       "    this.imageObj.onunload = function() {\n",
       "        fig.ws.close();\n",
       "    }\n",
       "\n",
       "    this.ws.onmessage = this._make_on_message_function(this);\n",
       "\n",
       "    this.ondownload = ondownload;\n",
       "}\n",
       "\n",
       "mpl.figure.prototype._init_header = function() {\n",
       "    var titlebar = $(\n",
       "        '<div class=\"ui-dialog-titlebar ui-widget-header ui-corner-all ' +\n",
       "        'ui-helper-clearfix\"/>');\n",
       "    var titletext = $(\n",
       "        '<div class=\"ui-dialog-title\" style=\"width: 100%; ' +\n",
       "        'text-align: center; padding: 3px;\"/>');\n",
       "    titlebar.append(titletext)\n",
       "    this.root.append(titlebar);\n",
       "    this.header = titletext[0];\n",
       "}\n",
       "\n",
       "\n",
       "\n",
       "mpl.figure.prototype._canvas_extra_style = function(canvas_div) {\n",
       "\n",
       "}\n",
       "\n",
       "\n",
       "mpl.figure.prototype._root_extra_style = function(canvas_div) {\n",
       "\n",
       "}\n",
       "\n",
       "mpl.figure.prototype._init_canvas = function() {\n",
       "    var fig = this;\n",
       "\n",
       "    var canvas_div = $('<div/>');\n",
       "\n",
       "    canvas_div.attr('style', 'position: relative; clear: both; outline: 0');\n",
       "\n",
       "    function canvas_keyboard_event(event) {\n",
       "        return fig.key_event(event, event['data']);\n",
       "    }\n",
       "\n",
       "    canvas_div.keydown('key_press', canvas_keyboard_event);\n",
       "    canvas_div.keyup('key_release', canvas_keyboard_event);\n",
       "    this.canvas_div = canvas_div\n",
       "    this._canvas_extra_style(canvas_div)\n",
       "    this.root.append(canvas_div);\n",
       "\n",
       "    var canvas = $('<canvas/>');\n",
       "    canvas.addClass('mpl-canvas');\n",
       "    canvas.attr('style', \"left: 0; top: 0; z-index: 0; outline: 0\")\n",
       "\n",
       "    this.canvas = canvas[0];\n",
       "    this.context = canvas[0].getContext(\"2d\");\n",
       "\n",
       "    var backingStore = this.context.backingStorePixelRatio ||\n",
       "\tthis.context.webkitBackingStorePixelRatio ||\n",
       "\tthis.context.mozBackingStorePixelRatio ||\n",
       "\tthis.context.msBackingStorePixelRatio ||\n",
       "\tthis.context.oBackingStorePixelRatio ||\n",
       "\tthis.context.backingStorePixelRatio || 1;\n",
       "\n",
       "    mpl.ratio = (window.devicePixelRatio || 1) / backingStore;\n",
       "\n",
       "    var rubberband = $('<canvas/>');\n",
       "    rubberband.attr('style', \"position: absolute; left: 0; top: 0; z-index: 1;\")\n",
       "\n",
       "    var pass_mouse_events = true;\n",
       "\n",
       "    canvas_div.resizable({\n",
       "        start: function(event, ui) {\n",
       "            pass_mouse_events = false;\n",
       "        },\n",
       "        resize: function(event, ui) {\n",
       "            fig.request_resize(ui.size.width, ui.size.height);\n",
       "        },\n",
       "        stop: function(event, ui) {\n",
       "            pass_mouse_events = true;\n",
       "            fig.request_resize(ui.size.width, ui.size.height);\n",
       "        },\n",
       "    });\n",
       "\n",
       "    function mouse_event_fn(event) {\n",
       "        if (pass_mouse_events)\n",
       "            return fig.mouse_event(event, event['data']);\n",
       "    }\n",
       "\n",
       "    rubberband.mousedown('button_press', mouse_event_fn);\n",
       "    rubberband.mouseup('button_release', mouse_event_fn);\n",
       "    // Throttle sequential mouse events to 1 every 20ms.\n",
       "    rubberband.mousemove('motion_notify', mouse_event_fn);\n",
       "\n",
       "    rubberband.mouseenter('figure_enter', mouse_event_fn);\n",
       "    rubberband.mouseleave('figure_leave', mouse_event_fn);\n",
       "\n",
       "    canvas_div.on(\"wheel\", function (event) {\n",
       "        event = event.originalEvent;\n",
       "        event['data'] = 'scroll'\n",
       "        if (event.deltaY < 0) {\n",
       "            event.step = 1;\n",
       "        } else {\n",
       "            event.step = -1;\n",
       "        }\n",
       "        mouse_event_fn(event);\n",
       "    });\n",
       "\n",
       "    canvas_div.append(canvas);\n",
       "    canvas_div.append(rubberband);\n",
       "\n",
       "    this.rubberband = rubberband;\n",
       "    this.rubberband_canvas = rubberband[0];\n",
       "    this.rubberband_context = rubberband[0].getContext(\"2d\");\n",
       "    this.rubberband_context.strokeStyle = \"#000000\";\n",
       "\n",
       "    this._resize_canvas = function(width, height) {\n",
       "        // Keep the size of the canvas, canvas container, and rubber band\n",
       "        // canvas in synch.\n",
       "        canvas_div.css('width', width)\n",
       "        canvas_div.css('height', height)\n",
       "\n",
       "        canvas.attr('width', width * mpl.ratio);\n",
       "        canvas.attr('height', height * mpl.ratio);\n",
       "        canvas.attr('style', 'width: ' + width + 'px; height: ' + height + 'px;');\n",
       "\n",
       "        rubberband.attr('width', width);\n",
       "        rubberband.attr('height', height);\n",
       "    }\n",
       "\n",
       "    // Set the figure to an initial 600x600px, this will subsequently be updated\n",
       "    // upon first draw.\n",
       "    this._resize_canvas(600, 600);\n",
       "\n",
       "    // Disable right mouse context menu.\n",
       "    $(this.rubberband_canvas).bind(\"contextmenu\",function(e){\n",
       "        return false;\n",
       "    });\n",
       "\n",
       "    function set_focus () {\n",
       "        canvas.focus();\n",
       "        canvas_div.focus();\n",
       "    }\n",
       "\n",
       "    window.setTimeout(set_focus, 100);\n",
       "}\n",
       "\n",
       "mpl.figure.prototype._init_toolbar = function() {\n",
       "    var fig = this;\n",
       "\n",
       "    var nav_element = $('<div/>');\n",
       "    nav_element.attr('style', 'width: 100%');\n",
       "    this.root.append(nav_element);\n",
       "\n",
       "    // Define a callback function for later on.\n",
       "    function toolbar_event(event) {\n",
       "        return fig.toolbar_button_onclick(event['data']);\n",
       "    }\n",
       "    function toolbar_mouse_event(event) {\n",
       "        return fig.toolbar_button_onmouseover(event['data']);\n",
       "    }\n",
       "\n",
       "    for(var toolbar_ind in mpl.toolbar_items) {\n",
       "        var name = mpl.toolbar_items[toolbar_ind][0];\n",
       "        var tooltip = mpl.toolbar_items[toolbar_ind][1];\n",
       "        var image = mpl.toolbar_items[toolbar_ind][2];\n",
       "        var method_name = mpl.toolbar_items[toolbar_ind][3];\n",
       "\n",
       "        if (!name) {\n",
       "            // put a spacer in here.\n",
       "            continue;\n",
       "        }\n",
       "        var button = $('<button/>');\n",
       "        button.addClass('ui-button ui-widget ui-state-default ui-corner-all ' +\n",
       "                        'ui-button-icon-only');\n",
       "        button.attr('role', 'button');\n",
       "        button.attr('aria-disabled', 'false');\n",
       "        button.click(method_name, toolbar_event);\n",
       "        button.mouseover(tooltip, toolbar_mouse_event);\n",
       "\n",
       "        var icon_img = $('<span/>');\n",
       "        icon_img.addClass('ui-button-icon-primary ui-icon');\n",
       "        icon_img.addClass(image);\n",
       "        icon_img.addClass('ui-corner-all');\n",
       "\n",
       "        var tooltip_span = $('<span/>');\n",
       "        tooltip_span.addClass('ui-button-text');\n",
       "        tooltip_span.html(tooltip);\n",
       "\n",
       "        button.append(icon_img);\n",
       "        button.append(tooltip_span);\n",
       "\n",
       "        nav_element.append(button);\n",
       "    }\n",
       "\n",
       "    var fmt_picker_span = $('<span/>');\n",
       "\n",
       "    var fmt_picker = $('<select/>');\n",
       "    fmt_picker.addClass('mpl-toolbar-option ui-widget ui-widget-content');\n",
       "    fmt_picker_span.append(fmt_picker);\n",
       "    nav_element.append(fmt_picker_span);\n",
       "    this.format_dropdown = fmt_picker[0];\n",
       "\n",
       "    for (var ind in mpl.extensions) {\n",
       "        var fmt = mpl.extensions[ind];\n",
       "        var option = $(\n",
       "            '<option/>', {selected: fmt === mpl.default_extension}).html(fmt);\n",
       "        fmt_picker.append(option);\n",
       "    }\n",
       "\n",
       "    // Add hover states to the ui-buttons\n",
       "    $( \".ui-button\" ).hover(\n",
       "        function() { $(this).addClass(\"ui-state-hover\");},\n",
       "        function() { $(this).removeClass(\"ui-state-hover\");}\n",
       "    );\n",
       "\n",
       "    var status_bar = $('<span class=\"mpl-message\"/>');\n",
       "    nav_element.append(status_bar);\n",
       "    this.message = status_bar[0];\n",
       "}\n",
       "\n",
       "mpl.figure.prototype.request_resize = function(x_pixels, y_pixels) {\n",
       "    // Request matplotlib to resize the figure. Matplotlib will then trigger a resize in the client,\n",
       "    // which will in turn request a refresh of the image.\n",
       "    this.send_message('resize', {'width': x_pixels, 'height': y_pixels});\n",
       "}\n",
       "\n",
       "mpl.figure.prototype.send_message = function(type, properties) {\n",
       "    properties['type'] = type;\n",
       "    properties['figure_id'] = this.id;\n",
       "    this.ws.send(JSON.stringify(properties));\n",
       "}\n",
       "\n",
       "mpl.figure.prototype.send_draw_message = function() {\n",
       "    if (!this.waiting) {\n",
       "        this.waiting = true;\n",
       "        this.ws.send(JSON.stringify({type: \"draw\", figure_id: this.id}));\n",
       "    }\n",
       "}\n",
       "\n",
       "\n",
       "mpl.figure.prototype.handle_save = function(fig, msg) {\n",
       "    var format_dropdown = fig.format_dropdown;\n",
       "    var format = format_dropdown.options[format_dropdown.selectedIndex].value;\n",
       "    fig.ondownload(fig, format);\n",
       "}\n",
       "\n",
       "\n",
       "mpl.figure.prototype.handle_resize = function(fig, msg) {\n",
       "    var size = msg['size'];\n",
       "    if (size[0] != fig.canvas.width || size[1] != fig.canvas.height) {\n",
       "        fig._resize_canvas(size[0], size[1]);\n",
       "        fig.send_message(\"refresh\", {});\n",
       "    };\n",
       "}\n",
       "\n",
       "mpl.figure.prototype.handle_rubberband = function(fig, msg) {\n",
       "    var x0 = msg['x0'] / mpl.ratio;\n",
       "    var y0 = (fig.canvas.height - msg['y0']) / mpl.ratio;\n",
       "    var x1 = msg['x1'] / mpl.ratio;\n",
       "    var y1 = (fig.canvas.height - msg['y1']) / mpl.ratio;\n",
       "    x0 = Math.floor(x0) + 0.5;\n",
       "    y0 = Math.floor(y0) + 0.5;\n",
       "    x1 = Math.floor(x1) + 0.5;\n",
       "    y1 = Math.floor(y1) + 0.5;\n",
       "    var min_x = Math.min(x0, x1);\n",
       "    var min_y = Math.min(y0, y1);\n",
       "    var width = Math.abs(x1 - x0);\n",
       "    var height = Math.abs(y1 - y0);\n",
       "\n",
       "    fig.rubberband_context.clearRect(\n",
       "        0, 0, fig.canvas.width / mpl.ratio, fig.canvas.height / mpl.ratio);\n",
       "\n",
       "    fig.rubberband_context.strokeRect(min_x, min_y, width, height);\n",
       "}\n",
       "\n",
       "mpl.figure.prototype.handle_figure_label = function(fig, msg) {\n",
       "    // Updates the figure title.\n",
       "    fig.header.textContent = msg['label'];\n",
       "}\n",
       "\n",
       "mpl.figure.prototype.handle_cursor = function(fig, msg) {\n",
       "    var cursor = msg['cursor'];\n",
       "    switch(cursor)\n",
       "    {\n",
       "    case 0:\n",
       "        cursor = 'pointer';\n",
       "        break;\n",
       "    case 1:\n",
       "        cursor = 'default';\n",
       "        break;\n",
       "    case 2:\n",
       "        cursor = 'crosshair';\n",
       "        break;\n",
       "    case 3:\n",
       "        cursor = 'move';\n",
       "        break;\n",
       "    }\n",
       "    fig.rubberband_canvas.style.cursor = cursor;\n",
       "}\n",
       "\n",
       "mpl.figure.prototype.handle_message = function(fig, msg) {\n",
       "    fig.message.textContent = msg['message'];\n",
       "}\n",
       "\n",
       "mpl.figure.prototype.handle_draw = function(fig, msg) {\n",
       "    // Request the server to send over a new figure.\n",
       "    fig.send_draw_message();\n",
       "}\n",
       "\n",
       "mpl.figure.prototype.handle_image_mode = function(fig, msg) {\n",
       "    fig.image_mode = msg['mode'];\n",
       "}\n",
       "\n",
       "mpl.figure.prototype.updated_canvas_event = function() {\n",
       "    // Called whenever the canvas gets updated.\n",
       "    this.send_message(\"ack\", {});\n",
       "}\n",
       "\n",
       "// A function to construct a web socket function for onmessage handling.\n",
       "// Called in the figure constructor.\n",
       "mpl.figure.prototype._make_on_message_function = function(fig) {\n",
       "    return function socket_on_message(evt) {\n",
       "        if (evt.data instanceof Blob) {\n",
       "            /* FIXME: We get \"Resource interpreted as Image but\n",
       "             * transferred with MIME type text/plain:\" errors on\n",
       "             * Chrome.  But how to set the MIME type?  It doesn't seem\n",
       "             * to be part of the websocket stream */\n",
       "            evt.data.type = \"image/png\";\n",
       "\n",
       "            /* Free the memory for the previous frames */\n",
       "            if (fig.imageObj.src) {\n",
       "                (window.URL || window.webkitURL).revokeObjectURL(\n",
       "                    fig.imageObj.src);\n",
       "            }\n",
       "\n",
       "            fig.imageObj.src = (window.URL || window.webkitURL).createObjectURL(\n",
       "                evt.data);\n",
       "            fig.updated_canvas_event();\n",
       "            fig.waiting = false;\n",
       "            return;\n",
       "        }\n",
       "        else if (typeof evt.data === 'string' && evt.data.slice(0, 21) == \"data:image/png;base64\") {\n",
       "            fig.imageObj.src = evt.data;\n",
       "            fig.updated_canvas_event();\n",
       "            fig.waiting = false;\n",
       "            return;\n",
       "        }\n",
       "\n",
       "        var msg = JSON.parse(evt.data);\n",
       "        var msg_type = msg['type'];\n",
       "\n",
       "        // Call the  \"handle_{type}\" callback, which takes\n",
       "        // the figure and JSON message as its only arguments.\n",
       "        try {\n",
       "            var callback = fig[\"handle_\" + msg_type];\n",
       "        } catch (e) {\n",
       "            console.log(\"No handler for the '\" + msg_type + \"' message type: \", msg);\n",
       "            return;\n",
       "        }\n",
       "\n",
       "        if (callback) {\n",
       "            try {\n",
       "                // console.log(\"Handling '\" + msg_type + \"' message: \", msg);\n",
       "                callback(fig, msg);\n",
       "            } catch (e) {\n",
       "                console.log(\"Exception inside the 'handler_\" + msg_type + \"' callback:\", e, e.stack, msg);\n",
       "            }\n",
       "        }\n",
       "    };\n",
       "}\n",
       "\n",
       "// from http://stackoverflow.com/questions/1114465/getting-mouse-location-in-canvas\n",
       "mpl.findpos = function(e) {\n",
       "    //this section is from http://www.quirksmode.org/js/events_properties.html\n",
       "    var targ;\n",
       "    if (!e)\n",
       "        e = window.event;\n",
       "    if (e.target)\n",
       "        targ = e.target;\n",
       "    else if (e.srcElement)\n",
       "        targ = e.srcElement;\n",
       "    if (targ.nodeType == 3) // defeat Safari bug\n",
       "        targ = targ.parentNode;\n",
       "\n",
       "    // jQuery normalizes the pageX and pageY\n",
       "    // pageX,Y are the mouse positions relative to the document\n",
       "    // offset() returns the position of the element relative to the document\n",
       "    var x = e.pageX - $(targ).offset().left;\n",
       "    var y = e.pageY - $(targ).offset().top;\n",
       "\n",
       "    return {\"x\": x, \"y\": y};\n",
       "};\n",
       "\n",
       "/*\n",
       " * return a copy of an object with only non-object keys\n",
       " * we need this to avoid circular references\n",
       " * http://stackoverflow.com/a/24161582/3208463\n",
       " */\n",
       "function simpleKeys (original) {\n",
       "  return Object.keys(original).reduce(function (obj, key) {\n",
       "    if (typeof original[key] !== 'object')\n",
       "        obj[key] = original[key]\n",
       "    return obj;\n",
       "  }, {});\n",
       "}\n",
       "\n",
       "mpl.figure.prototype.mouse_event = function(event, name) {\n",
       "    var canvas_pos = mpl.findpos(event)\n",
       "\n",
       "    if (name === 'button_press')\n",
       "    {\n",
       "        this.canvas.focus();\n",
       "        this.canvas_div.focus();\n",
       "    }\n",
       "\n",
       "    var x = canvas_pos.x * mpl.ratio;\n",
       "    var y = canvas_pos.y * mpl.ratio;\n",
       "\n",
       "    this.send_message(name, {x: x, y: y, button: event.button,\n",
       "                             step: event.step,\n",
       "                             guiEvent: simpleKeys(event)});\n",
       "\n",
       "    /* This prevents the web browser from automatically changing to\n",
       "     * the text insertion cursor when the button is pressed.  We want\n",
       "     * to control all of the cursor setting manually through the\n",
       "     * 'cursor' event from matplotlib */\n",
       "    event.preventDefault();\n",
       "    return false;\n",
       "}\n",
       "\n",
       "mpl.figure.prototype._key_event_extra = function(event, name) {\n",
       "    // Handle any extra behaviour associated with a key event\n",
       "}\n",
       "\n",
       "mpl.figure.prototype.key_event = function(event, name) {\n",
       "\n",
       "    // Prevent repeat events\n",
       "    if (name == 'key_press')\n",
       "    {\n",
       "        if (event.which === this._key)\n",
       "            return;\n",
       "        else\n",
       "            this._key = event.which;\n",
       "    }\n",
       "    if (name == 'key_release')\n",
       "        this._key = null;\n",
       "\n",
       "    var value = '';\n",
       "    if (event.ctrlKey && event.which != 17)\n",
       "        value += \"ctrl+\";\n",
       "    if (event.altKey && event.which != 18)\n",
       "        value += \"alt+\";\n",
       "    if (event.shiftKey && event.which != 16)\n",
       "        value += \"shift+\";\n",
       "\n",
       "    value += 'k';\n",
       "    value += event.which.toString();\n",
       "\n",
       "    this._key_event_extra(event, name);\n",
       "\n",
       "    this.send_message(name, {key: value,\n",
       "                             guiEvent: simpleKeys(event)});\n",
       "    return false;\n",
       "}\n",
       "\n",
       "mpl.figure.prototype.toolbar_button_onclick = function(name) {\n",
       "    if (name == 'download') {\n",
       "        this.handle_save(this, null);\n",
       "    } else {\n",
       "        this.send_message(\"toolbar_button\", {name: name});\n",
       "    }\n",
       "};\n",
       "\n",
       "mpl.figure.prototype.toolbar_button_onmouseover = function(tooltip) {\n",
       "    this.message.textContent = tooltip;\n",
       "};\n",
       "mpl.toolbar_items = [[\"Home\", \"Reset original view\", \"fa fa-home icon-home\", \"home\"], [\"Back\", \"Back to previous view\", \"fa fa-arrow-left icon-arrow-left\", \"back\"], [\"Forward\", \"Forward to next view\", \"fa fa-arrow-right icon-arrow-right\", \"forward\"], [\"\", \"\", \"\", \"\"], [\"Pan\", \"Pan axes with left mouse, zoom with right\", \"fa fa-arrows icon-move\", \"pan\"], [\"Zoom\", \"Zoom to rectangle\", \"fa fa-square-o icon-check-empty\", \"zoom\"], [\"\", \"\", \"\", \"\"], [\"Download\", \"Download plot\", \"fa fa-floppy-o icon-save\", \"download\"]];\n",
       "\n",
       "mpl.extensions = [\"eps\", \"jpeg\", \"pdf\", \"png\", \"ps\", \"raw\", \"svg\", \"tif\"];\n",
       "\n",
       "mpl.default_extension = \"png\";var comm_websocket_adapter = function(comm) {\n",
       "    // Create a \"websocket\"-like object which calls the given IPython comm\n",
       "    // object with the appropriate methods. Currently this is a non binary\n",
       "    // socket, so there is still some room for performance tuning.\n",
       "    var ws = {};\n",
       "\n",
       "    ws.close = function() {\n",
       "        comm.close()\n",
       "    };\n",
       "    ws.send = function(m) {\n",
       "        //console.log('sending', m);\n",
       "        comm.send(m);\n",
       "    };\n",
       "    // Register the callback with on_msg.\n",
       "    comm.on_msg(function(msg) {\n",
       "        //console.log('receiving', msg['content']['data'], msg);\n",
       "        // Pass the mpl event to the overridden (by mpl) onmessage function.\n",
       "        ws.onmessage(msg['content']['data'])\n",
       "    });\n",
       "    return ws;\n",
       "}\n",
       "\n",
       "mpl.mpl_figure_comm = function(comm, msg) {\n",
       "    // This is the function which gets called when the mpl process\n",
       "    // starts-up an IPython Comm through the \"matplotlib\" channel.\n",
       "\n",
       "    var id = msg.content.data.id;\n",
       "    // Get hold of the div created by the display call when the Comm\n",
       "    // socket was opened in Python.\n",
       "    var element = $(\"#\" + id);\n",
       "    var ws_proxy = comm_websocket_adapter(comm)\n",
       "\n",
       "    function ondownload(figure, format) {\n",
       "        window.open(figure.imageObj.src);\n",
       "    }\n",
       "\n",
       "    var fig = new mpl.figure(id, ws_proxy,\n",
       "                           ondownload,\n",
       "                           element.get(0));\n",
       "\n",
       "    // Call onopen now - mpl needs it, as it is assuming we've passed it a real\n",
       "    // web socket which is closed, not our websocket->open comm proxy.\n",
       "    ws_proxy.onopen();\n",
       "\n",
       "    fig.parent_element = element.get(0);\n",
       "    fig.cell_info = mpl.find_output_cell(\"<div id='\" + id + \"'></div>\");\n",
       "    if (!fig.cell_info) {\n",
       "        console.error(\"Failed to find cell for figure\", id, fig);\n",
       "        return;\n",
       "    }\n",
       "\n",
       "    var output_index = fig.cell_info[2]\n",
       "    var cell = fig.cell_info[0];\n",
       "\n",
       "};\n",
       "\n",
       "mpl.figure.prototype.handle_close = function(fig, msg) {\n",
       "    var width = fig.canvas.width/mpl.ratio\n",
       "    fig.root.unbind('remove')\n",
       "\n",
       "    // Update the output cell to use the data from the current canvas.\n",
       "    fig.push_to_output();\n",
       "    var dataURL = fig.canvas.toDataURL();\n",
       "    // Re-enable the keyboard manager in IPython - without this line, in FF,\n",
       "    // the notebook keyboard shortcuts fail.\n",
       "    IPython.keyboard_manager.enable()\n",
       "    $(fig.parent_element).html('<img src=\"' + dataURL + '\" width=\"' + width + '\">');\n",
       "    fig.close_ws(fig, msg);\n",
       "}\n",
       "\n",
       "mpl.figure.prototype.close_ws = function(fig, msg){\n",
       "    fig.send_message('closing', msg);\n",
       "    // fig.ws.close()\n",
       "}\n",
       "\n",
       "mpl.figure.prototype.push_to_output = function(remove_interactive) {\n",
       "    // Turn the data on the canvas into data in the output cell.\n",
       "    var width = this.canvas.width/mpl.ratio\n",
       "    var dataURL = this.canvas.toDataURL();\n",
       "    this.cell_info[1]['text/html'] = '<img src=\"' + dataURL + '\" width=\"' + width + '\">';\n",
       "}\n",
       "\n",
       "mpl.figure.prototype.updated_canvas_event = function() {\n",
       "    // Tell IPython that the notebook contents must change.\n",
       "    IPython.notebook.set_dirty(true);\n",
       "    this.send_message(\"ack\", {});\n",
       "    var fig = this;\n",
       "    // Wait a second, then push the new image to the DOM so\n",
       "    // that it is saved nicely (might be nice to debounce this).\n",
       "    setTimeout(function () { fig.push_to_output() }, 1000);\n",
       "}\n",
       "\n",
       "mpl.figure.prototype._init_toolbar = function() {\n",
       "    var fig = this;\n",
       "\n",
       "    var nav_element = $('<div/>');\n",
       "    nav_element.attr('style', 'width: 100%');\n",
       "    this.root.append(nav_element);\n",
       "\n",
       "    // Define a callback function for later on.\n",
       "    function toolbar_event(event) {\n",
       "        return fig.toolbar_button_onclick(event['data']);\n",
       "    }\n",
       "    function toolbar_mouse_event(event) {\n",
       "        return fig.toolbar_button_onmouseover(event['data']);\n",
       "    }\n",
       "\n",
       "    for(var toolbar_ind in mpl.toolbar_items){\n",
       "        var name = mpl.toolbar_items[toolbar_ind][0];\n",
       "        var tooltip = mpl.toolbar_items[toolbar_ind][1];\n",
       "        var image = mpl.toolbar_items[toolbar_ind][2];\n",
       "        var method_name = mpl.toolbar_items[toolbar_ind][3];\n",
       "\n",
       "        if (!name) { continue; };\n",
       "\n",
       "        var button = $('<button class=\"btn btn-default\" href=\"#\" title=\"' + name + '\"><i class=\"fa ' + image + ' fa-lg\"></i></button>');\n",
       "        button.click(method_name, toolbar_event);\n",
       "        button.mouseover(tooltip, toolbar_mouse_event);\n",
       "        nav_element.append(button);\n",
       "    }\n",
       "\n",
       "    // Add the status bar.\n",
       "    var status_bar = $('<span class=\"mpl-message\" style=\"text-align:right; float: right;\"/>');\n",
       "    nav_element.append(status_bar);\n",
       "    this.message = status_bar[0];\n",
       "\n",
       "    // Add the close button to the window.\n",
       "    var buttongrp = $('<div class=\"btn-group inline pull-right\"></div>');\n",
       "    var button = $('<button class=\"btn btn-mini btn-primary\" href=\"#\" title=\"Stop Interaction\"><i class=\"fa fa-power-off icon-remove icon-large\"></i></button>');\n",
       "    button.click(function (evt) { fig.handle_close(fig, {}); } );\n",
       "    button.mouseover('Stop Interaction', toolbar_mouse_event);\n",
       "    buttongrp.append(button);\n",
       "    var titlebar = this.root.find($('.ui-dialog-titlebar'));\n",
       "    titlebar.prepend(buttongrp);\n",
       "}\n",
       "\n",
       "mpl.figure.prototype._root_extra_style = function(el){\n",
       "    var fig = this\n",
       "    el.on(\"remove\", function(){\n",
       "\tfig.close_ws(fig, {});\n",
       "    });\n",
       "}\n",
       "\n",
       "mpl.figure.prototype._canvas_extra_style = function(el){\n",
       "    // this is important to make the div 'focusable\n",
       "    el.attr('tabindex', 0)\n",
       "    // reach out to IPython and tell the keyboard manager to turn it's self\n",
       "    // off when our div gets focus\n",
       "\n",
       "    // location in version 3\n",
       "    if (IPython.notebook.keyboard_manager) {\n",
       "        IPython.notebook.keyboard_manager.register_events(el);\n",
       "    }\n",
       "    else {\n",
       "        // location in version 2\n",
       "        IPython.keyboard_manager.register_events(el);\n",
       "    }\n",
       "\n",
       "}\n",
       "\n",
       "mpl.figure.prototype._key_event_extra = function(event, name) {\n",
       "    var manager = IPython.notebook.keyboard_manager;\n",
       "    if (!manager)\n",
       "        manager = IPython.keyboard_manager;\n",
       "\n",
       "    // Check for shift+enter\n",
       "    if (event.shiftKey && event.which == 13) {\n",
       "        this.canvas_div.blur();\n",
       "        // select the cell after this one\n",
       "        var index = IPython.notebook.find_cell_index(this.cell_info[0]);\n",
       "        IPython.notebook.select(index + 1);\n",
       "    }\n",
       "}\n",
       "\n",
       "mpl.figure.prototype.handle_save = function(fig, msg) {\n",
       "    fig.ondownload(fig, null);\n",
       "}\n",
       "\n",
       "\n",
       "mpl.find_output_cell = function(html_output) {\n",
       "    // Return the cell and output element which can be found *uniquely* in the notebook.\n",
       "    // Note - this is a bit hacky, but it is done because the \"notebook_saving.Notebook\"\n",
       "    // IPython event is triggered only after the cells have been serialised, which for\n",
       "    // our purposes (turning an active figure into a static one), is too late.\n",
       "    var cells = IPython.notebook.get_cells();\n",
       "    var ncells = cells.length;\n",
       "    for (var i=0; i<ncells; i++) {\n",
       "        var cell = cells[i];\n",
       "        if (cell.cell_type === 'code'){\n",
       "            for (var j=0; j<cell.output_area.outputs.length; j++) {\n",
       "                var data = cell.output_area.outputs[j];\n",
       "                if (data.data) {\n",
       "                    // IPython >= 3 moved mimebundle to data attribute of output\n",
       "                    data = data.data;\n",
       "                }\n",
       "                if (data['text/html'] == html_output) {\n",
       "                    return [cell, data, j];\n",
       "                }\n",
       "            }\n",
       "        }\n",
       "    }\n",
       "}\n",
       "\n",
       "// Register the function which deals with the matplotlib target/channel.\n",
       "// The kernel may be null if the page has been refreshed.\n",
       "if (IPython.notebook.kernel != null) {\n",
       "    IPython.notebook.kernel.comm_manager.register_target('matplotlib', mpl.mpl_figure_comm);\n",
       "}\n"
      ],
      "text/plain": [
       "<IPython.core.display.Javascript object>"
      ]
     },
     "metadata": {},
     "output_type": "display_data"
    },
    {
     "data": {
      "text/html": [
       "<img src=\"data:image/png;base64,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\" width=\"240\">"
      ],
      "text/plain": [
       "<IPython.core.display.HTML object>"
      ]
     },
     "metadata": {},
     "output_type": "display_data"
    }
   ],
   "source": [
    "plot_diff(U_1_, nd_U)"
   ]
  }
 ],
 "metadata": {
  "kernelspec": {
   "display_name": "Python 3",
   "language": "python",
   "name": "python3"
  },
  "language_info": {
   "codemirror_mode": {
    "name": "ipython",
    "version": 3
   },
   "file_extension": ".py",
   "mimetype": "text/x-python",
   "name": "python",
   "nbconvert_exporter": "python",
   "pygments_lexer": "ipython3",
   "version": "3.8.1"
  },
  "toc": {
   "base_numbering": 1,
   "nav_menu": {},
   "number_sections": true,
   "sideBar": true,
   "skip_h1_title": false,
   "title_cell": "Table of Contents",
   "title_sidebar": "Contents",
   "toc_cell": false,
   "toc_position": {
    "height": "calc(100% - 180px)",
    "left": "10px",
    "top": "150px",
    "width": "222.4px"
   },
   "toc_section_display": true,
   "toc_window_display": true
  }
 },
 "nbformat": 4,
 "nbformat_minor": 4
}
