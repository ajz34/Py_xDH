{
 "cells": [
  {
   "cell_type": "markdown",
   "metadata": {},
   "source": [
    "# 向量 (张量) 数值导数与 RHF 核坐标数值梯度"
   ]
  },
  {
   "cell_type": "markdown",
   "metadata": {},
   "source": [
    "上一节我们讨论了一元函数的数值导数，了解了三点差分法。三点差分法使用带逼近参数 $h$ 的表达式 $f^\\mathrm{d} (x, h)$ 来逼近函数 $f'(x)$：\n",
    "\n",
    "$$\n",
    "f^\\mathrm{d} (x, h) = \\frac{f(x + h) - f(x - h)}{2h} \\simeq f'(x)\n",
    "$$\n",
    "\n",
    "其中，若不受机器精度影响，$h$ 越小则 $f^\\mathrm{d} (x, h)$ 越能逼近 $f'(x)$。"
   ]
  },
  {
   "cell_type": "markdown",
   "metadata": {},
   "source": [
    "我们这一节，会用实际的化学中的例子，来说明向量，或者任意张量的一阶数值梯度的求取方式。\n",
    "\n",
    "最简单的例子会是核坐标梯度。其比较直接的物理意义是，分子的受自身结构所受张力方向的相反值。一个分子并非在任何构型下都能稳定存在；一般来说，分子会处于稳定构型附近，而处在稳定构型的分子近乎不受自身结构张力，因此核坐标梯度接近零。\n",
    "\n",
    "这个量可以用来进行分子动力学模拟，或结构优化。在本文段的最后，我们会拿几何结构优化 (必要条件是分子的核坐标梯度取到零值) 来举例，表明梯度计算在化学计算中的意义。"
   ]
  },
  {
   "cell_type": "markdown",
   "metadata": {},
   "source": [
    "<div class=\"alert alert-warning\">\n",
    "\n",
    "**用法提醒**\n",
    "\n",
    "下文会使用最简单的梯度下降法来进行结构优化；但这显然是非常糟糕的、仅作为演示所用的几何结构优化方案。请使用其它软件或量化库来进行真正有用的计算。\n",
    "\n",
    "</div>"
   ]
  },
  {
   "cell_type": "markdown",
   "metadata": {},
   "source": [
    "<div class=\"alert alert-info\">\n",
    "\n",
    "**提醒**\n",
    "\n",
    "下文使用的分子会是氨分子。\n",
    "    \n",
    "在其它文档中，我们通常会使用的是变形的双氧水分子；这是因为变形双氧水分子的轨道能级不太简并，且原子数量大于 3，因此比较容易描述后文出现的 U 矩阵的行为、以及容易区别原子的维度与坐标的维度。\n",
    "\n",
    "但变形双氧水分子的结构优化通常并不容易成功。因此，这篇文档会拿比较容易作结构优化的氨分子来作为例子。\n",
    "\n",
    "</div>"
   ]
  },
  {
   "cell_type": "code",
   "execution_count": 1,
   "metadata": {},
   "outputs": [],
   "source": [
    "%matplotlib notebook\n",
    "\n",
    "from pyscf import gto, scf, lib\n",
    "import numpy as np\n",
    "import matplotlib.pyplot as plt\n",
    "from pyxdh.Utilities import FormchkInterface, NucCoordDerivGenerator, NumericDiff\n",
    "\n",
    "np.set_printoptions(5, linewidth=150, suppress=True)"
   ]
  },
  {
   "cell_type": "markdown",
   "metadata": {},
   "source": [
    "## 氨分子量化程序的结构优化"
   ]
  },
  {
   "cell_type": "markdown",
   "metadata": {},
   "source": [
    "### Gaussian 的几何结构优化"
   ]
  },
  {
   "cell_type": "markdown",
   "metadata": {},
   "source": [
    "对于氨分子结构优化，我们可以使用下述的 Gaussian [输入卡](assets/NH3-opt.gjf) 进行计算："
   ]
  },
  {
   "cell_type": "code",
   "execution_count": 2,
   "metadata": {
    "scrolled": true
   },
   "outputs": [
    {
     "name": "stdout",
     "output_type": "stream",
     "text": [
      "%chk=NH3-opt\n",
      "#p RHF/6-31G opt\n",
      "\n",
      "NH3 Optimization\n",
      "\n",
      "0 1\n",
      "N  0.            0.   0.\n",
      "H  0.            1.  -0.2\n",
      "H  0.8660254038 -0.5 -0.2\n",
      "H -0.8660254038 -0.5 -0.2\n",
      "\n"
     ]
    }
   ],
   "source": [
    "with open(\"assets/NH3-opt.gjf\", \"r\") as f:\n",
    "    print(f.read())"
   ]
  },
  {
   "cell_type": "markdown",
   "metadata": {},
   "source": [
    "<div class=\"alert alert-info\">\n",
    "\n",
    "**提醒**\n",
    "\n",
    "关于几何结构，需要留意单位的问题。我们不管是在 Gaussian 还是 PySCF 中，构建分子时，出于约定俗成，坐标 (作为长度) 的单位默认都是 Angstrom。但不管是在程序中，还是在运算的推导过程中，出于便利程度考虑，普遍使用的都是 Bohr 单位 (等同于原子单位 a.u.)。\n",
    "\n",
    "后文若不作更多说明，我们将会统一使用 Bohr 单位。因此，上述未经过结构优化的氨分子的坐标若化为 Bohr 单位，则表示为 `coord_orig`；其中，`lib.param.BOHR` 是 PySCF 中内置的 Bohr 与 Angstrom 转换数。\n",
    "\n",
    "</div>"
   ]
  },
  {
   "cell_type": "code",
   "execution_count": 3,
   "metadata": {},
   "outputs": [
    {
     "data": {
      "text/plain": [
       "array([[ 0.     ,  0.     ,  0.     ],\n",
       "       [ 0.     ,  1.88973, -0.37795],\n",
       "       [ 1.63655, -0.94486, -0.37795],\n",
       "       [-1.63655, -0.94486, -0.37795]])"
      ]
     },
     "execution_count": 3,
     "metadata": {},
     "output_type": "execute_result"
    }
   ],
   "source": [
    "natm = 4\n",
    "coord_orig = 1 / lib.param.BOHR * np.array(\n",
    "    [[ 0.          ,  0. ,  0. ],\n",
    "     [ 0.          ,  1. , -0.2],\n",
    "     [ 0.8660254038, -0.5, -0.2],\n",
    "     [-0.8660254038, -0.5, -0.2]])\n",
    "coord_orig"
   ]
  },
  {
   "cell_type": "markdown",
   "metadata": {},
   "source": [
    "而 Gaussian 输出的优化完毕的分子结构，可以通过 [.fch 文件](assets/NH3-opt.fch) 给出 (在 Bohr 单位下)："
   ]
  },
  {
   "cell_type": "code",
   "execution_count": 4,
   "metadata": {},
   "outputs": [
    {
     "data": {
      "text/plain": [
       "array([[ 0.     ,  0.     ,  0.11243],\n",
       "       [ 0.     ,  1.83562, -0.26234],\n",
       "       [ 1.5897 , -0.91781, -0.26234],\n",
       "       [-1.5897 , -0.91781, -0.26234]])"
      ]
     },
     "execution_count": 4,
     "metadata": {},
     "output_type": "execute_result"
    }
   ],
   "source": [
    "coord_g09 = FormchkInterface(\"assets/NH3-opt.fch\").key_to_value(\"Current cartesian coordinates\").reshape(4, 3)\n",
    "coord_g09"
   ]
  },
  {
   "cell_type": "markdown",
   "metadata": {},
   "source": [
    "该分子在当前计算条件下，N-H 键长与 H-N-H 键角分别为 (单位分别为 Bohr，度)"
   ]
  },
  {
   "cell_type": "code",
   "execution_count": 5,
   "metadata": {},
   "outputs": [
    {
     "name": "stdout",
     "output_type": "stream",
     "text": [
      "N-H Bond Length   1.87349 Bohr\n",
      "H-N-H Angle     116.10224 Degree\n"
     ]
    }
   ],
   "source": [
    "bond_NH = np.linalg.norm(coord_g09[1] - coord_g09[0])\n",
    "angle_HNH = np.arccos(np.dot(coord_g09[1] - coord_g09[0], coord_g09[2] - coord_g09[0]) / bond_NH**2) * 180 / np.pi\n",
    "print(\"N-H Bond Length {:9.5f} Bohr\".format(bond_NH))\n",
    "print(\"H-N-H Angle     {:9.5f} Degree\".format(angle_HNH))"
   ]
  },
  {
   "cell_type": "markdown",
   "metadata": {},
   "source": [
    "### PySCF 梯度下降的几何结构优化"
   ]
  },
  {
   "cell_type": "markdown",
   "metadata": {},
   "source": [
    "我们整个文档的目的是求取 xDH 型泛函的梯度。比较相似的问题会是求取 RHF 的梯度。借助这个梯度，我们可以用最基本的梯度下降法，来求取与上面相同的最优化的几何结构。\n",
    "\n",
    "首先，我们定义一个函数 `gen_NH3`，该函数将会读入 Bohr 半径单位的原子坐标，输出 PySCF 的分子实例。"
   ]
  },
  {
   "cell_type": "code",
   "execution_count": 6,
   "metadata": {},
   "outputs": [],
   "source": [
    "def gen_NH3(coord):\n",
    "    \"\"\"\n",
    "    Generate NH3 molecule (with basis 6-31G)\n",
    "    \"\"\"\n",
    "    mol = gto.Mole()\n",
    "    mol.atom = \"\"\"\n",
    "    N  0.            0.   0.\n",
    "    H  0.            1.  -0.2\n",
    "    H  0.8660254038 -0.5 -0.2\n",
    "    H -0.8660254038 -0.5 -0.2\n",
    "    \"\"\"\n",
    "    mol.basis = \"6-31G\"\n",
    "    mol.verbose = 0\n",
    "    mol.build()\n",
    "    mol.set_geom_(coord * lib.param.BOHR)\n",
    "    return mol.build()"
   ]
  },
  {
   "cell_type": "markdown",
   "metadata": {},
   "source": [
    "梯度下降的大致过程是，我们首先认为，分子的自洽场能量 $E$ 可以写为分子坐标 $A_t$ 的函数。那么分子能量的梯度可以表示为\n",
    "\n",
    "$$\n",
    "E^{A_t} = \\frac{\\partial E(A_t)}{\\partial A_t}\n",
    "$$\n",
    "\n",
    "关于分子结构的一些记号，请先参考 [分子结构](../qcbasic/basis_integral.ipynb#构型量输出) 一节的内容"
   ]
  },
  {
   "cell_type": "markdown",
   "metadata": {},
   "source": [
    "<div class=\"alert alert-info\">\n",
    "\n",
    "**记号说明**\n",
    "\n",
    "- 能量记号右上方的角标，表示对能量对该角标的全导数。\n",
    "\n",
    "但其它情况下，右上方的角标一般表示 Skeleton 导数而非全导数。Skeleton 导数将会在下一章中进行描述。\n",
    "\n",
    "</div>"
   ]
  },
  {
   "cell_type": "markdown",
   "metadata": {},
   "source": [
    "$E^{A_t}$ 就称为能量对分子坐标的梯度 (gradient) 或导数 (derivative)。对于当前的分子，其维度是 $4 \\times 3$；即标量值对矢量或矩阵的导数，该导数的维度即等价于原先矢量的维度。该梯度量储存在自洽场的梯度实例 `scf_grad` 的成员变量 `de` 中。"
   ]
  },
  {
   "cell_type": "code",
   "execution_count": 7,
   "metadata": {},
   "outputs": [
    {
     "data": {
      "text/plain": [
       "array([[-0.     ,  0.     ,  0.01145],\n",
       "       [ 0.     ,  0.0265 , -0.00382],\n",
       "       [ 0.02295, -0.01325, -0.00382],\n",
       "       [-0.02295, -0.01325, -0.00382]])"
      ]
     },
     "execution_count": 7,
     "metadata": {},
     "output_type": "execute_result"
    }
   ],
   "source": [
    "scf_eng = scf.RHF(gen_NH3(coord_orig)).run()\n",
    "scf_grad = scf_eng.nuc_grad_method().run()\n",
    "scf_grad.de"
   ]
  },
  {
   "cell_type": "markdown",
   "metadata": {},
   "source": [
    "获得这个梯度的意义是，如果分子的坐标沿着梯度的方向移动，那么其分子能量应会下降，从而更加接近能量的局域极小点。如果我们定义 (标量) 下降率 `lr` $\\mathtt{lr}$，那么我们能期待\n",
    "\n",
    "$$\n",
    "\\exists \\mathtt{lr} > 0, \\, \\mathrm{s.t.} \\, E(A_t - \\mathtt{lr} \\times E^{A_t}) < E(A_t)\n",
    "$$\n",
    "\n",
    "那么，如果我们选定一个下降率 $\\mathtt{lr}$，每次用梯度矫正的分子坐标 $A_t - \\mathtt{lr} \\times E^{A_t}$ 替换校正前的坐标 $A_t$，一般地总可以优化到能量的极小点。这个过程就是梯度下降。"
   ]
  },
  {
   "cell_type": "markdown",
   "metadata": {},
   "source": [
    "但其中存在两个问题：\n",
    "\n",
    "- 这里的 $\\mathtt{lr}$ 仅仅是存在，满足上述条件的 $\\mathtt{lr}$ 并不见得容易获得；\n",
    "\n",
    "- 矢量区别于标量的一个要点是梯度具有方向性，因此并不能保证沿着梯度下降就会是最好的局域优化方法。\n",
    "\n",
    "上述的两个问题我们不会作太多展开，但可以对第一个问题作定性描述。我们可以绘制能量 $E(A_t - \\mathtt{lr} \\times E^{A_t})$ 随着 $\\mathtt{lr}$ 而变化的曲线 (当 $\\mathtt{lr}$ 恰好为零时，则就是我们一开始给的分子坐标下的能量 $E(A_t)$)："
   ]
  },
  {
   "cell_type": "code",
   "execution_count": 8,
   "metadata": {},
   "outputs": [],
   "source": [
    "lr_list = np.arange(0, 4, 0.1)\n",
    "eng_list = [scf.RHF(gen_NH3(coord_orig - lr * scf_grad.de)).run().e_tot for lr in lr_list]"
   ]
  },
  {
   "cell_type": "code",
   "execution_count": 9,
   "metadata": {},
   "outputs": [
    {
     "data": {
      "application/javascript": [
       "/* Put everything inside the global mpl namespace */\n",
       "window.mpl = {};\n",
       "\n",
       "\n",
       "mpl.get_websocket_type = function() {\n",
       "    if (typeof(WebSocket) !== 'undefined') {\n",
       "        return WebSocket;\n",
       "    } else if (typeof(MozWebSocket) !== 'undefined') {\n",
       "        return MozWebSocket;\n",
       "    } else {\n",
       "        alert('Your browser does not have WebSocket support. ' +\n",
       "              'Please try Chrome, Safari or Firefox ≥ 6. ' +\n",
       "              'Firefox 4 and 5 are also supported but you ' +\n",
       "              'have to enable WebSockets in about:config.');\n",
       "    };\n",
       "}\n",
       "\n",
       "mpl.figure = function(figure_id, websocket, ondownload, parent_element) {\n",
       "    this.id = figure_id;\n",
       "\n",
       "    this.ws = websocket;\n",
       "\n",
       "    this.supports_binary = (this.ws.binaryType != undefined);\n",
       "\n",
       "    if (!this.supports_binary) {\n",
       "        var warnings = document.getElementById(\"mpl-warnings\");\n",
       "        if (warnings) {\n",
       "            warnings.style.display = 'block';\n",
       "            warnings.textContent = (\n",
       "                \"This browser does not support binary websocket messages. \" +\n",
       "                    \"Performance may be slow.\");\n",
       "        }\n",
       "    }\n",
       "\n",
       "    this.imageObj = new Image();\n",
       "\n",
       "    this.context = undefined;\n",
       "    this.message = undefined;\n",
       "    this.canvas = undefined;\n",
       "    this.rubberband_canvas = undefined;\n",
       "    this.rubberband_context = undefined;\n",
       "    this.format_dropdown = undefined;\n",
       "\n",
       "    this.image_mode = 'full';\n",
       "\n",
       "    this.root = $('<div/>');\n",
       "    this._root_extra_style(this.root)\n",
       "    this.root.attr('style', 'display: inline-block');\n",
       "\n",
       "    $(parent_element).append(this.root);\n",
       "\n",
       "    this._init_header(this);\n",
       "    this._init_canvas(this);\n",
       "    this._init_toolbar(this);\n",
       "\n",
       "    var fig = this;\n",
       "\n",
       "    this.waiting = false;\n",
       "\n",
       "    this.ws.onopen =  function () {\n",
       "            fig.send_message(\"supports_binary\", {value: fig.supports_binary});\n",
       "            fig.send_message(\"send_image_mode\", {});\n",
       "            if (mpl.ratio != 1) {\n",
       "                fig.send_message(\"set_dpi_ratio\", {'dpi_ratio': mpl.ratio});\n",
       "            }\n",
       "            fig.send_message(\"refresh\", {});\n",
       "        }\n",
       "\n",
       "    this.imageObj.onload = function() {\n",
       "            if (fig.image_mode == 'full') {\n",
       "                // Full images could contain transparency (where diff images\n",
       "                // almost always do), so we need to clear the canvas so that\n",
       "                // there is no ghosting.\n",
       "                fig.context.clearRect(0, 0, fig.canvas.width, fig.canvas.height);\n",
       "            }\n",
       "            fig.context.drawImage(fig.imageObj, 0, 0);\n",
       "        };\n",
       "\n",
       "    this.imageObj.onunload = function() {\n",
       "        fig.ws.close();\n",
       "    }\n",
       "\n",
       "    this.ws.onmessage = this._make_on_message_function(this);\n",
       "\n",
       "    this.ondownload = ondownload;\n",
       "}\n",
       "\n",
       "mpl.figure.prototype._init_header = function() {\n",
       "    var titlebar = $(\n",
       "        '<div class=\"ui-dialog-titlebar ui-widget-header ui-corner-all ' +\n",
       "        'ui-helper-clearfix\"/>');\n",
       "    var titletext = $(\n",
       "        '<div class=\"ui-dialog-title\" style=\"width: 100%; ' +\n",
       "        'text-align: center; padding: 3px;\"/>');\n",
       "    titlebar.append(titletext)\n",
       "    this.root.append(titlebar);\n",
       "    this.header = titletext[0];\n",
       "}\n",
       "\n",
       "\n",
       "\n",
       "mpl.figure.prototype._canvas_extra_style = function(canvas_div) {\n",
       "\n",
       "}\n",
       "\n",
       "\n",
       "mpl.figure.prototype._root_extra_style = function(canvas_div) {\n",
       "\n",
       "}\n",
       "\n",
       "mpl.figure.prototype._init_canvas = function() {\n",
       "    var fig = this;\n",
       "\n",
       "    var canvas_div = $('<div/>');\n",
       "\n",
       "    canvas_div.attr('style', 'position: relative; clear: both; outline: 0');\n",
       "\n",
       "    function canvas_keyboard_event(event) {\n",
       "        return fig.key_event(event, event['data']);\n",
       "    }\n",
       "\n",
       "    canvas_div.keydown('key_press', canvas_keyboard_event);\n",
       "    canvas_div.keyup('key_release', canvas_keyboard_event);\n",
       "    this.canvas_div = canvas_div\n",
       "    this._canvas_extra_style(canvas_div)\n",
       "    this.root.append(canvas_div);\n",
       "\n",
       "    var canvas = $('<canvas/>');\n",
       "    canvas.addClass('mpl-canvas');\n",
       "    canvas.attr('style', \"left: 0; top: 0; z-index: 0; outline: 0\")\n",
       "\n",
       "    this.canvas = canvas[0];\n",
       "    this.context = canvas[0].getContext(\"2d\");\n",
       "\n",
       "    var backingStore = this.context.backingStorePixelRatio ||\n",
       "\tthis.context.webkitBackingStorePixelRatio ||\n",
       "\tthis.context.mozBackingStorePixelRatio ||\n",
       "\tthis.context.msBackingStorePixelRatio ||\n",
       "\tthis.context.oBackingStorePixelRatio ||\n",
       "\tthis.context.backingStorePixelRatio || 1;\n",
       "\n",
       "    mpl.ratio = (window.devicePixelRatio || 1) / backingStore;\n",
       "\n",
       "    var rubberband = $('<canvas/>');\n",
       "    rubberband.attr('style', \"position: absolute; left: 0; top: 0; z-index: 1;\")\n",
       "\n",
       "    var pass_mouse_events = true;\n",
       "\n",
       "    canvas_div.resizable({\n",
       "        start: function(event, ui) {\n",
       "            pass_mouse_events = false;\n",
       "        },\n",
       "        resize: function(event, ui) {\n",
       "            fig.request_resize(ui.size.width, ui.size.height);\n",
       "        },\n",
       "        stop: function(event, ui) {\n",
       "            pass_mouse_events = true;\n",
       "            fig.request_resize(ui.size.width, ui.size.height);\n",
       "        },\n",
       "    });\n",
       "\n",
       "    function mouse_event_fn(event) {\n",
       "        if (pass_mouse_events)\n",
       "            return fig.mouse_event(event, event['data']);\n",
       "    }\n",
       "\n",
       "    rubberband.mousedown('button_press', mouse_event_fn);\n",
       "    rubberband.mouseup('button_release', mouse_event_fn);\n",
       "    // Throttle sequential mouse events to 1 every 20ms.\n",
       "    rubberband.mousemove('motion_notify', mouse_event_fn);\n",
       "\n",
       "    rubberband.mouseenter('figure_enter', mouse_event_fn);\n",
       "    rubberband.mouseleave('figure_leave', mouse_event_fn);\n",
       "\n",
       "    canvas_div.on(\"wheel\", function (event) {\n",
       "        event = event.originalEvent;\n",
       "        event['data'] = 'scroll'\n",
       "        if (event.deltaY < 0) {\n",
       "            event.step = 1;\n",
       "        } else {\n",
       "            event.step = -1;\n",
       "        }\n",
       "        mouse_event_fn(event);\n",
       "    });\n",
       "\n",
       "    canvas_div.append(canvas);\n",
       "    canvas_div.append(rubberband);\n",
       "\n",
       "    this.rubberband = rubberband;\n",
       "    this.rubberband_canvas = rubberband[0];\n",
       "    this.rubberband_context = rubberband[0].getContext(\"2d\");\n",
       "    this.rubberband_context.strokeStyle = \"#000000\";\n",
       "\n",
       "    this._resize_canvas = function(width, height) {\n",
       "        // Keep the size of the canvas, canvas container, and rubber band\n",
       "        // canvas in synch.\n",
       "        canvas_div.css('width', width)\n",
       "        canvas_div.css('height', height)\n",
       "\n",
       "        canvas.attr('width', width * mpl.ratio);\n",
       "        canvas.attr('height', height * mpl.ratio);\n",
       "        canvas.attr('style', 'width: ' + width + 'px; height: ' + height + 'px;');\n",
       "\n",
       "        rubberband.attr('width', width);\n",
       "        rubberband.attr('height', height);\n",
       "    }\n",
       "\n",
       "    // Set the figure to an initial 600x600px, this will subsequently be updated\n",
       "    // upon first draw.\n",
       "    this._resize_canvas(600, 600);\n",
       "\n",
       "    // Disable right mouse context menu.\n",
       "    $(this.rubberband_canvas).bind(\"contextmenu\",function(e){\n",
       "        return false;\n",
       "    });\n",
       "\n",
       "    function set_focus () {\n",
       "        canvas.focus();\n",
       "        canvas_div.focus();\n",
       "    }\n",
       "\n",
       "    window.setTimeout(set_focus, 100);\n",
       "}\n",
       "\n",
       "mpl.figure.prototype._init_toolbar = function() {\n",
       "    var fig = this;\n",
       "\n",
       "    var nav_element = $('<div/>');\n",
       "    nav_element.attr('style', 'width: 100%');\n",
       "    this.root.append(nav_element);\n",
       "\n",
       "    // Define a callback function for later on.\n",
       "    function toolbar_event(event) {\n",
       "        return fig.toolbar_button_onclick(event['data']);\n",
       "    }\n",
       "    function toolbar_mouse_event(event) {\n",
       "        return fig.toolbar_button_onmouseover(event['data']);\n",
       "    }\n",
       "\n",
       "    for(var toolbar_ind in mpl.toolbar_items) {\n",
       "        var name = mpl.toolbar_items[toolbar_ind][0];\n",
       "        var tooltip = mpl.toolbar_items[toolbar_ind][1];\n",
       "        var image = mpl.toolbar_items[toolbar_ind][2];\n",
       "        var method_name = mpl.toolbar_items[toolbar_ind][3];\n",
       "\n",
       "        if (!name) {\n",
       "            // put a spacer in here.\n",
       "            continue;\n",
       "        }\n",
       "        var button = $('<button/>');\n",
       "        button.addClass('ui-button ui-widget ui-state-default ui-corner-all ' +\n",
       "                        'ui-button-icon-only');\n",
       "        button.attr('role', 'button');\n",
       "        button.attr('aria-disabled', 'false');\n",
       "        button.click(method_name, toolbar_event);\n",
       "        button.mouseover(tooltip, toolbar_mouse_event);\n",
       "\n",
       "        var icon_img = $('<span/>');\n",
       "        icon_img.addClass('ui-button-icon-primary ui-icon');\n",
       "        icon_img.addClass(image);\n",
       "        icon_img.addClass('ui-corner-all');\n",
       "\n",
       "        var tooltip_span = $('<span/>');\n",
       "        tooltip_span.addClass('ui-button-text');\n",
       "        tooltip_span.html(tooltip);\n",
       "\n",
       "        button.append(icon_img);\n",
       "        button.append(tooltip_span);\n",
       "\n",
       "        nav_element.append(button);\n",
       "    }\n",
       "\n",
       "    var fmt_picker_span = $('<span/>');\n",
       "\n",
       "    var fmt_picker = $('<select/>');\n",
       "    fmt_picker.addClass('mpl-toolbar-option ui-widget ui-widget-content');\n",
       "    fmt_picker_span.append(fmt_picker);\n",
       "    nav_element.append(fmt_picker_span);\n",
       "    this.format_dropdown = fmt_picker[0];\n",
       "\n",
       "    for (var ind in mpl.extensions) {\n",
       "        var fmt = mpl.extensions[ind];\n",
       "        var option = $(\n",
       "            '<option/>', {selected: fmt === mpl.default_extension}).html(fmt);\n",
       "        fmt_picker.append(option);\n",
       "    }\n",
       "\n",
       "    // Add hover states to the ui-buttons\n",
       "    $( \".ui-button\" ).hover(\n",
       "        function() { $(this).addClass(\"ui-state-hover\");},\n",
       "        function() { $(this).removeClass(\"ui-state-hover\");}\n",
       "    );\n",
       "\n",
       "    var status_bar = $('<span class=\"mpl-message\"/>');\n",
       "    nav_element.append(status_bar);\n",
       "    this.message = status_bar[0];\n",
       "}\n",
       "\n",
       "mpl.figure.prototype.request_resize = function(x_pixels, y_pixels) {\n",
       "    // Request matplotlib to resize the figure. Matplotlib will then trigger a resize in the client,\n",
       "    // which will in turn request a refresh of the image.\n",
       "    this.send_message('resize', {'width': x_pixels, 'height': y_pixels});\n",
       "}\n",
       "\n",
       "mpl.figure.prototype.send_message = function(type, properties) {\n",
       "    properties['type'] = type;\n",
       "    properties['figure_id'] = this.id;\n",
       "    this.ws.send(JSON.stringify(properties));\n",
       "}\n",
       "\n",
       "mpl.figure.prototype.send_draw_message = function() {\n",
       "    if (!this.waiting) {\n",
       "        this.waiting = true;\n",
       "        this.ws.send(JSON.stringify({type: \"draw\", figure_id: this.id}));\n",
       "    }\n",
       "}\n",
       "\n",
       "\n",
       "mpl.figure.prototype.handle_save = function(fig, msg) {\n",
       "    var format_dropdown = fig.format_dropdown;\n",
       "    var format = format_dropdown.options[format_dropdown.selectedIndex].value;\n",
       "    fig.ondownload(fig, format);\n",
       "}\n",
       "\n",
       "\n",
       "mpl.figure.prototype.handle_resize = function(fig, msg) {\n",
       "    var size = msg['size'];\n",
       "    if (size[0] != fig.canvas.width || size[1] != fig.canvas.height) {\n",
       "        fig._resize_canvas(size[0], size[1]);\n",
       "        fig.send_message(\"refresh\", {});\n",
       "    };\n",
       "}\n",
       "\n",
       "mpl.figure.prototype.handle_rubberband = function(fig, msg) {\n",
       "    var x0 = msg['x0'] / mpl.ratio;\n",
       "    var y0 = (fig.canvas.height - msg['y0']) / mpl.ratio;\n",
       "    var x1 = msg['x1'] / mpl.ratio;\n",
       "    var y1 = (fig.canvas.height - msg['y1']) / mpl.ratio;\n",
       "    x0 = Math.floor(x0) + 0.5;\n",
       "    y0 = Math.floor(y0) + 0.5;\n",
       "    x1 = Math.floor(x1) + 0.5;\n",
       "    y1 = Math.floor(y1) + 0.5;\n",
       "    var min_x = Math.min(x0, x1);\n",
       "    var min_y = Math.min(y0, y1);\n",
       "    var width = Math.abs(x1 - x0);\n",
       "    var height = Math.abs(y1 - y0);\n",
       "\n",
       "    fig.rubberband_context.clearRect(\n",
       "        0, 0, fig.canvas.width / mpl.ratio, fig.canvas.height / mpl.ratio);\n",
       "\n",
       "    fig.rubberband_context.strokeRect(min_x, min_y, width, height);\n",
       "}\n",
       "\n",
       "mpl.figure.prototype.handle_figure_label = function(fig, msg) {\n",
       "    // Updates the figure title.\n",
       "    fig.header.textContent = msg['label'];\n",
       "}\n",
       "\n",
       "mpl.figure.prototype.handle_cursor = function(fig, msg) {\n",
       "    var cursor = msg['cursor'];\n",
       "    switch(cursor)\n",
       "    {\n",
       "    case 0:\n",
       "        cursor = 'pointer';\n",
       "        break;\n",
       "    case 1:\n",
       "        cursor = 'default';\n",
       "        break;\n",
       "    case 2:\n",
       "        cursor = 'crosshair';\n",
       "        break;\n",
       "    case 3:\n",
       "        cursor = 'move';\n",
       "        break;\n",
       "    }\n",
       "    fig.rubberband_canvas.style.cursor = cursor;\n",
       "}\n",
       "\n",
       "mpl.figure.prototype.handle_message = function(fig, msg) {\n",
       "    fig.message.textContent = msg['message'];\n",
       "}\n",
       "\n",
       "mpl.figure.prototype.handle_draw = function(fig, msg) {\n",
       "    // Request the server to send over a new figure.\n",
       "    fig.send_draw_message();\n",
       "}\n",
       "\n",
       "mpl.figure.prototype.handle_image_mode = function(fig, msg) {\n",
       "    fig.image_mode = msg['mode'];\n",
       "}\n",
       "\n",
       "mpl.figure.prototype.updated_canvas_event = function() {\n",
       "    // Called whenever the canvas gets updated.\n",
       "    this.send_message(\"ack\", {});\n",
       "}\n",
       "\n",
       "// A function to construct a web socket function for onmessage handling.\n",
       "// Called in the figure constructor.\n",
       "mpl.figure.prototype._make_on_message_function = function(fig) {\n",
       "    return function socket_on_message(evt) {\n",
       "        if (evt.data instanceof Blob) {\n",
       "            /* FIXME: We get \"Resource interpreted as Image but\n",
       "             * transferred with MIME type text/plain:\" errors on\n",
       "             * Chrome.  But how to set the MIME type?  It doesn't seem\n",
       "             * to be part of the websocket stream */\n",
       "            evt.data.type = \"image/png\";\n",
       "\n",
       "            /* Free the memory for the previous frames */\n",
       "            if (fig.imageObj.src) {\n",
       "                (window.URL || window.webkitURL).revokeObjectURL(\n",
       "                    fig.imageObj.src);\n",
       "            }\n",
       "\n",
       "            fig.imageObj.src = (window.URL || window.webkitURL).createObjectURL(\n",
       "                evt.data);\n",
       "            fig.updated_canvas_event();\n",
       "            fig.waiting = false;\n",
       "            return;\n",
       "        }\n",
       "        else if (typeof evt.data === 'string' && evt.data.slice(0, 21) == \"data:image/png;base64\") {\n",
       "            fig.imageObj.src = evt.data;\n",
       "            fig.updated_canvas_event();\n",
       "            fig.waiting = false;\n",
       "            return;\n",
       "        }\n",
       "\n",
       "        var msg = JSON.parse(evt.data);\n",
       "        var msg_type = msg['type'];\n",
       "\n",
       "        // Call the  \"handle_{type}\" callback, which takes\n",
       "        // the figure and JSON message as its only arguments.\n",
       "        try {\n",
       "            var callback = fig[\"handle_\" + msg_type];\n",
       "        } catch (e) {\n",
       "            console.log(\"No handler for the '\" + msg_type + \"' message type: \", msg);\n",
       "            return;\n",
       "        }\n",
       "\n",
       "        if (callback) {\n",
       "            try {\n",
       "                // console.log(\"Handling '\" + msg_type + \"' message: \", msg);\n",
       "                callback(fig, msg);\n",
       "            } catch (e) {\n",
       "                console.log(\"Exception inside the 'handler_\" + msg_type + \"' callback:\", e, e.stack, msg);\n",
       "            }\n",
       "        }\n",
       "    };\n",
       "}\n",
       "\n",
       "// from http://stackoverflow.com/questions/1114465/getting-mouse-location-in-canvas\n",
       "mpl.findpos = function(e) {\n",
       "    //this section is from http://www.quirksmode.org/js/events_properties.html\n",
       "    var targ;\n",
       "    if (!e)\n",
       "        e = window.event;\n",
       "    if (e.target)\n",
       "        targ = e.target;\n",
       "    else if (e.srcElement)\n",
       "        targ = e.srcElement;\n",
       "    if (targ.nodeType == 3) // defeat Safari bug\n",
       "        targ = targ.parentNode;\n",
       "\n",
       "    // jQuery normalizes the pageX and pageY\n",
       "    // pageX,Y are the mouse positions relative to the document\n",
       "    // offset() returns the position of the element relative to the document\n",
       "    var x = e.pageX - $(targ).offset().left;\n",
       "    var y = e.pageY - $(targ).offset().top;\n",
       "\n",
       "    return {\"x\": x, \"y\": y};\n",
       "};\n",
       "\n",
       "/*\n",
       " * return a copy of an object with only non-object keys\n",
       " * we need this to avoid circular references\n",
       " * http://stackoverflow.com/a/24161582/3208463\n",
       " */\n",
       "function simpleKeys (original) {\n",
       "  return Object.keys(original).reduce(function (obj, key) {\n",
       "    if (typeof original[key] !== 'object')\n",
       "        obj[key] = original[key]\n",
       "    return obj;\n",
       "  }, {});\n",
       "}\n",
       "\n",
       "mpl.figure.prototype.mouse_event = function(event, name) {\n",
       "    var canvas_pos = mpl.findpos(event)\n",
       "\n",
       "    if (name === 'button_press')\n",
       "    {\n",
       "        this.canvas.focus();\n",
       "        this.canvas_div.focus();\n",
       "    }\n",
       "\n",
       "    var x = canvas_pos.x * mpl.ratio;\n",
       "    var y = canvas_pos.y * mpl.ratio;\n",
       "\n",
       "    this.send_message(name, {x: x, y: y, button: event.button,\n",
       "                             step: event.step,\n",
       "                             guiEvent: simpleKeys(event)});\n",
       "\n",
       "    /* This prevents the web browser from automatically changing to\n",
       "     * the text insertion cursor when the button is pressed.  We want\n",
       "     * to control all of the cursor setting manually through the\n",
       "     * 'cursor' event from matplotlib */\n",
       "    event.preventDefault();\n",
       "    return false;\n",
       "}\n",
       "\n",
       "mpl.figure.prototype._key_event_extra = function(event, name) {\n",
       "    // Handle any extra behaviour associated with a key event\n",
       "}\n",
       "\n",
       "mpl.figure.prototype.key_event = function(event, name) {\n",
       "\n",
       "    // Prevent repeat events\n",
       "    if (name == 'key_press')\n",
       "    {\n",
       "        if (event.which === this._key)\n",
       "            return;\n",
       "        else\n",
       "            this._key = event.which;\n",
       "    }\n",
       "    if (name == 'key_release')\n",
       "        this._key = null;\n",
       "\n",
       "    var value = '';\n",
       "    if (event.ctrlKey && event.which != 17)\n",
       "        value += \"ctrl+\";\n",
       "    if (event.altKey && event.which != 18)\n",
       "        value += \"alt+\";\n",
       "    if (event.shiftKey && event.which != 16)\n",
       "        value += \"shift+\";\n",
       "\n",
       "    value += 'k';\n",
       "    value += event.which.toString();\n",
       "\n",
       "    this._key_event_extra(event, name);\n",
       "\n",
       "    this.send_message(name, {key: value,\n",
       "                             guiEvent: simpleKeys(event)});\n",
       "    return false;\n",
       "}\n",
       "\n",
       "mpl.figure.prototype.toolbar_button_onclick = function(name) {\n",
       "    if (name == 'download') {\n",
       "        this.handle_save(this, null);\n",
       "    } else {\n",
       "        this.send_message(\"toolbar_button\", {name: name});\n",
       "    }\n",
       "};\n",
       "\n",
       "mpl.figure.prototype.toolbar_button_onmouseover = function(tooltip) {\n",
       "    this.message.textContent = tooltip;\n",
       "};\n",
       "mpl.toolbar_items = [[\"Home\", \"Reset original view\", \"fa fa-home icon-home\", \"home\"], [\"Back\", \"Back to previous view\", \"fa fa-arrow-left icon-arrow-left\", \"back\"], [\"Forward\", \"Forward to next view\", \"fa fa-arrow-right icon-arrow-right\", \"forward\"], [\"\", \"\", \"\", \"\"], [\"Pan\", \"Pan axes with left mouse, zoom with right\", \"fa fa-arrows icon-move\", \"pan\"], [\"Zoom\", \"Zoom to rectangle\", \"fa fa-square-o icon-check-empty\", \"zoom\"], [\"\", \"\", \"\", \"\"], [\"Download\", \"Download plot\", \"fa fa-floppy-o icon-save\", \"download\"]];\n",
       "\n",
       "mpl.extensions = [\"eps\", \"pdf\", \"png\", \"ps\", \"raw\", \"svg\"];\n",
       "\n",
       "mpl.default_extension = \"png\";var comm_websocket_adapter = function(comm) {\n",
       "    // Create a \"websocket\"-like object which calls the given IPython comm\n",
       "    // object with the appropriate methods. Currently this is a non binary\n",
       "    // socket, so there is still some room for performance tuning.\n",
       "    var ws = {};\n",
       "\n",
       "    ws.close = function() {\n",
       "        comm.close()\n",
       "    };\n",
       "    ws.send = function(m) {\n",
       "        //console.log('sending', m);\n",
       "        comm.send(m);\n",
       "    };\n",
       "    // Register the callback with on_msg.\n",
       "    comm.on_msg(function(msg) {\n",
       "        //console.log('receiving', msg['content']['data'], msg);\n",
       "        // Pass the mpl event to the overridden (by mpl) onmessage function.\n",
       "        ws.onmessage(msg['content']['data'])\n",
       "    });\n",
       "    return ws;\n",
       "}\n",
       "\n",
       "mpl.mpl_figure_comm = function(comm, msg) {\n",
       "    // This is the function which gets called when the mpl process\n",
       "    // starts-up an IPython Comm through the \"matplotlib\" channel.\n",
       "\n",
       "    var id = msg.content.data.id;\n",
       "    // Get hold of the div created by the display call when the Comm\n",
       "    // socket was opened in Python.\n",
       "    var element = $(\"#\" + id);\n",
       "    var ws_proxy = comm_websocket_adapter(comm)\n",
       "\n",
       "    function ondownload(figure, format) {\n",
       "        window.open(figure.imageObj.src);\n",
       "    }\n",
       "\n",
       "    var fig = new mpl.figure(id, ws_proxy,\n",
       "                           ondownload,\n",
       "                           element.get(0));\n",
       "\n",
       "    // Call onopen now - mpl needs it, as it is assuming we've passed it a real\n",
       "    // web socket which is closed, not our websocket->open comm proxy.\n",
       "    ws_proxy.onopen();\n",
       "\n",
       "    fig.parent_element = element.get(0);\n",
       "    fig.cell_info = mpl.find_output_cell(\"<div id='\" + id + \"'></div>\");\n",
       "    if (!fig.cell_info) {\n",
       "        console.error(\"Failed to find cell for figure\", id, fig);\n",
       "        return;\n",
       "    }\n",
       "\n",
       "    var output_index = fig.cell_info[2]\n",
       "    var cell = fig.cell_info[0];\n",
       "\n",
       "};\n",
       "\n",
       "mpl.figure.prototype.handle_close = function(fig, msg) {\n",
       "    var width = fig.canvas.width/mpl.ratio\n",
       "    fig.root.unbind('remove')\n",
       "\n",
       "    // Update the output cell to use the data from the current canvas.\n",
       "    fig.push_to_output();\n",
       "    var dataURL = fig.canvas.toDataURL();\n",
       "    // Re-enable the keyboard manager in IPython - without this line, in FF,\n",
       "    // the notebook keyboard shortcuts fail.\n",
       "    IPython.keyboard_manager.enable()\n",
       "    $(fig.parent_element).html('<img src=\"' + dataURL + '\" width=\"' + width + '\">');\n",
       "    fig.close_ws(fig, msg);\n",
       "}\n",
       "\n",
       "mpl.figure.prototype.close_ws = function(fig, msg){\n",
       "    fig.send_message('closing', msg);\n",
       "    // fig.ws.close()\n",
       "}\n",
       "\n",
       "mpl.figure.prototype.push_to_output = function(remove_interactive) {\n",
       "    // Turn the data on the canvas into data in the output cell.\n",
       "    var width = this.canvas.width/mpl.ratio\n",
       "    var dataURL = this.canvas.toDataURL();\n",
       "    this.cell_info[1]['text/html'] = '<img src=\"' + dataURL + '\" width=\"' + width + '\">';\n",
       "}\n",
       "\n",
       "mpl.figure.prototype.updated_canvas_event = function() {\n",
       "    // Tell IPython that the notebook contents must change.\n",
       "    IPython.notebook.set_dirty(true);\n",
       "    this.send_message(\"ack\", {});\n",
       "    var fig = this;\n",
       "    // Wait a second, then push the new image to the DOM so\n",
       "    // that it is saved nicely (might be nice to debounce this).\n",
       "    setTimeout(function () { fig.push_to_output() }, 1000);\n",
       "}\n",
       "\n",
       "mpl.figure.prototype._init_toolbar = function() {\n",
       "    var fig = this;\n",
       "\n",
       "    var nav_element = $('<div/>');\n",
       "    nav_element.attr('style', 'width: 100%');\n",
       "    this.root.append(nav_element);\n",
       "\n",
       "    // Define a callback function for later on.\n",
       "    function toolbar_event(event) {\n",
       "        return fig.toolbar_button_onclick(event['data']);\n",
       "    }\n",
       "    function toolbar_mouse_event(event) {\n",
       "        return fig.toolbar_button_onmouseover(event['data']);\n",
       "    }\n",
       "\n",
       "    for(var toolbar_ind in mpl.toolbar_items){\n",
       "        var name = mpl.toolbar_items[toolbar_ind][0];\n",
       "        var tooltip = mpl.toolbar_items[toolbar_ind][1];\n",
       "        var image = mpl.toolbar_items[toolbar_ind][2];\n",
       "        var method_name = mpl.toolbar_items[toolbar_ind][3];\n",
       "\n",
       "        if (!name) { continue; };\n",
       "\n",
       "        var button = $('<button class=\"btn btn-default\" href=\"#\" title=\"' + name + '\"><i class=\"fa ' + image + ' fa-lg\"></i></button>');\n",
       "        button.click(method_name, toolbar_event);\n",
       "        button.mouseover(tooltip, toolbar_mouse_event);\n",
       "        nav_element.append(button);\n",
       "    }\n",
       "\n",
       "    // Add the status bar.\n",
       "    var status_bar = $('<span class=\"mpl-message\" style=\"text-align:right; float: right;\"/>');\n",
       "    nav_element.append(status_bar);\n",
       "    this.message = status_bar[0];\n",
       "\n",
       "    // Add the close button to the window.\n",
       "    var buttongrp = $('<div class=\"btn-group inline pull-right\"></div>');\n",
       "    var button = $('<button class=\"btn btn-mini btn-primary\" href=\"#\" title=\"Stop Interaction\"><i class=\"fa fa-power-off icon-remove icon-large\"></i></button>');\n",
       "    button.click(function (evt) { fig.handle_close(fig, {}); } );\n",
       "    button.mouseover('Stop Interaction', toolbar_mouse_event);\n",
       "    buttongrp.append(button);\n",
       "    var titlebar = this.root.find($('.ui-dialog-titlebar'));\n",
       "    titlebar.prepend(buttongrp);\n",
       "}\n",
       "\n",
       "mpl.figure.prototype._root_extra_style = function(el){\n",
       "    var fig = this\n",
       "    el.on(\"remove\", function(){\n",
       "\tfig.close_ws(fig, {});\n",
       "    });\n",
       "}\n",
       "\n",
       "mpl.figure.prototype._canvas_extra_style = function(el){\n",
       "    // this is important to make the div 'focusable\n",
       "    el.attr('tabindex', 0)\n",
       "    // reach out to IPython and tell the keyboard manager to turn it's self\n",
       "    // off when our div gets focus\n",
       "\n",
       "    // location in version 3\n",
       "    if (IPython.notebook.keyboard_manager) {\n",
       "        IPython.notebook.keyboard_manager.register_events(el);\n",
       "    }\n",
       "    else {\n",
       "        // location in version 2\n",
       "        IPython.keyboard_manager.register_events(el);\n",
       "    }\n",
       "\n",
       "}\n",
       "\n",
       "mpl.figure.prototype._key_event_extra = function(event, name) {\n",
       "    var manager = IPython.notebook.keyboard_manager;\n",
       "    if (!manager)\n",
       "        manager = IPython.keyboard_manager;\n",
       "\n",
       "    // Check for shift+enter\n",
       "    if (event.shiftKey && event.which == 13) {\n",
       "        this.canvas_div.blur();\n",
       "        // select the cell after this one\n",
       "        var index = IPython.notebook.find_cell_index(this.cell_info[0]);\n",
       "        IPython.notebook.select(index + 1);\n",
       "    }\n",
       "}\n",
       "\n",
       "mpl.figure.prototype.handle_save = function(fig, msg) {\n",
       "    fig.ondownload(fig, null);\n",
       "}\n",
       "\n",
       "\n",
       "mpl.find_output_cell = function(html_output) {\n",
       "    // Return the cell and output element which can be found *uniquely* in the notebook.\n",
       "    // Note - this is a bit hacky, but it is done because the \"notebook_saving.Notebook\"\n",
       "    // IPython event is triggered only after the cells have been serialised, which for\n",
       "    // our purposes (turning an active figure into a static one), is too late.\n",
       "    var cells = IPython.notebook.get_cells();\n",
       "    var ncells = cells.length;\n",
       "    for (var i=0; i<ncells; i++) {\n",
       "        var cell = cells[i];\n",
       "        if (cell.cell_type === 'code'){\n",
       "            for (var j=0; j<cell.output_area.outputs.length; j++) {\n",
       "                var data = cell.output_area.outputs[j];\n",
       "                if (data.data) {\n",
       "                    // IPython >= 3 moved mimebundle to data attribute of output\n",
       "                    data = data.data;\n",
       "                }\n",
       "                if (data['text/html'] == html_output) {\n",
       "                    return [cell, data, j];\n",
       "                }\n",
       "            }\n",
       "        }\n",
       "    }\n",
       "}\n",
       "\n",
       "// Register the function which deals with the matplotlib target/channel.\n",
       "// The kernel may be null if the page has been refreshed.\n",
       "if (IPython.notebook.kernel != null) {\n",
       "    IPython.notebook.kernel.comm_manager.register_target('matplotlib', mpl.mpl_figure_comm);\n",
       "}\n"
      ],
      "text/plain": [
       "<IPython.core.display.Javascript object>"
      ]
     },
     "metadata": {},
     "output_type": "display_data"
    },
    {
     "data": {
      "text/html": [
       "<img src=\"data:image/png;base64,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\" width=\"449.6\">"
      ],
      "text/plain": [
       "<IPython.core.display.HTML object>"
      ]
     },
     "metadata": {},
     "output_type": "display_data"
    }
   ],
   "source": [
    "fig, ax = plt.subplots(figsize=(4.5, 3))\n",
    "ax.plot(lr_list, eng_list)\n",
    "ax.set_title(\"Energy plot on gradient trajectory\")\n",
    "ax.set_xlabel(r\"$\\mathtt{lr}$\")\n",
    "ax.set_ylabel(r\"$E(A_t - \\mathtt{lr} \\times E^\\mathtt{A_t})$\")\n",
    "fig.tight_layout()"
   ]
  },
  {
   "cell_type": "markdown",
   "metadata": {},
   "source": [
    "因此，我们会发现对于当前的例子而言，$\\mathtt{lr}$ 在 2 左右时将会给出较小的能量，但对当前情况来说，$0 < \\mathtt{lr} < 4$ 时能给出相对更低的能量值。"
   ]
  },
  {
   "cell_type": "markdown",
   "metadata": {},
   "source": [
    "经过测试，我们可以设定 $\\mathtt{lr} = 1$，以进行梯度下降的几何结构优化。其优化过程和优化曲线如下："
   ]
  },
  {
   "cell_type": "code",
   "execution_count": 10,
   "metadata": {
    "scrolled": false
   },
   "outputs": [],
   "source": [
    "coord = coord_orig.copy()\n",
    "lr = 1\n",
    "eng_threshold = 1e-8\n",
    "eng_list = []\n",
    "for _ in range(128):\n",
    "    scf_eng = scf.RHF(gen_NH3(coord)).run()\n",
    "    eng_list.append(scf_eng.e_tot)\n",
    "    if len(eng_list) > 6 and np.abs(eng_list[-1] - eng_list[-4]) < eng_threshold:\n",
    "        break\n",
    "    grad_NH3 = scf_eng.nuc_grad_method().run().de\n",
    "    coord -= lr * grad_NH3"
   ]
  },
  {
   "cell_type": "markdown",
   "metadata": {},
   "source": [
    "我们最终得到的梯度下降得到的最低能量是"
   ]
  },
  {
   "cell_type": "code",
   "execution_count": 11,
   "metadata": {},
   "outputs": [
    {
     "data": {
      "text/plain": [
       "-56.16552129763208"
      ]
     },
     "execution_count": 11,
     "metadata": {},
     "output_type": "execute_result"
    }
   ],
   "source": [
    "eng_list[-1]"
   ]
  },
  {
   "cell_type": "markdown",
   "metadata": {},
   "source": [
    "以及最终优化得到的原子坐标表示如下："
   ]
  },
  {
   "cell_type": "code",
   "execution_count": 12,
   "metadata": {
    "scrolled": true
   },
   "outputs": [
    {
     "data": {
      "text/plain": [
       "array([[-0.     ,  0.     , -0.00446],\n",
       "       [ 0.     ,  1.836  , -0.37646],\n",
       "       [ 1.59002, -0.918  , -0.37646],\n",
       "       [-1.59002, -0.918  , -0.37646]])"
      ]
     },
     "execution_count": 12,
     "metadata": {},
     "output_type": "execute_result"
    }
   ],
   "source": [
    "coord"
   ]
  },
  {
   "cell_type": "markdown",
   "metadata": {},
   "source": [
    "该分子的键长与键角如下："
   ]
  },
  {
   "cell_type": "code",
   "execution_count": 13,
   "metadata": {},
   "outputs": [
    {
     "name": "stdout",
     "output_type": "stream",
     "text": [
      "N-H Bond Length   1.87330 Bohr\n",
      "H-N-H Angle     116.15804 Degree\n"
     ]
    }
   ],
   "source": [
    "bond_NH = np.linalg.norm(coord[1] - coord[0])\n",
    "angle_HNH = np.arccos(np.dot(coord[1] - coord[0], coord[2] - coord[0]) / bond_NH**2) * 180 / np.pi\n",
    "print(\"N-H Bond Length {:9.5f} Bohr\".format(bond_NH))\n",
    "print(\"H-N-H Angle     {:9.5f} Degree\".format(angle_HNH))"
   ]
  },
  {
   "cell_type": "markdown",
   "metadata": {},
   "source": [
    "对比上面 Gaussian 的输出，可以发现这两者的几何结构非常相近；几何结构的优化是成功的。"
   ]
  },
  {
   "cell_type": "markdown",
   "metadata": {},
   "source": [
    "## 数值梯度计算"
   ]
  },
  {
   "cell_type": "markdown",
   "metadata": {},
   "source": [
    "### 能量的数值梯度计算"
   ]
  },
  {
   "cell_type": "markdown",
   "metadata": {},
   "source": [
    "我们先简单回顾一下初始构型 `coord_orig` 下的原子坐标梯度："
   ]
  },
  {
   "cell_type": "code",
   "execution_count": 14,
   "metadata": {},
   "outputs": [
    {
     "data": {
      "text/plain": [
       "array([[-0.     ,  0.     ,  0.01145],\n",
       "       [ 0.     ,  0.0265 , -0.00382],\n",
       "       [ 0.02295, -0.01325, -0.00382],\n",
       "       [-0.02295, -0.01325, -0.00382]])"
      ]
     },
     "execution_count": 14,
     "metadata": {},
     "output_type": "execute_result"
    }
   ],
   "source": [
    "scf_eng = scf.RHF(gen_NH3(coord_orig)).run()\n",
    "scf_grad = scf_eng.nuc_grad_method().run()\n",
    "scf_grad.de"
   ]
  },
  {
   "cell_type": "markdown",
   "metadata": {},
   "source": [
    "作为例子，我们指出上述梯度矩阵的第 0 行 (氮原子) 第 2 列 ($z$ 坐标分量) 的值，通过数值梯度也能得到。利用三点差分公式，我们定义逼近参数 $h = 10^{-4}$ Bohr，那么我们通过三点差分，通过这两个分子计算氮原子 $z$ 分量上的梯度："
   ]
  },
  {
   "cell_type": "code",
   "execution_count": 15,
   "metadata": {},
   "outputs": [
    {
     "data": {
      "text/plain": [
       "0.011452969950198622"
      ]
     },
     "execution_count": 15,
     "metadata": {},
     "output_type": "execute_result"
    }
   ],
   "source": [
    "def eng_deriv(coord):\n",
    "    coord_m1 = coord.copy()\n",
    "    coord_m1[0, 2] -= 1e-4                           # set coord_m1 as (x-h)\n",
    "    coord_p1 = coord.copy()\n",
    "    coord_p1[0, 2] += 1e-4                           # set coord_p1 as (x+h)\n",
    "    eng_m1 = scf.RHF(gen_NH3(coord_m1)).run().e_tot  # get f(x-h)\n",
    "    eng_p1 = scf.RHF(gen_NH3(coord_p1)).run().e_tot  # get f(x+h)\n",
    "    return (eng_p1 - eng_m1) / 2e-4                  # return (f(x+h) - f(x-h)) / (2h)\n",
    "eng_deriv(coord_orig)"
   ]
  },
  {
   "cell_type": "markdown",
   "metadata": {},
   "source": [
    "我们看到上述的数值差分结果与量化程序中给出的解析梯度是近乎相等的："
   ]
  },
  {
   "cell_type": "code",
   "execution_count": 16,
   "metadata": {},
   "outputs": [
    {
     "data": {
      "text/plain": [
       "0.011453010014419451"
      ]
     },
     "execution_count": 16,
     "metadata": {},
     "output_type": "execute_result"
    }
   ],
   "source": [
    "scf_grad.de[0, 2]"
   ]
  },
  {
   "cell_type": "markdown",
   "metadata": {},
   "source": [
    "以此类推，我们就可以给出所有原子的所有坐标分量的能量数值梯度了；将这些数值梯度拼成矩阵，就是量化程序所输出的解析梯度 $E^{A_t}$ 了。下面的程序 `num_grad` 就是输入任意氨分子，在逼近参数 $h = 10^{-4}$ Bohr 的情况下给出能量对核坐标的三点差分梯度："
   ]
  },
  {
   "cell_type": "code",
   "execution_count": 17,
   "metadata": {},
   "outputs": [
    {
     "data": {
      "text/plain": [
       "array([[ 0.     ,  0.     ,  0.01145],\n",
       "       [-0.     ,  0.0265 , -0.00382],\n",
       "       [ 0.02295, -0.01325, -0.00382],\n",
       "       [-0.02295, -0.01325, -0.00382]])"
      ]
     },
     "execution_count": 17,
     "metadata": {},
     "output_type": "execute_result"
    }
   ],
   "source": [
    "def num_grad(coord):\n",
    "    eng_grad = np.empty((natm, 3))\n",
    "    for A in range(natm):\n",
    "        for t in range(3):\n",
    "            coord_m1 = coord.copy()\n",
    "            coord_m1[A, t] -= 1e-4                           # set coord_m1 as (x - h)\n",
    "            coord_p1 = coord.copy()\n",
    "            coord_p1[A, t] += 1e-4                           # set coord_p1 as (x + h)\n",
    "            eng_m1 = scf.RHF(gen_NH3(coord_m1)).run().e_tot  # get f(x-h)\n",
    "            eng_p1 = scf.RHF(gen_NH3(coord_p1)).run().e_tot  # get f(x+h)\n",
    "            eng_grad[A, t] = (eng_p1 - eng_m1) / 2e-4        # return (f(x+h) - f(x-h)) / (2h)\n",
    "    return eng_grad\n",
    "num_grad(coord_orig)"
   ]
  },
  {
   "cell_type": "markdown",
   "metadata": {},
   "source": [
    "该数值梯度近乎与 PySCF 给出的解析梯度相等。\n",
    "\n",
    "因此，我们能预期，借助数值梯度，在稍低一些的收敛条件下，也可以对分子进行结构优化；但数值梯度的消耗相当大，因此进行梯度下降结构优化的时间也会相当长，就不作代码演示了。"
   ]
  },
  {
   "cell_type": "markdown",
   "metadata": {},
   "source": [
    "### pyxdh 数值核坐标梯度程序"
   ]
  },
  {
   "cell_type": "markdown",
   "metadata": {},
   "source": [
    "事实上，pyxdh 提供了方便求取核坐标的数值梯度程序。我们就拿处在 `coord_orig` 构型的分子的一阶导数来举例说明 pyxdh 程序的用法。这个程序将会在以后经常用于核验各种解析梯度与数值梯度之间是否相称。"
   ]
  },
  {
   "cell_type": "markdown",
   "metadata": {},
   "source": [
    "我们首先生成核坐标梯度生成器 `NucCoordDerivGenerator` 的实例 `generator`；它必须的输入参数是\n",
    "\n",
    "- 分子构型，在这里通过生成 NH3 的分子结构 `gen_NH3(coord_orig)` 给出。它必须是 PySCF 的 `gto.Mole` 类实例。\n",
    "\n",
    "- 用于给出计算实例的函数。“计算实例”是指用于预先储存所有分子的某一种计算过程。在当前的例子而言，我们会计算分子的能量，即输入 `gto.Mole` 实例 `mol_`，输出 `scf.RHF` 实例 `scf.RHF(mol_).run()`；函数的形式是 lambda 函数。随着计算方式的不同，该函数也可以返回不同类型的实例。"
   ]
  },
  {
   "cell_type": "code",
   "execution_count": 18,
   "metadata": {},
   "outputs": [],
   "source": [
    "generator = NucCoordDerivGenerator(gen_NH3(coord_orig), lambda mol_: scf.RHF(mol_).run())"
   ]
  },
  {
   "cell_type": "markdown",
   "metadata": {},
   "source": [
    "在 `generator` 实例化过程中，会通过上述输入函数，预先计算好所有三点差分所需要的计算实例。这些计算实例将会储存在 `generator.objects` 成员变量中。譬如对于当前 NH3 分子的核坐标梯度，被求导的矩阵大小是 $4 \\times 3 = 12$，因此 `generator.objects` 的第一维度是 12。而又由于我们使用三点差分，因此每个被求导量我们都需要求上下浮动 $h$ 的逼近参数的情形；因此每个被求导量的数值导数需要两个计算实例，即第二维度为 2："
   ]
  },
  {
   "cell_type": "code",
   "execution_count": 19,
   "metadata": {},
   "outputs": [
    {
     "data": {
      "text/plain": [
       "(12, 2)"
      ]
     },
     "execution_count": 19,
     "metadata": {},
     "output_type": "execute_result"
    }
   ],
   "source": [
    "generator.objects.shape"
   ]
  },
  {
   "cell_type": "markdown",
   "metadata": {},
   "source": [
    "而计算实例的类型与方才给 `NucCoordDerivGenerator` 实例化时调入的第二个参数 (lambda 函数) `lambda mol_: scf.RHF(mol_).run()` 的返回类型相同："
   ]
  },
  {
   "cell_type": "code",
   "execution_count": 20,
   "metadata": {},
   "outputs": [
    {
     "data": {
      "text/plain": [
       "pyscf.scf.hf.RHF"
      ]
     },
     "execution_count": 20,
     "metadata": {},
     "output_type": "execute_result"
    }
   ],
   "source": [
    "type(generator.objects[0, 0])"
   ]
  },
  {
   "cell_type": "markdown",
   "metadata": {},
   "source": [
    "但上述实例仅仅是生成了用于三点差分的计算实例的集合 `generator.objects`；真正计算三点差分的实例是通过实例化类 `NumericDiff` 生成的；它必须输入的参数是\n",
    "\n",
    "- 梯度生成器；在当前的例子中，是 `generator`。\n",
    "\n",
    "- 从计算实例导出具体数值的函数；在当前的例子中，我们需要从 `scf.RHF` 实例 `mf` 中，给出分子的能量信息，即 `mf.e_tot` 成员变量。\n",
    "\n",
    "看起来，将生成三点差分的计算实例 (类 `NucCoordDerivGenerator` 的实例)、和具体计算三点差分的过程的拆分 (类 `NumericDiff` 的实例)，似乎是冗余的；但我们以后在具体验证 XYG3 型泛函导数性质时，将会发现非常有用。"
   ]
  },
  {
   "cell_type": "code",
   "execution_count": 21,
   "metadata": {},
   "outputs": [],
   "source": [
    "diff = NumericDiff(generator, lambda mf: mf.e_tot)"
   ]
  },
  {
   "cell_type": "markdown",
   "metadata": {},
   "source": [
    "上述三点差分实例 `diff` 可以用 `diff.derivative` 成员属性给出；我们可以发现，下述的数值导数与上面我们求过的数值导数近乎相等。"
   ]
  },
  {
   "cell_type": "code",
   "execution_count": 22,
   "metadata": {},
   "outputs": [
    {
     "data": {
      "text/plain": [
       "array([[ 0.     ,  0.     ,  0.01145],\n",
       "       [ 0.     ,  0.0265 , -0.00382],\n",
       "       [ 0.02295, -0.01325, -0.00382],\n",
       "       [-0.02295, -0.01325, -0.00382]])"
      ]
     },
     "execution_count": 22,
     "metadata": {},
     "output_type": "execute_result"
    }
   ],
   "source": [
    "diff.derivative.reshape(natm, 3)"
   ]
  },
  {
   "cell_type": "markdown",
   "metadata": {},
   "source": [
    "这里仅仅是介绍了使用 pyxdh 作核坐标能量梯度的计算方式。事实上，由于 pyxdh 的编写过程中还经常处理电场导数、以及对矩阵的导数，因此 pyxdh 的数值导数还有其它的用法。我们会在后面的偶极矩文段中介绍电场导数类 `DipoleDerivGenerator`，以及在 Hessian、极化率或红外相关文段中介绍对矩阵的导数。"
   ]
  }
 ],
 "metadata": {
  "kernelspec": {
   "display_name": "Python 3",
   "language": "python",
   "name": "python3"
  },
  "language_info": {
   "codemirror_mode": {
    "name": "ipython",
    "version": 3
   },
   "file_extension": ".py",
   "mimetype": "text/x-python",
   "name": "python",
   "nbconvert_exporter": "python",
   "pygments_lexer": "ipython3",
   "version": "3.8.1"
  },
  "toc": {
   "base_numbering": 1,
   "nav_menu": {},
   "number_sections": true,
   "sideBar": true,
   "skip_h1_title": false,
   "title_cell": "Table of Contents",
   "title_sidebar": "Contents",
   "toc_cell": false,
   "toc_position": {},
   "toc_section_display": true,
   "toc_window_display": false
  }
 },
 "nbformat": 4,
 "nbformat_minor": 4
}
