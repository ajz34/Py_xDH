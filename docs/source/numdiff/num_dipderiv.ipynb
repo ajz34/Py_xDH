{
 "cells": [
  {
   "cell_type": "markdown",
   "metadata": {},
   "source": [
    "# RHF 偶极矩的核坐标导数"
   ]
  },
  {
   "cell_type": "markdown",
   "metadata": {},
   "source": [
    "在这一章的最后，我们讨论一个相对复杂一些的导数，即偶极矩的核坐标导数 $d_s^{A_t} = \\frac{\\partial d_s}{\\partial A_t}$。这个量结合频率分析，可以得到红外光谱；我们在这里会使用一个小程序绘制光谱图而不详细展开。"
   ]
  },
  {
   "cell_type": "code",
   "execution_count": 1,
   "metadata": {},
   "outputs": [],
   "source": [
    "%matplotlib notebook\n",
    "\n",
    "from pyscf import gto, scf, lib, prop\n",
    "import numpy as np\n",
    "from matplotlib import pyplot as plt\n",
    "from pyxdh.Utilities import FormchkInterface, NucCoordDerivGenerator, NumericDiff\n",
    "from pyxdh.Utilities.test_molecules import Mol_H2O2\n",
    "from pyxdh.DerivOnce import DipoleSCF, GradSCF\n",
    "from pyxdh.DerivTwice import DipDerivSCF\n",
    "import warnings\n",
    "\n",
    "warnings.filterwarnings(\"ignore\")\n",
    "np.set_printoptions(5, linewidth=150, suppress=True)"
   ]
  },
  {
   "cell_type": "markdown",
   "metadata": {},
   "source": [
    "## 量化软件计算 RHF 偶极矩的核坐标导数"
   ]
  },
  {
   "cell_type": "markdown",
   "metadata": {},
   "source": [
    "### Gaussian 偶极矩的核坐标导数"
   ]
  },
  {
   "cell_type": "markdown",
   "metadata": {},
   "source": [
    "我们在 Hessian 的文档中已经展示 Gaussian 的偶极矩核坐标导数的求取了。这里展示一下结果："
   ]
  },
  {
   "cell_type": "code",
   "execution_count": 2,
   "metadata": {},
   "outputs": [
    {
     "data": {
      "text/plain": [
       "array([[-0.2343 ,  0.01785,  0.16617],\n",
       "       [ 0.07423, -0.4948 ,  0.00587],\n",
       "       [ 0.04888, -0.08356, -0.50397],\n",
       "       [-0.41785,  0.01883, -0.16946],\n",
       "       [ 0.00548, -0.32846, -0.15515],\n",
       "       [ 0.02287,  0.03304, -0.09475],\n",
       "       [ 0.21503,  0.00182, -0.03122],\n",
       "       [-0.04486,  0.44397,  0.02416],\n",
       "       [-0.03371, -0.01025,  0.25124],\n",
       "       [ 0.43712, -0.0385 ,  0.03451],\n",
       "       [-0.03485,  0.37929,  0.12513],\n",
       "       [-0.03804,  0.06077,  0.34748]])"
      ]
     },
     "execution_count": 2,
     "metadata": {},
     "output_type": "execute_result"
    }
   ],
   "source": [
    "fchk = FormchkInterface(\"assets/H2O2-freq.fch\")\n",
    "fchk.dipolederiv()"
   ]
  },
  {
   "cell_type": "markdown",
   "metadata": {},
   "source": [
    "同时，我们也展示一下 Gaussian 计算得到的红外光谱强度 (单位为 km/mol)："
   ]
  },
  {
   "cell_type": "code",
   "execution_count": 3,
   "metadata": {},
   "outputs": [
    {
     "name": "stdout",
     "output_type": "stream",
     "text": [
      "line  577:  IR Inten    --   195.2349               105.4141                99.7388\n",
      "line  591:  IR Inten    --    17.5360                47.6775               105.1116\n"
     ]
    }
   ],
   "source": [
    "with open(\"assets/H2O2-freq.out\", \"r\") as f:\n",
    "    for idx, line in enumerate(f.readlines()):\n",
    "        if \"IR Inten\" in line:\n",
    "            print(\"line {:4d}:\".format(idx + 1), line[:-1])"
   ]
  },
  {
   "cell_type": "markdown",
   "metadata": {},
   "source": [
    "### pyxdh 偶极矩的核坐标导数"
   ]
  },
  {
   "cell_type": "code",
   "execution_count": 4,
   "metadata": {},
   "outputs": [],
   "source": [
    "molh = Mol_H2O2()\n",
    "mol = molh.mol\n",
    "scf_eng = molh.hf_eng"
   ]
  },
  {
   "cell_type": "code",
   "execution_count": 5,
   "metadata": {},
   "outputs": [
    {
     "data": {
      "text/plain": [
       "array([[-0.2343 ,  0.07423,  0.04889, -0.41784,  0.00548,  0.02287,  0.21502, -0.04486, -0.03371,  0.43712, -0.03485, -0.03804],\n",
       "       [ 0.01785, -0.4948 , -0.08356,  0.01883, -0.32846,  0.03304,  0.00182,  0.44397, -0.01025, -0.0385 ,  0.37929,  0.06077],\n",
       "       [ 0.16618,  0.00587, -0.50398, -0.16946, -0.15515, -0.09475, -0.03122,  0.02416,  0.25124,  0.03451,  0.12513,  0.34748]])"
      ]
     },
     "execution_count": 5,
     "metadata": {},
     "output_type": "execute_result"
    }
   ],
   "source": [
    "diph = DipoleSCF({\"scf_eng\": scf_eng, \"cphf_tol\": 1e-10})\n",
    "gradh = GradSCF({\"scf_eng\": scf_eng, \"cphf_tol\": 1e-10})\n",
    "dipdh = DipDerivSCF({\"deriv_A\": diph, \"deriv_B\": gradh})\n",
    "dipdh.E_2"
   ]
  },
  {
   "cell_type": "markdown",
   "metadata": {},
   "source": [
    "上述的矩阵维度与 Gaussian 输出恰好是转置；在稍低的判定条件下，可以基本判断两矩阵近乎相等："
   ]
  },
  {
   "cell_type": "code",
   "execution_count": 6,
   "metadata": {},
   "outputs": [
    {
     "data": {
      "text/plain": [
       "True"
      ]
     },
     "execution_count": 6,
     "metadata": {},
     "output_type": "execute_result"
    }
   ],
   "source": [
    "np.allclose(fchk.dipolederiv(), dipdh.E_2.T, atol=1e-5, rtol=1e-4)"
   ]
  },
  {
   "cell_type": "markdown",
   "metadata": {},
   "source": [
    "## 偶极矩的核坐标导数的数值导数"
   ]
  },
  {
   "cell_type": "markdown",
   "metadata": {},
   "source": [
    "### 三点差分数值导数"
   ]
  },
  {
   "cell_type": "markdown",
   "metadata": {},
   "source": [
    "我们在之前的文档中，已经对原子和坐标与电场的三点差分进行过计算。这里的计算也大同小异，我们就不作更详细的说明了。但我们需要指出，由于带电场的分子梯度并不是非常容易求取的，因此我们使用数值梯度求导的策略是求出偶极矩后，对原子核坐标作数值导数。\n",
    "\n",
    "譬如说，我们对第一个氧原子的 $x$ 坐标作导数求取。我们移动该坐标以产生两个分子 `mol_m1`, `mol_p1` 作核坐标导数的三点差分。"
   ]
  },
  {
   "cell_type": "code",
   "execution_count": 7,
   "metadata": {},
   "outputs": [],
   "source": [
    "def gen_H2O2(coord):\n",
    "    \"\"\"\n",
    "    Generate H2O2 molecule (with basis 6-31G)\n",
    "    \"\"\"\n",
    "    mol = gto.Mole()\n",
    "    mol.atom = \"\"\"\n",
    "    O  0.0  0.0  0.0\n",
    "    O  0.0  0.0  1.5\n",
    "    H  1.0  0.0  0.0\n",
    "    H  0.0  0.7  1.0\n",
    "    \"\"\"\n",
    "    mol.basis = \"6-31G\"\n",
    "    mol.verbose = 0\n",
    "    mol.build()\n",
    "    mol.set_geom_(coord * lib.param.BOHR)\n",
    "    return mol.build()"
   ]
  },
  {
   "cell_type": "code",
   "execution_count": 8,
   "metadata": {},
   "outputs": [],
   "source": [
    "coord_orig = mol.atom_coords()\n",
    "coord_m1 = coord_orig.copy()\n",
    "coord_m1[0, 0] -= 1e-4\n",
    "coord_p1 = coord_orig.copy()\n",
    "coord_p1[0, 0] += 1e-4\n",
    "mol_m1 = gen_H2O2(coord_m1)\n",
    "mol_p1 = gen_H2O2(coord_p1)"
   ]
  },
  {
   "cell_type": "markdown",
   "metadata": {},
   "source": [
    "随后我们求取这两个分子的偶极矩，作三点差分："
   ]
  },
  {
   "cell_type": "code",
   "execution_count": 9,
   "metadata": {},
   "outputs": [
    {
     "data": {
      "text/plain": [
       "array([-0.2343 ,  0.01785,  0.16617])"
      ]
     },
     "execution_count": 9,
     "metadata": {},
     "output_type": "execute_result"
    }
   ],
   "source": [
    "dip_m1 = scf.RHF(mol_m1).run().dip_moment(unit=\"A.U.\", verbose=0)\n",
    "dip_p1 = scf.RHF(mol_p1).run().dip_moment(unit=\"A.U.\", verbose=0)\n",
    "(dip_p1 - dip_m1) / 2e-4"
   ]
  },
  {
   "cell_type": "markdown",
   "metadata": {},
   "source": [
    "我们会发现，上述导数的值与 Gaussian 输出的值相等："
   ]
  },
  {
   "cell_type": "code",
   "execution_count": 10,
   "metadata": {},
   "outputs": [
    {
     "data": {
      "text/plain": [
       "array([-0.2343 ,  0.01785,  0.16617])"
      ]
     },
     "execution_count": 10,
     "metadata": {},
     "output_type": "execute_result"
    }
   ],
   "source": [
    "fchk.dipolederiv()[0]"
   ]
  },
  {
   "cell_type": "markdown",
   "metadata": {},
   "source": [
    "### pyxdh 数值导数"
   ]
  },
  {
   "cell_type": "markdown",
   "metadata": {},
   "source": [
    "我们的被求导量既然是原子核坐标，那么我们的实例化的类是 `NucCoordDerivGenerator`，而非 `DipoleDerivGenerator`。我们使用与求取 Hessian 时相似的生成方式；但计算实例可以是 `scf.RHF` 类而非 `grad.RHF` 类，因为 `scf.RHF` 类可以直接导出作为被求导量的偶极矩："
   ]
  },
  {
   "cell_type": "code",
   "execution_count": 11,
   "metadata": {},
   "outputs": [],
   "source": [
    "generator = NucCoordDerivGenerator(mol, lambda mol_: scf.RHF(mol_).run())\n",
    "diff = NumericDiff(generator, lambda mf: mf.dip_moment(unit=\"A.U.\", verbose=0))"
   ]
  },
  {
   "cell_type": "markdown",
   "metadata": {},
   "source": [
    "使用 `derivative` property，就可以求出该分子的数值偶极矩的核坐标导数："
   ]
  },
  {
   "cell_type": "code",
   "execution_count": 12,
   "metadata": {},
   "outputs": [
    {
     "data": {
      "text/plain": [
       "array([[-0.2343 ,  0.01785,  0.16617],\n",
       "       [ 0.07423, -0.4948 ,  0.00587],\n",
       "       [ 0.04889, -0.08356, -0.50398],\n",
       "       [-0.41785,  0.01883, -0.16946],\n",
       "       [ 0.00548, -0.32846, -0.15516],\n",
       "       [ 0.02286,  0.03304, -0.09474],\n",
       "       [ 0.21502,  0.00182, -0.03122],\n",
       "       [-0.04486,  0.44397,  0.02416],\n",
       "       [-0.03371, -0.01025,  0.25124],\n",
       "       [ 0.43712, -0.0385 ,  0.03451],\n",
       "       [-0.03485,  0.37929,  0.12514],\n",
       "       [-0.03804,  0.06077,  0.34748]])"
      ]
     },
     "execution_count": 12,
     "metadata": {},
     "output_type": "execute_result"
    }
   ],
   "source": [
    "diff.derivative"
   ]
  },
  {
   "cell_type": "markdown",
   "metadata": {},
   "source": [
    "我们可以将其与 Gaussian 的输出结果作对照："
   ]
  },
  {
   "cell_type": "code",
   "execution_count": 13,
   "metadata": {},
   "outputs": [
    {
     "data": {
      "text/plain": [
       "True"
      ]
     },
     "execution_count": 13,
     "metadata": {},
     "output_type": "execute_result"
    }
   ],
   "source": [
    "np.allclose(diff.derivative, fchk.dipolederiv(), atol=1e-5, rtol=1e-4)"
   ]
  },
  {
   "cell_type": "markdown",
   "metadata": {},
   "source": [
    "## 红外光谱绘制"
   ]
  },
  {
   "cell_type": "markdown",
   "metadata": {},
   "source": [
    "<div class=\"alert alert-warning\">\n",
    "\n",
    "**提醒**\n",
    "\n",
    "我们讨论的双氧水分子并非处于稳定构象，因此我们所得的分子频率和红外光谱并非是有物理意义的。后文所给的计算过程仅仅是演示而已。通过频率分析得到的红外光谱一般被认为处在稳定结构时才有讨论的意义。\n",
    "\n",
    "</div>"
   ]
  },
  {
   "cell_type": "markdown",
   "metadata": {},
   "source": [
    "我们最后陈述一下偶极矩的原子核坐标导数可以用于模拟红外光谱。下面的程序仍然借用了外部的 [freqanal.py](freqanal.py)。"
   ]
  },
  {
   "cell_type": "code",
   "execution_count": 14,
   "metadata": {},
   "outputs": [],
   "source": [
    "from freqanal import FreqAnal, FactIR"
   ]
  },
  {
   "cell_type": "markdown",
   "metadata": {},
   "source": [
    "我们首先需要通过 Hessian 矩阵得到频率信息 (单位 1/cm)："
   ]
  },
  {
   "cell_type": "code",
   "execution_count": 15,
   "metadata": {},
   "outputs": [
    {
     "data": {
      "text/plain": [
       "array([-1580.60525, -1218.37861,  1370.61982,  1647.53904,  3389.8587 ,  5347.88911])"
      ]
     },
     "execution_count": 15,
     "metadata": {},
     "output_type": "execute_result"
    }
   ],
   "source": [
    "mol_weight = np.array([15.99491, 15.99491, 1.00783, 1.00783])\n",
    "frq = FreqAnal(mol_weight=mol_weight, mol_coord=mol.atom_coords(), hessian=fchk.hessian())\n",
    "frq.freq"
   ]
  },
  {
   "cell_type": "markdown",
   "metadata": {},
   "source": [
    "随后，通过分子振动的简正坐标与偶极的核坐标导数作内积 (即求出分子在简正运动下，偶极矩的瞬时变化大小)，可以给出每个分子振动下的红外积分强度 (单位 km/mol)："
   ]
  },
  {
   "cell_type": "code",
   "execution_count": 16,
   "metadata": {},
   "outputs": [
    {
     "data": {
      "text/plain": [
       "array([195.23468, 105.41248,  99.73978,  17.53655,  47.67743, 105.11221])"
      ]
     },
     "execution_count": 16,
     "metadata": {},
     "output_type": "execute_result"
    }
   ],
   "source": [
    "dipderiv_mode = np.einsum(\"Ar, Aq -> qr\", diff.derivative, frq.q) * FactIR\n",
    "ir_intensities = (dipderiv_mode ** 2).sum(axis=1)\n",
    "ir_intensities"
   ]
  },
  {
   "cell_type": "markdown",
   "metadata": {},
   "source": [
    "上面的向量值与 Gaussian 输出的红外光谱大小近乎相等："
   ]
  },
  {
   "cell_type": "code",
   "execution_count": 17,
   "metadata": {},
   "outputs": [
    {
     "name": "stdout",
     "output_type": "stream",
     "text": [
      "line  577:  IR Inten    --   195.2349               105.4141                99.7388\n",
      "line  591:  IR Inten    --    17.5360                47.6775               105.1116\n"
     ]
    }
   ],
   "source": [
    "with open(\"assets/H2O2-freq.out\", \"r\") as f:\n",
    "    for idx, line in enumerate(f.readlines()):\n",
    "        if \"IR Inten\" in line:\n",
    "            print(\"line {:4d}:\".format(idx + 1), line[:-1])"
   ]
  },
  {
   "cell_type": "markdown",
   "metadata": {},
   "source": [
    "上面是积分的红外光谱强度；模拟红外光谱时，还需要指定半峰宽峰的展宽程度。在这里，我们假定半峰宽都是 $50 \\, \\mathsf{cm}^{-1}$；并且展宽模式是 Lorentzian 型。那么，红外光谱图就绘制如下："
   ]
  },
  {
   "cell_type": "code",
   "execution_count": 18,
   "metadata": {},
   "outputs": [],
   "source": [
    "def lorentzian_freq(omega, omega_n, gamma):\n",
    "    return 100 * 0.5 / np.pi * gamma / ((omega - omega_n)**2 + 0.25 * gamma**2)\n",
    "\n",
    "def ir_plot(omega, gamma, freq, ir):\n",
    "    val = 0\n",
    "    assert(len(freq) == len(ir))\n",
    "    for i in range(len(freq)):\n",
    "        val += lorentzian_freq(omega, freq[i], gamma) * ir[i]\n",
    "    return val"
   ]
  },
  {
   "cell_type": "code",
   "execution_count": 19,
   "metadata": {},
   "outputs": [
    {
     "data": {
      "application/javascript": [
       "/* Put everything inside the global mpl namespace */\n",
       "window.mpl = {};\n",
       "\n",
       "\n",
       "mpl.get_websocket_type = function() {\n",
       "    if (typeof(WebSocket) !== 'undefined') {\n",
       "        return WebSocket;\n",
       "    } else if (typeof(MozWebSocket) !== 'undefined') {\n",
       "        return MozWebSocket;\n",
       "    } else {\n",
       "        alert('Your browser does not have WebSocket support. ' +\n",
       "              'Please try Chrome, Safari or Firefox ≥ 6. ' +\n",
       "              'Firefox 4 and 5 are also supported but you ' +\n",
       "              'have to enable WebSockets in about:config.');\n",
       "    };\n",
       "}\n",
       "\n",
       "mpl.figure = function(figure_id, websocket, ondownload, parent_element) {\n",
       "    this.id = figure_id;\n",
       "\n",
       "    this.ws = websocket;\n",
       "\n",
       "    this.supports_binary = (this.ws.binaryType != undefined);\n",
       "\n",
       "    if (!this.supports_binary) {\n",
       "        var warnings = document.getElementById(\"mpl-warnings\");\n",
       "        if (warnings) {\n",
       "            warnings.style.display = 'block';\n",
       "            warnings.textContent = (\n",
       "                \"This browser does not support binary websocket messages. \" +\n",
       "                    \"Performance may be slow.\");\n",
       "        }\n",
       "    }\n",
       "\n",
       "    this.imageObj = new Image();\n",
       "\n",
       "    this.context = undefined;\n",
       "    this.message = undefined;\n",
       "    this.canvas = undefined;\n",
       "    this.rubberband_canvas = undefined;\n",
       "    this.rubberband_context = undefined;\n",
       "    this.format_dropdown = undefined;\n",
       "\n",
       "    this.image_mode = 'full';\n",
       "\n",
       "    this.root = $('<div/>');\n",
       "    this._root_extra_style(this.root)\n",
       "    this.root.attr('style', 'display: inline-block');\n",
       "\n",
       "    $(parent_element).append(this.root);\n",
       "\n",
       "    this._init_header(this);\n",
       "    this._init_canvas(this);\n",
       "    this._init_toolbar(this);\n",
       "\n",
       "    var fig = this;\n",
       "\n",
       "    this.waiting = false;\n",
       "\n",
       "    this.ws.onopen =  function () {\n",
       "            fig.send_message(\"supports_binary\", {value: fig.supports_binary});\n",
       "            fig.send_message(\"send_image_mode\", {});\n",
       "            if (mpl.ratio != 1) {\n",
       "                fig.send_message(\"set_dpi_ratio\", {'dpi_ratio': mpl.ratio});\n",
       "            }\n",
       "            fig.send_message(\"refresh\", {});\n",
       "        }\n",
       "\n",
       "    this.imageObj.onload = function() {\n",
       "            if (fig.image_mode == 'full') {\n",
       "                // Full images could contain transparency (where diff images\n",
       "                // almost always do), so we need to clear the canvas so that\n",
       "                // there is no ghosting.\n",
       "                fig.context.clearRect(0, 0, fig.canvas.width, fig.canvas.height);\n",
       "            }\n",
       "            fig.context.drawImage(fig.imageObj, 0, 0);\n",
       "        };\n",
       "\n",
       "    this.imageObj.onunload = function() {\n",
       "        fig.ws.close();\n",
       "    }\n",
       "\n",
       "    this.ws.onmessage = this._make_on_message_function(this);\n",
       "\n",
       "    this.ondownload = ondownload;\n",
       "}\n",
       "\n",
       "mpl.figure.prototype._init_header = function() {\n",
       "    var titlebar = $(\n",
       "        '<div class=\"ui-dialog-titlebar ui-widget-header ui-corner-all ' +\n",
       "        'ui-helper-clearfix\"/>');\n",
       "    var titletext = $(\n",
       "        '<div class=\"ui-dialog-title\" style=\"width: 100%; ' +\n",
       "        'text-align: center; padding: 3px;\"/>');\n",
       "    titlebar.append(titletext)\n",
       "    this.root.append(titlebar);\n",
       "    this.header = titletext[0];\n",
       "}\n",
       "\n",
       "\n",
       "\n",
       "mpl.figure.prototype._canvas_extra_style = function(canvas_div) {\n",
       "\n",
       "}\n",
       "\n",
       "\n",
       "mpl.figure.prototype._root_extra_style = function(canvas_div) {\n",
       "\n",
       "}\n",
       "\n",
       "mpl.figure.prototype._init_canvas = function() {\n",
       "    var fig = this;\n",
       "\n",
       "    var canvas_div = $('<div/>');\n",
       "\n",
       "    canvas_div.attr('style', 'position: relative; clear: both; outline: 0');\n",
       "\n",
       "    function canvas_keyboard_event(event) {\n",
       "        return fig.key_event(event, event['data']);\n",
       "    }\n",
       "\n",
       "    canvas_div.keydown('key_press', canvas_keyboard_event);\n",
       "    canvas_div.keyup('key_release', canvas_keyboard_event);\n",
       "    this.canvas_div = canvas_div\n",
       "    this._canvas_extra_style(canvas_div)\n",
       "    this.root.append(canvas_div);\n",
       "\n",
       "    var canvas = $('<canvas/>');\n",
       "    canvas.addClass('mpl-canvas');\n",
       "    canvas.attr('style', \"left: 0; top: 0; z-index: 0; outline: 0\")\n",
       "\n",
       "    this.canvas = canvas[0];\n",
       "    this.context = canvas[0].getContext(\"2d\");\n",
       "\n",
       "    var backingStore = this.context.backingStorePixelRatio ||\n",
       "\tthis.context.webkitBackingStorePixelRatio ||\n",
       "\tthis.context.mozBackingStorePixelRatio ||\n",
       "\tthis.context.msBackingStorePixelRatio ||\n",
       "\tthis.context.oBackingStorePixelRatio ||\n",
       "\tthis.context.backingStorePixelRatio || 1;\n",
       "\n",
       "    mpl.ratio = (window.devicePixelRatio || 1) / backingStore;\n",
       "\n",
       "    var rubberband = $('<canvas/>');\n",
       "    rubberband.attr('style', \"position: absolute; left: 0; top: 0; z-index: 1;\")\n",
       "\n",
       "    var pass_mouse_events = true;\n",
       "\n",
       "    canvas_div.resizable({\n",
       "        start: function(event, ui) {\n",
       "            pass_mouse_events = false;\n",
       "        },\n",
       "        resize: function(event, ui) {\n",
       "            fig.request_resize(ui.size.width, ui.size.height);\n",
       "        },\n",
       "        stop: function(event, ui) {\n",
       "            pass_mouse_events = true;\n",
       "            fig.request_resize(ui.size.width, ui.size.height);\n",
       "        },\n",
       "    });\n",
       "\n",
       "    function mouse_event_fn(event) {\n",
       "        if (pass_mouse_events)\n",
       "            return fig.mouse_event(event, event['data']);\n",
       "    }\n",
       "\n",
       "    rubberband.mousedown('button_press', mouse_event_fn);\n",
       "    rubberband.mouseup('button_release', mouse_event_fn);\n",
       "    // Throttle sequential mouse events to 1 every 20ms.\n",
       "    rubberband.mousemove('motion_notify', mouse_event_fn);\n",
       "\n",
       "    rubberband.mouseenter('figure_enter', mouse_event_fn);\n",
       "    rubberband.mouseleave('figure_leave', mouse_event_fn);\n",
       "\n",
       "    canvas_div.on(\"wheel\", function (event) {\n",
       "        event = event.originalEvent;\n",
       "        event['data'] = 'scroll'\n",
       "        if (event.deltaY < 0) {\n",
       "            event.step = 1;\n",
       "        } else {\n",
       "            event.step = -1;\n",
       "        }\n",
       "        mouse_event_fn(event);\n",
       "    });\n",
       "\n",
       "    canvas_div.append(canvas);\n",
       "    canvas_div.append(rubberband);\n",
       "\n",
       "    this.rubberband = rubberband;\n",
       "    this.rubberband_canvas = rubberband[0];\n",
       "    this.rubberband_context = rubberband[0].getContext(\"2d\");\n",
       "    this.rubberband_context.strokeStyle = \"#000000\";\n",
       "\n",
       "    this._resize_canvas = function(width, height) {\n",
       "        // Keep the size of the canvas, canvas container, and rubber band\n",
       "        // canvas in synch.\n",
       "        canvas_div.css('width', width)\n",
       "        canvas_div.css('height', height)\n",
       "\n",
       "        canvas.attr('width', width * mpl.ratio);\n",
       "        canvas.attr('height', height * mpl.ratio);\n",
       "        canvas.attr('style', 'width: ' + width + 'px; height: ' + height + 'px;');\n",
       "\n",
       "        rubberband.attr('width', width);\n",
       "        rubberband.attr('height', height);\n",
       "    }\n",
       "\n",
       "    // Set the figure to an initial 600x600px, this will subsequently be updated\n",
       "    // upon first draw.\n",
       "    this._resize_canvas(600, 600);\n",
       "\n",
       "    // Disable right mouse context menu.\n",
       "    $(this.rubberband_canvas).bind(\"contextmenu\",function(e){\n",
       "        return false;\n",
       "    });\n",
       "\n",
       "    function set_focus () {\n",
       "        canvas.focus();\n",
       "        canvas_div.focus();\n",
       "    }\n",
       "\n",
       "    window.setTimeout(set_focus, 100);\n",
       "}\n",
       "\n",
       "mpl.figure.prototype._init_toolbar = function() {\n",
       "    var fig = this;\n",
       "\n",
       "    var nav_element = $('<div/>');\n",
       "    nav_element.attr('style', 'width: 100%');\n",
       "    this.root.append(nav_element);\n",
       "\n",
       "    // Define a callback function for later on.\n",
       "    function toolbar_event(event) {\n",
       "        return fig.toolbar_button_onclick(event['data']);\n",
       "    }\n",
       "    function toolbar_mouse_event(event) {\n",
       "        return fig.toolbar_button_onmouseover(event['data']);\n",
       "    }\n",
       "\n",
       "    for(var toolbar_ind in mpl.toolbar_items) {\n",
       "        var name = mpl.toolbar_items[toolbar_ind][0];\n",
       "        var tooltip = mpl.toolbar_items[toolbar_ind][1];\n",
       "        var image = mpl.toolbar_items[toolbar_ind][2];\n",
       "        var method_name = mpl.toolbar_items[toolbar_ind][3];\n",
       "\n",
       "        if (!name) {\n",
       "            // put a spacer in here.\n",
       "            continue;\n",
       "        }\n",
       "        var button = $('<button/>');\n",
       "        button.addClass('ui-button ui-widget ui-state-default ui-corner-all ' +\n",
       "                        'ui-button-icon-only');\n",
       "        button.attr('role', 'button');\n",
       "        button.attr('aria-disabled', 'false');\n",
       "        button.click(method_name, toolbar_event);\n",
       "        button.mouseover(tooltip, toolbar_mouse_event);\n",
       "\n",
       "        var icon_img = $('<span/>');\n",
       "        icon_img.addClass('ui-button-icon-primary ui-icon');\n",
       "        icon_img.addClass(image);\n",
       "        icon_img.addClass('ui-corner-all');\n",
       "\n",
       "        var tooltip_span = $('<span/>');\n",
       "        tooltip_span.addClass('ui-button-text');\n",
       "        tooltip_span.html(tooltip);\n",
       "\n",
       "        button.append(icon_img);\n",
       "        button.append(tooltip_span);\n",
       "\n",
       "        nav_element.append(button);\n",
       "    }\n",
       "\n",
       "    var fmt_picker_span = $('<span/>');\n",
       "\n",
       "    var fmt_picker = $('<select/>');\n",
       "    fmt_picker.addClass('mpl-toolbar-option ui-widget ui-widget-content');\n",
       "    fmt_picker_span.append(fmt_picker);\n",
       "    nav_element.append(fmt_picker_span);\n",
       "    this.format_dropdown = fmt_picker[0];\n",
       "\n",
       "    for (var ind in mpl.extensions) {\n",
       "        var fmt = mpl.extensions[ind];\n",
       "        var option = $(\n",
       "            '<option/>', {selected: fmt === mpl.default_extension}).html(fmt);\n",
       "        fmt_picker.append(option);\n",
       "    }\n",
       "\n",
       "    // Add hover states to the ui-buttons\n",
       "    $( \".ui-button\" ).hover(\n",
       "        function() { $(this).addClass(\"ui-state-hover\");},\n",
       "        function() { $(this).removeClass(\"ui-state-hover\");}\n",
       "    );\n",
       "\n",
       "    var status_bar = $('<span class=\"mpl-message\"/>');\n",
       "    nav_element.append(status_bar);\n",
       "    this.message = status_bar[0];\n",
       "}\n",
       "\n",
       "mpl.figure.prototype.request_resize = function(x_pixels, y_pixels) {\n",
       "    // Request matplotlib to resize the figure. Matplotlib will then trigger a resize in the client,\n",
       "    // which will in turn request a refresh of the image.\n",
       "    this.send_message('resize', {'width': x_pixels, 'height': y_pixels});\n",
       "}\n",
       "\n",
       "mpl.figure.prototype.send_message = function(type, properties) {\n",
       "    properties['type'] = type;\n",
       "    properties['figure_id'] = this.id;\n",
       "    this.ws.send(JSON.stringify(properties));\n",
       "}\n",
       "\n",
       "mpl.figure.prototype.send_draw_message = function() {\n",
       "    if (!this.waiting) {\n",
       "        this.waiting = true;\n",
       "        this.ws.send(JSON.stringify({type: \"draw\", figure_id: this.id}));\n",
       "    }\n",
       "}\n",
       "\n",
       "\n",
       "mpl.figure.prototype.handle_save = function(fig, msg) {\n",
       "    var format_dropdown = fig.format_dropdown;\n",
       "    var format = format_dropdown.options[format_dropdown.selectedIndex].value;\n",
       "    fig.ondownload(fig, format);\n",
       "}\n",
       "\n",
       "\n",
       "mpl.figure.prototype.handle_resize = function(fig, msg) {\n",
       "    var size = msg['size'];\n",
       "    if (size[0] != fig.canvas.width || size[1] != fig.canvas.height) {\n",
       "        fig._resize_canvas(size[0], size[1]);\n",
       "        fig.send_message(\"refresh\", {});\n",
       "    };\n",
       "}\n",
       "\n",
       "mpl.figure.prototype.handle_rubberband = function(fig, msg) {\n",
       "    var x0 = msg['x0'] / mpl.ratio;\n",
       "    var y0 = (fig.canvas.height - msg['y0']) / mpl.ratio;\n",
       "    var x1 = msg['x1'] / mpl.ratio;\n",
       "    var y1 = (fig.canvas.height - msg['y1']) / mpl.ratio;\n",
       "    x0 = Math.floor(x0) + 0.5;\n",
       "    y0 = Math.floor(y0) + 0.5;\n",
       "    x1 = Math.floor(x1) + 0.5;\n",
       "    y1 = Math.floor(y1) + 0.5;\n",
       "    var min_x = Math.min(x0, x1);\n",
       "    var min_y = Math.min(y0, y1);\n",
       "    var width = Math.abs(x1 - x0);\n",
       "    var height = Math.abs(y1 - y0);\n",
       "\n",
       "    fig.rubberband_context.clearRect(\n",
       "        0, 0, fig.canvas.width / mpl.ratio, fig.canvas.height / mpl.ratio);\n",
       "\n",
       "    fig.rubberband_context.strokeRect(min_x, min_y, width, height);\n",
       "}\n",
       "\n",
       "mpl.figure.prototype.handle_figure_label = function(fig, msg) {\n",
       "    // Updates the figure title.\n",
       "    fig.header.textContent = msg['label'];\n",
       "}\n",
       "\n",
       "mpl.figure.prototype.handle_cursor = function(fig, msg) {\n",
       "    var cursor = msg['cursor'];\n",
       "    switch(cursor)\n",
       "    {\n",
       "    case 0:\n",
       "        cursor = 'pointer';\n",
       "        break;\n",
       "    case 1:\n",
       "        cursor = 'default';\n",
       "        break;\n",
       "    case 2:\n",
       "        cursor = 'crosshair';\n",
       "        break;\n",
       "    case 3:\n",
       "        cursor = 'move';\n",
       "        break;\n",
       "    }\n",
       "    fig.rubberband_canvas.style.cursor = cursor;\n",
       "}\n",
       "\n",
       "mpl.figure.prototype.handle_message = function(fig, msg) {\n",
       "    fig.message.textContent = msg['message'];\n",
       "}\n",
       "\n",
       "mpl.figure.prototype.handle_draw = function(fig, msg) {\n",
       "    // Request the server to send over a new figure.\n",
       "    fig.send_draw_message();\n",
       "}\n",
       "\n",
       "mpl.figure.prototype.handle_image_mode = function(fig, msg) {\n",
       "    fig.image_mode = msg['mode'];\n",
       "}\n",
       "\n",
       "mpl.figure.prototype.updated_canvas_event = function() {\n",
       "    // Called whenever the canvas gets updated.\n",
       "    this.send_message(\"ack\", {});\n",
       "}\n",
       "\n",
       "// A function to construct a web socket function for onmessage handling.\n",
       "// Called in the figure constructor.\n",
       "mpl.figure.prototype._make_on_message_function = function(fig) {\n",
       "    return function socket_on_message(evt) {\n",
       "        if (evt.data instanceof Blob) {\n",
       "            /* FIXME: We get \"Resource interpreted as Image but\n",
       "             * transferred with MIME type text/plain:\" errors on\n",
       "             * Chrome.  But how to set the MIME type?  It doesn't seem\n",
       "             * to be part of the websocket stream */\n",
       "            evt.data.type = \"image/png\";\n",
       "\n",
       "            /* Free the memory for the previous frames */\n",
       "            if (fig.imageObj.src) {\n",
       "                (window.URL || window.webkitURL).revokeObjectURL(\n",
       "                    fig.imageObj.src);\n",
       "            }\n",
       "\n",
       "            fig.imageObj.src = (window.URL || window.webkitURL).createObjectURL(\n",
       "                evt.data);\n",
       "            fig.updated_canvas_event();\n",
       "            fig.waiting = false;\n",
       "            return;\n",
       "        }\n",
       "        else if (typeof evt.data === 'string' && evt.data.slice(0, 21) == \"data:image/png;base64\") {\n",
       "            fig.imageObj.src = evt.data;\n",
       "            fig.updated_canvas_event();\n",
       "            fig.waiting = false;\n",
       "            return;\n",
       "        }\n",
       "\n",
       "        var msg = JSON.parse(evt.data);\n",
       "        var msg_type = msg['type'];\n",
       "\n",
       "        // Call the  \"handle_{type}\" callback, which takes\n",
       "        // the figure and JSON message as its only arguments.\n",
       "        try {\n",
       "            var callback = fig[\"handle_\" + msg_type];\n",
       "        } catch (e) {\n",
       "            console.log(\"No handler for the '\" + msg_type + \"' message type: \", msg);\n",
       "            return;\n",
       "        }\n",
       "\n",
       "        if (callback) {\n",
       "            try {\n",
       "                // console.log(\"Handling '\" + msg_type + \"' message: \", msg);\n",
       "                callback(fig, msg);\n",
       "            } catch (e) {\n",
       "                console.log(\"Exception inside the 'handler_\" + msg_type + \"' callback:\", e, e.stack, msg);\n",
       "            }\n",
       "        }\n",
       "    };\n",
       "}\n",
       "\n",
       "// from http://stackoverflow.com/questions/1114465/getting-mouse-location-in-canvas\n",
       "mpl.findpos = function(e) {\n",
       "    //this section is from http://www.quirksmode.org/js/events_properties.html\n",
       "    var targ;\n",
       "    if (!e)\n",
       "        e = window.event;\n",
       "    if (e.target)\n",
       "        targ = e.target;\n",
       "    else if (e.srcElement)\n",
       "        targ = e.srcElement;\n",
       "    if (targ.nodeType == 3) // defeat Safari bug\n",
       "        targ = targ.parentNode;\n",
       "\n",
       "    // jQuery normalizes the pageX and pageY\n",
       "    // pageX,Y are the mouse positions relative to the document\n",
       "    // offset() returns the position of the element relative to the document\n",
       "    var x = e.pageX - $(targ).offset().left;\n",
       "    var y = e.pageY - $(targ).offset().top;\n",
       "\n",
       "    return {\"x\": x, \"y\": y};\n",
       "};\n",
       "\n",
       "/*\n",
       " * return a copy of an object with only non-object keys\n",
       " * we need this to avoid circular references\n",
       " * http://stackoverflow.com/a/24161582/3208463\n",
       " */\n",
       "function simpleKeys (original) {\n",
       "  return Object.keys(original).reduce(function (obj, key) {\n",
       "    if (typeof original[key] !== 'object')\n",
       "        obj[key] = original[key]\n",
       "    return obj;\n",
       "  }, {});\n",
       "}\n",
       "\n",
       "mpl.figure.prototype.mouse_event = function(event, name) {\n",
       "    var canvas_pos = mpl.findpos(event)\n",
       "\n",
       "    if (name === 'button_press')\n",
       "    {\n",
       "        this.canvas.focus();\n",
       "        this.canvas_div.focus();\n",
       "    }\n",
       "\n",
       "    var x = canvas_pos.x * mpl.ratio;\n",
       "    var y = canvas_pos.y * mpl.ratio;\n",
       "\n",
       "    this.send_message(name, {x: x, y: y, button: event.button,\n",
       "                             step: event.step,\n",
       "                             guiEvent: simpleKeys(event)});\n",
       "\n",
       "    /* This prevents the web browser from automatically changing to\n",
       "     * the text insertion cursor when the button is pressed.  We want\n",
       "     * to control all of the cursor setting manually through the\n",
       "     * 'cursor' event from matplotlib */\n",
       "    event.preventDefault();\n",
       "    return false;\n",
       "}\n",
       "\n",
       "mpl.figure.prototype._key_event_extra = function(event, name) {\n",
       "    // Handle any extra behaviour associated with a key event\n",
       "}\n",
       "\n",
       "mpl.figure.prototype.key_event = function(event, name) {\n",
       "\n",
       "    // Prevent repeat events\n",
       "    if (name == 'key_press')\n",
       "    {\n",
       "        if (event.which === this._key)\n",
       "            return;\n",
       "        else\n",
       "            this._key = event.which;\n",
       "    }\n",
       "    if (name == 'key_release')\n",
       "        this._key = null;\n",
       "\n",
       "    var value = '';\n",
       "    if (event.ctrlKey && event.which != 17)\n",
       "        value += \"ctrl+\";\n",
       "    if (event.altKey && event.which != 18)\n",
       "        value += \"alt+\";\n",
       "    if (event.shiftKey && event.which != 16)\n",
       "        value += \"shift+\";\n",
       "\n",
       "    value += 'k';\n",
       "    value += event.which.toString();\n",
       "\n",
       "    this._key_event_extra(event, name);\n",
       "\n",
       "    this.send_message(name, {key: value,\n",
       "                             guiEvent: simpleKeys(event)});\n",
       "    return false;\n",
       "}\n",
       "\n",
       "mpl.figure.prototype.toolbar_button_onclick = function(name) {\n",
       "    if (name == 'download') {\n",
       "        this.handle_save(this, null);\n",
       "    } else {\n",
       "        this.send_message(\"toolbar_button\", {name: name});\n",
       "    }\n",
       "};\n",
       "\n",
       "mpl.figure.prototype.toolbar_button_onmouseover = function(tooltip) {\n",
       "    this.message.textContent = tooltip;\n",
       "};\n",
       "mpl.toolbar_items = [[\"Home\", \"Reset original view\", \"fa fa-home icon-home\", \"home\"], [\"Back\", \"Back to previous view\", \"fa fa-arrow-left icon-arrow-left\", \"back\"], [\"Forward\", \"Forward to next view\", \"fa fa-arrow-right icon-arrow-right\", \"forward\"], [\"\", \"\", \"\", \"\"], [\"Pan\", \"Pan axes with left mouse, zoom with right\", \"fa fa-arrows icon-move\", \"pan\"], [\"Zoom\", \"Zoom to rectangle\", \"fa fa-square-o icon-check-empty\", \"zoom\"], [\"\", \"\", \"\", \"\"], [\"Download\", \"Download plot\", \"fa fa-floppy-o icon-save\", \"download\"]];\n",
       "\n",
       "mpl.extensions = [\"eps\", \"jpeg\", \"pdf\", \"png\", \"ps\", \"raw\", \"svg\", \"tif\"];\n",
       "\n",
       "mpl.default_extension = \"png\";var comm_websocket_adapter = function(comm) {\n",
       "    // Create a \"websocket\"-like object which calls the given IPython comm\n",
       "    // object with the appropriate methods. Currently this is a non binary\n",
       "    // socket, so there is still some room for performance tuning.\n",
       "    var ws = {};\n",
       "\n",
       "    ws.close = function() {\n",
       "        comm.close()\n",
       "    };\n",
       "    ws.send = function(m) {\n",
       "        //console.log('sending', m);\n",
       "        comm.send(m);\n",
       "    };\n",
       "    // Register the callback with on_msg.\n",
       "    comm.on_msg(function(msg) {\n",
       "        //console.log('receiving', msg['content']['data'], msg);\n",
       "        // Pass the mpl event to the overridden (by mpl) onmessage function.\n",
       "        ws.onmessage(msg['content']['data'])\n",
       "    });\n",
       "    return ws;\n",
       "}\n",
       "\n",
       "mpl.mpl_figure_comm = function(comm, msg) {\n",
       "    // This is the function which gets called when the mpl process\n",
       "    // starts-up an IPython Comm through the \"matplotlib\" channel.\n",
       "\n",
       "    var id = msg.content.data.id;\n",
       "    // Get hold of the div created by the display call when the Comm\n",
       "    // socket was opened in Python.\n",
       "    var element = $(\"#\" + id);\n",
       "    var ws_proxy = comm_websocket_adapter(comm)\n",
       "\n",
       "    function ondownload(figure, format) {\n",
       "        window.open(figure.imageObj.src);\n",
       "    }\n",
       "\n",
       "    var fig = new mpl.figure(id, ws_proxy,\n",
       "                           ondownload,\n",
       "                           element.get(0));\n",
       "\n",
       "    // Call onopen now - mpl needs it, as it is assuming we've passed it a real\n",
       "    // web socket which is closed, not our websocket->open comm proxy.\n",
       "    ws_proxy.onopen();\n",
       "\n",
       "    fig.parent_element = element.get(0);\n",
       "    fig.cell_info = mpl.find_output_cell(\"<div id='\" + id + \"'></div>\");\n",
       "    if (!fig.cell_info) {\n",
       "        console.error(\"Failed to find cell for figure\", id, fig);\n",
       "        return;\n",
       "    }\n",
       "\n",
       "    var output_index = fig.cell_info[2]\n",
       "    var cell = fig.cell_info[0];\n",
       "\n",
       "};\n",
       "\n",
       "mpl.figure.prototype.handle_close = function(fig, msg) {\n",
       "    var width = fig.canvas.width/mpl.ratio\n",
       "    fig.root.unbind('remove')\n",
       "\n",
       "    // Update the output cell to use the data from the current canvas.\n",
       "    fig.push_to_output();\n",
       "    var dataURL = fig.canvas.toDataURL();\n",
       "    // Re-enable the keyboard manager in IPython - without this line, in FF,\n",
       "    // the notebook keyboard shortcuts fail.\n",
       "    IPython.keyboard_manager.enable()\n",
       "    $(fig.parent_element).html('<img src=\"' + dataURL + '\" width=\"' + width + '\">');\n",
       "    fig.close_ws(fig, msg);\n",
       "}\n",
       "\n",
       "mpl.figure.prototype.close_ws = function(fig, msg){\n",
       "    fig.send_message('closing', msg);\n",
       "    // fig.ws.close()\n",
       "}\n",
       "\n",
       "mpl.figure.prototype.push_to_output = function(remove_interactive) {\n",
       "    // Turn the data on the canvas into data in the output cell.\n",
       "    var width = this.canvas.width/mpl.ratio\n",
       "    var dataURL = this.canvas.toDataURL();\n",
       "    this.cell_info[1]['text/html'] = '<img src=\"' + dataURL + '\" width=\"' + width + '\">';\n",
       "}\n",
       "\n",
       "mpl.figure.prototype.updated_canvas_event = function() {\n",
       "    // Tell IPython that the notebook contents must change.\n",
       "    IPython.notebook.set_dirty(true);\n",
       "    this.send_message(\"ack\", {});\n",
       "    var fig = this;\n",
       "    // Wait a second, then push the new image to the DOM so\n",
       "    // that it is saved nicely (might be nice to debounce this).\n",
       "    setTimeout(function () { fig.push_to_output() }, 1000);\n",
       "}\n",
       "\n",
       "mpl.figure.prototype._init_toolbar = function() {\n",
       "    var fig = this;\n",
       "\n",
       "    var nav_element = $('<div/>');\n",
       "    nav_element.attr('style', 'width: 100%');\n",
       "    this.root.append(nav_element);\n",
       "\n",
       "    // Define a callback function for later on.\n",
       "    function toolbar_event(event) {\n",
       "        return fig.toolbar_button_onclick(event['data']);\n",
       "    }\n",
       "    function toolbar_mouse_event(event) {\n",
       "        return fig.toolbar_button_onmouseover(event['data']);\n",
       "    }\n",
       "\n",
       "    for(var toolbar_ind in mpl.toolbar_items){\n",
       "        var name = mpl.toolbar_items[toolbar_ind][0];\n",
       "        var tooltip = mpl.toolbar_items[toolbar_ind][1];\n",
       "        var image = mpl.toolbar_items[toolbar_ind][2];\n",
       "        var method_name = mpl.toolbar_items[toolbar_ind][3];\n",
       "\n",
       "        if (!name) { continue; };\n",
       "\n",
       "        var button = $('<button class=\"btn btn-default\" href=\"#\" title=\"' + name + '\"><i class=\"fa ' + image + ' fa-lg\"></i></button>');\n",
       "        button.click(method_name, toolbar_event);\n",
       "        button.mouseover(tooltip, toolbar_mouse_event);\n",
       "        nav_element.append(button);\n",
       "    }\n",
       "\n",
       "    // Add the status bar.\n",
       "    var status_bar = $('<span class=\"mpl-message\" style=\"text-align:right; float: right;\"/>');\n",
       "    nav_element.append(status_bar);\n",
       "    this.message = status_bar[0];\n",
       "\n",
       "    // Add the close button to the window.\n",
       "    var buttongrp = $('<div class=\"btn-group inline pull-right\"></div>');\n",
       "    var button = $('<button class=\"btn btn-mini btn-primary\" href=\"#\" title=\"Stop Interaction\"><i class=\"fa fa-power-off icon-remove icon-large\"></i></button>');\n",
       "    button.click(function (evt) { fig.handle_close(fig, {}); } );\n",
       "    button.mouseover('Stop Interaction', toolbar_mouse_event);\n",
       "    buttongrp.append(button);\n",
       "    var titlebar = this.root.find($('.ui-dialog-titlebar'));\n",
       "    titlebar.prepend(buttongrp);\n",
       "}\n",
       "\n",
       "mpl.figure.prototype._root_extra_style = function(el){\n",
       "    var fig = this\n",
       "    el.on(\"remove\", function(){\n",
       "\tfig.close_ws(fig, {});\n",
       "    });\n",
       "}\n",
       "\n",
       "mpl.figure.prototype._canvas_extra_style = function(el){\n",
       "    // this is important to make the div 'focusable\n",
       "    el.attr('tabindex', 0)\n",
       "    // reach out to IPython and tell the keyboard manager to turn it's self\n",
       "    // off when our div gets focus\n",
       "\n",
       "    // location in version 3\n",
       "    if (IPython.notebook.keyboard_manager) {\n",
       "        IPython.notebook.keyboard_manager.register_events(el);\n",
       "    }\n",
       "    else {\n",
       "        // location in version 2\n",
       "        IPython.keyboard_manager.register_events(el);\n",
       "    }\n",
       "\n",
       "}\n",
       "\n",
       "mpl.figure.prototype._key_event_extra = function(event, name) {\n",
       "    var manager = IPython.notebook.keyboard_manager;\n",
       "    if (!manager)\n",
       "        manager = IPython.keyboard_manager;\n",
       "\n",
       "    // Check for shift+enter\n",
       "    if (event.shiftKey && event.which == 13) {\n",
       "        this.canvas_div.blur();\n",
       "        // select the cell after this one\n",
       "        var index = IPython.notebook.find_cell_index(this.cell_info[0]);\n",
       "        IPython.notebook.select(index + 1);\n",
       "    }\n",
       "}\n",
       "\n",
       "mpl.figure.prototype.handle_save = function(fig, msg) {\n",
       "    fig.ondownload(fig, null);\n",
       "}\n",
       "\n",
       "\n",
       "mpl.find_output_cell = function(html_output) {\n",
       "    // Return the cell and output element which can be found *uniquely* in the notebook.\n",
       "    // Note - this is a bit hacky, but it is done because the \"notebook_saving.Notebook\"\n",
       "    // IPython event is triggered only after the cells have been serialised, which for\n",
       "    // our purposes (turning an active figure into a static one), is too late.\n",
       "    var cells = IPython.notebook.get_cells();\n",
       "    var ncells = cells.length;\n",
       "    for (var i=0; i<ncells; i++) {\n",
       "        var cell = cells[i];\n",
       "        if (cell.cell_type === 'code'){\n",
       "            for (var j=0; j<cell.output_area.outputs.length; j++) {\n",
       "                var data = cell.output_area.outputs[j];\n",
       "                if (data.data) {\n",
       "                    // IPython >= 3 moved mimebundle to data attribute of output\n",
       "                    data = data.data;\n",
       "                }\n",
       "                if (data['text/html'] == html_output) {\n",
       "                    return [cell, data, j];\n",
       "                }\n",
       "            }\n",
       "        }\n",
       "    }\n",
       "}\n",
       "\n",
       "// Register the function which deals with the matplotlib target/channel.\n",
       "// The kernel may be null if the page has been refreshed.\n",
       "if (IPython.notebook.kernel != null) {\n",
       "    IPython.notebook.kernel.comm_manager.register_target('matplotlib', mpl.mpl_figure_comm);\n",
       "}\n"
      ],
      "text/plain": [
       "<IPython.core.display.Javascript object>"
      ]
     },
     "metadata": {},
     "output_type": "display_data"
    },
    {
     "data": {
      "text/html": [
       "<img src=\"data:image/png;base64,iVBORw0KGgoAAAANSUhEUgAAAu4AAAH0CAYAAABiuKiqAAAgAElEQVR4XuydCfhW0/bHlwYpGZKxQRoplAahjMkUKXXdzEKUzGMSFZUQGTNLhsvtomsWMg+hQoMpmlNUCqVR+j+f3f90z+/9nfd913nn9/zWep4e6d1n2N+z9lrfvfbaa2+2YcOGDWJiCBgChoAhYAgYAoaAIWAIGAIFjcBmRtwL+vvYyxkChoAhYAgYAoaAIWAIGAIOASPupgiGgCFgCBgChoAhYAgYAoZAESBgxL0IPpK9oiFgCBgChoAhYAgYAoaAIWDE3XTAEDAEDAFDwBAwBAwBQ8AQKAIEjLgXwUeyVzQEDAFDwBAwBAwBQ8AQMASMuJsOGAKGgCFgCBgChoAhYAgYAkWAgBH3IvhI9oqGgCFgCBgChoAhYAgYAoaAEXfTAUPAEDAEDAFDwBAwBAwBQ6AIEDDiXgQfyV7REDAEDAFDwBAwBAwBQ8AQMOJuOmAIGAKGgCFgCBgChoAhYAgUAQJG3IvgI9krGgKGgCFgCBgChoAhYAgYAkbcTQcMAUPAEDAEDAFDwBAwBAyBIkDAiHsRfCR7RUPAEDAEDAFDwBAwBAwBQ8CIu+mAIWAIGAKGgCFgCBgChoAhUAQIGHEvgo9kr2gIGAKGgCFgCBgChoAhYAgYcTcdMAQMAUPAEDAEDAFDwBAwBIoAASPuRfCR7BUNAUPAEDAEDAFDwBAwBAwBI+6mA4aAIWAIGAKGgCFgCBgChkARIGDEvQg+kr2iIWAIGAKGgCFgCBgChoAhYMS9QHVgs802c2+2YcOGuG84cOBAueGGG2TAgAHC31OVJUuWyF133SWvvPKKzJo1S9auXSs1atSQdu3aycUXXyx77bVXqrdWX0c/brzxRpk6dao0adJEfZ01/B8C6EydOnVk9uzZWYUlV88J04nu3bvL448/Lu+++64ceuih7tKFCxdKvXr15Oyzz5YRI0aEuZ1rqxmDYW569913y4MPPig//vijG2OHHHKIvPfee2FuUdBtg76B5oXfeust930+/fRTWbp0qWy11Vay0047SfPmzd23PPPMM2XzzTfX3Mra5AiBePbaGzPea/D/fM/GjRtLt27d5MILL5SKFSuWekvNWEvk72KfG/uARGOtYcOG8vfff8uMGTNKXPbzzz/LLbfcIq+++qrMmzdPKleuLHXr1pXDDz9cbr311lBIDx8+XD766CPn3xYtWiSrV6+WnXfe2en31VdfLXvuuWep+02aNEkYG59//rl89tlnsmDBAqlUqZK7NpmsXLlSHn30UXn55ZfdM3/99Vd3be3atWW//faTLl26yLHHHivlypUrcat0bWay97LfM4OAEffM4Jjxu6RryLQvNG7cODnxxBPlt99+kx122EEOOOAAN8AZ7N99952UL19eBg8eLNdcc432lqHb/fLLL9KgQQNnSP7973+Hvj7dCyC6GORCJlKad8wVoc7Vc8J813ik8ZJLLpH77rtPpk2bJrvvvnuYW2aUuI8ZM0a6du0q1apVc45/yy23lD322COr4ypUZzPQOBXiTtCBCTtCgKBRo0bO5nz//ffOBhG4gExAcgpZNOOzkN8/zLslstee32Kyhaxfv94FEj755BNHjtH9sWPHSoUKFUo8Ml1/F/vc2P7EG2v4OCYVl156qdxxxx2bLhs/frx06NDB+UUCSejm8uXL5ZtvvpH58+fLX3/9FQYy2X777eXPP/+Upk2bSs2aNd21X3/9tUyfPt1NSl944QU55phjStyzc+fO8uKLL5b4Nw1x593/8Y9/OKK/xRZbSOvWrV0gDsL/ww8/uOcivMvkyZNL9SMdmxkKFGucMgJG3FOGLrsXpmvING83YcIEOfDAA2XdunVy0003yZVXXlnCoL722mty2mmnybJly1xEnuh7NgRDQTTyq6++kmbNmmXjEQnvWQxOV/OOOCGiWfXr188qhrl6TphOxCONP/30k+y6667OkY0ePTrMLTNK3M844wx58skn5e2333YrWVGUsMR94sSJsu+++zri8t///tcRJb/w7R5++GHBPjDhKWTRjM9Cfv8w75bIXsfzW0SMiS5DHhkH+BW/pOvvNNcH9ZHIeZ8+fUqMSwgvEfA1a9bIv/71LznhhBNKXEoEHDIcRj7++GNp2bKlI9J+uf/++6V3796OWM+dO9dNWj0h2k/knDHCHyavyYg7PpTgG+9Ov6699lq34uEXdJUVgMcee8xNRmIlHZsZBhNrmzoCRtxTxy6rV2oMUTqpMkSyME7ffvutDBo0SK677rrA/nzwwQfO4GIwIGykYmRSMEwYLe4bNPvP5LPi3asYnG4xvGMuvlW8ZyQije3btxf0mOVuUjC0ohmD2ntB1knjIRVtt912015WVO3CEvd+/fq5gAEkDjJXzFJWxmcye51ozJx//vnywAMPBH5vzVjTpMokSi0N0q+DDjrIrewsXrx4UwqPN8m+5557XGpPtoVUHdLniIQnShMFo0TEnb7vvffe7j5Dhw5NuppHKg6TiSBJ1WZmGyu7/0YEjLgXqCaka8iSdYtoOqkpLNtBJoLyDr17kJv4n//8R6666qrQuX3J3oO8ZBw+0QVy/fzid4avv/66y+d/5plnhNxDcvXOPfdcd028/EaWDG+++Wa3TPvHH3/ILrvs4qJ6TFKYLCCeMwh6T5Z7R40alawL7nfNs7wb+fv10ksvyfXXXy+kUuA8SNk577zzXJTRyz/UvmNQCov/WeRq8qxnn31W2NfAEjGYduzY0b0a/z5s2DBn+KtWrepyUvku5Hb6Jeg5kNE5c+YkxCrWqfJuOJg33njDpUNsvfXWLl2pf//+bhk3SJ5//nn3Tjhb2h911FHuGxNZis1x964fOXKknHPOOa4dUSitBI3BsDqZ6Nt5+fix+sA3QR9Ykr/gggvkzjvvdHm29B09IyJGCgLpZXyjK664wjn0eGMHHQu6p18fw3yHVL5BEOboORH1yy67zEUANRJ27MTeM6zOEQUlKouOMvEjxYkVLdIYeG/GhmZ8ar4x+x0OO+wwl9MfZHeCJkbZGN+JvkMie+0IRYK9Wffee69cdNFFcuSRRzo8Y20K/5/qni6Nv4ztFzaQKDapovgVhNVl/ASRcfxMbIRco6Nh25DGQ2oYaSyM6XiSjLhjI4477jgXBJs5c2ap/PUw75WqzQzzDGubOgJG3FPHLqtXagxROhF3IglsCIvN7QvqFHl2OCry/CBMmRSM5nPPPec238QuP3pOiaU/lhAhlF6b999/3y27ErUjBz9WnnrqKTchIK+yTZs2juh/8cUXLqeQqCtOEoNJbiFtISP8+9FHH73pVqQR9ejRI2l3tc/yEyUI+v777+/SlNgURUSWDYukUqxatcq9O0uZiPYdExF3MPQ2YPHcFStWuCg015BzyndlEsSSLDh8+OGHbkPTKaec4paLY51s7CZY0qxwhLGC88NJMwmBbHrCRi0mjkyoWPlhEgEhZYMizhInBInxi+f40QUIPnmjvCf5sqRYsbnavznVuxYnBtkiukaftZKIuGt1km/HHzAmN5g8dyZFCPtG0EFPz9FtdIAJEP0DMyYw5IFDMMiRBStSf8CNJXuIBrrz5ptvllhm19yTdwj7HVL9BkGYk9tO3+gPaTPssUkmXr+0Y8d/v7B9RVeOP/54+f33390m51atWrlvQJ4zwQ5v9UQzPjXfIx3insnxnegbJLLXXJfIbzE5ZIIdtMKSrr/TXB/bryeeeMJNkrBv2DkEG0IgA9uE3yOFC73BTjNW//nPf4ZatUumz947sLeD1e/YzaKxdjdRxN3z6Uzkb7vttmSPTvh7qjYzrYfaxWoEjLirocptQ40hSoe4Q0rJuwvKN4ztKZE/iC9GBbKcKDofFiWiGxBEcu3iRQ25J6SLKCRkDcHR46zIj4UQeWSI34iMsRERY4vhJQqBQFwxakQwIagQHySdZe6wz/I/j79DzCDrXr8g8QcffLDbWITjgDho3zERcecepDyBoZcvTFTvrLPOclEeqnlAQMAZ4flU9aACAu8EcfFEuzkVXeGZTMqIWrJig0A6+T5896efftrln3vCZmmcJiQO5+FVE+Eb4TgRSLBXOYaleyaVVF9Agog7/8790DFIWKyexdPZRMQ9rE7yvkw2g1JlPP3jnug0q2Hbbrttidfi2xxxxBEu4usJ/YFwQDaIhLLE74nmnmG/Q7rfIBZn9IpgAHrC6gnfEf0DA1IGglbS/P3Sjp1UdI4JETrKKhibFlkB878PpJ7J4jbbbKMan5rvkQ5xz+T4jjce+PdE9prfE/ktJqPgRqDj1FNPLfGYdP2d5vrYfmF3sLHYOM8msprHhJpKVBBpVrj8wvgjoMIEJhXxVjSZAHJ/glGs/rIqFi9txW93ExF3xg6TjCB8U3nXVGxmKs+xa8IjYMQ9PGY5uSJe+kfQw1MpB0mEk5x1oqEsXSYSNrp4S4ZEUMPkCSe6LwaTe5HjRyQ8Vjxnx4QBI0dUwi+QWspdxZI1r1LF6aefLkQ0/EJfIKEQU4wykbt0iHvYZ/EufidOpBRC5hfyQMkH9S8pa94xEXEnSs339i/FMpEhkgs5IT2FdAq/XH755Y604KhYAfA7EE3ZSfDHicR+ByZOpBn07dvX5TjHCr/RhlUQypYhvB97MUiPeuihh0pcwjIz+swyezzi7k1U2UcRLw0n9j0SEfewOqkl7mwYJ7KrFXJjGT/gBF6e+HUs3j3Dfod0v0FQn9B/Jo+MR7/suOOOLhpKhNY/iUll7HDfsH31Ni0y6cfGJJNk41PzPdIh7pkc3/H6msxec13smMHGMFklAoxdw2ajp/GqyiTDmd+D/F0yf8lEzK9HrGwRLGnRokWJkqyQdsg77wdJpmgC78wKJTnvpHQRTGBMae2Iv0/kjhOo8YSAGMEzJjXJJFmqjOfTCWyQQhgrfhvu/YafoTxkkKRiM5P1wX7PDAJG3DODY8bv4hkir6xW0APYQQ4RSYW4e3l18Qa5/3lExLw8Z6LbONVMCCX62ExDigBR2VjxnB1EO7bGLm1Jz7j99ttd1Pbkk0/edLm3ETBe30gPokqOFwVO5nQT9TXss7iX97ztttvORZ1jhUgokTxWEfg7uqB5x0TEnVQRSF6ssPLA6gUpJxhqv5BKxfIr5BqS7Ykm4u5FrnAKRJr9UW4i6kSVg9KjeAaOnWgYTpTldcTDmcg6zi9WiFaRChWPuHuTPCL6lKTTSCLiHlYnNcSdaGYsgfW/Jzmw4MZ3JGIHKWKywuSUcTRlypRNzT19SXTPsN8h3W8QD3Mm00Qc+bboBHaBviFMNNmj4qXRpDJ2uE/YvjJp5n0g7d6KXSKdSTY+Nd8jHeKeyfEdr5/J7DXXJSLQ7DNh0h2UDpKuv0t2PSVhq1SpsqlrBKxIi8R/EKDwhFVBL82EMxfYh+EXL1WIFQOCEqkKZSZJTyRdDJtEuidpn4kkGXH3fHq8YFzQtyG3/6STTgp8bCo2M1U87LpwCBhxD4dXzlprlv6CUmWIjuLIMbIQbqLUGKbYpUlvNk1bIqKJhHQQ8lB5J5yslyqjfVa8e5Oqw3tApDBeseI5O1JHIH+x4vU/NiLsGTAizEG1u73om5ffn8zpJsIm7LO4l/c8UlEgm0HC0i3GnT+QeM07JiLu8TD0CCVpKeTd+8VLpYmdGCYj7qRudOrUyS0BE5mKrcFNnjZ5wsmE/QVsXkQ8nImux6688Dsl20gniUfcyasll9UfxU/2/ETEPaxOaog7kxxy/GMFcs4kldWPeJv32BxMZNMTT1/i3ZN2Yb9Dut8gGd7e76wAoXuMb1Kh/HqQythJpa9e9BI95e/JJNn41HyPdIh7Jsd3qvaa62IJND6IABPjFnnkkUfcRvFYSdXfeffRXO9/ppcPzkovK1aeePsumFyge7FpdRRJoMABRR1IIUWCItmkffEnmZDOSWoYfoBJK4GUeJKMuHs+3Z+zH+9e3kbnRMQ9FZuZrL/2e2YQMOKeGRwzfheNIQoi7gw2oo8MYsgfOd5U0mCAUoHCE6pVEIUgdxMim0ggRBCj2M2p2mfFu7cXwfHnm/vbJnOGyYh7PJLnEXevmkWy5yTCJhmZiX0W99KQD5Z1ycfOFHGPd7hUIkKZCnGH6JB+xAElRPGD8jY9zIhe+aNgsTj7NwczAcPJxjpa75pkxJ0NZ0woMhVxj4dnPJ3UEPd49+RQMlaUatWq5cYqjp4INBNolvwhF7GpSxqdDvsd0v0GYY2ktxHWv2qQytjhuWH76hF3UvS8vRWJ3j8Z3sl+597JiLtXptA/OU1231TGd6r2muvi+S0v9YiVWzCNLSucqr9LlbjzfN6F4I5fvM2iBB3YLB8rvDv7L7yx5++zv22YVXDy3ikMQMUv7zCyoG+QjLh7Pl2zOVVD3FOxmWHHuLVPDQEj7qnhlvWr0jVk/hckQoCR8ufAervnNeUg2UlPqUCifhiZRBL0rHjtvZzJeMu8yZxSPJKULH3Fy6HORapM7LP8xL169eqBlVi8VBk2QrEBMROpMrkg7mxwZRJG9B6y6Z8o+nXAy/MMk29OhRmITaqpMqnkayaKuOeSuHvlWIPSNryTH1Mh7mG/Q7rfIKzR9Cb2fpLk2YQwY4fnhu1rtlJlEp3OTEpQ27ZtXeUhKm3Fiod/voh7MnudiLjzG3nX3p4Gyg36JV1/p7neex52Z5999gn0Z6SvkLuOvyQdLTa9hM2fbAIlKIa9y4SwYsxm2F69egkHMsWTZMTd8+macpAa4p6KzcwEHnaP5AgYcU+OUV5aaAyRtqoM5RDJgSVnzxNySIkcEJXWHMCE86RtssNjgp6VCECiaZQRhKzG1gtPlbgn2jBKhJL8ZKIp3uZU8oqZwOA0McxhJOyz/MSdvwcRUb4TRpxNqzg6RPOOiVJlsk3cibBDdiAV1MlHp+IJ9dTJmWczLBseNUI0ijxQck79esy1ROGJkKLT8VJlvCPHWcHIRFWZXBJ3j0QGnSzsLe2nQtzDfod0v0HsdybtJ1FOtFeG1t83/yZP7djhuWH76kWIiTqSf59Mko3PZLaM+5PqhG2K3a/Ab+yF4TfsZL6IO++RyF7zeyK/hf6yGZSNtOzT8Efd0/V3muu9b4htwu5Q4carouX/vuDMt/D8g/83bBDjIF56ZzI9CfrdI9EExQiOxZNkxB37x6o4qwKx+5Ji76kh7qnYzFT6b9eER8CIe3jMcnKFxhBpiDtl4qjEQf4cOdV+IZ+W3EhIF5sAMRr+I5fJ5yM3nh357KYnepxIEj0r3nVeNJ98d0i/X5I5u3gRdw5NYXmb/EHSfNiYhmDYWJJkQ5I/PQcyz0ZQonjkLfoxSPaxwz6L+/nJB5Ef0jd4tue8cSZMLEhz8vIkNe+YT+LOsd1Ei3hfSk4mImReqT1ICNfgRPztiXSxOsTKCekhCFF8yDm5p0xmPIdLzXsqqrARGQki7mxsZpNjvDzgRI6S3/x55anqZDqpMl4+LhiTPuJhRSoSK1xUvEiFuIf9Dul8gyCMmeCh11S2iN1fwUbcY445xm1K9x/QlMrY4dlh+0o0ldQgggpUEyENwa+jYE9k1isHmWx8JtMbDx++IzYFu8U+EYTxwD4k7EGsjie7byZTZXh2InvN78n8lpfShi6z+d2TZNfRLlMnp1IMAb1iBSHI1nuBE3wEm8G9Ur2cNMrKDZN/VqD9ZWwT+Ql0hYkdKyn+ajr4JyrtsNeKYAKBMarMJLJHicpBch3vSAAKfSRFlqpMW221VYlbck4EqXdMTOLluKdqM5P5S/s9MwgYcc8Mjhm/S7qGjBciUsQyOzv5421AhfCwq5x8aqrFkD+LcWDJ0DsQgsgoTjaRaJ4VdL13El/QrvpkTikecec5/kORMGTeAUwYR/8BTN47eTvo2bBHVIiSX1xHqbpkEvZZXr/IBcfAEt3xH8DEpqigQ0qSvWO+iLu3eRmc/AcMxeLmPw2SiRr9gSBBVogUoXeQFvQOsvLll1+6JW1PvP0COFsIiXcAE2SedvEOYHr00UfdBsdMn5xK6k6sZCPHnRUFdBJMWCWDMDKxY3XIy2dNhbjz7mG/Q6rfIGgMedWd0FtIMhMzVvbQAc5YYKLNHgnK58XWSw87dlLpK5NAyDPpaqTz8S6MTWpv+w9g0tiQZLbMu4eXNoGOM9EkoAAW1LkHH+xsPiPuiew1fUjmt0hTIYDEWAdDb+N6susyRdw5oZnVVQJSlGEMEvQOnwg5p/IXASUmx6QyYa+DStIm8hHeXiHsFTrkpXnhY3kfSi2DK5Miv3AInX/lkuAbOPkPKiT67wWmvGuxC0wqqADHvWlPzj5BDgJT2FX6iK8jJStoD0eqNjOZr7TfM4OAEffM4Jjxu6RryMgxhnQmIu3eS1PFgfKIEB+iakQCWBJlOZAjqpPVqw3zrFigMCY8C2OKQ/RLMmeXiLhzHwwtZI3/Et3lORg5ym7xPL8QfWHFgeV38OCUz3hHjwd97DDP8veLdACiIkTYiO4RecQxQGpio0HJ3jFfxN0fBU00EGIrohCFYiUHB0UUiP7iYHDsRNGJ3nsHMHn3xZlSapL8ZyJJpJGQ1sA3xfkFRdzRY6JeTDDCnEFQKDnu9J3JDBE0nDckAqJLpBpdSeW7+79T2O+QyjcI0gv0nVU9ytdB6HgPxikbs0kXgXww4fLrQKpjx3t+2L5iD9E33hGSBYGGxKObjFHvfAvun2h8JrNlfnwgeqwKMmEjl5p0HewYk7RYHU9230xH3BPZaw1xpw2Te1blKL3I2NVel4mIO1WqSLcbPXp0KaLs/wYQW6LhVMEh2MMY48AtUhiTVWGL1XUmKNyHymjoE3qPTpN2SsDm4osvLnG+hne9R/gT2dTYimpeWyb59JV9MdhKVpyYLLGCyUoChQFYrYu3upyqzcw4EbIbBiJgxD2CisGAhXBj5ONtEMxUtzPxLG8DJ8t8RBajLsmcbdT7n8v+EWEiGg0JxFmbFDcCNnby//2K2V4zCWISBnlmEmZSGgGzmYWvFUbcC/8bhXpDaj0TySB/0MuR5AbMrL1DTELdMEHjTD2LSBVRLHJa//Of/2Tq9Qr2PkY+cvdpKHdK2VOiTkE1/XP3JvakTCBgYycTKKZ3j2K210T4Sbvq2bNneiBE+GqzmYX/cY24F/43CvWGLL+RdhArmiPqQz1IxC31ZepZVMcgl568P/J4oyxGPnLzdUltoEIEKWOQd5PiR8DGTmF8w7JkrwsD8dy8hdnM3OCc7lOMuKeLoF1vCIREwMhHSMCsuSHw/wjY2DFVMAQMgbKOgBH3sq4B1n9DwBAwBAwBQ8AQMAQMgaJAwIh7UXwme0lDwBAwBAwBQ8AQMAQMgbKOgBH3sq4B1n9DwBAwBAwBQ8AQMAQMgaJAwIh7UXwme0lDwBAwBAwBQ8AQMAQMgbKOQF6IO4fbsMmIWqoIJ4pRoSTMUfNl/cNZ/w0BQ8AQMAQMAUPAEDAEyhYCOSPunIjH0fDPP/+8O/2PE9j8UrlyZdlvv/3cQSmnnHLKpiOuy9bnsN4aAoaAIWAIGAKGgCFgCBgCwQhknbhz1O7gwYPd8cGrV692Nboh6NRXrl69unC0MG1mzJjhCD1He3OMNMd5c4w5Rz5HXThS+a677pKmTZu6Y9xNDAFDwBAwBAwBQ8AQKBQEli9fLlOmTBEOaLLD7PL7VbJO3CHepML06tVLunXrJrVq1UrYY47bfeaZZ+Shhx5yqTSQ+qhL79695f777496N61/hoAhYAgYAoaAIVDECBBUtQPt8vsBs07cn3zySTn11FOlXLlyoXpKJP7pp5+W0047LdR1xdgY0g55P/vss6Vdu3bF2IWMv/PKlSvd6kvjxo2lSpUqGb9/Md7QMAn+aoZLaVwME8NEY+NMT8ymaPSENu+8846MHDnSkXbIu0n+EMg6cc9f14rnyf/617/cBIVVhnPPPbd4XjyLb/rbb7/J+++/L4cccohsu+22WXxS8dzaMAn+VoZLaVwME8NEY9lMT8ymaPSENg8//LCcd955bq8iwVitTJw40V0D8Z81a5ZsueWWsueee0rfvn2lffv2JW5D4ZJhw4bJI488IvPmzZPatWtLjx495KqrripVvCRMW+27Fks7I+4F8KWMuJuT1aihOVlzsho9oY3pitkUja6YnphN0ehJOsSdgiME4bp27SotWrSQFStWyGOPPSbTpk0rFb330obPOussadOmjXzyySeuLf8+YsSIEq8apq22j8XSLi/E/a+//nIzN5ZdTESMuJuT1YwDc7LmZDV6YsTd9MT0RIuA6YoWqVQj7h9//LG0atVKKlWqtOlRVBXcZ599ZPHixbJo0SKpUKGCTJ06VZo1ayYXXXSRK9bhCZth77nnHpk8ebLsvffe7p/DtNX2r5ja5YW4r1mzxuUts9RhYsQ9SAeMpNpkRmsbTFdMVzS6YnpieqLRE5v4BqOUKnGPh/kVV1whw4cPl7lz57qUGKoI3nTTTTJz5kypW7fupstIr6EK4bXXXitDhgxx/x6mrfabF1O7rBF3NlrGEyLuRJmNuG9EyCLu5lA0RsOIRzBKhouNHxs/GgRMT7QomU0pjVSmifvJJ58szz33nEvrI+/9qKOOclH1n3/+udTDd9ppJ2nevLmMHTvW/RamrfabF1O7rBF3lkXIUwqqww5hv/322424/7+maIj7hg0bhDqqHGTFigX/H2VZt26d/Prrr67Wf8WKFaPcVXXfDJNgqAyX0rgUMiabbbaZWzbfeuut3bkV/H8upJDJWL7seyHrSS50It4zygouVPurWrWq42nJ/KxH3AcNGiQdOnQoAd0uu+wi/NEKFeNIlTnuuOPcoZwIaTCbb765TJo0qdRtyI3nm5AiE7at9p2KqV3WiDs5TQMGDJCOHTuWwoODmEiVoeSjSfKIO0adWSiOBylfvnzo8prFhjN9ZmWG3LdcOfZCx8gwCf5ChktpXAoZEyiXz1kAACAASURBVOy+t9pKxaidd945J2O8UIl7Pu17IetJPu1xWcGFcch45NDL3XbbLeE49Ih70HeB6w0cOFD1yX7//Xc54IADZOHChS7Cvuuuu7rr6tevL0TW2ZAaK2xUJRf+xx9/DN1W9VJF1ihrxJ0dwDVr1pTOnTuXggRl4TRVPrZJcuJOlP2nn35yg6tGjRolNnlEFT9IO7vPiQZA3k3ETWQMk9KaYLgUHyasGi5YsMCdpo2fIPqebSlU4p5P+25jJ1jrygoukHYINDpIxDxR6eVMRNzZlEqay4QJE1zaC+WePbGIu94CZo2461/BWiZLleE0WdJk2KDh35kdZeTKiuEM8w0Nk7LtZKOmK5B3NqKRLpPsRO0wfY/XtlCJez7tu9kUsymkoBDJJs/ci34HoZJujvvatWvl+OOPd/Xcx4wZ49Jk/BImbz1M20zYjkK7hxH3AvgiyYj7jBkz3NJyo0aNCuBtc/MK5lCKL4qaG80wXDQ4F8v4mT59ukv9Y5k821KoxD2f9r1Y9CTbuhF7/7KGC+OQlW2Cg/EkHeIOntRzf/nll10xjpNOOqnUY6gaM3ToUFVVmTBtc607uXheTok7SkGExaQkAsmIu5fX1aBBgzIDXVkznJoPa5hYdEyjJ7QpFl3JpW0rVOKeSwzKOkGN2vjR9idZO40OpkrcScc55ZRTZPTo0QlPhyffncox8eq4f/XVV9K0aVPXlTBtk/W9GH/PKXFnB7NtSC2tJkbcLYqqMR7FQsY0fclkG8OleMePhjBkSleMuBevnmRKB7T3KWs2RTMOUyXul19+udxxxx0un71Hjx6lPsERRxzhNqUivXr1kgcffNBVJGzbtq1weBMnp/bs2VMeeOCBEteGaav97sXSLqfEnSVRq91uxF0zOMqa4TRMNAhYxF2LUrGMHw1h0PY5WTsj7kbck+mI93uxjB9tf5K104zDVIn7oYceKu+//37cV3j33XeFNgi433rrrfLII48Iez/Y+wLZv/rqq0sVqQjTNln/i+13I+4F8MUs4p5bh9K9e3d57733ZPbs2QXw9Uu/Au/3+OOPu7q1/oo6UXEmlA274YYbZMFvK6XK5hVkm8rp1ekvZlyeeeYZV2ELx8nmrWXLlrnKDuPGjZM+ffoI9Y6pxPDll1/KCy+84HDTnOHgxwQHyEmERK7QrUISDWHI1Psacc+tnc3Ud8vHfQrFpniEFn+VTdGMw1SJezbfu6ze24h7AXx5I+4bPwLG6bDDDnN/Z5MKS2Gx5SDvvPNOueyyy1ybt956S9q3bx/6C+aTuP/73/8WToyDnFGbP6hKUBSIO3tZnnjiCVcOloM2/OIR98nzlrm6wU122UrKlysX+jt6F6TqZCmDxpHbr7/+upvEsRpYp04dp1O9e/eWJk2apPxOmgu///572XPPPeWggw6S008/3R0+0q1bN1dBCqJNXeULL7xQKleuLMcee6zcddddBU/cqRjxwQcfyKWXXpqwtJyHj4YwaLDUtDHinl/i7tl3CKCXMsG48x9vzxtSZYhcZnQ/aBNj0Lf2bMoPP/wgqewFi9XbVG2KRg/DtIkl7qQa33jjjc6mBpXaDnNvf1vNODTiniq6mb/OiHvmMQ19RyPuJYk79eqpMvHRRx+VIu6coEYUkvrPxUjcjznmGGEHP8SWzTr//Oc/S+lLFIg7EWNyF4OivESWv5i1SKpsWdX1vcGOVV3kPVVJxcmyPNulSxd3CjETKQ6MY3UD3frPf/7jJlVEvyER2RJyNs8//3xX05jne0J9Y/Tk2WefdZUYPAE3/jCZTSZ+TEhR/PPPP905ENk+E+G6666TIUOGyKxZs9zEI5loCEOye2h/N+JeuMS9U6dOTtdZTeLMElIlqLYzcuRIl++cTNIl7rF6m4pNSfaOqfzOahvC5B3hvTjh9Mwzz5RRo0alcsvAazTj0Ih7xuBO+0Y5Je62OTX4exlxL0ncTzzxREdaiNxxwppHNr7++mvZa6+9HNmFXBUKcSdSC6HyjGu8UUmEt3bt2nLPPfc4QrvDDjvIq6++Wqp5oRF3IsBhCWwi4k6Hp8zfeAowUm/7LaXqFqmny4R1svPmzXMRvW222UbefvvtUqUIIfOkpFxzzTVZPRiIyBmH0MVGCVmpwDGnqt+eg8/HYV1G3MP7ZA1pCn9X3RVhx47ursGtEkXc+/Xr51LGPPnll1/cuGQFDLufTKJK3GP7bcQ9mSaUjd9zStyJwOGMTEoiYMS9JHFnVznE6YQTThBSYzzizgYVSA0G/txzzy1FbIiSQhwgw0uXLnWHSZCC0LdvXxel8CQoVYac8qefflqmTp0qS5YsccewEwUieug/1dFzPg899JBLabjvvvtcmsVzzz2XdOly2LBhgoOCwPPN2W1P/jHP8otH3PmNNm+88YaLRHXo0MEtk7K07GHCu+K0XnnlFXdf3nX33XeXSy65RJgAeRIGG7CA3II3z2Z5lugzER6iX6+99pqbVNGOf993333dd2I1BPHaxY5z71hsf6oMbepU39LluWMb+LaTJk1yl7Zs2VL69+8vhx9+eIlbkV5z6qmnOh3gHadMmSLbb7+9XHHFFS5FI5lQbuzee+91eeSx9453rRY/rp87d67TX1Jw+D6cDEo5NPripUbRh1iBrKNfc+bMKfET1Rj4dw+32Bx3dHbQoEGuDScgcrpyu3bt3KSA0xDj5bivXLlSbrnlFiF9Cx1mInP00UfLTTfdVOJAJO+54EwEFN1lUsB7sWoAuUI8vY3tl3/zWexvuSStFnEvrd2FStx5U+wKOsdEOpkEEfd09Zaa44wHbC2TB8Y0uswYwwZjf0jbJCDpCatMbKi8//77nQ3+9NNPnU0mNYgx6h/32FD+jTKHjKcdd9xRWrduLbfffvumg5D8qTJBaUU8l3HISfUEtbCf+Bi/EFTCDrRp08bVUQ8SzTi0iHsyLczd7zkl7rnrVnE9yYj7xu/lj8iQsgAukBjIDuQRIg4ZbdasmSOQ/ogkBBLiyDIr6QeQV4jZf//7X+natasj1p4EEXdIIrmR3KNatWryxRdfuKj4/vvvX2JHvPeOGEmWMc855xxnmCldFZvLHauFXEMU6cUXX5RFixY5QnfzzTc7wukXjwDRTyL0OI9vvvnGkSTyrj/77DOpUqWKuwTDzruSk92wYUOBnOAIILKU4ELCYgMh996VE+pwVGyU9Ag57wV5hGjyGySYjbQTJ05070AaEEaevp133nkuhxshys2fWOJeq1oVeXfsy24lBXzOPvts1x6SyHL5888/X2JShPPjeGwmKtyfiQ+bPMePH68i4+gRzla7OTkMfvSdVSImijhrSDSpMOgSWDLB4v2feuopd3og+nnbbbe5cmj0nUgjhJ+JIRF/cuD5jaBHEHH/8MMP3X1Jg4FIcA+IOvdmIoq+BBF3nDn7Sdj0ig6DJxMOCACrK+gUOoR4zyWdB3JPbi0TGfYHMG54BwT8mQig3+ied72/3FvsmNAQhkxZcyPupZEsVOLOe2H7GCsLFixIqgKJiHsqessqKuOYs2ewa+x7gZBj8/APEHhWffE1BG88gbiTmsakmP0qe+yxhxvPL730kkv/Yawh+Dd8Db8TXGJcMU7ffPNNV1UFf+LZd883ku6GLeQdsKnYPsSzD/vtt5+z9aRi+oVrSEPCB+ILg0QzDo24J1XDnDUw4p4zqOM/yIj7Rmz8xB1jy2EMEB025mHQICgQCg5fiCXuEEsMHtFDDKYnGFYIL3nDXI8EEXeMIkc++wUCS9tPPvnEGXH/O1avXt0ZyO22206lQUSR6RPG3ouEE0HHWBNV8otH3CGy5MF74m3MJdWGjVu///672wAIWSLyHE/CYkO/wRfi7BePuOPM+AZerjV/xwnhHLz3TZQqQySYlQM2pyI7Vq0orfba3U0Gpk2b5hwjwqoJhBKSTc60t8qAM+cPExiicjj5X3/91U0KiD6BcTxhlYSJFkdvQzA1EgY/dJU+QIj9usHkhki/Xw/jLe97OMemysQSdyazOP7Fixe7yZoX+aZPYOKlOAURd1Z/OH3QS0fzcOA+6OlVV13lNogj3nM7duzoMPOihp4+Eo30NvJaqoxGo0q20ZCm8HfVXVEoxJ2VRVZGvRx3bDmTcf6dCHQySUTcU9FbDxd8AraN4BE1xf3FBK688ko3eSWowjhEIO4Em2JJMkEdNp9//vnnrh0bzVkdZKJOpD2exG5OTZQqw0o1BR14T6LrntB/JtVMgHiHINHooBH3ZFqYu9/zQtwZnOziRllwzrFLvzgGBnFZkXSI+yX//lJmLF5RUFDV36Gq3HVS89Dv5CfukFcMJhFHDPhpp53myAmkKIjYNG7c2EV9PQPkPZwoIoTGHxlJVFUGMgTh4V78F5KKkb344ovdLb13ZBkU4qIVrifNh0gl0VGEiCgpH0xGmKR44hF3/4SB35hcEF0+8MADXRSHqCnRUdIiINvxHEBYbLgXxDN2BcHDnVSK2PF55JFHOufAZAKiHYa4/zR9inQ4/BBH5q+//voSkHp54JB0lpER7AMrITwP8ZzsGWec4VZcvFSboG/D70TO0Kcnn3xS9fm0+BHRZUKHQ47FBzvHKhDOHtKMpEvc0Rsi3rH5wX5MmFwFEXfGFk6ciXGsEM3jOlYK/O/pn3Tw7+gI9yGaCDlAjLirVKpEo0SkqfvY7vLznz+Hv2mIK7B5/nSPRJfuvOXOMuro1DZFaqvK8Hyi1gQnIPDxyKb/PRMR91T01rMprKAxxrD12Gq/ELAgEs+k/IILLnA/QdxJ7WE10C/4C1bZCDAgXlCIaD2Rc/obJGGIO6ufpMRg2yDxiLeyi/+7++67435aI+4hBkwBNM05cYd4sVyDosSrR4xjLksHNaVD3I+750OZ9tMfBaBK/3uFvWpuLa9ctDE9IozEEneMNjnm6AppLOQI+1M2/BFJyDBL8kE5fJBbj+zyPkHEnUgIBIhKNlSs8Qu5jTwb8d4RI0gEVSNMAkiZYPmTtAhPWE6FjBIl8U8CPOKOkfdHbXEmRJUZNyy1IjgNolKMF0gUjoQSaqSzeBIWG5wKTiB2Q6pH3Fl6pSKLX7y8cSYmLN0mIu79+w+QQYP+F3H/5M2X5PxzzgxcyiVyxQqFfyUF+0AfmdAhnpNlckTaBtH5eOJF3Nm/QF10jWjxQ4dYrk4kTC7AF0mXuLO6AQ7+VRzv2cnquJNq5VWsCHpf0om8XHvvPb/77js3+fDEy7lFL1i+R4y4azSqZBsj7nUdKcbuYSuZkBIcwMYQ7AjaDxKLciLinoreeuOHAAn7UxIJvgEfgUDcIc9eUMG7Lna1DHJP5ShSblgBPPjgg93/U+HKW3Hk2jDEnfbYFybSXoCIlDX8Q2xwKLY/RtzDj9t8XpFz4k7KAZupiKRBZFjqDxK/g8gnQLl4djrEPcoRd6IdLMF7m/MgEkRLgyLuycgVUUQ2VSKxxJ378hyMLiSa/1IhBjJMfrm3qZJrg6JGyXQEgshG23hCdRkiwd4GWo+4E6X1G/Eg4s49iagyYeF0OlKKiPyS5sAkBwmLTdDhT9zHw5386dj+hCHu1/cfIIN9xP3jN1+S3kmIu790prc5lQgW4ifupH4ky10nd5YIV7J23vfS4sdGNOwbOhQvlxSnzioSkk/iTp+Y6GGHg4Tfmewmek+PuPtLfhpxT2YNSv+uIU3h76q7olBSZWJXjZiUQ5i9tMBkvUlE3GOrNmn01sOFQgdEsPEB3niIfRc2qrK3BPE2pxIA8kvQ/hQCMBB8VgSw3VzDvhCyETwbEZa4e/4J/JjUs2rKc1gdSCQaHbRUmWRamLvfc07cIUTkVsYuieeuy4X3pHSIe+H1JvU3io24s9OeCASGjeofRHH9BNIfcY+XzkB1FKKHbN5k4x0SS9y9fMPY2tMckEPuYrrEHZKLgSY6HivkyeO0yB0m79p7P8hzslSZIKSJorLyQPSX6DI5mWGxSUbcNakylFkk+h9Ux/266/vLkMGDNuW4z/1usnQ84tDAVBmqLhDRoj/ksyPpEndvksE7kmaUTLT4kWvOagNL3+yrSCbpEvd0UmXYO0B0k2hkMon3nkEECLtOZQur454M1f/9riFN+ruFa1moxJ1ekA4HNuhSsnK06RL3WL31cMEH8B4EQtgsnkzCEPfYe3n7S1h98FblYok7wST2+sSr4w5Jp0AAf3hnUjDJw/cOLYz3/hodNOKe7Ovn7vecE3cUitw1cr5MNiJgxH0jDkHEnY1vEHTIqLfTPijijlFlk2bsoTXkHpJHSFlD8rA9YsyzvIirt3GQCL//FD82aPKsdIg75QBJk+FeXt6hX+8hT0TcmZiQguK9H4Y73uZUL02HVBvEqzDj3ZdqJo8++qjbtEgEJyw2yYg7ef9sqPU283qbU4kyextDvehzkNOIJe5bVyonBzbfeEopqXTeKhwrB1S3gajzrbw80HSJu1fHndUMyHvsyY3sHSASzYZflrHD4McGaNJ1yLOH8PuFFCzu7ZUXTZe4k5vMM8hj5XuwkuBJss2pOHUCKEETK5w/eoteImGIO5WEyO9PtjTvvaeGMGTKT1hVmdJIFjJxJ5hBBSMNaU6XuMfqrYcLtpW0Q6q1YOeYmPuF4Agrpd6+JS1xJw2S/TB+IX2G1EiqPXl7T2KJO+15FnYm3uZ6Js7ggT2mahUrsok2wHJPzTg04p4pS5T+fXJO3Fn6oloFm800m07S72Lh38GIe3zizia52NMeg4i7v2Qf0fVGjRq5JUfIcLJykBgtIpAY3Z49e7qNWqSeYFzZgJcOcUffyb0mV5K0myAhwkIuN7v+Meax5SDJfaRyAbWBWQEg+gxpJkKDYad/LK1CCCGMlBJkosNKBRIWm2TE3SsHyXuSC08fcTqUTfNS3HBoODlSm6hQQsQMEs6fftf3l5t8EfdqVTaXz9993U1U2MtAyTTII3aCbxNUDhLMUk2VARNyS1kJYeLEkjwb0NAzItBMPthcRqoS7x0GPyZ/TDDBhbKW9JdNxUTu+Mak/LASkYgQa6vKcA+vHCQrmV45SPQIzMAnXjlIvhc6wvVUAyINAAJCdBNCwLfwDsQJQ9y9vQ3oOqtl2HhWNeIRBw1hyJQFN+JeXMQdG4BdYxLJxD02QOHvTbrEPVZvCRKw/4hJPTaVscL4wDYRfMQmEGQgbRA7jN1CtMSdDew887jjjnPPYDyyj4eVWS/NhfsFEXfGKn6JvHrsK2PLv3IIUacgAxN77V4ezTg04p4pS5T+fXJO3HllNh1CLthI4eWbxnaF38qKGHFPn7hzB8hW7AFM6JHmACYir0QgMcY4CMr6Uf0Do5gOcae0HjmWRL/jTVS9DZhePmfsAUwQcP8BTES8IZlMLIgMM0Gheg5RItKCyG2keom/vGUYbJIRd/8BTJBbUljYBEVf/cLqBw6V/kOQPRyvva6/DB3yv1SZbStXlF2rb+ny84MOYPKIrnfvdCPu3n0guLw3eawQAxwdjpeVGVZq/PtstPh5ekg6EVEz9i4wocI5o1OsNsbWR4/NwQ1D3HkekUCcOHmyTBI4H4AVHFKMqEIU7wAmyAKboqluRMoWxAQiAAkgT59JR6IJRlCqDO1JOyCSD2ZgagcwJfZkGtKULV9YyBF3+uyNhWTpHukS9yC99R/AxBilUAKrv9hyIuMQeNIbGdPeqdla4s6YYCWYACYrZl5gg42kXoWmeMSdPYLYJyYUrLp6e8D8OkKwB7/B/irIezLR6KAR92Qo5u73nBN3lqmJdLGUGk+sqkxJZDSDKncqk5sn5dKh5KZH6T8l35jEI5Rhe7Zi9V8yc8n/SphuvUVF2W37kjX0w9wz37iEeddctS0WTHJp2yziXlr7ikVPcjVuvOcUOy6QdaL3/qIHiTDUjEMj7rnWwvjPyzlxZwmVCCHpA1RgiFdVRnsUeSIo2dxI+T1mpizjUyIpaFMHv7GszHuxVEykkiU6IrWx0T6exwYRorGchMZEhFUD8opJCYhXjzXRe1rE3RyKxiTk25lkirgvX71OZi35c1OXt9qiotQ14q5RAXWbfOuK9kU1hEF7r2TtjLibnU2mI1Eg7qy+sipLOo6//LARd+3XL/x2OSfu5CxD2llKzrZ4S7mUYCOHlaXrIOJOjifLzOQKUyINws9SL2kTLGdxeIFfyKEm35gNh5xQRvUP2vsrl4TpmxF3cygafck3GcsUcf9j1TqZ/ev/iHvVShWk3g5VNRAEtsk3Lim/eBYvLBZMjLjrNgZmS1WKRU+y1f949y1GXOArZDLATci7J/3Nv2HdiHuutSh7z8s5cUeRqC9NXli2hRxONraQ88lAJIcziLhzRDD5uf7jjCmrRw1U8tnIQfM2SJJfxuY8SspRRtATquSQo0y+KRsdw4gRdyPuGn3JtzPJFHH/beVambt0Y0UcpMrmFaTBjkbcNTqgbZNvXdG+pxF3I+5aXcllu2IZP35MyPNnzxMbU8kIICCpFc04tFQZLZrZb5dz4s6GKVJSOChFe8xyJmBIRNzj3f+KK65wNVBZevJmrtTcZrUgtnQgKTYsT7HBkU0sYcSIuxF3jb4UozMJ6teylWtlno+4V65YXhrutJUGgsA2UcElZQACLiwWTDSEIVO4WKqM2VmtLhXL+NH2J1k7zTg04p4Mxdz9nnPiTj1tyC3Rb8qXUQUjKC9cczBKGJhSIe6UM6PiBwbfq9BB/VSi6uTLxwrl7zjwwCvDp30/I+7mUDS6EhVnsvTPNTJ/2apNXd6iYnlpZMRdowLqNsWiKxrCoO50koZG3M3OanWpWMaPtj/J2mnGoRH3ZCjm7vecE/fYKDsVZPxC2btsVJUJS9y//fZblypDnVXvYBzekzQYyvqx4TVWyI+n7B3pNPGEEmn88Qvl9SihRupNUBlM2pOqE3tQTO7UJPdPoowcpa4ozZjLlZnc91T/xKhgsmzlOln4x5pNHd+8fDlpsEMVPRAxLaOCS8oABFxYLJiwUoltZh9StoWzBcgBxk4nO4kz2+/iv38+7Xux6EkuvwfPKmu4aMbhE0884Q7OpJAH52iY5A+BnBN37yjfZF0mFz2TEoa4//77767iDQaV6DqrAp7Ur1/fHSzDhtRYYaMq+fDe7DXo/b16s0G/cSwxNVljhUN5+JML55ZJzO1ehkAQAn+sFflt7f9+Kb+ZSM3Uq0EayEWMADaW8wj4U1bF7HtZ/fKF02/NOKSAB+deGHHP/3fLOXHPV5e1xJ1NqaTDTJgwwaW8xBLpfETcvbQcJg2xKxT5wjPbzy1rEQ8NnlHBZMmf62TR8v9F3CuU20wa7Zg6c48KLhod0LYpBkx4R/YKIRwUlW0p1Ih7Pu17MehJtvUi6P5lCReyHGbMmOG4BUHJeGIR93xoYvAzjbj7cFm7dq07CY3NsxxlTJpMrOQjx50oPhEpTmDkJE/2B0RdylqOoeZ7RgWTX/5YLfzxpHy5zWTPGttoIAhsExVcUgYg4MJCx4SUQuzaH3/84VYTsWvZlkLNcc+nfS90Pcm2TsS7f1nBBdLOxJGxsc0220iNGjXiQm457vnSxtLPzTlxJ8WEJRcONwqSm2++2UW5SVXJpCSLuPM75ZM45pjNohwbHyRsrB06dGhOq8rg5Di2fPXqjWSHzbxRz/vGoPBNyO0vK6sMyfQ9KpisWfe3rPlr/abuss2FQ5hSlajgkmr/g64rZEyIZnKIHbLFFlu4il1eud1MYhB7r0Il7vm074WsJ9nUhWT3Liu4MA4Zj4zDeIVCPKyMuCfTmtz9nnPiTsSajUFUawmSf/7zn+4AJDZsZlISEXcU95RTTpHRo0fLQw895KrdxBNy3qkcE6+OOwcfNG3aNNSrJ6sqw80wJOTeE6GiL7xzlAVnxioD0biysMKg+ZZRweTHRStKHMBUbrPNpN0eqUdco4KLRge0bQoZE4IOEHVWEIny5WpiXqjEPZ/2vZD1RKvr2WhXVnBhLELaSZFJduq7EfdsaFpq98w5cUdBOIDp8ssvD3zjO++8U4i6B5VbTKWL9957r1sGgugOGDDAke4uXbq4W5EWA8nmXdh0QaS/R48epR5zxBFHlMj96tWrlzz44IPu5NS2bdsKBzhxcmrPnj3lgQceCP2aGuIe+qZFfkEhO9l8QRsVTIa8+o08/OGsTTCW20xk5tBjU4Y1KrikDEDAhYZJaVAME8NEO8ZMV0ojZcRdqz3Zb5dz4l65cmW5/fbbpXfv3oG9GzFihHDwkZcWki4Eu+22m8yZMyfwNpDt7t27y6GHHurSd+LJu+++69p4QsT71ltvlUceecSlsNSqVcsR/quvvjqlJV8j7uZQNHoeFWcy8KWvZdQns0t0eeZNHaQcDD4FiQouKXQ97iWGidkUjT6ZngSjZLgYcdeMn3y1yTlxb9y4sTRr1kz+/e9/B/aZ3HJq7U6fPj1fmOT8uUbczclqlC4qzuT6F6bJk5+WnExPH3yMbF6hnAaGUm2igktKnY9zkWFiNkWjT6YnRtw1ekIbi7hrkcp+u5wT9/79+8uQIUPk7rvvlgsuuKBED++77z6XO87G1cGDB2e/9wXyBCPu5mQ1qhgVJ9t3zFR55vO5Jbr8zY1HSZXNK2hgMOKuQCkquqLoqrqJYWJ2VqsspisWcdfqSj7a5Zy4cxomaSecPMou5r322sv1e9q0aS6lpVWrVvLee++5EzPLihhxN4ei0fWoOJOrnp0sz06aX6LLkwccKdtUTq2yTFRw0eiAto1hYjZFoyumJxZx1+iJRdy1KOWmXc6JO90if/22226TZ599Vn744QfX04YNG0q3bt1cfnulSpVy0/sCeYoRd3OyGlWMipO9fPRXMubLn0p0edJ17aV61dTGfVRw0eiAto1hYjZFoyumJ0bcNXqSLnGnUiCcj4DtxIkTXfGRM888U0aNGlXi8ew5fPzxx+O+EpkY/fr1c7/Pnj1b2zhq0wAAIABJREFU6tatG9j2nHPOcXsQoyp5Ie5RBTPVfhlxNyer0Z2oONmLn/lSXpq8oESXP7v2cNlp6y00MJRqExVcUup8nIsME7MpGn0yPTHirtGTdIm7R7J32WUXadmypbzyyiuBxH38+PHuFNdYueuuuxzhh/i3aNGiBHHv1KmTO4PHLw0aNJD9999f27Wia2fEvQA+mRF3c7IaNYyKk+39r0ny2tSfS3T5oz6HSa1qqaXHRQUXjQ5o2xgmZlM0umJ6YsRdoyfpEvc1a9bIkiVLpGbNmu4cGs5mCYq4B70L6dU777yzUCFwypQpm5p4kwEi8GVpTyQAGHHXam0W2xlxNyerUa+oONnznpgob37zS4kuv3flobLb9ltqYCjVJiq4pNT5OBcZJmZTNPpkemLEXaMn6RJ3/zPCEnePH5FqQyq1J37i7qXPUG68LIgR9wL4ykbczclq1DAqTvacURPk7e8WlejyuMsPkQY7VtXAYMRdgVJUdEXRVXUTw8TsrFZZTFdKI5WpcpBhifuRRx4pnKXDmTkc4BlL3KtWrSrk0COkyFx66aWlKhZqv3uxtDPiXgBfyoi7ORSNGkbFmZwx8nP5YPriEl0ee+lBssfOW2tgMOKuQCkquqLoqrqJYWJ2VqsspivxifugQYOkQ4cOJRqQu84fjYQh7j/99JOrPnjMMce4vHi/zJ07V84++2zp3Lmz1KlTRxYsWOA2pJILf+WVV8qwYcM0r1OUbYy4F8BnM+JuDkWjhlFxJqc+8ql8/OOvJbr8ykUHyl41t9HAYMRdgVJUdEXRVXUTw8TsrFZZTFfiE/cgDAcMGCADBw5UwRuGuN98883uXB8qEMZuQA162Pr166Vdu3by0UcfuUM869evr3qnYmtkxL0AvpgRd3MoGjWMijPp9uB4+WzW0hJd/m/vNtJ812oaGIy4K1CKiq4ouqpuYpiYndUqi+lKfOKey4h7kyZNXOnIhQsXqsuEv/zyy3L88cfLgw8+KOedd572kxdVOyPuBfC5jLibQ9GoYVScSdf7P5FJc5aV6PKzvQ6QfXfbTgODEXcFSlHRFUVX1U0ME7OzWmUxXYlP3J966ik59dRTtVCWaqeNuE+YMEFat24tvXv3lhEjRqifR+WZZs2ayZAhQ+Taa69VX1dMDfNC3PlwzIRGjhxZTFhl7V2NuJtD0ShXVJxJpxEfy+R5v5Xo8tPn7idt6m+vgcGIuwKlqOiKoqvqJoaJ2Vmtspiu5J+4X3jhhY6wf/bZZ47Aa2XMmDHStWtXl+/OQUxRlLwQd2p6VqlSRchHMhEx4m4ORTMOouJMjrvnQ5n20x8luvzE2a3l4EY7aGAw4q5AKSq6ouiquolhYnZWqyymK/kl7mvXrpUaNWrIjjvuKN98803gZ1u6dKlst13JVdpVq1ZJ27ZtZdq0ae4gp9q1a2s/eVG1yxpxZ7dvPCHiDlk14r4RISPu5lA0ViMqzuToOz+Q735eXqLLI7u3knZ7/K/UlwYPr01UcAnT52RtDROzKcl0hN9NT4JRMlwyT9zvvfdep29///23sJm1efPm0qVLF/cgctKbNm266aFe1JzNqX369An8SFzL4UyckFqrVi1XVebxxx+XmTNnytChQ+Waa67RDIGibJM14l6pUiU566yzpFq10hvOIOy33367Eff/Vxkj7uZkNdYjKs6k/fD35cdFG+vuevLQ6S3lyD131sBQqk1UcEmp83EuMkzMpmj0yfTEiLtGT2iTbh13Tj6dM2dO4OMee+wx6d69+6bfOnXq5Mo/zps3z0Xeg+TRRx91RP37778Xou/Uc2/RooVccsklbiIQZckacW/VqpWbVXXs2LEUfqtXr3apMsy8TCziHqQD5lCiSzwOu+09mbXkzxIdvO/UFtJhb10d4FhkTFeiqyuZ9A+mJ6YnWn0yXSmNVLrEXYu9tUuOQNaIO5sKatas6YrjxwoR98GDBztib2LE3Yi7bhRExZkceMs7Mn/ZqhKdvuukfaTTPjV1QMS0igouKXU+zkWGiZFUjT6ZngSjZLgYcdeMn3y1yRpxz1eHivG5lipjTlajt1FxJgcMfVsW/r5atqhYTlav27jqdvuJzaRry1oaGEq1iQouKXXeiLsaNtMTs7NaZTFdMeKu1ZV8tDPing/UY55pxN0cikYNo+JMWg0eJ0tWrJFtq1SU31auc12/peve0m3fXTUwGHFXoBQVXVF0Vd3EMDE7q1UW0xUj7lpdyUe7nBL3evXquR2/JiURMOJuDkUzJqLiTJrf+KYsW7lOdtlmCxd5RwZ33ktO27+OBgYj7gqUoqIriq6qmxgmZme1ymK6YsRdqyv5aJdT4l6uXDnbkBrwlY24m0PRDP6oOJO9B74hy1f/JXW333LTJtWBHZtI97Z1NTAYcVegFBVdUXRV3cQwMTurVRbTFSPuWl3JR7ucEvfy5ctbCUgj7io9N8MZXSfb+Pqxsmrdetlj56021XO/7tjG0uOgeirdiG1kuhJdXUlJIeJcZHpieqLVJ9MVI+5aXclHOyPu+UA95pkWcTeHolHDqDiTRv1el7Xr/5Z9am8rX837zXX9mmP2kF6H1NfAYBF3BUpR0RVFV9VNDBOzs1plMV0x4q7VlXy0M+KeD9SNuCdF3QxndJ1svb6vyt8bRPavt518OnOp6+hVR+0uFxzWIKleBDUwXYmurqSkEBZxV8NmYycYKsPFiLt6EOWhoRH3PIAe+0iLuBvx0KhhFJzJ339vkHrXvua6e0ijHeT96Yvd3y9t31Aubd9IA0OpNlHAJaWOJ7jIMDGbotEp0xMj7ho9oY0dwKRFKvvtckrcbXNq8Ac14m5OVjPUo+Bk1/71tzS67nXX3aP23Ene+PoX9/eL2jWQK47cXQODEXcFSlHQFUU3QzUxTMzOahXGdKU0UkbctdqT/XY5Je5HHHGEvPXWW9nvVZE9wYi7ORSNykbBmaxau14a9x/ruttpnxry4lcL3N/JbyfPPRWJAi6p9DvRNYaJ2RSNTpmeBKNkuBhx14yffLXJKXHPVycL/blG3M3JanQ0Cs7kj9XrpOnAN113u7WqLaMnznN/P/egutLv2CYaGEq1iQIuKXU8wUWGidkUjU6Znhhx1+gJbSzirkUq++2MuGcf46RPMOJuTjapkohIFJzssj/XSvNBG1fdzjigjjwxfo77+1ltd5MBHffUwGDEXYFSFHRF0c1QTQwTs7NahTFdKY2UEXet9mS/XdaJ+9y5c1Pqxa67pnb8eUoPy/NFRtzNoWhUMArOZPHyNbLvkHGuu+cdXE8e+mDjScqn719HBnXeSwODEXcFSlHQFUU3QzUxTMzOahXGdMWIu1ZX8tEu68SdDambbbZZ6L6tX78+9DXFeoERd3MoGt2NgjNZ+PsqOWDoO667F7drIHe/86P7+8mtd5WhXfbWwGDEXYFSFHRF0c1QTQwTs7NahTFdMeKu1ZV8tMs6cR81alRKxP3MM8/MBx55eaYRd3MoGsWLgjOZt3SlHHTru667VxzRSIaPmy4bNoic2LKWDDuxmQYGI+4KlKKgK4puhmpimJid1SqM6YoRd62u5KNd1ol7PjpVbM804m4ORaOzUXAms5f8KYfe9p7rbp+j95A73pruTlHt0rymDO+2jwYGI+4KlKKgK4puhmpimJid1SqM6YoRd62u5KOdEfd8oB7zTCPu5lA0ahgFZ/LjouXSfvgHrrv9OjSW4W9Nl1Xr1svxzWrI3Sc318BgxF2BUhR0RdHNUE0ME7OzWoUxXTHirtWVfLTLG3GnnvuLL74os2bNcqk0devWlc6dO8vhhx+eDxzy+kwj7uZQNAoYBWfy3c9/yNF3fui62/+4Ji7ivnzNX9Jh753lvlNbamAw4q5AKQq6ouhmqCaGidlZrcKYrhhx1+pKPtrlnLj/9ddfcsopp8jzzz8vGzZskKpVq7p+r1ixwhH4f/zjH/L0009L+fLl84FHXp5pxN0cikbxouBMpv30uxx3z0euu4M67eki7stWrpMjm+wkD53RSgODEXcFSlHQFUU3QzUxTMzOahXGdMWIu1ZX8tEu58R90KBBMmDAAOnVq5f07dtXateu7fo9f/58GTp0qNx///1Cm379+uUDj7w804i7ORSN4kXBmXw17zfpPOJj192bTtjbEfclK9ZIuz12lJHd99XAYMRdgVIUdEXRzVBNDBOzs1qFMV0x4q7VlXy0yzlxb9SokTRt2lSee+65wP4ScZ8yZYpMnz49H3jk5ZlG3M2haBQvCs5k0pyl0vX+8a67t3ZtKneMmy4Lf18tBzfaQZ44u7UGBiPuCpSioCuKboZqYpiYndUqjOmKEXetruSjXc6J+xZbbCF33nmni7gHCRH3yy67TFavXp0PPPLyTCPu5lA0ihcFZ/LZzF+l20Ofuu4O/2czF3Gfv2yVtG1QXf7VY38NDEbcFShFQVcU3QzVxDAxO6tVGNMVI+5aXclHu5wT9xo1ashJJ50kw4cPD+wvpH306NGyYMGCtPEgb/62226TSZMmycSJE+Xnn38W6sNTWz5WOPBp2LBh8sgjj8i8efNcCk+PHj3kqquuKpVvH6atphNG3M2haPQkCs7k4x+XyKmPfOa6e9dJ+7jNqbN/XSmt624n/+l5gAYGI+4KlKKgK4puhmpimJid1SqM6YoRd62u5KNdzok7ZPipp55yf0iL8cuYMWPcxtXTTz9dHn744bTxmD17tqtWs8suu0jLli3llVdeiUvce/fu7fLrzzrrLGnTpo188skn8thjjwn/PmLEiBLvEqatphNG3M2haPQkCs7k/emL5cyRn7vujjilhUuV+XHRCmlZp5o8f34bDQxG3BUoRUFXFN0M1cQwMTurVRjTFSPuWl3JR7ucE/dffvlF9t9/f5k7d67Ur19fGjdu7Pr97bffyowZM6ROnToyfvx42WmnndLGY82aNbJkyRKpWbOmUM2mYsWKgcR96tSp0qxZM7nooovkrrvu2vTcSy65RO655x6ZPHmy7L33xuPYw7TVdsCIuzkUja5EwZm8890vcvaoia67D57e0kXcv/t5uTSrtY28eOGBGhiMuCtQioKuKLoZqolhYnZWqzCmK0bctbqSj3Y5J+50kkFBBZmXX37Z1XFHiIx36tRJ+vTpI9tuu23GsUhE3Klgc9NNN8nMmTPde3jCu9WrV0+uvfZaGTJkiPvnMG21nTDibg5FoytRcCZvfP2z9Hxykuvuo2e2chH3aT/9IXvW2FpevfggDQxG3BUoRUFXFN0M1cQwMTurVRjTFSPuWl3JR7u8EPd8dDQRcT/qqKNcVJ0c+Fgh8t+8eXMZO3as+ylMW20/jbibQ9HoShScyWtTF0rvf33hujvqrH3ljnE/yOR5v8keO28lYy89WAODEXcFSlHQFUU3QzUxTMzOahXGdMWIu1ZX8tEuL8Sdg5feeecd+fHHH2Xp0qXuICa/cBATNd4zKYmIO2kwm2++udvEGistWrSQdevWuRQZJEzboPdfuHCh8Mcvr732mlx//fUuTeeMM87IZLeL9l7Lly+XL774QsB/q622Ktp+ZPLFo4DJ2G8WyzUvbSz1+uBJe8p9H86VyT8tl7rVK8t/z22RElxRwCWljie4yDApDY5hYphox5npSmmknnjiCSF9mP2Jp556qhbKom1HERL2SZJujWy//fay2267FcThoDkn7tOmTZOuXbs60h5L2L0vDHEHtExKIuJOrj2RdTakxgobVRctWuTeFwnTNuj9Bw4cKDfccENg16ioc8ghh2Sy23YvQ6CgEJiweDN56seNpyJf1OQveX1+efnxj81k+y02yPXNMzvmC6rj9jKGgCFgCBQxAu+//77ccccdKRF3bYU/r6BIEEznnHOOq/rnl0xX+Pvjjz9c/55//nn57LPPZNWqVSWeV7lyZdlvv/1cYRUKqWyzzTZ5+aI5J+4HHHCAi17feOON0rZt27j57LvvvntGAbGIe0bhzPrNLOJRGuIoYPLClF9k4GsbJ8GPnba3PPDhXPlszu+yy9aV5PXerVLSqyjgklLHE1xkmERz/JieZBqB4PvZ+CmNSzoRd22FP68d+x1jqw42aNDAFTbxS6Yq/C1btkwGDx4sDzzwgDtDqEmTJo6gs8exevXq8vfffwttKKACoaeYCmcSnX/++W7fY7Vq1XKjmP//lJwTd2YsbPYkNSSXYjnuuUQ7/WdZjmFpDKOAyTOfz5W+Yzamnb1wQVtXVYYSkTtvvYV8eu3hKSlOFHBJqeMJLjJMojl+TE8yjUDw/Wz8lMaFEt3nnXdeShF3bYU/j7hDhiHSiSSTFf4g3qTCcDBot27dpFatWgmfPX/+fHnmmWfkoYcecqk0kPpcSs6Je8OGDeXCCy90uVK5lETEnYkEVW40VWXCtNX2zzanmpPV6EoUnMmT42fL9S9+7br7ykUHOuL+9neLZPuqlWTide01MJRqEwVcUuq4EfdQsJmemJ3VKozpSmaJu/9uibiYn7hD3hGCvUGSyQp/Tz75pMvbL1eunFZFXDsi8U8//bScdtppoa5Lt3HOiTt10UeOHOmWG9gQmitJpCxUlKFyTLw67l999ZU0bdrUvWqYttq+GXE3h6LRlSg4k8c+niU3vPyN6+7rlxzkiPub3/wi21apKF/1P1IDgxF3BUpR0BVFN0M1MUzMzmoVxnQlv8S9atWqQl48QorMpZdeKhdccEGJl8pGhT+tfuS7Xc6JOx2+9dZb3RIDFVRq164duEs3U9VV7r33Xlc3npnRgAEDHEHv0qWLw/3444/fRMhZInnwwQfdyank3n/88cfu5NSePXu6vCe/hGmr+cBG3M2haPQkCs7kkQ9nyuBXv3XdHXf5wXLHWz/Iq1MXylaVKsjUG47SwGDEXYFSFHRF0c1QTQwTs7NahTFdiU/cBw0aJB06dCjRgNPp+aORREFUDuY8++yzpXPnzu4wzgULFrgNqRMnTpQrr7xShg0btukR6Vb407xrobbJOXGfN2+enHDCCa7UXzzJZFUZyvfMmTMn8FEQ8+7du7vfUCYmFCgJ+UvkOPXo0UOuvvpqqVChQonrw7TVfHgj7uZQNHoSBWdy/3sz5Jax37nuvnvloS7i/tLkBbJFxXLy3aBjNDAYcVegFAVdUXQzVBPDxOysVmFMV+IT9yAMCYpSMU8jiYh70PVUjmnXrp189NFHMn36dFfZD0m3wl+yd+U9yeknQ6TQJOfE/eijj3Y13C+++GKhwky8U1IPPzy1jWqFBrDmfYy4m0PR6EkUnMm97/wgt725sY77h1cf5k5OHfPFT1Kx/Gbyw5CSURwNJrSJAi7avmrbGSZmUzS6YnoSjJLhEp+4ZzPiHk9nX375ZZchQVYEZBrJdsSdDbVVqlTJeGlyzbhM1ibnxJ3cJUj7TTfdlOzdyszvRtzNyWqUPQrO5M5x0+XOcT+47o7v285F3P8zcb77/1lDOwirbWElCriE7XOy9oaJ2ZRkOmKT3vgI2fiJT9zTPYApbMSdN5kyZYo0a9ZMhgwZ4qoSIpnIcSctJ57wnnCzTJ8ppBmXydrknLiT096nTx9XWcZkIwJG3M3JasZCFJzJbW98L/e+u7GO++f9Dnck/unP5rr/n3FTBylfzoi7RheStYmCriTrY9jfDROzs1qdMV0pLOI+ZswYd3AnqcwcxIRkosJfpUqV3L7GoDrsEPbbb7/diDtg9+/f36XKfPDBB6FL72gHXbG1M+JuDkWjs1FwJje//p088P4M190vrj9CiMA/MX7jHpTvBx8tlSpsPFU1jEQBlzD91bQ1TMymmJ5oEAhuY+MnP8R96dKlst1225V4OKeXUjBk2rRp7gAkgr9IJir8tWrVyhUt6dixY6kOcxATqTIUNik0yXnE/Y033nAzpYoVK8q5554ru+66a2BVGTYjlBUx4m5OVqPrUXAmQ179Rh7+cJbr7pSBR7pUmcc+nu3+/+sbjpItK5XcCF5WcNH0M0ybKOhKmP5q2homZmc1ekIb05XME3dNhT8q/q1cudKdkEqBEKrKPP744+6MHc7aueaaa0q8WLoV/kaMGCE1a9Z0VWxihYg7h0BB7AtNck7cYwvcx+a0btiwweW5FmJeUbY+nhF3cyga3YqCMxn40tcy6pONRP2bG49yqTIPfTBzYwRlwJGyTeWKGihKtIkCLqE7neQCw8RsikanTE+CUTJcMk/cNRX+Hn30UUfUv//+eyH6zp7IFi1auAM72ZwaK5mu8KcZM4XQJufEnY+ikTPPPFPTLBJtjLibk9UochScyfUvTJMnP/1fagzEnRKRyKTr2kv1qpU0UBhxN+JuehIaAbOzWsiiYGu1fdW2e/jhh11Fl3Q3p2qfZ+3iI5Bz4m4fozQCRtzNoWjGRRScSd8xU+WZzzduRp15UweX4373O/+/WfXaw2XHrbfQQGHE3Yi76UloBMzOaiGLgq3V9lXbrqwQ93r16rnUnEIWI+4F8HWMuJtD0ahhFJzJVc9OlmcnzReqPs4aeqzcNe4HV8sd+eSadlJj28oaKIy4G3E3PQmNgNlZLWRRsLXavmrblRXiTjp3IW5I9X8nI+5arc1iOyPu5lA06hUFZ3L56K9kzJf/O3BpxLs/yrA3vnfd/+Cqw2TX6lU0UBhxN+JuehIaAbOzWsiiYGu1fdW2KyvEvXz58gW/x9KIu1Zrs9jOiLs5FI16RcGZXPzMl/LS5AVSuWJ5+XbQ0fLg+zNk6Ovfue6/c8UhUm+HqhoojLgbcTc9CY2A2VktZFGwtdq+atsZcdcilf12Rtyzj3HSJxhxN4eSVEkiUqKs978myWtTf5atKlWQqTccJY98OFMGv/qt6/6blx0sjXbaSgOFEXcj7qYnoREwO6uFzIh7aaSMuGu1J/vtjLhnH+OkTzDibg4lqZJEhLif98REefObX6RalYryZf8j5fFPZsuAl7523X/t4oOkSY2tNVAYcTfibnoSGgGzs1rIjLgbcdfqSj7aGXHPB+oxzzTibg5Fo4ZRcCbnjJogb3+3SLavWkkmXtdenvp0jlz3wjTX/ZcvPFD2rrWNBgoj7kbcTU9CI2B2VgtZFGyttq/admUl4m6bU7Ua4Ws3btw4ee2112T48OEpXF2clxhxN4ei0dwoOJMzRn4uH0xfLDtvvYV8eu3h8u/P58o1Y6a67o/p3UZa7FpNA4URdyPupiehETA7q4UsCrZW21dtu7JC3I844gh56623tLDkpV3BRdyHDBki/fv3L/hdvZn8WkbczaFo9CkKzuTURz6Vj3/8VWpVqywf9Wknz02aL1c+O9l1/9leB8i+u22ngcKIuxF305PQCJid1UIWBVur7au2XVkh7lo88tnOiHs+0f//ZxtxN4eiUcMoOJNuD46Xz2Ytld2qV5H3rjpMXvjyJ7l09Feu+0+fu5+0qb+9Bgoj7kbcTU9CI2B2VgtZFGyttq/adkbctUhlv50R9+xjnPQJRtzNoSRVkohsTu16/ycyac4yqb/DlvL2FYfKK1MWyIVPf+m6/+Q5reWghjtooDDibsTd9CQ0AmZntZAZcS+NVJSJ+9y5G0/zDiu77rpr2Esy0t6Ie0ZgTO8mRtzNoWg0KArOpNOIj2XyvN9kj523krGXHixjpy2UXk994br/2Fn7ymG776iBwoi7EXfTk9AImJ3VQhYFW6vtq7ZdlIk7G1I34zjvkLJ+/fqQV2SmuRH3zOCY1l2MuJtD0ShQFJzJcfd8KNN++kP2rLG1vHrxQfLWN7/IuU9MdN1/+IxWckSTnTRQGHE34m56EhoBs7NayKJga7V91baLMnEfNWpUSsT9zDPP1MKX0XY5Ie4jR45Uv/Qrr7wiL774om1OVSMWzYZmOKPpZI++8wP57ufl0qzWNvLihQfKu98vkrMem+A6+8BpLeTovXYJrdCmK9HUldCKYJOZ0JDZ2AmGzHApjUuUiXvogZPnC3JC3L1liA0bNqi6y5JFvpYgVC+Y4UYWcTfioVGpKDiT9sPflx8XrZCWdarJ8+e3kQ9/WCynP/q56/49JzeXjs1qaKAo0SYKuITutJHU0JCZnpid1SqN6YoRd62u5KNdToj7+++/H7pvhxxySOhrivUCI+7mUDS6GwVnctht78msJX9K67rbyX96HiDjZ/wqJz/8qev+nd32kc7Na2qgMOJuxN30JDQCZme1kEXB1mr7qm1XFiPu1HMnA2TWrFkulaZu3brSuXNnOfzww7WwZaVdToh7Vt48Qjc14m4ORaPOUXAmB97yjsxftkra1K8uT5+7v0yYvVROfGC86/5tJzaTf7SspYHCiLsRd9OT0AiYndVCFgVbq+2rtl1ZIu5//fWXnHLKKfL8888LmSJVq1Z1MK1YscIR+H/84x/y9NNPS/ny5bXwZbRd1on7Dz/8IA0bNkzppdO5NqUH5ukiI+7mUDSqFwVncsDQt2Xh76vloIbby5Pn7Cdfzl0mJ9z3iev+zV32lpNahy+vFQVcNN8/TBvDxGyKRl9MT4JRMlxK41KWiPugQYNkwIAB0qtXL+nbt6/Url3bATJ//nwZOnSo3H///UKbfv36aYZZxttknbhXrFjRzVwuuugiadWqlaoDEyZMkLvvvltGjx4ta9euVV1TzI2MuJuT1ehvFJxJq8HjZMmKNdJujx1lZPd9Zer836XjvR+57g/uvJectn8dDRQl2kQBl9CdTnKBYWI2RaNTpidG3DV6QpuyRNwbNWokTZs2leeeey4QHiLuU6ZMkenTp2vhy2i7rBP3Dz74QK6++mqBjDdo0ECOOuoo2XfffaVevXpSrVo115lly5bJjBkzXJs33njD/b1169Zy6623ykEHHZTRDhfizYy4m5PV6GUUnGzzG9+UZSvXubKPlH/8ZsEf0uHuD133B3ZsIt3b1tVAYcTdiLvpSWgEzM5qIYuCrdX2VduuLBH3LbbYQu68804XcQ8oSBqSAAAgAElEQVQSIu6XXXaZrF69WgtfRttlnbh7bztu3Dg3Y3v11Vdl5cqVpWpmkkdUpUoVOe6446Rnz55y2GGHZbSjhXwzI+7mUDT6GQVnsvfAN2T56r+kw947y32ntpQfflkuR9zxgev+dcc2lh4H1dNAYcTdiLvpSWgEzM5qIYuCrdX2VduuLBH3GjVqyEknnSTDhw8PhAfSTkbIggULtPBltF3OiLv31iT9T5o0Sb799ltZvHix++cddthBGjduLC1btpQKFSpktIPFcDMj7uZQNHoaBWfS+Pqxsmrdelf2kfKPMxevkHa3b6w61feYPaTnIfU1UBhxN+JuehIaAbOzWsiiYGu1fdW2K0vEvUePHvLUU0+5P6TF+GXMmDEu/fv00093weh8SM6Jez46WejPNOJuDkWjo1FwJo36vS5r1/8tXZrXlOHd9pF5S1fKQbe+67p/1VG7ywWHNdBAYcTdiLvpSWgEzM5qIYuCrdX2VduuLBH3X375Rfbff3+ZO3eu1K9f3wWWEQLOpHLXqVNHxo8fLzvtFP6kby3eidoZcc8Eimnew4i7ORSNCkXBmdTt+6pwDtuJLWvJsBObyYLfVkmbm99x3b+sfSO5pH34ClRRwEXz/cO0MUzMpmj0xfQkGCXDpTQuZYm403t0gAoyL7/8sqvjjlDHvVOnTtKnTx/ZdtttNUMsK22MuGcF1nA3NeJuTlajMcXuTP7+e4PUu/Y119WTW9eWoV2ayqI/Vkvrm952/3ZRuwZyxZG7a6Ao0abYcQndYcUFhonZFIWaOHLCAYkceJhPIqJ511y2MVyMuOdS38I+y4h7WMSy0N6IuzlZjVoVuzNZ89d62f26sa6rp+9fRwZ13kuW/rlWWgx6y/3b+YfWlz5H76GBwoh7EpSKXVdCK4HiAsPE7KxCTVwT0xUj7hRMeeedd+THH3+UpUuXuoOY/MJBTNR4z4cYcc8H6jHPNOJuDkWjhsXuTFau/Uua9H/DdbV7m91k4PF7yu+r1kmzG950/3bewfXk2g4bcwnDSLHjEqav2raGidkUja6YngSjZLiUbeI+bdo06dq1qyPtsYTdQwbivn79es0wy3gbI+4ZhzT8DY24m5PVaE2xO5M/Vq+TpgM3kvRzD6or/Y5tIn4yf1bb3WRAxz01UJRoU+y4hO6w4gLDxGyKQk0sshwHJBs/ZZu4H3DAATJ16lS58cYbpW3btnHTyHbfPXxqp2ZcJmtjxD0ZQjn43Yi7OVmNmhW7M/GnxfQ6pL5cc8we4k+fOeOAOnJjp700UBhxT4JSsetKaCVQXGCYmJ1VqIlrYrpStol75cqV5dprr5Xrr79eqzI5bZdz4v7EE0/IwQcfLLvttltgR2fPni2ctnrGGWfkFIh8PsyIuzkUjf4VuzNZtHy1tB5SciPq+r83SP1NG1Z3laFd9tZAYcTdiLvpSWgEzM5qISt2W6vtZ5h2ZamqTMOGDeXCCy+USy65JAxEOWubc+Jevnx5efLJJ10B+yDhNCp+y1fuUM6Q9z3IiLs5FI3eFbsz8Zd+vLR9Q7m0fSPXba9E5D9b1ZJb/9FMA4URdyPupiehETA7q4Ws2G2ttp9h2qVD3FesWCG33XabO3xz4sSJ8vPPP8uZZ54po0aNKvEK/MahR2wKpQTjlltuKXvuuafbBNq+ffsSbQnyUp4xSM455xx55JFHwnSvRNt77rlHRo4cKZ999plsvvnmKd8nWxfmnLiXK1fOfZh4xJ0Ped5558natWuz1eeCu68Rd3MoGqUsdmfiP2zpyiMbyYXtNtZsb9jvNVm3foN0aVFThv9zHw0URtyNuJuehEbA7KwWsmK3tdp+hmmXDnH3SPYuu+wiLVu2lFdeeSWQuHNKKeVJ2RjaokULgfA/9thjwmbR++67T84///xNr+zdk7rqsaebNmjQwB2glI7ceuut8tBDD7nsj9q1awtB51jJV2ZITog7p08BMnLooYfKddddV2r2xG/Lli1zBe9//fVX+eGHH9LBvKiuNeJuDkWjsMXuTGYuXiHtbn/fdZX8dvLckcbXj5VV69bL8c1qyN0nN9dAYcTdiLvpSWgEzM5qISt2W6vtZ5h26RD3NWvWyJIlS6RmzZry119/ScWKFQOJ+8cffyytWrWSSpUqbXq1VatWyT777COLFy+WRYsWSYUKFdxvHnHv16+fDB48OExXkradN2+enHDCCfLFF1/EbRv5qjI33HCD8IeOJhKv7M6IESNKzKySolzkDYy4m0PRqHCxO5MfflkuR9zxgevqdcc2lh4H1XN/33vAG7J8zV9y7N67yIhTW2igMOJuxN30JDQCZme1kBW7rdX2M0y7dIi7/zmJiHu897niiitk+PDhQhCY6HcscYe8I2wqzYQcffTRLl3n4osvFirMxDuc7PDDD8/E40LfIycR9y+//NLNXCDmpMGQfxS7jAGpJ5+JZRSWOXItzLAo/fP222/LwoULZaeddnKnyaEQjRptzMVFyL0fNmyYy5/iGpSoR48ectVVVwUupWj6YcTdHIpGT4rdmXy78A855q4PXVcHdmwi3dtuzE/c58Y35beV6+TIJjvJQ2e00kBRok2x4xK6w4oLDBOzKQo1seopcUCy8VMamHwS95NPPlmee+45p6/wRD9xr1q1qkupQeCOl156qVxwwQUa9Y/bhntC2m+66aa07pOti3NC3P0vT+Sd/KW99gpf9i1bIJCaw/uQV08OFRseKLx///33u1UC6nnWqlXLPb53797u38866yxp06aNfPLJJy4Hi39npSAVMeJuTlajN8XuTKbO/1063vuR6yqnpnJ6KtJq8DhZsmKNHL7HjvJo9301UBhxT4JSsetKaCVQXGCYmJ1VqIlrYroSn7gPGjRIOnToUKIBuev80UjYiPu3337rUmWOO+44ef755zc9guj72WefLZ07d5Y6derIggULXECVDa5XXnmlC7CmKgRk+/Tp4yrLFKLknLgXIghsemCG9tJLL0nHjh03vSJKwqaHO+64w83iIPDNmjWTiy66SO66665N7SgZxC7kyZMny957hy9nZ8TdHIpmXBS7M/ly7jI54b5PXFdv7rK3nNR6V/f3/W96W37+Y7Uc0mgHefzs1hoojLgbcTc9CY2A2VktZMVua7X9DNPOi7gHXTNgwAAZOHCg6nZhiPvvv//uUlXIgoBf7brrRp8RT8iIaNeunXz00Ucyffp0qV9/4z6qsNK/f3+XKkNpcgqqFJrkhbj//fff8uabb8qMGTNk6dKlpY6UJcqdy8L3N998sys3NGHCBLcxwpPx48e7qPqDDz7oUnxIm2HpZObMmSXKEFG2qF69eq5g/5AhQ0J/YyPu5lA0SlPszmTC7KVy4gPjXVeH/aOpnNhqY67igbe8I/OXrZK2DarLv3qErwRQ7Lhovn3YNoaJ2RSNzpieBKNkuJTGxSPuuYq4syn1qKOOcrxs7NixLnVZIy+//LIcf/zxm3ib5prYNm+88Ybjc2yiPffcc92EIaiqDJOEfEjOifuUKVPcbl12BHubUWM7nuvduihG69atXd49tUY5HIpUmcsvv9zlTvH71ltv7ZSIWR81SGOFnPjmzZs7BQsrRtzNyWp0ptidyfgZv8rJD3/qunpHt2ZyQvON6WeHDntXZv+6Uvaru52M7nmABooSbYodl9AdVlxgmJhNUaiJpYTEAcnGT3ziTjnvU089VaNegW00EXfSliHfRL3HjBnj0mS0AsckM4IgKuQ7FYmNsscWVoG75pqn+vuRc+J+4IEHynfffSePPvqom0HF262bCtjpXEO9Tj4y+e6ecMIrSlO9enX3T6TBUIyfQwRihZqj69atc+k0iYQlH/745bXXXnMrDKTf5KsuaDrYZePa5cuXuw3N4LrVVltl4xFFd89ix+TT2b9Jr39/7XC/pVMjOarxDu7vJzz8hcz6dZU0q7mVPH5609DfpdhxCd1hxQWGSWmQDBPDRDF0XBPTldJIceo9acHZJu4Qe1KUiZwT1DzppJO0n821g7Oxj5J8dwqhpCKPP/646jIOkcqH5Jy4U66HXCgS/wtJ/vvf/8oDDzzgoursTIaAs7mBTassm7CTmXwpIutsSI0VUmqoMUqkPpHQdzboBslll12mXg4qJOzsXQwBDQLfLNtMHvxu4yEWZzVaL/tU3+D+fvPk8rJw5WZSp+oGuXzv9ZpbWRtDwBAwBAyBHCLAwUjs98smcSeNmsM5R48e7Q4/Ik0lnpBmvd1225X4mfSatm3bugObSMX2SkfmEKacPCrnxJ1cIWpyMnMrFGGG1q1bNxfh9W8uJQ8fIn/LLbfI1VdfbRH3HH4wi3iUBrvYMXn/h6VyyfPfuo7d2XUPObThxpWskx77Sr775U9pvNOW8sxZ4U9OLXZcsjGsDJPojR/Tk2wgEHxPGz+lcUk34n7vvfe61CzIOZtZSS3u0qWLexBpMU2bNnXpyUwOyMagzHasHHHEES54inDtypUrXYozVf+oKkOknD2IHOR5zTXX5E5hcvyknBN3TrhiCYSodVCyf4777x6HknAq1zfffFPq8eS2kzLDEb2W4567r2M5hqWxLnZMxk5bKL2e2ngS3WPd95XD9tjR/b3TiI9l8rzfZI+dt5Kxlx4cWsmKHZfQHVZcYJhEb/woPnvoJqYnwZAZLqVxSbeOO3sH58yZEwg4JbW7d+8uhx56qBDZjyfvvvuua4OQbg1R//77712RE2qvk1pLUJiJQJQl58SdKPZ1113nZl29evVy9TfzvVt39913d98YBfALGxDIryYvn02n5MAzk7OqMtkfEmY4o0c8XpmyQC58+kvXsSfPaS0HNdyY4971/k9k0pxl0mDHqjLucl3lAD86pivR05VsWBjTE9MTrV6ZrmSeuGuxt3bJEcg5cS/E3bqdOnVyqwAff/yxqxnqCSd1nXjiia4MJCsFVJRheSdeHfevvvrKLfeEFasqYw5FozPF7kxe+PInuXT0V66rT5+7n7Spv737e7cHx8tns5bKbtWryHtXHaaBokSbYscldIcVFxgmZlMUamJVZeKAZOPHiLtm/OSrTc6JeyHu1iVth+WXSpUquRNQ2YTK5lQ2R7D54csvv5Sdd97ZfSNWCajrzsmpbIKA7LPM07NnT7e5NRUx4m5OVqM3xe5Mnps0X658drLr6n96HiCt627cWHTqI5/Kxz/+KrWqVZaP+oSvi1vsuGi+fdg2honZFI3OmJ4Eo2S4GHHXjJ98tck5cc9XR5M9l9qfN954ozsul00OEHY2QhBpJ53HE0oV3Xrrra7U0Pz5892mCDZRsHm1QoUKyR4T+LsRd3OyGsUpdmcyesJc6fP8xnKpY3q3kRa7VnN/P2Pk5/LB9MWyyzZbyPi+h2ugKNGm2HEJ3WHFBYaJ2RSFmljEPQ5INn6MuGvGT77a5IW4s5Hg9ttvl3HjxrlNoZQXopzikiVL5O6773Z1O5s0aZIvTHL+XCPu5mQ1SlfszuSpT+fIdS9Mc1196cK20rTWtu7v54yaIG9/t0i2r1pJJl7XXgOFEfckKBW7roRWAsUFhonZWYWauCamK0bctbqSj3Y5J+4//fSTSzHhvw0bNnQbQt966y3xjo5lo+jRRx/tDiMqK2LE3RyKRteL3Zk8/slsGfDSxgOYXrv4IGlSY2v39/OemChvfvOLVKtSUb7sf6QGCiPuRtxNT0IjYHZWC1mx21ptP8O0S7eqTJhnFUJbipNwcitn8xBs5v/9wsmpffv2zcur5py4c9IUG0Hfe+89qVGjhuy4444u8u4Rd1JOOEmUAvplRYy4m0PR6HqxO5NHPpwpg1/dWMf9zcsOlkY7bTwR94J/fSGvTl0oW1WqIFNvOEoDhRF3I+6mJ6ERMDurhazYba22n2HalSXiDv/k9FVIeyxh9zCDuK9fn58DA/+PvasAbyprogd3l+LSQnF3L14Ki2+XhQUW10UXl+KwuNvi8OOwy+JWvFgpDkWKOxQWiuv/zc0mpE3a3JemSd/L3O/jo0kmL2/OO7lzct/cGbsLdyqeTxs5KZ88ODgYadKkCSXc58yZI37F0BfHWQYLdw4oMlxXezCZdyAIY7cHClf39q4EtzSJxd/dVp3GP2cfIEGcWLg80lMGChbuLNyZJ4oR4HlWFjK1z7WyfiqxcybhTtUFqUAJ6VTKEEmeXJfWGXboS4krwdEWtnYX7vHjxwd10KINneaEO+W4k3B/8+aNLfxTxTFYuHNAkSGq2oPJrH3XMWGnrlfCwT6VkSVVQvF3rzVnsPH0fcSNFRNXR9eSgYKFOwt35oliBHielYVM7XOtrJ9K7JxJuCdIkED07RkyZIgSiOxma3fhnjt3bpHDPnXqVLPC3dvbG9euXRMlGJ1lsHDngCLDdbUHk2l7rmHKnqvC1SP9qyBj8gTi777rz2Kt/z3EiAHcHFtbBgoW7izcmSeKEeB5VhYytc+1sn4qsXMm4U77L7t27Sq6sEbHYXfh7uPjIyrKUNI/1UunVJm9e/eicuXKon1t69atMW7cOPTp0yc64hUl58TCnQOKDLHUHkwm77qC6b7XhasnBlZF2qTxxd8DNp7HqhN3xN83xnghZswYMnAYbNSOiyJnJY0ZE55TZKjCPDGPEuNiioszCfcZM2Zg0aJFOH78OOLGjSvzVbKrjd2F+7t371CtWjVRL71YsWICGMonol27VGGmfPnyIuc9Tpw4dgXCkR/Gwp2DrAz/1B5M/tgRiDn7g4SrpwZXQ6rE8cTfQzddwLKjt8XfV0Z5Il7sWDJwsHCPACW1c0URASSNGROeZyWpwuUgzQDlTMKd3Kd+PdSEs0WLFsicOTNixTKNS/SaI4bdhTs5+enTJ5Eqs3r1agQGBuLr16+iNGTTpk3Rq1evaPkLJyovDgt3Digy/FK78Biz7TLmH7whXD3rUwPJEuh+nA/ffBGLj9wSf18aURMJ4yprZKZ2XGSuvVIbxoTnFBnOME/Mo8S4mOLiTML97t27aNCgAQICAsL9GjlVVRmZycTZbFi4c5CV4bzag4mxQL84vCYSxdMJ9NFbL+HPQzfF3+eG1UDS+MrutqkdF5lrr9SGMeE5RYYzzBMW7jI8IRtnEu60D5PSubt16yYyQsKrKlO1qvJO37J4R2TnkBV3W5y4lo7Bwp2DrAyf1R5kjVNiAkd6In4c3a1H4xSagCHVkTKRspxCteMic+2V2jAmPKfIcIZ5wsJdhifOJtwTJ04sRPuYMWNk4bGrXZQL9zt3dJvOsmTJIv7XP7bkpd7ekp0WXmfhzkFWhsdqD7LGm1CDxngh1n+bUCftuoIZ+k2rg6oibRLdplXZoXZcZP1UYseY8JwiwxfmCQt3GZ44m3CnnPZ+/fqJyjLRcUS5cI8ZMyYoFygkJAQJEyaE/rElMBzVkcrSeUXF6yzcOcjK8ErtQVZf9pF8vTnWS8wLNIzLRPr1r4IM/5WJlMGEbNSOi6yfSuwYE55TZPjCPGHhLsMTZxPuQ4cOFakyBw8eFJo1uo0oF+5LliwRAbp58+YCAP1jS0C0bNnSkolmXmfhzkFWhsxqD7K91p7BxoD7iBMrBq6N9jK4bNyY6VDfysicUteYSXaoHRdZP5XYMSY8p8jwhXnCwl2GJ84m3Hfu3CkaMFF1w3bt2omMEXNVZapUqSILn03toly42/RsNXowFu4cZGWorfYg223Vafxz9gHix4mJwJHfO6TOPRCEcdsDBQT7fvdA9tSJZOAw2KgdF0XOShozJjynyFCFecLCXYYnzibcw66y6+8O67H69u2bWJB2VGYIC3dZ1kahHQt3DrIy9FJ7kO3yvwBsPf8QSeLFxvnhNQ0uLzh0A6O2XhaPd/esiJwuSWTgYOEeAUpq54oiAkgaMyY8z0pShdPvzADlTFVlontmiN2Fu5+fHw4cOIABAwaY/Q5R19RKlSqJEjzOMli4c0CR4brahUf7Zf7YdekxkieMgzNDaxhcXnLkJoZtviQeb+9eAXnSJ5WBg4U7C3fmiSIEeJ6VhUvtc62sn0rsnEm4K8HFEbZ2F+41a9ZEkiRJsH79erP+ent74/Xr19i2bZsj8HDIZ7Jw54AiQzy1B5M2S05ib+ATpE4cF/6DqxtcXnHsNgb/fUE83ty1PApkSiYDBwt3Fu7ME0UI8DwrC5fa51pZP5XYOZNwX7RoEVq3bh0uPJQq07ZtWyxcuFAJhDaztbtwd3FxEWV2qEOquUEdVWnV/dGjRzZzMrofiIU7BxQZjqo9mLRcdAIHrj5FuqTxcWzg98YVq0/cQf+N5wUEf3UuiyJZUsjAwcKdhTvzRBECPM/KwqX2uVbWTyV2ziTcY8eOLRaX69evbwIRifZff/0VpNs+f/6sBEKb2dpduCdIkACTJk1C586dzToxa9Ys9O7dG+/fv7eZk9H9QCzcOaDIcFTtwaTZgmM4cj0YGZMnwJH+33fjrz91D7+vOysgWN+xDIpnSykDBwt3Fu7ME0UI8DwrC5fa51pZP5XYOZNwp0oyK1asEJkflStXNsBEov2XX37B6tWrMWfOHLRv314JhDaztbtwz5MnDwoVKiQcNzeaNGmCgIAAXL161WZORvcDsXDngCLDUbUHk5/mHcXxm8+RLVVC7O/zfTL8+/R99FhzRkCwql1plHFLJQMHC3cW7swTRQjwPCsLl9rnWlk/ldg5k3Angf7jjz9i9+7d2Lt3L4oXLy4qyDRr1gzr1q3DvHnzRKqMo4bdhTsVth89ejSmT5+OLl26hPJ79uzZ+O2338TG1VGjRjkKE7t/Lgt3DigypFN7MGk0xw+nbr+AW5pE2Nvbw+Dy5rMP8Nuq0+LxijalUD5nahk4WLizcGeeKEKA51lZuNQ+18r6qcTOmYQ74fLp0yd4eXnhzJkzohnTyJEjsXHjRhAOrVq1UgKdzW3tLtzfvn0LDw8PnDp1ShS1z58/v3DqwoULuH37tvhls3//ftFl1VkGC3cOKDJcV3swqTfrCM7e/Re50yXBjh4VDS7vuPAQHVcEiMeLW5VA5VxpZeBg4c7CnXmiCAGeZ2XhUvtcK+unEjtnE+6EzZs3b1C1alWRBUKr8IsXLxapMo4edhfu5DDlr0+cOFHccrh27ZrAIGfOnPjpp59Efnu8ePEcjYtdP5+FOwcUGcKpPZjUnn4IFx+8Qr4MSbG1WwWDy7svPUa7Zf7i8YIWxVEtr4sMHCzcWbgzTxQhwPOsLFxqn2tl/VRip2XhTivq4Y3g4GCRFkOpM02bNg1lxp1TlTBIY7Ys3DmgyFBa7cHEc+pBBD4KQaFMybCpa3mDy/uuPEGrxSfF47m/FINn/nQycLBwZ+HOPFGEAM+zsnCpfa6V9VOJnZaFO3VKDdsd1RgbWm2nobfhzqlKmKNRWxbuHFBkqK32YFJt8gFcf/IaxbKmwIZOZQ0uH7r2FM0XnhCPZzYtgjoFM8jAwcKdhTvzRBECPM/KwqX2uVbWTyV2WhbuS5cuVQKFwbZly5ZWvS+yb4ryVJk7d+6Ic6R8dhr6x5ZOXG9vyU4Lr7Nw54Aiw2O1BxOPCftwK/gtSmZPibUdvndG9gt6hqZ/HhcQTGtSGPUKZ5SBg4U7C3fmiSIEeJ6VhUvtc62sn0rsIiPcqakmpUfT3kZ/f3/Rp4dE75IlS0xOgaq3TJgwAQsWLMDdu3eROXNmkarSp08fxIoVK5S9ElslvkZ32ygX7vpbECEhIWLDqaVbEnrA6II4y2DhzgFFhutqDyblxvni/r/vUD5HaqxoW8rg8slbz/Hj3KPi8cQfC6FxsUwycLBwZ+HOPFGEAM+zsnCpfa6V9VOJXWSE+61bt5A9e3akT58exYoVw5YtW8IV7tTjh2qkU+WWsmXLws/PT2wKpeepz4/xUGKrxNfobhvlwl1/C6J58+ZCtNMvrIhyifSAOeoWhCMuGAt3DigyvFN7MCk5eg+ehHyAR640WNKqpMHlgDsv0HC2n3j8R6MC+KmE7u6c7FA7LrJ+KrFjTHhOkeEL88Q8SoyLKS6REe4fPnzAs2fPkDFjRtFtNE6cOGaF+/nz50WfHyoLPm3aNMNJdO/eHTNmzMDZs2dRoEAB8bwSW0vfBSqSQgVSrBmRea81n0fviXLhTvXaPT094e7ubu05av59LNw5yMqQXO3BpOjI3Xj+5iOq53XBny2KG1w+f+8lfph5WDwe3SA/mpXKKgOHwUbtuChyVtKYMeE5RYYqzBMW7jI8IZvICHfjz4hIuA8aNAhjxozBjRs3xAq9fty8eROurq4YOHCg6ANEQ4mtJR/phwRVjKEfDFSSXGacPHlS9CNas2YNPn78KPMWm9lEuXCnnKTly5cbyuiEfWwzT1R8IBbuHGRl6Kv2IFvAZydCPnyGV4F0mN2smMHlSw9ewWv6IfF4eN18aFk2mwwcLNwjQEntXFFEAEljxoTnWUmqgLliipQ9hHvNmjXFqjrlwIcdLi4uKFKkCHbs2CFeUmJr6bofPHgQffv2BYnxHDlyiGOXKFFC/FhIkSKFePuLFy8QFBQkbHbu3Cn+LlmyJMaPH48KFb6XN7b0WbZ4PcqFe6pUqUDdUulWBw1Kl1mxYoVJPUxbOKPWY7Bw54Aiw121B5Ncg7fjw+evqFc4A6Y1KWJw+erjENSYclA8HlInL9qU/77S4gy4yPio1EbtXFHqr4w9Y8LzrAxPyIa5Er5wpw6i1FHUeFDuOv2TGRGtuFMaTNy4ccUm1rCjaNGiopsppcjQUGIrc15ks2fPHnFnYevWraBmoWHTuqkMJO3VrFOnDjp06IDKlSvLHtqmdlEu3OkC0y8Uug2RLFkyjBo1CvXr1zd0TDXnDYE1fPhwmzoanQ/Gwp0Digw/1R5M3AZuw5ev39CoaCZM8i6EX3f8KtweWmwmqkw6IP4eUCs3OlRyk4HDYKN2XBQ5K2nMmPCcIkMV5ol5lBiX8IW7OcR8fHwwbNgwGWP3PMkAACAASURBVMpFmOPu5uYGWlmnDalhB21UffLkCa5fvy5eUmIrdWJGRvTjgn48XL58GU+fPhWvpEmTBnny5BGba2PHjq30kDa1j3LhTrlKLVq0wNGjR0XLWBLl+mL24XlCNlxVxqbXWXUH44lTW8Lj69dvcB24TTj1c8nMGNuwIDw3eIrH8z02ouKEfeLvPjVzoUvlHIr4ylzRFlcUXXwFxswT5oksXZgr4Qt3La+4y/LD0XZRLtz1DtKu4sePHyNbtmyYOnUq6tWrF6HvWbMq26DmaCAj8/m84s4BRYY/ag4mHz5/Qa7ButzEFmWyYkS9/AbhvqjqXyg7Ttdyuld1d3Srqmx3v5pxkbnu1tgwJjynyPCGeWIeJcYlfOFOqc7NmjWToZdZm4hSZZTkrSuxtfpko+kbo1y4h60qQ7U5O3bsiFKlvtdxjqbY2O20WLhzkJUhm5qDyesPn5HfZ6dws3W57Bj6Q16DcF9W/W+UHLNXvNatSg70qpFLBg6DjZpxUeSoAmPGhOcUGbowT1i4y/CEbOyxOZWqxowdO1aqqowSW1kf1WIX5cKdq8pYpgILdw6yllmi7g1T/779iMIjdgs3O1RyxYBaeQzC/X81N6HYqD3itc4ebujrmVsGDhbuEaDEgoznFJkvEfOEhbsMT+wl3KmiDFWOCa+O+5kzZ1CwYEFxykpsZX1Ui12UC3eqKkMbF7p16yYw4aoyptRg4c5BVmbCUHOQfRLyHiVH61bVu1bOgd9r5jII9zVem1Fo+C7xWvuKrhjolUcGDhbuLNyZJ4oQ4HlWFi41z7WyPiq1i+yK+8yZM0W1nq9fvwpNSAK9YcOG4jTq1q1rEOSUkTFv3jzRObVcuXI4cuSI6JxKVVzmzp0b6rSV2Cr1NzrbR7lw56oyli8/C3cOKJZZou4V9/v/vkO5//LYe1ZzR/dqOQ3CfUOdLcgXJo1GBg+9DQdZ/v7I8IV5wjyR4QnZMFdMkYqscKf9jbdv3zZ7CUiY//qrrsoY5cBTbfQFCxbg3r17yJQpE9q2bSvqrIet5qLEVvbaq8EuyoU7V5WxTAMW7hxQLLNE3cHkdvAbVJqwX7iprxyjryqzqd5Ww8bVlmWyYni9/DJwGGw4yPL3R4YwzBPmiQxPWLibRymywl0We7azjECUC3f9KaihqszDhw8xYsQIUXyfKuBQmg91xqLbNlRbVD+IwNOmTRP1RKm2J9WopxqmCRIksIy4GQsW7hxQZIijZuFx/UkIqk3WNVka5JUH7Sq6GlbctzbYDqrxTqNpqSwY06CADBws3CNASc1cUXTxFRgzJjzPytKFuWKKlDMJd2oYSqk6hQsXlqWMXe3sJtz1XkXXqjLXrl1DxYoVhfimWzZ0e4YK71P9+QkTJiBnTl2JOrqF069fP1HOsnbt2rh06RJmzJgBT09PbNmyxaqLx8KdA4oMcdQcTC4/fIVa0w4JN4f9kBe/lstuEO47Gu1A9gFb8e0b8FPxzPijsW7zkexQMy6yPiq1Y0x4TpHhDPPEPEqMi3MLd+reSr2EqDsraVYqf5k6dWqZr5RdbOwu3O3ilcIPoYZQVJ6SLtSBAweQOHFis0cgIU/15atXr45NmzYZbKZMmYJevXoJ4U5iXulg4c5BVoYzag4m5+79i7ozjwg3R9XPj19KZw0l3HMO2oZPX76hYdGMmOytbJVDzbjIXHdrbBgTnlNkeKNlnlDTt5gxY8jAYGKjZVysAsSG5SCt/Xx7vo86tC5fvhzLli3D+fPnESdOHKHtaFGX/qdqiY4cDhHuz58/x6RJk7Bnzx7RwpaEK7WzffbsGajue5MmTZA3b1674eLr64uqVati8+bNqFOnDt6/fy+q39CvLuOhv1VE9pUrVza89PbtW5FWQzukyRelg4U7B1kZzqg5mJy6/RyN5hwVbo5vVBDeJTKHEu65h2zH+09fUa9wBkxrUkQGDoONmnFR5KgCY8aE5xQZumiVJ3MPBGHc9kD0ru6O3xQ2dCPctIqLDCfCs3GmVBljDAICArB06VKsWrVKaFRKj/7ll1/QsmVLQyWcyOBqzXvtLtzv378vSvzQ/5R+cuXKFezevRtVqlQR558rVy6RdkI55PYatFuZ0mH2798PKurv5+eHGDFiiFX4yZMno0yZMuJUqBzR/PnzQUI9bD472b58+RKBgYGKT5uFOwdZGdKoOZgcuxGMJvOPCTcnexdCw6KZQgn3Aj47EfLhM2oXTI9ZTYvKwMHCPQKU1MwVRRdfgTFj4hzz7OcvX5Fj0HaDszfHeol4rmQwV0zRclbhrkeCKtjQ/kfa87hzp66ZIOXAU8UbWom3do+jEl7qbe0u3OlXCq1sk0jOkCED0qZNK1be9cKdRPS2bdtw4cIFa/yx6j3169cXqS+Uw1ShQgX8/PPPePDggdioSiL9xIkTItfphx9+EKI+ODjY5HNotZ1+gISEhER4DrQBlv4ZD/J3yJAh4sdKixYtrPJBa28iHOmXbtGiRZEkSRKtuWeVP2rG5OjNf9FpzUXh9x/13FEzTxp47/YWj9dWXwuPacfx77vPqJwzJaY0UlbHXc24WEUEiTcxJqYgMSbOgcnDlx9Qa46/wVnfbiWRMmEciW/NdxPmiilclDZCmzZXrFghcr6dbZAO1K+80w+7PHnyiBSac+fOIV26dFi7di3Kly9vF1jsLtypOgutXJMoJgFMtx2MhfucOXMwYMAAcavKXqNatWrYu3evSJehc9GPQ4cOiQ2rP/74o7go9Prly5eFqA87qLIM2dCvsogGVZ8ZPny4WZOePXuiUqVK9nKbP4cRsBsCF1/EwPxAXV5ga/cvKJTqGya9miQe907aG0P8Y+HVpxjIm/wrOuT5arfz4g9iBBgBbSFwKwSYciG2waleBT4jq/lta9pyPIq9of1/tJ/PmYQ7aT3KdSfBTtkhtP/R29sbbdq0QenSpQXi1CCKVt31Ij6KL4M4vN2Fe/z48UEdtMhRc8KdctxJuL9588Ye/ovPoJV02li6ZMkSkbdkPKhpwLt370R5SF5xt9slEXcueMU9NN5qxsT3ajB6bdSlkU1vnAcVc6QMteJea7Y/Hr76gFLZkmFeE2V13NWMS1R9oxgTU2QZE+fAZN/VYPT8b64hj2d750VZ1xSKvmrMFVO4nGnFnfLZSazTgi4VLaFMjNatW4tF3IQJE5qAs2jRIrEg/enTJ0U8s9bY7sI9d+7cIod96tSpZoU7/Zqh0oynT5+21ifF79O3zd2+fbs4N+NBv6pIQH78+JFz3BUja/0bOMfQFDs1Y7L13EN0WRkgnFrWuiQquqcJleNeeeJ+3Hz2BiWzp8TaDro9JbJDzbjI+qjUjjHR1vdH6fWXtdciT9afuoff1501QDDj5yL4oVAGWUiEnRZxUQSAGWNnynGn4iSUyk2pyyTYc+TIESF8lEZD2SLUAdYew+7C3cfHR1SUocosbm5uIlWGftVQlRb6hUMgjRs3Dn369LGH/+IzFi5cKO4AEDHpf+NB9dxpUOtd2phKv6rCVpWhFfmUKVNyVRkbXjGeOLUlPP4+fR891pwRTq1sVwpl3VKHEu41pxzElcchKJIlOf7qXE4Rk5gr2uKKoouvwJh54hw8WXHsNgb//X2P3OgG+dGsVFYFTGHhbg4sZxLus2fPFou4rq6uZnlz69YtHDx40GF7Eu0u3EnkUk65v78/ihUrhuPHj4uqLVQiknKIKLmf8swpX8heg0r8UH122oBK+Ur6Gp2UPkPpMZTPtGDBAlG6kuxq1qyJv//+23B6+jru//zzj7BXOriqjHMEFKW8CGuvZuGx1v8u+q4/J1xa37EMimdLGUq415lxCBfuv0K+DEmxtVsFRVCpGRdFjiowZkx4TpGhixZ5suDQDYzaetngfv9audGxkpsMHAYbLeKiCAAzxs4k3EkDUi4/FSoxN9asWQPa10hpNI4Ydhfu5CTlAVGqzOrVq0X5xK9fv4rSkAQENTIKWz/dHsBQRZcePXqIXCZK16FylZRvnyhRIpw6dQqZM2cWp0F3AygHnyrRGHdOpR8jlGpjzWDhzkFWhjdqDiYrj9/BwL/OCzf/7lIOhTMnDyXcG8w+gtN3/oW7S2Ls6qlsg7aacZG57tbYMCY8p8jwRos8mel7DRN3XTW439nDDX09c8vAwcI9ApScSbhTqgwJd9Kk5gbth2zfvr1IoXbEcIhwd4SjMp9JF4rqtl+6dElsQKAOqWPHjjW5XUJ1PEnoBwUFiVQf+lVGlWLMbVqQ+VwW7hxkZXii5iC71O8WfP7RlYPc2q088mVIFkq4e887ihM3nyN76kTY97uHDBwcZCNASc1cUXTxFRgzJs4xz07YGYhZ+4IMzv5SOgtG1S+ggCmcKmMOLK0L9zt37oBSYGh4eHhg8ODBIjsk7Hjx4oXQhVRchfZjOmI4TLhTzXOqnX7z5k3RHIFyierVqydKLjrbYOHuHAElsrxWs/Awvn29u2dF5HRJEkq4N194HIeuPUPG5AlwpL+uGZvsUDMusj4qtWNMeE6R4YwWeTJi8yUsOnLT4D53Y5ZhgmUbrQt3Wnylf5aadX379k2ANWvWLHTq1MkycFFgYXfhTnXO6fbDhg0bQABQXUwar1+/FoA1btwYK1euNOSZR4HP0e6QLNw5yMqQUs1Bds7+IPyxQ1cOklbUaWXdc4OugtOORjvQeslJ+AY+QZok8XBykOkqR0T4qBkXmetujQ1jwnOKDG+0yBNKyaPUPP2ontcFf7YoLgOHwUaLuCgCwIyx1oU7VTKkCoKkSykNxrhWux4O0qiUPk37My1Vmoks3hG93+7CfeTIkaDKMlSCkXLF9bnjVLWFbj9QSR2yGTRoUFT6Ha2OzcKdg6wMIdUcTKbvvYbJu3V5p4f7VUamFAlDCfcOy/2x8+JjJE8YB2eG1pCBg4NsBCipmSuKLr4CY8bEOebZXmvOYOPp+wZnK+RMjeVtSilgCqfKmANL68Ld2GdaeW/UqBHy51fWU0QRySJhbHfh7u7ujoIFC2L9+vVmT5tW3KmF7NWr3zeXRMI/VbyVhbtzBJTIklHNwmPyriuY7ntdQHB8YFW4JI0fSrj/tuo0Np99gIRxY+HSiNC9FCzhpmZcLPlm7euMCc8pMtzRIk86/+8Utp1/ZHC/eNYUWN+prAwcvBgQAUrOJNwVkcUBxnYX7tQ5lSrK0Iq7uUEr7j179sT79+8dAIdjPpKFOwdZGeapOciO2x6IuQd0G8YChlRHykRxQwn3XmvPYGPAfcSJFQPXRnvJwMFBNgKU1MwVRRdfgTFj4hzzbKvFJ7DvylODs3nTJ8W27lxiVsFXxayploU7bUylkSVLFvG//rElzPT2luxs/brdhTt1o2rSpImo3mJukGinGpkPHjywta/R9ngs3J0joESWgGoWHqO2XMKCw7oNY+eH1UCS+HFCCff+G85h9cm74vWbY70sbhAyxlLNuESWE+G9nzHhOUWGW1rkSZP5R3HsxnOD+66pE8GXK1XJ0CFCGy0Ldyr/SPnrISEhojqg/rEl0Jymjjt1JqWyi/SP0mKMx8aNG8XG1ebNm4sups4yWLhzkJXhupqDrM+mC1h69LZwM3CkJ+LHiRVKuA/5+wKWH9O9fnVULcSNHVMGEmGjZlyknVRoyJjwnCJDGS3ypP6sIzhz91+D++mTxcfRAcqq1WkRFxk+RGSjZeFOddlJuJP2JNGuf2wJs5YtW1oyiZLX7b7i/vjxY5QuXVrcinBzc0OePHmEY5cvXxZ10akz6dGjR+Hi4hIlDkfHg7Jw5yArw0s1BxPjSg9BY7wQK2aMUMJ95JZLWPjfivyF4TWROF5sGUhYuIeDkpq5In3hFRoyJs4xz3pOPYjARyEGZ5MliIOzPrzhXeHXxcRcy8I9stjY+/12F+76FTKqILN582ZRx51G9uzZRR33fv36IXny5PbGwaGfx8LdOQJKZEmmZuHRZ91ZrDt1DzFiUCpMbQGFcTlI4xz400OqI0WiuNJwqRkXaScVGjImPKfIUEaLPPGYsA+3gt8a3Ke7d3QXT8nQIi5K/Ddny8IduH37tmi8VKRIEUXpnJHFPuz7HSLcbe2E2o/Hwp2DrAyH1RxMeqw+jb/PPBApMPogaizcjavOnBhYFWmTxpeBRNioGRdpJxUaMiY8p8hQRos8KTVmDx6/+hDKff1dPhlMeE4xj5IzCXcqknLo0CHRU0g/fvvtN8yePVs8pDKRvr6+SJUqlSylbGpnN+EeGKhrvpI7d+5wHZCxsan30eRgLNw5yMpQUc1BtsvKAGw99xCJ4sbCxf/KPRoL9xl7r2HSf3XeD/WtjMwpE8pAwsI9HJTUzBXpC6/QkDFxjnm24LCdePX+cyhnOf1O4ZfFjLkzCfcSJUqIJktz584VSBw5cgQVKlSAt7e3EO2UMdK5c2dMmDAh8sBacQS7CPcTJ06gTJkyogwk/WoJb8ycORM9evTAyZMnxa0IZxks3J0joESWz2oWHu2X+WPXpccwzjc1Fu7zDgRh7Hbdj3vf3pXgmkbXUVlmqBkXGf+ssWFMeE6R4Y0WeeI+eDs+fv4ayn3qxkxdmWWHFnGR9T08O2cS7qlTpxaNQvV6laodrlu3TuzNpM2rffr0waZNmxzWb8guwr1169bw8/MTG1Bp5254g1rN5suXD+XLl8f8+fMjyzPVvJ+FOwdZGbKqOZj8uvgE9l95irRJ4uHEoGrCXWPhvujwTYzYckk8v7NHReRKl0QGEmGjZlyknVRoyJjwnCJDGa3x5MvXb3AbuM3Edb6LJ8OGiG2cSbhTSUhaSCbtSqNAgQKgVfhFixaJx/R/165d8fbt970UkUdY/gh2Ee5UPebnn3/GqFGjLJ7ZkCFDsGrVKly/ruuy6AyDhTsHWRmeqznINv3zGPyCgpEpRQIc7lfFRLhTKUgqCUljc9fyKJApmQwkLNzDQUnNXJG+8AoNGRPtz7NvP35G3qE7TRzlxQCFXxYz5s4k3N3d3VG7dm1MmTJFrLJny5ZNlIhs0aKFQIZSZP744w88e/Ys8sBacQS7CHfqlkrJ/q1atbJ4ivRLpkuXLnj37p1FW60YsHDXfkCxBVfVLDwaz/GD/+0XcE2TCL69PUyE+5qTd9Bvw3nx/IZOZVEsawppyNSMi7STCg0ZE55TZCijNZ4Ev/6AYqP2CNdTJIyDF28/ib//7lIOhTPLV6vTGi4yXLBk40zCfdCgQZg0aRKo79Dx48dx5coV3Lp1CylTphQwNWvWDNeuXQOlgTti2EW4U3nH0aNHC0FuacyaNQsDBw7Ey5cvLZlq5nUW7hxkZcis5mBSd+ZhnLv3ErnTJcGOHhVNhPtfp++h55qz4vnV7UujtKv8bn014yJz3a2xYUx4TpHhjdZ4cu/FW5T/Y59wnTqm3nj2hucUGSJI2DiTcKeF406dOuGff/4R5clJxDdo0ECgRNo0Q4YM6N69O8aMGSOBnO1N7CLcixcvDrr1YFxaJzxX6JcM/brx9/e3vbfR9Igs3DnIylBTzUG25pSDuPI4BIUyJ8emLuVMhPuWcw/QdeVp8fzyNiVRIWcaGUiEjZpxkXZSoSFjwnOKDGW0xpPrT16j2uQDwvWiWZIj4I6ug+qSViXgkSutDCQ8p4SDkjMJ94iI8vXrV4SEhIDy4OPEiSPNKVsa2kW4jxgxQqy4Hzt2LMJqMadPn0apUqVAee70z1kGC3cOsjJcV3OQrTxxP24+e4OS2VJibccyJsJ958VH6LD8lHh+YcviqJpHvnOymnGRue7W2DAmPKfI8EZrPLlw/yXqzDgsXK+SOy18A5+Iv+f+UhSe+dPLQMLCPQqE+6+//oqlS5eGiz/tf6T0FEpHoWac5kabNm2wYMEC6WuoZUO7CHe6tUC1L+n2w8SJE9G0aVPEjfu9M+LHjx/FajyV2EmQIAHOnz+PZMnkN6ep/QKxcOcgK8NhNQfZcuN8cf/fdyifIzVWtC1lItz3XXmCVotPcpCVIYKEjZq5IuGeVSaMifbnWf9bz9F47lHhaMOiGbEx4L74e+pPhVG/SEZp3jBXTKGKzIr70aNHERQUZHLQadOmieyKU6dOoWjRogbhXq9ePTRu3DiUfY4cOVC6dGnpaxhZQ1pZ37Vrlzjv58+fg6oeGg+qkOioBWa7CHdylsR43bp1xQ7dePHiIVeuXEiaNKm45UCNlz58+ICsWbOKnCIS+c40WLhrP6DYgs9qDibFR+3Gs9cfUTV3Wiz8tYSJcD9y/RmaLTgunp/+cxHULZRBGjI14yLtpEJDxoTnFBnKaI0nh649RfOFug2Dbcpnx8LDN8Xf4xoWQJOSWWQgETZaw0Xa8QgMIyPczR2WSimmS5dOVGw5d+6cMNGvuNPqu0wVQlv4Ze4YdD6U007nE1aw6+1JuH/58iWqTiHC49pNuNNZvH79GvPmzROF6y9duoRXr14J8Z43b17Ur18f7du3R+LE8o1XHIJYFHwoC3cOsjK0UnMwKTBsJ0Lef0at/Okw55diJsL9xM3n8J6nWymb+GMhNC6WSQYSDrLhoKRmrkhfeIWGjIn259ldFx+h/X8pd7/XcMfEXVeF0z4/5EWrcuZTMMzRiLliioqthbte91AWRu/evU2EO4l3GpSFYe9BvYRoQXnhwoWoVKmS2KAanYZdhXt0cjw6nQsLd+0HFFvwTc3BJNfg7fjw+SvqFc6AaU10XZGNGzCdvvMCDWb7iefHNiyAn3l1LFKUUTNXIuV4BG9mTLQ/z/5z9gG6rdJtch9VPz8G/9cbop9nbnTycJOmFnMl6oV7jRo1sG/fPty7dw8uLro9TfoVd1rApYVeGpQi06NHD6mqhNIX2IIh/VgYNmwY+vXrZ6tD2vQ4LNxtCqd1B2Phrv2AYh0zQr9LrcGEbjW6DtwGShH8sVgmTPixkIlwv/jgJWpP120qG1EvH1qUySYNmVpxkXbQCkPGhOcUGdpojSdrT95F3w26tItZTYuiy8oA8Xf3qjnRs7q7DCTCRmu4SDsegaF+xX3kyJHw8vIKZZk+fXrQP9lx//59ZMmSBbVq1cKWLVsMb6NUaupWShkYlDr94MEDsSGV8uB///130fjIHoPOje4CUMnH6DhYuEeDq8LCnYOsDA3VGkw+fv4K98HbhYu/lM6CUfULmAj3a49DUH3KQfH84Np50LaCqwwkHGTDQUmtXJG+6FYYMiban2eXHb2FoZsuCkdXti2Fpv/tm+lQ0RUDvPJIs4a5YgqVXribA9HHx0esUMuOcePGYcCAAVi3bp3JJtSwx6A88ipVquDw4cO4evUq3Nzk75zInk9YO8qv37x5M/z8/BArVixrDxNl72PhHmXQyh+Yhbv2A4o8G8K3VGswef3hM/L76NqQty6XHUN/yGsi3G89ewOPifvF8309c6GzRw5pyNSKi7SDVhgyJjynyNBGazyZdyAIY7cHCte3dasAr+mHxN8ty2TF8HryRS+0hosMFyzZ2HLFnfY1Pnr0CA8fPhTFSiwNEtFU3IT2SNJeyKgeVE1m8ODBoMoyHTt2FKv/5gQ8/aBwxGDh7gjUw3wmC3cOsjI0VGswef7mI4qO3C1c7FjJDf1r5TYR7lQqkkpG0uhZzR3dq+WUgUTYqBUXaQetMGRMeE6RoY3WeDJ1z1VM3XNNuH6kfxXDnPJT8cz4o3FBGUh4TgkHJVttTj158iRKliyJzp07Y9asWVLXhKq8FCpUSPQDGjhwoNR7ImMUM2bMUG+nCjLGg9I/naaqTGSA1PJ7WbhzkJXht1qD7KOX71F67F7honGuqfHm1GevP6D4qD3CprOHG/p66sS9zFArLjK+WWvDmPCcIsMdrfFk3PZAzD2gqxceMKQ6yo7bi/efQm+Kd0ZcZHy2ZGMr4d61a1ch2I8fPy4EvMzYuHEjGjVqJPLdqRFTVI+ImkUZf3bLli2j+lTMHp9X3B0Ce+gPZeHOQVaGhmoNsreD36DSBF0aTJ+audClsi4Nxli4h7z/hALDdonnqf7ykDq6dBqZoVZcZHyz1oYx4TlFhjta48mwfy5iid8t4frlEZ4oM24v/n37CTXyumB+i+IykAgbreEi7XgEhrYQ7tRsM0OGDEibNq0oCR52UKOjlClThnqaGneWK1cOFy5cEM2QMmfObAt3VH0MFu7R4PKxcOcgK0NDtQaT8DaeGgv38DawahkXGd+stVErV6z1V+Z9jIn259n+G85h9cm7wtEbY7xQdpwvHr16j4ruabCstdzqLgt3898mWwh3/co5bU41V2qxYcOGoMZM1CE1U6ZMoqoMrX7fuHEDY8eORf/+/WW+6pq3cYhwj86tZB1xxVm4az+g2IJXahUeF+6/RJ0ZpqUejYV7eCUjZXBTKy4yvllrw5jwnCLDHa3xpPvq09h05gHixY6JK6NqofLE/bj57A1KZk+JtR3KyEAibLSGi7TjERjaQrjXq1dPlH+8e/euWHkPO6jhEQn1K1eugFbfqZ570aJFRVlG2pxqz0GfP2nSJOzZswdPnjwB6bSyZcvi2bNnmD59Opo0aSKahzpi2F24R/dWso64CCzcOcjK8E6twSTgzgs0/K+50h+NCuCnErrW48bCnR7nGbID7z59wQ+FMmDGz7omTTJDrbjI+GatDWPCc4oMd7TGkw7L/bHz4mMkTxgHZ4bWgOfUgwh8FIKCmZLhn67lZSBh4R4OSrYQ7tIXwMGGVGee0nPo/5w5c4ofErt37xZlKWnkypULnp6emDZtmkPO1O7CPbq3knXEVWDhzkFWhndqDbJHg4Lx85/HhItTfiqEBkUymRXuhUfs4nxUGSJI2KiVKxKuWW3CmGh/nm2x6AQOXn2KdEnj49jAqqg/6wjO3P0X7i6JsatnJWnuMFdMoXIm4U6bTqkE5f79+w05+bTyrhfuffv2xbZt20TevSOG3YV7dG8l64iLwMJd+wHFFrxSazA5osxUaAAAIABJREFUcPUpWi46ISCgboa1C+o67IVdcS81Zg8ev/qASu5psJTzUSNFGbVyJVJOW3gzY6L9edZ77lGcuPUc2VMnwr7fPfDz/GM4eiMYWVImxMG+laXpxVxxbuHu4uKCDh06YMSIEQgODkaaNGlEyoxeuM+ZM0c0kCKeOGLYXbhH91ayjrgILNy1H1BswSu1BpPdlx6j3TJ/AcGCFsVRLa+LWeFeacI+3A5+i1LZU2IN56NGijJq5UqknGbhrhg+rfGk7szDOHfvJfKkT4rt3Sug1eIT2HflKdIkiYeTg6pJ46M1XKQdj8DQmVbc48ePj5kzZ6Jt27ZmhTvluJNwf/PmjS2gVXwMuwv36N5KVjGCNngDC3cW7jI0Umsw2XruIbqsDBAuUmUHqvBgbsW9xpQDuPr4NQpnTo6/u5STgUTYqBUXaQetMGRMeE6RoY3WeFJ98gFce/IaRbIkx1+dy6HTilPYfuERksSPjfPDaspAwnNKOCg5k3DPnTu3yGGfOnWqWeHu7e2Na9eu4fTp09KcsqWh3YV7dG8la0twZY/Fwp2DrAxX1BpkNwbcQ6+1Z4WLq9uXRmnXVGaF+w8zDuP8/e+rZTKYsHA3j5JauSJ7za2xY0y0P89WGO+Lu8/foaxbKqxsVxq91pzBxtP3ETdWTFwdXUuaNswVU6icSbj7+PiIijK+vr5wc3MTqTJ79+5F5cqVRdWb1q1bg0pa9unTR5pTtjS0u3CP7q1kbQmu7LFYuGs/oMhyISI7tQaT1SfuoP/G88K1vzqXRZEsKcwK9x/n+uHkrRdwTZ0Ivr97SEOmVlykHbTCkDHhOUWGNlrjCXVfpi7MVXKnxaJfS2DAxvNYdeKOgCJojBdixQzduj48jLSGiwwXLNk4k3Cnpk/VqlWDv78/ihUrJrq8lilTRpSopAozVGSFct7jxIljCbYoed3uwj26t5KNEpQtHJSFOwdZGd6pNZgsO3oLQzddFC5u7VYe+TIkMyvcf1lwHIevP0PG5AlwpL+u7JbMUCsuMr5Za8OY8Jwiwx2t8SS/z068/vAZtQukx6xmRTF880UsPqLrpHpxeE0kihdbBhZOvzODkjMJd3L/06dPIlVm9erVCAwMBPUfotKQTZs2Ra9evRA3blwpLkWFkd2Fe1Q4ofZjsnDnICvDYbUG2T8P3sDobZeFi3t6VUSOtEnMCvc2S05ib+ATpE4cF/6Dq8tAImzUiou0g1YYMiY8p8jQRms8yTFwGz5//YZGRTNhknch/LEjEHP2BwkoTg2uhlSJ48nAwnMKC3cpnjjKyGHCnYrZb9q0CTdv3kSMGDHg6uoK6qpVtWpVR2HhsM9l4c5BVoZ8ag2ys/Zdx4SdV4SLB/tURpZUCc0K987/O4Vt5x8hcbzYuDCcN5LJcCI8G7VyJTI+W3ovY6LtefbTl6/IOWi7cLJZqSwY3aAApu+9hsm7r4rn6C4e3c2TGcwVU5ScacV92bJlqFixIrJly2aWLrdu3cLBgwfRokULGTrZ3Mbuwv3z58/iVsOGDRtAbc6ppS2N169fCwHfuHFjrFy5ErFixbK5s9H1gCzctR1QbMU7tQYTCpwUQGkcH1gVLknjmxXu+o1kcWLFwLXRXtKwqRUXaQetMGRMeE6RoY2WeBLy/hMKDNsl3G5bPjsG18mL+QeDMGZboHhuT69KyJFWpzcsDS3hYslX2dedSbiT/ly+fLnQqubGmjVrxGtfvnyRhc+mdnYX7iNHjgTt2O3YsaOog5k5c2bh0L179zB27FhQYXuyGTRokE0dVXow2k2sX/2nsj85cuQwHII2LgwbNkz8wHj69Kl4rXv37mjXrp3SjxH2LNw5yMoQR63BZOz2y5h34IZw8czQ6kieUJcbGLYB04CN57DqxF3xGm8kk2FE+DZq5UrkvI743YyJtufZJyHvUXL0XuFk18o58HvNXDDeX7Plt/LIn1G3v8bSYK6YIuRMwp2KqKxYsSJc4b5kyRK0b98eHz9+tESlKHnd7sLd3d0dBQsWxPr16806RCvu586dw9Wruttbjhh0MQoVKoS7d++KAvthhXvt2rVBZS27du2KvHnzYuvWrSLtZ/z48VaVB2Lhru2AYisOqzWY+Gy6gKVHbwsYAkd6In4c3d20sMJ92D8XscRPt5Hs8ghPJIgrd9dNrbjYihfmjsOY8Jwiwy8t8eRO8FtUnLBPuN2nZi50qZwDa/3vou/6c+K5DZ3KoFjWlDKwcI67GZS0Ltzv3LkDSoGh4eHhgcGDB4vKMmHHixcvxCIzdVQlbeiIYXfhTh2paKcurbibG7Ti3rNnT7x//94ReIjPpItC50i3Quh/Y+G+ZcsW/PDDD5g8ebI4T/2g/HzK2799+7ao+alksHDnICvDF7UG2b7rz2Kt/z3EiAHcGOMlUuLMCXfjlfnTQ6ojRSK5XftqxUXmmltrw5jwnCLDHS3x5OrjENSYclC4PaROXrQpnx3/nH2Abqt0TXJWtCmF8jlTy8DCwt0Jhfvw4cNB//TxKTyiUIo3jVmzZqFTp05SfLK1kd2Fe4YMGdCkSRMhfM0NEsOUP/TgwQNb+yp1PBLetIpO7W7pb7qQxsK9WbNm2Lhxo6jnmSDB940u+/btQ5UqVTB//nzFKTMs3DnIypBTrUGWAicF0ARxYuHySE+Dq2FX3I1z4Y8NqIp0yXS58JaGWnGx5FdkXmdMeE6R4Y+WeHL27r+oN+uIcHt0g/xoViordl18hPbLT4nnFrQojmp5XWRgYeHuhMKduqAGBASIvZeUBtOmTRuULl06FBIk6hMlSiRquxunT0uRyoZGdhfubdu2FblD9I/SYowHCWJa5W7evDnotowjBq2cP3nyBH5+fkK0hxXuuXLlQooUKXDs2LFQp0d57wkTJkSHDh0wd+5cRafOwp2DrAxh1Bpk2y3zx+5Lj5EyUVwEDPle5jGscDeuPnOgjweypkokAwsHWTMoqZUrUhfcSiPGRNvz7PEbwfhpvi4uT/YuhIZFM+Hg1adoseiEeG5m0yKoUzCDFHuYK6YwaT1Vxthj0n2NGjVC/vz5pfhibyO7C/fHjx+LXzGUT0StZPPkySN8vnz5MoKCgpA1a1YcPXoULi5yv4xtCRilwZBwP3HihPhFRRtQwwr3JEmSoEaNGqIqTtiRMmVKlCtXDps3bw73tB4+fAj6Zzy2bduGIUOGYNq0aQ4rL2RLHG1xrJCQEPHrt2jRoiDMeQBqxaTj6os4dutfpEsaFzs6lzBcSu/d3uLvtdXXiv9XnHyAiXtvir/XtymMHGnkhLtacYlKTjMmpugyJtrG5MiNF+iy9pJwckL9XKieOzVO332FVv/TdW0eUTsn6hZIK/W1Y66YwkQlEqkIBy26UuYBD8chYHfhTq7Sr1nKIyeBS3XcaWTPnl2I5n79+iF58uR2R4RWzPPly4fq1atj3rx54vPNCXcqE/TTTz+JijJhB6UBUZoNtcINb+iPae51ShOqVKmS3X3nD2QEohKBaRdi4UZIDKSN/w2DinwvnzXp1STxsb2T9hb/H34UA+tu6jak9i7wGVnkKrdF5anzsRkBRkAlCJwNjoFFV3XzR/vcX5AvxTfcfQ1MPK/rlvpj9i8on06Xn8xDOQIHDhzAlClTnEa4U6dUKkJCC8qUGq3PbdcjR2kztODqiOEQ4e4IRy19Ju0gnj17tqhmkzq1bgMLr7hbQi3qXucVD1Ns1YrJz4vP4PLjN8jtkgirWxU2OBZ2xX3Tucfw2XZdvL64WQEUyZxUimBqxUXKOSuNGBPtfH+spIDU27TEk60Xn2DQZl2Vjz9/zo8SWZMh6NlbNFqg25zau0o2NC+Z0elwkXJYwsiZVtypsmGDBg1ElZmwgt1YuDtNHXcJftjdhDbCUufWHj16gHLw9WP69OmYMWMG9u7dKzpokQ3nuNvn8nCOoSnOasWk6qT9CHr6BsWypsCGTmUNjoXNcd989gF++68CxPI2JVEhp1x1JrXiEpXfJMZEO98f5okcAqtO3MGAjbq0mL86l0WRLClw9/lbVBivKxH5ew13dK2SU+pg/P0xhcmZctzLly+PwMBALFy4UGRBOCILJCKiRvmKO+Wy08iSJYv4X//Y0rdHb2/JzhavnzlzBkWKFInwULSTmLq70ubZv/76i6vK2AL4CI7BE6d2hEe5cb64/+87lM+RGivalgpXuHMFCNt9qfj7o53vj+1YoW1MFh+5ieGbdTnuO3pUQO50SfE05ANKjNalrnap7IY+NXNLwcnfH+cW7lQxkDIuKHU7Oo4oF+7UgYpygeiWHFVd0T+2BIY9b0G8fPlS1GAPO9auXYt169aJVfdMmTKhfv36Ii+/bt264dZxp1sradPKbYDRfx5XldF2QLHEddnX1RpMio3cjeA3H1EtjwsWtCwernA/cPUpWnIFCFk6RGinVq7YxPlwDsKYaHuenb3/OsbvuCKc1FelCnn/CQWG7RLPUV13qu8uM5grzi3caeG4d+/eYjNudBxRLtypNSwJdyrxSKJd/9gSGC1btrRkEuWvm8txpw/19PQU6TO//fab2IxK1WiocyptuO3fv7/i82Lhru2AopgQGhMeeYfuwNuPX1CnYHrMbFo0XOF+4uZzeM87Kl6f0LggfiyeWQo6DrL8/ZEhCvNE2zyZvOsKpvvq9sgcH1gVLknj49OXr8g5aLt4rlmpLBjdoIAMVbjErBmUnClVZtSoUWKRlsqCU0GS6DaiXLhHN4eVnE94wv3t27fw8fHBqlWr8PTpU1HWkn6ZUQ13awYLd20HFGs4Ye49ahQetLHHbeA2fP0G/FgsEyb8WChc4X7h/kvUmXFYvD6iXj60KJNNCjo14iLlWCSMGBOeU2TooyWejNl2GfMP3hBun/WpgWQJ4oi/cwzchs9fv6Fh0YyY7P19c3xE+GgJFxkeyNg4k3CnajJUsIQqy3Ts2FGUKTcn4KnppiOG3YU77UyuWLGi2OxpblCqycGDB52qnjkLdw6yMl9+NQaTD5+/INfgHcK9FmWyYkS97w0twm5ODXr6GlUnHRC2/WvlRsdKbjKw8OqYGZTUyBWpix0JI8ZE2/PskL8vYPmx28LJK6M8ES+2bqU0v89OvP7wGbULpMesZt/v+LFwV/ZlcibhTtkhxoOyRowHLUjRc/ZM6Q51Pt/Cq3Wj7JpKW9OvluXLl4tNnubGmjVrxGuOAkTaERsasnDXdkCxFVXUKDxevv2EQiN0OabtK7pioJeu4RqNsML94ct3KDPWV7zWrWpO9KruLgWdGnGRciwSRowJzyky9NEST/qsO4t1p+4hZgwgaIyXEFY0io/ajWevP6Jq7rRY+Ov3BnAs3GUY8t3GmYT70qVLpcBxVEq33Vfc6ZcMdd4KT7hTDnz79u3x8eNHKeC0YMTCnYOsDI/VGGQfv3qPUmP2mhXjYYW7schvVyE7BtXmjWQyvDBno0auWOur7PsYE23Ps11XBmDLuYdIFDcWLo7wNDhb/g9f3HvxDuVypML/2paWogtzxRQmZxLuUiRxoJFdhDuVgKQUGBoeHh4id6hatWombr948UJs8AwODsa1a7pGCs4wWLhrO6DYisNqDCa3nr2Bx8T9AoJ+nrnRyeN7+ktY4f7x81e4D+aNZLbgixq5Ygu/IzoGY6Ltebbt0pPYc/kJUiWKi1NDqhucrTb5AK4/eY2iWZJjY+dyUjRjrrBwlyKKg4zsItyHDx8O+hc2Tyisz/qsnVmzZqFTp04OgsT+H8vCXdsBxVaMUmMwufzwFWpNOyQg8PkhL1qVy26AI6xwpxcMG8mKZMTkn3gjmbXcUSNXrPVV9n2Mibbn2WYLjuHI9WBkTJ4AR/p/3zRYZ8YhXLj/CnnTJ8W27hWk6MJccT7hvmjRIiluGBu1bt1a8Xts8Qa7CPfTp08jICBAtI6lNJg2bdqgdOnQt6xI1FOTo2LFiiFHjhy28E01x2Dhru2AYisiqjGYnL7zAg1m+wkIxjUsgCYldY3YaJgT7gWG7UTI+8/wzJcOc5sXk4JOjbhIORYJI8aE5xQZ+miJJw1nH0HAnX+RM21i7O5VyeD+j3P9cPLWC7imSQTf3h4ysPCGdzMoaT1VRt9jSHbbp1NtTqWV90aNGiF//u/VJaS+SRo2YuHOQVaG3moMsn5Bz9D0z+PCvWlNCqNe4YwRCvdSY/bg8asPqOieBstal5SBhYOsGZTUyBWpix0JI8ZE2/Os59SDCHwUgoKZkuGfruUNzjZfeByHrj1DhmTx4TegqhSDmCumMFkr3ClNOnv273dajY9Mi7gLFiwwPEVFSSZMmCCeu3v3LjJnzoy2bduiT58+UV5P/cABXUUzJaNSpe8/EJW8L7K2dllxj+gkqQ46jTRp0kTWF9W+n4W7tgOKrYipxmDiG/gYrZf4Cwjm/lIMnvnTRSjcK0/cj5vP3qBEthRY17GsFHRqxEXKsUgYMSY8p8jQR0s88ZiwD7eC36JU9pRY06GMwf22S/2x5/JjpEwUFwFGue8R4aMlXGR4IGMTWeFer149NG7cONRHUXaFcfZF586dMWfOHLRq1Qply5YVDZAWL14Mep5SqHnoEHCIcA8KChIbVLdt24bXr1+LE0mcODG8vLwwYsQI5MyZ06muDwt3DrIyhFdjMNl2/iE6/y9AuLe0dUlUcv/+A91cqozXtEO49PAV8mVIiq3dOB9VhhfmbNTIFWt9lX0fY6Ltebbk6D14EvIBHrnSYEmr73frflt1GpvPPkDCuLFwyajaDAt32W+Ozi6ywn3QoEGgjqThjfPnz6NQoUKiI/20adMMZtTccsaMGTh79iwKFJDrfKvMM/VZ2124U747dZsKCQlB1apVkStXLoHalStXsHfvXiHg9+3bhyJFiqgPTSvPmIW7tgOKlbQweZsahcc6/7vos/6c8GVthzIomT2lwS9zwr3xHD/4334B19SJ4Ps756Nayx01csVaX2Xfx5hoe57V74/xKpAOs5t93x+jr+9OZd1vGNV3Z+Eu+82xnXAn8U4jQYIEJh9Or40ZMwY3btwIlVpz8+ZNuLq6YuDAgRg9erSyk9aotd2FO+UEXb58GXv27EHBggVDwUq/qKhMZL58+bB/v66EnDMMFu7aDii24rAahcdSv1vw+eeigGBrt/LIlyFZhMJdn4+aLml8HBvI+ajWckeNXLHWV9n3MSbanmcNFamKZsRk7+8VqcLrqMrCXfabYxvhTouy+gwLSpHp0aMHunTpYjiJmjVrilX1R48emZyYi4uLWMzdsUPXhdvZh92Fe8KECdG/f38MHTrULPa0efWPP/7A27dvnebasHDXdkCxFZHVKDxm7buOCTuvCAgO9PFA1lSJIhTuHZb7Y+fFx0gaPzbODaspBZ0acZFyLBJGjAnPKTL00QpPPn35ipyDdD0gfimdBaPqf0+pGL31Ev48dFO8dtanBpIliGMRGq3gYtFRBQb6VJmRI0eKtGbjkT59etA/c4P6+FDZxPr16yNr1qx48OCB2Hzq7++P33//XWxGpUFpMHHjxsWpU6dMDlO0aFF8+vQJlE7DwwE57hkzZhQ7hOnXlrkxdepUTJw4Effu3XOa68PCnYOsDNnVGEzG7wjE7P1Bwj3/wdWQOnG8CIV7zzVn8Nfp+4gTKwaujQ4dHMLDSI24yFzvyNgwJjynyPBHKzx5+e4TCg3fJVwO23V58q4rmO57Xbx2YmBVpE0a3yI0WsHFoqMKDPTC3dxbfHx8MGzYMOmjUfUYSpk+fPgwrl69Cjc3N/GPVtZpQ2rYQRtVnzx5guvXddfR2YfdV9wHDBggbnfQxQmb50Sr7HSBateu7VS5TCzcOcjKTERqDCY+my5g6dHbwr3LIzyRIG6sCIX7wL/OY+XxO8Lm2uhaiBMrpkVo1IiLRaciacCY8JwiQyGt8OTxq/coNWavcLlblRzoVUO3d45GRHf9wsNIK7jIcEDWxtoV9/COv3nzZtStWxfz5s0T/X3UtuK+adMmUKUcRwy7C3cS7STeKdepXbt2cHd3Fx1VAwMDxe2TJEmSYOzYsYgTJ/TtLPp1ptXBwp2DrAy31RhMeq89iw0B9xAzBhAUZmOYuc2po7ZcwoLDfFtbhg8R2aiRK5H12dL7GRPtzrNUQpZKydLo55kbnTzcDM4uPHwTI7dcEo939qiIXOmSWKIK94Ywg5C1VWXCA/vcuXOiigxtOKWNp2rJcV+7dq045wsXLoDuHDhi2F24U3cq40GinYZxtyr9c/rnHdmhyh4XhYW7dgOKLfmjRuHRacUpbL/wCEnix8b5MDnr5oS78W3tYwOqIl0yvq1tDYfUyBVr/FTyHsZEu/PspQev4DX9kHBw2A95sT9kuPh7iecScQeP7uTR2NSlHAplTm6RNswVU4hsLdw3btwomnHSgi01YiLxTou2jqwq4+vriylTpoiUnFSpUqFp06aihjwNKl9Oad60yJwyZUp07doVlCLkiGF34b506VKr/GzZsqVV71PDm1i4azeg2JJ/agwm+iox6ZPFx9EwXQvNCfe5B4IwbnuggM23dyW4pklsEUI14mLRqUgaMCY8p8hQSCs8OXX7ORrNOSpcHt+oIBbdaSf+3tFoBzYG3EOvtWfF49XtS6O0ayqL0GgFF4uOKjCwVrg/f/5cCF3j8e7dO5QrV06sWlNfH+qQShVlqHJMeHXcz5w5Y1KJUMHpWzSlSoeenp74+vUrUqdOjRcvXoi/aTMunS+tsmfJkgW9evUS2SLmSlpa/BAbGdhVuNOuYCoFSRcxU6ZMNnJB/Ydh4c5BVobFagwmDWcfQcCdf5EjbWLs6RW6PbQ54b786C0M2aQrH7m5a3kUyPS9fGR4GKkRF5nrHRkbxoTnFBn+aIUnh689wy8LjwuXp/9cBLOvtzYId+MmcEtalYBHrrQWodEKLhYdVWBgrXBv2LChqBJIHVJJ91FVGVrApZV1WmGnKoP60bFjR5HzTp1TSdgfOXJEdE7t0KED5s6dq+BslZvWqFEDFy9exO7du5E3b16RLuXt7Y2jR4/iw4cPojkoiXaqfOPoYXfhTuUgqfxPeFVlHA2IIz6fhTsHWRneqTGY1JxyEFceh6BQpmTY1LV8KDfNCfe/T99HjzVnhN3KdqVQ1i21RWjUiItFpyJpwJjwnCJDIa3wZNfFR2i/XFdGcEGL4ph4WXeHnlbcfQMfo/USf/F47i/F4Jk/nUVotIKLRUcVGFgr3BcuXCiEOjXZpNV3qudO5R2pIyptTjUenz9/xvjx40X6DFUWJKHftm1b9O3bF7Fjx1ZwtspNaUGZdKlxqfLjx4+jTJky6Nevn/iREV2GXYU7OU23Gnr27Cn+8dAhwMKdg6zMd0GNwaTcOF/c//cdyrqlwsp2pS0K9z2XHqPtMl2Qnde8GGrm4yArw42wNmrkijV+KnkPY6LdeXbTmfvovlr3g/9/bUth5NlfDMLdL+gZmv6pW42f+lNh1C+S0SJtmCumEFkr3C2CHU0MYsWKhSVLlqB58+aGM3r69KkoUbllyxaT2vWOPG27C3dqa7tz505x+yFs5RhHAuHIz2bhrt2AYkteqTGYFBmxCy/efkL1vC74s0Vxi8L9+I1g/DT/mLCb9GMhNCpmOaVOjbjYkhfmjsWY8JwiwzGt8GTNyTvot0G3AXVj57IYePJng3APuPMCDWfraoOPa1gATUpmsQiNVnCx6KgCA60LdyqcsmLFCrEhVT+Cg4ORJk0aUP57dKpsaHfhvn37dnHbgarIUO1OV1dXs0n+0QkkBdy2ypSFOwdZGeKoMZi4D9qOj1++okGRjJjy0/c25OSvuVSZiw9eovb0wwIOqg7xa7nsFqFRIy4WnYqkAWPCc4oMhbTCk8VHbmL4Zl3Jx+3dK6Cnn7dBuIetOMNzigwzTG2cQbhTWg7l4usHlS2n7BDKbc+TJ48JKNQR1hHD7sI9vHKQeudJ0Gu9/GPYC83CnYOszJdfbUH24+evcB+sa0PerFQWjG7wvQ15eML97vO3qDB+n3jP7zXc0bVKTovQqA0Xiw7ZwIAx4TlFhkZa4cns/dcxfscV4fKBPh7osL+RQbgb13jvXys3Olb6XuM9PIy0gosMB2RtnEG4y2JBdo7UqXYX7rLlILVc/pGFu+WvB0+c6hceL958RJGRu4UjHSq6YoBX6BULcyvult5jjjnMFfVzxfKMEHkL5ol2eTJp1xXM8L0uHDwxsCpa7K5vEO4PX75DmbG+4nH3qjnRs7q7RTIxV0wh0rpwP3DggEVehDWoVCl0pTTFB7DyDXYX7laep6bfxivu2g0otiSu2oKJ8ep5r+ru6FY19Oq5OeH+6ctX5BykW6VvWioLxoRZpWfhLscotXFFzqvIWTEm2p1nR2y+hEVHdB2Xzw+rgR+3/mAQ7qEWAyq5YkAt05SHsMgwV5xPuEdudrHvu1m42xdvs5/Gwl27AcWW9FJbMLnyKAQ1px4UEAyunQdtK7iGgsOccCeD3EO24/2nr/ihUAbM+LmIRQjVhotFh2xgwJjwnCJDI63wpN/6c1jjf1e4fGOMF7z+qmUQ7h8+f0GuwTvE4+als2Jk/fwWodEKLhYdVWCg9RV3BVA43NRhwp2K3G/atAk3b94UuULZs2dH/fr1UbVqVYeDYu8TYOHOQVaGc2oLJidvPcePc//rZti4ILyLZ5YS7iVG78HTkA/wyJUGS1qVtAiN2nCx6JANDBgTnlNkaKQVnnT5XwC2nn+IRHFj4eIIT5ON7zkHbcOnL9/QsEhGTA6zSd4cTlrBRYYDsjZaF+6LFi2ShcJg5zSbU6nAPpXb2bBhg6gsQ8X4adDuXRLwjRs3xsqVK0E1NZ1lsHDnICvDdbUFE0s12cNbca8ycT9uPHuD4llTYH2nshahURsuFh2ygQFjwnOKDI20wpOWi07gwNWncEkaD8cHVjMR7hGVpWXhLsMUQOvCnQqnkAaOiFIIAAAgAElEQVQlXSoznGpz6siRI+Hj4wNqbTtgwABkzqxbhaMuWdSZas6cOSAbqvfuLIOFOwdZGa6rLchuDLiHXmvPCtdWtSuNMm6pQrkZnnCvN/Mwzt57iVwuSbCzZ0WL0KgNF4sO2cCAMeE5RYZGWuFJozl+OHX7BVzTJIJvbw8T4V5hvC/uPn+HMq6psKp96EZwLNxlmKJ94c6bUyPggbu7OwoWLIj169ebtaIV93PnzuHq1atybNKAFQt3DrIyNFZbkDWurbytWwXkzZBUSrg3W3AMR64HI2PyBDjSv4pFaNSGi0WHbGDAmPCcIkMjrfDEc+pBBD4KQaFMybCpa3kT4a5/vWCmZPina3mL0GgFF4uOKjDQ+oq7Aigcbmr3HPf48eNj6tSpYsXd3KAVdyp4//79e4eDY68TYOHOQVaGa2oLJlP3XMXUPdeEayTASYgbj/BW3DsuP4UdFx8hSfzYOD+spkVo1IaLRYdsYMCY8JwiQyOt8KTcOF/c//cdyrqlwsp2pU2E+49z/XDy1gu4pk4E3989LEKjFVwsOqrAgIW7ArCi2NTuwj1Dhgxo0qQJJk+ebNY1Eu1r1qzBgwcPotj16HN4Fu4cZGXYqLZgErZEW5L4caSE++/rzmL9qXuIEQMIGu2FmDFjRAiP2nCRudaRtWFMeE6R4ZBWeFJ4xC78+/YTauR1wfwWxU2E+6+LT2D/ladIkyQeTg6qZhEareBi0VEFBizcFYAVxaZ2F+7UUnbFihXiH6XFGI+NGzeKjavNmzcXGyGcZbBw5yArw3W1BZPea89iQ8A9xIoZA9dH1xIbf4xHeCvuo7ZcwoLDuprMZ4fWQLKEoQV/WKzUhovMtY6sDWPCc4oMh7TAE9pMSB2ajavGhJ1buq4MwJZzD5EwbixcGuFpERot4GLRSYUGLNwVAhaF5nYX7o8fP0bp0qVx584duLm5IU8eXTOEy5cvIygoCFmzZsXRo0fh4uIShW5Hr0OzcOcgK8NItQWTtkv9sefyY6RIGAenh9YwcTE84T5r33VM2KlrX77/dw9kS50oQnjUhovMtY6sDWPCc4oMh7TAk/efviD3kNB12sPOLQM2nsOqE7o670FjvMRiQkRDC7jIXH8lNizclaAVtbZ2F+7kDn0pqILM5s2bRR13GlTHvV69eujXrx+SJ08etV5Hs6OzcOcgK0NJtQUT77lHceLWc2RLlRD7+1SWFu7/O34bg/66IOz/6lwWRbKk4CArQxAjG7VxRaF7VpkzJtqcZ4Nff0CxUXuEc5083NDPM7dJqkyou3g+NZAsAd/FU/olYuGuFLGos3eIcI86d9R5ZBbu2gwotmaj2oSHpUoO4a24bzv/EJ3/FyDgW/xrCVTOndauwv3Jq/f48PkrMqdMaOtLaLfjqY0r9gCGMdHmPHs7+A0qTdgvnOtTMxe6VM5hItyNN8r79a+CDGE2yodFhrliyhUW7vaYpeQ+I9oI99u3byM4OBhFihQxyYWVc0W9VizctRlQbM1ItQWTMmP34uHL96iQMzWWtyllAkd4wt0v6Bma/nlc2E/5qRAaFMlkN+F++eErNJh9BO8/fcXS1iVRyT2NrS+jXY6nNq7YAxTGRJvz7MUHL1F7+mHh3PC6+dCybDYT4b7g0A2M2npZ2OzqWRHuLknsNqfYg9v2+AwW7vZAWe4z7C7cqdzjoUOHRHdU/ejatatovEQjf/788PX1RapUoZu1yLmjTisW7toMKLZmo9qER96hO/D24xfULpges5oWlRbuJJ5rTTsk7IfWyYvW5bPbLciO3XYZ8w7eEJ9XPkdqrGhr+oPD1tc1Ko6nNq5EBQZhj8mYaHOePX4jGD/NPyacm/hjITQulslEuK8+cQf9N54XNhs6lUWxrJx+p/Q7x8JdKWJRZ2934V6iRAkUK1YMc+fOFV4dOXIEFSpUgLe3txDtlPveuXNnTJgwIeq8jmZHZuGuzYBia5qpSXh8/PxVVHqg8XPJLBjbsIC0cH/08j1Kj90r7LtVyYFeNXLZTbjXn3UEZ+7+Kz4vafzYOOtTQ5V3ANXEFVt/T8I7HmOizXnWN/AxWi/xF87N/aUYPPOnMxHuW849QNeVp4XNstYlUdHCnTTmiilXWLjba6ay/Dl2F+6pU6eGj48PfvvtN3F2VLd93bp1ospMzJgx0adPH2zatIk7p1q+dpq24IlT3UH28av3KDVGJ75/q5IDvc2I7/BSZcxViYiI7LbkStGRu/H8zUfDx/kProbUieOp7rtmS0xU53w4J8yYqHtOCY+Hm87cR/fVZ8TLK9qUQvmcqU2E+74rT9Bq8UlhM7tZUXgVSG+3xQCtfH9YuEefK2l34Z4wYULMnDkTrVu3FigUKFAAtAq/aNEi8Zj+p9SZt2/f2g0lf39/UVeeUnSoyk2iRImQL18+DBgwANWqhW7W8OXLF3E3YMGCBbh79y4yZ84Mqk1PPzhixYpl1Tnzirs2A4pVZIjgTWoSHsZ5pz4/5EWrcqbpLuEJd4Igz5AdePfpC+oUTI+ZZtJsjGGyFS4fPn9BrsG6snL6IXNb3dbX2RbHsxUmtjiX6HIMxkSb8+zyY7cx5G9dFapNXcqhUObkJsLd/9ZzNJ57VNiMb1QQ3iUys3BX+MVk4a4QsCg0t7twd3d3R+3atTFlyhSxyp4tWzYsWbIELVq0EG6SKP7jjz/w7NmzKHQ79KGpEdSBAwfQqFEjFC1aFK9fv8bixYtx4cIFzJ49G506dTK8gdJ4KB+/VatWKFu2LPz8/IQtPT9r1iyrzpmFuzYDilVk0IhwP3TtKZovPCG8mf5zEdQtlMHEs4iEe9mxe/Hg5XupPHNbCbJ7L96i/B/7Qp2nzOZYW19nWxzPVpjY4lyiyzEYE23OszN9r2HirqvCuQN9PJA1VSIT4X7tcQiqTzkobAZ55UG7iq4s3BV+MVm4KwQsCs3tLtwHDRqESZMmiVXq48eP48qVK7h16xZSpkwp3GzWrBmuXbuGEyd0Qd8eg/Lsixcvjnjxvt8Sf/fuHQoXLoynT5/iyZMniB07Ns6fP49ChQqJNJ9p06YZTq179+6YMWMGzp49K+4gKB0s3LUZUJTywJK9moTH36fvo8ca3e3r/7UthXI5UisS7l7TDuHSw1fIlyEptnarYJcge+r2CzSa4xfqs/p65kJnjxyWLk20e11NXLEXeIyJNufZ0Vsv4c9DoTsth10UeBLyHiVH61L3ulR2Q5+aue0yp9iL2/b4HBbu9kBZ7jPsLtxJENMK9j///CMaLZGIb9CggTjbly9fIkOGDCAhPGbMGDkPotCqd+/emDx5srgzQCkx9KODzuvGjRuiYZR+UHqNq6srBg4ciNGjRys+Ixbu2gwoiolg4Q1qEh4LD9/EyC2XhEc7elRA7nRJFQn35guP49C1Z3BJGg/HB4ZOVwt7IFvhsv38Q3T6r368/jN+LZsNw+rms/WljPLj2QqTKD9RO34AY6LNebbPurNYd+oeYsQAgkZ7IWbMGCYr7sab5ZuVyoLRDSJeYGOumHKFhbsdJysLH2V34R7R+Xz9+hUhISGgPPg4cSLubGYPCH/++WesX79edHqlvPeaNWuKVfVHjx6ZfLyLi4uoQb9jR+gcWZnzZOGuzYAic+2V2KgpmIzfEYjZ+4OEeycHVUOaJKYbPCNKlem19gw2BtwXrcmvjaolgnF4w1a4LDlyE8M2635s6EftAukxq5lpKUsl180RtrbCxBHnHlWfyZhoc55tt8wfuy89RvKEcXBmaA3hpLm5Jd/QHXgTQXlaY3SYKyzco2oessVxHS7cKRWFRpo00avRyeXLl0WqTJ06dbBhwwZxjpQGEzduXJw6dcoEe8qN//Tpk0iniWg8fPgQ9M94bNu2DUOGDBHpN/pcf1tcXDUfg37ABQQEiD0HSZJE3CxDzX4qOXc1YTJ8+3X8dfaxcM+/b1nENiO8vXd7i9fXVl9rAsO0/bew+Nh98bzvbyWQMlHccKGyFS7T99/Cov8+M1HcWCLIF82UFIt+UZ7+puS6RoWtrTCJinNz1DEZE1PktYBJm/+dx6m7r5A5eXxs7lhMOGlubqk12x8PX31AqWzJMK9J/ghpqAVcbP09W7ZsmciGoEIelNLMw3EIOES4BwUFYfDgwSDBShtBaSROnBheXl4YMWIEcubM6ThE/kvZKVOmjBDYtMKeJUsWcT5ubm6glXXakBp20EZVyoW/fv16hOc+bNgwDB8+3KwNlcasVKmSQ33nD2cEbIHAn4ExceFFTCSK/Q1jSnwxe8hJryaJ53sn7W3y+v6HMfDXLV2Vpr4FPyNjIlucVcTHWHE9Jk4+jYmYMb4ha2LgZkgMpI7/DUOKmD//qD8j/gRGgBGwhMC4M7Hw8F0MZEn0Db0L6r6r5uaW8Wdj4f7bGMiU6Bv6/Gdn6dj8+ncEqIAHFRVh4e54VthduJ8+fRpVqlQRKTFVq1ZFrly65iq0SXXv3r1CwO/bt0+knThiUA4+pcScPHlSpL0YC2lecbffFeEVD1Os1YRJi+XncO5+CFxTJcDGduZTTSJacd95+Sn6bdJVipjlnRflXMPvdGgrXDqsvoDjt14iXdK4yJ8+CfZcCUaCODFxtHcZ+xHfRp9kK0xsdDrR4jCMibrnlPBIVH3mSTx9/RFlsyfH7J90+1HMzS3tV13AidsvkSFZPGzrVDxCTjJXTOHhFfdoMY2Jk7C7cCchTGkoe/bsQcGCBUMhQavbVDedaqjv37/f7ih9/PgRdevWFfXcN27cKNJkjAfnuNvvknCOoSnWasKkwnhf3H3+DiWzp8TaDuaFb0Q57sZtzMc3Lgjv4uHXXbYVLtUmH8D1J69ROHNy8W+J3y1xES4Or4lE8WLbj/w2+CRbYWKDU4k2h2BM1D2nhEekXIO348Pnr6LkLJWepWFubun8v1PYdv4RksSLjfPDa0bIS+aKKTy8OTXaTGX2F+608bR///4YOnSoWRQojYTquNuzAROdyOfPn0H13Ddv3gzaLNqkSROT86OqMWPHjuWqMnbgL0+c6g2y3759Q64hO0CVHIyDaViPIhLuN5+9QeWJuh/vfWrmQpfK4ZdktBVXCgzbiZD3n1EznwsKZkqOCTuviM/f97sHsqe2Q66ODb9XtsLEhqfk8EMxJuqdU8IjT3hdls3NLQM2nseqE3fEoa6NroU4sWKGy0nmCgt3h09YEZyA3VfcM2bMKLqM9ujRw+xpTZ06FRMnTsS9e/fshhtVs2natCnWrFmD+fPno127dmY/m+4IUApPeHXcz5w5Y3IXQcYJriqjvYAic92V2qglmDx/8xFFR+4W7nWo6IoBXnnMuhqRcH/z4TPy+ewU77NUktEWuLz9+Bl5h+o+r0WZrMifMRn6rj8nHq9pXxqlXFMpvVwOtbcFJg51IAo+nDHR3jz7+NV7lBqjq8/+W5Uc6F1Dl3prbm75Y0cg5vxX6erU4GpIldi00pUeIeaK7YS7bGd66udjXGbb+AzatGkjutXz0CFgd+E+YMAAkTtOGzwTJEgQ6jrQKjtt8qTOqtbUQ7f2ovbq1UtsuqA0HmoMFXZUr15dbEql0bFjR8ybN090Ti1XrhyoeRN1Tu3QoQPmzp1r1SmwcNdeQLGKCBbepJZgcvHBS9Seflh4M7ROXrQu/73ngbGLEQl3sss7dAfefvwCrwLpMLuZrlqEuWELXG49ewMPoxV+avz06+KT4uNmNi2COgVNO79GxTW21TFtgYmtziW6HIcx0d48e+VRCGpO1XVEHVw7D9pW0HVENTe3zDsQhLHbA8Xre3tXgluaxFE6p0QX3tvqPKxNlZHtTK8X7vXq1RPZD8YjR44cKF26tK1cUf1xoly4U7648aCSiZQqQ9VkaGXb3d0dMWLEQGBgoPhFRaX/KB2F8sntNTw8PEA7psMbtFmWbGhQSs348ePFudJdgUyZMgmx37dvX9Fd1ZrBwl17AcUaHlh6j1qEh2/gY7Re4i/cmdOsKGoVSG/WNUvC3WPCPtwKfoviWVNgfaeyURpkjXPqJzQuiLwZkhp+fPj8kBetypn/8WHpmjnqdbVwxZ74MCbam2f9gp6h6Z/HhWOTvQuhYdFM4m9zc8uak3fQb4OuXPP6jmVQPJuuW7u5wVwxRcVa4S7bmV4v3KnR5ahRo+w5Najus6JcuMeMGVMIc+NBObD68f/2zgM8iqKN4y9phBJK6L0J0nsH6VVBEFCaiqAUQUREBESagPiJIojSRAVEECmKiHQQ6SVI7x2k99BCSPie/1w2bC57d7N3t3d7d+88T55ccrOzM795d/a/s++8o3xn/b+4uMAJwcbC3f9uKEaMBL5yM/l52xka/Nt+gWBRz+pUPq92RBhHwr3dtC209eQNypk+nDYPqm/oTfaPPRfo3bn/inPM6lKZiuaISNwivWedQvRhE/tbpBvR366U6Su24kob9R7LTPxvnF28+z/q88tu0bCf3qxMzxW27AejNbasOXSZ3pxpmVCY8mp5alJSe0IB37OtuE+427pOrXemVwt3iHcka68Mvde8v+Y3XLjPnDnTKXadOnVy6jhfPIiFu//dUIywQ1+5mYxbeYS+XmvZz2DzwHqUM0NSlziFjSPhrmxljr2bDo9sSmEh2ovJ3MFl+oaTNGrpIVG1Fe/VomeypqXCg/+i+CdEL1fITWNfLmNElxpWpjuYGFY5LxXMTPxvnP1+4yka+adlt+NlfZ6jYjnS2RTue8/fohe/2SS+H9miBL1WLb9NS2RbMV64W+9Mrwh3hARX9veBiwzWQ/bq1ctLo4Y5T2u4cDdns81VKxbu/ndDMcLCfOVmohbcR0bZjt7gSLhPWH2MvlptieW+vn8dypdJO7KLO7iMXnqQvttwSpxr99CGlCF1GFUctZqu3Y2hOs9moRmdKxvRpYaV6Q4mhlXOSwUzE/8bZz9bdpimrD8hGrbz4waUOWHBqdbYcvH2A6o2xuK6+279wvR+wyIs3HVci4qrzMiRI8VmmeqUI0cOwo9s0tqZ/uzZs9SlSxdq2bIl5cuXjy5cuCBckrG49YMPPqCxY8fKFu/3+Uwn3A8ePEgzZswQfuSBkli4+98NxQjb9RXh0eG7rbT5xHXKli4lbfuogU0UjoT7ol3n6f1f94jjf36rCtV4JrNmWe7gAjcZuMtgVv/IyCbCva/phA106OIdwkLVpe8+Z0SXGlamO5gYVjkvFcxM/G+c/WD+HloQdZ7wVu7Y6OcpGB9suMogPG2Rj5eJ79tXzktjWpVi4a7jWlSEu9Yhw4YNI+wKL5Nu375NWjvTax0Ll2ls2Llx40Y6evSo2L2ekxeiymhBv379Os2dO5fgVrNr1y6RhX3cA9s8+SbruzfZGp+tpf9uPaDK+SPp1x62dx11JNx3nL5BL0/ZIkB81qoUtauc1zDh3nbqFtp26gbliUxFGz6sJ87z+g/b6Z+jVylrREraPtj2A4gZr1S+fnz3+vGkPfm6nXT6YTutP3qVskSkpB2qa9TW2FL2k5V0634sNSiWjaZ3sr17qq9zMcKG3DHjbm9nelt1xt462BgT0fy6detmRNN8rkyvzbgjOsvSpUuFWP/rr78I0WaKFi1KL730kvipUMF2+Defo+ygwjzjzjdZGZv2hZsJZrWKDlkmfMPbVMhNX9jxDXck3NWvtt+p+wx90NgSo9k6uYOLVgSbfr/uoYW7zotZvKOjmibO5sn0lbfzuIOJt9vg7vMzE2OuHXf3k57ynp+wgQ5evCN82+HjriRbY0vDcevp2JW7VCZPBlrcq4bNU7GtJEfjbFQZpSRHO9Pb6oy9e/dSmTJlRIhwbILJyQsz7phRh1jHDDtm2hEf/fLlywSjgH9TICYW7v53QzHCjn3hZqLe8bRfwyLUu35hmygcCff4+CdUFDuwxsVTi7I5aUI7y3bm7hbuiGiFzZcexMbRC6Vy0Lcdy4tTqDdswWweZvV8JfmCrXiaJTNx/7Xj6T60Pl/l0avpSnQM1SqSRUSDciTcFTe+XBlS0aaBljdrRowp3uZixPldEe4yO9PbqvOiRYuodevWwt8dGzFx8pBwv3TpEs2ePVsIdviwR0ZG0iuvvEKvvvoqZcmSRcRyX7BgAbVq1Sog+4SFu//dUIwwZF8QHn8fuZK4cdGEdmWpRdlcTgt3HFj3i78JDwNl82Sg323MkLnK5fb9WCrzyUpRzzdrFqAhzYqLzz9sPEWfJESs+Ovd50Rsd19JrjLxlXbqqScz8a9xFg/2hT9eRnHxT6h1+dz05StPIz/ZmhTo88u/tHj3BQoLDqIjoyxrWVi4y11Fzgp32Z3pb9y4IbShOsG1Bhtd7t+/n06cOEF58uSRq6yf5/KIq0xYWBiFhoZSs2bNhFhv2rRp4mZF6IzChQuzcH/1VZo2bZrYlIoTx9H11ZvJT1tO05DFB0T1f+tZncrZiOGO7x3NuAshPWMHrTl8hSJShtDe4Y00b7SuCrLDl+5Qk/EbRJ3Vuy8u2XOBeifEdp/ZpTLVLmKJEe0LyVUmvtBGvXVkJv4l3C/feUhVPl0jGmW914KtsWXUnwdp+kZL9Kh/hzSkjGnCWLhLXkjOCnfZnekxcXv//n2xQyo2tkRUGUz2njx5UmzKiY07OVkIeES4YxOmnDlz0muvvSaEe4kSJRL5s3An4hl3/7qhGDW4+ILwGLHkAP246bRAsGtIQ4q0cWOUFe5jlh2iqetPivK2DqpP2dOHJ8PrKhf1W4JvOpSjZqVzWs538jq1m7ZVfIavPnz2fSW5ysRX2qmnnszEv8bZqDM3qfXkzaJRo18qSR2r5EtsoC3h/uOmUzRiiSXu+5+9a1LJXOlZuEteRM4Kd9md6b///nsh1I8cOUKYfUc89/Lly1OfPn3E4lROTwl4RLhv27ZNdMi8efPEjmSlS5cWIh4B+PGExTPuP4sHGp5xf2qYfJP1zZtsx+lbadPx65Q5bRjt/Lih3bFWZsZ9YdR56jffEhJSvTOiumBXbeWX7Wdp4KLkW6GfuHqX6n+5XpxqQJOi9HYd3wlF5ioTf7xJMhPfHFNs2aJ6t+MZnStRnWezOhTuKw9com4/RYl89nZPZVtJTt1Z4e6PY4m32+QR4a40EquKFy9eLET8ypUrCYvCypUrR1FRUULUt2nTxts8vHJ+nnH3rxuKUUbkCzeTSqNX09XoGKpeKBPN6VrVZeGu3u0QvufwQbdOrnL5atVRmrDmmCh244C6lDtjavH5zsNYKj3c4vvepUYBGtrc4vvuC8lVJr7QRr11ZCb+Nc5O/vuEWECOtKpvLSqcLcKhcD9w4Ta98PVGkU/tFufuMUWvbfpCfhbu5ukljwp3dbOvXLkiFqzOmjWLEO4HfvB169YVC1TxWgTRZgIlsXD3rxuKUXZrduFx894jKjdylWj+G9Xz0/AXn7rEaTGRmXG/F/OYSgxbIQ5vXzkPjWlVOllRrnIZuHAv/bLjHGGd2pGRTcUmTEiYWCg2dDk9jI1PEm3GqP51Z7muMnFnXcxSFjPxr3H249/30eytZ0WjDn7SmFKHhTgU7rcfxFKZEZaH8c418tOw5tpjFNtKclth4W6WkcxDPu6Omrtnzx6xWypCRELQBwcHi7jugZJYuPvXDcUouzX7zWTbyevUNsEn3Nrn1FnhjuOUDZ1sRZZxlYutTVxw7vpf/k0nrt5zGPfZqD53tlxXmTh7XjMfx0z8a5ztMmMHrT18hTKmDqV/hzZK0jh7kwKlhq2g6JjH1LB4Nvrude1NmNhWWLibeSzz2oy7FhTslorNmDALP3/+fDNzc2vdWLj71w3FrcahKszsNxN1RJkFPapRxfxJQ3tZc5GZcccxPX6KouUHLomZ8P3DGyfOiCvlucql3pd/00kb4lwR9TI++0b1uzPlusrEmXOa/Rhm4l/jbOOv/qEjl6OpZK509Gfvp5svoZX2xpYm4/+hw5eik23apKbDtsLC3czjmamEu5lBGVk3Fu7+dUMxylbMfjPpP38PzY86L1xO9gxrROnCQ+2ikBXual9WrUgQrnBBDGjs9Bob9yRxk6c3lr8h6j2jyQz66Ld9NGeb5XX8oU+aUKqwYKO6163lusLErRUxUWHMxH/GWVy3cGPDTs3qTdOUFtobW7rO2kmrDl6mNGHBtH9EY0NCzJrI7N1WFXaVcRtKlwti4e4yQtcLYOHuPzcU163BdglmFx7KduLPZE1Lq9+v7RCFrHDffOIadfhumyhvVMuS9GrVp2Hf8D9XuJy/eZ9q/m+dKPvdes/Q+42eTTJbN+nv4/T58iPie7QJbfOF5AoTX2ifM3VkJv4zzp69fp9qjU24busXpvcbFknSOHtjy2fLDtOU9SdE/i2D6lGO9KmSgWFbSW4rLNydGXWMOYaFuzFcdZXKwt1/bii6Ol5nZjPfTKIRgWUEIkWRiHeOuOeOkqxwV5f9coXcNNaqbFe4bD5+jTpMtzwUKLHa1fWyF3LOUfu8+b0rTLxZbyPPzUz8Z5xdd/gKdZ6xQzRIa4dme2PLgqjz9IHBIWaNtGNvlc3C3Vvkk5+XhbsJ+oKFu//cUIw0JzMLj03Hr1HHBAGsNSuuxUVWuONYxZ81T2Qq2vBhvSTFucIFbjBwh0FS/PLV9dp19ia1mmTZ5EW2XUbagGzZrjCRPYev5WMm/jPOTt9wkkYtPSQatPTdmlQiZ9KNlOyNLf+evUkvJVzTw5sXpzdquD/ErK9dGzL1ZeEuQ8kzeTwq3BEp5tChQxQZGSm2tOVkIcDC3X9uKEbatJmFx4TVx+ir1UdF8+3tSKjmo0e4q3dk/ad/XcqbyRJrHckVLuqdWbcPrk9ZI8KTuMpciX5IlUdbtlXvUbsQDWxa1MgudlvZrjBxWyVMVhAz8Z9xVgnhihZprT2xN7ao92d4tWpeGtWyVDIwbCvJbYWFu3kGNI8L99SpU9PYsWPpvffeMw8FL9eEhbv/3FCMNNFU9EYAACAASURBVCUz30xembKFtp++QelThdKuIQ0pOCiFQxR6hPvaw5epy4ydokzrUJOucOn843Zad+QqRaQMob3DG4mFaup6qWO5NymRnaa8VsFhu8yQwRUmZqi/EXVgJv4zzrb4ZiPtOX+btN7AoZWOxpaqn66hS3ceUsV8GWnB29VZuEtccCzcJSB5KItHhTvalDdvXurbt6/44WQhwMLdf24oRtq0WYUHNknCpiaP459Q05LZafKrcuLW0c1VzfJuzGMqa+McrnCp8ulqunwnhirnj6Rfe1QTp7SuV7OJG2j/f3eoUJY0tKZfHSO72G1lu8LEbZUwWUHMxD/GWUSSKTl8hYgo83yp7DSpY/LxxtHY8tbMnbT60GUKD7WEmA0Jtmy6piS2leS2wsLdPAOax4X74MGDacWKFbRlyxYKDbUfLs48mIytCQt3/7ihGGslrrmEGFk3e7Ph9s7r6OZqfewrU7fQ9lM3RBi3nR83TAzN6OxN9sa9R1Q+YafXTtXy0YgWJTWFe995u+m3f/8TbxHwWl7ZWdVIpq6W7SwTV89r5uOZiX+Ms/v/u03NJm4UjRnQpCi9XadQsoY5GlsmrjlGX66yuPYt6/OciOnOwt3+1cvC3Tyjm8eF+7Jly2jAgAFiO/Fu3bpRwYIFKVWq5OGY6tVLugDNPMjcXxMW7v5xQ3G/ZSQt0azCQ+1vau1/7k7hPmPTKRq+5KAoclLH8vR8qRzis7Nc1AtqP2tVitpVzqsp3L9dd5zGrrCEhFzZtxYVyRZhdFe7XL6zTFw+sYkLYCb+Mc7+sv0sDVxkWVA++80qVLNwZt3Cff3Rq4TN1ZD+17oUta1kufaVxLaS3FZYuJtncPO4cA8KSvpKCj6l6gRBj/9hF9VASSzc/eOGYrS9mvFmEhsXT5VGr6Zb92OpRM50tPTdpDsYulO4X7nzkKqMWSNCTqpdcpzloo7R/sc7Nah07gyawh2btWDTFqRvOpSjZqVzGt3VLpfvLBOXT2ziApiJf4yzCOWIkI5Ie4Y2ovSpk7+5dzTjfvPeIyqX8LatfeW8NKZV0gWqbCss3E08lJHHhfvMmTOleHTq1Ekqnz9kYuHuHzcUo23RjDeTf45epdcTZq76N36WetV9RhqDo5urVkHtp22lLSevU1hwEG0aWI+yRKR0esYdM26YeUsdFix2eg1N8HO1rpd6sxe8lsfrebMnM9qKt5kxE98fZzGxhw3T/rv1QLi3wM1FK8mMLfW++JtOXrtHBTKnoXUfJF27wrbCwt3b45W983tcuJsZhrfqxsLd928onrAdM95M3p37L2GTIiTc/HATlE0yN1frshbv/o/6/LJb/LtvgyLUp0Fhp4T747h4saD23qM4eq5wZvrpzSqJp7KuF8QCfOFv3o+lqgUj6ZdulkWsZk5mtBVv82Imvj/Oqh+iu9QoQEObF3dauA9dvJ9mbTkjjt/wYV3KE+meELPetnOjzs+uMkaR1V8uC3f9zNx+BAt337+huN0oNAo0m/C4Gh1D1T9bQ7FxT6hS/ow0v0fysGr2uDgj3BFJoub/1tKV6BjKnDaluOHG3I+m9evXU+3atSlDBou7i6MUdeYmtZ5s2VjJ+k2BVr26zNhBaw9fEbPze4c1ShaFwtH5PP292WzF0+3XOh8z8f1xdvbWM/Tx7/tFQ757vSI1LJ7NaeGudoH79KVS1KHKUz93tpXkWFm4m2EUs9SBhbsJ+oKFu+/fUDxhRma7magjM3zdvhy9WEaf77czwh2c1YtF4bbSvmwm3cJ99NKD9N2GU6LblrxTk0rlfrrzola91G3V2qnRE/2v5xxmsxU9dTcqLzPx/XH21enbaOPxa5QyJEjsF5EmZYjTwj36YSyV+2SVCGPboFhWmt6pUmJZbCss3I0ah9xRrleE+7p16+jzzz+nHTt2iNfceBVtnXhxqju613fL4IHT3DdZ3PSe+3ydWJQKP/NNA+rpDpPorHBHTPc6Y9fRtbuPKCI8hBa9VY4ORm2RnnGPj38i6g4/2byRqWl9/zpiQbyStOq15cR1av/dVpFlUNOi1L128hB0Zrra+Pox9/VjFlvxJTvBgtKKo1dTXPwTalQ8G017vaJNjLJjC9bnYJ1OaHAK2jG4AWVIHSbK9CUunrIlnnH3FGnH5/G4cF++fDk1a9aMihQpQnXq1KEpU6ZQhw4dRBSZxYsXU/Hixal58+Y0bNgwx7X3kxw84843WRlTNtPNZPzqozR+9TFR7aHNilOXmgVkmpAkj+zNVavgn7aeoSEJr8yfK5SRWme5SnXqyLnKrDl0md6caYkSo7XYVKtecNEp94nFJ75awUw0t1tV3e315AFmshVPttveuZiJb4+zP205TUMWHxCNGPdKGWpVPrfLwh3RaRClBgmRZRBhhoW7NlYW7mYZybzgKlOrVi26c+eOmG2/ffs2Zc2alVavXk2I237kyBGqWrUqTZs2jV5++WXzUDK4JizcffuGYrB5JBZvFuFx5vo9avTVPxTzOJ6ypUtJ6/vXpfDQYN0YXBHumHVDhJntp2+I8zbPG0cjO9Ry6OOOt3svT9lCO8/cpKAUJOquXpSGsmzVq/tPO2nFgcsUEpSCoj5uqBmGTjcEgw4wi60Y1DynimUmvjvO4rptMn4DHbkcTWlThtC2j+rbdJOxdw1bE8Cbw4qjVouxDOFs/+xdU7x9Y1tJbiss3J0adgw5yOMz7hERETR8+HDq168f3bhxgzJnzix2Um3YsKFo4KBBg2jlypUUFRVlSIPNWCgLd9+9oXjSnsxwM4GbCV4vw88UaUK7stSibC6nMLgi3HFCRJh4/usNBNcZpKFNC1GX2vZDNf7273nqO88yw9a8TE6a2L5csrrbqpd6dm5ky5L0WtV8TrXbEweZwVY80U4952AmvjvObj5+jTpM3yYagOsO15+9pGdsUW8gN6drFapeKDMLdw24LNz1jDbG5vWKcB83bhx17dqVYmJixK6pc+fOpbZt24qWTp8+nfr06UP37t0ztuUmKp2Fu+/eUDxpRmYQHl+vOUbjErYKRxjFWV0qJ/EP18NDz83VVrkbjl2lzj/uEAvMkLrXKkh9GxbRfAOw59wt4ad+/1EchYcG0aq+tZPNtqMMW/W6F/NYbDaF40vnTk9/vFNTT3M9mtcMtuLRBkucjJn45jirfkuGpSgr36tFhR3sXqxnbDl+JZoajPtHwIEbHMQ7vAH0RqqSMEGfzsLC3Tzd53HhXrJkSeHDPmbMGEGhQIEC4u+vv/5a/N2rVy/6448/6Ny5c+ahZHBNWLj75g3FYLNIVry3hcdf+y5Srzm7xM6lGVOH0p/vPke5MqRyGoOem6u9k8zfepwGLj5McU8sC0yx4PSt5wpQvaJZKXu6cBE68vfd/xEeOh7Gxos8I14sQZ2q59cs1l69+s/fQ/MTdm2c160qVSmYyen2G3mgt23FyLY5WzYz8c1xduley7iDhMhViGDlKOkdW7rN2kkrD14WxU59rQJVyRXOwt0KMgt3R1bnue89Ltx79+5Na9asoYMHD4pWDh06lD799FPCTqnx8fE0e/Zs6tmzJ02YMMFzFLx8JhbuvnlD8bTZeFN4rDhwiXr9vEvMbGPWCzPtzxXO4hICvTdXWycDlx+WrKd5Z1PT5ehHDuvUrVZBERlGHUlGfZC9eh26eIeaTtggslcuEEkQ77bKcVgRAzN401YMbJZLRTMT3xtnb9x7RI2+Wi8iSIWFBNGK92pJbfKmd2w5dQ3rdtaLPSmwbueXN8rQ3h2bpSNVuWSYPnIwC3fzdJTHhfvZs2fFwtQXXniBwsPD6fHjx8I1Bu4ywcHB1LJlSyHaU6d+uouZeXAZUxMW7r53QzHGEuyX6g3hgdfU3288RaP/OiRm2pH+17oUta30dLMSZ1novbnaE+54rV2+Sg2avesqYZMWRH+xTpnShNHApkXp5Yp57FbZUb16/hxFf+27JMr44uUy1KaC7egWzrJx9Thv2IqrdTb6eGbiW+NsbFw8vf79dtpy8rqouPVGafbsxdE1rHXsFyuO0DfrjouvahTMQK2zXqN6kpGqjLZdM5TPwt0MvWCpg8eFu3mabp6asHD3rRuKtyzH08Lj8p2HNGDhXvr7yFXRZERh+aRFSXrVTYsynbm5arG35oLFqhuPXaU952/TjbuPRPSXsnkyUJ1ns1DqMO0NW9TlOqoXouogwsWD2DgR4WLh29Xp2ewR3jILzfN62lZM1XgblWEmvjPOQrS//+seWrLngqh0xXwZRQjW0OAgKVNzdA1rFYJztp26hXadvSW+rpQlnqZ0rkmZIjNKndPfM7FwN08Ps3A3QV+wcPedG4o3zcVTwgOLML/bcJK+++dk4sx1mrBgmtihHNUrqr3FuDNcnLm5ygh3Z+qiR7gj78zNp2nYH5aY0jnShwvXIUcL5lytl57jPWUreurk7bzMxDfGWWy09N683bT+qGXCIGf6cFr8Tk2x0ZtscnZsuXDrAbWZvJku3H4oToU9Iia9VokiwkNlT+23+Vi4m6drDRfucI1xJuXN6/qreGfO641jWLj7xg3FG7ahPqfRwuP0tXuEjY1+3XmOoh9aQiwiVSkQKVxCrOOdu8rD2Zur9XndzUWmXnAhGrRoH/2yw7KIPl14CI16qRQ1L53DFD7v7mbial+b4XhmYu5xFtcU9kkYseQAXUwQzlj8jigv+TKl0WVCMtewrQJPXr1Lbadupqt3YxMfHEa9VJLqPpvVFNe2LhBuzMzC3Y0wXSzKcOEeFBTklLFjJ9VASSzczX1DMYsdult4ICb74UvRtPbwZVq2/xIduHAnSVMRkeX9hkWED3cQ/GTcnFy5uRr5QCNbr8dx8fTRb/vo153nE6tTvVAm6lO/sFi46s1Fq+62FTd3vVeKYybmHGexmdqqg5fp+40nacfpm4mVhHvbpI7lKacTkatkr2FbhnjkLHZX3kHn7z0d9yrnj6S36xaiWoWzULAB46FXLgodJ3VFuEPPjR07VoT7RsTAPHny0FtvvUX9+/cXaxs56SNguHCfMWOGUzcwRJkxa3K3EbJwN+cNxWz254rwwGzW5TsxdPjSHTp0MZqiztyg7adu0B3VzLrS3oKZ09Dr1fKJBaipwowbVF29uSr1dYWLVh/rqRe4Tt9wisauPEKPHltCTSIVypKGWpbNRbWKZKGSudJ7/EbvbiZmuxacqQ8zMc84G/M4jnaduUWIVoUfZYYdNQwNTkFdn7PsxyDr027dMj3XsJYtwVZWr1tPB1Pko5nbLxAeLpQE1zhs3oY1MxXzRYpoN4GQXBHuiBQ4efJk6ty5M1WvXp02b95MP/74o4gg+O233wYCPre20XDh7tbamqQwdxshC3fz3FBMYmKa1bAnPCAgEUnl+t0Y+u/WAzp/U/m5T+dvPKCjV6Lp1n3Lq1+thLjsDYtnEzekGoUyGzLD7u6bqxmEu1KH41fu0tgVh8WrfuuUPlUolcqVXmypXixHOsqfOQ3lyZiKItOEOTWpIWOjLFJ5TDGLnWCx+IkrdwnXyNHL0bTr7E2xcFz9oIu6Yhb7+VI5qF/DIuIacSW5Q7grGzBdexRM41cfo6X7LiZG1lLqljosWFzbZfJkEA/oeGDPnykNpUnpeBG8K+3zxrHOCvd9+/ZRmTJlCKHA1WG+EU1w4sSJtGfPHipVqpQ3muSz52ThrrPrjDBCFu6BfZOFy8qjuHiKiY0nzERBgN99+Jhww8NCUfzGz7Xb0XTo6CnKlCMXPYgLouv3HtGNezEicsq1e4+S3QjtmXbKkCAqnzejcOmoWjATVcqfkUIkIzbovGRsZnf15mom4a7UBXHe5+04R3/suUCIQW0v4aafO2Mqypw2JWXCT5ow8ROZNowg9hGxBj8QAerPMjN8LNwDe0yRvUadsRNMEmA8uv0glu48eEx3HsaKz/i5Gh1Dl24/JESkws8l8TvGbnUKZE5DL5TKQR2q5HXKLUarcFfHFi0uZ6/fp/lR52jRrv/E5Ii9lDUiJeXLlJqyRoSLRbX4wf9wradLFULpwkPFgld8ThUabNgDvKwdyORzVrgPHjxY7NVz8uRJseGmkk6dOkUFCxakjz76iEaPHi1TBc6TQMBrwn3VqlW0ePFiQufBFxQdihju9evXN3XnGGGEinAfMXYivdzxdVO339nKIQZ4fEIgcOUzXj7iJmB5C/lEzGbgI4Rs9N27tHv3HipdujSlSZtWfIfjlWMseROOSfKdpUxLvqTH4CyiDBxr9R02FsJ58RuvRfGj/qz8jeMfx+H7eIp7kpAPfyufVeXABzrmseUHs0sQ5ZbfSf+HTT+MSpjFwqtd3Bwx2/tstggRurBwtrSUMsQ4NxiZ9rh6czWjcFfqhL7HrOLGY9do++nrYv2AvTceMryUPHAlCA8JFq/o8QCWMjSYwoLxO+HvkGBK8SSO7ty8TjmzZ6VU4SkpJCgFBQcFid8hwSmS/A0bEd/b+n9QCgpKkUJsvKX1G+6+GMPhDYzvg4Ks/sb/lDwJZWj9jWOREn5ZPotSLSnJ/1VLLmzmUUHFsXfuRIs9RCpXrkQREek0zvX0APX6BOVU6vMrY5V6rFHGMIxn6rFJ83PC2KeMU+pyknxWjXGJ5SjHJoxhyjhl+R2fMD49Hb8S/4/v45L+//6DB3Tm7HnKmiMnPQkKoYexcWJ3YYxV+IyxSvmf5XecEO0qzxE9pivy4uG0Yv6MVCl/pNjErUi2tG4Xrq6OLY7ebh69fJf+PnKFtp68TnvP3xaTKM4mXH8R4SGUJixEXMO4tsPFtWz5HR6K30//p1yroUFB4i0FxgNMuohrW1zfynUeJL6zXN9B4hrEZ/U1LK7XhGtT+R62j8+W755e9wvnzKKh/XuLTTI7duwo3dzGjRuLWfVLlyx7X6hTtmzZqFy5crR8+XLp8jijF+K4Y8OlDh060MKFC4XASps2reiHu3fviou3TZs2NGfOHNMuWDDCCBXhnqlZP0pboi7bJRNwSAADNFwtlJlafBZ/pwmjHBlSiZlc/GCBqadn0h1WPiGDqzdX5TzOzBraq6O76qU+B8Y6+PEeuRRN527ep3M37gt3JszcXccbk7sxQiRxYgL+QABRlrKlC6fs6cMpd8bUVDhrWnoma1oxYYAxyeiF265ew3rGFFzbCB958MIdwh4P2IX19PV74vq+cidG7PfgD+nugXV0/c8vaeTIkfT8888naVKOHDkIP1oJbjBhYWEUFRWV7Ovy5ctTbGwswZOBkzwBj8+4o9OHDRtGPXr0oEGDBonVxUjnz5+nMWPGiAUMyIOZbTMmV43w4sWLhB91+uuvv2jIkCHEwt2MPe64TsrshGVWM+EnBYmZTTETGoKZD+V3CvE3ZkvD8L34nfQ7uFAgbjp+8DltSstvin1IJ44cpCrly1DWyPSG3/wct9y1HO9sfEcU8E3Nb1wqKDo6mnbt2kW4CUREuL4RkrvqpadRuPk/iI2nm/dj6cb9WIoWblIWt6n7jyy/lb8fPIqjmDjLW5xHcU8S3+Iof4s3OrFx9OBRLMVRkJgdxawrJyZgjwDGMYxN4eItztO3N+LvhP/hM8YlCHPMEkekVH8Oocg0oZQ1bZihi9pletHVa9idYwrcHa/di01wbYyluzFx4vqOxm/hEmn5GwLfcu1a3sg+THhTi9/428g3szJMFeGulReabvjw4ZrFFCpUiDCzjgWp1gkLVa9cuULHj1t2rOUkR8Djwr1IkSLC/WHBggWaNcSM+969e+no0aNyLfBwLleNEMY9YsQIzVo37fw+Fatc28Mt8tzplFfNePWMz+J3wumV78T6fI3vEvNKfqecI6E4Uaay9j8FPUl87a7kE68JE/JYhLjqJ2HXUHyPeop8CXkt7gOeY8hnYgLOEEh0Q3tCBM8s6Hj8JH4WbmRP/7bOg3NaysDVo3y2uLY9dRtJ+NvR/xx8r7QvwbMuWXPVjyC2HkdkjlUX7Ci/1nm0xi/rcUc9vml+VrkAWY9xytiljJXqsUwpK3EsShiHgulJ4thl/R3Gv8RxTjW+IZ/yo3YHcsbO+BjjCFgewJ9ep8o1it/qz8p1bPlfCvEdfjSvVcU9VfU93vslXtOqzwe2raflP47jGXfjuli6ZI8L9/DwcBo/fryYcddKmHHv27cvPXxo2bnMbMnIGXesuH79df/0cdfbj+6c8dB7brPmZybaPcNcknNhJsxEZhxjO+ExRcZOkGfWrFmESDDs4y5LzLh8HhfuOXPmpHbt2tG4ceM0WwXRPm/ePLpw4YJxrXahZCN93KdNm0Zdu3Z1oXb+c6geH0P/abX9ljATbT7MJTkXZsJMZMZFthMeU2TsBHmcjSqDqDFwg+aoMrKkHefzuHDHbll4YsMP3GLUadGiRWLh6muvvSaMxIzJCCPkcJB8k5Wxdb7J8k1Wxk6Qh22FxxQZW2E74TFFxk5cEe6IKIPIMbbiuO/evVu4T3OSJ+Bx4X758mWqWrUqnT17luAvXqxYMVHbQ4cO0YkTJyhfvny0ZcsWsZjBjMkII2ThzjdZGVvnmyzfZGXshIU72wnbiSwBthVZUs7OuKN8uEZPnTpV7Jxao0YN2rRpk9g5tXv37jRlyhTZKnC+BAIeF+7KTQWvTpYsWSLiuCMhjnuLFi1owIABlCFDBlN3kLuNkIU7C3cZg2fhzjdZGTth4c52wnYiS4BtRZaUK8IdYcA///xzmj59uoggmDt3boL3xYcffkghIf63y6wsU2fzeUW4O1tZsxznbiNk4c7CXca2WbjzTVbGTli4s52wncgSYFuRJeWKcJc9B+eTI+AR4b527Vq52qhy1atXT/cxvnoAC3cW7jK2y8Kdb7IydsLCne2E7USWANuKLCkW7rKkjM/nEeEeFBSUuFkMNhqxt2ua8n1cnH/sNibThSzcWbjL2AkLd77JytgJC3e2E7YTWQJsK7KkWLjLkjI+n8eEe6pUqejFF1+kBg0aSPk0derUyfjWm+QMLNxZuMuYIgt3vsnK2AkLd7YTthNZAmwrsqRYuMuSMj6fR4Q7Nlz66aef6N9//6Xs2bNT+/btxUZDZcqUMb6FPnAGFu4s3GXMlIU732Rl7ISFO9sJ24ksAbYVWVIs3GVJGZ/PI8JdacbBgwdpxowZNHfuXLHBUokSJYSAR+x2bMwUqImFOwt3Gdtn4c43WRk7YeHOdsJ2IkuAbUWWFAt3WVLG5/OocFeaAz/2VatWiS10f//9d4qJiSEsRh0+fDhVq1bN+Fab7Aws3Fm4y5gkC3e+ycrYCQt3thO2E1kCbCuypFi4y5IyPp9XhLu6WZcuXaJXX32V1q1bR8OGDaOhQ4ca32qTnYGFOwt3GZNk4c43WRk7YeHOdsJ2IkuAbUWWFAt3WVLG5/OKcFdm3OH3jhn3hw8fUqNGjcSMe6VKlYxvtcnOwMKdhbuMSbJw55usjJ2wcGc7YTuRJcC2IkuKhbssKePzeVS47927VyxSnTNnDl28eJHKli2b6OOeNWtW41tr0jNMnjyZevbsSV26dBEuQ5yI7t+/T4cOHaJixYpR6tSpGQkxE1tGwLaSnAwzYSYygybbiTYl5pKcC/bj+eGHH2jSpEn09ttvy5gX5zGIgEeE+xdffCEE+/79+ylHjhxiMSrCPWJxKicSLODvz4kJMAEmwASYABNgAmYlgIAiM2fONGv1AqJeHhHu2IAJcdybN28u4rjjb0cJs8+BkhYuXEht2rShgQMHUsmSJQOl2XbbeerUKRoyZAiNHDmSChQowEyIiJlomwFzSc6FmTATmUGT7YTHFBk7QR5MvH722We0YMECat26texhnM8AAh4T7krdsWsqfNztJeQJpJ1Td+3aRRUqVKCoqCgqX768Ad3se0Uyk+R9xky07Zi5sK3IjHBsJ2wnMnaCPGwrbCuytuKNfB4R7uvXr9fdttq1a+s+xlcP4EGCBwkZ22U7YeEuYycsPNhO2E5kCbCtyJLi+48sKePzeUS4G98M3z4DXxAs3GUsmO2Eb7IydsLCne2E7USWANuKLCm+/8iSMj4fC3fjGTs8A18QLNwdGgm/vrWJiK8fvn74+pEhwHYiS4nHFLYVWVvxRj4W7t6gbnVOhMacOnUqde/eXUTd4UQiXCgzSWoJzET7ymAuybkwE2Yicx9hO+ExRcZOkIdtRZaU8flYuBvPmM/ABJgAE2ACTIAJMAEmwARcJsDC3WWEXAATYAJMgAkwASbABJgAEzCeAAt34xnzGZgAE2ACTIAJMAEmwASYgMsEWLi7jJALYAJMgAkwASbABJgAE2ACxhNg4W48Yz4DE2ACTIAJMAEmwASYABNwmQALd5cRcgFMgAkwASbABJgAE2ACTMB4AizcjWeseYa4uDgaO3YsTZ8+nc6dO0d58uSht956i/r370/BwcFeqpX7T3v69GkqUKCAZsFvvvmmaL+S9DDRk9f9rZIv8e7du/TFF19QVFQU7dy5ky5dukSdOnWiGTNmJCtET5uMyivfMtdyynLRYz+oka9ygW3Mnj2b1q5dS6dOnaI0adJQiRIlaNCgQdSgQYMksI1qo55yXet9uaNlmQSKjSjUDh06RCNGjBBjCkL0BQUFUcGCBemNN96gt99+m1KmTGn4mGo2W5FlEmi2Yn2lYXypX7+++PexY8fomWeeSczy4MEDGj58OM2ZM4euXr0qvuvTpw917do12QVrVF65kYFzsXD3kg307NmTJk+eTJ07d6bq1avT5s2b6ccffyT8/9tvv/VSrdx/WmWgbNGiBbVp0ybJCTAwVK1aNfF/epjoyev+VsmXqLQf8fkrVKhAf/75p03hrqdNRuWVb5lrOWW56LEf1MhXueDaWL9+PbVu3ZrKly9PeLDBeLB//36aNGmSEGRKMqqNesp1rffljpZlEig2olBbuXKlmAyoUqUK5c6dWzysbtq0iebOnUsvvPACLVmyJOBsw7w/HQAAGWhJREFURZZJoNmK+kp79OgRlSlTRkwU3rt3L5lwh+2A4zvvvEPFixenpUuX0uLFi+nzzz8XE4rqZFReuZGBc7Fw94IN7Nu3T1xAvXv3pgkTJiTWAE+3EydOpD179lCpUqW8UDP3n1IZKAcPHkyjRo2yeQI9TPTkdX+L9JUYExND165do1y5ctHjx48pNDRUU7jraZNRefW1zLXcslxk7Qe18WUuEF4VK1ZMMluKWa2yZcuK2a8rV65QSEiIYW3Uw861npc/WpZJoNiII3IQXJj0OXz4MD377LMBZSu22FgzCWRbGTNmDI0fP546dOggfqtn3DGh1Lx5cxo3bhz17ds3EScm3FatWkVnzpyhLFmyiP8bldeRffP3TwmwcPeCNUDEfvrpp3Ty5MkkbiR4RY5Xnh999BGNHj3aCzVz/ynVAyXajZQqVapkJ9LDRE9e97fI+RLtCXc9bTIqr/Mtc+1Ie1xk7Qc18DcuaFO/fv3EzfTs2bPCnc6oNuop17Xedv1oayaBbiMKUczCY2Z069atYjZeT58aldf13natBGsmgWorEN6YRf/mm2+ECIerlVq4d+zYkRYtWkQ3btxIcn9et24d1atXj6ZNm5boMmNUXtd6OrCOZuHuhf5u3LixmFWHv7N1ypYtG5UrV46WL1/uhZq5/5TKQJk2bVrx+h8JLjLvvfce9erVK/GEepjoyev+Fjlfoj2BqqdNRuV1vmWuHSkj3B3ZD2rgb1zQpvbt29OCBQvo1q1bwu/dqDbqKde13nb9aGsmsmOMv9nI/fv3CT9we9i+fbsYT/FG7/jx40J86elTo/K63tv6SnDEJFBtBTPneGsHl1yIdmvhjjc0GTNmFA996oS3fqlTp6bu3bvTlClTxFdG5dXX04Gdm4W7F/ofbjBhYWFicZF1gn9rbGyseM3pDwkzhV26dKGWLVtSvnz56MKFC2JBKhaeffDBB2KBLpIeJnrymomhPYGqp01G5fUWK3tcZO3HH20IC+7gKtOsWTNauHChodeJHpvylp3gvFpMAtVGsJAQAkxJmGXHzGjp0qUD1lYcMQlEW4FrC4Q7Hu6wzkphpJ5xj4iIoEaNGiWOM+prPDIykmrUqJG4dsKovN4cV3zt3CzcvdBjhQoVIsys4+nXOmGhKp6MMWvirwmLqfD6bePGjXT06FECDz1M9OQ1E0N7AlVPm4zK6y1W9rho1UnLfpDPn7jcvn2bqlWrJqKG4O1c3rx5BQqj2qinXG/ZiS0mgWojcLXEz/Xr10U0or179xL8mOvUqROwtuKISaDZCmbMEZ2qYcOGNHXqVNF8LeGOSHZt27YVEWWsU86cOYWbzerVq8VXRuX11rjii+dl4e6FXvOV2S0j0SDywYsvvigGk27duvGMu463MHrsR09eI/vbXtl6hTvKsrYf/E9PW/Xk9TQX3GzhurBjxw7hMle7du3EKuipt1F5Pc0D57PHxFZ9/NlGtNr81Vdf0YABA8SDXrFixQy7HvTYlTdsRX1OayaBZisff/yxiEqFCbLMmTPbFO5GzaLrKdfbtuJL52fh7oXe0uNP6IXqeeSUmB1CZB0swsViXD1M9OT1SGMkT8I+7tqgnBHu1vaDkvXYhZ68kt3rlmwI2YYHWsygYrEY3GTUSU+9jcrrlobqKMQRE1tF+auN2Grv5cuXKXv27InBDYzqfz3l6uhmQ7JaMwkkW4FbKoJdYD0Z9ohR0tdffy2i161Zs4by588v8hjlt66nXEMMwE8LZeHuhY6FUMUrzUCIKmMLL0QJYlbD3x0bMelhoievF7rX5intCVQ9bTIqr7dYOSPcre0Hdfd1LuCA2OWYKf7555+pXbt2ybrEqDbqKdeTdiLDRHaM8QcbscdeWXiJmP+YZdXTp0bl9aStaJ3Lmkkg2cru3btFoAt7CQveETQCISJ/++03qagyRuX1tq340vlZuHuht/AqExeUrTjuuOCUBUZeqJ5bT4nwUljcok547Y3FLthc5sSJEyLMnR4mevK6tTEuFmZPoOppk1F5XWye04fb4yJrPzi5L3OJj48XN8958+YlCb1mDdWoNuop1+mO1nmgLJNAsREFH9ZAZc2aNRnNDz/8UCz2x67M2J1ZT58alVdnlzudXZZJINkK1oQgBrt1+vXXX2n+/Pli1h0beCFwhOJWZiuOOx6AFJszKq/TnR+AB7Jw91Kn9+jRQ/h3Y+dUiFhsNoKdEtVhl7xUNbeetlWrViJkGXZIxSCB13czZ84Ubxvw1mHgwIGJ59PDRE9etzbIicIQOxfh/CBEhg0bJh7awAUJbhHKQ5qeNhmV14nmOX2IDBc99oOK+CqX999/n+CPC3929WttBS4Wl2FBu5Ft1MPO6U7XcaAsk0CxEQXdSy+9JBakYhEqJj0wtqxYsUK4PtSsWZMQexubdQWSrcgyCTRb0brctBanIl+TJk2EDWFCEYtREY0GO6da36eNzKtjeAjorCzcvdT9mGXEVsJwFTl//rwQtbhhY9ZEGXS9VDW3nvb7778XQv3IkSPiNRzicSPkJXaJhWhVJz1M9OR1a4OcKAx+hNj0QivhYe2NN94QX+lpk1F5nWie04fIcNFjP0YydLqRkgdChK1fv95mbogxJVqIUX2vp1zJZrmUTZZJoNiIAhNvZTCrDh9+7KqbMmVKKlq0qIgKAtGFv5Wkp0+NyuuSEUgeLMsk0GxFj3DHBBsmlubOnSvsCpGmcJ/GZKJ1MiqvZHcHfDYW7gFvAgyACTABJsAEmAATYAJMwBcIsHD3hV7iOjIBJsAEmAATYAJMgAkEPAEW7gFvAgyACTABJsAEmAATYAJMwBcIsHD3hV7iOjIBJsAEmAATYAJMgAkEPAEW7gFvAgyACTABJsAEmAATYAJMwBcIsHD3hV7iOjIBJsAEmAATYAJMgAkEPAEW7gFvAgyACTABJsAEmAATYAJMwBcIsHD3hV7iOjIBJsAEmAATYAJMgAkEPAEW7gFvAgyACTABJsAEmAATYAJMwBcIsHD3hV7iOjIBJsAEmAATYAJMgAkEPAEW7gFvAgyACTABJsAEmAATYAJMwBcIsHD3hV7iOjIBJsAEmAATYAJMgAkEPAEW7gFvAgyACTABJsAEfIXAN998Qz/++CPt27ePOnToQDNmzPCVqnM9mQATcAMBFu5ugMhFMAEmwASYABPwBIFFixZRcHAwLV26lB49esTC3RPQ+RxMwEQEWLibqDO4KkzAkwQwU9e5c2c6deoU5c+fX5xa+d+qVauoQYMGnqyO5rm06uj1SnEF3ELAbLaGRv3zzz9Ur149OnDgAD377LNuaadRhQwcOJAuXbqkKdxnzZpF7777Lp04cYIyZcpkVBW4XCbABLxAgIW7F6DzKZmAEQRat25Nv//+O505c4Zy586teYpNmzZRzZo16YMPPqASJUqYQrjv2rWL/vjjD3rjjTcSHyCUyntTuC9ZsoRefPFFmjBhghBB6jRixAgaPnw4vfzyy/Trr78m+W7NmjXioWfMmDEEccVJm4AZhXuVKlWocOHCNHv2bNN3mz3hHhcXJx48mjdvTl999ZXp28IVZAJMQJ4AC3d5VpyTCZiagCI07QnG7t2707Rp02jv3r1UrFgxevjwIaVJk4ZSpEgh2uYNMTV9+nTq2rUrrVu3jurUqZOE8ePHj5PV0VOdcOvWLTFb+dJLL9GCBQuSnLZ+/fpidjZz5sx08eLFJN8NGzaMPvnkE8JDUvXq1T1VXZ87jzdszR6k1atXU8OGDWnr1q0EAW/2ZE+4o+5ffPEFDRkyRNhnhgwZzN4crh8TYAKSBFi4S4LibEzA7AQgcnPlyiXE5sGDB5NVNyYmhrJnz04FCxakqKgozea4Kqbgc4sUFhYmjcuecJcuxKCMZcuWFcLn8uXLiWeIjY0VQgiz7TNnzqQjR45QkSJFEr+vW7cubd++nSD8Q0NDDaqZ7xfrqq3pISBjl23btiW8/Tl27Jieot2WF29p8LZGK+XLl49Onz6d5CtHwv3cuXOE477++mt655133FZPLogJMAHvEmDh7l3+fHYm4FYCffv2pfHjx9OOHTuoYsWKScqeP38+vfLKK4muH/Z83P/66y8xowxhevPmTapUqZIot3z58ollKsdjkRxml+FXe+HCBfFQkDFjRjHjt3btWuG6g1SuXDn66KOPqGnTpollwN0EbifWCVEz4Dpjy1UGvr0ff/yxWKB348YNyps3L7322ms0aNCgRLGsHLt8+XLBY+rUqXT16lWqUKECTZo0icqUKeOQPVxkJk6cSIcOHaKiRYuK/Fu2bBEz6f/++6/4DWH01ltvie8gECHqq1WrlijC0H4ZFosXL6aWLVvS3LlzqV27dknqhnrnzJmTunXrRt9++6347v79+/S///2PfvnlFyHq0qdPT02aNKFPP/00iauUHg5Kfzx58iTJ+VF+gQIFRDQT9AuSUu6yZcto8+bN9MMPPwhbgSvWd999J/oE7OBqdP78ecJDEP5fqlSpJMfL2Joz7dWyS9RBKykPY1jzgagt1unevXuCNdyiwCJdunSiPUOHDhXtdZWFQ0PUyOBIuOOQkiVLUpYsWcTbLE5MgAn4BwEW7v7Rj9wKJiAI7N69Wwjk3r17C0GpTvB3XbFiBf3333/iZm5PuEPUQrx16tSJ7ty5I8QMxM3OnTuFD7BauEEcYGa5Y8eOwuWmTZs2YsYZwrpFixZihh9l/PTTT7R//37Cwle4miDBZQf1/P7774Woh/sOEgQxjtOqI8QhHiDQjrffflv48sLN4bfffiP4+StuLcqxygMMQufBNQgiGsILM6shISF2LWfhwoWiPRD9EM1IEHBjx44VDwGYXYdAxUMLkrKGAA8jEHVIqI8MC/DFGxG0HW5P6gT+6FPF/QYPCDg3Hh7efPNNIYbPnj0rRH1ERISYOYYbj7qfZDg4I9xhb+Hh4eJhAw9uX375JZUuXVo8JM6ZM0cIffT/559/Lh4+Dh8+LKKiKP0jY2vOtFfLLtFXWgnuMXjYQp1g8+r04MEDql27tnj4gy3gM+wIDyt4CBw8eHBiW5xloWf4wps1/MANBg+weBgCT623O7ANPAjevn2b3/7ogcx5mYCJCbBwN3HncNWYgDMEIIQgoPCj3MyVGdsXXnhBLGBVCzqtqDIQzXv27KG0adOKvPgMsQzhMm/evCTHFy9eXMyyQ7wpCbPBqVOnTlJ9uOpglhLiCQ8QSrLnKqMl3AcMGCBEIGaa4d6gJIj4KVOmEGbYGzdunERMbdu2LZEF2g+/dczIPv/883YRg1vWrFnFQ4myYBEMwRXlQDzhgURxY8D6AjyAqP319bDo0aOHmLmGe446GghEJdx1Tp48KeqLBwecB29F8J2S8OAGgd6/f3+xOFbdzxCVjjg4I9xxPryFUB6C+vXrR+PGjRMz9IjOkipVKlEPCHosil65cqXwJVf6VsbWnGmvll3a6my8SejSpYvg+dxzzyXJNmrUKNHPWouU8XCLh1X1Q6IzLPRc51pvqfCwoRXPffTo0eKh8ejRo4kP3HrOxXmZABMwHwEW7ubrE64RE3CJAEQTxBNcLxAVBQmi47333iPEgIZoVQs6LeEOdwu4nahTo0aNhEDD7F1QUFCiWEHUCpRtK2F2Eq4GEDkQQBD+cG9Rkl7hjll5zE4fP348ySkx4wyfXgh4uMIoYgpiHotylYQZ+8jISDHTj1lsRwkC8O7du2JGOz4+XhyLdoAxRCgeEuAOgwcSuAHBPQiM1A8yyjkcsdiwYQPVqlWLJk+eTBDxSBDrhQoVEjO7EJFIeIjCOoI///wzWfUhPPHAhRlidT/LcHBGuKvfRuB8eMMA/3+8cVC7QSmz2ugb9JHSPzK25kx7HdmlGhweBPFAiE2NMFOvTnh7gP7EdQK710pKW5xl4cgGnf0efQ7WeDugfsBztjw+jgkwAe8TYOHu/T7gGjABtxLAzCzCQcJNRXEbwSt9iEvMwisLR+25ysBFpFWrVknqBZELlw28ns+WLVui8EIoR7jhqBOE9ciRI4ULieLjrnyPGUoIYCXpFe4QxJixtXYnQXlwE4HPMfyu1b7dENfqhDpApCICjKMEAQ1BBuGmuOlg5rpy5coUHR0t/Plxrvbt2wtRD6EHAa4kPSzwcIOZ6jx58iSWocz4YsGx4kqEtxlw4bCV8BChcNfDwRnhrrzhUOqiRGdBv8JVQ0lwkUH90R61e4mMrTnTXi27tMXLnnDHGwPEdscbGlvJFmNZFo5s0Nnv8ZDUq1cvFu7OAuTjmIAJCbBwN2GncJWYgKsEmjVrJvy+4XKBH8RsR2QJLBZUkj3hrp6ZV/LbEu5amzVBLGDWGLN9ENIQtPDDhUsC/J7Vix/dLdwx44wFj/ailkC4Q7RDqDpK8BGGf7yyUBcuKpiBVVxD8FCEH8zqw21EPTOOsvWwQH686YAfPR4U8AYBM/4Qj+pIQHh4wSw0wk5qJXwP7kh6OCjx6a0Xp2Ijn2eeeUZzcap1/ytiVb2QFfVQhDse6OC+odRLxtbc1V5bfW3PVUaPcHeWhSMbdPZ7dpVxlhwfxwTMS4CFu3n7hmvGBJwmoESQgXiGAMSMonWkGXvCXcZ9wZ4gxCw0Zvyt/W4xKw3fdLUwxMJURGXRiuOuVUdbrjIIf4eZ5p49e4pFmnoEqz3QeEuBMJuYPcaMO0Q7xKmS4CaEWWcI9/fff1/478OtSEl6WOAY+IXDXQM+6nhTAIEO/3CUrSQsRsVMPsSwo6SHA9yH+vTpI1yZUG8lQZCiTVpRZZwVq3pcZdzVXlusFDce64cN5NfjKuMsC0d96Oz38NvH9caLU50lyMcxAfMRYOFuvj7hGjEBlwlgIWiOHDlEfHGE4kOoQAhCdbIn3LFgEBFfsDkTkrI4FVFblJ1C7QlCRDTBIk7MUisJ8c6xOBV+3mrhDmEBQa8186pVR4TBw4w0Hk6wWFZJmNmGa4AinPUIVkfAMdsM/2YIIDwYqF1sFJ9uRINBNB2Ie2VRL8rVw0KpBzhh90sId/hq46EEEVmUpCyC1RKaYHvt2jUROQhJDwe4GGHBLtqEvkZCeXCFgquIEcJdxtbc1V5b/ayEg0QEHCXcppJXmbXG2yrreOjWi1PNJtzxpg2LqzkcpKMrnL9nAr5DgIW77/QV15QJ6CKgRFnBQRC6H374obRwV0L0KaH8IFrwMIBwkAi/6EgQYgYdIg+z0IhmggWWmP2HSEMIQ7VwR1hGPGAgVjzqDNcE7FwJX29H4SAhonEsFoTCV1orHKSWK48eVxm0FTOXaA8SNsmBz7OSsKYAYRyR4PcO/3d10sNCOQ5RVNBf8NlHmeoZfuRBX8DPH770eHiBWwwi3eDtChYlIxSjspBVj3BHmEHEq79+/bpYfIsHPnBFZBy8sTFCuMvYmrvaa+8CQoQiuCNZL3rGgybcr2D74IrPEPpY8KnsTWCLsazbkK4LWzIzb8AkCYqzMQEfI8DC3cc6jKvLBGQJKK//MVNsPWOrFt5aUWXUm+LAbQKiGjO/6k2d7AlCRGGBrzZm0XE8xCBmyrGREfyorX2oMcuJaDhYUImZZkcbMMFv33oDptdff11zAyZ3CHe8OcBDDPzaMetuHeoSDw94AEG4Q4huddLLAsfiLQn827GIF+EhsTGQdYKYxaZYWDOAcH8Q7liUjIcKLKhVoqPoEe44B2LtY2YZ9oN493gbggcwzN4aIdxlbE15WHG1vfauHTz8YX8BtBsPjtZ9CPcxvG1CdCFssgUXJkQXqlGjhs23Gt4U7rBDRPaBq5fa7Ul2/OB8TIAJmJMAC3dz9gvXigkwASbABDxMoGrVqmIRrhKz38Ond9vp8PCLN2NwccIDNycmwAT8hwALd//pS24JE2ACTIAJuEAAGzDhjQXWgyguYS4U57VDsSkY3prARU29kZfXKsQnZgJMwG0EWLi7DSUXxASYABNgAkyACTABJsAEjCPAwt04tlwyE2ACTIAJMAEmwASYABNwGwEW7m5DyQUxASbABJgAE2ACTIAJMAHjCLBwN44tl8wEmAATYAJMgAkwASbABNxGgIW721ByQUyACTABJsAEmAATYAJMwDgCLNyNY8slMwEmwASYABNgAkyACTABtxFg4e42lFwQE2ACTIAJMAEmwASYABMwjgALd+PYcslMgAkwASbABJgAE2ACTMBtBFi4uw0lF8QEmAATYAJMgAkwASbABIwjwMLdOLZcMhNgAkyACTABJsAEmAATcBsBFu5uQ8kFMQEmwASYABNgAkyACTAB4wiwcDeOLZfMBJgAE2ACTIAJMAEmwATcRoCFu9tQckFMgAkwASbABJgAE2ACTMA4AizcjWPLJTMBJsAEmAATYAJMgAkwAbcRYOHuNpRcEBNgAkyACTABJsAEmAATMI4AC3fj2HLJTIAJMAEmwASYABNgAkzAbQRYuLsNJRfEBJgAE2ACTIAJMAEmwASMI8DC3Ti2XDITYAJMgAkwASbABJgAE3AbARbubkPJBTEBJsAEmAATYAJMgAkwAeMIsHA3ji2XzASYABNgAkyACTABJsAE3EaAhbvbUHJBTIAJMAEmwASYABNgAkzAOAIs3I1jyyUzASbABJgAE2ACTIAJMAG3EWDh7jaUXBATYAJMgAkwASbABJgAEzCOAAt349hyyUyACTABJsAEmAATYAJMwG0E/g+zsJLr4zfD7wAAAABJRU5ErkJggg==\" width=\"600\">"
      ],
      "text/plain": [
       "<IPython.core.display.HTML object>"
      ]
     },
     "metadata": {},
     "output_type": "display_data"
    }
   ],
   "source": [
    "fig, ax = plt.subplots(figsize=(6, 4))\n",
    "ax.grid()\n",
    "\n",
    "x = np.arange(0, 4000, 1)\n",
    "ax.plot(x, ir_plot(x, 50, frq.freq, ir_intensities), label=\"Molar Absorption Coefficient\")\n",
    "ax.set_ylabel(\"Molar Absorption Coefficient (L mol$^{-1}$ cm$^{-1}$)\")\n",
    "ax.set_xlabel(\"Vibration Wavenumber (cm$^{-1}$)\")\n",
    "ax.set_title(\"H$_2$O$_2$ (not optimized) Infrared Spectrum (RHF/6-31G)\")\n",
    "ax.set_xlim(0, 4000)\n",
    "ax.legend(loc=\"upper left\")\n",
    "\n",
    "ax2 = ax.twinx()\n",
    "for i in range(ir_intensities.size):\n",
    "    if i == 0:\n",
    "        ax2.plot([frq.freq[i], frq.freq[i]], [0, ir_intensities[i]], c=\"C2\", linewidth=1, label=\"IR Intensity\")\n",
    "    else:\n",
    "        ax2.plot([frq.freq[i], frq.freq[i]], [0, ir_intensities[i]], c=\"C2\", linewidth=1)\n",
    "ax2.set_ylabel(\"IR Intensity (km mol$^{-1}$)\")\n",
    "ax2.legend(loc=\"upper right\")\n",
    "fig.tight_layout()"
   ]
  }
 ],
 "metadata": {
  "kernelspec": {
   "display_name": "Python 3",
   "language": "python",
   "name": "python3"
  },
  "language_info": {
   "codemirror_mode": {
    "name": "ipython",
    "version": 3
   },
   "file_extension": ".py",
   "mimetype": "text/x-python",
   "name": "python",
   "nbconvert_exporter": "python",
   "pygments_lexer": "ipython3",
   "version": "3.8.1"
  },
  "toc": {
   "base_numbering": 1,
   "nav_menu": {},
   "number_sections": true,
   "sideBar": true,
   "skip_h1_title": false,
   "title_cell": "Table of Contents",
   "title_sidebar": "Contents",
   "toc_cell": false,
   "toc_position": {},
   "toc_section_display": true,
   "toc_window_display": false
  }
 },
 "nbformat": 4,
 "nbformat_minor": 4
}
