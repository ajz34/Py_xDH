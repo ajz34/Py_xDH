{
 "cells": [
  {
   "cell_type": "markdown",
   "metadata": {},
   "source": [
    "# MP2 计算"
   ]
  },
  {
   "cell_type": "markdown",
   "metadata": {},
   "source": [
    "XYG3 型泛函从实现上，可以看作是将普通杂化泛函上引入一部分 MP2 的能量；因此这里对 MP2 的实现过程作初步的了解。"
   ]
  },
  {
   "cell_type": "code",
   "execution_count": 1,
   "metadata": {},
   "outputs": [],
   "source": [
    "import numpy as np\n",
    "from pyscf import scf, gto, mp\n",
    "\n",
    "from pkg_resources import resource_filename\n",
    "from pyxdh.Utilities import FormchkInterface\n",
    "from pyxdh.Utilities.test_molecules import Mol_H2O2\n",
    "from pyxdh.DerivOnce import GradMP2\n",
    "\n",
    "from functools import partial\n",
    "np.einsum = partial(np.einsum, optimize=[\"greedy\", 1024 ** 3 * 2 / 8])\n",
    "\n",
    "import warnings\n",
    "warnings.filterwarnings(\"ignore\")\n",
    "\n",
    "np.set_printoptions(5, linewidth=150, suppress=True)"
   ]
  },
  {
   "cell_type": "code",
   "execution_count": 2,
   "metadata": {},
   "outputs": [],
   "source": [
    "mol = Mol_H2O2().mol"
   ]
  },
  {
   "cell_type": "markdown",
   "metadata": {},
   "source": [
    "## 量化软件的 MP2 计算"
   ]
  },
  {
   "cell_type": "markdown",
   "metadata": {},
   "source": [
    "### PySCF 计算"
   ]
  },
  {
   "cell_type": "markdown",
   "metadata": {},
   "source": [
    "PySCF 的 MP2 计算可以在给出 SCF 类 `scf_eng` 的前提下，通过下述代码给出 `mp2_eng` 以实现："
   ]
  },
  {
   "cell_type": "code",
   "execution_count": 3,
   "metadata": {},
   "outputs": [
    {
     "data": {
      "text/plain": [
       "-150.5850337808368"
      ]
     },
     "execution_count": 3,
     "metadata": {},
     "output_type": "execute_result"
    }
   ],
   "source": [
    "scf_eng = scf.RHF(mol)\n",
    "scf_eng.kernel()"
   ]
  },
  {
   "cell_type": "code",
   "execution_count": 4,
   "metadata": {},
   "outputs": [
    {
     "data": {
      "text/plain": [
       "-0.26901177599951515"
      ]
     },
     "execution_count": 4,
     "metadata": {},
     "output_type": "execute_result"
    }
   ],
   "source": [
    "mp2_eng = mp.MP2(scf_eng)\n",
    "mp2_eng.kernel()[0]"
   ]
  },
  {
   "cell_type": "markdown",
   "metadata": {},
   "source": [
    "上述的输出是体系的相关矫正能 $E_\\mathrm{MP2, c}$；两者相加则可以得到总能量 $E_\\mathrm{MP2} = E_\\mathrm{SCF} + E_\\mathrm{MP2, c}$："
   ]
  },
  {
   "cell_type": "code",
   "execution_count": 5,
   "metadata": {},
   "outputs": [
    {
     "data": {
      "text/plain": [
       "-150.8540455568363"
      ]
     },
     "execution_count": 5,
     "metadata": {},
     "output_type": "execute_result"
    }
   ],
   "source": [
    "scf_eng.e_tot + mp2_eng.e_corr"
   ]
  },
  {
   "cell_type": "markdown",
   "metadata": {},
   "source": [
    "### Gaussian 计算"
   ]
  },
  {
   "cell_type": "markdown",
   "metadata": {},
   "source": [
    "我们可以将上述计算结果与 Gaussian 结果 ([输入卡](https://github.com/ajz34/Py_xDH/blob/master/pyxdh/Validation/gaussian/H2O2-MP2-freq.gjf)，[formchk 结果](https://github.com/ajz34/Py_xDH/blob/master/pyxdh/Validation/gaussian/H2O2-MP2-freq.fchk)) 进行比对："
   ]
  },
  {
   "cell_type": "code",
   "execution_count": 6,
   "metadata": {},
   "outputs": [],
   "source": [
    "ref_fchk = FormchkInterface(resource_filename(\"pyxdh\", \"Validation/gaussian/H2O2-MP2-freq.fchk\"))"
   ]
  },
  {
   "cell_type": "markdown",
   "metadata": {},
   "source": [
    "通过 `FormchkInterface` 给出的是总能量："
   ]
  },
  {
   "cell_type": "code",
   "execution_count": 7,
   "metadata": {},
   "outputs": [
    {
     "data": {
      "text/plain": [
       "-150.8540455443488"
      ]
     },
     "execution_count": 7,
     "metadata": {},
     "output_type": "execute_result"
    }
   ],
   "source": [
    "ref_fchk.total_energy()"
   ]
  },
  {
   "cell_type": "markdown",
   "metadata": {},
   "source": [
    "若要获得其中的相关能 $E_\\mathrm{MP2, c}$，需要直接读取其中的文件词条："
   ]
  },
  {
   "cell_type": "code",
   "execution_count": 8,
   "metadata": {},
   "outputs": [
    {
     "data": {
      "text/plain": [
       "-0.2690117592611898"
      ]
     },
     "execution_count": 8,
     "metadata": {},
     "output_type": "execute_result"
    }
   ],
   "source": [
    "ref_fchk.key_to_value(\"MP2 Energy\") - ref_fchk.key_to_value(\"SCF Energy\")"
   ]
  },
  {
   "cell_type": "markdown",
   "metadata": {},
   "source": [
    "### pyxdh 计算"
   ]
  },
  {
   "cell_type": "markdown",
   "metadata": {},
   "source": [
    "pyxdh 也可以进行 MP2 计算，但需要使用 `DerivOnceMP2` 的子类："
   ]
  },
  {
   "cell_type": "code",
   "execution_count": 9,
   "metadata": {},
   "outputs": [],
   "source": [
    "config = {\"scf_eng\": scf_eng}\n",
    "mp2h = GradMP2(config)"
   ]
  },
  {
   "cell_type": "code",
   "execution_count": 10,
   "metadata": {},
   "outputs": [
    {
     "data": {
      "text/plain": [
       "-150.8540455568363"
      ]
     },
     "execution_count": 10,
     "metadata": {},
     "output_type": "execute_result"
    }
   ],
   "source": [
    "mp2h.eng"
   ]
  },
  {
   "cell_type": "markdown",
   "metadata": {},
   "source": [
    "`GradMP2` 继承于 `GradSCF`，因此 `GradSCF` 类的所有属性都被 `GradMP2` 继承。"
   ]
  },
  {
   "cell_type": "code",
   "execution_count": 11,
   "metadata": {},
   "outputs": [],
   "source": [
    "nmo = nao = mp2h.nmo\n",
    "natm = mp2h.natm\n",
    "nocc, nvir = mp2h.nocc, mp2h.nvir\n",
    "so, sv, sa = mp2h.so, mp2h.sv, mp2h.sa\n",
    "\n",
    "C, Co, Cv = mp2h.C, mp2h.Co, mp2h.Cv"
   ]
  },
  {
   "cell_type": "markdown",
   "metadata": {},
   "source": [
    "## MP2 相关能计算"
   ]
  },
  {
   "cell_type": "markdown",
   "metadata": {},
   "source": [
    "### 变量定义"
   ]
  },
  {
   "cell_type": "markdown",
   "metadata": {},
   "source": [
    "在今后的文档中，我们会经常地使用其中的一些矩阵。在这里我们列举出以后程序中会常用到的变量名称和意义。"
   ]
  },
  {
   "cell_type": "markdown",
   "metadata": {},
   "source": [
    "- `nmo` 分子电子数\n",
    "\n",
    "- `nao` 原子轨道数\n",
    "\n",
    "- `natm` 原子数\n",
    "\n",
    "- `nocc` 占据轨道数\n",
    "\n",
    "- `nvir` 未占轨道数\n",
    "\n",
    "- `so` 占据轨道分割\n",
    "\n",
    "- `sv` 未占轨道分割\n",
    "\n",
    "- `sa` 全轨道分割"
   ]
  },
  {
   "cell_type": "code",
   "execution_count": 12,
   "metadata": {},
   "outputs": [],
   "source": [
    "nmo = nao = mp2h.nmo\n",
    "natm = mp2h.natm\n",
    "nocc, nvir = mp2h.nocc, mp2h.nvir\n",
    "so, sv, sa = mp2h.so, mp2h.sv, mp2h.sa"
   ]
  },
  {
   "cell_type": "markdown",
   "metadata": {},
   "source": [
    "- `C` 系数矩阵 $C_{\\mu p}$\n",
    "\n",
    "- `e` 轨道能量 $\\varepsilon_p$\n",
    "\n",
    "- `Co` 占据轨道系数矩阵 $C_{\\mu i}$\n",
    "\n",
    "- `Cv` 未占轨道系数矩阵 $C_{\\mu a}$\n",
    "\n",
    "- `eo` 占据轨道能量 $\\varepsilon_i$\n",
    "\n",
    "- `ev` 未占轨道能量 $\\varepsilon_a$\n",
    "\n",
    "- `D` 密度矩阵 $D_{\\mu \\nu}$\n",
    "\n",
    "- `F_0_ao` AO 基组 Fock 矩阵 $F_{\\mu \\nu}$\n",
    "\n",
    "- `F_0_mo` MO 基组 Fock 矩阵 $F_{pq}$ (为对角阵)\n",
    "\n",
    "- `H_0_ao` AO 基组 Hamiltonian Core 矩阵 $h_{\\mu \\nu}$\n",
    "\n",
    "- `H_0_mo` MO 基组 Hamiltonian Core 矩阵 $h_{pq}$\n",
    "\n",
    "- `eri0_ao` AO 基组双电子互斥积分 $(\\mu \\nu | \\kappa \\lambda)$\n",
    "\n",
    "- `eri0_mo` MO 基组双电子互斥积分 $(pq | rs)$\n",
    "\n",
    "- `mo_occ` 轨道占据数"
   ]
  },
  {
   "cell_type": "code",
   "execution_count": 13,
   "metadata": {},
   "outputs": [],
   "source": [
    "C, Co, Cv = mp2h.C, mp2h.Co, mp2h.Cv\n",
    "e, eo, ev = mp2h.e, mp2h.eo, mp2h.ev\n",
    "D = mp2h.D\n",
    "F_0_ao, F_0_mo = mp2h.F_0_ao, mp2h.F_0_mo\n",
    "H_0_ao, H_0_mo = mp2h.H_0_ao, mp2h.H_0_mo\n",
    "eri0_ao, eri0_mo = mp2h.eri0_ao, mp2h.eri0_mo\n",
    "mo_occ = mp2h.mo_occ"
   ]
  },
  {
   "cell_type": "markdown",
   "metadata": {},
   "source": [
    "### 实际 MP2 计算"
   ]
  },
  {
   "cell_type": "markdown",
   "metadata": {},
   "source": [
    "事实上刚刚我们已经把 MP2 中计算量最大的部分，即 MO 基组的原子轨道 `eri0_mo` 已经生成出来了。我们回顾一下该矩阵是如何生成的。AO 原子轨道 `eri0_ao` 为四维张量 $(\\mu \\nu | \\kappa \\lambda)$；那么 MO 原子轨道 `eri0_mo` 的表达式是\n",
    "\n",
    "$$\n",
    "(pq|rs) = C_{\\mu p} C_{\\nu q} (\\mu \\nu | \\kappa \\lambda) C_{\\kappa r} C_{\\lambda s}\n",
    "$$"
   ]
  },
  {
   "cell_type": "code",
   "execution_count": 14,
   "metadata": {},
   "outputs": [
    {
     "data": {
      "text/plain": [
       "True"
      ]
     },
     "execution_count": 14,
     "metadata": {},
     "output_type": "execute_result"
    }
   ],
   "source": [
    "np.allclose(\n",
    "    np.einsum(\"up, vq, uvkl, kr, ls -> pqrs\", C, C, eri0_ao, C, C),\n",
    "    eri0_mo\n",
    ")"
   ]
  },
  {
   "cell_type": "markdown",
   "metadata": {},
   "source": [
    "在 RHF 下，MP2 计算表现为 (Szabo, (6.74))\n",
    "\n",
    "$$\n",
    "E_\\mathrm{MP2, c} = \\frac{(ia|jb) \\big( 2 (ia|jb) - (ib|ja) \\big)}{\\varepsilon_i - \\varepsilon_a + \\varepsilon_j - \\varepsilon_b} = T_{ij}^{ab} t_{ij}^{ab} D_{ij}^{ab}\n",
    "$$\n",
    "\n",
    "其中，\n",
    "\n",
    "$$\n",
    "\\begin{align}\n",
    "D_{ij}^{ab} &= \\varepsilon_i - \\varepsilon_a + \\varepsilon_j - \\varepsilon_b \\\\\n",
    "t_{ij}^{ab} &= \\frac{(ia|jb)}{D_{ij}^{ab}} \\\\\n",
    "T_{ij}^{ab} &= 2 t_{ij}^{ab} - t_{ij}^{ba}\n",
    "\\end{align}\n",
    "$$"
   ]
  },
  {
   "cell_type": "markdown",
   "metadata": {},
   "source": [
    "我们发现，实际上我们不需要全部轨道的 MO 基组张量，只需要其中的 (占据, 非占, 占据, 非占) 部分；因此，我们定义下述的张量：\n",
    "\n",
    "- `D_iajb` $D_{ij}^{ab}$\n",
    "\n",
    "- `t_iajb` $t_{ij}^{ab}$\n",
    "\n",
    "- `T_iajb` $T_{ij}^{ab}$\n",
    "\n",
    "这些张量不能定义在全分子轨道下，因为如果推广 $D_{ij}^{ab}$ 到 $D_{pq}^{rs}$，那么遇到类似于 $D_{ij}^{ij} = 0$ 的情形，$t_{ij}^{ij}$ 则表示为非零的 $(ii|jj)$ 与零值的 $D_{ij}^{ij}$ 相除；因此会引起许多程序上的问题。"
   ]
  },
  {
   "cell_type": "code",
   "execution_count": 15,
   "metadata": {},
   "outputs": [],
   "source": [
    "D_iajb = mp2h.D_iajb\n",
    "t_iajb = mp2h.t_iajb\n",
    "T_iajb = mp2h.T_iajb"
   ]
  },
  {
   "cell_type": "markdown",
   "metadata": {},
   "source": [
    "我们可以验证从 pyxdh 给出的这些变量与上述公式给出的结果是相同的："
   ]
  },
  {
   "cell_type": "code",
   "execution_count": 16,
   "metadata": {},
   "outputs": [
    {
     "name": "stdout",
     "output_type": "stream",
     "text": [
      "True\n",
      "True\n",
      "True\n"
     ]
    }
   ],
   "source": [
    "print(np.allclose(eo[:, None, None, None] - ev[None, :, None, None] + eo[None, None, :, None] - ev[None, None, None, :], D_iajb))\n",
    "print(np.allclose(np.einsum(\"ui, va, uvkl, kj, lb -> iajb\", Co, Cv, eri0_ao, Co, Cv) / D_iajb, t_iajb))\n",
    "print(np.allclose(2 * t_iajb - t_iajb.swapaxes(1, 3), T_iajb))"
   ]
  },
  {
   "cell_type": "markdown",
   "metadata": {},
   "source": [
    "在以后，我们还可能为了公式表达便利，会使用 $g_{pq}^{rs}$ 表示 $(pq|rs)$；以及 $G_{pq}^{rs}$ 表示 $2 g_{pq}^{rs} - g_{pq}^{sr}$。"
   ]
  },
  {
   "cell_type": "markdown",
   "metadata": {},
   "source": [
    "通过上述对变量的定义，相关能 $E_\\mathrm{MP2, c}$ 可以通过简单的张量相乘求和给出："
   ]
  },
  {
   "cell_type": "code",
   "execution_count": 17,
   "metadata": {},
   "outputs": [
    {
     "data": {
      "text/plain": [
       "True"
      ]
     },
     "execution_count": 17,
     "metadata": {},
     "output_type": "execute_result"
    }
   ],
   "source": [
    "np.allclose((T_iajb * t_iajb * D_iajb).sum(), mp2_eng.e_corr)"
   ]
  }
 ],
 "metadata": {
  "kernelspec": {
   "display_name": "Python 3",
   "language": "python",
   "name": "python3"
  },
  "language_info": {
   "codemirror_mode": {
    "name": "ipython",
    "version": 3
   },
   "file_extension": ".py",
   "mimetype": "text/x-python",
   "name": "python",
   "nbconvert_exporter": "python",
   "pygments_lexer": "ipython3",
   "version": "3.8.1"
  },
  "toc": {
   "base_numbering": 1,
   "nav_menu": {},
   "number_sections": true,
   "sideBar": true,
   "skip_h1_title": false,
   "title_cell": "Table of Contents",
   "title_sidebar": "Contents",
   "toc_cell": false,
   "toc_position": {},
   "toc_section_display": true,
   "toc_window_display": false
  }
 },
 "nbformat": 4,
 "nbformat_minor": 2
}
