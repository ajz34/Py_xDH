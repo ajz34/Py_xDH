{
 "cells": [
  {
   "cell_type": "markdown",
   "metadata": {},
   "source": [
    "# B2PLYP 能量计算"
   ]
  },
  {
   "cell_type": "markdown",
   "metadata": {},
   "source": [
    "在这一节中，我们将讨论 B2PLYP 泛函的能量计算。这将作为框架更大的 XYG3 型泛函文档的铺垫。"
   ]
  },
  {
   "cell_type": "code",
   "execution_count": 1,
   "metadata": {},
   "outputs": [],
   "source": [
    "import numpy as np\n",
    "from pyscf import scf, gto, mp, dft\n",
    "\n",
    "from pkg_resources import resource_filename\n",
    "from pyxdh.Utilities import FormchkInterface\n",
    "from pyxdh.Utilities.test_molecules import Mol_H2O2\n",
    "from pyxdh.DerivOnce import GradMP2\n",
    "\n",
    "from functools import partial\n",
    "np.einsum = partial(np.einsum, optimize=[\"greedy\", 1024 ** 3 * 2 / 8])\n",
    "\n",
    "import warnings\n",
    "warnings.filterwarnings(\"ignore\")\n",
    "\n",
    "np.set_printoptions(5, linewidth=150, suppress=True)"
   ]
  },
  {
   "cell_type": "code",
   "execution_count": 2,
   "metadata": {},
   "outputs": [],
   "source": [
    "mol = Mol_H2O2().mol\n",
    "grids = Mol_H2O2().gen_grids()"
   ]
  },
  {
   "cell_type": "markdown",
   "metadata": {},
   "source": [
    "## 量化软件的 B2PLYP 能量计算"
   ]
  },
  {
   "cell_type": "markdown",
   "metadata": {},
   "source": [
    "### Gaussian 计算"
   ]
  },
  {
   "cell_type": "markdown",
   "metadata": {},
   "source": [
    "[输入卡](https://github.com/ajz34/Py_xDH/blob/master/pyxdh/Validation/gaussian/H2O2-B2PLYP-freq.gjf)，[formchk 结果](https://github.com/ajz34/Py_xDH/blob/master/pyxdh/Validation/gaussian/H2O2-B2PLYP-freq.fchk)"
   ]
  },
  {
   "cell_type": "code",
   "execution_count": 3,
   "metadata": {},
   "outputs": [
    {
     "data": {
      "text/plain": [
       "-151.2039968828007"
      ]
     },
     "execution_count": 3,
     "metadata": {},
     "output_type": "execute_result"
    }
   ],
   "source": [
    "ref_fchk = FormchkInterface(resource_filename(\"pyxdh\", \"Validation/gaussian/H2O2-B2PLYP-freq.fchk\"))\n",
    "ref_fchk.total_energy()"
   ]
  },
  {
   "cell_type": "markdown",
   "metadata": {},
   "source": [
    "### pyxdh 计算"
   ]
  },
  {
   "cell_type": "markdown",
   "metadata": {},
   "source": [
    "在 pyxdh 中，B2PLYP 泛函的处理方式与 MP2 完全相同，即将 PySCF 的自洽场计算实例代入 `GradMP2` 中即可，但有两个区别。其一是代入的自洽场实例由 `scf.RHF` 改成 `dft.RKS`；其二是需要引入 PT2 型 (从程序角度上看可以与 MP2 等同，就如同 $E_\\mathrm{x, exact}$ 作为精确交换能可以等同于 HF 交换能一样) 相关系数 $c_\\mathrm{c}$。\n",
    "\n",
    "我们回顾 B2PLYP <cite data-cite=\"Grimme-Grimme.JCP.2006.124\"></cite> 的泛函定义。根据原文的公式 (1)，\n",
    "\n",
    "$$\n",
    "E_\\mathrm{xc, B2PLYP} = (1 - a_\\mathrm{x}) E_\\mathrm{x, B88} + a_x E_\\mathrm{x, exact} + b E_\\mathrm{c, LYP} + c E_\\mathrm{c, PT2}\n",
    "$$"
   ]
  },
  {
   "cell_type": "markdown",
   "metadata": {},
   "source": [
    "其中，\n",
    "\n",
    "$$\n",
    "a_\\mathrm{x} = 0.53, \\quad c = 0.27, \\quad b = 1 - c = 0.73\n",
    "$$"
   ]
  },
  {
   "cell_type": "markdown",
   "metadata": {},
   "source": [
    "但上述泛函并非用于自洽场计算的泛函。其自洽场计算所使用的泛函 (Self-consistent, $E_\\mathrm{xc}$) 是\n",
    "\n",
    "$$\n",
    "E_\\mathrm{xc, B2PLYP, SCF} = 0.53 E_\\mathrm{x, exact} + 0.47 E_\\mathrm{x, B88} + 0.73 E_\\mathrm{c, LYP}\n",
    "$$\n",
    "\n",
    "而在能量计算过程中，再补上其 PT2 贡献部分 $0.27 E_\\mathrm{c, PT2}$。"
   ]
  },
  {
   "cell_type": "markdown",
   "metadata": {},
   "source": [
    "pyxdh 计算首先需要代入自洽场的 PySCF 类实例；这个类实例 `scf_eng` 定义为"
   ]
  },
  {
   "cell_type": "code",
   "execution_count": 4,
   "metadata": {},
   "outputs": [
    {
     "data": {
      "text/plain": [
       "-151.11160929386716"
      ]
     },
     "execution_count": 4,
     "metadata": {},
     "output_type": "execute_result"
    }
   ],
   "source": [
    "scf_eng = dft.RKS(mol)\n",
    "scf_eng.grids = grids\n",
    "scf_eng.xc = \"0.53*HF + 0.47*B88, 0.73*LYP\"\n",
    "scf_eng.kernel()"
   ]
  },
  {
   "cell_type": "markdown",
   "metadata": {},
   "source": [
    "显然，上述能量与 Gaussian 给出的能量不太一样，因为这是没有补上 PT2 贡献的能量。现在我们代入 `GradMP2` 中："
   ]
  },
  {
   "cell_type": "code",
   "execution_count": 5,
   "metadata": {},
   "outputs": [],
   "source": [
    "config = {\n",
    "    \"scf_eng\": scf_eng,\n",
    "    \"cc\": 0.27\n",
    "}\n",
    "b2ph = GradMP2(config)"
   ]
  },
  {
   "cell_type": "markdown",
   "metadata": {},
   "source": [
    "其中，配置字典 `config` 不仅包含了 PySCF 的自洽场计算实例，还包含了 $c_\\mathrm{c} = 0.27$。与 MP2 计算一样地，通过 `eng` 属性可以给出 B2PLYP 体系总能量："
   ]
  },
  {
   "cell_type": "code",
   "execution_count": 6,
   "metadata": {},
   "outputs": [
    {
     "data": {
      "text/plain": [
       "-151.20399686033448"
      ]
     },
     "execution_count": 6,
     "metadata": {},
     "output_type": "execute_result"
    }
   ],
   "source": [
    "b2ph.eng"
   ]
  },
  {
   "cell_type": "code",
   "execution_count": 7,
   "metadata": {},
   "outputs": [
    {
     "data": {
      "text/plain": [
       "True"
      ]
     },
     "execution_count": 7,
     "metadata": {},
     "output_type": "execute_result"
    }
   ],
   "source": [
    "np.allclose(b2ph.eng, ref_fchk.total_energy())"
   ]
  },
  {
   "cell_type": "markdown",
   "metadata": {},
   "source": [
    "### PySCF 计算"
   ]
  },
  {
   "cell_type": "markdown",
   "metadata": {},
   "source": [
    "尽管说 PySCF 没有默认的双杂化泛函的计算方式，API 文档或说明文档也没有提及 PySCF 是否可以计算双杂化泛函；但若了解双杂化泛函的形式，我们应当发现 PySCF 计算双杂化泛函的方式与 MP2 **几乎完全相同**；有所区别之处也仅仅在于 PT2 部分的系数，以及用的是 DFT 自洽场而不是 HF 自洽场。因此，**PySCF 可以计算双杂化泛函的能量** 而不需要借助其他工具。不过需要指出，PySCF 目前不支持对双杂化泛函的梯度性质计算。\n",
    "\n",
    "自洽场我们已经通过 `scf_eng` 给出了；剩下的是计算 PT2 部分。仿照 MP2 的计算代码，"
   ]
  },
  {
   "cell_type": "code",
   "execution_count": 8,
   "metadata": {},
   "outputs": [
    {
     "data": {
      "text/plain": [
       "<pyscf.mp.mp2.MP2 at 0x7fad1b55feb8>"
      ]
     },
     "execution_count": 8,
     "metadata": {},
     "output_type": "execute_result"
    }
   ],
   "source": [
    "mp2_eng = mp.MP2(scf_eng)\n",
    "mp2_eng.run()"
   ]
  },
  {
   "cell_type": "markdown",
   "metadata": {},
   "source": [
    "不过给出最后的结果 **不能** 使用下述代码："
   ]
  },
  {
   "cell_type": "code",
   "execution_count": 9,
   "metadata": {},
   "outputs": [
    {
     "data": {
      "text/plain": [
       "-151.45378546596837"
      ]
     },
     "execution_count": 9,
     "metadata": {},
     "output_type": "execute_result"
    }
   ],
   "source": [
    "mp2_eng.e_tot"
   ]
  },
  {
   "cell_type": "markdown",
   "metadata": {},
   "source": [
    "上述代码给出的是 $E_\\mathrm{xc, B2PLYP, SCF} + E_\\mathrm{c, PT2}$，而不是 $E_\\mathrm{xc, B2PLYP, SCF} + 0.27 E_\\mathrm{c, PT2}$。因此，B2PLYP 总能量应当通过下述代码给出："
   ]
  },
  {
   "cell_type": "code",
   "execution_count": 10,
   "metadata": {},
   "outputs": [
    {
     "data": {
      "text/plain": [
       "-151.20399686033448"
      ]
     },
     "execution_count": 10,
     "metadata": {},
     "output_type": "execute_result"
    }
   ],
   "source": [
    "scf_eng.e_tot + 0.27 * mp2_eng.e_corr"
   ]
  },
  {
   "cell_type": "markdown",
   "metadata": {},
   "source": [
    "可以验证上述结果与 Gaussian 的结果相等："
   ]
  },
  {
   "cell_type": "code",
   "execution_count": 11,
   "metadata": {},
   "outputs": [
    {
     "data": {
      "text/plain": [
       "True"
      ]
     },
     "execution_count": 11,
     "metadata": {},
     "output_type": "execute_result"
    }
   ],
   "source": [
    "np.allclose(scf_eng.e_tot + 0.27 * mp2_eng.e_corr, ref_fchk.total_energy())"
   ]
  },
  {
   "cell_type": "markdown",
   "metadata": {},
   "source": [
    "## 参考文献"
   ]
  },
  {
   "cell_type": "raw",
   "metadata": {
    "raw_mimetype": "text/restructuredtext"
   },
   "source": [
    ".. bibliography:: basic_b2plyp.bib\n",
    "    :cited:\n",
    "    :style: alpha"
   ]
  }
 ],
 "metadata": {
  "celltoolbar": "Raw Cell Format",
  "kernelspec": {
   "display_name": "Python 3",
   "language": "python",
   "name": "python3"
  },
  "language_info": {
   "codemirror_mode": {
    "name": "ipython",
    "version": 3
   },
   "file_extension": ".py",
   "mimetype": "text/x-python",
   "name": "python",
   "nbconvert_exporter": "python",
   "pygments_lexer": "ipython3",
   "version": "3.7.3"
  },
  "toc": {
   "base_numbering": 1,
   "nav_menu": {},
   "number_sections": true,
   "sideBar": true,
   "skip_h1_title": false,
   "title_cell": "Table of Contents",
   "title_sidebar": "Contents",
   "toc_cell": false,
   "toc_position": {},
   "toc_section_display": true,
   "toc_window_display": false
  }
 },
 "nbformat": 4,
 "nbformat_minor": 2
}
