{
 "cells": [
  {
   "cell_type": "markdown",
   "metadata": {},
   "source": [
    "# XYG3 型泛函核坐标梯度与核坐标梯度 CheatSheet"
   ]
  },
  {
   "cell_type": "markdown",
   "metadata": {},
   "source": [
    "这一节我们会先简单讨论 XYG3 核坐标梯度的计算方式；随后完整地从程序上完整地整理一遍核坐标梯度的编写过程。这一节希望这里的内容也可以作为能快速翻阅查找具体矩阵或张量计算方法的工具。"
   ]
  },
  {
   "cell_type": "markdown",
   "metadata": {},
   "source": [
    "## 准备工作"
   ]
  },
  {
   "cell_type": "code",
   "execution_count": 1,
   "metadata": {},
   "outputs": [],
   "source": [
    "%matplotlib notebook\n",
    "\n",
    "from pyscf import gto, scf, dft, lib, grad, hessian\n",
    "from pyscf.scf import cphf\n",
    "import numpy as np\n",
    "from functools import partial\n",
    "import warnings\n",
    "from matplotlib import pyplot as plt\n",
    "from pyxdh.Utilities import NucCoordDerivGenerator, DipoleDerivGenerator, NumericDiff, GridHelper, KernelHelper\n",
    "from pyxdh.DerivOnce import GradSCF, GradMP2, GradXDH\n",
    "\n",
    "np.einsum = partial(np.einsum, optimize=[\"greedy\", 1024 ** 3 * 2 / 8])\n",
    "np.allclose = partial(np.allclose, atol=1e-6, rtol=1e-4)\n",
    "np.set_printoptions(5, linewidth=150, suppress=True)\n",
    "warnings.filterwarnings(\"ignore\")"
   ]
  },
  {
   "cell_type": "code",
   "execution_count": 2,
   "metadata": {},
   "outputs": [
    {
     "data": {
      "text/plain": [
       "<pyscf.gto.mole.Mole at 0x7fa5377020a0>"
      ]
     },
     "execution_count": 2,
     "metadata": {},
     "output_type": "execute_result"
    }
   ],
   "source": [
    "mol = gto.Mole()\n",
    "mol.atom = \"\"\"\n",
    "O  0.0  0.0  0.0\n",
    "O  0.0  0.0  1.5\n",
    "H  1.0  0.0  0.0\n",
    "H  0.0  0.7  1.0\n",
    "\"\"\"\n",
    "mol.basis = \"6-31G\"\n",
    "mol.verbose = 0\n",
    "mol.build()"
   ]
  },
  {
   "cell_type": "code",
   "execution_count": 3,
   "metadata": {},
   "outputs": [],
   "source": [
    "def mol_to_grids(mol, atom_grid=(75, 302)):\n",
    "    grids = dft.Grids(mol)\n",
    "    grids.atom_grid = atom_grid\n",
    "    grids.becke_scheme = dft.gen_grid.stratmann\n",
    "    grids.prune = None\n",
    "    grids.build()\n",
    "    return grids\n",
    "grids = mol_to_grids(mol)"
   ]
  },
  {
   "cell_type": "markdown",
   "metadata": {},
   "source": [
    "我们知道 XYG3 分为自洽场部分与非自洽部分；其自洽场部分使用 B3LYP 泛函导出电子态密度 $D_{\\mu \\nu}$，进而代入密度到非自洽部分。因此，我们需要有自洽场与非自洽两个计算实例。其中，B3LYP 的自洽场实例就与以前定义的方式相同："
   ]
  },
  {
   "cell_type": "code",
   "execution_count": 4,
   "metadata": {},
   "outputs": [],
   "source": [
    "def mol_to_scf(mol):\n",
    "    scf_eng = dft.RKS(mol)\n",
    "    scf_eng.grids = mol_to_grids(mol)\n",
    "    scf_eng.xc = \"B3LYPg\"\n",
    "    scf_eng.conv_tol = 1e-10\n",
    "    return scf_eng.run()"
   ]
  },
  {
   "cell_type": "markdown",
   "metadata": {},
   "source": [
    "而非自洽部分则定义为 XYG3 除开 PT2 部分贡献之外的泛函，但该计算实例不应通过自洽场运算 (即运行 `.run` 成员函数)："
   ]
  },
  {
   "cell_type": "code",
   "execution_count": 5,
   "metadata": {},
   "outputs": [],
   "source": [
    "def mol_to_nc(mol):\n",
    "    nc_eng = dft.RKS(mol)\n",
    "    nc_eng.grids = mol_to_grids(mol)\n",
    "    nc_eng.xc = \"0.8033*HF - 0.0140*LDA + 0.2107*B88, 0.6789*LYP\"\n",
    "    nc_eng.conv_tol = 1e-10\n",
    "    return nc_eng"
   ]
  },
  {
   "cell_type": "markdown",
   "metadata": {},
   "source": [
    "XYG3 型泛函所使用的梯度计算类是 `GradXDH`；它所必须需要的输入参数是 `scf_eng` 自洽场运算实例与 `nc_eng` 非自洽运算实例："
   ]
  },
  {
   "cell_type": "code",
   "execution_count": 6,
   "metadata": {},
   "outputs": [],
   "source": [
    "scf_eng = mol_to_scf(mol)\n",
    "nc_eng = mol_to_nc(mol)\n",
    "gradh = GradXDH({\"scf_eng\": scf_eng, \"nc_eng\": nc_eng, \"cc\": 0.3211, \"cphf_tol\": 1e-12})"
   ]
  },
  {
   "cell_type": "markdown",
   "metadata": {},
   "source": [
    "与自洽场有关的各种矩阵会定义如下："
   ]
  },
  {
   "cell_type": "code",
   "execution_count": 7,
   "metadata": {},
   "outputs": [],
   "source": [
    "nmo, nao, natm, nocc, nvir, cx, cc = gradh.nao, gradh.nao, gradh.natm, gradh.nocc, gradh.nvir, gradh.cx, gradh.cc\n",
    "mol_slice = gradh.mol_slice\n",
    "so, sv, sa = gradh.so, gradh.sv, gradh.sa\n",
    "C, Co, Cv, e, eo, ev, D = gradh.C, gradh.Co, gradh.Cv, gradh.e, gradh.eo, gradh.ev, gradh.D\n",
    "H_0_ao, S_0_ao, eri0_ao, F_0_ao = gradh.H_0_ao, gradh.S_0_ao, gradh.eri0_ao, gradh.F_0_ao\n",
    "H_0_mo, S_0_mo, eri0_mo, F_0_mo = gradh.H_0_mo, gradh.S_0_mo, gradh.eri0_mo, gradh.F_0_mo\n",
    "T_iajb, t_iajb, D_iajb = gradh.T_iajb, gradh.t_iajb, gradh.D_iajb"
   ]
  },
  {
   "cell_type": "markdown",
   "metadata": {},
   "source": [
    "注意到上面是自洽场过程给出的结果；而对于非自洽部分，我们需要非自洽交换积分系数 `cx_n` $c_\\mathrm{x}^\\mathrm{n}$："
   ]
  },
  {
   "cell_type": "code",
   "execution_count": 8,
   "metadata": {},
   "outputs": [
    {
     "data": {
      "text/plain": [
       "0.8033"
      ]
     },
     "execution_count": 8,
     "metadata": {},
     "output_type": "execute_result"
    }
   ],
   "source": [
    "cx_n = gradh.nc_deriv.cx\n",
    "cx_n"
   ]
  },
  {
   "cell_type": "markdown",
   "metadata": {},
   "source": [
    "对于自洽或非自洽过程，原子轨道或涉及到密度的、核坐标梯度的格点都是相同的："
   ]
  },
  {
   "cell_type": "code",
   "execution_count": 9,
   "metadata": {},
   "outputs": [],
   "source": [
    "grdh = GridHelper(mol, grids, D)\n",
    "ao_0, ao_1, ao_2 = grdh.ao_0, grdh.ao_1, grdh.ao_2\n",
    "rho_0, rho_1, rho_2 = grdh.rho_0, grdh.rho_1, grdh.rho_2"
   ]
  },
  {
   "cell_type": "markdown",
   "metadata": {},
   "source": [
    "但涉及到泛函核的部分，我们就需要区分对待了。`kerh` 储存的是自洽泛函即 B3LYP 的泛函核格点，`kerh_n` 储存的是非自洽部分的泛函核格点。"
   ]
  },
  {
   "cell_type": "code",
   "execution_count": 10,
   "metadata": {},
   "outputs": [],
   "source": [
    "kerh = KernelHelper(grdh, \"B3LYPg\")\n",
    "kerh_n = KernelHelper(grdh, \"0.8033*HF - 0.0140*LDA + 0.2107*B88, 0.6789*LYP\")"
   ]
  },
  {
   "cell_type": "markdown",
   "metadata": {},
   "source": [
    "最后我们给出 XYG3 用于数值求导的实例："
   ]
  },
  {
   "cell_type": "code",
   "execution_count": 11,
   "metadata": {},
   "outputs": [],
   "source": [
    "def grad_generator(mol):\n",
    "    return GradXDH({\"scf_eng\": mol_to_scf(mol), \"nc_eng\": mol_to_nc(mol), \"cc\": 0.3211, \"cphf_tol\": 1e-12})\n",
    "gradn = NucCoordDerivGenerator(mol, grad_generator)"
   ]
  },
  {
   "cell_type": "markdown",
   "metadata": {},
   "source": [
    "由于这一节的特殊性，我们特定一个函数用于绘制数值与解析矩阵之间的差距："
   ]
  },
  {
   "cell_type": "code",
   "execution_count": 12,
   "metadata": {},
   "outputs": [],
   "source": [
    "def plot_diff(anal_mat, num_mat):\n",
    "    fig, ax = plt.subplots(figsize=(2.4, 1.8)); ax.set_xscale(\"log\")\n",
    "    ax.hist(abs(anal_mat.ravel() - num_mat.ravel()), bins=np.logspace(np.log10(1e-10), np.log10(1e-1), 50), alpha=0.5)\n",
    "    ax.hist(abs(num_mat.ravel()), bins=np.logspace(np.log10(1e-10), np.log10(1e-1), 50), alpha=0.5)\n",
    "    return fig.tight_layout()"
   ]
  },
  {
   "cell_type": "markdown",
   "metadata": {},
   "source": [
    "## XYG3 型核坐标梯度：与 B2PLYP 型梯度的差异"
   ]
  },
  {
   "cell_type": "markdown",
   "metadata": {
    "heading_collapsed": true
   },
   "source": [
    "### XYG3 能量"
   ]
  },
  {
   "cell_type": "markdown",
   "metadata": {
    "hidden": true
   },
   "source": [
    "我们首先回顾一下 XYG3 能量的计算："
   ]
  },
  {
   "cell_type": "markdown",
   "metadata": {
    "hidden": true
   },
   "source": [
    "$$\n",
    "E = h_{\\mu \\nu} D_{\\mu \\nu} + \\frac{1}{2} D_{\\mu \\nu} (\\mu \\nu | \\kappa \\lambda) D_{\\kappa \\lambda} - \\frac{c_\\mathrm{x}^\\mathrm{n}}{4} D_{\\mu \\nu} (\\mu \\kappa | \\nu \\lambda) D_{\\kappa \\lambda} + f^\\mathrm{n} \\rho + T_{ij}^{ab} t_{ij}^{ab} D_{ij}^{ab} + E_\\mathrm{nuc}\n",
    "$$"
   ]
  },
  {
   "cell_type": "code",
   "execution_count": 13,
   "metadata": {
    "hidden": true
   },
   "outputs": [
    {
     "data": {
      "text/plain": [
       "-151.1962817631275"
      ]
     },
     "execution_count": 13,
     "metadata": {},
     "output_type": "execute_result"
    }
   ],
   "source": [
    "(\n",
    "    + np.einsum(\"uv, uv -> \", H_0_ao, D)\n",
    "    + 0.5 * np.einsum(\"uv, uvkl, kl -> \", D, eri0_ao, D)\n",
    "    - 0.25 * cx_n * np.einsum(\"uv, ukvl, kl -> \", D, eri0_ao, D)\n",
    "    + np.einsum(\"g, g -> \", kerh_n.exc, rho_0)\n",
    "    + np.einsum(\"iajb, iajb, iajb -> \", T_iajb, t_iajb, D_iajb)\n",
    "    + gradh.scf_eng.energy_nuc()\n",
    ")"
   ]
  },
  {
   "cell_type": "markdown",
   "metadata": {
    "hidden": true
   },
   "source": [
    "我们注意到，上述计算中，$h_{\\mu \\nu}, (\\mu \\nu | \\kappa \\lambda), E_\\mathrm{nuc}$ 为分子构型决定量，$D_{\\mu \\nu}, \\rho, D_{ij}^{ab}, t_{ij}^{ab}$ 来自于自洽场计算或其导出量，$c_\\mathrm{x}, T_{ij}^{ab}, f^\\mathrm{n}$ 是非自洽导出量。若我们要求取梯度时，其余的量都可以参考 B2PLYP 的做法；但涉及到非自洽过程的量就需要额外注意。"
   ]
  },
  {
   "cell_type": "markdown",
   "metadata": {},
   "source": [
    "### XYG3 核坐标梯度：理论讨论"
   ]
  },
  {
   "cell_type": "markdown",
   "metadata": {},
   "source": [
    "我们需要先对 XYG3 能量作拆分，其中的 GGA 部分能量记为\n",
    "\n",
    "$$\n",
    "E_\\mathrm{GGA} = h_{\\mu \\nu} D_{\\mu \\nu} + \\frac{1}{2} D_{\\mu \\nu} (\\mu \\nu | \\kappa \\lambda) D_{\\kappa \\lambda} - \\frac{c_\\mathrm{x}^\\mathrm{n}}{4} D_{\\mu \\nu} (\\mu \\kappa | \\nu \\lambda) D_{\\kappa \\lambda} + f^\\mathrm{n} \\rho\n",
    "$$"
   ]
  },
  {
   "cell_type": "markdown",
   "metadata": {},
   "source": [
    "其 Skeleton 导数与 U 导数我们就仿照以前的文档进行处理，可以得到\n",
    "\n",
    "$$\n",
    "\\partial_{A_t} E_\\mathrm{GGA} \\xleftarrow{\\text{Skeleton derivative}} h_{\\mu \\nu}^{A_t} D_{\\mu \\nu} + \\frac{1}{2} D_{\\mu \\nu} (\\mu \\nu | \\kappa \\lambda)^{A_t} D_{\\kappa \\lambda} - \\frac{c_\\mathrm{x}^\\mathrm{n}}{4} D_{\\mu \\nu} (\\mu \\kappa | \\nu \\lambda)^{A_t} D_{\\kappa \\lambda} + f_\\rho^\\mathrm{n} \\rho^{A_t} + f_\\gamma^\\mathrm{n} \\gamma_r^{A_t}\n",
    " $$"
   ]
  },
  {
   "cell_type": "markdown",
   "metadata": {},
   "source": [
    "U 导数则为\n",
    "\n",
    "$$\n",
    "\\partial_{A_t} E_\\mathrm{GGA} \\xleftarrow{\\text{U derivative}} 4 F_{pi}^\\mathrm{n} U_{pi}^{A_t} = - 2 S_{ij}^{A_t} F_{ij}^\\mathrm{n} + 4 F_{ai}^\\mathrm{n} U_{ai}^{A_t}\n",
    "$$"
   ]
  },
  {
   "cell_type": "markdown",
   "metadata": {},
   "source": [
    "我们曾经提到过，对于 Canonical SCF 方法，Fock 矩阵是对角矩阵；但对于非自洽泛函而言，由于轨道系数并非是通过 Fock 对角化得到，因而 $F_{pq}^\\mathrm{n}$ 也显然未必是对角矩阵，即使它仍然具有对称的性质。那么，$F_{ai}^\\mathrm{n}$ 也就是非零的，因此 GGA 的 U 导数部分比起之前文档中，似乎多了 $4 F_{ai}^\\mathrm{n} U_{ai}^\\mathrm{n}$ 的贡献。"
   ]
  },
  {
   "cell_type": "markdown",
   "metadata": {},
   "source": [
    "随后，我们考虑 PT2 部分的能量导数。尽管 $T_{ij}^{ab}$ 确实包含了非自洽的贡献，但也仅限于相关系数 $c_\\mathrm{c}^\\mathrm{n}$；因此我们求取 PT2 部分能量的导数比起 B2PLYP 来没有实质变化：\n",
    "\n",
    "$$\n",
    "\\partial_{A_t} E_\\mathrm{PT2} = D_{pq}^\\mathrm{PT2} B_{pq}^{A_t} + W_{pq}^\\mathrm{PT2} [\\mathrm{I}] S_{pq}^{A_t} + 2 T_{ij}^{ab} (ia|jb)^{A_t}\n",
    "$$"
   ]
  },
  {
   "cell_type": "markdown",
   "metadata": {},
   "source": [
    "但这里我们需要作补充。我们知道，$D_{ai}^\\mathrm{PT2}$ 是通过 Z-Vector 方法给出的，$D_{ai}^\\mathrm{PT2} B_{ai}^{A_t}$ 在经历 Z-Vector 之前是 $U_{ai}^{A_t} L_{ai}$。因此，上式还可以写为\n",
    "\n",
    "$$\n",
    "\\partial_{A_t} E_\\mathrm{PT2} = U_{ai}^{A_t} L_{ai} + D_{ij}^\\mathrm{PT2} B_{ij}^{A_t} + D_{ab}^\\mathrm{PT2} B_{ab}^{A_t} + W_{pq}^\\mathrm{PT2} [\\mathrm{I}] S_{pq}^{A_t} + 2 T_{ij}^{ab} (ia|jb)^{A_t}\n",
    "$$"
   ]
  },
  {
   "cell_type": "markdown",
   "metadata": {},
   "source": [
    "我们整合上式中出现 U 矩阵的部分，与 GGA 能量的 U 导数中 U 矩阵的部分，得到\n",
    "\n",
    "$$\n",
    "\\partial_{A_t} E_\\mathrm{GGA} \\leftarrow U_{ai}^{A_t} (4 F_{ai}^\\mathrm{n} + L_{ai})\n",
    "$$"
   ]
  },
  {
   "cell_type": "markdown",
   "metadata": {},
   "source": [
    "我们知道，直接求取 U 矩阵是相对来说耗时的方法，Z-Vector 方程则可以降低计算的消耗。因此，我们再补充定义了 $L_{ai}^\\mathrm{PT2+}$：(Su, eq.50)\n",
    "\n",
    "$$\n",
    "L_{ai}^\\mathrm{PT2+} = L_{ai} + 4 F_{ai}^\\mathrm{n}\n",
    "$$"
   ]
  },
  {
   "cell_type": "markdown",
   "metadata": {},
   "source": [
    "从而使用 Z-Vector 方法，给出的弛豫密度定义为 $D_{ai}^\\mathrm{PT2+}$：\n",
    "\n",
    "$$\n",
    "- (\\varepsilon_a - \\varepsilon_i) D_{ai}^\\mathrm{MP2+} - A_{ai, bj} D_{bj}^\\mathrm{MP2+} = L_{ai}^\\mathrm{PT2+}\n",
    "$$"
   ]
  },
  {
   "cell_type": "markdown",
   "metadata": {},
   "source": [
    "我们进而定义\n",
    "\n",
    "$$\n",
    "D_{ij}^\\mathrm{PT2+} = D_{ij}^\\mathrm{PT2}, D_{ab}^\\mathrm{PT2+} = D_{ab}^\\mathrm{PT2}, D_{ia}^\\mathrm{PT2+} = D_{ia}^\\mathrm{PT2} = 0\n",
    "$$"
   ]
  },
  {
   "cell_type": "markdown",
   "metadata": {},
   "source": [
    "因此，我们最终得到了 XYG3 型泛函的导数：\n",
    "\n",
    "$$\n",
    "\\begin{align}\n",
    "\\partial_{A_t} E_\\mathrm{tot}\n",
    "&= h_{\\mu \\nu}^{A_t} D_{\\mu \\nu} + \\frac{1}{2} D_{\\mu \\nu} (\\mu \\nu | \\kappa \\lambda)^{A_t} D_{\\kappa \\lambda} - \\frac{c_\\mathrm{x}^\\mathrm{n}}{4} D_{\\mu \\nu} (\\mu \\kappa | \\nu \\lambda)^{A_t} D_{\\kappa \\lambda} + f_\\rho^\\mathrm{n} \\rho^{A_t} + f_\\gamma^\\mathrm{n} \\gamma^{A_t} - 2 S_{ij}^{A_t} F_{ij}^\\mathrm{n} \\\\\n",
    "&\\quad + D_{pq}^\\mathrm{PT2+} B_{pq}^{A_t} + W_{pq}^\\mathrm{PT2} [\\mathrm{I}] S_{pq}^{A_t} + 2 T_{ij}^{ab} (ia|jb)^{A_t} + \\partial_{A_t} E_\\mathrm{nuc}\n",
    "\\end{align}\n",
    "$$"
   ]
  },
  {
   "cell_type": "markdown",
   "metadata": {},
   "source": [
    "至此，理论上的讨论就结束了。我们下面就将计算该导数所需要使用到的矩阵和张量的计算方式重新回顾一遍，并实现 XYG3 型泛函的梯度。"
   ]
  },
  {
   "cell_type": "markdown",
   "metadata": {},
   "source": [
    "## XYG3 型核坐标梯度：程序实现 CheatSheet"
   ]
  },
  {
   "cell_type": "markdown",
   "metadata": {},
   "source": [
    "The following equations and code is utilized for XYG3 (or other XYG3-type double hybrid, such as XYGJ-OS or xDH-PBE0, with minimal modification to definition of $T_{ij}^{ab}$); however, most functionals could be calculated by formulation degradation:\n",
    "\n",
    "- for B2PLYP-type double hybrid, set $c_\\mathrm{x}^\\mathrm{n}, f^\\mathrm{n}$ set as its self-consistent alternative, and remove $F_{ai}^\\mathrm{n}$ from $L_{ai}^\\mathrm{PT2+}$;\n",
    "\n",
    "- for MP2, remove all contribution from exchange-correlation kernel, and set $c_\\mathrm{x} = 1, c_\\mathrm{c} = 1$;\n",
    "\n",
    "- for non-consistent GGA, set $c_\\mathrm{c} = 0$ or remove all terms that contains $T_{ij}^{ab}$;\n",
    "\n",
    "- for GGA, further remove contribution of response density matrix from that of non-consistent GGA;\n",
    "\n",
    "- for RHF, further remove contribution of exchange-correlation kernel from that of GGA, and set $c_\\mathrm{x} = 1$."
   ]
  },
  {
   "cell_type": "markdown",
   "metadata": {
    "heading_collapsed": true
   },
   "source": [
    "### `nc_F_0_mo` $F_{pq}^\\mathrm{n}$ Non-consistent (hybrid) GGA Fock Matrix"
   ]
  },
  {
   "cell_type": "markdown",
   "metadata": {
    "hidden": true
   },
   "source": [
    "- `nc_F_0_ao` $F_{\\mu \\nu}^\\mathrm{n}$; dim: $(\\mu, \\nu)$; symm: $F_{\\mu \\nu}^\\mathrm{n} = F_{\\nu \\mu}^\\mathrm{n}$\n",
    "\n",
    "$$\n",
    "F_{\\mu \\nu}^\\mathrm{n} = h_{\\mu \\nu} + (\\mu \\nu | \\kappa \\lambda) D_{\\kappa \\lambda} - \\frac{c_\\mathrm{x}^\\mathrm{n}}{2} (\\mu \\kappa | \\nu \\lambda) D_{\\kappa \\lambda} + f_\\rho^\\mathrm{n} \\phi_\\mu \\phi_\\nu + 2 f_\\gamma^\\mathrm{n} \\rho_r (\\phi_{r \\mu} \\phi_{\\nu} + \\phi_{\\mu} \\phi_{r \\nu})\n",
    "$$"
   ]
  },
  {
   "cell_type": "code",
   "execution_count": 14,
   "metadata": {
    "hidden": true
   },
   "outputs": [
    {
     "data": {
      "text/plain": [
       "(22, 22)"
      ]
     },
     "execution_count": 14,
     "metadata": {},
     "output_type": "execute_result"
    }
   ],
   "source": [
    "nc_F_0_ao = (\n",
    "    + H_0_ao\n",
    "    + np.einsum(\"uvkl, kl -> uv\", eri0_ao, D)\n",
    "    - 0.5 * cx_n * np.einsum(\"ukvl, kl -> uv\", eri0_ao, D)\n",
    "    + np.einsum(\"g, gu, gv -> uv\", kerh_n.fr, ao_0, ao_0)\n",
    "    + 2 * np.einsum(\"g, rg, rgu, gv -> uv\", kerh_n.fg, rho_1, ao_1, ao_0)\n",
    "    + 2 * np.einsum(\"g, rg, gu, rgv -> uv\", kerh_n.fg, rho_1, ao_0, ao_1)\n",
    ")\n",
    "nc_F_0_ao.shape"
   ]
  },
  {
   "cell_type": "code",
   "execution_count": 15,
   "metadata": {
    "hidden": true,
    "scrolled": false
   },
   "outputs": [
    {
     "data": {
      "text/plain": [
       "True"
      ]
     },
     "execution_count": 15,
     "metadata": {},
     "output_type": "execute_result"
    }
   ],
   "source": [
    "np.allclose(nc_F_0_ao, nc_F_0_ao.swapaxes(-1, -2))  # symm check"
   ]
  },
  {
   "cell_type": "code",
   "execution_count": 16,
   "metadata": {
    "hidden": true
   },
   "outputs": [
    {
     "data": {
      "text/plain": [
       "True"
      ]
     },
     "execution_count": 16,
     "metadata": {},
     "output_type": "execute_result"
    }
   ],
   "source": [
    "np.allclose(nc_F_0_ao, gradh.nc_deriv.F_0_ao)  # pyxdh approach"
   ]
  },
  {
   "cell_type": "code",
   "execution_count": 17,
   "metadata": {
    "hidden": true
   },
   "outputs": [
    {
     "data": {
      "text/plain": [
       "True"
      ]
     },
     "execution_count": 17,
     "metadata": {},
     "output_type": "execute_result"
    }
   ],
   "source": [
    "np.allclose(nc_F_0_ao, nc_eng.get_fock(dm=D))  # PySCF approach"
   ]
  },
  {
   "cell_type": "markdown",
   "metadata": {
    "hidden": true
   },
   "source": [
    "- `nd_F_0_mo` $F_{pq}^\\mathrm{n}$; dim: $(p, q)$; symm: $F_{pq}^\\mathrm{n} = F_{qp}^\\mathrm{n}$; additional: $F_{ai}^\\mathrm{n} \\not \\equiv 0$\n",
    "\n",
    "$$\n",
    "F_{pq}^\\mathrm{n} = C_{\\mu p} F_{\\mu \\nu}^\\mathrm{n} C_{\\nu q}\n",
    "$$"
   ]
  },
  {
   "cell_type": "code",
   "execution_count": 18,
   "metadata": {
    "hidden": true
   },
   "outputs": [
    {
     "data": {
      "text/plain": [
       "(22, 22)"
      ]
     },
     "execution_count": 18,
     "metadata": {},
     "output_type": "execute_result"
    }
   ],
   "source": [
    "nc_F_0_mo = np.einsum(\"up, uv, vq -> pq\", C, nc_F_0_ao, C)\n",
    "nc_F_0_mo.shape"
   ]
  },
  {
   "cell_type": "code",
   "execution_count": 19,
   "metadata": {
    "hidden": true
   },
   "outputs": [
    {
     "data": {
      "text/plain": [
       "True"
      ]
     },
     "execution_count": 19,
     "metadata": {},
     "output_type": "execute_result"
    }
   ],
   "source": [
    "np.allclose(nc_F_0_mo, nc_F_0_mo.swapaxes(-1, -2))  # symm check"
   ]
  },
  {
   "cell_type": "code",
   "execution_count": 20,
   "metadata": {
    "hidden": true
   },
   "outputs": [
    {
     "data": {
      "text/plain": [
       "0.7106166623512785"
      ]
     },
     "execution_count": 20,
     "metadata": {},
     "output_type": "execute_result"
    }
   ],
   "source": [
    "np.abs(nc_F_0_mo[sv, so]).sum()  # non-zero value check"
   ]
  },
  {
   "cell_type": "code",
   "execution_count": 21,
   "metadata": {
    "hidden": true
   },
   "outputs": [
    {
     "data": {
      "text/plain": [
       "1.0579646672548194e-06"
      ]
     },
     "execution_count": 21,
     "metadata": {},
     "output_type": "execute_result"
    }
   ],
   "source": [
    "np.abs(F_0_mo[sv, so]).sum()  # Compare with F_{ai} derived from self-consistent functional"
   ]
  },
  {
   "cell_type": "code",
   "execution_count": 22,
   "metadata": {
    "hidden": true
   },
   "outputs": [
    {
     "data": {
      "text/plain": [
       "True"
      ]
     },
     "execution_count": 22,
     "metadata": {},
     "output_type": "execute_result"
    }
   ],
   "source": [
    "np.allclose(nc_F_0_mo, gradh.nc_deriv.F_0_mo)  # pyxdh approach"
   ]
  },
  {
   "cell_type": "markdown",
   "metadata": {
    "heading_collapsed": true
   },
   "source": [
    "### `S_1_ao` $S_{\\mu \\nu}^{A_t}$ Overlap Integral Skeleton"
   ]
  },
  {
   "cell_type": "markdown",
   "metadata": {
    "hidden": true
   },
   "source": [
    "- `int1e_ipovlp` $\\langle \\partial_t \\mu | \\nu \\rangle$; dim $(t, \\mu, \\nu)$; symm $\\langle \\partial_t \\mu | \\nu \\rangle = - \\langle \\mu | \\partial_t \\nu \\rangle$"
   ]
  },
  {
   "cell_type": "code",
   "execution_count": 23,
   "metadata": {
    "hidden": true
   },
   "outputs": [
    {
     "data": {
      "text/plain": [
       "(3, 22, 22)"
      ]
     },
     "execution_count": 23,
     "metadata": {},
     "output_type": "execute_result"
    }
   ],
   "source": [
    "int1e_ipovlp = mol.intor(\"int1e_ipovlp\")\n",
    "int1e_ipovlp.shape"
   ]
  },
  {
   "cell_type": "code",
   "execution_count": 24,
   "metadata": {
    "hidden": true
   },
   "outputs": [
    {
     "data": {
      "text/plain": [
       "True"
      ]
     },
     "execution_count": 24,
     "metadata": {},
     "output_type": "execute_result"
    }
   ],
   "source": [
    "np.allclose(int1e_ipovlp, - int1e_ipovlp.swapaxes(-1, -2))"
   ]
  },
  {
   "cell_type": "markdown",
   "metadata": {
    "hidden": true
   },
   "source": [
    "- `S_1_ao` $S_{\\mu \\nu}^{A_t}$; dim $(A, t, \\mu, \\nu)$ in document, $(A_t, \\mu, \\nu)$ in pyxdh; symm: $S_{\\mu \\nu}^{A_t} = S_{\\nu \\mu}^{A_t}$\n",
    "\n",
    "$$\n",
    "S_{\\mu \\nu}^{A_t} = \\frac{\\partial}{\\partial A_t} S_{\\mu \\nu} = - \\langle \\partial_t \\mu_A | \\nu \\rangle + \\mathrm{swap} (\\mu, \\nu)\n",
    "$$"
   ]
  },
  {
   "cell_type": "code",
   "execution_count": 25,
   "metadata": {
    "hidden": true
   },
   "outputs": [
    {
     "data": {
      "text/plain": [
       "(4, 3, 22, 22)"
      ]
     },
     "execution_count": 25,
     "metadata": {},
     "output_type": "execute_result"
    }
   ],
   "source": [
    "S_1_ao = np.zeros((natm, 3, nao, nao))\n",
    "for A in range(natm):\n",
    "    sA = mol_slice(A)\n",
    "    S_1_ao[A, :, sA, :] = - int1e_ipovlp[:, sA, :]\n",
    "S_1_ao += S_1_ao.swapaxes(-1, -2)\n",
    "S_1_ao.shape"
   ]
  },
  {
   "cell_type": "code",
   "execution_count": 26,
   "metadata": {
    "hidden": true,
    "scrolled": true
   },
   "outputs": [
    {
     "data": {
      "text/plain": [
       "True"
      ]
     },
     "execution_count": 26,
     "metadata": {},
     "output_type": "execute_result"
    }
   ],
   "source": [
    "np.allclose(S_1_ao, S_1_ao.swapaxes(-1, -2))  # symm check"
   ]
  },
  {
   "cell_type": "code",
   "execution_count": 27,
   "metadata": {
    "hidden": true
   },
   "outputs": [
    {
     "data": {
      "text/plain": [
       "True"
      ]
     },
     "execution_count": 27,
     "metadata": {},
     "output_type": "execute_result"
    }
   ],
   "source": [
    "np.allclose(S_1_ao, gradh.S_1_ao.reshape(natm, 3, nao, nao))  # pyxdh approach"
   ]
  },
  {
   "cell_type": "code",
   "execution_count": 28,
   "metadata": {
    "hidden": true
   },
   "outputs": [
    {
     "data": {
      "application/javascript": [
       "/* Put everything inside the global mpl namespace */\n",
       "window.mpl = {};\n",
       "\n",
       "\n",
       "mpl.get_websocket_type = function() {\n",
       "    if (typeof(WebSocket) !== 'undefined') {\n",
       "        return WebSocket;\n",
       "    } else if (typeof(MozWebSocket) !== 'undefined') {\n",
       "        return MozWebSocket;\n",
       "    } else {\n",
       "        alert('Your browser does not have WebSocket support. ' +\n",
       "              'Please try Chrome, Safari or Firefox ≥ 6. ' +\n",
       "              'Firefox 4 and 5 are also supported but you ' +\n",
       "              'have to enable WebSockets in about:config.');\n",
       "    };\n",
       "}\n",
       "\n",
       "mpl.figure = function(figure_id, websocket, ondownload, parent_element) {\n",
       "    this.id = figure_id;\n",
       "\n",
       "    this.ws = websocket;\n",
       "\n",
       "    this.supports_binary = (this.ws.binaryType != undefined);\n",
       "\n",
       "    if (!this.supports_binary) {\n",
       "        var warnings = document.getElementById(\"mpl-warnings\");\n",
       "        if (warnings) {\n",
       "            warnings.style.display = 'block';\n",
       "            warnings.textContent = (\n",
       "                \"This browser does not support binary websocket messages. \" +\n",
       "                    \"Performance may be slow.\");\n",
       "        }\n",
       "    }\n",
       "\n",
       "    this.imageObj = new Image();\n",
       "\n",
       "    this.context = undefined;\n",
       "    this.message = undefined;\n",
       "    this.canvas = undefined;\n",
       "    this.rubberband_canvas = undefined;\n",
       "    this.rubberband_context = undefined;\n",
       "    this.format_dropdown = undefined;\n",
       "\n",
       "    this.image_mode = 'full';\n",
       "\n",
       "    this.root = $('<div/>');\n",
       "    this._root_extra_style(this.root)\n",
       "    this.root.attr('style', 'display: inline-block');\n",
       "\n",
       "    $(parent_element).append(this.root);\n",
       "\n",
       "    this._init_header(this);\n",
       "    this._init_canvas(this);\n",
       "    this._init_toolbar(this);\n",
       "\n",
       "    var fig = this;\n",
       "\n",
       "    this.waiting = false;\n",
       "\n",
       "    this.ws.onopen =  function () {\n",
       "            fig.send_message(\"supports_binary\", {value: fig.supports_binary});\n",
       "            fig.send_message(\"send_image_mode\", {});\n",
       "            if (mpl.ratio != 1) {\n",
       "                fig.send_message(\"set_dpi_ratio\", {'dpi_ratio': mpl.ratio});\n",
       "            }\n",
       "            fig.send_message(\"refresh\", {});\n",
       "        }\n",
       "\n",
       "    this.imageObj.onload = function() {\n",
       "            if (fig.image_mode == 'full') {\n",
       "                // Full images could contain transparency (where diff images\n",
       "                // almost always do), so we need to clear the canvas so that\n",
       "                // there is no ghosting.\n",
       "                fig.context.clearRect(0, 0, fig.canvas.width, fig.canvas.height);\n",
       "            }\n",
       "            fig.context.drawImage(fig.imageObj, 0, 0);\n",
       "        };\n",
       "\n",
       "    this.imageObj.onunload = function() {\n",
       "        fig.ws.close();\n",
       "    }\n",
       "\n",
       "    this.ws.onmessage = this._make_on_message_function(this);\n",
       "\n",
       "    this.ondownload = ondownload;\n",
       "}\n",
       "\n",
       "mpl.figure.prototype._init_header = function() {\n",
       "    var titlebar = $(\n",
       "        '<div class=\"ui-dialog-titlebar ui-widget-header ui-corner-all ' +\n",
       "        'ui-helper-clearfix\"/>');\n",
       "    var titletext = $(\n",
       "        '<div class=\"ui-dialog-title\" style=\"width: 100%; ' +\n",
       "        'text-align: center; padding: 3px;\"/>');\n",
       "    titlebar.append(titletext)\n",
       "    this.root.append(titlebar);\n",
       "    this.header = titletext[0];\n",
       "}\n",
       "\n",
       "\n",
       "\n",
       "mpl.figure.prototype._canvas_extra_style = function(canvas_div) {\n",
       "\n",
       "}\n",
       "\n",
       "\n",
       "mpl.figure.prototype._root_extra_style = function(canvas_div) {\n",
       "\n",
       "}\n",
       "\n",
       "mpl.figure.prototype._init_canvas = function() {\n",
       "    var fig = this;\n",
       "\n",
       "    var canvas_div = $('<div/>');\n",
       "\n",
       "    canvas_div.attr('style', 'position: relative; clear: both; outline: 0');\n",
       "\n",
       "    function canvas_keyboard_event(event) {\n",
       "        return fig.key_event(event, event['data']);\n",
       "    }\n",
       "\n",
       "    canvas_div.keydown('key_press', canvas_keyboard_event);\n",
       "    canvas_div.keyup('key_release', canvas_keyboard_event);\n",
       "    this.canvas_div = canvas_div\n",
       "    this._canvas_extra_style(canvas_div)\n",
       "    this.root.append(canvas_div);\n",
       "\n",
       "    var canvas = $('<canvas/>');\n",
       "    canvas.addClass('mpl-canvas');\n",
       "    canvas.attr('style', \"left: 0; top: 0; z-index: 0; outline: 0\")\n",
       "\n",
       "    this.canvas = canvas[0];\n",
       "    this.context = canvas[0].getContext(\"2d\");\n",
       "\n",
       "    var backingStore = this.context.backingStorePixelRatio ||\n",
       "\tthis.context.webkitBackingStorePixelRatio ||\n",
       "\tthis.context.mozBackingStorePixelRatio ||\n",
       "\tthis.context.msBackingStorePixelRatio ||\n",
       "\tthis.context.oBackingStorePixelRatio ||\n",
       "\tthis.context.backingStorePixelRatio || 1;\n",
       "\n",
       "    mpl.ratio = (window.devicePixelRatio || 1) / backingStore;\n",
       "\n",
       "    var rubberband = $('<canvas/>');\n",
       "    rubberband.attr('style', \"position: absolute; left: 0; top: 0; z-index: 1;\")\n",
       "\n",
       "    var pass_mouse_events = true;\n",
       "\n",
       "    canvas_div.resizable({\n",
       "        start: function(event, ui) {\n",
       "            pass_mouse_events = false;\n",
       "        },\n",
       "        resize: function(event, ui) {\n",
       "            fig.request_resize(ui.size.width, ui.size.height);\n",
       "        },\n",
       "        stop: function(event, ui) {\n",
       "            pass_mouse_events = true;\n",
       "            fig.request_resize(ui.size.width, ui.size.height);\n",
       "        },\n",
       "    });\n",
       "\n",
       "    function mouse_event_fn(event) {\n",
       "        if (pass_mouse_events)\n",
       "            return fig.mouse_event(event, event['data']);\n",
       "    }\n",
       "\n",
       "    rubberband.mousedown('button_press', mouse_event_fn);\n",
       "    rubberband.mouseup('button_release', mouse_event_fn);\n",
       "    // Throttle sequential mouse events to 1 every 20ms.\n",
       "    rubberband.mousemove('motion_notify', mouse_event_fn);\n",
       "\n",
       "    rubberband.mouseenter('figure_enter', mouse_event_fn);\n",
       "    rubberband.mouseleave('figure_leave', mouse_event_fn);\n",
       "\n",
       "    canvas_div.on(\"wheel\", function (event) {\n",
       "        event = event.originalEvent;\n",
       "        event['data'] = 'scroll'\n",
       "        if (event.deltaY < 0) {\n",
       "            event.step = 1;\n",
       "        } else {\n",
       "            event.step = -1;\n",
       "        }\n",
       "        mouse_event_fn(event);\n",
       "    });\n",
       "\n",
       "    canvas_div.append(canvas);\n",
       "    canvas_div.append(rubberband);\n",
       "\n",
       "    this.rubberband = rubberband;\n",
       "    this.rubberband_canvas = rubberband[0];\n",
       "    this.rubberband_context = rubberband[0].getContext(\"2d\");\n",
       "    this.rubberband_context.strokeStyle = \"#000000\";\n",
       "\n",
       "    this._resize_canvas = function(width, height) {\n",
       "        // Keep the size of the canvas, canvas container, and rubber band\n",
       "        // canvas in synch.\n",
       "        canvas_div.css('width', width)\n",
       "        canvas_div.css('height', height)\n",
       "\n",
       "        canvas.attr('width', width * mpl.ratio);\n",
       "        canvas.attr('height', height * mpl.ratio);\n",
       "        canvas.attr('style', 'width: ' + width + 'px; height: ' + height + 'px;');\n",
       "\n",
       "        rubberband.attr('width', width);\n",
       "        rubberband.attr('height', height);\n",
       "    }\n",
       "\n",
       "    // Set the figure to an initial 600x600px, this will subsequently be updated\n",
       "    // upon first draw.\n",
       "    this._resize_canvas(600, 600);\n",
       "\n",
       "    // Disable right mouse context menu.\n",
       "    $(this.rubberband_canvas).bind(\"contextmenu\",function(e){\n",
       "        return false;\n",
       "    });\n",
       "\n",
       "    function set_focus () {\n",
       "        canvas.focus();\n",
       "        canvas_div.focus();\n",
       "    }\n",
       "\n",
       "    window.setTimeout(set_focus, 100);\n",
       "}\n",
       "\n",
       "mpl.figure.prototype._init_toolbar = function() {\n",
       "    var fig = this;\n",
       "\n",
       "    var nav_element = $('<div/>');\n",
       "    nav_element.attr('style', 'width: 100%');\n",
       "    this.root.append(nav_element);\n",
       "\n",
       "    // Define a callback function for later on.\n",
       "    function toolbar_event(event) {\n",
       "        return fig.toolbar_button_onclick(event['data']);\n",
       "    }\n",
       "    function toolbar_mouse_event(event) {\n",
       "        return fig.toolbar_button_onmouseover(event['data']);\n",
       "    }\n",
       "\n",
       "    for(var toolbar_ind in mpl.toolbar_items) {\n",
       "        var name = mpl.toolbar_items[toolbar_ind][0];\n",
       "        var tooltip = mpl.toolbar_items[toolbar_ind][1];\n",
       "        var image = mpl.toolbar_items[toolbar_ind][2];\n",
       "        var method_name = mpl.toolbar_items[toolbar_ind][3];\n",
       "\n",
       "        if (!name) {\n",
       "            // put a spacer in here.\n",
       "            continue;\n",
       "        }\n",
       "        var button = $('<button/>');\n",
       "        button.addClass('ui-button ui-widget ui-state-default ui-corner-all ' +\n",
       "                        'ui-button-icon-only');\n",
       "        button.attr('role', 'button');\n",
       "        button.attr('aria-disabled', 'false');\n",
       "        button.click(method_name, toolbar_event);\n",
       "        button.mouseover(tooltip, toolbar_mouse_event);\n",
       "\n",
       "        var icon_img = $('<span/>');\n",
       "        icon_img.addClass('ui-button-icon-primary ui-icon');\n",
       "        icon_img.addClass(image);\n",
       "        icon_img.addClass('ui-corner-all');\n",
       "\n",
       "        var tooltip_span = $('<span/>');\n",
       "        tooltip_span.addClass('ui-button-text');\n",
       "        tooltip_span.html(tooltip);\n",
       "\n",
       "        button.append(icon_img);\n",
       "        button.append(tooltip_span);\n",
       "\n",
       "        nav_element.append(button);\n",
       "    }\n",
       "\n",
       "    var fmt_picker_span = $('<span/>');\n",
       "\n",
       "    var fmt_picker = $('<select/>');\n",
       "    fmt_picker.addClass('mpl-toolbar-option ui-widget ui-widget-content');\n",
       "    fmt_picker_span.append(fmt_picker);\n",
       "    nav_element.append(fmt_picker_span);\n",
       "    this.format_dropdown = fmt_picker[0];\n",
       "\n",
       "    for (var ind in mpl.extensions) {\n",
       "        var fmt = mpl.extensions[ind];\n",
       "        var option = $(\n",
       "            '<option/>', {selected: fmt === mpl.default_extension}).html(fmt);\n",
       "        fmt_picker.append(option);\n",
       "    }\n",
       "\n",
       "    // Add hover states to the ui-buttons\n",
       "    $( \".ui-button\" ).hover(\n",
       "        function() { $(this).addClass(\"ui-state-hover\");},\n",
       "        function() { $(this).removeClass(\"ui-state-hover\");}\n",
       "    );\n",
       "\n",
       "    var status_bar = $('<span class=\"mpl-message\"/>');\n",
       "    nav_element.append(status_bar);\n",
       "    this.message = status_bar[0];\n",
       "}\n",
       "\n",
       "mpl.figure.prototype.request_resize = function(x_pixels, y_pixels) {\n",
       "    // Request matplotlib to resize the figure. Matplotlib will then trigger a resize in the client,\n",
       "    // which will in turn request a refresh of the image.\n",
       "    this.send_message('resize', {'width': x_pixels, 'height': y_pixels});\n",
       "}\n",
       "\n",
       "mpl.figure.prototype.send_message = function(type, properties) {\n",
       "    properties['type'] = type;\n",
       "    properties['figure_id'] = this.id;\n",
       "    this.ws.send(JSON.stringify(properties));\n",
       "}\n",
       "\n",
       "mpl.figure.prototype.send_draw_message = function() {\n",
       "    if (!this.waiting) {\n",
       "        this.waiting = true;\n",
       "        this.ws.send(JSON.stringify({type: \"draw\", figure_id: this.id}));\n",
       "    }\n",
       "}\n",
       "\n",
       "\n",
       "mpl.figure.prototype.handle_save = function(fig, msg) {\n",
       "    var format_dropdown = fig.format_dropdown;\n",
       "    var format = format_dropdown.options[format_dropdown.selectedIndex].value;\n",
       "    fig.ondownload(fig, format);\n",
       "}\n",
       "\n",
       "\n",
       "mpl.figure.prototype.handle_resize = function(fig, msg) {\n",
       "    var size = msg['size'];\n",
       "    if (size[0] != fig.canvas.width || size[1] != fig.canvas.height) {\n",
       "        fig._resize_canvas(size[0], size[1]);\n",
       "        fig.send_message(\"refresh\", {});\n",
       "    };\n",
       "}\n",
       "\n",
       "mpl.figure.prototype.handle_rubberband = function(fig, msg) {\n",
       "    var x0 = msg['x0'] / mpl.ratio;\n",
       "    var y0 = (fig.canvas.height - msg['y0']) / mpl.ratio;\n",
       "    var x1 = msg['x1'] / mpl.ratio;\n",
       "    var y1 = (fig.canvas.height - msg['y1']) / mpl.ratio;\n",
       "    x0 = Math.floor(x0) + 0.5;\n",
       "    y0 = Math.floor(y0) + 0.5;\n",
       "    x1 = Math.floor(x1) + 0.5;\n",
       "    y1 = Math.floor(y1) + 0.5;\n",
       "    var min_x = Math.min(x0, x1);\n",
       "    var min_y = Math.min(y0, y1);\n",
       "    var width = Math.abs(x1 - x0);\n",
       "    var height = Math.abs(y1 - y0);\n",
       "\n",
       "    fig.rubberband_context.clearRect(\n",
       "        0, 0, fig.canvas.width / mpl.ratio, fig.canvas.height / mpl.ratio);\n",
       "\n",
       "    fig.rubberband_context.strokeRect(min_x, min_y, width, height);\n",
       "}\n",
       "\n",
       "mpl.figure.prototype.handle_figure_label = function(fig, msg) {\n",
       "    // Updates the figure title.\n",
       "    fig.header.textContent = msg['label'];\n",
       "}\n",
       "\n",
       "mpl.figure.prototype.handle_cursor = function(fig, msg) {\n",
       "    var cursor = msg['cursor'];\n",
       "    switch(cursor)\n",
       "    {\n",
       "    case 0:\n",
       "        cursor = 'pointer';\n",
       "        break;\n",
       "    case 1:\n",
       "        cursor = 'default';\n",
       "        break;\n",
       "    case 2:\n",
       "        cursor = 'crosshair';\n",
       "        break;\n",
       "    case 3:\n",
       "        cursor = 'move';\n",
       "        break;\n",
       "    }\n",
       "    fig.rubberband_canvas.style.cursor = cursor;\n",
       "}\n",
       "\n",
       "mpl.figure.prototype.handle_message = function(fig, msg) {\n",
       "    fig.message.textContent = msg['message'];\n",
       "}\n",
       "\n",
       "mpl.figure.prototype.handle_draw = function(fig, msg) {\n",
       "    // Request the server to send over a new figure.\n",
       "    fig.send_draw_message();\n",
       "}\n",
       "\n",
       "mpl.figure.prototype.handle_image_mode = function(fig, msg) {\n",
       "    fig.image_mode = msg['mode'];\n",
       "}\n",
       "\n",
       "mpl.figure.prototype.updated_canvas_event = function() {\n",
       "    // Called whenever the canvas gets updated.\n",
       "    this.send_message(\"ack\", {});\n",
       "}\n",
       "\n",
       "// A function to construct a web socket function for onmessage handling.\n",
       "// Called in the figure constructor.\n",
       "mpl.figure.prototype._make_on_message_function = function(fig) {\n",
       "    return function socket_on_message(evt) {\n",
       "        if (evt.data instanceof Blob) {\n",
       "            /* FIXME: We get \"Resource interpreted as Image but\n",
       "             * transferred with MIME type text/plain:\" errors on\n",
       "             * Chrome.  But how to set the MIME type?  It doesn't seem\n",
       "             * to be part of the websocket stream */\n",
       "            evt.data.type = \"image/png\";\n",
       "\n",
       "            /* Free the memory for the previous frames */\n",
       "            if (fig.imageObj.src) {\n",
       "                (window.URL || window.webkitURL).revokeObjectURL(\n",
       "                    fig.imageObj.src);\n",
       "            }\n",
       "\n",
       "            fig.imageObj.src = (window.URL || window.webkitURL).createObjectURL(\n",
       "                evt.data);\n",
       "            fig.updated_canvas_event();\n",
       "            fig.waiting = false;\n",
       "            return;\n",
       "        }\n",
       "        else if (typeof evt.data === 'string' && evt.data.slice(0, 21) == \"data:image/png;base64\") {\n",
       "            fig.imageObj.src = evt.data;\n",
       "            fig.updated_canvas_event();\n",
       "            fig.waiting = false;\n",
       "            return;\n",
       "        }\n",
       "\n",
       "        var msg = JSON.parse(evt.data);\n",
       "        var msg_type = msg['type'];\n",
       "\n",
       "        // Call the  \"handle_{type}\" callback, which takes\n",
       "        // the figure and JSON message as its only arguments.\n",
       "        try {\n",
       "            var callback = fig[\"handle_\" + msg_type];\n",
       "        } catch (e) {\n",
       "            console.log(\"No handler for the '\" + msg_type + \"' message type: \", msg);\n",
       "            return;\n",
       "        }\n",
       "\n",
       "        if (callback) {\n",
       "            try {\n",
       "                // console.log(\"Handling '\" + msg_type + \"' message: \", msg);\n",
       "                callback(fig, msg);\n",
       "            } catch (e) {\n",
       "                console.log(\"Exception inside the 'handler_\" + msg_type + \"' callback:\", e, e.stack, msg);\n",
       "            }\n",
       "        }\n",
       "    };\n",
       "}\n",
       "\n",
       "// from http://stackoverflow.com/questions/1114465/getting-mouse-location-in-canvas\n",
       "mpl.findpos = function(e) {\n",
       "    //this section is from http://www.quirksmode.org/js/events_properties.html\n",
       "    var targ;\n",
       "    if (!e)\n",
       "        e = window.event;\n",
       "    if (e.target)\n",
       "        targ = e.target;\n",
       "    else if (e.srcElement)\n",
       "        targ = e.srcElement;\n",
       "    if (targ.nodeType == 3) // defeat Safari bug\n",
       "        targ = targ.parentNode;\n",
       "\n",
       "    // jQuery normalizes the pageX and pageY\n",
       "    // pageX,Y are the mouse positions relative to the document\n",
       "    // offset() returns the position of the element relative to the document\n",
       "    var x = e.pageX - $(targ).offset().left;\n",
       "    var y = e.pageY - $(targ).offset().top;\n",
       "\n",
       "    return {\"x\": x, \"y\": y};\n",
       "};\n",
       "\n",
       "/*\n",
       " * return a copy of an object with only non-object keys\n",
       " * we need this to avoid circular references\n",
       " * http://stackoverflow.com/a/24161582/3208463\n",
       " */\n",
       "function simpleKeys (original) {\n",
       "  return Object.keys(original).reduce(function (obj, key) {\n",
       "    if (typeof original[key] !== 'object')\n",
       "        obj[key] = original[key]\n",
       "    return obj;\n",
       "  }, {});\n",
       "}\n",
       "\n",
       "mpl.figure.prototype.mouse_event = function(event, name) {\n",
       "    var canvas_pos = mpl.findpos(event)\n",
       "\n",
       "    if (name === 'button_press')\n",
       "    {\n",
       "        this.canvas.focus();\n",
       "        this.canvas_div.focus();\n",
       "    }\n",
       "\n",
       "    var x = canvas_pos.x * mpl.ratio;\n",
       "    var y = canvas_pos.y * mpl.ratio;\n",
       "\n",
       "    this.send_message(name, {x: x, y: y, button: event.button,\n",
       "                             step: event.step,\n",
       "                             guiEvent: simpleKeys(event)});\n",
       "\n",
       "    /* This prevents the web browser from automatically changing to\n",
       "     * the text insertion cursor when the button is pressed.  We want\n",
       "     * to control all of the cursor setting manually through the\n",
       "     * 'cursor' event from matplotlib */\n",
       "    event.preventDefault();\n",
       "    return false;\n",
       "}\n",
       "\n",
       "mpl.figure.prototype._key_event_extra = function(event, name) {\n",
       "    // Handle any extra behaviour associated with a key event\n",
       "}\n",
       "\n",
       "mpl.figure.prototype.key_event = function(event, name) {\n",
       "\n",
       "    // Prevent repeat events\n",
       "    if (name == 'key_press')\n",
       "    {\n",
       "        if (event.which === this._key)\n",
       "            return;\n",
       "        else\n",
       "            this._key = event.which;\n",
       "    }\n",
       "    if (name == 'key_release')\n",
       "        this._key = null;\n",
       "\n",
       "    var value = '';\n",
       "    if (event.ctrlKey && event.which != 17)\n",
       "        value += \"ctrl+\";\n",
       "    if (event.altKey && event.which != 18)\n",
       "        value += \"alt+\";\n",
       "    if (event.shiftKey && event.which != 16)\n",
       "        value += \"shift+\";\n",
       "\n",
       "    value += 'k';\n",
       "    value += event.which.toString();\n",
       "\n",
       "    this._key_event_extra(event, name);\n",
       "\n",
       "    this.send_message(name, {key: value,\n",
       "                             guiEvent: simpleKeys(event)});\n",
       "    return false;\n",
       "}\n",
       "\n",
       "mpl.figure.prototype.toolbar_button_onclick = function(name) {\n",
       "    if (name == 'download') {\n",
       "        this.handle_save(this, null);\n",
       "    } else {\n",
       "        this.send_message(\"toolbar_button\", {name: name});\n",
       "    }\n",
       "};\n",
       "\n",
       "mpl.figure.prototype.toolbar_button_onmouseover = function(tooltip) {\n",
       "    this.message.textContent = tooltip;\n",
       "};\n",
       "mpl.toolbar_items = [[\"Home\", \"Reset original view\", \"fa fa-home icon-home\", \"home\"], [\"Back\", \"Back to previous view\", \"fa fa-arrow-left icon-arrow-left\", \"back\"], [\"Forward\", \"Forward to next view\", \"fa fa-arrow-right icon-arrow-right\", \"forward\"], [\"\", \"\", \"\", \"\"], [\"Pan\", \"Pan axes with left mouse, zoom with right\", \"fa fa-arrows icon-move\", \"pan\"], [\"Zoom\", \"Zoom to rectangle\", \"fa fa-square-o icon-check-empty\", \"zoom\"], [\"\", \"\", \"\", \"\"], [\"Download\", \"Download plot\", \"fa fa-floppy-o icon-save\", \"download\"]];\n",
       "\n",
       "mpl.extensions = [\"eps\", \"pdf\", \"png\", \"ps\", \"raw\", \"svg\"];\n",
       "\n",
       "mpl.default_extension = \"png\";var comm_websocket_adapter = function(comm) {\n",
       "    // Create a \"websocket\"-like object which calls the given IPython comm\n",
       "    // object with the appropriate methods. Currently this is a non binary\n",
       "    // socket, so there is still some room for performance tuning.\n",
       "    var ws = {};\n",
       "\n",
       "    ws.close = function() {\n",
       "        comm.close()\n",
       "    };\n",
       "    ws.send = function(m) {\n",
       "        //console.log('sending', m);\n",
       "        comm.send(m);\n",
       "    };\n",
       "    // Register the callback with on_msg.\n",
       "    comm.on_msg(function(msg) {\n",
       "        //console.log('receiving', msg['content']['data'], msg);\n",
       "        // Pass the mpl event to the overridden (by mpl) onmessage function.\n",
       "        ws.onmessage(msg['content']['data'])\n",
       "    });\n",
       "    return ws;\n",
       "}\n",
       "\n",
       "mpl.mpl_figure_comm = function(comm, msg) {\n",
       "    // This is the function which gets called when the mpl process\n",
       "    // starts-up an IPython Comm through the \"matplotlib\" channel.\n",
       "\n",
       "    var id = msg.content.data.id;\n",
       "    // Get hold of the div created by the display call when the Comm\n",
       "    // socket was opened in Python.\n",
       "    var element = $(\"#\" + id);\n",
       "    var ws_proxy = comm_websocket_adapter(comm)\n",
       "\n",
       "    function ondownload(figure, format) {\n",
       "        window.open(figure.imageObj.src);\n",
       "    }\n",
       "\n",
       "    var fig = new mpl.figure(id, ws_proxy,\n",
       "                           ondownload,\n",
       "                           element.get(0));\n",
       "\n",
       "    // Call onopen now - mpl needs it, as it is assuming we've passed it a real\n",
       "    // web socket which is closed, not our websocket->open comm proxy.\n",
       "    ws_proxy.onopen();\n",
       "\n",
       "    fig.parent_element = element.get(0);\n",
       "    fig.cell_info = mpl.find_output_cell(\"<div id='\" + id + \"'></div>\");\n",
       "    if (!fig.cell_info) {\n",
       "        console.error(\"Failed to find cell for figure\", id, fig);\n",
       "        return;\n",
       "    }\n",
       "\n",
       "    var output_index = fig.cell_info[2]\n",
       "    var cell = fig.cell_info[0];\n",
       "\n",
       "};\n",
       "\n",
       "mpl.figure.prototype.handle_close = function(fig, msg) {\n",
       "    var width = fig.canvas.width/mpl.ratio\n",
       "    fig.root.unbind('remove')\n",
       "\n",
       "    // Update the output cell to use the data from the current canvas.\n",
       "    fig.push_to_output();\n",
       "    var dataURL = fig.canvas.toDataURL();\n",
       "    // Re-enable the keyboard manager in IPython - without this line, in FF,\n",
       "    // the notebook keyboard shortcuts fail.\n",
       "    IPython.keyboard_manager.enable()\n",
       "    $(fig.parent_element).html('<img src=\"' + dataURL + '\" width=\"' + width + '\">');\n",
       "    fig.close_ws(fig, msg);\n",
       "}\n",
       "\n",
       "mpl.figure.prototype.close_ws = function(fig, msg){\n",
       "    fig.send_message('closing', msg);\n",
       "    // fig.ws.close()\n",
       "}\n",
       "\n",
       "mpl.figure.prototype.push_to_output = function(remove_interactive) {\n",
       "    // Turn the data on the canvas into data in the output cell.\n",
       "    var width = this.canvas.width/mpl.ratio\n",
       "    var dataURL = this.canvas.toDataURL();\n",
       "    this.cell_info[1]['text/html'] = '<img src=\"' + dataURL + '\" width=\"' + width + '\">';\n",
       "}\n",
       "\n",
       "mpl.figure.prototype.updated_canvas_event = function() {\n",
       "    // Tell IPython that the notebook contents must change.\n",
       "    IPython.notebook.set_dirty(true);\n",
       "    this.send_message(\"ack\", {});\n",
       "    var fig = this;\n",
       "    // Wait a second, then push the new image to the DOM so\n",
       "    // that it is saved nicely (might be nice to debounce this).\n",
       "    setTimeout(function () { fig.push_to_output() }, 1000);\n",
       "}\n",
       "\n",
       "mpl.figure.prototype._init_toolbar = function() {\n",
       "    var fig = this;\n",
       "\n",
       "    var nav_element = $('<div/>');\n",
       "    nav_element.attr('style', 'width: 100%');\n",
       "    this.root.append(nav_element);\n",
       "\n",
       "    // Define a callback function for later on.\n",
       "    function toolbar_event(event) {\n",
       "        return fig.toolbar_button_onclick(event['data']);\n",
       "    }\n",
       "    function toolbar_mouse_event(event) {\n",
       "        return fig.toolbar_button_onmouseover(event['data']);\n",
       "    }\n",
       "\n",
       "    for(var toolbar_ind in mpl.toolbar_items){\n",
       "        var name = mpl.toolbar_items[toolbar_ind][0];\n",
       "        var tooltip = mpl.toolbar_items[toolbar_ind][1];\n",
       "        var image = mpl.toolbar_items[toolbar_ind][2];\n",
       "        var method_name = mpl.toolbar_items[toolbar_ind][3];\n",
       "\n",
       "        if (!name) { continue; };\n",
       "\n",
       "        var button = $('<button class=\"btn btn-default\" href=\"#\" title=\"' + name + '\"><i class=\"fa ' + image + ' fa-lg\"></i></button>');\n",
       "        button.click(method_name, toolbar_event);\n",
       "        button.mouseover(tooltip, toolbar_mouse_event);\n",
       "        nav_element.append(button);\n",
       "    }\n",
       "\n",
       "    // Add the status bar.\n",
       "    var status_bar = $('<span class=\"mpl-message\" style=\"text-align:right; float: right;\"/>');\n",
       "    nav_element.append(status_bar);\n",
       "    this.message = status_bar[0];\n",
       "\n",
       "    // Add the close button to the window.\n",
       "    var buttongrp = $('<div class=\"btn-group inline pull-right\"></div>');\n",
       "    var button = $('<button class=\"btn btn-mini btn-primary\" href=\"#\" title=\"Stop Interaction\"><i class=\"fa fa-power-off icon-remove icon-large\"></i></button>');\n",
       "    button.click(function (evt) { fig.handle_close(fig, {}); } );\n",
       "    button.mouseover('Stop Interaction', toolbar_mouse_event);\n",
       "    buttongrp.append(button);\n",
       "    var titlebar = this.root.find($('.ui-dialog-titlebar'));\n",
       "    titlebar.prepend(buttongrp);\n",
       "}\n",
       "\n",
       "mpl.figure.prototype._root_extra_style = function(el){\n",
       "    var fig = this\n",
       "    el.on(\"remove\", function(){\n",
       "\tfig.close_ws(fig, {});\n",
       "    });\n",
       "}\n",
       "\n",
       "mpl.figure.prototype._canvas_extra_style = function(el){\n",
       "    // this is important to make the div 'focusable\n",
       "    el.attr('tabindex', 0)\n",
       "    // reach out to IPython and tell the keyboard manager to turn it's self\n",
       "    // off when our div gets focus\n",
       "\n",
       "    // location in version 3\n",
       "    if (IPython.notebook.keyboard_manager) {\n",
       "        IPython.notebook.keyboard_manager.register_events(el);\n",
       "    }\n",
       "    else {\n",
       "        // location in version 2\n",
       "        IPython.keyboard_manager.register_events(el);\n",
       "    }\n",
       "\n",
       "}\n",
       "\n",
       "mpl.figure.prototype._key_event_extra = function(event, name) {\n",
       "    var manager = IPython.notebook.keyboard_manager;\n",
       "    if (!manager)\n",
       "        manager = IPython.keyboard_manager;\n",
       "\n",
       "    // Check for shift+enter\n",
       "    if (event.shiftKey && event.which == 13) {\n",
       "        this.canvas_div.blur();\n",
       "        // select the cell after this one\n",
       "        var index = IPython.notebook.find_cell_index(this.cell_info[0]);\n",
       "        IPython.notebook.select(index + 1);\n",
       "    }\n",
       "}\n",
       "\n",
       "mpl.figure.prototype.handle_save = function(fig, msg) {\n",
       "    fig.ondownload(fig, null);\n",
       "}\n",
       "\n",
       "\n",
       "mpl.find_output_cell = function(html_output) {\n",
       "    // Return the cell and output element which can be found *uniquely* in the notebook.\n",
       "    // Note - this is a bit hacky, but it is done because the \"notebook_saving.Notebook\"\n",
       "    // IPython event is triggered only after the cells have been serialised, which for\n",
       "    // our purposes (turning an active figure into a static one), is too late.\n",
       "    var cells = IPython.notebook.get_cells();\n",
       "    var ncells = cells.length;\n",
       "    for (var i=0; i<ncells; i++) {\n",
       "        var cell = cells[i];\n",
       "        if (cell.cell_type === 'code'){\n",
       "            for (var j=0; j<cell.output_area.outputs.length; j++) {\n",
       "                var data = cell.output_area.outputs[j];\n",
       "                if (data.data) {\n",
       "                    // IPython >= 3 moved mimebundle to data attribute of output\n",
       "                    data = data.data;\n",
       "                }\n",
       "                if (data['text/html'] == html_output) {\n",
       "                    return [cell, data, j];\n",
       "                }\n",
       "            }\n",
       "        }\n",
       "    }\n",
       "}\n",
       "\n",
       "// Register the function which deals with the matplotlib target/channel.\n",
       "// The kernel may be null if the page has been refreshed.\n",
       "if (IPython.notebook.kernel != null) {\n",
       "    IPython.notebook.kernel.comm_manager.register_target('matplotlib', mpl.mpl_figure_comm);\n",
       "}\n"
      ],
      "text/plain": [
       "<IPython.core.display.Javascript object>"
      ]
     },
     "metadata": {},
     "output_type": "display_data"
    },
    {
     "data": {
      "text/html": [
       "<img src=\"data:image/png;base64,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\" width=\"240\">"
      ],
      "text/plain": [
       "<IPython.core.display.HTML object>"
      ]
     },
     "metadata": {},
     "output_type": "display_data"
    }
   ],
   "source": [
    "nd_S_0_ao = NumericDiff(gradn, lambda gradh: gradh.S_0_ao).derivative\n",
    "plot_diff(S_1_ao, nd_S_0_ao)"
   ]
  },
  {
   "cell_type": "markdown",
   "metadata": {
    "hidden": true
   },
   "source": [
    "- `S_1_mo` $S_{pq}^{A_t}$; dim $(A, t, p, q)$ in document, $(A_t, p, q)$ in pyxdh; symm: $S_{pq}^{A_t} = S_{qp}^{A_t}$\n",
    "\n",
    "$$\n",
    "S_{pq}^{A_t} = C_{\\mu p} S_{\\mu \\nu}^{A_t} C_{\\nu q}\n",
    "$$"
   ]
  },
  {
   "cell_type": "code",
   "execution_count": 29,
   "metadata": {
    "hidden": true
   },
   "outputs": [
    {
     "data": {
      "text/plain": [
       "(4, 3, 22, 22)"
      ]
     },
     "execution_count": 29,
     "metadata": {},
     "output_type": "execute_result"
    }
   ],
   "source": [
    "S_1_mo = np.einsum(\"up, Atuv, vq -> Atpq\", C, S_1_ao, C)\n",
    "S_1_mo.shape"
   ]
  },
  {
   "cell_type": "code",
   "execution_count": 30,
   "metadata": {
    "hidden": true
   },
   "outputs": [
    {
     "data": {
      "text/plain": [
       "True"
      ]
     },
     "execution_count": 30,
     "metadata": {},
     "output_type": "execute_result"
    }
   ],
   "source": [
    "np.allclose(S_1_mo, S_1_mo.swapaxes(-1, -2))  # symm check"
   ]
  },
  {
   "cell_type": "code",
   "execution_count": 31,
   "metadata": {
    "hidden": true
   },
   "outputs": [
    {
     "data": {
      "text/plain": [
       "True"
      ]
     },
     "execution_count": 31,
     "metadata": {},
     "output_type": "execute_result"
    }
   ],
   "source": [
    "np.allclose(S_1_mo, gradh.S_1_mo.reshape(natm, 3, nao, nao))  # pyxdh approach"
   ]
  },
  {
   "cell_type": "markdown",
   "metadata": {
    "heading_collapsed": true
   },
   "source": [
    "### `H_1_ao` $h_{\\mu \\nu}^{A_t}$ Hamiltonian Core Skeleton"
   ]
  },
  {
   "cell_type": "markdown",
   "metadata": {
    "hidden": true
   },
   "source": [
    "- `int1e_ipkin` $\\langle \\partial_t \\mu | \\hat t | \\nu \\rangle$; dim: $(t, \\mu, \\nu)$; symm: $\\langle \\partial_t \\mu | \\hat t | \\nu \\rangle = - \\langle \\mu | \\hat t | \\partial_t \\nu \\rangle$"
   ]
  },
  {
   "cell_type": "code",
   "execution_count": 32,
   "metadata": {
    "hidden": true
   },
   "outputs": [
    {
     "data": {
      "text/plain": [
       "(3, 22, 22)"
      ]
     },
     "execution_count": 32,
     "metadata": {},
     "output_type": "execute_result"
    }
   ],
   "source": [
    "int1e_ipkin = mol.intor(\"int1e_ipkin\")\n",
    "int1e_ipkin.shape"
   ]
  },
  {
   "cell_type": "code",
   "execution_count": 33,
   "metadata": {
    "hidden": true
   },
   "outputs": [
    {
     "data": {
      "text/plain": [
       "True"
      ]
     },
     "execution_count": 33,
     "metadata": {},
     "output_type": "execute_result"
    }
   ],
   "source": [
    "np.allclose(int1e_ipkin, - int1e_ipkin.swapaxes(-1, -2))  # symm check"
   ]
  },
  {
   "cell_type": "markdown",
   "metadata": {
    "hidden": true
   },
   "source": [
    "- `int1e_ipkin` $\\langle \\partial_t \\mu | \\hat v_\\mathrm{nuc} | \\nu \\rangle$; dim: $(t, \\mu, \\nu)$; symm: no"
   ]
  },
  {
   "cell_type": "code",
   "execution_count": 34,
   "metadata": {
    "hidden": true
   },
   "outputs": [
    {
     "data": {
      "text/plain": [
       "(3, 22, 22)"
      ]
     },
     "execution_count": 34,
     "metadata": {},
     "output_type": "execute_result"
    }
   ],
   "source": [
    "int1e_ipnuc = mol.intor(\"int1e_ipnuc\")\n",
    "int1e_ipnuc.shape"
   ]
  },
  {
   "cell_type": "markdown",
   "metadata": {
    "hidden": true
   },
   "source": [
    "- `H_1_ao` $h_{\\mu \\nu}^{A_t}$; dim: $(A, t, \\mu, \\nu)$ in document, $(A_t, \\mu, \\nu)$ in pyxdh; symm: $h_{\\mu \\nu}^{A_t} = h_{\\nu \\mu}^{A_t}$\n",
    "\n",
    "$$\n",
    "h_{\\mu \\nu}^{A_t} = \\frac{\\partial}{\\partial A_t} h_{\\mu \\nu} = - \\langle \\partial_t \\mu_A | \\hat t | \\nu \\rangle - \\langle \\partial_t \\mu_A | \\hat v_\\mathrm{nuc} | \\nu \\rangle - \\langle \\partial_t \\mu | \\frac{Z_A}{| \\boldsymbol{r} - \\boldsymbol{A} |} | \\nu \\rangle + \\mathrm{swap} (\\mu, \\nu)\n",
    "$$"
   ]
  },
  {
   "cell_type": "code",
   "execution_count": 35,
   "metadata": {
    "hidden": true
   },
   "outputs": [
    {
     "data": {
      "text/plain": [
       "(4, 3, 22, 22)"
      ]
     },
     "execution_count": 35,
     "metadata": {},
     "output_type": "execute_result"
    }
   ],
   "source": [
    "Z_A = mol.atom_charges()\n",
    "H_1_ao = np.zeros((natm, 3, nao, nao))\n",
    "for A in range(natm):\n",
    "    sA = mol_slice(A)\n",
    "    H_1_ao[A, :, sA, :] -= int1e_ipkin[:, sA, :]\n",
    "    H_1_ao[A, :, sA, :] -= int1e_ipnuc[:, sA, :]\n",
    "    with mol.with_rinv_as_nucleus(A):\n",
    "        H_1_ao[A] -= Z_A[A] * mol.intor(\"int1e_iprinv\")\n",
    "H_1_ao += H_1_ao.swapaxes(-1, -2)\n",
    "H_1_ao.shape"
   ]
  },
  {
   "cell_type": "code",
   "execution_count": 36,
   "metadata": {
    "hidden": true
   },
   "outputs": [
    {
     "data": {
      "text/plain": [
       "True"
      ]
     },
     "execution_count": 36,
     "metadata": {},
     "output_type": "execute_result"
    }
   ],
   "source": [
    "np.allclose(H_1_ao, H_1_ao.swapaxes(-1, -2))  # symm check"
   ]
  },
  {
   "cell_type": "code",
   "execution_count": 37,
   "metadata": {
    "hidden": true
   },
   "outputs": [
    {
     "data": {
      "text/plain": [
       "True"
      ]
     },
     "execution_count": 37,
     "metadata": {},
     "output_type": "execute_result"
    }
   ],
   "source": [
    "np.allclose(H_1_ao, gradh.H_1_ao.reshape(natm, 3, nao, nao))  # pyxdh approach"
   ]
  },
  {
   "cell_type": "code",
   "execution_count": 38,
   "metadata": {
    "hidden": true
   },
   "outputs": [
    {
     "data": {
      "text/plain": [
       "True"
      ]
     },
     "execution_count": 38,
     "metadata": {},
     "output_type": "execute_result"
    }
   ],
   "source": [
    "np.allclose(H_1_ao, np.array([grad.rhf.hcore_generator(scf_eng.nuc_grad_method())(A) for A in range(natm)]))  # PySCF approach"
   ]
  },
  {
   "cell_type": "code",
   "execution_count": 39,
   "metadata": {
    "hidden": true
   },
   "outputs": [
    {
     "data": {
      "application/javascript": [
       "/* Put everything inside the global mpl namespace */\n",
       "window.mpl = {};\n",
       "\n",
       "\n",
       "mpl.get_websocket_type = function() {\n",
       "    if (typeof(WebSocket) !== 'undefined') {\n",
       "        return WebSocket;\n",
       "    } else if (typeof(MozWebSocket) !== 'undefined') {\n",
       "        return MozWebSocket;\n",
       "    } else {\n",
       "        alert('Your browser does not have WebSocket support. ' +\n",
       "              'Please try Chrome, Safari or Firefox ≥ 6. ' +\n",
       "              'Firefox 4 and 5 are also supported but you ' +\n",
       "              'have to enable WebSockets in about:config.');\n",
       "    };\n",
       "}\n",
       "\n",
       "mpl.figure = function(figure_id, websocket, ondownload, parent_element) {\n",
       "    this.id = figure_id;\n",
       "\n",
       "    this.ws = websocket;\n",
       "\n",
       "    this.supports_binary = (this.ws.binaryType != undefined);\n",
       "\n",
       "    if (!this.supports_binary) {\n",
       "        var warnings = document.getElementById(\"mpl-warnings\");\n",
       "        if (warnings) {\n",
       "            warnings.style.display = 'block';\n",
       "            warnings.textContent = (\n",
       "                \"This browser does not support binary websocket messages. \" +\n",
       "                    \"Performance may be slow.\");\n",
       "        }\n",
       "    }\n",
       "\n",
       "    this.imageObj = new Image();\n",
       "\n",
       "    this.context = undefined;\n",
       "    this.message = undefined;\n",
       "    this.canvas = undefined;\n",
       "    this.rubberband_canvas = undefined;\n",
       "    this.rubberband_context = undefined;\n",
       "    this.format_dropdown = undefined;\n",
       "\n",
       "    this.image_mode = 'full';\n",
       "\n",
       "    this.root = $('<div/>');\n",
       "    this._root_extra_style(this.root)\n",
       "    this.root.attr('style', 'display: inline-block');\n",
       "\n",
       "    $(parent_element).append(this.root);\n",
       "\n",
       "    this._init_header(this);\n",
       "    this._init_canvas(this);\n",
       "    this._init_toolbar(this);\n",
       "\n",
       "    var fig = this;\n",
       "\n",
       "    this.waiting = false;\n",
       "\n",
       "    this.ws.onopen =  function () {\n",
       "            fig.send_message(\"supports_binary\", {value: fig.supports_binary});\n",
       "            fig.send_message(\"send_image_mode\", {});\n",
       "            if (mpl.ratio != 1) {\n",
       "                fig.send_message(\"set_dpi_ratio\", {'dpi_ratio': mpl.ratio});\n",
       "            }\n",
       "            fig.send_message(\"refresh\", {});\n",
       "        }\n",
       "\n",
       "    this.imageObj.onload = function() {\n",
       "            if (fig.image_mode == 'full') {\n",
       "                // Full images could contain transparency (where diff images\n",
       "                // almost always do), so we need to clear the canvas so that\n",
       "                // there is no ghosting.\n",
       "                fig.context.clearRect(0, 0, fig.canvas.width, fig.canvas.height);\n",
       "            }\n",
       "            fig.context.drawImage(fig.imageObj, 0, 0);\n",
       "        };\n",
       "\n",
       "    this.imageObj.onunload = function() {\n",
       "        fig.ws.close();\n",
       "    }\n",
       "\n",
       "    this.ws.onmessage = this._make_on_message_function(this);\n",
       "\n",
       "    this.ondownload = ondownload;\n",
       "}\n",
       "\n",
       "mpl.figure.prototype._init_header = function() {\n",
       "    var titlebar = $(\n",
       "        '<div class=\"ui-dialog-titlebar ui-widget-header ui-corner-all ' +\n",
       "        'ui-helper-clearfix\"/>');\n",
       "    var titletext = $(\n",
       "        '<div class=\"ui-dialog-title\" style=\"width: 100%; ' +\n",
       "        'text-align: center; padding: 3px;\"/>');\n",
       "    titlebar.append(titletext)\n",
       "    this.root.append(titlebar);\n",
       "    this.header = titletext[0];\n",
       "}\n",
       "\n",
       "\n",
       "\n",
       "mpl.figure.prototype._canvas_extra_style = function(canvas_div) {\n",
       "\n",
       "}\n",
       "\n",
       "\n",
       "mpl.figure.prototype._root_extra_style = function(canvas_div) {\n",
       "\n",
       "}\n",
       "\n",
       "mpl.figure.prototype._init_canvas = function() {\n",
       "    var fig = this;\n",
       "\n",
       "    var canvas_div = $('<div/>');\n",
       "\n",
       "    canvas_div.attr('style', 'position: relative; clear: both; outline: 0');\n",
       "\n",
       "    function canvas_keyboard_event(event) {\n",
       "        return fig.key_event(event, event['data']);\n",
       "    }\n",
       "\n",
       "    canvas_div.keydown('key_press', canvas_keyboard_event);\n",
       "    canvas_div.keyup('key_release', canvas_keyboard_event);\n",
       "    this.canvas_div = canvas_div\n",
       "    this._canvas_extra_style(canvas_div)\n",
       "    this.root.append(canvas_div);\n",
       "\n",
       "    var canvas = $('<canvas/>');\n",
       "    canvas.addClass('mpl-canvas');\n",
       "    canvas.attr('style', \"left: 0; top: 0; z-index: 0; outline: 0\")\n",
       "\n",
       "    this.canvas = canvas[0];\n",
       "    this.context = canvas[0].getContext(\"2d\");\n",
       "\n",
       "    var backingStore = this.context.backingStorePixelRatio ||\n",
       "\tthis.context.webkitBackingStorePixelRatio ||\n",
       "\tthis.context.mozBackingStorePixelRatio ||\n",
       "\tthis.context.msBackingStorePixelRatio ||\n",
       "\tthis.context.oBackingStorePixelRatio ||\n",
       "\tthis.context.backingStorePixelRatio || 1;\n",
       "\n",
       "    mpl.ratio = (window.devicePixelRatio || 1) / backingStore;\n",
       "\n",
       "    var rubberband = $('<canvas/>');\n",
       "    rubberband.attr('style', \"position: absolute; left: 0; top: 0; z-index: 1;\")\n",
       "\n",
       "    var pass_mouse_events = true;\n",
       "\n",
       "    canvas_div.resizable({\n",
       "        start: function(event, ui) {\n",
       "            pass_mouse_events = false;\n",
       "        },\n",
       "        resize: function(event, ui) {\n",
       "            fig.request_resize(ui.size.width, ui.size.height);\n",
       "        },\n",
       "        stop: function(event, ui) {\n",
       "            pass_mouse_events = true;\n",
       "            fig.request_resize(ui.size.width, ui.size.height);\n",
       "        },\n",
       "    });\n",
       "\n",
       "    function mouse_event_fn(event) {\n",
       "        if (pass_mouse_events)\n",
       "            return fig.mouse_event(event, event['data']);\n",
       "    }\n",
       "\n",
       "    rubberband.mousedown('button_press', mouse_event_fn);\n",
       "    rubberband.mouseup('button_release', mouse_event_fn);\n",
       "    // Throttle sequential mouse events to 1 every 20ms.\n",
       "    rubberband.mousemove('motion_notify', mouse_event_fn);\n",
       "\n",
       "    rubberband.mouseenter('figure_enter', mouse_event_fn);\n",
       "    rubberband.mouseleave('figure_leave', mouse_event_fn);\n",
       "\n",
       "    canvas_div.on(\"wheel\", function (event) {\n",
       "        event = event.originalEvent;\n",
       "        event['data'] = 'scroll'\n",
       "        if (event.deltaY < 0) {\n",
       "            event.step = 1;\n",
       "        } else {\n",
       "            event.step = -1;\n",
       "        }\n",
       "        mouse_event_fn(event);\n",
       "    });\n",
       "\n",
       "    canvas_div.append(canvas);\n",
       "    canvas_div.append(rubberband);\n",
       "\n",
       "    this.rubberband = rubberband;\n",
       "    this.rubberband_canvas = rubberband[0];\n",
       "    this.rubberband_context = rubberband[0].getContext(\"2d\");\n",
       "    this.rubberband_context.strokeStyle = \"#000000\";\n",
       "\n",
       "    this._resize_canvas = function(width, height) {\n",
       "        // Keep the size of the canvas, canvas container, and rubber band\n",
       "        // canvas in synch.\n",
       "        canvas_div.css('width', width)\n",
       "        canvas_div.css('height', height)\n",
       "\n",
       "        canvas.attr('width', width * mpl.ratio);\n",
       "        canvas.attr('height', height * mpl.ratio);\n",
       "        canvas.attr('style', 'width: ' + width + 'px; height: ' + height + 'px;');\n",
       "\n",
       "        rubberband.attr('width', width);\n",
       "        rubberband.attr('height', height);\n",
       "    }\n",
       "\n",
       "    // Set the figure to an initial 600x600px, this will subsequently be updated\n",
       "    // upon first draw.\n",
       "    this._resize_canvas(600, 600);\n",
       "\n",
       "    // Disable right mouse context menu.\n",
       "    $(this.rubberband_canvas).bind(\"contextmenu\",function(e){\n",
       "        return false;\n",
       "    });\n",
       "\n",
       "    function set_focus () {\n",
       "        canvas.focus();\n",
       "        canvas_div.focus();\n",
       "    }\n",
       "\n",
       "    window.setTimeout(set_focus, 100);\n",
       "}\n",
       "\n",
       "mpl.figure.prototype._init_toolbar = function() {\n",
       "    var fig = this;\n",
       "\n",
       "    var nav_element = $('<div/>');\n",
       "    nav_element.attr('style', 'width: 100%');\n",
       "    this.root.append(nav_element);\n",
       "\n",
       "    // Define a callback function for later on.\n",
       "    function toolbar_event(event) {\n",
       "        return fig.toolbar_button_onclick(event['data']);\n",
       "    }\n",
       "    function toolbar_mouse_event(event) {\n",
       "        return fig.toolbar_button_onmouseover(event['data']);\n",
       "    }\n",
       "\n",
       "    for(var toolbar_ind in mpl.toolbar_items) {\n",
       "        var name = mpl.toolbar_items[toolbar_ind][0];\n",
       "        var tooltip = mpl.toolbar_items[toolbar_ind][1];\n",
       "        var image = mpl.toolbar_items[toolbar_ind][2];\n",
       "        var method_name = mpl.toolbar_items[toolbar_ind][3];\n",
       "\n",
       "        if (!name) {\n",
       "            // put a spacer in here.\n",
       "            continue;\n",
       "        }\n",
       "        var button = $('<button/>');\n",
       "        button.addClass('ui-button ui-widget ui-state-default ui-corner-all ' +\n",
       "                        'ui-button-icon-only');\n",
       "        button.attr('role', 'button');\n",
       "        button.attr('aria-disabled', 'false');\n",
       "        button.click(method_name, toolbar_event);\n",
       "        button.mouseover(tooltip, toolbar_mouse_event);\n",
       "\n",
       "        var icon_img = $('<span/>');\n",
       "        icon_img.addClass('ui-button-icon-primary ui-icon');\n",
       "        icon_img.addClass(image);\n",
       "        icon_img.addClass('ui-corner-all');\n",
       "\n",
       "        var tooltip_span = $('<span/>');\n",
       "        tooltip_span.addClass('ui-button-text');\n",
       "        tooltip_span.html(tooltip);\n",
       "\n",
       "        button.append(icon_img);\n",
       "        button.append(tooltip_span);\n",
       "\n",
       "        nav_element.append(button);\n",
       "    }\n",
       "\n",
       "    var fmt_picker_span = $('<span/>');\n",
       "\n",
       "    var fmt_picker = $('<select/>');\n",
       "    fmt_picker.addClass('mpl-toolbar-option ui-widget ui-widget-content');\n",
       "    fmt_picker_span.append(fmt_picker);\n",
       "    nav_element.append(fmt_picker_span);\n",
       "    this.format_dropdown = fmt_picker[0];\n",
       "\n",
       "    for (var ind in mpl.extensions) {\n",
       "        var fmt = mpl.extensions[ind];\n",
       "        var option = $(\n",
       "            '<option/>', {selected: fmt === mpl.default_extension}).html(fmt);\n",
       "        fmt_picker.append(option);\n",
       "    }\n",
       "\n",
       "    // Add hover states to the ui-buttons\n",
       "    $( \".ui-button\" ).hover(\n",
       "        function() { $(this).addClass(\"ui-state-hover\");},\n",
       "        function() { $(this).removeClass(\"ui-state-hover\");}\n",
       "    );\n",
       "\n",
       "    var status_bar = $('<span class=\"mpl-message\"/>');\n",
       "    nav_element.append(status_bar);\n",
       "    this.message = status_bar[0];\n",
       "}\n",
       "\n",
       "mpl.figure.prototype.request_resize = function(x_pixels, y_pixels) {\n",
       "    // Request matplotlib to resize the figure. Matplotlib will then trigger a resize in the client,\n",
       "    // which will in turn request a refresh of the image.\n",
       "    this.send_message('resize', {'width': x_pixels, 'height': y_pixels});\n",
       "}\n",
       "\n",
       "mpl.figure.prototype.send_message = function(type, properties) {\n",
       "    properties['type'] = type;\n",
       "    properties['figure_id'] = this.id;\n",
       "    this.ws.send(JSON.stringify(properties));\n",
       "}\n",
       "\n",
       "mpl.figure.prototype.send_draw_message = function() {\n",
       "    if (!this.waiting) {\n",
       "        this.waiting = true;\n",
       "        this.ws.send(JSON.stringify({type: \"draw\", figure_id: this.id}));\n",
       "    }\n",
       "}\n",
       "\n",
       "\n",
       "mpl.figure.prototype.handle_save = function(fig, msg) {\n",
       "    var format_dropdown = fig.format_dropdown;\n",
       "    var format = format_dropdown.options[format_dropdown.selectedIndex].value;\n",
       "    fig.ondownload(fig, format);\n",
       "}\n",
       "\n",
       "\n",
       "mpl.figure.prototype.handle_resize = function(fig, msg) {\n",
       "    var size = msg['size'];\n",
       "    if (size[0] != fig.canvas.width || size[1] != fig.canvas.height) {\n",
       "        fig._resize_canvas(size[0], size[1]);\n",
       "        fig.send_message(\"refresh\", {});\n",
       "    };\n",
       "}\n",
       "\n",
       "mpl.figure.prototype.handle_rubberband = function(fig, msg) {\n",
       "    var x0 = msg['x0'] / mpl.ratio;\n",
       "    var y0 = (fig.canvas.height - msg['y0']) / mpl.ratio;\n",
       "    var x1 = msg['x1'] / mpl.ratio;\n",
       "    var y1 = (fig.canvas.height - msg['y1']) / mpl.ratio;\n",
       "    x0 = Math.floor(x0) + 0.5;\n",
       "    y0 = Math.floor(y0) + 0.5;\n",
       "    x1 = Math.floor(x1) + 0.5;\n",
       "    y1 = Math.floor(y1) + 0.5;\n",
       "    var min_x = Math.min(x0, x1);\n",
       "    var min_y = Math.min(y0, y1);\n",
       "    var width = Math.abs(x1 - x0);\n",
       "    var height = Math.abs(y1 - y0);\n",
       "\n",
       "    fig.rubberband_context.clearRect(\n",
       "        0, 0, fig.canvas.width / mpl.ratio, fig.canvas.height / mpl.ratio);\n",
       "\n",
       "    fig.rubberband_context.strokeRect(min_x, min_y, width, height);\n",
       "}\n",
       "\n",
       "mpl.figure.prototype.handle_figure_label = function(fig, msg) {\n",
       "    // Updates the figure title.\n",
       "    fig.header.textContent = msg['label'];\n",
       "}\n",
       "\n",
       "mpl.figure.prototype.handle_cursor = function(fig, msg) {\n",
       "    var cursor = msg['cursor'];\n",
       "    switch(cursor)\n",
       "    {\n",
       "    case 0:\n",
       "        cursor = 'pointer';\n",
       "        break;\n",
       "    case 1:\n",
       "        cursor = 'default';\n",
       "        break;\n",
       "    case 2:\n",
       "        cursor = 'crosshair';\n",
       "        break;\n",
       "    case 3:\n",
       "        cursor = 'move';\n",
       "        break;\n",
       "    }\n",
       "    fig.rubberband_canvas.style.cursor = cursor;\n",
       "}\n",
       "\n",
       "mpl.figure.prototype.handle_message = function(fig, msg) {\n",
       "    fig.message.textContent = msg['message'];\n",
       "}\n",
       "\n",
       "mpl.figure.prototype.handle_draw = function(fig, msg) {\n",
       "    // Request the server to send over a new figure.\n",
       "    fig.send_draw_message();\n",
       "}\n",
       "\n",
       "mpl.figure.prototype.handle_image_mode = function(fig, msg) {\n",
       "    fig.image_mode = msg['mode'];\n",
       "}\n",
       "\n",
       "mpl.figure.prototype.updated_canvas_event = function() {\n",
       "    // Called whenever the canvas gets updated.\n",
       "    this.send_message(\"ack\", {});\n",
       "}\n",
       "\n",
       "// A function to construct a web socket function for onmessage handling.\n",
       "// Called in the figure constructor.\n",
       "mpl.figure.prototype._make_on_message_function = function(fig) {\n",
       "    return function socket_on_message(evt) {\n",
       "        if (evt.data instanceof Blob) {\n",
       "            /* FIXME: We get \"Resource interpreted as Image but\n",
       "             * transferred with MIME type text/plain:\" errors on\n",
       "             * Chrome.  But how to set the MIME type?  It doesn't seem\n",
       "             * to be part of the websocket stream */\n",
       "            evt.data.type = \"image/png\";\n",
       "\n",
       "            /* Free the memory for the previous frames */\n",
       "            if (fig.imageObj.src) {\n",
       "                (window.URL || window.webkitURL).revokeObjectURL(\n",
       "                    fig.imageObj.src);\n",
       "            }\n",
       "\n",
       "            fig.imageObj.src = (window.URL || window.webkitURL).createObjectURL(\n",
       "                evt.data);\n",
       "            fig.updated_canvas_event();\n",
       "            fig.waiting = false;\n",
       "            return;\n",
       "        }\n",
       "        else if (typeof evt.data === 'string' && evt.data.slice(0, 21) == \"data:image/png;base64\") {\n",
       "            fig.imageObj.src = evt.data;\n",
       "            fig.updated_canvas_event();\n",
       "            fig.waiting = false;\n",
       "            return;\n",
       "        }\n",
       "\n",
       "        var msg = JSON.parse(evt.data);\n",
       "        var msg_type = msg['type'];\n",
       "\n",
       "        // Call the  \"handle_{type}\" callback, which takes\n",
       "        // the figure and JSON message as its only arguments.\n",
       "        try {\n",
       "            var callback = fig[\"handle_\" + msg_type];\n",
       "        } catch (e) {\n",
       "            console.log(\"No handler for the '\" + msg_type + \"' message type: \", msg);\n",
       "            return;\n",
       "        }\n",
       "\n",
       "        if (callback) {\n",
       "            try {\n",
       "                // console.log(\"Handling '\" + msg_type + \"' message: \", msg);\n",
       "                callback(fig, msg);\n",
       "            } catch (e) {\n",
       "                console.log(\"Exception inside the 'handler_\" + msg_type + \"' callback:\", e, e.stack, msg);\n",
       "            }\n",
       "        }\n",
       "    };\n",
       "}\n",
       "\n",
       "// from http://stackoverflow.com/questions/1114465/getting-mouse-location-in-canvas\n",
       "mpl.findpos = function(e) {\n",
       "    //this section is from http://www.quirksmode.org/js/events_properties.html\n",
       "    var targ;\n",
       "    if (!e)\n",
       "        e = window.event;\n",
       "    if (e.target)\n",
       "        targ = e.target;\n",
       "    else if (e.srcElement)\n",
       "        targ = e.srcElement;\n",
       "    if (targ.nodeType == 3) // defeat Safari bug\n",
       "        targ = targ.parentNode;\n",
       "\n",
       "    // jQuery normalizes the pageX and pageY\n",
       "    // pageX,Y are the mouse positions relative to the document\n",
       "    // offset() returns the position of the element relative to the document\n",
       "    var x = e.pageX - $(targ).offset().left;\n",
       "    var y = e.pageY - $(targ).offset().top;\n",
       "\n",
       "    return {\"x\": x, \"y\": y};\n",
       "};\n",
       "\n",
       "/*\n",
       " * return a copy of an object with only non-object keys\n",
       " * we need this to avoid circular references\n",
       " * http://stackoverflow.com/a/24161582/3208463\n",
       " */\n",
       "function simpleKeys (original) {\n",
       "  return Object.keys(original).reduce(function (obj, key) {\n",
       "    if (typeof original[key] !== 'object')\n",
       "        obj[key] = original[key]\n",
       "    return obj;\n",
       "  }, {});\n",
       "}\n",
       "\n",
       "mpl.figure.prototype.mouse_event = function(event, name) {\n",
       "    var canvas_pos = mpl.findpos(event)\n",
       "\n",
       "    if (name === 'button_press')\n",
       "    {\n",
       "        this.canvas.focus();\n",
       "        this.canvas_div.focus();\n",
       "    }\n",
       "\n",
       "    var x = canvas_pos.x * mpl.ratio;\n",
       "    var y = canvas_pos.y * mpl.ratio;\n",
       "\n",
       "    this.send_message(name, {x: x, y: y, button: event.button,\n",
       "                             step: event.step,\n",
       "                             guiEvent: simpleKeys(event)});\n",
       "\n",
       "    /* This prevents the web browser from automatically changing to\n",
       "     * the text insertion cursor when the button is pressed.  We want\n",
       "     * to control all of the cursor setting manually through the\n",
       "     * 'cursor' event from matplotlib */\n",
       "    event.preventDefault();\n",
       "    return false;\n",
       "}\n",
       "\n",
       "mpl.figure.prototype._key_event_extra = function(event, name) {\n",
       "    // Handle any extra behaviour associated with a key event\n",
       "}\n",
       "\n",
       "mpl.figure.prototype.key_event = function(event, name) {\n",
       "\n",
       "    // Prevent repeat events\n",
       "    if (name == 'key_press')\n",
       "    {\n",
       "        if (event.which === this._key)\n",
       "            return;\n",
       "        else\n",
       "            this._key = event.which;\n",
       "    }\n",
       "    if (name == 'key_release')\n",
       "        this._key = null;\n",
       "\n",
       "    var value = '';\n",
       "    if (event.ctrlKey && event.which != 17)\n",
       "        value += \"ctrl+\";\n",
       "    if (event.altKey && event.which != 18)\n",
       "        value += \"alt+\";\n",
       "    if (event.shiftKey && event.which != 16)\n",
       "        value += \"shift+\";\n",
       "\n",
       "    value += 'k';\n",
       "    value += event.which.toString();\n",
       "\n",
       "    this._key_event_extra(event, name);\n",
       "\n",
       "    this.send_message(name, {key: value,\n",
       "                             guiEvent: simpleKeys(event)});\n",
       "    return false;\n",
       "}\n",
       "\n",
       "mpl.figure.prototype.toolbar_button_onclick = function(name) {\n",
       "    if (name == 'download') {\n",
       "        this.handle_save(this, null);\n",
       "    } else {\n",
       "        this.send_message(\"toolbar_button\", {name: name});\n",
       "    }\n",
       "};\n",
       "\n",
       "mpl.figure.prototype.toolbar_button_onmouseover = function(tooltip) {\n",
       "    this.message.textContent = tooltip;\n",
       "};\n",
       "mpl.toolbar_items = [[\"Home\", \"Reset original view\", \"fa fa-home icon-home\", \"home\"], [\"Back\", \"Back to previous view\", \"fa fa-arrow-left icon-arrow-left\", \"back\"], [\"Forward\", \"Forward to next view\", \"fa fa-arrow-right icon-arrow-right\", \"forward\"], [\"\", \"\", \"\", \"\"], [\"Pan\", \"Pan axes with left mouse, zoom with right\", \"fa fa-arrows icon-move\", \"pan\"], [\"Zoom\", \"Zoom to rectangle\", \"fa fa-square-o icon-check-empty\", \"zoom\"], [\"\", \"\", \"\", \"\"], [\"Download\", \"Download plot\", \"fa fa-floppy-o icon-save\", \"download\"]];\n",
       "\n",
       "mpl.extensions = [\"eps\", \"pdf\", \"png\", \"ps\", \"raw\", \"svg\"];\n",
       "\n",
       "mpl.default_extension = \"png\";var comm_websocket_adapter = function(comm) {\n",
       "    // Create a \"websocket\"-like object which calls the given IPython comm\n",
       "    // object with the appropriate methods. Currently this is a non binary\n",
       "    // socket, so there is still some room for performance tuning.\n",
       "    var ws = {};\n",
       "\n",
       "    ws.close = function() {\n",
       "        comm.close()\n",
       "    };\n",
       "    ws.send = function(m) {\n",
       "        //console.log('sending', m);\n",
       "        comm.send(m);\n",
       "    };\n",
       "    // Register the callback with on_msg.\n",
       "    comm.on_msg(function(msg) {\n",
       "        //console.log('receiving', msg['content']['data'], msg);\n",
       "        // Pass the mpl event to the overridden (by mpl) onmessage function.\n",
       "        ws.onmessage(msg['content']['data'])\n",
       "    });\n",
       "    return ws;\n",
       "}\n",
       "\n",
       "mpl.mpl_figure_comm = function(comm, msg) {\n",
       "    // This is the function which gets called when the mpl process\n",
       "    // starts-up an IPython Comm through the \"matplotlib\" channel.\n",
       "\n",
       "    var id = msg.content.data.id;\n",
       "    // Get hold of the div created by the display call when the Comm\n",
       "    // socket was opened in Python.\n",
       "    var element = $(\"#\" + id);\n",
       "    var ws_proxy = comm_websocket_adapter(comm)\n",
       "\n",
       "    function ondownload(figure, format) {\n",
       "        window.open(figure.imageObj.src);\n",
       "    }\n",
       "\n",
       "    var fig = new mpl.figure(id, ws_proxy,\n",
       "                           ondownload,\n",
       "                           element.get(0));\n",
       "\n",
       "    // Call onopen now - mpl needs it, as it is assuming we've passed it a real\n",
       "    // web socket which is closed, not our websocket->open comm proxy.\n",
       "    ws_proxy.onopen();\n",
       "\n",
       "    fig.parent_element = element.get(0);\n",
       "    fig.cell_info = mpl.find_output_cell(\"<div id='\" + id + \"'></div>\");\n",
       "    if (!fig.cell_info) {\n",
       "        console.error(\"Failed to find cell for figure\", id, fig);\n",
       "        return;\n",
       "    }\n",
       "\n",
       "    var output_index = fig.cell_info[2]\n",
       "    var cell = fig.cell_info[0];\n",
       "\n",
       "};\n",
       "\n",
       "mpl.figure.prototype.handle_close = function(fig, msg) {\n",
       "    var width = fig.canvas.width/mpl.ratio\n",
       "    fig.root.unbind('remove')\n",
       "\n",
       "    // Update the output cell to use the data from the current canvas.\n",
       "    fig.push_to_output();\n",
       "    var dataURL = fig.canvas.toDataURL();\n",
       "    // Re-enable the keyboard manager in IPython - without this line, in FF,\n",
       "    // the notebook keyboard shortcuts fail.\n",
       "    IPython.keyboard_manager.enable()\n",
       "    $(fig.parent_element).html('<img src=\"' + dataURL + '\" width=\"' + width + '\">');\n",
       "    fig.close_ws(fig, msg);\n",
       "}\n",
       "\n",
       "mpl.figure.prototype.close_ws = function(fig, msg){\n",
       "    fig.send_message('closing', msg);\n",
       "    // fig.ws.close()\n",
       "}\n",
       "\n",
       "mpl.figure.prototype.push_to_output = function(remove_interactive) {\n",
       "    // Turn the data on the canvas into data in the output cell.\n",
       "    var width = this.canvas.width/mpl.ratio\n",
       "    var dataURL = this.canvas.toDataURL();\n",
       "    this.cell_info[1]['text/html'] = '<img src=\"' + dataURL + '\" width=\"' + width + '\">';\n",
       "}\n",
       "\n",
       "mpl.figure.prototype.updated_canvas_event = function() {\n",
       "    // Tell IPython that the notebook contents must change.\n",
       "    IPython.notebook.set_dirty(true);\n",
       "    this.send_message(\"ack\", {});\n",
       "    var fig = this;\n",
       "    // Wait a second, then push the new image to the DOM so\n",
       "    // that it is saved nicely (might be nice to debounce this).\n",
       "    setTimeout(function () { fig.push_to_output() }, 1000);\n",
       "}\n",
       "\n",
       "mpl.figure.prototype._init_toolbar = function() {\n",
       "    var fig = this;\n",
       "\n",
       "    var nav_element = $('<div/>');\n",
       "    nav_element.attr('style', 'width: 100%');\n",
       "    this.root.append(nav_element);\n",
       "\n",
       "    // Define a callback function for later on.\n",
       "    function toolbar_event(event) {\n",
       "        return fig.toolbar_button_onclick(event['data']);\n",
       "    }\n",
       "    function toolbar_mouse_event(event) {\n",
       "        return fig.toolbar_button_onmouseover(event['data']);\n",
       "    }\n",
       "\n",
       "    for(var toolbar_ind in mpl.toolbar_items){\n",
       "        var name = mpl.toolbar_items[toolbar_ind][0];\n",
       "        var tooltip = mpl.toolbar_items[toolbar_ind][1];\n",
       "        var image = mpl.toolbar_items[toolbar_ind][2];\n",
       "        var method_name = mpl.toolbar_items[toolbar_ind][3];\n",
       "\n",
       "        if (!name) { continue; };\n",
       "\n",
       "        var button = $('<button class=\"btn btn-default\" href=\"#\" title=\"' + name + '\"><i class=\"fa ' + image + ' fa-lg\"></i></button>');\n",
       "        button.click(method_name, toolbar_event);\n",
       "        button.mouseover(tooltip, toolbar_mouse_event);\n",
       "        nav_element.append(button);\n",
       "    }\n",
       "\n",
       "    // Add the status bar.\n",
       "    var status_bar = $('<span class=\"mpl-message\" style=\"text-align:right; float: right;\"/>');\n",
       "    nav_element.append(status_bar);\n",
       "    this.message = status_bar[0];\n",
       "\n",
       "    // Add the close button to the window.\n",
       "    var buttongrp = $('<div class=\"btn-group inline pull-right\"></div>');\n",
       "    var button = $('<button class=\"btn btn-mini btn-primary\" href=\"#\" title=\"Stop Interaction\"><i class=\"fa fa-power-off icon-remove icon-large\"></i></button>');\n",
       "    button.click(function (evt) { fig.handle_close(fig, {}); } );\n",
       "    button.mouseover('Stop Interaction', toolbar_mouse_event);\n",
       "    buttongrp.append(button);\n",
       "    var titlebar = this.root.find($('.ui-dialog-titlebar'));\n",
       "    titlebar.prepend(buttongrp);\n",
       "}\n",
       "\n",
       "mpl.figure.prototype._root_extra_style = function(el){\n",
       "    var fig = this\n",
       "    el.on(\"remove\", function(){\n",
       "\tfig.close_ws(fig, {});\n",
       "    });\n",
       "}\n",
       "\n",
       "mpl.figure.prototype._canvas_extra_style = function(el){\n",
       "    // this is important to make the div 'focusable\n",
       "    el.attr('tabindex', 0)\n",
       "    // reach out to IPython and tell the keyboard manager to turn it's self\n",
       "    // off when our div gets focus\n",
       "\n",
       "    // location in version 3\n",
       "    if (IPython.notebook.keyboard_manager) {\n",
       "        IPython.notebook.keyboard_manager.register_events(el);\n",
       "    }\n",
       "    else {\n",
       "        // location in version 2\n",
       "        IPython.keyboard_manager.register_events(el);\n",
       "    }\n",
       "\n",
       "}\n",
       "\n",
       "mpl.figure.prototype._key_event_extra = function(event, name) {\n",
       "    var manager = IPython.notebook.keyboard_manager;\n",
       "    if (!manager)\n",
       "        manager = IPython.keyboard_manager;\n",
       "\n",
       "    // Check for shift+enter\n",
       "    if (event.shiftKey && event.which == 13) {\n",
       "        this.canvas_div.blur();\n",
       "        // select the cell after this one\n",
       "        var index = IPython.notebook.find_cell_index(this.cell_info[0]);\n",
       "        IPython.notebook.select(index + 1);\n",
       "    }\n",
       "}\n",
       "\n",
       "mpl.figure.prototype.handle_save = function(fig, msg) {\n",
       "    fig.ondownload(fig, null);\n",
       "}\n",
       "\n",
       "\n",
       "mpl.find_output_cell = function(html_output) {\n",
       "    // Return the cell and output element which can be found *uniquely* in the notebook.\n",
       "    // Note - this is a bit hacky, but it is done because the \"notebook_saving.Notebook\"\n",
       "    // IPython event is triggered only after the cells have been serialised, which for\n",
       "    // our purposes (turning an active figure into a static one), is too late.\n",
       "    var cells = IPython.notebook.get_cells();\n",
       "    var ncells = cells.length;\n",
       "    for (var i=0; i<ncells; i++) {\n",
       "        var cell = cells[i];\n",
       "        if (cell.cell_type === 'code'){\n",
       "            for (var j=0; j<cell.output_area.outputs.length; j++) {\n",
       "                var data = cell.output_area.outputs[j];\n",
       "                if (data.data) {\n",
       "                    // IPython >= 3 moved mimebundle to data attribute of output\n",
       "                    data = data.data;\n",
       "                }\n",
       "                if (data['text/html'] == html_output) {\n",
       "                    return [cell, data, j];\n",
       "                }\n",
       "            }\n",
       "        }\n",
       "    }\n",
       "}\n",
       "\n",
       "// Register the function which deals with the matplotlib target/channel.\n",
       "// The kernel may be null if the page has been refreshed.\n",
       "if (IPython.notebook.kernel != null) {\n",
       "    IPython.notebook.kernel.comm_manager.register_target('matplotlib', mpl.mpl_figure_comm);\n",
       "}\n"
      ],
      "text/plain": [
       "<IPython.core.display.Javascript object>"
      ]
     },
     "metadata": {},
     "output_type": "display_data"
    },
    {
     "data": {
      "text/html": [
       "<img src=\"data:image/png;base64,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\" width=\"240\">"
      ],
      "text/plain": [
       "<IPython.core.display.HTML object>"
      ]
     },
     "metadata": {},
     "output_type": "display_data"
    }
   ],
   "source": [
    "nd_H_0_ao = NumericDiff(gradn, lambda gradh: gradh.H_0_ao).derivative\n",
    "plot_diff(H_1_ao, nd_H_0_ao)"
   ]
  },
  {
   "cell_type": "markdown",
   "metadata": {
    "hidden": true
   },
   "source": [
    "- `H_1_mo` $h_{pq}^{A_t}$; dim: $(A, t, p, q)$ in document, $(A_t, p, q)$ in pyxdh; symm: $h_{pq}^{A_t} = h_{qp}^{A_t}$\n",
    "\n",
    "$$\n",
    "h_{pq}^{A_t} = C_{\\mu p} h_{\\mu \\nu}^{A_t} C_{\\nu q}\n",
    "$$"
   ]
  },
  {
   "cell_type": "code",
   "execution_count": 40,
   "metadata": {
    "hidden": true
   },
   "outputs": [
    {
     "data": {
      "text/plain": [
       "(4, 3, 22, 22)"
      ]
     },
     "execution_count": 40,
     "metadata": {},
     "output_type": "execute_result"
    }
   ],
   "source": [
    "H_1_mo = np.einsum(\"up, Atuv, vq -> Atpq\", C, H_1_ao, C)\n",
    "H_1_mo.shape"
   ]
  },
  {
   "cell_type": "code",
   "execution_count": 41,
   "metadata": {
    "hidden": true
   },
   "outputs": [
    {
     "data": {
      "text/plain": [
       "True"
      ]
     },
     "execution_count": 41,
     "metadata": {},
     "output_type": "execute_result"
    }
   ],
   "source": [
    "np.allclose(H_1_mo, gradh.H_1_mo.reshape(natm, 3, nmo, nmo))  # pyxdh approach"
   ]
  },
  {
   "cell_type": "markdown",
   "metadata": {
    "heading_collapsed": true
   },
   "source": [
    "### `eri1_ao` $(\\mu \\nu | \\kappa \\lambda)^{A_t}$ Electron-repulsion Integral Skeleton"
   ]
  },
  {
   "cell_type": "markdown",
   "metadata": {
    "hidden": true
   },
   "source": [
    "- `int2e_ip1` $(\\partial_t \\mu \\nu | \\kappa \\lambda)$; dim: $(A, t, \\mu, \\nu, \\kappa, \\lambda)$; symm: $(\\partial_t \\mu \\nu | \\kappa \\lambda) = (\\partial_t \\mu \\nu | \\lambda \\kappa)$"
   ]
  },
  {
   "cell_type": "code",
   "execution_count": 42,
   "metadata": {
    "hidden": true
   },
   "outputs": [
    {
     "data": {
      "text/plain": [
       "(3, 22, 22, 22, 22)"
      ]
     },
     "execution_count": 42,
     "metadata": {},
     "output_type": "execute_result"
    }
   ],
   "source": [
    "int2e_ip1 = mol.intor(\"int2e_ip1\")\n",
    "int2e_ip1.shape"
   ]
  },
  {
   "cell_type": "code",
   "execution_count": 43,
   "metadata": {
    "hidden": true
   },
   "outputs": [
    {
     "data": {
      "text/plain": [
       "True"
      ]
     },
     "execution_count": 43,
     "metadata": {},
     "output_type": "execute_result"
    }
   ],
   "source": [
    "np.allclose(int2e_ip1, int2e_ip1.swapaxes(-1, -2))  # symm check"
   ]
  },
  {
   "cell_type": "markdown",
   "metadata": {
    "hidden": true
   },
   "source": [
    "- `eri1_ao` $(\\mu \\nu | \\kappa \\lambda)^{A_t}$; dim: $(A, t, \\mu, \\nu, \\kappa, \\lambda)$ in document, $(A_t, \\mu, \\nu, \\kappa, \\lambda)$ in pyxdh; symm: $(\\mu \\nu | \\kappa \\lambda)^{A_t} = (\\mu \\nu | \\lambda \\kappa)^{A_t} = (\\kappa \\lambda | \\mu \\nu)^{A_t}$ (8-fold)\n",
    "\n",
    "$$\n",
    "\\begin{split}\\begin{align}\n",
    "(\\mu \\nu | \\kappa \\lambda)^{A_t} = \\frac{\\partial}{\\partial A_t} (\\mu \\nu | \\kappa \\lambda) &= - \\big[ (\\partial_t \\mu_A \\nu | \\kappa \\lambda) + (\\mu \\partial_t \\nu_A | \\kappa \\lambda) + (\\mu \\nu | \\partial_t \\kappa_A \\lambda) + (\\mu \\nu | \\kappa \\partial_t \\lambda_A) \\big] \\\\\n",
    "&= - (\\partial_t \\mu_A \\nu | \\kappa \\lambda) + \\mathrm{swap} (\\mu, \\nu) + \\mathrm{swap} (\\mu \\nu, \\kappa \\lambda)\n",
    "\\end{align}\\end{split}\n",
    "$$"
   ]
  },
  {
   "cell_type": "code",
   "execution_count": 44,
   "metadata": {
    "hidden": true
   },
   "outputs": [
    {
     "data": {
      "text/plain": [
       "(4, 3, 22, 22, 22, 22)"
      ]
     },
     "execution_count": 44,
     "metadata": {},
     "output_type": "execute_result"
    }
   ],
   "source": [
    "eri1_ao = np.zeros((natm, 3, nao, nao, nao, nao))\n",
    "for A in range(natm):\n",
    "    sA = mol_slice(A)\n",
    "    eri1_ao[A, :, sA, :, :, :] -= int2e_ip1[:, sA]\n",
    "eri1_ao += eri1_ao.swapaxes(-3, -4)\n",
    "eri1_ao += eri1_ao.swapaxes(-1, -3).swapaxes(-2, -4)\n",
    "eri1_ao.shape"
   ]
  },
  {
   "cell_type": "code",
   "execution_count": 45,
   "metadata": {
    "hidden": true
   },
   "outputs": [
    {
     "data": {
      "text/plain": [
       "True"
      ]
     },
     "execution_count": 45,
     "metadata": {},
     "output_type": "execute_result"
    }
   ],
   "source": [
    "np.allclose(eri1_ao, eri1_ao.swapaxes(-1, -2))  # symm check"
   ]
  },
  {
   "cell_type": "code",
   "execution_count": 46,
   "metadata": {
    "hidden": true
   },
   "outputs": [
    {
     "data": {
      "text/plain": [
       "True"
      ]
     },
     "execution_count": 46,
     "metadata": {},
     "output_type": "execute_result"
    }
   ],
   "source": [
    "np.allclose(eri1_ao, eri1_ao.swapaxes(-3, -4))  # symm check"
   ]
  },
  {
   "cell_type": "code",
   "execution_count": 47,
   "metadata": {
    "hidden": true
   },
   "outputs": [
    {
     "data": {
      "text/plain": [
       "True"
      ]
     },
     "execution_count": 47,
     "metadata": {},
     "output_type": "execute_result"
    }
   ],
   "source": [
    "np.allclose(eri1_ao, eri1_ao.swapaxes(-1, -3).swapaxes(-2, -4))  # symm check"
   ]
  },
  {
   "cell_type": "code",
   "execution_count": 48,
   "metadata": {
    "hidden": true
   },
   "outputs": [
    {
     "data": {
      "text/plain": [
       "True"
      ]
     },
     "execution_count": 48,
     "metadata": {},
     "output_type": "execute_result"
    }
   ],
   "source": [
    "np.allclose(eri1_ao, gradh.eri1_ao.reshape(natm, 3, nao, nao, nao, nao))  # pyxdh approach"
   ]
  },
  {
   "cell_type": "code",
   "execution_count": 49,
   "metadata": {
    "hidden": true
   },
   "outputs": [
    {
     "data": {
      "application/javascript": [
       "/* Put everything inside the global mpl namespace */\n",
       "window.mpl = {};\n",
       "\n",
       "\n",
       "mpl.get_websocket_type = function() {\n",
       "    if (typeof(WebSocket) !== 'undefined') {\n",
       "        return WebSocket;\n",
       "    } else if (typeof(MozWebSocket) !== 'undefined') {\n",
       "        return MozWebSocket;\n",
       "    } else {\n",
       "        alert('Your browser does not have WebSocket support. ' +\n",
       "              'Please try Chrome, Safari or Firefox ≥ 6. ' +\n",
       "              'Firefox 4 and 5 are also supported but you ' +\n",
       "              'have to enable WebSockets in about:config.');\n",
       "    };\n",
       "}\n",
       "\n",
       "mpl.figure = function(figure_id, websocket, ondownload, parent_element) {\n",
       "    this.id = figure_id;\n",
       "\n",
       "    this.ws = websocket;\n",
       "\n",
       "    this.supports_binary = (this.ws.binaryType != undefined);\n",
       "\n",
       "    if (!this.supports_binary) {\n",
       "        var warnings = document.getElementById(\"mpl-warnings\");\n",
       "        if (warnings) {\n",
       "            warnings.style.display = 'block';\n",
       "            warnings.textContent = (\n",
       "                \"This browser does not support binary websocket messages. \" +\n",
       "                    \"Performance may be slow.\");\n",
       "        }\n",
       "    }\n",
       "\n",
       "    this.imageObj = new Image();\n",
       "\n",
       "    this.context = undefined;\n",
       "    this.message = undefined;\n",
       "    this.canvas = undefined;\n",
       "    this.rubberband_canvas = undefined;\n",
       "    this.rubberband_context = undefined;\n",
       "    this.format_dropdown = undefined;\n",
       "\n",
       "    this.image_mode = 'full';\n",
       "\n",
       "    this.root = $('<div/>');\n",
       "    this._root_extra_style(this.root)\n",
       "    this.root.attr('style', 'display: inline-block');\n",
       "\n",
       "    $(parent_element).append(this.root);\n",
       "\n",
       "    this._init_header(this);\n",
       "    this._init_canvas(this);\n",
       "    this._init_toolbar(this);\n",
       "\n",
       "    var fig = this;\n",
       "\n",
       "    this.waiting = false;\n",
       "\n",
       "    this.ws.onopen =  function () {\n",
       "            fig.send_message(\"supports_binary\", {value: fig.supports_binary});\n",
       "            fig.send_message(\"send_image_mode\", {});\n",
       "            if (mpl.ratio != 1) {\n",
       "                fig.send_message(\"set_dpi_ratio\", {'dpi_ratio': mpl.ratio});\n",
       "            }\n",
       "            fig.send_message(\"refresh\", {});\n",
       "        }\n",
       "\n",
       "    this.imageObj.onload = function() {\n",
       "            if (fig.image_mode == 'full') {\n",
       "                // Full images could contain transparency (where diff images\n",
       "                // almost always do), so we need to clear the canvas so that\n",
       "                // there is no ghosting.\n",
       "                fig.context.clearRect(0, 0, fig.canvas.width, fig.canvas.height);\n",
       "            }\n",
       "            fig.context.drawImage(fig.imageObj, 0, 0);\n",
       "        };\n",
       "\n",
       "    this.imageObj.onunload = function() {\n",
       "        fig.ws.close();\n",
       "    }\n",
       "\n",
       "    this.ws.onmessage = this._make_on_message_function(this);\n",
       "\n",
       "    this.ondownload = ondownload;\n",
       "}\n",
       "\n",
       "mpl.figure.prototype._init_header = function() {\n",
       "    var titlebar = $(\n",
       "        '<div class=\"ui-dialog-titlebar ui-widget-header ui-corner-all ' +\n",
       "        'ui-helper-clearfix\"/>');\n",
       "    var titletext = $(\n",
       "        '<div class=\"ui-dialog-title\" style=\"width: 100%; ' +\n",
       "        'text-align: center; padding: 3px;\"/>');\n",
       "    titlebar.append(titletext)\n",
       "    this.root.append(titlebar);\n",
       "    this.header = titletext[0];\n",
       "}\n",
       "\n",
       "\n",
       "\n",
       "mpl.figure.prototype._canvas_extra_style = function(canvas_div) {\n",
       "\n",
       "}\n",
       "\n",
       "\n",
       "mpl.figure.prototype._root_extra_style = function(canvas_div) {\n",
       "\n",
       "}\n",
       "\n",
       "mpl.figure.prototype._init_canvas = function() {\n",
       "    var fig = this;\n",
       "\n",
       "    var canvas_div = $('<div/>');\n",
       "\n",
       "    canvas_div.attr('style', 'position: relative; clear: both; outline: 0');\n",
       "\n",
       "    function canvas_keyboard_event(event) {\n",
       "        return fig.key_event(event, event['data']);\n",
       "    }\n",
       "\n",
       "    canvas_div.keydown('key_press', canvas_keyboard_event);\n",
       "    canvas_div.keyup('key_release', canvas_keyboard_event);\n",
       "    this.canvas_div = canvas_div\n",
       "    this._canvas_extra_style(canvas_div)\n",
       "    this.root.append(canvas_div);\n",
       "\n",
       "    var canvas = $('<canvas/>');\n",
       "    canvas.addClass('mpl-canvas');\n",
       "    canvas.attr('style', \"left: 0; top: 0; z-index: 0; outline: 0\")\n",
       "\n",
       "    this.canvas = canvas[0];\n",
       "    this.context = canvas[0].getContext(\"2d\");\n",
       "\n",
       "    var backingStore = this.context.backingStorePixelRatio ||\n",
       "\tthis.context.webkitBackingStorePixelRatio ||\n",
       "\tthis.context.mozBackingStorePixelRatio ||\n",
       "\tthis.context.msBackingStorePixelRatio ||\n",
       "\tthis.context.oBackingStorePixelRatio ||\n",
       "\tthis.context.backingStorePixelRatio || 1;\n",
       "\n",
       "    mpl.ratio = (window.devicePixelRatio || 1) / backingStore;\n",
       "\n",
       "    var rubberband = $('<canvas/>');\n",
       "    rubberband.attr('style', \"position: absolute; left: 0; top: 0; z-index: 1;\")\n",
       "\n",
       "    var pass_mouse_events = true;\n",
       "\n",
       "    canvas_div.resizable({\n",
       "        start: function(event, ui) {\n",
       "            pass_mouse_events = false;\n",
       "        },\n",
       "        resize: function(event, ui) {\n",
       "            fig.request_resize(ui.size.width, ui.size.height);\n",
       "        },\n",
       "        stop: function(event, ui) {\n",
       "            pass_mouse_events = true;\n",
       "            fig.request_resize(ui.size.width, ui.size.height);\n",
       "        },\n",
       "    });\n",
       "\n",
       "    function mouse_event_fn(event) {\n",
       "        if (pass_mouse_events)\n",
       "            return fig.mouse_event(event, event['data']);\n",
       "    }\n",
       "\n",
       "    rubberband.mousedown('button_press', mouse_event_fn);\n",
       "    rubberband.mouseup('button_release', mouse_event_fn);\n",
       "    // Throttle sequential mouse events to 1 every 20ms.\n",
       "    rubberband.mousemove('motion_notify', mouse_event_fn);\n",
       "\n",
       "    rubberband.mouseenter('figure_enter', mouse_event_fn);\n",
       "    rubberband.mouseleave('figure_leave', mouse_event_fn);\n",
       "\n",
       "    canvas_div.on(\"wheel\", function (event) {\n",
       "        event = event.originalEvent;\n",
       "        event['data'] = 'scroll'\n",
       "        if (event.deltaY < 0) {\n",
       "            event.step = 1;\n",
       "        } else {\n",
       "            event.step = -1;\n",
       "        }\n",
       "        mouse_event_fn(event);\n",
       "    });\n",
       "\n",
       "    canvas_div.append(canvas);\n",
       "    canvas_div.append(rubberband);\n",
       "\n",
       "    this.rubberband = rubberband;\n",
       "    this.rubberband_canvas = rubberband[0];\n",
       "    this.rubberband_context = rubberband[0].getContext(\"2d\");\n",
       "    this.rubberband_context.strokeStyle = \"#000000\";\n",
       "\n",
       "    this._resize_canvas = function(width, height) {\n",
       "        // Keep the size of the canvas, canvas container, and rubber band\n",
       "        // canvas in synch.\n",
       "        canvas_div.css('width', width)\n",
       "        canvas_div.css('height', height)\n",
       "\n",
       "        canvas.attr('width', width * mpl.ratio);\n",
       "        canvas.attr('height', height * mpl.ratio);\n",
       "        canvas.attr('style', 'width: ' + width + 'px; height: ' + height + 'px;');\n",
       "\n",
       "        rubberband.attr('width', width);\n",
       "        rubberband.attr('height', height);\n",
       "    }\n",
       "\n",
       "    // Set the figure to an initial 600x600px, this will subsequently be updated\n",
       "    // upon first draw.\n",
       "    this._resize_canvas(600, 600);\n",
       "\n",
       "    // Disable right mouse context menu.\n",
       "    $(this.rubberband_canvas).bind(\"contextmenu\",function(e){\n",
       "        return false;\n",
       "    });\n",
       "\n",
       "    function set_focus () {\n",
       "        canvas.focus();\n",
       "        canvas_div.focus();\n",
       "    }\n",
       "\n",
       "    window.setTimeout(set_focus, 100);\n",
       "}\n",
       "\n",
       "mpl.figure.prototype._init_toolbar = function() {\n",
       "    var fig = this;\n",
       "\n",
       "    var nav_element = $('<div/>');\n",
       "    nav_element.attr('style', 'width: 100%');\n",
       "    this.root.append(nav_element);\n",
       "\n",
       "    // Define a callback function for later on.\n",
       "    function toolbar_event(event) {\n",
       "        return fig.toolbar_button_onclick(event['data']);\n",
       "    }\n",
       "    function toolbar_mouse_event(event) {\n",
       "        return fig.toolbar_button_onmouseover(event['data']);\n",
       "    }\n",
       "\n",
       "    for(var toolbar_ind in mpl.toolbar_items) {\n",
       "        var name = mpl.toolbar_items[toolbar_ind][0];\n",
       "        var tooltip = mpl.toolbar_items[toolbar_ind][1];\n",
       "        var image = mpl.toolbar_items[toolbar_ind][2];\n",
       "        var method_name = mpl.toolbar_items[toolbar_ind][3];\n",
       "\n",
       "        if (!name) {\n",
       "            // put a spacer in here.\n",
       "            continue;\n",
       "        }\n",
       "        var button = $('<button/>');\n",
       "        button.addClass('ui-button ui-widget ui-state-default ui-corner-all ' +\n",
       "                        'ui-button-icon-only');\n",
       "        button.attr('role', 'button');\n",
       "        button.attr('aria-disabled', 'false');\n",
       "        button.click(method_name, toolbar_event);\n",
       "        button.mouseover(tooltip, toolbar_mouse_event);\n",
       "\n",
       "        var icon_img = $('<span/>');\n",
       "        icon_img.addClass('ui-button-icon-primary ui-icon');\n",
       "        icon_img.addClass(image);\n",
       "        icon_img.addClass('ui-corner-all');\n",
       "\n",
       "        var tooltip_span = $('<span/>');\n",
       "        tooltip_span.addClass('ui-button-text');\n",
       "        tooltip_span.html(tooltip);\n",
       "\n",
       "        button.append(icon_img);\n",
       "        button.append(tooltip_span);\n",
       "\n",
       "        nav_element.append(button);\n",
       "    }\n",
       "\n",
       "    var fmt_picker_span = $('<span/>');\n",
       "\n",
       "    var fmt_picker = $('<select/>');\n",
       "    fmt_picker.addClass('mpl-toolbar-option ui-widget ui-widget-content');\n",
       "    fmt_picker_span.append(fmt_picker);\n",
       "    nav_element.append(fmt_picker_span);\n",
       "    this.format_dropdown = fmt_picker[0];\n",
       "\n",
       "    for (var ind in mpl.extensions) {\n",
       "        var fmt = mpl.extensions[ind];\n",
       "        var option = $(\n",
       "            '<option/>', {selected: fmt === mpl.default_extension}).html(fmt);\n",
       "        fmt_picker.append(option);\n",
       "    }\n",
       "\n",
       "    // Add hover states to the ui-buttons\n",
       "    $( \".ui-button\" ).hover(\n",
       "        function() { $(this).addClass(\"ui-state-hover\");},\n",
       "        function() { $(this).removeClass(\"ui-state-hover\");}\n",
       "    );\n",
       "\n",
       "    var status_bar = $('<span class=\"mpl-message\"/>');\n",
       "    nav_element.append(status_bar);\n",
       "    this.message = status_bar[0];\n",
       "}\n",
       "\n",
       "mpl.figure.prototype.request_resize = function(x_pixels, y_pixels) {\n",
       "    // Request matplotlib to resize the figure. Matplotlib will then trigger a resize in the client,\n",
       "    // which will in turn request a refresh of the image.\n",
       "    this.send_message('resize', {'width': x_pixels, 'height': y_pixels});\n",
       "}\n",
       "\n",
       "mpl.figure.prototype.send_message = function(type, properties) {\n",
       "    properties['type'] = type;\n",
       "    properties['figure_id'] = this.id;\n",
       "    this.ws.send(JSON.stringify(properties));\n",
       "}\n",
       "\n",
       "mpl.figure.prototype.send_draw_message = function() {\n",
       "    if (!this.waiting) {\n",
       "        this.waiting = true;\n",
       "        this.ws.send(JSON.stringify({type: \"draw\", figure_id: this.id}));\n",
       "    }\n",
       "}\n",
       "\n",
       "\n",
       "mpl.figure.prototype.handle_save = function(fig, msg) {\n",
       "    var format_dropdown = fig.format_dropdown;\n",
       "    var format = format_dropdown.options[format_dropdown.selectedIndex].value;\n",
       "    fig.ondownload(fig, format);\n",
       "}\n",
       "\n",
       "\n",
       "mpl.figure.prototype.handle_resize = function(fig, msg) {\n",
       "    var size = msg['size'];\n",
       "    if (size[0] != fig.canvas.width || size[1] != fig.canvas.height) {\n",
       "        fig._resize_canvas(size[0], size[1]);\n",
       "        fig.send_message(\"refresh\", {});\n",
       "    };\n",
       "}\n",
       "\n",
       "mpl.figure.prototype.handle_rubberband = function(fig, msg) {\n",
       "    var x0 = msg['x0'] / mpl.ratio;\n",
       "    var y0 = (fig.canvas.height - msg['y0']) / mpl.ratio;\n",
       "    var x1 = msg['x1'] / mpl.ratio;\n",
       "    var y1 = (fig.canvas.height - msg['y1']) / mpl.ratio;\n",
       "    x0 = Math.floor(x0) + 0.5;\n",
       "    y0 = Math.floor(y0) + 0.5;\n",
       "    x1 = Math.floor(x1) + 0.5;\n",
       "    y1 = Math.floor(y1) + 0.5;\n",
       "    var min_x = Math.min(x0, x1);\n",
       "    var min_y = Math.min(y0, y1);\n",
       "    var width = Math.abs(x1 - x0);\n",
       "    var height = Math.abs(y1 - y0);\n",
       "\n",
       "    fig.rubberband_context.clearRect(\n",
       "        0, 0, fig.canvas.width / mpl.ratio, fig.canvas.height / mpl.ratio);\n",
       "\n",
       "    fig.rubberband_context.strokeRect(min_x, min_y, width, height);\n",
       "}\n",
       "\n",
       "mpl.figure.prototype.handle_figure_label = function(fig, msg) {\n",
       "    // Updates the figure title.\n",
       "    fig.header.textContent = msg['label'];\n",
       "}\n",
       "\n",
       "mpl.figure.prototype.handle_cursor = function(fig, msg) {\n",
       "    var cursor = msg['cursor'];\n",
       "    switch(cursor)\n",
       "    {\n",
       "    case 0:\n",
       "        cursor = 'pointer';\n",
       "        break;\n",
       "    case 1:\n",
       "        cursor = 'default';\n",
       "        break;\n",
       "    case 2:\n",
       "        cursor = 'crosshair';\n",
       "        break;\n",
       "    case 3:\n",
       "        cursor = 'move';\n",
       "        break;\n",
       "    }\n",
       "    fig.rubberband_canvas.style.cursor = cursor;\n",
       "}\n",
       "\n",
       "mpl.figure.prototype.handle_message = function(fig, msg) {\n",
       "    fig.message.textContent = msg['message'];\n",
       "}\n",
       "\n",
       "mpl.figure.prototype.handle_draw = function(fig, msg) {\n",
       "    // Request the server to send over a new figure.\n",
       "    fig.send_draw_message();\n",
       "}\n",
       "\n",
       "mpl.figure.prototype.handle_image_mode = function(fig, msg) {\n",
       "    fig.image_mode = msg['mode'];\n",
       "}\n",
       "\n",
       "mpl.figure.prototype.updated_canvas_event = function() {\n",
       "    // Called whenever the canvas gets updated.\n",
       "    this.send_message(\"ack\", {});\n",
       "}\n",
       "\n",
       "// A function to construct a web socket function for onmessage handling.\n",
       "// Called in the figure constructor.\n",
       "mpl.figure.prototype._make_on_message_function = function(fig) {\n",
       "    return function socket_on_message(evt) {\n",
       "        if (evt.data instanceof Blob) {\n",
       "            /* FIXME: We get \"Resource interpreted as Image but\n",
       "             * transferred with MIME type text/plain:\" errors on\n",
       "             * Chrome.  But how to set the MIME type?  It doesn't seem\n",
       "             * to be part of the websocket stream */\n",
       "            evt.data.type = \"image/png\";\n",
       "\n",
       "            /* Free the memory for the previous frames */\n",
       "            if (fig.imageObj.src) {\n",
       "                (window.URL || window.webkitURL).revokeObjectURL(\n",
       "                    fig.imageObj.src);\n",
       "            }\n",
       "\n",
       "            fig.imageObj.src = (window.URL || window.webkitURL).createObjectURL(\n",
       "                evt.data);\n",
       "            fig.updated_canvas_event();\n",
       "            fig.waiting = false;\n",
       "            return;\n",
       "        }\n",
       "        else if (typeof evt.data === 'string' && evt.data.slice(0, 21) == \"data:image/png;base64\") {\n",
       "            fig.imageObj.src = evt.data;\n",
       "            fig.updated_canvas_event();\n",
       "            fig.waiting = false;\n",
       "            return;\n",
       "        }\n",
       "\n",
       "        var msg = JSON.parse(evt.data);\n",
       "        var msg_type = msg['type'];\n",
       "\n",
       "        // Call the  \"handle_{type}\" callback, which takes\n",
       "        // the figure and JSON message as its only arguments.\n",
       "        try {\n",
       "            var callback = fig[\"handle_\" + msg_type];\n",
       "        } catch (e) {\n",
       "            console.log(\"No handler for the '\" + msg_type + \"' message type: \", msg);\n",
       "            return;\n",
       "        }\n",
       "\n",
       "        if (callback) {\n",
       "            try {\n",
       "                // console.log(\"Handling '\" + msg_type + \"' message: \", msg);\n",
       "                callback(fig, msg);\n",
       "            } catch (e) {\n",
       "                console.log(\"Exception inside the 'handler_\" + msg_type + \"' callback:\", e, e.stack, msg);\n",
       "            }\n",
       "        }\n",
       "    };\n",
       "}\n",
       "\n",
       "// from http://stackoverflow.com/questions/1114465/getting-mouse-location-in-canvas\n",
       "mpl.findpos = function(e) {\n",
       "    //this section is from http://www.quirksmode.org/js/events_properties.html\n",
       "    var targ;\n",
       "    if (!e)\n",
       "        e = window.event;\n",
       "    if (e.target)\n",
       "        targ = e.target;\n",
       "    else if (e.srcElement)\n",
       "        targ = e.srcElement;\n",
       "    if (targ.nodeType == 3) // defeat Safari bug\n",
       "        targ = targ.parentNode;\n",
       "\n",
       "    // jQuery normalizes the pageX and pageY\n",
       "    // pageX,Y are the mouse positions relative to the document\n",
       "    // offset() returns the position of the element relative to the document\n",
       "    var x = e.pageX - $(targ).offset().left;\n",
       "    var y = e.pageY - $(targ).offset().top;\n",
       "\n",
       "    return {\"x\": x, \"y\": y};\n",
       "};\n",
       "\n",
       "/*\n",
       " * return a copy of an object with only non-object keys\n",
       " * we need this to avoid circular references\n",
       " * http://stackoverflow.com/a/24161582/3208463\n",
       " */\n",
       "function simpleKeys (original) {\n",
       "  return Object.keys(original).reduce(function (obj, key) {\n",
       "    if (typeof original[key] !== 'object')\n",
       "        obj[key] = original[key]\n",
       "    return obj;\n",
       "  }, {});\n",
       "}\n",
       "\n",
       "mpl.figure.prototype.mouse_event = function(event, name) {\n",
       "    var canvas_pos = mpl.findpos(event)\n",
       "\n",
       "    if (name === 'button_press')\n",
       "    {\n",
       "        this.canvas.focus();\n",
       "        this.canvas_div.focus();\n",
       "    }\n",
       "\n",
       "    var x = canvas_pos.x * mpl.ratio;\n",
       "    var y = canvas_pos.y * mpl.ratio;\n",
       "\n",
       "    this.send_message(name, {x: x, y: y, button: event.button,\n",
       "                             step: event.step,\n",
       "                             guiEvent: simpleKeys(event)});\n",
       "\n",
       "    /* This prevents the web browser from automatically changing to\n",
       "     * the text insertion cursor when the button is pressed.  We want\n",
       "     * to control all of the cursor setting manually through the\n",
       "     * 'cursor' event from matplotlib */\n",
       "    event.preventDefault();\n",
       "    return false;\n",
       "}\n",
       "\n",
       "mpl.figure.prototype._key_event_extra = function(event, name) {\n",
       "    // Handle any extra behaviour associated with a key event\n",
       "}\n",
       "\n",
       "mpl.figure.prototype.key_event = function(event, name) {\n",
       "\n",
       "    // Prevent repeat events\n",
       "    if (name == 'key_press')\n",
       "    {\n",
       "        if (event.which === this._key)\n",
       "            return;\n",
       "        else\n",
       "            this._key = event.which;\n",
       "    }\n",
       "    if (name == 'key_release')\n",
       "        this._key = null;\n",
       "\n",
       "    var value = '';\n",
       "    if (event.ctrlKey && event.which != 17)\n",
       "        value += \"ctrl+\";\n",
       "    if (event.altKey && event.which != 18)\n",
       "        value += \"alt+\";\n",
       "    if (event.shiftKey && event.which != 16)\n",
       "        value += \"shift+\";\n",
       "\n",
       "    value += 'k';\n",
       "    value += event.which.toString();\n",
       "\n",
       "    this._key_event_extra(event, name);\n",
       "\n",
       "    this.send_message(name, {key: value,\n",
       "                             guiEvent: simpleKeys(event)});\n",
       "    return false;\n",
       "}\n",
       "\n",
       "mpl.figure.prototype.toolbar_button_onclick = function(name) {\n",
       "    if (name == 'download') {\n",
       "        this.handle_save(this, null);\n",
       "    } else {\n",
       "        this.send_message(\"toolbar_button\", {name: name});\n",
       "    }\n",
       "};\n",
       "\n",
       "mpl.figure.prototype.toolbar_button_onmouseover = function(tooltip) {\n",
       "    this.message.textContent = tooltip;\n",
       "};\n",
       "mpl.toolbar_items = [[\"Home\", \"Reset original view\", \"fa fa-home icon-home\", \"home\"], [\"Back\", \"Back to previous view\", \"fa fa-arrow-left icon-arrow-left\", \"back\"], [\"Forward\", \"Forward to next view\", \"fa fa-arrow-right icon-arrow-right\", \"forward\"], [\"\", \"\", \"\", \"\"], [\"Pan\", \"Pan axes with left mouse, zoom with right\", \"fa fa-arrows icon-move\", \"pan\"], [\"Zoom\", \"Zoom to rectangle\", \"fa fa-square-o icon-check-empty\", \"zoom\"], [\"\", \"\", \"\", \"\"], [\"Download\", \"Download plot\", \"fa fa-floppy-o icon-save\", \"download\"]];\n",
       "\n",
       "mpl.extensions = [\"eps\", \"pdf\", \"png\", \"ps\", \"raw\", \"svg\"];\n",
       "\n",
       "mpl.default_extension = \"png\";var comm_websocket_adapter = function(comm) {\n",
       "    // Create a \"websocket\"-like object which calls the given IPython comm\n",
       "    // object with the appropriate methods. Currently this is a non binary\n",
       "    // socket, so there is still some room for performance tuning.\n",
       "    var ws = {};\n",
       "\n",
       "    ws.close = function() {\n",
       "        comm.close()\n",
       "    };\n",
       "    ws.send = function(m) {\n",
       "        //console.log('sending', m);\n",
       "        comm.send(m);\n",
       "    };\n",
       "    // Register the callback with on_msg.\n",
       "    comm.on_msg(function(msg) {\n",
       "        //console.log('receiving', msg['content']['data'], msg);\n",
       "        // Pass the mpl event to the overridden (by mpl) onmessage function.\n",
       "        ws.onmessage(msg['content']['data'])\n",
       "    });\n",
       "    return ws;\n",
       "}\n",
       "\n",
       "mpl.mpl_figure_comm = function(comm, msg) {\n",
       "    // This is the function which gets called when the mpl process\n",
       "    // starts-up an IPython Comm through the \"matplotlib\" channel.\n",
       "\n",
       "    var id = msg.content.data.id;\n",
       "    // Get hold of the div created by the display call when the Comm\n",
       "    // socket was opened in Python.\n",
       "    var element = $(\"#\" + id);\n",
       "    var ws_proxy = comm_websocket_adapter(comm)\n",
       "\n",
       "    function ondownload(figure, format) {\n",
       "        window.open(figure.imageObj.src);\n",
       "    }\n",
       "\n",
       "    var fig = new mpl.figure(id, ws_proxy,\n",
       "                           ondownload,\n",
       "                           element.get(0));\n",
       "\n",
       "    // Call onopen now - mpl needs it, as it is assuming we've passed it a real\n",
       "    // web socket which is closed, not our websocket->open comm proxy.\n",
       "    ws_proxy.onopen();\n",
       "\n",
       "    fig.parent_element = element.get(0);\n",
       "    fig.cell_info = mpl.find_output_cell(\"<div id='\" + id + \"'></div>\");\n",
       "    if (!fig.cell_info) {\n",
       "        console.error(\"Failed to find cell for figure\", id, fig);\n",
       "        return;\n",
       "    }\n",
       "\n",
       "    var output_index = fig.cell_info[2]\n",
       "    var cell = fig.cell_info[0];\n",
       "\n",
       "};\n",
       "\n",
       "mpl.figure.prototype.handle_close = function(fig, msg) {\n",
       "    var width = fig.canvas.width/mpl.ratio\n",
       "    fig.root.unbind('remove')\n",
       "\n",
       "    // Update the output cell to use the data from the current canvas.\n",
       "    fig.push_to_output();\n",
       "    var dataURL = fig.canvas.toDataURL();\n",
       "    // Re-enable the keyboard manager in IPython - without this line, in FF,\n",
       "    // the notebook keyboard shortcuts fail.\n",
       "    IPython.keyboard_manager.enable()\n",
       "    $(fig.parent_element).html('<img src=\"' + dataURL + '\" width=\"' + width + '\">');\n",
       "    fig.close_ws(fig, msg);\n",
       "}\n",
       "\n",
       "mpl.figure.prototype.close_ws = function(fig, msg){\n",
       "    fig.send_message('closing', msg);\n",
       "    // fig.ws.close()\n",
       "}\n",
       "\n",
       "mpl.figure.prototype.push_to_output = function(remove_interactive) {\n",
       "    // Turn the data on the canvas into data in the output cell.\n",
       "    var width = this.canvas.width/mpl.ratio\n",
       "    var dataURL = this.canvas.toDataURL();\n",
       "    this.cell_info[1]['text/html'] = '<img src=\"' + dataURL + '\" width=\"' + width + '\">';\n",
       "}\n",
       "\n",
       "mpl.figure.prototype.updated_canvas_event = function() {\n",
       "    // Tell IPython that the notebook contents must change.\n",
       "    IPython.notebook.set_dirty(true);\n",
       "    this.send_message(\"ack\", {});\n",
       "    var fig = this;\n",
       "    // Wait a second, then push the new image to the DOM so\n",
       "    // that it is saved nicely (might be nice to debounce this).\n",
       "    setTimeout(function () { fig.push_to_output() }, 1000);\n",
       "}\n",
       "\n",
       "mpl.figure.prototype._init_toolbar = function() {\n",
       "    var fig = this;\n",
       "\n",
       "    var nav_element = $('<div/>');\n",
       "    nav_element.attr('style', 'width: 100%');\n",
       "    this.root.append(nav_element);\n",
       "\n",
       "    // Define a callback function for later on.\n",
       "    function toolbar_event(event) {\n",
       "        return fig.toolbar_button_onclick(event['data']);\n",
       "    }\n",
       "    function toolbar_mouse_event(event) {\n",
       "        return fig.toolbar_button_onmouseover(event['data']);\n",
       "    }\n",
       "\n",
       "    for(var toolbar_ind in mpl.toolbar_items){\n",
       "        var name = mpl.toolbar_items[toolbar_ind][0];\n",
       "        var tooltip = mpl.toolbar_items[toolbar_ind][1];\n",
       "        var image = mpl.toolbar_items[toolbar_ind][2];\n",
       "        var method_name = mpl.toolbar_items[toolbar_ind][3];\n",
       "\n",
       "        if (!name) { continue; };\n",
       "\n",
       "        var button = $('<button class=\"btn btn-default\" href=\"#\" title=\"' + name + '\"><i class=\"fa ' + image + ' fa-lg\"></i></button>');\n",
       "        button.click(method_name, toolbar_event);\n",
       "        button.mouseover(tooltip, toolbar_mouse_event);\n",
       "        nav_element.append(button);\n",
       "    }\n",
       "\n",
       "    // Add the status bar.\n",
       "    var status_bar = $('<span class=\"mpl-message\" style=\"text-align:right; float: right;\"/>');\n",
       "    nav_element.append(status_bar);\n",
       "    this.message = status_bar[0];\n",
       "\n",
       "    // Add the close button to the window.\n",
       "    var buttongrp = $('<div class=\"btn-group inline pull-right\"></div>');\n",
       "    var button = $('<button class=\"btn btn-mini btn-primary\" href=\"#\" title=\"Stop Interaction\"><i class=\"fa fa-power-off icon-remove icon-large\"></i></button>');\n",
       "    button.click(function (evt) { fig.handle_close(fig, {}); } );\n",
       "    button.mouseover('Stop Interaction', toolbar_mouse_event);\n",
       "    buttongrp.append(button);\n",
       "    var titlebar = this.root.find($('.ui-dialog-titlebar'));\n",
       "    titlebar.prepend(buttongrp);\n",
       "}\n",
       "\n",
       "mpl.figure.prototype._root_extra_style = function(el){\n",
       "    var fig = this\n",
       "    el.on(\"remove\", function(){\n",
       "\tfig.close_ws(fig, {});\n",
       "    });\n",
       "}\n",
       "\n",
       "mpl.figure.prototype._canvas_extra_style = function(el){\n",
       "    // this is important to make the div 'focusable\n",
       "    el.attr('tabindex', 0)\n",
       "    // reach out to IPython and tell the keyboard manager to turn it's self\n",
       "    // off when our div gets focus\n",
       "\n",
       "    // location in version 3\n",
       "    if (IPython.notebook.keyboard_manager) {\n",
       "        IPython.notebook.keyboard_manager.register_events(el);\n",
       "    }\n",
       "    else {\n",
       "        // location in version 2\n",
       "        IPython.keyboard_manager.register_events(el);\n",
       "    }\n",
       "\n",
       "}\n",
       "\n",
       "mpl.figure.prototype._key_event_extra = function(event, name) {\n",
       "    var manager = IPython.notebook.keyboard_manager;\n",
       "    if (!manager)\n",
       "        manager = IPython.keyboard_manager;\n",
       "\n",
       "    // Check for shift+enter\n",
       "    if (event.shiftKey && event.which == 13) {\n",
       "        this.canvas_div.blur();\n",
       "        // select the cell after this one\n",
       "        var index = IPython.notebook.find_cell_index(this.cell_info[0]);\n",
       "        IPython.notebook.select(index + 1);\n",
       "    }\n",
       "}\n",
       "\n",
       "mpl.figure.prototype.handle_save = function(fig, msg) {\n",
       "    fig.ondownload(fig, null);\n",
       "}\n",
       "\n",
       "\n",
       "mpl.find_output_cell = function(html_output) {\n",
       "    // Return the cell and output element which can be found *uniquely* in the notebook.\n",
       "    // Note - this is a bit hacky, but it is done because the \"notebook_saving.Notebook\"\n",
       "    // IPython event is triggered only after the cells have been serialised, which for\n",
       "    // our purposes (turning an active figure into a static one), is too late.\n",
       "    var cells = IPython.notebook.get_cells();\n",
       "    var ncells = cells.length;\n",
       "    for (var i=0; i<ncells; i++) {\n",
       "        var cell = cells[i];\n",
       "        if (cell.cell_type === 'code'){\n",
       "            for (var j=0; j<cell.output_area.outputs.length; j++) {\n",
       "                var data = cell.output_area.outputs[j];\n",
       "                if (data.data) {\n",
       "                    // IPython >= 3 moved mimebundle to data attribute of output\n",
       "                    data = data.data;\n",
       "                }\n",
       "                if (data['text/html'] == html_output) {\n",
       "                    return [cell, data, j];\n",
       "                }\n",
       "            }\n",
       "        }\n",
       "    }\n",
       "}\n",
       "\n",
       "// Register the function which deals with the matplotlib target/channel.\n",
       "// The kernel may be null if the page has been refreshed.\n",
       "if (IPython.notebook.kernel != null) {\n",
       "    IPython.notebook.kernel.comm_manager.register_target('matplotlib', mpl.mpl_figure_comm);\n",
       "}\n"
      ],
      "text/plain": [
       "<IPython.core.display.Javascript object>"
      ]
     },
     "metadata": {},
     "output_type": "display_data"
    },
    {
     "data": {
      "text/html": [
       "<img src=\"data:image/png;base64,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\" width=\"240\">"
      ],
      "text/plain": [
       "<IPython.core.display.HTML object>"
      ]
     },
     "metadata": {},
     "output_type": "display_data"
    }
   ],
   "source": [
    "nd_eri0_ao = NumericDiff(gradn, lambda gradh: gradh.eri0_ao).derivative\n",
    "plot_diff(eri1_ao, nd_eri0_ao)"
   ]
  },
  {
   "cell_type": "markdown",
   "metadata": {
    "hidden": true
   },
   "source": [
    "- `eri1_mo` $(pq|rs)^{A_t}$; dim: $(A, t, p, q, r, s)$ in document, $(A_t, p, q, r, s)$ in pyxdh; symm: $(pq|rs)^{A_t} = (pq|sr)^{A_t} = (rs|pq)^{A_t}$ (8-fold)\n",
    "\n",
    "$$\n",
    "(pq|rs)^{A_t} = C_{\\mu p} C_{\\nu q} (\\mu \\nu | \\kappa \\lambda)^{A_t} C_{\\kappa r} C_{\\lambda s}\n",
    "$$"
   ]
  },
  {
   "cell_type": "code",
   "execution_count": 50,
   "metadata": {
    "hidden": true
   },
   "outputs": [
    {
     "data": {
      "text/plain": [
       "(4, 3, 22, 22, 22, 22)"
      ]
     },
     "execution_count": 50,
     "metadata": {},
     "output_type": "execute_result"
    }
   ],
   "source": [
    "eri1_mo = np.einsum(\"up, vq, Atuvkl, kr, ls -> Atpqrs\", C, C, eri1_ao, C, C)\n",
    "eri1_mo.shape"
   ]
  },
  {
   "cell_type": "code",
   "execution_count": 51,
   "metadata": {
    "hidden": true
   },
   "outputs": [
    {
     "data": {
      "text/plain": [
       "True"
      ]
     },
     "execution_count": 51,
     "metadata": {},
     "output_type": "execute_result"
    }
   ],
   "source": [
    "np.allclose(eri1_mo, eri1_mo.swapaxes(-1, -2))  # symm check"
   ]
  },
  {
   "cell_type": "code",
   "execution_count": 52,
   "metadata": {
    "hidden": true
   },
   "outputs": [
    {
     "data": {
      "text/plain": [
       "True"
      ]
     },
     "execution_count": 52,
     "metadata": {},
     "output_type": "execute_result"
    }
   ],
   "source": [
    "np.allclose(eri1_mo, eri1_mo.swapaxes(-3, -4))  # symm check"
   ]
  },
  {
   "cell_type": "code",
   "execution_count": 53,
   "metadata": {
    "hidden": true
   },
   "outputs": [
    {
     "data": {
      "text/plain": [
       "True"
      ]
     },
     "execution_count": 53,
     "metadata": {},
     "output_type": "execute_result"
    }
   ],
   "source": [
    "np.allclose(eri1_mo, eri1_mo.swapaxes(-1, -3).swapaxes(-2, -4))  # symm check"
   ]
  },
  {
   "cell_type": "code",
   "execution_count": 54,
   "metadata": {
    "hidden": true
   },
   "outputs": [
    {
     "data": {
      "text/plain": [
       "True"
      ]
     },
     "execution_count": 54,
     "metadata": {},
     "output_type": "execute_result"
    }
   ],
   "source": [
    "np.allclose(eri1_mo, gradh.eri1_mo.reshape(natm, 3, nao, nao, nao, nao))  # pyxdh approach"
   ]
  },
  {
   "cell_type": "markdown",
   "metadata": {
    "heading_collapsed": true
   },
   "source": [
    "### `A_rho_1` $\\rho^{A_t}$ Density Grid Skeleton"
   ]
  },
  {
   "cell_type": "markdown",
   "metadata": {
    "hidden": true
   },
   "source": [
    "- `A_rho_1` $\\rho^{A_t}$; dim: $(A, t, g)$\n",
    "\n",
    "$$\n",
    "\\rho^{A_t} = - 2 \\phi_{t \\mu_A} \\phi_\\nu D_{\\mu \\nu}\n",
    "$$"
   ]
  },
  {
   "cell_type": "code",
   "execution_count": 55,
   "metadata": {
    "hidden": true
   },
   "outputs": [
    {
     "data": {
      "text/plain": [
       "(4, 3, 90600)"
      ]
     },
     "execution_count": 55,
     "metadata": {},
     "output_type": "execute_result"
    }
   ],
   "source": [
    "A_rho_1 = np.zeros((natm, 3, grdh.ngrid))\n",
    "for A in range(natm):\n",
    "    sA = mol_slice(A)\n",
    "    A_rho_1[A] = - 2 * np.einsum(\"tgu, gv, uv -> tg\", ao_1[:, :, sA], ao_0, D[sA])\n",
    "A_rho_1.shape"
   ]
  },
  {
   "cell_type": "code",
   "execution_count": 56,
   "metadata": {
    "hidden": true
   },
   "outputs": [
    {
     "data": {
      "text/plain": [
       "True"
      ]
     },
     "execution_count": 56,
     "metadata": {},
     "output_type": "execute_result"
    }
   ],
   "source": [
    "np.allclose(A_rho_1, grdh.A_rho_1)  # pyxdh approach"
   ]
  },
  {
   "cell_type": "markdown",
   "metadata": {
    "heading_collapsed": true
   },
   "source": [
    "### `A_rho_2` $\\rho_r^{A_t}$ Density Derivative Grid Skeleton"
   ]
  },
  {
   "cell_type": "markdown",
   "metadata": {
    "hidden": true
   },
   "source": [
    "- `A_rho_2` $\\rho_r^{A_t}$; dim: $(A, t, r, g)$\n",
    "\n",
    "$$\n",
    "\\rho_r^{A_t} = - 2 \\phi_{tr \\mu_A} \\phi_\\nu D_{\\mu \\nu} - 2 \\phi_{r \\mu} \\phi_{t \\nu_A} D_{\\mu \\nu}\n",
    "$$"
   ]
  },
  {
   "cell_type": "code",
   "execution_count": 57,
   "metadata": {
    "hidden": true
   },
   "outputs": [
    {
     "data": {
      "text/plain": [
       "(4, 3, 3, 90600)"
      ]
     },
     "execution_count": 57,
     "metadata": {},
     "output_type": "execute_result"
    }
   ],
   "source": [
    "A_rho_2 = np.zeros((natm, 3, 3, grdh.ngrid))\n",
    "for A in range(natm):\n",
    "    sA = mol_slice(A)\n",
    "    A_rho_2[A]  = - 2 * np.einsum(\"trgu, gv, uv -> trg\", ao_2[:, :, :, sA], ao_0, D[sA])\n",
    "    A_rho_2[A] += - 2 * np.einsum(\"rgu, tgv, uv -> trg\", ao_1, ao_1[:, :, sA], D[:, sA])\n",
    "A_rho_2.shape"
   ]
  },
  {
   "cell_type": "code",
   "execution_count": 58,
   "metadata": {
    "hidden": true,
    "scrolled": true
   },
   "outputs": [
    {
     "data": {
      "text/plain": [
       "True"
      ]
     },
     "execution_count": 58,
     "metadata": {},
     "output_type": "execute_result"
    }
   ],
   "source": [
    "np.allclose(A_rho_2, grdh.A_rho_2)  # pyxdh approach"
   ]
  },
  {
   "cell_type": "markdown",
   "metadata": {
    "heading_collapsed": true
   },
   "source": [
    "### `A_gamma_1` $\\gamma^{A_t}$ Skeleton"
   ]
  },
  {
   "cell_type": "markdown",
   "metadata": {
    "hidden": true
   },
   "source": [
    "- `A_gamma_1` $\\gamma^{A_t}$; dim: $(A, t, g)$\n",
    "\n",
    "$$\n",
    "\\gamma^{A_t} = 2 \\rho_r \\rho_r^{A_t}\n",
    "$$"
   ]
  },
  {
   "cell_type": "code",
   "execution_count": 59,
   "metadata": {
    "hidden": true
   },
   "outputs": [
    {
     "data": {
      "text/plain": [
       "(4, 3, 90600)"
      ]
     },
     "execution_count": 59,
     "metadata": {},
     "output_type": "execute_result"
    }
   ],
   "source": [
    "A_gamma_1 = 2 * np.einsum(\"rg, Atrg -> Atg\", rho_1, A_rho_2)\n",
    "A_gamma_1.shape"
   ]
  },
  {
   "cell_type": "code",
   "execution_count": 60,
   "metadata": {
    "hidden": true
   },
   "outputs": [
    {
     "data": {
      "text/plain": [
       "True"
      ]
     },
     "execution_count": 60,
     "metadata": {},
     "output_type": "execute_result"
    }
   ],
   "source": [
    "np.allclose(A_gamma_1, grdh.A_gamma_1)  # pyxdh approach"
   ]
  },
  {
   "cell_type": "markdown",
   "metadata": {
    "heading_collapsed": true
   },
   "source": [
    "### `F_1_ao` $F_{\\mu \\nu}^{A_t}$ (Self-consistent) Fock Skeleton"
   ]
  },
  {
   "cell_type": "markdown",
   "metadata": {
    "hidden": true
   },
   "source": [
    "- `F_1_ao_GGA` $v_{\\mu \\nu}^\\mathrm{xc}$; dim: $(A, t, \\mu, \\nu)$; symm: $v_{\\mu \\nu}^\\mathrm{xc} = v_{\\nu \\mu}^\\mathrm{xc}$\n",
    "\n",
    "$$\n",
    "\\begin{align}\n",
    "\\partial_{A_t} v_{\\mu \\nu}^\\mathrm{xc}\n",
    "&= \\frac{1}{2} f_{\\rho \\rho} \\rho^{A_t} \\phi_\\mu \\phi_\\nu + \\frac{1}{2} f_{\\rho \\gamma} \\gamma^{A_t} \\phi_\\mu \\phi_\\nu \\\\\n",
    "&\\quad + 2 f_{\\rho \\gamma} \\rho^{A_t} \\rho_r \\phi_{r \\mu} \\phi_{\\nu} + 2 f_{\\gamma \\gamma} \\gamma^{A_t} \\rho_r \\phi_{r \\mu} \\phi_{\\nu} \\\\\n",
    "&\\quad + 2 f_\\gamma \\rho_r^{A_t} \\phi_{r \\mu} \\phi_{\\nu} \\\\\n",
    "&\\quad - f_\\rho \\phi_{t \\mu_A} \\phi_\\nu - 2 f_\\gamma \\rho_r \\phi_{tr \\mu_A} \\phi_{\\nu} - 2 f_\\gamma \\rho_r \\phi_{t \\mu_A} \\phi_{r \\nu}\n",
    "\\end{align}\n",
    "$$"
   ]
  },
  {
   "cell_type": "code",
   "execution_count": 61,
   "metadata": {
    "hidden": true
   },
   "outputs": [
    {
     "data": {
      "text/plain": [
       "(4, 3, 22, 22)"
      ]
     },
     "execution_count": 61,
     "metadata": {},
     "output_type": "execute_result"
    }
   ],
   "source": [
    "F_1_ao_GGA = (\n",
    "    + 0.5 * np.einsum(\"g, Atg, gu, gv -> Atuv\", kerh.frr, A_rho_1, ao_0, ao_0)\n",
    "    + 0.5 * np.einsum(\"g, Atg, gu, gv -> Atuv\", kerh.frg, A_gamma_1, ao_0, ao_0)\n",
    "    + 2 * np.einsum(\"g, Atg, rg, rgu, gv -> Atuv\", kerh.frg, A_rho_1, rho_1, ao_1, ao_0)\n",
    "    + 2 * np.einsum(\"g, Atg, rg, rgu, gv -> Atuv\", kerh.fgg, A_gamma_1, rho_1, ao_1, ao_0)\n",
    "    + 2 * np.einsum(\"g, Atrg, rgu, gv -> Atuv\", kerh.fg, A_rho_2, ao_1, ao_0)\n",
    ")\n",
    "for A in range(natm):\n",
    "    sA = mol_slice(A)\n",
    "    F_1_ao_GGA[A, :, sA, :] -= np.einsum(\"g, tgu, gv -> tuv\", kerh.fr, ao_1[:, :, sA], ao_0)\n",
    "    F_1_ao_GGA[A, :, sA, :] -= 2 * np.einsum(\"g, rg, trgu, gv -> tuv\", kerh.fg, rho_1, ao_2[:, :, :, sA], ao_0)\n",
    "    F_1_ao_GGA[A, :, sA, :] -= 2 * np.einsum(\"g, rg, tgu, rgv -> tuv\", kerh.fg, rho_1, ao_1[:, :, sA], ao_1)\n",
    "F_1_ao_GGA += F_1_ao_GGA.swapaxes(-1, -2)  # swap (u, v)\n",
    "F_1_ao_GGA.shape"
   ]
  },
  {
   "cell_type": "code",
   "execution_count": 62,
   "metadata": {
    "hidden": true
   },
   "outputs": [
    {
     "data": {
      "text/plain": [
       "True"
      ]
     },
     "execution_count": 62,
     "metadata": {},
     "output_type": "execute_result"
    }
   ],
   "source": [
    "np.allclose(F_1_ao_GGA, F_1_ao_GGA.swapaxes(-1, -2))  # symm check"
   ]
  },
  {
   "cell_type": "markdown",
   "metadata": {
    "hidden": true
   },
   "source": [
    "- `F_1_ao` $F_{\\mu \\nu}^{A_t}$; dim: $(A, t, \\mu, \\nu)$ in document, $(A_t, \\mu, \\nu)$ in pyxdh; symm: $F_{\\mu \\nu}^{A_t} = F_{\\nu \\mu}^{A_t}$\n",
    "\n",
    "$$\n",
    "F_{\\mu \\nu}^{A_t} = h_{\\mu \\nu}^{A_t} + (\\mu \\nu | \\kappa \\lambda)^{A_t} D_{\\kappa \\lambda} - \\frac{c_\\mathrm{x}}{2} (\\mu \\kappa | \\nu \\lambda)^{A_t} D_{\\kappa \\lambda} + v_{\\mu \\nu}^{\\mathrm{xc}, A_t}\n",
    "$$"
   ]
  },
  {
   "cell_type": "code",
   "execution_count": 63,
   "metadata": {
    "hidden": true
   },
   "outputs": [
    {
     "data": {
      "text/plain": [
       "(4, 3, 22, 22)"
      ]
     },
     "execution_count": 63,
     "metadata": {},
     "output_type": "execute_result"
    }
   ],
   "source": [
    "F_1_ao = (\n",
    "    + H_1_ao\n",
    "    + np.einsum(\"Atuvkl, kl -> Atuv\", eri1_ao, D)\n",
    "    - 0.5 * cx * np.einsum(\"Atukvl, kl -> Atuv\", eri1_ao, D)\n",
    "    + F_1_ao_GGA\n",
    ")\n",
    "F_1_ao.shape"
   ]
  },
  {
   "cell_type": "code",
   "execution_count": 64,
   "metadata": {
    "hidden": true
   },
   "outputs": [
    {
     "data": {
      "text/plain": [
       "True"
      ]
     },
     "execution_count": 64,
     "metadata": {},
     "output_type": "execute_result"
    }
   ],
   "source": [
    "np.allclose(F_1_ao, F_1_ao.swapaxes(-1, -2))  # symm check"
   ]
  },
  {
   "cell_type": "code",
   "execution_count": 65,
   "metadata": {
    "hidden": true
   },
   "outputs": [
    {
     "data": {
      "text/plain": [
       "True"
      ]
     },
     "execution_count": 65,
     "metadata": {},
     "output_type": "execute_result"
    }
   ],
   "source": [
    "np.allclose(F_1_ao, gradh.F_1_ao.reshape(natm, 3, nao, nao))  # pyxdh approach"
   ]
  },
  {
   "cell_type": "code",
   "execution_count": 66,
   "metadata": {
    "hidden": true
   },
   "outputs": [
    {
     "data": {
      "text/plain": [
       "True"
      ]
     },
     "execution_count": 66,
     "metadata": {},
     "output_type": "execute_result"
    }
   ],
   "source": [
    "np.allclose(F_1_ao, np.array(hessian.rks.Hessian(scf_eng).make_h1(C, gradh.mo_occ)))  # PySCF approach"
   ]
  },
  {
   "cell_type": "markdown",
   "metadata": {
    "hidden": true
   },
   "source": [
    "- `F_1_mo` $F_{pq}^{A_t}$; dim: $(A, t, p, q)$ in document, $(A_t, p, q)$ in pyxdh; summ: $F_{pq}^{A_t} = F_{qp}^{A_t}$\n",
    "\n",
    "$$\n",
    "F_{pq}^{A_t} = C_{\\mu p} F_{\\mu \\nu}^{A_t} C_{\\nu q}\n",
    "$$"
   ]
  },
  {
   "cell_type": "code",
   "execution_count": 67,
   "metadata": {
    "hidden": true
   },
   "outputs": [
    {
     "data": {
      "text/plain": [
       "(4, 3, 22, 22)"
      ]
     },
     "execution_count": 67,
     "metadata": {},
     "output_type": "execute_result"
    }
   ],
   "source": [
    "F_1_mo = np.einsum(\"up, Atuv, vq -> Atpq\", C, F_1_ao, C)\n",
    "F_1_mo.shape"
   ]
  },
  {
   "cell_type": "code",
   "execution_count": 68,
   "metadata": {
    "hidden": true
   },
   "outputs": [
    {
     "data": {
      "text/plain": [
       "True"
      ]
     },
     "execution_count": 68,
     "metadata": {},
     "output_type": "execute_result"
    }
   ],
   "source": [
    "np.allclose(F_1_mo, F_1_mo.swapaxes(-1, -2))  # symm check"
   ]
  },
  {
   "cell_type": "code",
   "execution_count": 69,
   "metadata": {
    "hidden": true
   },
   "outputs": [
    {
     "data": {
      "text/plain": [
       "True"
      ]
     },
     "execution_count": 69,
     "metadata": {},
     "output_type": "execute_result"
    }
   ],
   "source": [
    "np.allclose(F_1_mo, gradh.F_1_mo.reshape(natm, 3, nmo, nmo))  # pyxdh approach"
   ]
  },
  {
   "cell_type": "markdown",
   "metadata": {
    "heading_collapsed": true
   },
   "source": [
    "### `Ax0_Core` $A_{pq, rs}$ (Self-consistent) A Tensor (G Response) Contraction"
   ]
  },
  {
   "cell_type": "markdown",
   "metadata": {
    "hidden": true
   },
   "source": [
    "- `Ax0_Core` $A_{pq, rs}$ tensor contraction: input $X_{rs}^\\mathbb{A}$ $(\\mathbb{A}, r, s)$, output $A_{pq, rs} X_{rs}^\\mathbb{A}$ $(\\mathbb{A}, p, q)$, where here $p, q, r, s$ does not necessarily mean all molecular orbitals\n",
    "\n",
    "- function initialization `sp, sq, sr, ss` orbital slice of $p, q, r, s$\n",
    "\n",
    "    - `dmX` $X_{\\kappa \\lambda}^\\mathbb{A} = C_{\\kappa r} X_{rs}^\\mathbb{X} C_{\\lambda} + \\mathrm{swap} (\\kappa, \\lambda)$; dim $(\\mathbb{A}, \\kappa, \\lambda)$\n",
    "    \n",
    "    - `rho_X_0` $\\varrho^\\mathbb{A} = X_{\\kappa \\lambda}^\\mathbb{A} \\phi_\\kappa \\phi_\\lambda$; dim $(\\mathbb{A}, g)$\n",
    "    \n",
    "    - `rho_X_1` $\\varrho_r^\\mathbb{A} = 2 X_{\\kappa \\lambda}^\\mathbb{A} \\phi_{r \\kappa} \\phi_\\lambda$; dim $(\\mathbb{A}, r, g)$\n",
    "    \n",
    "    - `gamma_XD` $\\varrho_w^\\mathbb{A} \\rho_w$, index $w$ summed; dim $(\\mathbb{A}, g)$\n",
    "    \n",
    "    - `M_0` $M^\\mathbb{A} = f_{\\rho \\rho} \\varrho^\\mathbb{A} + 2 f_{\\rho \\gamma} (\\varrho_w^\\mathbb{A} \\rho_w)$; dim $(\\mathbb{A}, g)$\n",
    "    \n",
    "    - `M_1` $M_r^\\mathbb{A} = 4 f_{\\rho \\gamma} \\varrho^\\mathbb{A} \\rho_r + 8 f_{\\rho \\gamma} (\\varrho_w^\\mathbb{A} \\rho_w) \\rho_r + 4 f_\\gamma \\varrho_r^\\mathbb{A}$; dim $(\\mathbb{A}, r, g)$\n",
    "    \n",
    "    - `ax_ao` $A_{\\mu \\nu, \\kappa \\lambda} X_{\\kappa \\lambda}^\\mathbb{A}$; dim $(\\mathbb{A}, \\mu, \\nu)$\n",
    "    \n",
    "        $$\n",
    "        A_{\\mu \\nu, \\kappa \\lambda} X_{\\kappa \\lambda}^\\mathbb{A} = (\\mu \\nu | \\kappa \\lambda) X_{\\kappa \\lambda}^\\mathbb{A} - \\frac{c_\\mathrm{x}}{2} (\\mu \\kappa | \\nu \\lambda) X_{\\kappa \\lambda}^\\mathbb{A} + M^\\mathbb{A} \\phi_\\mu \\phi_\\nu + M_r^\\mathbb{A} \\phi_{r \\mu} \\phi_\\nu + \\mathrm{swap} (\\mu, \\nu)\n",
    "        $$\n",
    "    \n",
    "    - `ax_mo` $A_{pq, rs} X_{rs}^\\mathbb{A}$; dim $(\\mathbb{A}, p, q)$"
   ]
  },
  {
   "cell_type": "code",
   "execution_count": 70,
   "metadata": {
    "hidden": true
   },
   "outputs": [],
   "source": [
    "def Ax0_Core(sp, sq, sr, ss):\n",
    "    def fx(X):\n",
    "        X_ = X.view().reshape(-1, X.shape[-2], X.shape[-1])\n",
    "        dmX = C[:, sr] @ X_ @ C[:, ss].T\n",
    "        dmX += dmX.swapaxes(-1, -2)\n",
    "        tmp_K = np.einsum(\"Akl, gl -> Agk\", dmX, ao_0)\n",
    "        rho_X_0 = np.einsum(\"gk, Agk -> Ag\", grdh.ao_0, tmp_K)\n",
    "        rho_X_1 = 2 * np.einsum(\"rgk, Agk -> Arg\", grdh.ao_1, tmp_K)\n",
    "        gamma_XD = np.einsum(\"Arg, rg -> Ag\", rho_X_1, rho_1)\n",
    "        M_0 = (\n",
    "            np.einsum(\"g, Ag -> Ag\", kerh.frr, rho_X_0)\n",
    "            + 2 * np.einsum(\"g, Ag -> Ag\", kerh.frg, gamma_XD)\n",
    "        )\n",
    "        M_1 = (\n",
    "            + 4 * np.einsum(\"g, Ag, rg -> Arg\", kerh.frg, rho_X_0, rho_1)\n",
    "            + 8 * np.einsum(\"g, Ag, rg -> Arg\", kerh.fgg, gamma_XD, rho_1)\n",
    "            + 4 * np.einsum(\"g, Arg -> Arg\", kerh.fg, rho_X_1)\n",
    "        )\n",
    "        ax_ao = (\n",
    "            + 1 * np.einsum(\"uvkl, Akl -> Auv\", eri0_ao, dmX)\n",
    "            - 0.5 * cx * np.einsum(\"ukvl, Akl -> Auv\", eri0_ao, dmX)\n",
    "            + np.einsum(\"Ag, gu, gv -> Auv\", M_0, ao_0, ao_0)\n",
    "            + np.einsum(\"Arg, rgu, gv -> Auv\", M_1, ao_1, ao_0)\n",
    "        )\n",
    "        ax_ao += ax_ao.swapaxes(-1, -2)\n",
    "        ax_mo = C[:, sp].T @ ax_ao @ C[:, sq]\n",
    "        X_shape = list(X.shape)\n",
    "        X_shape[-2:] = ax_mo.shape[-2:]\n",
    "        return ax_mo.reshape(X_shape)\n",
    "    return fx"
   ]
  },
  {
   "cell_type": "code",
   "execution_count": 71,
   "metadata": {
    "hidden": true
   },
   "outputs": [],
   "source": [
    "X = np.random.randn(4, 5, nmo, nocc)"
   ]
  },
  {
   "cell_type": "code",
   "execution_count": 72,
   "metadata": {
    "hidden": true,
    "scrolled": true
   },
   "outputs": [
    {
     "data": {
      "text/plain": [
       "(4, 5, 13, 9)"
      ]
     },
     "execution_count": 72,
     "metadata": {},
     "output_type": "execute_result"
    }
   ],
   "source": [
    "Ax0_Core(sv, so, sa, so)(X).shape"
   ]
  },
  {
   "cell_type": "code",
   "execution_count": 73,
   "metadata": {
    "hidden": true
   },
   "outputs": [
    {
     "data": {
      "text/plain": [
       "True"
      ]
     },
     "execution_count": 73,
     "metadata": {},
     "output_type": "execute_result"
    }
   ],
   "source": [
    "np.allclose(Ax0_Core(sv, so, sa, so)(X), gradh.Ax0_Core(sv, so, sa, so)(X))  # pyxdh approach"
   ]
  },
  {
   "cell_type": "code",
   "execution_count": 74,
   "metadata": {
    "hidden": true
   },
   "outputs": [
    {
     "data": {
      "text/plain": [
       "True"
      ]
     },
     "execution_count": 74,
     "metadata": {},
     "output_type": "execute_result"
    }
   ],
   "source": [
    "np.allclose(\n",
    "    Ax0_Core(sv, so, sa, so)(X),\n",
    "    hessian.rhf.gen_vind(scf_eng, C, gradh.mo_occ)(X.reshape(-1, nmo, nocc)).reshape(4, 5, nmo, nocc)[:, :, sv, so]\n",
    ")  # PySCF approach"
   ]
  },
  {
   "cell_type": "markdown",
   "metadata": {
    "heading_collapsed": true
   },
   "source": [
    "### `B_1` $B_{pq}^{A_t}$ B Matrix (CP-HF Equation RHS)"
   ]
  },
  {
   "cell_type": "markdown",
   "metadata": {
    "hidden": true
   },
   "source": [
    "- `B_1` $B_{pq}^{A_t}$; dim: $(A, t, p, q)$ in document, $(A_t, p, q)$ in pyxdh; symm: no\n",
    "\n",
    "$$\n",
    "B_{pq}^{A_t} = F_{pq}^{A_t} - S_{pq}^{A_t} \\varepsilon_q - \\frac{1}{2} A_{pq, kl} S_{kl}^{A_t}\n",
    "$$"
   ]
  },
  {
   "cell_type": "code",
   "execution_count": 75,
   "metadata": {
    "hidden": true
   },
   "outputs": [
    {
     "data": {
      "text/plain": [
       "(4, 3, 22, 22)"
      ]
     },
     "execution_count": 75,
     "metadata": {},
     "output_type": "execute_result"
    }
   ],
   "source": [
    "B_1 = (\n",
    "    + F_1_mo\n",
    "    - np.einsum(\"Atpq, q -> Atpq\", S_1_mo, e)\n",
    "    - 0.5 * Ax0_Core(sa, sa, so, so)(S_1_mo[:, :, so, so])\n",
    ")\n",
    "B_1.shape"
   ]
  },
  {
   "cell_type": "code",
   "execution_count": 76,
   "metadata": {
    "hidden": true
   },
   "outputs": [
    {
     "data": {
      "text/plain": [
       "True"
      ]
     },
     "execution_count": 76,
     "metadata": {},
     "output_type": "execute_result"
    }
   ],
   "source": [
    "np.allclose(B_1, gradh.B_1.reshape(natm, 3, nmo, nmo))  # pyxdh approach"
   ]
  },
  {
   "cell_type": "markdown",
   "metadata": {
    "heading_collapsed": true
   },
   "source": [
    "### `U_1_vo` $U_{ai}^{A_t}$ U Matrix Virt-Occ Block (Unnecessary for xDH Gradient)"
   ]
  },
  {
   "cell_type": "markdown",
   "metadata": {
    "hidden": true
   },
   "source": [
    "- `U_1_vo` $U_{ai}^{A_t}$; dim: $(A, t, p, q)$ in document, $(A_t, p, q)$ in pyxdh\n",
    "\n",
    "$$\n",
    "- (\\varepsilon_a - \\varepsilon_i) U_{ai}^{A_t} - A_{ai, bj} U_{bj}^{A_t} = B_{ai}^{A_t}\n",
    "$$"
   ]
  },
  {
   "cell_type": "code",
   "execution_count": 77,
   "metadata": {
    "hidden": true
   },
   "outputs": [
    {
     "data": {
      "text/plain": [
       "(4, 3, 13, 9)"
      ]
     },
     "execution_count": 77,
     "metadata": {},
     "output_type": "execute_result"
    }
   ],
   "source": [
    "U_1_vo = cphf.solve(\n",
    "    Ax0_Core(sv, so, sv, so),\n",
    "    e,\n",
    "    gradh.mo_occ,\n",
    "    B_1[:, :, sv, so].reshape(-1, nvir, nocc),\n",
    "    tol=1e-12,\n",
    ")[0].reshape(natm, 3, nvir, nocc)\n",
    "U_1_vo.shape"
   ]
  },
  {
   "cell_type": "code",
   "execution_count": 78,
   "metadata": {
    "hidden": true
   },
   "outputs": [
    {
     "data": {
      "text/plain": [
       "True"
      ]
     },
     "execution_count": 78,
     "metadata": {},
     "output_type": "execute_result"
    }
   ],
   "source": [
    "np.allclose(\n",
    "    B_1[:, :, sv, so] + (ev[:, None] - eo[None, :]) * U_1_vo + Ax0_Core(sv, so, sv, so)(U_1_vo),\n",
    "    np.zeros((natm, 3, nvir, nocc))\n",
    ")  # check sanity by CP-HF equation"
   ]
  },
  {
   "cell_type": "code",
   "execution_count": 79,
   "metadata": {
    "hidden": true
   },
   "outputs": [
    {
     "data": {
      "application/javascript": [
       "/* Put everything inside the global mpl namespace */\n",
       "window.mpl = {};\n",
       "\n",
       "\n",
       "mpl.get_websocket_type = function() {\n",
       "    if (typeof(WebSocket) !== 'undefined') {\n",
       "        return WebSocket;\n",
       "    } else if (typeof(MozWebSocket) !== 'undefined') {\n",
       "        return MozWebSocket;\n",
       "    } else {\n",
       "        alert('Your browser does not have WebSocket support. ' +\n",
       "              'Please try Chrome, Safari or Firefox ≥ 6. ' +\n",
       "              'Firefox 4 and 5 are also supported but you ' +\n",
       "              'have to enable WebSockets in about:config.');\n",
       "    };\n",
       "}\n",
       "\n",
       "mpl.figure = function(figure_id, websocket, ondownload, parent_element) {\n",
       "    this.id = figure_id;\n",
       "\n",
       "    this.ws = websocket;\n",
       "\n",
       "    this.supports_binary = (this.ws.binaryType != undefined);\n",
       "\n",
       "    if (!this.supports_binary) {\n",
       "        var warnings = document.getElementById(\"mpl-warnings\");\n",
       "        if (warnings) {\n",
       "            warnings.style.display = 'block';\n",
       "            warnings.textContent = (\n",
       "                \"This browser does not support binary websocket messages. \" +\n",
       "                    \"Performance may be slow.\");\n",
       "        }\n",
       "    }\n",
       "\n",
       "    this.imageObj = new Image();\n",
       "\n",
       "    this.context = undefined;\n",
       "    this.message = undefined;\n",
       "    this.canvas = undefined;\n",
       "    this.rubberband_canvas = undefined;\n",
       "    this.rubberband_context = undefined;\n",
       "    this.format_dropdown = undefined;\n",
       "\n",
       "    this.image_mode = 'full';\n",
       "\n",
       "    this.root = $('<div/>');\n",
       "    this._root_extra_style(this.root)\n",
       "    this.root.attr('style', 'display: inline-block');\n",
       "\n",
       "    $(parent_element).append(this.root);\n",
       "\n",
       "    this._init_header(this);\n",
       "    this._init_canvas(this);\n",
       "    this._init_toolbar(this);\n",
       "\n",
       "    var fig = this;\n",
       "\n",
       "    this.waiting = false;\n",
       "\n",
       "    this.ws.onopen =  function () {\n",
       "            fig.send_message(\"supports_binary\", {value: fig.supports_binary});\n",
       "            fig.send_message(\"send_image_mode\", {});\n",
       "            if (mpl.ratio != 1) {\n",
       "                fig.send_message(\"set_dpi_ratio\", {'dpi_ratio': mpl.ratio});\n",
       "            }\n",
       "            fig.send_message(\"refresh\", {});\n",
       "        }\n",
       "\n",
       "    this.imageObj.onload = function() {\n",
       "            if (fig.image_mode == 'full') {\n",
       "                // Full images could contain transparency (where diff images\n",
       "                // almost always do), so we need to clear the canvas so that\n",
       "                // there is no ghosting.\n",
       "                fig.context.clearRect(0, 0, fig.canvas.width, fig.canvas.height);\n",
       "            }\n",
       "            fig.context.drawImage(fig.imageObj, 0, 0);\n",
       "        };\n",
       "\n",
       "    this.imageObj.onunload = function() {\n",
       "        fig.ws.close();\n",
       "    }\n",
       "\n",
       "    this.ws.onmessage = this._make_on_message_function(this);\n",
       "\n",
       "    this.ondownload = ondownload;\n",
       "}\n",
       "\n",
       "mpl.figure.prototype._init_header = function() {\n",
       "    var titlebar = $(\n",
       "        '<div class=\"ui-dialog-titlebar ui-widget-header ui-corner-all ' +\n",
       "        'ui-helper-clearfix\"/>');\n",
       "    var titletext = $(\n",
       "        '<div class=\"ui-dialog-title\" style=\"width: 100%; ' +\n",
       "        'text-align: center; padding: 3px;\"/>');\n",
       "    titlebar.append(titletext)\n",
       "    this.root.append(titlebar);\n",
       "    this.header = titletext[0];\n",
       "}\n",
       "\n",
       "\n",
       "\n",
       "mpl.figure.prototype._canvas_extra_style = function(canvas_div) {\n",
       "\n",
       "}\n",
       "\n",
       "\n",
       "mpl.figure.prototype._root_extra_style = function(canvas_div) {\n",
       "\n",
       "}\n",
       "\n",
       "mpl.figure.prototype._init_canvas = function() {\n",
       "    var fig = this;\n",
       "\n",
       "    var canvas_div = $('<div/>');\n",
       "\n",
       "    canvas_div.attr('style', 'position: relative; clear: both; outline: 0');\n",
       "\n",
       "    function canvas_keyboard_event(event) {\n",
       "        return fig.key_event(event, event['data']);\n",
       "    }\n",
       "\n",
       "    canvas_div.keydown('key_press', canvas_keyboard_event);\n",
       "    canvas_div.keyup('key_release', canvas_keyboard_event);\n",
       "    this.canvas_div = canvas_div\n",
       "    this._canvas_extra_style(canvas_div)\n",
       "    this.root.append(canvas_div);\n",
       "\n",
       "    var canvas = $('<canvas/>');\n",
       "    canvas.addClass('mpl-canvas');\n",
       "    canvas.attr('style', \"left: 0; top: 0; z-index: 0; outline: 0\")\n",
       "\n",
       "    this.canvas = canvas[0];\n",
       "    this.context = canvas[0].getContext(\"2d\");\n",
       "\n",
       "    var backingStore = this.context.backingStorePixelRatio ||\n",
       "\tthis.context.webkitBackingStorePixelRatio ||\n",
       "\tthis.context.mozBackingStorePixelRatio ||\n",
       "\tthis.context.msBackingStorePixelRatio ||\n",
       "\tthis.context.oBackingStorePixelRatio ||\n",
       "\tthis.context.backingStorePixelRatio || 1;\n",
       "\n",
       "    mpl.ratio = (window.devicePixelRatio || 1) / backingStore;\n",
       "\n",
       "    var rubberband = $('<canvas/>');\n",
       "    rubberband.attr('style', \"position: absolute; left: 0; top: 0; z-index: 1;\")\n",
       "\n",
       "    var pass_mouse_events = true;\n",
       "\n",
       "    canvas_div.resizable({\n",
       "        start: function(event, ui) {\n",
       "            pass_mouse_events = false;\n",
       "        },\n",
       "        resize: function(event, ui) {\n",
       "            fig.request_resize(ui.size.width, ui.size.height);\n",
       "        },\n",
       "        stop: function(event, ui) {\n",
       "            pass_mouse_events = true;\n",
       "            fig.request_resize(ui.size.width, ui.size.height);\n",
       "        },\n",
       "    });\n",
       "\n",
       "    function mouse_event_fn(event) {\n",
       "        if (pass_mouse_events)\n",
       "            return fig.mouse_event(event, event['data']);\n",
       "    }\n",
       "\n",
       "    rubberband.mousedown('button_press', mouse_event_fn);\n",
       "    rubberband.mouseup('button_release', mouse_event_fn);\n",
       "    // Throttle sequential mouse events to 1 every 20ms.\n",
       "    rubberband.mousemove('motion_notify', mouse_event_fn);\n",
       "\n",
       "    rubberband.mouseenter('figure_enter', mouse_event_fn);\n",
       "    rubberband.mouseleave('figure_leave', mouse_event_fn);\n",
       "\n",
       "    canvas_div.on(\"wheel\", function (event) {\n",
       "        event = event.originalEvent;\n",
       "        event['data'] = 'scroll'\n",
       "        if (event.deltaY < 0) {\n",
       "            event.step = 1;\n",
       "        } else {\n",
       "            event.step = -1;\n",
       "        }\n",
       "        mouse_event_fn(event);\n",
       "    });\n",
       "\n",
       "    canvas_div.append(canvas);\n",
       "    canvas_div.append(rubberband);\n",
       "\n",
       "    this.rubberband = rubberband;\n",
       "    this.rubberband_canvas = rubberband[0];\n",
       "    this.rubberband_context = rubberband[0].getContext(\"2d\");\n",
       "    this.rubberband_context.strokeStyle = \"#000000\";\n",
       "\n",
       "    this._resize_canvas = function(width, height) {\n",
       "        // Keep the size of the canvas, canvas container, and rubber band\n",
       "        // canvas in synch.\n",
       "        canvas_div.css('width', width)\n",
       "        canvas_div.css('height', height)\n",
       "\n",
       "        canvas.attr('width', width * mpl.ratio);\n",
       "        canvas.attr('height', height * mpl.ratio);\n",
       "        canvas.attr('style', 'width: ' + width + 'px; height: ' + height + 'px;');\n",
       "\n",
       "        rubberband.attr('width', width);\n",
       "        rubberband.attr('height', height);\n",
       "    }\n",
       "\n",
       "    // Set the figure to an initial 600x600px, this will subsequently be updated\n",
       "    // upon first draw.\n",
       "    this._resize_canvas(600, 600);\n",
       "\n",
       "    // Disable right mouse context menu.\n",
       "    $(this.rubberband_canvas).bind(\"contextmenu\",function(e){\n",
       "        return false;\n",
       "    });\n",
       "\n",
       "    function set_focus () {\n",
       "        canvas.focus();\n",
       "        canvas_div.focus();\n",
       "    }\n",
       "\n",
       "    window.setTimeout(set_focus, 100);\n",
       "}\n",
       "\n",
       "mpl.figure.prototype._init_toolbar = function() {\n",
       "    var fig = this;\n",
       "\n",
       "    var nav_element = $('<div/>');\n",
       "    nav_element.attr('style', 'width: 100%');\n",
       "    this.root.append(nav_element);\n",
       "\n",
       "    // Define a callback function for later on.\n",
       "    function toolbar_event(event) {\n",
       "        return fig.toolbar_button_onclick(event['data']);\n",
       "    }\n",
       "    function toolbar_mouse_event(event) {\n",
       "        return fig.toolbar_button_onmouseover(event['data']);\n",
       "    }\n",
       "\n",
       "    for(var toolbar_ind in mpl.toolbar_items) {\n",
       "        var name = mpl.toolbar_items[toolbar_ind][0];\n",
       "        var tooltip = mpl.toolbar_items[toolbar_ind][1];\n",
       "        var image = mpl.toolbar_items[toolbar_ind][2];\n",
       "        var method_name = mpl.toolbar_items[toolbar_ind][3];\n",
       "\n",
       "        if (!name) {\n",
       "            // put a spacer in here.\n",
       "            continue;\n",
       "        }\n",
       "        var button = $('<button/>');\n",
       "        button.addClass('ui-button ui-widget ui-state-default ui-corner-all ' +\n",
       "                        'ui-button-icon-only');\n",
       "        button.attr('role', 'button');\n",
       "        button.attr('aria-disabled', 'false');\n",
       "        button.click(method_name, toolbar_event);\n",
       "        button.mouseover(tooltip, toolbar_mouse_event);\n",
       "\n",
       "        var icon_img = $('<span/>');\n",
       "        icon_img.addClass('ui-button-icon-primary ui-icon');\n",
       "        icon_img.addClass(image);\n",
       "        icon_img.addClass('ui-corner-all');\n",
       "\n",
       "        var tooltip_span = $('<span/>');\n",
       "        tooltip_span.addClass('ui-button-text');\n",
       "        tooltip_span.html(tooltip);\n",
       "\n",
       "        button.append(icon_img);\n",
       "        button.append(tooltip_span);\n",
       "\n",
       "        nav_element.append(button);\n",
       "    }\n",
       "\n",
       "    var fmt_picker_span = $('<span/>');\n",
       "\n",
       "    var fmt_picker = $('<select/>');\n",
       "    fmt_picker.addClass('mpl-toolbar-option ui-widget ui-widget-content');\n",
       "    fmt_picker_span.append(fmt_picker);\n",
       "    nav_element.append(fmt_picker_span);\n",
       "    this.format_dropdown = fmt_picker[0];\n",
       "\n",
       "    for (var ind in mpl.extensions) {\n",
       "        var fmt = mpl.extensions[ind];\n",
       "        var option = $(\n",
       "            '<option/>', {selected: fmt === mpl.default_extension}).html(fmt);\n",
       "        fmt_picker.append(option);\n",
       "    }\n",
       "\n",
       "    // Add hover states to the ui-buttons\n",
       "    $( \".ui-button\" ).hover(\n",
       "        function() { $(this).addClass(\"ui-state-hover\");},\n",
       "        function() { $(this).removeClass(\"ui-state-hover\");}\n",
       "    );\n",
       "\n",
       "    var status_bar = $('<span class=\"mpl-message\"/>');\n",
       "    nav_element.append(status_bar);\n",
       "    this.message = status_bar[0];\n",
       "}\n",
       "\n",
       "mpl.figure.prototype.request_resize = function(x_pixels, y_pixels) {\n",
       "    // Request matplotlib to resize the figure. Matplotlib will then trigger a resize in the client,\n",
       "    // which will in turn request a refresh of the image.\n",
       "    this.send_message('resize', {'width': x_pixels, 'height': y_pixels});\n",
       "}\n",
       "\n",
       "mpl.figure.prototype.send_message = function(type, properties) {\n",
       "    properties['type'] = type;\n",
       "    properties['figure_id'] = this.id;\n",
       "    this.ws.send(JSON.stringify(properties));\n",
       "}\n",
       "\n",
       "mpl.figure.prototype.send_draw_message = function() {\n",
       "    if (!this.waiting) {\n",
       "        this.waiting = true;\n",
       "        this.ws.send(JSON.stringify({type: \"draw\", figure_id: this.id}));\n",
       "    }\n",
       "}\n",
       "\n",
       "\n",
       "mpl.figure.prototype.handle_save = function(fig, msg) {\n",
       "    var format_dropdown = fig.format_dropdown;\n",
       "    var format = format_dropdown.options[format_dropdown.selectedIndex].value;\n",
       "    fig.ondownload(fig, format);\n",
       "}\n",
       "\n",
       "\n",
       "mpl.figure.prototype.handle_resize = function(fig, msg) {\n",
       "    var size = msg['size'];\n",
       "    if (size[0] != fig.canvas.width || size[1] != fig.canvas.height) {\n",
       "        fig._resize_canvas(size[0], size[1]);\n",
       "        fig.send_message(\"refresh\", {});\n",
       "    };\n",
       "}\n",
       "\n",
       "mpl.figure.prototype.handle_rubberband = function(fig, msg) {\n",
       "    var x0 = msg['x0'] / mpl.ratio;\n",
       "    var y0 = (fig.canvas.height - msg['y0']) / mpl.ratio;\n",
       "    var x1 = msg['x1'] / mpl.ratio;\n",
       "    var y1 = (fig.canvas.height - msg['y1']) / mpl.ratio;\n",
       "    x0 = Math.floor(x0) + 0.5;\n",
       "    y0 = Math.floor(y0) + 0.5;\n",
       "    x1 = Math.floor(x1) + 0.5;\n",
       "    y1 = Math.floor(y1) + 0.5;\n",
       "    var min_x = Math.min(x0, x1);\n",
       "    var min_y = Math.min(y0, y1);\n",
       "    var width = Math.abs(x1 - x0);\n",
       "    var height = Math.abs(y1 - y0);\n",
       "\n",
       "    fig.rubberband_context.clearRect(\n",
       "        0, 0, fig.canvas.width / mpl.ratio, fig.canvas.height / mpl.ratio);\n",
       "\n",
       "    fig.rubberband_context.strokeRect(min_x, min_y, width, height);\n",
       "}\n",
       "\n",
       "mpl.figure.prototype.handle_figure_label = function(fig, msg) {\n",
       "    // Updates the figure title.\n",
       "    fig.header.textContent = msg['label'];\n",
       "}\n",
       "\n",
       "mpl.figure.prototype.handle_cursor = function(fig, msg) {\n",
       "    var cursor = msg['cursor'];\n",
       "    switch(cursor)\n",
       "    {\n",
       "    case 0:\n",
       "        cursor = 'pointer';\n",
       "        break;\n",
       "    case 1:\n",
       "        cursor = 'default';\n",
       "        break;\n",
       "    case 2:\n",
       "        cursor = 'crosshair';\n",
       "        break;\n",
       "    case 3:\n",
       "        cursor = 'move';\n",
       "        break;\n",
       "    }\n",
       "    fig.rubberband_canvas.style.cursor = cursor;\n",
       "}\n",
       "\n",
       "mpl.figure.prototype.handle_message = function(fig, msg) {\n",
       "    fig.message.textContent = msg['message'];\n",
       "}\n",
       "\n",
       "mpl.figure.prototype.handle_draw = function(fig, msg) {\n",
       "    // Request the server to send over a new figure.\n",
       "    fig.send_draw_message();\n",
       "}\n",
       "\n",
       "mpl.figure.prototype.handle_image_mode = function(fig, msg) {\n",
       "    fig.image_mode = msg['mode'];\n",
       "}\n",
       "\n",
       "mpl.figure.prototype.updated_canvas_event = function() {\n",
       "    // Called whenever the canvas gets updated.\n",
       "    this.send_message(\"ack\", {});\n",
       "}\n",
       "\n",
       "// A function to construct a web socket function for onmessage handling.\n",
       "// Called in the figure constructor.\n",
       "mpl.figure.prototype._make_on_message_function = function(fig) {\n",
       "    return function socket_on_message(evt) {\n",
       "        if (evt.data instanceof Blob) {\n",
       "            /* FIXME: We get \"Resource interpreted as Image but\n",
       "             * transferred with MIME type text/plain:\" errors on\n",
       "             * Chrome.  But how to set the MIME type?  It doesn't seem\n",
       "             * to be part of the websocket stream */\n",
       "            evt.data.type = \"image/png\";\n",
       "\n",
       "            /* Free the memory for the previous frames */\n",
       "            if (fig.imageObj.src) {\n",
       "                (window.URL || window.webkitURL).revokeObjectURL(\n",
       "                    fig.imageObj.src);\n",
       "            }\n",
       "\n",
       "            fig.imageObj.src = (window.URL || window.webkitURL).createObjectURL(\n",
       "                evt.data);\n",
       "            fig.updated_canvas_event();\n",
       "            fig.waiting = false;\n",
       "            return;\n",
       "        }\n",
       "        else if (typeof evt.data === 'string' && evt.data.slice(0, 21) == \"data:image/png;base64\") {\n",
       "            fig.imageObj.src = evt.data;\n",
       "            fig.updated_canvas_event();\n",
       "            fig.waiting = false;\n",
       "            return;\n",
       "        }\n",
       "\n",
       "        var msg = JSON.parse(evt.data);\n",
       "        var msg_type = msg['type'];\n",
       "\n",
       "        // Call the  \"handle_{type}\" callback, which takes\n",
       "        // the figure and JSON message as its only arguments.\n",
       "        try {\n",
       "            var callback = fig[\"handle_\" + msg_type];\n",
       "        } catch (e) {\n",
       "            console.log(\"No handler for the '\" + msg_type + \"' message type: \", msg);\n",
       "            return;\n",
       "        }\n",
       "\n",
       "        if (callback) {\n",
       "            try {\n",
       "                // console.log(\"Handling '\" + msg_type + \"' message: \", msg);\n",
       "                callback(fig, msg);\n",
       "            } catch (e) {\n",
       "                console.log(\"Exception inside the 'handler_\" + msg_type + \"' callback:\", e, e.stack, msg);\n",
       "            }\n",
       "        }\n",
       "    };\n",
       "}\n",
       "\n",
       "// from http://stackoverflow.com/questions/1114465/getting-mouse-location-in-canvas\n",
       "mpl.findpos = function(e) {\n",
       "    //this section is from http://www.quirksmode.org/js/events_properties.html\n",
       "    var targ;\n",
       "    if (!e)\n",
       "        e = window.event;\n",
       "    if (e.target)\n",
       "        targ = e.target;\n",
       "    else if (e.srcElement)\n",
       "        targ = e.srcElement;\n",
       "    if (targ.nodeType == 3) // defeat Safari bug\n",
       "        targ = targ.parentNode;\n",
       "\n",
       "    // jQuery normalizes the pageX and pageY\n",
       "    // pageX,Y are the mouse positions relative to the document\n",
       "    // offset() returns the position of the element relative to the document\n",
       "    var x = e.pageX - $(targ).offset().left;\n",
       "    var y = e.pageY - $(targ).offset().top;\n",
       "\n",
       "    return {\"x\": x, \"y\": y};\n",
       "};\n",
       "\n",
       "/*\n",
       " * return a copy of an object with only non-object keys\n",
       " * we need this to avoid circular references\n",
       " * http://stackoverflow.com/a/24161582/3208463\n",
       " */\n",
       "function simpleKeys (original) {\n",
       "  return Object.keys(original).reduce(function (obj, key) {\n",
       "    if (typeof original[key] !== 'object')\n",
       "        obj[key] = original[key]\n",
       "    return obj;\n",
       "  }, {});\n",
       "}\n",
       "\n",
       "mpl.figure.prototype.mouse_event = function(event, name) {\n",
       "    var canvas_pos = mpl.findpos(event)\n",
       "\n",
       "    if (name === 'button_press')\n",
       "    {\n",
       "        this.canvas.focus();\n",
       "        this.canvas_div.focus();\n",
       "    }\n",
       "\n",
       "    var x = canvas_pos.x * mpl.ratio;\n",
       "    var y = canvas_pos.y * mpl.ratio;\n",
       "\n",
       "    this.send_message(name, {x: x, y: y, button: event.button,\n",
       "                             step: event.step,\n",
       "                             guiEvent: simpleKeys(event)});\n",
       "\n",
       "    /* This prevents the web browser from automatically changing to\n",
       "     * the text insertion cursor when the button is pressed.  We want\n",
       "     * to control all of the cursor setting manually through the\n",
       "     * 'cursor' event from matplotlib */\n",
       "    event.preventDefault();\n",
       "    return false;\n",
       "}\n",
       "\n",
       "mpl.figure.prototype._key_event_extra = function(event, name) {\n",
       "    // Handle any extra behaviour associated with a key event\n",
       "}\n",
       "\n",
       "mpl.figure.prototype.key_event = function(event, name) {\n",
       "\n",
       "    // Prevent repeat events\n",
       "    if (name == 'key_press')\n",
       "    {\n",
       "        if (event.which === this._key)\n",
       "            return;\n",
       "        else\n",
       "            this._key = event.which;\n",
       "    }\n",
       "    if (name == 'key_release')\n",
       "        this._key = null;\n",
       "\n",
       "    var value = '';\n",
       "    if (event.ctrlKey && event.which != 17)\n",
       "        value += \"ctrl+\";\n",
       "    if (event.altKey && event.which != 18)\n",
       "        value += \"alt+\";\n",
       "    if (event.shiftKey && event.which != 16)\n",
       "        value += \"shift+\";\n",
       "\n",
       "    value += 'k';\n",
       "    value += event.which.toString();\n",
       "\n",
       "    this._key_event_extra(event, name);\n",
       "\n",
       "    this.send_message(name, {key: value,\n",
       "                             guiEvent: simpleKeys(event)});\n",
       "    return false;\n",
       "}\n",
       "\n",
       "mpl.figure.prototype.toolbar_button_onclick = function(name) {\n",
       "    if (name == 'download') {\n",
       "        this.handle_save(this, null);\n",
       "    } else {\n",
       "        this.send_message(\"toolbar_button\", {name: name});\n",
       "    }\n",
       "};\n",
       "\n",
       "mpl.figure.prototype.toolbar_button_onmouseover = function(tooltip) {\n",
       "    this.message.textContent = tooltip;\n",
       "};\n",
       "mpl.toolbar_items = [[\"Home\", \"Reset original view\", \"fa fa-home icon-home\", \"home\"], [\"Back\", \"Back to previous view\", \"fa fa-arrow-left icon-arrow-left\", \"back\"], [\"Forward\", \"Forward to next view\", \"fa fa-arrow-right icon-arrow-right\", \"forward\"], [\"\", \"\", \"\", \"\"], [\"Pan\", \"Pan axes with left mouse, zoom with right\", \"fa fa-arrows icon-move\", \"pan\"], [\"Zoom\", \"Zoom to rectangle\", \"fa fa-square-o icon-check-empty\", \"zoom\"], [\"\", \"\", \"\", \"\"], [\"Download\", \"Download plot\", \"fa fa-floppy-o icon-save\", \"download\"]];\n",
       "\n",
       "mpl.extensions = [\"eps\", \"pdf\", \"png\", \"ps\", \"raw\", \"svg\"];\n",
       "\n",
       "mpl.default_extension = \"png\";var comm_websocket_adapter = function(comm) {\n",
       "    // Create a \"websocket\"-like object which calls the given IPython comm\n",
       "    // object with the appropriate methods. Currently this is a non binary\n",
       "    // socket, so there is still some room for performance tuning.\n",
       "    var ws = {};\n",
       "\n",
       "    ws.close = function() {\n",
       "        comm.close()\n",
       "    };\n",
       "    ws.send = function(m) {\n",
       "        //console.log('sending', m);\n",
       "        comm.send(m);\n",
       "    };\n",
       "    // Register the callback with on_msg.\n",
       "    comm.on_msg(function(msg) {\n",
       "        //console.log('receiving', msg['content']['data'], msg);\n",
       "        // Pass the mpl event to the overridden (by mpl) onmessage function.\n",
       "        ws.onmessage(msg['content']['data'])\n",
       "    });\n",
       "    return ws;\n",
       "}\n",
       "\n",
       "mpl.mpl_figure_comm = function(comm, msg) {\n",
       "    // This is the function which gets called when the mpl process\n",
       "    // starts-up an IPython Comm through the \"matplotlib\" channel.\n",
       "\n",
       "    var id = msg.content.data.id;\n",
       "    // Get hold of the div created by the display call when the Comm\n",
       "    // socket was opened in Python.\n",
       "    var element = $(\"#\" + id);\n",
       "    var ws_proxy = comm_websocket_adapter(comm)\n",
       "\n",
       "    function ondownload(figure, format) {\n",
       "        window.open(figure.imageObj.src);\n",
       "    }\n",
       "\n",
       "    var fig = new mpl.figure(id, ws_proxy,\n",
       "                           ondownload,\n",
       "                           element.get(0));\n",
       "\n",
       "    // Call onopen now - mpl needs it, as it is assuming we've passed it a real\n",
       "    // web socket which is closed, not our websocket->open comm proxy.\n",
       "    ws_proxy.onopen();\n",
       "\n",
       "    fig.parent_element = element.get(0);\n",
       "    fig.cell_info = mpl.find_output_cell(\"<div id='\" + id + \"'></div>\");\n",
       "    if (!fig.cell_info) {\n",
       "        console.error(\"Failed to find cell for figure\", id, fig);\n",
       "        return;\n",
       "    }\n",
       "\n",
       "    var output_index = fig.cell_info[2]\n",
       "    var cell = fig.cell_info[0];\n",
       "\n",
       "};\n",
       "\n",
       "mpl.figure.prototype.handle_close = function(fig, msg) {\n",
       "    var width = fig.canvas.width/mpl.ratio\n",
       "    fig.root.unbind('remove')\n",
       "\n",
       "    // Update the output cell to use the data from the current canvas.\n",
       "    fig.push_to_output();\n",
       "    var dataURL = fig.canvas.toDataURL();\n",
       "    // Re-enable the keyboard manager in IPython - without this line, in FF,\n",
       "    // the notebook keyboard shortcuts fail.\n",
       "    IPython.keyboard_manager.enable()\n",
       "    $(fig.parent_element).html('<img src=\"' + dataURL + '\" width=\"' + width + '\">');\n",
       "    fig.close_ws(fig, msg);\n",
       "}\n",
       "\n",
       "mpl.figure.prototype.close_ws = function(fig, msg){\n",
       "    fig.send_message('closing', msg);\n",
       "    // fig.ws.close()\n",
       "}\n",
       "\n",
       "mpl.figure.prototype.push_to_output = function(remove_interactive) {\n",
       "    // Turn the data on the canvas into data in the output cell.\n",
       "    var width = this.canvas.width/mpl.ratio\n",
       "    var dataURL = this.canvas.toDataURL();\n",
       "    this.cell_info[1]['text/html'] = '<img src=\"' + dataURL + '\" width=\"' + width + '\">';\n",
       "}\n",
       "\n",
       "mpl.figure.prototype.updated_canvas_event = function() {\n",
       "    // Tell IPython that the notebook contents must change.\n",
       "    IPython.notebook.set_dirty(true);\n",
       "    this.send_message(\"ack\", {});\n",
       "    var fig = this;\n",
       "    // Wait a second, then push the new image to the DOM so\n",
       "    // that it is saved nicely (might be nice to debounce this).\n",
       "    setTimeout(function () { fig.push_to_output() }, 1000);\n",
       "}\n",
       "\n",
       "mpl.figure.prototype._init_toolbar = function() {\n",
       "    var fig = this;\n",
       "\n",
       "    var nav_element = $('<div/>');\n",
       "    nav_element.attr('style', 'width: 100%');\n",
       "    this.root.append(nav_element);\n",
       "\n",
       "    // Define a callback function for later on.\n",
       "    function toolbar_event(event) {\n",
       "        return fig.toolbar_button_onclick(event['data']);\n",
       "    }\n",
       "    function toolbar_mouse_event(event) {\n",
       "        return fig.toolbar_button_onmouseover(event['data']);\n",
       "    }\n",
       "\n",
       "    for(var toolbar_ind in mpl.toolbar_items){\n",
       "        var name = mpl.toolbar_items[toolbar_ind][0];\n",
       "        var tooltip = mpl.toolbar_items[toolbar_ind][1];\n",
       "        var image = mpl.toolbar_items[toolbar_ind][2];\n",
       "        var method_name = mpl.toolbar_items[toolbar_ind][3];\n",
       "\n",
       "        if (!name) { continue; };\n",
       "\n",
       "        var button = $('<button class=\"btn btn-default\" href=\"#\" title=\"' + name + '\"><i class=\"fa ' + image + ' fa-lg\"></i></button>');\n",
       "        button.click(method_name, toolbar_event);\n",
       "        button.mouseover(tooltip, toolbar_mouse_event);\n",
       "        nav_element.append(button);\n",
       "    }\n",
       "\n",
       "    // Add the status bar.\n",
       "    var status_bar = $('<span class=\"mpl-message\" style=\"text-align:right; float: right;\"/>');\n",
       "    nav_element.append(status_bar);\n",
       "    this.message = status_bar[0];\n",
       "\n",
       "    // Add the close button to the window.\n",
       "    var buttongrp = $('<div class=\"btn-group inline pull-right\"></div>');\n",
       "    var button = $('<button class=\"btn btn-mini btn-primary\" href=\"#\" title=\"Stop Interaction\"><i class=\"fa fa-power-off icon-remove icon-large\"></i></button>');\n",
       "    button.click(function (evt) { fig.handle_close(fig, {}); } );\n",
       "    button.mouseover('Stop Interaction', toolbar_mouse_event);\n",
       "    buttongrp.append(button);\n",
       "    var titlebar = this.root.find($('.ui-dialog-titlebar'));\n",
       "    titlebar.prepend(buttongrp);\n",
       "}\n",
       "\n",
       "mpl.figure.prototype._root_extra_style = function(el){\n",
       "    var fig = this\n",
       "    el.on(\"remove\", function(){\n",
       "\tfig.close_ws(fig, {});\n",
       "    });\n",
       "}\n",
       "\n",
       "mpl.figure.prototype._canvas_extra_style = function(el){\n",
       "    // this is important to make the div 'focusable\n",
       "    el.attr('tabindex', 0)\n",
       "    // reach out to IPython and tell the keyboard manager to turn it's self\n",
       "    // off when our div gets focus\n",
       "\n",
       "    // location in version 3\n",
       "    if (IPython.notebook.keyboard_manager) {\n",
       "        IPython.notebook.keyboard_manager.register_events(el);\n",
       "    }\n",
       "    else {\n",
       "        // location in version 2\n",
       "        IPython.keyboard_manager.register_events(el);\n",
       "    }\n",
       "\n",
       "}\n",
       "\n",
       "mpl.figure.prototype._key_event_extra = function(event, name) {\n",
       "    var manager = IPython.notebook.keyboard_manager;\n",
       "    if (!manager)\n",
       "        manager = IPython.keyboard_manager;\n",
       "\n",
       "    // Check for shift+enter\n",
       "    if (event.shiftKey && event.which == 13) {\n",
       "        this.canvas_div.blur();\n",
       "        // select the cell after this one\n",
       "        var index = IPython.notebook.find_cell_index(this.cell_info[0]);\n",
       "        IPython.notebook.select(index + 1);\n",
       "    }\n",
       "}\n",
       "\n",
       "mpl.figure.prototype.handle_save = function(fig, msg) {\n",
       "    fig.ondownload(fig, null);\n",
       "}\n",
       "\n",
       "\n",
       "mpl.find_output_cell = function(html_output) {\n",
       "    // Return the cell and output element which can be found *uniquely* in the notebook.\n",
       "    // Note - this is a bit hacky, but it is done because the \"notebook_saving.Notebook\"\n",
       "    // IPython event is triggered only after the cells have been serialised, which for\n",
       "    // our purposes (turning an active figure into a static one), is too late.\n",
       "    var cells = IPython.notebook.get_cells();\n",
       "    var ncells = cells.length;\n",
       "    for (var i=0; i<ncells; i++) {\n",
       "        var cell = cells[i];\n",
       "        if (cell.cell_type === 'code'){\n",
       "            for (var j=0; j<cell.output_area.outputs.length; j++) {\n",
       "                var data = cell.output_area.outputs[j];\n",
       "                if (data.data) {\n",
       "                    // IPython >= 3 moved mimebundle to data attribute of output\n",
       "                    data = data.data;\n",
       "                }\n",
       "                if (data['text/html'] == html_output) {\n",
       "                    return [cell, data, j];\n",
       "                }\n",
       "            }\n",
       "        }\n",
       "    }\n",
       "}\n",
       "\n",
       "// Register the function which deals with the matplotlib target/channel.\n",
       "// The kernel may be null if the page has been refreshed.\n",
       "if (IPython.notebook.kernel != null) {\n",
       "    IPython.notebook.kernel.comm_manager.register_target('matplotlib', mpl.mpl_figure_comm);\n",
       "}\n"
      ],
      "text/plain": [
       "<IPython.core.display.Javascript object>"
      ]
     },
     "metadata": {},
     "output_type": "display_data"
    },
    {
     "data": {
      "text/html": [
       "<img src=\"data:image/png;base64,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\" width=\"240\">"
      ],
      "text/plain": [
       "<IPython.core.display.HTML object>"
      ]
     },
     "metadata": {},
     "output_type": "display_data"
    }
   ],
   "source": [
    "nd_C = NumericDiff(gradn, lambda gradh: gradh.C).derivative.reshape((natm, 3, nao, nao))\n",
    "nd_U_1_vo = np.einsum(\"mu, Atup -> Atmp\", np.linalg.inv(C), nd_C)[:, :, sv, so]\n",
    "plot_diff(U_1_vo, nd_U_1_vo)"
   ]
  },
  {
   "cell_type": "markdown",
   "metadata": {
    "heading_collapsed": true
   },
   "source": [
    "### PT2 Tensors"
   ]
  },
  {
   "cell_type": "markdown",
   "metadata": {
    "hidden": true
   },
   "source": [
    "- `D_iajb` $D_{ij}^{ab}$; dim: $(i, a, j, b)$; symm: $D_{ij}^{ab} = D_{ji}^{ab} = D_{ij}^{ba}$ (4-fold)\n",
    "\n",
    "$$\n",
    "D_{ij}^{ab} = \\varepsilon_i - \\varepsilon_a + \\varepsilon_j - \\varepsilon_b\n",
    "$$"
   ]
  },
  {
   "cell_type": "code",
   "execution_count": 80,
   "metadata": {
    "hidden": true
   },
   "outputs": [
    {
     "data": {
      "text/plain": [
       "(9, 13, 9, 13)"
      ]
     },
     "execution_count": 80,
     "metadata": {},
     "output_type": "execute_result"
    }
   ],
   "source": [
    "D_iajb = eo[:, None, None, None] - ev[None, :, None, None] + eo[None, None, :, None] - ev[None, None, None, :]\n",
    "D_iajb.shape"
   ]
  },
  {
   "cell_type": "code",
   "execution_count": 81,
   "metadata": {
    "hidden": true
   },
   "outputs": [
    {
     "data": {
      "text/plain": [
       "True"
      ]
     },
     "execution_count": 81,
     "metadata": {},
     "output_type": "execute_result"
    }
   ],
   "source": [
    "np.allclose(D_iajb, D_iajb.swapaxes(-1, -3))  # symm check"
   ]
  },
  {
   "cell_type": "code",
   "execution_count": 82,
   "metadata": {
    "hidden": true
   },
   "outputs": [
    {
     "data": {
      "text/plain": [
       "True"
      ]
     },
     "execution_count": 82,
     "metadata": {},
     "output_type": "execute_result"
    }
   ],
   "source": [
    "np.allclose(D_iajb, D_iajb.swapaxes(-2, -4))  # symm check"
   ]
  },
  {
   "cell_type": "markdown",
   "metadata": {
    "hidden": true
   },
   "source": [
    "- `t_iajb` $t_{ij}^{ab}$; dim: $(i, a, j, b)$; symm: $t_{ij}^{ab} = t_{ji}^{ba}$\n",
    "\n",
    "$$\n",
    "t_{ij}^{ab} = (ia|jb) / D_{ij}^{ab}\n",
    "$$"
   ]
  },
  {
   "cell_type": "code",
   "execution_count": 83,
   "metadata": {
    "hidden": true
   },
   "outputs": [
    {
     "data": {
      "text/plain": [
       "(9, 13, 9, 13)"
      ]
     },
     "execution_count": 83,
     "metadata": {},
     "output_type": "execute_result"
    }
   ],
   "source": [
    "t_iajb = eri0_mo[so, sv, so, sv] / D_iajb\n",
    "t_iajb.shape"
   ]
  },
  {
   "cell_type": "code",
   "execution_count": 84,
   "metadata": {
    "hidden": true
   },
   "outputs": [
    {
     "data": {
      "text/plain": [
       "True"
      ]
     },
     "execution_count": 84,
     "metadata": {},
     "output_type": "execute_result"
    }
   ],
   "source": [
    "np.allclose(t_iajb, t_iajb.swapaxes(-1, -3).swapaxes(-2, -4))  # symm check"
   ]
  },
  {
   "cell_type": "markdown",
   "metadata": {
    "hidden": true
   },
   "source": [
    "- `T_iajb` $T_{ij}^{ab}$; dim: $(i, a, j, b)$; symm: $T_{ij}^{ab} = T_{ji}^{ba}$\n",
    "\n",
    "$$\n",
    "T_{ij}^{ab} = c_\\mathrm{c}^\\mathrm{n} (2 t_{ij}^{ab} - t_{ij}^{ba})\n",
    "$$"
   ]
  },
  {
   "cell_type": "code",
   "execution_count": 85,
   "metadata": {
    "hidden": true
   },
   "outputs": [
    {
     "data": {
      "text/plain": [
       "(9, 13, 9, 13)"
      ]
     },
     "execution_count": 85,
     "metadata": {},
     "output_type": "execute_result"
    }
   ],
   "source": [
    "T_iajb = cc * (2 * t_iajb - t_iajb.swapaxes(-1, -3))\n",
    "T_iajb.shape"
   ]
  },
  {
   "cell_type": "code",
   "execution_count": 86,
   "metadata": {
    "hidden": true
   },
   "outputs": [
    {
     "data": {
      "text/plain": [
       "True"
      ]
     },
     "execution_count": 86,
     "metadata": {},
     "output_type": "execute_result"
    }
   ],
   "source": [
    "np.allclose(T_iajb, T_iajb.swapaxes(-1, -3).swapaxes(-2, -4))  # symm check"
   ]
  },
  {
   "cell_type": "markdown",
   "metadata": {
    "hidden": true
   },
   "source": [
    "- Energy check: $E_\\mathrm{PT2} = T_{ij}^{ab} t_{ij}^{ab} D_{ij}^{ab}$"
   ]
  },
  {
   "cell_type": "code",
   "execution_count": 87,
   "metadata": {
    "hidden": true
   },
   "outputs": [
    {
     "data": {
      "text/plain": [
       "-0.13594842684204672"
      ]
     },
     "execution_count": 87,
     "metadata": {},
     "output_type": "execute_result"
    }
   ],
   "source": [
    "np.einsum(\"iajb, iajb, iajb -> \", T_iajb, t_iajb, D_iajb)"
   ]
  },
  {
   "cell_type": "code",
   "execution_count": 88,
   "metadata": {
    "hidden": true
   },
   "outputs": [
    {
     "data": {
      "text/plain": [
       "-0.13594842684204878"
      ]
     },
     "execution_count": 88,
     "metadata": {},
     "output_type": "execute_result"
    }
   ],
   "source": [
    "gradh.eng - gradh.nc_deriv.scf_eng.energy_tot(dm=D)"
   ]
  },
  {
   "cell_type": "markdown",
   "metadata": {
    "heading_collapsed": true
   },
   "source": [
    "### `W_I` $W_{pq}^\\mathrm{PT2} [\\mathrm{I}]$ Part I of Weighted Density Matrix"
   ]
  },
  {
   "cell_type": "markdown",
   "metadata": {
    "hidden": true
   },
   "source": [
    "- `W_I` $W_{pq}^\\mathrm{PT2} [\\mathrm{I}]$; dim: $(p, q)$; symm: no\n",
    "\n",
    "$$\n",
    "\\begin{align}\n",
    "W_{ij}^\\mathrm{PT2} [\\mathrm{I}] &= - 2 T_{ik}^{ab} (ja|kb) \\\\\n",
    "W_{ab}^\\mathrm{PT2} [\\mathrm{I}] &= - 2 T_{ij}^{ac} (ib|jc) \\\\\n",
    "W_{ai}^\\mathrm{PT2} [\\mathrm{I}] &= - 4 T_{jk}^{ab} (ij|bk) \\\\\n",
    "W_{ia}^\\mathrm{PT2} [\\mathrm{I}] &= 0\n",
    "\\end{align}\n",
    "$$"
   ]
  },
  {
   "cell_type": "code",
   "execution_count": 89,
   "metadata": {
    "hidden": true
   },
   "outputs": [
    {
     "data": {
      "text/plain": [
       "(22, 22)"
      ]
     },
     "execution_count": 89,
     "metadata": {},
     "output_type": "execute_result"
    }
   ],
   "source": [
    "W_I = np.zeros((nmo, nmo))\n",
    "W_I = np.zeros((nmo, nmo))\n",
    "W_I[so, so] = - 2 * np.einsum(\"iakb, jakb -> ij\", T_iajb, eri0_mo[so, sv, so, sv])\n",
    "W_I[sv, sv] = - 2 * np.einsum(\"iajc, ibjc -> ab\", T_iajb, eri0_mo[so, sv, so, sv])\n",
    "W_I[sv, so] = - 4 * np.einsum(\"jakb, ijbk -> ai\", T_iajb, eri0_mo[so, so, sv, so])\n",
    "W_I.shape"
   ]
  },
  {
   "cell_type": "markdown",
   "metadata": {
    "heading_collapsed": true
   },
   "source": [
    "### `D_r` $D_{pq}^\\mathrm{PT2+}$ Relaxed Density Matrix: Block-Diagonal Part"
   ]
  },
  {
   "cell_type": "markdown",
   "metadata": {
    "hidden": true
   },
   "source": [
    "- `D_r` $D_{pq}^\\mathrm{PT2+}$; dim: $(p, q)$ (pre-definition); actual total symm: no"
   ]
  },
  {
   "cell_type": "code",
   "execution_count": 90,
   "metadata": {
    "hidden": true
   },
   "outputs": [],
   "source": [
    "D_r = np.zeros((nmo, nmo))"
   ]
  },
  {
   "cell_type": "markdown",
   "metadata": {
    "hidden": true
   },
   "source": [
    "- `D_r[so, so]` $D_{ij}^\\mathrm{PT2+}$; dim: $(i, j)$; symm: $D_{ij}^\\mathrm{PT2+} = D_{ji}^\\mathrm{PT2+}$\n",
    "\n",
    "$$\n",
    "D_{ij}^\\mathrm{PT2+} = - 2 T_{ik}^{ab} t_{jk}^{ab}\n",
    "$$"
   ]
  },
  {
   "cell_type": "code",
   "execution_count": 91,
   "metadata": {
    "hidden": true
   },
   "outputs": [],
   "source": [
    "D_r[so, so] = - 2 * np.einsum(\"iakb, jakb -> ij\", T_iajb, t_iajb)"
   ]
  },
  {
   "cell_type": "code",
   "execution_count": 92,
   "metadata": {
    "hidden": true
   },
   "outputs": [
    {
     "data": {
      "text/plain": [
       "True"
      ]
     },
     "execution_count": 92,
     "metadata": {},
     "output_type": "execute_result"
    }
   ],
   "source": [
    "np.allclose(D_r[so, so], D_r[so, so].T)  # symm check"
   ]
  },
  {
   "cell_type": "markdown",
   "metadata": {
    "hidden": true
   },
   "source": [
    "- `D_r[sv, sv]` $D_{ab}^\\mathrm{PT2+}$; dim: $(a, b)$; symm: $D_{ab}^\\mathrm{PT2+} = D_{ba}^\\mathrm{PT2+}$\n",
    "\n",
    "$$\n",
    "D_{ab}^\\mathrm{PT2+} = 2 T_{ij}^{ac} t_{ij}^{bc}\n",
    "$$"
   ]
  },
  {
   "cell_type": "code",
   "execution_count": 93,
   "metadata": {
    "hidden": true
   },
   "outputs": [],
   "source": [
    "D_r[sv, sv] = 2 * np.einsum(\"iajc, ibjc -> ab\", T_iajb, t_iajb)"
   ]
  },
  {
   "cell_type": "code",
   "execution_count": 94,
   "metadata": {
    "hidden": true
   },
   "outputs": [
    {
     "data": {
      "text/plain": [
       "True"
      ]
     },
     "execution_count": 94,
     "metadata": {},
     "output_type": "execute_result"
    }
   ],
   "source": [
    "np.allclose(D_r[sv, sv], D_r[sv, sv].T)  # symm check"
   ]
  },
  {
   "cell_type": "markdown",
   "metadata": {
    "heading_collapsed": true
   },
   "source": [
    "### `L` $L_{ai}^\\mathrm{PT2+}$ PT2+ Total Lagrangian"
   ]
  },
  {
   "cell_type": "markdown",
   "metadata": {
    "hidden": true
   },
   "source": [
    "- `L` $L_{ai}^\\mathrm{PT2+}$; dim $(a, i)$\n",
    "\n",
    "$$\n",
    "L_{ai}^\\mathrm{PT2+} = A_{ai, kl} D_{kl}^\\mathrm{PT2} + A_{ai, bc} D_{bc}^\\mathrm{PT2} - 4 T_{jk}^{ab} (ij|bk) + 4 T_{ij}^{bc} (ab|jc) + 4 F_{ai}^\\mathrm{n}\n",
    "$$\n",
    "\n",
    "Up to now, `D_r` only contains occ-occ and vir-vir block, so technically we can just use `D_r` to generate `L`. Reason of introducing term $4 F_{ai}^\\mathrm{n}$ has been stated previously in this section."
   ]
  },
  {
   "cell_type": "code",
   "execution_count": 95,
   "metadata": {
    "hidden": true
   },
   "outputs": [],
   "source": [
    "L = (\n",
    "    + Ax0_Core(sv, so, sa, sa)(D_r)\n",
    "    - 4 * np.einsum(\"jakb, ijbk -> ai\", T_iajb, eri0_mo[so, so, sv, so])\n",
    "    + 4 * np.einsum(\"ibjc, abjc -> ai\", T_iajb, eri0_mo[sv, sv, so, sv])\n",
    "    + 4 * nc_F_0_mo[sv, so]\n",
    ")"
   ]
  },
  {
   "cell_type": "code",
   "execution_count": 96,
   "metadata": {
    "hidden": true
   },
   "outputs": [
    {
     "data": {
      "text/plain": [
       "True"
      ]
     },
     "execution_count": 96,
     "metadata": {},
     "output_type": "execute_result"
    }
   ],
   "source": [
    "np.allclose(L, gradh.L)  # pyxdh approach"
   ]
  },
  {
   "cell_type": "markdown",
   "metadata": {
    "heading_collapsed": true
   },
   "source": [
    "### `D_r` $D_{pq}^\\mathrm{PT2+}$ Relaxed Density Matrix: vir-occ Part"
   ]
  },
  {
   "cell_type": "markdown",
   "metadata": {
    "hidden": true
   },
   "source": [
    "- `D_r[sv, so]` $D_{ai}^\\mathrm{PT2+}$; dim: $(a, i)$\n",
    "\n",
    "$$\n",
    "- (\\varepsilon_a - \\varepsilon_i) D_{ai}^\\mathrm{PT2+} - A_{ai, bj} D_{bj}^\\mathrm{PT2+} = L_{ai}^\\mathrm{PT2+}\n",
    "$$"
   ]
  },
  {
   "cell_type": "code",
   "execution_count": 97,
   "metadata": {
    "hidden": true
   },
   "outputs": [],
   "source": [
    "D_r[sv, so] = cphf.solve(Ax0_Core(sv, so, sv, so), e, gradh.mo_occ, L, tol=1e-12, max_cycle=100)[0]"
   ]
  },
  {
   "cell_type": "code",
   "execution_count": 98,
   "metadata": {
    "hidden": true
   },
   "outputs": [
    {
     "data": {
      "text/plain": [
       "True"
      ]
     },
     "execution_count": 98,
     "metadata": {},
     "output_type": "execute_result"
    }
   ],
   "source": [
    "np.allclose(\n",
    "    L + (ev[:, None] - eo[None, :]) * D_r[sv, so] + Ax0_Core(sv, so, sv, so)(D_r[sv, so]),\n",
    "    np.zeros((nvir, nocc))\n",
    ")  # check sanity by CP-HF equation"
   ]
  },
  {
   "cell_type": "code",
   "execution_count": 99,
   "metadata": {
    "hidden": true
   },
   "outputs": [
    {
     "data": {
      "text/plain": [
       "True"
      ]
     },
     "execution_count": 99,
     "metadata": {},
     "output_type": "execute_result"
    }
   ],
   "source": [
    "np.allclose(D_r, gradh.D_r)  # pyxdh approach"
   ]
  },
  {
   "cell_type": "markdown",
   "metadata": {
    "heading_collapsed": true
   },
   "source": [
    "### `E_1_nuc` $\\partial_{A_t} E_\\mathrm{nuc}$ Nucleus Repulsion Energy Derivative"
   ]
  },
  {
   "cell_type": "markdown",
   "metadata": {
    "hidden": true
   },
   "source": [
    "- `nuc_Z` $Z_{AB}$; dim: $(A, B)$; symm: $Z_{AB} = Z_{BA}$\n",
    "\n",
    "$$\n",
    "Z_{AB} = Z_A Z_B\n",
    "$$"
   ]
  },
  {
   "cell_type": "code",
   "execution_count": 100,
   "metadata": {
    "hidden": true
   },
   "outputs": [
    {
     "data": {
      "text/plain": [
       "(4, 4)"
      ]
     },
     "execution_count": 100,
     "metadata": {},
     "output_type": "execute_result"
    }
   ],
   "source": [
    "nuc_Z = np.einsum(\"A, B -> AB\", mol.atom_charges(), mol.atom_charges())\n",
    "nuc_Z.shape"
   ]
  },
  {
   "cell_type": "code",
   "execution_count": 101,
   "metadata": {
    "hidden": true
   },
   "outputs": [
    {
     "data": {
      "text/plain": [
       "True"
      ]
     },
     "execution_count": 101,
     "metadata": {},
     "output_type": "execute_result"
    }
   ],
   "source": [
    "np.allclose(nuc_Z, nuc_Z.swapaxes(0, 1))"
   ]
  },
  {
   "cell_type": "markdown",
   "metadata": {
    "hidden": true
   },
   "source": [
    "- `nuc_V` $V_{ABt}$; dim: $(A, B, t)$; symm: $V_{ABt} = - V_{BAt}$\n",
    "\n",
    "$$\n",
    "V_{ABt} = A_t - B_t\n",
    "$$"
   ]
  },
  {
   "cell_type": "code",
   "execution_count": 102,
   "metadata": {
    "hidden": true
   },
   "outputs": [
    {
     "data": {
      "text/plain": [
       "(4, 4, 3)"
      ]
     },
     "execution_count": 102,
     "metadata": {},
     "output_type": "execute_result"
    }
   ],
   "source": [
    "nuc_V = lib.direct_sum(\"Mt - Nt -> MNt\", mol.atom_coords(), mol.atom_coords())\n",
    "nuc_V.shape"
   ]
  },
  {
   "cell_type": "code",
   "execution_count": 103,
   "metadata": {
    "hidden": true
   },
   "outputs": [
    {
     "data": {
      "text/plain": [
       "True"
      ]
     },
     "execution_count": 103,
     "metadata": {},
     "output_type": "execute_result"
    }
   ],
   "source": [
    "np.allclose(nuc_V, - nuc_V.swapaxes(0, 1))"
   ]
  },
  {
   "cell_type": "markdown",
   "metadata": {
    "hidden": true
   },
   "source": [
    "- `nuc_rinv` $r_{AB}^{-1}$; dim: $(A, B)$; symm: $r_{AB}^{-1} = r_{BA}^{-1}$\n",
    "\n",
    "$$\n",
    "r_{AB}^{-1} = \\left\\{\n",
    "\\begin{matrix}\n",
    "| \\boldsymbol{A} - \\boldsymbol{B} |^{-1}, & \\quad A \\neq B \\\\\n",
    "0, & \\quad A = B\n",
    "\\end{matrix}\n",
    "\\right.\n",
    "$$"
   ]
  },
  {
   "cell_type": "code",
   "execution_count": 104,
   "metadata": {
    "hidden": true
   },
   "outputs": [
    {
     "data": {
      "text/plain": [
       "(4, 4)"
      ]
     },
     "execution_count": 104,
     "metadata": {},
     "output_type": "execute_result"
    }
   ],
   "source": [
    "nuc_rinv = 1 / (np.linalg.norm(nuc_V, axis=2) + np.diag([np.inf] * natm))\n",
    "nuc_rinv.shape"
   ]
  },
  {
   "cell_type": "markdown",
   "metadata": {
    "hidden": true
   },
   "source": [
    "- `E_1_nuc` $\\partial_{A_t} E_\\mathrm{nuc}$; dim: $(A, t)$\n",
    "\n",
    "$$\n",
    "\\partial_{A_t} E_\\mathrm{nuc} = - \\sum_M Z_{AM} r_{AM}^{-3} V_{AMt}\n",
    "$$"
   ]
  },
  {
   "cell_type": "code",
   "execution_count": 105,
   "metadata": {
    "hidden": true
   },
   "outputs": [
    {
     "data": {
      "text/plain": [
       "array([[  2.24023,   0.86221,   9.19698],\n",
       "       [  0.38236,   2.46344, -10.29839],\n",
       "       [ -2.69385,   0.04989,   0.6448 ],\n",
       "       [  0.07127,  -3.37554,   0.45661]])"
      ]
     },
     "execution_count": 105,
     "metadata": {},
     "output_type": "execute_result"
    }
   ],
   "source": [
    "E_1_nuc = - np.einsum(\"AM, AM, AMt -> At\", nuc_Z, nuc_rinv**3, nuc_V)\n",
    "E_1_nuc"
   ]
  },
  {
   "cell_type": "markdown",
   "metadata": {
    "heading_collapsed": true
   },
   "source": [
    "### `E_1` $\\partial E_\\mathrm{tot}$ Total XYG3 Energy Derivative"
   ]
  },
  {
   "cell_type": "markdown",
   "metadata": {
    "hidden": true
   },
   "source": [
    "- `E_1` $\\partial E_\\mathrm{tot}$; dim: $(A, t)$\n",
    "\n",
    "$$\n",
    "\\begin{align}\n",
    "\\partial_{A_t} E_\\mathrm{tot}\n",
    "&= h_{\\mu \\nu}^{A_t} D_{\\mu \\nu} + \\frac{1}{2} D_{\\mu \\nu} (\\mu \\nu | \\kappa \\lambda)^{A_t} D_{\\kappa \\lambda} - \\frac{c_\\mathrm{x}^\\mathrm{n}}{4} D_{\\mu \\nu} (\\mu \\kappa | \\nu \\lambda)^{A_t} D_{\\kappa \\lambda} + f_\\rho^\\mathrm{n} \\rho^{A_t} + f_\\gamma^\\mathrm{n} \\gamma^{A_t} - 2 S_{ij}^{A_t} F_{ij}^\\mathrm{n} \\\\\n",
    "&\\quad + D_{pq}^\\mathrm{PT2+} B_{pq}^{A_t} + W_{pq}^\\mathrm{PT2} [\\mathrm{I}] S_{pq}^{A_t} + 2 T_{ij}^{ab} (ia|jb)^{A_t} + \\partial_{A_t} E_\\mathrm{nuc}\n",
    "\\end{align}\n",
    "$$"
   ]
  },
  {
   "cell_type": "code",
   "execution_count": 106,
   "metadata": {
    "hidden": true
   },
   "outputs": [
    {
     "data": {
      "text/plain": [
       "array([[-0.03968,  0.06718,  0.14149],\n",
       "       [ 0.00877,  0.15758, -0.17124],\n",
       "       [ 0.01226,  0.01305,  0.0318 ],\n",
       "       [ 0.01864, -0.23781, -0.00205]])"
      ]
     },
     "execution_count": 106,
     "metadata": {},
     "output_type": "execute_result"
    }
   ],
   "source": [
    "E_1 = (\n",
    "    # Line 1\n",
    "    + np.einsum(\"Atuv, uv -> At\", H_1_ao, D)\n",
    "    + 0.5 * np.einsum(\"uv, Atuvkl, kl -> At\", D, eri1_ao, D)\n",
    "    - 0.25 * cx_n * np.einsum(\"uv, Atukvl, kl -> At\", D, eri1_ao, D)\n",
    "    + np.einsum(\"g, Atg -> At\", kerh_n.fr, A_rho_1)\n",
    "    + np.einsum(\"g, Atg -> At\", kerh_n.fg, A_gamma_1)\n",
    "    - 2 * np.einsum(\"Atij, ij -> At\", S_1_mo[:, :, so, so], nc_F_0_mo[so, so])\n",
    "    # Line 2\n",
    "    + np.einsum(\"pq, Atpq -> At\", D_r, B_1)\n",
    "    + np.einsum(\"pq, Atpq -> At\", W_I, S_1_mo)\n",
    "    + 2 * np.einsum(\"iajb, Atiajb -> At\", T_iajb, eri1_mo[:, :, so, sv, so, sv])\n",
    "    + E_1_nuc\n",
    ")\n",
    "E_1"
   ]
  },
  {
   "cell_type": "code",
   "execution_count": 107,
   "metadata": {
    "hidden": true
   },
   "outputs": [
    {
     "data": {
      "text/plain": [
       "True"
      ]
     },
     "execution_count": 107,
     "metadata": {},
     "output_type": "execute_result"
    }
   ],
   "source": [
    "np.allclose(E_1, gradh.E_1)  # pyxdh approach"
   ]
  },
  {
   "cell_type": "code",
   "execution_count": 108,
   "metadata": {
    "hidden": true
   },
   "outputs": [
    {
     "data": {
      "text/plain": [
       "True"
      ]
     },
     "execution_count": 108,
     "metadata": {},
     "output_type": "execute_result"
    }
   ],
   "source": [
    "nd_E_0 = NumericDiff(gradn, lambda gradh: gradh.eng).derivative\n",
    "np.allclose(E_1, nd_E_0.reshape(natm, 3), rtol=2e-4)  # numerical derivative check"
   ]
  }
 ],
 "metadata": {
  "kernelspec": {
   "display_name": "Python 3",
   "language": "python",
   "name": "python3"
  },
  "language_info": {
   "codemirror_mode": {
    "name": "ipython",
    "version": 3
   },
   "file_extension": ".py",
   "mimetype": "text/x-python",
   "name": "python",
   "nbconvert_exporter": "python",
   "pygments_lexer": "ipython3",
   "version": "3.8.1"
  },
  "toc": {
   "base_numbering": 1,
   "nav_menu": {},
   "number_sections": true,
   "sideBar": true,
   "skip_h1_title": false,
   "title_cell": "Table of Contents",
   "title_sidebar": "Contents",
   "toc_cell": false,
   "toc_position": {
    "height": "calc(100% - 180px)",
    "left": "10px",
    "top": "150px",
    "width": "237.8px"
   },
   "toc_section_display": true,
   "toc_window_display": true
  }
 },
 "nbformat": 4,
 "nbformat_minor": 4
}
