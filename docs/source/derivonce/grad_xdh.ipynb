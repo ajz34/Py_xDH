{
 "cells": [
  {
   "cell_type": "markdown",
   "metadata": {},
   "source": [
    "# XYG3 型泛函核坐标梯度与核坐标梯度 CheatSheet"
   ]
  },
  {
   "cell_type": "markdown",
   "metadata": {},
   "source": [
    "这一节我们会先简单讨论 XYG3 核坐标梯度的计算方式；随后完整地从程序上完整地整理一遍核坐标梯度的编写过程。这一节希望这里的内容也可以作为能快速翻阅查找具体矩阵或张量计算方法的工具。"
   ]
  },
  {
   "cell_type": "markdown",
   "metadata": {
    "heading_collapsed": true
   },
   "source": [
    "## 准备工作"
   ]
  },
  {
   "cell_type": "code",
   "execution_count": 1,
   "metadata": {
    "hidden": true
   },
   "outputs": [],
   "source": [
    "%matplotlib notebook\n",
    "\n",
    "from pyscf import gto, scf, dft, lib, grad, hessian\n",
    "from pyscf.scf import cphf\n",
    "import numpy as np\n",
    "from functools import partial\n",
    "import warnings\n",
    "from matplotlib import pyplot as plt\n",
    "from pyxdh.Utilities import NucCoordDerivGenerator, DipoleDerivGenerator, NumericDiff, GridHelper, KernelHelper\n",
    "from pyxdh.DerivOnce import GradSCF, GradMP2, GradXDH\n",
    "\n",
    "np.einsum = partial(np.einsum, optimize=[\"greedy\", 1024 ** 3 * 2 / 8])\n",
    "np.allclose = partial(np.allclose, atol=1e-6, rtol=1e-4)\n",
    "np.set_printoptions(5, linewidth=150, suppress=True)\n",
    "warnings.filterwarnings(\"ignore\")"
   ]
  },
  {
   "cell_type": "code",
   "execution_count": 2,
   "metadata": {
    "hidden": true
   },
   "outputs": [
    {
     "data": {
      "text/plain": [
       "<pyscf.gto.mole.Mole at 0x7f074c8cd700>"
      ]
     },
     "execution_count": 2,
     "metadata": {},
     "output_type": "execute_result"
    }
   ],
   "source": [
    "mol = gto.Mole()\n",
    "mol.atom = \"\"\"\n",
    "O  0.0  0.0  0.0\n",
    "O  0.0  0.0  1.5\n",
    "H  1.5  0.0  0.0\n",
    "H  0.0  0.7  1.5\n",
    "\"\"\"\n",
    "mol.basis = \"6-31G\"\n",
    "mol.verbose = 0\n",
    "mol.build()"
   ]
  },
  {
   "cell_type": "code",
   "execution_count": 3,
   "metadata": {
    "hidden": true
   },
   "outputs": [],
   "source": [
    "def mol_to_grids(mol, atom_grid=(75, 302)):\n",
    "    grids = dft.Grids(mol)\n",
    "    grids.atom_grid = atom_grid\n",
    "    grids.becke_scheme = dft.gen_grid.stratmann\n",
    "    grids.prune = None\n",
    "    grids.build()\n",
    "    return grids\n",
    "grids = mol_to_grids(mol)"
   ]
  },
  {
   "cell_type": "markdown",
   "metadata": {
    "hidden": true
   },
   "source": [
    "我们知道 XYG3 分为自洽场部分与非自洽部分；其自洽场部分使用 B3LYP 泛函导出电子态密度 $D_{\\mu \\nu}$，进而代入密度到非自洽部分。因此，我们需要有自洽场与非自洽两个计算实例。其中，B3LYP 的自洽场实例就与以前定义的方式相同："
   ]
  },
  {
   "cell_type": "code",
   "execution_count": 4,
   "metadata": {
    "hidden": true
   },
   "outputs": [],
   "source": [
    "def mol_to_scf(mol):\n",
    "    scf_eng = dft.RKS(mol)\n",
    "    scf_eng.grids = mol_to_grids(mol)\n",
    "    scf_eng.xc = \"B3LYPg\"\n",
    "    scf_eng.conv_tol = 1e-10\n",
    "    return scf_eng.run()"
   ]
  },
  {
   "cell_type": "markdown",
   "metadata": {
    "hidden": true
   },
   "source": [
    "而非自洽部分则定义为 XYG3 除开 PT2 部分贡献之外的泛函，但该计算实例不应通过自洽场运算 (即运行 `.run` 成员函数)："
   ]
  },
  {
   "cell_type": "code",
   "execution_count": 5,
   "metadata": {
    "hidden": true
   },
   "outputs": [],
   "source": [
    "def mol_to_nc(mol):\n",
    "    nc_eng = dft.RKS(mol)\n",
    "    nc_eng.grids = mol_to_grids(mol)\n",
    "    nc_eng.xc = \"0.8033*HF - 0.0140*LDA + 0.2107*B88, 0.6789*LYP\"\n",
    "    nc_eng.conv_tol = 1e-10\n",
    "    return nc_eng"
   ]
  },
  {
   "cell_type": "markdown",
   "metadata": {
    "hidden": true
   },
   "source": [
    "XYG3 型泛函所使用的梯度计算类是 `GradXDH`；它所必须需要的输入参数是 `scf_eng` 自洽场运算实例与 `nc_eng` 非自洽运算实例："
   ]
  },
  {
   "cell_type": "code",
   "execution_count": 6,
   "metadata": {
    "hidden": true
   },
   "outputs": [],
   "source": [
    "scf_eng = mol_to_scf(mol)\n",
    "nc_eng = mol_to_nc(mol)\n",
    "gradh = GradXDH({\"scf_eng\": scf_eng, \"nc_eng\": nc_eng, \"cphf_tol\": 1e-12})"
   ]
  },
  {
   "cell_type": "markdown",
   "metadata": {
    "hidden": true
   },
   "source": [
    "与自洽场有关的各种矩阵会定义如下："
   ]
  },
  {
   "cell_type": "code",
   "execution_count": 7,
   "metadata": {
    "hidden": true
   },
   "outputs": [],
   "source": [
    "nmo, nao, natm, nocc, nvir, cx, cc = gradh.nao, gradh.nao, gradh.natm, gradh.nocc, gradh.nvir, gradh.cx, gradh.cc\n",
    "mol_slice = gradh.mol_slice\n",
    "so, sv, sa = gradh.so, gradh.sv, gradh.sa\n",
    "C, Co, Cv, e, eo, ev, D = gradh.C, gradh.Co, gradh.Cv, gradh.e, gradh.eo, gradh.ev, gradh.D\n",
    "H_0_ao, S_0_ao, eri0_ao, F_0_ao = gradh.H_0_ao, gradh.S_0_ao, gradh.eri0_ao, gradh.F_0_ao\n",
    "H_0_mo, S_0_mo, eri0_mo, F_0_mo = gradh.H_0_mo, gradh.S_0_mo, gradh.eri0_mo, gradh.F_0_mo\n",
    "T_iajb, t_iajb, D_iajb = gradh.T_iajb, gradh.t_iajb, gradh.D_iajb"
   ]
  },
  {
   "cell_type": "markdown",
   "metadata": {
    "hidden": true
   },
   "source": [
    "注意到上面是自洽场过程给出的结果；而对于非自洽部分，我们需要非自洽交换积分系数 `cx_n` $c_\\mathrm{x}^\\mathrm{n}$："
   ]
  },
  {
   "cell_type": "code",
   "execution_count": 8,
   "metadata": {
    "hidden": true
   },
   "outputs": [
    {
     "data": {
      "text/plain": [
       "0.8033"
      ]
     },
     "execution_count": 8,
     "metadata": {},
     "output_type": "execute_result"
    }
   ],
   "source": [
    "cx_n = gradh.nc_deriv.cx\n",
    "cx_n"
   ]
  },
  {
   "cell_type": "markdown",
   "metadata": {
    "hidden": true
   },
   "source": [
    "对于自洽或非自洽过程，原子轨道或涉及到密度的、核坐标梯度的格点都是相同的："
   ]
  },
  {
   "cell_type": "code",
   "execution_count": 9,
   "metadata": {
    "hidden": true
   },
   "outputs": [],
   "source": [
    "grdh = GridHelper(mol, grids, D)\n",
    "ao_0, ao_1, ao_2 = grdh.ao_0, grdh.ao_1, grdh.ao_2\n",
    "rho_0, rho_1, rho_2 = grdh.rho_0, grdh.rho_1, grdh.rho_2"
   ]
  },
  {
   "cell_type": "markdown",
   "metadata": {
    "hidden": true
   },
   "source": [
    "但涉及到泛函核的部分，我们就需要区分对待了。`kerh` 储存的是自洽泛函即 B3LYP 的泛函核格点，`kerh_n` 储存的是非自洽部分的泛函核格点。"
   ]
  },
  {
   "cell_type": "code",
   "execution_count": 10,
   "metadata": {
    "hidden": true
   },
   "outputs": [],
   "source": [
    "kerh = KernelHelper(grdh, \"B3LYPg\")\n",
    "kerh_n = KernelHelper(grdh, \"0.8033*HF - 0.0140*LDA + 0.2107*B88, 0.6789*LYP\")"
   ]
  },
  {
   "cell_type": "markdown",
   "metadata": {
    "hidden": true
   },
   "source": [
    "最后我们给出 XYG3 用于数值求导的实例："
   ]
  },
  {
   "cell_type": "code",
   "execution_count": 11,
   "metadata": {
    "hidden": true
   },
   "outputs": [],
   "source": [
    "def grad_generator(mol):\n",
    "    return GradXDH({\"scf_eng\": mol_to_scf(mol), \"nc_eng\": mol_to_nc(mol), \"cphf_tol\": 1e-12})\n",
    "gradn = NucCoordDerivGenerator(mol, grad_generator)"
   ]
  },
  {
   "cell_type": "markdown",
   "metadata": {
    "hidden": true
   },
   "source": [
    "由于这一节的特殊性，我们特定一个函数用于绘制数值与解析矩阵之间的差距："
   ]
  },
  {
   "cell_type": "code",
   "execution_count": 12,
   "metadata": {
    "hidden": true
   },
   "outputs": [],
   "source": [
    "def plot_diff(anal_mat, num_mat):\n",
    "    fig, ax = plt.subplots(figsize=(2.4, 1.8)); ax.set_xscale(\"log\")\n",
    "    ax.hist(abs(anal_mat.ravel() - num_mat.ravel()), bins=np.logspace(np.log10(1e-10), np.log10(1e-1), 50), alpha=0.5)\n",
    "    ax.hist(abs(num_mat.ravel()), bins=np.logspace(np.log10(1e-10), np.log10(1e-1), 50), alpha=0.5)\n",
    "    return fig.tight_layout()"
   ]
  },
  {
   "cell_type": "markdown",
   "metadata": {},
   "source": [
    "## XYG3 型核坐标梯度：与 B2PLYP 型梯度的差异"
   ]
  },
  {
   "cell_type": "markdown",
   "metadata": {
    "heading_collapsed": true
   },
   "source": [
    "### XYG3 能量"
   ]
  },
  {
   "cell_type": "markdown",
   "metadata": {
    "hidden": true
   },
   "source": [
    "我们首先回顾一下 XYG3 能量的计算："
   ]
  },
  {
   "cell_type": "markdown",
   "metadata": {
    "hidden": true
   },
   "source": [
    "$$\n",
    "E = h_{\\mu \\nu} D_{\\mu \\nu} + \\frac{1}{2} D_{\\mu \\nu} (\\mu \\nu | \\kappa \\lambda) D_{\\kappa \\lambda} - \\frac{c_\\mathrm{x}^\\mathrm{n}}{4} D_{\\mu \\nu} (\\mu \\kappa | \\nu \\lambda) D_{\\kappa \\lambda} + f^\\mathrm{n} \\rho + T_{ij}^{ab} t_{ij}^{ab} D_{ij}^{ab} + E_\\mathrm{nuc}\n",
    "$$"
   ]
  },
  {
   "cell_type": "code",
   "execution_count": 13,
   "metadata": {
    "hidden": true
   },
   "outputs": [
    {
     "data": {
      "text/plain": [
       "-151.39095860684597"
      ]
     },
     "execution_count": 13,
     "metadata": {},
     "output_type": "execute_result"
    }
   ],
   "source": [
    "(\n",
    "    + np.einsum(\"uv, uv -> \", H_0_ao, D)\n",
    "    + 0.5 * np.einsum(\"uv, uvkl, kl -> \", D, eri0_ao, D)\n",
    "    - 0.25 * cx_n * np.einsum(\"uv, ukvl, kl -> \", D, eri0_ao, D)\n",
    "    + np.einsum(\"g, g -> \", kerh_n.exc, rho_0)\n",
    "    + np.einsum(\"iajb, iajb, iajb -> \", T_iajb, t_iajb, D_iajb)\n",
    "    + gradh.scf_eng.energy_nuc()\n",
    ")"
   ]
  },
  {
   "cell_type": "markdown",
   "metadata": {
    "hidden": true
   },
   "source": [
    "我们注意到，上述计算中，$h_{\\mu \\nu}, (\\mu \\nu | \\kappa \\lambda), E_\\mathrm{nuc}$ 为分子构型决定量，$D_{\\mu \\nu}, \\rho, D_{ij}^{ab}, t_{ij}^{ab}$ 来自于自洽场计算或其导出量，$c_\\mathrm{x}, T_{ij}^{ab}, f^\\mathrm{n}$ 是非自洽导出量。若我们要求取梯度时，其余的量都可以参考 B2PLYP 的做法；但涉及到非自洽过程的量就需要额外注意。"
   ]
  },
  {
   "cell_type": "markdown",
   "metadata": {},
   "source": [
    "### XYG3 核坐标梯度：理论讨论"
   ]
  },
  {
   "cell_type": "markdown",
   "metadata": {},
   "source": [
    "我们需要先对 XYG3 能量作拆分，其中的 GGA 部分能量记为\n",
    "\n",
    "$$\n",
    "E_\\mathrm{GGA} = h_{\\mu \\nu} D_{\\mu \\nu} + \\frac{1}{2} D_{\\mu \\nu} (\\mu \\nu | \\kappa \\lambda) D_{\\kappa \\lambda} - \\frac{c_\\mathrm{x}^\\mathrm{n}}{4} D_{\\mu \\nu} (\\mu \\kappa | \\nu \\lambda) D_{\\kappa \\lambda} + f^\\mathrm{n} \\rho\n",
    "$$"
   ]
  },
  {
   "cell_type": "markdown",
   "metadata": {},
   "source": [
    "其 Skeleton 导数与 U 导数我们就仿照以前的文档进行处理，可以得到\n",
    "\n",
    "$$\n",
    "\\partial_{A_t} E_\\mathrm{GGA} \\xleftarrow{\\text{Skeleton derivative}} h_{\\mu \\nu}^{A_t} D_{\\mu \\nu} + \\frac{1}{2} D_{\\mu \\nu} (\\mu \\nu | \\kappa \\lambda)^{A_t} D_{\\kappa \\lambda} - \\frac{c_\\mathrm{x}^\\mathrm{n}}{4} D_{\\mu \\nu} (\\mu \\kappa | \\nu \\lambda)^{A_t} D_{\\kappa \\lambda} + f_\\rho^\\mathrm{n} \\rho^{A_t} + f_\\gamma^\\mathrm{n} \\gamma_r^{A_t}\n",
    " $$"
   ]
  },
  {
   "cell_type": "markdown",
   "metadata": {},
   "source": [
    "U 导数则为\n",
    "\n",
    "$$\n",
    "\\partial_{A_t} E_\\mathrm{GGA} \\xleftarrow{\\text{U derivative}} 4 F_{pi}^\\mathrm{n} U_{pi}^{A_t} = - 2 S_{ij}^{A_t} F_{ij}^\\mathrm{n} + 4 F_{ai}^\\mathrm{n} U_{ai}^{A_t}\n",
    "$$"
   ]
  },
  {
   "cell_type": "markdown",
   "metadata": {},
   "source": [
    "我们曾经提到过，对于 Canonical SCF 方法，Fock 矩阵是对角矩阵；但对于非自洽泛函而言，由于轨道系数并非是通过 Fock 对角化得到，因而 $F_{pq}^\\mathrm{n}$ 也显然未必是对角矩阵，即使它仍然具有对称的性质。那么，$F_{ai}^\\mathrm{n}$ 也就是非零的，因此 GGA 的 U 导数部分比起之前文档中，似乎多了 $4 F_{ai}^\\mathrm{n} U_{ai}^\\mathrm{n}$ 的贡献。"
   ]
  },
  {
   "cell_type": "markdown",
   "metadata": {},
   "source": [
    "随后，我们考虑 PT2 部分的能量导数。尽管 $T_{ij}^{ab}$ 确实包含了非自洽的贡献，但也仅限于相关系数 $c_\\mathrm{c}^\\mathrm{n}$；因此我们求取 PT2 部分能量的导数比起 B2PLYP 来没有实质变化：\n",
    "\n",
    "$$\n",
    "\\partial_{A_t} E_\\mathrm{PT2} = D_{pq}^\\mathrm{PT2} B_{pq}^{A_t} + W_{pq}^\\mathrm{PT2} [\\mathrm{I}] S_{pq}^{A_t} + 2 T_{ij}^{ab} (ia|jb)^{A_t}\n",
    "$$"
   ]
  },
  {
   "cell_type": "markdown",
   "metadata": {},
   "source": [
    "但这里我们需要作补充。我们知道，$D_{ai}^\\mathrm{PT2}$ 是通过 Z-Vector 方法给出的，$D_{ai}^\\mathrm{PT2} B_{ai}^{A_t}$ 在经历 Z-Vector 之前是 $U_{ai}^{A_t} L_{ai}$。因此，上式还可以写为\n",
    "\n",
    "$$\n",
    "\\partial_{A_t} E_\\mathrm{PT2} = U_{ai}^{A_t} L_{ai} + D_{ij}^\\mathrm{PT2} B_{ij}^{A_t} + D_{ab}^\\mathrm{PT2} B_{ab}^{A_t} + W_{pq}^\\mathrm{PT2} [\\mathrm{I}] S_{pq}^{A_t} + 2 T_{ij}^{ab} (ia|jb)^{A_t}\n",
    "$$"
   ]
  },
  {
   "cell_type": "markdown",
   "metadata": {},
   "source": [
    "我们整合上式中出现 U 矩阵的部分，与 GGA 能量的 U 导数中 U 矩阵的部分，得到\n",
    "\n",
    "$$\n",
    "\\partial_{A_t} E_\\mathrm{GGA} \\leftarrow U_{ai}^{A_t} (4 F_{ai}^\\mathrm{n} + L_{ai})\n",
    "$$"
   ]
  },
  {
   "cell_type": "markdown",
   "metadata": {},
   "source": [
    "我们知道，直接求取 U 矩阵是相对来说耗时的方法，Z-Vector 方程则可以降低计算的消耗。因此，我们再补充定义了 $L_{ai}^\\mathrm{PT2+}$：(Su, eq.50)\n",
    "\n",
    "$$\n",
    "L_{ai}^\\mathrm{PT2+} = L_{ai} + 4 F_{ai}^\\mathrm{n}\n",
    "$$"
   ]
  },
  {
   "cell_type": "markdown",
   "metadata": {},
   "source": [
    "从而使用 Z-Vector 方法，给出的弛豫密度定义为 $D_{ai}^\\mathrm{PT2+}$：\n",
    "\n",
    "$$\n",
    "- (\\varepsilon_a - \\varepsilon_i) D_{ai}^\\mathrm{MP2+} - A_{ai, bj} D_{bj}^\\mathrm{MP2+} = L_{ai}^\\mathrm{PT2+}\n",
    "$$"
   ]
  },
  {
   "cell_type": "markdown",
   "metadata": {},
   "source": [
    "我们进而定义\n",
    "\n",
    "$$\n",
    "D_{ij}^\\mathrm{PT2+} = D_{ij}^\\mathrm{PT2}, D_{ab}^\\mathrm{PT2+} = D_{ab}^\\mathrm{PT2}, D_{ia}^\\mathrm{PT2+} = D_{ia}^\\mathrm{PT2} = 0\n",
    "$$"
   ]
  },
  {
   "cell_type": "markdown",
   "metadata": {},
   "source": [
    "因此，我们最终得到了 XYG3 型泛函的导数：\n",
    "\n",
    "$$\n",
    "\\begin{align}\n",
    "\\partial_{A_t} E_\\mathrm{tot}\n",
    "&= h_{\\mu \\nu}^{A_t} D_{\\mu \\nu} + \\frac{1}{2} D_{\\mu \\nu} (\\mu \\nu | \\kappa \\lambda)^{A_t} D_{\\kappa \\lambda} - \\frac{c_\\mathrm{x}^\\mathrm{n}}{4} D_{\\mu \\nu} (\\mu \\kappa | \\nu \\lambda)^{A_t} D_{\\kappa \\lambda} + f_\\rho^\\mathrm{n} \\rho^{A_t} + f_\\gamma^\\mathrm{n} \\gamma^{A_t} - 2 S_{ij}^{A_t} F_{ij}^\\mathrm{n} \\\\\n",
    "&\\quad + D_{pq}^\\mathrm{PT2+} B_{pq}^{A_t} + W_{pq}^\\mathrm{PT2} [\\mathrm{I}] S_{pq}^{A_t} + 2 T_{ij}^{ab} (ia|jb)^{A_t} + \\partial_{A_t} E_\\mathrm{nuc}\n",
    "\\end{align}\n",
    "$$"
   ]
  },
  {
   "cell_type": "markdown",
   "metadata": {},
   "source": [
    "至此，理论上的讨论就结束了。我们下面就将计算该导数所需要使用到的矩阵和张量的计算方式重新回顾一遍，并实现 XYG3 型泛函的梯度。"
   ]
  },
  {
   "cell_type": "markdown",
   "metadata": {},
   "source": [
    "## XYG3 型核坐标梯度：程序实现 CheatSheet"
   ]
  },
  {
   "cell_type": "markdown",
   "metadata": {},
   "source": [
    "The following equations and code is utilized for XYG3 (or other XYG3-type double hybrid, such as XYGJ-OS or xDH-PBE0, with minimal modification to definition of $T_{ij}^{ab}$); however, most functionals could be calculated by formulation degradation:\n",
    "\n",
    "- for B2PLYP-type double hybrid, set $c_\\mathrm{x}^\\mathrm{n}, f^\\mathrm{n}$ set as its self-consistent alternative, and remove $F_{ai}^\\mathrm{n}$ from $L_{ai}^\\mathrm{PT2+}$;\n",
    "\n",
    "- for MP2, remove all contribution from exchange-correlation kernel, and set $c_\\mathrm{x} = 1, c_\\mathrm{c} = 1$;\n",
    "\n",
    "- for non-consistent GGA, set $c_\\mathrm{c} = 0$ or remove all terms that contains $T_{ij}^{ab}$;\n",
    "\n",
    "- for GGA, further remove contribution of response density matrix from that of non-consistent GGA;\n",
    "\n",
    "- for RHF, further remove contribution of exchange-correlation kernel from that of GGA, and set $c_\\mathrm{x} = 1$."
   ]
  },
  {
   "cell_type": "markdown",
   "metadata": {
    "heading_collapsed": true
   },
   "source": [
    "### `nc_F_0_mo` $F_{pq}^\\mathrm{n}$ Non-consistent (hybrid) GGA Fock Matrix"
   ]
  },
  {
   "cell_type": "markdown",
   "metadata": {
    "hidden": true
   },
   "source": [
    "- `nc_F_0_ao` $F_{\\mu \\nu}^\\mathrm{n}$; dim: $(\\mu, \\nu)$; symm: $F_{\\mu \\nu}^\\mathrm{n} = F_{\\nu \\mu}^\\mathrm{n}$\n",
    "\n",
    "$$\n",
    "F_{\\mu \\nu}^\\mathrm{n} = h_{\\mu \\nu} + (\\mu \\nu | \\kappa \\lambda) D_{\\kappa \\lambda} - \\frac{c_\\mathrm{x}^\\mathrm{n}}{2} (\\mu \\kappa | \\nu \\lambda) D_{\\kappa \\lambda} + f_\\rho^\\mathrm{n} \\phi_\\mu \\phi_\\nu + 2 f_\\gamma^\\mathrm{n} \\rho_r (\\phi_{r \\mu} \\phi_{\\nu} + \\phi_{\\mu} \\phi_{r \\nu})\n",
    "$$"
   ]
  },
  {
   "cell_type": "code",
   "execution_count": 14,
   "metadata": {
    "hidden": true
   },
   "outputs": [
    {
     "data": {
      "text/plain": [
       "(22, 22)"
      ]
     },
     "execution_count": 14,
     "metadata": {},
     "output_type": "execute_result"
    }
   ],
   "source": [
    "nc_F_0_ao = (\n",
    "    + H_0_ao\n",
    "    + np.einsum(\"uvkl, kl -> uv\", eri0_ao, D)\n",
    "    - 0.5 * cx_n * np.einsum(\"ukvl, kl -> uv\", eri0_ao, D)\n",
    "    + np.einsum(\"g, gu, gv -> uv\", kerh_n.fr, ao_0, ao_0)\n",
    "    + 2 * np.einsum(\"g, rg, rgu, gv -> uv\", kerh_n.fg, rho_1, ao_1, ao_0)\n",
    "    + 2 * np.einsum(\"g, rg, gu, rgv -> uv\", kerh_n.fg, rho_1, ao_0, ao_1)\n",
    ")\n",
    "nc_F_0_ao.shape"
   ]
  },
  {
   "cell_type": "code",
   "execution_count": 15,
   "metadata": {
    "hidden": true,
    "scrolled": false
   },
   "outputs": [
    {
     "data": {
      "text/plain": [
       "True"
      ]
     },
     "execution_count": 15,
     "metadata": {},
     "output_type": "execute_result"
    }
   ],
   "source": [
    "np.allclose(nc_F_0_ao, nc_F_0_ao.swapaxes(-1, -2))  # symm check"
   ]
  },
  {
   "cell_type": "code",
   "execution_count": 16,
   "metadata": {
    "hidden": true
   },
   "outputs": [
    {
     "data": {
      "text/plain": [
       "True"
      ]
     },
     "execution_count": 16,
     "metadata": {},
     "output_type": "execute_result"
    }
   ],
   "source": [
    "np.allclose(nc_F_0_ao, gradh.nc_deriv.F_0_ao)  # pyxdh approach"
   ]
  },
  {
   "cell_type": "code",
   "execution_count": 17,
   "metadata": {
    "hidden": true
   },
   "outputs": [
    {
     "data": {
      "text/plain": [
       "True"
      ]
     },
     "execution_count": 17,
     "metadata": {},
     "output_type": "execute_result"
    }
   ],
   "source": [
    "np.allclose(nc_F_0_ao, nc_eng.get_fock(dm=D))  # PySCF approach"
   ]
  },
  {
   "cell_type": "markdown",
   "metadata": {
    "hidden": true
   },
   "source": [
    "- `nd_F_0_mo` $F_{pq}^\\mathrm{n}$; dim: $(p, q)$; symm: $F_{pq}^\\mathrm{n} = F_{qp}^\\mathrm{n}$; additional: $F_{ai}^\\mathrm{n} \\not \\equiv 0$\n",
    "\n",
    "$$\n",
    "F_{pq}^\\mathrm{n} = C_{\\mu p} F_{\\mu \\nu}^\\mathrm{n} C_{\\nu q}\n",
    "$$"
   ]
  },
  {
   "cell_type": "code",
   "execution_count": 18,
   "metadata": {
    "hidden": true
   },
   "outputs": [
    {
     "data": {
      "text/plain": [
       "(22, 22)"
      ]
     },
     "execution_count": 18,
     "metadata": {},
     "output_type": "execute_result"
    }
   ],
   "source": [
    "nc_F_0_mo = np.einsum(\"up, uv, vq -> pq\", C, nc_F_0_ao, C)\n",
    "nc_F_0_mo.shape"
   ]
  },
  {
   "cell_type": "code",
   "execution_count": 19,
   "metadata": {
    "hidden": true
   },
   "outputs": [
    {
     "data": {
      "text/plain": [
       "True"
      ]
     },
     "execution_count": 19,
     "metadata": {},
     "output_type": "execute_result"
    }
   ],
   "source": [
    "np.allclose(nc_F_0_mo, nc_F_0_mo.swapaxes(-1, -2))  # symm check"
   ]
  },
  {
   "cell_type": "code",
   "execution_count": 20,
   "metadata": {
    "hidden": true
   },
   "outputs": [
    {
     "data": {
      "text/plain": [
       "0.7123914849239249"
      ]
     },
     "execution_count": 20,
     "metadata": {},
     "output_type": "execute_result"
    }
   ],
   "source": [
    "np.abs(nc_F_0_mo[sv, so]).sum()  # non-zero value check"
   ]
  },
  {
   "cell_type": "code",
   "execution_count": 21,
   "metadata": {
    "hidden": true
   },
   "outputs": [
    {
     "data": {
      "text/plain": [
       "9.042131443680203e-07"
      ]
     },
     "execution_count": 21,
     "metadata": {},
     "output_type": "execute_result"
    }
   ],
   "source": [
    "np.abs(F_0_mo[sv, so]).sum()  # Compare with F_{ai} derived from self-consistent functional"
   ]
  },
  {
   "cell_type": "code",
   "execution_count": 22,
   "metadata": {
    "hidden": true
   },
   "outputs": [
    {
     "data": {
      "text/plain": [
       "True"
      ]
     },
     "execution_count": 22,
     "metadata": {},
     "output_type": "execute_result"
    }
   ],
   "source": [
    "np.allclose(nc_F_0_mo, gradh.nc_deriv.F_0_mo)  # pyxdh approach"
   ]
  },
  {
   "cell_type": "markdown",
   "metadata": {
    "heading_collapsed": true
   },
   "source": [
    "### `S_1_ao` $S_{\\mu \\nu}^{A_t}$ Overlap Integral Skeleton"
   ]
  },
  {
   "cell_type": "markdown",
   "metadata": {
    "hidden": true
   },
   "source": [
    "- `int1e_ipovlp` $\\langle \\partial_t \\mu | \\nu \\rangle$; dim $(t, \\mu, \\nu)$; symm $\\langle \\partial_t \\mu | \\nu \\rangle = - \\langle \\mu | \\partial_t \\nu \\rangle$"
   ]
  },
  {
   "cell_type": "code",
   "execution_count": 23,
   "metadata": {
    "hidden": true
   },
   "outputs": [
    {
     "data": {
      "text/plain": [
       "(3, 22, 22)"
      ]
     },
     "execution_count": 23,
     "metadata": {},
     "output_type": "execute_result"
    }
   ],
   "source": [
    "int1e_ipovlp = mol.intor(\"int1e_ipovlp\")\n",
    "int1e_ipovlp.shape"
   ]
  },
  {
   "cell_type": "code",
   "execution_count": 24,
   "metadata": {
    "hidden": true
   },
   "outputs": [
    {
     "data": {
      "text/plain": [
       "True"
      ]
     },
     "execution_count": 24,
     "metadata": {},
     "output_type": "execute_result"
    }
   ],
   "source": [
    "np.allclose(int1e_ipovlp, - int1e_ipovlp.swapaxes(-1, -2))"
   ]
  },
  {
   "cell_type": "markdown",
   "metadata": {
    "hidden": true
   },
   "source": [
    "- `S_1_ao` $S_{\\mu \\nu}^{A_t}$; dim $(A, t, \\mu, \\nu)$ in document, $(A_t, \\mu, \\nu)$ in pyxdh; symm: $S_{\\mu \\nu}^{A_t} = S_{\\nu \\mu}^{A_t}$\n",
    "\n",
    "$$\n",
    "S_{\\mu \\nu}^{A_t} = \\frac{\\partial}{\\partial A_t} S_{\\mu \\nu} = - \\langle \\partial_t \\mu_A | \\nu \\rangle + \\mathrm{swap} (\\mu, \\nu)\n",
    "$$"
   ]
  },
  {
   "cell_type": "code",
   "execution_count": 25,
   "metadata": {
    "hidden": true
   },
   "outputs": [
    {
     "data": {
      "text/plain": [
       "(4, 3, 22, 22)"
      ]
     },
     "execution_count": 25,
     "metadata": {},
     "output_type": "execute_result"
    }
   ],
   "source": [
    "S_1_ao = np.zeros((natm, 3, nao, nao))\n",
    "for A in range(natm):\n",
    "    sA = mol_slice(A)\n",
    "    S_1_ao[A, :, sA, :] = - int1e_ipovlp[:, sA, :]\n",
    "S_1_ao += S_1_ao.swapaxes(-1, -2)\n",
    "S_1_ao.shape"
   ]
  },
  {
   "cell_type": "code",
   "execution_count": 26,
   "metadata": {
    "hidden": true,
    "scrolled": true
   },
   "outputs": [
    {
     "data": {
      "text/plain": [
       "True"
      ]
     },
     "execution_count": 26,
     "metadata": {},
     "output_type": "execute_result"
    }
   ],
   "source": [
    "np.allclose(S_1_ao, S_1_ao.swapaxes(-1, -2))  # symm check"
   ]
  },
  {
   "cell_type": "code",
   "execution_count": 27,
   "metadata": {
    "hidden": true
   },
   "outputs": [
    {
     "data": {
      "text/plain": [
       "True"
      ]
     },
     "execution_count": 27,
     "metadata": {},
     "output_type": "execute_result"
    }
   ],
   "source": [
    "np.allclose(S_1_ao, gradh.S_1_ao.reshape(natm, 3, nao, nao))  # pyxdh approach"
   ]
  },
  {
   "cell_type": "code",
   "execution_count": 28,
   "metadata": {
    "hidden": true
   },
   "outputs": [
    {
     "data": {
      "application/javascript": [
       "/* Put everything inside the global mpl namespace */\n",
       "window.mpl = {};\n",
       "\n",
       "\n",
       "mpl.get_websocket_type = function() {\n",
       "    if (typeof(WebSocket) !== 'undefined') {\n",
       "        return WebSocket;\n",
       "    } else if (typeof(MozWebSocket) !== 'undefined') {\n",
       "        return MozWebSocket;\n",
       "    } else {\n",
       "        alert('Your browser does not have WebSocket support. ' +\n",
       "              'Please try Chrome, Safari or Firefox ≥ 6. ' +\n",
       "              'Firefox 4 and 5 are also supported but you ' +\n",
       "              'have to enable WebSockets in about:config.');\n",
       "    };\n",
       "}\n",
       "\n",
       "mpl.figure = function(figure_id, websocket, ondownload, parent_element) {\n",
       "    this.id = figure_id;\n",
       "\n",
       "    this.ws = websocket;\n",
       "\n",
       "    this.supports_binary = (this.ws.binaryType != undefined);\n",
       "\n",
       "    if (!this.supports_binary) {\n",
       "        var warnings = document.getElementById(\"mpl-warnings\");\n",
       "        if (warnings) {\n",
       "            warnings.style.display = 'block';\n",
       "            warnings.textContent = (\n",
       "                \"This browser does not support binary websocket messages. \" +\n",
       "                    \"Performance may be slow.\");\n",
       "        }\n",
       "    }\n",
       "\n",
       "    this.imageObj = new Image();\n",
       "\n",
       "    this.context = undefined;\n",
       "    this.message = undefined;\n",
       "    this.canvas = undefined;\n",
       "    this.rubberband_canvas = undefined;\n",
       "    this.rubberband_context = undefined;\n",
       "    this.format_dropdown = undefined;\n",
       "\n",
       "    this.image_mode = 'full';\n",
       "\n",
       "    this.root = $('<div/>');\n",
       "    this._root_extra_style(this.root)\n",
       "    this.root.attr('style', 'display: inline-block');\n",
       "\n",
       "    $(parent_element).append(this.root);\n",
       "\n",
       "    this._init_header(this);\n",
       "    this._init_canvas(this);\n",
       "    this._init_toolbar(this);\n",
       "\n",
       "    var fig = this;\n",
       "\n",
       "    this.waiting = false;\n",
       "\n",
       "    this.ws.onopen =  function () {\n",
       "            fig.send_message(\"supports_binary\", {value: fig.supports_binary});\n",
       "            fig.send_message(\"send_image_mode\", {});\n",
       "            if (mpl.ratio != 1) {\n",
       "                fig.send_message(\"set_dpi_ratio\", {'dpi_ratio': mpl.ratio});\n",
       "            }\n",
       "            fig.send_message(\"refresh\", {});\n",
       "        }\n",
       "\n",
       "    this.imageObj.onload = function() {\n",
       "            if (fig.image_mode == 'full') {\n",
       "                // Full images could contain transparency (where diff images\n",
       "                // almost always do), so we need to clear the canvas so that\n",
       "                // there is no ghosting.\n",
       "                fig.context.clearRect(0, 0, fig.canvas.width, fig.canvas.height);\n",
       "            }\n",
       "            fig.context.drawImage(fig.imageObj, 0, 0);\n",
       "        };\n",
       "\n",
       "    this.imageObj.onunload = function() {\n",
       "        fig.ws.close();\n",
       "    }\n",
       "\n",
       "    this.ws.onmessage = this._make_on_message_function(this);\n",
       "\n",
       "    this.ondownload = ondownload;\n",
       "}\n",
       "\n",
       "mpl.figure.prototype._init_header = function() {\n",
       "    var titlebar = $(\n",
       "        '<div class=\"ui-dialog-titlebar ui-widget-header ui-corner-all ' +\n",
       "        'ui-helper-clearfix\"/>');\n",
       "    var titletext = $(\n",
       "        '<div class=\"ui-dialog-title\" style=\"width: 100%; ' +\n",
       "        'text-align: center; padding: 3px;\"/>');\n",
       "    titlebar.append(titletext)\n",
       "    this.root.append(titlebar);\n",
       "    this.header = titletext[0];\n",
       "}\n",
       "\n",
       "\n",
       "\n",
       "mpl.figure.prototype._canvas_extra_style = function(canvas_div) {\n",
       "\n",
       "}\n",
       "\n",
       "\n",
       "mpl.figure.prototype._root_extra_style = function(canvas_div) {\n",
       "\n",
       "}\n",
       "\n",
       "mpl.figure.prototype._init_canvas = function() {\n",
       "    var fig = this;\n",
       "\n",
       "    var canvas_div = $('<div/>');\n",
       "\n",
       "    canvas_div.attr('style', 'position: relative; clear: both; outline: 0');\n",
       "\n",
       "    function canvas_keyboard_event(event) {\n",
       "        return fig.key_event(event, event['data']);\n",
       "    }\n",
       "\n",
       "    canvas_div.keydown('key_press', canvas_keyboard_event);\n",
       "    canvas_div.keyup('key_release', canvas_keyboard_event);\n",
       "    this.canvas_div = canvas_div\n",
       "    this._canvas_extra_style(canvas_div)\n",
       "    this.root.append(canvas_div);\n",
       "\n",
       "    var canvas = $('<canvas/>');\n",
       "    canvas.addClass('mpl-canvas');\n",
       "    canvas.attr('style', \"left: 0; top: 0; z-index: 0; outline: 0\")\n",
       "\n",
       "    this.canvas = canvas[0];\n",
       "    this.context = canvas[0].getContext(\"2d\");\n",
       "\n",
       "    var backingStore = this.context.backingStorePixelRatio ||\n",
       "\tthis.context.webkitBackingStorePixelRatio ||\n",
       "\tthis.context.mozBackingStorePixelRatio ||\n",
       "\tthis.context.msBackingStorePixelRatio ||\n",
       "\tthis.context.oBackingStorePixelRatio ||\n",
       "\tthis.context.backingStorePixelRatio || 1;\n",
       "\n",
       "    mpl.ratio = (window.devicePixelRatio || 1) / backingStore;\n",
       "\n",
       "    var rubberband = $('<canvas/>');\n",
       "    rubberband.attr('style', \"position: absolute; left: 0; top: 0; z-index: 1;\")\n",
       "\n",
       "    var pass_mouse_events = true;\n",
       "\n",
       "    canvas_div.resizable({\n",
       "        start: function(event, ui) {\n",
       "            pass_mouse_events = false;\n",
       "        },\n",
       "        resize: function(event, ui) {\n",
       "            fig.request_resize(ui.size.width, ui.size.height);\n",
       "        },\n",
       "        stop: function(event, ui) {\n",
       "            pass_mouse_events = true;\n",
       "            fig.request_resize(ui.size.width, ui.size.height);\n",
       "        },\n",
       "    });\n",
       "\n",
       "    function mouse_event_fn(event) {\n",
       "        if (pass_mouse_events)\n",
       "            return fig.mouse_event(event, event['data']);\n",
       "    }\n",
       "\n",
       "    rubberband.mousedown('button_press', mouse_event_fn);\n",
       "    rubberband.mouseup('button_release', mouse_event_fn);\n",
       "    // Throttle sequential mouse events to 1 every 20ms.\n",
       "    rubberband.mousemove('motion_notify', mouse_event_fn);\n",
       "\n",
       "    rubberband.mouseenter('figure_enter', mouse_event_fn);\n",
       "    rubberband.mouseleave('figure_leave', mouse_event_fn);\n",
       "\n",
       "    canvas_div.on(\"wheel\", function (event) {\n",
       "        event = event.originalEvent;\n",
       "        event['data'] = 'scroll'\n",
       "        if (event.deltaY < 0) {\n",
       "            event.step = 1;\n",
       "        } else {\n",
       "            event.step = -1;\n",
       "        }\n",
       "        mouse_event_fn(event);\n",
       "    });\n",
       "\n",
       "    canvas_div.append(canvas);\n",
       "    canvas_div.append(rubberband);\n",
       "\n",
       "    this.rubberband = rubberband;\n",
       "    this.rubberband_canvas = rubberband[0];\n",
       "    this.rubberband_context = rubberband[0].getContext(\"2d\");\n",
       "    this.rubberband_context.strokeStyle = \"#000000\";\n",
       "\n",
       "    this._resize_canvas = function(width, height) {\n",
       "        // Keep the size of the canvas, canvas container, and rubber band\n",
       "        // canvas in synch.\n",
       "        canvas_div.css('width', width)\n",
       "        canvas_div.css('height', height)\n",
       "\n",
       "        canvas.attr('width', width * mpl.ratio);\n",
       "        canvas.attr('height', height * mpl.ratio);\n",
       "        canvas.attr('style', 'width: ' + width + 'px; height: ' + height + 'px;');\n",
       "\n",
       "        rubberband.attr('width', width);\n",
       "        rubberband.attr('height', height);\n",
       "    }\n",
       "\n",
       "    // Set the figure to an initial 600x600px, this will subsequently be updated\n",
       "    // upon first draw.\n",
       "    this._resize_canvas(600, 600);\n",
       "\n",
       "    // Disable right mouse context menu.\n",
       "    $(this.rubberband_canvas).bind(\"contextmenu\",function(e){\n",
       "        return false;\n",
       "    });\n",
       "\n",
       "    function set_focus () {\n",
       "        canvas.focus();\n",
       "        canvas_div.focus();\n",
       "    }\n",
       "\n",
       "    window.setTimeout(set_focus, 100);\n",
       "}\n",
       "\n",
       "mpl.figure.prototype._init_toolbar = function() {\n",
       "    var fig = this;\n",
       "\n",
       "    var nav_element = $('<div/>');\n",
       "    nav_element.attr('style', 'width: 100%');\n",
       "    this.root.append(nav_element);\n",
       "\n",
       "    // Define a callback function for later on.\n",
       "    function toolbar_event(event) {\n",
       "        return fig.toolbar_button_onclick(event['data']);\n",
       "    }\n",
       "    function toolbar_mouse_event(event) {\n",
       "        return fig.toolbar_button_onmouseover(event['data']);\n",
       "    }\n",
       "\n",
       "    for(var toolbar_ind in mpl.toolbar_items) {\n",
       "        var name = mpl.toolbar_items[toolbar_ind][0];\n",
       "        var tooltip = mpl.toolbar_items[toolbar_ind][1];\n",
       "        var image = mpl.toolbar_items[toolbar_ind][2];\n",
       "        var method_name = mpl.toolbar_items[toolbar_ind][3];\n",
       "\n",
       "        if (!name) {\n",
       "            // put a spacer in here.\n",
       "            continue;\n",
       "        }\n",
       "        var button = $('<button/>');\n",
       "        button.addClass('ui-button ui-widget ui-state-default ui-corner-all ' +\n",
       "                        'ui-button-icon-only');\n",
       "        button.attr('role', 'button');\n",
       "        button.attr('aria-disabled', 'false');\n",
       "        button.click(method_name, toolbar_event);\n",
       "        button.mouseover(tooltip, toolbar_mouse_event);\n",
       "\n",
       "        var icon_img = $('<span/>');\n",
       "        icon_img.addClass('ui-button-icon-primary ui-icon');\n",
       "        icon_img.addClass(image);\n",
       "        icon_img.addClass('ui-corner-all');\n",
       "\n",
       "        var tooltip_span = $('<span/>');\n",
       "        tooltip_span.addClass('ui-button-text');\n",
       "        tooltip_span.html(tooltip);\n",
       "\n",
       "        button.append(icon_img);\n",
       "        button.append(tooltip_span);\n",
       "\n",
       "        nav_element.append(button);\n",
       "    }\n",
       "\n",
       "    var fmt_picker_span = $('<span/>');\n",
       "\n",
       "    var fmt_picker = $('<select/>');\n",
       "    fmt_picker.addClass('mpl-toolbar-option ui-widget ui-widget-content');\n",
       "    fmt_picker_span.append(fmt_picker);\n",
       "    nav_element.append(fmt_picker_span);\n",
       "    this.format_dropdown = fmt_picker[0];\n",
       "\n",
       "    for (var ind in mpl.extensions) {\n",
       "        var fmt = mpl.extensions[ind];\n",
       "        var option = $(\n",
       "            '<option/>', {selected: fmt === mpl.default_extension}).html(fmt);\n",
       "        fmt_picker.append(option);\n",
       "    }\n",
       "\n",
       "    // Add hover states to the ui-buttons\n",
       "    $( \".ui-button\" ).hover(\n",
       "        function() { $(this).addClass(\"ui-state-hover\");},\n",
       "        function() { $(this).removeClass(\"ui-state-hover\");}\n",
       "    );\n",
       "\n",
       "    var status_bar = $('<span class=\"mpl-message\"/>');\n",
       "    nav_element.append(status_bar);\n",
       "    this.message = status_bar[0];\n",
       "}\n",
       "\n",
       "mpl.figure.prototype.request_resize = function(x_pixels, y_pixels) {\n",
       "    // Request matplotlib to resize the figure. Matplotlib will then trigger a resize in the client,\n",
       "    // which will in turn request a refresh of the image.\n",
       "    this.send_message('resize', {'width': x_pixels, 'height': y_pixels});\n",
       "}\n",
       "\n",
       "mpl.figure.prototype.send_message = function(type, properties) {\n",
       "    properties['type'] = type;\n",
       "    properties['figure_id'] = this.id;\n",
       "    this.ws.send(JSON.stringify(properties));\n",
       "}\n",
       "\n",
       "mpl.figure.prototype.send_draw_message = function() {\n",
       "    if (!this.waiting) {\n",
       "        this.waiting = true;\n",
       "        this.ws.send(JSON.stringify({type: \"draw\", figure_id: this.id}));\n",
       "    }\n",
       "}\n",
       "\n",
       "\n",
       "mpl.figure.prototype.handle_save = function(fig, msg) {\n",
       "    var format_dropdown = fig.format_dropdown;\n",
       "    var format = format_dropdown.options[format_dropdown.selectedIndex].value;\n",
       "    fig.ondownload(fig, format);\n",
       "}\n",
       "\n",
       "\n",
       "mpl.figure.prototype.handle_resize = function(fig, msg) {\n",
       "    var size = msg['size'];\n",
       "    if (size[0] != fig.canvas.width || size[1] != fig.canvas.height) {\n",
       "        fig._resize_canvas(size[0], size[1]);\n",
       "        fig.send_message(\"refresh\", {});\n",
       "    };\n",
       "}\n",
       "\n",
       "mpl.figure.prototype.handle_rubberband = function(fig, msg) {\n",
       "    var x0 = msg['x0'] / mpl.ratio;\n",
       "    var y0 = (fig.canvas.height - msg['y0']) / mpl.ratio;\n",
       "    var x1 = msg['x1'] / mpl.ratio;\n",
       "    var y1 = (fig.canvas.height - msg['y1']) / mpl.ratio;\n",
       "    x0 = Math.floor(x0) + 0.5;\n",
       "    y0 = Math.floor(y0) + 0.5;\n",
       "    x1 = Math.floor(x1) + 0.5;\n",
       "    y1 = Math.floor(y1) + 0.5;\n",
       "    var min_x = Math.min(x0, x1);\n",
       "    var min_y = Math.min(y0, y1);\n",
       "    var width = Math.abs(x1 - x0);\n",
       "    var height = Math.abs(y1 - y0);\n",
       "\n",
       "    fig.rubberband_context.clearRect(\n",
       "        0, 0, fig.canvas.width / mpl.ratio, fig.canvas.height / mpl.ratio);\n",
       "\n",
       "    fig.rubberband_context.strokeRect(min_x, min_y, width, height);\n",
       "}\n",
       "\n",
       "mpl.figure.prototype.handle_figure_label = function(fig, msg) {\n",
       "    // Updates the figure title.\n",
       "    fig.header.textContent = msg['label'];\n",
       "}\n",
       "\n",
       "mpl.figure.prototype.handle_cursor = function(fig, msg) {\n",
       "    var cursor = msg['cursor'];\n",
       "    switch(cursor)\n",
       "    {\n",
       "    case 0:\n",
       "        cursor = 'pointer';\n",
       "        break;\n",
       "    case 1:\n",
       "        cursor = 'default';\n",
       "        break;\n",
       "    case 2:\n",
       "        cursor = 'crosshair';\n",
       "        break;\n",
       "    case 3:\n",
       "        cursor = 'move';\n",
       "        break;\n",
       "    }\n",
       "    fig.rubberband_canvas.style.cursor = cursor;\n",
       "}\n",
       "\n",
       "mpl.figure.prototype.handle_message = function(fig, msg) {\n",
       "    fig.message.textContent = msg['message'];\n",
       "}\n",
       "\n",
       "mpl.figure.prototype.handle_draw = function(fig, msg) {\n",
       "    // Request the server to send over a new figure.\n",
       "    fig.send_draw_message();\n",
       "}\n",
       "\n",
       "mpl.figure.prototype.handle_image_mode = function(fig, msg) {\n",
       "    fig.image_mode = msg['mode'];\n",
       "}\n",
       "\n",
       "mpl.figure.prototype.updated_canvas_event = function() {\n",
       "    // Called whenever the canvas gets updated.\n",
       "    this.send_message(\"ack\", {});\n",
       "}\n",
       "\n",
       "// A function to construct a web socket function for onmessage handling.\n",
       "// Called in the figure constructor.\n",
       "mpl.figure.prototype._make_on_message_function = function(fig) {\n",
       "    return function socket_on_message(evt) {\n",
       "        if (evt.data instanceof Blob) {\n",
       "            /* FIXME: We get \"Resource interpreted as Image but\n",
       "             * transferred with MIME type text/plain:\" errors on\n",
       "             * Chrome.  But how to set the MIME type?  It doesn't seem\n",
       "             * to be part of the websocket stream */\n",
       "            evt.data.type = \"image/png\";\n",
       "\n",
       "            /* Free the memory for the previous frames */\n",
       "            if (fig.imageObj.src) {\n",
       "                (window.URL || window.webkitURL).revokeObjectURL(\n",
       "                    fig.imageObj.src);\n",
       "            }\n",
       "\n",
       "            fig.imageObj.src = (window.URL || window.webkitURL).createObjectURL(\n",
       "                evt.data);\n",
       "            fig.updated_canvas_event();\n",
       "            fig.waiting = false;\n",
       "            return;\n",
       "        }\n",
       "        else if (typeof evt.data === 'string' && evt.data.slice(0, 21) == \"data:image/png;base64\") {\n",
       "            fig.imageObj.src = evt.data;\n",
       "            fig.updated_canvas_event();\n",
       "            fig.waiting = false;\n",
       "            return;\n",
       "        }\n",
       "\n",
       "        var msg = JSON.parse(evt.data);\n",
       "        var msg_type = msg['type'];\n",
       "\n",
       "        // Call the  \"handle_{type}\" callback, which takes\n",
       "        // the figure and JSON message as its only arguments.\n",
       "        try {\n",
       "            var callback = fig[\"handle_\" + msg_type];\n",
       "        } catch (e) {\n",
       "            console.log(\"No handler for the '\" + msg_type + \"' message type: \", msg);\n",
       "            return;\n",
       "        }\n",
       "\n",
       "        if (callback) {\n",
       "            try {\n",
       "                // console.log(\"Handling '\" + msg_type + \"' message: \", msg);\n",
       "                callback(fig, msg);\n",
       "            } catch (e) {\n",
       "                console.log(\"Exception inside the 'handler_\" + msg_type + \"' callback:\", e, e.stack, msg);\n",
       "            }\n",
       "        }\n",
       "    };\n",
       "}\n",
       "\n",
       "// from http://stackoverflow.com/questions/1114465/getting-mouse-location-in-canvas\n",
       "mpl.findpos = function(e) {\n",
       "    //this section is from http://www.quirksmode.org/js/events_properties.html\n",
       "    var targ;\n",
       "    if (!e)\n",
       "        e = window.event;\n",
       "    if (e.target)\n",
       "        targ = e.target;\n",
       "    else if (e.srcElement)\n",
       "        targ = e.srcElement;\n",
       "    if (targ.nodeType == 3) // defeat Safari bug\n",
       "        targ = targ.parentNode;\n",
       "\n",
       "    // jQuery normalizes the pageX and pageY\n",
       "    // pageX,Y are the mouse positions relative to the document\n",
       "    // offset() returns the position of the element relative to the document\n",
       "    var x = e.pageX - $(targ).offset().left;\n",
       "    var y = e.pageY - $(targ).offset().top;\n",
       "\n",
       "    return {\"x\": x, \"y\": y};\n",
       "};\n",
       "\n",
       "/*\n",
       " * return a copy of an object with only non-object keys\n",
       " * we need this to avoid circular references\n",
       " * http://stackoverflow.com/a/24161582/3208463\n",
       " */\n",
       "function simpleKeys (original) {\n",
       "  return Object.keys(original).reduce(function (obj, key) {\n",
       "    if (typeof original[key] !== 'object')\n",
       "        obj[key] = original[key]\n",
       "    return obj;\n",
       "  }, {});\n",
       "}\n",
       "\n",
       "mpl.figure.prototype.mouse_event = function(event, name) {\n",
       "    var canvas_pos = mpl.findpos(event)\n",
       "\n",
       "    if (name === 'button_press')\n",
       "    {\n",
       "        this.canvas.focus();\n",
       "        this.canvas_div.focus();\n",
       "    }\n",
       "\n",
       "    var x = canvas_pos.x * mpl.ratio;\n",
       "    var y = canvas_pos.y * mpl.ratio;\n",
       "\n",
       "    this.send_message(name, {x: x, y: y, button: event.button,\n",
       "                             step: event.step,\n",
       "                             guiEvent: simpleKeys(event)});\n",
       "\n",
       "    /* This prevents the web browser from automatically changing to\n",
       "     * the text insertion cursor when the button is pressed.  We want\n",
       "     * to control all of the cursor setting manually through the\n",
       "     * 'cursor' event from matplotlib */\n",
       "    event.preventDefault();\n",
       "    return false;\n",
       "}\n",
       "\n",
       "mpl.figure.prototype._key_event_extra = function(event, name) {\n",
       "    // Handle any extra behaviour associated with a key event\n",
       "}\n",
       "\n",
       "mpl.figure.prototype.key_event = function(event, name) {\n",
       "\n",
       "    // Prevent repeat events\n",
       "    if (name == 'key_press')\n",
       "    {\n",
       "        if (event.which === this._key)\n",
       "            return;\n",
       "        else\n",
       "            this._key = event.which;\n",
       "    }\n",
       "    if (name == 'key_release')\n",
       "        this._key = null;\n",
       "\n",
       "    var value = '';\n",
       "    if (event.ctrlKey && event.which != 17)\n",
       "        value += \"ctrl+\";\n",
       "    if (event.altKey && event.which != 18)\n",
       "        value += \"alt+\";\n",
       "    if (event.shiftKey && event.which != 16)\n",
       "        value += \"shift+\";\n",
       "\n",
       "    value += 'k';\n",
       "    value += event.which.toString();\n",
       "\n",
       "    this._key_event_extra(event, name);\n",
       "\n",
       "    this.send_message(name, {key: value,\n",
       "                             guiEvent: simpleKeys(event)});\n",
       "    return false;\n",
       "}\n",
       "\n",
       "mpl.figure.prototype.toolbar_button_onclick = function(name) {\n",
       "    if (name == 'download') {\n",
       "        this.handle_save(this, null);\n",
       "    } else {\n",
       "        this.send_message(\"toolbar_button\", {name: name});\n",
       "    }\n",
       "};\n",
       "\n",
       "mpl.figure.prototype.toolbar_button_onmouseover = function(tooltip) {\n",
       "    this.message.textContent = tooltip;\n",
       "};\n",
       "mpl.toolbar_items = [[\"Home\", \"Reset original view\", \"fa fa-home icon-home\", \"home\"], [\"Back\", \"Back to previous view\", \"fa fa-arrow-left icon-arrow-left\", \"back\"], [\"Forward\", \"Forward to next view\", \"fa fa-arrow-right icon-arrow-right\", \"forward\"], [\"\", \"\", \"\", \"\"], [\"Pan\", \"Pan axes with left mouse, zoom with right\", \"fa fa-arrows icon-move\", \"pan\"], [\"Zoom\", \"Zoom to rectangle\", \"fa fa-square-o icon-check-empty\", \"zoom\"], [\"\", \"\", \"\", \"\"], [\"Download\", \"Download plot\", \"fa fa-floppy-o icon-save\", \"download\"]];\n",
       "\n",
       "mpl.extensions = [\"eps\", \"pdf\", \"png\", \"ps\", \"raw\", \"svg\"];\n",
       "\n",
       "mpl.default_extension = \"png\";var comm_websocket_adapter = function(comm) {\n",
       "    // Create a \"websocket\"-like object which calls the given IPython comm\n",
       "    // object with the appropriate methods. Currently this is a non binary\n",
       "    // socket, so there is still some room for performance tuning.\n",
       "    var ws = {};\n",
       "\n",
       "    ws.close = function() {\n",
       "        comm.close()\n",
       "    };\n",
       "    ws.send = function(m) {\n",
       "        //console.log('sending', m);\n",
       "        comm.send(m);\n",
       "    };\n",
       "    // Register the callback with on_msg.\n",
       "    comm.on_msg(function(msg) {\n",
       "        //console.log('receiving', msg['content']['data'], msg);\n",
       "        // Pass the mpl event to the overridden (by mpl) onmessage function.\n",
       "        ws.onmessage(msg['content']['data'])\n",
       "    });\n",
       "    return ws;\n",
       "}\n",
       "\n",
       "mpl.mpl_figure_comm = function(comm, msg) {\n",
       "    // This is the function which gets called when the mpl process\n",
       "    // starts-up an IPython Comm through the \"matplotlib\" channel.\n",
       "\n",
       "    var id = msg.content.data.id;\n",
       "    // Get hold of the div created by the display call when the Comm\n",
       "    // socket was opened in Python.\n",
       "    var element = $(\"#\" + id);\n",
       "    var ws_proxy = comm_websocket_adapter(comm)\n",
       "\n",
       "    function ondownload(figure, format) {\n",
       "        window.open(figure.imageObj.src);\n",
       "    }\n",
       "\n",
       "    var fig = new mpl.figure(id, ws_proxy,\n",
       "                           ondownload,\n",
       "                           element.get(0));\n",
       "\n",
       "    // Call onopen now - mpl needs it, as it is assuming we've passed it a real\n",
       "    // web socket which is closed, not our websocket->open comm proxy.\n",
       "    ws_proxy.onopen();\n",
       "\n",
       "    fig.parent_element = element.get(0);\n",
       "    fig.cell_info = mpl.find_output_cell(\"<div id='\" + id + \"'></div>\");\n",
       "    if (!fig.cell_info) {\n",
       "        console.error(\"Failed to find cell for figure\", id, fig);\n",
       "        return;\n",
       "    }\n",
       "\n",
       "    var output_index = fig.cell_info[2]\n",
       "    var cell = fig.cell_info[0];\n",
       "\n",
       "};\n",
       "\n",
       "mpl.figure.prototype.handle_close = function(fig, msg) {\n",
       "    var width = fig.canvas.width/mpl.ratio\n",
       "    fig.root.unbind('remove')\n",
       "\n",
       "    // Update the output cell to use the data from the current canvas.\n",
       "    fig.push_to_output();\n",
       "    var dataURL = fig.canvas.toDataURL();\n",
       "    // Re-enable the keyboard manager in IPython - without this line, in FF,\n",
       "    // the notebook keyboard shortcuts fail.\n",
       "    IPython.keyboard_manager.enable()\n",
       "    $(fig.parent_element).html('<img src=\"' + dataURL + '\" width=\"' + width + '\">');\n",
       "    fig.close_ws(fig, msg);\n",
       "}\n",
       "\n",
       "mpl.figure.prototype.close_ws = function(fig, msg){\n",
       "    fig.send_message('closing', msg);\n",
       "    // fig.ws.close()\n",
       "}\n",
       "\n",
       "mpl.figure.prototype.push_to_output = function(remove_interactive) {\n",
       "    // Turn the data on the canvas into data in the output cell.\n",
       "    var width = this.canvas.width/mpl.ratio\n",
       "    var dataURL = this.canvas.toDataURL();\n",
       "    this.cell_info[1]['text/html'] = '<img src=\"' + dataURL + '\" width=\"' + width + '\">';\n",
       "}\n",
       "\n",
       "mpl.figure.prototype.updated_canvas_event = function() {\n",
       "    // Tell IPython that the notebook contents must change.\n",
       "    IPython.notebook.set_dirty(true);\n",
       "    this.send_message(\"ack\", {});\n",
       "    var fig = this;\n",
       "    // Wait a second, then push the new image to the DOM so\n",
       "    // that it is saved nicely (might be nice to debounce this).\n",
       "    setTimeout(function () { fig.push_to_output() }, 1000);\n",
       "}\n",
       "\n",
       "mpl.figure.prototype._init_toolbar = function() {\n",
       "    var fig = this;\n",
       "\n",
       "    var nav_element = $('<div/>');\n",
       "    nav_element.attr('style', 'width: 100%');\n",
       "    this.root.append(nav_element);\n",
       "\n",
       "    // Define a callback function for later on.\n",
       "    function toolbar_event(event) {\n",
       "        return fig.toolbar_button_onclick(event['data']);\n",
       "    }\n",
       "    function toolbar_mouse_event(event) {\n",
       "        return fig.toolbar_button_onmouseover(event['data']);\n",
       "    }\n",
       "\n",
       "    for(var toolbar_ind in mpl.toolbar_items){\n",
       "        var name = mpl.toolbar_items[toolbar_ind][0];\n",
       "        var tooltip = mpl.toolbar_items[toolbar_ind][1];\n",
       "        var image = mpl.toolbar_items[toolbar_ind][2];\n",
       "        var method_name = mpl.toolbar_items[toolbar_ind][3];\n",
       "\n",
       "        if (!name) { continue; };\n",
       "\n",
       "        var button = $('<button class=\"btn btn-default\" href=\"#\" title=\"' + name + '\"><i class=\"fa ' + image + ' fa-lg\"></i></button>');\n",
       "        button.click(method_name, toolbar_event);\n",
       "        button.mouseover(tooltip, toolbar_mouse_event);\n",
       "        nav_element.append(button);\n",
       "    }\n",
       "\n",
       "    // Add the status bar.\n",
       "    var status_bar = $('<span class=\"mpl-message\" style=\"text-align:right; float: right;\"/>');\n",
       "    nav_element.append(status_bar);\n",
       "    this.message = status_bar[0];\n",
       "\n",
       "    // Add the close button to the window.\n",
       "    var buttongrp = $('<div class=\"btn-group inline pull-right\"></div>');\n",
       "    var button = $('<button class=\"btn btn-mini btn-primary\" href=\"#\" title=\"Stop Interaction\"><i class=\"fa fa-power-off icon-remove icon-large\"></i></button>');\n",
       "    button.click(function (evt) { fig.handle_close(fig, {}); } );\n",
       "    button.mouseover('Stop Interaction', toolbar_mouse_event);\n",
       "    buttongrp.append(button);\n",
       "    var titlebar = this.root.find($('.ui-dialog-titlebar'));\n",
       "    titlebar.prepend(buttongrp);\n",
       "}\n",
       "\n",
       "mpl.figure.prototype._root_extra_style = function(el){\n",
       "    var fig = this\n",
       "    el.on(\"remove\", function(){\n",
       "\tfig.close_ws(fig, {});\n",
       "    });\n",
       "}\n",
       "\n",
       "mpl.figure.prototype._canvas_extra_style = function(el){\n",
       "    // this is important to make the div 'focusable\n",
       "    el.attr('tabindex', 0)\n",
       "    // reach out to IPython and tell the keyboard manager to turn it's self\n",
       "    // off when our div gets focus\n",
       "\n",
       "    // location in version 3\n",
       "    if (IPython.notebook.keyboard_manager) {\n",
       "        IPython.notebook.keyboard_manager.register_events(el);\n",
       "    }\n",
       "    else {\n",
       "        // location in version 2\n",
       "        IPython.keyboard_manager.register_events(el);\n",
       "    }\n",
       "\n",
       "}\n",
       "\n",
       "mpl.figure.prototype._key_event_extra = function(event, name) {\n",
       "    var manager = IPython.notebook.keyboard_manager;\n",
       "    if (!manager)\n",
       "        manager = IPython.keyboard_manager;\n",
       "\n",
       "    // Check for shift+enter\n",
       "    if (event.shiftKey && event.which == 13) {\n",
       "        this.canvas_div.blur();\n",
       "        // select the cell after this one\n",
       "        var index = IPython.notebook.find_cell_index(this.cell_info[0]);\n",
       "        IPython.notebook.select(index + 1);\n",
       "    }\n",
       "}\n",
       "\n",
       "mpl.figure.prototype.handle_save = function(fig, msg) {\n",
       "    fig.ondownload(fig, null);\n",
       "}\n",
       "\n",
       "\n",
       "mpl.find_output_cell = function(html_output) {\n",
       "    // Return the cell and output element which can be found *uniquely* in the notebook.\n",
       "    // Note - this is a bit hacky, but it is done because the \"notebook_saving.Notebook\"\n",
       "    // IPython event is triggered only after the cells have been serialised, which for\n",
       "    // our purposes (turning an active figure into a static one), is too late.\n",
       "    var cells = IPython.notebook.get_cells();\n",
       "    var ncells = cells.length;\n",
       "    for (var i=0; i<ncells; i++) {\n",
       "        var cell = cells[i];\n",
       "        if (cell.cell_type === 'code'){\n",
       "            for (var j=0; j<cell.output_area.outputs.length; j++) {\n",
       "                var data = cell.output_area.outputs[j];\n",
       "                if (data.data) {\n",
       "                    // IPython >= 3 moved mimebundle to data attribute of output\n",
       "                    data = data.data;\n",
       "                }\n",
       "                if (data['text/html'] == html_output) {\n",
       "                    return [cell, data, j];\n",
       "                }\n",
       "            }\n",
       "        }\n",
       "    }\n",
       "}\n",
       "\n",
       "// Register the function which deals with the matplotlib target/channel.\n",
       "// The kernel may be null if the page has been refreshed.\n",
       "if (IPython.notebook.kernel != null) {\n",
       "    IPython.notebook.kernel.comm_manager.register_target('matplotlib', mpl.mpl_figure_comm);\n",
       "}\n"
      ],
      "text/plain": [
       "<IPython.core.display.Javascript object>"
      ]
     },
     "metadata": {},
     "output_type": "display_data"
    },
    {
     "data": {
      "text/html": [
       "<img src=\"data:image/png;base64,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\" width=\"240\">"
      ],
      "text/plain": [
       "<IPython.core.display.HTML object>"
      ]
     },
     "metadata": {},
     "output_type": "display_data"
    }
   ],
   "source": [
    "nd_S_0_ao = NumericDiff(gradn, lambda gradh: gradh.S_0_ao).derivative\n",
    "plot_diff(S_1_ao, nd_S_0_ao)"
   ]
  },
  {
   "cell_type": "markdown",
   "metadata": {
    "hidden": true
   },
   "source": [
    "- `S_1_mo` $S_{pq}^{A_t}$; dim $(A, t, p, q)$ in document, $(A_t, p, q)$ in pyxdh; symm: $S_{pq}^{A_t} = S_{qp}^{A_t}$\n",
    "\n",
    "$$\n",
    "S_{pq}^{A_t} = C_{\\mu p} S_{\\mu \\nu}^{A_t} C_{\\nu q}\n",
    "$$"
   ]
  },
  {
   "cell_type": "code",
   "execution_count": 29,
   "metadata": {
    "hidden": true
   },
   "outputs": [
    {
     "data": {
      "text/plain": [
       "(4, 3, 22, 22)"
      ]
     },
     "execution_count": 29,
     "metadata": {},
     "output_type": "execute_result"
    }
   ],
   "source": [
    "S_1_mo = np.einsum(\"up, Atuv, vq -> Atpq\", C, S_1_ao, C)\n",
    "S_1_mo.shape"
   ]
  },
  {
   "cell_type": "code",
   "execution_count": 30,
   "metadata": {
    "hidden": true
   },
   "outputs": [
    {
     "data": {
      "text/plain": [
       "True"
      ]
     },
     "execution_count": 30,
     "metadata": {},
     "output_type": "execute_result"
    }
   ],
   "source": [
    "np.allclose(S_1_mo, S_1_mo.swapaxes(-1, -2))  # symm check"
   ]
  },
  {
   "cell_type": "code",
   "execution_count": 31,
   "metadata": {
    "hidden": true
   },
   "outputs": [
    {
     "data": {
      "text/plain": [
       "True"
      ]
     },
     "execution_count": 31,
     "metadata": {},
     "output_type": "execute_result"
    }
   ],
   "source": [
    "np.allclose(S_1_mo, gradh.S_1_mo.reshape(natm, 3, nao, nao))  # pyxdh approach"
   ]
  },
  {
   "cell_type": "markdown",
   "metadata": {
    "heading_collapsed": true
   },
   "source": [
    "### `H_1_ao` $h_{\\mu \\nu}^{A_t}$ Hamiltonian Core Skeleton"
   ]
  },
  {
   "cell_type": "markdown",
   "metadata": {
    "hidden": true
   },
   "source": [
    "- `int1e_ipkin` $\\langle \\partial_t \\mu | \\hat t | \\nu \\rangle$; dim: $(t, \\mu, \\nu)$; symm: $\\langle \\partial_t \\mu | \\hat t | \\nu \\rangle = - \\langle \\mu | \\hat t | \\partial_t \\nu \\rangle$"
   ]
  },
  {
   "cell_type": "code",
   "execution_count": 32,
   "metadata": {
    "hidden": true
   },
   "outputs": [
    {
     "data": {
      "text/plain": [
       "(3, 22, 22)"
      ]
     },
     "execution_count": 32,
     "metadata": {},
     "output_type": "execute_result"
    }
   ],
   "source": [
    "int1e_ipkin = mol.intor(\"int1e_ipkin\")\n",
    "int1e_ipkin.shape"
   ]
  },
  {
   "cell_type": "code",
   "execution_count": 33,
   "metadata": {
    "hidden": true
   },
   "outputs": [
    {
     "data": {
      "text/plain": [
       "True"
      ]
     },
     "execution_count": 33,
     "metadata": {},
     "output_type": "execute_result"
    }
   ],
   "source": [
    "np.allclose(int1e_ipkin, - int1e_ipkin.swapaxes(-1, -2))  # symm check"
   ]
  },
  {
   "cell_type": "markdown",
   "metadata": {
    "hidden": true
   },
   "source": [
    "- `int1e_ipkin` $\\langle \\partial_t \\mu | \\hat v_\\mathrm{nuc} | \\nu \\rangle$; dim: $(t, \\mu, \\nu)$; symm: no"
   ]
  },
  {
   "cell_type": "code",
   "execution_count": 34,
   "metadata": {
    "hidden": true
   },
   "outputs": [
    {
     "data": {
      "text/plain": [
       "(3, 22, 22)"
      ]
     },
     "execution_count": 34,
     "metadata": {},
     "output_type": "execute_result"
    }
   ],
   "source": [
    "int1e_ipnuc = mol.intor(\"int1e_ipnuc\")\n",
    "int1e_ipnuc.shape"
   ]
  },
  {
   "cell_type": "markdown",
   "metadata": {
    "hidden": true
   },
   "source": [
    "- `H_1_ao` $h_{\\mu \\nu}^{A_t}$; dim: $(A, t, \\mu, \\nu)$ in document, $(A_t, \\mu, \\nu)$ in pyxdh; symm: $h_{\\mu \\nu}^{A_t} = h_{\\nu \\mu}^{A_t}$\n",
    "\n",
    "$$\n",
    "h_{\\mu \\nu}^{A_t} = \\frac{\\partial}{\\partial A_t} h_{\\mu \\nu} = - \\langle \\partial_t \\mu_A | \\hat t | \\nu \\rangle - \\langle \\partial_t \\mu_A | \\hat v_\\mathrm{nuc} | \\nu \\rangle - \\langle \\partial_t \\mu | \\frac{Z_A}{| \\boldsymbol{r} - \\boldsymbol{A} |} | \\nu \\rangle + \\mathrm{swap} (\\mu, \\nu)\n",
    "$$"
   ]
  },
  {
   "cell_type": "code",
   "execution_count": 35,
   "metadata": {
    "hidden": true
   },
   "outputs": [
    {
     "data": {
      "text/plain": [
       "(4, 3, 22, 22)"
      ]
     },
     "execution_count": 35,
     "metadata": {},
     "output_type": "execute_result"
    }
   ],
   "source": [
    "Z_A = mol.atom_charges()\n",
    "H_1_ao = np.zeros((natm, 3, nao, nao))\n",
    "for A in range(natm):\n",
    "    sA = mol_slice(A)\n",
    "    H_1_ao[A, :, sA, :] -= int1e_ipkin[:, sA, :]\n",
    "    H_1_ao[A, :, sA, :] -= int1e_ipnuc[:, sA, :]\n",
    "    with mol.with_rinv_as_nucleus(A):\n",
    "        H_1_ao[A] -= Z_A[A] * mol.intor(\"int1e_iprinv\")\n",
    "H_1_ao += H_1_ao.swapaxes(-1, -2)\n",
    "H_1_ao.shape"
   ]
  },
  {
   "cell_type": "code",
   "execution_count": 36,
   "metadata": {
    "hidden": true
   },
   "outputs": [
    {
     "data": {
      "text/plain": [
       "True"
      ]
     },
     "execution_count": 36,
     "metadata": {},
     "output_type": "execute_result"
    }
   ],
   "source": [
    "np.allclose(H_1_ao, H_1_ao.swapaxes(-1, -2))  # symm check"
   ]
  },
  {
   "cell_type": "code",
   "execution_count": 37,
   "metadata": {
    "hidden": true
   },
   "outputs": [
    {
     "data": {
      "text/plain": [
       "True"
      ]
     },
     "execution_count": 37,
     "metadata": {},
     "output_type": "execute_result"
    }
   ],
   "source": [
    "np.allclose(H_1_ao, gradh.H_1_ao.reshape(natm, 3, nao, nao))  # pyxdh approach"
   ]
  },
  {
   "cell_type": "code",
   "execution_count": 38,
   "metadata": {
    "hidden": true
   },
   "outputs": [
    {
     "data": {
      "text/plain": [
       "True"
      ]
     },
     "execution_count": 38,
     "metadata": {},
     "output_type": "execute_result"
    }
   ],
   "source": [
    "np.allclose(H_1_ao, np.array([grad.rhf.hcore_generator(scf_eng.nuc_grad_method())(A) for A in range(natm)]))  # PySCF approach"
   ]
  },
  {
   "cell_type": "code",
   "execution_count": 39,
   "metadata": {
    "hidden": true
   },
   "outputs": [
    {
     "data": {
      "application/javascript": [
       "/* Put everything inside the global mpl namespace */\n",
       "window.mpl = {};\n",
       "\n",
       "\n",
       "mpl.get_websocket_type = function() {\n",
       "    if (typeof(WebSocket) !== 'undefined') {\n",
       "        return WebSocket;\n",
       "    } else if (typeof(MozWebSocket) !== 'undefined') {\n",
       "        return MozWebSocket;\n",
       "    } else {\n",
       "        alert('Your browser does not have WebSocket support. ' +\n",
       "              'Please try Chrome, Safari or Firefox ≥ 6. ' +\n",
       "              'Firefox 4 and 5 are also supported but you ' +\n",
       "              'have to enable WebSockets in about:config.');\n",
       "    };\n",
       "}\n",
       "\n",
       "mpl.figure = function(figure_id, websocket, ondownload, parent_element) {\n",
       "    this.id = figure_id;\n",
       "\n",
       "    this.ws = websocket;\n",
       "\n",
       "    this.supports_binary = (this.ws.binaryType != undefined);\n",
       "\n",
       "    if (!this.supports_binary) {\n",
       "        var warnings = document.getElementById(\"mpl-warnings\");\n",
       "        if (warnings) {\n",
       "            warnings.style.display = 'block';\n",
       "            warnings.textContent = (\n",
       "                \"This browser does not support binary websocket messages. \" +\n",
       "                    \"Performance may be slow.\");\n",
       "        }\n",
       "    }\n",
       "\n",
       "    this.imageObj = new Image();\n",
       "\n",
       "    this.context = undefined;\n",
       "    this.message = undefined;\n",
       "    this.canvas = undefined;\n",
       "    this.rubberband_canvas = undefined;\n",
       "    this.rubberband_context = undefined;\n",
       "    this.format_dropdown = undefined;\n",
       "\n",
       "    this.image_mode = 'full';\n",
       "\n",
       "    this.root = $('<div/>');\n",
       "    this._root_extra_style(this.root)\n",
       "    this.root.attr('style', 'display: inline-block');\n",
       "\n",
       "    $(parent_element).append(this.root);\n",
       "\n",
       "    this._init_header(this);\n",
       "    this._init_canvas(this);\n",
       "    this._init_toolbar(this);\n",
       "\n",
       "    var fig = this;\n",
       "\n",
       "    this.waiting = false;\n",
       "\n",
       "    this.ws.onopen =  function () {\n",
       "            fig.send_message(\"supports_binary\", {value: fig.supports_binary});\n",
       "            fig.send_message(\"send_image_mode\", {});\n",
       "            if (mpl.ratio != 1) {\n",
       "                fig.send_message(\"set_dpi_ratio\", {'dpi_ratio': mpl.ratio});\n",
       "            }\n",
       "            fig.send_message(\"refresh\", {});\n",
       "        }\n",
       "\n",
       "    this.imageObj.onload = function() {\n",
       "            if (fig.image_mode == 'full') {\n",
       "                // Full images could contain transparency (where diff images\n",
       "                // almost always do), so we need to clear the canvas so that\n",
       "                // there is no ghosting.\n",
       "                fig.context.clearRect(0, 0, fig.canvas.width, fig.canvas.height);\n",
       "            }\n",
       "            fig.context.drawImage(fig.imageObj, 0, 0);\n",
       "        };\n",
       "\n",
       "    this.imageObj.onunload = function() {\n",
       "        fig.ws.close();\n",
       "    }\n",
       "\n",
       "    this.ws.onmessage = this._make_on_message_function(this);\n",
       "\n",
       "    this.ondownload = ondownload;\n",
       "}\n",
       "\n",
       "mpl.figure.prototype._init_header = function() {\n",
       "    var titlebar = $(\n",
       "        '<div class=\"ui-dialog-titlebar ui-widget-header ui-corner-all ' +\n",
       "        'ui-helper-clearfix\"/>');\n",
       "    var titletext = $(\n",
       "        '<div class=\"ui-dialog-title\" style=\"width: 100%; ' +\n",
       "        'text-align: center; padding: 3px;\"/>');\n",
       "    titlebar.append(titletext)\n",
       "    this.root.append(titlebar);\n",
       "    this.header = titletext[0];\n",
       "}\n",
       "\n",
       "\n",
       "\n",
       "mpl.figure.prototype._canvas_extra_style = function(canvas_div) {\n",
       "\n",
       "}\n",
       "\n",
       "\n",
       "mpl.figure.prototype._root_extra_style = function(canvas_div) {\n",
       "\n",
       "}\n",
       "\n",
       "mpl.figure.prototype._init_canvas = function() {\n",
       "    var fig = this;\n",
       "\n",
       "    var canvas_div = $('<div/>');\n",
       "\n",
       "    canvas_div.attr('style', 'position: relative; clear: both; outline: 0');\n",
       "\n",
       "    function canvas_keyboard_event(event) {\n",
       "        return fig.key_event(event, event['data']);\n",
       "    }\n",
       "\n",
       "    canvas_div.keydown('key_press', canvas_keyboard_event);\n",
       "    canvas_div.keyup('key_release', canvas_keyboard_event);\n",
       "    this.canvas_div = canvas_div\n",
       "    this._canvas_extra_style(canvas_div)\n",
       "    this.root.append(canvas_div);\n",
       "\n",
       "    var canvas = $('<canvas/>');\n",
       "    canvas.addClass('mpl-canvas');\n",
       "    canvas.attr('style', \"left: 0; top: 0; z-index: 0; outline: 0\")\n",
       "\n",
       "    this.canvas = canvas[0];\n",
       "    this.context = canvas[0].getContext(\"2d\");\n",
       "\n",
       "    var backingStore = this.context.backingStorePixelRatio ||\n",
       "\tthis.context.webkitBackingStorePixelRatio ||\n",
       "\tthis.context.mozBackingStorePixelRatio ||\n",
       "\tthis.context.msBackingStorePixelRatio ||\n",
       "\tthis.context.oBackingStorePixelRatio ||\n",
       "\tthis.context.backingStorePixelRatio || 1;\n",
       "\n",
       "    mpl.ratio = (window.devicePixelRatio || 1) / backingStore;\n",
       "\n",
       "    var rubberband = $('<canvas/>');\n",
       "    rubberband.attr('style', \"position: absolute; left: 0; top: 0; z-index: 1;\")\n",
       "\n",
       "    var pass_mouse_events = true;\n",
       "\n",
       "    canvas_div.resizable({\n",
       "        start: function(event, ui) {\n",
       "            pass_mouse_events = false;\n",
       "        },\n",
       "        resize: function(event, ui) {\n",
       "            fig.request_resize(ui.size.width, ui.size.height);\n",
       "        },\n",
       "        stop: function(event, ui) {\n",
       "            pass_mouse_events = true;\n",
       "            fig.request_resize(ui.size.width, ui.size.height);\n",
       "        },\n",
       "    });\n",
       "\n",
       "    function mouse_event_fn(event) {\n",
       "        if (pass_mouse_events)\n",
       "            return fig.mouse_event(event, event['data']);\n",
       "    }\n",
       "\n",
       "    rubberband.mousedown('button_press', mouse_event_fn);\n",
       "    rubberband.mouseup('button_release', mouse_event_fn);\n",
       "    // Throttle sequential mouse events to 1 every 20ms.\n",
       "    rubberband.mousemove('motion_notify', mouse_event_fn);\n",
       "\n",
       "    rubberband.mouseenter('figure_enter', mouse_event_fn);\n",
       "    rubberband.mouseleave('figure_leave', mouse_event_fn);\n",
       "\n",
       "    canvas_div.on(\"wheel\", function (event) {\n",
       "        event = event.originalEvent;\n",
       "        event['data'] = 'scroll'\n",
       "        if (event.deltaY < 0) {\n",
       "            event.step = 1;\n",
       "        } else {\n",
       "            event.step = -1;\n",
       "        }\n",
       "        mouse_event_fn(event);\n",
       "    });\n",
       "\n",
       "    canvas_div.append(canvas);\n",
       "    canvas_div.append(rubberband);\n",
       "\n",
       "    this.rubberband = rubberband;\n",
       "    this.rubberband_canvas = rubberband[0];\n",
       "    this.rubberband_context = rubberband[0].getContext(\"2d\");\n",
       "    this.rubberband_context.strokeStyle = \"#000000\";\n",
       "\n",
       "    this._resize_canvas = function(width, height) {\n",
       "        // Keep the size of the canvas, canvas container, and rubber band\n",
       "        // canvas in synch.\n",
       "        canvas_div.css('width', width)\n",
       "        canvas_div.css('height', height)\n",
       "\n",
       "        canvas.attr('width', width * mpl.ratio);\n",
       "        canvas.attr('height', height * mpl.ratio);\n",
       "        canvas.attr('style', 'width: ' + width + 'px; height: ' + height + 'px;');\n",
       "\n",
       "        rubberband.attr('width', width);\n",
       "        rubberband.attr('height', height);\n",
       "    }\n",
       "\n",
       "    // Set the figure to an initial 600x600px, this will subsequently be updated\n",
       "    // upon first draw.\n",
       "    this._resize_canvas(600, 600);\n",
       "\n",
       "    // Disable right mouse context menu.\n",
       "    $(this.rubberband_canvas).bind(\"contextmenu\",function(e){\n",
       "        return false;\n",
       "    });\n",
       "\n",
       "    function set_focus () {\n",
       "        canvas.focus();\n",
       "        canvas_div.focus();\n",
       "    }\n",
       "\n",
       "    window.setTimeout(set_focus, 100);\n",
       "}\n",
       "\n",
       "mpl.figure.prototype._init_toolbar = function() {\n",
       "    var fig = this;\n",
       "\n",
       "    var nav_element = $('<div/>');\n",
       "    nav_element.attr('style', 'width: 100%');\n",
       "    this.root.append(nav_element);\n",
       "\n",
       "    // Define a callback function for later on.\n",
       "    function toolbar_event(event) {\n",
       "        return fig.toolbar_button_onclick(event['data']);\n",
       "    }\n",
       "    function toolbar_mouse_event(event) {\n",
       "        return fig.toolbar_button_onmouseover(event['data']);\n",
       "    }\n",
       "\n",
       "    for(var toolbar_ind in mpl.toolbar_items) {\n",
       "        var name = mpl.toolbar_items[toolbar_ind][0];\n",
       "        var tooltip = mpl.toolbar_items[toolbar_ind][1];\n",
       "        var image = mpl.toolbar_items[toolbar_ind][2];\n",
       "        var method_name = mpl.toolbar_items[toolbar_ind][3];\n",
       "\n",
       "        if (!name) {\n",
       "            // put a spacer in here.\n",
       "            continue;\n",
       "        }\n",
       "        var button = $('<button/>');\n",
       "        button.addClass('ui-button ui-widget ui-state-default ui-corner-all ' +\n",
       "                        'ui-button-icon-only');\n",
       "        button.attr('role', 'button');\n",
       "        button.attr('aria-disabled', 'false');\n",
       "        button.click(method_name, toolbar_event);\n",
       "        button.mouseover(tooltip, toolbar_mouse_event);\n",
       "\n",
       "        var icon_img = $('<span/>');\n",
       "        icon_img.addClass('ui-button-icon-primary ui-icon');\n",
       "        icon_img.addClass(image);\n",
       "        icon_img.addClass('ui-corner-all');\n",
       "\n",
       "        var tooltip_span = $('<span/>');\n",
       "        tooltip_span.addClass('ui-button-text');\n",
       "        tooltip_span.html(tooltip);\n",
       "\n",
       "        button.append(icon_img);\n",
       "        button.append(tooltip_span);\n",
       "\n",
       "        nav_element.append(button);\n",
       "    }\n",
       "\n",
       "    var fmt_picker_span = $('<span/>');\n",
       "\n",
       "    var fmt_picker = $('<select/>');\n",
       "    fmt_picker.addClass('mpl-toolbar-option ui-widget ui-widget-content');\n",
       "    fmt_picker_span.append(fmt_picker);\n",
       "    nav_element.append(fmt_picker_span);\n",
       "    this.format_dropdown = fmt_picker[0];\n",
       "\n",
       "    for (var ind in mpl.extensions) {\n",
       "        var fmt = mpl.extensions[ind];\n",
       "        var option = $(\n",
       "            '<option/>', {selected: fmt === mpl.default_extension}).html(fmt);\n",
       "        fmt_picker.append(option);\n",
       "    }\n",
       "\n",
       "    // Add hover states to the ui-buttons\n",
       "    $( \".ui-button\" ).hover(\n",
       "        function() { $(this).addClass(\"ui-state-hover\");},\n",
       "        function() { $(this).removeClass(\"ui-state-hover\");}\n",
       "    );\n",
       "\n",
       "    var status_bar = $('<span class=\"mpl-message\"/>');\n",
       "    nav_element.append(status_bar);\n",
       "    this.message = status_bar[0];\n",
       "}\n",
       "\n",
       "mpl.figure.prototype.request_resize = function(x_pixels, y_pixels) {\n",
       "    // Request matplotlib to resize the figure. Matplotlib will then trigger a resize in the client,\n",
       "    // which will in turn request a refresh of the image.\n",
       "    this.send_message('resize', {'width': x_pixels, 'height': y_pixels});\n",
       "}\n",
       "\n",
       "mpl.figure.prototype.send_message = function(type, properties) {\n",
       "    properties['type'] = type;\n",
       "    properties['figure_id'] = this.id;\n",
       "    this.ws.send(JSON.stringify(properties));\n",
       "}\n",
       "\n",
       "mpl.figure.prototype.send_draw_message = function() {\n",
       "    if (!this.waiting) {\n",
       "        this.waiting = true;\n",
       "        this.ws.send(JSON.stringify({type: \"draw\", figure_id: this.id}));\n",
       "    }\n",
       "}\n",
       "\n",
       "\n",
       "mpl.figure.prototype.handle_save = function(fig, msg) {\n",
       "    var format_dropdown = fig.format_dropdown;\n",
       "    var format = format_dropdown.options[format_dropdown.selectedIndex].value;\n",
       "    fig.ondownload(fig, format);\n",
       "}\n",
       "\n",
       "\n",
       "mpl.figure.prototype.handle_resize = function(fig, msg) {\n",
       "    var size = msg['size'];\n",
       "    if (size[0] != fig.canvas.width || size[1] != fig.canvas.height) {\n",
       "        fig._resize_canvas(size[0], size[1]);\n",
       "        fig.send_message(\"refresh\", {});\n",
       "    };\n",
       "}\n",
       "\n",
       "mpl.figure.prototype.handle_rubberband = function(fig, msg) {\n",
       "    var x0 = msg['x0'] / mpl.ratio;\n",
       "    var y0 = (fig.canvas.height - msg['y0']) / mpl.ratio;\n",
       "    var x1 = msg['x1'] / mpl.ratio;\n",
       "    var y1 = (fig.canvas.height - msg['y1']) / mpl.ratio;\n",
       "    x0 = Math.floor(x0) + 0.5;\n",
       "    y0 = Math.floor(y0) + 0.5;\n",
       "    x1 = Math.floor(x1) + 0.5;\n",
       "    y1 = Math.floor(y1) + 0.5;\n",
       "    var min_x = Math.min(x0, x1);\n",
       "    var min_y = Math.min(y0, y1);\n",
       "    var width = Math.abs(x1 - x0);\n",
       "    var height = Math.abs(y1 - y0);\n",
       "\n",
       "    fig.rubberband_context.clearRect(\n",
       "        0, 0, fig.canvas.width / mpl.ratio, fig.canvas.height / mpl.ratio);\n",
       "\n",
       "    fig.rubberband_context.strokeRect(min_x, min_y, width, height);\n",
       "}\n",
       "\n",
       "mpl.figure.prototype.handle_figure_label = function(fig, msg) {\n",
       "    // Updates the figure title.\n",
       "    fig.header.textContent = msg['label'];\n",
       "}\n",
       "\n",
       "mpl.figure.prototype.handle_cursor = function(fig, msg) {\n",
       "    var cursor = msg['cursor'];\n",
       "    switch(cursor)\n",
       "    {\n",
       "    case 0:\n",
       "        cursor = 'pointer';\n",
       "        break;\n",
       "    case 1:\n",
       "        cursor = 'default';\n",
       "        break;\n",
       "    case 2:\n",
       "        cursor = 'crosshair';\n",
       "        break;\n",
       "    case 3:\n",
       "        cursor = 'move';\n",
       "        break;\n",
       "    }\n",
       "    fig.rubberband_canvas.style.cursor = cursor;\n",
       "}\n",
       "\n",
       "mpl.figure.prototype.handle_message = function(fig, msg) {\n",
       "    fig.message.textContent = msg['message'];\n",
       "}\n",
       "\n",
       "mpl.figure.prototype.handle_draw = function(fig, msg) {\n",
       "    // Request the server to send over a new figure.\n",
       "    fig.send_draw_message();\n",
       "}\n",
       "\n",
       "mpl.figure.prototype.handle_image_mode = function(fig, msg) {\n",
       "    fig.image_mode = msg['mode'];\n",
       "}\n",
       "\n",
       "mpl.figure.prototype.updated_canvas_event = function() {\n",
       "    // Called whenever the canvas gets updated.\n",
       "    this.send_message(\"ack\", {});\n",
       "}\n",
       "\n",
       "// A function to construct a web socket function for onmessage handling.\n",
       "// Called in the figure constructor.\n",
       "mpl.figure.prototype._make_on_message_function = function(fig) {\n",
       "    return function socket_on_message(evt) {\n",
       "        if (evt.data instanceof Blob) {\n",
       "            /* FIXME: We get \"Resource interpreted as Image but\n",
       "             * transferred with MIME type text/plain:\" errors on\n",
       "             * Chrome.  But how to set the MIME type?  It doesn't seem\n",
       "             * to be part of the websocket stream */\n",
       "            evt.data.type = \"image/png\";\n",
       "\n",
       "            /* Free the memory for the previous frames */\n",
       "            if (fig.imageObj.src) {\n",
       "                (window.URL || window.webkitURL).revokeObjectURL(\n",
       "                    fig.imageObj.src);\n",
       "            }\n",
       "\n",
       "            fig.imageObj.src = (window.URL || window.webkitURL).createObjectURL(\n",
       "                evt.data);\n",
       "            fig.updated_canvas_event();\n",
       "            fig.waiting = false;\n",
       "            return;\n",
       "        }\n",
       "        else if (typeof evt.data === 'string' && evt.data.slice(0, 21) == \"data:image/png;base64\") {\n",
       "            fig.imageObj.src = evt.data;\n",
       "            fig.updated_canvas_event();\n",
       "            fig.waiting = false;\n",
       "            return;\n",
       "        }\n",
       "\n",
       "        var msg = JSON.parse(evt.data);\n",
       "        var msg_type = msg['type'];\n",
       "\n",
       "        // Call the  \"handle_{type}\" callback, which takes\n",
       "        // the figure and JSON message as its only arguments.\n",
       "        try {\n",
       "            var callback = fig[\"handle_\" + msg_type];\n",
       "        } catch (e) {\n",
       "            console.log(\"No handler for the '\" + msg_type + \"' message type: \", msg);\n",
       "            return;\n",
       "        }\n",
       "\n",
       "        if (callback) {\n",
       "            try {\n",
       "                // console.log(\"Handling '\" + msg_type + \"' message: \", msg);\n",
       "                callback(fig, msg);\n",
       "            } catch (e) {\n",
       "                console.log(\"Exception inside the 'handler_\" + msg_type + \"' callback:\", e, e.stack, msg);\n",
       "            }\n",
       "        }\n",
       "    };\n",
       "}\n",
       "\n",
       "// from http://stackoverflow.com/questions/1114465/getting-mouse-location-in-canvas\n",
       "mpl.findpos = function(e) {\n",
       "    //this section is from http://www.quirksmode.org/js/events_properties.html\n",
       "    var targ;\n",
       "    if (!e)\n",
       "        e = window.event;\n",
       "    if (e.target)\n",
       "        targ = e.target;\n",
       "    else if (e.srcElement)\n",
       "        targ = e.srcElement;\n",
       "    if (targ.nodeType == 3) // defeat Safari bug\n",
       "        targ = targ.parentNode;\n",
       "\n",
       "    // jQuery normalizes the pageX and pageY\n",
       "    // pageX,Y are the mouse positions relative to the document\n",
       "    // offset() returns the position of the element relative to the document\n",
       "    var x = e.pageX - $(targ).offset().left;\n",
       "    var y = e.pageY - $(targ).offset().top;\n",
       "\n",
       "    return {\"x\": x, \"y\": y};\n",
       "};\n",
       "\n",
       "/*\n",
       " * return a copy of an object with only non-object keys\n",
       " * we need this to avoid circular references\n",
       " * http://stackoverflow.com/a/24161582/3208463\n",
       " */\n",
       "function simpleKeys (original) {\n",
       "  return Object.keys(original).reduce(function (obj, key) {\n",
       "    if (typeof original[key] !== 'object')\n",
       "        obj[key] = original[key]\n",
       "    return obj;\n",
       "  }, {});\n",
       "}\n",
       "\n",
       "mpl.figure.prototype.mouse_event = function(event, name) {\n",
       "    var canvas_pos = mpl.findpos(event)\n",
       "\n",
       "    if (name === 'button_press')\n",
       "    {\n",
       "        this.canvas.focus();\n",
       "        this.canvas_div.focus();\n",
       "    }\n",
       "\n",
       "    var x = canvas_pos.x * mpl.ratio;\n",
       "    var y = canvas_pos.y * mpl.ratio;\n",
       "\n",
       "    this.send_message(name, {x: x, y: y, button: event.button,\n",
       "                             step: event.step,\n",
       "                             guiEvent: simpleKeys(event)});\n",
       "\n",
       "    /* This prevents the web browser from automatically changing to\n",
       "     * the text insertion cursor when the button is pressed.  We want\n",
       "     * to control all of the cursor setting manually through the\n",
       "     * 'cursor' event from matplotlib */\n",
       "    event.preventDefault();\n",
       "    return false;\n",
       "}\n",
       "\n",
       "mpl.figure.prototype._key_event_extra = function(event, name) {\n",
       "    // Handle any extra behaviour associated with a key event\n",
       "}\n",
       "\n",
       "mpl.figure.prototype.key_event = function(event, name) {\n",
       "\n",
       "    // Prevent repeat events\n",
       "    if (name == 'key_press')\n",
       "    {\n",
       "        if (event.which === this._key)\n",
       "            return;\n",
       "        else\n",
       "            this._key = event.which;\n",
       "    }\n",
       "    if (name == 'key_release')\n",
       "        this._key = null;\n",
       "\n",
       "    var value = '';\n",
       "    if (event.ctrlKey && event.which != 17)\n",
       "        value += \"ctrl+\";\n",
       "    if (event.altKey && event.which != 18)\n",
       "        value += \"alt+\";\n",
       "    if (event.shiftKey && event.which != 16)\n",
       "        value += \"shift+\";\n",
       "\n",
       "    value += 'k';\n",
       "    value += event.which.toString();\n",
       "\n",
       "    this._key_event_extra(event, name);\n",
       "\n",
       "    this.send_message(name, {key: value,\n",
       "                             guiEvent: simpleKeys(event)});\n",
       "    return false;\n",
       "}\n",
       "\n",
       "mpl.figure.prototype.toolbar_button_onclick = function(name) {\n",
       "    if (name == 'download') {\n",
       "        this.handle_save(this, null);\n",
       "    } else {\n",
       "        this.send_message(\"toolbar_button\", {name: name});\n",
       "    }\n",
       "};\n",
       "\n",
       "mpl.figure.prototype.toolbar_button_onmouseover = function(tooltip) {\n",
       "    this.message.textContent = tooltip;\n",
       "};\n",
       "mpl.toolbar_items = [[\"Home\", \"Reset original view\", \"fa fa-home icon-home\", \"home\"], [\"Back\", \"Back to previous view\", \"fa fa-arrow-left icon-arrow-left\", \"back\"], [\"Forward\", \"Forward to next view\", \"fa fa-arrow-right icon-arrow-right\", \"forward\"], [\"\", \"\", \"\", \"\"], [\"Pan\", \"Pan axes with left mouse, zoom with right\", \"fa fa-arrows icon-move\", \"pan\"], [\"Zoom\", \"Zoom to rectangle\", \"fa fa-square-o icon-check-empty\", \"zoom\"], [\"\", \"\", \"\", \"\"], [\"Download\", \"Download plot\", \"fa fa-floppy-o icon-save\", \"download\"]];\n",
       "\n",
       "mpl.extensions = [\"eps\", \"pdf\", \"png\", \"ps\", \"raw\", \"svg\"];\n",
       "\n",
       "mpl.default_extension = \"png\";var comm_websocket_adapter = function(comm) {\n",
       "    // Create a \"websocket\"-like object which calls the given IPython comm\n",
       "    // object with the appropriate methods. Currently this is a non binary\n",
       "    // socket, so there is still some room for performance tuning.\n",
       "    var ws = {};\n",
       "\n",
       "    ws.close = function() {\n",
       "        comm.close()\n",
       "    };\n",
       "    ws.send = function(m) {\n",
       "        //console.log('sending', m);\n",
       "        comm.send(m);\n",
       "    };\n",
       "    // Register the callback with on_msg.\n",
       "    comm.on_msg(function(msg) {\n",
       "        //console.log('receiving', msg['content']['data'], msg);\n",
       "        // Pass the mpl event to the overridden (by mpl) onmessage function.\n",
       "        ws.onmessage(msg['content']['data'])\n",
       "    });\n",
       "    return ws;\n",
       "}\n",
       "\n",
       "mpl.mpl_figure_comm = function(comm, msg) {\n",
       "    // This is the function which gets called when the mpl process\n",
       "    // starts-up an IPython Comm through the \"matplotlib\" channel.\n",
       "\n",
       "    var id = msg.content.data.id;\n",
       "    // Get hold of the div created by the display call when the Comm\n",
       "    // socket was opened in Python.\n",
       "    var element = $(\"#\" + id);\n",
       "    var ws_proxy = comm_websocket_adapter(comm)\n",
       "\n",
       "    function ondownload(figure, format) {\n",
       "        window.open(figure.imageObj.src);\n",
       "    }\n",
       "\n",
       "    var fig = new mpl.figure(id, ws_proxy,\n",
       "                           ondownload,\n",
       "                           element.get(0));\n",
       "\n",
       "    // Call onopen now - mpl needs it, as it is assuming we've passed it a real\n",
       "    // web socket which is closed, not our websocket->open comm proxy.\n",
       "    ws_proxy.onopen();\n",
       "\n",
       "    fig.parent_element = element.get(0);\n",
       "    fig.cell_info = mpl.find_output_cell(\"<div id='\" + id + \"'></div>\");\n",
       "    if (!fig.cell_info) {\n",
       "        console.error(\"Failed to find cell for figure\", id, fig);\n",
       "        return;\n",
       "    }\n",
       "\n",
       "    var output_index = fig.cell_info[2]\n",
       "    var cell = fig.cell_info[0];\n",
       "\n",
       "};\n",
       "\n",
       "mpl.figure.prototype.handle_close = function(fig, msg) {\n",
       "    var width = fig.canvas.width/mpl.ratio\n",
       "    fig.root.unbind('remove')\n",
       "\n",
       "    // Update the output cell to use the data from the current canvas.\n",
       "    fig.push_to_output();\n",
       "    var dataURL = fig.canvas.toDataURL();\n",
       "    // Re-enable the keyboard manager in IPython - without this line, in FF,\n",
       "    // the notebook keyboard shortcuts fail.\n",
       "    IPython.keyboard_manager.enable()\n",
       "    $(fig.parent_element).html('<img src=\"' + dataURL + '\" width=\"' + width + '\">');\n",
       "    fig.close_ws(fig, msg);\n",
       "}\n",
       "\n",
       "mpl.figure.prototype.close_ws = function(fig, msg){\n",
       "    fig.send_message('closing', msg);\n",
       "    // fig.ws.close()\n",
       "}\n",
       "\n",
       "mpl.figure.prototype.push_to_output = function(remove_interactive) {\n",
       "    // Turn the data on the canvas into data in the output cell.\n",
       "    var width = this.canvas.width/mpl.ratio\n",
       "    var dataURL = this.canvas.toDataURL();\n",
       "    this.cell_info[1]['text/html'] = '<img src=\"' + dataURL + '\" width=\"' + width + '\">';\n",
       "}\n",
       "\n",
       "mpl.figure.prototype.updated_canvas_event = function() {\n",
       "    // Tell IPython that the notebook contents must change.\n",
       "    IPython.notebook.set_dirty(true);\n",
       "    this.send_message(\"ack\", {});\n",
       "    var fig = this;\n",
       "    // Wait a second, then push the new image to the DOM so\n",
       "    // that it is saved nicely (might be nice to debounce this).\n",
       "    setTimeout(function () { fig.push_to_output() }, 1000);\n",
       "}\n",
       "\n",
       "mpl.figure.prototype._init_toolbar = function() {\n",
       "    var fig = this;\n",
       "\n",
       "    var nav_element = $('<div/>');\n",
       "    nav_element.attr('style', 'width: 100%');\n",
       "    this.root.append(nav_element);\n",
       "\n",
       "    // Define a callback function for later on.\n",
       "    function toolbar_event(event) {\n",
       "        return fig.toolbar_button_onclick(event['data']);\n",
       "    }\n",
       "    function toolbar_mouse_event(event) {\n",
       "        return fig.toolbar_button_onmouseover(event['data']);\n",
       "    }\n",
       "\n",
       "    for(var toolbar_ind in mpl.toolbar_items){\n",
       "        var name = mpl.toolbar_items[toolbar_ind][0];\n",
       "        var tooltip = mpl.toolbar_items[toolbar_ind][1];\n",
       "        var image = mpl.toolbar_items[toolbar_ind][2];\n",
       "        var method_name = mpl.toolbar_items[toolbar_ind][3];\n",
       "\n",
       "        if (!name) { continue; };\n",
       "\n",
       "        var button = $('<button class=\"btn btn-default\" href=\"#\" title=\"' + name + '\"><i class=\"fa ' + image + ' fa-lg\"></i></button>');\n",
       "        button.click(method_name, toolbar_event);\n",
       "        button.mouseover(tooltip, toolbar_mouse_event);\n",
       "        nav_element.append(button);\n",
       "    }\n",
       "\n",
       "    // Add the status bar.\n",
       "    var status_bar = $('<span class=\"mpl-message\" style=\"text-align:right; float: right;\"/>');\n",
       "    nav_element.append(status_bar);\n",
       "    this.message = status_bar[0];\n",
       "\n",
       "    // Add the close button to the window.\n",
       "    var buttongrp = $('<div class=\"btn-group inline pull-right\"></div>');\n",
       "    var button = $('<button class=\"btn btn-mini btn-primary\" href=\"#\" title=\"Stop Interaction\"><i class=\"fa fa-power-off icon-remove icon-large\"></i></button>');\n",
       "    button.click(function (evt) { fig.handle_close(fig, {}); } );\n",
       "    button.mouseover('Stop Interaction', toolbar_mouse_event);\n",
       "    buttongrp.append(button);\n",
       "    var titlebar = this.root.find($('.ui-dialog-titlebar'));\n",
       "    titlebar.prepend(buttongrp);\n",
       "}\n",
       "\n",
       "mpl.figure.prototype._root_extra_style = function(el){\n",
       "    var fig = this\n",
       "    el.on(\"remove\", function(){\n",
       "\tfig.close_ws(fig, {});\n",
       "    });\n",
       "}\n",
       "\n",
       "mpl.figure.prototype._canvas_extra_style = function(el){\n",
       "    // this is important to make the div 'focusable\n",
       "    el.attr('tabindex', 0)\n",
       "    // reach out to IPython and tell the keyboard manager to turn it's self\n",
       "    // off when our div gets focus\n",
       "\n",
       "    // location in version 3\n",
       "    if (IPython.notebook.keyboard_manager) {\n",
       "        IPython.notebook.keyboard_manager.register_events(el);\n",
       "    }\n",
       "    else {\n",
       "        // location in version 2\n",
       "        IPython.keyboard_manager.register_events(el);\n",
       "    }\n",
       "\n",
       "}\n",
       "\n",
       "mpl.figure.prototype._key_event_extra = function(event, name) {\n",
       "    var manager = IPython.notebook.keyboard_manager;\n",
       "    if (!manager)\n",
       "        manager = IPython.keyboard_manager;\n",
       "\n",
       "    // Check for shift+enter\n",
       "    if (event.shiftKey && event.which == 13) {\n",
       "        this.canvas_div.blur();\n",
       "        // select the cell after this one\n",
       "        var index = IPython.notebook.find_cell_index(this.cell_info[0]);\n",
       "        IPython.notebook.select(index + 1);\n",
       "    }\n",
       "}\n",
       "\n",
       "mpl.figure.prototype.handle_save = function(fig, msg) {\n",
       "    fig.ondownload(fig, null);\n",
       "}\n",
       "\n",
       "\n",
       "mpl.find_output_cell = function(html_output) {\n",
       "    // Return the cell and output element which can be found *uniquely* in the notebook.\n",
       "    // Note - this is a bit hacky, but it is done because the \"notebook_saving.Notebook\"\n",
       "    // IPython event is triggered only after the cells have been serialised, which for\n",
       "    // our purposes (turning an active figure into a static one), is too late.\n",
       "    var cells = IPython.notebook.get_cells();\n",
       "    var ncells = cells.length;\n",
       "    for (var i=0; i<ncells; i++) {\n",
       "        var cell = cells[i];\n",
       "        if (cell.cell_type === 'code'){\n",
       "            for (var j=0; j<cell.output_area.outputs.length; j++) {\n",
       "                var data = cell.output_area.outputs[j];\n",
       "                if (data.data) {\n",
       "                    // IPython >= 3 moved mimebundle to data attribute of output\n",
       "                    data = data.data;\n",
       "                }\n",
       "                if (data['text/html'] == html_output) {\n",
       "                    return [cell, data, j];\n",
       "                }\n",
       "            }\n",
       "        }\n",
       "    }\n",
       "}\n",
       "\n",
       "// Register the function which deals with the matplotlib target/channel.\n",
       "// The kernel may be null if the page has been refreshed.\n",
       "if (IPython.notebook.kernel != null) {\n",
       "    IPython.notebook.kernel.comm_manager.register_target('matplotlib', mpl.mpl_figure_comm);\n",
       "}\n"
      ],
      "text/plain": [
       "<IPython.core.display.Javascript object>"
      ]
     },
     "metadata": {},
     "output_type": "display_data"
    },
    {
     "data": {
      "text/html": [
       "<img src=\"data:image/png;base64,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\" width=\"240\">"
      ],
      "text/plain": [
       "<IPython.core.display.HTML object>"
      ]
     },
     "metadata": {},
     "output_type": "display_data"
    }
   ],
   "source": [
    "nd_H_0_ao = NumericDiff(gradn, lambda gradh: gradh.H_0_ao).derivative\n",
    "plot_diff(H_1_ao, nd_H_0_ao)"
   ]
  },
  {
   "cell_type": "markdown",
   "metadata": {
    "hidden": true
   },
   "source": [
    "- `H_1_mo` $h_{pq}^{A_t}$; dim: $(A, t, p, q)$ in document, $(A_t, p, q)$ in pyxdh; symm: $h_{pq}^{A_t} = h_{qp}^{A_t}$\n",
    "\n",
    "$$\n",
    "h_{pq}^{A_t} = C_{\\mu p} h_{\\mu \\nu}^{A_t} C_{\\nu q}\n",
    "$$"
   ]
  },
  {
   "cell_type": "code",
   "execution_count": 40,
   "metadata": {
    "hidden": true
   },
   "outputs": [
    {
     "data": {
      "text/plain": [
       "(4, 3, 22, 22)"
      ]
     },
     "execution_count": 40,
     "metadata": {},
     "output_type": "execute_result"
    }
   ],
   "source": [
    "H_1_mo = np.einsum(\"up, Atuv, vq -> Atpq\", C, H_1_ao, C)\n",
    "H_1_mo.shape"
   ]
  },
  {
   "cell_type": "code",
   "execution_count": 41,
   "metadata": {
    "hidden": true
   },
   "outputs": [
    {
     "data": {
      "text/plain": [
       "True"
      ]
     },
     "execution_count": 41,
     "metadata": {},
     "output_type": "execute_result"
    }
   ],
   "source": [
    "np.allclose(H_1_mo, gradh.H_1_mo.reshape(natm, 3, nmo, nmo))  # pyxdh approach"
   ]
  },
  {
   "cell_type": "markdown",
   "metadata": {
    "heading_collapsed": true
   },
   "source": [
    "### `eri1_ao` $(\\mu \\nu | \\kappa \\lambda)^{A_t}$ Electron-repulsion Integral Skeleton"
   ]
  },
  {
   "cell_type": "markdown",
   "metadata": {
    "hidden": true
   },
   "source": [
    "- `int2e_ip1` $(\\partial_t \\mu \\nu | \\kappa \\lambda)$; dim: $(A, t, \\mu, \\nu, \\kappa, \\lambda)$; symm: $(\\partial_t \\mu \\nu | \\kappa \\lambda) = (\\partial_t \\mu \\nu | \\lambda \\kappa)$"
   ]
  },
  {
   "cell_type": "code",
   "execution_count": 42,
   "metadata": {
    "hidden": true
   },
   "outputs": [
    {
     "data": {
      "text/plain": [
       "(3, 22, 22, 22, 22)"
      ]
     },
     "execution_count": 42,
     "metadata": {},
     "output_type": "execute_result"
    }
   ],
   "source": [
    "int2e_ip1 = mol.intor(\"int2e_ip1\")\n",
    "int2e_ip1.shape"
   ]
  },
  {
   "cell_type": "code",
   "execution_count": 43,
   "metadata": {
    "hidden": true
   },
   "outputs": [
    {
     "data": {
      "text/plain": [
       "True"
      ]
     },
     "execution_count": 43,
     "metadata": {},
     "output_type": "execute_result"
    }
   ],
   "source": [
    "np.allclose(int2e_ip1, int2e_ip1.swapaxes(-1, -2))  # symm check"
   ]
  },
  {
   "cell_type": "markdown",
   "metadata": {
    "hidden": true
   },
   "source": [
    "- `eri1_ao` $(\\mu \\nu | \\kappa \\lambda)^{A_t}$; dim: $(A, t, \\mu, \\nu, \\kappa, \\lambda)$ in document, $(A_t, \\mu, \\nu, \\kappa, \\lambda)$ in pyxdh; symm: $(\\mu \\nu | \\kappa \\lambda)^{A_t} = (\\mu \\nu | \\lambda \\kappa)^{A_t} = (\\kappa \\lambda | \\mu \\nu)^{A_t}$ (8-fold)\n",
    "\n",
    "$$\n",
    "\\begin{split}\\begin{align}\n",
    "(\\mu \\nu | \\kappa \\lambda)^{A_t} = \\frac{\\partial}{\\partial A_t} (\\mu \\nu | \\kappa \\lambda) &= - \\big[ (\\partial_t \\mu_A \\nu | \\kappa \\lambda) + (\\mu \\partial_t \\nu_A | \\kappa \\lambda) + (\\mu \\nu | \\partial_t \\kappa_A \\lambda) + (\\mu \\nu | \\kappa \\partial_t \\lambda_A) \\big] \\\\\n",
    "&= - (\\partial_t \\mu_A \\nu | \\kappa \\lambda) + \\mathrm{swap} (\\mu, \\nu) + \\mathrm{swap} (\\mu \\nu, \\kappa \\lambda)\n",
    "\\end{align}\\end{split}\n",
    "$$"
   ]
  },
  {
   "cell_type": "code",
   "execution_count": 44,
   "metadata": {
    "hidden": true
   },
   "outputs": [
    {
     "data": {
      "text/plain": [
       "(4, 3, 22, 22, 22, 22)"
      ]
     },
     "execution_count": 44,
     "metadata": {},
     "output_type": "execute_result"
    }
   ],
   "source": [
    "eri1_ao = np.zeros((natm, 3, nao, nao, nao, nao))\n",
    "for A in range(natm):\n",
    "    sA = mol_slice(A)\n",
    "    eri1_ao[A, :, sA, :, :, :] -= int2e_ip1[:, sA]\n",
    "eri1_ao += eri1_ao.swapaxes(-3, -4)\n",
    "eri1_ao += eri1_ao.swapaxes(-1, -3).swapaxes(-2, -4)\n",
    "eri1_ao.shape"
   ]
  },
  {
   "cell_type": "code",
   "execution_count": 45,
   "metadata": {
    "hidden": true
   },
   "outputs": [
    {
     "data": {
      "text/plain": [
       "True"
      ]
     },
     "execution_count": 45,
     "metadata": {},
     "output_type": "execute_result"
    }
   ],
   "source": [
    "np.allclose(eri1_ao, eri1_ao.swapaxes(-1, -2))  # symm check"
   ]
  },
  {
   "cell_type": "code",
   "execution_count": 46,
   "metadata": {
    "hidden": true
   },
   "outputs": [
    {
     "data": {
      "text/plain": [
       "True"
      ]
     },
     "execution_count": 46,
     "metadata": {},
     "output_type": "execute_result"
    }
   ],
   "source": [
    "np.allclose(eri1_ao, eri1_ao.swapaxes(-3, -4))  # symm check"
   ]
  },
  {
   "cell_type": "code",
   "execution_count": 47,
   "metadata": {
    "hidden": true
   },
   "outputs": [
    {
     "data": {
      "text/plain": [
       "True"
      ]
     },
     "execution_count": 47,
     "metadata": {},
     "output_type": "execute_result"
    }
   ],
   "source": [
    "np.allclose(eri1_ao, eri1_ao.swapaxes(-1, -3).swapaxes(-2, -4))  # symm check"
   ]
  },
  {
   "cell_type": "code",
   "execution_count": 48,
   "metadata": {
    "hidden": true
   },
   "outputs": [
    {
     "data": {
      "text/plain": [
       "True"
      ]
     },
     "execution_count": 48,
     "metadata": {},
     "output_type": "execute_result"
    }
   ],
   "source": [
    "np.allclose(eri1_ao, gradh.eri1_ao.reshape(natm, 3, nao, nao, nao, nao))  # pyxdh approach"
   ]
  },
  {
   "cell_type": "code",
   "execution_count": 49,
   "metadata": {
    "hidden": true
   },
   "outputs": [
    {
     "data": {
      "application/javascript": [
       "/* Put everything inside the global mpl namespace */\n",
       "window.mpl = {};\n",
       "\n",
       "\n",
       "mpl.get_websocket_type = function() {\n",
       "    if (typeof(WebSocket) !== 'undefined') {\n",
       "        return WebSocket;\n",
       "    } else if (typeof(MozWebSocket) !== 'undefined') {\n",
       "        return MozWebSocket;\n",
       "    } else {\n",
       "        alert('Your browser does not have WebSocket support. ' +\n",
       "              'Please try Chrome, Safari or Firefox ≥ 6. ' +\n",
       "              'Firefox 4 and 5 are also supported but you ' +\n",
       "              'have to enable WebSockets in about:config.');\n",
       "    };\n",
       "}\n",
       "\n",
       "mpl.figure = function(figure_id, websocket, ondownload, parent_element) {\n",
       "    this.id = figure_id;\n",
       "\n",
       "    this.ws = websocket;\n",
       "\n",
       "    this.supports_binary = (this.ws.binaryType != undefined);\n",
       "\n",
       "    if (!this.supports_binary) {\n",
       "        var warnings = document.getElementById(\"mpl-warnings\");\n",
       "        if (warnings) {\n",
       "            warnings.style.display = 'block';\n",
       "            warnings.textContent = (\n",
       "                \"This browser does not support binary websocket messages. \" +\n",
       "                    \"Performance may be slow.\");\n",
       "        }\n",
       "    }\n",
       "\n",
       "    this.imageObj = new Image();\n",
       "\n",
       "    this.context = undefined;\n",
       "    this.message = undefined;\n",
       "    this.canvas = undefined;\n",
       "    this.rubberband_canvas = undefined;\n",
       "    this.rubberband_context = undefined;\n",
       "    this.format_dropdown = undefined;\n",
       "\n",
       "    this.image_mode = 'full';\n",
       "\n",
       "    this.root = $('<div/>');\n",
       "    this._root_extra_style(this.root)\n",
       "    this.root.attr('style', 'display: inline-block');\n",
       "\n",
       "    $(parent_element).append(this.root);\n",
       "\n",
       "    this._init_header(this);\n",
       "    this._init_canvas(this);\n",
       "    this._init_toolbar(this);\n",
       "\n",
       "    var fig = this;\n",
       "\n",
       "    this.waiting = false;\n",
       "\n",
       "    this.ws.onopen =  function () {\n",
       "            fig.send_message(\"supports_binary\", {value: fig.supports_binary});\n",
       "            fig.send_message(\"send_image_mode\", {});\n",
       "            if (mpl.ratio != 1) {\n",
       "                fig.send_message(\"set_dpi_ratio\", {'dpi_ratio': mpl.ratio});\n",
       "            }\n",
       "            fig.send_message(\"refresh\", {});\n",
       "        }\n",
       "\n",
       "    this.imageObj.onload = function() {\n",
       "            if (fig.image_mode == 'full') {\n",
       "                // Full images could contain transparency (where diff images\n",
       "                // almost always do), so we need to clear the canvas so that\n",
       "                // there is no ghosting.\n",
       "                fig.context.clearRect(0, 0, fig.canvas.width, fig.canvas.height);\n",
       "            }\n",
       "            fig.context.drawImage(fig.imageObj, 0, 0);\n",
       "        };\n",
       "\n",
       "    this.imageObj.onunload = function() {\n",
       "        fig.ws.close();\n",
       "    }\n",
       "\n",
       "    this.ws.onmessage = this._make_on_message_function(this);\n",
       "\n",
       "    this.ondownload = ondownload;\n",
       "}\n",
       "\n",
       "mpl.figure.prototype._init_header = function() {\n",
       "    var titlebar = $(\n",
       "        '<div class=\"ui-dialog-titlebar ui-widget-header ui-corner-all ' +\n",
       "        'ui-helper-clearfix\"/>');\n",
       "    var titletext = $(\n",
       "        '<div class=\"ui-dialog-title\" style=\"width: 100%; ' +\n",
       "        'text-align: center; padding: 3px;\"/>');\n",
       "    titlebar.append(titletext)\n",
       "    this.root.append(titlebar);\n",
       "    this.header = titletext[0];\n",
       "}\n",
       "\n",
       "\n",
       "\n",
       "mpl.figure.prototype._canvas_extra_style = function(canvas_div) {\n",
       "\n",
       "}\n",
       "\n",
       "\n",
       "mpl.figure.prototype._root_extra_style = function(canvas_div) {\n",
       "\n",
       "}\n",
       "\n",
       "mpl.figure.prototype._init_canvas = function() {\n",
       "    var fig = this;\n",
       "\n",
       "    var canvas_div = $('<div/>');\n",
       "\n",
       "    canvas_div.attr('style', 'position: relative; clear: both; outline: 0');\n",
       "\n",
       "    function canvas_keyboard_event(event) {\n",
       "        return fig.key_event(event, event['data']);\n",
       "    }\n",
       "\n",
       "    canvas_div.keydown('key_press', canvas_keyboard_event);\n",
       "    canvas_div.keyup('key_release', canvas_keyboard_event);\n",
       "    this.canvas_div = canvas_div\n",
       "    this._canvas_extra_style(canvas_div)\n",
       "    this.root.append(canvas_div);\n",
       "\n",
       "    var canvas = $('<canvas/>');\n",
       "    canvas.addClass('mpl-canvas');\n",
       "    canvas.attr('style', \"left: 0; top: 0; z-index: 0; outline: 0\")\n",
       "\n",
       "    this.canvas = canvas[0];\n",
       "    this.context = canvas[0].getContext(\"2d\");\n",
       "\n",
       "    var backingStore = this.context.backingStorePixelRatio ||\n",
       "\tthis.context.webkitBackingStorePixelRatio ||\n",
       "\tthis.context.mozBackingStorePixelRatio ||\n",
       "\tthis.context.msBackingStorePixelRatio ||\n",
       "\tthis.context.oBackingStorePixelRatio ||\n",
       "\tthis.context.backingStorePixelRatio || 1;\n",
       "\n",
       "    mpl.ratio = (window.devicePixelRatio || 1) / backingStore;\n",
       "\n",
       "    var rubberband = $('<canvas/>');\n",
       "    rubberband.attr('style', \"position: absolute; left: 0; top: 0; z-index: 1;\")\n",
       "\n",
       "    var pass_mouse_events = true;\n",
       "\n",
       "    canvas_div.resizable({\n",
       "        start: function(event, ui) {\n",
       "            pass_mouse_events = false;\n",
       "        },\n",
       "        resize: function(event, ui) {\n",
       "            fig.request_resize(ui.size.width, ui.size.height);\n",
       "        },\n",
       "        stop: function(event, ui) {\n",
       "            pass_mouse_events = true;\n",
       "            fig.request_resize(ui.size.width, ui.size.height);\n",
       "        },\n",
       "    });\n",
       "\n",
       "    function mouse_event_fn(event) {\n",
       "        if (pass_mouse_events)\n",
       "            return fig.mouse_event(event, event['data']);\n",
       "    }\n",
       "\n",
       "    rubberband.mousedown('button_press', mouse_event_fn);\n",
       "    rubberband.mouseup('button_release', mouse_event_fn);\n",
       "    // Throttle sequential mouse events to 1 every 20ms.\n",
       "    rubberband.mousemove('motion_notify', mouse_event_fn);\n",
       "\n",
       "    rubberband.mouseenter('figure_enter', mouse_event_fn);\n",
       "    rubberband.mouseleave('figure_leave', mouse_event_fn);\n",
       "\n",
       "    canvas_div.on(\"wheel\", function (event) {\n",
       "        event = event.originalEvent;\n",
       "        event['data'] = 'scroll'\n",
       "        if (event.deltaY < 0) {\n",
       "            event.step = 1;\n",
       "        } else {\n",
       "            event.step = -1;\n",
       "        }\n",
       "        mouse_event_fn(event);\n",
       "    });\n",
       "\n",
       "    canvas_div.append(canvas);\n",
       "    canvas_div.append(rubberband);\n",
       "\n",
       "    this.rubberband = rubberband;\n",
       "    this.rubberband_canvas = rubberband[0];\n",
       "    this.rubberband_context = rubberband[0].getContext(\"2d\");\n",
       "    this.rubberband_context.strokeStyle = \"#000000\";\n",
       "\n",
       "    this._resize_canvas = function(width, height) {\n",
       "        // Keep the size of the canvas, canvas container, and rubber band\n",
       "        // canvas in synch.\n",
       "        canvas_div.css('width', width)\n",
       "        canvas_div.css('height', height)\n",
       "\n",
       "        canvas.attr('width', width * mpl.ratio);\n",
       "        canvas.attr('height', height * mpl.ratio);\n",
       "        canvas.attr('style', 'width: ' + width + 'px; height: ' + height + 'px;');\n",
       "\n",
       "        rubberband.attr('width', width);\n",
       "        rubberband.attr('height', height);\n",
       "    }\n",
       "\n",
       "    // Set the figure to an initial 600x600px, this will subsequently be updated\n",
       "    // upon first draw.\n",
       "    this._resize_canvas(600, 600);\n",
       "\n",
       "    // Disable right mouse context menu.\n",
       "    $(this.rubberband_canvas).bind(\"contextmenu\",function(e){\n",
       "        return false;\n",
       "    });\n",
       "\n",
       "    function set_focus () {\n",
       "        canvas.focus();\n",
       "        canvas_div.focus();\n",
       "    }\n",
       "\n",
       "    window.setTimeout(set_focus, 100);\n",
       "}\n",
       "\n",
       "mpl.figure.prototype._init_toolbar = function() {\n",
       "    var fig = this;\n",
       "\n",
       "    var nav_element = $('<div/>');\n",
       "    nav_element.attr('style', 'width: 100%');\n",
       "    this.root.append(nav_element);\n",
       "\n",
       "    // Define a callback function for later on.\n",
       "    function toolbar_event(event) {\n",
       "        return fig.toolbar_button_onclick(event['data']);\n",
       "    }\n",
       "    function toolbar_mouse_event(event) {\n",
       "        return fig.toolbar_button_onmouseover(event['data']);\n",
       "    }\n",
       "\n",
       "    for(var toolbar_ind in mpl.toolbar_items) {\n",
       "        var name = mpl.toolbar_items[toolbar_ind][0];\n",
       "        var tooltip = mpl.toolbar_items[toolbar_ind][1];\n",
       "        var image = mpl.toolbar_items[toolbar_ind][2];\n",
       "        var method_name = mpl.toolbar_items[toolbar_ind][3];\n",
       "\n",
       "        if (!name) {\n",
       "            // put a spacer in here.\n",
       "            continue;\n",
       "        }\n",
       "        var button = $('<button/>');\n",
       "        button.addClass('ui-button ui-widget ui-state-default ui-corner-all ' +\n",
       "                        'ui-button-icon-only');\n",
       "        button.attr('role', 'button');\n",
       "        button.attr('aria-disabled', 'false');\n",
       "        button.click(method_name, toolbar_event);\n",
       "        button.mouseover(tooltip, toolbar_mouse_event);\n",
       "\n",
       "        var icon_img = $('<span/>');\n",
       "        icon_img.addClass('ui-button-icon-primary ui-icon');\n",
       "        icon_img.addClass(image);\n",
       "        icon_img.addClass('ui-corner-all');\n",
       "\n",
       "        var tooltip_span = $('<span/>');\n",
       "        tooltip_span.addClass('ui-button-text');\n",
       "        tooltip_span.html(tooltip);\n",
       "\n",
       "        button.append(icon_img);\n",
       "        button.append(tooltip_span);\n",
       "\n",
       "        nav_element.append(button);\n",
       "    }\n",
       "\n",
       "    var fmt_picker_span = $('<span/>');\n",
       "\n",
       "    var fmt_picker = $('<select/>');\n",
       "    fmt_picker.addClass('mpl-toolbar-option ui-widget ui-widget-content');\n",
       "    fmt_picker_span.append(fmt_picker);\n",
       "    nav_element.append(fmt_picker_span);\n",
       "    this.format_dropdown = fmt_picker[0];\n",
       "\n",
       "    for (var ind in mpl.extensions) {\n",
       "        var fmt = mpl.extensions[ind];\n",
       "        var option = $(\n",
       "            '<option/>', {selected: fmt === mpl.default_extension}).html(fmt);\n",
       "        fmt_picker.append(option);\n",
       "    }\n",
       "\n",
       "    // Add hover states to the ui-buttons\n",
       "    $( \".ui-button\" ).hover(\n",
       "        function() { $(this).addClass(\"ui-state-hover\");},\n",
       "        function() { $(this).removeClass(\"ui-state-hover\");}\n",
       "    );\n",
       "\n",
       "    var status_bar = $('<span class=\"mpl-message\"/>');\n",
       "    nav_element.append(status_bar);\n",
       "    this.message = status_bar[0];\n",
       "}\n",
       "\n",
       "mpl.figure.prototype.request_resize = function(x_pixels, y_pixels) {\n",
       "    // Request matplotlib to resize the figure. Matplotlib will then trigger a resize in the client,\n",
       "    // which will in turn request a refresh of the image.\n",
       "    this.send_message('resize', {'width': x_pixels, 'height': y_pixels});\n",
       "}\n",
       "\n",
       "mpl.figure.prototype.send_message = function(type, properties) {\n",
       "    properties['type'] = type;\n",
       "    properties['figure_id'] = this.id;\n",
       "    this.ws.send(JSON.stringify(properties));\n",
       "}\n",
       "\n",
       "mpl.figure.prototype.send_draw_message = function() {\n",
       "    if (!this.waiting) {\n",
       "        this.waiting = true;\n",
       "        this.ws.send(JSON.stringify({type: \"draw\", figure_id: this.id}));\n",
       "    }\n",
       "}\n",
       "\n",
       "\n",
       "mpl.figure.prototype.handle_save = function(fig, msg) {\n",
       "    var format_dropdown = fig.format_dropdown;\n",
       "    var format = format_dropdown.options[format_dropdown.selectedIndex].value;\n",
       "    fig.ondownload(fig, format);\n",
       "}\n",
       "\n",
       "\n",
       "mpl.figure.prototype.handle_resize = function(fig, msg) {\n",
       "    var size = msg['size'];\n",
       "    if (size[0] != fig.canvas.width || size[1] != fig.canvas.height) {\n",
       "        fig._resize_canvas(size[0], size[1]);\n",
       "        fig.send_message(\"refresh\", {});\n",
       "    };\n",
       "}\n",
       "\n",
       "mpl.figure.prototype.handle_rubberband = function(fig, msg) {\n",
       "    var x0 = msg['x0'] / mpl.ratio;\n",
       "    var y0 = (fig.canvas.height - msg['y0']) / mpl.ratio;\n",
       "    var x1 = msg['x1'] / mpl.ratio;\n",
       "    var y1 = (fig.canvas.height - msg['y1']) / mpl.ratio;\n",
       "    x0 = Math.floor(x0) + 0.5;\n",
       "    y0 = Math.floor(y0) + 0.5;\n",
       "    x1 = Math.floor(x1) + 0.5;\n",
       "    y1 = Math.floor(y1) + 0.5;\n",
       "    var min_x = Math.min(x0, x1);\n",
       "    var min_y = Math.min(y0, y1);\n",
       "    var width = Math.abs(x1 - x0);\n",
       "    var height = Math.abs(y1 - y0);\n",
       "\n",
       "    fig.rubberband_context.clearRect(\n",
       "        0, 0, fig.canvas.width / mpl.ratio, fig.canvas.height / mpl.ratio);\n",
       "\n",
       "    fig.rubberband_context.strokeRect(min_x, min_y, width, height);\n",
       "}\n",
       "\n",
       "mpl.figure.prototype.handle_figure_label = function(fig, msg) {\n",
       "    // Updates the figure title.\n",
       "    fig.header.textContent = msg['label'];\n",
       "}\n",
       "\n",
       "mpl.figure.prototype.handle_cursor = function(fig, msg) {\n",
       "    var cursor = msg['cursor'];\n",
       "    switch(cursor)\n",
       "    {\n",
       "    case 0:\n",
       "        cursor = 'pointer';\n",
       "        break;\n",
       "    case 1:\n",
       "        cursor = 'default';\n",
       "        break;\n",
       "    case 2:\n",
       "        cursor = 'crosshair';\n",
       "        break;\n",
       "    case 3:\n",
       "        cursor = 'move';\n",
       "        break;\n",
       "    }\n",
       "    fig.rubberband_canvas.style.cursor = cursor;\n",
       "}\n",
       "\n",
       "mpl.figure.prototype.handle_message = function(fig, msg) {\n",
       "    fig.message.textContent = msg['message'];\n",
       "}\n",
       "\n",
       "mpl.figure.prototype.handle_draw = function(fig, msg) {\n",
       "    // Request the server to send over a new figure.\n",
       "    fig.send_draw_message();\n",
       "}\n",
       "\n",
       "mpl.figure.prototype.handle_image_mode = function(fig, msg) {\n",
       "    fig.image_mode = msg['mode'];\n",
       "}\n",
       "\n",
       "mpl.figure.prototype.updated_canvas_event = function() {\n",
       "    // Called whenever the canvas gets updated.\n",
       "    this.send_message(\"ack\", {});\n",
       "}\n",
       "\n",
       "// A function to construct a web socket function for onmessage handling.\n",
       "// Called in the figure constructor.\n",
       "mpl.figure.prototype._make_on_message_function = function(fig) {\n",
       "    return function socket_on_message(evt) {\n",
       "        if (evt.data instanceof Blob) {\n",
       "            /* FIXME: We get \"Resource interpreted as Image but\n",
       "             * transferred with MIME type text/plain:\" errors on\n",
       "             * Chrome.  But how to set the MIME type?  It doesn't seem\n",
       "             * to be part of the websocket stream */\n",
       "            evt.data.type = \"image/png\";\n",
       "\n",
       "            /* Free the memory for the previous frames */\n",
       "            if (fig.imageObj.src) {\n",
       "                (window.URL || window.webkitURL).revokeObjectURL(\n",
       "                    fig.imageObj.src);\n",
       "            }\n",
       "\n",
       "            fig.imageObj.src = (window.URL || window.webkitURL).createObjectURL(\n",
       "                evt.data);\n",
       "            fig.updated_canvas_event();\n",
       "            fig.waiting = false;\n",
       "            return;\n",
       "        }\n",
       "        else if (typeof evt.data === 'string' && evt.data.slice(0, 21) == \"data:image/png;base64\") {\n",
       "            fig.imageObj.src = evt.data;\n",
       "            fig.updated_canvas_event();\n",
       "            fig.waiting = false;\n",
       "            return;\n",
       "        }\n",
       "\n",
       "        var msg = JSON.parse(evt.data);\n",
       "        var msg_type = msg['type'];\n",
       "\n",
       "        // Call the  \"handle_{type}\" callback, which takes\n",
       "        // the figure and JSON message as its only arguments.\n",
       "        try {\n",
       "            var callback = fig[\"handle_\" + msg_type];\n",
       "        } catch (e) {\n",
       "            console.log(\"No handler for the '\" + msg_type + \"' message type: \", msg);\n",
       "            return;\n",
       "        }\n",
       "\n",
       "        if (callback) {\n",
       "            try {\n",
       "                // console.log(\"Handling '\" + msg_type + \"' message: \", msg);\n",
       "                callback(fig, msg);\n",
       "            } catch (e) {\n",
       "                console.log(\"Exception inside the 'handler_\" + msg_type + \"' callback:\", e, e.stack, msg);\n",
       "            }\n",
       "        }\n",
       "    };\n",
       "}\n",
       "\n",
       "// from http://stackoverflow.com/questions/1114465/getting-mouse-location-in-canvas\n",
       "mpl.findpos = function(e) {\n",
       "    //this section is from http://www.quirksmode.org/js/events_properties.html\n",
       "    var targ;\n",
       "    if (!e)\n",
       "        e = window.event;\n",
       "    if (e.target)\n",
       "        targ = e.target;\n",
       "    else if (e.srcElement)\n",
       "        targ = e.srcElement;\n",
       "    if (targ.nodeType == 3) // defeat Safari bug\n",
       "        targ = targ.parentNode;\n",
       "\n",
       "    // jQuery normalizes the pageX and pageY\n",
       "    // pageX,Y are the mouse positions relative to the document\n",
       "    // offset() returns the position of the element relative to the document\n",
       "    var x = e.pageX - $(targ).offset().left;\n",
       "    var y = e.pageY - $(targ).offset().top;\n",
       "\n",
       "    return {\"x\": x, \"y\": y};\n",
       "};\n",
       "\n",
       "/*\n",
       " * return a copy of an object with only non-object keys\n",
       " * we need this to avoid circular references\n",
       " * http://stackoverflow.com/a/24161582/3208463\n",
       " */\n",
       "function simpleKeys (original) {\n",
       "  return Object.keys(original).reduce(function (obj, key) {\n",
       "    if (typeof original[key] !== 'object')\n",
       "        obj[key] = original[key]\n",
       "    return obj;\n",
       "  }, {});\n",
       "}\n",
       "\n",
       "mpl.figure.prototype.mouse_event = function(event, name) {\n",
       "    var canvas_pos = mpl.findpos(event)\n",
       "\n",
       "    if (name === 'button_press')\n",
       "    {\n",
       "        this.canvas.focus();\n",
       "        this.canvas_div.focus();\n",
       "    }\n",
       "\n",
       "    var x = canvas_pos.x * mpl.ratio;\n",
       "    var y = canvas_pos.y * mpl.ratio;\n",
       "\n",
       "    this.send_message(name, {x: x, y: y, button: event.button,\n",
       "                             step: event.step,\n",
       "                             guiEvent: simpleKeys(event)});\n",
       "\n",
       "    /* This prevents the web browser from automatically changing to\n",
       "     * the text insertion cursor when the button is pressed.  We want\n",
       "     * to control all of the cursor setting manually through the\n",
       "     * 'cursor' event from matplotlib */\n",
       "    event.preventDefault();\n",
       "    return false;\n",
       "}\n",
       "\n",
       "mpl.figure.prototype._key_event_extra = function(event, name) {\n",
       "    // Handle any extra behaviour associated with a key event\n",
       "}\n",
       "\n",
       "mpl.figure.prototype.key_event = function(event, name) {\n",
       "\n",
       "    // Prevent repeat events\n",
       "    if (name == 'key_press')\n",
       "    {\n",
       "        if (event.which === this._key)\n",
       "            return;\n",
       "        else\n",
       "            this._key = event.which;\n",
       "    }\n",
       "    if (name == 'key_release')\n",
       "        this._key = null;\n",
       "\n",
       "    var value = '';\n",
       "    if (event.ctrlKey && event.which != 17)\n",
       "        value += \"ctrl+\";\n",
       "    if (event.altKey && event.which != 18)\n",
       "        value += \"alt+\";\n",
       "    if (event.shiftKey && event.which != 16)\n",
       "        value += \"shift+\";\n",
       "\n",
       "    value += 'k';\n",
       "    value += event.which.toString();\n",
       "\n",
       "    this._key_event_extra(event, name);\n",
       "\n",
       "    this.send_message(name, {key: value,\n",
       "                             guiEvent: simpleKeys(event)});\n",
       "    return false;\n",
       "}\n",
       "\n",
       "mpl.figure.prototype.toolbar_button_onclick = function(name) {\n",
       "    if (name == 'download') {\n",
       "        this.handle_save(this, null);\n",
       "    } else {\n",
       "        this.send_message(\"toolbar_button\", {name: name});\n",
       "    }\n",
       "};\n",
       "\n",
       "mpl.figure.prototype.toolbar_button_onmouseover = function(tooltip) {\n",
       "    this.message.textContent = tooltip;\n",
       "};\n",
       "mpl.toolbar_items = [[\"Home\", \"Reset original view\", \"fa fa-home icon-home\", \"home\"], [\"Back\", \"Back to previous view\", \"fa fa-arrow-left icon-arrow-left\", \"back\"], [\"Forward\", \"Forward to next view\", \"fa fa-arrow-right icon-arrow-right\", \"forward\"], [\"\", \"\", \"\", \"\"], [\"Pan\", \"Pan axes with left mouse, zoom with right\", \"fa fa-arrows icon-move\", \"pan\"], [\"Zoom\", \"Zoom to rectangle\", \"fa fa-square-o icon-check-empty\", \"zoom\"], [\"\", \"\", \"\", \"\"], [\"Download\", \"Download plot\", \"fa fa-floppy-o icon-save\", \"download\"]];\n",
       "\n",
       "mpl.extensions = [\"eps\", \"pdf\", \"png\", \"ps\", \"raw\", \"svg\"];\n",
       "\n",
       "mpl.default_extension = \"png\";var comm_websocket_adapter = function(comm) {\n",
       "    // Create a \"websocket\"-like object which calls the given IPython comm\n",
       "    // object with the appropriate methods. Currently this is a non binary\n",
       "    // socket, so there is still some room for performance tuning.\n",
       "    var ws = {};\n",
       "\n",
       "    ws.close = function() {\n",
       "        comm.close()\n",
       "    };\n",
       "    ws.send = function(m) {\n",
       "        //console.log('sending', m);\n",
       "        comm.send(m);\n",
       "    };\n",
       "    // Register the callback with on_msg.\n",
       "    comm.on_msg(function(msg) {\n",
       "        //console.log('receiving', msg['content']['data'], msg);\n",
       "        // Pass the mpl event to the overridden (by mpl) onmessage function.\n",
       "        ws.onmessage(msg['content']['data'])\n",
       "    });\n",
       "    return ws;\n",
       "}\n",
       "\n",
       "mpl.mpl_figure_comm = function(comm, msg) {\n",
       "    // This is the function which gets called when the mpl process\n",
       "    // starts-up an IPython Comm through the \"matplotlib\" channel.\n",
       "\n",
       "    var id = msg.content.data.id;\n",
       "    // Get hold of the div created by the display call when the Comm\n",
       "    // socket was opened in Python.\n",
       "    var element = $(\"#\" + id);\n",
       "    var ws_proxy = comm_websocket_adapter(comm)\n",
       "\n",
       "    function ondownload(figure, format) {\n",
       "        window.open(figure.imageObj.src);\n",
       "    }\n",
       "\n",
       "    var fig = new mpl.figure(id, ws_proxy,\n",
       "                           ondownload,\n",
       "                           element.get(0));\n",
       "\n",
       "    // Call onopen now - mpl needs it, as it is assuming we've passed it a real\n",
       "    // web socket which is closed, not our websocket->open comm proxy.\n",
       "    ws_proxy.onopen();\n",
       "\n",
       "    fig.parent_element = element.get(0);\n",
       "    fig.cell_info = mpl.find_output_cell(\"<div id='\" + id + \"'></div>\");\n",
       "    if (!fig.cell_info) {\n",
       "        console.error(\"Failed to find cell for figure\", id, fig);\n",
       "        return;\n",
       "    }\n",
       "\n",
       "    var output_index = fig.cell_info[2]\n",
       "    var cell = fig.cell_info[0];\n",
       "\n",
       "};\n",
       "\n",
       "mpl.figure.prototype.handle_close = function(fig, msg) {\n",
       "    var width = fig.canvas.width/mpl.ratio\n",
       "    fig.root.unbind('remove')\n",
       "\n",
       "    // Update the output cell to use the data from the current canvas.\n",
       "    fig.push_to_output();\n",
       "    var dataURL = fig.canvas.toDataURL();\n",
       "    // Re-enable the keyboard manager in IPython - without this line, in FF,\n",
       "    // the notebook keyboard shortcuts fail.\n",
       "    IPython.keyboard_manager.enable()\n",
       "    $(fig.parent_element).html('<img src=\"' + dataURL + '\" width=\"' + width + '\">');\n",
       "    fig.close_ws(fig, msg);\n",
       "}\n",
       "\n",
       "mpl.figure.prototype.close_ws = function(fig, msg){\n",
       "    fig.send_message('closing', msg);\n",
       "    // fig.ws.close()\n",
       "}\n",
       "\n",
       "mpl.figure.prototype.push_to_output = function(remove_interactive) {\n",
       "    // Turn the data on the canvas into data in the output cell.\n",
       "    var width = this.canvas.width/mpl.ratio\n",
       "    var dataURL = this.canvas.toDataURL();\n",
       "    this.cell_info[1]['text/html'] = '<img src=\"' + dataURL + '\" width=\"' + width + '\">';\n",
       "}\n",
       "\n",
       "mpl.figure.prototype.updated_canvas_event = function() {\n",
       "    // Tell IPython that the notebook contents must change.\n",
       "    IPython.notebook.set_dirty(true);\n",
       "    this.send_message(\"ack\", {});\n",
       "    var fig = this;\n",
       "    // Wait a second, then push the new image to the DOM so\n",
       "    // that it is saved nicely (might be nice to debounce this).\n",
       "    setTimeout(function () { fig.push_to_output() }, 1000);\n",
       "}\n",
       "\n",
       "mpl.figure.prototype._init_toolbar = function() {\n",
       "    var fig = this;\n",
       "\n",
       "    var nav_element = $('<div/>');\n",
       "    nav_element.attr('style', 'width: 100%');\n",
       "    this.root.append(nav_element);\n",
       "\n",
       "    // Define a callback function for later on.\n",
       "    function toolbar_event(event) {\n",
       "        return fig.toolbar_button_onclick(event['data']);\n",
       "    }\n",
       "    function toolbar_mouse_event(event) {\n",
       "        return fig.toolbar_button_onmouseover(event['data']);\n",
       "    }\n",
       "\n",
       "    for(var toolbar_ind in mpl.toolbar_items){\n",
       "        var name = mpl.toolbar_items[toolbar_ind][0];\n",
       "        var tooltip = mpl.toolbar_items[toolbar_ind][1];\n",
       "        var image = mpl.toolbar_items[toolbar_ind][2];\n",
       "        var method_name = mpl.toolbar_items[toolbar_ind][3];\n",
       "\n",
       "        if (!name) { continue; };\n",
       "\n",
       "        var button = $('<button class=\"btn btn-default\" href=\"#\" title=\"' + name + '\"><i class=\"fa ' + image + ' fa-lg\"></i></button>');\n",
       "        button.click(method_name, toolbar_event);\n",
       "        button.mouseover(tooltip, toolbar_mouse_event);\n",
       "        nav_element.append(button);\n",
       "    }\n",
       "\n",
       "    // Add the status bar.\n",
       "    var status_bar = $('<span class=\"mpl-message\" style=\"text-align:right; float: right;\"/>');\n",
       "    nav_element.append(status_bar);\n",
       "    this.message = status_bar[0];\n",
       "\n",
       "    // Add the close button to the window.\n",
       "    var buttongrp = $('<div class=\"btn-group inline pull-right\"></div>');\n",
       "    var button = $('<button class=\"btn btn-mini btn-primary\" href=\"#\" title=\"Stop Interaction\"><i class=\"fa fa-power-off icon-remove icon-large\"></i></button>');\n",
       "    button.click(function (evt) { fig.handle_close(fig, {}); } );\n",
       "    button.mouseover('Stop Interaction', toolbar_mouse_event);\n",
       "    buttongrp.append(button);\n",
       "    var titlebar = this.root.find($('.ui-dialog-titlebar'));\n",
       "    titlebar.prepend(buttongrp);\n",
       "}\n",
       "\n",
       "mpl.figure.prototype._root_extra_style = function(el){\n",
       "    var fig = this\n",
       "    el.on(\"remove\", function(){\n",
       "\tfig.close_ws(fig, {});\n",
       "    });\n",
       "}\n",
       "\n",
       "mpl.figure.prototype._canvas_extra_style = function(el){\n",
       "    // this is important to make the div 'focusable\n",
       "    el.attr('tabindex', 0)\n",
       "    // reach out to IPython and tell the keyboard manager to turn it's self\n",
       "    // off when our div gets focus\n",
       "\n",
       "    // location in version 3\n",
       "    if (IPython.notebook.keyboard_manager) {\n",
       "        IPython.notebook.keyboard_manager.register_events(el);\n",
       "    }\n",
       "    else {\n",
       "        // location in version 2\n",
       "        IPython.keyboard_manager.register_events(el);\n",
       "    }\n",
       "\n",
       "}\n",
       "\n",
       "mpl.figure.prototype._key_event_extra = function(event, name) {\n",
       "    var manager = IPython.notebook.keyboard_manager;\n",
       "    if (!manager)\n",
       "        manager = IPython.keyboard_manager;\n",
       "\n",
       "    // Check for shift+enter\n",
       "    if (event.shiftKey && event.which == 13) {\n",
       "        this.canvas_div.blur();\n",
       "        // select the cell after this one\n",
       "        var index = IPython.notebook.find_cell_index(this.cell_info[0]);\n",
       "        IPython.notebook.select(index + 1);\n",
       "    }\n",
       "}\n",
       "\n",
       "mpl.figure.prototype.handle_save = function(fig, msg) {\n",
       "    fig.ondownload(fig, null);\n",
       "}\n",
       "\n",
       "\n",
       "mpl.find_output_cell = function(html_output) {\n",
       "    // Return the cell and output element which can be found *uniquely* in the notebook.\n",
       "    // Note - this is a bit hacky, but it is done because the \"notebook_saving.Notebook\"\n",
       "    // IPython event is triggered only after the cells have been serialised, which for\n",
       "    // our purposes (turning an active figure into a static one), is too late.\n",
       "    var cells = IPython.notebook.get_cells();\n",
       "    var ncells = cells.length;\n",
       "    for (var i=0; i<ncells; i++) {\n",
       "        var cell = cells[i];\n",
       "        if (cell.cell_type === 'code'){\n",
       "            for (var j=0; j<cell.output_area.outputs.length; j++) {\n",
       "                var data = cell.output_area.outputs[j];\n",
       "                if (data.data) {\n",
       "                    // IPython >= 3 moved mimebundle to data attribute of output\n",
       "                    data = data.data;\n",
       "                }\n",
       "                if (data['text/html'] == html_output) {\n",
       "                    return [cell, data, j];\n",
       "                }\n",
       "            }\n",
       "        }\n",
       "    }\n",
       "}\n",
       "\n",
       "// Register the function which deals with the matplotlib target/channel.\n",
       "// The kernel may be null if the page has been refreshed.\n",
       "if (IPython.notebook.kernel != null) {\n",
       "    IPython.notebook.kernel.comm_manager.register_target('matplotlib', mpl.mpl_figure_comm);\n",
       "}\n"
      ],
      "text/plain": [
       "<IPython.core.display.Javascript object>"
      ]
     },
     "metadata": {},
     "output_type": "display_data"
    },
    {
     "data": {
      "text/html": [
       "<img src=\"data:image/png;base64,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\" width=\"240\">"
      ],
      "text/plain": [
       "<IPython.core.display.HTML object>"
      ]
     },
     "metadata": {},
     "output_type": "display_data"
    }
   ],
   "source": [
    "nd_eri0_ao = NumericDiff(gradn, lambda gradh: gradh.eri0_ao).derivative\n",
    "plot_diff(eri1_ao, nd_eri0_ao)"
   ]
  },
  {
   "cell_type": "markdown",
   "metadata": {
    "hidden": true
   },
   "source": [
    "- `eri1_mo` $(pq|rs)^{A_t}$; dim: $(A, t, p, q, r, s)$ in document, $(A_t, p, q, r, s)$ in pyxdh; symm: $(pq|rs)^{A_t} = (pq|sr)^{A_t} = (rs|pq)^{A_t}$ (8-fold)\n",
    "\n",
    "$$\n",
    "(pq|rs)^{A_t} = C_{\\mu p} C_{\\nu q} (\\mu \\nu | \\kappa \\lambda)^{A_t} C_{\\kappa r} C_{\\lambda s}\n",
    "$$"
   ]
  },
  {
   "cell_type": "code",
   "execution_count": 50,
   "metadata": {
    "hidden": true
   },
   "outputs": [
    {
     "data": {
      "text/plain": [
       "(4, 3, 22, 22, 22, 22)"
      ]
     },
     "execution_count": 50,
     "metadata": {},
     "output_type": "execute_result"
    }
   ],
   "source": [
    "eri1_mo = np.einsum(\"up, vq, Atuvkl, kr, ls -> Atpqrs\", C, C, eri1_ao, C, C)\n",
    "eri1_mo.shape"
   ]
  },
  {
   "cell_type": "code",
   "execution_count": 51,
   "metadata": {
    "hidden": true
   },
   "outputs": [
    {
     "data": {
      "text/plain": [
       "True"
      ]
     },
     "execution_count": 51,
     "metadata": {},
     "output_type": "execute_result"
    }
   ],
   "source": [
    "np.allclose(eri1_mo, eri1_mo.swapaxes(-1, -2))  # symm check"
   ]
  },
  {
   "cell_type": "code",
   "execution_count": 52,
   "metadata": {
    "hidden": true
   },
   "outputs": [
    {
     "data": {
      "text/plain": [
       "True"
      ]
     },
     "execution_count": 52,
     "metadata": {},
     "output_type": "execute_result"
    }
   ],
   "source": [
    "np.allclose(eri1_mo, eri1_mo.swapaxes(-3, -4))  # symm check"
   ]
  },
  {
   "cell_type": "code",
   "execution_count": 53,
   "metadata": {
    "hidden": true
   },
   "outputs": [
    {
     "data": {
      "text/plain": [
       "True"
      ]
     },
     "execution_count": 53,
     "metadata": {},
     "output_type": "execute_result"
    }
   ],
   "source": [
    "np.allclose(eri1_mo, eri1_mo.swapaxes(-1, -3).swapaxes(-2, -4))  # symm check"
   ]
  },
  {
   "cell_type": "code",
   "execution_count": 54,
   "metadata": {
    "hidden": true
   },
   "outputs": [
    {
     "data": {
      "text/plain": [
       "True"
      ]
     },
     "execution_count": 54,
     "metadata": {},
     "output_type": "execute_result"
    }
   ],
   "source": [
    "np.allclose(eri1_mo, gradh.eri1_mo.reshape(natm, 3, nao, nao, nao, nao))  # pyxdh approach"
   ]
  },
  {
   "cell_type": "markdown",
   "metadata": {
    "heading_collapsed": true
   },
   "source": [
    "### `A_rho_1` $\\rho^{A_t}$ Density Grid Skeleton"
   ]
  },
  {
   "cell_type": "markdown",
   "metadata": {
    "hidden": true
   },
   "source": [
    "- `A_rho_1` $\\rho^{A_t}$; dim: $(A, t, g)$\n",
    "\n",
    "$$\n",
    "\\rho^{A_t} = - 2 \\phi_{t \\mu_A} \\phi_\\nu D_{\\mu \\nu}\n",
    "$$"
   ]
  },
  {
   "cell_type": "code",
   "execution_count": 55,
   "metadata": {
    "hidden": true
   },
   "outputs": [
    {
     "data": {
      "text/plain": [
       "(4, 3, 90600)"
      ]
     },
     "execution_count": 55,
     "metadata": {},
     "output_type": "execute_result"
    }
   ],
   "source": [
    "A_rho_1 = np.zeros((natm, 3, grdh.ngrid))\n",
    "for A in range(natm):\n",
    "    sA = mol_slice(A)\n",
    "    A_rho_1[A] = - 2 * np.einsum(\"tgu, gv, uv -> tg\", ao_1[:, :, sA], ao_0, D[sA])\n",
    "A_rho_1.shape"
   ]
  },
  {
   "cell_type": "code",
   "execution_count": 56,
   "metadata": {
    "hidden": true
   },
   "outputs": [
    {
     "data": {
      "text/plain": [
       "True"
      ]
     },
     "execution_count": 56,
     "metadata": {},
     "output_type": "execute_result"
    }
   ],
   "source": [
    "np.allclose(A_rho_1, grdh.A_rho_1)  # pyxdh approach"
   ]
  },
  {
   "cell_type": "markdown",
   "metadata": {
    "heading_collapsed": true
   },
   "source": [
    "### `A_rho_2` $\\rho_r^{A_t}$ Density Derivative Grid Skeleton"
   ]
  },
  {
   "cell_type": "markdown",
   "metadata": {
    "hidden": true
   },
   "source": [
    "- `A_rho_2` $\\rho_r^{A_t}$; dim: $(A, t, r, g)$\n",
    "\n",
    "$$\n",
    "\\rho_r^{A_t} = - 2 \\phi_{tr \\mu_A} \\phi_\\nu D_{\\mu \\nu} - 2 \\phi_{r \\mu} \\phi_{t \\nu_A} D_{\\mu \\nu}\n",
    "$$"
   ]
  },
  {
   "cell_type": "code",
   "execution_count": 57,
   "metadata": {
    "hidden": true
   },
   "outputs": [
    {
     "data": {
      "text/plain": [
       "(4, 3, 3, 90600)"
      ]
     },
     "execution_count": 57,
     "metadata": {},
     "output_type": "execute_result"
    }
   ],
   "source": [
    "A_rho_2 = np.zeros((natm, 3, 3, grdh.ngrid))\n",
    "for A in range(natm):\n",
    "    sA = mol_slice(A)\n",
    "    A_rho_2[A]  = - 2 * np.einsum(\"trgu, gv, uv -> trg\", ao_2[:, :, :, sA], ao_0, D[sA])\n",
    "    A_rho_2[A] += - 2 * np.einsum(\"rgu, tgv, uv -> trg\", ao_1, ao_1[:, :, sA], D[:, sA])\n",
    "A_rho_2.shape"
   ]
  },
  {
   "cell_type": "code",
   "execution_count": 58,
   "metadata": {
    "hidden": true,
    "scrolled": true
   },
   "outputs": [
    {
     "data": {
      "text/plain": [
       "True"
      ]
     },
     "execution_count": 58,
     "metadata": {},
     "output_type": "execute_result"
    }
   ],
   "source": [
    "np.allclose(A_rho_2, grdh.A_rho_2)  # pyxdh approach"
   ]
  },
  {
   "cell_type": "markdown",
   "metadata": {
    "heading_collapsed": true
   },
   "source": [
    "### `A_gamma_1` $\\gamma^{A_t}$ Skeleton"
   ]
  },
  {
   "cell_type": "markdown",
   "metadata": {
    "hidden": true
   },
   "source": [
    "- `A_gamma_1` $\\gamma^{A_t}$; dim: $(A, t, g)$\n",
    "\n",
    "$$\n",
    "\\gamma^{A_t} = 2 \\rho_r \\rho_r^{A_t}\n",
    "$$"
   ]
  },
  {
   "cell_type": "code",
   "execution_count": 59,
   "metadata": {
    "hidden": true
   },
   "outputs": [
    {
     "data": {
      "text/plain": [
       "(4, 3, 90600)"
      ]
     },
     "execution_count": 59,
     "metadata": {},
     "output_type": "execute_result"
    }
   ],
   "source": [
    "A_gamma_1 = 2 * np.einsum(\"rg, Atrg -> Atg\", rho_1, A_rho_2)\n",
    "A_gamma_1.shape"
   ]
  },
  {
   "cell_type": "code",
   "execution_count": 60,
   "metadata": {
    "hidden": true
   },
   "outputs": [
    {
     "data": {
      "text/plain": [
       "True"
      ]
     },
     "execution_count": 60,
     "metadata": {},
     "output_type": "execute_result"
    }
   ],
   "source": [
    "np.allclose(A_gamma_1, grdh.A_gamma_1)  # pyxdh approach"
   ]
  },
  {
   "cell_type": "markdown",
   "metadata": {
    "heading_collapsed": true
   },
   "source": [
    "### `F_1_ao` $F_{\\mu \\nu}^{A_t}$ (Self-consistent) Fock Skeleton"
   ]
  },
  {
   "cell_type": "markdown",
   "metadata": {
    "hidden": true
   },
   "source": [
    "- `F_1_ao_GGA` $v_{\\mu \\nu}^\\mathrm{xc}$; dim: $(A, t, \\mu, \\nu)$; symm: $v_{\\mu \\nu}^\\mathrm{xc} = v_{\\nu \\mu}^\\mathrm{xc}$\n",
    "\n",
    "$$\n",
    "\\begin{align}\n",
    "\\partial_{A_t} v_{\\mu \\nu}^\\mathrm{xc}\n",
    "&= \\frac{1}{2} f_{\\rho \\rho} \\rho^{A_t} \\phi_\\mu \\phi_\\nu + \\frac{1}{2} f_{\\rho \\gamma} \\gamma^{A_t} \\phi_\\mu \\phi_\\nu \\\\\n",
    "&\\quad + 2 f_{\\rho \\gamma} \\rho^{A_t} \\rho_r \\phi_{r \\mu} \\phi_{\\nu} + 2 f_{\\gamma \\gamma} \\gamma^{A_t} \\rho_r \\phi_{r \\mu} \\phi_{\\nu} \\\\\n",
    "&\\quad + 2 f_\\gamma \\rho_r^{A_t} \\phi_{r \\mu} \\phi_{\\nu} \\\\\n",
    "&\\quad - f_\\rho \\phi_{t \\mu_A} \\phi_\\nu - 2 f_\\gamma \\rho_r \\phi_{tr \\mu_A} \\phi_{\\nu} - 2 f_\\gamma \\rho_r \\phi_{t \\mu_A} \\phi_{r \\nu}\n",
    "\\end{align}\n",
    "$$"
   ]
  },
  {
   "cell_type": "code",
   "execution_count": 61,
   "metadata": {
    "hidden": true
   },
   "outputs": [
    {
     "data": {
      "text/plain": [
       "(4, 3, 22, 22)"
      ]
     },
     "execution_count": 61,
     "metadata": {},
     "output_type": "execute_result"
    }
   ],
   "source": [
    "F_1_ao_GGA = (\n",
    "    + 0.5 * np.einsum(\"g, Atg, gu, gv -> Atuv\", kerh.frr, A_rho_1, ao_0, ao_0)\n",
    "    + 0.5 * np.einsum(\"g, Atg, gu, gv -> Atuv\", kerh.frg, A_gamma_1, ao_0, ao_0)\n",
    "    + 2 * np.einsum(\"g, Atg, rg, rgu, gv -> Atuv\", kerh.frg, A_rho_1, rho_1, ao_1, ao_0)\n",
    "    + 2 * np.einsum(\"g, Atg, rg, rgu, gv -> Atuv\", kerh.fgg, A_gamma_1, rho_1, ao_1, ao_0)\n",
    "    + 2 * np.einsum(\"g, Atrg, rgu, gv -> Atuv\", kerh.fg, A_rho_2, ao_1, ao_0)\n",
    ")\n",
    "for A in range(natm):\n",
    "    sA = mol_slice(A)\n",
    "    F_1_ao_GGA[A, :, sA, :] -= np.einsum(\"g, tgu, gv -> tuv\", kerh.fr, ao_1[:, :, sA], ao_0)\n",
    "    F_1_ao_GGA[A, :, sA, :] -= 2 * np.einsum(\"g, rg, trgu, gv -> tuv\", kerh.fg, rho_1, ao_2[:, :, :, sA], ao_0)\n",
    "    F_1_ao_GGA[A, :, sA, :] -= 2 * np.einsum(\"g, rg, tgu, rgv -> tuv\", kerh.fg, rho_1, ao_1[:, :, sA], ao_1)\n",
    "F_1_ao_GGA += F_1_ao_GGA.swapaxes(-1, -2)  # swap (u, v)\n",
    "F_1_ao_GGA.shape"
   ]
  },
  {
   "cell_type": "code",
   "execution_count": 62,
   "metadata": {
    "hidden": true
   },
   "outputs": [
    {
     "data": {
      "text/plain": [
       "True"
      ]
     },
     "execution_count": 62,
     "metadata": {},
     "output_type": "execute_result"
    }
   ],
   "source": [
    "np.allclose(F_1_ao_GGA, F_1_ao_GGA.swapaxes(-1, -2))  # symm check"
   ]
  },
  {
   "cell_type": "markdown",
   "metadata": {
    "hidden": true
   },
   "source": [
    "- `F_1_ao` $F_{\\mu \\nu}^{A_t}$; dim: $(A, t, \\mu, \\nu)$ in document, $(A_t, \\mu, \\nu)$ in pyxdh; symm: $F_{\\mu \\nu}^{A_t} = F_{\\nu \\mu}^{A_t}$\n",
    "\n",
    "$$\n",
    "F_{\\mu \\nu}^{A_t} = h_{\\mu \\nu}^{A_t} + (\\mu \\nu | \\kappa \\lambda)^{A_t} D_{\\kappa \\lambda} - \\frac{c_\\mathrm{x}}{2} (\\mu \\kappa | \\nu \\lambda)^{A_t} D_{\\kappa \\lambda} + v_{\\mu \\nu}^{\\mathrm{xc}, A_t}\n",
    "$$"
   ]
  },
  {
   "cell_type": "code",
   "execution_count": 63,
   "metadata": {
    "hidden": true
   },
   "outputs": [
    {
     "data": {
      "text/plain": [
       "(4, 3, 22, 22)"
      ]
     },
     "execution_count": 63,
     "metadata": {},
     "output_type": "execute_result"
    }
   ],
   "source": [
    "F_1_ao = (\n",
    "    + H_1_ao\n",
    "    + np.einsum(\"Atuvkl, kl -> Atuv\", eri1_ao, D)\n",
    "    - 0.5 * cx * np.einsum(\"Atukvl, kl -> Atuv\", eri1_ao, D)\n",
    "    + F_1_ao_GGA\n",
    ")\n",
    "F_1_ao.shape"
   ]
  },
  {
   "cell_type": "code",
   "execution_count": 64,
   "metadata": {
    "hidden": true
   },
   "outputs": [
    {
     "data": {
      "text/plain": [
       "True"
      ]
     },
     "execution_count": 64,
     "metadata": {},
     "output_type": "execute_result"
    }
   ],
   "source": [
    "np.allclose(F_1_ao, F_1_ao.swapaxes(-1, -2))  # symm check"
   ]
  },
  {
   "cell_type": "code",
   "execution_count": 65,
   "metadata": {
    "hidden": true
   },
   "outputs": [
    {
     "data": {
      "text/plain": [
       "True"
      ]
     },
     "execution_count": 65,
     "metadata": {},
     "output_type": "execute_result"
    }
   ],
   "source": [
    "np.allclose(F_1_ao, gradh.F_1_ao.reshape(natm, 3, nao, nao))  # pyxdh approach"
   ]
  },
  {
   "cell_type": "code",
   "execution_count": 66,
   "metadata": {
    "hidden": true
   },
   "outputs": [
    {
     "data": {
      "text/plain": [
       "True"
      ]
     },
     "execution_count": 66,
     "metadata": {},
     "output_type": "execute_result"
    }
   ],
   "source": [
    "np.allclose(F_1_ao, np.array(hessian.rks.Hessian(scf_eng).make_h1(C, gradh.mo_occ)))  # PySCF approach"
   ]
  },
  {
   "cell_type": "markdown",
   "metadata": {
    "hidden": true
   },
   "source": [
    "- `F_1_mo` $F_{pq}^{A_t}$; dim: $(A, t, p, q)$ in document, $(A_t, p, q)$ in pyxdh; summ: $F_{pq}^{A_t} = F_{qp}^{A_t}$\n",
    "\n",
    "$$\n",
    "F_{pq}^{A_t} = C_{\\mu p} F_{\\mu \\nu}^{A_t} C_{\\nu q}\n",
    "$$"
   ]
  },
  {
   "cell_type": "code",
   "execution_count": 67,
   "metadata": {
    "hidden": true
   },
   "outputs": [
    {
     "data": {
      "text/plain": [
       "(4, 3, 22, 22)"
      ]
     },
     "execution_count": 67,
     "metadata": {},
     "output_type": "execute_result"
    }
   ],
   "source": [
    "F_1_mo = np.einsum(\"up, Atuv, vq -> Atpq\", C, F_1_ao, C)\n",
    "F_1_mo.shape"
   ]
  },
  {
   "cell_type": "code",
   "execution_count": 68,
   "metadata": {
    "hidden": true
   },
   "outputs": [
    {
     "data": {
      "text/plain": [
       "True"
      ]
     },
     "execution_count": 68,
     "metadata": {},
     "output_type": "execute_result"
    }
   ],
   "source": [
    "np.allclose(F_1_mo, F_1_mo.swapaxes(-1, -2))  # symm check"
   ]
  },
  {
   "cell_type": "code",
   "execution_count": 69,
   "metadata": {
    "hidden": true
   },
   "outputs": [
    {
     "data": {
      "text/plain": [
       "True"
      ]
     },
     "execution_count": 69,
     "metadata": {},
     "output_type": "execute_result"
    }
   ],
   "source": [
    "np.allclose(F_1_mo, gradh.F_1_mo.reshape(natm, 3, nmo, nmo))  # pyxdh approach"
   ]
  },
  {
   "cell_type": "markdown",
   "metadata": {
    "heading_collapsed": true
   },
   "source": [
    "### `Ax0_Core` $A_{pq, rs}$ (Self-consistent) A Tensor (G Response) Contraction"
   ]
  },
  {
   "cell_type": "markdown",
   "metadata": {
    "hidden": true
   },
   "source": [
    "- `Ax0_Core` $A_{pq, rs}$ tensor contraction: input $X_{rs}^\\mathbb{A}$ $(\\mathbb{A}, r, s)$, output $A_{pq, rs} X_{rs}^\\mathbb{A}$ $(\\mathbb{A}, p, q)$, where here $p, q, r, s$ does not necessarily mean all molecular orbitals\n",
    "\n",
    "- function initialization `sp, sq, sr, ss` orbital slice of $p, q, r, s$\n",
    "\n",
    "    - `dmX` $X_{\\kappa \\lambda}^\\mathbb{A} = C_{\\kappa r} X_{rs}^\\mathbb{X} C_{\\lambda} + \\mathrm{swap} (\\kappa, \\lambda)$; dim $(\\mathbb{A}, \\kappa, \\lambda)$\n",
    "    \n",
    "    - `rho_X_0` $\\varrho^\\mathbb{A} = X_{\\kappa \\lambda}^\\mathbb{A} \\phi_\\kappa \\phi_\\lambda$; dim $(\\mathbb{A}, g)$\n",
    "    \n",
    "    - `rho_X_1` $\\varrho_r^\\mathbb{A} = 2 X_{\\kappa \\lambda}^\\mathbb{A} \\phi_{r \\kappa} \\phi_\\lambda$; dim $(\\mathbb{A}, r, g)$\n",
    "    \n",
    "    - `gamma_XD` $\\varrho_w^\\mathbb{A} \\rho_w$, index $w$ summed; dim $(\\mathbb{A}, g)$\n",
    "    \n",
    "    - `M_0` $M^\\mathbb{A} = f_{\\rho \\rho} \\varrho^\\mathbb{A} + f_{\\rho \\gamma} (\\varrho_w^\\mathbb{A} \\rho_w)$; dim $(\\mathbb{A}, g)$\n",
    "    \n",
    "    - `M_1` $M_r^\\mathbb{A} = 4 f_{\\rho \\gamma} \\varrho^\\mathbb{A} \\rho_r + 8 f_{\\rho \\gamma} (\\varrho_w^\\mathbb{A} \\rho_w) \\rho_r + 4 f_\\gamma \\varrho_r^\\mathbb{A}$; dim $(\\mathbb{A}, r, g)$\n",
    "    \n",
    "    - `ax_ao` $A_{\\mu \\nu, \\kappa \\lambda} X_{\\mu \\nu}^\\mathbb{A}$; dim $(\\mathbb{A}, \\mu, \\nu)$\n",
    "    \n",
    "        $$\n",
    "        A_{\\mu \\nu, \\kappa \\lambda} X_{\\mu \\nu}^\\mathbb{A} = (\\mu \\nu | \\kappa \\lambda) X_{\\kappa \\lambda}^\\mathbb{A} - \\frac{c_\\mathrm{x}}{2} (\\mu \\kappa | \\nu \\lambda) X_{\\kappa \\lambda}^\\mathbb{A} + M^\\mathbb{A} \\phi_\\mu \\phi_\\nu + M_r^\\mathbb{A} \\phi_{r \\mu} \\phi_\\nu + \\mathrm{swap} (\\mu, \\nu)\n",
    "        $$\n",
    "    \n",
    "    - `ax_mo` $A_{pq, rs} X_{rs}^\\mathbb{A}$; dim $(\\mathbb{A}, p, q)$"
   ]
  },
  {
   "cell_type": "code",
   "execution_count": 70,
   "metadata": {
    "hidden": true
   },
   "outputs": [],
   "source": [
    "def Ax0_Core(sp, sq, sr, ss):\n",
    "    def fx(X):\n",
    "        X_ = X.view().reshape(-1, X.shape[-2], X.shape[-1])\n",
    "        dmX = C[:, sr] @ X_ @ C[:, ss].T\n",
    "        dmX += dmX.swapaxes(-1, -2)\n",
    "        tmp_K = np.einsum(\"Akl, gl -> Agk\", dmX, ao_0)\n",
    "        rho_X_0 = np.einsum(\"gk, Agk -> Ag\", grdh.ao_0, tmp_K)\n",
    "        rho_X_1 = 2 * np.einsum(\"rgk, Agk -> Arg\", grdh.ao_1, tmp_K)\n",
    "        gamma_XD = np.einsum(\"Arg, rg -> Ag\", rho_X_1, rho_1)\n",
    "        M_0 = (\n",
    "            np.einsum(\"g, Ag -> Ag\", kerh.frr, rho_X_0)\n",
    "            + 2 * np.einsum(\"g, Ag -> Ag\", kerh.frg, gamma_XD)\n",
    "        )\n",
    "        M_1 = (\n",
    "            + 4 * np.einsum(\"g, Ag, rg -> Arg\", kerh.frg, rho_X_0, rho_1)\n",
    "            + 8 * np.einsum(\"g, Ag, rg -> Arg\", kerh.fgg, gamma_XD, rho_1)\n",
    "            + 4 * np.einsum(\"g, Arg -> Arg\", kerh.fg, rho_X_1)\n",
    "        )\n",
    "        ax_ao = (\n",
    "            + 1 * np.einsum(\"uvkl, Akl -> Auv\", eri0_ao, dmX)\n",
    "            - 0.5 * cx * np.einsum(\"ukvl, Akl -> Auv\", eri0_ao, dmX)\n",
    "            + np.einsum(\"Ag, gu, gv -> Auv\", M_0, ao_0, ao_0)\n",
    "            + np.einsum(\"Arg, rgu, gv -> Auv\", M_1, ao_1, ao_0)\n",
    "        )\n",
    "        ax_ao += ax_ao.swapaxes(-1, -2)\n",
    "        ax_mo = C[:, sp].T @ ax_ao @ C[:, sq]\n",
    "        X_shape = list(X.shape)\n",
    "        X_shape[-2:] = ax_mo.shape[-2:]\n",
    "        return ax_mo.reshape(X_shape)\n",
    "    return fx"
   ]
  },
  {
   "cell_type": "code",
   "execution_count": 71,
   "metadata": {
    "hidden": true
   },
   "outputs": [],
   "source": [
    "X = np.random.randn(4, 5, nmo, nocc)"
   ]
  },
  {
   "cell_type": "code",
   "execution_count": 72,
   "metadata": {
    "hidden": true,
    "scrolled": true
   },
   "outputs": [
    {
     "data": {
      "text/plain": [
       "(4, 5, 13, 9)"
      ]
     },
     "execution_count": 72,
     "metadata": {},
     "output_type": "execute_result"
    }
   ],
   "source": [
    "Ax0_Core(sv, so, sa, so)(X).shape"
   ]
  },
  {
   "cell_type": "code",
   "execution_count": 73,
   "metadata": {
    "hidden": true
   },
   "outputs": [
    {
     "data": {
      "text/plain": [
       "True"
      ]
     },
     "execution_count": 73,
     "metadata": {},
     "output_type": "execute_result"
    }
   ],
   "source": [
    "np.allclose(Ax0_Core(sv, so, sa, so)(X), gradh.Ax0_Core(sv, so, sa, so)(X))  # pyxdh approach"
   ]
  },
  {
   "cell_type": "code",
   "execution_count": 74,
   "metadata": {
    "hidden": true
   },
   "outputs": [
    {
     "data": {
      "text/plain": [
       "True"
      ]
     },
     "execution_count": 74,
     "metadata": {},
     "output_type": "execute_result"
    }
   ],
   "source": [
    "np.allclose(\n",
    "    Ax0_Core(sv, so, sa, so)(X),\n",
    "    hessian.rhf.gen_vind(scf_eng, C, gradh.mo_occ)(X.reshape(-1, nmo, nocc)).reshape(4, 5, nmo, nocc)[:, :, sv, so]\n",
    ")  # PySCF approach"
   ]
  },
  {
   "cell_type": "markdown",
   "metadata": {
    "heading_collapsed": true
   },
   "source": [
    "### `B_1` $B_{pq}^{A_t}$ B Matrix (CP-HF Equation RHS)"
   ]
  },
  {
   "cell_type": "markdown",
   "metadata": {
    "hidden": true
   },
   "source": [
    "- `B_1` $B_{pq}^{A_t}$; dim: $(A, t, p, q)$ in document, $(A_t, p, q)$ in pyxdh; symm: no\n",
    "\n",
    "$$\n",
    "B_{pq}^{A_t} = F_{pq}^{A_t} - S_{pq}^{A_t} \\varepsilon_q - \\frac{1}{2} A_{pq, kl} S_{kl}^{A_t}\n",
    "$$"
   ]
  },
  {
   "cell_type": "code",
   "execution_count": 75,
   "metadata": {
    "hidden": true
   },
   "outputs": [
    {
     "data": {
      "text/plain": [
       "(4, 3, 22, 22)"
      ]
     },
     "execution_count": 75,
     "metadata": {},
     "output_type": "execute_result"
    }
   ],
   "source": [
    "B_1 = (\n",
    "    + F_1_mo\n",
    "    - np.einsum(\"Atpq, q -> Atpq\", S_1_mo, e)\n",
    "    - 0.5 * Ax0_Core(sa, sa, so, so)(S_1_mo[:, :, so, so])\n",
    ")\n",
    "B_1.shape"
   ]
  },
  {
   "cell_type": "code",
   "execution_count": 76,
   "metadata": {
    "hidden": true
   },
   "outputs": [
    {
     "data": {
      "text/plain": [
       "True"
      ]
     },
     "execution_count": 76,
     "metadata": {},
     "output_type": "execute_result"
    }
   ],
   "source": [
    "np.allclose(B_1, gradh.B_1.reshape(natm, 3, nmo, nmo))  # pyxdh approach"
   ]
  },
  {
   "cell_type": "markdown",
   "metadata": {
    "heading_collapsed": true
   },
   "source": [
    "### `U_1_vo` $U_{ai}^{A_t}$ U Matrix Virt-Occ Block (Unnecessary for xDH Gradient)"
   ]
  },
  {
   "cell_type": "markdown",
   "metadata": {
    "hidden": true
   },
   "source": [
    "- `U_1_vo` $U_{ai}^{A_t}$; dim: $(A, t, p, q)$ in document, $(A_t, p, q)$ in pyxdh\n",
    "\n",
    "$$\n",
    "- (\\varepsilon_a - \\varepsilon_i) U_{ai}^{A_t} - A_{ai, bj} U_{bj}^{A_t} = B_{ai}^{A_t}\n",
    "$$"
   ]
  },
  {
   "cell_type": "code",
   "execution_count": 77,
   "metadata": {
    "hidden": true
   },
   "outputs": [
    {
     "data": {
      "text/plain": [
       "(4, 3, 13, 9)"
      ]
     },
     "execution_count": 77,
     "metadata": {},
     "output_type": "execute_result"
    }
   ],
   "source": [
    "U_1_vo = cphf.solve(\n",
    "    Ax0_Core(sv, so, sv, so),\n",
    "    e,\n",
    "    gradh.mo_occ,\n",
    "    B_1[:, :, sv, so].reshape(-1, nvir, nocc),\n",
    "    tol=1e-12,\n",
    ")[0].reshape(natm, 3, nvir, nocc)\n",
    "U_1_vo.shape"
   ]
  },
  {
   "cell_type": "code",
   "execution_count": 78,
   "metadata": {
    "hidden": true
   },
   "outputs": [
    {
     "data": {
      "text/plain": [
       "True"
      ]
     },
     "execution_count": 78,
     "metadata": {},
     "output_type": "execute_result"
    }
   ],
   "source": [
    "np.allclose(\n",
    "    B_1[:, :, sv, so] + (ev[:, None] - eo[None, :]) * U_1_vo + Ax0_Core(sv, so, sv, so)(U_1_vo),\n",
    "    np.zeros((natm, 3, nvir, nocc))\n",
    ")  # check sanity by CP-HF equation"
   ]
  },
  {
   "cell_type": "code",
   "execution_count": 79,
   "metadata": {
    "hidden": true
   },
   "outputs": [
    {
     "data": {
      "application/javascript": [
       "/* Put everything inside the global mpl namespace */\n",
       "window.mpl = {};\n",
       "\n",
       "\n",
       "mpl.get_websocket_type = function() {\n",
       "    if (typeof(WebSocket) !== 'undefined') {\n",
       "        return WebSocket;\n",
       "    } else if (typeof(MozWebSocket) !== 'undefined') {\n",
       "        return MozWebSocket;\n",
       "    } else {\n",
       "        alert('Your browser does not have WebSocket support. ' +\n",
       "              'Please try Chrome, Safari or Firefox ≥ 6. ' +\n",
       "              'Firefox 4 and 5 are also supported but you ' +\n",
       "              'have to enable WebSockets in about:config.');\n",
       "    };\n",
       "}\n",
       "\n",
       "mpl.figure = function(figure_id, websocket, ondownload, parent_element) {\n",
       "    this.id = figure_id;\n",
       "\n",
       "    this.ws = websocket;\n",
       "\n",
       "    this.supports_binary = (this.ws.binaryType != undefined);\n",
       "\n",
       "    if (!this.supports_binary) {\n",
       "        var warnings = document.getElementById(\"mpl-warnings\");\n",
       "        if (warnings) {\n",
       "            warnings.style.display = 'block';\n",
       "            warnings.textContent = (\n",
       "                \"This browser does not support binary websocket messages. \" +\n",
       "                    \"Performance may be slow.\");\n",
       "        }\n",
       "    }\n",
       "\n",
       "    this.imageObj = new Image();\n",
       "\n",
       "    this.context = undefined;\n",
       "    this.message = undefined;\n",
       "    this.canvas = undefined;\n",
       "    this.rubberband_canvas = undefined;\n",
       "    this.rubberband_context = undefined;\n",
       "    this.format_dropdown = undefined;\n",
       "\n",
       "    this.image_mode = 'full';\n",
       "\n",
       "    this.root = $('<div/>');\n",
       "    this._root_extra_style(this.root)\n",
       "    this.root.attr('style', 'display: inline-block');\n",
       "\n",
       "    $(parent_element).append(this.root);\n",
       "\n",
       "    this._init_header(this);\n",
       "    this._init_canvas(this);\n",
       "    this._init_toolbar(this);\n",
       "\n",
       "    var fig = this;\n",
       "\n",
       "    this.waiting = false;\n",
       "\n",
       "    this.ws.onopen =  function () {\n",
       "            fig.send_message(\"supports_binary\", {value: fig.supports_binary});\n",
       "            fig.send_message(\"send_image_mode\", {});\n",
       "            if (mpl.ratio != 1) {\n",
       "                fig.send_message(\"set_dpi_ratio\", {'dpi_ratio': mpl.ratio});\n",
       "            }\n",
       "            fig.send_message(\"refresh\", {});\n",
       "        }\n",
       "\n",
       "    this.imageObj.onload = function() {\n",
       "            if (fig.image_mode == 'full') {\n",
       "                // Full images could contain transparency (where diff images\n",
       "                // almost always do), so we need to clear the canvas so that\n",
       "                // there is no ghosting.\n",
       "                fig.context.clearRect(0, 0, fig.canvas.width, fig.canvas.height);\n",
       "            }\n",
       "            fig.context.drawImage(fig.imageObj, 0, 0);\n",
       "        };\n",
       "\n",
       "    this.imageObj.onunload = function() {\n",
       "        fig.ws.close();\n",
       "    }\n",
       "\n",
       "    this.ws.onmessage = this._make_on_message_function(this);\n",
       "\n",
       "    this.ondownload = ondownload;\n",
       "}\n",
       "\n",
       "mpl.figure.prototype._init_header = function() {\n",
       "    var titlebar = $(\n",
       "        '<div class=\"ui-dialog-titlebar ui-widget-header ui-corner-all ' +\n",
       "        'ui-helper-clearfix\"/>');\n",
       "    var titletext = $(\n",
       "        '<div class=\"ui-dialog-title\" style=\"width: 100%; ' +\n",
       "        'text-align: center; padding: 3px;\"/>');\n",
       "    titlebar.append(titletext)\n",
       "    this.root.append(titlebar);\n",
       "    this.header = titletext[0];\n",
       "}\n",
       "\n",
       "\n",
       "\n",
       "mpl.figure.prototype._canvas_extra_style = function(canvas_div) {\n",
       "\n",
       "}\n",
       "\n",
       "\n",
       "mpl.figure.prototype._root_extra_style = function(canvas_div) {\n",
       "\n",
       "}\n",
       "\n",
       "mpl.figure.prototype._init_canvas = function() {\n",
       "    var fig = this;\n",
       "\n",
       "    var canvas_div = $('<div/>');\n",
       "\n",
       "    canvas_div.attr('style', 'position: relative; clear: both; outline: 0');\n",
       "\n",
       "    function canvas_keyboard_event(event) {\n",
       "        return fig.key_event(event, event['data']);\n",
       "    }\n",
       "\n",
       "    canvas_div.keydown('key_press', canvas_keyboard_event);\n",
       "    canvas_div.keyup('key_release', canvas_keyboard_event);\n",
       "    this.canvas_div = canvas_div\n",
       "    this._canvas_extra_style(canvas_div)\n",
       "    this.root.append(canvas_div);\n",
       "\n",
       "    var canvas = $('<canvas/>');\n",
       "    canvas.addClass('mpl-canvas');\n",
       "    canvas.attr('style', \"left: 0; top: 0; z-index: 0; outline: 0\")\n",
       "\n",
       "    this.canvas = canvas[0];\n",
       "    this.context = canvas[0].getContext(\"2d\");\n",
       "\n",
       "    var backingStore = this.context.backingStorePixelRatio ||\n",
       "\tthis.context.webkitBackingStorePixelRatio ||\n",
       "\tthis.context.mozBackingStorePixelRatio ||\n",
       "\tthis.context.msBackingStorePixelRatio ||\n",
       "\tthis.context.oBackingStorePixelRatio ||\n",
       "\tthis.context.backingStorePixelRatio || 1;\n",
       "\n",
       "    mpl.ratio = (window.devicePixelRatio || 1) / backingStore;\n",
       "\n",
       "    var rubberband = $('<canvas/>');\n",
       "    rubberband.attr('style', \"position: absolute; left: 0; top: 0; z-index: 1;\")\n",
       "\n",
       "    var pass_mouse_events = true;\n",
       "\n",
       "    canvas_div.resizable({\n",
       "        start: function(event, ui) {\n",
       "            pass_mouse_events = false;\n",
       "        },\n",
       "        resize: function(event, ui) {\n",
       "            fig.request_resize(ui.size.width, ui.size.height);\n",
       "        },\n",
       "        stop: function(event, ui) {\n",
       "            pass_mouse_events = true;\n",
       "            fig.request_resize(ui.size.width, ui.size.height);\n",
       "        },\n",
       "    });\n",
       "\n",
       "    function mouse_event_fn(event) {\n",
       "        if (pass_mouse_events)\n",
       "            return fig.mouse_event(event, event['data']);\n",
       "    }\n",
       "\n",
       "    rubberband.mousedown('button_press', mouse_event_fn);\n",
       "    rubberband.mouseup('button_release', mouse_event_fn);\n",
       "    // Throttle sequential mouse events to 1 every 20ms.\n",
       "    rubberband.mousemove('motion_notify', mouse_event_fn);\n",
       "\n",
       "    rubberband.mouseenter('figure_enter', mouse_event_fn);\n",
       "    rubberband.mouseleave('figure_leave', mouse_event_fn);\n",
       "\n",
       "    canvas_div.on(\"wheel\", function (event) {\n",
       "        event = event.originalEvent;\n",
       "        event['data'] = 'scroll'\n",
       "        if (event.deltaY < 0) {\n",
       "            event.step = 1;\n",
       "        } else {\n",
       "            event.step = -1;\n",
       "        }\n",
       "        mouse_event_fn(event);\n",
       "    });\n",
       "\n",
       "    canvas_div.append(canvas);\n",
       "    canvas_div.append(rubberband);\n",
       "\n",
       "    this.rubberband = rubberband;\n",
       "    this.rubberband_canvas = rubberband[0];\n",
       "    this.rubberband_context = rubberband[0].getContext(\"2d\");\n",
       "    this.rubberband_context.strokeStyle = \"#000000\";\n",
       "\n",
       "    this._resize_canvas = function(width, height) {\n",
       "        // Keep the size of the canvas, canvas container, and rubber band\n",
       "        // canvas in synch.\n",
       "        canvas_div.css('width', width)\n",
       "        canvas_div.css('height', height)\n",
       "\n",
       "        canvas.attr('width', width * mpl.ratio);\n",
       "        canvas.attr('height', height * mpl.ratio);\n",
       "        canvas.attr('style', 'width: ' + width + 'px; height: ' + height + 'px;');\n",
       "\n",
       "        rubberband.attr('width', width);\n",
       "        rubberband.attr('height', height);\n",
       "    }\n",
       "\n",
       "    // Set the figure to an initial 600x600px, this will subsequently be updated\n",
       "    // upon first draw.\n",
       "    this._resize_canvas(600, 600);\n",
       "\n",
       "    // Disable right mouse context menu.\n",
       "    $(this.rubberband_canvas).bind(\"contextmenu\",function(e){\n",
       "        return false;\n",
       "    });\n",
       "\n",
       "    function set_focus () {\n",
       "        canvas.focus();\n",
       "        canvas_div.focus();\n",
       "    }\n",
       "\n",
       "    window.setTimeout(set_focus, 100);\n",
       "}\n",
       "\n",
       "mpl.figure.prototype._init_toolbar = function() {\n",
       "    var fig = this;\n",
       "\n",
       "    var nav_element = $('<div/>');\n",
       "    nav_element.attr('style', 'width: 100%');\n",
       "    this.root.append(nav_element);\n",
       "\n",
       "    // Define a callback function for later on.\n",
       "    function toolbar_event(event) {\n",
       "        return fig.toolbar_button_onclick(event['data']);\n",
       "    }\n",
       "    function toolbar_mouse_event(event) {\n",
       "        return fig.toolbar_button_onmouseover(event['data']);\n",
       "    }\n",
       "\n",
       "    for(var toolbar_ind in mpl.toolbar_items) {\n",
       "        var name = mpl.toolbar_items[toolbar_ind][0];\n",
       "        var tooltip = mpl.toolbar_items[toolbar_ind][1];\n",
       "        var image = mpl.toolbar_items[toolbar_ind][2];\n",
       "        var method_name = mpl.toolbar_items[toolbar_ind][3];\n",
       "\n",
       "        if (!name) {\n",
       "            // put a spacer in here.\n",
       "            continue;\n",
       "        }\n",
       "        var button = $('<button/>');\n",
       "        button.addClass('ui-button ui-widget ui-state-default ui-corner-all ' +\n",
       "                        'ui-button-icon-only');\n",
       "        button.attr('role', 'button');\n",
       "        button.attr('aria-disabled', 'false');\n",
       "        button.click(method_name, toolbar_event);\n",
       "        button.mouseover(tooltip, toolbar_mouse_event);\n",
       "\n",
       "        var icon_img = $('<span/>');\n",
       "        icon_img.addClass('ui-button-icon-primary ui-icon');\n",
       "        icon_img.addClass(image);\n",
       "        icon_img.addClass('ui-corner-all');\n",
       "\n",
       "        var tooltip_span = $('<span/>');\n",
       "        tooltip_span.addClass('ui-button-text');\n",
       "        tooltip_span.html(tooltip);\n",
       "\n",
       "        button.append(icon_img);\n",
       "        button.append(tooltip_span);\n",
       "\n",
       "        nav_element.append(button);\n",
       "    }\n",
       "\n",
       "    var fmt_picker_span = $('<span/>');\n",
       "\n",
       "    var fmt_picker = $('<select/>');\n",
       "    fmt_picker.addClass('mpl-toolbar-option ui-widget ui-widget-content');\n",
       "    fmt_picker_span.append(fmt_picker);\n",
       "    nav_element.append(fmt_picker_span);\n",
       "    this.format_dropdown = fmt_picker[0];\n",
       "\n",
       "    for (var ind in mpl.extensions) {\n",
       "        var fmt = mpl.extensions[ind];\n",
       "        var option = $(\n",
       "            '<option/>', {selected: fmt === mpl.default_extension}).html(fmt);\n",
       "        fmt_picker.append(option);\n",
       "    }\n",
       "\n",
       "    // Add hover states to the ui-buttons\n",
       "    $( \".ui-button\" ).hover(\n",
       "        function() { $(this).addClass(\"ui-state-hover\");},\n",
       "        function() { $(this).removeClass(\"ui-state-hover\");}\n",
       "    );\n",
       "\n",
       "    var status_bar = $('<span class=\"mpl-message\"/>');\n",
       "    nav_element.append(status_bar);\n",
       "    this.message = status_bar[0];\n",
       "}\n",
       "\n",
       "mpl.figure.prototype.request_resize = function(x_pixels, y_pixels) {\n",
       "    // Request matplotlib to resize the figure. Matplotlib will then trigger a resize in the client,\n",
       "    // which will in turn request a refresh of the image.\n",
       "    this.send_message('resize', {'width': x_pixels, 'height': y_pixels});\n",
       "}\n",
       "\n",
       "mpl.figure.prototype.send_message = function(type, properties) {\n",
       "    properties['type'] = type;\n",
       "    properties['figure_id'] = this.id;\n",
       "    this.ws.send(JSON.stringify(properties));\n",
       "}\n",
       "\n",
       "mpl.figure.prototype.send_draw_message = function() {\n",
       "    if (!this.waiting) {\n",
       "        this.waiting = true;\n",
       "        this.ws.send(JSON.stringify({type: \"draw\", figure_id: this.id}));\n",
       "    }\n",
       "}\n",
       "\n",
       "\n",
       "mpl.figure.prototype.handle_save = function(fig, msg) {\n",
       "    var format_dropdown = fig.format_dropdown;\n",
       "    var format = format_dropdown.options[format_dropdown.selectedIndex].value;\n",
       "    fig.ondownload(fig, format);\n",
       "}\n",
       "\n",
       "\n",
       "mpl.figure.prototype.handle_resize = function(fig, msg) {\n",
       "    var size = msg['size'];\n",
       "    if (size[0] != fig.canvas.width || size[1] != fig.canvas.height) {\n",
       "        fig._resize_canvas(size[0], size[1]);\n",
       "        fig.send_message(\"refresh\", {});\n",
       "    };\n",
       "}\n",
       "\n",
       "mpl.figure.prototype.handle_rubberband = function(fig, msg) {\n",
       "    var x0 = msg['x0'] / mpl.ratio;\n",
       "    var y0 = (fig.canvas.height - msg['y0']) / mpl.ratio;\n",
       "    var x1 = msg['x1'] / mpl.ratio;\n",
       "    var y1 = (fig.canvas.height - msg['y1']) / mpl.ratio;\n",
       "    x0 = Math.floor(x0) + 0.5;\n",
       "    y0 = Math.floor(y0) + 0.5;\n",
       "    x1 = Math.floor(x1) + 0.5;\n",
       "    y1 = Math.floor(y1) + 0.5;\n",
       "    var min_x = Math.min(x0, x1);\n",
       "    var min_y = Math.min(y0, y1);\n",
       "    var width = Math.abs(x1 - x0);\n",
       "    var height = Math.abs(y1 - y0);\n",
       "\n",
       "    fig.rubberband_context.clearRect(\n",
       "        0, 0, fig.canvas.width / mpl.ratio, fig.canvas.height / mpl.ratio);\n",
       "\n",
       "    fig.rubberband_context.strokeRect(min_x, min_y, width, height);\n",
       "}\n",
       "\n",
       "mpl.figure.prototype.handle_figure_label = function(fig, msg) {\n",
       "    // Updates the figure title.\n",
       "    fig.header.textContent = msg['label'];\n",
       "}\n",
       "\n",
       "mpl.figure.prototype.handle_cursor = function(fig, msg) {\n",
       "    var cursor = msg['cursor'];\n",
       "    switch(cursor)\n",
       "    {\n",
       "    case 0:\n",
       "        cursor = 'pointer';\n",
       "        break;\n",
       "    case 1:\n",
       "        cursor = 'default';\n",
       "        break;\n",
       "    case 2:\n",
       "        cursor = 'crosshair';\n",
       "        break;\n",
       "    case 3:\n",
       "        cursor = 'move';\n",
       "        break;\n",
       "    }\n",
       "    fig.rubberband_canvas.style.cursor = cursor;\n",
       "}\n",
       "\n",
       "mpl.figure.prototype.handle_message = function(fig, msg) {\n",
       "    fig.message.textContent = msg['message'];\n",
       "}\n",
       "\n",
       "mpl.figure.prototype.handle_draw = function(fig, msg) {\n",
       "    // Request the server to send over a new figure.\n",
       "    fig.send_draw_message();\n",
       "}\n",
       "\n",
       "mpl.figure.prototype.handle_image_mode = function(fig, msg) {\n",
       "    fig.image_mode = msg['mode'];\n",
       "}\n",
       "\n",
       "mpl.figure.prototype.updated_canvas_event = function() {\n",
       "    // Called whenever the canvas gets updated.\n",
       "    this.send_message(\"ack\", {});\n",
       "}\n",
       "\n",
       "// A function to construct a web socket function for onmessage handling.\n",
       "// Called in the figure constructor.\n",
       "mpl.figure.prototype._make_on_message_function = function(fig) {\n",
       "    return function socket_on_message(evt) {\n",
       "        if (evt.data instanceof Blob) {\n",
       "            /* FIXME: We get \"Resource interpreted as Image but\n",
       "             * transferred with MIME type text/plain:\" errors on\n",
       "             * Chrome.  But how to set the MIME type?  It doesn't seem\n",
       "             * to be part of the websocket stream */\n",
       "            evt.data.type = \"image/png\";\n",
       "\n",
       "            /* Free the memory for the previous frames */\n",
       "            if (fig.imageObj.src) {\n",
       "                (window.URL || window.webkitURL).revokeObjectURL(\n",
       "                    fig.imageObj.src);\n",
       "            }\n",
       "\n",
       "            fig.imageObj.src = (window.URL || window.webkitURL).createObjectURL(\n",
       "                evt.data);\n",
       "            fig.updated_canvas_event();\n",
       "            fig.waiting = false;\n",
       "            return;\n",
       "        }\n",
       "        else if (typeof evt.data === 'string' && evt.data.slice(0, 21) == \"data:image/png;base64\") {\n",
       "            fig.imageObj.src = evt.data;\n",
       "            fig.updated_canvas_event();\n",
       "            fig.waiting = false;\n",
       "            return;\n",
       "        }\n",
       "\n",
       "        var msg = JSON.parse(evt.data);\n",
       "        var msg_type = msg['type'];\n",
       "\n",
       "        // Call the  \"handle_{type}\" callback, which takes\n",
       "        // the figure and JSON message as its only arguments.\n",
       "        try {\n",
       "            var callback = fig[\"handle_\" + msg_type];\n",
       "        } catch (e) {\n",
       "            console.log(\"No handler for the '\" + msg_type + \"' message type: \", msg);\n",
       "            return;\n",
       "        }\n",
       "\n",
       "        if (callback) {\n",
       "            try {\n",
       "                // console.log(\"Handling '\" + msg_type + \"' message: \", msg);\n",
       "                callback(fig, msg);\n",
       "            } catch (e) {\n",
       "                console.log(\"Exception inside the 'handler_\" + msg_type + \"' callback:\", e, e.stack, msg);\n",
       "            }\n",
       "        }\n",
       "    };\n",
       "}\n",
       "\n",
       "// from http://stackoverflow.com/questions/1114465/getting-mouse-location-in-canvas\n",
       "mpl.findpos = function(e) {\n",
       "    //this section is from http://www.quirksmode.org/js/events_properties.html\n",
       "    var targ;\n",
       "    if (!e)\n",
       "        e = window.event;\n",
       "    if (e.target)\n",
       "        targ = e.target;\n",
       "    else if (e.srcElement)\n",
       "        targ = e.srcElement;\n",
       "    if (targ.nodeType == 3) // defeat Safari bug\n",
       "        targ = targ.parentNode;\n",
       "\n",
       "    // jQuery normalizes the pageX and pageY\n",
       "    // pageX,Y are the mouse positions relative to the document\n",
       "    // offset() returns the position of the element relative to the document\n",
       "    var x = e.pageX - $(targ).offset().left;\n",
       "    var y = e.pageY - $(targ).offset().top;\n",
       "\n",
       "    return {\"x\": x, \"y\": y};\n",
       "};\n",
       "\n",
       "/*\n",
       " * return a copy of an object with only non-object keys\n",
       " * we need this to avoid circular references\n",
       " * http://stackoverflow.com/a/24161582/3208463\n",
       " */\n",
       "function simpleKeys (original) {\n",
       "  return Object.keys(original).reduce(function (obj, key) {\n",
       "    if (typeof original[key] !== 'object')\n",
       "        obj[key] = original[key]\n",
       "    return obj;\n",
       "  }, {});\n",
       "}\n",
       "\n",
       "mpl.figure.prototype.mouse_event = function(event, name) {\n",
       "    var canvas_pos = mpl.findpos(event)\n",
       "\n",
       "    if (name === 'button_press')\n",
       "    {\n",
       "        this.canvas.focus();\n",
       "        this.canvas_div.focus();\n",
       "    }\n",
       "\n",
       "    var x = canvas_pos.x * mpl.ratio;\n",
       "    var y = canvas_pos.y * mpl.ratio;\n",
       "\n",
       "    this.send_message(name, {x: x, y: y, button: event.button,\n",
       "                             step: event.step,\n",
       "                             guiEvent: simpleKeys(event)});\n",
       "\n",
       "    /* This prevents the web browser from automatically changing to\n",
       "     * the text insertion cursor when the button is pressed.  We want\n",
       "     * to control all of the cursor setting manually through the\n",
       "     * 'cursor' event from matplotlib */\n",
       "    event.preventDefault();\n",
       "    return false;\n",
       "}\n",
       "\n",
       "mpl.figure.prototype._key_event_extra = function(event, name) {\n",
       "    // Handle any extra behaviour associated with a key event\n",
       "}\n",
       "\n",
       "mpl.figure.prototype.key_event = function(event, name) {\n",
       "\n",
       "    // Prevent repeat events\n",
       "    if (name == 'key_press')\n",
       "    {\n",
       "        if (event.which === this._key)\n",
       "            return;\n",
       "        else\n",
       "            this._key = event.which;\n",
       "    }\n",
       "    if (name == 'key_release')\n",
       "        this._key = null;\n",
       "\n",
       "    var value = '';\n",
       "    if (event.ctrlKey && event.which != 17)\n",
       "        value += \"ctrl+\";\n",
       "    if (event.altKey && event.which != 18)\n",
       "        value += \"alt+\";\n",
       "    if (event.shiftKey && event.which != 16)\n",
       "        value += \"shift+\";\n",
       "\n",
       "    value += 'k';\n",
       "    value += event.which.toString();\n",
       "\n",
       "    this._key_event_extra(event, name);\n",
       "\n",
       "    this.send_message(name, {key: value,\n",
       "                             guiEvent: simpleKeys(event)});\n",
       "    return false;\n",
       "}\n",
       "\n",
       "mpl.figure.prototype.toolbar_button_onclick = function(name) {\n",
       "    if (name == 'download') {\n",
       "        this.handle_save(this, null);\n",
       "    } else {\n",
       "        this.send_message(\"toolbar_button\", {name: name});\n",
       "    }\n",
       "};\n",
       "\n",
       "mpl.figure.prototype.toolbar_button_onmouseover = function(tooltip) {\n",
       "    this.message.textContent = tooltip;\n",
       "};\n",
       "mpl.toolbar_items = [[\"Home\", \"Reset original view\", \"fa fa-home icon-home\", \"home\"], [\"Back\", \"Back to previous view\", \"fa fa-arrow-left icon-arrow-left\", \"back\"], [\"Forward\", \"Forward to next view\", \"fa fa-arrow-right icon-arrow-right\", \"forward\"], [\"\", \"\", \"\", \"\"], [\"Pan\", \"Pan axes with left mouse, zoom with right\", \"fa fa-arrows icon-move\", \"pan\"], [\"Zoom\", \"Zoom to rectangle\", \"fa fa-square-o icon-check-empty\", \"zoom\"], [\"\", \"\", \"\", \"\"], [\"Download\", \"Download plot\", \"fa fa-floppy-o icon-save\", \"download\"]];\n",
       "\n",
       "mpl.extensions = [\"eps\", \"pdf\", \"png\", \"ps\", \"raw\", \"svg\"];\n",
       "\n",
       "mpl.default_extension = \"png\";var comm_websocket_adapter = function(comm) {\n",
       "    // Create a \"websocket\"-like object which calls the given IPython comm\n",
       "    // object with the appropriate methods. Currently this is a non binary\n",
       "    // socket, so there is still some room for performance tuning.\n",
       "    var ws = {};\n",
       "\n",
       "    ws.close = function() {\n",
       "        comm.close()\n",
       "    };\n",
       "    ws.send = function(m) {\n",
       "        //console.log('sending', m);\n",
       "        comm.send(m);\n",
       "    };\n",
       "    // Register the callback with on_msg.\n",
       "    comm.on_msg(function(msg) {\n",
       "        //console.log('receiving', msg['content']['data'], msg);\n",
       "        // Pass the mpl event to the overridden (by mpl) onmessage function.\n",
       "        ws.onmessage(msg['content']['data'])\n",
       "    });\n",
       "    return ws;\n",
       "}\n",
       "\n",
       "mpl.mpl_figure_comm = function(comm, msg) {\n",
       "    // This is the function which gets called when the mpl process\n",
       "    // starts-up an IPython Comm through the \"matplotlib\" channel.\n",
       "\n",
       "    var id = msg.content.data.id;\n",
       "    // Get hold of the div created by the display call when the Comm\n",
       "    // socket was opened in Python.\n",
       "    var element = $(\"#\" + id);\n",
       "    var ws_proxy = comm_websocket_adapter(comm)\n",
       "\n",
       "    function ondownload(figure, format) {\n",
       "        window.open(figure.imageObj.src);\n",
       "    }\n",
       "\n",
       "    var fig = new mpl.figure(id, ws_proxy,\n",
       "                           ondownload,\n",
       "                           element.get(0));\n",
       "\n",
       "    // Call onopen now - mpl needs it, as it is assuming we've passed it a real\n",
       "    // web socket which is closed, not our websocket->open comm proxy.\n",
       "    ws_proxy.onopen();\n",
       "\n",
       "    fig.parent_element = element.get(0);\n",
       "    fig.cell_info = mpl.find_output_cell(\"<div id='\" + id + \"'></div>\");\n",
       "    if (!fig.cell_info) {\n",
       "        console.error(\"Failed to find cell for figure\", id, fig);\n",
       "        return;\n",
       "    }\n",
       "\n",
       "    var output_index = fig.cell_info[2]\n",
       "    var cell = fig.cell_info[0];\n",
       "\n",
       "};\n",
       "\n",
       "mpl.figure.prototype.handle_close = function(fig, msg) {\n",
       "    var width = fig.canvas.width/mpl.ratio\n",
       "    fig.root.unbind('remove')\n",
       "\n",
       "    // Update the output cell to use the data from the current canvas.\n",
       "    fig.push_to_output();\n",
       "    var dataURL = fig.canvas.toDataURL();\n",
       "    // Re-enable the keyboard manager in IPython - without this line, in FF,\n",
       "    // the notebook keyboard shortcuts fail.\n",
       "    IPython.keyboard_manager.enable()\n",
       "    $(fig.parent_element).html('<img src=\"' + dataURL + '\" width=\"' + width + '\">');\n",
       "    fig.close_ws(fig, msg);\n",
       "}\n",
       "\n",
       "mpl.figure.prototype.close_ws = function(fig, msg){\n",
       "    fig.send_message('closing', msg);\n",
       "    // fig.ws.close()\n",
       "}\n",
       "\n",
       "mpl.figure.prototype.push_to_output = function(remove_interactive) {\n",
       "    // Turn the data on the canvas into data in the output cell.\n",
       "    var width = this.canvas.width/mpl.ratio\n",
       "    var dataURL = this.canvas.toDataURL();\n",
       "    this.cell_info[1]['text/html'] = '<img src=\"' + dataURL + '\" width=\"' + width + '\">';\n",
       "}\n",
       "\n",
       "mpl.figure.prototype.updated_canvas_event = function() {\n",
       "    // Tell IPython that the notebook contents must change.\n",
       "    IPython.notebook.set_dirty(true);\n",
       "    this.send_message(\"ack\", {});\n",
       "    var fig = this;\n",
       "    // Wait a second, then push the new image to the DOM so\n",
       "    // that it is saved nicely (might be nice to debounce this).\n",
       "    setTimeout(function () { fig.push_to_output() }, 1000);\n",
       "}\n",
       "\n",
       "mpl.figure.prototype._init_toolbar = function() {\n",
       "    var fig = this;\n",
       "\n",
       "    var nav_element = $('<div/>');\n",
       "    nav_element.attr('style', 'width: 100%');\n",
       "    this.root.append(nav_element);\n",
       "\n",
       "    // Define a callback function for later on.\n",
       "    function toolbar_event(event) {\n",
       "        return fig.toolbar_button_onclick(event['data']);\n",
       "    }\n",
       "    function toolbar_mouse_event(event) {\n",
       "        return fig.toolbar_button_onmouseover(event['data']);\n",
       "    }\n",
       "\n",
       "    for(var toolbar_ind in mpl.toolbar_items){\n",
       "        var name = mpl.toolbar_items[toolbar_ind][0];\n",
       "        var tooltip = mpl.toolbar_items[toolbar_ind][1];\n",
       "        var image = mpl.toolbar_items[toolbar_ind][2];\n",
       "        var method_name = mpl.toolbar_items[toolbar_ind][3];\n",
       "\n",
       "        if (!name) { continue; };\n",
       "\n",
       "        var button = $('<button class=\"btn btn-default\" href=\"#\" title=\"' + name + '\"><i class=\"fa ' + image + ' fa-lg\"></i></button>');\n",
       "        button.click(method_name, toolbar_event);\n",
       "        button.mouseover(tooltip, toolbar_mouse_event);\n",
       "        nav_element.append(button);\n",
       "    }\n",
       "\n",
       "    // Add the status bar.\n",
       "    var status_bar = $('<span class=\"mpl-message\" style=\"text-align:right; float: right;\"/>');\n",
       "    nav_element.append(status_bar);\n",
       "    this.message = status_bar[0];\n",
       "\n",
       "    // Add the close button to the window.\n",
       "    var buttongrp = $('<div class=\"btn-group inline pull-right\"></div>');\n",
       "    var button = $('<button class=\"btn btn-mini btn-primary\" href=\"#\" title=\"Stop Interaction\"><i class=\"fa fa-power-off icon-remove icon-large\"></i></button>');\n",
       "    button.click(function (evt) { fig.handle_close(fig, {}); } );\n",
       "    button.mouseover('Stop Interaction', toolbar_mouse_event);\n",
       "    buttongrp.append(button);\n",
       "    var titlebar = this.root.find($('.ui-dialog-titlebar'));\n",
       "    titlebar.prepend(buttongrp);\n",
       "}\n",
       "\n",
       "mpl.figure.prototype._root_extra_style = function(el){\n",
       "    var fig = this\n",
       "    el.on(\"remove\", function(){\n",
       "\tfig.close_ws(fig, {});\n",
       "    });\n",
       "}\n",
       "\n",
       "mpl.figure.prototype._canvas_extra_style = function(el){\n",
       "    // this is important to make the div 'focusable\n",
       "    el.attr('tabindex', 0)\n",
       "    // reach out to IPython and tell the keyboard manager to turn it's self\n",
       "    // off when our div gets focus\n",
       "\n",
       "    // location in version 3\n",
       "    if (IPython.notebook.keyboard_manager) {\n",
       "        IPython.notebook.keyboard_manager.register_events(el);\n",
       "    }\n",
       "    else {\n",
       "        // location in version 2\n",
       "        IPython.keyboard_manager.register_events(el);\n",
       "    }\n",
       "\n",
       "}\n",
       "\n",
       "mpl.figure.prototype._key_event_extra = function(event, name) {\n",
       "    var manager = IPython.notebook.keyboard_manager;\n",
       "    if (!manager)\n",
       "        manager = IPython.keyboard_manager;\n",
       "\n",
       "    // Check for shift+enter\n",
       "    if (event.shiftKey && event.which == 13) {\n",
       "        this.canvas_div.blur();\n",
       "        // select the cell after this one\n",
       "        var index = IPython.notebook.find_cell_index(this.cell_info[0]);\n",
       "        IPython.notebook.select(index + 1);\n",
       "    }\n",
       "}\n",
       "\n",
       "mpl.figure.prototype.handle_save = function(fig, msg) {\n",
       "    fig.ondownload(fig, null);\n",
       "}\n",
       "\n",
       "\n",
       "mpl.find_output_cell = function(html_output) {\n",
       "    // Return the cell and output element which can be found *uniquely* in the notebook.\n",
       "    // Note - this is a bit hacky, but it is done because the \"notebook_saving.Notebook\"\n",
       "    // IPython event is triggered only after the cells have been serialised, which for\n",
       "    // our purposes (turning an active figure into a static one), is too late.\n",
       "    var cells = IPython.notebook.get_cells();\n",
       "    var ncells = cells.length;\n",
       "    for (var i=0; i<ncells; i++) {\n",
       "        var cell = cells[i];\n",
       "        if (cell.cell_type === 'code'){\n",
       "            for (var j=0; j<cell.output_area.outputs.length; j++) {\n",
       "                var data = cell.output_area.outputs[j];\n",
       "                if (data.data) {\n",
       "                    // IPython >= 3 moved mimebundle to data attribute of output\n",
       "                    data = data.data;\n",
       "                }\n",
       "                if (data['text/html'] == html_output) {\n",
       "                    return [cell, data, j];\n",
       "                }\n",
       "            }\n",
       "        }\n",
       "    }\n",
       "}\n",
       "\n",
       "// Register the function which deals with the matplotlib target/channel.\n",
       "// The kernel may be null if the page has been refreshed.\n",
       "if (IPython.notebook.kernel != null) {\n",
       "    IPython.notebook.kernel.comm_manager.register_target('matplotlib', mpl.mpl_figure_comm);\n",
       "}\n"
      ],
      "text/plain": [
       "<IPython.core.display.Javascript object>"
      ]
     },
     "metadata": {},
     "output_type": "display_data"
    },
    {
     "data": {
      "text/html": [
       "<img src=\"data:image/png;base64,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\" width=\"240\">"
      ],
      "text/plain": [
       "<IPython.core.display.HTML object>"
      ]
     },
     "metadata": {},
     "output_type": "display_data"
    }
   ],
   "source": [
    "nd_C = NumericDiff(gradn, lambda gradh: gradh.C).derivative.reshape((natm, 3, nao, nao))\n",
    "nd_U_1_vo = np.einsum(\"mu, Atup -> Atmp\", np.linalg.inv(C), nd_C)[:, :, sv, so]\n",
    "plot_diff(U_1_vo, nd_U_1_vo)"
   ]
  },
  {
   "cell_type": "markdown",
   "metadata": {
    "heading_collapsed": true
   },
   "source": [
    "### PT2 Tensors"
   ]
  },
  {
   "cell_type": "markdown",
   "metadata": {
    "hidden": true
   },
   "source": [
    "- `D_iajb` $D_{ij}^{ab}$; dim: $(i, a, j, b)$; symm: $D_{ij}^{ab} = D_{ji}^{ab} = D_{ij}^{ba}$ (4-fold)\n",
    "\n",
    "$$\n",
    "D_{ij}^{ab} = \\varepsilon_i - \\varepsilon_a + \\varepsilon_j - \\varepsilon_b\n",
    "$$"
   ]
  },
  {
   "cell_type": "code",
   "execution_count": 80,
   "metadata": {
    "hidden": true
   },
   "outputs": [
    {
     "data": {
      "text/plain": [
       "(9, 13, 9, 13)"
      ]
     },
     "execution_count": 80,
     "metadata": {},
     "output_type": "execute_result"
    }
   ],
   "source": [
    "D_iajb = eo[:, None, None, None] - ev[None, :, None, None] + eo[None, None, :, None] - ev[None, None, None, :]\n",
    "D_iajb.shape"
   ]
  },
  {
   "cell_type": "code",
   "execution_count": 81,
   "metadata": {
    "hidden": true
   },
   "outputs": [
    {
     "data": {
      "text/plain": [
       "True"
      ]
     },
     "execution_count": 81,
     "metadata": {},
     "output_type": "execute_result"
    }
   ],
   "source": [
    "np.allclose(D_iajb, D_iajb.swapaxes(-1, -3))  # symm check"
   ]
  },
  {
   "cell_type": "code",
   "execution_count": 82,
   "metadata": {
    "hidden": true
   },
   "outputs": [
    {
     "data": {
      "text/plain": [
       "True"
      ]
     },
     "execution_count": 82,
     "metadata": {},
     "output_type": "execute_result"
    }
   ],
   "source": [
    "np.allclose(D_iajb, D_iajb.swapaxes(-2, -4))  # symm check"
   ]
  },
  {
   "cell_type": "markdown",
   "metadata": {
    "hidden": true
   },
   "source": [
    "- `t_iajb` $t_{ij}^{ab}$; dim: $(i, a, j, b)$; symm: $t_{ij}^{ab} = t_{ji}^{ba}$\n",
    "\n",
    "$$\n",
    "t_{ij}^{ab} = (ia|jb) / D_{ij}^{ab}\n",
    "$$"
   ]
  },
  {
   "cell_type": "code",
   "execution_count": 83,
   "metadata": {
    "hidden": true
   },
   "outputs": [
    {
     "data": {
      "text/plain": [
       "(9, 13, 9, 13)"
      ]
     },
     "execution_count": 83,
     "metadata": {},
     "output_type": "execute_result"
    }
   ],
   "source": [
    "t_iajb = eri0_mo[so, sv, so, sv] / D_iajb\n",
    "t_iajb.shape"
   ]
  },
  {
   "cell_type": "code",
   "execution_count": 84,
   "metadata": {
    "hidden": true
   },
   "outputs": [
    {
     "data": {
      "text/plain": [
       "True"
      ]
     },
     "execution_count": 84,
     "metadata": {},
     "output_type": "execute_result"
    }
   ],
   "source": [
    "np.allclose(t_iajb, t_iajb.swapaxes(-1, -3).swapaxes(-2, -4))  # symm check"
   ]
  },
  {
   "cell_type": "markdown",
   "metadata": {
    "hidden": true
   },
   "source": [
    "- `T_iajb` $T_{ij}^{ab}$; dim: $(i, a, j, b)$; symm: $T_{ij}^{ab} = T_{ji}^{ba}$\n",
    "\n",
    "$$\n",
    "T_{ij}^{ab} = c_\\mathrm{c}^\\mathrm{n} (2 t_{ij}^{ab} - t_{ij}^{ba})\n",
    "$$"
   ]
  },
  {
   "cell_type": "code",
   "execution_count": 85,
   "metadata": {
    "hidden": true
   },
   "outputs": [
    {
     "data": {
      "text/plain": [
       "(9, 13, 9, 13)"
      ]
     },
     "execution_count": 85,
     "metadata": {},
     "output_type": "execute_result"
    }
   ],
   "source": [
    "T_iajb = cc * (2 * t_iajb - t_iajb.swapaxes(-1, -3))\n",
    "T_iajb.shape"
   ]
  },
  {
   "cell_type": "code",
   "execution_count": 86,
   "metadata": {
    "hidden": true
   },
   "outputs": [
    {
     "data": {
      "text/plain": [
       "True"
      ]
     },
     "execution_count": 86,
     "metadata": {},
     "output_type": "execute_result"
    }
   ],
   "source": [
    "np.allclose(T_iajb, T_iajb.swapaxes(-1, -3).swapaxes(-2, -4))  # symm check"
   ]
  },
  {
   "cell_type": "markdown",
   "metadata": {
    "hidden": true
   },
   "source": [
    "- Energy check: $E_\\mathrm{PT2} = T_{ij}^{ab} t_{ij}^{ab} D_{ij}^{ab}$"
   ]
  },
  {
   "cell_type": "code",
   "execution_count": 87,
   "metadata": {
    "hidden": true
   },
   "outputs": [
    {
     "data": {
      "text/plain": [
       "-0.46171070585999907"
      ]
     },
     "execution_count": 87,
     "metadata": {},
     "output_type": "execute_result"
    }
   ],
   "source": [
    "np.einsum(\"iajb, iajb, iajb -> \", T_iajb, t_iajb, D_iajb)"
   ]
  },
  {
   "cell_type": "code",
   "execution_count": 88,
   "metadata": {
    "hidden": true
   },
   "outputs": [
    {
     "data": {
      "text/plain": [
       "-0.46171070585998564"
      ]
     },
     "execution_count": 88,
     "metadata": {},
     "output_type": "execute_result"
    }
   ],
   "source": [
    "gradh.eng - gradh.nc_deriv.scf_eng.energy_tot(dm=D)"
   ]
  },
  {
   "cell_type": "markdown",
   "metadata": {
    "heading_collapsed": true
   },
   "source": [
    "### `W_I` $W_{pq}^\\mathrm{PT2} [\\mathrm{I}]$ Part I of Weighted Density Matrix"
   ]
  },
  {
   "cell_type": "markdown",
   "metadata": {
    "hidden": true
   },
   "source": [
    "- `W_I` $W_{pq}^\\mathrm{PT2} [\\mathrm{I}]$; dim: $(p, q)$; symm: no\n",
    "\n",
    "$$\n",
    "\\begin{align}\n",
    "W_{ij}^\\mathrm{PT2} [\\mathrm{I}] &= - 2 T_{ik}^{ab} (ja|kb) \\\\\n",
    "W_{ab}^\\mathrm{PT2} [\\mathrm{I}] &= - 2 T_{ij}^{ac} (ib|jc) \\\\\n",
    "W_{ai}^\\mathrm{PT2} [\\mathrm{I}] &= - 4 T_{jk}^{ab} (ij|bk) \\\\\n",
    "W_{ia}^\\mathrm{PT2} [\\mathrm{I}] &= 0\n",
    "\\end{align}\n",
    "$$"
   ]
  },
  {
   "cell_type": "code",
   "execution_count": 89,
   "metadata": {
    "hidden": true
   },
   "outputs": [
    {
     "data": {
      "text/plain": [
       "(22, 22)"
      ]
     },
     "execution_count": 89,
     "metadata": {},
     "output_type": "execute_result"
    }
   ],
   "source": [
    "W_I = np.zeros((nmo, nmo))\n",
    "W_I = np.zeros((nmo, nmo))\n",
    "W_I[so, so] = - 2 * np.einsum(\"iakb, jakb -> ij\", T_iajb, eri0_mo[so, sv, so, sv])\n",
    "W_I[sv, sv] = - 2 * np.einsum(\"iajc, ibjc -> ab\", T_iajb, eri0_mo[so, sv, so, sv])\n",
    "W_I[sv, so] = - 4 * np.einsum(\"jakb, ijbk -> ai\", T_iajb, eri0_mo[so, so, sv, so])\n",
    "W_I.shape"
   ]
  },
  {
   "cell_type": "markdown",
   "metadata": {
    "heading_collapsed": true
   },
   "source": [
    "### `D_r` $D_{pq}^\\mathrm{PT2+}$ Relaxed Density Matrix: Block-Diagonal Part"
   ]
  },
  {
   "cell_type": "markdown",
   "metadata": {
    "hidden": true
   },
   "source": [
    "- `D_r` $D_{pq}^\\mathrm{PT2+}$; dim: $(p, q)$ (pre-definition); actual total symm: no"
   ]
  },
  {
   "cell_type": "code",
   "execution_count": 90,
   "metadata": {
    "hidden": true
   },
   "outputs": [],
   "source": [
    "D_r = np.zeros((nmo, nmo))"
   ]
  },
  {
   "cell_type": "markdown",
   "metadata": {
    "hidden": true
   },
   "source": [
    "- `D_r[so, so]` $D_{ij}^\\mathrm{PT2+}$; dim: $(i, j)$; symm: $D_{ij}^\\mathrm{PT2+} = D_{ji}^\\mathrm{PT2+}$\n",
    "\n",
    "$$\n",
    "D_{ij}^\\mathrm{PT2+} = - 2 T_{ik}^{ab} t_{jk}^{ab}\n",
    "$$"
   ]
  },
  {
   "cell_type": "code",
   "execution_count": 91,
   "metadata": {
    "hidden": true
   },
   "outputs": [],
   "source": [
    "D_r[so, so] = - 2 * np.einsum(\"iakb, jakb -> ij\", T_iajb, t_iajb)"
   ]
  },
  {
   "cell_type": "code",
   "execution_count": 92,
   "metadata": {
    "hidden": true
   },
   "outputs": [
    {
     "data": {
      "text/plain": [
       "True"
      ]
     },
     "execution_count": 92,
     "metadata": {},
     "output_type": "execute_result"
    }
   ],
   "source": [
    "np.allclose(D_r[so, so], D_r[so, so].T)  # symm check"
   ]
  },
  {
   "cell_type": "markdown",
   "metadata": {
    "hidden": true
   },
   "source": [
    "- `D_r[sv, sv]` $D_{ab}^\\mathrm{PT2+}$; dim: $(a, b)$; symm: $D_{ab}^\\mathrm{PT2+} = D_{ba}^\\mathrm{PT2+}$\n",
    "\n",
    "$$\n",
    "D_{ab}^\\mathrm{PT2+} = 2 T_{ij}^{ac} t_{ij}^{bc}\n",
    "$$"
   ]
  },
  {
   "cell_type": "code",
   "execution_count": 93,
   "metadata": {
    "hidden": true
   },
   "outputs": [],
   "source": [
    "D_r[sv, sv] = 2 * np.einsum(\"iajc, ibjc -> ab\", T_iajb, t_iajb)"
   ]
  },
  {
   "cell_type": "code",
   "execution_count": 94,
   "metadata": {
    "hidden": true
   },
   "outputs": [
    {
     "data": {
      "text/plain": [
       "True"
      ]
     },
     "execution_count": 94,
     "metadata": {},
     "output_type": "execute_result"
    }
   ],
   "source": [
    "np.allclose(D_r[sv, sv], D_r[sv, sv].T)  # symm check"
   ]
  },
  {
   "cell_type": "markdown",
   "metadata": {
    "heading_collapsed": true
   },
   "source": [
    "### `L` $L_{ai}^\\mathrm{PT2+}$ PT2+ Total Lagrangian"
   ]
  },
  {
   "cell_type": "markdown",
   "metadata": {
    "hidden": true
   },
   "source": [
    "- `L` $L_{ai}^\\mathrm{PT2+}$; dim $(a, i)$\n",
    "\n",
    "$$\n",
    "L_{ai}^\\mathrm{PT2+} = A_{ai, kl} D_{kl}^\\mathrm{PT2} + A_{ai, bc} D_{bc}^\\mathrm{PT2} - 4 T_{jk}^{ab} (ij|bk) + 4 T_{ij}^{bc} (ab|jc) + 4 F_{ai}^\\mathrm{n}\n",
    "$$\n",
    "\n",
    "Up to now, `D_r` only contains occ-occ and vir-vir block, so technically we can just use `D_r` to generate `L`. Reason of introducing term $4 F_{ai}^\\mathrm{n}$ has been stated previously in this section."
   ]
  },
  {
   "cell_type": "code",
   "execution_count": 95,
   "metadata": {
    "hidden": true
   },
   "outputs": [],
   "source": [
    "L = (\n",
    "    + Ax0_Core(sv, so, sa, sa)(D_r)\n",
    "    - 4 * np.einsum(\"jakb, ijbk -> ai\", T_iajb, eri0_mo[so, so, sv, so])\n",
    "    + 4 * np.einsum(\"ibjc, abjc -> ai\", T_iajb, eri0_mo[sv, sv, so, sv])\n",
    "    + 4 * nc_F_0_mo[sv, so]\n",
    ")"
   ]
  },
  {
   "cell_type": "code",
   "execution_count": 96,
   "metadata": {
    "hidden": true
   },
   "outputs": [
    {
     "data": {
      "text/plain": [
       "True"
      ]
     },
     "execution_count": 96,
     "metadata": {},
     "output_type": "execute_result"
    }
   ],
   "source": [
    "np.allclose(L, gradh.L)  # pyxdh approach"
   ]
  },
  {
   "cell_type": "markdown",
   "metadata": {
    "heading_collapsed": true
   },
   "source": [
    "### `D_r` $D_{pq}^\\mathrm{PT2+}$ Relaxed Density Matrix: vir-occ Part"
   ]
  },
  {
   "cell_type": "markdown",
   "metadata": {
    "hidden": true
   },
   "source": [
    "- `D_r[sv, so]` $D_{ai}^\\mathrm{PT2+}$; dim: $(a, i)$\n",
    "\n",
    "$$\n",
    "- (\\varepsilon_a - \\varepsilon_i) D_{ai}^\\mathrm{PT2+} - A_{ai, bj} D_{bj}^\\mathrm{PT2+} = L_{ai}^\\mathrm{PT2+}\n",
    "$$"
   ]
  },
  {
   "cell_type": "code",
   "execution_count": 97,
   "metadata": {
    "hidden": true
   },
   "outputs": [],
   "source": [
    "D_r[sv, so] = cphf.solve(Ax0_Core(sv, so, sv, so), e, gradh.mo_occ, L, tol=1e-12, max_cycle=100)[0]"
   ]
  },
  {
   "cell_type": "code",
   "execution_count": 98,
   "metadata": {
    "hidden": true
   },
   "outputs": [
    {
     "data": {
      "text/plain": [
       "True"
      ]
     },
     "execution_count": 98,
     "metadata": {},
     "output_type": "execute_result"
    }
   ],
   "source": [
    "np.allclose(\n",
    "    L + (ev[:, None] - eo[None, :]) * D_r[sv, so] + Ax0_Core(sv, so, sv, so)(D_r[sv, so]),\n",
    "    np.zeros((nvir, nocc))\n",
    ")  # check sanity by CP-HF equation"
   ]
  },
  {
   "cell_type": "code",
   "execution_count": 99,
   "metadata": {
    "hidden": true
   },
   "outputs": [
    {
     "data": {
      "text/plain": [
       "True"
      ]
     },
     "execution_count": 99,
     "metadata": {},
     "output_type": "execute_result"
    }
   ],
   "source": [
    "np.allclose(D_r, gradh.D_r)  # pyxdh approach"
   ]
  },
  {
   "cell_type": "markdown",
   "metadata": {
    "heading_collapsed": true
   },
   "source": [
    "### `E_1_nuc` $\\partial_{A_t} E_\\mathrm{nuc}$ Nucleus Repulsion Energy Derivative"
   ]
  },
  {
   "cell_type": "markdown",
   "metadata": {
    "hidden": true
   },
   "source": [
    "- `nuc_Z` $Z_{AB}$; dim: $(A, B)$; symm: $Z_{AB} = Z_{BA}$\n",
    "\n",
    "$$\n",
    "Z_{AB} = Z_A Z_B\n",
    "$$"
   ]
  },
  {
   "cell_type": "code",
   "execution_count": 100,
   "metadata": {
    "hidden": true
   },
   "outputs": [
    {
     "data": {
      "text/plain": [
       "(4, 4)"
      ]
     },
     "execution_count": 100,
     "metadata": {},
     "output_type": "execute_result"
    }
   ],
   "source": [
    "nuc_Z = np.einsum(\"A, B -> AB\", mol.atom_charges(), mol.atom_charges())\n",
    "nuc_Z.shape"
   ]
  },
  {
   "cell_type": "code",
   "execution_count": 101,
   "metadata": {
    "hidden": true
   },
   "outputs": [
    {
     "data": {
      "text/plain": [
       "True"
      ]
     },
     "execution_count": 101,
     "metadata": {},
     "output_type": "execute_result"
    }
   ],
   "source": [
    "np.allclose(nuc_Z, nuc_Z.swapaxes(0, 1))"
   ]
  },
  {
   "cell_type": "markdown",
   "metadata": {
    "hidden": true
   },
   "source": [
    "- `nuc_V` $V_{ABt}$; dim: $(A, B, t)$; symm: $V_{ABt} = - V_{BAt}$\n",
    "\n",
    "$$\n",
    "V_{ABt} = A_t - B_t\n",
    "$$"
   ]
  },
  {
   "cell_type": "code",
   "execution_count": 102,
   "metadata": {
    "hidden": true
   },
   "outputs": [
    {
     "data": {
      "text/plain": [
       "(4, 4, 3)"
      ]
     },
     "execution_count": 102,
     "metadata": {},
     "output_type": "execute_result"
    }
   ],
   "source": [
    "nuc_V = lib.direct_sum(\"Mt - Nt -> MNt\", mol.atom_coords(), mol.atom_coords())\n",
    "nuc_V.shape"
   ]
  },
  {
   "cell_type": "code",
   "execution_count": 103,
   "metadata": {
    "hidden": true
   },
   "outputs": [
    {
     "data": {
      "text/plain": [
       "True"
      ]
     },
     "execution_count": 103,
     "metadata": {},
     "output_type": "execute_result"
    }
   ],
   "source": [
    "np.allclose(nuc_V, - nuc_V.swapaxes(0, 1))"
   ]
  },
  {
   "cell_type": "markdown",
   "metadata": {
    "hidden": true
   },
   "source": [
    "- `nuc_rinv` $r_{AB}^{-1}$; dim: $(A, B)$; symm: $r_{AB}^{-1} = r_{BA}^{-1}$\n",
    "\n",
    "$$\n",
    "r_{AB}^{-1} = \\left\\{\n",
    "\\begin{matrix}\n",
    "| \\boldsymbol{A} - \\boldsymbol{B} |^{-1}, & \\quad A \\neq B \\\\\n",
    "0, & \\quad A = B\n",
    "\\end{matrix}\n",
    "\\right.\n",
    "$$"
   ]
  },
  {
   "cell_type": "code",
   "execution_count": 104,
   "metadata": {
    "hidden": true
   },
   "outputs": [
    {
     "data": {
      "text/plain": [
       "(4, 4)"
      ]
     },
     "execution_count": 104,
     "metadata": {},
     "output_type": "execute_result"
    }
   ],
   "source": [
    "nuc_rinv = 1 / (np.linalg.norm(nuc_V, axis=2) + np.diag([np.inf] * natm))\n",
    "nuc_rinv.shape"
   ]
  },
  {
   "cell_type": "markdown",
   "metadata": {
    "hidden": true
   },
   "source": [
    "- `E_1_nuc` $\\partial_{A_t} E_\\mathrm{nuc}$; dim: $(A, t)$\n",
    "\n",
    "$$\n",
    "\\partial_{A_t} E_\\mathrm{nuc} = - \\sum_M Z_{AM} r_{AM}^{-3} V_{AMt}\n",
    "$$"
   ]
  },
  {
   "cell_type": "code",
   "execution_count": 105,
   "metadata": {
    "hidden": true
   },
   "outputs": [
    {
     "data": {
      "text/plain": [
       "array([[ 0.99566,  0.34575,  8.70615],\n",
       "       [ 0.35202,  4.57189, -8.31727],\n",
       "       [-1.38536,  0.01759,  0.3897 ],\n",
       "       [ 0.03768, -4.93523, -0.77858]])"
      ]
     },
     "execution_count": 105,
     "metadata": {},
     "output_type": "execute_result"
    }
   ],
   "source": [
    "E_1_nuc = - np.einsum(\"AM, AM, AMt -> At\", nuc_Z, nuc_rinv**3, nuc_V)\n",
    "E_1_nuc"
   ]
  },
  {
   "cell_type": "markdown",
   "metadata": {
    "heading_collapsed": true
   },
   "source": [
    "### `E_1` $\\partial E_\\mathrm{tot}$ Total XYG3 Energy Derivative"
   ]
  },
  {
   "cell_type": "markdown",
   "metadata": {
    "hidden": true
   },
   "source": [
    "- `E_1` $\\partial E_\\mathrm{tot}$; dim: $(A, t)$\n",
    "\n",
    "$$\n",
    "\\begin{align}\n",
    "\\partial_{A_t} E_\\mathrm{tot}\n",
    "&= h_{\\mu \\nu}^{A_t} D_{\\mu \\nu} + \\frac{1}{2} D_{\\mu \\nu} (\\mu \\nu | \\kappa \\lambda)^{A_t} D_{\\kappa \\lambda} - \\frac{c_\\mathrm{x}^\\mathrm{n}}{4} D_{\\mu \\nu} (\\mu \\kappa | \\nu \\lambda)^{A_t} D_{\\kappa \\lambda} + f_\\rho^\\mathrm{n} \\rho^{A_t} + f_\\gamma^\\mathrm{n} \\gamma^{A_t} - 2 S_{ij}^{A_t} F_{ij}^\\mathrm{n} \\\\\n",
    "&\\quad + D_{pq}^\\mathrm{PT2+} B_{pq}^{A_t} + W_{pq}^\\mathrm{PT2} [\\mathrm{I}] S_{pq}^{A_t} + 2 T_{ij}^{ab} (ia|jb)^{A_t} + \\partial_{A_t} E_\\mathrm{nuc}\n",
    "\\end{align}\n",
    "$$"
   ]
  },
  {
   "cell_type": "code",
   "execution_count": 106,
   "metadata": {
    "hidden": true
   },
   "outputs": [
    {
     "data": {
      "text/plain": [
       "array([[-0.02771,  0.0094 ,  0.11209],\n",
       "       [ 0.00749,  0.77869, -0.09944],\n",
       "       [ 0.01601,  0.00197,  0.0117 ],\n",
       "       [ 0.00422, -0.79005, -0.02435]])"
      ]
     },
     "execution_count": 106,
     "metadata": {},
     "output_type": "execute_result"
    }
   ],
   "source": [
    "E_1 = (\n",
    "    # Line 1\n",
    "    + np.einsum(\"Atuv, uv -> At\", H_1_ao, D)\n",
    "    + 0.5 * np.einsum(\"uv, Atuvkl, kl -> At\", D, eri1_ao, D)\n",
    "    - 0.25 * cx_n * np.einsum(\"uv, Atukvl, kl -> At\", D, eri1_ao, D)\n",
    "    + np.einsum(\"g, Atg -> At\", kerh_n.fr, A_rho_1)\n",
    "    + np.einsum(\"g, Atg -> At\", kerh_n.fg, A_gamma_1)\n",
    "    - 2 * np.einsum(\"Atij, ij -> At\", S_1_mo[:, :, so, so], nc_F_0_mo[so, so])\n",
    "    # Line 2\n",
    "    + np.einsum(\"pq, Atpq -> At\", D_r, B_1)\n",
    "    + np.einsum(\"pq, Atpq -> At\", W_I, S_1_mo)\n",
    "    + 2 * np.einsum(\"iajb, Atiajb -> At\", T_iajb, eri1_mo[:, :, so, sv, so, sv])\n",
    "    + E_1_nuc\n",
    ")\n",
    "E_1"
   ]
  },
  {
   "cell_type": "code",
   "execution_count": 107,
   "metadata": {
    "hidden": true
   },
   "outputs": [
    {
     "data": {
      "text/plain": [
       "True"
      ]
     },
     "execution_count": 107,
     "metadata": {},
     "output_type": "execute_result"
    }
   ],
   "source": [
    "np.allclose(E_1, gradh.E_1)  # pyxdh approach"
   ]
  },
  {
   "cell_type": "code",
   "execution_count": 108,
   "metadata": {
    "hidden": true
   },
   "outputs": [
    {
     "data": {
      "text/plain": [
       "True"
      ]
     },
     "execution_count": 108,
     "metadata": {},
     "output_type": "execute_result"
    }
   ],
   "source": [
    "nd_E_0 = NumericDiff(gradn, lambda gradh: gradh.eng).derivative\n",
    "np.allclose(E_1, nd_E_0.reshape(natm, 3), rtol=2e-4)  # numerical derivative check"
   ]
  }
 ],
 "metadata": {
  "kernelspec": {
   "display_name": "Python 3",
   "language": "python",
   "name": "python3"
  },
  "language_info": {
   "codemirror_mode": {
    "name": "ipython",
    "version": 3
   },
   "file_extension": ".py",
   "mimetype": "text/x-python",
   "name": "python",
   "nbconvert_exporter": "python",
   "pygments_lexer": "ipython3",
   "version": "3.8.1"
  },
  "toc": {
   "base_numbering": 1,
   "nav_menu": {},
   "number_sections": true,
   "sideBar": true,
   "skip_h1_title": false,
   "title_cell": "Table of Contents",
   "title_sidebar": "Contents",
   "toc_cell": false,
   "toc_position": {
    "height": "calc(100% - 180px)",
    "left": "10px",
    "top": "150px",
    "width": "237.8px"
   },
   "toc_section_display": true,
   "toc_window_display": true
  }
 },
 "nbformat": 4,
 "nbformat_minor": 4
}
