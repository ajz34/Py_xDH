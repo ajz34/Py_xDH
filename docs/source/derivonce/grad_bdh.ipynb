{
 "cells": [
  {
   "cell_type": "markdown",
   "metadata": {},
   "source": [
    "# GGA 方法 U 矩阵与 B2PLYP 型泛函核坐标梯度"
   ]
  },
  {
   "cell_type": "markdown",
   "metadata": {},
   "source": [
    "我们进一步讨论 GGA 方法的 U 矩阵求取方式。在求取 U 矩阵的过程中，我们利用到 GGA 方法下的 CP-HF 方程，进而可以用来求取含有 GGA 的 B2PLYP 型泛函的弛豫密度矩阵 $D_{pq}^\\mathrm{MP2}$，进而得到 B2PLYP 型泛函核坐标梯度。\n",
    "\n",
    "在 pyxdh 中，B2PLYP 型泛函与 MP2 方法使用相同的流程进行处理；这两者相当相似。这一节的大多数公式和做法都可以参考 MP2 梯度部分；但在一些公式细节上，需要留意细微的差别。\n",
    "\n",
    "这一节中提到的 U 矩阵求取仅仅包括非占-占据部分 $U_{ai}^{A_t}$。"
   ]
  },
  {
   "cell_type": "markdown",
   "metadata": {},
   "source": [
    "## 准备工作"
   ]
  },
  {
   "cell_type": "markdown",
   "metadata": {},
   "source": [
    "计算 B2PLYP 型泛函的梯度，我们用与 MP2 方法一样的 `GradMP2` 类。由于涉及到大批格点的计算，我们这里暂时假定供给 np.einsum 的内存大小是足够大的。"
   ]
  },
  {
   "cell_type": "code",
   "execution_count": 1,
   "metadata": {},
   "outputs": [],
   "source": [
    "%matplotlib notebook\n",
    "\n",
    "from pyscf import gto, scf, dft, dft, lib, hessian\n",
    "from pyscf.scf import cphf\n",
    "import numpy as np\n",
    "from functools import partial\n",
    "import warnings\n",
    "from matplotlib import pyplot as plt\n",
    "from pyxdh.Utilities import NucCoordDerivGenerator, DipoleDerivGenerator, NumericDiff, GridHelper, KernelHelper\n",
    "from pyxdh.DerivOnce import GradMP2, GradSCF\n",
    "\n",
    "np.einsum = partial(np.einsum, optimize=[\"greedy\", 1024 ** 3 * 1000 / 8])\n",
    "np.einsum_path = partial(np.einsum_path, optimize=[\"greedy\", 1024 ** 3 * 1000 / 8])\n",
    "np.allclose = partial(np.allclose, atol=1e-6, rtol=1e-4)\n",
    "np.set_printoptions(5, linewidth=150, suppress=True)\n",
    "warnings.filterwarnings(\"ignore\")"
   ]
  },
  {
   "cell_type": "code",
   "execution_count": 2,
   "metadata": {},
   "outputs": [
    {
     "data": {
      "text/plain": [
       "<pyscf.gto.mole.Mole at 0x7fbb601ee250>"
      ]
     },
     "execution_count": 2,
     "metadata": {},
     "output_type": "execute_result"
    }
   ],
   "source": [
    "mol = gto.Mole()\n",
    "mol.atom = \"\"\"\n",
    "O  0.0  0.0  0.0\n",
    "O  0.0  0.0  1.5\n",
    "H  1.5  0.0  0.0\n",
    "H  0.0  0.7  1.5\n",
    "\"\"\"\n",
    "mol.basis = \"6-31G\"\n",
    "mol.verbose = 0\n",
    "mol.build()"
   ]
  },
  {
   "cell_type": "code",
   "execution_count": 3,
   "metadata": {},
   "outputs": [],
   "source": [
    "def mol_to_grids(mol, atom_grid=(75, 302)):\n",
    "    grids = dft.Grids(mol)\n",
    "    grids.atom_grid = atom_grid\n",
    "    grids.becke_scheme = dft.gen_grid.stratmann\n",
    "    grids.prune = None\n",
    "    grids.build()\n",
    "    return grids\n",
    "grids = mol_to_grids(mol)"
   ]
  },
  {
   "cell_type": "markdown",
   "metadata": {},
   "source": [
    "但需要注意到，既然我们计算的是 B2PLYP，那么其泛函也需要更改为 B2PLYP 的自洽场过程中使用的泛函："
   ]
  },
  {
   "cell_type": "code",
   "execution_count": 4,
   "metadata": {},
   "outputs": [],
   "source": [
    "def mol_to_scf(mol):\n",
    "    scf_eng = dft.RKS(mol)\n",
    "    scf_eng.grids = mol_to_grids(mol)\n",
    "    scf_eng.xc = \"0.53*HF + 0.47*B88, 0.73*LYP\"\n",
    "    scf_eng.conv_tol = 1e-10\n",
    "    return scf_eng.run()"
   ]
  },
  {
   "cell_type": "markdown",
   "metadata": {},
   "source": [
    "与 MP2 方法不同的是，我们需要额外定义 PT2 相关能系数 `cc` $c_\\mathrm{c}$："
   ]
  },
  {
   "cell_type": "code",
   "execution_count": 5,
   "metadata": {},
   "outputs": [],
   "source": [
    "gradh = GradMP2({\"scf_eng\": mol_to_scf(mol), \"cc\": 0.27})\n",
    "cc = gradh.cc"
   ]
  },
  {
   "cell_type": "code",
   "execution_count": 6,
   "metadata": {},
   "outputs": [],
   "source": [
    "nmo, nao, natm, nocc, nvir, cx = gradh.nao, gradh.nao, gradh.natm, gradh.nocc, gradh.nvir, gradh.cx\n",
    "mol_slice = gradh.mol_slice\n",
    "so, sv, sa = gradh.so, gradh.sv, gradh.sa\n",
    "C, Co, Cv, e, eo, ev, D = gradh.C, gradh.Co, gradh.Cv, gradh.e, gradh.eo, gradh.ev, gradh.D\n",
    "H_0_ao, S_0_ao, eri0_ao, F_0_ao = gradh.H_0_ao, gradh.S_0_ao, gradh.eri0_ao, gradh.F_0_ao\n",
    "H_0_mo, S_0_mo, eri0_mo, F_0_mo = gradh.H_0_mo, gradh.S_0_mo, gradh.eri0_mo, gradh.F_0_mo"
   ]
  },
  {
   "cell_type": "code",
   "execution_count": 7,
   "metadata": {},
   "outputs": [],
   "source": [
    "def to_natm_3(mat: np.ndarray):\n",
    "    shape = list(mat.shape)\n",
    "    shape = [int(shape[0] / 3), 3] + shape[1:]\n",
    "    return mat.reshape(shape)"
   ]
  },
  {
   "cell_type": "code",
   "execution_count": 8,
   "metadata": {},
   "outputs": [],
   "source": [
    "H_1_ao, S_1_ao, eri1_ao = to_natm_3(gradh.H_1_ao), to_natm_3(gradh.S_1_ao), to_natm_3(gradh.eri1_ao)\n",
    "H_1_mo, S_1_mo, eri1_mo = to_natm_3(gradh.H_1_mo), to_natm_3(gradh.S_1_mo), to_natm_3(gradh.eri1_mo)"
   ]
  },
  {
   "cell_type": "code",
   "execution_count": 9,
   "metadata": {},
   "outputs": [],
   "source": [
    "grdh = GridHelper(mol, grids, D)\n",
    "kerh = KernelHelper(grdh, \"0.53*HF + 0.47*B88, 0.73*LYP\")"
   ]
  },
  {
   "cell_type": "markdown",
   "metadata": {},
   "source": [
    "为了简化后面程序代码，我们将一部分与格点相关的 (基于 $D_{\\mu \\nu}$ 自洽场密度给出的) 变量定义如下："
   ]
  },
  {
   "cell_type": "code",
   "execution_count": 10,
   "metadata": {},
   "outputs": [],
   "source": [
    "ao_0, ao_1, ao_2 = grdh.ao_0, grdh.ao_1, grdh.ao_2\n",
    "rho_1, rho_2 = grdh.rho_1, grdh.rho_2\n",
    "A_rho_1, A_rho_2 = grdh.A_rho_1, grdh.A_rho_2\n",
    "fr, fg, frr, frg, fgg = kerh.fr, kerh.fg, kerh.frr, kerh.frg, kerh.fgg"
   ]
  },
  {
   "cell_type": "code",
   "execution_count": 11,
   "metadata": {},
   "outputs": [],
   "source": [
    "def grad_generator(mol):\n",
    "    scf_eng = mol_to_scf(mol)\n",
    "    config = {\"scf_eng\": mol_to_scf(mol), \"cc\": 0.27}\n",
    "    return GradMP2(config)\n",
    "gradn = NucCoordDerivGenerator(mol, grad_generator)"
   ]
  },
  {
   "cell_type": "markdown",
   "metadata": {},
   "source": [
    "## GGA 方法 U 矩阵的求取"
   ]
  },
  {
   "cell_type": "markdown",
   "metadata": {
    "heading_collapsed": true
   },
   "source": [
    "### Fock Skeleton 导数"
   ]
  },
  {
   "cell_type": "markdown",
   "metadata": {
    "hidden": true
   },
   "source": [
    "求取 U 矩阵 (非占-占据部分) 的推导前提是 Fock 矩阵 $F_{ai} = 0$。我们首先回顾原子轨道下，GGA 的 Fock 矩阵定义：\n",
    "\n",
    "$$\n",
    "F_{\\mu \\nu} = h_{\\mu \\nu} + (\\mu \\nu | \\kappa \\lambda) D_{\\kappa \\lambda} - \\frac{c_\\mathrm{x}}{2} (\\mu \\kappa | \\nu \\lambda) D_{\\kappa \\lambda} + v_{\\mu \\nu}^\\mathrm{xc}\n",
    "$$"
   ]
  },
  {
   "cell_type": "markdown",
   "metadata": {
    "hidden": true
   },
   "source": [
    "前三项我们已经在 RHF 的 U 矩阵计算时知道了求取方法；现在我们要考虑第四项 $v_{\\mu \\nu}^\\mathrm{xc}$ 导数的计算。我们再回顾 $v_{\\mu \\nu}^{\\mathrm{xc}}$ 的定义：\n",
    "\n",
    "$$\n",
    "v_{\\mu \\nu}^\\mathrm{xc} = f_\\rho \\phi_\\mu \\phi_\\nu + 2 f_\\gamma \\rho_r (\\phi_{r \\mu} \\phi_{\\nu} + \\phi_{\\mu} \\phi_{r \\nu})\n",
    "$$\n",
    "\n",
    "我们对 Skeleton 导数的定义是不包含 $C_{\\mu p}$ 的导数；剩下的部分则归为 U 矩阵导数。我们将 $v_{\\mu \\nu}^{\\mathrm{xc}}$ 的 Skeleton 导数写为 $v_{\\mu \\nu}^{\\mathrm{xc}, A_t}$。"
   ]
  },
  {
   "cell_type": "markdown",
   "metadata": {
    "hidden": true
   },
   "source": [
    "我们先依据链式法则，考察 $f_\\rho$ 的全导数：\n",
    "\n",
    "$$\n",
    "\\frac{\\partial f_\\rho}{\\partial A_t} = f_{\\rho \\rho} \\frac{\\partial \\rho}{\\partial A_t} + 2 f_{\\rho \\gamma} \\rho_r \\frac{\\partial \\rho_r}{\\partial A_t}\n",
    "$$"
   ]
  },
  {
   "cell_type": "markdown",
   "metadata": {
    "hidden": true
   },
   "source": [
    "我们已经对 $\\partial_{A_t} \\rho$ 与 $\\partial_{A_t} \\rho_r$ 作过讨论：\n",
    "\n",
    "$$\n",
    "\\begin{align}\n",
    "\\frac{\\partial \\rho}{\\partial A_t}\n",
    "&= - \\phi_{t \\mu_A} \\phi_\\nu D_{\\mu \\nu} - \\phi_\\mu \\phi_{t \\nu_A} D_{\\mu \\nu} + 4 \\phi_\\mu \\phi_\\nu U_{mi}^{A_t} C_{\\mu m} C_{\\nu i} \\\\\n",
    "&= \\rho^{A_t} + 4 \\phi_\\mu \\phi_\\nu U_{mi}^{A_t} C_{\\mu m} C_{\\nu i} \\\\\n",
    "\\frac{\\partial \\rho_r}{\\partial A_t}\n",
    "&= - 2 \\phi_{tr \\mu_A} \\phi_\\nu D_{\\mu \\nu} - 2 \\phi_{r \\mu} \\phi_{t \\nu_A} D_{\\mu \\nu} + 4 (\\phi_{r \\mu} \\phi_\\nu + \\phi_\\mu \\phi_{r \\nu}) U_{mi}^{A_t} C_{\\mu m} C_{\\nu i} \\\\\n",
    "&= \\rho_r^{A_t} + 4 (\\phi_{r \\mu} \\phi_\\nu + \\phi_\\mu \\phi_{r \\nu}) U_{mi}^{A_t} C_{\\mu m} C_{\\nu i}\n",
    "\\end{align}\n",
    "$$"
   ]
  },
  {
   "cell_type": "markdown",
   "metadata": {
    "hidden": true
   },
   "source": [
    "对于 $f_\\gamma$ 的全导数也是相同的：\n",
    "\n",
    "$$\n",
    "\\frac{\\partial f_\\gamma}{\\partial A_t} = f_{\\rho \\gamma} \\frac{\\partial \\rho}{\\partial A_t} + 2 f_{\\gamma \\gamma} \\rho_r \\frac{\\partial \\rho_r}{\\partial A_t}\n",
    "$$"
   ]
  },
  {
   "cell_type": "markdown",
   "metadata": {
    "hidden": true
   },
   "source": [
    "上述出现了 U 矩阵的部分看作是 U 导数，否则为 Skeleton 导数。那么，$v_{\\mu \\nu}^\\mathrm{xc}$ 的所有贡献项就容易地用链式法则表示如下：\n",
    "\n",
    "$$\n",
    "\\begin{align}\n",
    "\\partial_{A_t} v_{\\mu \\nu}^\\mathrm{xc} \\xleftarrow{\\text{Skeleton derivative}} v_{\\mu \\nu}^{\\mathrm{xc}, A_t}\n",
    "&= (f_{\\rho \\rho} \\rho^{A_t} + 2 f_{\\rho \\gamma} \\rho_w \\rho_w^{A_t}) \\phi_\\mu \\phi_\\nu + 2 (f_{\\rho \\gamma} \\rho^{A_t} + 2 f_{\\gamma \\gamma} \\rho_w \\rho_w^{A_t}) \\rho_r \\rho_r^{A_t} (\\phi_{r \\mu} \\phi_{\\nu} + \\phi_{\\mu} \\phi_{r \\nu}) \\\\\n",
    "&\\quad + f_\\rho \\phi_\\mu^{A_t} \\phi_\\nu + f_\\rho \\phi_\\mu \\phi_\\nu^{A_t} \\\\\n",
    "&\\quad + 2 f_\\gamma \\rho_r^{A_t} (\\phi_{r \\mu} \\phi_{\\nu} + \\phi_{\\mu} \\phi_{r \\nu})\n",
    "+ 2 f_\\gamma \\rho_r (\\phi_{r \\mu}^{A_t} \\phi_{\\nu} + \\phi_{\\mu}^{A_t} \\phi_{r \\nu} + \\phi_{r \\mu} \\phi_{\\nu}^{A_t} + \\phi_{\\mu} \\phi_{r \\nu}^{A_t})\n",
    "\\end{align}\n",
    "$$"
   ]
  },
  {
   "cell_type": "markdown",
   "metadata": {
    "hidden": true
   },
   "source": [
    "上述出现了 U 矩阵的部分看作是 U 导数，否则为 Skeleton 导数。那么，$v_{\\mu \\nu}^\\mathrm{xc}$ 的所有贡献项就容易地用链式法则表示如下：\n",
    "\n",
    "$$\n",
    "\\begin{align}\n",
    "\\partial_{A_t} v_{\\mu \\nu}^\\mathrm{xc} \\xleftarrow{\\text{Skeleton derivative}} v_{\\mu \\nu}^{\\mathrm{xc}, A_t}\n",
    "&= (f_{\\rho \\rho} \\rho^{A_t} + 2 f_{\\rho \\gamma} \\rho_w \\rho_w^{A_t}) \\phi_\\mu \\phi_\\nu \\\\\n",
    "&\\quad + 2 (f_{\\rho \\gamma} \\rho^{A_t} + 2 f_{\\gamma \\gamma} \\rho_w \\rho_w^{A_t}) \\rho_r (\\phi_{r \\mu} \\phi_{\\nu} + \\phi_{\\mu} \\phi_{r \\nu}) \\\\\n",
    "&\\quad + f_\\rho \\phi_\\mu^{A_t} \\phi_\\nu + f_\\rho \\phi_\\mu \\phi_\\nu^{A_t} \\\\\n",
    "&\\quad + 2 f_\\gamma \\rho_r^{A_t} (\\phi_{r \\mu} \\phi_{\\nu} + \\phi_{\\mu} \\phi_{r \\nu})\n",
    "+ 2 f_\\gamma \\rho_r (\\phi_{r \\mu}^{A_t} \\phi_{\\nu} + \\phi_{\\mu}^{A_t} \\phi_{r \\nu} + \\phi_{r \\mu} \\phi_{\\nu}^{A_t} + \\phi_{\\mu} \\phi_{r \\nu}^{A_t}) \\\\\n",
    "&= \\frac{1}{2} f_{\\rho \\rho} \\rho^{A_t} \\phi_\\mu \\phi_\\nu + f_{\\rho \\gamma} \\rho_w \\rho_w^{A_t} \\phi_\\mu \\phi_\\nu \\\\\n",
    "&\\quad + 2 f_{\\rho \\gamma} \\rho^{A_t} \\rho_r \\phi_{r \\mu} \\phi_{\\nu} + 4 f_{\\gamma \\gamma} \\rho_w \\rho_w^{A_t} \\rho_r \\phi_{r \\mu} \\phi_{\\nu} \\\\\n",
    "&\\quad + f_\\rho \\phi_\\mu^{A_t} \\phi_\\nu \\\\\n",
    "&\\quad + 2 f_\\gamma \\rho_r^{A_t} \\phi_{r \\mu} \\phi_{\\nu} + 2 f_\\gamma \\rho_r \\phi_{r \\mu}^{A_t} \\phi_{\\nu} + 2 f_\\gamma \\rho_r \\phi_{\\mu}^{A_t} \\phi_{r \\nu}\n",
    "\\end{align}\n",
    "$$"
   ]
  },
  {
   "cell_type": "markdown",
   "metadata": {
    "hidden": true
   },
   "source": [
    "利用 $\\partial_{A_t} \\phi_\\mu = - \\phi_{t \\mu_A}$ 等结论，我们会将上式写为\n",
    "\n",
    "$$\n",
    "\\begin{align}\n",
    "\\partial_{A_t} v_{\\mu \\nu}^\\mathrm{xc}\n",
    "&= \\frac{1}{2} f_{\\rho \\rho} \\rho^{A_t} \\phi_\\mu \\phi_\\nu + f_{\\rho \\gamma} \\rho_w \\rho_w^{A_t} \\phi_\\mu \\phi_\\nu \\\\\n",
    "&\\quad + 2 f_{\\rho \\gamma} \\rho^{A_t} \\rho_r \\phi_{r \\mu} \\phi_{\\nu} + 4 f_{\\gamma \\gamma} \\rho_w \\rho_w^{A_t} \\rho_r \\phi_{r \\mu} \\phi_{\\nu} \\\\\n",
    "&\\quad + 2 f_\\gamma \\rho_r^{A_t} \\phi_{r \\mu} \\phi_{\\nu} \\\\\n",
    "&\\quad - f_\\rho \\phi_{t \\mu_A} \\phi_\\nu - 2 f_\\gamma \\rho_r \\phi_{tr \\mu_A} \\phi_{\\nu} - 2 f_\\gamma \\rho_r \\phi_{t \\mu_A} \\phi_{r \\nu}\n",
    "\\end{align}\n",
    "$$"
   ]
  },
  {
   "cell_type": "markdown",
   "metadata": {
    "hidden": true
   },
   "source": [
    "我们定义 `F_1_ao_GGA` $v_{\\mu \\nu}^{\\mathrm{xc}, A_t}$ 为 (维度为 $(A, t, \\mu, \\nu)$)"
   ]
  },
  {
   "cell_type": "code",
   "execution_count": 12,
   "metadata": {
    "hidden": true,
    "scrolled": true
   },
   "outputs": [
    {
     "data": {
      "text/plain": [
       "(4, 3, 22, 22)"
      ]
     },
     "execution_count": 12,
     "metadata": {},
     "output_type": "execute_result"
    }
   ],
   "source": [
    "F_1_ao_GGA = (\n",
    "    + 0.5 * np.einsum(\"g, Atg, gu, gv -> Atuv\", frr, A_rho_1, ao_0, ao_0)\n",
    "    + np.einsum(\"g, wg, Atwg, gu, gv -> Atuv\", frg, rho_1, A_rho_2, ao_0, ao_0)\n",
    "    + 2 * np.einsum(\"g, Atg, rg, rgu, gv -> Atuv\", frg, A_rho_1, rho_1, ao_1, ao_0)\n",
    "    + 4 * np.einsum(\"g, wg, Atwg, rg, rgu, gv -> Atuv\", fgg, rho_1, A_rho_2, rho_1, ao_1, ao_0)\n",
    "    + 2 * np.einsum(\"g, Atrg, rgu, gv -> Atuv\", fg, A_rho_2, ao_1, ao_0)\n",
    ")\n",
    "for A in range(natm):\n",
    "    sA = mol_slice(A)\n",
    "    F_1_ao_GGA[A, :, sA, :] -= np.einsum(\"g, tgu, gv -> tuv\", fr, ao_1[:, :, sA], ao_0)\n",
    "    F_1_ao_GGA[A, :, sA, :] -= 2 * np.einsum(\"g, rg, trgu, gv -> tuv\", fg, rho_1, ao_2[:, :, :, sA], ao_0)\n",
    "    F_1_ao_GGA[A, :, sA, :] -= 2 * np.einsum(\"g, rg, tgu, rgv -> tuv\", fg, rho_1, ao_1[:, :, sA], ao_1)\n",
    "F_1_ao_GGA += F_1_ao_GGA.swapaxes(-1, -2)  # swap (u, v)\n",
    "F_1_ao_GGA.shape"
   ]
  },
  {
   "cell_type": "markdown",
   "metadata": {
    "hidden": true
   },
   "source": [
    "我们再考虑 Fock 矩阵的 Skeleton 导数 `F_1_ao`：\n",
    "\n",
    "$$\n",
    "F_{\\mu \\nu}^{A_t} = h_{\\mu \\nu}^{A_t} + (\\mu \\nu | \\kappa \\lambda)^{A_t} D_{\\kappa \\lambda} - \\frac{c_\\mathrm{x}}{2} (\\mu \\kappa | \\nu \\lambda)^{A_t} D_{\\kappa \\lambda} + v_{\\mu \\nu}^{\\mathrm{xc}, A_t}\n",
    "$$"
   ]
  },
  {
   "cell_type": "code",
   "execution_count": 13,
   "metadata": {
    "hidden": true
   },
   "outputs": [
    {
     "data": {
      "text/plain": [
       "(4, 3, 22, 22)"
      ]
     },
     "execution_count": 13,
     "metadata": {},
     "output_type": "execute_result"
    }
   ],
   "source": [
    "F_1_ao = (\n",
    "    + H_1_ao\n",
    "    + np.einsum(\"Atuvkl, kl -> Atuv\", eri1_ao, D)\n",
    "    - 0.5 * cx * np.einsum(\"Atukvl, kl -> Atuv\", eri1_ao, D)\n",
    "    + F_1_ao_GGA\n",
    ")\n",
    "F_1_ao.shape"
   ]
  },
  {
   "cell_type": "markdown",
   "metadata": {
    "hidden": true
   },
   "source": [
    "pyxdh 中的 `F_1_ao` 也可以用来验证上述的生成结果："
   ]
  },
  {
   "cell_type": "code",
   "execution_count": 14,
   "metadata": {
    "hidden": true
   },
   "outputs": [
    {
     "data": {
      "text/plain": [
       "True"
      ]
     },
     "execution_count": 14,
     "metadata": {},
     "output_type": "execute_result"
    }
   ],
   "source": [
    "np.allclose(F_1_ao, to_natm_3(gradh.F_1_ao))"
   ]
  },
  {
   "cell_type": "markdown",
   "metadata": {
    "hidden": true
   },
   "source": [
    "在 PySCF 中，也可以用 `make_h1` 来验证上述结果："
   ]
  },
  {
   "cell_type": "code",
   "execution_count": 15,
   "metadata": {
    "hidden": true
   },
   "outputs": [
    {
     "data": {
      "text/plain": [
       "True"
      ]
     },
     "execution_count": 15,
     "metadata": {},
     "output_type": "execute_result"
    }
   ],
   "source": [
    "np.allclose(F_1_ao, hessian.rks.Hessian(gradh.scf_eng).make_h1(C, gradh.mo_occ))"
   ]
  },
  {
   "cell_type": "markdown",
   "metadata": {
    "hidden": true
   },
   "source": [
    "那么分子轨道下的 $F_{pq}^{A_t}$ 可以表示为：\n",
    "\n",
    "$$\n",
    "F_{pq}^{A_t} = C_{\\mu p} F_{\\mu \\nu}^{A_t} C_{\\nu q}\n",
    "$$"
   ]
  },
  {
   "cell_type": "code",
   "execution_count": 16,
   "metadata": {
    "hidden": true
   },
   "outputs": [],
   "source": [
    "F_1_mo = np.einsum(\"up, Atuv, vq -> Atpq\", C, F_1_ao, C)"
   ]
  },
  {
   "cell_type": "markdown",
   "metadata": {},
   "source": [
    "### A 张量"
   ]
  },
  {
   "cell_type": "markdown",
   "metadata": {},
   "source": [
    "我们已经对 $\\partial_{A_t} \\rho$ 与 $\\partial_{A_t} \\rho_r$ 作过讨论：\n",
    "\n",
    "$$\n",
    "\\begin{align}\n",
    "\\frac{\\partial \\rho}{\\partial A_t}\n",
    "&= \\rho^{A_t} + 4 \\phi_\\mu \\phi_\\nu U_{mi}^{A_t} C_{\\mu m} C_{\\nu i} \\\\\n",
    "\\frac{\\partial \\rho_r}{\\partial A_t}\n",
    "&= \\rho_r^{A_t} + 4 (\\phi_{r \\mu} \\phi_\\nu + \\phi_\\mu \\phi_{r \\nu}) U_{mi}^{A_t} C_{\\mu m} C_{\\nu i}\n",
    "\\end{align}\n",
    "$$"
   ]
  },
  {
   "cell_type": "markdown",
   "metadata": {},
   "source": [
    "从 RHF 推导 A 张量的经验，我们知道，A 张量的定义应是 Fock 矩阵的 U 导数所产生的贡献：\n",
    "\n",
    "$$\n",
    "\\frac{\\partial F_{\\mu \\nu}}{\\partial A_t} \\xleftarrow{\\text{U derivative}} A_{\\mu \\nu, \\kappa \\lambda} C_{\\kappa m} C_{\\lambda i} U_{mi}^{A_t}\n",
    "$$"
   ]
  },
  {
   "cell_type": "markdown",
   "metadata": {},
   "source": [
    "我们仍然根据定义\n",
    "\n",
    "$$\n",
    "v_{\\mu \\nu}^\\mathrm{xc} = f_\\rho \\phi_\\mu \\phi_\\nu + 2 f_\\gamma \\rho_r (\\phi_{r \\mu} \\phi_{\\nu} + \\phi_{\\mu} \\phi_{r \\nu})\n",
    "$$"
   ]
  },
  {
   "cell_type": "markdown",
   "metadata": {},
   "source": [
    "可以推知其 U 矩阵的贡献是\n",
    "\n",
    "$$\n",
    "\\begin{align}\n",
    "\\partial_{A_t} v_{\\mu \\nu}^\\mathrm{xc} \\xleftarrow{\\text{U derivative}}\n",
    "&\\quad \\big[ 4 (f_{\\rho \\rho} \\phi_\\kappa \\phi_\\lambda + 2 f_{\\rho \\gamma} \\rho_r \\phi_{r \\kappa} \\phi_\\lambda + 2 f_{\\rho \\gamma} \\rho_r \\phi_\\kappa \\phi_{r \\lambda}) \\phi_\\mu \\phi_\\nu \\\\\n",
    "&\\quad + 8 (f_{\\rho \\gamma} \\phi_\\kappa \\phi_\\lambda + 2 f_{\\gamma \\gamma} \\rho_w \\phi_{w \\kappa} \\phi_\\lambda + 2 f_{\\gamma \\gamma} \\rho_r \\phi_\\kappa \\phi_{r \\lambda}) \\rho_r (\\phi_{r \\mu} \\phi_{\\nu} + \\phi_{\\mu} \\phi_{r \\nu}) \\\\\n",
    "&\\quad + 8 f_\\gamma (\\phi_{r \\kappa} \\phi_\\lambda + \\phi_\\kappa \\phi_{r \\lambda}) (\\phi_{r \\mu} \\phi_{\\nu} + \\phi_{\\mu} \\phi_{r \\nu}) \\big] U_{mi}^{A_t} C_{\\mu m} C_{\\nu i}\n",
    "\\end{align}\n",
    "$$"
   ]
  },
  {
   "cell_type": "markdown",
   "metadata": {},
   "source": [
    "上式中，方括号所包含的部分就是 GGA 对 A 张量 $A_{\\mu \\nu, \\kappa \\lambda}$ 的贡献；但这个表达式实在是相当长，我们可以依靠对称性作一些简化：\n",
    "\n",
    "$$\n",
    "\\begin{align}\n",
    "A_{\\mu \\nu, \\kappa \\lambda} \\xleftarrow{\\text{GGA contrib}} A_{\\mu \\nu, \\kappa \\lambda}^\\text{GGA}\n",
    "&= f_{\\rho \\rho} \\phi_\\kappa \\phi_\\lambda \\phi_\\mu \\phi_\\nu + 4 f_{\\rho \\gamma} \\rho_r \\phi_{r \\kappa} \\phi_\\lambda \\phi_\\mu \\phi_\\nu \\\\\n",
    "& + 4 f_{\\rho \\gamma} \\phi_\\kappa \\phi_\\lambda \\rho_r \\phi_{r \\mu} \\phi_{\\nu} + 16 f_{\\gamma \\gamma} \\rho_w \\phi_{w \\kappa} \\phi_\\lambda \\rho_r \\phi_{r \\mu} \\phi_{\\nu} \\\\\n",
    "& + 8 f_\\gamma \\phi_{r \\kappa} \\phi_\\lambda \\phi_{r \\mu} \\phi_{\\nu} \\\\\n",
    "& + \\mathrm{swap} (\\mu, \\nu) + \\mathrm{swap} (\\kappa, \\lambda)\n",
    "\\end{align}\n",
    "$$"
   ]
  },
  {
   "cell_type": "code",
   "execution_count": 17,
   "metadata": {},
   "outputs": [
    {
     "data": {
      "text/plain": [
       "(22, 22, 22, 22)"
      ]
     },
     "execution_count": 17,
     "metadata": {},
     "output_type": "execute_result"
    }
   ],
   "source": [
    "A_0_ao_GGA = (\n",
    "    + np.einsum(\"g, gk, gl, gu, gv -> uvkl\", frr, ao_0, ao_0, ao_0, ao_0)\n",
    "    + 4 * np.einsum(\"g, rg, rgk, gl, gu, gv -> uvkl\", frg, rho_1, ao_1, ao_0, ao_0, ao_0)\n",
    "    + 4 * np.einsum(\"g, gk, gl, rg, rgu, gv -> uvkl\", frg, ao_0, ao_0, rho_1, ao_1, ao_0)\n",
    "    + 16 * np.einsum(\"g, wg, wgk, gl, rg, rgu, gv -> uvkl\", fgg, rho_1, ao_1, ao_0, rho_1, ao_1, ao_0)\n",
    "    + 8 * np.einsum(\"g, rgk, gl, rgu, gv -> uvkl\", fg, ao_1, ao_0, ao_1, ao_0)\n",
    ")\n",
    "A_0_ao_GGA += A_0_ao_GGA.swapaxes(-1, -2)\n",
    "A_0_ao_GGA += A_0_ao_GGA.swapaxes(-3, -4)\n",
    "A_0_ao_GGA.shape"
   ]
  },
  {
   "cell_type": "markdown",
   "metadata": {},
   "source": [
    "随后我们就可以给出 GGA 下的 A 张量：\n",
    "\n",
    "$$\n",
    "A_{\\mu \\nu, \\kappa \\lambda} = 4 (\\mu \\nu | \\kappa \\lambda) - c_\\mathrm{x} (\\mu \\kappa | \\nu \\lambda) - c_\\mathrm{x} (\\mu \\lambda | \\nu \\kappa) + A_{\\mu \\nu, \\kappa \\lambda}^\\mathrm{GGA}\n",
    "$$"
   ]
  },
  {
   "cell_type": "code",
   "execution_count": 18,
   "metadata": {},
   "outputs": [],
   "source": [
    "A_0_ao = 4 * eri0_ao - cx * eri0_ao.swapaxes(-2, -3) - cx * eri0_ao.swapaxes(-1, -3) + A_0_ao_GGA"
   ]
  },
  {
   "cell_type": "markdown",
   "metadata": {},
   "source": [
    "我们可以拿现成的程序来验证上述 A 张量是否生成正确。pyxdh 中，它仍然可以用 `Ax0_Core` 与张量作乘积得到：(下式对除了 $p, q$ 之外的角标求和)\n",
    "\n",
    "$$\n",
    "A_{pq, mi} X_{mi} = C_{\\mu p} C_{\\nu q} A_{\\mu \\nu, \\kappa \\lambda} C_{\\kappa m} X_{mi} C_{\\lambda i}\n",
    "$$"
   ]
  },
  {
   "cell_type": "code",
   "execution_count": 19,
   "metadata": {},
   "outputs": [],
   "source": [
    "X = np.random.randn(nmo, nocc)"
   ]
  },
  {
   "cell_type": "code",
   "execution_count": 20,
   "metadata": {},
   "outputs": [
    {
     "data": {
      "text/plain": [
       "True"
      ]
     },
     "execution_count": 20,
     "metadata": {},
     "output_type": "execute_result"
    }
   ],
   "source": [
    "np.allclose(\n",
    "    np.einsum(\"up, vq, uvkl, km, mi, li -> pq\", C, C, A_0_ao, C, X, Co),\n",
    "    gradh.Ax0_Core(sa, sa, sa, so)(X)\n",
    ")"
   ]
  },
  {
   "cell_type": "markdown",
   "metadata": {},
   "source": [
    "<div class=\"alert alert-info\">\n",
    "\n",
    "**演示 A 张量 GGA 贡献部分的缩并效率**\n",
    "\n",
    "你可能会意识到上述生成 `A_0_ao_GGA` 的耗时相当长，但 `Ax0_Core` 的耗时却很短。请尝试用 `np.einsum_path` 分析时间复杂度，并指出一种策略，使得计算 $A_{pq, mi} X_{mi}$ 的耗时与 `Ax0_Core` 相对接近。\n",
    "\n",
    "</div>"
   ]
  },
  {
   "cell_type": "markdown",
   "metadata": {
    "heading_collapsed": true
   },
   "source": [
    "### CP-HF 方程"
   ]
  },
  {
   "cell_type": "markdown",
   "metadata": {
    "hidden": true,
    "scrolled": true
   },
   "source": [
    "既然我们已经知道 A 张量的计算方式，那么就可以通过 CP-HF 方程对 U 矩阵进行求解。首先我们仍然可以通过下式给出 B 矩阵：\n",
    "\n",
    "$$\n",
    "B_{pq}^\\mathbb{A} = F_{pq}^\\mathbb{A} - S_{pq}^\\mathbb{A} \\varepsilon_q - \\frac{1}{2} A_{pq, kl} S_{kl}^\\mathbb{A}\n",
    "$$"
   ]
  },
  {
   "cell_type": "code",
   "execution_count": 21,
   "metadata": {
    "hidden": true
   },
   "outputs": [],
   "source": [
    "B_1 = (\n",
    "    + F_1_mo\n",
    "    - np.einsum(\"Atpq, q -> Atpq\", S_1_mo, e)\n",
    "    - 0.5 * gradh.Ax0_Core(sa, sa, so, so)(S_1_mo[:, :, so, so])\n",
    ")"
   ]
  },
  {
   "cell_type": "markdown",
   "metadata": {
    "hidden": true
   },
   "source": [
    "随后就可以通过 CP-HF 方程求解 `U_1_vo` $U_{ai}^{A_t}$ (在这份文档中，我们一般统一称 CP-KS 方程为 CP-HF 方程，因为解法与意义都几乎一致)：\n",
    "\n",
    "$$\n",
    "- (\\varepsilon_a - \\varepsilon_i) U_{ai}^\\mathbb{A} - A_{ai, bj} U_{bj}^\\mathbb{A} = B_{ai}^\\mathbb{A}\n",
    "$$"
   ]
  },
  {
   "cell_type": "code",
   "execution_count": 22,
   "metadata": {
    "hidden": true
   },
   "outputs": [],
   "source": [
    "U_1_vo = cphf.solve(\n",
    "    gradh.Ax0_Core(sv, so, sv, so, in_cphf=True),\n",
    "    e,\n",
    "    gradh.scf_eng.mo_occ,\n",
    "    B_1[:, :, sv, so].reshape(natm * 3, nvir, nocc),\n",
    "    tol=1e-6,\n",
    ")[0].reshape(natm, 3, nvir, nocc)"
   ]
  },
  {
   "cell_type": "markdown",
   "metadata": {
    "hidden": true
   },
   "source": [
    "我们可以将其与 pyxdh 所给出的 U 矩阵作验证："
   ]
  },
  {
   "cell_type": "code",
   "execution_count": 23,
   "metadata": {
    "hidden": true,
    "scrolled": true
   },
   "outputs": [
    {
     "data": {
      "text/plain": [
       "True"
      ]
     },
     "execution_count": 23,
     "metadata": {},
     "output_type": "execute_result"
    }
   ],
   "source": [
    "np.allclose(U_1_vo.ravel(), gradh.U_1_vo.ravel())"
   ]
  },
  {
   "cell_type": "markdown",
   "metadata": {
    "hidden": true
   },
   "source": [
    "我们也可以用数值的 U 矩阵中非占-占据的分块来验证上述解析 U 矩阵："
   ]
  },
  {
   "cell_type": "code",
   "execution_count": 24,
   "metadata": {
    "hidden": true
   },
   "outputs": [
    {
     "data": {
      "application/javascript": [
       "/* Put everything inside the global mpl namespace */\n",
       "window.mpl = {};\n",
       "\n",
       "\n",
       "mpl.get_websocket_type = function() {\n",
       "    if (typeof(WebSocket) !== 'undefined') {\n",
       "        return WebSocket;\n",
       "    } else if (typeof(MozWebSocket) !== 'undefined') {\n",
       "        return MozWebSocket;\n",
       "    } else {\n",
       "        alert('Your browser does not have WebSocket support. ' +\n",
       "              'Please try Chrome, Safari or Firefox ≥ 6. ' +\n",
       "              'Firefox 4 and 5 are also supported but you ' +\n",
       "              'have to enable WebSockets in about:config.');\n",
       "    };\n",
       "}\n",
       "\n",
       "mpl.figure = function(figure_id, websocket, ondownload, parent_element) {\n",
       "    this.id = figure_id;\n",
       "\n",
       "    this.ws = websocket;\n",
       "\n",
       "    this.supports_binary = (this.ws.binaryType != undefined);\n",
       "\n",
       "    if (!this.supports_binary) {\n",
       "        var warnings = document.getElementById(\"mpl-warnings\");\n",
       "        if (warnings) {\n",
       "            warnings.style.display = 'block';\n",
       "            warnings.textContent = (\n",
       "                \"This browser does not support binary websocket messages. \" +\n",
       "                    \"Performance may be slow.\");\n",
       "        }\n",
       "    }\n",
       "\n",
       "    this.imageObj = new Image();\n",
       "\n",
       "    this.context = undefined;\n",
       "    this.message = undefined;\n",
       "    this.canvas = undefined;\n",
       "    this.rubberband_canvas = undefined;\n",
       "    this.rubberband_context = undefined;\n",
       "    this.format_dropdown = undefined;\n",
       "\n",
       "    this.image_mode = 'full';\n",
       "\n",
       "    this.root = $('<div/>');\n",
       "    this._root_extra_style(this.root)\n",
       "    this.root.attr('style', 'display: inline-block');\n",
       "\n",
       "    $(parent_element).append(this.root);\n",
       "\n",
       "    this._init_header(this);\n",
       "    this._init_canvas(this);\n",
       "    this._init_toolbar(this);\n",
       "\n",
       "    var fig = this;\n",
       "\n",
       "    this.waiting = false;\n",
       "\n",
       "    this.ws.onopen =  function () {\n",
       "            fig.send_message(\"supports_binary\", {value: fig.supports_binary});\n",
       "            fig.send_message(\"send_image_mode\", {});\n",
       "            if (mpl.ratio != 1) {\n",
       "                fig.send_message(\"set_dpi_ratio\", {'dpi_ratio': mpl.ratio});\n",
       "            }\n",
       "            fig.send_message(\"refresh\", {});\n",
       "        }\n",
       "\n",
       "    this.imageObj.onload = function() {\n",
       "            if (fig.image_mode == 'full') {\n",
       "                // Full images could contain transparency (where diff images\n",
       "                // almost always do), so we need to clear the canvas so that\n",
       "                // there is no ghosting.\n",
       "                fig.context.clearRect(0, 0, fig.canvas.width, fig.canvas.height);\n",
       "            }\n",
       "            fig.context.drawImage(fig.imageObj, 0, 0);\n",
       "        };\n",
       "\n",
       "    this.imageObj.onunload = function() {\n",
       "        fig.ws.close();\n",
       "    }\n",
       "\n",
       "    this.ws.onmessage = this._make_on_message_function(this);\n",
       "\n",
       "    this.ondownload = ondownload;\n",
       "}\n",
       "\n",
       "mpl.figure.prototype._init_header = function() {\n",
       "    var titlebar = $(\n",
       "        '<div class=\"ui-dialog-titlebar ui-widget-header ui-corner-all ' +\n",
       "        'ui-helper-clearfix\"/>');\n",
       "    var titletext = $(\n",
       "        '<div class=\"ui-dialog-title\" style=\"width: 100%; ' +\n",
       "        'text-align: center; padding: 3px;\"/>');\n",
       "    titlebar.append(titletext)\n",
       "    this.root.append(titlebar);\n",
       "    this.header = titletext[0];\n",
       "}\n",
       "\n",
       "\n",
       "\n",
       "mpl.figure.prototype._canvas_extra_style = function(canvas_div) {\n",
       "\n",
       "}\n",
       "\n",
       "\n",
       "mpl.figure.prototype._root_extra_style = function(canvas_div) {\n",
       "\n",
       "}\n",
       "\n",
       "mpl.figure.prototype._init_canvas = function() {\n",
       "    var fig = this;\n",
       "\n",
       "    var canvas_div = $('<div/>');\n",
       "\n",
       "    canvas_div.attr('style', 'position: relative; clear: both; outline: 0');\n",
       "\n",
       "    function canvas_keyboard_event(event) {\n",
       "        return fig.key_event(event, event['data']);\n",
       "    }\n",
       "\n",
       "    canvas_div.keydown('key_press', canvas_keyboard_event);\n",
       "    canvas_div.keyup('key_release', canvas_keyboard_event);\n",
       "    this.canvas_div = canvas_div\n",
       "    this._canvas_extra_style(canvas_div)\n",
       "    this.root.append(canvas_div);\n",
       "\n",
       "    var canvas = $('<canvas/>');\n",
       "    canvas.addClass('mpl-canvas');\n",
       "    canvas.attr('style', \"left: 0; top: 0; z-index: 0; outline: 0\")\n",
       "\n",
       "    this.canvas = canvas[0];\n",
       "    this.context = canvas[0].getContext(\"2d\");\n",
       "\n",
       "    var backingStore = this.context.backingStorePixelRatio ||\n",
       "\tthis.context.webkitBackingStorePixelRatio ||\n",
       "\tthis.context.mozBackingStorePixelRatio ||\n",
       "\tthis.context.msBackingStorePixelRatio ||\n",
       "\tthis.context.oBackingStorePixelRatio ||\n",
       "\tthis.context.backingStorePixelRatio || 1;\n",
       "\n",
       "    mpl.ratio = (window.devicePixelRatio || 1) / backingStore;\n",
       "\n",
       "    var rubberband = $('<canvas/>');\n",
       "    rubberband.attr('style', \"position: absolute; left: 0; top: 0; z-index: 1;\")\n",
       "\n",
       "    var pass_mouse_events = true;\n",
       "\n",
       "    canvas_div.resizable({\n",
       "        start: function(event, ui) {\n",
       "            pass_mouse_events = false;\n",
       "        },\n",
       "        resize: function(event, ui) {\n",
       "            fig.request_resize(ui.size.width, ui.size.height);\n",
       "        },\n",
       "        stop: function(event, ui) {\n",
       "            pass_mouse_events = true;\n",
       "            fig.request_resize(ui.size.width, ui.size.height);\n",
       "        },\n",
       "    });\n",
       "\n",
       "    function mouse_event_fn(event) {\n",
       "        if (pass_mouse_events)\n",
       "            return fig.mouse_event(event, event['data']);\n",
       "    }\n",
       "\n",
       "    rubberband.mousedown('button_press', mouse_event_fn);\n",
       "    rubberband.mouseup('button_release', mouse_event_fn);\n",
       "    // Throttle sequential mouse events to 1 every 20ms.\n",
       "    rubberband.mousemove('motion_notify', mouse_event_fn);\n",
       "\n",
       "    rubberband.mouseenter('figure_enter', mouse_event_fn);\n",
       "    rubberband.mouseleave('figure_leave', mouse_event_fn);\n",
       "\n",
       "    canvas_div.on(\"wheel\", function (event) {\n",
       "        event = event.originalEvent;\n",
       "        event['data'] = 'scroll'\n",
       "        if (event.deltaY < 0) {\n",
       "            event.step = 1;\n",
       "        } else {\n",
       "            event.step = -1;\n",
       "        }\n",
       "        mouse_event_fn(event);\n",
       "    });\n",
       "\n",
       "    canvas_div.append(canvas);\n",
       "    canvas_div.append(rubberband);\n",
       "\n",
       "    this.rubberband = rubberband;\n",
       "    this.rubberband_canvas = rubberband[0];\n",
       "    this.rubberband_context = rubberband[0].getContext(\"2d\");\n",
       "    this.rubberband_context.strokeStyle = \"#000000\";\n",
       "\n",
       "    this._resize_canvas = function(width, height) {\n",
       "        // Keep the size of the canvas, canvas container, and rubber band\n",
       "        // canvas in synch.\n",
       "        canvas_div.css('width', width)\n",
       "        canvas_div.css('height', height)\n",
       "\n",
       "        canvas.attr('width', width * mpl.ratio);\n",
       "        canvas.attr('height', height * mpl.ratio);\n",
       "        canvas.attr('style', 'width: ' + width + 'px; height: ' + height + 'px;');\n",
       "\n",
       "        rubberband.attr('width', width);\n",
       "        rubberband.attr('height', height);\n",
       "    }\n",
       "\n",
       "    // Set the figure to an initial 600x600px, this will subsequently be updated\n",
       "    // upon first draw.\n",
       "    this._resize_canvas(600, 600);\n",
       "\n",
       "    // Disable right mouse context menu.\n",
       "    $(this.rubberband_canvas).bind(\"contextmenu\",function(e){\n",
       "        return false;\n",
       "    });\n",
       "\n",
       "    function set_focus () {\n",
       "        canvas.focus();\n",
       "        canvas_div.focus();\n",
       "    }\n",
       "\n",
       "    window.setTimeout(set_focus, 100);\n",
       "}\n",
       "\n",
       "mpl.figure.prototype._init_toolbar = function() {\n",
       "    var fig = this;\n",
       "\n",
       "    var nav_element = $('<div/>');\n",
       "    nav_element.attr('style', 'width: 100%');\n",
       "    this.root.append(nav_element);\n",
       "\n",
       "    // Define a callback function for later on.\n",
       "    function toolbar_event(event) {\n",
       "        return fig.toolbar_button_onclick(event['data']);\n",
       "    }\n",
       "    function toolbar_mouse_event(event) {\n",
       "        return fig.toolbar_button_onmouseover(event['data']);\n",
       "    }\n",
       "\n",
       "    for(var toolbar_ind in mpl.toolbar_items) {\n",
       "        var name = mpl.toolbar_items[toolbar_ind][0];\n",
       "        var tooltip = mpl.toolbar_items[toolbar_ind][1];\n",
       "        var image = mpl.toolbar_items[toolbar_ind][2];\n",
       "        var method_name = mpl.toolbar_items[toolbar_ind][3];\n",
       "\n",
       "        if (!name) {\n",
       "            // put a spacer in here.\n",
       "            continue;\n",
       "        }\n",
       "        var button = $('<button/>');\n",
       "        button.addClass('ui-button ui-widget ui-state-default ui-corner-all ' +\n",
       "                        'ui-button-icon-only');\n",
       "        button.attr('role', 'button');\n",
       "        button.attr('aria-disabled', 'false');\n",
       "        button.click(method_name, toolbar_event);\n",
       "        button.mouseover(tooltip, toolbar_mouse_event);\n",
       "\n",
       "        var icon_img = $('<span/>');\n",
       "        icon_img.addClass('ui-button-icon-primary ui-icon');\n",
       "        icon_img.addClass(image);\n",
       "        icon_img.addClass('ui-corner-all');\n",
       "\n",
       "        var tooltip_span = $('<span/>');\n",
       "        tooltip_span.addClass('ui-button-text');\n",
       "        tooltip_span.html(tooltip);\n",
       "\n",
       "        button.append(icon_img);\n",
       "        button.append(tooltip_span);\n",
       "\n",
       "        nav_element.append(button);\n",
       "    }\n",
       "\n",
       "    var fmt_picker_span = $('<span/>');\n",
       "\n",
       "    var fmt_picker = $('<select/>');\n",
       "    fmt_picker.addClass('mpl-toolbar-option ui-widget ui-widget-content');\n",
       "    fmt_picker_span.append(fmt_picker);\n",
       "    nav_element.append(fmt_picker_span);\n",
       "    this.format_dropdown = fmt_picker[0];\n",
       "\n",
       "    for (var ind in mpl.extensions) {\n",
       "        var fmt = mpl.extensions[ind];\n",
       "        var option = $(\n",
       "            '<option/>', {selected: fmt === mpl.default_extension}).html(fmt);\n",
       "        fmt_picker.append(option);\n",
       "    }\n",
       "\n",
       "    // Add hover states to the ui-buttons\n",
       "    $( \".ui-button\" ).hover(\n",
       "        function() { $(this).addClass(\"ui-state-hover\");},\n",
       "        function() { $(this).removeClass(\"ui-state-hover\");}\n",
       "    );\n",
       "\n",
       "    var status_bar = $('<span class=\"mpl-message\"/>');\n",
       "    nav_element.append(status_bar);\n",
       "    this.message = status_bar[0];\n",
       "}\n",
       "\n",
       "mpl.figure.prototype.request_resize = function(x_pixels, y_pixels) {\n",
       "    // Request matplotlib to resize the figure. Matplotlib will then trigger a resize in the client,\n",
       "    // which will in turn request a refresh of the image.\n",
       "    this.send_message('resize', {'width': x_pixels, 'height': y_pixels});\n",
       "}\n",
       "\n",
       "mpl.figure.prototype.send_message = function(type, properties) {\n",
       "    properties['type'] = type;\n",
       "    properties['figure_id'] = this.id;\n",
       "    this.ws.send(JSON.stringify(properties));\n",
       "}\n",
       "\n",
       "mpl.figure.prototype.send_draw_message = function() {\n",
       "    if (!this.waiting) {\n",
       "        this.waiting = true;\n",
       "        this.ws.send(JSON.stringify({type: \"draw\", figure_id: this.id}));\n",
       "    }\n",
       "}\n",
       "\n",
       "\n",
       "mpl.figure.prototype.handle_save = function(fig, msg) {\n",
       "    var format_dropdown = fig.format_dropdown;\n",
       "    var format = format_dropdown.options[format_dropdown.selectedIndex].value;\n",
       "    fig.ondownload(fig, format);\n",
       "}\n",
       "\n",
       "\n",
       "mpl.figure.prototype.handle_resize = function(fig, msg) {\n",
       "    var size = msg['size'];\n",
       "    if (size[0] != fig.canvas.width || size[1] != fig.canvas.height) {\n",
       "        fig._resize_canvas(size[0], size[1]);\n",
       "        fig.send_message(\"refresh\", {});\n",
       "    };\n",
       "}\n",
       "\n",
       "mpl.figure.prototype.handle_rubberband = function(fig, msg) {\n",
       "    var x0 = msg['x0'] / mpl.ratio;\n",
       "    var y0 = (fig.canvas.height - msg['y0']) / mpl.ratio;\n",
       "    var x1 = msg['x1'] / mpl.ratio;\n",
       "    var y1 = (fig.canvas.height - msg['y1']) / mpl.ratio;\n",
       "    x0 = Math.floor(x0) + 0.5;\n",
       "    y0 = Math.floor(y0) + 0.5;\n",
       "    x1 = Math.floor(x1) + 0.5;\n",
       "    y1 = Math.floor(y1) + 0.5;\n",
       "    var min_x = Math.min(x0, x1);\n",
       "    var min_y = Math.min(y0, y1);\n",
       "    var width = Math.abs(x1 - x0);\n",
       "    var height = Math.abs(y1 - y0);\n",
       "\n",
       "    fig.rubberband_context.clearRect(\n",
       "        0, 0, fig.canvas.width / mpl.ratio, fig.canvas.height / mpl.ratio);\n",
       "\n",
       "    fig.rubberband_context.strokeRect(min_x, min_y, width, height);\n",
       "}\n",
       "\n",
       "mpl.figure.prototype.handle_figure_label = function(fig, msg) {\n",
       "    // Updates the figure title.\n",
       "    fig.header.textContent = msg['label'];\n",
       "}\n",
       "\n",
       "mpl.figure.prototype.handle_cursor = function(fig, msg) {\n",
       "    var cursor = msg['cursor'];\n",
       "    switch(cursor)\n",
       "    {\n",
       "    case 0:\n",
       "        cursor = 'pointer';\n",
       "        break;\n",
       "    case 1:\n",
       "        cursor = 'default';\n",
       "        break;\n",
       "    case 2:\n",
       "        cursor = 'crosshair';\n",
       "        break;\n",
       "    case 3:\n",
       "        cursor = 'move';\n",
       "        break;\n",
       "    }\n",
       "    fig.rubberband_canvas.style.cursor = cursor;\n",
       "}\n",
       "\n",
       "mpl.figure.prototype.handle_message = function(fig, msg) {\n",
       "    fig.message.textContent = msg['message'];\n",
       "}\n",
       "\n",
       "mpl.figure.prototype.handle_draw = function(fig, msg) {\n",
       "    // Request the server to send over a new figure.\n",
       "    fig.send_draw_message();\n",
       "}\n",
       "\n",
       "mpl.figure.prototype.handle_image_mode = function(fig, msg) {\n",
       "    fig.image_mode = msg['mode'];\n",
       "}\n",
       "\n",
       "mpl.figure.prototype.updated_canvas_event = function() {\n",
       "    // Called whenever the canvas gets updated.\n",
       "    this.send_message(\"ack\", {});\n",
       "}\n",
       "\n",
       "// A function to construct a web socket function for onmessage handling.\n",
       "// Called in the figure constructor.\n",
       "mpl.figure.prototype._make_on_message_function = function(fig) {\n",
       "    return function socket_on_message(evt) {\n",
       "        if (evt.data instanceof Blob) {\n",
       "            /* FIXME: We get \"Resource interpreted as Image but\n",
       "             * transferred with MIME type text/plain:\" errors on\n",
       "             * Chrome.  But how to set the MIME type?  It doesn't seem\n",
       "             * to be part of the websocket stream */\n",
       "            evt.data.type = \"image/png\";\n",
       "\n",
       "            /* Free the memory for the previous frames */\n",
       "            if (fig.imageObj.src) {\n",
       "                (window.URL || window.webkitURL).revokeObjectURL(\n",
       "                    fig.imageObj.src);\n",
       "            }\n",
       "\n",
       "            fig.imageObj.src = (window.URL || window.webkitURL).createObjectURL(\n",
       "                evt.data);\n",
       "            fig.updated_canvas_event();\n",
       "            fig.waiting = false;\n",
       "            return;\n",
       "        }\n",
       "        else if (typeof evt.data === 'string' && evt.data.slice(0, 21) == \"data:image/png;base64\") {\n",
       "            fig.imageObj.src = evt.data;\n",
       "            fig.updated_canvas_event();\n",
       "            fig.waiting = false;\n",
       "            return;\n",
       "        }\n",
       "\n",
       "        var msg = JSON.parse(evt.data);\n",
       "        var msg_type = msg['type'];\n",
       "\n",
       "        // Call the  \"handle_{type}\" callback, which takes\n",
       "        // the figure and JSON message as its only arguments.\n",
       "        try {\n",
       "            var callback = fig[\"handle_\" + msg_type];\n",
       "        } catch (e) {\n",
       "            console.log(\"No handler for the '\" + msg_type + \"' message type: \", msg);\n",
       "            return;\n",
       "        }\n",
       "\n",
       "        if (callback) {\n",
       "            try {\n",
       "                // console.log(\"Handling '\" + msg_type + \"' message: \", msg);\n",
       "                callback(fig, msg);\n",
       "            } catch (e) {\n",
       "                console.log(\"Exception inside the 'handler_\" + msg_type + \"' callback:\", e, e.stack, msg);\n",
       "            }\n",
       "        }\n",
       "    };\n",
       "}\n",
       "\n",
       "// from http://stackoverflow.com/questions/1114465/getting-mouse-location-in-canvas\n",
       "mpl.findpos = function(e) {\n",
       "    //this section is from http://www.quirksmode.org/js/events_properties.html\n",
       "    var targ;\n",
       "    if (!e)\n",
       "        e = window.event;\n",
       "    if (e.target)\n",
       "        targ = e.target;\n",
       "    else if (e.srcElement)\n",
       "        targ = e.srcElement;\n",
       "    if (targ.nodeType == 3) // defeat Safari bug\n",
       "        targ = targ.parentNode;\n",
       "\n",
       "    // jQuery normalizes the pageX and pageY\n",
       "    // pageX,Y are the mouse positions relative to the document\n",
       "    // offset() returns the position of the element relative to the document\n",
       "    var x = e.pageX - $(targ).offset().left;\n",
       "    var y = e.pageY - $(targ).offset().top;\n",
       "\n",
       "    return {\"x\": x, \"y\": y};\n",
       "};\n",
       "\n",
       "/*\n",
       " * return a copy of an object with only non-object keys\n",
       " * we need this to avoid circular references\n",
       " * http://stackoverflow.com/a/24161582/3208463\n",
       " */\n",
       "function simpleKeys (original) {\n",
       "  return Object.keys(original).reduce(function (obj, key) {\n",
       "    if (typeof original[key] !== 'object')\n",
       "        obj[key] = original[key]\n",
       "    return obj;\n",
       "  }, {});\n",
       "}\n",
       "\n",
       "mpl.figure.prototype.mouse_event = function(event, name) {\n",
       "    var canvas_pos = mpl.findpos(event)\n",
       "\n",
       "    if (name === 'button_press')\n",
       "    {\n",
       "        this.canvas.focus();\n",
       "        this.canvas_div.focus();\n",
       "    }\n",
       "\n",
       "    var x = canvas_pos.x * mpl.ratio;\n",
       "    var y = canvas_pos.y * mpl.ratio;\n",
       "\n",
       "    this.send_message(name, {x: x, y: y, button: event.button,\n",
       "                             step: event.step,\n",
       "                             guiEvent: simpleKeys(event)});\n",
       "\n",
       "    /* This prevents the web browser from automatically changing to\n",
       "     * the text insertion cursor when the button is pressed.  We want\n",
       "     * to control all of the cursor setting manually through the\n",
       "     * 'cursor' event from matplotlib */\n",
       "    event.preventDefault();\n",
       "    return false;\n",
       "}\n",
       "\n",
       "mpl.figure.prototype._key_event_extra = function(event, name) {\n",
       "    // Handle any extra behaviour associated with a key event\n",
       "}\n",
       "\n",
       "mpl.figure.prototype.key_event = function(event, name) {\n",
       "\n",
       "    // Prevent repeat events\n",
       "    if (name == 'key_press')\n",
       "    {\n",
       "        if (event.which === this._key)\n",
       "            return;\n",
       "        else\n",
       "            this._key = event.which;\n",
       "    }\n",
       "    if (name == 'key_release')\n",
       "        this._key = null;\n",
       "\n",
       "    var value = '';\n",
       "    if (event.ctrlKey && event.which != 17)\n",
       "        value += \"ctrl+\";\n",
       "    if (event.altKey && event.which != 18)\n",
       "        value += \"alt+\";\n",
       "    if (event.shiftKey && event.which != 16)\n",
       "        value += \"shift+\";\n",
       "\n",
       "    value += 'k';\n",
       "    value += event.which.toString();\n",
       "\n",
       "    this._key_event_extra(event, name);\n",
       "\n",
       "    this.send_message(name, {key: value,\n",
       "                             guiEvent: simpleKeys(event)});\n",
       "    return false;\n",
       "}\n",
       "\n",
       "mpl.figure.prototype.toolbar_button_onclick = function(name) {\n",
       "    if (name == 'download') {\n",
       "        this.handle_save(this, null);\n",
       "    } else {\n",
       "        this.send_message(\"toolbar_button\", {name: name});\n",
       "    }\n",
       "};\n",
       "\n",
       "mpl.figure.prototype.toolbar_button_onmouseover = function(tooltip) {\n",
       "    this.message.textContent = tooltip;\n",
       "};\n",
       "mpl.toolbar_items = [[\"Home\", \"Reset original view\", \"fa fa-home icon-home\", \"home\"], [\"Back\", \"Back to previous view\", \"fa fa-arrow-left icon-arrow-left\", \"back\"], [\"Forward\", \"Forward to next view\", \"fa fa-arrow-right icon-arrow-right\", \"forward\"], [\"\", \"\", \"\", \"\"], [\"Pan\", \"Pan axes with left mouse, zoom with right\", \"fa fa-arrows icon-move\", \"pan\"], [\"Zoom\", \"Zoom to rectangle\", \"fa fa-square-o icon-check-empty\", \"zoom\"], [\"\", \"\", \"\", \"\"], [\"Download\", \"Download plot\", \"fa fa-floppy-o icon-save\", \"download\"]];\n",
       "\n",
       "mpl.extensions = [\"eps\", \"pdf\", \"png\", \"ps\", \"raw\", \"svg\"];\n",
       "\n",
       "mpl.default_extension = \"png\";var comm_websocket_adapter = function(comm) {\n",
       "    // Create a \"websocket\"-like object which calls the given IPython comm\n",
       "    // object with the appropriate methods. Currently this is a non binary\n",
       "    // socket, so there is still some room for performance tuning.\n",
       "    var ws = {};\n",
       "\n",
       "    ws.close = function() {\n",
       "        comm.close()\n",
       "    };\n",
       "    ws.send = function(m) {\n",
       "        //console.log('sending', m);\n",
       "        comm.send(m);\n",
       "    };\n",
       "    // Register the callback with on_msg.\n",
       "    comm.on_msg(function(msg) {\n",
       "        //console.log('receiving', msg['content']['data'], msg);\n",
       "        // Pass the mpl event to the overridden (by mpl) onmessage function.\n",
       "        ws.onmessage(msg['content']['data'])\n",
       "    });\n",
       "    return ws;\n",
       "}\n",
       "\n",
       "mpl.mpl_figure_comm = function(comm, msg) {\n",
       "    // This is the function which gets called when the mpl process\n",
       "    // starts-up an IPython Comm through the \"matplotlib\" channel.\n",
       "\n",
       "    var id = msg.content.data.id;\n",
       "    // Get hold of the div created by the display call when the Comm\n",
       "    // socket was opened in Python.\n",
       "    var element = $(\"#\" + id);\n",
       "    var ws_proxy = comm_websocket_adapter(comm)\n",
       "\n",
       "    function ondownload(figure, format) {\n",
       "        window.open(figure.imageObj.src);\n",
       "    }\n",
       "\n",
       "    var fig = new mpl.figure(id, ws_proxy,\n",
       "                           ondownload,\n",
       "                           element.get(0));\n",
       "\n",
       "    // Call onopen now - mpl needs it, as it is assuming we've passed it a real\n",
       "    // web socket which is closed, not our websocket->open comm proxy.\n",
       "    ws_proxy.onopen();\n",
       "\n",
       "    fig.parent_element = element.get(0);\n",
       "    fig.cell_info = mpl.find_output_cell(\"<div id='\" + id + \"'></div>\");\n",
       "    if (!fig.cell_info) {\n",
       "        console.error(\"Failed to find cell for figure\", id, fig);\n",
       "        return;\n",
       "    }\n",
       "\n",
       "    var output_index = fig.cell_info[2]\n",
       "    var cell = fig.cell_info[0];\n",
       "\n",
       "};\n",
       "\n",
       "mpl.figure.prototype.handle_close = function(fig, msg) {\n",
       "    var width = fig.canvas.width/mpl.ratio\n",
       "    fig.root.unbind('remove')\n",
       "\n",
       "    // Update the output cell to use the data from the current canvas.\n",
       "    fig.push_to_output();\n",
       "    var dataURL = fig.canvas.toDataURL();\n",
       "    // Re-enable the keyboard manager in IPython - without this line, in FF,\n",
       "    // the notebook keyboard shortcuts fail.\n",
       "    IPython.keyboard_manager.enable()\n",
       "    $(fig.parent_element).html('<img src=\"' + dataURL + '\" width=\"' + width + '\">');\n",
       "    fig.close_ws(fig, msg);\n",
       "}\n",
       "\n",
       "mpl.figure.prototype.close_ws = function(fig, msg){\n",
       "    fig.send_message('closing', msg);\n",
       "    // fig.ws.close()\n",
       "}\n",
       "\n",
       "mpl.figure.prototype.push_to_output = function(remove_interactive) {\n",
       "    // Turn the data on the canvas into data in the output cell.\n",
       "    var width = this.canvas.width/mpl.ratio\n",
       "    var dataURL = this.canvas.toDataURL();\n",
       "    this.cell_info[1]['text/html'] = '<img src=\"' + dataURL + '\" width=\"' + width + '\">';\n",
       "}\n",
       "\n",
       "mpl.figure.prototype.updated_canvas_event = function() {\n",
       "    // Tell IPython that the notebook contents must change.\n",
       "    IPython.notebook.set_dirty(true);\n",
       "    this.send_message(\"ack\", {});\n",
       "    var fig = this;\n",
       "    // Wait a second, then push the new image to the DOM so\n",
       "    // that it is saved nicely (might be nice to debounce this).\n",
       "    setTimeout(function () { fig.push_to_output() }, 1000);\n",
       "}\n",
       "\n",
       "mpl.figure.prototype._init_toolbar = function() {\n",
       "    var fig = this;\n",
       "\n",
       "    var nav_element = $('<div/>');\n",
       "    nav_element.attr('style', 'width: 100%');\n",
       "    this.root.append(nav_element);\n",
       "\n",
       "    // Define a callback function for later on.\n",
       "    function toolbar_event(event) {\n",
       "        return fig.toolbar_button_onclick(event['data']);\n",
       "    }\n",
       "    function toolbar_mouse_event(event) {\n",
       "        return fig.toolbar_button_onmouseover(event['data']);\n",
       "    }\n",
       "\n",
       "    for(var toolbar_ind in mpl.toolbar_items){\n",
       "        var name = mpl.toolbar_items[toolbar_ind][0];\n",
       "        var tooltip = mpl.toolbar_items[toolbar_ind][1];\n",
       "        var image = mpl.toolbar_items[toolbar_ind][2];\n",
       "        var method_name = mpl.toolbar_items[toolbar_ind][3];\n",
       "\n",
       "        if (!name) { continue; };\n",
       "\n",
       "        var button = $('<button class=\"btn btn-default\" href=\"#\" title=\"' + name + '\"><i class=\"fa ' + image + ' fa-lg\"></i></button>');\n",
       "        button.click(method_name, toolbar_event);\n",
       "        button.mouseover(tooltip, toolbar_mouse_event);\n",
       "        nav_element.append(button);\n",
       "    }\n",
       "\n",
       "    // Add the status bar.\n",
       "    var status_bar = $('<span class=\"mpl-message\" style=\"text-align:right; float: right;\"/>');\n",
       "    nav_element.append(status_bar);\n",
       "    this.message = status_bar[0];\n",
       "\n",
       "    // Add the close button to the window.\n",
       "    var buttongrp = $('<div class=\"btn-group inline pull-right\"></div>');\n",
       "    var button = $('<button class=\"btn btn-mini btn-primary\" href=\"#\" title=\"Stop Interaction\"><i class=\"fa fa-power-off icon-remove icon-large\"></i></button>');\n",
       "    button.click(function (evt) { fig.handle_close(fig, {}); } );\n",
       "    button.mouseover('Stop Interaction', toolbar_mouse_event);\n",
       "    buttongrp.append(button);\n",
       "    var titlebar = this.root.find($('.ui-dialog-titlebar'));\n",
       "    titlebar.prepend(buttongrp);\n",
       "}\n",
       "\n",
       "mpl.figure.prototype._root_extra_style = function(el){\n",
       "    var fig = this\n",
       "    el.on(\"remove\", function(){\n",
       "\tfig.close_ws(fig, {});\n",
       "    });\n",
       "}\n",
       "\n",
       "mpl.figure.prototype._canvas_extra_style = function(el){\n",
       "    // this is important to make the div 'focusable\n",
       "    el.attr('tabindex', 0)\n",
       "    // reach out to IPython and tell the keyboard manager to turn it's self\n",
       "    // off when our div gets focus\n",
       "\n",
       "    // location in version 3\n",
       "    if (IPython.notebook.keyboard_manager) {\n",
       "        IPython.notebook.keyboard_manager.register_events(el);\n",
       "    }\n",
       "    else {\n",
       "        // location in version 2\n",
       "        IPython.keyboard_manager.register_events(el);\n",
       "    }\n",
       "\n",
       "}\n",
       "\n",
       "mpl.figure.prototype._key_event_extra = function(event, name) {\n",
       "    var manager = IPython.notebook.keyboard_manager;\n",
       "    if (!manager)\n",
       "        manager = IPython.keyboard_manager;\n",
       "\n",
       "    // Check for shift+enter\n",
       "    if (event.shiftKey && event.which == 13) {\n",
       "        this.canvas_div.blur();\n",
       "        // select the cell after this one\n",
       "        var index = IPython.notebook.find_cell_index(this.cell_info[0]);\n",
       "        IPython.notebook.select(index + 1);\n",
       "    }\n",
       "}\n",
       "\n",
       "mpl.figure.prototype.handle_save = function(fig, msg) {\n",
       "    fig.ondownload(fig, null);\n",
       "}\n",
       "\n",
       "\n",
       "mpl.find_output_cell = function(html_output) {\n",
       "    // Return the cell and output element which can be found *uniquely* in the notebook.\n",
       "    // Note - this is a bit hacky, but it is done because the \"notebook_saving.Notebook\"\n",
       "    // IPython event is triggered only after the cells have been serialised, which for\n",
       "    // our purposes (turning an active figure into a static one), is too late.\n",
       "    var cells = IPython.notebook.get_cells();\n",
       "    var ncells = cells.length;\n",
       "    for (var i=0; i<ncells; i++) {\n",
       "        var cell = cells[i];\n",
       "        if (cell.cell_type === 'code'){\n",
       "            for (var j=0; j<cell.output_area.outputs.length; j++) {\n",
       "                var data = cell.output_area.outputs[j];\n",
       "                if (data.data) {\n",
       "                    // IPython >= 3 moved mimebundle to data attribute of output\n",
       "                    data = data.data;\n",
       "                }\n",
       "                if (data['text/html'] == html_output) {\n",
       "                    return [cell, data, j];\n",
       "                }\n",
       "            }\n",
       "        }\n",
       "    }\n",
       "}\n",
       "\n",
       "// Register the function which deals with the matplotlib target/channel.\n",
       "// The kernel may be null if the page has been refreshed.\n",
       "if (IPython.notebook.kernel != null) {\n",
       "    IPython.notebook.kernel.comm_manager.register_target('matplotlib', mpl.mpl_figure_comm);\n",
       "}\n"
      ],
      "text/plain": [
       "<IPython.core.display.Javascript object>"
      ]
     },
     "metadata": {},
     "output_type": "display_data"
    },
    {
     "data": {
      "text/html": [
       "<img src=\"data:image/png;base64,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\" width=\"400\">"
      ],
      "text/plain": [
       "<IPython.core.display.HTML object>"
      ]
     },
     "metadata": {},
     "output_type": "display_data"
    }
   ],
   "source": [
    "nd_C = NumericDiff(gradn, lambda gradh: gradh.C).derivative.reshape((natm, 3, nao, nao))\n",
    "nd_U_1_vo = np.einsum(\"mu, Atup -> Atmp\", np.linalg.inv(C), nd_C)[:, :, sv, so]\n",
    "fig, ax = plt.subplots(figsize=(4, 3)); ax.set_xscale(\"log\")\n",
    "ax.hist(abs(U_1_vo.ravel() - nd_U_1_vo.ravel()), bins=np.logspace(np.log10(1e-9), np.log10(1e-1), 50), alpha=0.5)\n",
    "ax.hist(abs(nd_U_1_vo.ravel()), bins=np.logspace(np.log10(1e-9), np.log10(1e-1), 50), alpha=0.5)\n",
    "fig.tight_layout()"
   ]
  },
  {
   "cell_type": "markdown",
   "metadata": {
    "hidden": true
   },
   "source": [
    "尽管在求解 B2PLYP 型泛函时，我们不一定要使用 U 矩阵；但上面的过程可以确认 CP-HF 方程可以在 GGA 下用程序实现，进而使用 Z-Vector 方法，求解双杂化泛函下的弛豫密度的非占-占据分块 $D_{ai}^\\mathrm{PT2}$。"
   ]
  },
  {
   "cell_type": "markdown",
   "metadata": {},
   "source": [
    "## B2PLYP 型泛函核坐标梯度"
   ]
  },
  {
   "cell_type": "markdown",
   "metadata": {},
   "source": [
    "这里我们就几乎是再回顾一遍 MP2 核坐标梯度流程了。尽管 B2PLYP 型泛函在一些变量上定义与 MP2 较之略有区别，但大体上是相通的。"
   ]
  },
  {
   "cell_type": "markdown",
   "metadata": {
    "heading_collapsed": true
   },
   "source": [
    "### PT2 相关能"
   ]
  },
  {
   "cell_type": "markdown",
   "metadata": {
    "hidden": true
   },
   "source": [
    "B2PLYP 型泛函的能量分为自洽场部分 (SCF) 与二阶微扰部分 (PT2)，其中 PT2 部分定义如下："
   ]
  },
  {
   "cell_type": "markdown",
   "metadata": {
    "hidden": true
   },
   "source": [
    "$$\n",
    "\\begin{align}\n",
    "E_\\mathrm{PT2} &= T_{ij}^{ab} t_{ij}^{ab} D_{ij}^{ab} \\\\\n",
    "T_{ij}^{ab} &= c_\\mathrm{c} (2 t_{ij}^{ab} - t_{ij}^{ba}) \\\\\n",
    "t_{ij}^{ab} &= (ia|jb) / D_{ij}^{ab} \\\\\n",
    "D_{ij}^{ab} &= \\varepsilon_i - \\varepsilon_a + \\varepsilon_j - \\varepsilon_b\n",
    "\\end{align}\n",
    "$$"
   ]
  },
  {
   "cell_type": "markdown",
   "metadata": {
    "hidden": true
   },
   "source": [
    "除了在 $T_{ij}^{ab}$ 处引入了相关系数 $c_\\mathrm{c}$ 之外，就与 MP2 近乎没有区别了。在 B2PLYP 中，该系数大小为 0.27。"
   ]
  },
  {
   "cell_type": "code",
   "execution_count": 25,
   "metadata": {
    "hidden": true
   },
   "outputs": [],
   "source": [
    "T_iajb, t_iajb, D_iajb = gradh.T_iajb, gradh.t_iajb, gradh.D_iajb"
   ]
  },
  {
   "cell_type": "code",
   "execution_count": 26,
   "metadata": {
    "hidden": true
   },
   "outputs": [
    {
     "data": {
      "text/plain": [
       "True"
      ]
     },
     "execution_count": 26,
     "metadata": {},
     "output_type": "execute_result"
    }
   ],
   "source": [
    "np.allclose(cc * 2 * t_iajb - cc * t_iajb.swapaxes(-1, -3), T_iajb)"
   ]
  },
  {
   "cell_type": "markdown",
   "metadata": {
    "hidden": true
   },
   "source": [
    "我们不妨再验证一下 B2PLYP 总能量的计算。\n",
    "\n",
    "$$\n",
    "E_\\mathrm{tot} = E_\\mathrm{nuc} + E_\\mathrm{SCF} + E_\\mathrm{PT2}\n",
    "$$"
   ]
  },
  {
   "cell_type": "code",
   "execution_count": 27,
   "metadata": {
    "hidden": true
   },
   "outputs": [
    {
     "data": {
      "text/plain": [
       "-151.08476052625593"
      ]
     },
     "execution_count": 27,
     "metadata": {},
     "output_type": "execute_result"
    }
   ],
   "source": [
    "gradh.scf_eng.energy_nuc() + gradh.scf_eng.energy_elec()[0] + (T_iajb * t_iajb * D_iajb).sum()"
   ]
  },
  {
   "cell_type": "markdown",
   "metadata": {
    "hidden": true
   },
   "source": [
    "pyxdh 所直接给出的 B2PLYP 总能量则为："
   ]
  },
  {
   "cell_type": "code",
   "execution_count": 28,
   "metadata": {
    "hidden": true
   },
   "outputs": [
    {
     "data": {
      "text/plain": [
       "-151.08476052625593"
      ]
     },
     "execution_count": 28,
     "metadata": {},
     "output_type": "execute_result"
    }
   ],
   "source": [
    "gradh.eng"
   ]
  },
  {
   "cell_type": "markdown",
   "metadata": {
    "heading_collapsed": true
   },
   "source": [
    "### PT2 能量梯度"
   ]
  },
  {
   "cell_type": "markdown",
   "metadata": {
    "hidden": true
   },
   "source": [
    "如 MP2 一样，PT2 能量梯度也一样能写为\n",
    "\n",
    "$$\n",
    "\\partial_{A_t} E_\\mathrm{PT2} = D_{pq}^\\mathrm{PT2} B_{pq}^{A_t} + W_{pq}^\\mathrm{PT2} [\\mathrm{I}] S_{pq}^{A_t} + 2 T_{ij}^{ab} (ia|jb)^{A_t}\n",
    "$$"
   ]
  },
  {
   "cell_type": "markdown",
   "metadata": {
    "hidden": true
   },
   "source": [
    "其中，弛豫密度 $D_{pq}^\\text{PT2}$ 定义仍然是\n",
    "\n",
    "$$\n",
    "\\begin{aligned}\n",
    "D_{ij}^\\text{PT2} &= - 2 T_{ik}^{ab} t_{jk}^{ab} \\\\\n",
    "D_{ab}^\\text{PT2} &= 2 T_{ij}^{ac} t_{ij}^{bc} \\\\\n",
    "- (\\varepsilon_a - \\varepsilon_i) D_{ai}^\\mathrm{PT2} - A_{ai, bj} D_{bj}^\\mathrm{PT2} &= L_{ai} \\\\\n",
    "D_{ia}^\\mathrm{PT2} &= 0\n",
    "\\end{aligned}\n",
    "$$"
   ]
  },
  {
   "cell_type": "markdown",
   "metadata": {
    "hidden": true
   },
   "source": [
    "其中，\n",
    "\n",
    "$$\n",
    "\\begin{align}\n",
    "L_{ai} &= A_{ai, kl} D_{kl}^\\mathrm{PT2} + A_{ai, bc} D_{bc}^\\mathrm{PT2} - 4 T_{jk}^{ab} (ij|bk) + 4 T_{ij}^{bc} (ab|jc)\n",
    "\\end{align}\n",
    "$$"
   ]
  },
  {
   "cell_type": "code",
   "execution_count": 29,
   "metadata": {
    "hidden": true
   },
   "outputs": [],
   "source": [
    "D_r = np.zeros((nmo, nmo))\n",
    "D_r[so, so] = - 2 * np.einsum(\"iakb, jakb -> ij\", T_iajb, t_iajb)\n",
    "D_r[sv, sv] = 2 * np.einsum(\"iajc, ibjc -> ab\", T_iajb, t_iajb)\n",
    "L = (\n",
    "    + gradh.Ax0_Core(sv, so, sa, sa)(D_r)\n",
    "    - 4 * np.einsum(\"jakb, ijbk -> ai\", T_iajb, eri0_mo[so, so, sv, so])\n",
    "    + 4 * np.einsum(\"ibjc, abjc -> ai\", T_iajb, eri0_mo[sv, sv, so, sv])\n",
    ")\n",
    "D_r[sv, so] = cphf.solve(gradh.Ax0_Core(sv, so, sv, so), e, gradh.mo_occ, L, max_cycle=100)[0]"
   ]
  },
  {
   "cell_type": "code",
   "execution_count": 30,
   "metadata": {
    "hidden": true
   },
   "outputs": [
    {
     "data": {
      "text/plain": [
       "True"
      ]
     },
     "execution_count": 30,
     "metadata": {},
     "output_type": "execute_result"
    }
   ],
   "source": [
    "np.allclose(D_r, gradh.D_r)"
   ]
  },
  {
   "cell_type": "markdown",
   "metadata": {
    "hidden": true
   },
   "source": [
    "以及 $W_{pq}^\\mathrm{PT2} [\\mathrm{I}]$ 定义仍然是\n",
    "\n",
    "$$\n",
    "\\begin{align}\n",
    "W_{ij}^\\mathrm{PT2} [\\mathrm{I}] &= - 2 T_{ik}^{ab} (ja|kb) \\\\\n",
    "W_{ab}^\\mathrm{PT2} [\\mathrm{I}] &= - 2 T_{ij}^{ac} (ib|jc) \\\\\n",
    "W_{ai}^\\mathrm{PT2} [\\mathrm{I}] &= - 4 T_{jk}^{ab} (ij|bk) \\\\\n",
    "W_{ia}^\\mathrm{PT2} [\\mathrm{I}] &= 0\n",
    "\\end{align}\n",
    "$$"
   ]
  },
  {
   "cell_type": "code",
   "execution_count": 31,
   "metadata": {
    "hidden": true
   },
   "outputs": [],
   "source": [
    "W_I = np.zeros((nmo, nmo))\n",
    "W_I = np.zeros((nmo, nmo))\n",
    "W_I[so, so] = - 2 * np.einsum(\"iakb, jakb -> ij\", T_iajb, eri0_mo[so, sv, so, sv])\n",
    "W_I[sv, sv] = - 2 * np.einsum(\"iajc, ibjc -> ab\", T_iajb, eri0_mo[so, sv, so, sv])\n",
    "W_I[sv, so] = - 4 * np.einsum(\"jakb, ijbk -> ai\", T_iajb, eri0_mo[so, so, sv, so])"
   ]
  },
  {
   "cell_type": "code",
   "execution_count": 32,
   "metadata": {
    "hidden": true
   },
   "outputs": [
    {
     "data": {
      "text/plain": [
       "True"
      ]
     },
     "execution_count": 32,
     "metadata": {},
     "output_type": "execute_result"
    }
   ],
   "source": [
    "np.allclose(W_I, gradh.W_I)"
   ]
  },
  {
   "cell_type": "markdown",
   "metadata": {
    "hidden": true
   },
   "source": [
    "因此，总 PT2 能量的导数可以生成如下："
   ]
  },
  {
   "cell_type": "code",
   "execution_count": 33,
   "metadata": {
    "hidden": true
   },
   "outputs": [
    {
     "data": {
      "text/plain": [
       "array([[ 0.01745, -0.00125,  0.02314],\n",
       "       [-0.00084,  0.01167, -0.02499],\n",
       "       [-0.01619, -0.0002 , -0.00126],\n",
       "       [-0.00042, -0.01022,  0.00311]])"
      ]
     },
     "execution_count": 33,
     "metadata": {},
     "output_type": "execute_result"
    }
   ],
   "source": [
    "E_1_MP2_contrib = (\n",
    "    + np.einsum(\"pq, Atpq -> At\", D_r, B_1)\n",
    "    + np.einsum(\"pq, Atpq -> At\", W_I, S_1_mo)\n",
    "    + 2 * np.einsum(\"iajb, Atiajb -> At\", T_iajb, eri1_mo[:, :, so, sv, so, sv])\n",
    ")\n",
    "E_1_MP2_contrib"
   ]
  },
  {
   "cell_type": "markdown",
   "metadata": {
    "hidden": true
   },
   "source": [
    "而自洽场总能量导数可以使用父类 `GradSCF` 的函数生成："
   ]
  },
  {
   "cell_type": "code",
   "execution_count": 34,
   "metadata": {
    "hidden": true
   },
   "outputs": [
    {
     "data": {
      "text/plain": [
       "array([[-0.1241 ,  0.01533, -0.00701],\n",
       "       [ 0.01166,  0.73405,  0.0282 ],\n",
       "       [ 0.10621,  0.00291,  0.01789],\n",
       "       [ 0.00624, -0.75229, -0.03908]])"
      ]
     },
     "execution_count": 34,
     "metadata": {},
     "output_type": "execute_result"
    }
   ],
   "source": [
    "E_1_SCF_contrib = GradSCF._get_E_1(gradh)\n",
    "E_1_SCF_contrib"
   ]
  },
  {
   "cell_type": "markdown",
   "metadata": {
    "hidden": true
   },
   "source": [
    "总的能量梯度则表示如下："
   ]
  },
  {
   "cell_type": "code",
   "execution_count": 35,
   "metadata": {
    "hidden": true
   },
   "outputs": [
    {
     "data": {
      "text/plain": [
       "array([[-0.10665,  0.01408,  0.01613],\n",
       "       [ 0.01082,  0.74572,  0.00321],\n",
       "       [ 0.09002,  0.00271,  0.01663],\n",
       "       [ 0.00581, -0.76251, -0.03598]])"
      ]
     },
     "execution_count": 35,
     "metadata": {},
     "output_type": "execute_result"
    }
   ],
   "source": [
    "E_1_SCF_contrib + E_1_MP2_contrib"
   ]
  },
  {
   "cell_type": "markdown",
   "metadata": {
    "hidden": true
   },
   "source": [
    "在 pyxdh 中，`E_1` 可以用来生成总能量梯度："
   ]
  },
  {
   "cell_type": "code",
   "execution_count": 36,
   "metadata": {
    "hidden": true
   },
   "outputs": [
    {
     "data": {
      "text/plain": [
       "array([[-0.10665,  0.01408,  0.01613],\n",
       "       [ 0.01082,  0.74572,  0.00321],\n",
       "       [ 0.09002,  0.00271,  0.01663],\n",
       "       [ 0.00581, -0.76251, -0.03598]])"
      ]
     },
     "execution_count": 36,
     "metadata": {},
     "output_type": "execute_result"
    }
   ],
   "source": [
    "gradh.E_1"
   ]
  },
  {
   "cell_type": "markdown",
   "metadata": {
    "hidden": true
   },
   "source": [
    "我们也可以使用数值导数的方法生成总能量梯度："
   ]
  },
  {
   "cell_type": "code",
   "execution_count": 37,
   "metadata": {
    "hidden": true
   },
   "outputs": [
    {
     "data": {
      "text/plain": [
       "array([[-0.10665,  0.01408,  0.01613],\n",
       "       [ 0.01082,  0.74572,  0.00321],\n",
       "       [ 0.09002,  0.00271,  0.01663],\n",
       "       [ 0.00581, -0.76251, -0.03597]])"
      ]
     },
     "execution_count": 37,
     "metadata": {},
     "output_type": "execute_result"
    }
   ],
   "source": [
    "nd_E_0 = NumericDiff(gradn, lambda gradh: gradh.eng).derivative\n",
    "nd_E_0.reshape(natm, 3)"
   ]
  },
  {
   "cell_type": "code",
   "execution_count": 38,
   "metadata": {
    "hidden": true
   },
   "outputs": [
    {
     "data": {
      "text/plain": [
       "True"
      ]
     },
     "execution_count": 38,
     "metadata": {},
     "output_type": "execute_result"
    }
   ],
   "source": [
    "np.allclose(E_1_SCF_contrib + E_1_MP2_contrib, nd_E_0.reshape(natm, 3))"
   ]
  },
  {
   "cell_type": "markdown",
   "metadata": {},
   "source": [
    "## 演示任务：A 张量 GGA 贡献部分的缩并效率"
   ]
  },
  {
   "cell_type": "markdown",
   "metadata": {},
   "source": [
    "在这里，我们统一处理的是 $A_{ai, bj}^\\mathrm{GGA} X_{bj}^\\mathbb{A}$ 问题 (作为结果的张量是 $(\\mathbb{A}, a, i)$ 维度的)，其中 $\\mathbb{A}$ 代表的维度数量是 5。"
   ]
  },
  {
   "cell_type": "code",
   "execution_count": 39,
   "metadata": {},
   "outputs": [],
   "source": [
    "X = np.random.randn(5, nvir, nocc)"
   ]
  },
  {
   "cell_type": "markdown",
   "metadata": {},
   "source": [
    "### 原子轨道下 A 张量的缩并"
   ]
  },
  {
   "cell_type": "markdown",
   "metadata": {},
   "source": [
    "我们先回顾一下原子轨道下的缩并情况：\n",
    "\n",
    "$$\n",
    "\\begin{align}\n",
    "A_{\\mu \\nu, \\kappa \\lambda} \\xleftarrow{\\text{GGA contrib}} A_{\\mu \\nu, \\kappa \\lambda}^\\text{GGA}\n",
    "&= f_{\\rho \\rho} \\phi_\\kappa \\phi_\\lambda \\phi_\\mu \\phi_\\nu + 4 f_{\\rho \\gamma} \\rho_r \\phi_{r \\kappa} \\phi_\\lambda \\phi_\\mu \\phi_\\nu \\\\\n",
    "& + 4 f_{\\rho \\gamma} \\phi_\\kappa \\phi_\\lambda \\rho_r \\phi_{r \\mu} \\phi_{\\nu} + 16 f_{\\gamma \\gamma} \\rho_w \\phi_{w \\kappa} \\phi_\\lambda \\rho_r \\phi_{r \\mu} \\phi_{\\nu} \\\\\n",
    "& + 8 f_\\gamma \\phi_{r \\kappa} \\phi_\\lambda \\phi_{r \\mu} \\phi_{\\nu} \\\\\n",
    "& + \\mathrm{swap} (\\mu, \\nu) + \\mathrm{swap} (\\kappa, \\lambda)\n",
    "\\end{align}\n",
    "$$"
   ]
  },
  {
   "cell_type": "markdown",
   "metadata": {},
   "source": [
    "如果我们要求 $A_{ai, bj}^\\mathrm{GGA} X_{bj}^\\mathbb{A}$，那么我们还要经过一次张量缩并：\n",
    "\n",
    "$$\n",
    "A_{ai, bj}^\\mathrm{GGA} X_{bj}^\\mathbb{A} = C_{\\mu a} C_{\\nu i} A_{\\mu \\nu, \\kappa \\lambda}^\\text{GGA} C_{\\kappa b} X_{bj}^\\mathbb{A} C_{\\lambda j}\n",
    "$$"
   ]
  },
  {
   "cell_type": "markdown",
   "metadata": {},
   "source": [
    "这样一个过程相当花时间，因此我们只进行一次运行输出时间信息："
   ]
  },
  {
   "cell_type": "code",
   "execution_count": 40,
   "metadata": {
    "scrolled": true
   },
   "outputs": [
    {
     "name": "stdout",
     "output_type": "stream",
     "text": [
      "CPU times: user 7.31 s, sys: 3.7 s, total: 11 s\n",
      "Wall time: 11.1 s\n"
     ]
    }
   ],
   "source": [
    "%%time\n",
    "A_0_ao_GGA = (\n",
    "    +      np.einsum(\"g, gk, gl, gu, gv -> uvkl\"          , frr, ao_0, ao_0, ao_0, ao_0)\n",
    "    + 4  * np.einsum(\"g, rg, rgk, gl, gu, gv -> uvkl\"     , frg, rho_1, ao_1, ao_0, ao_0, ao_0)\n",
    "    + 4  * np.einsum(\"g, gk, gl, rg, rgu, gv -> uvkl\"     , frg, ao_0, ao_0, rho_1, ao_1, ao_0)\n",
    "    + 16 * np.einsum(\"g, wg, wgk, gl, rg, rgu, gv -> uvkl\", fgg, rho_1, ao_1, ao_0, rho_1, ao_1, ao_0)\n",
    "    + 8  * np.einsum(\"g, rgk, gl, rgu, gv -> uvkl\"        , fg, ao_1, ao_0, ao_1, ao_0)\n",
    ")\n",
    "A_0_ao_GGA += A_0_ao_GGA.swapaxes(-1, -2)\n",
    "A_0_ao_GGA += A_0_ao_GGA.swapaxes(-3, -4)\n",
    "Ax_GGA = np.einsum(\"ua, vi, uvkl, kb, Abj, lj -> Aai\", Cv, Co, A_0_ao_GGA, Cv, X, Co)"
   ]
  },
  {
   "cell_type": "markdown",
   "metadata": {},
   "source": [
    "我们来看一下为何需要消耗这么长时间。我们不妨先定义一个函数 `get_FLOP`，它能导出 np.einsum 在足够内存下会选用的张量缩并路径下，所预期的数值运算次数："
   ]
  },
  {
   "cell_type": "code",
   "execution_count": 41,
   "metadata": {},
   "outputs": [],
   "source": [
    "def get_FLOP(*args):\n",
    "    return float(np.einsum_path(*args)[1].split(\"\\n\")[4].split(\":\")[1])"
   ]
  },
  {
   "cell_type": "markdown",
   "metadata": {},
   "source": [
    "譬如说，对于 $f_{\\rho \\rho} \\phi_\\kappa \\phi_\\lambda \\phi_\\mu \\phi_\\nu$ 的缩并，np.einsum 预期会执行大约 4.254e+10 次的运算："
   ]
  },
  {
   "cell_type": "code",
   "execution_count": 42,
   "metadata": {},
   "outputs": [
    {
     "data": {
      "text/plain": [
       "42540000000.0"
      ]
     },
     "execution_count": 42,
     "metadata": {},
     "output_type": "execute_result"
    }
   ],
   "source": [
    "get_FLOP(\"g, gk, gl, gu, gv -> uvkl\", frr, ao_0, ao_0, ao_0, ao_0)"
   ]
  },
  {
   "cell_type": "markdown",
   "metadata": {},
   "source": [
    "因此，上述张量缩并总共需要大约 2.130e+11 次的数值运算。"
   ]
  },
  {
   "cell_type": "code",
   "execution_count": 43,
   "metadata": {
    "scrolled": true
   },
   "outputs": [
    {
     "data": {
      "text/plain": [
       "212967700000.0"
      ]
     },
     "execution_count": 43,
     "metadata": {},
     "output_type": "execute_result"
    }
   ],
   "source": [
    "(\n",
    "    + get_FLOP(\"g, gk, gl, gu, gv -> uvkl\", frr, ao_0, ao_0, ao_0, ao_0)\n",
    "    + get_FLOP(\"g, rg, rgk, gl, gu, gv -> uvkl\", frg, rho_1, ao_1, ao_0, ao_0, ao_0)\n",
    "    + get_FLOP(\"g, gk, gl, rg, rgu, gv -> uvkl\", frg, ao_0, ao_0, rho_1, ao_1, ao_0)\n",
    "    + get_FLOP(\"g, wg, wgk, gl, rg, rgu, gv -> uvkl\", fgg, rho_1, ao_1, ao_0, rho_1, ao_1, ao_0)\n",
    "    + get_FLOP(\"g, rgk, gl, rgu, gv -> uvkl\", fg, ao_1, ao_0, ao_1, ao_0)\n",
    "    + get_FLOP(\"ua, vi, uvkl, kb, Abj, lj -> Aai\", Cv, Co, A_0_ao_GGA, Cv, X, Co)\n",
    ")"
   ]
  },
  {
   "cell_type": "markdown",
   "metadata": {},
   "source": [
    "### 完整的缩并"
   ]
  },
  {
   "cell_type": "markdown",
   "metadata": {},
   "source": [
    "刚才我们是先求出了 $A_{\\mu \\nu, \\kappa \\lambda}^\\mathrm{GGA}$ 以进行缩并计算；但注意到我们的目标是 $A_{ai, bj}^\\mathrm{GGA} X_{bj}^\\mathbb{A}$，因此不妨将剩余的项都一起缩并，即\n",
    "\n",
    "$$\n",
    "\\begin{align}\n",
    "A_{ai, bj}^\\mathrm{GGA} X_{bj}^\\mathbb{A}\n",
    "&=\\quad C_{\\mu a} C_{\\nu i} C_{\\kappa b} X_{bj}^\\mathbb{A} C_{\\lambda j}\n",
    "\\cdot f_{\\rho \\rho} \\phi_\\kappa \\phi_\\lambda \\phi_\\mu \\phi_\\nu \\\\\n",
    "&\\quad + C_{\\mu a} C_{\\nu i} C_{\\kappa b} X_{bj}^\\mathbb{A} C_{\\lambda j}\n",
    "\\cdot 4 f_{\\rho \\gamma} \\rho_r \\phi_{r \\kappa} \\phi_\\lambda \\phi_\\mu \\phi_\\nu \\\\\n",
    "&\\quad + C_{\\mu a} C_{\\nu i} C_{\\kappa b} X_{bj}^\\mathbb{A} C_{\\lambda j}\n",
    "\\cdot 4 f_{\\rho \\gamma} \\phi_\\kappa \\phi_\\lambda \\rho_r \\phi_{r \\mu} \\phi_{\\nu} \\\\\n",
    "&\\quad + C_{\\mu a} C_{\\nu i} C_{\\kappa b} X_{bj}^\\mathbb{A} C_{\\lambda j}\n",
    "\\cdot 16 f_{\\gamma \\gamma} \\rho_w \\phi_{w \\kappa} \\phi_\\lambda \\rho_r \\phi_{r \\mu} \\phi_{\\nu} \\\\\n",
    "&\\quad + C_{\\mu a} C_{\\nu i} C_{\\kappa b} X_{bj}^\\mathbb{A} C_{\\lambda j}\n",
    "\\cdot 8 f_\\gamma \\phi_{r \\kappa} \\phi_\\lambda \\phi_{r \\mu} \\phi_{\\nu} \\\\\n",
    "&\\quad + \\ldots\n",
    "\\end{align}\n",
    "$$"
   ]
  },
  {
   "cell_type": "markdown",
   "metadata": {},
   "source": [
    "其中，省略号表示的是各种依靠角标对称性进行的计算。程序表达如下："
   ]
  },
  {
   "cell_type": "code",
   "execution_count": 44,
   "metadata": {
    "scrolled": true
   },
   "outputs": [
    {
     "name": "stdout",
     "output_type": "stream",
     "text": [
      "True\n",
      "CPU times: user 1.77 s, sys: 516 ms, total: 2.28 s\n",
      "Wall time: 2.41 s\n"
     ]
    }
   ],
   "source": [
    "%%time\n",
    "Ax_GGA_complicated = (\n",
    "    +      np.einsum(\"ua, vi, kb, Abj, lj, g,      gk, gl,      gu, gv -> Aai\", Cv, Co, Cv, X, Co, frr, ao_0, ao_0, ao_0, ao_0)\n",
    "    + 4  * np.einsum(\"ua, vi, kb, Abj, lj, g, rg, rgk, gl,      gu, gv -> Aai\", Cv, Co, Cv, X, Co, frg, rho_1, ao_1, ao_0, ao_0, ao_0)\n",
    "    + 4  * np.einsum(\"ua, vi, kb, Abj, lj, g,      gk, gl, rg, rgu, gv -> Aai\", Cv, Co, Cv, X, Co, frg, ao_0, ao_0, rho_1, ao_1, ao_0)\n",
    "    + 16 * np.einsum(\"ua, vi, kb, Abj, lj, g, wg, wgk, gl, rg, rgu, gv -> Aai\", Cv, Co, Cv, X, Co, fgg, rho_1, ao_1, ao_0, rho_1, ao_1, ao_0)\n",
    "    + 8  * np.einsum(\"ua, vi, kb, Abj, lj, g,     rgk, gl,     rgu, gv -> Aai\", Cv, Co, Cv, X, Co, fg, ao_1, ao_0, ao_1, ao_0)\n",
    "    +      np.einsum(\"va, ui, kb, Abj, lj, g,      gk, gl,      gu, gv -> Aai\", Cv, Co, Cv, X, Co, frr, ao_0, ao_0, ao_0, ao_0)\n",
    "    + 4  * np.einsum(\"va, ui, kb, Abj, lj, g, rg, rgk, gl,      gu, gv -> Aai\", Cv, Co, Cv, X, Co, frg, rho_1, ao_1, ao_0, ao_0, ao_0)\n",
    "    + 4  * np.einsum(\"va, ui, kb, Abj, lj, g,      gk, gl, rg, rgu, gv -> Aai\", Cv, Co, Cv, X, Co, frg, ao_0, ao_0, rho_1, ao_1, ao_0)\n",
    "    + 16 * np.einsum(\"va, ui, kb, Abj, lj, g, wg, wgk, gl, rg, rgu, gv -> Aai\", Cv, Co, Cv, X, Co, fgg, rho_1, ao_1, ao_0, rho_1, ao_1, ao_0)\n",
    "    + 8  * np.einsum(\"va, ui, kb, Abj, lj, g,     rgk, gl,     rgu, gv -> Aai\", Cv, Co, Cv, X, Co, fg, ao_1, ao_0, ao_1, ao_0)\n",
    "    +      np.einsum(\"ua, vi, lb, Abj, kj, g,      gk, gl,      gu, gv -> Aai\", Cv, Co, Cv, X, Co, frr, ao_0, ao_0, ao_0, ao_0)\n",
    "    + 4  * np.einsum(\"ua, vi, lb, Abj, kj, g, rg, rgk, gl,      gu, gv -> Aai\", Cv, Co, Cv, X, Co, frg, rho_1, ao_1, ao_0, ao_0, ao_0)\n",
    "    + 4  * np.einsum(\"ua, vi, lb, Abj, kj, g,      gk, gl, rg, rgu, gv -> Aai\", Cv, Co, Cv, X, Co, frg, ao_0, ao_0, rho_1, ao_1, ao_0)\n",
    "    + 16 * np.einsum(\"ua, vi, lb, Abj, kj, g, wg, wgk, gl, rg, rgu, gv -> Aai\", Cv, Co, Cv, X, Co, fgg, rho_1, ao_1, ao_0, rho_1, ao_1, ao_0)\n",
    "    + 8  * np.einsum(\"ua, vi, lb, Abj, kj, g,     rgk, gl,     rgu, gv -> Aai\", Cv, Co, Cv, X, Co, fg, ao_1, ao_0, ao_1, ao_0)\n",
    "    +      np.einsum(\"va, ui, lb, Abj, kj, g,      gk, gl,      gu, gv -> Aai\", Cv, Co, Cv, X, Co, frr, ao_0, ao_0, ao_0, ao_0)\n",
    "    + 4  * np.einsum(\"va, ui, lb, Abj, kj, g, rg, rgk, gl,      gu, gv -> Aai\", Cv, Co, Cv, X, Co, frg, rho_1, ao_1, ao_0, ao_0, ao_0)\n",
    "    + 4  * np.einsum(\"va, ui, lb, Abj, kj, g,      gk, gl, rg, rgu, gv -> Aai\", Cv, Co, Cv, X, Co, frg, ao_0, ao_0, rho_1, ao_1, ao_0)\n",
    "    + 16 * np.einsum(\"va, ui, lb, Abj, kj, g, wg, wgk, gl, rg, rgu, gv -> Aai\", Cv, Co, Cv, X, Co, fgg, rho_1, ao_1, ao_0, rho_1, ao_1, ao_0)\n",
    "    + 8  * np.einsum(\"va, ui, lb, Abj, kj, g,     rgk, gl,     rgu, gv -> Aai\", Cv, Co, Cv, X, Co, fg, ao_1, ao_0, ao_1, ao_0)\n",
    ")\n",
    "print(np.allclose(Ax_GGA_complicated, Ax_GGA))"
   ]
  },
  {
   "cell_type": "markdown",
   "metadata": {},
   "source": [
    "很显然上面的式子太过冗长，一眼就像对其作公因式提取的处理，并且也比 `Ax_GGA` 消耗更多的代码；但它意外地节省时间。我们拿出其中的五行出来观察浮点计算次数："
   ]
  },
  {
   "cell_type": "code",
   "execution_count": 45,
   "metadata": {},
   "outputs": [
    {
     "data": {
      "text/plain": [
       "2315900000.0"
      ]
     },
     "execution_count": 45,
     "metadata": {},
     "output_type": "execute_result"
    }
   ],
   "source": [
    "(\n",
    "    + get_FLOP(\"ua, vi, kb, Abj, lj, g, gk, gl, gu, gv -> Aai\"          , Cv, Co, Cv, X, Co, frr, ao_0, ao_0, ao_0, ao_0)\n",
    "    + get_FLOP(\"ua, vi, kb, Abj, lj, g, rg, rgk, gl, gu, gv -> Aai\"     , Cv, Co, Cv, X, Co, frg, rho_1, ao_1, ao_0, ao_0, ao_0)\n",
    "    + get_FLOP(\"ua, vi, kb, Abj, lj, g, gk, gl, rg, rgu, gv -> Aai\"     , Cv, Co, Cv, X, Co, frg, ao_0, ao_0, rho_1, ao_1, ao_0)\n",
    "    + get_FLOP(\"ua, vi, kb, Abj, lj, g, wg, wgk, gl, rg, rgu, gv -> Aai\", Cv, Co, Cv, X, Co, fgg, rho_1, ao_1, ao_0, rho_1, ao_1, ao_0)\n",
    "    + get_FLOP(\"ua, vi, kb, Abj, lj, g, rgk, gl, rgu, gv -> Aai\"        , Cv, Co, Cv, X, Co, fg, ao_1, ao_0, ao_1, ao_0)\n",
    ")"
   ]
  },
  {
   "cell_type": "markdown",
   "metadata": {},
   "source": [
    "上述浮点数乘以 4 即是 `Ax_GGA_complicated` 所需要消耗的计算量了，为 9.2636e+09 次。而 `Ax_GGA` 尽管有更短的代码和简洁的公式，却需要消耗 2.130e+11 次。"
   ]
  },
  {
   "cell_type": "markdown",
   "metadata": {},
   "source": [
    "作为一个例子，我们看一下第二项 $C_{\\mu a} C_{\\nu i} C_{\\kappa b} X_{bj}^\\mathbb{A} C_{\\lambda j} \\cdot 4 f_{\\rho \\gamma} \\rho_r \\phi_{r \\kappa} \\phi_\\lambda \\phi_\\mu \\phi_\\nu$ 是如何进行张量缩并的："
   ]
  },
  {
   "cell_type": "code",
   "execution_count": 46,
   "metadata": {},
   "outputs": [
    {
     "name": "stdout",
     "output_type": "stream",
     "text": [
      "  Complete contraction:  ua,vi,kb,Abj,lj,g,rg,rgk,gl,gu,gv->Aai\n",
      "         Naive scaling:  11\n",
      "     Optimized scaling:  4\n",
      "      Naive FLOP count:  4.794e+16\n",
      "  Optimized FLOP count:  4.124e+08\n",
      "   Theoretical speedup:  116236931.476\n",
      "  Largest intermediate:  4.077e+06 elements\n",
      "--------------------------------------------------------------------------\n",
      "scaling                  current                                remaining\n",
      "--------------------------------------------------------------------------\n",
      "   3                  rgk,rg->kg       ua,vi,kb,Abj,lj,g,gl,gu,gv,kg->Aai\n",
      "   3                   gv,vi->ig          ua,kb,Abj,lj,g,gl,gu,kg,ig->Aai\n",
      "   3                   gl,lj->jg             ua,kb,Abj,g,gu,kg,ig,jg->Aai\n",
      "   3                   gu,ua->ag                kb,Abj,g,kg,ig,jg,ag->Aai\n",
      "   3                   kg,kb->bg                   Abj,g,ig,jg,ag,bg->Aai\n",
      "   2                    ig,g->ig                     Abj,jg,ag,bg,ig->Aai\n",
      "   4                 bg,Abj->Ajg                        jg,ag,ig,Ajg->Aai\n",
      "   3                  Ajg,jg->Ag                            ag,ig,Ag->Aai\n",
      "   3                  Ag,ig->Aig                              ag,Aig->Aai\n",
      "   4                 Aig,ag->Aai                                 Aai->Aai\n"
     ]
    }
   ],
   "source": [
    "print(np.einsum_path(\"ua, vi, kb, Abj, lj, g, rg, rgk, gl, gu, gv -> Aai\", Cv, Co, Cv, X, Co, frg, rho_1, ao_1, ao_0, ao_0, ao_0)[1])"
   ]
  },
  {
   "cell_type": "markdown",
   "metadata": {},
   "source": [
    "其大致思路是，首先将原子轨道格点缩并到分子轨道格点：\n",
    "\n",
    "$$\n",
    "\\phi_p = \\phi_\\mu C_{\\mu p}\n",
    "$$"
   ]
  },
  {
   "cell_type": "markdown",
   "metadata": {},
   "source": [
    "但这其中存在例外：\n",
    "\n",
    "$$\n",
    "\\begin{align}\n",
    "(\\nabla_\\rho \\cdot \\nabla \\phi)_\\mu &= \\rho_r \\phi_{r \\mu} \\\\\n",
    "(\\nabla_\\rho \\cdot \\nabla \\phi)_k &= (\\nabla_\\rho \\cdot \\nabla \\phi)_\\mu C_{\\mu k}\n",
    "\\end{align}\n",
    "$$\n",
    "\n",
    "如此缩并的原因单纯地是因为效率高。随后优先缩并含 $b, j$ 两个角标：\n",
    "\n",
    "$$\n",
    "X_{bj}^\\mathbb{A} (\\nabla_\\rho \\cdot \\nabla \\phi)_k \\phi_j \\rightarrow \\varphi^\\mathbb{A}\n",
    "$$\n",
    "\n",
    "最后对剩下的项依次缩并即可。"
   ]
  },
  {
   "cell_type": "markdown",
   "metadata": {},
   "source": [
    "### pyxdh 所使用的缩并方式"
   ]
  },
  {
   "cell_type": "markdown",
   "metadata": {},
   "source": [
    "需要说明的是，pyxdh 在求取 $A_{ai, bj} X_{bj}^\\mathbb{A}$ 问题时，所使用的仍然是 PySCF 的程序。这一段是为了以后 pyxdh 中 `Ax1_Core` 张量缩并函数 $A_{ai, bj}^\\mathbb{B} X_{bj}^\\mathbb{A}$ 作准备的。"
   ]
  },
  {
   "cell_type": "markdown",
   "metadata": {},
   "source": [
    "我们不采取上面相对来说激进的缩并方式，即仍然保留原子轨道格点；但我们借助这些原子轨道格点，生成与自洽场密度有别的类密度量。我们先定义原子轨道下的类密度 `dmX`:\n",
    "\n",
    "$$\n",
    "X_{\\kappa \\lambda}^\\mathbb{A} = C_{\\kappa b} X_{bj}^\\mathbb{A} C_{\\lambda j} + \\mathrm{swap} (\\kappa, \\lambda)\n",
    "$$"
   ]
  },
  {
   "cell_type": "code",
   "execution_count": 47,
   "metadata": {},
   "outputs": [],
   "source": [
    "dmX = np.einsum(\"kb, Abj, lj -> Akl\", Cv, X, Co)\n",
    "dmX += dmX.swapaxes(-1, -2)"
   ]
  },
  {
   "cell_type": "markdown",
   "metadata": {},
   "source": [
    "以上述类密度为前提，我们可以生成类密度的密度格点 `rho_X_0`\n",
    "\n",
    "$$\n",
    "\\varrho^\\mathbb{A} = X_{\\kappa \\lambda}^\\mathbb{A} \\phi_\\kappa \\phi_\\lambda\n",
    "$$\n",
    "\n",
    "及其梯度 `rho_X_1`\n",
    "\n",
    "$$\n",
    "\\varrho_r^\\mathbb{A} = 2 X_{\\kappa \\lambda}^\\mathbb{A} \\phi_{r \\kappa} \\phi_\\lambda\n",
    "$$"
   ]
  },
  {
   "cell_type": "code",
   "execution_count": 48,
   "metadata": {},
   "outputs": [],
   "source": [
    "tmp_K = np.einsum(\"Akl, gl -> Agk\", dmX, ao_0)\n",
    "rho_X_0 = np.einsum(\"gk, Agk -> Ag\", ao_0, tmp_K)\n",
    "rho_X_1 = 2 * np.einsum(\"rgk, Agk -> Arg\", ao_1, tmp_K)"
   ]
  },
  {
   "cell_type": "markdown",
   "metadata": {},
   "source": [
    "我们额外定义密度梯度的一种导出量 `gamma_XD`\n",
    "\n",
    "$$\n",
    "\\varrho_r^\\mathbb{A} \\rho_r \\, (\\text{summed by } r)\n",
    "$$"
   ]
  },
  {
   "cell_type": "code",
   "execution_count": 49,
   "metadata": {},
   "outputs": [],
   "source": [
    "gamma_XD = np.einsum(\"Arg, rg -> Ag\", rho_X_1, rho_1)"
   ]
  },
  {
   "cell_type": "markdown",
   "metadata": {},
   "source": [
    "随后我们就将 $A_{ai, bj}^\\mathrm{GGA} X_{bj}^\\mathbb{A}$ 所有缩并项作化简；化简的原则是将所有 $b, j, \\kappa, \\lambda$ 的角标先求和。在这种化简的思路下，我们定义两个临时的变量 `M_0`：\n",
    "\n",
    "$$\n",
    "M^\\mathbb{A} = f_{\\rho \\rho} \\varrho^\\mathbb{A} + f_{\\rho \\gamma} (\\varrho_w^\\mathbb{A} \\rho_w)\n",
    "$$\n",
    "\n",
    "以及 `M_1`\n",
    "\n",
    "$$\n",
    "M_r^\\mathbb{A} = 4 f_{\\rho \\gamma} \\varrho^\\mathbb{A} \\rho_r + 8 f_{\\rho \\gamma} (\\varrho_w^\\mathbb{A} \\rho_w) \\rho_r + 4 f_\\gamma \\varrho_r^\\mathbb{A}\n",
    "$$"
   ]
  },
  {
   "cell_type": "markdown",
   "metadata": {},
   "source": [
    "我们回顾到\n",
    "\n",
    "$$\n",
    "\\begin{align}\n",
    "A_{\\mu \\nu, \\kappa \\lambda} \\xleftarrow{\\text{GGA contrib}} A_{\\mu \\nu, \\kappa \\lambda}^\\text{GGA}\n",
    "&= f_{\\rho \\rho} \\phi_\\kappa \\phi_\\lambda \\phi_\\mu \\phi_\\nu + 4 f_{\\rho \\gamma} \\rho_r \\phi_{r \\kappa} \\phi_\\lambda \\phi_\\mu \\phi_\\nu \\\\\n",
    "& + 4 f_{\\rho \\gamma} \\phi_\\kappa \\phi_\\lambda \\rho_r \\phi_{r \\mu} \\phi_{\\nu} + 16 f_{\\gamma \\gamma} \\rho_w \\phi_{w \\kappa} \\phi_\\lambda \\rho_r \\phi_{r \\mu} \\phi_{\\nu} \\\\\n",
    "& + 8 f_\\gamma \\phi_{r \\kappa} \\phi_\\lambda \\phi_{r \\mu} \\phi_{\\nu} \\\\\n",
    "& + \\mathrm{swap} (\\mu, \\nu) + \\mathrm{swap} (\\kappa, \\lambda)\n",
    "\\end{align}\n",
    "$$\n",
    "\n",
    "其中，$M^\\mathbb{A}$ 所包含的项与上式的第一行有关，$M_r^\\mathbb{A}$ 则与第二、三行有关。"
   ]
  },
  {
   "cell_type": "code",
   "execution_count": 50,
   "metadata": {},
   "outputs": [],
   "source": [
    "M_0 = (\n",
    "    np.einsum(\"g, Ag -> Ag\", frr, rho_X_0)\n",
    "    + 2 * np.einsum(\"g, Ag -> Ag\", frg, gamma_XD)\n",
    ")\n",
    "M_1 = (\n",
    "    + 4 * np.einsum(\"g, Ag, rg -> Arg\", frg, rho_X_0, rho_1)\n",
    "    + 8 * np.einsum(\"g, Ag, rg -> Arg\", fgg, gamma_XD, rho_1)\n",
    "    + 4 * np.einsum(\"g, Arg -> Arg\", fg, rho_X_1)\n",
    ")"
   ]
  },
  {
   "cell_type": "markdown",
   "metadata": {},
   "source": [
    "最后，\n",
    "\n",
    "$$\n",
    "\\begin{align}\n",
    "A_{\\mu \\nu, \\kappa \\lambda} X_{\\kappa \\lambda}^\\mathbb{A} &= M^\\mathbb{A} \\phi_\\mu \\phi_\\nu + M_r^\\mathbb{A} \\phi_{r \\mu} \\phi_\\nu + \\mathrm{swap} (\\mu, \\nu) \\\\\n",
    "A_{ai, bj}^\\mathrm{GGA} X_{bj}^\\mathbb{A} &= A_{\\mu \\nu, \\kappa \\lambda} X_{\\kappa \\lambda}^\\mathbb{A} C_{\\mu a} C_{\\nu i}\n",
    "\\end{align}\n",
    "$$"
   ]
  },
  {
   "cell_type": "code",
   "execution_count": 51,
   "metadata": {},
   "outputs": [],
   "source": [
    "Ax_ao_GGA = (\n",
    "    + np.einsum(\"Ag, gu, gv -> Auv\", M_0, ao_0, ao_0)\n",
    "    + np.einsum(\"Arg, rgu, gv -> Auv\", M_1, ao_1, ao_0)\n",
    ")\n",
    "Ax_ao_GGA += Ax_ao_GGA.swapaxes(-1, -2)\n",
    "Ax_GGA_modified = np.einsum(\"ua, Auv, vi -> Aai\", Cv, Ax_ao_GGA, Co)"
   ]
  },
  {
   "cell_type": "markdown",
   "metadata": {},
   "source": [
    "我们可以验证上述的计算过程是正确的："
   ]
  },
  {
   "cell_type": "code",
   "execution_count": 52,
   "metadata": {},
   "outputs": [
    {
     "data": {
      "text/plain": [
       "True"
      ]
     },
     "execution_count": 52,
     "metadata": {},
     "output_type": "execute_result"
    }
   ],
   "source": [
    "np.allclose(Ax_GGA, Ax_GGA_modified)"
   ]
  },
  {
   "cell_type": "markdown",
   "metadata": {},
   "source": [
    "其消耗时长可以用下面的程序给出："
   ]
  },
  {
   "cell_type": "code",
   "execution_count": 53,
   "metadata": {},
   "outputs": [
    {
     "name": "stdout",
     "output_type": "stream",
     "text": [
      "CPU times: user 344 ms, sys: 234 ms, total: 578 ms\n",
      "Wall time: 630 ms\n"
     ]
    }
   ],
   "source": [
    "%%time\n",
    "dmX = np.einsum(\"kb, Abj, lj -> Akl\", Cv, X, Co)\n",
    "dmX += dmX.swapaxes(-1, -2)\n",
    "tmp_K = np.einsum(\"Akl, gl -> Agk\", dmX, ao_0)\n",
    "rho_X_0 = np.einsum(\"gk, Agk -> Ag\", ao_0, tmp_K)\n",
    "rho_X_1 = 2 * np.einsum(\"rgk, Agk -> Arg\", ao_1, tmp_K)\n",
    "gamma_XD = np.einsum(\"Arg, rg -> Ag\", rho_X_1, rho_1)\n",
    "M_0 = (\n",
    "    np.einsum(\"g, Ag -> Ag\", frr, rho_X_0)\n",
    "    + 2 * np.einsum(\"g, Ag -> Ag\", frg, gamma_XD)\n",
    ")\n",
    "M_1 = (\n",
    "    + 4 * np.einsum(\"g, Ag, rg -> Arg\", frg, rho_X_0, rho_1)\n",
    "    + 8 * np.einsum(\"g, Ag, rg -> Arg\", fgg, gamma_XD, rho_1)\n",
    "    + 4 * np.einsum(\"g, Arg -> Arg\", fg, rho_X_1)\n",
    ")\n",
    "Ax_ao_GGA = (\n",
    "    + np.einsum(\"Ag, gu, gv -> Auv\", M_0, ao_0, ao_0)\n",
    "    + np.einsum(\"Arg, rgu, gv -> Auv\", M_1, ao_1, ao_0)\n",
    ")\n",
    "Ax_ao_GGA += Ax_ao_GGA.swapaxes(-1, -2)\n",
    "Ax_GGA_modified = np.einsum(\"ua, Auv, vi -> Aai\", Cv, Ax_ao_GGA, Co)"
   ]
  },
  {
   "cell_type": "markdown",
   "metadata": {},
   "source": [
    "这种方式在张量运算过程中，所消耗的浮点运算数量大约是 1.4756e+09 次："
   ]
  },
  {
   "cell_type": "code",
   "execution_count": 54,
   "metadata": {},
   "outputs": [
    {
     "data": {
      "text/plain": [
       "1475587600.0"
      ]
     },
     "execution_count": 54,
     "metadata": {},
     "output_type": "execute_result"
    }
   ],
   "source": [
    "(\n",
    "    + get_FLOP(\"kb, Abj, lj -> Akl\", Cv, X, Co)\n",
    "    + get_FLOP(\"Akl, gl -> Agk\", dmX, ao_0)\n",
    "    + get_FLOP(\"gk, Agk -> Ag\", ao_0, tmp_K)\n",
    "    + get_FLOP(\"rgk, Agk -> Arg\", ao_1, tmp_K)\n",
    "    + get_FLOP(\"Arg, rg -> Ag\", rho_X_1, rho_1)\n",
    "    + get_FLOP(\"g, Ag -> Ag\", frr, rho_X_0)\n",
    "    + get_FLOP(\"g, Ag -> Ag\", frg, gamma_XD)\n",
    "    + get_FLOP(\"g, Ag, rg -> Arg\", frg, rho_X_0, rho_1)\n",
    "    + get_FLOP(\"g, Ag, rg -> Arg\", fgg, gamma_XD, rho_1)\n",
    "    + get_FLOP(\"g, Arg -> Arg\", fg, rho_X_1)\n",
    "    + get_FLOP(\"Ag, gu, gv -> Auv\", M_0, ao_0, ao_0)\n",
    "    + get_FLOP(\"Arg, rgu, gv -> Auv\", M_1, ao_1, ao_0)\n",
    "    + get_FLOP(\"ua, Auv, vi -> Aai\", Cv, Ax_ao_GGA, Co)\n",
    ")"
   ]
  },
  {
   "cell_type": "markdown",
   "metadata": {},
   "source": [
    "其计算速度之所以可以更快，是因为对不少可以提取出来的中间变量作临时储存，并且利用到了角标对称性。\n",
    "\n",
    "PySCF 的内置程序事实上可以在 $\\mathbb{A}$ 所代表的维度较大时有更好的表现，这可能是因为 PySCF 使用到了 C 语言的底层。"
   ]
  }
 ],
 "metadata": {
  "kernelspec": {
   "display_name": "Python 3",
   "language": "python",
   "name": "python3"
  },
  "language_info": {
   "codemirror_mode": {
    "name": "ipython",
    "version": 3
   },
   "file_extension": ".py",
   "mimetype": "text/x-python",
   "name": "python",
   "nbconvert_exporter": "python",
   "pygments_lexer": "ipython3",
   "version": "3.8.1"
  },
  "toc": {
   "base_numbering": 1,
   "nav_menu": {},
   "number_sections": true,
   "sideBar": true,
   "skip_h1_title": false,
   "title_cell": "Table of Contents",
   "title_sidebar": "Contents",
   "toc_cell": false,
   "toc_position": {
    "height": "calc(100% - 180px)",
    "left": "10px",
    "top": "150px",
    "width": "204.6px"
   },
   "toc_section_display": true,
   "toc_window_display": true
  }
 },
 "nbformat": 4,
 "nbformat_minor": 4
}
