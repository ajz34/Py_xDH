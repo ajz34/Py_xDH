{
 "cells": [
  {
   "cell_type": "markdown",
   "metadata": {},
   "source": [
    "# GGA 方法 U 矩阵与 B2PLYP 型泛函核坐标梯度"
   ]
  },
  {
   "cell_type": "markdown",
   "metadata": {},
   "source": [
    "我们进一步讨论 GGA 方法的 U 矩阵求取方式。在求取 U 矩阵的过程中，我们利用到 GGA 方法下的 CP-HF 方程，进而可以用来求取含有 GGA 的 B2PLYP 型泛函的弛豫密度矩阵 $D_{pq}^\\mathrm{MP2}$，进而得到 B2PLYP 型泛函核坐标梯度。\n",
    "\n",
    "在 pyxdh 中，B2PLYP 型泛函与 MP2 方法使用相同的流程进行处理；这两者相当相似。这一节的大多数公式和做法都可以参考 MP2 梯度部分；但在一些公式细节上，需要留意细微的差别。\n",
    "\n",
    "这一节中提到的 U 矩阵求取仅仅包括非占-占据部分 $U_{ai}^{A_t}$。"
   ]
  },
  {
   "cell_type": "markdown",
   "metadata": {},
   "source": [
    "## 准备工作"
   ]
  },
  {
   "cell_type": "markdown",
   "metadata": {},
   "source": [
    "计算 B2PLYP 型泛函的梯度，我们用与 MP2 方法一样的 `GradMP2` 类。由于涉及到大批格点的计算，我们这里暂时假定供给 np.einsum 的内存大小是足够大的。"
   ]
  },
  {
   "cell_type": "code",
   "execution_count": 1,
   "metadata": {},
   "outputs": [],
   "source": [
    "%matplotlib notebook\n",
    "\n",
    "from pyscf import gto, scf, dft, dft, lib, hessian\n",
    "from pyscf.scf import cphf\n",
    "import numpy as np\n",
    "from functools import partial\n",
    "import warnings\n",
    "from matplotlib import pyplot as plt\n",
    "from pyxdh.Utilities import NucCoordDerivGenerator, DipoleDerivGenerator, NumericDiff, GridHelper, KernelHelper\n",
    "from pyxdh.DerivOnce import GradMP2, GradSCF\n",
    "\n",
    "np.einsum = partial(np.einsum, optimize=[\"greedy\", 1024 ** 3 * 1000 / 8])\n",
    "np.einsum_path = partial(np.einsum_path, optimize=[\"greedy\", 1024 ** 3 * 1000 / 8])\n",
    "np.allclose = partial(np.allclose, atol=1e-6, rtol=1e-4)\n",
    "np.set_printoptions(5, linewidth=150, suppress=True)\n",
    "warnings.filterwarnings(\"ignore\")"
   ]
  },
  {
   "cell_type": "code",
   "execution_count": 2,
   "metadata": {},
   "outputs": [
    {
     "data": {
      "text/plain": [
       "<pyscf.gto.mole.Mole at 0x7fcdc537f400>"
      ]
     },
     "execution_count": 2,
     "metadata": {},
     "output_type": "execute_result"
    }
   ],
   "source": [
    "mol = gto.Mole()\n",
    "mol.atom = \"\"\"\n",
    "O  0.0  0.0  0.0\n",
    "O  0.0  0.0  1.5\n",
    "H  1.0  0.0  0.0\n",
    "H  0.0  0.7  1.0\n",
    "\"\"\"\n",
    "mol.basis = \"6-31G\"\n",
    "mol.verbose = 0\n",
    "mol.build()"
   ]
  },
  {
   "cell_type": "code",
   "execution_count": 3,
   "metadata": {},
   "outputs": [],
   "source": [
    "def mol_to_grids(mol, atom_grid=(75, 302)):\n",
    "    grids = dft.Grids(mol)\n",
    "    grids.atom_grid = atom_grid\n",
    "    grids.becke_scheme = dft.gen_grid.stratmann\n",
    "    grids.prune = None\n",
    "    grids.build()\n",
    "    return grids\n",
    "grids = mol_to_grids(mol)"
   ]
  },
  {
   "cell_type": "markdown",
   "metadata": {},
   "source": [
    "但需要注意到，既然我们计算的是 B2PLYP，那么其泛函也需要更改为 B2PLYP 的自洽场过程中使用的泛函："
   ]
  },
  {
   "cell_type": "code",
   "execution_count": 4,
   "metadata": {},
   "outputs": [],
   "source": [
    "def mol_to_scf(mol):\n",
    "    scf_eng = dft.RKS(mol)\n",
    "    scf_eng.grids = mol_to_grids(mol)\n",
    "    scf_eng.xc = \"0.53*HF + 0.47*B88, 0.73*LYP\"\n",
    "    scf_eng.conv_tol = 1e-10\n",
    "    return scf_eng.run()"
   ]
  },
  {
   "cell_type": "markdown",
   "metadata": {},
   "source": [
    "与 MP2 方法不同的是，我们需要额外定义 PT2 相关能系数 `cc` $c_\\mathrm{c}$："
   ]
  },
  {
   "cell_type": "code",
   "execution_count": 5,
   "metadata": {},
   "outputs": [],
   "source": [
    "gradh = GradMP2({\"scf_eng\": mol_to_scf(mol), \"cc\": 0.27})\n",
    "cc = gradh.cc"
   ]
  },
  {
   "cell_type": "code",
   "execution_count": 6,
   "metadata": {},
   "outputs": [],
   "source": [
    "nmo, nao, natm, nocc, nvir, cx = gradh.nao, gradh.nao, gradh.natm, gradh.nocc, gradh.nvir, gradh.cx\n",
    "mol_slice = gradh.mol_slice\n",
    "so, sv, sa = gradh.so, gradh.sv, gradh.sa\n",
    "C, Co, Cv, e, eo, ev, D = gradh.C, gradh.Co, gradh.Cv, gradh.e, gradh.eo, gradh.ev, gradh.D\n",
    "H_0_ao, S_0_ao, eri0_ao, F_0_ao = gradh.H_0_ao, gradh.S_0_ao, gradh.eri0_ao, gradh.F_0_ao\n",
    "H_0_mo, S_0_mo, eri0_mo, F_0_mo = gradh.H_0_mo, gradh.S_0_mo, gradh.eri0_mo, gradh.F_0_mo"
   ]
  },
  {
   "cell_type": "code",
   "execution_count": 7,
   "metadata": {},
   "outputs": [],
   "source": [
    "def to_natm_3(mat: np.ndarray):\n",
    "    shape = list(mat.shape)\n",
    "    shape = [int(shape[0] / 3), 3] + shape[1:]\n",
    "    return mat.reshape(shape)"
   ]
  },
  {
   "cell_type": "code",
   "execution_count": 8,
   "metadata": {},
   "outputs": [],
   "source": [
    "H_1_ao, S_1_ao, eri1_ao = to_natm_3(gradh.H_1_ao), to_natm_3(gradh.S_1_ao), to_natm_3(gradh.eri1_ao)\n",
    "H_1_mo, S_1_mo, eri1_mo = to_natm_3(gradh.H_1_mo), to_natm_3(gradh.S_1_mo), to_natm_3(gradh.eri1_mo)"
   ]
  },
  {
   "cell_type": "code",
   "execution_count": 9,
   "metadata": {},
   "outputs": [],
   "source": [
    "grdh = GridHelper(mol, grids, D)\n",
    "kerh = KernelHelper(grdh, \"0.53*HF + 0.47*B88, 0.73*LYP\")"
   ]
  },
  {
   "cell_type": "markdown",
   "metadata": {},
   "source": [
    "为了简化后面程序代码，我们将一部分与格点相关的 (基于 $D_{\\mu \\nu}$ 自洽场密度给出的) 变量定义如下："
   ]
  },
  {
   "cell_type": "code",
   "execution_count": 10,
   "metadata": {},
   "outputs": [],
   "source": [
    "ao_0, ao_1, ao_2 = grdh.ao_0, grdh.ao_1, grdh.ao_2\n",
    "rho_1, rho_2 = grdh.rho_1, grdh.rho_2\n",
    "A_rho_1, A_rho_2 = grdh.A_rho_1, grdh.A_rho_2\n",
    "fr, fg, frr, frg, fgg = kerh.fr, kerh.fg, kerh.frr, kerh.frg, kerh.fgg"
   ]
  },
  {
   "cell_type": "code",
   "execution_count": 11,
   "metadata": {},
   "outputs": [],
   "source": [
    "def grad_generator(mol):\n",
    "    scf_eng = mol_to_scf(mol)\n",
    "    config = {\"scf_eng\": mol_to_scf(mol), \"cc\": 0.27}\n",
    "    return GradMP2(config)\n",
    "gradn = NucCoordDerivGenerator(mol, grad_generator)"
   ]
  },
  {
   "cell_type": "markdown",
   "metadata": {},
   "source": [
    "## GGA 方法 U 矩阵的求取"
   ]
  },
  {
   "cell_type": "markdown",
   "metadata": {},
   "source": [
    "### Fock Skeleton 导数"
   ]
  },
  {
   "cell_type": "markdown",
   "metadata": {},
   "source": [
    "求取 U 矩阵 (非占-占据部分) 的推导前提是 Fock 矩阵 $F_{ai} = 0$。我们首先回顾原子轨道下，GGA 的 Fock 矩阵定义：\n",
    "\n",
    "$$\n",
    "F_{\\mu \\nu} = h_{\\mu \\nu} + (\\mu \\nu | \\kappa \\lambda) D_{\\kappa \\lambda} - \\frac{c_\\mathrm{x}}{2} (\\mu \\kappa | \\nu \\lambda) D_{\\kappa \\lambda} + v_{\\mu \\nu}^\\mathrm{xc}\n",
    "$$"
   ]
  },
  {
   "cell_type": "markdown",
   "metadata": {},
   "source": [
    "前三项我们已经在 RHF 的 U 矩阵计算时知道了求取方法；现在我们要考虑第四项 $v_{\\mu \\nu}^\\mathrm{xc}$ 导数的计算。我们再回顾 $v_{\\mu \\nu}^{\\mathrm{xc}}$ 的定义：\n",
    "\n",
    "$$\n",
    "v_{\\mu \\nu}^\\mathrm{xc} = f_\\rho \\phi_\\mu \\phi_\\nu + 2 f_\\gamma \\rho_r (\\phi_{r \\mu} \\phi_{\\nu} + \\phi_{\\mu} \\phi_{r \\nu})\n",
    "$$\n",
    "\n",
    "我们对 Skeleton 导数的定义是不包含 $C_{\\mu p}$ 的导数；剩下的部分则归为 U 矩阵导数。我们将 $v_{\\mu \\nu}^{\\mathrm{xc}}$ 的 Skeleton 导数写为 $v_{\\mu \\nu}^{\\mathrm{xc}, A_t}$。"
   ]
  },
  {
   "cell_type": "markdown",
   "metadata": {},
   "source": [
    "我们先依据链式法则，考察 $f_\\rho$ 的全导数：\n",
    "\n",
    "$$\n",
    "\\frac{\\partial f_\\rho}{\\partial A_t} = f_{\\rho \\rho} \\frac{\\partial \\rho}{\\partial A_t} + 2 f_{\\rho \\gamma} \\rho_r \\frac{\\partial \\rho_r}{\\partial A_t}\n",
    "$$"
   ]
  },
  {
   "cell_type": "markdown",
   "metadata": {},
   "source": [
    "我们已经对 $\\partial_{A_t} \\rho$ 与 $\\partial_{A_t} \\rho_r$ 作过讨论：\n",
    "\n",
    "$$\n",
    "\\begin{align}\n",
    "\\frac{\\partial \\rho}{\\partial A_t}\n",
    "&= - \\phi_{t \\mu_A} \\phi_\\nu D_{\\mu \\nu} - \\phi_\\mu \\phi_{t \\nu_A} D_{\\mu \\nu} + 4 \\phi_\\mu \\phi_\\nu U_{mi}^{A_t} C_{\\mu m} C_{\\nu i} \\\\\n",
    "&= \\rho^{A_t} + 4 \\phi_\\mu \\phi_\\nu U_{mi}^{A_t} C_{\\mu m} C_{\\nu i} \\\\\n",
    "\\frac{\\partial \\rho_r}{\\partial A_t}\n",
    "&= - 2 \\phi_{tr \\mu_A} \\phi_\\nu D_{\\mu \\nu} - 2 \\phi_{r \\mu} \\phi_{t \\nu_A} D_{\\mu \\nu} + 4 (\\phi_{r \\mu} \\phi_\\nu + \\phi_\\mu \\phi_{r \\nu}) U_{mi}^{A_t} C_{\\mu m} C_{\\nu i} \\\\\n",
    "&= \\rho_r^{A_t} + 4 (\\phi_{r \\mu} \\phi_\\nu + \\phi_\\mu \\phi_{r \\nu}) U_{mi}^{A_t} C_{\\mu m} C_{\\nu i}\n",
    "\\end{align}\n",
    "$$"
   ]
  },
  {
   "cell_type": "markdown",
   "metadata": {},
   "source": [
    "对于 $f_\\gamma$ 的全导数也是相同的：\n",
    "\n",
    "$$\n",
    "\\frac{\\partial f_\\gamma}{\\partial A_t} = f_{\\rho \\gamma} \\frac{\\partial \\rho}{\\partial A_t} + 2 f_{\\gamma \\gamma} \\rho_r \\frac{\\partial \\rho_r}{\\partial A_t}\n",
    "$$"
   ]
  },
  {
   "cell_type": "markdown",
   "metadata": {},
   "source": [
    "上述出现了 U 矩阵的部分看作是 U 导数，否则为 Skeleton 导数。那么，$v_{\\mu \\nu}^\\mathrm{xc}$ 的所有贡献项就容易地用链式法则表示如下：\n",
    "\n",
    "$$\n",
    "\\begin{align}\n",
    "\\partial_{A_t} v_{\\mu \\nu}^\\mathrm{xc} \\xleftarrow{\\text{Skeleton derivative}} v_{\\mu \\nu}^{\\mathrm{xc}, A_t}\n",
    "&= (f_{\\rho \\rho} \\rho^{A_t} + 2 f_{\\rho \\gamma} \\rho_w \\rho_w^{A_t}) \\phi_\\mu \\phi_\\nu + 2 (f_{\\rho \\gamma} \\rho^{A_t} + 2 f_{\\gamma \\gamma} \\rho_w \\rho_w^{A_t}) \\rho_r \\rho_r^{A_t} (\\phi_{r \\mu} \\phi_{\\nu} + \\phi_{\\mu} \\phi_{r \\nu}) \\\\\n",
    "&\\quad + f_\\rho \\phi_\\mu^{A_t} \\phi_\\nu + f_\\rho \\phi_\\mu \\phi_\\nu^{A_t} \\\\\n",
    "&\\quad + 2 f_\\gamma \\rho_r^{A_t} (\\phi_{r \\mu} \\phi_{\\nu} + \\phi_{\\mu} \\phi_{r \\nu})\n",
    "+ 2 f_\\gamma \\rho_r (\\phi_{r \\mu}^{A_t} \\phi_{\\nu} + \\phi_{\\mu}^{A_t} \\phi_{r \\nu} + \\phi_{r \\mu} \\phi_{\\nu}^{A_t} + \\phi_{\\mu} \\phi_{r \\nu}^{A_t})\n",
    "\\end{align}\n",
    "$$"
   ]
  },
  {
   "cell_type": "markdown",
   "metadata": {},
   "source": [
    "上述出现了 U 矩阵的部分看作是 U 导数，否则为 Skeleton 导数。那么，$v_{\\mu \\nu}^\\mathrm{xc}$ 的所有贡献项就容易地用链式法则表示如下：\n",
    "\n",
    "$$\n",
    "\\begin{align}\n",
    "\\partial_{A_t} v_{\\mu \\nu}^\\mathrm{xc} \\xleftarrow{\\text{Skeleton derivative}} v_{\\mu \\nu}^{\\mathrm{xc}, A_t}\n",
    "&= (f_{\\rho \\rho} \\rho^{A_t} + 2 f_{\\rho \\gamma} \\rho_w \\rho_w^{A_t}) \\phi_\\mu \\phi_\\nu \\\\\n",
    "&\\quad + 2 (f_{\\rho \\gamma} \\rho^{A_t} + 2 f_{\\gamma \\gamma} \\rho_w \\rho_w^{A_t}) \\rho_r (\\phi_{r \\mu} \\phi_{\\nu} + \\phi_{\\mu} \\phi_{r \\nu}) \\\\\n",
    "&\\quad + f_\\rho \\phi_\\mu^{A_t} \\phi_\\nu + f_\\rho \\phi_\\mu \\phi_\\nu^{A_t} \\\\\n",
    "&\\quad + 2 f_\\gamma \\rho_r^{A_t} (\\phi_{r \\mu} \\phi_{\\nu} + \\phi_{\\mu} \\phi_{r \\nu})\n",
    "+ 2 f_\\gamma \\rho_r (\\phi_{r \\mu}^{A_t} \\phi_{\\nu} + \\phi_{\\mu}^{A_t} \\phi_{r \\nu} + \\phi_{r \\mu} \\phi_{\\nu}^{A_t} + \\phi_{\\mu} \\phi_{r \\nu}^{A_t}) \\\\\n",
    "&= \\frac{1}{2} f_{\\rho \\rho} \\rho^{A_t} \\phi_\\mu \\phi_\\nu + f_{\\rho \\gamma} \\rho_w \\rho_w^{A_t} \\phi_\\mu \\phi_\\nu \\\\\n",
    "&\\quad + 2 f_{\\rho \\gamma} \\rho^{A_t} \\rho_r \\phi_{r \\mu} \\phi_{\\nu} + 4 f_{\\gamma \\gamma} \\rho_w \\rho_w^{A_t} \\rho_r \\phi_{r \\mu} \\phi_{\\nu} \\\\\n",
    "&\\quad + f_\\rho \\phi_\\mu^{A_t} \\phi_\\nu \\\\\n",
    "&\\quad + 2 f_\\gamma \\rho_r^{A_t} \\phi_{r \\mu} \\phi_{\\nu} + 2 f_\\gamma \\rho_r \\phi_{r \\mu}^{A_t} \\phi_{\\nu} + 2 f_\\gamma \\rho_r \\phi_{\\mu}^{A_t} \\phi_{r \\nu} \\\\\n",
    "&\\quad + \\mathrm{swap} (\\mu, \\nu)\n",
    "\\end{align}\n",
    "$$"
   ]
  },
  {
   "cell_type": "markdown",
   "metadata": {},
   "source": [
    "利用 $\\partial_{A_t} \\phi_\\mu = - \\phi_{t \\mu_A}$ 等结论，我们会将上式写为\n",
    "\n",
    "$$\n",
    "\\begin{align}\n",
    "\\partial_{A_t} v_{\\mu \\nu}^\\mathrm{xc} \\xleftarrow{\\text{Skeleton derivative}} v_{\\mu \\nu}^{\\mathrm{xc}, A_t}\n",
    "&= \\frac{1}{2} f_{\\rho \\rho} \\rho^{A_t} \\phi_\\mu \\phi_\\nu + f_{\\rho \\gamma} \\rho_w \\rho_w^{A_t} \\phi_\\mu \\phi_\\nu \\\\\n",
    "&\\quad + 2 f_{\\rho \\gamma} \\rho^{A_t} \\rho_r \\phi_{r \\mu} \\phi_{\\nu} + 4 f_{\\gamma \\gamma} \\rho_w \\rho_w^{A_t} \\rho_r \\phi_{r \\mu} \\phi_{\\nu} \\\\\n",
    "&\\quad + 2 f_\\gamma \\rho_r^{A_t} \\phi_{r \\mu} \\phi_{\\nu} \\\\\n",
    "&\\quad - f_\\rho \\phi_{t \\mu_A} \\phi_\\nu - 2 f_\\gamma \\rho_r \\phi_{tr \\mu_A} \\phi_{\\nu} - 2 f_\\gamma \\rho_r \\phi_{t \\mu_A} \\phi_{r \\nu} \\\\\n",
    "&\\quad + \\mathrm{swap} (\\mu, \\nu)\n",
    "\\end{align}\n",
    "$$"
   ]
  },
  {
   "cell_type": "markdown",
   "metadata": {},
   "source": [
    "我们定义 `F_1_ao_GGA` $v_{\\mu \\nu}^{\\mathrm{xc}, A_t}$ 为 (维度为 $(A, t, \\mu, \\nu)$)"
   ]
  },
  {
   "cell_type": "code",
   "execution_count": 12,
   "metadata": {
    "scrolled": true
   },
   "outputs": [
    {
     "data": {
      "text/plain": [
       "(4, 3, 22, 22)"
      ]
     },
     "execution_count": 12,
     "metadata": {},
     "output_type": "execute_result"
    }
   ],
   "source": [
    "F_1_ao_GGA = (\n",
    "    + 0.5 * np.einsum(\"g, Atg, gu, gv -> Atuv\", frr, A_rho_1, ao_0, ao_0)\n",
    "    + np.einsum(\"g, wg, Atwg, gu, gv -> Atuv\", frg, rho_1, A_rho_2, ao_0, ao_0)\n",
    "    + 2 * np.einsum(\"g, Atg, rg, rgu, gv -> Atuv\", frg, A_rho_1, rho_1, ao_1, ao_0)\n",
    "    + 4 * np.einsum(\"g, wg, Atwg, rg, rgu, gv -> Atuv\", fgg, rho_1, A_rho_2, rho_1, ao_1, ao_0)\n",
    "    + 2 * np.einsum(\"g, Atrg, rgu, gv -> Atuv\", fg, A_rho_2, ao_1, ao_0)\n",
    ")\n",
    "for A in range(natm):\n",
    "    sA = mol_slice(A)\n",
    "    F_1_ao_GGA[A, :, sA, :] -= np.einsum(\"g, tgu, gv -> tuv\", fr, ao_1[:, :, sA], ao_0)\n",
    "    F_1_ao_GGA[A, :, sA, :] -= 2 * np.einsum(\"g, rg, trgu, gv -> tuv\", fg, rho_1, ao_2[:, :, :, sA], ao_0)\n",
    "    F_1_ao_GGA[A, :, sA, :] -= 2 * np.einsum(\"g, rg, tgu, rgv -> tuv\", fg, rho_1, ao_1[:, :, sA], ao_1)\n",
    "F_1_ao_GGA += F_1_ao_GGA.swapaxes(-1, -2)  # swap (u, v)\n",
    "F_1_ao_GGA.shape"
   ]
  },
  {
   "cell_type": "markdown",
   "metadata": {},
   "source": [
    "我们再考虑 Fock 矩阵的 Skeleton 导数 `F_1_ao`：\n",
    "\n",
    "$$\n",
    "F_{\\mu \\nu}^{A_t} = h_{\\mu \\nu}^{A_t} + (\\mu \\nu | \\kappa \\lambda)^{A_t} D_{\\kappa \\lambda} - \\frac{c_\\mathrm{x}}{2} (\\mu \\kappa | \\nu \\lambda)^{A_t} D_{\\kappa \\lambda} + v_{\\mu \\nu}^{\\mathrm{xc}, A_t}\n",
    "$$"
   ]
  },
  {
   "cell_type": "code",
   "execution_count": 13,
   "metadata": {},
   "outputs": [
    {
     "data": {
      "text/plain": [
       "(4, 3, 22, 22)"
      ]
     },
     "execution_count": 13,
     "metadata": {},
     "output_type": "execute_result"
    }
   ],
   "source": [
    "F_1_ao = (\n",
    "    + H_1_ao\n",
    "    + np.einsum(\"Atuvkl, kl -> Atuv\", eri1_ao, D)\n",
    "    - 0.5 * cx * np.einsum(\"Atukvl, kl -> Atuv\", eri1_ao, D)\n",
    "    + F_1_ao_GGA\n",
    ")\n",
    "F_1_ao.shape"
   ]
  },
  {
   "cell_type": "markdown",
   "metadata": {},
   "source": [
    "pyxdh 中的 `F_1_ao` 也可以用来验证上述的生成结果："
   ]
  },
  {
   "cell_type": "code",
   "execution_count": 14,
   "metadata": {},
   "outputs": [
    {
     "data": {
      "text/plain": [
       "True"
      ]
     },
     "execution_count": 14,
     "metadata": {},
     "output_type": "execute_result"
    }
   ],
   "source": [
    "np.allclose(F_1_ao, to_natm_3(gradh.F_1_ao))"
   ]
  },
  {
   "cell_type": "markdown",
   "metadata": {},
   "source": [
    "在 PySCF 中，也可以用 `make_h1` 来验证上述结果："
   ]
  },
  {
   "cell_type": "code",
   "execution_count": 15,
   "metadata": {},
   "outputs": [
    {
     "data": {
      "text/plain": [
       "True"
      ]
     },
     "execution_count": 15,
     "metadata": {},
     "output_type": "execute_result"
    }
   ],
   "source": [
    "np.allclose(F_1_ao, hessian.rks.Hessian(gradh.scf_eng).make_h1(C, gradh.mo_occ))"
   ]
  },
  {
   "cell_type": "markdown",
   "metadata": {},
   "source": [
    "那么分子轨道下的 $F_{pq}^{A_t}$ 可以表示为：\n",
    "\n",
    "$$\n",
    "F_{pq}^{A_t} = C_{\\mu p} F_{\\mu \\nu}^{A_t} C_{\\nu q}\n",
    "$$"
   ]
  },
  {
   "cell_type": "code",
   "execution_count": 16,
   "metadata": {},
   "outputs": [],
   "source": [
    "F_1_mo = np.einsum(\"up, Atuv, vq -> Atpq\", C, F_1_ao, C)"
   ]
  },
  {
   "cell_type": "markdown",
   "metadata": {},
   "source": [
    "### A 张量"
   ]
  },
  {
   "cell_type": "markdown",
   "metadata": {},
   "source": [
    "我们已经对 $\\partial_{A_t} \\rho$ 与 $\\partial_{A_t} \\rho_r$ 作过讨论：\n",
    "\n",
    "$$\n",
    "\\begin{align}\n",
    "\\frac{\\partial \\rho}{\\partial A_t}\n",
    "&= \\rho^{A_t} + 4 \\phi_\\mu \\phi_\\nu U_{mi}^{A_t} C_{\\mu m} C_{\\nu i} \\\\\n",
    "\\frac{\\partial \\rho_r}{\\partial A_t}\n",
    "&= \\rho_r^{A_t} + 4 (\\phi_{r \\mu} \\phi_\\nu + \\phi_\\mu \\phi_{r \\nu}) U_{mi}^{A_t} C_{\\mu m} C_{\\nu i}\n",
    "\\end{align}\n",
    "$$"
   ]
  },
  {
   "cell_type": "markdown",
   "metadata": {},
   "source": [
    "从 RHF 推导 A 张量的经验，我们知道，A 张量的定义应是 Fock 矩阵的 U 导数所产生的贡献：\n",
    "\n",
    "$$\n",
    "\\frac{\\partial F_{\\mu \\nu}}{\\partial A_t} \\xleftarrow{\\text{U derivative}} A_{\\mu \\nu, \\kappa \\lambda} C_{\\kappa m} C_{\\lambda i} U_{mi}^{A_t}\n",
    "$$"
   ]
  },
  {
   "cell_type": "markdown",
   "metadata": {},
   "source": [
    "我们仍然根据定义\n",
    "\n",
    "$$\n",
    "v_{\\mu \\nu}^\\mathrm{xc} = f_\\rho \\phi_\\mu \\phi_\\nu + 2 f_\\gamma \\rho_r (\\phi_{r \\mu} \\phi_{\\nu} + \\phi_{\\mu} \\phi_{r \\nu})\n",
    "$$"
   ]
  },
  {
   "cell_type": "markdown",
   "metadata": {},
   "source": [
    "可以推知其 U 矩阵的贡献是\n",
    "\n",
    "$$\n",
    "\\begin{align}\n",
    "\\partial_{A_t} v_{\\mu \\nu}^\\mathrm{xc} \\xleftarrow{\\text{U derivative}}\n",
    "&\\quad \\big[ 4 (f_{\\rho \\rho} \\phi_\\kappa \\phi_\\lambda + 2 f_{\\rho \\gamma} \\rho_r \\phi_{r \\kappa} \\phi_\\lambda + 2 f_{\\rho \\gamma} \\rho_r \\phi_\\kappa \\phi_{r \\lambda}) \\phi_\\mu \\phi_\\nu \\\\\n",
    "&\\quad + 8 (f_{\\rho \\gamma} \\phi_\\kappa \\phi_\\lambda + 2 f_{\\gamma \\gamma} \\rho_w \\phi_{w \\kappa} \\phi_\\lambda + 2 f_{\\gamma \\gamma} \\rho_r \\phi_\\kappa \\phi_{r \\lambda}) \\rho_r (\\phi_{r \\mu} \\phi_{\\nu} + \\phi_{\\mu} \\phi_{r \\nu}) \\\\\n",
    "&\\quad + 8 f_\\gamma (\\phi_{r \\kappa} \\phi_\\lambda + \\phi_\\kappa \\phi_{r \\lambda}) (\\phi_{r \\mu} \\phi_{\\nu} + \\phi_{\\mu} \\phi_{r \\nu}) \\big] U_{mi}^{A_t} C_{\\mu m} C_{\\nu i}\n",
    "\\end{align}\n",
    "$$"
   ]
  },
  {
   "cell_type": "markdown",
   "metadata": {},
   "source": [
    "上式中，方括号所包含的部分就是 GGA 对 A 张量 $A_{\\mu \\nu, \\kappa \\lambda}$ 的贡献；但这个表达式实在是相当长，我们可以依靠对称性作一些简化：\n",
    "\n",
    "$$\n",
    "\\begin{align}\n",
    "A_{\\mu \\nu, \\kappa \\lambda} \\xleftarrow{\\text{GGA contrib}} A_{\\mu \\nu, \\kappa \\lambda}^\\text{GGA}\n",
    "&= f_{\\rho \\rho} \\phi_\\kappa \\phi_\\lambda \\phi_\\mu \\phi_\\nu + 4 f_{\\rho \\gamma} \\rho_r \\phi_{r \\kappa} \\phi_\\lambda \\phi_\\mu \\phi_\\nu \\\\\n",
    "& + 4 f_{\\rho \\gamma} \\phi_\\kappa \\phi_\\lambda \\rho_r \\phi_{r \\mu} \\phi_{\\nu} + 16 f_{\\gamma \\gamma} \\rho_w \\phi_{w \\kappa} \\phi_\\lambda \\rho_r \\phi_{r \\mu} \\phi_{\\nu} \\\\\n",
    "& + 8 f_\\gamma \\phi_{r \\kappa} \\phi_\\lambda \\phi_{r \\mu} \\phi_{\\nu} \\\\\n",
    "& + \\mathrm{swap} (\\mu, \\nu) + \\mathrm{swap} (\\kappa, \\lambda)\n",
    "\\end{align}\n",
    "$$"
   ]
  },
  {
   "cell_type": "code",
   "execution_count": 17,
   "metadata": {},
   "outputs": [
    {
     "data": {
      "text/plain": [
       "(22, 22, 22, 22)"
      ]
     },
     "execution_count": 17,
     "metadata": {},
     "output_type": "execute_result"
    }
   ],
   "source": [
    "A_0_ao_GGA = (\n",
    "    + np.einsum(\"g, gk, gl, gu, gv -> uvkl\", frr, ao_0, ao_0, ao_0, ao_0)\n",
    "    + 4 * np.einsum(\"g, rg, rgk, gl, gu, gv -> uvkl\", frg, rho_1, ao_1, ao_0, ao_0, ao_0)\n",
    "    + 4 * np.einsum(\"g, gk, gl, rg, rgu, gv -> uvkl\", frg, ao_0, ao_0, rho_1, ao_1, ao_0)\n",
    "    + 16 * np.einsum(\"g, wg, wgk, gl, rg, rgu, gv -> uvkl\", fgg, rho_1, ao_1, ao_0, rho_1, ao_1, ao_0)\n",
    "    + 8 * np.einsum(\"g, rgk, gl, rgu, gv -> uvkl\", fg, ao_1, ao_0, ao_1, ao_0)\n",
    ")\n",
    "A_0_ao_GGA += A_0_ao_GGA.swapaxes(-1, -2)\n",
    "A_0_ao_GGA += A_0_ao_GGA.swapaxes(-3, -4)\n",
    "A_0_ao_GGA.shape"
   ]
  },
  {
   "cell_type": "markdown",
   "metadata": {},
   "source": [
    "随后我们就可以给出 GGA 下的 A 张量：\n",
    "\n",
    "$$\n",
    "A_{\\mu \\nu, \\kappa \\lambda} = 4 (\\mu \\nu | \\kappa \\lambda) - c_\\mathrm{x} (\\mu \\kappa | \\nu \\lambda) - c_\\mathrm{x} (\\mu \\lambda | \\nu \\kappa) + A_{\\mu \\nu, \\kappa \\lambda}^\\mathrm{GGA}\n",
    "$$"
   ]
  },
  {
   "cell_type": "code",
   "execution_count": 18,
   "metadata": {},
   "outputs": [],
   "source": [
    "A_0_ao = 4 * eri0_ao - cx * eri0_ao.swapaxes(-2, -3) - cx * eri0_ao.swapaxes(-1, -3) + A_0_ao_GGA"
   ]
  },
  {
   "cell_type": "markdown",
   "metadata": {},
   "source": [
    "我们可以拿现成的程序来验证上述 A 张量是否生成正确。pyxdh 中，它仍然可以用 `Ax0_Core` 与张量作乘积得到：(下式对除了 $p, q$ 之外的角标求和)\n",
    "\n",
    "$$\n",
    "A_{pq, mi} X_{mi} = C_{\\mu p} C_{\\nu q} A_{\\mu \\nu, \\kappa \\lambda} C_{\\kappa m} X_{mi} C_{\\lambda i}\n",
    "$$"
   ]
  },
  {
   "cell_type": "code",
   "execution_count": 19,
   "metadata": {},
   "outputs": [],
   "source": [
    "X = np.random.randn(nmo, nocc)"
   ]
  },
  {
   "cell_type": "code",
   "execution_count": 20,
   "metadata": {},
   "outputs": [
    {
     "data": {
      "text/plain": [
       "True"
      ]
     },
     "execution_count": 20,
     "metadata": {},
     "output_type": "execute_result"
    }
   ],
   "source": [
    "np.allclose(\n",
    "    np.einsum(\"up, vq, uvkl, km, mi, li -> pq\", C, C, A_0_ao, C, X, Co),\n",
    "    gradh.Ax0_Core(sa, sa, sa, so)(X)\n",
    ")"
   ]
  },
  {
   "cell_type": "markdown",
   "metadata": {},
   "source": [
    "<div class=\"alert alert-info\">\n",
    "\n",
    "**演示 A 张量 GGA 贡献部分的缩并效率**\n",
    "\n",
    "你可能会意识到上述生成 `A_0_ao_GGA` 的耗时相当长，但 `Ax0_Core` 的耗时却很短。请尝试用 `np.einsum_path` 分析时间复杂度，并指出一种策略，使得计算 $A_{pq, mi} X_{mi}$ 的耗时与 `Ax0_Core` 相对接近。\n",
    "\n",
    "</div>"
   ]
  },
  {
   "cell_type": "markdown",
   "metadata": {
    "heading_collapsed": true
   },
   "source": [
    "### CP-HF 方程"
   ]
  },
  {
   "cell_type": "markdown",
   "metadata": {
    "hidden": true,
    "scrolled": true
   },
   "source": [
    "既然我们已经知道 A 张量的计算方式，那么就可以通过 CP-HF 方程对 U 矩阵进行求解。首先我们仍然可以通过下式给出 B 矩阵：\n",
    "\n",
    "$$\n",
    "B_{pq}^\\mathbb{A} = F_{pq}^\\mathbb{A} - S_{pq}^\\mathbb{A} \\varepsilon_q - \\frac{1}{2} A_{pq, kl} S_{kl}^\\mathbb{A}\n",
    "$$"
   ]
  },
  {
   "cell_type": "code",
   "execution_count": 21,
   "metadata": {
    "hidden": true
   },
   "outputs": [],
   "source": [
    "B_1 = (\n",
    "    + F_1_mo\n",
    "    - np.einsum(\"Atpq, q -> Atpq\", S_1_mo, e)\n",
    "    - 0.5 * gradh.Ax0_Core(sa, sa, so, so)(S_1_mo[:, :, so, so])\n",
    ")"
   ]
  },
  {
   "cell_type": "markdown",
   "metadata": {
    "hidden": true
   },
   "source": [
    "随后就可以通过 CP-HF 方程求解 `U_1_vo` $U_{ai}^{A_t}$ (在这份文档中，我们一般统一称 CP-KS 方程为 CP-HF 方程，因为解法与意义都几乎一致)：\n",
    "\n",
    "$$\n",
    "- (\\varepsilon_a - \\varepsilon_i) U_{ai}^\\mathbb{A} - A_{ai, bj} U_{bj}^\\mathbb{A} = B_{ai}^\\mathbb{A}\n",
    "$$"
   ]
  },
  {
   "cell_type": "code",
   "execution_count": 22,
   "metadata": {
    "hidden": true
   },
   "outputs": [],
   "source": [
    "U_1_vo = cphf.solve(\n",
    "    gradh.Ax0_Core(sv, so, sv, so, in_cphf=True),\n",
    "    e,\n",
    "    gradh.scf_eng.mo_occ,\n",
    "    B_1[:, :, sv, so].reshape(natm * 3, nvir, nocc),\n",
    "    tol=1e-6,\n",
    ")[0].reshape(natm, 3, nvir, nocc)"
   ]
  },
  {
   "cell_type": "markdown",
   "metadata": {
    "hidden": true
   },
   "source": [
    "我们可以将其与 pyxdh 所给出的 U 矩阵作验证："
   ]
  },
  {
   "cell_type": "code",
   "execution_count": 23,
   "metadata": {
    "hidden": true,
    "scrolled": true
   },
   "outputs": [
    {
     "data": {
      "text/plain": [
       "True"
      ]
     },
     "execution_count": 23,
     "metadata": {},
     "output_type": "execute_result"
    }
   ],
   "source": [
    "np.allclose(U_1_vo.ravel(), gradh.U_1_vo.ravel())"
   ]
  },
  {
   "cell_type": "markdown",
   "metadata": {
    "hidden": true
   },
   "source": [
    "我们也可以用数值的 U 矩阵中非占-占据的分块来验证上述解析 U 矩阵："
   ]
  },
  {
   "cell_type": "code",
   "execution_count": 24,
   "metadata": {
    "hidden": true
   },
   "outputs": [
    {
     "data": {
      "application/javascript": [
       "/* Put everything inside the global mpl namespace */\n",
       "window.mpl = {};\n",
       "\n",
       "\n",
       "mpl.get_websocket_type = function() {\n",
       "    if (typeof(WebSocket) !== 'undefined') {\n",
       "        return WebSocket;\n",
       "    } else if (typeof(MozWebSocket) !== 'undefined') {\n",
       "        return MozWebSocket;\n",
       "    } else {\n",
       "        alert('Your browser does not have WebSocket support. ' +\n",
       "              'Please try Chrome, Safari or Firefox ≥ 6. ' +\n",
       "              'Firefox 4 and 5 are also supported but you ' +\n",
       "              'have to enable WebSockets in about:config.');\n",
       "    };\n",
       "}\n",
       "\n",
       "mpl.figure = function(figure_id, websocket, ondownload, parent_element) {\n",
       "    this.id = figure_id;\n",
       "\n",
       "    this.ws = websocket;\n",
       "\n",
       "    this.supports_binary = (this.ws.binaryType != undefined);\n",
       "\n",
       "    if (!this.supports_binary) {\n",
       "        var warnings = document.getElementById(\"mpl-warnings\");\n",
       "        if (warnings) {\n",
       "            warnings.style.display = 'block';\n",
       "            warnings.textContent = (\n",
       "                \"This browser does not support binary websocket messages. \" +\n",
       "                    \"Performance may be slow.\");\n",
       "        }\n",
       "    }\n",
       "\n",
       "    this.imageObj = new Image();\n",
       "\n",
       "    this.context = undefined;\n",
       "    this.message = undefined;\n",
       "    this.canvas = undefined;\n",
       "    this.rubberband_canvas = undefined;\n",
       "    this.rubberband_context = undefined;\n",
       "    this.format_dropdown = undefined;\n",
       "\n",
       "    this.image_mode = 'full';\n",
       "\n",
       "    this.root = $('<div/>');\n",
       "    this._root_extra_style(this.root)\n",
       "    this.root.attr('style', 'display: inline-block');\n",
       "\n",
       "    $(parent_element).append(this.root);\n",
       "\n",
       "    this._init_header(this);\n",
       "    this._init_canvas(this);\n",
       "    this._init_toolbar(this);\n",
       "\n",
       "    var fig = this;\n",
       "\n",
       "    this.waiting = false;\n",
       "\n",
       "    this.ws.onopen =  function () {\n",
       "            fig.send_message(\"supports_binary\", {value: fig.supports_binary});\n",
       "            fig.send_message(\"send_image_mode\", {});\n",
       "            if (mpl.ratio != 1) {\n",
       "                fig.send_message(\"set_dpi_ratio\", {'dpi_ratio': mpl.ratio});\n",
       "            }\n",
       "            fig.send_message(\"refresh\", {});\n",
       "        }\n",
       "\n",
       "    this.imageObj.onload = function() {\n",
       "            if (fig.image_mode == 'full') {\n",
       "                // Full images could contain transparency (where diff images\n",
       "                // almost always do), so we need to clear the canvas so that\n",
       "                // there is no ghosting.\n",
       "                fig.context.clearRect(0, 0, fig.canvas.width, fig.canvas.height);\n",
       "            }\n",
       "            fig.context.drawImage(fig.imageObj, 0, 0);\n",
       "        };\n",
       "\n",
       "    this.imageObj.onunload = function() {\n",
       "        fig.ws.close();\n",
       "    }\n",
       "\n",
       "    this.ws.onmessage = this._make_on_message_function(this);\n",
       "\n",
       "    this.ondownload = ondownload;\n",
       "}\n",
       "\n",
       "mpl.figure.prototype._init_header = function() {\n",
       "    var titlebar = $(\n",
       "        '<div class=\"ui-dialog-titlebar ui-widget-header ui-corner-all ' +\n",
       "        'ui-helper-clearfix\"/>');\n",
       "    var titletext = $(\n",
       "        '<div class=\"ui-dialog-title\" style=\"width: 100%; ' +\n",
       "        'text-align: center; padding: 3px;\"/>');\n",
       "    titlebar.append(titletext)\n",
       "    this.root.append(titlebar);\n",
       "    this.header = titletext[0];\n",
       "}\n",
       "\n",
       "\n",
       "\n",
       "mpl.figure.prototype._canvas_extra_style = function(canvas_div) {\n",
       "\n",
       "}\n",
       "\n",
       "\n",
       "mpl.figure.prototype._root_extra_style = function(canvas_div) {\n",
       "\n",
       "}\n",
       "\n",
       "mpl.figure.prototype._init_canvas = function() {\n",
       "    var fig = this;\n",
       "\n",
       "    var canvas_div = $('<div/>');\n",
       "\n",
       "    canvas_div.attr('style', 'position: relative; clear: both; outline: 0');\n",
       "\n",
       "    function canvas_keyboard_event(event) {\n",
       "        return fig.key_event(event, event['data']);\n",
       "    }\n",
       "\n",
       "    canvas_div.keydown('key_press', canvas_keyboard_event);\n",
       "    canvas_div.keyup('key_release', canvas_keyboard_event);\n",
       "    this.canvas_div = canvas_div\n",
       "    this._canvas_extra_style(canvas_div)\n",
       "    this.root.append(canvas_div);\n",
       "\n",
       "    var canvas = $('<canvas/>');\n",
       "    canvas.addClass('mpl-canvas');\n",
       "    canvas.attr('style', \"left: 0; top: 0; z-index: 0; outline: 0\")\n",
       "\n",
       "    this.canvas = canvas[0];\n",
       "    this.context = canvas[0].getContext(\"2d\");\n",
       "\n",
       "    var backingStore = this.context.backingStorePixelRatio ||\n",
       "\tthis.context.webkitBackingStorePixelRatio ||\n",
       "\tthis.context.mozBackingStorePixelRatio ||\n",
       "\tthis.context.msBackingStorePixelRatio ||\n",
       "\tthis.context.oBackingStorePixelRatio ||\n",
       "\tthis.context.backingStorePixelRatio || 1;\n",
       "\n",
       "    mpl.ratio = (window.devicePixelRatio || 1) / backingStore;\n",
       "\n",
       "    var rubberband = $('<canvas/>');\n",
       "    rubberband.attr('style', \"position: absolute; left: 0; top: 0; z-index: 1;\")\n",
       "\n",
       "    var pass_mouse_events = true;\n",
       "\n",
       "    canvas_div.resizable({\n",
       "        start: function(event, ui) {\n",
       "            pass_mouse_events = false;\n",
       "        },\n",
       "        resize: function(event, ui) {\n",
       "            fig.request_resize(ui.size.width, ui.size.height);\n",
       "        },\n",
       "        stop: function(event, ui) {\n",
       "            pass_mouse_events = true;\n",
       "            fig.request_resize(ui.size.width, ui.size.height);\n",
       "        },\n",
       "    });\n",
       "\n",
       "    function mouse_event_fn(event) {\n",
       "        if (pass_mouse_events)\n",
       "            return fig.mouse_event(event, event['data']);\n",
       "    }\n",
       "\n",
       "    rubberband.mousedown('button_press', mouse_event_fn);\n",
       "    rubberband.mouseup('button_release', mouse_event_fn);\n",
       "    // Throttle sequential mouse events to 1 every 20ms.\n",
       "    rubberband.mousemove('motion_notify', mouse_event_fn);\n",
       "\n",
       "    rubberband.mouseenter('figure_enter', mouse_event_fn);\n",
       "    rubberband.mouseleave('figure_leave', mouse_event_fn);\n",
       "\n",
       "    canvas_div.on(\"wheel\", function (event) {\n",
       "        event = event.originalEvent;\n",
       "        event['data'] = 'scroll'\n",
       "        if (event.deltaY < 0) {\n",
       "            event.step = 1;\n",
       "        } else {\n",
       "            event.step = -1;\n",
       "        }\n",
       "        mouse_event_fn(event);\n",
       "    });\n",
       "\n",
       "    canvas_div.append(canvas);\n",
       "    canvas_div.append(rubberband);\n",
       "\n",
       "    this.rubberband = rubberband;\n",
       "    this.rubberband_canvas = rubberband[0];\n",
       "    this.rubberband_context = rubberband[0].getContext(\"2d\");\n",
       "    this.rubberband_context.strokeStyle = \"#000000\";\n",
       "\n",
       "    this._resize_canvas = function(width, height) {\n",
       "        // Keep the size of the canvas, canvas container, and rubber band\n",
       "        // canvas in synch.\n",
       "        canvas_div.css('width', width)\n",
       "        canvas_div.css('height', height)\n",
       "\n",
       "        canvas.attr('width', width * mpl.ratio);\n",
       "        canvas.attr('height', height * mpl.ratio);\n",
       "        canvas.attr('style', 'width: ' + width + 'px; height: ' + height + 'px;');\n",
       "\n",
       "        rubberband.attr('width', width);\n",
       "        rubberband.attr('height', height);\n",
       "    }\n",
       "\n",
       "    // Set the figure to an initial 600x600px, this will subsequently be updated\n",
       "    // upon first draw.\n",
       "    this._resize_canvas(600, 600);\n",
       "\n",
       "    // Disable right mouse context menu.\n",
       "    $(this.rubberband_canvas).bind(\"contextmenu\",function(e){\n",
       "        return false;\n",
       "    });\n",
       "\n",
       "    function set_focus () {\n",
       "        canvas.focus();\n",
       "        canvas_div.focus();\n",
       "    }\n",
       "\n",
       "    window.setTimeout(set_focus, 100);\n",
       "}\n",
       "\n",
       "mpl.figure.prototype._init_toolbar = function() {\n",
       "    var fig = this;\n",
       "\n",
       "    var nav_element = $('<div/>');\n",
       "    nav_element.attr('style', 'width: 100%');\n",
       "    this.root.append(nav_element);\n",
       "\n",
       "    // Define a callback function for later on.\n",
       "    function toolbar_event(event) {\n",
       "        return fig.toolbar_button_onclick(event['data']);\n",
       "    }\n",
       "    function toolbar_mouse_event(event) {\n",
       "        return fig.toolbar_button_onmouseover(event['data']);\n",
       "    }\n",
       "\n",
       "    for(var toolbar_ind in mpl.toolbar_items) {\n",
       "        var name = mpl.toolbar_items[toolbar_ind][0];\n",
       "        var tooltip = mpl.toolbar_items[toolbar_ind][1];\n",
       "        var image = mpl.toolbar_items[toolbar_ind][2];\n",
       "        var method_name = mpl.toolbar_items[toolbar_ind][3];\n",
       "\n",
       "        if (!name) {\n",
       "            // put a spacer in here.\n",
       "            continue;\n",
       "        }\n",
       "        var button = $('<button/>');\n",
       "        button.addClass('ui-button ui-widget ui-state-default ui-corner-all ' +\n",
       "                        'ui-button-icon-only');\n",
       "        button.attr('role', 'button');\n",
       "        button.attr('aria-disabled', 'false');\n",
       "        button.click(method_name, toolbar_event);\n",
       "        button.mouseover(tooltip, toolbar_mouse_event);\n",
       "\n",
       "        var icon_img = $('<span/>');\n",
       "        icon_img.addClass('ui-button-icon-primary ui-icon');\n",
       "        icon_img.addClass(image);\n",
       "        icon_img.addClass('ui-corner-all');\n",
       "\n",
       "        var tooltip_span = $('<span/>');\n",
       "        tooltip_span.addClass('ui-button-text');\n",
       "        tooltip_span.html(tooltip);\n",
       "\n",
       "        button.append(icon_img);\n",
       "        button.append(tooltip_span);\n",
       "\n",
       "        nav_element.append(button);\n",
       "    }\n",
       "\n",
       "    var fmt_picker_span = $('<span/>');\n",
       "\n",
       "    var fmt_picker = $('<select/>');\n",
       "    fmt_picker.addClass('mpl-toolbar-option ui-widget ui-widget-content');\n",
       "    fmt_picker_span.append(fmt_picker);\n",
       "    nav_element.append(fmt_picker_span);\n",
       "    this.format_dropdown = fmt_picker[0];\n",
       "\n",
       "    for (var ind in mpl.extensions) {\n",
       "        var fmt = mpl.extensions[ind];\n",
       "        var option = $(\n",
       "            '<option/>', {selected: fmt === mpl.default_extension}).html(fmt);\n",
       "        fmt_picker.append(option);\n",
       "    }\n",
       "\n",
       "    // Add hover states to the ui-buttons\n",
       "    $( \".ui-button\" ).hover(\n",
       "        function() { $(this).addClass(\"ui-state-hover\");},\n",
       "        function() { $(this).removeClass(\"ui-state-hover\");}\n",
       "    );\n",
       "\n",
       "    var status_bar = $('<span class=\"mpl-message\"/>');\n",
       "    nav_element.append(status_bar);\n",
       "    this.message = status_bar[0];\n",
       "}\n",
       "\n",
       "mpl.figure.prototype.request_resize = function(x_pixels, y_pixels) {\n",
       "    // Request matplotlib to resize the figure. Matplotlib will then trigger a resize in the client,\n",
       "    // which will in turn request a refresh of the image.\n",
       "    this.send_message('resize', {'width': x_pixels, 'height': y_pixels});\n",
       "}\n",
       "\n",
       "mpl.figure.prototype.send_message = function(type, properties) {\n",
       "    properties['type'] = type;\n",
       "    properties['figure_id'] = this.id;\n",
       "    this.ws.send(JSON.stringify(properties));\n",
       "}\n",
       "\n",
       "mpl.figure.prototype.send_draw_message = function() {\n",
       "    if (!this.waiting) {\n",
       "        this.waiting = true;\n",
       "        this.ws.send(JSON.stringify({type: \"draw\", figure_id: this.id}));\n",
       "    }\n",
       "}\n",
       "\n",
       "\n",
       "mpl.figure.prototype.handle_save = function(fig, msg) {\n",
       "    var format_dropdown = fig.format_dropdown;\n",
       "    var format = format_dropdown.options[format_dropdown.selectedIndex].value;\n",
       "    fig.ondownload(fig, format);\n",
       "}\n",
       "\n",
       "\n",
       "mpl.figure.prototype.handle_resize = function(fig, msg) {\n",
       "    var size = msg['size'];\n",
       "    if (size[0] != fig.canvas.width || size[1] != fig.canvas.height) {\n",
       "        fig._resize_canvas(size[0], size[1]);\n",
       "        fig.send_message(\"refresh\", {});\n",
       "    };\n",
       "}\n",
       "\n",
       "mpl.figure.prototype.handle_rubberband = function(fig, msg) {\n",
       "    var x0 = msg['x0'] / mpl.ratio;\n",
       "    var y0 = (fig.canvas.height - msg['y0']) / mpl.ratio;\n",
       "    var x1 = msg['x1'] / mpl.ratio;\n",
       "    var y1 = (fig.canvas.height - msg['y1']) / mpl.ratio;\n",
       "    x0 = Math.floor(x0) + 0.5;\n",
       "    y0 = Math.floor(y0) + 0.5;\n",
       "    x1 = Math.floor(x1) + 0.5;\n",
       "    y1 = Math.floor(y1) + 0.5;\n",
       "    var min_x = Math.min(x0, x1);\n",
       "    var min_y = Math.min(y0, y1);\n",
       "    var width = Math.abs(x1 - x0);\n",
       "    var height = Math.abs(y1 - y0);\n",
       "\n",
       "    fig.rubberband_context.clearRect(\n",
       "        0, 0, fig.canvas.width / mpl.ratio, fig.canvas.height / mpl.ratio);\n",
       "\n",
       "    fig.rubberband_context.strokeRect(min_x, min_y, width, height);\n",
       "}\n",
       "\n",
       "mpl.figure.prototype.handle_figure_label = function(fig, msg) {\n",
       "    // Updates the figure title.\n",
       "    fig.header.textContent = msg['label'];\n",
       "}\n",
       "\n",
       "mpl.figure.prototype.handle_cursor = function(fig, msg) {\n",
       "    var cursor = msg['cursor'];\n",
       "    switch(cursor)\n",
       "    {\n",
       "    case 0:\n",
       "        cursor = 'pointer';\n",
       "        break;\n",
       "    case 1:\n",
       "        cursor = 'default';\n",
       "        break;\n",
       "    case 2:\n",
       "        cursor = 'crosshair';\n",
       "        break;\n",
       "    case 3:\n",
       "        cursor = 'move';\n",
       "        break;\n",
       "    }\n",
       "    fig.rubberband_canvas.style.cursor = cursor;\n",
       "}\n",
       "\n",
       "mpl.figure.prototype.handle_message = function(fig, msg) {\n",
       "    fig.message.textContent = msg['message'];\n",
       "}\n",
       "\n",
       "mpl.figure.prototype.handle_draw = function(fig, msg) {\n",
       "    // Request the server to send over a new figure.\n",
       "    fig.send_draw_message();\n",
       "}\n",
       "\n",
       "mpl.figure.prototype.handle_image_mode = function(fig, msg) {\n",
       "    fig.image_mode = msg['mode'];\n",
       "}\n",
       "\n",
       "mpl.figure.prototype.updated_canvas_event = function() {\n",
       "    // Called whenever the canvas gets updated.\n",
       "    this.send_message(\"ack\", {});\n",
       "}\n",
       "\n",
       "// A function to construct a web socket function for onmessage handling.\n",
       "// Called in the figure constructor.\n",
       "mpl.figure.prototype._make_on_message_function = function(fig) {\n",
       "    return function socket_on_message(evt) {\n",
       "        if (evt.data instanceof Blob) {\n",
       "            /* FIXME: We get \"Resource interpreted as Image but\n",
       "             * transferred with MIME type text/plain:\" errors on\n",
       "             * Chrome.  But how to set the MIME type?  It doesn't seem\n",
       "             * to be part of the websocket stream */\n",
       "            evt.data.type = \"image/png\";\n",
       "\n",
       "            /* Free the memory for the previous frames */\n",
       "            if (fig.imageObj.src) {\n",
       "                (window.URL || window.webkitURL).revokeObjectURL(\n",
       "                    fig.imageObj.src);\n",
       "            }\n",
       "\n",
       "            fig.imageObj.src = (window.URL || window.webkitURL).createObjectURL(\n",
       "                evt.data);\n",
       "            fig.updated_canvas_event();\n",
       "            fig.waiting = false;\n",
       "            return;\n",
       "        }\n",
       "        else if (typeof evt.data === 'string' && evt.data.slice(0, 21) == \"data:image/png;base64\") {\n",
       "            fig.imageObj.src = evt.data;\n",
       "            fig.updated_canvas_event();\n",
       "            fig.waiting = false;\n",
       "            return;\n",
       "        }\n",
       "\n",
       "        var msg = JSON.parse(evt.data);\n",
       "        var msg_type = msg['type'];\n",
       "\n",
       "        // Call the  \"handle_{type}\" callback, which takes\n",
       "        // the figure and JSON message as its only arguments.\n",
       "        try {\n",
       "            var callback = fig[\"handle_\" + msg_type];\n",
       "        } catch (e) {\n",
       "            console.log(\"No handler for the '\" + msg_type + \"' message type: \", msg);\n",
       "            return;\n",
       "        }\n",
       "\n",
       "        if (callback) {\n",
       "            try {\n",
       "                // console.log(\"Handling '\" + msg_type + \"' message: \", msg);\n",
       "                callback(fig, msg);\n",
       "            } catch (e) {\n",
       "                console.log(\"Exception inside the 'handler_\" + msg_type + \"' callback:\", e, e.stack, msg);\n",
       "            }\n",
       "        }\n",
       "    };\n",
       "}\n",
       "\n",
       "// from http://stackoverflow.com/questions/1114465/getting-mouse-location-in-canvas\n",
       "mpl.findpos = function(e) {\n",
       "    //this section is from http://www.quirksmode.org/js/events_properties.html\n",
       "    var targ;\n",
       "    if (!e)\n",
       "        e = window.event;\n",
       "    if (e.target)\n",
       "        targ = e.target;\n",
       "    else if (e.srcElement)\n",
       "        targ = e.srcElement;\n",
       "    if (targ.nodeType == 3) // defeat Safari bug\n",
       "        targ = targ.parentNode;\n",
       "\n",
       "    // jQuery normalizes the pageX and pageY\n",
       "    // pageX,Y are the mouse positions relative to the document\n",
       "    // offset() returns the position of the element relative to the document\n",
       "    var x = e.pageX - $(targ).offset().left;\n",
       "    var y = e.pageY - $(targ).offset().top;\n",
       "\n",
       "    return {\"x\": x, \"y\": y};\n",
       "};\n",
       "\n",
       "/*\n",
       " * return a copy of an object with only non-object keys\n",
       " * we need this to avoid circular references\n",
       " * http://stackoverflow.com/a/24161582/3208463\n",
       " */\n",
       "function simpleKeys (original) {\n",
       "  return Object.keys(original).reduce(function (obj, key) {\n",
       "    if (typeof original[key] !== 'object')\n",
       "        obj[key] = original[key]\n",
       "    return obj;\n",
       "  }, {});\n",
       "}\n",
       "\n",
       "mpl.figure.prototype.mouse_event = function(event, name) {\n",
       "    var canvas_pos = mpl.findpos(event)\n",
       "\n",
       "    if (name === 'button_press')\n",
       "    {\n",
       "        this.canvas.focus();\n",
       "        this.canvas_div.focus();\n",
       "    }\n",
       "\n",
       "    var x = canvas_pos.x * mpl.ratio;\n",
       "    var y = canvas_pos.y * mpl.ratio;\n",
       "\n",
       "    this.send_message(name, {x: x, y: y, button: event.button,\n",
       "                             step: event.step,\n",
       "                             guiEvent: simpleKeys(event)});\n",
       "\n",
       "    /* This prevents the web browser from automatically changing to\n",
       "     * the text insertion cursor when the button is pressed.  We want\n",
       "     * to control all of the cursor setting manually through the\n",
       "     * 'cursor' event from matplotlib */\n",
       "    event.preventDefault();\n",
       "    return false;\n",
       "}\n",
       "\n",
       "mpl.figure.prototype._key_event_extra = function(event, name) {\n",
       "    // Handle any extra behaviour associated with a key event\n",
       "}\n",
       "\n",
       "mpl.figure.prototype.key_event = function(event, name) {\n",
       "\n",
       "    // Prevent repeat events\n",
       "    if (name == 'key_press')\n",
       "    {\n",
       "        if (event.which === this._key)\n",
       "            return;\n",
       "        else\n",
       "            this._key = event.which;\n",
       "    }\n",
       "    if (name == 'key_release')\n",
       "        this._key = null;\n",
       "\n",
       "    var value = '';\n",
       "    if (event.ctrlKey && event.which != 17)\n",
       "        value += \"ctrl+\";\n",
       "    if (event.altKey && event.which != 18)\n",
       "        value += \"alt+\";\n",
       "    if (event.shiftKey && event.which != 16)\n",
       "        value += \"shift+\";\n",
       "\n",
       "    value += 'k';\n",
       "    value += event.which.toString();\n",
       "\n",
       "    this._key_event_extra(event, name);\n",
       "\n",
       "    this.send_message(name, {key: value,\n",
       "                             guiEvent: simpleKeys(event)});\n",
       "    return false;\n",
       "}\n",
       "\n",
       "mpl.figure.prototype.toolbar_button_onclick = function(name) {\n",
       "    if (name == 'download') {\n",
       "        this.handle_save(this, null);\n",
       "    } else {\n",
       "        this.send_message(\"toolbar_button\", {name: name});\n",
       "    }\n",
       "};\n",
       "\n",
       "mpl.figure.prototype.toolbar_button_onmouseover = function(tooltip) {\n",
       "    this.message.textContent = tooltip;\n",
       "};\n",
       "mpl.toolbar_items = [[\"Home\", \"Reset original view\", \"fa fa-home icon-home\", \"home\"], [\"Back\", \"Back to previous view\", \"fa fa-arrow-left icon-arrow-left\", \"back\"], [\"Forward\", \"Forward to next view\", \"fa fa-arrow-right icon-arrow-right\", \"forward\"], [\"\", \"\", \"\", \"\"], [\"Pan\", \"Pan axes with left mouse, zoom with right\", \"fa fa-arrows icon-move\", \"pan\"], [\"Zoom\", \"Zoom to rectangle\", \"fa fa-square-o icon-check-empty\", \"zoom\"], [\"\", \"\", \"\", \"\"], [\"Download\", \"Download plot\", \"fa fa-floppy-o icon-save\", \"download\"]];\n",
       "\n",
       "mpl.extensions = [\"eps\", \"pdf\", \"png\", \"ps\", \"raw\", \"svg\"];\n",
       "\n",
       "mpl.default_extension = \"png\";var comm_websocket_adapter = function(comm) {\n",
       "    // Create a \"websocket\"-like object which calls the given IPython comm\n",
       "    // object with the appropriate methods. Currently this is a non binary\n",
       "    // socket, so there is still some room for performance tuning.\n",
       "    var ws = {};\n",
       "\n",
       "    ws.close = function() {\n",
       "        comm.close()\n",
       "    };\n",
       "    ws.send = function(m) {\n",
       "        //console.log('sending', m);\n",
       "        comm.send(m);\n",
       "    };\n",
       "    // Register the callback with on_msg.\n",
       "    comm.on_msg(function(msg) {\n",
       "        //console.log('receiving', msg['content']['data'], msg);\n",
       "        // Pass the mpl event to the overridden (by mpl) onmessage function.\n",
       "        ws.onmessage(msg['content']['data'])\n",
       "    });\n",
       "    return ws;\n",
       "}\n",
       "\n",
       "mpl.mpl_figure_comm = function(comm, msg) {\n",
       "    // This is the function which gets called when the mpl process\n",
       "    // starts-up an IPython Comm through the \"matplotlib\" channel.\n",
       "\n",
       "    var id = msg.content.data.id;\n",
       "    // Get hold of the div created by the display call when the Comm\n",
       "    // socket was opened in Python.\n",
       "    var element = $(\"#\" + id);\n",
       "    var ws_proxy = comm_websocket_adapter(comm)\n",
       "\n",
       "    function ondownload(figure, format) {\n",
       "        window.open(figure.imageObj.src);\n",
       "    }\n",
       "\n",
       "    var fig = new mpl.figure(id, ws_proxy,\n",
       "                           ondownload,\n",
       "                           element.get(0));\n",
       "\n",
       "    // Call onopen now - mpl needs it, as it is assuming we've passed it a real\n",
       "    // web socket which is closed, not our websocket->open comm proxy.\n",
       "    ws_proxy.onopen();\n",
       "\n",
       "    fig.parent_element = element.get(0);\n",
       "    fig.cell_info = mpl.find_output_cell(\"<div id='\" + id + \"'></div>\");\n",
       "    if (!fig.cell_info) {\n",
       "        console.error(\"Failed to find cell for figure\", id, fig);\n",
       "        return;\n",
       "    }\n",
       "\n",
       "    var output_index = fig.cell_info[2]\n",
       "    var cell = fig.cell_info[0];\n",
       "\n",
       "};\n",
       "\n",
       "mpl.figure.prototype.handle_close = function(fig, msg) {\n",
       "    var width = fig.canvas.width/mpl.ratio\n",
       "    fig.root.unbind('remove')\n",
       "\n",
       "    // Update the output cell to use the data from the current canvas.\n",
       "    fig.push_to_output();\n",
       "    var dataURL = fig.canvas.toDataURL();\n",
       "    // Re-enable the keyboard manager in IPython - without this line, in FF,\n",
       "    // the notebook keyboard shortcuts fail.\n",
       "    IPython.keyboard_manager.enable()\n",
       "    $(fig.parent_element).html('<img src=\"' + dataURL + '\" width=\"' + width + '\">');\n",
       "    fig.close_ws(fig, msg);\n",
       "}\n",
       "\n",
       "mpl.figure.prototype.close_ws = function(fig, msg){\n",
       "    fig.send_message('closing', msg);\n",
       "    // fig.ws.close()\n",
       "}\n",
       "\n",
       "mpl.figure.prototype.push_to_output = function(remove_interactive) {\n",
       "    // Turn the data on the canvas into data in the output cell.\n",
       "    var width = this.canvas.width/mpl.ratio\n",
       "    var dataURL = this.canvas.toDataURL();\n",
       "    this.cell_info[1]['text/html'] = '<img src=\"' + dataURL + '\" width=\"' + width + '\">';\n",
       "}\n",
       "\n",
       "mpl.figure.prototype.updated_canvas_event = function() {\n",
       "    // Tell IPython that the notebook contents must change.\n",
       "    IPython.notebook.set_dirty(true);\n",
       "    this.send_message(\"ack\", {});\n",
       "    var fig = this;\n",
       "    // Wait a second, then push the new image to the DOM so\n",
       "    // that it is saved nicely (might be nice to debounce this).\n",
       "    setTimeout(function () { fig.push_to_output() }, 1000);\n",
       "}\n",
       "\n",
       "mpl.figure.prototype._init_toolbar = function() {\n",
       "    var fig = this;\n",
       "\n",
       "    var nav_element = $('<div/>');\n",
       "    nav_element.attr('style', 'width: 100%');\n",
       "    this.root.append(nav_element);\n",
       "\n",
       "    // Define a callback function for later on.\n",
       "    function toolbar_event(event) {\n",
       "        return fig.toolbar_button_onclick(event['data']);\n",
       "    }\n",
       "    function toolbar_mouse_event(event) {\n",
       "        return fig.toolbar_button_onmouseover(event['data']);\n",
       "    }\n",
       "\n",
       "    for(var toolbar_ind in mpl.toolbar_items){\n",
       "        var name = mpl.toolbar_items[toolbar_ind][0];\n",
       "        var tooltip = mpl.toolbar_items[toolbar_ind][1];\n",
       "        var image = mpl.toolbar_items[toolbar_ind][2];\n",
       "        var method_name = mpl.toolbar_items[toolbar_ind][3];\n",
       "\n",
       "        if (!name) { continue; };\n",
       "\n",
       "        var button = $('<button class=\"btn btn-default\" href=\"#\" title=\"' + name + '\"><i class=\"fa ' + image + ' fa-lg\"></i></button>');\n",
       "        button.click(method_name, toolbar_event);\n",
       "        button.mouseover(tooltip, toolbar_mouse_event);\n",
       "        nav_element.append(button);\n",
       "    }\n",
       "\n",
       "    // Add the status bar.\n",
       "    var status_bar = $('<span class=\"mpl-message\" style=\"text-align:right; float: right;\"/>');\n",
       "    nav_element.append(status_bar);\n",
       "    this.message = status_bar[0];\n",
       "\n",
       "    // Add the close button to the window.\n",
       "    var buttongrp = $('<div class=\"btn-group inline pull-right\"></div>');\n",
       "    var button = $('<button class=\"btn btn-mini btn-primary\" href=\"#\" title=\"Stop Interaction\"><i class=\"fa fa-power-off icon-remove icon-large\"></i></button>');\n",
       "    button.click(function (evt) { fig.handle_close(fig, {}); } );\n",
       "    button.mouseover('Stop Interaction', toolbar_mouse_event);\n",
       "    buttongrp.append(button);\n",
       "    var titlebar = this.root.find($('.ui-dialog-titlebar'));\n",
       "    titlebar.prepend(buttongrp);\n",
       "}\n",
       "\n",
       "mpl.figure.prototype._root_extra_style = function(el){\n",
       "    var fig = this\n",
       "    el.on(\"remove\", function(){\n",
       "\tfig.close_ws(fig, {});\n",
       "    });\n",
       "}\n",
       "\n",
       "mpl.figure.prototype._canvas_extra_style = function(el){\n",
       "    // this is important to make the div 'focusable\n",
       "    el.attr('tabindex', 0)\n",
       "    // reach out to IPython and tell the keyboard manager to turn it's self\n",
       "    // off when our div gets focus\n",
       "\n",
       "    // location in version 3\n",
       "    if (IPython.notebook.keyboard_manager) {\n",
       "        IPython.notebook.keyboard_manager.register_events(el);\n",
       "    }\n",
       "    else {\n",
       "        // location in version 2\n",
       "        IPython.keyboard_manager.register_events(el);\n",
       "    }\n",
       "\n",
       "}\n",
       "\n",
       "mpl.figure.prototype._key_event_extra = function(event, name) {\n",
       "    var manager = IPython.notebook.keyboard_manager;\n",
       "    if (!manager)\n",
       "        manager = IPython.keyboard_manager;\n",
       "\n",
       "    // Check for shift+enter\n",
       "    if (event.shiftKey && event.which == 13) {\n",
       "        this.canvas_div.blur();\n",
       "        // select the cell after this one\n",
       "        var index = IPython.notebook.find_cell_index(this.cell_info[0]);\n",
       "        IPython.notebook.select(index + 1);\n",
       "    }\n",
       "}\n",
       "\n",
       "mpl.figure.prototype.handle_save = function(fig, msg) {\n",
       "    fig.ondownload(fig, null);\n",
       "}\n",
       "\n",
       "\n",
       "mpl.find_output_cell = function(html_output) {\n",
       "    // Return the cell and output element which can be found *uniquely* in the notebook.\n",
       "    // Note - this is a bit hacky, but it is done because the \"notebook_saving.Notebook\"\n",
       "    // IPython event is triggered only after the cells have been serialised, which for\n",
       "    // our purposes (turning an active figure into a static one), is too late.\n",
       "    var cells = IPython.notebook.get_cells();\n",
       "    var ncells = cells.length;\n",
       "    for (var i=0; i<ncells; i++) {\n",
       "        var cell = cells[i];\n",
       "        if (cell.cell_type === 'code'){\n",
       "            for (var j=0; j<cell.output_area.outputs.length; j++) {\n",
       "                var data = cell.output_area.outputs[j];\n",
       "                if (data.data) {\n",
       "                    // IPython >= 3 moved mimebundle to data attribute of output\n",
       "                    data = data.data;\n",
       "                }\n",
       "                if (data['text/html'] == html_output) {\n",
       "                    return [cell, data, j];\n",
       "                }\n",
       "            }\n",
       "        }\n",
       "    }\n",
       "}\n",
       "\n",
       "// Register the function which deals with the matplotlib target/channel.\n",
       "// The kernel may be null if the page has been refreshed.\n",
       "if (IPython.notebook.kernel != null) {\n",
       "    IPython.notebook.kernel.comm_manager.register_target('matplotlib', mpl.mpl_figure_comm);\n",
       "}\n"
      ],
      "text/plain": [
       "<IPython.core.display.Javascript object>"
      ]
     },
     "metadata": {},
     "output_type": "display_data"
    },
    {
     "data": {
      "text/html": [
       "<img src=\"data:image/png;base64,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\" width=\"400\">"
      ],
      "text/plain": [
       "<IPython.core.display.HTML object>"
      ]
     },
     "metadata": {},
     "output_type": "display_data"
    }
   ],
   "source": [
    "nd_C = NumericDiff(gradn, lambda gradh: gradh.C).derivative.reshape((natm, 3, nao, nao))\n",
    "nd_U_1_vo = np.einsum(\"mu, Atup -> Atmp\", np.linalg.inv(C), nd_C)[:, :, sv, so]\n",
    "fig, ax = plt.subplots(figsize=(4, 3)); ax.set_xscale(\"log\")\n",
    "ax.hist(abs(U_1_vo.ravel() - nd_U_1_vo.ravel()), bins=np.logspace(np.log10(1e-9), np.log10(1e-1), 50), alpha=0.5)\n",
    "ax.hist(abs(nd_U_1_vo.ravel()), bins=np.logspace(np.log10(1e-9), np.log10(1e-1), 50), alpha=0.5)\n",
    "fig.tight_layout()"
   ]
  },
  {
   "cell_type": "markdown",
   "metadata": {
    "hidden": true
   },
   "source": [
    "尽管在求解 B2PLYP 型泛函时，我们不一定要使用 U 矩阵；但上面的过程可以确认 CP-HF 方程可以在 GGA 下用程序实现，进而使用 Z-Vector 方法，求解双杂化泛函下的弛豫密度的非占-占据分块 $D_{ai}^\\mathrm{PT2}$。"
   ]
  },
  {
   "cell_type": "markdown",
   "metadata": {},
   "source": [
    "## B2PLYP 型泛函核坐标梯度"
   ]
  },
  {
   "cell_type": "markdown",
   "metadata": {},
   "source": [
    "这里我们就几乎是再回顾一遍 MP2 核坐标梯度流程了。尽管 B2PLYP 型泛函在一些变量上定义与 MP2 较之略有区别，但大体上是相通的。"
   ]
  },
  {
   "cell_type": "markdown",
   "metadata": {
    "heading_collapsed": true
   },
   "source": [
    "### PT2 相关能"
   ]
  },
  {
   "cell_type": "markdown",
   "metadata": {
    "hidden": true
   },
   "source": [
    "B2PLYP 型泛函的能量分为自洽场部分 (SCF) 与二阶微扰部分 (PT2)，其中 PT2 部分定义如下："
   ]
  },
  {
   "cell_type": "markdown",
   "metadata": {
    "hidden": true
   },
   "source": [
    "$$\n",
    "\\begin{align}\n",
    "E_\\mathrm{PT2} &= T_{ij}^{ab} t_{ij}^{ab} D_{ij}^{ab} \\\\\n",
    "T_{ij}^{ab} &= c_\\mathrm{c} (2 t_{ij}^{ab} - t_{ij}^{ba}) \\\\\n",
    "t_{ij}^{ab} &= (ia|jb) / D_{ij}^{ab} \\\\\n",
    "D_{ij}^{ab} &= \\varepsilon_i - \\varepsilon_a + \\varepsilon_j - \\varepsilon_b\n",
    "\\end{align}\n",
    "$$"
   ]
  },
  {
   "cell_type": "markdown",
   "metadata": {
    "hidden": true
   },
   "source": [
    "除了在 $T_{ij}^{ab}$ 处引入了相关系数 $c_\\mathrm{c}$ 之外，就与 MP2 近乎没有区别了。在 B2PLYP 中，该系数大小为 0.27。"
   ]
  },
  {
   "cell_type": "code",
   "execution_count": 25,
   "metadata": {
    "hidden": true
   },
   "outputs": [],
   "source": [
    "T_iajb, t_iajb, D_iajb = gradh.T_iajb, gradh.t_iajb, gradh.D_iajb"
   ]
  },
  {
   "cell_type": "code",
   "execution_count": 26,
   "metadata": {
    "hidden": true
   },
   "outputs": [
    {
     "data": {
      "text/plain": [
       "True"
      ]
     },
     "execution_count": 26,
     "metadata": {},
     "output_type": "execute_result"
    }
   ],
   "source": [
    "np.allclose(cc * 2 * t_iajb - cc * t_iajb.swapaxes(-1, -3), T_iajb)"
   ]
  },
  {
   "cell_type": "markdown",
   "metadata": {
    "hidden": true
   },
   "source": [
    "我们不妨再验证一下 B2PLYP 总能量的计算。\n",
    "\n",
    "$$\n",
    "E_\\mathrm{tot} = E_\\mathrm{nuc} + E_\\mathrm{SCF} + E_\\mathrm{PT2}\n",
    "$$"
   ]
  },
  {
   "cell_type": "code",
   "execution_count": 27,
   "metadata": {
    "hidden": true
   },
   "outputs": [
    {
     "data": {
      "text/plain": [
       "-151.20399655987893"
      ]
     },
     "execution_count": 27,
     "metadata": {},
     "output_type": "execute_result"
    }
   ],
   "source": [
    "gradh.scf_eng.energy_nuc() + gradh.scf_eng.energy_elec()[0] + (T_iajb * t_iajb * D_iajb).sum()"
   ]
  },
  {
   "cell_type": "markdown",
   "metadata": {
    "hidden": true
   },
   "source": [
    "pyxdh 所直接给出的 B2PLYP 总能量则为："
   ]
  },
  {
   "cell_type": "code",
   "execution_count": 28,
   "metadata": {
    "hidden": true
   },
   "outputs": [
    {
     "data": {
      "text/plain": [
       "-151.20399655987893"
      ]
     },
     "execution_count": 28,
     "metadata": {},
     "output_type": "execute_result"
    }
   ],
   "source": [
    "gradh.eng"
   ]
  },
  {
   "cell_type": "markdown",
   "metadata": {
    "heading_collapsed": true
   },
   "source": [
    "### PT2 能量梯度"
   ]
  },
  {
   "cell_type": "markdown",
   "metadata": {
    "hidden": true
   },
   "source": [
    "如 MP2 一样，PT2 能量梯度也一样能写为\n",
    "\n",
    "$$\n",
    "\\partial_{A_t} E_\\mathrm{PT2} = D_{pq}^\\mathrm{PT2} B_{pq}^{A_t} + W_{pq}^\\mathrm{PT2} [\\mathrm{I}] S_{pq}^{A_t} + 2 T_{ij}^{ab} (ia|jb)^{A_t}\n",
    "$$"
   ]
  },
  {
   "cell_type": "markdown",
   "metadata": {
    "hidden": true
   },
   "source": [
    "其中，弛豫密度 $D_{pq}^\\text{PT2}$ 定义仍然是\n",
    "\n",
    "$$\n",
    "\\begin{aligned}\n",
    "D_{ij}^\\text{PT2} &= - 2 T_{ik}^{ab} t_{jk}^{ab} \\\\\n",
    "D_{ab}^\\text{PT2} &= 2 T_{ij}^{ac} t_{ij}^{bc} \\\\\n",
    "- (\\varepsilon_a - \\varepsilon_i) D_{ai}^\\mathrm{PT2} - A_{ai, bj} D_{bj}^\\mathrm{PT2} &= L_{ai} \\\\\n",
    "D_{ia}^\\mathrm{PT2} &= 0\n",
    "\\end{aligned}\n",
    "$$"
   ]
  },
  {
   "cell_type": "markdown",
   "metadata": {
    "hidden": true
   },
   "source": [
    "其中，\n",
    "\n",
    "$$\n",
    "\\begin{align}\n",
    "L_{ai} &= A_{ai, kl} D_{kl}^\\mathrm{PT2} + A_{ai, bc} D_{bc}^\\mathrm{PT2} - 4 T_{jk}^{ab} (ij|bk) + 4 T_{ij}^{bc} (ab|jc)\n",
    "\\end{align}\n",
    "$$"
   ]
  },
  {
   "cell_type": "code",
   "execution_count": 29,
   "metadata": {
    "hidden": true
   },
   "outputs": [],
   "source": [
    "D_r = np.zeros((nmo, nmo))\n",
    "D_r[so, so] = - 2 * np.einsum(\"iakb, jakb -> ij\", T_iajb, t_iajb)\n",
    "D_r[sv, sv] = 2 * np.einsum(\"iajc, ibjc -> ab\", T_iajb, t_iajb)\n",
    "L = (\n",
    "    + gradh.Ax0_Core(sv, so, sa, sa)(D_r)\n",
    "    - 4 * np.einsum(\"jakb, ijbk -> ai\", T_iajb, eri0_mo[so, so, sv, so])\n",
    "    + 4 * np.einsum(\"ibjc, abjc -> ai\", T_iajb, eri0_mo[sv, sv, so, sv])\n",
    ")\n",
    "D_r[sv, so] = cphf.solve(gradh.Ax0_Core(sv, so, sv, so), e, gradh.mo_occ, L, max_cycle=100)[0]"
   ]
  },
  {
   "cell_type": "code",
   "execution_count": 30,
   "metadata": {
    "hidden": true
   },
   "outputs": [
    {
     "data": {
      "text/plain": [
       "True"
      ]
     },
     "execution_count": 30,
     "metadata": {},
     "output_type": "execute_result"
    }
   ],
   "source": [
    "np.allclose(D_r, gradh.D_r)"
   ]
  },
  {
   "cell_type": "markdown",
   "metadata": {
    "hidden": true
   },
   "source": [
    "以及 $W_{pq}^\\mathrm{PT2} [\\mathrm{I}]$ 定义仍然是\n",
    "\n",
    "$$\n",
    "\\begin{align}\n",
    "W_{ij}^\\mathrm{PT2} [\\mathrm{I}] &= - 2 T_{ik}^{ab} (ja|kb) \\\\\n",
    "W_{ab}^\\mathrm{PT2} [\\mathrm{I}] &= - 2 T_{ij}^{ac} (ib|jc) \\\\\n",
    "W_{ai}^\\mathrm{PT2} [\\mathrm{I}] &= - 4 T_{jk}^{ab} (ij|bk) \\\\\n",
    "W_{ia}^\\mathrm{PT2} [\\mathrm{I}] &= 0\n",
    "\\end{align}\n",
    "$$"
   ]
  },
  {
   "cell_type": "code",
   "execution_count": 31,
   "metadata": {
    "hidden": true
   },
   "outputs": [],
   "source": [
    "W_I = np.zeros((nmo, nmo))\n",
    "W_I = np.zeros((nmo, nmo))\n",
    "W_I[so, so] = - 2 * np.einsum(\"iakb, jakb -> ij\", T_iajb, eri0_mo[so, sv, so, sv])\n",
    "W_I[sv, sv] = - 2 * np.einsum(\"iajc, ibjc -> ab\", T_iajb, eri0_mo[so, sv, so, sv])\n",
    "W_I[sv, so] = - 4 * np.einsum(\"jakb, ijbk -> ai\", T_iajb, eri0_mo[so, so, sv, so])"
   ]
  },
  {
   "cell_type": "code",
   "execution_count": 32,
   "metadata": {
    "hidden": true
   },
   "outputs": [
    {
     "data": {
      "text/plain": [
       "True"
      ]
     },
     "execution_count": 32,
     "metadata": {},
     "output_type": "execute_result"
    }
   ],
   "source": [
    "np.allclose(W_I, gradh.W_I)"
   ]
  },
  {
   "cell_type": "markdown",
   "metadata": {
    "hidden": true
   },
   "source": [
    "因此，总 PT2 能量的导数可以生成如下："
   ]
  },
  {
   "cell_type": "code",
   "execution_count": 33,
   "metadata": {
    "hidden": true
   },
   "outputs": [
    {
     "data": {
      "text/plain": [
       "array([[ 0.01457, -0.00054,  0.02555],\n",
       "       [-0.00174,  0.00928, -0.03034],\n",
       "       [-0.01221, -0.00043, -0.00322],\n",
       "       [-0.00061, -0.00832,  0.00801]])"
      ]
     },
     "execution_count": 33,
     "metadata": {},
     "output_type": "execute_result"
    }
   ],
   "source": [
    "E_1_MP2_contrib = (\n",
    "    + np.einsum(\"pq, Atpq -> At\", D_r, B_1)\n",
    "    + np.einsum(\"pq, Atpq -> At\", W_I, S_1_mo)\n",
    "    + 2 * np.einsum(\"iajb, Atiajb -> At\", T_iajb, eri1_mo[:, :, so, sv, so, sv])\n",
    ")\n",
    "E_1_MP2_contrib"
   ]
  },
  {
   "cell_type": "markdown",
   "metadata": {
    "hidden": true
   },
   "source": [
    "而自洽场总能量导数可以使用父类 `GradSCF` 的函数生成："
   ]
  },
  {
   "cell_type": "code",
   "execution_count": 34,
   "metadata": {
    "hidden": true
   },
   "outputs": [
    {
     "data": {
      "text/plain": [
       "array([[-0.04938,  0.06774,  0.1109 ],\n",
       "       [ 0.01107,  0.15143, -0.1389 ],\n",
       "       [ 0.01952,  0.01315,  0.03539],\n",
       "       [ 0.01879, -0.23232, -0.00739]])"
      ]
     },
     "execution_count": 34,
     "metadata": {},
     "output_type": "execute_result"
    }
   ],
   "source": [
    "E_1_SCF_contrib = GradSCF._get_E_1(gradh)\n",
    "E_1_SCF_contrib"
   ]
  },
  {
   "cell_type": "markdown",
   "metadata": {
    "hidden": true
   },
   "source": [
    "总的能量梯度则表示如下："
   ]
  },
  {
   "cell_type": "code",
   "execution_count": 35,
   "metadata": {
    "hidden": true
   },
   "outputs": [
    {
     "data": {
      "text/plain": [
       "array([[-0.03482,  0.0672 ,  0.13645],\n",
       "       [ 0.00933,  0.16072, -0.16924],\n",
       "       [ 0.00731,  0.01272,  0.03217],\n",
       "       [ 0.01818, -0.24064,  0.00062]])"
      ]
     },
     "execution_count": 35,
     "metadata": {},
     "output_type": "execute_result"
    }
   ],
   "source": [
    "E_1_SCF_contrib + E_1_MP2_contrib"
   ]
  },
  {
   "cell_type": "markdown",
   "metadata": {
    "hidden": true
   },
   "source": [
    "在 pyxdh 中，`E_1` 可以用来生成总能量梯度："
   ]
  },
  {
   "cell_type": "code",
   "execution_count": 36,
   "metadata": {
    "hidden": true
   },
   "outputs": [
    {
     "data": {
      "text/plain": [
       "array([[-0.03482,  0.0672 ,  0.13645],\n",
       "       [ 0.00933,  0.16072, -0.16924],\n",
       "       [ 0.00731,  0.01272,  0.03217],\n",
       "       [ 0.01818, -0.24064,  0.00062]])"
      ]
     },
     "execution_count": 36,
     "metadata": {},
     "output_type": "execute_result"
    }
   ],
   "source": [
    "gradh.E_1"
   ]
  },
  {
   "cell_type": "markdown",
   "metadata": {
    "hidden": true
   },
   "source": [
    "我们也可以使用数值导数的方法生成总能量梯度："
   ]
  },
  {
   "cell_type": "code",
   "execution_count": 37,
   "metadata": {
    "hidden": true
   },
   "outputs": [
    {
     "data": {
      "text/plain": [
       "array([[-0.03481,  0.0672 ,  0.13644],\n",
       "       [ 0.00933,  0.16072, -0.16923],\n",
       "       [ 0.00731,  0.01272,  0.03217],\n",
       "       [ 0.01818, -0.24064,  0.00062]])"
      ]
     },
     "execution_count": 37,
     "metadata": {},
     "output_type": "execute_result"
    }
   ],
   "source": [
    "nd_E_0 = NumericDiff(gradn, lambda gradh: gradh.eng).derivative\n",
    "nd_E_0.reshape(natm, 3)"
   ]
  },
  {
   "cell_type": "code",
   "execution_count": 38,
   "metadata": {
    "hidden": true
   },
   "outputs": [
    {
     "data": {
      "text/plain": [
       "False"
      ]
     },
     "execution_count": 38,
     "metadata": {},
     "output_type": "execute_result"
    }
   ],
   "source": [
    "np.allclose(E_1_SCF_contrib + E_1_MP2_contrib, nd_E_0.reshape(natm, 3))"
   ]
  },
  {
   "cell_type": "markdown",
   "metadata": {},
   "source": [
    "## 演示任务：A 张量 GGA 贡献部分的缩并效率"
   ]
  },
  {
   "cell_type": "markdown",
   "metadata": {},
   "source": [
    "在这里，我们统一处理的是 $A_{ai, bj}^\\mathrm{GGA} X_{bj}^\\mathbb{A}$ 问题 (作为结果的张量是 $(\\mathbb{A}, a, i)$ 维度的)，其中 $\\mathbb{A}$ 代表的维度数量是 5。"
   ]
  },
  {
   "cell_type": "code",
   "execution_count": 39,
   "metadata": {},
   "outputs": [],
   "source": [
    "X = np.random.randn(5, nvir, nocc)"
   ]
  },
  {
   "cell_type": "markdown",
   "metadata": {},
   "source": [
    "### 原子轨道下 A 张量的缩并"
   ]
  },
  {
   "cell_type": "markdown",
   "metadata": {},
   "source": [
    "我们先回顾一下原子轨道下的缩并情况：\n",
    "\n",
    "$$\n",
    "\\begin{align}\n",
    "A_{\\mu \\nu, \\kappa \\lambda} \\xleftarrow{\\text{GGA contrib}} A_{\\mu \\nu, \\kappa \\lambda}^\\text{GGA}\n",
    "&= f_{\\rho \\rho} \\phi_\\kappa \\phi_\\lambda \\phi_\\mu \\phi_\\nu + 4 f_{\\rho \\gamma} \\rho_r \\phi_{r \\kappa} \\phi_\\lambda \\phi_\\mu \\phi_\\nu \\\\\n",
    "& + 4 f_{\\rho \\gamma} \\phi_\\kappa \\phi_\\lambda \\rho_r \\phi_{r \\mu} \\phi_{\\nu} + 16 f_{\\gamma \\gamma} \\rho_w \\phi_{w \\kappa} \\phi_\\lambda \\rho_r \\phi_{r \\mu} \\phi_{\\nu} \\\\\n",
    "& + 8 f_\\gamma \\phi_{r \\kappa} \\phi_\\lambda \\phi_{r \\mu} \\phi_{\\nu} \\\\\n",
    "& + \\mathrm{swap} (\\mu, \\nu) + \\mathrm{swap} (\\kappa, \\lambda)\n",
    "\\end{align}\n",
    "$$"
   ]
  },
  {
   "cell_type": "markdown",
   "metadata": {},
   "source": [
    "如果我们要求 $A_{ai, bj}^\\mathrm{GGA} X_{bj}^\\mathbb{A}$，那么我们还要经过一次张量缩并：\n",
    "\n",
    "$$\n",
    "A_{ai, bj}^\\mathrm{GGA} X_{bj}^\\mathbb{A} = C_{\\mu a} C_{\\nu i} A_{\\mu \\nu, \\kappa \\lambda}^\\text{GGA} C_{\\kappa b} X_{bj}^\\mathbb{A} C_{\\lambda j}\n",
    "$$"
   ]
  },
  {
   "cell_type": "markdown",
   "metadata": {},
   "source": [
    "这样一个过程相当花时间，因此我们只进行一次运行输出时间信息："
   ]
  },
  {
   "cell_type": "code",
   "execution_count": 40,
   "metadata": {
    "scrolled": true
   },
   "outputs": [
    {
     "name": "stdout",
     "output_type": "stream",
     "text": [
      "CPU times: user 7.53 s, sys: 3.78 s, total: 11.3 s\n",
      "Wall time: 12.6 s\n"
     ]
    }
   ],
   "source": [
    "%%time\n",
    "A_0_ao_GGA = (\n",
    "    +      np.einsum(\"g, gk, gl, gu, gv -> uvkl\"          , frr, ao_0, ao_0, ao_0, ao_0)\n",
    "    + 4  * np.einsum(\"g, rg, rgk, gl, gu, gv -> uvkl\"     , frg, rho_1, ao_1, ao_0, ao_0, ao_0)\n",
    "    + 4  * np.einsum(\"g, gk, gl, rg, rgu, gv -> uvkl\"     , frg, ao_0, ao_0, rho_1, ao_1, ao_0)\n",
    "    + 16 * np.einsum(\"g, wg, wgk, gl, rg, rgu, gv -> uvkl\", fgg, rho_1, ao_1, ao_0, rho_1, ao_1, ao_0)\n",
    "    + 8  * np.einsum(\"g, rgk, gl, rgu, gv -> uvkl\"        , fg, ao_1, ao_0, ao_1, ao_0)\n",
    ")\n",
    "A_0_ao_GGA += A_0_ao_GGA.swapaxes(-1, -2)\n",
    "A_0_ao_GGA += A_0_ao_GGA.swapaxes(-3, -4)\n",
    "Ax_GGA = np.einsum(\"ua, vi, uvkl, kb, Abj, lj -> Aai\", Cv, Co, A_0_ao_GGA, Cv, X, Co)"
   ]
  },
  {
   "cell_type": "markdown",
   "metadata": {},
   "source": [
    "我们来看一下为何需要消耗这么长时间。我们不妨先定义一个函数 `get_FLOP`，它能导出 np.einsum 在足够内存下会选用的张量缩并路径下，所预期的数值运算次数："
   ]
  },
  {
   "cell_type": "code",
   "execution_count": 41,
   "metadata": {},
   "outputs": [],
   "source": [
    "def get_FLOP(*args):\n",
    "    return float(np.einsum_path(*args)[1].split(\"\\n\")[4].split(\":\")[1])"
   ]
  },
  {
   "cell_type": "markdown",
   "metadata": {},
   "source": [
    "譬如说，对于 $f_{\\rho \\rho} \\phi_\\kappa \\phi_\\lambda \\phi_\\mu \\phi_\\nu$ 的缩并，np.einsum 预期会执行大约 4.254e+10 次的运算："
   ]
  },
  {
   "cell_type": "code",
   "execution_count": 42,
   "metadata": {},
   "outputs": [
    {
     "data": {
      "text/plain": [
       "42540000000.0"
      ]
     },
     "execution_count": 42,
     "metadata": {},
     "output_type": "execute_result"
    }
   ],
   "source": [
    "get_FLOP(\"g, gk, gl, gu, gv -> uvkl\", frr, ao_0, ao_0, ao_0, ao_0)"
   ]
  },
  {
   "cell_type": "markdown",
   "metadata": {},
   "source": [
    "因此，上述张量缩并总共需要大约 2.130e+11 次的数值运算。"
   ]
  },
  {
   "cell_type": "code",
   "execution_count": 43,
   "metadata": {
    "scrolled": true
   },
   "outputs": [
    {
     "data": {
      "text/plain": [
       "212967700000.0"
      ]
     },
     "execution_count": 43,
     "metadata": {},
     "output_type": "execute_result"
    }
   ],
   "source": [
    "(\n",
    "    + get_FLOP(\"g, gk, gl, gu, gv -> uvkl\", frr, ao_0, ao_0, ao_0, ao_0)\n",
    "    + get_FLOP(\"g, rg, rgk, gl, gu, gv -> uvkl\", frg, rho_1, ao_1, ao_0, ao_0, ao_0)\n",
    "    + get_FLOP(\"g, gk, gl, rg, rgu, gv -> uvkl\", frg, ao_0, ao_0, rho_1, ao_1, ao_0)\n",
    "    + get_FLOP(\"g, wg, wgk, gl, rg, rgu, gv -> uvkl\", fgg, rho_1, ao_1, ao_0, rho_1, ao_1, ao_0)\n",
    "    + get_FLOP(\"g, rgk, gl, rgu, gv -> uvkl\", fg, ao_1, ao_0, ao_1, ao_0)\n",
    "    + get_FLOP(\"ua, vi, uvkl, kb, Abj, lj -> Aai\", Cv, Co, A_0_ao_GGA, Cv, X, Co)\n",
    ")"
   ]
  },
  {
   "cell_type": "markdown",
   "metadata": {},
   "source": [
    "### 完整的缩并"
   ]
  },
  {
   "cell_type": "markdown",
   "metadata": {},
   "source": [
    "刚才我们是先求出了 $A_{\\mu \\nu, \\kappa \\lambda}^\\mathrm{GGA}$ 以进行缩并计算；但注意到我们的目标是 $A_{ai, bj}^\\mathrm{GGA} X_{bj}^\\mathbb{A}$，因此不妨将剩余的项都一起缩并，即\n",
    "\n",
    "$$\n",
    "\\begin{align}\n",
    "A_{ai, bj}^\\mathrm{GGA} X_{bj}^\\mathbb{A}\n",
    "&=\\quad C_{\\mu a} C_{\\nu i} C_{\\kappa b} X_{bj}^\\mathbb{A} C_{\\lambda j}\n",
    "\\cdot f_{\\rho \\rho} \\phi_\\kappa \\phi_\\lambda \\phi_\\mu \\phi_\\nu \\\\\n",
    "&\\quad + C_{\\mu a} C_{\\nu i} C_{\\kappa b} X_{bj}^\\mathbb{A} C_{\\lambda j}\n",
    "\\cdot 4 f_{\\rho \\gamma} \\rho_r \\phi_{r \\kappa} \\phi_\\lambda \\phi_\\mu \\phi_\\nu \\\\\n",
    "&\\quad + C_{\\mu a} C_{\\nu i} C_{\\kappa b} X_{bj}^\\mathbb{A} C_{\\lambda j}\n",
    "\\cdot 4 f_{\\rho \\gamma} \\phi_\\kappa \\phi_\\lambda \\rho_r \\phi_{r \\mu} \\phi_{\\nu} \\\\\n",
    "&\\quad + C_{\\mu a} C_{\\nu i} C_{\\kappa b} X_{bj}^\\mathbb{A} C_{\\lambda j}\n",
    "\\cdot 16 f_{\\gamma \\gamma} \\rho_w \\phi_{w \\kappa} \\phi_\\lambda \\rho_r \\phi_{r \\mu} \\phi_{\\nu} \\\\\n",
    "&\\quad + C_{\\mu a} C_{\\nu i} C_{\\kappa b} X_{bj}^\\mathbb{A} C_{\\lambda j}\n",
    "\\cdot 8 f_\\gamma \\phi_{r \\kappa} \\phi_\\lambda \\phi_{r \\mu} \\phi_{\\nu} \\\\\n",
    "&\\quad + \\ldots\n",
    "\\end{align}\n",
    "$$"
   ]
  },
  {
   "cell_type": "markdown",
   "metadata": {},
   "source": [
    "其中，省略号表示的是各种依靠角标对称性进行的计算。程序表达如下："
   ]
  },
  {
   "cell_type": "code",
   "execution_count": 44,
   "metadata": {
    "scrolled": true
   },
   "outputs": [
    {
     "name": "stdout",
     "output_type": "stream",
     "text": [
      "True\n",
      "CPU times: user 1.81 s, sys: 484 ms, total: 2.3 s\n",
      "Wall time: 2.5 s\n"
     ]
    }
   ],
   "source": [
    "%%time\n",
    "Ax_GGA_complicated = (\n",
    "    +      np.einsum(\"ua, vi, kb, Abj, lj, g,      gk, gl,      gu, gv -> Aai\", Cv, Co, Cv, X, Co, frr, ao_0, ao_0, ao_0, ao_0)\n",
    "    + 4  * np.einsum(\"ua, vi, kb, Abj, lj, g, rg, rgk, gl,      gu, gv -> Aai\", Cv, Co, Cv, X, Co, frg, rho_1, ao_1, ao_0, ao_0, ao_0)\n",
    "    + 4  * np.einsum(\"ua, vi, kb, Abj, lj, g,      gk, gl, rg, rgu, gv -> Aai\", Cv, Co, Cv, X, Co, frg, ao_0, ao_0, rho_1, ao_1, ao_0)\n",
    "    + 16 * np.einsum(\"ua, vi, kb, Abj, lj, g, wg, wgk, gl, rg, rgu, gv -> Aai\", Cv, Co, Cv, X, Co, fgg, rho_1, ao_1, ao_0, rho_1, ao_1, ao_0)\n",
    "    + 8  * np.einsum(\"ua, vi, kb, Abj, lj, g,     rgk, gl,     rgu, gv -> Aai\", Cv, Co, Cv, X, Co, fg, ao_1, ao_0, ao_1, ao_0)\n",
    "    +      np.einsum(\"va, ui, kb, Abj, lj, g,      gk, gl,      gu, gv -> Aai\", Cv, Co, Cv, X, Co, frr, ao_0, ao_0, ao_0, ao_0)\n",
    "    + 4  * np.einsum(\"va, ui, kb, Abj, lj, g, rg, rgk, gl,      gu, gv -> Aai\", Cv, Co, Cv, X, Co, frg, rho_1, ao_1, ao_0, ao_0, ao_0)\n",
    "    + 4  * np.einsum(\"va, ui, kb, Abj, lj, g,      gk, gl, rg, rgu, gv -> Aai\", Cv, Co, Cv, X, Co, frg, ao_0, ao_0, rho_1, ao_1, ao_0)\n",
    "    + 16 * np.einsum(\"va, ui, kb, Abj, lj, g, wg, wgk, gl, rg, rgu, gv -> Aai\", Cv, Co, Cv, X, Co, fgg, rho_1, ao_1, ao_0, rho_1, ao_1, ao_0)\n",
    "    + 8  * np.einsum(\"va, ui, kb, Abj, lj, g,     rgk, gl,     rgu, gv -> Aai\", Cv, Co, Cv, X, Co, fg, ao_1, ao_0, ao_1, ao_0)\n",
    "    +      np.einsum(\"ua, vi, lb, Abj, kj, g,      gk, gl,      gu, gv -> Aai\", Cv, Co, Cv, X, Co, frr, ao_0, ao_0, ao_0, ao_0)\n",
    "    + 4  * np.einsum(\"ua, vi, lb, Abj, kj, g, rg, rgk, gl,      gu, gv -> Aai\", Cv, Co, Cv, X, Co, frg, rho_1, ao_1, ao_0, ao_0, ao_0)\n",
    "    + 4  * np.einsum(\"ua, vi, lb, Abj, kj, g,      gk, gl, rg, rgu, gv -> Aai\", Cv, Co, Cv, X, Co, frg, ao_0, ao_0, rho_1, ao_1, ao_0)\n",
    "    + 16 * np.einsum(\"ua, vi, lb, Abj, kj, g, wg, wgk, gl, rg, rgu, gv -> Aai\", Cv, Co, Cv, X, Co, fgg, rho_1, ao_1, ao_0, rho_1, ao_1, ao_0)\n",
    "    + 8  * np.einsum(\"ua, vi, lb, Abj, kj, g,     rgk, gl,     rgu, gv -> Aai\", Cv, Co, Cv, X, Co, fg, ao_1, ao_0, ao_1, ao_0)\n",
    "    +      np.einsum(\"va, ui, lb, Abj, kj, g,      gk, gl,      gu, gv -> Aai\", Cv, Co, Cv, X, Co, frr, ao_0, ao_0, ao_0, ao_0)\n",
    "    + 4  * np.einsum(\"va, ui, lb, Abj, kj, g, rg, rgk, gl,      gu, gv -> Aai\", Cv, Co, Cv, X, Co, frg, rho_1, ao_1, ao_0, ao_0, ao_0)\n",
    "    + 4  * np.einsum(\"va, ui, lb, Abj, kj, g,      gk, gl, rg, rgu, gv -> Aai\", Cv, Co, Cv, X, Co, frg, ao_0, ao_0, rho_1, ao_1, ao_0)\n",
    "    + 16 * np.einsum(\"va, ui, lb, Abj, kj, g, wg, wgk, gl, rg, rgu, gv -> Aai\", Cv, Co, Cv, X, Co, fgg, rho_1, ao_1, ao_0, rho_1, ao_1, ao_0)\n",
    "    + 8  * np.einsum(\"va, ui, lb, Abj, kj, g,     rgk, gl,     rgu, gv -> Aai\", Cv, Co, Cv, X, Co, fg, ao_1, ao_0, ao_1, ao_0)\n",
    ")\n",
    "print(np.allclose(Ax_GGA_complicated, Ax_GGA))"
   ]
  },
  {
   "cell_type": "markdown",
   "metadata": {},
   "source": [
    "很显然上面的式子太过冗长，一眼就像对其作公因式提取的处理，并且也比 `Ax_GGA` 消耗更多的代码；但它意外地节省时间。我们拿出其中的五行出来观察浮点计算次数："
   ]
  },
  {
   "cell_type": "code",
   "execution_count": 45,
   "metadata": {},
   "outputs": [
    {
     "data": {
      "text/plain": [
       "2315900000.0"
      ]
     },
     "execution_count": 45,
     "metadata": {},
     "output_type": "execute_result"
    }
   ],
   "source": [
    "(\n",
    "    + get_FLOP(\"ua, vi, kb, Abj, lj, g, gk, gl, gu, gv -> Aai\"          , Cv, Co, Cv, X, Co, frr, ao_0, ao_0, ao_0, ao_0)\n",
    "    + get_FLOP(\"ua, vi, kb, Abj, lj, g, rg, rgk, gl, gu, gv -> Aai\"     , Cv, Co, Cv, X, Co, frg, rho_1, ao_1, ao_0, ao_0, ao_0)\n",
    "    + get_FLOP(\"ua, vi, kb, Abj, lj, g, gk, gl, rg, rgu, gv -> Aai\"     , Cv, Co, Cv, X, Co, frg, ao_0, ao_0, rho_1, ao_1, ao_0)\n",
    "    + get_FLOP(\"ua, vi, kb, Abj, lj, g, wg, wgk, gl, rg, rgu, gv -> Aai\", Cv, Co, Cv, X, Co, fgg, rho_1, ao_1, ao_0, rho_1, ao_1, ao_0)\n",
    "    + get_FLOP(\"ua, vi, kb, Abj, lj, g, rgk, gl, rgu, gv -> Aai\"        , Cv, Co, Cv, X, Co, fg, ao_1, ao_0, ao_1, ao_0)\n",
    ")"
   ]
  },
  {
   "cell_type": "markdown",
   "metadata": {},
   "source": [
    "上述浮点数乘以 4 即是 `Ax_GGA_complicated` 所需要消耗的计算量了，为 9.2636e+09 次。而 `Ax_GGA` 尽管有更短的代码和简洁的公式，却需要消耗 2.130e+11 次。"
   ]
  },
  {
   "cell_type": "markdown",
   "metadata": {},
   "source": [
    "作为一个例子，我们看一下第二项 $C_{\\mu a} C_{\\nu i} C_{\\kappa b} X_{bj}^\\mathbb{A} C_{\\lambda j} \\cdot 4 f_{\\rho \\gamma} \\rho_r \\phi_{r \\kappa} \\phi_\\lambda \\phi_\\mu \\phi_\\nu$ 是如何进行张量缩并的："
   ]
  },
  {
   "cell_type": "code",
   "execution_count": 46,
   "metadata": {},
   "outputs": [
    {
     "name": "stdout",
     "output_type": "stream",
     "text": [
      "  Complete contraction:  ua,vi,kb,Abj,lj,g,rg,rgk,gl,gu,gv->Aai\n",
      "         Naive scaling:  11\n",
      "     Optimized scaling:  4\n",
      "      Naive FLOP count:  4.794e+16\n",
      "  Optimized FLOP count:  4.124e+08\n",
      "   Theoretical speedup:  116236931.476\n",
      "  Largest intermediate:  4.077e+06 elements\n",
      "--------------------------------------------------------------------------\n",
      "scaling                  current                                remaining\n",
      "--------------------------------------------------------------------------\n",
      "   3                  rgk,rg->kg       ua,vi,kb,Abj,lj,g,gl,gu,gv,kg->Aai\n",
      "   3                   gv,vi->ig          ua,kb,Abj,lj,g,gl,gu,kg,ig->Aai\n",
      "   3                   gl,lj->jg             ua,kb,Abj,g,gu,kg,ig,jg->Aai\n",
      "   3                   gu,ua->ag                kb,Abj,g,kg,ig,jg,ag->Aai\n",
      "   3                   kg,kb->bg                   Abj,g,ig,jg,ag,bg->Aai\n",
      "   2                    ig,g->ig                     Abj,jg,ag,bg,ig->Aai\n",
      "   4                 bg,Abj->Ajg                        jg,ag,ig,Ajg->Aai\n",
      "   3                  Ajg,jg->Ag                            ag,ig,Ag->Aai\n",
      "   3                  Ag,ig->Aig                              ag,Aig->Aai\n",
      "   4                 Aig,ag->Aai                                 Aai->Aai\n"
     ]
    }
   ],
   "source": [
    "print(np.einsum_path(\"ua, vi, kb, Abj, lj, g, rg, rgk, gl, gu, gv -> Aai\", Cv, Co, Cv, X, Co, frg, rho_1, ao_1, ao_0, ao_0, ao_0)[1])"
   ]
  },
  {
   "cell_type": "markdown",
   "metadata": {},
   "source": [
    "其大致思路是，首先将原子轨道格点缩并到分子轨道格点：\n",
    "\n",
    "$$\n",
    "\\phi_p = \\phi_\\mu C_{\\mu p}\n",
    "$$"
   ]
  },
  {
   "cell_type": "markdown",
   "metadata": {},
   "source": [
    "但这其中存在例外：\n",
    "\n",
    "$$\n",
    "\\begin{align}\n",
    "(\\nabla_\\rho \\cdot \\nabla \\phi)_\\mu &= \\rho_r \\phi_{r \\mu} \\\\\n",
    "(\\nabla_\\rho \\cdot \\nabla \\phi)_k &= (\\nabla_\\rho \\cdot \\nabla \\phi)_\\mu C_{\\mu k}\n",
    "\\end{align}\n",
    "$$\n",
    "\n",
    "如此缩并的原因单纯地是因为效率高。随后优先缩并含 $b, j$ 两个角标：\n",
    "\n",
    "$$\n",
    "X_{bj}^\\mathbb{A} (\\nabla_\\rho \\cdot \\nabla \\phi)_k \\phi_j \\rightarrow \\varphi^\\mathbb{A}\n",
    "$$\n",
    "\n",
    "最后对剩下的项依次缩并即可。"
   ]
  },
  {
   "cell_type": "markdown",
   "metadata": {},
   "source": [
    "### pyxdh 所使用的缩并方式"
   ]
  },
  {
   "cell_type": "markdown",
   "metadata": {},
   "source": [
    "需要说明的是，pyxdh 在求取 $A_{ai, bj} X_{bj}^\\mathbb{A}$ 问题时，所使用的仍然是 PySCF 的程序。这一段是为了以后 pyxdh 中 `Ax1_Core` 张量缩并函数 $A_{ai, bj}^\\mathbb{B} X_{bj}^\\mathbb{A}$ 作准备的。"
   ]
  },
  {
   "cell_type": "markdown",
   "metadata": {},
   "source": [
    "我们不采取上面相对来说激进的缩并方式，即仍然保留原子轨道格点；但我们借助这些原子轨道格点，生成与自洽场密度有别的类密度量。我们先定义原子轨道下的类密度 `dmX`:\n",
    "\n",
    "$$\n",
    "X_{\\kappa \\lambda}^\\mathbb{A} = C_{\\kappa b} X_{bj}^\\mathbb{A} C_{\\lambda j} + \\mathrm{swap} (\\kappa, \\lambda)\n",
    "$$"
   ]
  },
  {
   "cell_type": "code",
   "execution_count": 47,
   "metadata": {},
   "outputs": [],
   "source": [
    "dmX = np.einsum(\"kb, Abj, lj -> Akl\", Cv, X, Co)\n",
    "dmX += dmX.swapaxes(-1, -2)"
   ]
  },
  {
   "cell_type": "markdown",
   "metadata": {},
   "source": [
    "以上述类密度为前提，我们可以生成类密度的密度格点 `rho_X_0`\n",
    "\n",
    "$$\n",
    "\\varrho^\\mathbb{A} = X_{\\kappa \\lambda}^\\mathbb{A} \\phi_\\kappa \\phi_\\lambda\n",
    "$$\n",
    "\n",
    "及其梯度 `rho_X_1`\n",
    "\n",
    "$$\n",
    "\\varrho_r^\\mathbb{A} = 2 X_{\\kappa \\lambda}^\\mathbb{A} \\phi_{r \\kappa} \\phi_\\lambda\n",
    "$$"
   ]
  },
  {
   "cell_type": "code",
   "execution_count": 48,
   "metadata": {},
   "outputs": [],
   "source": [
    "tmp_K = np.einsum(\"Akl, gl -> Agk\", dmX, ao_0)\n",
    "rho_X_0 = np.einsum(\"gk, Agk -> Ag\", ao_0, tmp_K)\n",
    "rho_X_1 = 2 * np.einsum(\"rgk, Agk -> Arg\", ao_1, tmp_K)"
   ]
  },
  {
   "cell_type": "markdown",
   "metadata": {},
   "source": [
    "我们额外定义密度梯度的一种导出量 `gamma_XD`\n",
    "\n",
    "$$\n",
    "\\varrho_r^\\mathbb{A} \\rho_r \\, (\\text{summed by } r)\n",
    "$$"
   ]
  },
  {
   "cell_type": "code",
   "execution_count": 49,
   "metadata": {},
   "outputs": [],
   "source": [
    "gamma_XD = np.einsum(\"Arg, rg -> Ag\", rho_X_1, rho_1)"
   ]
  },
  {
   "cell_type": "markdown",
   "metadata": {},
   "source": [
    "随后我们就将 $A_{ai, bj}^\\mathrm{GGA} X_{bj}^\\mathbb{A}$ 所有缩并项作化简；化简的原则是将所有 $b, j, \\kappa, \\lambda$ 的角标先求和。在这种化简的思路下，我们定义两个临时的变量 `M_0`：\n",
    "\n",
    "$$\n",
    "M^\\mathbb{A} = f_{\\rho \\rho} \\varrho^\\mathbb{A} + 2 f_{\\rho \\gamma} (\\varrho_w^\\mathbb{A} \\rho_w)\n",
    "$$\n",
    "\n",
    "以及 `M_1`\n",
    "\n",
    "$$\n",
    "M_r^\\mathbb{A} = 4 f_{\\rho \\gamma} \\varrho^\\mathbb{A} \\rho_r + 8 f_{\\rho \\gamma} (\\varrho_w^\\mathbb{A} \\rho_w) \\rho_r + 4 f_\\gamma \\varrho_r^\\mathbb{A}\n",
    "$$"
   ]
  },
  {
   "cell_type": "markdown",
   "metadata": {},
   "source": [
    "我们回顾到\n",
    "\n",
    "$$\n",
    "\\begin{align}\n",
    "A_{\\mu \\nu, \\kappa \\lambda} \\xleftarrow{\\text{GGA contrib}} A_{\\mu \\nu, \\kappa \\lambda}^\\text{GGA}\n",
    "&= f_{\\rho \\rho} \\phi_\\kappa \\phi_\\lambda \\phi_\\mu \\phi_\\nu + 4 f_{\\rho \\gamma} \\rho_r \\phi_{r \\kappa} \\phi_\\lambda \\phi_\\mu \\phi_\\nu \\\\\n",
    "& + 4 f_{\\rho \\gamma} \\phi_\\kappa \\phi_\\lambda \\rho_r \\phi_{r \\mu} \\phi_{\\nu} + 16 f_{\\gamma \\gamma} \\rho_w \\phi_{w \\kappa} \\phi_\\lambda \\rho_r \\phi_{r \\mu} \\phi_{\\nu} \\\\\n",
    "& + 8 f_\\gamma \\phi_{r \\kappa} \\phi_\\lambda \\phi_{r \\mu} \\phi_{\\nu} \\\\\n",
    "& + \\mathrm{swap} (\\mu, \\nu) + \\mathrm{swap} (\\kappa, \\lambda)\n",
    "\\end{align}\n",
    "$$\n",
    "\n",
    "其中，$M^\\mathbb{A}$ 所包含的项与上式的第一行有关，$M_r^\\mathbb{A}$ 则与第二、三行有关。"
   ]
  },
  {
   "cell_type": "code",
   "execution_count": 50,
   "metadata": {},
   "outputs": [],
   "source": [
    "M_0 = (\n",
    "    np.einsum(\"g, Ag -> Ag\", frr, rho_X_0)\n",
    "    + 2 * np.einsum(\"g, Ag -> Ag\", frg, gamma_XD)\n",
    ")\n",
    "M_1 = (\n",
    "    + 4 * np.einsum(\"g, Ag, rg -> Arg\", frg, rho_X_0, rho_1)\n",
    "    + 8 * np.einsum(\"g, Ag, rg -> Arg\", fgg, gamma_XD, rho_1)\n",
    "    + 4 * np.einsum(\"g, Arg -> Arg\", fg, rho_X_1)\n",
    ")"
   ]
  },
  {
   "cell_type": "markdown",
   "metadata": {},
   "source": [
    "最后，\n",
    "\n",
    "$$\n",
    "\\begin{align}\n",
    "A_{\\mu \\nu, \\kappa \\lambda} X_{\\kappa \\lambda}^\\mathbb{A} &= M^\\mathbb{A} \\phi_\\mu \\phi_\\nu + M_r^\\mathbb{A} \\phi_{r \\mu} \\phi_\\nu + \\mathrm{swap} (\\mu, \\nu) \\\\\n",
    "A_{ai, bj}^\\mathrm{GGA} X_{bj}^\\mathbb{A} &= A_{\\mu \\nu, \\kappa \\lambda} X_{\\kappa \\lambda}^\\mathbb{A} C_{\\mu a} C_{\\nu i}\n",
    "\\end{align}\n",
    "$$"
   ]
  },
  {
   "cell_type": "code",
   "execution_count": 51,
   "metadata": {},
   "outputs": [],
   "source": [
    "Ax_ao_GGA = (\n",
    "    + np.einsum(\"Ag, gu, gv -> Auv\", M_0, ao_0, ao_0)\n",
    "    + np.einsum(\"Arg, rgu, gv -> Auv\", M_1, ao_1, ao_0)\n",
    ")\n",
    "Ax_ao_GGA += Ax_ao_GGA.swapaxes(-1, -2)\n",
    "Ax_GGA_modified = np.einsum(\"ua, Auv, vi -> Aai\", Cv, Ax_ao_GGA, Co)"
   ]
  },
  {
   "cell_type": "markdown",
   "metadata": {},
   "source": [
    "我们可以验证上述的计算过程是正确的："
   ]
  },
  {
   "cell_type": "code",
   "execution_count": 52,
   "metadata": {},
   "outputs": [
    {
     "data": {
      "text/plain": [
       "True"
      ]
     },
     "execution_count": 52,
     "metadata": {},
     "output_type": "execute_result"
    }
   ],
   "source": [
    "np.allclose(Ax_GGA, Ax_GGA_modified)"
   ]
  },
  {
   "cell_type": "markdown",
   "metadata": {},
   "source": [
    "其消耗时长可以用下面的程序给出："
   ]
  },
  {
   "cell_type": "code",
   "execution_count": 53,
   "metadata": {},
   "outputs": [
    {
     "name": "stdout",
     "output_type": "stream",
     "text": [
      "CPU times: user 281 ms, sys: 312 ms, total: 594 ms\n",
      "Wall time: 609 ms\n"
     ]
    }
   ],
   "source": [
    "%%time\n",
    "dmX = np.einsum(\"kb, Abj, lj -> Akl\", Cv, X, Co)\n",
    "dmX += dmX.swapaxes(-1, -2)\n",
    "tmp_K = np.einsum(\"Akl, gl -> Agk\", dmX, ao_0)\n",
    "rho_X_0 = np.einsum(\"gk, Agk -> Ag\", ao_0, tmp_K)\n",
    "rho_X_1 = 2 * np.einsum(\"rgk, Agk -> Arg\", ao_1, tmp_K)\n",
    "gamma_XD = np.einsum(\"Arg, rg -> Ag\", rho_X_1, rho_1)\n",
    "M_0 = (\n",
    "    np.einsum(\"g, Ag -> Ag\", frr, rho_X_0)\n",
    "    + 2 * np.einsum(\"g, Ag -> Ag\", frg, gamma_XD)\n",
    ")\n",
    "M_1 = (\n",
    "    + 4 * np.einsum(\"g, Ag, rg -> Arg\", frg, rho_X_0, rho_1)\n",
    "    + 8 * np.einsum(\"g, Ag, rg -> Arg\", fgg, gamma_XD, rho_1)\n",
    "    + 4 * np.einsum(\"g, Arg -> Arg\", fg, rho_X_1)\n",
    ")\n",
    "Ax_ao_GGA = (\n",
    "    + np.einsum(\"Ag, gu, gv -> Auv\", M_0, ao_0, ao_0)\n",
    "    + np.einsum(\"Arg, rgu, gv -> Auv\", M_1, ao_1, ao_0)\n",
    ")\n",
    "Ax_ao_GGA += Ax_ao_GGA.swapaxes(-1, -2)\n",
    "Ax_GGA_modified = np.einsum(\"ua, Auv, vi -> Aai\", Cv, Ax_ao_GGA, Co)"
   ]
  },
  {
   "cell_type": "markdown",
   "metadata": {},
   "source": [
    "这种方式在张量运算过程中，所消耗的浮点运算数量大约是 1.4756e+09 次："
   ]
  },
  {
   "cell_type": "code",
   "execution_count": 54,
   "metadata": {},
   "outputs": [
    {
     "data": {
      "text/plain": [
       "1475587600.0"
      ]
     },
     "execution_count": 54,
     "metadata": {},
     "output_type": "execute_result"
    }
   ],
   "source": [
    "(\n",
    "    + get_FLOP(\"kb, Abj, lj -> Akl\", Cv, X, Co)\n",
    "    + get_FLOP(\"Akl, gl -> Agk\", dmX, ao_0)\n",
    "    + get_FLOP(\"gk, Agk -> Ag\", ao_0, tmp_K)\n",
    "    + get_FLOP(\"rgk, Agk -> Arg\", ao_1, tmp_K)\n",
    "    + get_FLOP(\"Arg, rg -> Ag\", rho_X_1, rho_1)\n",
    "    + get_FLOP(\"g, Ag -> Ag\", frr, rho_X_0)\n",
    "    + get_FLOP(\"g, Ag -> Ag\", frg, gamma_XD)\n",
    "    + get_FLOP(\"g, Ag, rg -> Arg\", frg, rho_X_0, rho_1)\n",
    "    + get_FLOP(\"g, Ag, rg -> Arg\", fgg, gamma_XD, rho_1)\n",
    "    + get_FLOP(\"g, Arg -> Arg\", fg, rho_X_1)\n",
    "    + get_FLOP(\"Ag, gu, gv -> Auv\", M_0, ao_0, ao_0)\n",
    "    + get_FLOP(\"Arg, rgu, gv -> Auv\", M_1, ao_1, ao_0)\n",
    "    + get_FLOP(\"ua, Auv, vi -> Aai\", Cv, Ax_ao_GGA, Co)\n",
    ")"
   ]
  },
  {
   "cell_type": "markdown",
   "metadata": {},
   "source": [
    "其计算速度之所以可以更快，是因为对不少可以提取出来的中间变量作临时储存，并且利用到了角标对称性。\n",
    "\n",
    "PySCF 的内置程序事实上可以在 $\\mathbb{A}$ 所代表的维度较大时有更好的表现，这可能是因为 PySCF 使用到了 C 语言的底层。"
   ]
  }
 ],
 "metadata": {
  "kernelspec": {
   "display_name": "Python 3",
   "language": "python",
   "name": "python3"
  },
  "language_info": {
   "codemirror_mode": {
    "name": "ipython",
    "version": 3
   },
   "file_extension": ".py",
   "mimetype": "text/x-python",
   "name": "python",
   "nbconvert_exporter": "python",
   "pygments_lexer": "ipython3",
   "version": "3.8.1"
  },
  "toc": {
   "base_numbering": 1,
   "nav_menu": {},
   "number_sections": true,
   "sideBar": true,
   "skip_h1_title": false,
   "title_cell": "Table of Contents",
   "title_sidebar": "Contents",
   "toc_cell": false,
   "toc_position": {
    "height": "calc(100% - 180px)",
    "left": "10px",
    "top": "150px",
    "width": "204.6px"
   },
   "toc_section_display": true,
   "toc_window_display": true
  }
 },
 "nbformat": 4,
 "nbformat_minor": 4
}
