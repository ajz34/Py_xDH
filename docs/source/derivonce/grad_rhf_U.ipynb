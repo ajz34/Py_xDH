{
 "cells": [
  {
   "cell_type": "markdown",
   "metadata": {},
   "source": [
    "# RHF 核坐标梯度的 U 矩阵计算"
   ]
  },
  {
   "cell_type": "markdown",
   "metadata": {},
   "source": [
    "之前我们已经讨论过 RHF 下的偶极矩与原子核坐标分量的能量导数计算了。这些导数的计算过程中，只需要使用矩阵的 Skeleton 导数即可。\n",
    "\n",
    "但对于 MP2 方法而言，其原子核坐标分量的导数就不只需要 Skeleton 导数，还需要 U 矩阵的非占-占据部分了。这一节我们就来考察核坐标梯度下的 U 矩阵的求取，与 U 矩阵的一些性质。"
   ]
  },
  {
   "cell_type": "markdown",
   "metadata": {
    "heading_collapsed": true
   },
   "source": [
    "## 准备工作"
   ]
  },
  {
   "cell_type": "code",
   "execution_count": 1,
   "metadata": {
    "hidden": true
   },
   "outputs": [],
   "source": [
    "%matplotlib notebook\n",
    "\n",
    "from pyscf import gto, scf, dft, lib\n",
    "import numpy as np\n",
    "from functools import partial\n",
    "import warnings\n",
    "from matplotlib import pyplot as plt\n",
    "from pyxdh.Utilities import NucCoordDerivGenerator, DipoleDerivGenerator, NumericDiff\n",
    "from pyxdh.DerivOnce import GradSCF\n",
    "\n",
    "np.einsum = partial(np.einsum, optimize=[\"greedy\", 1024 ** 3 * 2 / 8])\n",
    "np.allclose = partial(np.allclose, atol=1e-6, rtol=1e-4)\n",
    "np.set_printoptions(5, linewidth=150, suppress=True)\n",
    "warnings.filterwarnings(\"ignore\")"
   ]
  },
  {
   "cell_type": "code",
   "execution_count": 2,
   "metadata": {
    "hidden": true
   },
   "outputs": [
    {
     "data": {
      "text/plain": [
       "<pyscf.gto.mole.Mole at 0x7f24d977fbb0>"
      ]
     },
     "execution_count": 2,
     "metadata": {},
     "output_type": "execute_result"
    }
   ],
   "source": [
    "mol = gto.Mole()\n",
    "mol.atom = \"\"\"\n",
    "O  0.0  0.0  0.0\n",
    "O  0.0  0.0  1.5\n",
    "H  1.5  0.0  0.0\n",
    "H  0.0  0.7  1.5\n",
    "\"\"\"\n",
    "mol.basis = \"6-31G\"\n",
    "mol.verbose = 0\n",
    "mol.build()"
   ]
  },
  {
   "cell_type": "code",
   "execution_count": 3,
   "metadata": {
    "hidden": true
   },
   "outputs": [],
   "source": [
    "gradh = GradSCF({\"scf_eng\": scf.RHF(mol)})"
   ]
  },
  {
   "cell_type": "code",
   "execution_count": 4,
   "metadata": {
    "hidden": true
   },
   "outputs": [],
   "source": [
    "nmo, nao, natm, nocc, nvir = gradh.nao, gradh.nao, gradh.natm, gradh.nocc, gradh.nvir\n",
    "so, sv, sa = gradh.so, gradh.sv, gradh.sa\n",
    "C, Co, Cv, e, eo, ev, D = gradh.C, gradh.Co, gradh.Cv, gradh.e, gradh.eo, gradh.ev, gradh.D\n",
    "H_0_ao, S_0_ao, eri0_ao, F_0_ao = gradh.H_0_ao, gradh.S_0_ao, gradh.eri0_ao, gradh.F_0_ao\n",
    "H_0_mo, S_0_mo, eri0_mo, F_0_mo = gradh.H_0_mo, gradh.S_0_mo, gradh.eri0_mo, gradh.F_0_mo"
   ]
  },
  {
   "cell_type": "code",
   "execution_count": 5,
   "metadata": {
    "hidden": true
   },
   "outputs": [],
   "source": [
    "def grad_generator(mol):\n",
    "    scf_eng = scf.RHF(mol)\n",
    "    config = {\n",
    "        \"scf_eng\": scf_eng,\n",
    "    }\n",
    "    return GradSCF(config)"
   ]
  },
  {
   "cell_type": "code",
   "execution_count": 6,
   "metadata": {
    "hidden": true
   },
   "outputs": [],
   "source": [
    "gradn = NucCoordDerivGenerator(mol, grad_generator)"
   ]
  },
  {
   "cell_type": "markdown",
   "metadata": {
    "hidden": true
   },
   "source": [
    "但与之前文档不同的是，我们需要额外地给一个 `GradSCF` 实例 `gradh_nr`，它引入一个额外的选项 `rotation` (轨道旋转)，其值为 `False`："
   ]
  },
  {
   "cell_type": "code",
   "execution_count": 7,
   "metadata": {
    "hidden": true
   },
   "outputs": [],
   "source": [
    "gradh_nr = GradSCF({\"scf_eng\": scf.RHF(mol), \"rotation\": False})"
   ]
  },
  {
   "cell_type": "markdown",
   "metadata": {
    "hidden": true
   },
   "source": [
    "其中 `nr` 意指 no rotation (无轨道旋转)。`gradh_nr` 与 `gradh` 只在处理 U 矩阵时会有不同，但作为最终结果的导数一般来说是相同的；在实例化 `GradSCF` 时，默认使用轨道旋转。"
   ]
  },
  {
   "cell_type": "markdown",
   "metadata": {
    "hidden": true
   },
   "source": [
    "我们以后也会定义一些常用的导数量：\n",
    "\n",
    "- `H_1_ao` $h_{\\mu \\nu}^\\mathbb{A}$, `H_1_mo` $h_{pq}^\\mathbb{A}$\n",
    "\n",
    "- `S_1_ao` $S_{\\mu \\nu}^\\mathbb{A}$, `S_1_mo` $S_{pq}^\\mathbb{A}$\n",
    "\n",
    "- `eri1_ao` $(\\mu \\nu | \\kappa \\lambda)^\\mathbb{A}$, `eri1_mo` $(pq|rs)^\\mathbb{A}$"
   ]
  },
  {
   "cell_type": "markdown",
   "metadata": {
    "hidden": true
   },
   "source": [
    "其中的函数 `to_natm_3` 是将 `gradh` 或 `gradh_nr` 的导数矩阵的首个维度 (12) 变为原子数量乘上 3 (4, 3)。"
   ]
  },
  {
   "cell_type": "code",
   "execution_count": 8,
   "metadata": {
    "hidden": true
   },
   "outputs": [],
   "source": [
    "def to_natm_3(mat: np.ndarray):\n",
    "    shape = list(mat.shape)\n",
    "    shape = [int(shape[0] / 3), 3] + shape[1:]\n",
    "    return mat.reshape(shape)"
   ]
  },
  {
   "cell_type": "code",
   "execution_count": 9,
   "metadata": {
    "hidden": true
   },
   "outputs": [],
   "source": [
    "H_1_ao, S_1_ao, eri1_ao = to_natm_3(gradh.H_1_ao), to_natm_3(gradh.S_1_ao), to_natm_3(gradh.eri1_ao)\n",
    "H_1_mo, S_1_mo, eri1_mo = to_natm_3(gradh.H_1_mo), to_natm_3(gradh.S_1_mo), to_natm_3(gradh.eri1_mo)"
   ]
  },
  {
   "cell_type": "markdown",
   "metadata": {},
   "source": [
    "## 数值导数求取 U 矩阵"
   ]
  },
  {
   "cell_type": "markdown",
   "metadata": {
    "heading_collapsed": true
   },
   "source": [
    "### 没有经过“轨道旋转”的 U 矩阵"
   ]
  },
  {
   "cell_type": "markdown",
   "metadata": {
    "hidden": true
   },
   "source": [
    "我们曾经提及过，U 矩阵定义如下：\n",
    "\n",
    "$$\n",
    "\\frac{\\partial C_{\\mu p}}{\\partial \\mathbb{A}} = C_{\\mu m} U_{m p}^\\mathbb{A}\n",
    "$$"
   ]
  },
  {
   "cell_type": "markdown",
   "metadata": {
    "hidden": true
   },
   "source": [
    "这其实相当于矩阵乘法；如果我们想要反推出 $U_{mp}^{A_t}$ 的值，那么对 $C_{\\mu m}$ 取逆即可：\n",
    "\n",
    "$$\n",
    "U_{mp}^\\mathbb{A} = (\\mathbf{C}^{-1})_{m \\mu} \\frac{\\partial C_{\\mu p}}{\\partial \\mathbb{A}}\n",
    "$$"
   ]
  },
  {
   "cell_type": "markdown",
   "metadata": {
    "hidden": true
   },
   "source": [
    "其中，没有经过“旋转” 的轨道系数 $C_{\\mu m}$ 要求是 Canonical RHF 给出的系数矩阵，它至少同时满足 $F_{pq} = e_p \\delta_{pq}$ 与 $C_{\\mu p} S_{\\mu \\nu} C_{\\nu q} = \\delta_{pq}$ 两个对角矩阵的条件。"
   ]
  },
  {
   "cell_type": "markdown",
   "metadata": {
    "hidden": true
   },
   "source": [
    "具体到核坐标梯度上来。我们首先定义系数矩阵导数 `nd_C` $\\partial_{A_t}$："
   ]
  },
  {
   "cell_type": "code",
   "execution_count": 10,
   "metadata": {
    "hidden": true
   },
   "outputs": [
    {
     "data": {
      "text/plain": [
       "(4, 3, 22, 22)"
      ]
     },
     "execution_count": 10,
     "metadata": {},
     "output_type": "execute_result"
    }
   ],
   "source": [
    "nd_C = NumericDiff(gradn, lambda gradh: gradh.C).derivative.reshape((natm, 3, nao, nao))\n",
    "nd_C.shape"
   ]
  },
  {
   "cell_type": "markdown",
   "metadata": {
    "hidden": true
   },
   "source": [
    "随后，我们就可以给出通过数值导数计算而来的 U 矩阵 `nd_U_1_nr` $U_{mp}^{A_t}$："
   ]
  },
  {
   "cell_type": "code",
   "execution_count": 11,
   "metadata": {
    "hidden": true
   },
   "outputs": [
    {
     "data": {
      "text/plain": [
       "(4, 3, 22, 22)"
      ]
     },
     "execution_count": 11,
     "metadata": {},
     "output_type": "execute_result"
    }
   ],
   "source": [
    "nd_U_1_nr = np.einsum(\"mu, Atup -> Atmp\", np.linalg.inv(C), nd_C)\n",
    "nd_U_1_nr.shape"
   ]
  },
  {
   "cell_type": "markdown",
   "metadata": {
    "hidden": true
   },
   "source": [
    "在 pyxdh 中，`gradh_nr.U_1` 代表的是没有经过旋转的解析 U 矩阵 $U_{pq}^{A_t}$。上述数值 U 矩阵 `nd_U_1_nr` 与该解析 U 矩阵 `gradh_nr.U_1` 的误差图是："
   ]
  },
  {
   "cell_type": "code",
   "execution_count": 12,
   "metadata": {
    "hidden": true
   },
   "outputs": [
    {
     "data": {
      "application/javascript": [
       "/* Put everything inside the global mpl namespace */\n",
       "window.mpl = {};\n",
       "\n",
       "\n",
       "mpl.get_websocket_type = function() {\n",
       "    if (typeof(WebSocket) !== 'undefined') {\n",
       "        return WebSocket;\n",
       "    } else if (typeof(MozWebSocket) !== 'undefined') {\n",
       "        return MozWebSocket;\n",
       "    } else {\n",
       "        alert('Your browser does not have WebSocket support. ' +\n",
       "              'Please try Chrome, Safari or Firefox ≥ 6. ' +\n",
       "              'Firefox 4 and 5 are also supported but you ' +\n",
       "              'have to enable WebSockets in about:config.');\n",
       "    };\n",
       "}\n",
       "\n",
       "mpl.figure = function(figure_id, websocket, ondownload, parent_element) {\n",
       "    this.id = figure_id;\n",
       "\n",
       "    this.ws = websocket;\n",
       "\n",
       "    this.supports_binary = (this.ws.binaryType != undefined);\n",
       "\n",
       "    if (!this.supports_binary) {\n",
       "        var warnings = document.getElementById(\"mpl-warnings\");\n",
       "        if (warnings) {\n",
       "            warnings.style.display = 'block';\n",
       "            warnings.textContent = (\n",
       "                \"This browser does not support binary websocket messages. \" +\n",
       "                    \"Performance may be slow.\");\n",
       "        }\n",
       "    }\n",
       "\n",
       "    this.imageObj = new Image();\n",
       "\n",
       "    this.context = undefined;\n",
       "    this.message = undefined;\n",
       "    this.canvas = undefined;\n",
       "    this.rubberband_canvas = undefined;\n",
       "    this.rubberband_context = undefined;\n",
       "    this.format_dropdown = undefined;\n",
       "\n",
       "    this.image_mode = 'full';\n",
       "\n",
       "    this.root = $('<div/>');\n",
       "    this._root_extra_style(this.root)\n",
       "    this.root.attr('style', 'display: inline-block');\n",
       "\n",
       "    $(parent_element).append(this.root);\n",
       "\n",
       "    this._init_header(this);\n",
       "    this._init_canvas(this);\n",
       "    this._init_toolbar(this);\n",
       "\n",
       "    var fig = this;\n",
       "\n",
       "    this.waiting = false;\n",
       "\n",
       "    this.ws.onopen =  function () {\n",
       "            fig.send_message(\"supports_binary\", {value: fig.supports_binary});\n",
       "            fig.send_message(\"send_image_mode\", {});\n",
       "            if (mpl.ratio != 1) {\n",
       "                fig.send_message(\"set_dpi_ratio\", {'dpi_ratio': mpl.ratio});\n",
       "            }\n",
       "            fig.send_message(\"refresh\", {});\n",
       "        }\n",
       "\n",
       "    this.imageObj.onload = function() {\n",
       "            if (fig.image_mode == 'full') {\n",
       "                // Full images could contain transparency (where diff images\n",
       "                // almost always do), so we need to clear the canvas so that\n",
       "                // there is no ghosting.\n",
       "                fig.context.clearRect(0, 0, fig.canvas.width, fig.canvas.height);\n",
       "            }\n",
       "            fig.context.drawImage(fig.imageObj, 0, 0);\n",
       "        };\n",
       "\n",
       "    this.imageObj.onunload = function() {\n",
       "        fig.ws.close();\n",
       "    }\n",
       "\n",
       "    this.ws.onmessage = this._make_on_message_function(this);\n",
       "\n",
       "    this.ondownload = ondownload;\n",
       "}\n",
       "\n",
       "mpl.figure.prototype._init_header = function() {\n",
       "    var titlebar = $(\n",
       "        '<div class=\"ui-dialog-titlebar ui-widget-header ui-corner-all ' +\n",
       "        'ui-helper-clearfix\"/>');\n",
       "    var titletext = $(\n",
       "        '<div class=\"ui-dialog-title\" style=\"width: 100%; ' +\n",
       "        'text-align: center; padding: 3px;\"/>');\n",
       "    titlebar.append(titletext)\n",
       "    this.root.append(titlebar);\n",
       "    this.header = titletext[0];\n",
       "}\n",
       "\n",
       "\n",
       "\n",
       "mpl.figure.prototype._canvas_extra_style = function(canvas_div) {\n",
       "\n",
       "}\n",
       "\n",
       "\n",
       "mpl.figure.prototype._root_extra_style = function(canvas_div) {\n",
       "\n",
       "}\n",
       "\n",
       "mpl.figure.prototype._init_canvas = function() {\n",
       "    var fig = this;\n",
       "\n",
       "    var canvas_div = $('<div/>');\n",
       "\n",
       "    canvas_div.attr('style', 'position: relative; clear: both; outline: 0');\n",
       "\n",
       "    function canvas_keyboard_event(event) {\n",
       "        return fig.key_event(event, event['data']);\n",
       "    }\n",
       "\n",
       "    canvas_div.keydown('key_press', canvas_keyboard_event);\n",
       "    canvas_div.keyup('key_release', canvas_keyboard_event);\n",
       "    this.canvas_div = canvas_div\n",
       "    this._canvas_extra_style(canvas_div)\n",
       "    this.root.append(canvas_div);\n",
       "\n",
       "    var canvas = $('<canvas/>');\n",
       "    canvas.addClass('mpl-canvas');\n",
       "    canvas.attr('style', \"left: 0; top: 0; z-index: 0; outline: 0\")\n",
       "\n",
       "    this.canvas = canvas[0];\n",
       "    this.context = canvas[0].getContext(\"2d\");\n",
       "\n",
       "    var backingStore = this.context.backingStorePixelRatio ||\n",
       "\tthis.context.webkitBackingStorePixelRatio ||\n",
       "\tthis.context.mozBackingStorePixelRatio ||\n",
       "\tthis.context.msBackingStorePixelRatio ||\n",
       "\tthis.context.oBackingStorePixelRatio ||\n",
       "\tthis.context.backingStorePixelRatio || 1;\n",
       "\n",
       "    mpl.ratio = (window.devicePixelRatio || 1) / backingStore;\n",
       "\n",
       "    var rubberband = $('<canvas/>');\n",
       "    rubberband.attr('style', \"position: absolute; left: 0; top: 0; z-index: 1;\")\n",
       "\n",
       "    var pass_mouse_events = true;\n",
       "\n",
       "    canvas_div.resizable({\n",
       "        start: function(event, ui) {\n",
       "            pass_mouse_events = false;\n",
       "        },\n",
       "        resize: function(event, ui) {\n",
       "            fig.request_resize(ui.size.width, ui.size.height);\n",
       "        },\n",
       "        stop: function(event, ui) {\n",
       "            pass_mouse_events = true;\n",
       "            fig.request_resize(ui.size.width, ui.size.height);\n",
       "        },\n",
       "    });\n",
       "\n",
       "    function mouse_event_fn(event) {\n",
       "        if (pass_mouse_events)\n",
       "            return fig.mouse_event(event, event['data']);\n",
       "    }\n",
       "\n",
       "    rubberband.mousedown('button_press', mouse_event_fn);\n",
       "    rubberband.mouseup('button_release', mouse_event_fn);\n",
       "    // Throttle sequential mouse events to 1 every 20ms.\n",
       "    rubberband.mousemove('motion_notify', mouse_event_fn);\n",
       "\n",
       "    rubberband.mouseenter('figure_enter', mouse_event_fn);\n",
       "    rubberband.mouseleave('figure_leave', mouse_event_fn);\n",
       "\n",
       "    canvas_div.on(\"wheel\", function (event) {\n",
       "        event = event.originalEvent;\n",
       "        event['data'] = 'scroll'\n",
       "        if (event.deltaY < 0) {\n",
       "            event.step = 1;\n",
       "        } else {\n",
       "            event.step = -1;\n",
       "        }\n",
       "        mouse_event_fn(event);\n",
       "    });\n",
       "\n",
       "    canvas_div.append(canvas);\n",
       "    canvas_div.append(rubberband);\n",
       "\n",
       "    this.rubberband = rubberband;\n",
       "    this.rubberband_canvas = rubberband[0];\n",
       "    this.rubberband_context = rubberband[0].getContext(\"2d\");\n",
       "    this.rubberband_context.strokeStyle = \"#000000\";\n",
       "\n",
       "    this._resize_canvas = function(width, height) {\n",
       "        // Keep the size of the canvas, canvas container, and rubber band\n",
       "        // canvas in synch.\n",
       "        canvas_div.css('width', width)\n",
       "        canvas_div.css('height', height)\n",
       "\n",
       "        canvas.attr('width', width * mpl.ratio);\n",
       "        canvas.attr('height', height * mpl.ratio);\n",
       "        canvas.attr('style', 'width: ' + width + 'px; height: ' + height + 'px;');\n",
       "\n",
       "        rubberband.attr('width', width);\n",
       "        rubberband.attr('height', height);\n",
       "    }\n",
       "\n",
       "    // Set the figure to an initial 600x600px, this will subsequently be updated\n",
       "    // upon first draw.\n",
       "    this._resize_canvas(600, 600);\n",
       "\n",
       "    // Disable right mouse context menu.\n",
       "    $(this.rubberband_canvas).bind(\"contextmenu\",function(e){\n",
       "        return false;\n",
       "    });\n",
       "\n",
       "    function set_focus () {\n",
       "        canvas.focus();\n",
       "        canvas_div.focus();\n",
       "    }\n",
       "\n",
       "    window.setTimeout(set_focus, 100);\n",
       "}\n",
       "\n",
       "mpl.figure.prototype._init_toolbar = function() {\n",
       "    var fig = this;\n",
       "\n",
       "    var nav_element = $('<div/>');\n",
       "    nav_element.attr('style', 'width: 100%');\n",
       "    this.root.append(nav_element);\n",
       "\n",
       "    // Define a callback function for later on.\n",
       "    function toolbar_event(event) {\n",
       "        return fig.toolbar_button_onclick(event['data']);\n",
       "    }\n",
       "    function toolbar_mouse_event(event) {\n",
       "        return fig.toolbar_button_onmouseover(event['data']);\n",
       "    }\n",
       "\n",
       "    for(var toolbar_ind in mpl.toolbar_items) {\n",
       "        var name = mpl.toolbar_items[toolbar_ind][0];\n",
       "        var tooltip = mpl.toolbar_items[toolbar_ind][1];\n",
       "        var image = mpl.toolbar_items[toolbar_ind][2];\n",
       "        var method_name = mpl.toolbar_items[toolbar_ind][3];\n",
       "\n",
       "        if (!name) {\n",
       "            // put a spacer in here.\n",
       "            continue;\n",
       "        }\n",
       "        var button = $('<button/>');\n",
       "        button.addClass('ui-button ui-widget ui-state-default ui-corner-all ' +\n",
       "                        'ui-button-icon-only');\n",
       "        button.attr('role', 'button');\n",
       "        button.attr('aria-disabled', 'false');\n",
       "        button.click(method_name, toolbar_event);\n",
       "        button.mouseover(tooltip, toolbar_mouse_event);\n",
       "\n",
       "        var icon_img = $('<span/>');\n",
       "        icon_img.addClass('ui-button-icon-primary ui-icon');\n",
       "        icon_img.addClass(image);\n",
       "        icon_img.addClass('ui-corner-all');\n",
       "\n",
       "        var tooltip_span = $('<span/>');\n",
       "        tooltip_span.addClass('ui-button-text');\n",
       "        tooltip_span.html(tooltip);\n",
       "\n",
       "        button.append(icon_img);\n",
       "        button.append(tooltip_span);\n",
       "\n",
       "        nav_element.append(button);\n",
       "    }\n",
       "\n",
       "    var fmt_picker_span = $('<span/>');\n",
       "\n",
       "    var fmt_picker = $('<select/>');\n",
       "    fmt_picker.addClass('mpl-toolbar-option ui-widget ui-widget-content');\n",
       "    fmt_picker_span.append(fmt_picker);\n",
       "    nav_element.append(fmt_picker_span);\n",
       "    this.format_dropdown = fmt_picker[0];\n",
       "\n",
       "    for (var ind in mpl.extensions) {\n",
       "        var fmt = mpl.extensions[ind];\n",
       "        var option = $(\n",
       "            '<option/>', {selected: fmt === mpl.default_extension}).html(fmt);\n",
       "        fmt_picker.append(option);\n",
       "    }\n",
       "\n",
       "    // Add hover states to the ui-buttons\n",
       "    $( \".ui-button\" ).hover(\n",
       "        function() { $(this).addClass(\"ui-state-hover\");},\n",
       "        function() { $(this).removeClass(\"ui-state-hover\");}\n",
       "    );\n",
       "\n",
       "    var status_bar = $('<span class=\"mpl-message\"/>');\n",
       "    nav_element.append(status_bar);\n",
       "    this.message = status_bar[0];\n",
       "}\n",
       "\n",
       "mpl.figure.prototype.request_resize = function(x_pixels, y_pixels) {\n",
       "    // Request matplotlib to resize the figure. Matplotlib will then trigger a resize in the client,\n",
       "    // which will in turn request a refresh of the image.\n",
       "    this.send_message('resize', {'width': x_pixels, 'height': y_pixels});\n",
       "}\n",
       "\n",
       "mpl.figure.prototype.send_message = function(type, properties) {\n",
       "    properties['type'] = type;\n",
       "    properties['figure_id'] = this.id;\n",
       "    this.ws.send(JSON.stringify(properties));\n",
       "}\n",
       "\n",
       "mpl.figure.prototype.send_draw_message = function() {\n",
       "    if (!this.waiting) {\n",
       "        this.waiting = true;\n",
       "        this.ws.send(JSON.stringify({type: \"draw\", figure_id: this.id}));\n",
       "    }\n",
       "}\n",
       "\n",
       "\n",
       "mpl.figure.prototype.handle_save = function(fig, msg) {\n",
       "    var format_dropdown = fig.format_dropdown;\n",
       "    var format = format_dropdown.options[format_dropdown.selectedIndex].value;\n",
       "    fig.ondownload(fig, format);\n",
       "}\n",
       "\n",
       "\n",
       "mpl.figure.prototype.handle_resize = function(fig, msg) {\n",
       "    var size = msg['size'];\n",
       "    if (size[0] != fig.canvas.width || size[1] != fig.canvas.height) {\n",
       "        fig._resize_canvas(size[0], size[1]);\n",
       "        fig.send_message(\"refresh\", {});\n",
       "    };\n",
       "}\n",
       "\n",
       "mpl.figure.prototype.handle_rubberband = function(fig, msg) {\n",
       "    var x0 = msg['x0'] / mpl.ratio;\n",
       "    var y0 = (fig.canvas.height - msg['y0']) / mpl.ratio;\n",
       "    var x1 = msg['x1'] / mpl.ratio;\n",
       "    var y1 = (fig.canvas.height - msg['y1']) / mpl.ratio;\n",
       "    x0 = Math.floor(x0) + 0.5;\n",
       "    y0 = Math.floor(y0) + 0.5;\n",
       "    x1 = Math.floor(x1) + 0.5;\n",
       "    y1 = Math.floor(y1) + 0.5;\n",
       "    var min_x = Math.min(x0, x1);\n",
       "    var min_y = Math.min(y0, y1);\n",
       "    var width = Math.abs(x1 - x0);\n",
       "    var height = Math.abs(y1 - y0);\n",
       "\n",
       "    fig.rubberband_context.clearRect(\n",
       "        0, 0, fig.canvas.width / mpl.ratio, fig.canvas.height / mpl.ratio);\n",
       "\n",
       "    fig.rubberband_context.strokeRect(min_x, min_y, width, height);\n",
       "}\n",
       "\n",
       "mpl.figure.prototype.handle_figure_label = function(fig, msg) {\n",
       "    // Updates the figure title.\n",
       "    fig.header.textContent = msg['label'];\n",
       "}\n",
       "\n",
       "mpl.figure.prototype.handle_cursor = function(fig, msg) {\n",
       "    var cursor = msg['cursor'];\n",
       "    switch(cursor)\n",
       "    {\n",
       "    case 0:\n",
       "        cursor = 'pointer';\n",
       "        break;\n",
       "    case 1:\n",
       "        cursor = 'default';\n",
       "        break;\n",
       "    case 2:\n",
       "        cursor = 'crosshair';\n",
       "        break;\n",
       "    case 3:\n",
       "        cursor = 'move';\n",
       "        break;\n",
       "    }\n",
       "    fig.rubberband_canvas.style.cursor = cursor;\n",
       "}\n",
       "\n",
       "mpl.figure.prototype.handle_message = function(fig, msg) {\n",
       "    fig.message.textContent = msg['message'];\n",
       "}\n",
       "\n",
       "mpl.figure.prototype.handle_draw = function(fig, msg) {\n",
       "    // Request the server to send over a new figure.\n",
       "    fig.send_draw_message();\n",
       "}\n",
       "\n",
       "mpl.figure.prototype.handle_image_mode = function(fig, msg) {\n",
       "    fig.image_mode = msg['mode'];\n",
       "}\n",
       "\n",
       "mpl.figure.prototype.updated_canvas_event = function() {\n",
       "    // Called whenever the canvas gets updated.\n",
       "    this.send_message(\"ack\", {});\n",
       "}\n",
       "\n",
       "// A function to construct a web socket function for onmessage handling.\n",
       "// Called in the figure constructor.\n",
       "mpl.figure.prototype._make_on_message_function = function(fig) {\n",
       "    return function socket_on_message(evt) {\n",
       "        if (evt.data instanceof Blob) {\n",
       "            /* FIXME: We get \"Resource interpreted as Image but\n",
       "             * transferred with MIME type text/plain:\" errors on\n",
       "             * Chrome.  But how to set the MIME type?  It doesn't seem\n",
       "             * to be part of the websocket stream */\n",
       "            evt.data.type = \"image/png\";\n",
       "\n",
       "            /* Free the memory for the previous frames */\n",
       "            if (fig.imageObj.src) {\n",
       "                (window.URL || window.webkitURL).revokeObjectURL(\n",
       "                    fig.imageObj.src);\n",
       "            }\n",
       "\n",
       "            fig.imageObj.src = (window.URL || window.webkitURL).createObjectURL(\n",
       "                evt.data);\n",
       "            fig.updated_canvas_event();\n",
       "            fig.waiting = false;\n",
       "            return;\n",
       "        }\n",
       "        else if (typeof evt.data === 'string' && evt.data.slice(0, 21) == \"data:image/png;base64\") {\n",
       "            fig.imageObj.src = evt.data;\n",
       "            fig.updated_canvas_event();\n",
       "            fig.waiting = false;\n",
       "            return;\n",
       "        }\n",
       "\n",
       "        var msg = JSON.parse(evt.data);\n",
       "        var msg_type = msg['type'];\n",
       "\n",
       "        // Call the  \"handle_{type}\" callback, which takes\n",
       "        // the figure and JSON message as its only arguments.\n",
       "        try {\n",
       "            var callback = fig[\"handle_\" + msg_type];\n",
       "        } catch (e) {\n",
       "            console.log(\"No handler for the '\" + msg_type + \"' message type: \", msg);\n",
       "            return;\n",
       "        }\n",
       "\n",
       "        if (callback) {\n",
       "            try {\n",
       "                // console.log(\"Handling '\" + msg_type + \"' message: \", msg);\n",
       "                callback(fig, msg);\n",
       "            } catch (e) {\n",
       "                console.log(\"Exception inside the 'handler_\" + msg_type + \"' callback:\", e, e.stack, msg);\n",
       "            }\n",
       "        }\n",
       "    };\n",
       "}\n",
       "\n",
       "// from http://stackoverflow.com/questions/1114465/getting-mouse-location-in-canvas\n",
       "mpl.findpos = function(e) {\n",
       "    //this section is from http://www.quirksmode.org/js/events_properties.html\n",
       "    var targ;\n",
       "    if (!e)\n",
       "        e = window.event;\n",
       "    if (e.target)\n",
       "        targ = e.target;\n",
       "    else if (e.srcElement)\n",
       "        targ = e.srcElement;\n",
       "    if (targ.nodeType == 3) // defeat Safari bug\n",
       "        targ = targ.parentNode;\n",
       "\n",
       "    // jQuery normalizes the pageX and pageY\n",
       "    // pageX,Y are the mouse positions relative to the document\n",
       "    // offset() returns the position of the element relative to the document\n",
       "    var x = e.pageX - $(targ).offset().left;\n",
       "    var y = e.pageY - $(targ).offset().top;\n",
       "\n",
       "    return {\"x\": x, \"y\": y};\n",
       "};\n",
       "\n",
       "/*\n",
       " * return a copy of an object with only non-object keys\n",
       " * we need this to avoid circular references\n",
       " * http://stackoverflow.com/a/24161582/3208463\n",
       " */\n",
       "function simpleKeys (original) {\n",
       "  return Object.keys(original).reduce(function (obj, key) {\n",
       "    if (typeof original[key] !== 'object')\n",
       "        obj[key] = original[key]\n",
       "    return obj;\n",
       "  }, {});\n",
       "}\n",
       "\n",
       "mpl.figure.prototype.mouse_event = function(event, name) {\n",
       "    var canvas_pos = mpl.findpos(event)\n",
       "\n",
       "    if (name === 'button_press')\n",
       "    {\n",
       "        this.canvas.focus();\n",
       "        this.canvas_div.focus();\n",
       "    }\n",
       "\n",
       "    var x = canvas_pos.x * mpl.ratio;\n",
       "    var y = canvas_pos.y * mpl.ratio;\n",
       "\n",
       "    this.send_message(name, {x: x, y: y, button: event.button,\n",
       "                             step: event.step,\n",
       "                             guiEvent: simpleKeys(event)});\n",
       "\n",
       "    /* This prevents the web browser from automatically changing to\n",
       "     * the text insertion cursor when the button is pressed.  We want\n",
       "     * to control all of the cursor setting manually through the\n",
       "     * 'cursor' event from matplotlib */\n",
       "    event.preventDefault();\n",
       "    return false;\n",
       "}\n",
       "\n",
       "mpl.figure.prototype._key_event_extra = function(event, name) {\n",
       "    // Handle any extra behaviour associated with a key event\n",
       "}\n",
       "\n",
       "mpl.figure.prototype.key_event = function(event, name) {\n",
       "\n",
       "    // Prevent repeat events\n",
       "    if (name == 'key_press')\n",
       "    {\n",
       "        if (event.which === this._key)\n",
       "            return;\n",
       "        else\n",
       "            this._key = event.which;\n",
       "    }\n",
       "    if (name == 'key_release')\n",
       "        this._key = null;\n",
       "\n",
       "    var value = '';\n",
       "    if (event.ctrlKey && event.which != 17)\n",
       "        value += \"ctrl+\";\n",
       "    if (event.altKey && event.which != 18)\n",
       "        value += \"alt+\";\n",
       "    if (event.shiftKey && event.which != 16)\n",
       "        value += \"shift+\";\n",
       "\n",
       "    value += 'k';\n",
       "    value += event.which.toString();\n",
       "\n",
       "    this._key_event_extra(event, name);\n",
       "\n",
       "    this.send_message(name, {key: value,\n",
       "                             guiEvent: simpleKeys(event)});\n",
       "    return false;\n",
       "}\n",
       "\n",
       "mpl.figure.prototype.toolbar_button_onclick = function(name) {\n",
       "    if (name == 'download') {\n",
       "        this.handle_save(this, null);\n",
       "    } else {\n",
       "        this.send_message(\"toolbar_button\", {name: name});\n",
       "    }\n",
       "};\n",
       "\n",
       "mpl.figure.prototype.toolbar_button_onmouseover = function(tooltip) {\n",
       "    this.message.textContent = tooltip;\n",
       "};\n",
       "mpl.toolbar_items = [[\"Home\", \"Reset original view\", \"fa fa-home icon-home\", \"home\"], [\"Back\", \"Back to previous view\", \"fa fa-arrow-left icon-arrow-left\", \"back\"], [\"Forward\", \"Forward to next view\", \"fa fa-arrow-right icon-arrow-right\", \"forward\"], [\"\", \"\", \"\", \"\"], [\"Pan\", \"Pan axes with left mouse, zoom with right\", \"fa fa-arrows icon-move\", \"pan\"], [\"Zoom\", \"Zoom to rectangle\", \"fa fa-square-o icon-check-empty\", \"zoom\"], [\"\", \"\", \"\", \"\"], [\"Download\", \"Download plot\", \"fa fa-floppy-o icon-save\", \"download\"]];\n",
       "\n",
       "mpl.extensions = [\"eps\", \"pdf\", \"png\", \"ps\", \"raw\", \"svg\"];\n",
       "\n",
       "mpl.default_extension = \"png\";var comm_websocket_adapter = function(comm) {\n",
       "    // Create a \"websocket\"-like object which calls the given IPython comm\n",
       "    // object with the appropriate methods. Currently this is a non binary\n",
       "    // socket, so there is still some room for performance tuning.\n",
       "    var ws = {};\n",
       "\n",
       "    ws.close = function() {\n",
       "        comm.close()\n",
       "    };\n",
       "    ws.send = function(m) {\n",
       "        //console.log('sending', m);\n",
       "        comm.send(m);\n",
       "    };\n",
       "    // Register the callback with on_msg.\n",
       "    comm.on_msg(function(msg) {\n",
       "        //console.log('receiving', msg['content']['data'], msg);\n",
       "        // Pass the mpl event to the overridden (by mpl) onmessage function.\n",
       "        ws.onmessage(msg['content']['data'])\n",
       "    });\n",
       "    return ws;\n",
       "}\n",
       "\n",
       "mpl.mpl_figure_comm = function(comm, msg) {\n",
       "    // This is the function which gets called when the mpl process\n",
       "    // starts-up an IPython Comm through the \"matplotlib\" channel.\n",
       "\n",
       "    var id = msg.content.data.id;\n",
       "    // Get hold of the div created by the display call when the Comm\n",
       "    // socket was opened in Python.\n",
       "    var element = $(\"#\" + id);\n",
       "    var ws_proxy = comm_websocket_adapter(comm)\n",
       "\n",
       "    function ondownload(figure, format) {\n",
       "        window.open(figure.imageObj.src);\n",
       "    }\n",
       "\n",
       "    var fig = new mpl.figure(id, ws_proxy,\n",
       "                           ondownload,\n",
       "                           element.get(0));\n",
       "\n",
       "    // Call onopen now - mpl needs it, as it is assuming we've passed it a real\n",
       "    // web socket which is closed, not our websocket->open comm proxy.\n",
       "    ws_proxy.onopen();\n",
       "\n",
       "    fig.parent_element = element.get(0);\n",
       "    fig.cell_info = mpl.find_output_cell(\"<div id='\" + id + \"'></div>\");\n",
       "    if (!fig.cell_info) {\n",
       "        console.error(\"Failed to find cell for figure\", id, fig);\n",
       "        return;\n",
       "    }\n",
       "\n",
       "    var output_index = fig.cell_info[2]\n",
       "    var cell = fig.cell_info[0];\n",
       "\n",
       "};\n",
       "\n",
       "mpl.figure.prototype.handle_close = function(fig, msg) {\n",
       "    var width = fig.canvas.width/mpl.ratio\n",
       "    fig.root.unbind('remove')\n",
       "\n",
       "    // Update the output cell to use the data from the current canvas.\n",
       "    fig.push_to_output();\n",
       "    var dataURL = fig.canvas.toDataURL();\n",
       "    // Re-enable the keyboard manager in IPython - without this line, in FF,\n",
       "    // the notebook keyboard shortcuts fail.\n",
       "    IPython.keyboard_manager.enable()\n",
       "    $(fig.parent_element).html('<img src=\"' + dataURL + '\" width=\"' + width + '\">');\n",
       "    fig.close_ws(fig, msg);\n",
       "}\n",
       "\n",
       "mpl.figure.prototype.close_ws = function(fig, msg){\n",
       "    fig.send_message('closing', msg);\n",
       "    // fig.ws.close()\n",
       "}\n",
       "\n",
       "mpl.figure.prototype.push_to_output = function(remove_interactive) {\n",
       "    // Turn the data on the canvas into data in the output cell.\n",
       "    var width = this.canvas.width/mpl.ratio\n",
       "    var dataURL = this.canvas.toDataURL();\n",
       "    this.cell_info[1]['text/html'] = '<img src=\"' + dataURL + '\" width=\"' + width + '\">';\n",
       "}\n",
       "\n",
       "mpl.figure.prototype.updated_canvas_event = function() {\n",
       "    // Tell IPython that the notebook contents must change.\n",
       "    IPython.notebook.set_dirty(true);\n",
       "    this.send_message(\"ack\", {});\n",
       "    var fig = this;\n",
       "    // Wait a second, then push the new image to the DOM so\n",
       "    // that it is saved nicely (might be nice to debounce this).\n",
       "    setTimeout(function () { fig.push_to_output() }, 1000);\n",
       "}\n",
       "\n",
       "mpl.figure.prototype._init_toolbar = function() {\n",
       "    var fig = this;\n",
       "\n",
       "    var nav_element = $('<div/>');\n",
       "    nav_element.attr('style', 'width: 100%');\n",
       "    this.root.append(nav_element);\n",
       "\n",
       "    // Define a callback function for later on.\n",
       "    function toolbar_event(event) {\n",
       "        return fig.toolbar_button_onclick(event['data']);\n",
       "    }\n",
       "    function toolbar_mouse_event(event) {\n",
       "        return fig.toolbar_button_onmouseover(event['data']);\n",
       "    }\n",
       "\n",
       "    for(var toolbar_ind in mpl.toolbar_items){\n",
       "        var name = mpl.toolbar_items[toolbar_ind][0];\n",
       "        var tooltip = mpl.toolbar_items[toolbar_ind][1];\n",
       "        var image = mpl.toolbar_items[toolbar_ind][2];\n",
       "        var method_name = mpl.toolbar_items[toolbar_ind][3];\n",
       "\n",
       "        if (!name) { continue; };\n",
       "\n",
       "        var button = $('<button class=\"btn btn-default\" href=\"#\" title=\"' + name + '\"><i class=\"fa ' + image + ' fa-lg\"></i></button>');\n",
       "        button.click(method_name, toolbar_event);\n",
       "        button.mouseover(tooltip, toolbar_mouse_event);\n",
       "        nav_element.append(button);\n",
       "    }\n",
       "\n",
       "    // Add the status bar.\n",
       "    var status_bar = $('<span class=\"mpl-message\" style=\"text-align:right; float: right;\"/>');\n",
       "    nav_element.append(status_bar);\n",
       "    this.message = status_bar[0];\n",
       "\n",
       "    // Add the close button to the window.\n",
       "    var buttongrp = $('<div class=\"btn-group inline pull-right\"></div>');\n",
       "    var button = $('<button class=\"btn btn-mini btn-primary\" href=\"#\" title=\"Stop Interaction\"><i class=\"fa fa-power-off icon-remove icon-large\"></i></button>');\n",
       "    button.click(function (evt) { fig.handle_close(fig, {}); } );\n",
       "    button.mouseover('Stop Interaction', toolbar_mouse_event);\n",
       "    buttongrp.append(button);\n",
       "    var titlebar = this.root.find($('.ui-dialog-titlebar'));\n",
       "    titlebar.prepend(buttongrp);\n",
       "}\n",
       "\n",
       "mpl.figure.prototype._root_extra_style = function(el){\n",
       "    var fig = this\n",
       "    el.on(\"remove\", function(){\n",
       "\tfig.close_ws(fig, {});\n",
       "    });\n",
       "}\n",
       "\n",
       "mpl.figure.prototype._canvas_extra_style = function(el){\n",
       "    // this is important to make the div 'focusable\n",
       "    el.attr('tabindex', 0)\n",
       "    // reach out to IPython and tell the keyboard manager to turn it's self\n",
       "    // off when our div gets focus\n",
       "\n",
       "    // location in version 3\n",
       "    if (IPython.notebook.keyboard_manager) {\n",
       "        IPython.notebook.keyboard_manager.register_events(el);\n",
       "    }\n",
       "    else {\n",
       "        // location in version 2\n",
       "        IPython.keyboard_manager.register_events(el);\n",
       "    }\n",
       "\n",
       "}\n",
       "\n",
       "mpl.figure.prototype._key_event_extra = function(event, name) {\n",
       "    var manager = IPython.notebook.keyboard_manager;\n",
       "    if (!manager)\n",
       "        manager = IPython.keyboard_manager;\n",
       "\n",
       "    // Check for shift+enter\n",
       "    if (event.shiftKey && event.which == 13) {\n",
       "        this.canvas_div.blur();\n",
       "        // select the cell after this one\n",
       "        var index = IPython.notebook.find_cell_index(this.cell_info[0]);\n",
       "        IPython.notebook.select(index + 1);\n",
       "    }\n",
       "}\n",
       "\n",
       "mpl.figure.prototype.handle_save = function(fig, msg) {\n",
       "    fig.ondownload(fig, null);\n",
       "}\n",
       "\n",
       "\n",
       "mpl.find_output_cell = function(html_output) {\n",
       "    // Return the cell and output element which can be found *uniquely* in the notebook.\n",
       "    // Note - this is a bit hacky, but it is done because the \"notebook_saving.Notebook\"\n",
       "    // IPython event is triggered only after the cells have been serialised, which for\n",
       "    // our purposes (turning an active figure into a static one), is too late.\n",
       "    var cells = IPython.notebook.get_cells();\n",
       "    var ncells = cells.length;\n",
       "    for (var i=0; i<ncells; i++) {\n",
       "        var cell = cells[i];\n",
       "        if (cell.cell_type === 'code'){\n",
       "            for (var j=0; j<cell.output_area.outputs.length; j++) {\n",
       "                var data = cell.output_area.outputs[j];\n",
       "                if (data.data) {\n",
       "                    // IPython >= 3 moved mimebundle to data attribute of output\n",
       "                    data = data.data;\n",
       "                }\n",
       "                if (data['text/html'] == html_output) {\n",
       "                    return [cell, data, j];\n",
       "                }\n",
       "            }\n",
       "        }\n",
       "    }\n",
       "}\n",
       "\n",
       "// Register the function which deals with the matplotlib target/channel.\n",
       "// The kernel may be null if the page has been refreshed.\n",
       "if (IPython.notebook.kernel != null) {\n",
       "    IPython.notebook.kernel.comm_manager.register_target('matplotlib', mpl.mpl_figure_comm);\n",
       "}\n"
      ],
      "text/plain": [
       "<IPython.core.display.Javascript object>"
      ]
     },
     "metadata": {},
     "output_type": "display_data"
    },
    {
     "data": {
      "text/html": [
       "<img src=\"data:image/png;base64,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\" width=\"400\">"
      ],
      "text/plain": [
       "<IPython.core.display.HTML object>"
      ]
     },
     "metadata": {},
     "output_type": "display_data"
    }
   ],
   "source": [
    "fig, ax = plt.subplots(figsize=(4, 3))\n",
    "ax.hist(abs(nd_U_1_nr.ravel() - gradh_nr.U_1.ravel()), bins=np.logspace(np.log10(1e-9), np.log10(1e-1), 50), alpha=0.5)\n",
    "ax.hist(abs(gradh_nr.U_1.ravel()), bins=np.logspace(np.log10(1e-9), np.log10(1e-1), 50), alpha=0.5)\n",
    "ax.set_xscale(\"log\")\n",
    "fig.tight_layout()"
   ]
  },
  {
   "cell_type": "markdown",
   "metadata": {
    "hidden": true
   },
   "source": [
    "这样一张误差图与以前求 Skeleton 导数的误差图比起来，我们能明显感到，蓝色的条很明显地往较大的数值偏移，并且与橙色条有部分重叠；但我们仍然判断解析导数与数值导数比较接近。我们以后会经常见到这种情形，特别是矩阵或张量中含有关于 U 矩阵计算的情况时。"
   ]
  },
  {
   "cell_type": "markdown",
   "metadata": {
    "heading_collapsed": true
   },
   "source": [
    "### 经过“轨道旋转”的 U 矩阵 (1) $\\mathscr{U}_{pq}^{A_t}$ 的定义"
   ]
  },
  {
   "cell_type": "markdown",
   "metadata": {
    "hidden": true
   },
   "source": [
    "上面提到，这是没有经过“轨道旋转”的 U 矩阵 $U_{pq}^{A_t}$，它对应的计算实例是 `gradh_nr`。而经过“轨道旋转”的 U 矩阵计算实例是 `gradh`，我们写为 $\\mathscr{U}_{pq}^{A_t}$。一般地，$U_{pq}^{A_t} \\neq \\mathscr{U}_{pq}^{A_t}$："
   ]
  },
  {
   "cell_type": "code",
   "execution_count": 13,
   "metadata": {
    "hidden": true
   },
   "outputs": [
    {
     "data": {
      "application/javascript": [
       "/* Put everything inside the global mpl namespace */\n",
       "window.mpl = {};\n",
       "\n",
       "\n",
       "mpl.get_websocket_type = function() {\n",
       "    if (typeof(WebSocket) !== 'undefined') {\n",
       "        return WebSocket;\n",
       "    } else if (typeof(MozWebSocket) !== 'undefined') {\n",
       "        return MozWebSocket;\n",
       "    } else {\n",
       "        alert('Your browser does not have WebSocket support. ' +\n",
       "              'Please try Chrome, Safari or Firefox ≥ 6. ' +\n",
       "              'Firefox 4 and 5 are also supported but you ' +\n",
       "              'have to enable WebSockets in about:config.');\n",
       "    };\n",
       "}\n",
       "\n",
       "mpl.figure = function(figure_id, websocket, ondownload, parent_element) {\n",
       "    this.id = figure_id;\n",
       "\n",
       "    this.ws = websocket;\n",
       "\n",
       "    this.supports_binary = (this.ws.binaryType != undefined);\n",
       "\n",
       "    if (!this.supports_binary) {\n",
       "        var warnings = document.getElementById(\"mpl-warnings\");\n",
       "        if (warnings) {\n",
       "            warnings.style.display = 'block';\n",
       "            warnings.textContent = (\n",
       "                \"This browser does not support binary websocket messages. \" +\n",
       "                    \"Performance may be slow.\");\n",
       "        }\n",
       "    }\n",
       "\n",
       "    this.imageObj = new Image();\n",
       "\n",
       "    this.context = undefined;\n",
       "    this.message = undefined;\n",
       "    this.canvas = undefined;\n",
       "    this.rubberband_canvas = undefined;\n",
       "    this.rubberband_context = undefined;\n",
       "    this.format_dropdown = undefined;\n",
       "\n",
       "    this.image_mode = 'full';\n",
       "\n",
       "    this.root = $('<div/>');\n",
       "    this._root_extra_style(this.root)\n",
       "    this.root.attr('style', 'display: inline-block');\n",
       "\n",
       "    $(parent_element).append(this.root);\n",
       "\n",
       "    this._init_header(this);\n",
       "    this._init_canvas(this);\n",
       "    this._init_toolbar(this);\n",
       "\n",
       "    var fig = this;\n",
       "\n",
       "    this.waiting = false;\n",
       "\n",
       "    this.ws.onopen =  function () {\n",
       "            fig.send_message(\"supports_binary\", {value: fig.supports_binary});\n",
       "            fig.send_message(\"send_image_mode\", {});\n",
       "            if (mpl.ratio != 1) {\n",
       "                fig.send_message(\"set_dpi_ratio\", {'dpi_ratio': mpl.ratio});\n",
       "            }\n",
       "            fig.send_message(\"refresh\", {});\n",
       "        }\n",
       "\n",
       "    this.imageObj.onload = function() {\n",
       "            if (fig.image_mode == 'full') {\n",
       "                // Full images could contain transparency (where diff images\n",
       "                // almost always do), so we need to clear the canvas so that\n",
       "                // there is no ghosting.\n",
       "                fig.context.clearRect(0, 0, fig.canvas.width, fig.canvas.height);\n",
       "            }\n",
       "            fig.context.drawImage(fig.imageObj, 0, 0);\n",
       "        };\n",
       "\n",
       "    this.imageObj.onunload = function() {\n",
       "        fig.ws.close();\n",
       "    }\n",
       "\n",
       "    this.ws.onmessage = this._make_on_message_function(this);\n",
       "\n",
       "    this.ondownload = ondownload;\n",
       "}\n",
       "\n",
       "mpl.figure.prototype._init_header = function() {\n",
       "    var titlebar = $(\n",
       "        '<div class=\"ui-dialog-titlebar ui-widget-header ui-corner-all ' +\n",
       "        'ui-helper-clearfix\"/>');\n",
       "    var titletext = $(\n",
       "        '<div class=\"ui-dialog-title\" style=\"width: 100%; ' +\n",
       "        'text-align: center; padding: 3px;\"/>');\n",
       "    titlebar.append(titletext)\n",
       "    this.root.append(titlebar);\n",
       "    this.header = titletext[0];\n",
       "}\n",
       "\n",
       "\n",
       "\n",
       "mpl.figure.prototype._canvas_extra_style = function(canvas_div) {\n",
       "\n",
       "}\n",
       "\n",
       "\n",
       "mpl.figure.prototype._root_extra_style = function(canvas_div) {\n",
       "\n",
       "}\n",
       "\n",
       "mpl.figure.prototype._init_canvas = function() {\n",
       "    var fig = this;\n",
       "\n",
       "    var canvas_div = $('<div/>');\n",
       "\n",
       "    canvas_div.attr('style', 'position: relative; clear: both; outline: 0');\n",
       "\n",
       "    function canvas_keyboard_event(event) {\n",
       "        return fig.key_event(event, event['data']);\n",
       "    }\n",
       "\n",
       "    canvas_div.keydown('key_press', canvas_keyboard_event);\n",
       "    canvas_div.keyup('key_release', canvas_keyboard_event);\n",
       "    this.canvas_div = canvas_div\n",
       "    this._canvas_extra_style(canvas_div)\n",
       "    this.root.append(canvas_div);\n",
       "\n",
       "    var canvas = $('<canvas/>');\n",
       "    canvas.addClass('mpl-canvas');\n",
       "    canvas.attr('style', \"left: 0; top: 0; z-index: 0; outline: 0\")\n",
       "\n",
       "    this.canvas = canvas[0];\n",
       "    this.context = canvas[0].getContext(\"2d\");\n",
       "\n",
       "    var backingStore = this.context.backingStorePixelRatio ||\n",
       "\tthis.context.webkitBackingStorePixelRatio ||\n",
       "\tthis.context.mozBackingStorePixelRatio ||\n",
       "\tthis.context.msBackingStorePixelRatio ||\n",
       "\tthis.context.oBackingStorePixelRatio ||\n",
       "\tthis.context.backingStorePixelRatio || 1;\n",
       "\n",
       "    mpl.ratio = (window.devicePixelRatio || 1) / backingStore;\n",
       "\n",
       "    var rubberband = $('<canvas/>');\n",
       "    rubberband.attr('style', \"position: absolute; left: 0; top: 0; z-index: 1;\")\n",
       "\n",
       "    var pass_mouse_events = true;\n",
       "\n",
       "    canvas_div.resizable({\n",
       "        start: function(event, ui) {\n",
       "            pass_mouse_events = false;\n",
       "        },\n",
       "        resize: function(event, ui) {\n",
       "            fig.request_resize(ui.size.width, ui.size.height);\n",
       "        },\n",
       "        stop: function(event, ui) {\n",
       "            pass_mouse_events = true;\n",
       "            fig.request_resize(ui.size.width, ui.size.height);\n",
       "        },\n",
       "    });\n",
       "\n",
       "    function mouse_event_fn(event) {\n",
       "        if (pass_mouse_events)\n",
       "            return fig.mouse_event(event, event['data']);\n",
       "    }\n",
       "\n",
       "    rubberband.mousedown('button_press', mouse_event_fn);\n",
       "    rubberband.mouseup('button_release', mouse_event_fn);\n",
       "    // Throttle sequential mouse events to 1 every 20ms.\n",
       "    rubberband.mousemove('motion_notify', mouse_event_fn);\n",
       "\n",
       "    rubberband.mouseenter('figure_enter', mouse_event_fn);\n",
       "    rubberband.mouseleave('figure_leave', mouse_event_fn);\n",
       "\n",
       "    canvas_div.on(\"wheel\", function (event) {\n",
       "        event = event.originalEvent;\n",
       "        event['data'] = 'scroll'\n",
       "        if (event.deltaY < 0) {\n",
       "            event.step = 1;\n",
       "        } else {\n",
       "            event.step = -1;\n",
       "        }\n",
       "        mouse_event_fn(event);\n",
       "    });\n",
       "\n",
       "    canvas_div.append(canvas);\n",
       "    canvas_div.append(rubberband);\n",
       "\n",
       "    this.rubberband = rubberband;\n",
       "    this.rubberband_canvas = rubberband[0];\n",
       "    this.rubberband_context = rubberband[0].getContext(\"2d\");\n",
       "    this.rubberband_context.strokeStyle = \"#000000\";\n",
       "\n",
       "    this._resize_canvas = function(width, height) {\n",
       "        // Keep the size of the canvas, canvas container, and rubber band\n",
       "        // canvas in synch.\n",
       "        canvas_div.css('width', width)\n",
       "        canvas_div.css('height', height)\n",
       "\n",
       "        canvas.attr('width', width * mpl.ratio);\n",
       "        canvas.attr('height', height * mpl.ratio);\n",
       "        canvas.attr('style', 'width: ' + width + 'px; height: ' + height + 'px;');\n",
       "\n",
       "        rubberband.attr('width', width);\n",
       "        rubberband.attr('height', height);\n",
       "    }\n",
       "\n",
       "    // Set the figure to an initial 600x600px, this will subsequently be updated\n",
       "    // upon first draw.\n",
       "    this._resize_canvas(600, 600);\n",
       "\n",
       "    // Disable right mouse context menu.\n",
       "    $(this.rubberband_canvas).bind(\"contextmenu\",function(e){\n",
       "        return false;\n",
       "    });\n",
       "\n",
       "    function set_focus () {\n",
       "        canvas.focus();\n",
       "        canvas_div.focus();\n",
       "    }\n",
       "\n",
       "    window.setTimeout(set_focus, 100);\n",
       "}\n",
       "\n",
       "mpl.figure.prototype._init_toolbar = function() {\n",
       "    var fig = this;\n",
       "\n",
       "    var nav_element = $('<div/>');\n",
       "    nav_element.attr('style', 'width: 100%');\n",
       "    this.root.append(nav_element);\n",
       "\n",
       "    // Define a callback function for later on.\n",
       "    function toolbar_event(event) {\n",
       "        return fig.toolbar_button_onclick(event['data']);\n",
       "    }\n",
       "    function toolbar_mouse_event(event) {\n",
       "        return fig.toolbar_button_onmouseover(event['data']);\n",
       "    }\n",
       "\n",
       "    for(var toolbar_ind in mpl.toolbar_items) {\n",
       "        var name = mpl.toolbar_items[toolbar_ind][0];\n",
       "        var tooltip = mpl.toolbar_items[toolbar_ind][1];\n",
       "        var image = mpl.toolbar_items[toolbar_ind][2];\n",
       "        var method_name = mpl.toolbar_items[toolbar_ind][3];\n",
       "\n",
       "        if (!name) {\n",
       "            // put a spacer in here.\n",
       "            continue;\n",
       "        }\n",
       "        var button = $('<button/>');\n",
       "        button.addClass('ui-button ui-widget ui-state-default ui-corner-all ' +\n",
       "                        'ui-button-icon-only');\n",
       "        button.attr('role', 'button');\n",
       "        button.attr('aria-disabled', 'false');\n",
       "        button.click(method_name, toolbar_event);\n",
       "        button.mouseover(tooltip, toolbar_mouse_event);\n",
       "\n",
       "        var icon_img = $('<span/>');\n",
       "        icon_img.addClass('ui-button-icon-primary ui-icon');\n",
       "        icon_img.addClass(image);\n",
       "        icon_img.addClass('ui-corner-all');\n",
       "\n",
       "        var tooltip_span = $('<span/>');\n",
       "        tooltip_span.addClass('ui-button-text');\n",
       "        tooltip_span.html(tooltip);\n",
       "\n",
       "        button.append(icon_img);\n",
       "        button.append(tooltip_span);\n",
       "\n",
       "        nav_element.append(button);\n",
       "    }\n",
       "\n",
       "    var fmt_picker_span = $('<span/>');\n",
       "\n",
       "    var fmt_picker = $('<select/>');\n",
       "    fmt_picker.addClass('mpl-toolbar-option ui-widget ui-widget-content');\n",
       "    fmt_picker_span.append(fmt_picker);\n",
       "    nav_element.append(fmt_picker_span);\n",
       "    this.format_dropdown = fmt_picker[0];\n",
       "\n",
       "    for (var ind in mpl.extensions) {\n",
       "        var fmt = mpl.extensions[ind];\n",
       "        var option = $(\n",
       "            '<option/>', {selected: fmt === mpl.default_extension}).html(fmt);\n",
       "        fmt_picker.append(option);\n",
       "    }\n",
       "\n",
       "    // Add hover states to the ui-buttons\n",
       "    $( \".ui-button\" ).hover(\n",
       "        function() { $(this).addClass(\"ui-state-hover\");},\n",
       "        function() { $(this).removeClass(\"ui-state-hover\");}\n",
       "    );\n",
       "\n",
       "    var status_bar = $('<span class=\"mpl-message\"/>');\n",
       "    nav_element.append(status_bar);\n",
       "    this.message = status_bar[0];\n",
       "}\n",
       "\n",
       "mpl.figure.prototype.request_resize = function(x_pixels, y_pixels) {\n",
       "    // Request matplotlib to resize the figure. Matplotlib will then trigger a resize in the client,\n",
       "    // which will in turn request a refresh of the image.\n",
       "    this.send_message('resize', {'width': x_pixels, 'height': y_pixels});\n",
       "}\n",
       "\n",
       "mpl.figure.prototype.send_message = function(type, properties) {\n",
       "    properties['type'] = type;\n",
       "    properties['figure_id'] = this.id;\n",
       "    this.ws.send(JSON.stringify(properties));\n",
       "}\n",
       "\n",
       "mpl.figure.prototype.send_draw_message = function() {\n",
       "    if (!this.waiting) {\n",
       "        this.waiting = true;\n",
       "        this.ws.send(JSON.stringify({type: \"draw\", figure_id: this.id}));\n",
       "    }\n",
       "}\n",
       "\n",
       "\n",
       "mpl.figure.prototype.handle_save = function(fig, msg) {\n",
       "    var format_dropdown = fig.format_dropdown;\n",
       "    var format = format_dropdown.options[format_dropdown.selectedIndex].value;\n",
       "    fig.ondownload(fig, format);\n",
       "}\n",
       "\n",
       "\n",
       "mpl.figure.prototype.handle_resize = function(fig, msg) {\n",
       "    var size = msg['size'];\n",
       "    if (size[0] != fig.canvas.width || size[1] != fig.canvas.height) {\n",
       "        fig._resize_canvas(size[0], size[1]);\n",
       "        fig.send_message(\"refresh\", {});\n",
       "    };\n",
       "}\n",
       "\n",
       "mpl.figure.prototype.handle_rubberband = function(fig, msg) {\n",
       "    var x0 = msg['x0'] / mpl.ratio;\n",
       "    var y0 = (fig.canvas.height - msg['y0']) / mpl.ratio;\n",
       "    var x1 = msg['x1'] / mpl.ratio;\n",
       "    var y1 = (fig.canvas.height - msg['y1']) / mpl.ratio;\n",
       "    x0 = Math.floor(x0) + 0.5;\n",
       "    y0 = Math.floor(y0) + 0.5;\n",
       "    x1 = Math.floor(x1) + 0.5;\n",
       "    y1 = Math.floor(y1) + 0.5;\n",
       "    var min_x = Math.min(x0, x1);\n",
       "    var min_y = Math.min(y0, y1);\n",
       "    var width = Math.abs(x1 - x0);\n",
       "    var height = Math.abs(y1 - y0);\n",
       "\n",
       "    fig.rubberband_context.clearRect(\n",
       "        0, 0, fig.canvas.width / mpl.ratio, fig.canvas.height / mpl.ratio);\n",
       "\n",
       "    fig.rubberband_context.strokeRect(min_x, min_y, width, height);\n",
       "}\n",
       "\n",
       "mpl.figure.prototype.handle_figure_label = function(fig, msg) {\n",
       "    // Updates the figure title.\n",
       "    fig.header.textContent = msg['label'];\n",
       "}\n",
       "\n",
       "mpl.figure.prototype.handle_cursor = function(fig, msg) {\n",
       "    var cursor = msg['cursor'];\n",
       "    switch(cursor)\n",
       "    {\n",
       "    case 0:\n",
       "        cursor = 'pointer';\n",
       "        break;\n",
       "    case 1:\n",
       "        cursor = 'default';\n",
       "        break;\n",
       "    case 2:\n",
       "        cursor = 'crosshair';\n",
       "        break;\n",
       "    case 3:\n",
       "        cursor = 'move';\n",
       "        break;\n",
       "    }\n",
       "    fig.rubberband_canvas.style.cursor = cursor;\n",
       "}\n",
       "\n",
       "mpl.figure.prototype.handle_message = function(fig, msg) {\n",
       "    fig.message.textContent = msg['message'];\n",
       "}\n",
       "\n",
       "mpl.figure.prototype.handle_draw = function(fig, msg) {\n",
       "    // Request the server to send over a new figure.\n",
       "    fig.send_draw_message();\n",
       "}\n",
       "\n",
       "mpl.figure.prototype.handle_image_mode = function(fig, msg) {\n",
       "    fig.image_mode = msg['mode'];\n",
       "}\n",
       "\n",
       "mpl.figure.prototype.updated_canvas_event = function() {\n",
       "    // Called whenever the canvas gets updated.\n",
       "    this.send_message(\"ack\", {});\n",
       "}\n",
       "\n",
       "// A function to construct a web socket function for onmessage handling.\n",
       "// Called in the figure constructor.\n",
       "mpl.figure.prototype._make_on_message_function = function(fig) {\n",
       "    return function socket_on_message(evt) {\n",
       "        if (evt.data instanceof Blob) {\n",
       "            /* FIXME: We get \"Resource interpreted as Image but\n",
       "             * transferred with MIME type text/plain:\" errors on\n",
       "             * Chrome.  But how to set the MIME type?  It doesn't seem\n",
       "             * to be part of the websocket stream */\n",
       "            evt.data.type = \"image/png\";\n",
       "\n",
       "            /* Free the memory for the previous frames */\n",
       "            if (fig.imageObj.src) {\n",
       "                (window.URL || window.webkitURL).revokeObjectURL(\n",
       "                    fig.imageObj.src);\n",
       "            }\n",
       "\n",
       "            fig.imageObj.src = (window.URL || window.webkitURL).createObjectURL(\n",
       "                evt.data);\n",
       "            fig.updated_canvas_event();\n",
       "            fig.waiting = false;\n",
       "            return;\n",
       "        }\n",
       "        else if (typeof evt.data === 'string' && evt.data.slice(0, 21) == \"data:image/png;base64\") {\n",
       "            fig.imageObj.src = evt.data;\n",
       "            fig.updated_canvas_event();\n",
       "            fig.waiting = false;\n",
       "            return;\n",
       "        }\n",
       "\n",
       "        var msg = JSON.parse(evt.data);\n",
       "        var msg_type = msg['type'];\n",
       "\n",
       "        // Call the  \"handle_{type}\" callback, which takes\n",
       "        // the figure and JSON message as its only arguments.\n",
       "        try {\n",
       "            var callback = fig[\"handle_\" + msg_type];\n",
       "        } catch (e) {\n",
       "            console.log(\"No handler for the '\" + msg_type + \"' message type: \", msg);\n",
       "            return;\n",
       "        }\n",
       "\n",
       "        if (callback) {\n",
       "            try {\n",
       "                // console.log(\"Handling '\" + msg_type + \"' message: \", msg);\n",
       "                callback(fig, msg);\n",
       "            } catch (e) {\n",
       "                console.log(\"Exception inside the 'handler_\" + msg_type + \"' callback:\", e, e.stack, msg);\n",
       "            }\n",
       "        }\n",
       "    };\n",
       "}\n",
       "\n",
       "// from http://stackoverflow.com/questions/1114465/getting-mouse-location-in-canvas\n",
       "mpl.findpos = function(e) {\n",
       "    //this section is from http://www.quirksmode.org/js/events_properties.html\n",
       "    var targ;\n",
       "    if (!e)\n",
       "        e = window.event;\n",
       "    if (e.target)\n",
       "        targ = e.target;\n",
       "    else if (e.srcElement)\n",
       "        targ = e.srcElement;\n",
       "    if (targ.nodeType == 3) // defeat Safari bug\n",
       "        targ = targ.parentNode;\n",
       "\n",
       "    // jQuery normalizes the pageX and pageY\n",
       "    // pageX,Y are the mouse positions relative to the document\n",
       "    // offset() returns the position of the element relative to the document\n",
       "    var x = e.pageX - $(targ).offset().left;\n",
       "    var y = e.pageY - $(targ).offset().top;\n",
       "\n",
       "    return {\"x\": x, \"y\": y};\n",
       "};\n",
       "\n",
       "/*\n",
       " * return a copy of an object with only non-object keys\n",
       " * we need this to avoid circular references\n",
       " * http://stackoverflow.com/a/24161582/3208463\n",
       " */\n",
       "function simpleKeys (original) {\n",
       "  return Object.keys(original).reduce(function (obj, key) {\n",
       "    if (typeof original[key] !== 'object')\n",
       "        obj[key] = original[key]\n",
       "    return obj;\n",
       "  }, {});\n",
       "}\n",
       "\n",
       "mpl.figure.prototype.mouse_event = function(event, name) {\n",
       "    var canvas_pos = mpl.findpos(event)\n",
       "\n",
       "    if (name === 'button_press')\n",
       "    {\n",
       "        this.canvas.focus();\n",
       "        this.canvas_div.focus();\n",
       "    }\n",
       "\n",
       "    var x = canvas_pos.x * mpl.ratio;\n",
       "    var y = canvas_pos.y * mpl.ratio;\n",
       "\n",
       "    this.send_message(name, {x: x, y: y, button: event.button,\n",
       "                             step: event.step,\n",
       "                             guiEvent: simpleKeys(event)});\n",
       "\n",
       "    /* This prevents the web browser from automatically changing to\n",
       "     * the text insertion cursor when the button is pressed.  We want\n",
       "     * to control all of the cursor setting manually through the\n",
       "     * 'cursor' event from matplotlib */\n",
       "    event.preventDefault();\n",
       "    return false;\n",
       "}\n",
       "\n",
       "mpl.figure.prototype._key_event_extra = function(event, name) {\n",
       "    // Handle any extra behaviour associated with a key event\n",
       "}\n",
       "\n",
       "mpl.figure.prototype.key_event = function(event, name) {\n",
       "\n",
       "    // Prevent repeat events\n",
       "    if (name == 'key_press')\n",
       "    {\n",
       "        if (event.which === this._key)\n",
       "            return;\n",
       "        else\n",
       "            this._key = event.which;\n",
       "    }\n",
       "    if (name == 'key_release')\n",
       "        this._key = null;\n",
       "\n",
       "    var value = '';\n",
       "    if (event.ctrlKey && event.which != 17)\n",
       "        value += \"ctrl+\";\n",
       "    if (event.altKey && event.which != 18)\n",
       "        value += \"alt+\";\n",
       "    if (event.shiftKey && event.which != 16)\n",
       "        value += \"shift+\";\n",
       "\n",
       "    value += 'k';\n",
       "    value += event.which.toString();\n",
       "\n",
       "    this._key_event_extra(event, name);\n",
       "\n",
       "    this.send_message(name, {key: value,\n",
       "                             guiEvent: simpleKeys(event)});\n",
       "    return false;\n",
       "}\n",
       "\n",
       "mpl.figure.prototype.toolbar_button_onclick = function(name) {\n",
       "    if (name == 'download') {\n",
       "        this.handle_save(this, null);\n",
       "    } else {\n",
       "        this.send_message(\"toolbar_button\", {name: name});\n",
       "    }\n",
       "};\n",
       "\n",
       "mpl.figure.prototype.toolbar_button_onmouseover = function(tooltip) {\n",
       "    this.message.textContent = tooltip;\n",
       "};\n",
       "mpl.toolbar_items = [[\"Home\", \"Reset original view\", \"fa fa-home icon-home\", \"home\"], [\"Back\", \"Back to previous view\", \"fa fa-arrow-left icon-arrow-left\", \"back\"], [\"Forward\", \"Forward to next view\", \"fa fa-arrow-right icon-arrow-right\", \"forward\"], [\"\", \"\", \"\", \"\"], [\"Pan\", \"Pan axes with left mouse, zoom with right\", \"fa fa-arrows icon-move\", \"pan\"], [\"Zoom\", \"Zoom to rectangle\", \"fa fa-square-o icon-check-empty\", \"zoom\"], [\"\", \"\", \"\", \"\"], [\"Download\", \"Download plot\", \"fa fa-floppy-o icon-save\", \"download\"]];\n",
       "\n",
       "mpl.extensions = [\"eps\", \"pdf\", \"png\", \"ps\", \"raw\", \"svg\"];\n",
       "\n",
       "mpl.default_extension = \"png\";var comm_websocket_adapter = function(comm) {\n",
       "    // Create a \"websocket\"-like object which calls the given IPython comm\n",
       "    // object with the appropriate methods. Currently this is a non binary\n",
       "    // socket, so there is still some room for performance tuning.\n",
       "    var ws = {};\n",
       "\n",
       "    ws.close = function() {\n",
       "        comm.close()\n",
       "    };\n",
       "    ws.send = function(m) {\n",
       "        //console.log('sending', m);\n",
       "        comm.send(m);\n",
       "    };\n",
       "    // Register the callback with on_msg.\n",
       "    comm.on_msg(function(msg) {\n",
       "        //console.log('receiving', msg['content']['data'], msg);\n",
       "        // Pass the mpl event to the overridden (by mpl) onmessage function.\n",
       "        ws.onmessage(msg['content']['data'])\n",
       "    });\n",
       "    return ws;\n",
       "}\n",
       "\n",
       "mpl.mpl_figure_comm = function(comm, msg) {\n",
       "    // This is the function which gets called when the mpl process\n",
       "    // starts-up an IPython Comm through the \"matplotlib\" channel.\n",
       "\n",
       "    var id = msg.content.data.id;\n",
       "    // Get hold of the div created by the display call when the Comm\n",
       "    // socket was opened in Python.\n",
       "    var element = $(\"#\" + id);\n",
       "    var ws_proxy = comm_websocket_adapter(comm)\n",
       "\n",
       "    function ondownload(figure, format) {\n",
       "        window.open(figure.imageObj.src);\n",
       "    }\n",
       "\n",
       "    var fig = new mpl.figure(id, ws_proxy,\n",
       "                           ondownload,\n",
       "                           element.get(0));\n",
       "\n",
       "    // Call onopen now - mpl needs it, as it is assuming we've passed it a real\n",
       "    // web socket which is closed, not our websocket->open comm proxy.\n",
       "    ws_proxy.onopen();\n",
       "\n",
       "    fig.parent_element = element.get(0);\n",
       "    fig.cell_info = mpl.find_output_cell(\"<div id='\" + id + \"'></div>\");\n",
       "    if (!fig.cell_info) {\n",
       "        console.error(\"Failed to find cell for figure\", id, fig);\n",
       "        return;\n",
       "    }\n",
       "\n",
       "    var output_index = fig.cell_info[2]\n",
       "    var cell = fig.cell_info[0];\n",
       "\n",
       "};\n",
       "\n",
       "mpl.figure.prototype.handle_close = function(fig, msg) {\n",
       "    var width = fig.canvas.width/mpl.ratio\n",
       "    fig.root.unbind('remove')\n",
       "\n",
       "    // Update the output cell to use the data from the current canvas.\n",
       "    fig.push_to_output();\n",
       "    var dataURL = fig.canvas.toDataURL();\n",
       "    // Re-enable the keyboard manager in IPython - without this line, in FF,\n",
       "    // the notebook keyboard shortcuts fail.\n",
       "    IPython.keyboard_manager.enable()\n",
       "    $(fig.parent_element).html('<img src=\"' + dataURL + '\" width=\"' + width + '\">');\n",
       "    fig.close_ws(fig, msg);\n",
       "}\n",
       "\n",
       "mpl.figure.prototype.close_ws = function(fig, msg){\n",
       "    fig.send_message('closing', msg);\n",
       "    // fig.ws.close()\n",
       "}\n",
       "\n",
       "mpl.figure.prototype.push_to_output = function(remove_interactive) {\n",
       "    // Turn the data on the canvas into data in the output cell.\n",
       "    var width = this.canvas.width/mpl.ratio\n",
       "    var dataURL = this.canvas.toDataURL();\n",
       "    this.cell_info[1]['text/html'] = '<img src=\"' + dataURL + '\" width=\"' + width + '\">';\n",
       "}\n",
       "\n",
       "mpl.figure.prototype.updated_canvas_event = function() {\n",
       "    // Tell IPython that the notebook contents must change.\n",
       "    IPython.notebook.set_dirty(true);\n",
       "    this.send_message(\"ack\", {});\n",
       "    var fig = this;\n",
       "    // Wait a second, then push the new image to the DOM so\n",
       "    // that it is saved nicely (might be nice to debounce this).\n",
       "    setTimeout(function () { fig.push_to_output() }, 1000);\n",
       "}\n",
       "\n",
       "mpl.figure.prototype._init_toolbar = function() {\n",
       "    var fig = this;\n",
       "\n",
       "    var nav_element = $('<div/>');\n",
       "    nav_element.attr('style', 'width: 100%');\n",
       "    this.root.append(nav_element);\n",
       "\n",
       "    // Define a callback function for later on.\n",
       "    function toolbar_event(event) {\n",
       "        return fig.toolbar_button_onclick(event['data']);\n",
       "    }\n",
       "    function toolbar_mouse_event(event) {\n",
       "        return fig.toolbar_button_onmouseover(event['data']);\n",
       "    }\n",
       "\n",
       "    for(var toolbar_ind in mpl.toolbar_items){\n",
       "        var name = mpl.toolbar_items[toolbar_ind][0];\n",
       "        var tooltip = mpl.toolbar_items[toolbar_ind][1];\n",
       "        var image = mpl.toolbar_items[toolbar_ind][2];\n",
       "        var method_name = mpl.toolbar_items[toolbar_ind][3];\n",
       "\n",
       "        if (!name) { continue; };\n",
       "\n",
       "        var button = $('<button class=\"btn btn-default\" href=\"#\" title=\"' + name + '\"><i class=\"fa ' + image + ' fa-lg\"></i></button>');\n",
       "        button.click(method_name, toolbar_event);\n",
       "        button.mouseover(tooltip, toolbar_mouse_event);\n",
       "        nav_element.append(button);\n",
       "    }\n",
       "\n",
       "    // Add the status bar.\n",
       "    var status_bar = $('<span class=\"mpl-message\" style=\"text-align:right; float: right;\"/>');\n",
       "    nav_element.append(status_bar);\n",
       "    this.message = status_bar[0];\n",
       "\n",
       "    // Add the close button to the window.\n",
       "    var buttongrp = $('<div class=\"btn-group inline pull-right\"></div>');\n",
       "    var button = $('<button class=\"btn btn-mini btn-primary\" href=\"#\" title=\"Stop Interaction\"><i class=\"fa fa-power-off icon-remove icon-large\"></i></button>');\n",
       "    button.click(function (evt) { fig.handle_close(fig, {}); } );\n",
       "    button.mouseover('Stop Interaction', toolbar_mouse_event);\n",
       "    buttongrp.append(button);\n",
       "    var titlebar = this.root.find($('.ui-dialog-titlebar'));\n",
       "    titlebar.prepend(buttongrp);\n",
       "}\n",
       "\n",
       "mpl.figure.prototype._root_extra_style = function(el){\n",
       "    var fig = this\n",
       "    el.on(\"remove\", function(){\n",
       "\tfig.close_ws(fig, {});\n",
       "    });\n",
       "}\n",
       "\n",
       "mpl.figure.prototype._canvas_extra_style = function(el){\n",
       "    // this is important to make the div 'focusable\n",
       "    el.attr('tabindex', 0)\n",
       "    // reach out to IPython and tell the keyboard manager to turn it's self\n",
       "    // off when our div gets focus\n",
       "\n",
       "    // location in version 3\n",
       "    if (IPython.notebook.keyboard_manager) {\n",
       "        IPython.notebook.keyboard_manager.register_events(el);\n",
       "    }\n",
       "    else {\n",
       "        // location in version 2\n",
       "        IPython.keyboard_manager.register_events(el);\n",
       "    }\n",
       "\n",
       "}\n",
       "\n",
       "mpl.figure.prototype._key_event_extra = function(event, name) {\n",
       "    var manager = IPython.notebook.keyboard_manager;\n",
       "    if (!manager)\n",
       "        manager = IPython.keyboard_manager;\n",
       "\n",
       "    // Check for shift+enter\n",
       "    if (event.shiftKey && event.which == 13) {\n",
       "        this.canvas_div.blur();\n",
       "        // select the cell after this one\n",
       "        var index = IPython.notebook.find_cell_index(this.cell_info[0]);\n",
       "        IPython.notebook.select(index + 1);\n",
       "    }\n",
       "}\n",
       "\n",
       "mpl.figure.prototype.handle_save = function(fig, msg) {\n",
       "    fig.ondownload(fig, null);\n",
       "}\n",
       "\n",
       "\n",
       "mpl.find_output_cell = function(html_output) {\n",
       "    // Return the cell and output element which can be found *uniquely* in the notebook.\n",
       "    // Note - this is a bit hacky, but it is done because the \"notebook_saving.Notebook\"\n",
       "    // IPython event is triggered only after the cells have been serialised, which for\n",
       "    // our purposes (turning an active figure into a static one), is too late.\n",
       "    var cells = IPython.notebook.get_cells();\n",
       "    var ncells = cells.length;\n",
       "    for (var i=0; i<ncells; i++) {\n",
       "        var cell = cells[i];\n",
       "        if (cell.cell_type === 'code'){\n",
       "            for (var j=0; j<cell.output_area.outputs.length; j++) {\n",
       "                var data = cell.output_area.outputs[j];\n",
       "                if (data.data) {\n",
       "                    // IPython >= 3 moved mimebundle to data attribute of output\n",
       "                    data = data.data;\n",
       "                }\n",
       "                if (data['text/html'] == html_output) {\n",
       "                    return [cell, data, j];\n",
       "                }\n",
       "            }\n",
       "        }\n",
       "    }\n",
       "}\n",
       "\n",
       "// Register the function which deals with the matplotlib target/channel.\n",
       "// The kernel may be null if the page has been refreshed.\n",
       "if (IPython.notebook.kernel != null) {\n",
       "    IPython.notebook.kernel.comm_manager.register_target('matplotlib', mpl.mpl_figure_comm);\n",
       "}\n"
      ],
      "text/plain": [
       "<IPython.core.display.Javascript object>"
      ]
     },
     "metadata": {},
     "output_type": "display_data"
    },
    {
     "data": {
      "text/html": [
       "<img src=\"data:image/png;base64,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\" width=\"400\">"
      ],
      "text/plain": [
       "<IPython.core.display.HTML object>"
      ]
     },
     "metadata": {},
     "output_type": "display_data"
    }
   ],
   "source": [
    "fig, ax = plt.subplots(figsize=(4, 3))\n",
    "ax.hist(abs(nd_U_1_nr.ravel() - gradh.U_1.ravel()), bins=np.logspace(np.log10(1e-9), np.log10(1e-1), 50), alpha=0.5)\n",
    "ax.hist(abs(gradh.U_1.ravel()), bins=np.logspace(np.log10(1e-9), np.log10(1e-1), 50), alpha=0.5)\n",
    "ax.set_xscale(\"log\")\n",
    "fig.tight_layout()"
   ]
  },
  {
   "cell_type": "markdown",
   "metadata": {
    "hidden": true
   },
   "source": [
    "我们看到，我们通过数值导数所求出的 U 矩阵 $U_{pq}^{A_t}$ 和解析的、经过“轨道旋转”的 $\\mathscr{U}_{pq}^{A_t}$ 的差值中，有许多超过了 $10^{-4}$ 量级；这表明两个矩阵差距太大，不能认为是近乎相同的。"
   ]
  },
  {
   "cell_type": "markdown",
   "metadata": {
    "hidden": true
   },
   "source": [
    "事实上，经过某种“轨道旋转”(也可以理解为 non-Canonical RHF) 的 $\\mathscr{U}_{pq}^{A_t}$ 并非按照一般 U 矩阵的定义；其定义如下：\n",
    "\n",
    "$$\n",
    "\\begin{equation}\n",
    "\\mathscr{U}_{pq}^{A_t} = \\left\\{\n",
    "\\begin{matrix}\n",
    "-\\frac{1}{2} S_{ij}^{A_t} &\\quad \\textsf{occ-occ block} \\\\\n",
    "-\\frac{1}{2} S_{ab}^{A_t} &\\quad \\textsf{vir-vir block} \\\\\n",
    "U_{ai}^{A_t} &\\quad \\textsf{vir-occ block} \\\\\n",
    "U_{ia}^{A_t} &\\quad \\textsf{occ-vir block} \\\\\n",
    "\\end{matrix}\n",
    "\\right.\n",
    "\\end{equation}\n",
    "$$"
   ]
  },
  {
   "cell_type": "markdown",
   "metadata": {
    "hidden": true
   },
   "source": [
    "有意思的是，它在绝大多数情况下确实可以替代普通的 $U_{pq}^{A_t}$ 进行计算。关于这一点，我们会在以后遇到时逐个分析。我们现在需要知道的是，$U_{pq}^{A_t}$ 与 $\\mathscr{U}_{pq}^{A_t}$ 同时满足的性质是：\n",
    "\n",
    "$$\n",
    "\\begin{align}\n",
    "U_{pq}^{A_t} + U_{qp}^{A_t} + S_{pq}^{A_t} &= 0 \\\\\n",
    "\\mathscr{U}_{pq}^{A_t} + \\mathscr{U}_{qp}^{A_t} + S_{pq}^{A_t} &= 0\n",
    "\\end{align}\n",
    "$$"
   ]
  },
  {
   "cell_type": "markdown",
   "metadata": {
    "hidden": true
   },
   "source": [
    "定义 $\\mathscr{U}_{pq}^{A_t}$ 并不是为了简化公式推导 (它的引入事实上还添了不少麻烦)，而是为了数值计算的稳定性和程序的便利。我们这一节会讨论到，若存在能量简并轨道，则没有进行“轨道旋转”的 $U_{pq}^{A_t}$ 矩阵将会产生奇点 (无穷大值)；因此需要使用“轨道旋转”了的矩阵 $\\mathscr{U}_{pq}^{A_t}$ 来避免数值的不稳定性。因此，我们有必要事先介绍与引入 $\\mathscr{U}_{pq}^{A_t}$。"
   ]
  },
  {
   "cell_type": "markdown",
   "metadata": {
    "heading_collapsed": true
   },
   "source": [
    "### 经过“轨道旋转”的 U 矩阵 (2) $\\mathscr{U}_{pq}^\\mathbb{A}$ 与 $U_{pq}^\\mathbb{A}$ 的关系"
   ]
  },
  {
   "cell_type": "markdown",
   "metadata": {
    "hidden": true
   },
   "source": [
    "上面的讨论不仅对核坐标导数 $A_t$ 有意义，也可以推广到任意导数量 $\\mathbb{A}$。这一小段我们就讨论 $\\mathscr{U}_{pq}^\\mathbb{A}$ 与 $U_{pq}^\\mathbb{A}$ 的关系。"
   ]
  },
  {
   "cell_type": "markdown",
   "metadata": {
    "hidden": true
   },
   "source": [
    "<div class=\"alert alert-warning\">\n",
    "\n",
    "**推导正确性存疑**\n",
    "\n",
    "这里的推导并没有程序可以验证，也未必是正确的。\n",
    "\n",
    "以后的文段中，不一定会应用这里的结论。一般来说，跳过这一小段的阅读不会对后续文段造成影响。\n",
    "\n",
    "</div>"
   ]
  },
  {
   "cell_type": "markdown",
   "metadata": {
    "hidden": true
   },
   "source": [
    "所谓“轨道旋转”，是指对分子轨道作旋转操作：\n",
    "\n",
    "$$\n",
    "\\mathscr{C}_{\\mu p'} = C_{\\mu p} X_{pp'}\n",
    "$$"
   ]
  },
  {
   "cell_type": "markdown",
   "metadata": {
    "hidden": true
   },
   "source": [
    "或者，我们将上式写为矩阵乘法的形式：\n",
    "\n",
    "$$\n",
    "\\boldsymbol{\\mathscr{C}} = \\mathbf{C} \\mathbf{X}\n",
    "$$"
   ]
  },
  {
   "cell_type": "markdown",
   "metadata": {
    "hidden": true
   },
   "source": [
    "其中，我们称 $\\mathbf{X}$ 为旋转矩阵，$p'$ 记号表示旋转过后的分子轨道角标。旋转矩阵具有以下特性：\n",
    "\n",
    "- 为保证旋转后的系数矩阵仍然具有 $D_{\\mu \\nu} = \\mathscr{C}_{\\mu i'} \\mathscr{C}_{\\nu i'} = C_{\\mu i} C_{\\nu i}$ 的密度矩阵特性，$\\mathbf{X}$ 必须是对角块矩阵 (block-diagonal)；或者说，$X_{ai'} = 0$ 且 $X_{ia'} = 0$；\n",
    "\n",
    "- $\\mathbf{X}$ 需要是一个正交矩阵，即 $\\mathbf{X}^\\dagger \\mathbf{X} = \\mathbf{1}$，即 $\\mathbf{X}^\\dagger = \\mathbf{X}^{-1}$。"
   ]
  },
  {
   "cell_type": "markdown",
   "metadata": {
    "hidden": true
   },
   "source": [
    "上述性质的一个推论是 (下面的 $\\mathbf{S}$ 表示的是原子轨道下的重叠矩阵 $S_{\\mu \\nu}$)\n",
    "\n",
    "$$\n",
    "\\boldsymbol{\\mathscr{C}}^\\dagger \\mathbf{S} \\boldsymbol{\\mathscr{C}} = \\mathbf{X}^\\dagger \\mathbf{C}^\\dagger \\mathbf{S} \\mathbf{C} \\mathbf{X} = \\mathbf{X}^\\dagger \\mathbf{1} \\mathbf{X} = \\mathbf{1}\n",
    "$$\n",
    "\n",
    "上面的第三个等号成立依据是 $C_{\\mu p} S_{\\mu \\nu} C_{\\nu q} = \\delta_{pq}$。"
   ]
  },
  {
   "cell_type": "markdown",
   "metadata": {
    "hidden": true
   },
   "source": [
    "那么，我们就对 $\\boldsymbol{\\mathscr{C}}$ 作关于微扰量 $\\mathbb{A}$ 的导数。我们首先定义旋转过后、再经过正交变换的 U 矩阵为 $\\tilde{\\boldsymbol{\\mathscr{U}}}^\\mathbb{A}$：\n",
    "\n",
    "$$\n",
    "\\frac{\\partial \\boldsymbol{\\mathscr{C}}}{\\partial \\mathbb{A}} = \\boldsymbol{\\mathscr{C}} \\tilde{\\boldsymbol{\\mathscr{U}}}^\\mathbb{A}\n",
    "$$"
   ]
  },
  {
   "cell_type": "markdown",
   "metadata": {
    "hidden": true
   },
   "source": [
    "那么，对 $\\boldsymbol{\\mathscr{C}} = \\mathbf{C} \\mathbf{X}$ 等式两边作关于 $\\mathbb{A}$ 的偏导数，得到\n",
    "\n",
    "$$\n",
    "\\boldsymbol{\\mathscr{C}} \\tilde{\\boldsymbol{\\mathscr{U}}}^\\mathbb{A} = \\mathbf{C} \\mathbf{U}^\\mathbb{A} \\mathbf{X} + \\mathbf{C} \\partial_\\mathbb{A} \\mathbf{X}\n",
    "$$"
   ]
  },
  {
   "cell_type": "markdown",
   "metadata": {
    "hidden": true
   },
   "source": [
    "对上式左乘 $\\mathbf{C}^{-1}$，右乘 $\\mathbf{X}^{-1} = \\mathbf{X}^\\dagger$，得到\n",
    "\n",
    "$$\n",
    "\\mathbf{X} \\tilde{\\boldsymbol{\\mathscr{U}}}^\\mathbb{A} \\mathbf{X}^\\dagger = \\mathbf{U}^\\mathbb{A} + (\\partial_\\mathbb{A} \\mathbf{X}) \\mathbf{X}^\\dagger\n",
    "$$"
   ]
  },
  {
   "cell_type": "markdown",
   "metadata": {
    "hidden": true
   },
   "source": [
    "我们定义上式为经过轨道旋转后的 $\\boldsymbol{\\mathscr{U}}^\\mathbb{A}$，即\n",
    "\n",
    "$$\n",
    "\\boldsymbol{\\mathscr{U}}^\\mathbb{A} = \\mathbf{X} \\tilde{\\boldsymbol{\\mathscr{U}}}^\\mathbb{A} \\mathbf{X}^\\dagger = \\mathbf{U}^\\mathbb{A} + (\\partial_\\mathbb{A} \\mathbf{X}) \\mathbf{X}^\\dagger\n",
    "$$"
   ]
  },
  {
   "cell_type": "markdown",
   "metadata": {
    "hidden": true
   },
   "source": [
    "之所以采用上式作为轨道旋转后的 U 矩阵的定义，而非 $\\tilde{\\boldsymbol{\\mathscr{U}}}^\\mathbb{A}$，是因为我们想要保证下式的成立：\n",
    "\n",
    "$$\n",
    "\\mathscr{U}_{pq}^\\mathbb{A} + \\mathscr{U}_{qp}^\\mathbb{A} + S_{pq}^\\mathbb{A} = 0\n",
    "$$\n",
    "\n",
    "也请读者注意，我们在 $\\mathscr{C}_{\\mu p'}$，进而在 $\\tilde{\\mathscr{U}}_{m' p'}^\\mathbb{A}$ 使用的下标是旋转后的分子轨道 (即加一撇)；但在 $\\mathscr{U}_{mp}^\\mathbb{A}$ 中却使用的是普通的、为旋转的分子轨道角标 (即没有撇)。"
   ]
  },
  {
   "cell_type": "markdown",
   "metadata": {
    "hidden": true
   },
   "source": [
    "下面我们从 $\\boldsymbol{\\mathscr{C}}^\\dagger \\mathbf{S} \\boldsymbol{\\mathscr{C}} = \\mathbf{1}$ 出发，验证该等式。对该式两边求关于 $\\mathbb{A}$ 的偏导，得到\n",
    "\n",
    "$$\n",
    "\\begin{align}\n",
    "\\mathbf{0} &= \\frac{\\partial \\boldsymbol{\\mathscr{C}}^\\dagger}{\\partial \\mathbb{A}} \\mathbf{S} \\boldsymbol{\\mathscr{C}} + \\boldsymbol{\\mathscr{C}}^\\dagger \\frac{\\partial \\mathbf{S}}{\\partial \\mathbb{A}} \\boldsymbol{\\mathscr{C}} + \\boldsymbol{\\mathscr{C}}^\\dagger \\mathbf{S} \\frac{\\partial \\boldsymbol{\\mathscr{C}}}{\\partial \\mathbb{A}} \\\\\n",
    "&= \\tilde{\\boldsymbol{\\mathscr{U}}}^{\\mathbb{A} \\dagger} \\boldsymbol{\\mathscr{C}}^\\dagger \\mathbf{S} \\boldsymbol{\\mathscr{C}} + \\boldsymbol{\\mathscr{C}}^\\dagger \\mathbf{S} \\boldsymbol{\\mathscr{C}} \\tilde{\\boldsymbol{\\mathscr{U}}}^{\\mathbb{A}} + \\boldsymbol{\\mathscr{C}}^\\dagger \\mathbf{S}^\\mathbb{A} \\boldsymbol{\\mathscr{C}} \\\\\n",
    "&= \\tilde{\\boldsymbol{\\mathscr{U}}}^{\\mathbb{A} \\dagger} + \\tilde{\\boldsymbol{\\mathscr{U}}}^{\\mathbb{A}} + \\boldsymbol{\\mathscr{C}}^\\dagger \\mathbf{S}^\\mathbb{A} \\boldsymbol{\\mathscr{C}}\n",
    "\\end{align}\n",
    "$$"
   ]
  },
  {
   "cell_type": "markdown",
   "metadata": {
    "hidden": true
   },
   "source": [
    "利用 $\\mathbf{X}$ 为正交矩阵的特性，可以导出下述关系\n",
    "\n",
    "$$\n",
    "\\tilde{\\boldsymbol{\\mathscr{U}}}^\\mathbb{A} = \\mathbf{X}^\\dagger \\boldsymbol{\\mathscr{U}}^\\mathbb{A} \\mathbf{X}\n",
    "$$"
   ]
  },
  {
   "cell_type": "markdown",
   "metadata": {
    "hidden": true
   },
   "source": [
    "同时注意到，$\\boldsymbol{\\mathscr{C}} = \\mathbf{C} \\mathbf{X}$，那么\n",
    "\n",
    "$$\n",
    "\\mathbf{0} = \\mathbf{X}^\\dagger \\boldsymbol{\\mathscr{U}}^{\\mathbb{A} \\dagger} \\mathbf{X} + \\mathbf{X}^\\dagger \\tilde{\\boldsymbol{\\mathscr{U}}}^{\\mathbb{A}} \\mathbf{X} + \\mathbf{X}^\\dagger \\mathbf{C}^\\dagger \\mathbf{S}^\\mathbb{A} \\mathbf{C} \\mathbf{X}\n",
    "$$"
   ]
  },
  {
   "cell_type": "markdown",
   "metadata": {
    "hidden": true
   },
   "source": [
    "对上式左乘 $\\mathbf{X}$，右乘 $\\mathbf{X}^\\dagger$，得到\n",
    "\n",
    "$$\n",
    "\\mathbf{0} = \\boldsymbol{\\mathscr{U}}^{\\mathbb{A} \\dagger} + \\tilde{\\boldsymbol{\\mathscr{U}}}^{\\mathbb{A}} + \\mathbf{C}^\\dagger \\mathbf{S}^\\mathbb{A} \\mathbf{C}\n",
    "$$"
   ]
  },
  {
   "cell_type": "markdown",
   "metadata": {
    "hidden": true
   },
   "source": [
    "留意到上面的 $\\boldsymbol{S}^\\mathbb{A}$ 是原子轨道张量 $S_{\\mu \\nu}^\\mathbb{A}$，因此与 $\\mathbf{C}$ 作张量缩并后，得到的才是分子轨道张量 $S_{pq}^\\mathbb{A}$。上式等价于 $\\mathscr{U}_{pq}^\\mathbb{A} + \\mathscr{U}_{qp}^\\mathbb{A} + S_{pq}^\\mathbb{A} = 0$。\n",
    "\n",
    "由于满足了上面的条件，因此我们称定义 $\\boldsymbol{\\mathscr{U}}^\\mathbb{A} = \\mathbf{U}^\\mathbb{A} + (\\partial_\\mathbb{A} \\mathbf{X}) \\mathbf{X}^\\dagger$ 是合理的。"
   ]
  },
  {
   "cell_type": "markdown",
   "metadata": {
    "hidden": true
   },
   "source": [
    "原则上，任何对角正交矩阵 $\\mathbf{X}$ 都是允许的，并且 $\\partial_\\mathbb{A} \\mathbf{X}$ 的性质在作者看来是无法控制 (具有相当大可变性) 的。因此，作者认为，在给定 $S_{pq}^\\mathbb{A}$ 的情况下，对于任何满足 $\\mathscr{U}_{pq}^\\mathbb{A} + \\mathscr{U}_{qp}^\\mathbb{A} + S_{pq}^\\mathbb{A} = 0$ 的 $\\mathscr{U}_{pq}^\\mathbb{A}$ 都是允许的。因此，为了程序计算的方便，我们可以作定义\n",
    "\n",
    "$$\n",
    "\\begin{equation}\n",
    "\\mathscr{U}_{pq}^{A_t} = \\left\\{\n",
    "\\begin{matrix}\n",
    "-\\frac{1}{2} S_{ij}^{A_t} &\\quad \\textsf{occ-occ block} \\\\\n",
    "-\\frac{1}{2} S_{ab}^{A_t} &\\quad \\textsf{vir-vir block} \\\\\n",
    "U_{ai}^{A_t} &\\quad \\textsf{vir-occ block} \\\\\n",
    "U_{ia}^{A_t} &\\quad \\textsf{occ-vir block} \\\\\n",
    "\\end{matrix}\n",
    "\\right.\n",
    "\\end{equation}\n",
    "$$"
   ]
  },
  {
   "cell_type": "markdown",
   "metadata": {
    "hidden": true
   },
   "source": [
    "这看起来多此一举，但事实上，$\\mathscr{U}_{pq}^\\mathbb{A}$ 避免了 $U_{pq}^\\mathbb{A}$ 所产生的很强的数值不稳定性。下图中，蓝色条展示的是 $U_{pq}^{A_t}$ 矩阵元值大小分布，橙色条展示的是 $\\mathscr{U}_{pq}^{A_t}$ 矩阵元值大小分布。很明显能发现，橙色条的值普遍地比蓝色小一些。"
   ]
  },
  {
   "cell_type": "code",
   "execution_count": 14,
   "metadata": {
    "hidden": true
   },
   "outputs": [
    {
     "data": {
      "application/javascript": [
       "/* Put everything inside the global mpl namespace */\n",
       "window.mpl = {};\n",
       "\n",
       "\n",
       "mpl.get_websocket_type = function() {\n",
       "    if (typeof(WebSocket) !== 'undefined') {\n",
       "        return WebSocket;\n",
       "    } else if (typeof(MozWebSocket) !== 'undefined') {\n",
       "        return MozWebSocket;\n",
       "    } else {\n",
       "        alert('Your browser does not have WebSocket support. ' +\n",
       "              'Please try Chrome, Safari or Firefox ≥ 6. ' +\n",
       "              'Firefox 4 and 5 are also supported but you ' +\n",
       "              'have to enable WebSockets in about:config.');\n",
       "    };\n",
       "}\n",
       "\n",
       "mpl.figure = function(figure_id, websocket, ondownload, parent_element) {\n",
       "    this.id = figure_id;\n",
       "\n",
       "    this.ws = websocket;\n",
       "\n",
       "    this.supports_binary = (this.ws.binaryType != undefined);\n",
       "\n",
       "    if (!this.supports_binary) {\n",
       "        var warnings = document.getElementById(\"mpl-warnings\");\n",
       "        if (warnings) {\n",
       "            warnings.style.display = 'block';\n",
       "            warnings.textContent = (\n",
       "                \"This browser does not support binary websocket messages. \" +\n",
       "                    \"Performance may be slow.\");\n",
       "        }\n",
       "    }\n",
       "\n",
       "    this.imageObj = new Image();\n",
       "\n",
       "    this.context = undefined;\n",
       "    this.message = undefined;\n",
       "    this.canvas = undefined;\n",
       "    this.rubberband_canvas = undefined;\n",
       "    this.rubberband_context = undefined;\n",
       "    this.format_dropdown = undefined;\n",
       "\n",
       "    this.image_mode = 'full';\n",
       "\n",
       "    this.root = $('<div/>');\n",
       "    this._root_extra_style(this.root)\n",
       "    this.root.attr('style', 'display: inline-block');\n",
       "\n",
       "    $(parent_element).append(this.root);\n",
       "\n",
       "    this._init_header(this);\n",
       "    this._init_canvas(this);\n",
       "    this._init_toolbar(this);\n",
       "\n",
       "    var fig = this;\n",
       "\n",
       "    this.waiting = false;\n",
       "\n",
       "    this.ws.onopen =  function () {\n",
       "            fig.send_message(\"supports_binary\", {value: fig.supports_binary});\n",
       "            fig.send_message(\"send_image_mode\", {});\n",
       "            if (mpl.ratio != 1) {\n",
       "                fig.send_message(\"set_dpi_ratio\", {'dpi_ratio': mpl.ratio});\n",
       "            }\n",
       "            fig.send_message(\"refresh\", {});\n",
       "        }\n",
       "\n",
       "    this.imageObj.onload = function() {\n",
       "            if (fig.image_mode == 'full') {\n",
       "                // Full images could contain transparency (where diff images\n",
       "                // almost always do), so we need to clear the canvas so that\n",
       "                // there is no ghosting.\n",
       "                fig.context.clearRect(0, 0, fig.canvas.width, fig.canvas.height);\n",
       "            }\n",
       "            fig.context.drawImage(fig.imageObj, 0, 0);\n",
       "        };\n",
       "\n",
       "    this.imageObj.onunload = function() {\n",
       "        fig.ws.close();\n",
       "    }\n",
       "\n",
       "    this.ws.onmessage = this._make_on_message_function(this);\n",
       "\n",
       "    this.ondownload = ondownload;\n",
       "}\n",
       "\n",
       "mpl.figure.prototype._init_header = function() {\n",
       "    var titlebar = $(\n",
       "        '<div class=\"ui-dialog-titlebar ui-widget-header ui-corner-all ' +\n",
       "        'ui-helper-clearfix\"/>');\n",
       "    var titletext = $(\n",
       "        '<div class=\"ui-dialog-title\" style=\"width: 100%; ' +\n",
       "        'text-align: center; padding: 3px;\"/>');\n",
       "    titlebar.append(titletext)\n",
       "    this.root.append(titlebar);\n",
       "    this.header = titletext[0];\n",
       "}\n",
       "\n",
       "\n",
       "\n",
       "mpl.figure.prototype._canvas_extra_style = function(canvas_div) {\n",
       "\n",
       "}\n",
       "\n",
       "\n",
       "mpl.figure.prototype._root_extra_style = function(canvas_div) {\n",
       "\n",
       "}\n",
       "\n",
       "mpl.figure.prototype._init_canvas = function() {\n",
       "    var fig = this;\n",
       "\n",
       "    var canvas_div = $('<div/>');\n",
       "\n",
       "    canvas_div.attr('style', 'position: relative; clear: both; outline: 0');\n",
       "\n",
       "    function canvas_keyboard_event(event) {\n",
       "        return fig.key_event(event, event['data']);\n",
       "    }\n",
       "\n",
       "    canvas_div.keydown('key_press', canvas_keyboard_event);\n",
       "    canvas_div.keyup('key_release', canvas_keyboard_event);\n",
       "    this.canvas_div = canvas_div\n",
       "    this._canvas_extra_style(canvas_div)\n",
       "    this.root.append(canvas_div);\n",
       "\n",
       "    var canvas = $('<canvas/>');\n",
       "    canvas.addClass('mpl-canvas');\n",
       "    canvas.attr('style', \"left: 0; top: 0; z-index: 0; outline: 0\")\n",
       "\n",
       "    this.canvas = canvas[0];\n",
       "    this.context = canvas[0].getContext(\"2d\");\n",
       "\n",
       "    var backingStore = this.context.backingStorePixelRatio ||\n",
       "\tthis.context.webkitBackingStorePixelRatio ||\n",
       "\tthis.context.mozBackingStorePixelRatio ||\n",
       "\tthis.context.msBackingStorePixelRatio ||\n",
       "\tthis.context.oBackingStorePixelRatio ||\n",
       "\tthis.context.backingStorePixelRatio || 1;\n",
       "\n",
       "    mpl.ratio = (window.devicePixelRatio || 1) / backingStore;\n",
       "\n",
       "    var rubberband = $('<canvas/>');\n",
       "    rubberband.attr('style', \"position: absolute; left: 0; top: 0; z-index: 1;\")\n",
       "\n",
       "    var pass_mouse_events = true;\n",
       "\n",
       "    canvas_div.resizable({\n",
       "        start: function(event, ui) {\n",
       "            pass_mouse_events = false;\n",
       "        },\n",
       "        resize: function(event, ui) {\n",
       "            fig.request_resize(ui.size.width, ui.size.height);\n",
       "        },\n",
       "        stop: function(event, ui) {\n",
       "            pass_mouse_events = true;\n",
       "            fig.request_resize(ui.size.width, ui.size.height);\n",
       "        },\n",
       "    });\n",
       "\n",
       "    function mouse_event_fn(event) {\n",
       "        if (pass_mouse_events)\n",
       "            return fig.mouse_event(event, event['data']);\n",
       "    }\n",
       "\n",
       "    rubberband.mousedown('button_press', mouse_event_fn);\n",
       "    rubberband.mouseup('button_release', mouse_event_fn);\n",
       "    // Throttle sequential mouse events to 1 every 20ms.\n",
       "    rubberband.mousemove('motion_notify', mouse_event_fn);\n",
       "\n",
       "    rubberband.mouseenter('figure_enter', mouse_event_fn);\n",
       "    rubberband.mouseleave('figure_leave', mouse_event_fn);\n",
       "\n",
       "    canvas_div.on(\"wheel\", function (event) {\n",
       "        event = event.originalEvent;\n",
       "        event['data'] = 'scroll'\n",
       "        if (event.deltaY < 0) {\n",
       "            event.step = 1;\n",
       "        } else {\n",
       "            event.step = -1;\n",
       "        }\n",
       "        mouse_event_fn(event);\n",
       "    });\n",
       "\n",
       "    canvas_div.append(canvas);\n",
       "    canvas_div.append(rubberband);\n",
       "\n",
       "    this.rubberband = rubberband;\n",
       "    this.rubberband_canvas = rubberband[0];\n",
       "    this.rubberband_context = rubberband[0].getContext(\"2d\");\n",
       "    this.rubberband_context.strokeStyle = \"#000000\";\n",
       "\n",
       "    this._resize_canvas = function(width, height) {\n",
       "        // Keep the size of the canvas, canvas container, and rubber band\n",
       "        // canvas in synch.\n",
       "        canvas_div.css('width', width)\n",
       "        canvas_div.css('height', height)\n",
       "\n",
       "        canvas.attr('width', width * mpl.ratio);\n",
       "        canvas.attr('height', height * mpl.ratio);\n",
       "        canvas.attr('style', 'width: ' + width + 'px; height: ' + height + 'px;');\n",
       "\n",
       "        rubberband.attr('width', width);\n",
       "        rubberband.attr('height', height);\n",
       "    }\n",
       "\n",
       "    // Set the figure to an initial 600x600px, this will subsequently be updated\n",
       "    // upon first draw.\n",
       "    this._resize_canvas(600, 600);\n",
       "\n",
       "    // Disable right mouse context menu.\n",
       "    $(this.rubberband_canvas).bind(\"contextmenu\",function(e){\n",
       "        return false;\n",
       "    });\n",
       "\n",
       "    function set_focus () {\n",
       "        canvas.focus();\n",
       "        canvas_div.focus();\n",
       "    }\n",
       "\n",
       "    window.setTimeout(set_focus, 100);\n",
       "}\n",
       "\n",
       "mpl.figure.prototype._init_toolbar = function() {\n",
       "    var fig = this;\n",
       "\n",
       "    var nav_element = $('<div/>');\n",
       "    nav_element.attr('style', 'width: 100%');\n",
       "    this.root.append(nav_element);\n",
       "\n",
       "    // Define a callback function for later on.\n",
       "    function toolbar_event(event) {\n",
       "        return fig.toolbar_button_onclick(event['data']);\n",
       "    }\n",
       "    function toolbar_mouse_event(event) {\n",
       "        return fig.toolbar_button_onmouseover(event['data']);\n",
       "    }\n",
       "\n",
       "    for(var toolbar_ind in mpl.toolbar_items) {\n",
       "        var name = mpl.toolbar_items[toolbar_ind][0];\n",
       "        var tooltip = mpl.toolbar_items[toolbar_ind][1];\n",
       "        var image = mpl.toolbar_items[toolbar_ind][2];\n",
       "        var method_name = mpl.toolbar_items[toolbar_ind][3];\n",
       "\n",
       "        if (!name) {\n",
       "            // put a spacer in here.\n",
       "            continue;\n",
       "        }\n",
       "        var button = $('<button/>');\n",
       "        button.addClass('ui-button ui-widget ui-state-default ui-corner-all ' +\n",
       "                        'ui-button-icon-only');\n",
       "        button.attr('role', 'button');\n",
       "        button.attr('aria-disabled', 'false');\n",
       "        button.click(method_name, toolbar_event);\n",
       "        button.mouseover(tooltip, toolbar_mouse_event);\n",
       "\n",
       "        var icon_img = $('<span/>');\n",
       "        icon_img.addClass('ui-button-icon-primary ui-icon');\n",
       "        icon_img.addClass(image);\n",
       "        icon_img.addClass('ui-corner-all');\n",
       "\n",
       "        var tooltip_span = $('<span/>');\n",
       "        tooltip_span.addClass('ui-button-text');\n",
       "        tooltip_span.html(tooltip);\n",
       "\n",
       "        button.append(icon_img);\n",
       "        button.append(tooltip_span);\n",
       "\n",
       "        nav_element.append(button);\n",
       "    }\n",
       "\n",
       "    var fmt_picker_span = $('<span/>');\n",
       "\n",
       "    var fmt_picker = $('<select/>');\n",
       "    fmt_picker.addClass('mpl-toolbar-option ui-widget ui-widget-content');\n",
       "    fmt_picker_span.append(fmt_picker);\n",
       "    nav_element.append(fmt_picker_span);\n",
       "    this.format_dropdown = fmt_picker[0];\n",
       "\n",
       "    for (var ind in mpl.extensions) {\n",
       "        var fmt = mpl.extensions[ind];\n",
       "        var option = $(\n",
       "            '<option/>', {selected: fmt === mpl.default_extension}).html(fmt);\n",
       "        fmt_picker.append(option);\n",
       "    }\n",
       "\n",
       "    // Add hover states to the ui-buttons\n",
       "    $( \".ui-button\" ).hover(\n",
       "        function() { $(this).addClass(\"ui-state-hover\");},\n",
       "        function() { $(this).removeClass(\"ui-state-hover\");}\n",
       "    );\n",
       "\n",
       "    var status_bar = $('<span class=\"mpl-message\"/>');\n",
       "    nav_element.append(status_bar);\n",
       "    this.message = status_bar[0];\n",
       "}\n",
       "\n",
       "mpl.figure.prototype.request_resize = function(x_pixels, y_pixels) {\n",
       "    // Request matplotlib to resize the figure. Matplotlib will then trigger a resize in the client,\n",
       "    // which will in turn request a refresh of the image.\n",
       "    this.send_message('resize', {'width': x_pixels, 'height': y_pixels});\n",
       "}\n",
       "\n",
       "mpl.figure.prototype.send_message = function(type, properties) {\n",
       "    properties['type'] = type;\n",
       "    properties['figure_id'] = this.id;\n",
       "    this.ws.send(JSON.stringify(properties));\n",
       "}\n",
       "\n",
       "mpl.figure.prototype.send_draw_message = function() {\n",
       "    if (!this.waiting) {\n",
       "        this.waiting = true;\n",
       "        this.ws.send(JSON.stringify({type: \"draw\", figure_id: this.id}));\n",
       "    }\n",
       "}\n",
       "\n",
       "\n",
       "mpl.figure.prototype.handle_save = function(fig, msg) {\n",
       "    var format_dropdown = fig.format_dropdown;\n",
       "    var format = format_dropdown.options[format_dropdown.selectedIndex].value;\n",
       "    fig.ondownload(fig, format);\n",
       "}\n",
       "\n",
       "\n",
       "mpl.figure.prototype.handle_resize = function(fig, msg) {\n",
       "    var size = msg['size'];\n",
       "    if (size[0] != fig.canvas.width || size[1] != fig.canvas.height) {\n",
       "        fig._resize_canvas(size[0], size[1]);\n",
       "        fig.send_message(\"refresh\", {});\n",
       "    };\n",
       "}\n",
       "\n",
       "mpl.figure.prototype.handle_rubberband = function(fig, msg) {\n",
       "    var x0 = msg['x0'] / mpl.ratio;\n",
       "    var y0 = (fig.canvas.height - msg['y0']) / mpl.ratio;\n",
       "    var x1 = msg['x1'] / mpl.ratio;\n",
       "    var y1 = (fig.canvas.height - msg['y1']) / mpl.ratio;\n",
       "    x0 = Math.floor(x0) + 0.5;\n",
       "    y0 = Math.floor(y0) + 0.5;\n",
       "    x1 = Math.floor(x1) + 0.5;\n",
       "    y1 = Math.floor(y1) + 0.5;\n",
       "    var min_x = Math.min(x0, x1);\n",
       "    var min_y = Math.min(y0, y1);\n",
       "    var width = Math.abs(x1 - x0);\n",
       "    var height = Math.abs(y1 - y0);\n",
       "\n",
       "    fig.rubberband_context.clearRect(\n",
       "        0, 0, fig.canvas.width / mpl.ratio, fig.canvas.height / mpl.ratio);\n",
       "\n",
       "    fig.rubberband_context.strokeRect(min_x, min_y, width, height);\n",
       "}\n",
       "\n",
       "mpl.figure.prototype.handle_figure_label = function(fig, msg) {\n",
       "    // Updates the figure title.\n",
       "    fig.header.textContent = msg['label'];\n",
       "}\n",
       "\n",
       "mpl.figure.prototype.handle_cursor = function(fig, msg) {\n",
       "    var cursor = msg['cursor'];\n",
       "    switch(cursor)\n",
       "    {\n",
       "    case 0:\n",
       "        cursor = 'pointer';\n",
       "        break;\n",
       "    case 1:\n",
       "        cursor = 'default';\n",
       "        break;\n",
       "    case 2:\n",
       "        cursor = 'crosshair';\n",
       "        break;\n",
       "    case 3:\n",
       "        cursor = 'move';\n",
       "        break;\n",
       "    }\n",
       "    fig.rubberband_canvas.style.cursor = cursor;\n",
       "}\n",
       "\n",
       "mpl.figure.prototype.handle_message = function(fig, msg) {\n",
       "    fig.message.textContent = msg['message'];\n",
       "}\n",
       "\n",
       "mpl.figure.prototype.handle_draw = function(fig, msg) {\n",
       "    // Request the server to send over a new figure.\n",
       "    fig.send_draw_message();\n",
       "}\n",
       "\n",
       "mpl.figure.prototype.handle_image_mode = function(fig, msg) {\n",
       "    fig.image_mode = msg['mode'];\n",
       "}\n",
       "\n",
       "mpl.figure.prototype.updated_canvas_event = function() {\n",
       "    // Called whenever the canvas gets updated.\n",
       "    this.send_message(\"ack\", {});\n",
       "}\n",
       "\n",
       "// A function to construct a web socket function for onmessage handling.\n",
       "// Called in the figure constructor.\n",
       "mpl.figure.prototype._make_on_message_function = function(fig) {\n",
       "    return function socket_on_message(evt) {\n",
       "        if (evt.data instanceof Blob) {\n",
       "            /* FIXME: We get \"Resource interpreted as Image but\n",
       "             * transferred with MIME type text/plain:\" errors on\n",
       "             * Chrome.  But how to set the MIME type?  It doesn't seem\n",
       "             * to be part of the websocket stream */\n",
       "            evt.data.type = \"image/png\";\n",
       "\n",
       "            /* Free the memory for the previous frames */\n",
       "            if (fig.imageObj.src) {\n",
       "                (window.URL || window.webkitURL).revokeObjectURL(\n",
       "                    fig.imageObj.src);\n",
       "            }\n",
       "\n",
       "            fig.imageObj.src = (window.URL || window.webkitURL).createObjectURL(\n",
       "                evt.data);\n",
       "            fig.updated_canvas_event();\n",
       "            fig.waiting = false;\n",
       "            return;\n",
       "        }\n",
       "        else if (typeof evt.data === 'string' && evt.data.slice(0, 21) == \"data:image/png;base64\") {\n",
       "            fig.imageObj.src = evt.data;\n",
       "            fig.updated_canvas_event();\n",
       "            fig.waiting = false;\n",
       "            return;\n",
       "        }\n",
       "\n",
       "        var msg = JSON.parse(evt.data);\n",
       "        var msg_type = msg['type'];\n",
       "\n",
       "        // Call the  \"handle_{type}\" callback, which takes\n",
       "        // the figure and JSON message as its only arguments.\n",
       "        try {\n",
       "            var callback = fig[\"handle_\" + msg_type];\n",
       "        } catch (e) {\n",
       "            console.log(\"No handler for the '\" + msg_type + \"' message type: \", msg);\n",
       "            return;\n",
       "        }\n",
       "\n",
       "        if (callback) {\n",
       "            try {\n",
       "                // console.log(\"Handling '\" + msg_type + \"' message: \", msg);\n",
       "                callback(fig, msg);\n",
       "            } catch (e) {\n",
       "                console.log(\"Exception inside the 'handler_\" + msg_type + \"' callback:\", e, e.stack, msg);\n",
       "            }\n",
       "        }\n",
       "    };\n",
       "}\n",
       "\n",
       "// from http://stackoverflow.com/questions/1114465/getting-mouse-location-in-canvas\n",
       "mpl.findpos = function(e) {\n",
       "    //this section is from http://www.quirksmode.org/js/events_properties.html\n",
       "    var targ;\n",
       "    if (!e)\n",
       "        e = window.event;\n",
       "    if (e.target)\n",
       "        targ = e.target;\n",
       "    else if (e.srcElement)\n",
       "        targ = e.srcElement;\n",
       "    if (targ.nodeType == 3) // defeat Safari bug\n",
       "        targ = targ.parentNode;\n",
       "\n",
       "    // jQuery normalizes the pageX and pageY\n",
       "    // pageX,Y are the mouse positions relative to the document\n",
       "    // offset() returns the position of the element relative to the document\n",
       "    var x = e.pageX - $(targ).offset().left;\n",
       "    var y = e.pageY - $(targ).offset().top;\n",
       "\n",
       "    return {\"x\": x, \"y\": y};\n",
       "};\n",
       "\n",
       "/*\n",
       " * return a copy of an object with only non-object keys\n",
       " * we need this to avoid circular references\n",
       " * http://stackoverflow.com/a/24161582/3208463\n",
       " */\n",
       "function simpleKeys (original) {\n",
       "  return Object.keys(original).reduce(function (obj, key) {\n",
       "    if (typeof original[key] !== 'object')\n",
       "        obj[key] = original[key]\n",
       "    return obj;\n",
       "  }, {});\n",
       "}\n",
       "\n",
       "mpl.figure.prototype.mouse_event = function(event, name) {\n",
       "    var canvas_pos = mpl.findpos(event)\n",
       "\n",
       "    if (name === 'button_press')\n",
       "    {\n",
       "        this.canvas.focus();\n",
       "        this.canvas_div.focus();\n",
       "    }\n",
       "\n",
       "    var x = canvas_pos.x * mpl.ratio;\n",
       "    var y = canvas_pos.y * mpl.ratio;\n",
       "\n",
       "    this.send_message(name, {x: x, y: y, button: event.button,\n",
       "                             step: event.step,\n",
       "                             guiEvent: simpleKeys(event)});\n",
       "\n",
       "    /* This prevents the web browser from automatically changing to\n",
       "     * the text insertion cursor when the button is pressed.  We want\n",
       "     * to control all of the cursor setting manually through the\n",
       "     * 'cursor' event from matplotlib */\n",
       "    event.preventDefault();\n",
       "    return false;\n",
       "}\n",
       "\n",
       "mpl.figure.prototype._key_event_extra = function(event, name) {\n",
       "    // Handle any extra behaviour associated with a key event\n",
       "}\n",
       "\n",
       "mpl.figure.prototype.key_event = function(event, name) {\n",
       "\n",
       "    // Prevent repeat events\n",
       "    if (name == 'key_press')\n",
       "    {\n",
       "        if (event.which === this._key)\n",
       "            return;\n",
       "        else\n",
       "            this._key = event.which;\n",
       "    }\n",
       "    if (name == 'key_release')\n",
       "        this._key = null;\n",
       "\n",
       "    var value = '';\n",
       "    if (event.ctrlKey && event.which != 17)\n",
       "        value += \"ctrl+\";\n",
       "    if (event.altKey && event.which != 18)\n",
       "        value += \"alt+\";\n",
       "    if (event.shiftKey && event.which != 16)\n",
       "        value += \"shift+\";\n",
       "\n",
       "    value += 'k';\n",
       "    value += event.which.toString();\n",
       "\n",
       "    this._key_event_extra(event, name);\n",
       "\n",
       "    this.send_message(name, {key: value,\n",
       "                             guiEvent: simpleKeys(event)});\n",
       "    return false;\n",
       "}\n",
       "\n",
       "mpl.figure.prototype.toolbar_button_onclick = function(name) {\n",
       "    if (name == 'download') {\n",
       "        this.handle_save(this, null);\n",
       "    } else {\n",
       "        this.send_message(\"toolbar_button\", {name: name});\n",
       "    }\n",
       "};\n",
       "\n",
       "mpl.figure.prototype.toolbar_button_onmouseover = function(tooltip) {\n",
       "    this.message.textContent = tooltip;\n",
       "};\n",
       "mpl.toolbar_items = [[\"Home\", \"Reset original view\", \"fa fa-home icon-home\", \"home\"], [\"Back\", \"Back to previous view\", \"fa fa-arrow-left icon-arrow-left\", \"back\"], [\"Forward\", \"Forward to next view\", \"fa fa-arrow-right icon-arrow-right\", \"forward\"], [\"\", \"\", \"\", \"\"], [\"Pan\", \"Pan axes with left mouse, zoom with right\", \"fa fa-arrows icon-move\", \"pan\"], [\"Zoom\", \"Zoom to rectangle\", \"fa fa-square-o icon-check-empty\", \"zoom\"], [\"\", \"\", \"\", \"\"], [\"Download\", \"Download plot\", \"fa fa-floppy-o icon-save\", \"download\"]];\n",
       "\n",
       "mpl.extensions = [\"eps\", \"pdf\", \"png\", \"ps\", \"raw\", \"svg\"];\n",
       "\n",
       "mpl.default_extension = \"png\";var comm_websocket_adapter = function(comm) {\n",
       "    // Create a \"websocket\"-like object which calls the given IPython comm\n",
       "    // object with the appropriate methods. Currently this is a non binary\n",
       "    // socket, so there is still some room for performance tuning.\n",
       "    var ws = {};\n",
       "\n",
       "    ws.close = function() {\n",
       "        comm.close()\n",
       "    };\n",
       "    ws.send = function(m) {\n",
       "        //console.log('sending', m);\n",
       "        comm.send(m);\n",
       "    };\n",
       "    // Register the callback with on_msg.\n",
       "    comm.on_msg(function(msg) {\n",
       "        //console.log('receiving', msg['content']['data'], msg);\n",
       "        // Pass the mpl event to the overridden (by mpl) onmessage function.\n",
       "        ws.onmessage(msg['content']['data'])\n",
       "    });\n",
       "    return ws;\n",
       "}\n",
       "\n",
       "mpl.mpl_figure_comm = function(comm, msg) {\n",
       "    // This is the function which gets called when the mpl process\n",
       "    // starts-up an IPython Comm through the \"matplotlib\" channel.\n",
       "\n",
       "    var id = msg.content.data.id;\n",
       "    // Get hold of the div created by the display call when the Comm\n",
       "    // socket was opened in Python.\n",
       "    var element = $(\"#\" + id);\n",
       "    var ws_proxy = comm_websocket_adapter(comm)\n",
       "\n",
       "    function ondownload(figure, format) {\n",
       "        window.open(figure.imageObj.src);\n",
       "    }\n",
       "\n",
       "    var fig = new mpl.figure(id, ws_proxy,\n",
       "                           ondownload,\n",
       "                           element.get(0));\n",
       "\n",
       "    // Call onopen now - mpl needs it, as it is assuming we've passed it a real\n",
       "    // web socket which is closed, not our websocket->open comm proxy.\n",
       "    ws_proxy.onopen();\n",
       "\n",
       "    fig.parent_element = element.get(0);\n",
       "    fig.cell_info = mpl.find_output_cell(\"<div id='\" + id + \"'></div>\");\n",
       "    if (!fig.cell_info) {\n",
       "        console.error(\"Failed to find cell for figure\", id, fig);\n",
       "        return;\n",
       "    }\n",
       "\n",
       "    var output_index = fig.cell_info[2]\n",
       "    var cell = fig.cell_info[0];\n",
       "\n",
       "};\n",
       "\n",
       "mpl.figure.prototype.handle_close = function(fig, msg) {\n",
       "    var width = fig.canvas.width/mpl.ratio\n",
       "    fig.root.unbind('remove')\n",
       "\n",
       "    // Update the output cell to use the data from the current canvas.\n",
       "    fig.push_to_output();\n",
       "    var dataURL = fig.canvas.toDataURL();\n",
       "    // Re-enable the keyboard manager in IPython - without this line, in FF,\n",
       "    // the notebook keyboard shortcuts fail.\n",
       "    IPython.keyboard_manager.enable()\n",
       "    $(fig.parent_element).html('<img src=\"' + dataURL + '\" width=\"' + width + '\">');\n",
       "    fig.close_ws(fig, msg);\n",
       "}\n",
       "\n",
       "mpl.figure.prototype.close_ws = function(fig, msg){\n",
       "    fig.send_message('closing', msg);\n",
       "    // fig.ws.close()\n",
       "}\n",
       "\n",
       "mpl.figure.prototype.push_to_output = function(remove_interactive) {\n",
       "    // Turn the data on the canvas into data in the output cell.\n",
       "    var width = this.canvas.width/mpl.ratio\n",
       "    var dataURL = this.canvas.toDataURL();\n",
       "    this.cell_info[1]['text/html'] = '<img src=\"' + dataURL + '\" width=\"' + width + '\">';\n",
       "}\n",
       "\n",
       "mpl.figure.prototype.updated_canvas_event = function() {\n",
       "    // Tell IPython that the notebook contents must change.\n",
       "    IPython.notebook.set_dirty(true);\n",
       "    this.send_message(\"ack\", {});\n",
       "    var fig = this;\n",
       "    // Wait a second, then push the new image to the DOM so\n",
       "    // that it is saved nicely (might be nice to debounce this).\n",
       "    setTimeout(function () { fig.push_to_output() }, 1000);\n",
       "}\n",
       "\n",
       "mpl.figure.prototype._init_toolbar = function() {\n",
       "    var fig = this;\n",
       "\n",
       "    var nav_element = $('<div/>');\n",
       "    nav_element.attr('style', 'width: 100%');\n",
       "    this.root.append(nav_element);\n",
       "\n",
       "    // Define a callback function for later on.\n",
       "    function toolbar_event(event) {\n",
       "        return fig.toolbar_button_onclick(event['data']);\n",
       "    }\n",
       "    function toolbar_mouse_event(event) {\n",
       "        return fig.toolbar_button_onmouseover(event['data']);\n",
       "    }\n",
       "\n",
       "    for(var toolbar_ind in mpl.toolbar_items){\n",
       "        var name = mpl.toolbar_items[toolbar_ind][0];\n",
       "        var tooltip = mpl.toolbar_items[toolbar_ind][1];\n",
       "        var image = mpl.toolbar_items[toolbar_ind][2];\n",
       "        var method_name = mpl.toolbar_items[toolbar_ind][3];\n",
       "\n",
       "        if (!name) { continue; };\n",
       "\n",
       "        var button = $('<button class=\"btn btn-default\" href=\"#\" title=\"' + name + '\"><i class=\"fa ' + image + ' fa-lg\"></i></button>');\n",
       "        button.click(method_name, toolbar_event);\n",
       "        button.mouseover(tooltip, toolbar_mouse_event);\n",
       "        nav_element.append(button);\n",
       "    }\n",
       "\n",
       "    // Add the status bar.\n",
       "    var status_bar = $('<span class=\"mpl-message\" style=\"text-align:right; float: right;\"/>');\n",
       "    nav_element.append(status_bar);\n",
       "    this.message = status_bar[0];\n",
       "\n",
       "    // Add the close button to the window.\n",
       "    var buttongrp = $('<div class=\"btn-group inline pull-right\"></div>');\n",
       "    var button = $('<button class=\"btn btn-mini btn-primary\" href=\"#\" title=\"Stop Interaction\"><i class=\"fa fa-power-off icon-remove icon-large\"></i></button>');\n",
       "    button.click(function (evt) { fig.handle_close(fig, {}); } );\n",
       "    button.mouseover('Stop Interaction', toolbar_mouse_event);\n",
       "    buttongrp.append(button);\n",
       "    var titlebar = this.root.find($('.ui-dialog-titlebar'));\n",
       "    titlebar.prepend(buttongrp);\n",
       "}\n",
       "\n",
       "mpl.figure.prototype._root_extra_style = function(el){\n",
       "    var fig = this\n",
       "    el.on(\"remove\", function(){\n",
       "\tfig.close_ws(fig, {});\n",
       "    });\n",
       "}\n",
       "\n",
       "mpl.figure.prototype._canvas_extra_style = function(el){\n",
       "    // this is important to make the div 'focusable\n",
       "    el.attr('tabindex', 0)\n",
       "    // reach out to IPython and tell the keyboard manager to turn it's self\n",
       "    // off when our div gets focus\n",
       "\n",
       "    // location in version 3\n",
       "    if (IPython.notebook.keyboard_manager) {\n",
       "        IPython.notebook.keyboard_manager.register_events(el);\n",
       "    }\n",
       "    else {\n",
       "        // location in version 2\n",
       "        IPython.keyboard_manager.register_events(el);\n",
       "    }\n",
       "\n",
       "}\n",
       "\n",
       "mpl.figure.prototype._key_event_extra = function(event, name) {\n",
       "    var manager = IPython.notebook.keyboard_manager;\n",
       "    if (!manager)\n",
       "        manager = IPython.keyboard_manager;\n",
       "\n",
       "    // Check for shift+enter\n",
       "    if (event.shiftKey && event.which == 13) {\n",
       "        this.canvas_div.blur();\n",
       "        // select the cell after this one\n",
       "        var index = IPython.notebook.find_cell_index(this.cell_info[0]);\n",
       "        IPython.notebook.select(index + 1);\n",
       "    }\n",
       "}\n",
       "\n",
       "mpl.figure.prototype.handle_save = function(fig, msg) {\n",
       "    fig.ondownload(fig, null);\n",
       "}\n",
       "\n",
       "\n",
       "mpl.find_output_cell = function(html_output) {\n",
       "    // Return the cell and output element which can be found *uniquely* in the notebook.\n",
       "    // Note - this is a bit hacky, but it is done because the \"notebook_saving.Notebook\"\n",
       "    // IPython event is triggered only after the cells have been serialised, which for\n",
       "    // our purposes (turning an active figure into a static one), is too late.\n",
       "    var cells = IPython.notebook.get_cells();\n",
       "    var ncells = cells.length;\n",
       "    for (var i=0; i<ncells; i++) {\n",
       "        var cell = cells[i];\n",
       "        if (cell.cell_type === 'code'){\n",
       "            for (var j=0; j<cell.output_area.outputs.length; j++) {\n",
       "                var data = cell.output_area.outputs[j];\n",
       "                if (data.data) {\n",
       "                    // IPython >= 3 moved mimebundle to data attribute of output\n",
       "                    data = data.data;\n",
       "                }\n",
       "                if (data['text/html'] == html_output) {\n",
       "                    return [cell, data, j];\n",
       "                }\n",
       "            }\n",
       "        }\n",
       "    }\n",
       "}\n",
       "\n",
       "// Register the function which deals with the matplotlib target/channel.\n",
       "// The kernel may be null if the page has been refreshed.\n",
       "if (IPython.notebook.kernel != null) {\n",
       "    IPython.notebook.kernel.comm_manager.register_target('matplotlib', mpl.mpl_figure_comm);\n",
       "}\n"
      ],
      "text/plain": [
       "<IPython.core.display.Javascript object>"
      ]
     },
     "metadata": {},
     "output_type": "display_data"
    },
    {
     "data": {
      "text/html": [
       "<img src=\"data:image/png;base64,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\" width=\"400\">"
      ],
      "text/plain": [
       "<IPython.core.display.HTML object>"
      ]
     },
     "metadata": {},
     "output_type": "display_data"
    }
   ],
   "source": [
    "fig, ax = plt.subplots(figsize=(4, 3))\n",
    "ax.hist(abs(gradh_nr.U_1.ravel()), bins=np.logspace(np.log10(1e-4), np.log10(1e4), 50), alpha=0.5)\n",
    "ax.hist(abs(gradh.U_1.ravel()), bins=np.logspace(np.log10(1e-4), np.log10(1e4), 50), alpha=0.5)\n",
    "ax.set_xscale(\"log\")\n",
    "fig.tight_layout()"
   ]
  },
  {
   "cell_type": "markdown",
   "metadata": {
    "hidden": true
   },
   "source": [
    "<div class=\"alert alert-info\">\n",
    "\n",
    "**任务 (1)**\n",
    "\n",
    "我们之前用的都是非对称的双氧水分子；若现在考虑 $T_d$ 对称性的甲烷分子，请对未经“轨道旋转”的 $U_{\\mu \\nu}^{A_t}$ 和经过“轨道旋转”的 $\\mathscr{U}_{\\mu \\nu}^{A_t}$ 绘制上述图像。\n",
    "\n",
    "应当能预期看到蓝色的条延续到至少 $10^{10}$ 量级，意味着 $U_{\\mu \\nu}^{A_t}$ 在 $T_d$ 对称性的甲烷分子中，数值奇点问题要明显很多。原因会在后文提及。\n",
    "\n",
    "</div>"
   ]
  },
  {
   "cell_type": "markdown",
   "metadata": {
    "hidden": true
   },
   "source": [
    "最后，我们补充关于 $\\boldsymbol{\\mathscr{U}}^\\mathbb{A} = \\mathbf{U}^\\mathbb{A} + (\\partial_\\mathbb{A} \\mathbf{X}) \\mathbf{X}^\\dagger$ 中，第二项 $(\\partial_\\mathbb{A} \\mathbf{X}) \\mathbf{X}^\\dagger$ 的讨论。另外一种导出该项的方法是\n",
    "\n",
    "$$\n",
    "\\mathbf{0} = \\frac{\\partial \\mathbf{1}}{\\partial \\mathbb{A}} = \\frac{\\partial (\\mathbf{X} \\mathbf{X}^\\dagger)}{\\partial \\mathbb{A}} = (\\partial_\\mathbb{A} \\mathbf{X}) \\mathbf{X}^\\dagger + \\mathbf{X} (\\partial_\\mathbb{A} \\mathbf{X}^\\dagger)\n",
    "$$\n",
    "\n",
    "因此，我们还可以写 $\\boldsymbol{\\mathscr{U}}^\\mathbb{A} = \\mathbf{U}^\\mathbb{A} - \\mathbf{X} (\\partial_\\mathbb{A} \\mathbf{X}^\\dagger)$。\n",
    "\n",
    "我们说，$U_{ij}^\\mathbb{A}$ 与 $U_{ab}^\\mathbb{A}$ 一般来说不是对称矩阵；但我们定义的 $\\mathscr{U}_{ij}^\\mathbb{A} = - \\frac{1}{2} S_{ij}^\\mathbb{A}$ 与 $\\mathscr{U}_{ab}^\\mathbb{A} = - \\frac{1}{2} S_{ab}^\\mathbb{A}$ 则是对称矩阵。这种从非对称到对称的差距，应当就是通过 $(\\partial_\\mathbb{A} \\mathbf{X}) \\mathbf{X}^\\dagger$ 这样一项来弥补的。但即使我们知道 $U_{pq}^\\mathbb{A}$ 的形式，与 $\\mathscr{U}_{pq}^\\mathbb{A}$ 的定义，想要通过两者的关系直接求出 $\\mathbf{X}$ 及其一阶导数 $\\mathbf{X}^\\mathbb{A}$，在作者看来是近乎不可能的。"
   ]
  },
  {
   "cell_type": "markdown",
   "metadata": {},
   "source": [
    "## Fock 矩阵导数与 A 张量"
   ]
  },
  {
   "cell_type": "markdown",
   "metadata": {},
   "source": [
    "在继续讨论 U 矩阵导数的解析求法之前，我们先对 Fock 矩阵导数相关的问题作叙述。"
   ]
  },
  {
   "cell_type": "markdown",
   "metadata": {
    "heading_collapsed": true
   },
   "source": [
    "### Fock 矩阵导数 (1) Skeleton 导数"
   ]
  },
  {
   "cell_type": "markdown",
   "metadata": {
    "hidden": true
   },
   "source": [
    "我们之前讨论过 Hamiltonian Core、重叠积分、ERI 积分的 Skeleton 导数；但我们尚没有讨论过 Fock 矩阵的 Skeleton 导数。\n",
    "\n",
    "我们现在考虑 Fock 矩阵的导数。我们先回顾 Fock 矩阵的定义：\n",
    "\n",
    "$$\n",
    "F_{\\mu \\nu} = h_{\\mu \\nu} + (\\mu \\nu | \\kappa \\lambda) D_{\\kappa \\lambda} - \\frac{1}{2} (\\mu \\kappa | \\nu \\lambda) D_{\\kappa \\lambda}\n",
    "$$"
   ]
  },
  {
   "cell_type": "markdown",
   "metadata": {
    "hidden": true
   },
   "source": [
    "所有与分子轨道无关的导数量的求和就是 Fock 矩阵的 Skeleton 导数 `F_1_ao`：\n",
    "\n",
    "$$\n",
    "\\frac{\\partial F_{\\mu \\nu}}{\\partial A_t} \\leftarrow F_{\\mu \\nu}^{A_t} = h_{\\mu \\nu}^{A_t} + (\\mu \\nu | \\kappa \\lambda)^{A_t} D_{\\kappa \\lambda} - \\frac{1}{2} (\\mu \\kappa | \\nu \\lambda)^{A_t} D_{\\kappa \\lambda}\n",
    "$$"
   ]
  },
  {
   "cell_type": "code",
   "execution_count": 15,
   "metadata": {
    "hidden": true
   },
   "outputs": [
    {
     "data": {
      "text/plain": [
       "(4, 3, 22, 22)"
      ]
     },
     "execution_count": 15,
     "metadata": {},
     "output_type": "execute_result"
    }
   ],
   "source": [
    "F_1_ao = (\n",
    "    + H_1_ao\n",
    "    + np.einsum(\"Atuvkl, kl -> Atuv\", eri1_ao, D)\n",
    "    - 0.5 * np.einsum(\"Atukvl, kl -> Atuv\", eri1_ao, D)\n",
    ")\n",
    "F_1_ao.shape"
   ]
  },
  {
   "cell_type": "markdown",
   "metadata": {
    "hidden": true
   },
   "source": [
    "这也与 pyxdh 中对 $F_{\\mu \\nu}^{A_t}$ 的实现结果一致："
   ]
  },
  {
   "cell_type": "code",
   "execution_count": 16,
   "metadata": {
    "hidden": true
   },
   "outputs": [
    {
     "data": {
      "text/plain": [
       "True"
      ]
     },
     "execution_count": 16,
     "metadata": {},
     "output_type": "execute_result"
    }
   ],
   "source": [
    "np.allclose(F_1_ao.ravel(), gradh.F_1_ao.ravel())"
   ]
  },
  {
   "cell_type": "markdown",
   "metadata": {
    "hidden": true
   },
   "source": [
    "分子轨道下的 Fock Skeleton 导数 `F_1_mo` 也很容易地导出如下：\n",
    "\n",
    "$$\n",
    "F_{pq}^{A_t} = C_{\\mu p} F_{\\mu \\nu}^{A_t} C_{\\nu q}\n",
    "$$"
   ]
  },
  {
   "cell_type": "code",
   "execution_count": 17,
   "metadata": {
    "hidden": true
   },
   "outputs": [
    {
     "data": {
      "text/plain": [
       "(4, 3, 22, 22)"
      ]
     },
     "execution_count": 17,
     "metadata": {},
     "output_type": "execute_result"
    }
   ],
   "source": [
    "F_1_mo = np.einsum(\"up, Atuv, vq -> Atpq\", C, F_1_ao, C)\n",
    "F_1_mo.shape"
   ]
  },
  {
   "cell_type": "markdown",
   "metadata": {
    "hidden": true
   },
   "source": [
    "但是，需要注意到，不同于我们之前对 Hamiltonian Core、Overlap、ERI 积分的认识，Fock 矩阵的 Skeleton 导数 $F_{\\mu \\nu}^{A_t}$ 并不等价于 $\\partial_{A_t} F_{\\mu \\nu}$；这也能从图像上看出端倪 (蓝色与橙色条纹相当接近)："
   ]
  },
  {
   "cell_type": "code",
   "execution_count": 18,
   "metadata": {
    "hidden": true
   },
   "outputs": [
    {
     "data": {
      "text/plain": [
       "(12, 22, 22)"
      ]
     },
     "execution_count": 18,
     "metadata": {},
     "output_type": "execute_result"
    }
   ],
   "source": [
    "nd_F_0_ao = NumericDiff(gradn, lambda gradh: gradh.F_0_ao).derivative\n",
    "nd_F_0_ao.shape"
   ]
  },
  {
   "cell_type": "code",
   "execution_count": 19,
   "metadata": {
    "hidden": true
   },
   "outputs": [
    {
     "data": {
      "application/javascript": [
       "/* Put everything inside the global mpl namespace */\n",
       "window.mpl = {};\n",
       "\n",
       "\n",
       "mpl.get_websocket_type = function() {\n",
       "    if (typeof(WebSocket) !== 'undefined') {\n",
       "        return WebSocket;\n",
       "    } else if (typeof(MozWebSocket) !== 'undefined') {\n",
       "        return MozWebSocket;\n",
       "    } else {\n",
       "        alert('Your browser does not have WebSocket support. ' +\n",
       "              'Please try Chrome, Safari or Firefox ≥ 6. ' +\n",
       "              'Firefox 4 and 5 are also supported but you ' +\n",
       "              'have to enable WebSockets in about:config.');\n",
       "    };\n",
       "}\n",
       "\n",
       "mpl.figure = function(figure_id, websocket, ondownload, parent_element) {\n",
       "    this.id = figure_id;\n",
       "\n",
       "    this.ws = websocket;\n",
       "\n",
       "    this.supports_binary = (this.ws.binaryType != undefined);\n",
       "\n",
       "    if (!this.supports_binary) {\n",
       "        var warnings = document.getElementById(\"mpl-warnings\");\n",
       "        if (warnings) {\n",
       "            warnings.style.display = 'block';\n",
       "            warnings.textContent = (\n",
       "                \"This browser does not support binary websocket messages. \" +\n",
       "                    \"Performance may be slow.\");\n",
       "        }\n",
       "    }\n",
       "\n",
       "    this.imageObj = new Image();\n",
       "\n",
       "    this.context = undefined;\n",
       "    this.message = undefined;\n",
       "    this.canvas = undefined;\n",
       "    this.rubberband_canvas = undefined;\n",
       "    this.rubberband_context = undefined;\n",
       "    this.format_dropdown = undefined;\n",
       "\n",
       "    this.image_mode = 'full';\n",
       "\n",
       "    this.root = $('<div/>');\n",
       "    this._root_extra_style(this.root)\n",
       "    this.root.attr('style', 'display: inline-block');\n",
       "\n",
       "    $(parent_element).append(this.root);\n",
       "\n",
       "    this._init_header(this);\n",
       "    this._init_canvas(this);\n",
       "    this._init_toolbar(this);\n",
       "\n",
       "    var fig = this;\n",
       "\n",
       "    this.waiting = false;\n",
       "\n",
       "    this.ws.onopen =  function () {\n",
       "            fig.send_message(\"supports_binary\", {value: fig.supports_binary});\n",
       "            fig.send_message(\"send_image_mode\", {});\n",
       "            if (mpl.ratio != 1) {\n",
       "                fig.send_message(\"set_dpi_ratio\", {'dpi_ratio': mpl.ratio});\n",
       "            }\n",
       "            fig.send_message(\"refresh\", {});\n",
       "        }\n",
       "\n",
       "    this.imageObj.onload = function() {\n",
       "            if (fig.image_mode == 'full') {\n",
       "                // Full images could contain transparency (where diff images\n",
       "                // almost always do), so we need to clear the canvas so that\n",
       "                // there is no ghosting.\n",
       "                fig.context.clearRect(0, 0, fig.canvas.width, fig.canvas.height);\n",
       "            }\n",
       "            fig.context.drawImage(fig.imageObj, 0, 0);\n",
       "        };\n",
       "\n",
       "    this.imageObj.onunload = function() {\n",
       "        fig.ws.close();\n",
       "    }\n",
       "\n",
       "    this.ws.onmessage = this._make_on_message_function(this);\n",
       "\n",
       "    this.ondownload = ondownload;\n",
       "}\n",
       "\n",
       "mpl.figure.prototype._init_header = function() {\n",
       "    var titlebar = $(\n",
       "        '<div class=\"ui-dialog-titlebar ui-widget-header ui-corner-all ' +\n",
       "        'ui-helper-clearfix\"/>');\n",
       "    var titletext = $(\n",
       "        '<div class=\"ui-dialog-title\" style=\"width: 100%; ' +\n",
       "        'text-align: center; padding: 3px;\"/>');\n",
       "    titlebar.append(titletext)\n",
       "    this.root.append(titlebar);\n",
       "    this.header = titletext[0];\n",
       "}\n",
       "\n",
       "\n",
       "\n",
       "mpl.figure.prototype._canvas_extra_style = function(canvas_div) {\n",
       "\n",
       "}\n",
       "\n",
       "\n",
       "mpl.figure.prototype._root_extra_style = function(canvas_div) {\n",
       "\n",
       "}\n",
       "\n",
       "mpl.figure.prototype._init_canvas = function() {\n",
       "    var fig = this;\n",
       "\n",
       "    var canvas_div = $('<div/>');\n",
       "\n",
       "    canvas_div.attr('style', 'position: relative; clear: both; outline: 0');\n",
       "\n",
       "    function canvas_keyboard_event(event) {\n",
       "        return fig.key_event(event, event['data']);\n",
       "    }\n",
       "\n",
       "    canvas_div.keydown('key_press', canvas_keyboard_event);\n",
       "    canvas_div.keyup('key_release', canvas_keyboard_event);\n",
       "    this.canvas_div = canvas_div\n",
       "    this._canvas_extra_style(canvas_div)\n",
       "    this.root.append(canvas_div);\n",
       "\n",
       "    var canvas = $('<canvas/>');\n",
       "    canvas.addClass('mpl-canvas');\n",
       "    canvas.attr('style', \"left: 0; top: 0; z-index: 0; outline: 0\")\n",
       "\n",
       "    this.canvas = canvas[0];\n",
       "    this.context = canvas[0].getContext(\"2d\");\n",
       "\n",
       "    var backingStore = this.context.backingStorePixelRatio ||\n",
       "\tthis.context.webkitBackingStorePixelRatio ||\n",
       "\tthis.context.mozBackingStorePixelRatio ||\n",
       "\tthis.context.msBackingStorePixelRatio ||\n",
       "\tthis.context.oBackingStorePixelRatio ||\n",
       "\tthis.context.backingStorePixelRatio || 1;\n",
       "\n",
       "    mpl.ratio = (window.devicePixelRatio || 1) / backingStore;\n",
       "\n",
       "    var rubberband = $('<canvas/>');\n",
       "    rubberband.attr('style', \"position: absolute; left: 0; top: 0; z-index: 1;\")\n",
       "\n",
       "    var pass_mouse_events = true;\n",
       "\n",
       "    canvas_div.resizable({\n",
       "        start: function(event, ui) {\n",
       "            pass_mouse_events = false;\n",
       "        },\n",
       "        resize: function(event, ui) {\n",
       "            fig.request_resize(ui.size.width, ui.size.height);\n",
       "        },\n",
       "        stop: function(event, ui) {\n",
       "            pass_mouse_events = true;\n",
       "            fig.request_resize(ui.size.width, ui.size.height);\n",
       "        },\n",
       "    });\n",
       "\n",
       "    function mouse_event_fn(event) {\n",
       "        if (pass_mouse_events)\n",
       "            return fig.mouse_event(event, event['data']);\n",
       "    }\n",
       "\n",
       "    rubberband.mousedown('button_press', mouse_event_fn);\n",
       "    rubberband.mouseup('button_release', mouse_event_fn);\n",
       "    // Throttle sequential mouse events to 1 every 20ms.\n",
       "    rubberband.mousemove('motion_notify', mouse_event_fn);\n",
       "\n",
       "    rubberband.mouseenter('figure_enter', mouse_event_fn);\n",
       "    rubberband.mouseleave('figure_leave', mouse_event_fn);\n",
       "\n",
       "    canvas_div.on(\"wheel\", function (event) {\n",
       "        event = event.originalEvent;\n",
       "        event['data'] = 'scroll'\n",
       "        if (event.deltaY < 0) {\n",
       "            event.step = 1;\n",
       "        } else {\n",
       "            event.step = -1;\n",
       "        }\n",
       "        mouse_event_fn(event);\n",
       "    });\n",
       "\n",
       "    canvas_div.append(canvas);\n",
       "    canvas_div.append(rubberband);\n",
       "\n",
       "    this.rubberband = rubberband;\n",
       "    this.rubberband_canvas = rubberband[0];\n",
       "    this.rubberband_context = rubberband[0].getContext(\"2d\");\n",
       "    this.rubberband_context.strokeStyle = \"#000000\";\n",
       "\n",
       "    this._resize_canvas = function(width, height) {\n",
       "        // Keep the size of the canvas, canvas container, and rubber band\n",
       "        // canvas in synch.\n",
       "        canvas_div.css('width', width)\n",
       "        canvas_div.css('height', height)\n",
       "\n",
       "        canvas.attr('width', width * mpl.ratio);\n",
       "        canvas.attr('height', height * mpl.ratio);\n",
       "        canvas.attr('style', 'width: ' + width + 'px; height: ' + height + 'px;');\n",
       "\n",
       "        rubberband.attr('width', width);\n",
       "        rubberband.attr('height', height);\n",
       "    }\n",
       "\n",
       "    // Set the figure to an initial 600x600px, this will subsequently be updated\n",
       "    // upon first draw.\n",
       "    this._resize_canvas(600, 600);\n",
       "\n",
       "    // Disable right mouse context menu.\n",
       "    $(this.rubberband_canvas).bind(\"contextmenu\",function(e){\n",
       "        return false;\n",
       "    });\n",
       "\n",
       "    function set_focus () {\n",
       "        canvas.focus();\n",
       "        canvas_div.focus();\n",
       "    }\n",
       "\n",
       "    window.setTimeout(set_focus, 100);\n",
       "}\n",
       "\n",
       "mpl.figure.prototype._init_toolbar = function() {\n",
       "    var fig = this;\n",
       "\n",
       "    var nav_element = $('<div/>');\n",
       "    nav_element.attr('style', 'width: 100%');\n",
       "    this.root.append(nav_element);\n",
       "\n",
       "    // Define a callback function for later on.\n",
       "    function toolbar_event(event) {\n",
       "        return fig.toolbar_button_onclick(event['data']);\n",
       "    }\n",
       "    function toolbar_mouse_event(event) {\n",
       "        return fig.toolbar_button_onmouseover(event['data']);\n",
       "    }\n",
       "\n",
       "    for(var toolbar_ind in mpl.toolbar_items) {\n",
       "        var name = mpl.toolbar_items[toolbar_ind][0];\n",
       "        var tooltip = mpl.toolbar_items[toolbar_ind][1];\n",
       "        var image = mpl.toolbar_items[toolbar_ind][2];\n",
       "        var method_name = mpl.toolbar_items[toolbar_ind][3];\n",
       "\n",
       "        if (!name) {\n",
       "            // put a spacer in here.\n",
       "            continue;\n",
       "        }\n",
       "        var button = $('<button/>');\n",
       "        button.addClass('ui-button ui-widget ui-state-default ui-corner-all ' +\n",
       "                        'ui-button-icon-only');\n",
       "        button.attr('role', 'button');\n",
       "        button.attr('aria-disabled', 'false');\n",
       "        button.click(method_name, toolbar_event);\n",
       "        button.mouseover(tooltip, toolbar_mouse_event);\n",
       "\n",
       "        var icon_img = $('<span/>');\n",
       "        icon_img.addClass('ui-button-icon-primary ui-icon');\n",
       "        icon_img.addClass(image);\n",
       "        icon_img.addClass('ui-corner-all');\n",
       "\n",
       "        var tooltip_span = $('<span/>');\n",
       "        tooltip_span.addClass('ui-button-text');\n",
       "        tooltip_span.html(tooltip);\n",
       "\n",
       "        button.append(icon_img);\n",
       "        button.append(tooltip_span);\n",
       "\n",
       "        nav_element.append(button);\n",
       "    }\n",
       "\n",
       "    var fmt_picker_span = $('<span/>');\n",
       "\n",
       "    var fmt_picker = $('<select/>');\n",
       "    fmt_picker.addClass('mpl-toolbar-option ui-widget ui-widget-content');\n",
       "    fmt_picker_span.append(fmt_picker);\n",
       "    nav_element.append(fmt_picker_span);\n",
       "    this.format_dropdown = fmt_picker[0];\n",
       "\n",
       "    for (var ind in mpl.extensions) {\n",
       "        var fmt = mpl.extensions[ind];\n",
       "        var option = $(\n",
       "            '<option/>', {selected: fmt === mpl.default_extension}).html(fmt);\n",
       "        fmt_picker.append(option);\n",
       "    }\n",
       "\n",
       "    // Add hover states to the ui-buttons\n",
       "    $( \".ui-button\" ).hover(\n",
       "        function() { $(this).addClass(\"ui-state-hover\");},\n",
       "        function() { $(this).removeClass(\"ui-state-hover\");}\n",
       "    );\n",
       "\n",
       "    var status_bar = $('<span class=\"mpl-message\"/>');\n",
       "    nav_element.append(status_bar);\n",
       "    this.message = status_bar[0];\n",
       "}\n",
       "\n",
       "mpl.figure.prototype.request_resize = function(x_pixels, y_pixels) {\n",
       "    // Request matplotlib to resize the figure. Matplotlib will then trigger a resize in the client,\n",
       "    // which will in turn request a refresh of the image.\n",
       "    this.send_message('resize', {'width': x_pixels, 'height': y_pixels});\n",
       "}\n",
       "\n",
       "mpl.figure.prototype.send_message = function(type, properties) {\n",
       "    properties['type'] = type;\n",
       "    properties['figure_id'] = this.id;\n",
       "    this.ws.send(JSON.stringify(properties));\n",
       "}\n",
       "\n",
       "mpl.figure.prototype.send_draw_message = function() {\n",
       "    if (!this.waiting) {\n",
       "        this.waiting = true;\n",
       "        this.ws.send(JSON.stringify({type: \"draw\", figure_id: this.id}));\n",
       "    }\n",
       "}\n",
       "\n",
       "\n",
       "mpl.figure.prototype.handle_save = function(fig, msg) {\n",
       "    var format_dropdown = fig.format_dropdown;\n",
       "    var format = format_dropdown.options[format_dropdown.selectedIndex].value;\n",
       "    fig.ondownload(fig, format);\n",
       "}\n",
       "\n",
       "\n",
       "mpl.figure.prototype.handle_resize = function(fig, msg) {\n",
       "    var size = msg['size'];\n",
       "    if (size[0] != fig.canvas.width || size[1] != fig.canvas.height) {\n",
       "        fig._resize_canvas(size[0], size[1]);\n",
       "        fig.send_message(\"refresh\", {});\n",
       "    };\n",
       "}\n",
       "\n",
       "mpl.figure.prototype.handle_rubberband = function(fig, msg) {\n",
       "    var x0 = msg['x0'] / mpl.ratio;\n",
       "    var y0 = (fig.canvas.height - msg['y0']) / mpl.ratio;\n",
       "    var x1 = msg['x1'] / mpl.ratio;\n",
       "    var y1 = (fig.canvas.height - msg['y1']) / mpl.ratio;\n",
       "    x0 = Math.floor(x0) + 0.5;\n",
       "    y0 = Math.floor(y0) + 0.5;\n",
       "    x1 = Math.floor(x1) + 0.5;\n",
       "    y1 = Math.floor(y1) + 0.5;\n",
       "    var min_x = Math.min(x0, x1);\n",
       "    var min_y = Math.min(y0, y1);\n",
       "    var width = Math.abs(x1 - x0);\n",
       "    var height = Math.abs(y1 - y0);\n",
       "\n",
       "    fig.rubberband_context.clearRect(\n",
       "        0, 0, fig.canvas.width / mpl.ratio, fig.canvas.height / mpl.ratio);\n",
       "\n",
       "    fig.rubberband_context.strokeRect(min_x, min_y, width, height);\n",
       "}\n",
       "\n",
       "mpl.figure.prototype.handle_figure_label = function(fig, msg) {\n",
       "    // Updates the figure title.\n",
       "    fig.header.textContent = msg['label'];\n",
       "}\n",
       "\n",
       "mpl.figure.prototype.handle_cursor = function(fig, msg) {\n",
       "    var cursor = msg['cursor'];\n",
       "    switch(cursor)\n",
       "    {\n",
       "    case 0:\n",
       "        cursor = 'pointer';\n",
       "        break;\n",
       "    case 1:\n",
       "        cursor = 'default';\n",
       "        break;\n",
       "    case 2:\n",
       "        cursor = 'crosshair';\n",
       "        break;\n",
       "    case 3:\n",
       "        cursor = 'move';\n",
       "        break;\n",
       "    }\n",
       "    fig.rubberband_canvas.style.cursor = cursor;\n",
       "}\n",
       "\n",
       "mpl.figure.prototype.handle_message = function(fig, msg) {\n",
       "    fig.message.textContent = msg['message'];\n",
       "}\n",
       "\n",
       "mpl.figure.prototype.handle_draw = function(fig, msg) {\n",
       "    // Request the server to send over a new figure.\n",
       "    fig.send_draw_message();\n",
       "}\n",
       "\n",
       "mpl.figure.prototype.handle_image_mode = function(fig, msg) {\n",
       "    fig.image_mode = msg['mode'];\n",
       "}\n",
       "\n",
       "mpl.figure.prototype.updated_canvas_event = function() {\n",
       "    // Called whenever the canvas gets updated.\n",
       "    this.send_message(\"ack\", {});\n",
       "}\n",
       "\n",
       "// A function to construct a web socket function for onmessage handling.\n",
       "// Called in the figure constructor.\n",
       "mpl.figure.prototype._make_on_message_function = function(fig) {\n",
       "    return function socket_on_message(evt) {\n",
       "        if (evt.data instanceof Blob) {\n",
       "            /* FIXME: We get \"Resource interpreted as Image but\n",
       "             * transferred with MIME type text/plain:\" errors on\n",
       "             * Chrome.  But how to set the MIME type?  It doesn't seem\n",
       "             * to be part of the websocket stream */\n",
       "            evt.data.type = \"image/png\";\n",
       "\n",
       "            /* Free the memory for the previous frames */\n",
       "            if (fig.imageObj.src) {\n",
       "                (window.URL || window.webkitURL).revokeObjectURL(\n",
       "                    fig.imageObj.src);\n",
       "            }\n",
       "\n",
       "            fig.imageObj.src = (window.URL || window.webkitURL).createObjectURL(\n",
       "                evt.data);\n",
       "            fig.updated_canvas_event();\n",
       "            fig.waiting = false;\n",
       "            return;\n",
       "        }\n",
       "        else if (typeof evt.data === 'string' && evt.data.slice(0, 21) == \"data:image/png;base64\") {\n",
       "            fig.imageObj.src = evt.data;\n",
       "            fig.updated_canvas_event();\n",
       "            fig.waiting = false;\n",
       "            return;\n",
       "        }\n",
       "\n",
       "        var msg = JSON.parse(evt.data);\n",
       "        var msg_type = msg['type'];\n",
       "\n",
       "        // Call the  \"handle_{type}\" callback, which takes\n",
       "        // the figure and JSON message as its only arguments.\n",
       "        try {\n",
       "            var callback = fig[\"handle_\" + msg_type];\n",
       "        } catch (e) {\n",
       "            console.log(\"No handler for the '\" + msg_type + \"' message type: \", msg);\n",
       "            return;\n",
       "        }\n",
       "\n",
       "        if (callback) {\n",
       "            try {\n",
       "                // console.log(\"Handling '\" + msg_type + \"' message: \", msg);\n",
       "                callback(fig, msg);\n",
       "            } catch (e) {\n",
       "                console.log(\"Exception inside the 'handler_\" + msg_type + \"' callback:\", e, e.stack, msg);\n",
       "            }\n",
       "        }\n",
       "    };\n",
       "}\n",
       "\n",
       "// from http://stackoverflow.com/questions/1114465/getting-mouse-location-in-canvas\n",
       "mpl.findpos = function(e) {\n",
       "    //this section is from http://www.quirksmode.org/js/events_properties.html\n",
       "    var targ;\n",
       "    if (!e)\n",
       "        e = window.event;\n",
       "    if (e.target)\n",
       "        targ = e.target;\n",
       "    else if (e.srcElement)\n",
       "        targ = e.srcElement;\n",
       "    if (targ.nodeType == 3) // defeat Safari bug\n",
       "        targ = targ.parentNode;\n",
       "\n",
       "    // jQuery normalizes the pageX and pageY\n",
       "    // pageX,Y are the mouse positions relative to the document\n",
       "    // offset() returns the position of the element relative to the document\n",
       "    var x = e.pageX - $(targ).offset().left;\n",
       "    var y = e.pageY - $(targ).offset().top;\n",
       "\n",
       "    return {\"x\": x, \"y\": y};\n",
       "};\n",
       "\n",
       "/*\n",
       " * return a copy of an object with only non-object keys\n",
       " * we need this to avoid circular references\n",
       " * http://stackoverflow.com/a/24161582/3208463\n",
       " */\n",
       "function simpleKeys (original) {\n",
       "  return Object.keys(original).reduce(function (obj, key) {\n",
       "    if (typeof original[key] !== 'object')\n",
       "        obj[key] = original[key]\n",
       "    return obj;\n",
       "  }, {});\n",
       "}\n",
       "\n",
       "mpl.figure.prototype.mouse_event = function(event, name) {\n",
       "    var canvas_pos = mpl.findpos(event)\n",
       "\n",
       "    if (name === 'button_press')\n",
       "    {\n",
       "        this.canvas.focus();\n",
       "        this.canvas_div.focus();\n",
       "    }\n",
       "\n",
       "    var x = canvas_pos.x * mpl.ratio;\n",
       "    var y = canvas_pos.y * mpl.ratio;\n",
       "\n",
       "    this.send_message(name, {x: x, y: y, button: event.button,\n",
       "                             step: event.step,\n",
       "                             guiEvent: simpleKeys(event)});\n",
       "\n",
       "    /* This prevents the web browser from automatically changing to\n",
       "     * the text insertion cursor when the button is pressed.  We want\n",
       "     * to control all of the cursor setting manually through the\n",
       "     * 'cursor' event from matplotlib */\n",
       "    event.preventDefault();\n",
       "    return false;\n",
       "}\n",
       "\n",
       "mpl.figure.prototype._key_event_extra = function(event, name) {\n",
       "    // Handle any extra behaviour associated with a key event\n",
       "}\n",
       "\n",
       "mpl.figure.prototype.key_event = function(event, name) {\n",
       "\n",
       "    // Prevent repeat events\n",
       "    if (name == 'key_press')\n",
       "    {\n",
       "        if (event.which === this._key)\n",
       "            return;\n",
       "        else\n",
       "            this._key = event.which;\n",
       "    }\n",
       "    if (name == 'key_release')\n",
       "        this._key = null;\n",
       "\n",
       "    var value = '';\n",
       "    if (event.ctrlKey && event.which != 17)\n",
       "        value += \"ctrl+\";\n",
       "    if (event.altKey && event.which != 18)\n",
       "        value += \"alt+\";\n",
       "    if (event.shiftKey && event.which != 16)\n",
       "        value += \"shift+\";\n",
       "\n",
       "    value += 'k';\n",
       "    value += event.which.toString();\n",
       "\n",
       "    this._key_event_extra(event, name);\n",
       "\n",
       "    this.send_message(name, {key: value,\n",
       "                             guiEvent: simpleKeys(event)});\n",
       "    return false;\n",
       "}\n",
       "\n",
       "mpl.figure.prototype.toolbar_button_onclick = function(name) {\n",
       "    if (name == 'download') {\n",
       "        this.handle_save(this, null);\n",
       "    } else {\n",
       "        this.send_message(\"toolbar_button\", {name: name});\n",
       "    }\n",
       "};\n",
       "\n",
       "mpl.figure.prototype.toolbar_button_onmouseover = function(tooltip) {\n",
       "    this.message.textContent = tooltip;\n",
       "};\n",
       "mpl.toolbar_items = [[\"Home\", \"Reset original view\", \"fa fa-home icon-home\", \"home\"], [\"Back\", \"Back to previous view\", \"fa fa-arrow-left icon-arrow-left\", \"back\"], [\"Forward\", \"Forward to next view\", \"fa fa-arrow-right icon-arrow-right\", \"forward\"], [\"\", \"\", \"\", \"\"], [\"Pan\", \"Pan axes with left mouse, zoom with right\", \"fa fa-arrows icon-move\", \"pan\"], [\"Zoom\", \"Zoom to rectangle\", \"fa fa-square-o icon-check-empty\", \"zoom\"], [\"\", \"\", \"\", \"\"], [\"Download\", \"Download plot\", \"fa fa-floppy-o icon-save\", \"download\"]];\n",
       "\n",
       "mpl.extensions = [\"eps\", \"pdf\", \"png\", \"ps\", \"raw\", \"svg\"];\n",
       "\n",
       "mpl.default_extension = \"png\";var comm_websocket_adapter = function(comm) {\n",
       "    // Create a \"websocket\"-like object which calls the given IPython comm\n",
       "    // object with the appropriate methods. Currently this is a non binary\n",
       "    // socket, so there is still some room for performance tuning.\n",
       "    var ws = {};\n",
       "\n",
       "    ws.close = function() {\n",
       "        comm.close()\n",
       "    };\n",
       "    ws.send = function(m) {\n",
       "        //console.log('sending', m);\n",
       "        comm.send(m);\n",
       "    };\n",
       "    // Register the callback with on_msg.\n",
       "    comm.on_msg(function(msg) {\n",
       "        //console.log('receiving', msg['content']['data'], msg);\n",
       "        // Pass the mpl event to the overridden (by mpl) onmessage function.\n",
       "        ws.onmessage(msg['content']['data'])\n",
       "    });\n",
       "    return ws;\n",
       "}\n",
       "\n",
       "mpl.mpl_figure_comm = function(comm, msg) {\n",
       "    // This is the function which gets called when the mpl process\n",
       "    // starts-up an IPython Comm through the \"matplotlib\" channel.\n",
       "\n",
       "    var id = msg.content.data.id;\n",
       "    // Get hold of the div created by the display call when the Comm\n",
       "    // socket was opened in Python.\n",
       "    var element = $(\"#\" + id);\n",
       "    var ws_proxy = comm_websocket_adapter(comm)\n",
       "\n",
       "    function ondownload(figure, format) {\n",
       "        window.open(figure.imageObj.src);\n",
       "    }\n",
       "\n",
       "    var fig = new mpl.figure(id, ws_proxy,\n",
       "                           ondownload,\n",
       "                           element.get(0));\n",
       "\n",
       "    // Call onopen now - mpl needs it, as it is assuming we've passed it a real\n",
       "    // web socket which is closed, not our websocket->open comm proxy.\n",
       "    ws_proxy.onopen();\n",
       "\n",
       "    fig.parent_element = element.get(0);\n",
       "    fig.cell_info = mpl.find_output_cell(\"<div id='\" + id + \"'></div>\");\n",
       "    if (!fig.cell_info) {\n",
       "        console.error(\"Failed to find cell for figure\", id, fig);\n",
       "        return;\n",
       "    }\n",
       "\n",
       "    var output_index = fig.cell_info[2]\n",
       "    var cell = fig.cell_info[0];\n",
       "\n",
       "};\n",
       "\n",
       "mpl.figure.prototype.handle_close = function(fig, msg) {\n",
       "    var width = fig.canvas.width/mpl.ratio\n",
       "    fig.root.unbind('remove')\n",
       "\n",
       "    // Update the output cell to use the data from the current canvas.\n",
       "    fig.push_to_output();\n",
       "    var dataURL = fig.canvas.toDataURL();\n",
       "    // Re-enable the keyboard manager in IPython - without this line, in FF,\n",
       "    // the notebook keyboard shortcuts fail.\n",
       "    IPython.keyboard_manager.enable()\n",
       "    $(fig.parent_element).html('<img src=\"' + dataURL + '\" width=\"' + width + '\">');\n",
       "    fig.close_ws(fig, msg);\n",
       "}\n",
       "\n",
       "mpl.figure.prototype.close_ws = function(fig, msg){\n",
       "    fig.send_message('closing', msg);\n",
       "    // fig.ws.close()\n",
       "}\n",
       "\n",
       "mpl.figure.prototype.push_to_output = function(remove_interactive) {\n",
       "    // Turn the data on the canvas into data in the output cell.\n",
       "    var width = this.canvas.width/mpl.ratio\n",
       "    var dataURL = this.canvas.toDataURL();\n",
       "    this.cell_info[1]['text/html'] = '<img src=\"' + dataURL + '\" width=\"' + width + '\">';\n",
       "}\n",
       "\n",
       "mpl.figure.prototype.updated_canvas_event = function() {\n",
       "    // Tell IPython that the notebook contents must change.\n",
       "    IPython.notebook.set_dirty(true);\n",
       "    this.send_message(\"ack\", {});\n",
       "    var fig = this;\n",
       "    // Wait a second, then push the new image to the DOM so\n",
       "    // that it is saved nicely (might be nice to debounce this).\n",
       "    setTimeout(function () { fig.push_to_output() }, 1000);\n",
       "}\n",
       "\n",
       "mpl.figure.prototype._init_toolbar = function() {\n",
       "    var fig = this;\n",
       "\n",
       "    var nav_element = $('<div/>');\n",
       "    nav_element.attr('style', 'width: 100%');\n",
       "    this.root.append(nav_element);\n",
       "\n",
       "    // Define a callback function for later on.\n",
       "    function toolbar_event(event) {\n",
       "        return fig.toolbar_button_onclick(event['data']);\n",
       "    }\n",
       "    function toolbar_mouse_event(event) {\n",
       "        return fig.toolbar_button_onmouseover(event['data']);\n",
       "    }\n",
       "\n",
       "    for(var toolbar_ind in mpl.toolbar_items){\n",
       "        var name = mpl.toolbar_items[toolbar_ind][0];\n",
       "        var tooltip = mpl.toolbar_items[toolbar_ind][1];\n",
       "        var image = mpl.toolbar_items[toolbar_ind][2];\n",
       "        var method_name = mpl.toolbar_items[toolbar_ind][3];\n",
       "\n",
       "        if (!name) { continue; };\n",
       "\n",
       "        var button = $('<button class=\"btn btn-default\" href=\"#\" title=\"' + name + '\"><i class=\"fa ' + image + ' fa-lg\"></i></button>');\n",
       "        button.click(method_name, toolbar_event);\n",
       "        button.mouseover(tooltip, toolbar_mouse_event);\n",
       "        nav_element.append(button);\n",
       "    }\n",
       "\n",
       "    // Add the status bar.\n",
       "    var status_bar = $('<span class=\"mpl-message\" style=\"text-align:right; float: right;\"/>');\n",
       "    nav_element.append(status_bar);\n",
       "    this.message = status_bar[0];\n",
       "\n",
       "    // Add the close button to the window.\n",
       "    var buttongrp = $('<div class=\"btn-group inline pull-right\"></div>');\n",
       "    var button = $('<button class=\"btn btn-mini btn-primary\" href=\"#\" title=\"Stop Interaction\"><i class=\"fa fa-power-off icon-remove icon-large\"></i></button>');\n",
       "    button.click(function (evt) { fig.handle_close(fig, {}); } );\n",
       "    button.mouseover('Stop Interaction', toolbar_mouse_event);\n",
       "    buttongrp.append(button);\n",
       "    var titlebar = this.root.find($('.ui-dialog-titlebar'));\n",
       "    titlebar.prepend(buttongrp);\n",
       "}\n",
       "\n",
       "mpl.figure.prototype._root_extra_style = function(el){\n",
       "    var fig = this\n",
       "    el.on(\"remove\", function(){\n",
       "\tfig.close_ws(fig, {});\n",
       "    });\n",
       "}\n",
       "\n",
       "mpl.figure.prototype._canvas_extra_style = function(el){\n",
       "    // this is important to make the div 'focusable\n",
       "    el.attr('tabindex', 0)\n",
       "    // reach out to IPython and tell the keyboard manager to turn it's self\n",
       "    // off when our div gets focus\n",
       "\n",
       "    // location in version 3\n",
       "    if (IPython.notebook.keyboard_manager) {\n",
       "        IPython.notebook.keyboard_manager.register_events(el);\n",
       "    }\n",
       "    else {\n",
       "        // location in version 2\n",
       "        IPython.keyboard_manager.register_events(el);\n",
       "    }\n",
       "\n",
       "}\n",
       "\n",
       "mpl.figure.prototype._key_event_extra = function(event, name) {\n",
       "    var manager = IPython.notebook.keyboard_manager;\n",
       "    if (!manager)\n",
       "        manager = IPython.keyboard_manager;\n",
       "\n",
       "    // Check for shift+enter\n",
       "    if (event.shiftKey && event.which == 13) {\n",
       "        this.canvas_div.blur();\n",
       "        // select the cell after this one\n",
       "        var index = IPython.notebook.find_cell_index(this.cell_info[0]);\n",
       "        IPython.notebook.select(index + 1);\n",
       "    }\n",
       "}\n",
       "\n",
       "mpl.figure.prototype.handle_save = function(fig, msg) {\n",
       "    fig.ondownload(fig, null);\n",
       "}\n",
       "\n",
       "\n",
       "mpl.find_output_cell = function(html_output) {\n",
       "    // Return the cell and output element which can be found *uniquely* in the notebook.\n",
       "    // Note - this is a bit hacky, but it is done because the \"notebook_saving.Notebook\"\n",
       "    // IPython event is triggered only after the cells have been serialised, which for\n",
       "    // our purposes (turning an active figure into a static one), is too late.\n",
       "    var cells = IPython.notebook.get_cells();\n",
       "    var ncells = cells.length;\n",
       "    for (var i=0; i<ncells; i++) {\n",
       "        var cell = cells[i];\n",
       "        if (cell.cell_type === 'code'){\n",
       "            for (var j=0; j<cell.output_area.outputs.length; j++) {\n",
       "                var data = cell.output_area.outputs[j];\n",
       "                if (data.data) {\n",
       "                    // IPython >= 3 moved mimebundle to data attribute of output\n",
       "                    data = data.data;\n",
       "                }\n",
       "                if (data['text/html'] == html_output) {\n",
       "                    return [cell, data, j];\n",
       "                }\n",
       "            }\n",
       "        }\n",
       "    }\n",
       "}\n",
       "\n",
       "// Register the function which deals with the matplotlib target/channel.\n",
       "// The kernel may be null if the page has been refreshed.\n",
       "if (IPython.notebook.kernel != null) {\n",
       "    IPython.notebook.kernel.comm_manager.register_target('matplotlib', mpl.mpl_figure_comm);\n",
       "}\n"
      ],
      "text/plain": [
       "<IPython.core.display.Javascript object>"
      ]
     },
     "metadata": {},
     "output_type": "display_data"
    },
    {
     "data": {
      "text/html": [
       "<img src=\"data:image/png;base64,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\" width=\"400\">"
      ],
      "text/plain": [
       "<IPython.core.display.HTML object>"
      ]
     },
     "metadata": {},
     "output_type": "display_data"
    }
   ],
   "source": [
    "fig, ax = plt.subplots(figsize=(4, 3))\n",
    "ax.hist(abs(nd_F_0_ao.ravel() - F_1_ao.ravel()), bins=np.logspace(np.log10(1e-9), np.log10(1e1), 50), alpha=0.5)\n",
    "ax.hist(abs(nd_F_0_ao.ravel()), bins=np.logspace(np.log10(1e-9), np.log10(1e1), 50), alpha=0.5)\n",
    "ax.set_xscale(\"log\")\n",
    "fig.tight_layout()"
   ]
  },
  {
   "cell_type": "markdown",
   "metadata": {},
   "source": [
    "### Fock 矩阵导数 (2) U 导数与原子轨道下的 A 张量"
   ]
  },
  {
   "cell_type": "markdown",
   "metadata": {},
   "source": [
    "正是因为 $F_{\\mu \\nu}$ 不像其他原子轨道积分，它是与密度有关的量；因此，我们将其导数与密度有关的部分抽提出来：\n",
    "\n",
    "$$\n",
    "\\begin{align}\n",
    "\\frac{\\partial F_{\\mu \\nu}}{\\partial A_t} &\\leftarrow (\\mu \\nu | \\kappa \\lambda) \\frac{\\partial D_{\\kappa \\lambda}}{\\partial A_t} - \\frac{1}{2} (\\mu \\kappa | \\nu \\lambda) \\frac{\\partial D_{\\kappa \\lambda}}{\\partial A_t} \\\\\n",
    "&= 2 \\left( (\\mu \\nu | \\kappa \\lambda) - \\frac{1}{2} (\\mu \\kappa | \\nu \\lambda) \\right) \\big( C_{\\kappa m} C_{\\lambda i} + C_{\\kappa i} C_{\\lambda m} \\big) U_{mi}^{A_t} \\\\\n",
    "&= \\big( 4 (\\mu \\nu | \\kappa \\lambda) - (\\mu \\kappa | \\nu \\lambda) - (\\mu \\lambda | \\kappa \\nu) \\big) C_{\\kappa m} C_{\\lambda i} U_{mi}^{A_t}\n",
    "\\end{align}\n",
    "$$"
   ]
  },
  {
   "cell_type": "markdown",
   "metadata": {},
   "source": [
    "<div class=\"alert alert-info\">\n",
    "\n",
    "**任务 (2)**\n",
    "\n",
    "说明上述证明过程中的第 3 个等号为何成立。\n",
    "\n",
    "</div>"
   ]
  },
  {
   "cell_type": "markdown",
   "metadata": {},
   "source": [
    "为了符号上的便利，我们会定义原子轨道下的 A 张量\n",
    "\n",
    "$$\n",
    "A_{\\mu \\nu, \\kappa \\lambda} = 4 (\\mu \\nu | \\kappa \\lambda) - (\\mu \\kappa | \\nu \\lambda) - (\\mu \\lambda | \\kappa \\nu)\n",
    "$$\n",
    "\n",
    "注意到尽管我们是通过求导得到的 A 张量；但 A 张量却没有包含任何导数的信息。因此，A 张量不论是原子核坐标梯度或是电场梯度，都完全相同。"
   ]
  },
  {
   "cell_type": "markdown",
   "metadata": {},
   "source": [
    "那么，$\\partial_{A_t} F_{\\mu \\nu}$ 中的 U 导数部分贡献可以记为\n",
    "\n",
    "$$\n",
    "\\frac{\\partial F_{\\mu \\nu}}{\\partial A_t} \\leftarrow A_{\\mu \\nu, \\kappa \\lambda} C_{\\kappa m} C_{\\lambda i} U_{mi}^{A_t}\n",
    "$$\n",
    "\n",
    "因此，总的原子轨道 Fock 矩阵导数可以写为\n",
    "\n",
    "$$\n",
    "\\frac{\\partial F_{\\mu \\nu}}{\\partial A_t} = F_{\\mu \\nu}^{A_t} + A_{\\mu \\nu, \\kappa \\lambda} C_{\\kappa m} C_{\\lambda i} U_{mi}^{A_t}\n",
    "$$"
   ]
  },
  {
   "cell_type": "markdown",
   "metadata": {},
   "source": [
    "我们定义变量 `A_0_ao` $A_{\\mu \\nu, \\kappa \\lambda}$："
   ]
  },
  {
   "cell_type": "code",
   "execution_count": 20,
   "metadata": {},
   "outputs": [
    {
     "data": {
      "text/plain": [
       "(22, 22, 22, 22)"
      ]
     },
     "execution_count": 20,
     "metadata": {},
     "output_type": "execute_result"
    }
   ],
   "source": [
    "A_0_ao = 4 * eri0_ao - eri0_ao.swapaxes(-2, -3) - eri0_ao.swapaxes(-1, -3)\n",
    "A_0_ao.shape"
   ]
  },
  {
   "cell_type": "markdown",
   "metadata": {},
   "source": [
    "我们假设已经知道了 $U_{pq}^{A_t}$ 可以通过 `gradh_nr.U_1` 调出，那么原子轨道下 Fock 矩阵 U 导数的贡献可以储存在变量 `F_U_ao` 中："
   ]
  },
  {
   "cell_type": "code",
   "execution_count": 21,
   "metadata": {},
   "outputs": [],
   "source": [
    "F_U_ao = np.einsum(\"uvkl, km, li, Atmi -> Atuv\", A_0_ao, C, Co, to_natm_3(gradh_nr.U_1)[:, :, :, so])"
   ]
  },
  {
   "cell_type": "markdown",
   "metadata": {},
   "source": [
    "我们不妨用图像验证一下，将 U 导数与 Skeleton 导数 (`F_1_ao` $F_{\\mu \\nu}^{A_t}$) 相加，是否与 `nd_F_0_ao` $\\partial_{A_t} F_{\\mu \\nu}$ 近似相等："
   ]
  },
  {
   "cell_type": "code",
   "execution_count": 22,
   "metadata": {},
   "outputs": [
    {
     "data": {
      "application/javascript": [
       "/* Put everything inside the global mpl namespace */\n",
       "window.mpl = {};\n",
       "\n",
       "\n",
       "mpl.get_websocket_type = function() {\n",
       "    if (typeof(WebSocket) !== 'undefined') {\n",
       "        return WebSocket;\n",
       "    } else if (typeof(MozWebSocket) !== 'undefined') {\n",
       "        return MozWebSocket;\n",
       "    } else {\n",
       "        alert('Your browser does not have WebSocket support. ' +\n",
       "              'Please try Chrome, Safari or Firefox ≥ 6. ' +\n",
       "              'Firefox 4 and 5 are also supported but you ' +\n",
       "              'have to enable WebSockets in about:config.');\n",
       "    };\n",
       "}\n",
       "\n",
       "mpl.figure = function(figure_id, websocket, ondownload, parent_element) {\n",
       "    this.id = figure_id;\n",
       "\n",
       "    this.ws = websocket;\n",
       "\n",
       "    this.supports_binary = (this.ws.binaryType != undefined);\n",
       "\n",
       "    if (!this.supports_binary) {\n",
       "        var warnings = document.getElementById(\"mpl-warnings\");\n",
       "        if (warnings) {\n",
       "            warnings.style.display = 'block';\n",
       "            warnings.textContent = (\n",
       "                \"This browser does not support binary websocket messages. \" +\n",
       "                    \"Performance may be slow.\");\n",
       "        }\n",
       "    }\n",
       "\n",
       "    this.imageObj = new Image();\n",
       "\n",
       "    this.context = undefined;\n",
       "    this.message = undefined;\n",
       "    this.canvas = undefined;\n",
       "    this.rubberband_canvas = undefined;\n",
       "    this.rubberband_context = undefined;\n",
       "    this.format_dropdown = undefined;\n",
       "\n",
       "    this.image_mode = 'full';\n",
       "\n",
       "    this.root = $('<div/>');\n",
       "    this._root_extra_style(this.root)\n",
       "    this.root.attr('style', 'display: inline-block');\n",
       "\n",
       "    $(parent_element).append(this.root);\n",
       "\n",
       "    this._init_header(this);\n",
       "    this._init_canvas(this);\n",
       "    this._init_toolbar(this);\n",
       "\n",
       "    var fig = this;\n",
       "\n",
       "    this.waiting = false;\n",
       "\n",
       "    this.ws.onopen =  function () {\n",
       "            fig.send_message(\"supports_binary\", {value: fig.supports_binary});\n",
       "            fig.send_message(\"send_image_mode\", {});\n",
       "            if (mpl.ratio != 1) {\n",
       "                fig.send_message(\"set_dpi_ratio\", {'dpi_ratio': mpl.ratio});\n",
       "            }\n",
       "            fig.send_message(\"refresh\", {});\n",
       "        }\n",
       "\n",
       "    this.imageObj.onload = function() {\n",
       "            if (fig.image_mode == 'full') {\n",
       "                // Full images could contain transparency (where diff images\n",
       "                // almost always do), so we need to clear the canvas so that\n",
       "                // there is no ghosting.\n",
       "                fig.context.clearRect(0, 0, fig.canvas.width, fig.canvas.height);\n",
       "            }\n",
       "            fig.context.drawImage(fig.imageObj, 0, 0);\n",
       "        };\n",
       "\n",
       "    this.imageObj.onunload = function() {\n",
       "        fig.ws.close();\n",
       "    }\n",
       "\n",
       "    this.ws.onmessage = this._make_on_message_function(this);\n",
       "\n",
       "    this.ondownload = ondownload;\n",
       "}\n",
       "\n",
       "mpl.figure.prototype._init_header = function() {\n",
       "    var titlebar = $(\n",
       "        '<div class=\"ui-dialog-titlebar ui-widget-header ui-corner-all ' +\n",
       "        'ui-helper-clearfix\"/>');\n",
       "    var titletext = $(\n",
       "        '<div class=\"ui-dialog-title\" style=\"width: 100%; ' +\n",
       "        'text-align: center; padding: 3px;\"/>');\n",
       "    titlebar.append(titletext)\n",
       "    this.root.append(titlebar);\n",
       "    this.header = titletext[0];\n",
       "}\n",
       "\n",
       "\n",
       "\n",
       "mpl.figure.prototype._canvas_extra_style = function(canvas_div) {\n",
       "\n",
       "}\n",
       "\n",
       "\n",
       "mpl.figure.prototype._root_extra_style = function(canvas_div) {\n",
       "\n",
       "}\n",
       "\n",
       "mpl.figure.prototype._init_canvas = function() {\n",
       "    var fig = this;\n",
       "\n",
       "    var canvas_div = $('<div/>');\n",
       "\n",
       "    canvas_div.attr('style', 'position: relative; clear: both; outline: 0');\n",
       "\n",
       "    function canvas_keyboard_event(event) {\n",
       "        return fig.key_event(event, event['data']);\n",
       "    }\n",
       "\n",
       "    canvas_div.keydown('key_press', canvas_keyboard_event);\n",
       "    canvas_div.keyup('key_release', canvas_keyboard_event);\n",
       "    this.canvas_div = canvas_div\n",
       "    this._canvas_extra_style(canvas_div)\n",
       "    this.root.append(canvas_div);\n",
       "\n",
       "    var canvas = $('<canvas/>');\n",
       "    canvas.addClass('mpl-canvas');\n",
       "    canvas.attr('style', \"left: 0; top: 0; z-index: 0; outline: 0\")\n",
       "\n",
       "    this.canvas = canvas[0];\n",
       "    this.context = canvas[0].getContext(\"2d\");\n",
       "\n",
       "    var backingStore = this.context.backingStorePixelRatio ||\n",
       "\tthis.context.webkitBackingStorePixelRatio ||\n",
       "\tthis.context.mozBackingStorePixelRatio ||\n",
       "\tthis.context.msBackingStorePixelRatio ||\n",
       "\tthis.context.oBackingStorePixelRatio ||\n",
       "\tthis.context.backingStorePixelRatio || 1;\n",
       "\n",
       "    mpl.ratio = (window.devicePixelRatio || 1) / backingStore;\n",
       "\n",
       "    var rubberband = $('<canvas/>');\n",
       "    rubberband.attr('style', \"position: absolute; left: 0; top: 0; z-index: 1;\")\n",
       "\n",
       "    var pass_mouse_events = true;\n",
       "\n",
       "    canvas_div.resizable({\n",
       "        start: function(event, ui) {\n",
       "            pass_mouse_events = false;\n",
       "        },\n",
       "        resize: function(event, ui) {\n",
       "            fig.request_resize(ui.size.width, ui.size.height);\n",
       "        },\n",
       "        stop: function(event, ui) {\n",
       "            pass_mouse_events = true;\n",
       "            fig.request_resize(ui.size.width, ui.size.height);\n",
       "        },\n",
       "    });\n",
       "\n",
       "    function mouse_event_fn(event) {\n",
       "        if (pass_mouse_events)\n",
       "            return fig.mouse_event(event, event['data']);\n",
       "    }\n",
       "\n",
       "    rubberband.mousedown('button_press', mouse_event_fn);\n",
       "    rubberband.mouseup('button_release', mouse_event_fn);\n",
       "    // Throttle sequential mouse events to 1 every 20ms.\n",
       "    rubberband.mousemove('motion_notify', mouse_event_fn);\n",
       "\n",
       "    rubberband.mouseenter('figure_enter', mouse_event_fn);\n",
       "    rubberband.mouseleave('figure_leave', mouse_event_fn);\n",
       "\n",
       "    canvas_div.on(\"wheel\", function (event) {\n",
       "        event = event.originalEvent;\n",
       "        event['data'] = 'scroll'\n",
       "        if (event.deltaY < 0) {\n",
       "            event.step = 1;\n",
       "        } else {\n",
       "            event.step = -1;\n",
       "        }\n",
       "        mouse_event_fn(event);\n",
       "    });\n",
       "\n",
       "    canvas_div.append(canvas);\n",
       "    canvas_div.append(rubberband);\n",
       "\n",
       "    this.rubberband = rubberband;\n",
       "    this.rubberband_canvas = rubberband[0];\n",
       "    this.rubberband_context = rubberband[0].getContext(\"2d\");\n",
       "    this.rubberband_context.strokeStyle = \"#000000\";\n",
       "\n",
       "    this._resize_canvas = function(width, height) {\n",
       "        // Keep the size of the canvas, canvas container, and rubber band\n",
       "        // canvas in synch.\n",
       "        canvas_div.css('width', width)\n",
       "        canvas_div.css('height', height)\n",
       "\n",
       "        canvas.attr('width', width * mpl.ratio);\n",
       "        canvas.attr('height', height * mpl.ratio);\n",
       "        canvas.attr('style', 'width: ' + width + 'px; height: ' + height + 'px;');\n",
       "\n",
       "        rubberband.attr('width', width);\n",
       "        rubberband.attr('height', height);\n",
       "    }\n",
       "\n",
       "    // Set the figure to an initial 600x600px, this will subsequently be updated\n",
       "    // upon first draw.\n",
       "    this._resize_canvas(600, 600);\n",
       "\n",
       "    // Disable right mouse context menu.\n",
       "    $(this.rubberband_canvas).bind(\"contextmenu\",function(e){\n",
       "        return false;\n",
       "    });\n",
       "\n",
       "    function set_focus () {\n",
       "        canvas.focus();\n",
       "        canvas_div.focus();\n",
       "    }\n",
       "\n",
       "    window.setTimeout(set_focus, 100);\n",
       "}\n",
       "\n",
       "mpl.figure.prototype._init_toolbar = function() {\n",
       "    var fig = this;\n",
       "\n",
       "    var nav_element = $('<div/>');\n",
       "    nav_element.attr('style', 'width: 100%');\n",
       "    this.root.append(nav_element);\n",
       "\n",
       "    // Define a callback function for later on.\n",
       "    function toolbar_event(event) {\n",
       "        return fig.toolbar_button_onclick(event['data']);\n",
       "    }\n",
       "    function toolbar_mouse_event(event) {\n",
       "        return fig.toolbar_button_onmouseover(event['data']);\n",
       "    }\n",
       "\n",
       "    for(var toolbar_ind in mpl.toolbar_items) {\n",
       "        var name = mpl.toolbar_items[toolbar_ind][0];\n",
       "        var tooltip = mpl.toolbar_items[toolbar_ind][1];\n",
       "        var image = mpl.toolbar_items[toolbar_ind][2];\n",
       "        var method_name = mpl.toolbar_items[toolbar_ind][3];\n",
       "\n",
       "        if (!name) {\n",
       "            // put a spacer in here.\n",
       "            continue;\n",
       "        }\n",
       "        var button = $('<button/>');\n",
       "        button.addClass('ui-button ui-widget ui-state-default ui-corner-all ' +\n",
       "                        'ui-button-icon-only');\n",
       "        button.attr('role', 'button');\n",
       "        button.attr('aria-disabled', 'false');\n",
       "        button.click(method_name, toolbar_event);\n",
       "        button.mouseover(tooltip, toolbar_mouse_event);\n",
       "\n",
       "        var icon_img = $('<span/>');\n",
       "        icon_img.addClass('ui-button-icon-primary ui-icon');\n",
       "        icon_img.addClass(image);\n",
       "        icon_img.addClass('ui-corner-all');\n",
       "\n",
       "        var tooltip_span = $('<span/>');\n",
       "        tooltip_span.addClass('ui-button-text');\n",
       "        tooltip_span.html(tooltip);\n",
       "\n",
       "        button.append(icon_img);\n",
       "        button.append(tooltip_span);\n",
       "\n",
       "        nav_element.append(button);\n",
       "    }\n",
       "\n",
       "    var fmt_picker_span = $('<span/>');\n",
       "\n",
       "    var fmt_picker = $('<select/>');\n",
       "    fmt_picker.addClass('mpl-toolbar-option ui-widget ui-widget-content');\n",
       "    fmt_picker_span.append(fmt_picker);\n",
       "    nav_element.append(fmt_picker_span);\n",
       "    this.format_dropdown = fmt_picker[0];\n",
       "\n",
       "    for (var ind in mpl.extensions) {\n",
       "        var fmt = mpl.extensions[ind];\n",
       "        var option = $(\n",
       "            '<option/>', {selected: fmt === mpl.default_extension}).html(fmt);\n",
       "        fmt_picker.append(option);\n",
       "    }\n",
       "\n",
       "    // Add hover states to the ui-buttons\n",
       "    $( \".ui-button\" ).hover(\n",
       "        function() { $(this).addClass(\"ui-state-hover\");},\n",
       "        function() { $(this).removeClass(\"ui-state-hover\");}\n",
       "    );\n",
       "\n",
       "    var status_bar = $('<span class=\"mpl-message\"/>');\n",
       "    nav_element.append(status_bar);\n",
       "    this.message = status_bar[0];\n",
       "}\n",
       "\n",
       "mpl.figure.prototype.request_resize = function(x_pixels, y_pixels) {\n",
       "    // Request matplotlib to resize the figure. Matplotlib will then trigger a resize in the client,\n",
       "    // which will in turn request a refresh of the image.\n",
       "    this.send_message('resize', {'width': x_pixels, 'height': y_pixels});\n",
       "}\n",
       "\n",
       "mpl.figure.prototype.send_message = function(type, properties) {\n",
       "    properties['type'] = type;\n",
       "    properties['figure_id'] = this.id;\n",
       "    this.ws.send(JSON.stringify(properties));\n",
       "}\n",
       "\n",
       "mpl.figure.prototype.send_draw_message = function() {\n",
       "    if (!this.waiting) {\n",
       "        this.waiting = true;\n",
       "        this.ws.send(JSON.stringify({type: \"draw\", figure_id: this.id}));\n",
       "    }\n",
       "}\n",
       "\n",
       "\n",
       "mpl.figure.prototype.handle_save = function(fig, msg) {\n",
       "    var format_dropdown = fig.format_dropdown;\n",
       "    var format = format_dropdown.options[format_dropdown.selectedIndex].value;\n",
       "    fig.ondownload(fig, format);\n",
       "}\n",
       "\n",
       "\n",
       "mpl.figure.prototype.handle_resize = function(fig, msg) {\n",
       "    var size = msg['size'];\n",
       "    if (size[0] != fig.canvas.width || size[1] != fig.canvas.height) {\n",
       "        fig._resize_canvas(size[0], size[1]);\n",
       "        fig.send_message(\"refresh\", {});\n",
       "    };\n",
       "}\n",
       "\n",
       "mpl.figure.prototype.handle_rubberband = function(fig, msg) {\n",
       "    var x0 = msg['x0'] / mpl.ratio;\n",
       "    var y0 = (fig.canvas.height - msg['y0']) / mpl.ratio;\n",
       "    var x1 = msg['x1'] / mpl.ratio;\n",
       "    var y1 = (fig.canvas.height - msg['y1']) / mpl.ratio;\n",
       "    x0 = Math.floor(x0) + 0.5;\n",
       "    y0 = Math.floor(y0) + 0.5;\n",
       "    x1 = Math.floor(x1) + 0.5;\n",
       "    y1 = Math.floor(y1) + 0.5;\n",
       "    var min_x = Math.min(x0, x1);\n",
       "    var min_y = Math.min(y0, y1);\n",
       "    var width = Math.abs(x1 - x0);\n",
       "    var height = Math.abs(y1 - y0);\n",
       "\n",
       "    fig.rubberband_context.clearRect(\n",
       "        0, 0, fig.canvas.width / mpl.ratio, fig.canvas.height / mpl.ratio);\n",
       "\n",
       "    fig.rubberband_context.strokeRect(min_x, min_y, width, height);\n",
       "}\n",
       "\n",
       "mpl.figure.prototype.handle_figure_label = function(fig, msg) {\n",
       "    // Updates the figure title.\n",
       "    fig.header.textContent = msg['label'];\n",
       "}\n",
       "\n",
       "mpl.figure.prototype.handle_cursor = function(fig, msg) {\n",
       "    var cursor = msg['cursor'];\n",
       "    switch(cursor)\n",
       "    {\n",
       "    case 0:\n",
       "        cursor = 'pointer';\n",
       "        break;\n",
       "    case 1:\n",
       "        cursor = 'default';\n",
       "        break;\n",
       "    case 2:\n",
       "        cursor = 'crosshair';\n",
       "        break;\n",
       "    case 3:\n",
       "        cursor = 'move';\n",
       "        break;\n",
       "    }\n",
       "    fig.rubberband_canvas.style.cursor = cursor;\n",
       "}\n",
       "\n",
       "mpl.figure.prototype.handle_message = function(fig, msg) {\n",
       "    fig.message.textContent = msg['message'];\n",
       "}\n",
       "\n",
       "mpl.figure.prototype.handle_draw = function(fig, msg) {\n",
       "    // Request the server to send over a new figure.\n",
       "    fig.send_draw_message();\n",
       "}\n",
       "\n",
       "mpl.figure.prototype.handle_image_mode = function(fig, msg) {\n",
       "    fig.image_mode = msg['mode'];\n",
       "}\n",
       "\n",
       "mpl.figure.prototype.updated_canvas_event = function() {\n",
       "    // Called whenever the canvas gets updated.\n",
       "    this.send_message(\"ack\", {});\n",
       "}\n",
       "\n",
       "// A function to construct a web socket function for onmessage handling.\n",
       "// Called in the figure constructor.\n",
       "mpl.figure.prototype._make_on_message_function = function(fig) {\n",
       "    return function socket_on_message(evt) {\n",
       "        if (evt.data instanceof Blob) {\n",
       "            /* FIXME: We get \"Resource interpreted as Image but\n",
       "             * transferred with MIME type text/plain:\" errors on\n",
       "             * Chrome.  But how to set the MIME type?  It doesn't seem\n",
       "             * to be part of the websocket stream */\n",
       "            evt.data.type = \"image/png\";\n",
       "\n",
       "            /* Free the memory for the previous frames */\n",
       "            if (fig.imageObj.src) {\n",
       "                (window.URL || window.webkitURL).revokeObjectURL(\n",
       "                    fig.imageObj.src);\n",
       "            }\n",
       "\n",
       "            fig.imageObj.src = (window.URL || window.webkitURL).createObjectURL(\n",
       "                evt.data);\n",
       "            fig.updated_canvas_event();\n",
       "            fig.waiting = false;\n",
       "            return;\n",
       "        }\n",
       "        else if (typeof evt.data === 'string' && evt.data.slice(0, 21) == \"data:image/png;base64\") {\n",
       "            fig.imageObj.src = evt.data;\n",
       "            fig.updated_canvas_event();\n",
       "            fig.waiting = false;\n",
       "            return;\n",
       "        }\n",
       "\n",
       "        var msg = JSON.parse(evt.data);\n",
       "        var msg_type = msg['type'];\n",
       "\n",
       "        // Call the  \"handle_{type}\" callback, which takes\n",
       "        // the figure and JSON message as its only arguments.\n",
       "        try {\n",
       "            var callback = fig[\"handle_\" + msg_type];\n",
       "        } catch (e) {\n",
       "            console.log(\"No handler for the '\" + msg_type + \"' message type: \", msg);\n",
       "            return;\n",
       "        }\n",
       "\n",
       "        if (callback) {\n",
       "            try {\n",
       "                // console.log(\"Handling '\" + msg_type + \"' message: \", msg);\n",
       "                callback(fig, msg);\n",
       "            } catch (e) {\n",
       "                console.log(\"Exception inside the 'handler_\" + msg_type + \"' callback:\", e, e.stack, msg);\n",
       "            }\n",
       "        }\n",
       "    };\n",
       "}\n",
       "\n",
       "// from http://stackoverflow.com/questions/1114465/getting-mouse-location-in-canvas\n",
       "mpl.findpos = function(e) {\n",
       "    //this section is from http://www.quirksmode.org/js/events_properties.html\n",
       "    var targ;\n",
       "    if (!e)\n",
       "        e = window.event;\n",
       "    if (e.target)\n",
       "        targ = e.target;\n",
       "    else if (e.srcElement)\n",
       "        targ = e.srcElement;\n",
       "    if (targ.nodeType == 3) // defeat Safari bug\n",
       "        targ = targ.parentNode;\n",
       "\n",
       "    // jQuery normalizes the pageX and pageY\n",
       "    // pageX,Y are the mouse positions relative to the document\n",
       "    // offset() returns the position of the element relative to the document\n",
       "    var x = e.pageX - $(targ).offset().left;\n",
       "    var y = e.pageY - $(targ).offset().top;\n",
       "\n",
       "    return {\"x\": x, \"y\": y};\n",
       "};\n",
       "\n",
       "/*\n",
       " * return a copy of an object with only non-object keys\n",
       " * we need this to avoid circular references\n",
       " * http://stackoverflow.com/a/24161582/3208463\n",
       " */\n",
       "function simpleKeys (original) {\n",
       "  return Object.keys(original).reduce(function (obj, key) {\n",
       "    if (typeof original[key] !== 'object')\n",
       "        obj[key] = original[key]\n",
       "    return obj;\n",
       "  }, {});\n",
       "}\n",
       "\n",
       "mpl.figure.prototype.mouse_event = function(event, name) {\n",
       "    var canvas_pos = mpl.findpos(event)\n",
       "\n",
       "    if (name === 'button_press')\n",
       "    {\n",
       "        this.canvas.focus();\n",
       "        this.canvas_div.focus();\n",
       "    }\n",
       "\n",
       "    var x = canvas_pos.x * mpl.ratio;\n",
       "    var y = canvas_pos.y * mpl.ratio;\n",
       "\n",
       "    this.send_message(name, {x: x, y: y, button: event.button,\n",
       "                             step: event.step,\n",
       "                             guiEvent: simpleKeys(event)});\n",
       "\n",
       "    /* This prevents the web browser from automatically changing to\n",
       "     * the text insertion cursor when the button is pressed.  We want\n",
       "     * to control all of the cursor setting manually through the\n",
       "     * 'cursor' event from matplotlib */\n",
       "    event.preventDefault();\n",
       "    return false;\n",
       "}\n",
       "\n",
       "mpl.figure.prototype._key_event_extra = function(event, name) {\n",
       "    // Handle any extra behaviour associated with a key event\n",
       "}\n",
       "\n",
       "mpl.figure.prototype.key_event = function(event, name) {\n",
       "\n",
       "    // Prevent repeat events\n",
       "    if (name == 'key_press')\n",
       "    {\n",
       "        if (event.which === this._key)\n",
       "            return;\n",
       "        else\n",
       "            this._key = event.which;\n",
       "    }\n",
       "    if (name == 'key_release')\n",
       "        this._key = null;\n",
       "\n",
       "    var value = '';\n",
       "    if (event.ctrlKey && event.which != 17)\n",
       "        value += \"ctrl+\";\n",
       "    if (event.altKey && event.which != 18)\n",
       "        value += \"alt+\";\n",
       "    if (event.shiftKey && event.which != 16)\n",
       "        value += \"shift+\";\n",
       "\n",
       "    value += 'k';\n",
       "    value += event.which.toString();\n",
       "\n",
       "    this._key_event_extra(event, name);\n",
       "\n",
       "    this.send_message(name, {key: value,\n",
       "                             guiEvent: simpleKeys(event)});\n",
       "    return false;\n",
       "}\n",
       "\n",
       "mpl.figure.prototype.toolbar_button_onclick = function(name) {\n",
       "    if (name == 'download') {\n",
       "        this.handle_save(this, null);\n",
       "    } else {\n",
       "        this.send_message(\"toolbar_button\", {name: name});\n",
       "    }\n",
       "};\n",
       "\n",
       "mpl.figure.prototype.toolbar_button_onmouseover = function(tooltip) {\n",
       "    this.message.textContent = tooltip;\n",
       "};\n",
       "mpl.toolbar_items = [[\"Home\", \"Reset original view\", \"fa fa-home icon-home\", \"home\"], [\"Back\", \"Back to previous view\", \"fa fa-arrow-left icon-arrow-left\", \"back\"], [\"Forward\", \"Forward to next view\", \"fa fa-arrow-right icon-arrow-right\", \"forward\"], [\"\", \"\", \"\", \"\"], [\"Pan\", \"Pan axes with left mouse, zoom with right\", \"fa fa-arrows icon-move\", \"pan\"], [\"Zoom\", \"Zoom to rectangle\", \"fa fa-square-o icon-check-empty\", \"zoom\"], [\"\", \"\", \"\", \"\"], [\"Download\", \"Download plot\", \"fa fa-floppy-o icon-save\", \"download\"]];\n",
       "\n",
       "mpl.extensions = [\"eps\", \"pdf\", \"png\", \"ps\", \"raw\", \"svg\"];\n",
       "\n",
       "mpl.default_extension = \"png\";var comm_websocket_adapter = function(comm) {\n",
       "    // Create a \"websocket\"-like object which calls the given IPython comm\n",
       "    // object with the appropriate methods. Currently this is a non binary\n",
       "    // socket, so there is still some room for performance tuning.\n",
       "    var ws = {};\n",
       "\n",
       "    ws.close = function() {\n",
       "        comm.close()\n",
       "    };\n",
       "    ws.send = function(m) {\n",
       "        //console.log('sending', m);\n",
       "        comm.send(m);\n",
       "    };\n",
       "    // Register the callback with on_msg.\n",
       "    comm.on_msg(function(msg) {\n",
       "        //console.log('receiving', msg['content']['data'], msg);\n",
       "        // Pass the mpl event to the overridden (by mpl) onmessage function.\n",
       "        ws.onmessage(msg['content']['data'])\n",
       "    });\n",
       "    return ws;\n",
       "}\n",
       "\n",
       "mpl.mpl_figure_comm = function(comm, msg) {\n",
       "    // This is the function which gets called when the mpl process\n",
       "    // starts-up an IPython Comm through the \"matplotlib\" channel.\n",
       "\n",
       "    var id = msg.content.data.id;\n",
       "    // Get hold of the div created by the display call when the Comm\n",
       "    // socket was opened in Python.\n",
       "    var element = $(\"#\" + id);\n",
       "    var ws_proxy = comm_websocket_adapter(comm)\n",
       "\n",
       "    function ondownload(figure, format) {\n",
       "        window.open(figure.imageObj.src);\n",
       "    }\n",
       "\n",
       "    var fig = new mpl.figure(id, ws_proxy,\n",
       "                           ondownload,\n",
       "                           element.get(0));\n",
       "\n",
       "    // Call onopen now - mpl needs it, as it is assuming we've passed it a real\n",
       "    // web socket which is closed, not our websocket->open comm proxy.\n",
       "    ws_proxy.onopen();\n",
       "\n",
       "    fig.parent_element = element.get(0);\n",
       "    fig.cell_info = mpl.find_output_cell(\"<div id='\" + id + \"'></div>\");\n",
       "    if (!fig.cell_info) {\n",
       "        console.error(\"Failed to find cell for figure\", id, fig);\n",
       "        return;\n",
       "    }\n",
       "\n",
       "    var output_index = fig.cell_info[2]\n",
       "    var cell = fig.cell_info[0];\n",
       "\n",
       "};\n",
       "\n",
       "mpl.figure.prototype.handle_close = function(fig, msg) {\n",
       "    var width = fig.canvas.width/mpl.ratio\n",
       "    fig.root.unbind('remove')\n",
       "\n",
       "    // Update the output cell to use the data from the current canvas.\n",
       "    fig.push_to_output();\n",
       "    var dataURL = fig.canvas.toDataURL();\n",
       "    // Re-enable the keyboard manager in IPython - without this line, in FF,\n",
       "    // the notebook keyboard shortcuts fail.\n",
       "    IPython.keyboard_manager.enable()\n",
       "    $(fig.parent_element).html('<img src=\"' + dataURL + '\" width=\"' + width + '\">');\n",
       "    fig.close_ws(fig, msg);\n",
       "}\n",
       "\n",
       "mpl.figure.prototype.close_ws = function(fig, msg){\n",
       "    fig.send_message('closing', msg);\n",
       "    // fig.ws.close()\n",
       "}\n",
       "\n",
       "mpl.figure.prototype.push_to_output = function(remove_interactive) {\n",
       "    // Turn the data on the canvas into data in the output cell.\n",
       "    var width = this.canvas.width/mpl.ratio\n",
       "    var dataURL = this.canvas.toDataURL();\n",
       "    this.cell_info[1]['text/html'] = '<img src=\"' + dataURL + '\" width=\"' + width + '\">';\n",
       "}\n",
       "\n",
       "mpl.figure.prototype.updated_canvas_event = function() {\n",
       "    // Tell IPython that the notebook contents must change.\n",
       "    IPython.notebook.set_dirty(true);\n",
       "    this.send_message(\"ack\", {});\n",
       "    var fig = this;\n",
       "    // Wait a second, then push the new image to the DOM so\n",
       "    // that it is saved nicely (might be nice to debounce this).\n",
       "    setTimeout(function () { fig.push_to_output() }, 1000);\n",
       "}\n",
       "\n",
       "mpl.figure.prototype._init_toolbar = function() {\n",
       "    var fig = this;\n",
       "\n",
       "    var nav_element = $('<div/>');\n",
       "    nav_element.attr('style', 'width: 100%');\n",
       "    this.root.append(nav_element);\n",
       "\n",
       "    // Define a callback function for later on.\n",
       "    function toolbar_event(event) {\n",
       "        return fig.toolbar_button_onclick(event['data']);\n",
       "    }\n",
       "    function toolbar_mouse_event(event) {\n",
       "        return fig.toolbar_button_onmouseover(event['data']);\n",
       "    }\n",
       "\n",
       "    for(var toolbar_ind in mpl.toolbar_items){\n",
       "        var name = mpl.toolbar_items[toolbar_ind][0];\n",
       "        var tooltip = mpl.toolbar_items[toolbar_ind][1];\n",
       "        var image = mpl.toolbar_items[toolbar_ind][2];\n",
       "        var method_name = mpl.toolbar_items[toolbar_ind][3];\n",
       "\n",
       "        if (!name) { continue; };\n",
       "\n",
       "        var button = $('<button class=\"btn btn-default\" href=\"#\" title=\"' + name + '\"><i class=\"fa ' + image + ' fa-lg\"></i></button>');\n",
       "        button.click(method_name, toolbar_event);\n",
       "        button.mouseover(tooltip, toolbar_mouse_event);\n",
       "        nav_element.append(button);\n",
       "    }\n",
       "\n",
       "    // Add the status bar.\n",
       "    var status_bar = $('<span class=\"mpl-message\" style=\"text-align:right; float: right;\"/>');\n",
       "    nav_element.append(status_bar);\n",
       "    this.message = status_bar[0];\n",
       "\n",
       "    // Add the close button to the window.\n",
       "    var buttongrp = $('<div class=\"btn-group inline pull-right\"></div>');\n",
       "    var button = $('<button class=\"btn btn-mini btn-primary\" href=\"#\" title=\"Stop Interaction\"><i class=\"fa fa-power-off icon-remove icon-large\"></i></button>');\n",
       "    button.click(function (evt) { fig.handle_close(fig, {}); } );\n",
       "    button.mouseover('Stop Interaction', toolbar_mouse_event);\n",
       "    buttongrp.append(button);\n",
       "    var titlebar = this.root.find($('.ui-dialog-titlebar'));\n",
       "    titlebar.prepend(buttongrp);\n",
       "}\n",
       "\n",
       "mpl.figure.prototype._root_extra_style = function(el){\n",
       "    var fig = this\n",
       "    el.on(\"remove\", function(){\n",
       "\tfig.close_ws(fig, {});\n",
       "    });\n",
       "}\n",
       "\n",
       "mpl.figure.prototype._canvas_extra_style = function(el){\n",
       "    // this is important to make the div 'focusable\n",
       "    el.attr('tabindex', 0)\n",
       "    // reach out to IPython and tell the keyboard manager to turn it's self\n",
       "    // off when our div gets focus\n",
       "\n",
       "    // location in version 3\n",
       "    if (IPython.notebook.keyboard_manager) {\n",
       "        IPython.notebook.keyboard_manager.register_events(el);\n",
       "    }\n",
       "    else {\n",
       "        // location in version 2\n",
       "        IPython.keyboard_manager.register_events(el);\n",
       "    }\n",
       "\n",
       "}\n",
       "\n",
       "mpl.figure.prototype._key_event_extra = function(event, name) {\n",
       "    var manager = IPython.notebook.keyboard_manager;\n",
       "    if (!manager)\n",
       "        manager = IPython.keyboard_manager;\n",
       "\n",
       "    // Check for shift+enter\n",
       "    if (event.shiftKey && event.which == 13) {\n",
       "        this.canvas_div.blur();\n",
       "        // select the cell after this one\n",
       "        var index = IPython.notebook.find_cell_index(this.cell_info[0]);\n",
       "        IPython.notebook.select(index + 1);\n",
       "    }\n",
       "}\n",
       "\n",
       "mpl.figure.prototype.handle_save = function(fig, msg) {\n",
       "    fig.ondownload(fig, null);\n",
       "}\n",
       "\n",
       "\n",
       "mpl.find_output_cell = function(html_output) {\n",
       "    // Return the cell and output element which can be found *uniquely* in the notebook.\n",
       "    // Note - this is a bit hacky, but it is done because the \"notebook_saving.Notebook\"\n",
       "    // IPython event is triggered only after the cells have been serialised, which for\n",
       "    // our purposes (turning an active figure into a static one), is too late.\n",
       "    var cells = IPython.notebook.get_cells();\n",
       "    var ncells = cells.length;\n",
       "    for (var i=0; i<ncells; i++) {\n",
       "        var cell = cells[i];\n",
       "        if (cell.cell_type === 'code'){\n",
       "            for (var j=0; j<cell.output_area.outputs.length; j++) {\n",
       "                var data = cell.output_area.outputs[j];\n",
       "                if (data.data) {\n",
       "                    // IPython >= 3 moved mimebundle to data attribute of output\n",
       "                    data = data.data;\n",
       "                }\n",
       "                if (data['text/html'] == html_output) {\n",
       "                    return [cell, data, j];\n",
       "                }\n",
       "            }\n",
       "        }\n",
       "    }\n",
       "}\n",
       "\n",
       "// Register the function which deals with the matplotlib target/channel.\n",
       "// The kernel may be null if the page has been refreshed.\n",
       "if (IPython.notebook.kernel != null) {\n",
       "    IPython.notebook.kernel.comm_manager.register_target('matplotlib', mpl.mpl_figure_comm);\n",
       "}\n"
      ],
      "text/plain": [
       "<IPython.core.display.Javascript object>"
      ]
     },
     "metadata": {},
     "output_type": "display_data"
    },
    {
     "data": {
      "text/html": [
       "<img src=\"data:image/png;base64,iVBORw0KGgoAAAANSUhEUgAAAfQAAAF3CAYAAABT8rn8AAAgAElEQVR4Xu2dC6wWxdmAX4rFIGojoLQWFMFL1AIC/irSej9i6rVWa0UataKglnCxUEWNYCooWBARuYjRplhTFbyAVwQ1ChiVipdIWylqoaAgViKK5eL5M9Nyeg7nsjPfvrs7u/tsYkw4M++887zznefMfPvt16y6urpauCAAAQhAAAIQyDWBZgg91/UjeQhAAAIQgIAlgNBZCBCAAAQgAIECEEDoBSgiU4AABCAAAQggdNYABCAAAQhAoAAEEHoBisgUIAABCEAAAgidNQABCEAAAhAoAAGEXoAiMgUIQAACEIAAQmcNQAACEIAABApAAKEXoIhMAQIQgAAEIIDQWQMQgAAEIACBAhBA6AUoIlOAAAQgAAEIIHTWAAQgAAEIQKAABBB6AYrIFCAAAQhAAAIInTUAAQhAAAIQKAABhF6AIjIFCEAAAhCAAEJnDUAAAhCAAAQKQAChF6CITAECEIAABCCA0FkDEIAABCAAgQIQQOgFKCJTgAAEIAABCCQi9FWrVsnNN98sCxYskLVr10q7du3k+OOPl+uvv14OPvjgGurbt2+X8ePHy8yZM8X06dChg/Tv31+GDx8uzZs3r1Mdn7aUFQIQgAAEIFA2AupC37Bhg/zgBz+QLVu2yJVXXikHHHCArFixQqZOnSrNmjWTd955R9q3b285X3XVVfbfL730Ujn22GNl8eLFct9999l/nzJlSp1a+LQtWxGZLwQgAAEIQEBd6HfffbdcffXV8sQTT8iZZ55ZQ3j27Nly3nnnycSJE2XIkCFW7N26dZNBgwbJpEmTatoNHjxYJk+eLG+99ZZ06dLF/rtPW0oKAQhAAAIQKCMBdaHfeuutct1118nrr78uRx55ZA3TJUuW2F349OnT5YorrrDH72PGjJGVK1faXfyO64MPPpBOnTrJyJEj5ZZbbrH/7NO2jEVkzhCAAAQgAAF1oRuRH3XUUXLMMcfI7bffLh07drRH7sOGDZNNmzZZ0e+5557Sp08fuwv/+OOP61XBvOfevXt3eeaZZ+zPfNr6lPTTTz+VZ5991ubYsmVLn660hQAEIAABCMQisHnzZvnwww+t49q2bRsrlumsLnQTdMaMGXaHbd5P33Edd9xxMmfOHGnTpo39J3Oc3qJFC1m6dGm9SfTo0UO2bt1qj9p92zZGxNycZ/6rfT311FNy4403xoZIAAhAAAIQgEClBGbNmiUXXXRRpd1r+iUi9EcffVSmTZtm/+o48MADrZjN3ezmZjmzI27VqpV07tzZ3v1uboTb+TJH8+vWrbM7e3P5tG2MyKhRo2T06NEN/tjAPPTQQ2PDJAAEIAABCEDAlcDy5culX79+8sorr0jv3r1duzXaTl3oZhd+wQUXyJ///Oeam9rM6M8995wV/G233SYjRowIYoe+A6Y5JTCnAlwQgAAEIACBtAgYT/bs2dOeVGs4SF3o5vPm69evl/fee68eE/PeuTl6nzdvntf74km9h64NM61FwDgQgAAEIJB/AtoOUhf6IYccYin/9a9/rUO7urpa9thjD/nhD39ob3Yz77GPHTvW6S53n7Y+JdaG6TM2bSEAAQhAoNwEtB2kLvSzzz5b5s6dK4sWLZJevXrVVOuRRx6R888/334E7be//a29w93cyd7Y59CXLVsmXbt2tf192vosD22YPmPTFgIQgAAEyk1A20HqQjc3uZ1wwgmy66672ie+mRvazE1x5s731q1by5tvvinf/e53bRUHDhxoP5dunhRnbggwfwSYJ8UNGDDA3lRX+/Jp67pEtGG6jks7CEAAAhCAgLaD1IVuSvT222/bZ7m/8cYbsmbNGivyqqoquzPff//9a6q4bds2GTdunH2W++rVq+0jYc2z3M1Nc7vsskudavu0dV0m2jBdx6UdBCAAAQhAQNtBiQg9L2XShpmXeZMnBCAAAQhkT0DbQQhd8SMD2S8PMoAABCAAgbwQQOiKldKGqZgaoSAAAQhAoOAEtB3EDp0desFfMkwPAhCAQJgEELpiXbRhKqZGKAhAAAIQKDgBbQexQ2eHXvCXDNODAAQgECYBhK5YF22YiqkRCgIVE5g4/29N9h1adXDFsekIAQjoEdB2EDt0duh6q5NIQRBA6EGUgSQgEEkAoUcicm+gDdN9ZFpCIDkCCD05tkSGgCYBbQexQ2eHrrk+iRUAAYQeQBFIAQIOBBC6AyTXJtowXcelHQSSJIDQk6RLbAjoEdB2EDt0duh6q5NIQRBA6EGUgSQgEEkAoUcicm+gDdN9ZFpCIDkCCD05tkSGgCYBbQexQ2eHrrk+iRUAAYQeQBFIAQIOBBC6AyTXJtowXcelHQSSJIDQk6RLbAjoEdB2EDt0duh6q5NIQRBA6EGUgSQgEEkAoUcicm+gDdN9ZFpCIDkCCD05tkSGgCYBbQexQ2eHrrk+iRUAAYQeQBFIAQIOBBC6AyTXJtowXcelHQSSJIDQk6RLbAjoEdB2EDt0duh6q5NIQRBA6EGUgSQgEEkAoUcicm+gDdN9ZFpCIDkCCD05tkSGgCYBbQexQ2eHrrk+iRUAAYQeQBFIAQIOBBC6AyTXJtowXcelHQSSJIDQk6RLbAjoEdB2EDt0duh6q5NIQRBA6EGUgSQgEEkAoUcicm+gDdN9ZFpCIDkCCD05tkSGgCYBbQexQ2eHrrk+iRUAAYQeQBFIAQIOBBC6AyTXJtowXcelHQSSJIDQk6RLbAjoEdB2EDt0duh6q5NIQRBA6EGUgSQgEEkAoUcicm+gDdN9ZFpCIDkCCD05tkSGgCYBbQexQ2eHrrk+iRUAAYQeQBFIAQIOBBC6AyTXJtowXcelHQSSJIDQk6RLbAjoEdB2EDt0duh6q5NIQRBA6EGUgSQgEEkAoUcicm+gDdN9ZFpCIDkCCD05tkSGgCYBbQexQ2eHrrk+iRUAAYQeQBFIAQIOBBC6AyTXJtowXcelHQSSJIDQk6RLbAjoEdB2EDt0duh6q5NIQRBA6EGUgSQgEEkAoUcicm+gDdN9ZFpCIDkCCD05tkSGgCYBbQexQ2eHrrk+iRUAAYQeQBFIAQIOBBC6AyTXJtowXcelHQSSJIDQk6RLbAjoEdB2EDt0duh6q5NIQRBA6EGUgSQgEEkAoUcicm+gDdN9ZFpCIDkCCD05tkSGgCYBbQexQ2eHrrk+iRUAAYQeQBFIAQIOBBC6AyTXJtowXcelHQSSJIDQk6RLbAjoEdB2EDt0duh6q5NIQRBA6EGUgSQgEEkAoUcicm+gDdN9ZFpCIDkCCD05tkSGgCYBbQexQ2eHrrk+iRUAAYQeQBFIAQIOBBC6AyTXJtowXcelHQSSJIDQk6RLbAjoEdB2EDt0duh6q5NIQRBA6EGUgSQgEEkAoUcicm+gDdN9ZFpCIDkCCD05tkSGgCYBbQexQ2eHrrk+iRUAAYQeQBFIAQIOBBC6AyTXJtowXcelHQSSJIDQk6RLbAjoEdB2EDt0duh6q5NIqRGIknZTiQytOji1PBkIAhBonABCV1wd2jAVUyMUBJokgNBZIBDIPwFtB7FDZ4ee/1dFCWeA0EtYdKZcOAIIXbGk2jAVUyMUBNihswYgUHAC2g5ih84OveAvmWJOjx16MevKrMpFAKEr1lsbpmJqhIIAO3TWAAQKTkDbQezQ2aEX/CVTzOmxQy9mXZlVuQggdMV6a8NUTI1QEGCHzhqAQMEJaDuIHTo79IK/ZIo5PXboxawrsyoXgdwIfe3atXLzzTfLk08+KZ988om0adNGjjrqKJk+fbq0a9eupmr33HOPTJo0SVasWCF777239O3bV0aNGiUtW7asV1mfti7LQhumy5i0gYAGAYSuQZEYEMiWgLaDEtmhv//++3LcccdZKV9yySXSvn17Wb9+vSxZskTGjx8vBx10kKU4btw4+c1vfiNnn322nH766fLee+/J5MmT5bTTTpN58+bVIe3T1rVE2jBdx6UdBOISQOhxCdIfAtkT0HaQutCrq6vl6KOPlu3bt8tLL70ku+++e4PUjOD3339/qaqqkscff7ymzcSJE2XYsGFW6Eby5vJp61MibZg+Y9MWAnEIIPQ49OgLgTAIaDtIXegLFy6Uk08+WebOnStnnHGGfP311/Ktb31LWrRoUYegOT6/4oorxLQ/8cQTa3721Vdf2eP5c889Vx544AH77z5tfcqkDdNnbNpCIA4BhB6HHn0hEAYBbQepC33EiBH2WP3FF1+UkSNHyuLFi6VZs2Z21z5hwgTp1auXJTlgwACZMWOGGIHv/H65abtx40b5y1/+4t3Wp0zaMH3Gpi0E4hBA6HHo0RcCYRDQdpC60M855xx7hN62bVv50Y9+JBdeeKGsWbPG3iBn5P3aa69Jly5d5Mwzz7Sy37BhQz2yZnc+f/58+eKLL+zPfNo2ViZzk575r/a1fPly6devnyxdulR69OgRRoXJAgIOBBC6AySaQCBwAsEL/ZRTTpEFCxbYY/fnn3++BufLL79sb5Q7//zz5aGHHrI/N0I1st/5Mne6mzbbtm2zP/Jp21j9zJ3zo0ePbvDHCD3wVU969QggdBYFBPJPIHihm920uaHt/vvvl4svvrgO8Y4dO8rmzZvtx9h8dt0+bdmh53+RM4NoAgg9mhEtIBA6geCFPnDgQPtZ86efftp+/Kz2dcwxx4iZwJYtW3gPPfSVRn5BE4gj9KiJDa06OKoJP4cABBQIBC/0e++9V/r372/vTDf/r32Zz6Oba/Xq1faGOHNj3M53uZsdfOvWrevc5e7T1oexNkyfsWkLgTgEEHocevSFQBgEtB2kflPcp59+aj9fbm58W7RokTRv3tySM8fw5uj8sssuk5kzZ8q6detsuz59+shjjz1WQ3fH59CfeOIJ295cPm19yqQN02ds2kIgDgGEHocefSEQBgFtB6kL3WAyj3IdMmSIvcv9Zz/7mfzzn/+UO++8U1q1amXvKO/QoYOleeutt8p1110n5s742k+KMzfWmSP72pdPW9dSacN0HZd2EIhLAKHHJUh/CGRPQNtBiQjdYJo1a5b93Ll5nOtuu+1mnwg3duxY6dSpUx2K5v128wfA3//+d/ssd/MxN3M3uumz8+XT1qVU2jBdxqQNBDQIIHQNisSAQLYEtB2UmNCzxeQ2ujZMt1FpBYH4BBB6fIZEgEDWBLQdhND5+tSs1zTjN0AgSWFHAecu9yhC/BwCOgQQug5HG0UbpmJqhCo5AYRe8gXA9EtBQNtB7NDZoZfihZO3SSL0vFWMfCHgTwCh+zNrtIc2TMXUCFVyAgi95AuA6ZeCgLaD2KGzQy/FCydvk0ToeasY+ULAnwBC92fGDl2RGaHSIYDQ0+HMKBDIkgBCV6SvDVMxNUKVnABCL/kCYPqlIKDtII7cOXIvxQsnb5NE6HmrGPlCwJ8AQvdnxpG7IjNCpUMAoafDmVEgkCUBhK5IXxumYmqEKjkBhF7yBcD0S0FA20EcuXPkXooXTt4midDzVjHyhYA/AYTuz4wjd0VmhEqHAEJPhzOjQCBLAghdkb42TMXUCFVyAgi95AuA6ZeCgLaDOHLnyL0UL5y8TRKh561i5AsBfwII3Z8ZR+6KzAiVDgGEng5nRoFAlgQQuiJ9bZiKqRGq5AQQeskXANMvBQFtB3HkzpF7KV44eZskQs9bxcgXAv4EELo/M47cFZkRKh0CCD0dzowCgSwJIHRF+towFVMjVMkJIPSSLwCmXwoC2g7iyJ0j91K8cPI2SYSet4qRLwT8CSB0f2YcuSsyI1Q6BBB6OpwZBQJZEkDoivS1YSqmRqiSE0DoJV8ATL8UBLQdxJE7R+6leOHkbZIIPW8VI18I+BNA6P7MOHJXZEaodAgg9HQ4MwoEsiSA0BXpa8NUTI1QJSeA0Eu+AJh+KQhoO4gjd47cS/HCydskEXreKka+EPAngND9mXHkrsiMUOkQQOjpcGYUCGRJAKEr0teGqZgaoUpOAKGXfAEw/VIQ0HYQR+4cuZfihZO3SSL0vFWMfCHgTwCh+zPjyF2RGaHSIYDQ0+HMKBDIkgBCV6SvDVMxNUKVnABCL/kCYPqlIKDtII7cOXIvxQsnb5NE6HmrGPlCwJ8AQvdnxpG7IjNCpUMAoafDmVEgkCUBhK5IXxumYmqEKjkBhF7yBcD0S0FA20EcuXPkXooXTt4midDzVjHyhYA/AYTuz4wjd0VmhEqHAEJPhzOjQCBLAghdkb42TMXUCFVyAgi95AuA6ZeCgLaDOHLnyL0UL5y8TRKh561i5AsBfwII3Z8ZR+6KzAiVDgGEng5nRoFAlgQQuiJ9bZiKqRGq5AQQeskXANMvBQFtB3HkzpF7KV44eZskQs9bxcgXAv4EELo/M47cFZkRKh0CCD0dzowCgSwJIHRF+towFVMjVMkJIPSSLwCmXwoC2g7iyJ0j91K8cPI2SYSet4qRLwT8CSB0f2YcuSsyI1Q6BBB6OpwZBQJZEkDoivS1YSqmRqiSE0DoJV8ATL8UBLQdxJE7R+6leOHkbZIIPW8VI18I+BNA6P7MOHJXZEaodAgg9HQ4MwoEsiSA0BXpa8NUTI1QJSeQpdCj0A+tOjiqCT+HAAQcCGg7iCN3jtwdlh1N0iaA0NMmzngQSJ8AQldkrg1TMTVClZwAQi/5AmD6pSCg7SB26OzQS/HCydskEXreKka+EPAngND9mTXaQxumYmqEKjkBhF7yBZCX6b8wtulMT7wuLzPJJE9tB7FDZ4eeyUJm0KYJIHRWSC4IIPRYZULosfDV7awNUzE1QpWcAEIv+QLIy/QReqxKaTuIHTo79FgLks6VEQhZ2FEz4mNrUYRK9HOEHqvYCD0WPnboivgIFYMAQo8Bj67hEEDosWqB0GPhQ+iK+AgVgwBCjwGPruEQQOixaoHQY+FD6Ir4CBWDAEKPAY+u4RBA6LFqgdBj4UPoivgIFYMAQo8Bj67hEEDosWqRS6EvXLhQTj75ZDvx999/Xw488MAaCJs3b5ZRo0bJH//4R1m/fr392eDBg+Xyyy+vB8qnrQtlbZguY9IGAoYAQmcdFIIAQo9VRm0HJX6X+5YtW6Rbt26yatUq+fLLL+sJ/fTTT5fnnntOfvWrX8lhhx0mTz75pDz++OMybtw4GT58eB1YPm1dKGvDdBmTNhBA6KyBoAjEkXKcvkFByCYZbQclLvSxY8fKHXfcIX379rX/r71Dnzdvnpx55pkyYcIEGTp0aA3Rs88+W+bPny8fffSR7L333vbffdq6lkYbpuu4tIMAO3TWQDAEoqQcJ1GeFNckPW0HJSp0I2Sz677rrrusnEePHl1H6BdddJHMmTNHPvvsM2nZsmXNxF944QU56aSTZMaMGTVH7z5tXdefNkzXcWkHAYTOGgiGAELPrBTaDkpU6GanvW7dOlm8eLGV+c5CP+SQQ2SvvfaSV199tQ5Q8175brvtJgMGDJBp06bZn/m0da2ONkzXcWkHAYTOGgiGAELPrBTaDkpM6OaI3Aj9tddek549e9ob33YW+h577CGnnnqqzJ49ux7Q1q1bS+/evWXu3Ln2Zz5tG6rO2rVrxfxX+1q+fLn069dPli5dKj169MisqAxcPgIIvXw1D3bGCD2z0uRC6GaHffjhh0tVVZVMnz7dwmpI6M2bN5cLLrjA3uG+87Xvvvva4/rnn3/e/sinbUPV2TF+Qz9D6Jmt59IOjNBLW/rwJo7QM6tJLoR+ww03yN133y1/+9vfpG3bto0K3WfX7dOWHXpm65OBHQkgdEdQNEueAEJPnnEjIwQv9DVr1kinTp1kyJAh0r9//5pp3HnnnTJ58mRZsGCBdOzY0bbxeV/cp61rdbRhuo5LOwggdNZAMASSFHrUJEt+F7y2g9TfQ1+2bJl07969yTK2atVKNm3aZD/K9uijjzrd5e7TNmoN7fi5NkzXcWkHAYTOGgiGAELPrBTaDlIX+saNG+1nyHe+HnroIXn44YftLr19+/Zyzjnn2BvezjrrrEY/h/7hhx/KPvvsY0P5tHWtjjZM13FpBwGEzhoIhgBCz6wU2g5SF3pjZBq6Kc60Pe200+wx/KBBg+xNcObuePOkOPNAmmuvvbZOOJ+2LhXShukyJm0gYAggdNZBMAQQemal0HZQ5kL/6quv5KabbpIHH3zQPsu9c+fO9lnu5jPoO18+bV0qpA3TZUzaQAChswaCIoDQMyuHtoNSE3pmxJoYWBtmiHMkpzAJsEMPsy6lzAqhZ1Z2bQch9J49ebBMZsu5vAMj9PLWPriZI/TMSoLQFdFrw1RMjVAFJ4DQC17gPE0PoWdWLW0HsUNnh57ZYi7zwAi9zNUPbO4IPbOCIHRF9NowFVMjVMEJIPSCFzhP00PomVVL20Hs0NmhZ7aYyzwwQi9z9VOee5bCjpoqT4qzX16m9X0iCF0RZtTa5ecQ2EEAobMWUiOA0FND7TsQO3RfYk2014apmBqhCk4AoRe8wCFND6GHVI06uWg7iB06O/RgF3uRE0PoRa5uYHND6IEV5H/pIHTF0mjDVEyNUAUnkGehN1WaoVUHF7xyOZweQg+2aNoOYofODj3YxV7kxBB6kasb2NwQemAFYYeeSEG0/zpKJEmCFpIAQi9kWcOcFEIPsy4iou0gdujs0INd7EVODKEXubqBzQ2hB1YQduiJFET7r6NEkiRoIQkg9EKWNcxJIfQw68IOXbcuCF2XJ9HcCSB0d1a0jEkAoccEmFx3bQdx5M6Re3KrlciNEkDoLA41AiELO2qSPCmOJ8VFrRHXn2v/deQ6Lu0ggNBZA2oEELoayrQDaTuIHTo79LTXMOOJCEJnGagRQOhqKNMOhNAViWvDVEyNUAUngNALXuA0p4fQ06StOpa2g9ihs0NXXaAEcyOA0N040cqBQJ6FHjW9gr/HjtCjFoDHz7VhegxN05ITQOglXwCa00fomjRTjaXtIHbo7NBTXcAM9h8CCJ2VoEYAoauhTDsQQlckrg1TMTVC5ZxAUYUdVRa+nCWKUAI/L7LQm8JVgON4bQexQ2eHnsBvGEIidNZAagQQemqotQdC6IpEtWEqpkaonBNA6DkvYJ7SR+h5qladXLUdxA6dHXpuXwwhJ47QQ65OwXJD6LktKEJXLJ02TMXUCJVzAgg95wXMU/oIPU/VYoeeVLUQelJkiYvQWQOpEUDoqaHWHkjbQRy5c+SuvUaJV+CPpUUVl7vcowhV+POySrspXNzlXo8OQkfoFf6GoVtTBNihsz5UCSD0+jgROkKvTUD7uEP1BUywXBNA6LkuX3jJI3SE7rAq2aGzQ3dYJjTxJYDQfYnRvkkCCB2hO7xEEDpCd1gmNPElUFahR3HiPfYoQo38HKEjdIelg9ARusMyoYkvAYTeMDGE7ruS/tseoSN0h6WD0BG6wzKhiS8BhI7QfdcMR+6exLgprh4whI7QPV9FNHchgNARuss6cW7DDp0dusNiQegI3WGZ0MSXAEJH6L5rhh26JzF26OzQaxPgY2ueLyCaOxNA6AjdebG4NGSHzg7dYZ2wQ2eH7rBMaOJLAKEjdN81ww7dkxg7dHbo7NA9XzQ0r4gAQkfoFS2cxjqxQ2eH7rCg2KGzQ3dYJjTxJYDQEbrvmmGH7kmMHTo7dHboni8amldEAKEj9IoWDjt0d2wIHaEjdPfXCy0rJ4DQEXrlq6eBnhy5c+TusKA4cufI3WGZ0MSXAEJH6L5rhiN3VWIiOdjBa3/SCqEjdOVXEeEMAYSO0FVfCezQ/XEidH9mee6h/ddRnlmQuy4BhI7QVVcUQvfHidD9meW5B0LPc/XCzh2hI3TVFYrQ/XEidH9mee6B0PNcvbBzR+gIXXWFInR/nAjdn1meeyD0PFcv7NwROkJXXaEI3R8nQvdnluceCD3P1Qs7d4SO0FVXKEL3x4nQ/ZnluQdCz3P1ss8dafvXYGjVwf6d6CGC0P1XAUL3Z5bnHgg9z9XLPneE7l8DhO7PzPZA6P7gELo/szz3QOh5rl72uSN0/xogdH9mCL1CZgi9QnA57YbQc1q4QNJG6P6FQOj+zBB6hcwQeoXgctoNoee0cIGkjdD9C4HQG2HGkbr/YorqgdCjCBXr5wi9WPVMezYI3Z84Qkfo/qumwh4IvUJwOe2G0HNauEDSRuj+hUDoCN1/1VTYA6FXCC6n3RB6TgsXSNoI3b8QCB2h+6+aCnsg9ArB5bQbQs9p4QJJG6H7FwKhI3T/VVNhD4ReIbicdkPoOS1cIGkjdP9CIHSE7r9qKuyB0CsEl9NuCD2nhQskbYTuXwiEjtD9V02FPRB6heBqdXvjjTdk1qxZsnDhQvnggw+kVatWcvjhh8t1110np5xySp0Btm/fLuPHj5eZM2fKqlWrpEOHDtK/f38ZPny4NG/evOK2rrNA6K6kaNcQAYTuvy4QOkL3XzUV9ogr9KY+Shg39n+npO2gZtXV1dUV4mqw23nnnScvvfSS/PSnP5UePXrIpk2b5L777pN3331X7r77brnyyitr+l111VUydepUufTSS+XYY4+VxYsX27bm36dMmVInvk9b1/low3Qdl3bFIIDQ/euI0BG6/6qpsEdc6SJ0kUWLFsmRRx4pu+66a00VNm/eLEcccYSsX79e1q1bJ7vssou888470q1bNxk0aJBMmjSppu3gwYNl8uTJ8tZbb0mXLl3sv/u09Sk9QvehRdudCSB0/zVRWqHz4Bj/xZJ0jyjhI/TGK3DNNdfIhAkT5B//+Ic9Wr/++utlzJgxsnLlSjnggANqOppj+k6dOsnIkSPllltusf/u09ZnDSB0H1q0Rejx1wBCj8+QCEoEEHrlIC+88EJ55JFH5PPPP7fvq/fp08fuwj/++ON6Qdu1ayfdu3eXZ555xv7Mp61PhgjdhxZtEXr8NYDQ4zMkghIBhF4ZyOXLl9sj9zPOOENmz55tg5jj9BYtWsjSpUvrBTXvvW/dutUetfu2bSzDtWvXivmv9ht62z4AABQPSURBVGXy6tevn83BjMkFAR8CHLn70PpPW4Tuz4weCRFA6P5gN27cKL169bIyNTvy/fbbzwbp3LmzmJ24uRFu58vcIGfea1+xYoV328YyHDVqlIwePbrBHyN0/7rSQwSh+68ChO7PjB4JEUDofmDNzXDmuPz111+3x+fHH398TQB26H4saR0eAYTuXxOE7s+MHgkRQOjuYLds2SJnnXWW/Tz6nDlz7HF77cvnfXGftu4ZivAeug+t8rVF2Po1R+j6TIlYIQGE7gZu27ZtYj6PPnfuXHnggQfk5z//eb2O5i72sWPHOt3l7tPWLcP/tELoPrTK1xah69ccoeszJWKFBBB6NLhvvvlG+vbtK3/6059kxowZcvnllzfYybyfbu5kb+xz6MuWLZOuXbvavj5tozP8XwuE7kOrfG0Run7NEbo+UyJWSAChR4MbNmyYTJw40b5fbh7juvNVVVVlb4Yz18CBA2X69On2SXG9e/e2D6UxT4obMGCATJs2rU5Xn7bRWbJDd2VU5nYIXb/6CF2fKRErJIDQo8GdcMIJ9tGvjV0vvPCCmDbmMkfz48aNs89yX716tbRv397+ETBixAj7NLnal0/b6CwRuiujMrdD6PrVR+j6TIlYIQGEXiG4QLtx5B5oYQJJC6HrFwKh6zMlYoUEEHqF4ALthtADLUwgaSF0/UIgdH2mRKyQAEKvEFyg3RB6oIUJJC2Erl8IhK7PlIgVEkDoFYILtBtCD7QwgaSF0PULgdD1mRKxQgIIvUJwgXZD6IEWJpC0ELp+IRC6PlMiVkgAoVcILtBuCD3QwgSSFkLXLwRC12dKxAoJIPQKwQXaDaEHWphA0kLo+oVA6PpMiZgBgag/BhxT0nZQs+rq6mrHsQvXTBtm4QCVfEIIXX8BRAk9inlUf/2MlSK+MFYpEGGCIIDQgyhDnSQQeng1STOjKHmkmUtZxooSclRNovoHyxGhB1uaihJD6BVhS7QTQk8Ub/DBo+QR/ARymGCUkKNqEtU/WCQIPdjSVJQYQq8IW6KdEHqieIMPHiWP4CdQwgQRegmLHuKUEXp4VUHo4dUkzYwQepq0dcZC6DociRKTAEKPCTCB7gg9Aag5ConQc1Ss/6aK0PNXs0JmjNDDKytCD68maWaE0NOkrTNWsELnPXKdAuclCkIPr1IIPbyapJkRQk+Tts5YCF2HI1FiEkDoMQEm0B2hJwA1RyEReo6KFfqROzv0/C2mOBkj9Dj0kumL0JPhmpeoCD0vlfpfnuzQ81ezQmaM0MMrK0IPryZpZoTQ06StMxZC1+FIlJgEEHpMgAl0R+gJQM1RSISeo2Jx5J6/YhU5Y4QeXnUReng1STMjhJ4mbZ2x2KHrcCRKTAIIPSbABLoj9ASg5igkQs9Rsdih569YRc4YoYdXXYQeXk3SzAihp0lbZyx26DociRKTAEKPCTCB7gg9Aag5ConQc1Qsduj5K1aRM0bo4VUXoYdXkzQzQuhp0tYZix26DkeixCSA0GMCTKA7Qk8Aao5CIvQcFYsdev6KVeSMEXp41UXo4dUkzYwQepq0dcZih67DkSgxCSD0mAAT6I7QE4Cao5AIPUfFCmGHzuNd87dgksoYoSdFtvK4CL1ydkXoidDzV8VMd+gIPX8LJqmMEXpSZCuPi9ArZ5eXnkg7L5VyyxOhu3GiVcIEEHrCgCsIj9ArgJazLgg9ZwWLSBehF6ueuZ0NQg+vdAg9vJpoZ4TQtYlmGw+hZ8uf0f9LAKGHtxQQeng10c4IoWsTzTYeQs+WP6Mj9GDXAEIPtjRqiSF0NZRBBELoQZSBJNihh7cGEHp4NdHOCKFrE802HkLPlj+js0MPdg0g9GBLo5YYQldDGXygxGXPx9aCXwOpJcgOPTXUzgMhdGdUuW2I0HNbOu/EEbo3MjpUSgChV0ouuX4IPTm2oURG6KFUIvk8EHryjBmBI/dg1wBCD7Y0aokhdDWUwQdC6MGXqDgJskMPr5YIPbyaaGeE0LWJhhsPoYdbm8JlhtDDKylCD68m2hkhdG2i4caLFHrUTW1Rv6Sj+oeLhsy0CUStFcfxtB3UrLq6utpx7MI104ZZOEAFmBBCL0ARHacQW+iO49AMAoLQw1sECD28mmhnhNC1iYYbD6GHW5vCZYbQwyspQg+vJtoZIXRtouHGQ+jh1qZwmSH08EqK0MOriXZGCF2baLjxEHq4tSlcZgg9vJIi9PBqop0RQtcmGm48hB5ubQqXGUIPr6QIPbyaaGeE0LWJhhsPoYdbm8JlhtDDKylCD68m2hkhdG2i4cYbusvscJMjs2IRQOjh1ROhh1cT7YwQujbRcOMh9HBrU7jMEHp4JUXo4dXENyOE7UusuO0RenFrG9zMEHpwJRGEHl5NfDNC6L7EitseoRe3tsHNDKEHVxKEHl5JvDNC6N7ICtsBoRe2tOFNDKGHVxN26OHVxDcjhO5LrLjtEXpxaxvczBB6cCVhhx5eSeplhLBzUKQUUzzmHzMaHa1XpzYpZsJQpSaA0MMrPzv08Gqyc0YIPfwapZkhQk+TNmM1SgChh7c4EHr2NUHY2dcgTxkg9DxVq8C5IvTwiovQs68JQs++BnnKAKHnqVoFzhWhh1dchJ59TRB69jVIM4OmhGzyeHW/K5pMJ6p/U515jz3NShd8LIQeXoERevY1QejZ1yDNDKKEjNDTrAZjVUwAoVeMLrGOCD0xtM6BEbozqkI0ROiFKCOTQOjhrQGEnk5NkHY6nPMwSpTQk5xD1JH7kpUbmhw+qn+SuRM7MAIIPbCCiPA59JRKgtBTAp2DYRB6DopEitEEEHo0o6gW27dvl/Hjx8vMmTNl1apV0qFDB+nfv78MHz5cmjdvHtW93s/ZoXsja7ADwtbhWIYoCL0MVS7BHBF6/CJfddVVMnXqVLn00kvl2GOPlcWLF8t9990n5t+nTJniPQBC90aG0HWQFTZKlsKOghp1ZM6RexRBfl5DAKHHWwzvvPOOdOvWTQYNGiSTJk2qCTZ48GCZPHmyvPXWW9KlSxevQRC6Gy524G6caCUSstDj1ifqD4K48emfIwIIPV6xrr/+ehkzZoysXLlSDjjggJpgH3zwgXTq1ElGjhwpt9xyi9cgCP0/uBC217KhcRMEEDrLoxQEEHq8Mvfp08fuwj/++ON6gdq1ayfdu3eXZ555xmuQMgkdaXstDafGceQV9XlrpwQqbBQn7wqHLHy3qN07x/kFWwIIPV5BzXF6ixYtZOnSpfUC9ejRQ7Zu3SrmWL6xa+3atWL+q30tW7ZMLrvsMpk1a5Yceuih8RJMuPcDr37U5AgXHbN/kz+P6p9w+oUM3+XjOYnN653vnltx7CTzqjipgnfs+v3vNDnDt/+5scmfR/UvOL78Te//fqmS8/Lly6Vfv37yyiuvSO/evWPHbFZdXV0dO0oKATp37ixmJ25uhNv5MjfIrVu3TlasWNFoJqNGjZLRo0enkClDQAACEIAABNwJmE3lRRdd5N6hkZa5EXoSO/R//etfYv5CMsf1LVu2jA0zxAA7/gLMwylECPzg5VcFeLnzgpU7K9OyDLw2b94sH374oZi3lNu2besHqIHWuRF6Eu+hx6aXgwBluk9Aoxzw8qMIL3desHJnZVrCy4+XaZ0boZu72MeOHat6l7s/rvz14EXhVzN4wcuPgHtr1pY7K4Tux2pH69wI3dzhbo7GG/scurnBrWvXrpVRKHAvfon4FRde8PIj4N6ateXOCqH7scqd0E3CAwcOlOnTp9snxZk7AhctWmSfFDdgwACZNm1aZQQK3otfIn4Fhhe8/Ai4t2ZtubNC6H6scin0bdu2ybhx4+yz3FevXi3t27e3z3IfMWKE7LLLLpURKHgv81E980eQ+aPne9/7XsFnG3968PJjCC93XrByZ2VawsuPl2mdmyN3/6nRAwIQgAAEIFAeAgi9PLVmphCAAAQgUGACCL3AxWVqEIAABCBQHgIIvTy1ZqYQgAAEIFBgAgi9wMX1mdpdd91lPzFgnofft29fuf/+++t0//zzz+WKK66Qp59+Wvbcc08x335nvoee6z8EzNOerr76almyZIm9QfP000+3X+u7++67g6gRAg8//LB9HLP5xkTzlKyJEyfKuedW/gz7MoDesGGDHHLIIXLggQfKq6++WoYpe8/x3//+t/3d9Pzzz8tnn31mv53TrLOf/OQn3rHy1gGh561iCeU7Z84cad68uTz55JOyZcuWekI3XyDw1Vdfye9//3v7zPxTTjlFHnnkETnxxBMTyihfYU899VT7XQMzZswQ8zjHc845R3r16iW33XZbviaSUrYLFiyQSy65RB588EEx38VgRPXFF1/Yr0LmapyAYfbRRx/ZNYbQG+b05Zdfyvjx4+362m+//eTZZ5+V8847zz55zvwxVOQLoRe5uhXM7dprr7VfUVt7h25eIK1bt5Y333xTDjvsMBv1mmuusV+I84c//KGCUYrX5aCDDpJJkybJj3/8Yzu53/3ud7Jw4UL7BxJXfQJG4uZ5Epdffjl4HAm8+OKLcuONN8ovf/lL+1FUhO4ITkTMN3Ka31kaX4DiPmr6LRF6+swbHHHTpk1y++2326+HfeONN6xUL7744no75R2dt2/fbv8KNZ/JX7VqlXTo0MF+Jn/48OF2p13p1ZDQjciPPvpou3PfcRmRT5gwwUo+hCtrflOmTLHH7eYXrTnJMMd75q2LUN+WyJKXWbvmy5DMMei9995reVVVVckdd9whe+21VwjLqV4OWfIyyZhj5J49e9oTDfM7wjxIK2ShZ82rdgE//fRTu1M339R5xBFHBLm+tJJC6FokY8Yx78Ga93rMw1/MC3fevHlNCt2IYurUqXaXY3Y7ZrGa98DNvxu5VHo1JPSXX37ZCsq8MHZcc+fOlaFDhzb5lbWV5lBJv6z5vfvuu/aIzzyC2AjrjDPOkMceeyzWH1eVcHDtkyWvNWvWyPe//337y9WsI3OfgfnjZ++997Zv6YR4ZcnL8DBf/2zekjAnP+b0LHShZ81rxxoyDyMz97OY36s73xcU4jqLmxNCj0tQqb/5C9wI0/yiM4vw29/+dqNCNzeudevWrdHn2pvn3puvmzWXea/bvF/Z0LX//vvbm7lqX647dPN1rOaXSyg79Cz5GYEblub42PAzb1GY0xLznrr5oyvEK0te5gZLsxM3p0uXXXaZxWMe42zuO1i/fn2IuOwOOavX5/vvvy+nnXaamNe1+eMnD0LPkteOBfTNN9/IL37xC1s384djixYtglxbmkkhdE2aSrGihG7uMB8zZkwi3zzX1HvoZvd56KGH2ln++te/lk8++STI99DT5md+YZjdpfl/mzZtLB9zwjJkyJBgTjCaWppp8zK5mCNQs+s07wfnQei1+aXNywjcfI/Fjk9MGFl+/fXX8p3vfMfeINeqVSul3zzJhEmbl5lFdXW1XVsrV660n8zZbbfdkplcYFERemAFMelEvQCS+G54M6b5z9x0Y96/v+eee+xxsTkpMJe5mcT8IjHH+uZFcvLJJ8tDDz0kJ510UnAEs+DXuXNn+wvEfK+AeU/Y7DzNL5XZs2cHx2fnhLLgdfPNN9u3JJ566ikrJHPkvs8++9j31EO/0uZl1pP5+NWOy3zcz9zD8sQTT9gTvWbNmgWNLG1eBob5A8hsQObPny977LFH0Hw0k0PomjSVYkW9AMxxujk+MjfH7HyZuzm3bt1qP0/uc5ndkrlJqfZV+6Y8c0xqjpR3fA79hhtuCPaGryz4vf3223ZHbt6CMH8IHX/88fZz6Pvuu69PGTJpmwUvM+awYcPEvHWz43P75lMC5hkHoV9Z8KrNJA9H7rXzTZuXObXo2LGj7LrrrnW+tGvkyJFi/ivyhdADrG7UC8DsBs37s+ZGuJ0vc4Oc+TiZ+ax4WS/4+VUeXvDyI+DXmvXlxytOa4Qeh15CfaNeAEns0BOaSiZh4eeHHV7w8iPg15r15ccrTmuEHodeQn2jXgBJvIee0FQyCQs/P+zwgpcfAb/WrC8/XnFaI/Q49BLqG/UCMO8DjR07NpG73BOaUqph4eeHG17w8iPg15r15ccrTmuEHodeQn2jXgDm86jdu3dv9HPo5u7Orl27JpRd+GHh51cjeMHLj4Bfa9aXH684rRF6HHrKfc03npm7yc0DEW666SYr7R3fPnXWWWfVkbT5WIZ5zKh5Ulzv3r3tgznMR8oGDBhgnyJVxgt+flWHF7z8CPi1Zn358dJojdA1KCrFMB+1MB+5aOgysjaPFt1xmb96x40bZ5+2tXr1amnfvr19Opn5HLT5GFAZL/j5VR1e8PIj4Nea9eXHS6M1QtegSAwIQAACEIBAxgQQesYFYHgIQAACEICABgGErkGRGBCAAAQgAIGMCSD0jAvA8BCAAAQgAAENAghdgyIxIAABCEAAAhkTQOgZF4DhIQABCEAAAhoEELoGRWJAAAIQgAAEMiaA0DMuAMNDAAIQgAAENAggdA2KxIAABCAAAQhkTAChZ1wAhocABCAAAQhoEEDoGhSJAQEIQAACEMiYAELPuAAMDwEIQAACENAggNA1KBIDAhCAAAQgkDEBhJ5xARgeAhCAAAQgoEEAoWtQJAYEIAABCEAgYwIIPeMCMDwEIAABCEBAgwBC16BIDAhAAAIQgEDGBBB6xgVgeAhAAAIQgIAGAYSuQZEYEIAABCAAgYwJIPSMC8DwEIAABCAAAQ0CCF2DIjEgAAEIQAACGRNA6BkXgOEhAAEIQAACGgQQugZFYkAAAhCAAAQyJoDQMy4Aw0MAAhCAAAQ0CCB0DYrEgAAEIAABCGRMAKFnXACGhwAEIAABCGgQQOgaFIkBAQhAAAIQyJjA/wMZUpDl+fwMZQAAAABJRU5ErkJggg==\" width=\"400\">"
      ],
      "text/plain": [
       "<IPython.core.display.HTML object>"
      ]
     },
     "metadata": {},
     "output_type": "display_data"
    }
   ],
   "source": [
    "fig, ax = plt.subplots(figsize=(4, 3))\n",
    "ax.hist(abs(nd_F_0_ao.ravel() - (F_1_ao + F_U_ao).ravel()), bins=np.logspace(np.log10(1e-11), np.log10(1e-1), 50), alpha=0.5)\n",
    "ax.hist(abs(nd_F_0_ao.ravel()), bins=np.logspace(np.log10(1e-11), np.log10(1e-1), 50), alpha=0.5)\n",
    "ax.set_xscale(\"log\")\n",
    "fig.tight_layout()"
   ]
  },
  {
   "cell_type": "markdown",
   "metadata": {
    "heading_collapsed": true
   },
   "source": [
    "### Fock 矩阵导数 (3) 分子轨道下的 A 张量"
   ]
  },
  {
   "cell_type": "markdown",
   "metadata": {
    "hidden": true
   },
   "source": [
    "但一般的量化程序、以及 pyxdh 程序中，通常不使用上述的 `A_0_ao` $A_{\\mu \\nu, \\kappa \\lambda}$ 张量进行实际的量化计算；取而代之的是对任意矩阵 $X_{rs}$，计算 $A_{pq, rs} X_{rs}$。在此之前，我们先需要介绍一下分子轨道下的 A 张量 $A_{pq, rs}$。\n",
    "\n",
    "张量 `A_0_mo` $A_{pq, rs}$ 定义如下：\n",
    "\n",
    "$$\n",
    "A_{pq, rs} = C_{\\mu p} C_{\\nu q} A_{\\mu \\nu, \\kappa \\lambda} C_{\\kappa r} C_{\\lambda s}\n",
    "$$\n",
    "\n",
    "这个定义与 ERI 积分有些相似。"
   ]
  },
  {
   "cell_type": "code",
   "execution_count": 23,
   "metadata": {
    "hidden": true
   },
   "outputs": [
    {
     "data": {
      "text/plain": [
       "(22, 22, 22, 22)"
      ]
     },
     "execution_count": 23,
     "metadata": {},
     "output_type": "execute_result"
    }
   ],
   "source": [
    "A_0_mo = np.einsum(\"up, vq, uvkl, kr, ls -> pqrs\", C, C, A_0_ao, C, C)\n",
    "A_0_mo.shape"
   ]
  },
  {
   "cell_type": "markdown",
   "metadata": {
    "hidden": true
   },
   "source": [
    "引入该张量的缘由是我们会经常处理对分子轨道下 $F_{pq}$ 的导数 (Yamaguchi, p409, N.1)：\n",
    "\n",
    "$$\n",
    "\\frac{\\partial F_{pq}}{\\partial {A_t}} = F_{pq}^{A_t} + A_{pq, mi} U_{mi}^{A_t} + F_{pm} U_{mq}^{A_t} + F_{mq} U_{mp}^{A_t}\n",
    "$$"
   ]
  },
  {
   "cell_type": "markdown",
   "metadata": {
    "hidden": true
   },
   "source": [
    "<div class=\"alert alert-info\">\n",
    "\n",
    "**任务 (3)**\n",
    "\n",
    "证明上述等式。\n",
    "\n",
    "</div>"
   ]
  },
  {
   "cell_type": "markdown",
   "metadata": {
    "hidden": true
   },
   "source": [
    "<div class=\"alert alert-info\">\n",
    "\n",
    "**任务 (4)**\n",
    "\n",
    "用程序求取 $\\partial_{A_t} F_{pq}$ 的解析导数；并通过求出数值导数，来验证你的解析导数是否正确。你应当需要 `grad_nr.U_1` 来表示 U 矩阵 $U_{pq}^{A_t}$。\n",
    "\n",
    "</div>"
   ]
  },
  {
   "cell_type": "markdown",
   "metadata": {
    "heading_collapsed": true
   },
   "source": [
    "### A 张量 (1) pyxdh 程序说明"
   ]
  },
  {
   "cell_type": "markdown",
   "metadata": {
    "hidden": true
   },
   "source": [
    "但对于 RHF (特别是 GGA) 方法而言，在内存中储存四维度的张量一般要尽力避免，因此通常会设计一个函数用于计算 $A_{pq, mi} U_{mi}^{A_t}$。在 pyxdh 中，这样一个函数是 `Ax0_Core`。\n",
    "\n",
    "举一个例子。现在对于末尾两个维度是 $(n_\\mathrm{MO}, n_\\mathrm{MO})$ 的任意张量 (数值上或维度大小上，我们不妨定义为与 $U_{pq}^{A_t}$ 具有相同维度) `X` $X_{rs}^{A_t}$，我们可以用下述代码求出 `AX` $A_{pq, rs} X_{rs}^{A_t}$："
   ]
  },
  {
   "cell_type": "code",
   "execution_count": 24,
   "metadata": {
    "hidden": true
   },
   "outputs": [],
   "source": [
    "X = np.random.randn(natm, 3, nao, nao)"
   ]
  },
  {
   "cell_type": "code",
   "execution_count": 25,
   "metadata": {
    "hidden": true
   },
   "outputs": [
    {
     "data": {
      "text/plain": [
       "(4, 3, 22, 22)"
      ]
     },
     "execution_count": 25,
     "metadata": {},
     "output_type": "execute_result"
    }
   ],
   "source": [
    "Ax0_Core = gradh.Ax0_Core\n",
    "AX = Ax0_Core(sa, sa, sa, sa)(X)\n",
    "AX.shape"
   ]
  },
  {
   "cell_type": "markdown",
   "metadata": {
    "hidden": true
   },
   "source": [
    "我们能发现，该结果可以用 `A_0_mo` 一样能导出："
   ]
  },
  {
   "cell_type": "code",
   "execution_count": 26,
   "metadata": {
    "hidden": true
   },
   "outputs": [
    {
     "data": {
      "text/plain": [
       "True"
      ]
     },
     "execution_count": 26,
     "metadata": {},
     "output_type": "execute_result"
    }
   ],
   "source": [
    "np.allclose(\n",
    "    np.einsum(\"pqrs, Atrs -> Atpq\", A_0_mo, X),\n",
    "    AX\n",
    ")"
   ]
  },
  {
   "cell_type": "markdown",
   "metadata": {
    "hidden": true
   },
   "source": [
    "现在我们详细讲讲 `Ax0_Core` 的使用。首先，`Ax0_Core` 本身是一个嵌套函数，它的输入是四个分割 (slice)，输出是一个函数，姑且称它为 `fx`："
   ]
  },
  {
   "cell_type": "code",
   "execution_count": 27,
   "metadata": {
    "hidden": true
   },
   "outputs": [
    {
     "data": {
      "text/plain": [
       "<function pyxdh.DerivOnce.deriv_once_scf.DerivOnceSCF.Ax0_Core.<locals>.fx(X_)>"
      ]
     },
     "execution_count": 27,
     "metadata": {},
     "output_type": "execute_result"
    }
   ],
   "source": [
    "Ax0_Core(sa, sa, sa, sa)"
   ]
  },
  {
   "cell_type": "markdown",
   "metadata": {
    "hidden": true
   },
   "source": [
    "函数 `fx` 的输入是除最后两维度外任意维度的张量，输出是 A 张量缩并后的结果。"
   ]
  },
  {
   "cell_type": "markdown",
   "metadata": {
    "hidden": true
   },
   "source": [
    "随后我们说明这四个分割的意义。对于 `Ax0_Core(sa, sa, sa, sa)`，四个分割都是全轨道分割，意味着我们使用的张量是 $A_{pq, rs}$。但若针对 $A_{pq, mi} U_{mi}^{A_t}$ 而言，最后一个角标所代表的分割应当是占据轨道，因此 $A_{pq, mi} U_{mi}^{A_t}$ 在程序中应当表示为 `AU_nr`"
   ]
  },
  {
   "cell_type": "code",
   "execution_count": 28,
   "metadata": {
    "hidden": true
   },
   "outputs": [
    {
     "data": {
      "text/plain": [
       "(4, 3, 22, 22)"
      ]
     },
     "execution_count": 28,
     "metadata": {},
     "output_type": "execute_result"
    }
   ],
   "source": [
    "AU_nr = Ax0_Core(sa, sa, sa, so)(to_natm_3(gradh_nr.U_1)[:, :, :, so])\n",
    "AU_nr.shape"
   ]
  },
  {
   "cell_type": "markdown",
   "metadata": {
    "hidden": true
   },
   "source": [
    "我们以后还会经常遇到类似于 $A_{ai, bj} U_{bj}^{A_t}$ 的情况；对于这类张量缩并，我们需要用相应的轨道分割："
   ]
  },
  {
   "cell_type": "code",
   "execution_count": 29,
   "metadata": {
    "hidden": true
   },
   "outputs": [
    {
     "data": {
      "text/plain": [
       "(4, 3, 13, 9)"
      ]
     },
     "execution_count": 29,
     "metadata": {},
     "output_type": "execute_result"
    }
   ],
   "source": [
    "AU_nr = Ax0_Core(sv, so, sv, so)(to_natm_3(gradh_nr.U_1)[:, :, sv, so])\n",
    "AU_nr.shape"
   ]
  },
  {
   "cell_type": "markdown",
   "metadata": {
    "heading_collapsed": true
   },
   "source": [
    "### A 张量 (2) PySCF 程序说明"
   ]
  },
  {
   "cell_type": "markdown",
   "metadata": {
    "hidden": true
   },
   "source": [
    "在 pyxdh 的后期版本中，$A_{pq, rs} X_{rs}^\\mathbb{A}$ 的实现是直接依靠 PySCF 的程序 `_gen_rhf_response` 实现的。该函数也是一个嵌套函数，其输出定义为 `resp`："
   ]
  },
  {
   "cell_type": "code",
   "execution_count": 30,
   "metadata": {
    "hidden": true
   },
   "outputs": [
    {
     "data": {
      "text/plain": [
       "<function pyscf.scf._response_functions._gen_rhf_response.<locals>.vind(dm1)>"
      ]
     },
     "execution_count": 30,
     "metadata": {},
     "output_type": "execute_result"
    }
   ],
   "source": [
    "from pyscf.scf._response_functions import _gen_rhf_response\n",
    "resp = _gen_rhf_response(gradh.scf_eng, mo_coeff=C, mo_occ=gradh.mo_occ, hermi=0)\n",
    "resp"
   ]
  },
  {
   "cell_type": "markdown",
   "metadata": {
    "hidden": true
   },
   "source": [
    "`resp` 是一个通过输入矩阵可以输出计算结果的函数；它的实际作用是生成\n",
    "\n",
    "$$\n",
    "\\mathtt{resp}_{\\mu \\nu} [X_{\\kappa \\lambda}^\\mathbb{A}] = \\big( (\\mu \\nu | \\kappa \\lambda) - \\frac{1}{2} (\\mu \\kappa| \\nu \\lambda) \\big) X_{\\kappa \\lambda}^\\mathbb{A}\n",
    "$$\n",
    "\n",
    "但要求输入的 $X_{\\mu \\nu}^\\mathbb{A}$ 的维度必须是 $(\\mathbb{A}, \\kappa, \\lambda)$ 即必须是三维张量："
   ]
  },
  {
   "cell_type": "code",
   "execution_count": 31,
   "metadata": {
    "hidden": true
   },
   "outputs": [],
   "source": [
    "X = np.random.randn(5, nao, nao)"
   ]
  },
  {
   "cell_type": "code",
   "execution_count": 32,
   "metadata": {
    "hidden": true
   },
   "outputs": [
    {
     "data": {
      "text/plain": [
       "True"
      ]
     },
     "execution_count": 32,
     "metadata": {},
     "output_type": "execute_result"
    }
   ],
   "source": [
    "np.allclose(\n",
    "    resp(X),\n",
    "    + np.einsum(\"uvkl, Akl -> Auv\", eri0_ao, X)\n",
    "    - 0.5 * np.einsum(\"ukvl, Akl -> Auv\", eri0_ao, X)\n",
    ")"
   ]
  },
  {
   "cell_type": "markdown",
   "metadata": {
    "hidden": true
   },
   "source": [
    "依靠该函数，我们就可以计算 $A_{pq, mi} U_{mi}^{A_t}$ 了。"
   ]
  },
  {
   "cell_type": "markdown",
   "metadata": {
    "hidden": true
   },
   "source": [
    "<div class=\"alert alert-info\">\n",
    "\n",
    "**任务 (5)**\n",
    "\n",
    "利用上面提及的 $\\mathtt{resp}_{\\mu \\nu} [X_{\\kappa \\lambda}^\\mathbb{A}]$，用程序求出 $A_{pq, mi} U_{mi}^{A_t}$ 并作验证；该式对 $m, i$ 角标求和。\n",
    "\n",
    "</div>"
   ]
  },
  {
   "cell_type": "markdown",
   "metadata": {
    "hidden": true
   },
   "source": [
    "最后我们指出，pyxdh 中的 `resp` 事实上是通过在 `_gen_rhf_response` 引入了参数 `hermi=1` 而非上面提到的 `hermi=0`；但这不影响我们这里的讨论。"
   ]
  },
  {
   "cell_type": "markdown",
   "metadata": {},
   "source": [
    "## 解析 U 矩阵与 CP-HF 方程"
   ]
  },
  {
   "cell_type": "markdown",
   "metadata": {
    "heading_collapsed": true
   },
   "source": [
    "### 分子轨道 Fock 矩阵导数与 U 矩阵"
   ]
  },
  {
   "cell_type": "markdown",
   "metadata": {
    "hidden": true
   },
   "source": [
    "这一段中大部分时候所提及的 U 矩阵是未经“轨道旋转”的 U 矩阵 $U_{pq}^\\mathbb{A}$。推导的具体细节可以参考 Yamaguchi 的书；我们也会在任务中作补充。"
   ]
  },
  {
   "cell_type": "markdown",
   "metadata": {
    "hidden": true
   },
   "source": [
    "我们先回顾一下 Fock 矩阵全导数 (Yamaguchi, p433, W.1)：\n",
    "\n",
    "$$\n",
    "\\frac{\\partial F_{pq}}{\\partial \\mathbb{A}} = F_{pq}^\\mathbb{A} + A_{pq, mi} U_{mi}^\\mathbb{A} + F_{pm} U_{mq}^\\mathbb{A} + F_{mq} U_{mp}^\\mathbb{A}\n",
    "$$"
   ]
  },
  {
   "cell_type": "markdown",
   "metadata": {
    "hidden": true
   },
   "source": [
    "我们知道，对于 Canonical 的 Fock 矩阵，有 $F_{pq} = \\varepsilon_p \\delta_{pq}$；因此，\n",
    "\n",
    "$$\n",
    "\\frac{\\partial F_{pq}}{\\partial \\mathbb{A}} = F_{pq}^\\mathbb{A} - S_{pq}^\\mathbb{A} \\varepsilon_q - \\frac{1}{2} A_{pq, kl} S_{kl}^\\mathbb{A} + A_{pq, bj} U_{bj}^\\mathbb{A} + (\\varepsilon_p - \\varepsilon_q) U_{pq}^\\mathbb{A}\n",
    "$$"
   ]
  },
  {
   "cell_type": "markdown",
   "metadata": {
    "hidden": true
   },
   "source": [
    "<div class=\"alert alert-info\">\n",
    "\n",
    "**任务 (6)**\n",
    "\n",
    "请证明上述等式，并用 `gradh_nr.U_1` 作为 $U_{pq}^{A_t}$，来验证当被求导量 $\\mathbb{A}$ 为原子核坐标分量 $A_t$ 时，上述等式的正确性。\n",
    "\n",
    "</div>"
   ]
  },
  {
   "cell_type": "markdown",
   "metadata": {
    "hidden": true
   },
   "source": [
    "我们作补充定义上式中与 U 矩阵无关的所有项之和 `B_1` $B_{pq}^{A_t}$ (Yamaguchi, p437, X.3)：\n",
    "\n",
    "$$\n",
    "B_{pq}^\\mathbb{A} = F_{pq}^\\mathbb{A} - S_{pq}^\\mathbb{A} \\varepsilon_q - \\frac{1}{2} A_{pq, kl} S_{kl}^\\mathbb{A}\n",
    "$$"
   ]
  },
  {
   "cell_type": "code",
   "execution_count": 33,
   "metadata": {
    "hidden": true
   },
   "outputs": [],
   "source": [
    "B_1 = (\n",
    "    + F_1_mo\n",
    "    - np.einsum(\"Atpq, q -> Atpq\", S_1_mo, e)\n",
    "    - 0.5 * Ax0_Core(sa, sa, so, so)(S_1_mo[:, :, so, so])\n",
    ")"
   ]
  },
  {
   "cell_type": "markdown",
   "metadata": {
    "hidden": true
   },
   "source": [
    "在 pyxdh 中也有 `B_1` property 来实现 $B_{pq}^{A_t}$："
   ]
  },
  {
   "cell_type": "code",
   "execution_count": 34,
   "metadata": {
    "hidden": true
   },
   "outputs": [
    {
     "data": {
      "text/plain": [
       "True"
      ]
     },
     "execution_count": 34,
     "metadata": {},
     "output_type": "execute_result"
    }
   ],
   "source": [
    "np.allclose(B_1.ravel(), gradh.B_1.ravel())"
   ]
  },
  {
   "cell_type": "markdown",
   "metadata": {
    "hidden": true
   },
   "source": [
    "那么\n",
    "\n",
    "$$\n",
    "\\frac{\\partial F_{pq}}{\\partial \\mathbb{A}} = B_{pq}^\\mathbb{A} + A_{pq, bj} U_{bj}^\\mathbb{A} + (\\varepsilon_p - \\varepsilon_q) U_{pq}^\\mathbb{A}\n",
    "$$"
   ]
  },
  {
   "cell_type": "markdown",
   "metadata": {
    "heading_collapsed": true
   },
   "source": [
    "### 非占-占据 U 矩阵 $U_{ai}^\\mathbb{A}$：PySCF 库函数求解"
   ]
  },
  {
   "cell_type": "markdown",
   "metadata": {
    "hidden": true
   },
   "source": [
    "根据 Canonical RHF 的定义，$F_{pq} = \\varepsilon_{p} \\delta_{pq}$；因而，非占-占据部分的 $F_{ai} = 0$。那么 (Yamaguchi, p437, X.1)\n",
    "\n",
    "$$\n",
    "- (\\varepsilon_a - \\varepsilon_i) U_{ai}^\\mathbb{A} - A_{ai, bj} U_{bj}^\\mathbb{A} = B_{ai}^\\mathbb{A}\n",
    "$$\n",
    "\n",
    "上式也称为 CP-HF 方程 (Coupled Perturbed Hartree-Fock Equation)，我们可以通过该式求出解析的 $U_{pq}^\\mathbb{A}$；其中上式对 $b, j$ 两个角标求和。我们需要对 CP-HF 方程有一定的掌握。"
   ]
  },
  {
   "cell_type": "markdown",
   "metadata": {
    "hidden": true
   },
   "source": [
    "<div class=\"alert alert-info\">\n",
    "\n",
    "**演示 (1) 矩阵求逆求解 CP-HF 方程**\n",
    "\n",
    "我们将会通过矩阵求逆的方法，从程序上获得解析的 $U_{ai}^{A_t}$；并与 `grad_nr.U_1` 或 `grad.U_1` 作核对。\n",
    "\n",
    "</div>"
   ]
  },
  {
   "cell_type": "markdown",
   "metadata": {
    "hidden": true
   },
   "source": [
    "但如之前所述，在一般的量化程序中，RHF 方法或 GGA 方法不适合在内存中储存四维度的张量。同时，如果对 $A_{ai, bj}$ 当作矩阵进行求逆的话，其计算消耗是处在 $O(o^3 v^3)$ 量级，是不可接受的；因此，演示 (1) 中的方法不被一般量化程序所接受。\n",
    "\n",
    "在 pyxdh 中，求取 CP-HF 方程的方式仅仅是借用了 PySCF 的 CP-HF 程序 `cphf.solve`。"
   ]
  },
  {
   "cell_type": "code",
   "execution_count": 35,
   "metadata": {
    "hidden": true
   },
   "outputs": [
    {
     "data": {
      "text/plain": [
       "<function pyscf.scf.cphf.solve(fvind, mo_energy, mo_occ, h1, s1=None, max_cycle=20, tol=1e-09, hermi=False, verbose=2)>"
      ]
     },
     "execution_count": 35,
     "metadata": {},
     "output_type": "execute_result"
    }
   ],
   "source": [
    "from pyscf.scf import cphf\n",
    "cphf.solve"
   ]
  },
  {
   "cell_type": "markdown",
   "metadata": {
    "hidden": true
   },
   "source": [
    "其参数中，\n",
    "\n",
    "- `fvind` 表示的是用于求取 $A_{ai, bj} U_{bj}^\\mathbb{A}$ 的张量缩并函数，但要求 $U_{bj}^\\mathbb{A}$ 必须是三维度而不能更高，即不能直接传入 $(A, t, b, j)$ 维度的 U 矩阵而要传入 $(A_t, b, j)$ 维度；\n",
    "\n",
    "- `mo_energy` 表示分子轨道能量 $e_p$；\n",
    "\n",
    "- `mo_occ` 表示分子轨道占据数 (在 RHF 中占据轨道为 2，非占轨道为 0)；\n",
    "\n",
    "- `h1` 表示 CP-HF 方程等式等式右，即 $B_{ai}^\\mathbb{A}$；注意它是 $B_{pq}^\\mathbb{A}$ 在非占-占据的子张量，并且必须是 $(\\mathbb{A}, a, i)$ 维度而不能是 $(A, t, a, i)$ 维度；\n",
    "\n",
    "- `s1` 表示是否额外引入 $S_{pq}^\\mathbb{A}$；但引入 `s1` 可能会使得程序输出较为复杂，pyxdh 中以及以后我们都不会引入该参数\n",
    "\n",
    "其余的参数就不多作说明了。对于核坐标梯度，我们可以通过下述代码得到 $U_{ai}^{A_t}$：(留意到我们降低了 CP-HF 方程的收敛阈值；这是为了可以与 pyxdh 的结果能通过 np.allclose；pyxdh 默认的 CP-HF 方程的收敛阈值是 $10^{-6}$，比 PySCF 阈值要低很多)"
   ]
  },
  {
   "cell_type": "code",
   "execution_count": 36,
   "metadata": {
    "hidden": true
   },
   "outputs": [],
   "source": [
    "U_1_ai = cphf.solve(\n",
    "    Ax0_Core(sv, so, sv, so, in_cphf=True),\n",
    "    e,\n",
    "    gradh.scf_eng.mo_occ,\n",
    "    B_1[:, :, sv, so].reshape(natm * 3, nvir, nocc),\n",
    "    tol=1e-6,\n",
    ")[0].reshape(natm, 3, nvir, nocc)"
   ]
  },
  {
   "cell_type": "markdown",
   "metadata": {
    "hidden": true
   },
   "source": [
    "我们可以验证，它与 pyxdh 中的 U 矩阵近乎一致："
   ]
  },
  {
   "cell_type": "code",
   "execution_count": 37,
   "metadata": {
    "hidden": true
   },
   "outputs": [
    {
     "data": {
      "text/plain": [
       "True"
      ]
     },
     "execution_count": 37,
     "metadata": {},
     "output_type": "execute_result"
    }
   ],
   "source": [
    "np.allclose(U_1_ai.ravel(), gradh.U_1[:, sv, so].ravel())"
   ]
  },
  {
   "cell_type": "markdown",
   "metadata": {
    "hidden": true
   },
   "source": [
    "由于 U 矩阵中，其非占-占据分块 $U_{ai}^\\mathbb{A}$ 的使用频率最高，因此它也会被特例地储存在 `U_1_vo` property 中。"
   ]
  },
  {
   "cell_type": "code",
   "execution_count": 38,
   "metadata": {
    "hidden": true
   },
   "outputs": [
    {
     "data": {
      "text/plain": [
       "True"
      ]
     },
     "execution_count": 38,
     "metadata": {},
     "output_type": "execute_result"
    }
   ],
   "source": [
    "np.allclose(U_1_ai.ravel(), gradh.U_1_vo.ravel())"
   ]
  },
  {
   "cell_type": "markdown",
   "metadata": {
    "hidden": true
   },
   "source": [
    "<div class=\"alert alert-info\">\n",
    "\n",
    "**演示 (2) Newton-Krylov 求解 CP-HF 方程**\n",
    "\n",
    "CP-HF 方程的求解可以看作是非线性方程的求解。我们将使用 SciPy 的 `scipy.optimize.newton_krylov`，求解 CP-HF 方程。\n",
    "\n",
    "</div>"
   ]
  },
  {
   "cell_type": "markdown",
   "metadata": {
    "hidden": true
   },
   "source": [
    "<div class=\"alert alert-info\">\n",
    "\n",
    "**演示 (3) CP-HF 方程求解效率与精度**\n",
    "\n",
    "CP-HF 方程的求解是一个数值过程，伴随着收敛过程。因此，CP-HF 方程的求解存在着精度和效率问题。\n",
    "\n",
    "我们将会展示与对比矩阵求逆、PySCF 库函数、SciPy 库函数三种方法的精度与效率。\n",
    "\n",
    "</div>"
   ]
  },
  {
   "cell_type": "markdown",
   "metadata": {
    "heading_collapsed": true
   },
   "source": [
    "### 占据-非占 U 矩阵 $U_{ia}^\\mathbb{A}$"
   ]
  },
  {
   "cell_type": "markdown",
   "metadata": {
    "hidden": true
   },
   "source": [
    "根据\n",
    "\n",
    "$$\n",
    "S_{ai}^\\mathbb{A} + U_{ai}^\\mathbb{A} + U_{ia}^\\mathbb{A} = 0\n",
    "$$\n",
    "\n",
    "的关系，我们很容易地给出\n",
    "\n",
    "$$\n",
    "U_{ia}^\\mathbb{A} = - S_{ai}^\\mathbb{A} - U_{ai}^\\mathbb{A}\n",
    "$$\n",
    "\n",
    "我们将 $U_{ia}^{A_t}$ 定义为 `U_1_ia`："
   ]
  },
  {
   "cell_type": "code",
   "execution_count": 39,
   "metadata": {
    "hidden": true
   },
   "outputs": [],
   "source": [
    "U_1_ia = (- S_1_mo[:, :, sv, so] - U_1_ai).swapaxes(-1, -2)"
   ]
  },
  {
   "cell_type": "markdown",
   "metadata": {
    "hidden": true
   },
   "source": [
    "我们也可以验证，它与 pyxdh U 矩阵中对应的部分是完全相等的："
   ]
  },
  {
   "cell_type": "code",
   "execution_count": 40,
   "metadata": {
    "hidden": true
   },
   "outputs": [
    {
     "data": {
      "text/plain": [
       "True"
      ]
     },
     "execution_count": 40,
     "metadata": {},
     "output_type": "execute_result"
    }
   ],
   "source": [
    "np.allclose(U_1_ia.ravel(), gradh.U_1[:, so, sv].ravel())"
   ]
  },
  {
   "cell_type": "markdown",
   "metadata": {
    "heading_collapsed": true
   },
   "source": [
    "### 占据-占据 U 矩阵 $U_{ij}^\\mathbb{A}$ 与非占-非占 $U_{ab}^\\mathbb{A}$ U 矩阵"
   ]
  },
  {
   "cell_type": "markdown",
   "metadata": {
    "hidden": true
   },
   "source": [
    "但我们注意到，我们刚才仅仅是求取了 U 矩阵中的非占-占据部分 $U_{ai}^\\mathbb{A}$。现在我们来处理剩下的矩阵分块。由于占据-占据 $U_{ij}^\\mathbb{A}$ 与非占-非占 $U_{ab}^\\mathbb{A}$ U 矩阵的处理方式是一样的，我们先把重心放在 $U_{ij}^\\mathbb{A}$ 的求取上。"
   ]
  },
  {
   "cell_type": "markdown",
   "metadata": {
    "hidden": true
   },
   "source": [
    "我们再次回顾 $F_{pq}^\\mathbb{A}$ 的全导数。我们利用 $i \\neq j$ 时，$F_{ij} = 0$ 的特性，给出\n",
    "\n",
    "$$\n",
    "- (\\varepsilon_i - \\varepsilon_j) U_{ij}^\\mathbb{A} - A_{ij, bk} U_{bk}^\\mathbb{A} = B_{ij}^\\mathbb{A} \\quad (i \\neq j)\n",
    "$$"
   ]
  },
  {
   "cell_type": "markdown",
   "metadata": {
    "hidden": true
   },
   "source": [
    "我们就会注意到，既然 $U_{bk}^\\mathbb{A}$ 是 U 矩阵的非占-占据部分是已知的，那么上式中唯一未知的量是 $U_{ij}^\\mathbb{A}$。其求取方式也很简单：\n",
    "\n",
    "$$\n",
    "U_{ij}^\\mathbb{A} = - \\frac{B_{ij}^\\mathbb{A} + A_{ij, bk} U_{bk}^\\mathbb{A}}{\\varepsilon_i - \\varepsilon_j} \\quad (i \\neq j)\n",
    "$$"
   ]
  },
  {
   "cell_type": "markdown",
   "metadata": {
    "hidden": true
   },
   "source": [
    "我们将上述矩阵写作 `U_1_oo`：(矩阵维度可能鬼畜了一些 $=\\omega=$)"
   ]
  },
  {
   "cell_type": "code",
   "execution_count": 41,
   "metadata": {
    "hidden": true
   },
   "outputs": [
    {
     "data": {
      "text/plain": [
       "(4, 3, 9, 9)"
      ]
     },
     "execution_count": 41,
     "metadata": {},
     "output_type": "execute_result"
    }
   ],
   "source": [
    "U_1_oo = - (B_1[:, :, so, so] + Ax0_Core(so, so, sv, so)(U_1_ai)) / (eo[:, None] - eo[None, :])\n",
    "U_1_oo.shape"
   ]
  },
  {
   "cell_type": "markdown",
   "metadata": {
    "hidden": true
   },
   "source": [
    "现在我们不妨看一下上述矩阵在索引为 0 的原子的 $x$ 坐标分量的情况："
   ]
  },
  {
   "cell_type": "code",
   "execution_count": 42,
   "metadata": {
    "hidden": true
   },
   "outputs": [
    {
     "data": {
      "text/plain": [
       "array([[    -inf, -0.00061, -0.0003 , -0.00087,  0.00001, -0.01349,  0.00083, -0.00057,  0.00145],\n",
       "       [ 0.00059,      inf,  0.0003 ,  0.00063,  0.00011,  0.00517,  0.00016, -0.00017, -0.00709],\n",
       "       [-0.00006, -0.00004,      inf, -0.02338, -0.00143, -0.02703,  0.00618, -0.00427, -0.07226],\n",
       "       [ 0.00005, -0.00003,  0.02062,      inf, -0.00955, -0.21278,  0.01507, -0.0061 ,  0.06499],\n",
       "       [-0.     ,  0.00001,  0.0011 ,  0.00538,      inf, -0.13363,  0.01578,  0.00104,  0.12086],\n",
       "       [ 0.00084, -0.00028,  0.01215,  0.08071,  0.10916,      inf,  0.37053, -0.08701,  0.37218],\n",
       "       [ 0.00004,  0.00001, -0.0021 , -0.00429, -0.01133, -0.36241,      inf,  0.02962, -0.52665],\n",
       "       [-0.00001, -0.     ,  0.0011 ,  0.00099, -0.00199,  0.08254, -0.02752,      inf,  0.22311],\n",
       "       [-0.00012,  0.00032,  0.02126, -0.02906, -0.07755, -0.31986,  0.42284, -0.19189,      inf]])"
      ]
     },
     "execution_count": 42,
     "metadata": {},
     "output_type": "execute_result"
    }
   ],
   "source": [
    "U_1_oo[0, 0]"
   ]
  },
  {
   "cell_type": "markdown",
   "metadata": {
    "hidden": true
   },
   "source": [
    "之所以对角元上会出现 $\\inf$，是因为当 $i = j$ 时，作为分母的 $\\varepsilon_i - \\varepsilon_j = 0$，因此导致该处的值无法定义。\n",
    "\n",
    "解决上述问题的方法，仍然是利用 $S_{pq}^\\mathbb{A} + U_{pq}^\\mathbb{A} + U_{pq}^\\mathbb{A} = 0$ 的特性。当 $p = q = i$ 时，我们应当能求得\n",
    "\n",
    "$$\n",
    "U_{ii}^\\mathbb{A} = - \\frac{1}{2} S_{ii}^\\mathbb{A}\n",
    "$$"
   ]
  },
  {
   "cell_type": "code",
   "execution_count": 43,
   "metadata": {
    "code_folding": [],
    "hidden": true
   },
   "outputs": [],
   "source": [
    "for A in range(natm):\n",
    "    for t in range(3):\n",
    "        for i in range(nocc):\n",
    "            U_1_oo[A, t, i, i] = - 0.5 * S_1_mo[A, t, i, i]"
   ]
  },
  {
   "cell_type": "markdown",
   "metadata": {
    "hidden": true
   },
   "source": [
    "现在我们再看 `U_1_oo`："
   ]
  },
  {
   "cell_type": "code",
   "execution_count": 44,
   "metadata": {
    "hidden": true
   },
   "outputs": [
    {
     "data": {
      "text/plain": [
       "array([[-0.00003, -0.00061, -0.0003 , -0.00087,  0.00001, -0.01349,  0.00083, -0.00057,  0.00145],\n",
       "       [ 0.00059, -0.     ,  0.0003 ,  0.00063,  0.00011,  0.00517,  0.00016, -0.00017, -0.00709],\n",
       "       [-0.00006, -0.00004,  0.00051, -0.02338, -0.00143, -0.02703,  0.00618, -0.00427, -0.07226],\n",
       "       [ 0.00005, -0.00003,  0.02062, -0.01012, -0.00955, -0.21278,  0.01507, -0.0061 ,  0.06499],\n",
       "       [-0.     ,  0.00001,  0.0011 ,  0.00538, -0.00088, -0.13363,  0.01578,  0.00104,  0.12086],\n",
       "       [ 0.00084, -0.00028,  0.01215,  0.08071,  0.10916, -0.01346,  0.37053, -0.08701,  0.37218],\n",
       "       [ 0.00004,  0.00001, -0.0021 , -0.00429, -0.01133, -0.36241, -0.00629,  0.02962, -0.52665],\n",
       "       [-0.00001, -0.     ,  0.0011 ,  0.00099, -0.00199,  0.08254, -0.02752, -0.00003,  0.22311],\n",
       "       [-0.00012,  0.00032,  0.02126, -0.02906, -0.07755, -0.31986,  0.42284, -0.19189, -0.03002]])"
      ]
     },
     "execution_count": 44,
     "metadata": {},
     "output_type": "execute_result"
    }
   ],
   "source": [
    "U_1_oo[0, 0]"
   ]
  },
  {
   "cell_type": "markdown",
   "metadata": {
    "hidden": true
   },
   "source": [
    "它与 pyxdh 中 U 矩阵的结果也相同 (注意需要用 `grad_nr` 调出未经“轨道旋转”的 U 矩阵，因为经过轨道旋转的 $\\mathscr{U}_{ij}^\\mathbb{A} = - \\frac{1}{2} S_{ij}^\\mathbb{A}$)："
   ]
  },
  {
   "cell_type": "code",
   "execution_count": 45,
   "metadata": {
    "hidden": true
   },
   "outputs": [
    {
     "data": {
      "text/plain": [
       "True"
      ]
     },
     "execution_count": 45,
     "metadata": {},
     "output_type": "execute_result"
    }
   ],
   "source": [
    "np.allclose(U_1_oo.ravel(), gradh_nr.U_1[:, so, so].ravel())"
   ]
  },
  {
   "cell_type": "markdown",
   "metadata": {
    "hidden": true
   },
   "source": [
    "<div class=\"alert alert-info\">\n",
    "\n",
    "**任务 (7)**\n",
    "\n",
    "请用程序求出 `U_1_vv` $U_{ab}^{A_t}$，并与 pyxdh 中对应的 U 矩阵结果作核对。\n",
    "\n",
    "</div>"
   ]
  },
  {
   "cell_type": "markdown",
   "metadata": {
    "hidden": true
   },
   "source": [
    "至此，我们就完成了所有 RHF 下的 U 矩阵的计算了。"
   ]
  },
  {
   "cell_type": "markdown",
   "metadata": {
    "heading_collapsed": true
   },
   "source": [
    "## 简单总结"
   ]
  },
  {
   "cell_type": "markdown",
   "metadata": {
    "hidden": true
   },
   "source": [
    "首先，我们在 [数值导数求取 U 矩阵](#数值导数求取-U-矩阵) 一小节中，利用\n",
    "\n",
    "$$\n",
    "U_{mp}^\\mathbb{A} = (\\mathbf{C}^{-1})_{m \\mu} \\frac{\\partial C_{\\mu p}}{\\partial \\mathbb{A}}\n",
    "$$\n",
    "\n",
    "求出数值的 U 矩阵 $U_{pq}^\\mathbb{A}$ `U_1_nr`，并与 pyxdh 中解析的 U 矩阵 `grad_nr.U_1` 做了对比。同时我们意识到 $U_{pq}^\\mathbb{A}$ 存在数值问题，因此我们经常会使用 $\\mathscr{U}_{pq}^\\mathbb{A}$ `grad.U_1` 替代 Canonical RHF 轨道下导出的 U 矩阵，并对 $U_{pq}^\\mathbb{A}$ 与 $\\mathscr{U}_{pq}^\\mathbb{A}$ 做了理论上的比较。"
   ]
  },
  {
   "cell_type": "markdown",
   "metadata": {
    "hidden": true
   },
   "source": [
    "随后，在 [Fock 矩阵导数与 A 张量](#Fock-矩阵导数与-A-张量) 一小节中，我们引入了分子轨道下 A 张量。其引入的缘起是\n",
    "\n",
    "$$\n",
    "\\frac{\\partial F_{pq}}{\\partial {A_t}} = F_{pq}^{A_t} + A_{pq, mi} U_{mi}^{A_t} + F_{pm} U_{mq}^{A_t} + F_{mq} U_{mp}^{A_t}\n",
    "$$\n",
    "\n",
    "其在 RHF 下的定义是\n",
    "\n",
    "$$\n",
    "A_{pq, rs} = 4 (pq|rs) - (pr|qs) - (ps|qr)\n",
    "$$\n",
    "\n",
    "但是出于内存存储的考量，我们定义了用于计算 $A_{pq, rs} X_{rs}^\\mathbb{A}$ 的程序 `Ax0_Core`。"
   ]
  },
  {
   "cell_type": "markdown",
   "metadata": {
    "hidden": true
   },
   "source": [
    "A 张量的主要用途是 [实现 CP-HF 方程](#解析-U-矩阵与-CP-HF-方程)：\n",
    "\n",
    "$$\n",
    "- (\\varepsilon_i - \\varepsilon_j) U_{ij}^\\mathbb{A} - A_{ij, bk} U_{bk}^\\mathbb{A} = B_{ij}^\\mathbb{A} \\quad (i \\neq j)\n",
    "$$\n",
    "\n",
    "我们随后介绍了 PySCF 库函数求解 CP-HF 方程，进而求解完整的 $U_{pq}^{A_t}$ 的过程。"
   ]
  },
  {
   "cell_type": "markdown",
   "metadata": {},
   "source": [
    "## 演示任务"
   ]
  },
  {
   "cell_type": "markdown",
   "metadata": {},
   "source": [
    "### 演示 (1) 矩阵求逆求解 CP-HF 方程"
   ]
  },
  {
   "cell_type": "markdown",
   "metadata": {},
   "source": [
    "我们的目标是通过下式求解 $U_{ai}^{A_t}$ (或者等价地 $U_{jb}^{A_t}$)：\n",
    "\n",
    "$$\n",
    "- (\\varepsilon_a - \\varepsilon_i) U_{ai}^{A_t} - A_{ai, bj} U_{bj}^{A_t} = B_{ai}^{A_t}\n",
    "$$"
   ]
  },
  {
   "cell_type": "markdown",
   "metadata": {},
   "source": [
    "首先，我们定义如下变量：\n",
    "\n",
    "$$\n",
    "\\begin{align}\n",
    "D_i^a &= \\varepsilon_i - \\varepsilon_a = - (\\varepsilon_a - \\varepsilon_i) \\\\\n",
    "\\delta_{ai, bj} &= \\delta_{ab} \\delta_{ij}\n",
    "\\end{align}\n",
    "$$\n",
    "\n",
    "其中，`D_ai` $D_i^a$ 是以 $(a, i)$ 为储存维度，它并不代表密度矩阵；`delta_aibj` 代表 $\\delta_{ai, bj}$，维度为 $(a, i, b, j)$："
   ]
  },
  {
   "cell_type": "code",
   "execution_count": 46,
   "metadata": {},
   "outputs": [],
   "source": [
    "D_ai = - (ev[:, None] - eo[None, :])\n",
    "delta_aibj = np.eye(nvir * nocc).reshape(nvir, nocc, nvir, nocc)"
   ]
  },
  {
   "cell_type": "markdown",
   "metadata": {},
   "source": [
    "那么上式可以写为\n",
    "\n",
    "$$\n",
    "(D_i^a \\delta_{ai, bj} - A_{ai, bj}) U_{bj}^{A_t} = B_{ai}^{A_t}\n",
    "$$"
   ]
  },
  {
   "cell_type": "markdown",
   "metadata": {},
   "source": [
    "我们定义 `Ap` $A'_{ai, bj}$\n",
    "\n",
    "$$\n",
    "A'_{ai, bj} = (D_i^a \\delta_{ai, bj} - A_{ai, bj})\n",
    "$$"
   ]
  },
  {
   "cell_type": "code",
   "execution_count": 47,
   "metadata": {},
   "outputs": [
    {
     "data": {
      "text/plain": [
       "(13, 9, 13, 9)"
      ]
     },
     "execution_count": 47,
     "metadata": {},
     "output_type": "execute_result"
    }
   ],
   "source": [
    "Ap = D_ai * delta_aibj - A_0_mo[sv, so, sv, so]\n",
    "Ap.shape"
   ]
  },
  {
   "cell_type": "markdown",
   "metadata": {},
   "source": [
    "那么 CP-HF 方程化为\n",
    "\n",
    "$$\n",
    "A'_{ai, bj} U_{bj}^{A_t} = B_{ai}^{A_t}\n",
    "$$"
   ]
  },
  {
   "cell_type": "markdown",
   "metadata": {},
   "source": [
    "如果我们将双下标 $ai, bj$ 当作单下标 $P, Q$ 看待，那么这个问题就可以当作求矩阵求逆的问题了：\n",
    "\n",
    "$$\n",
    "A'_{PQ} U_Q^{A_t} = B_P^{A_t}\n",
    "$$\n",
    "\n",
    "或者写为矩阵乘积的形式，\n",
    "\n",
    "$$\n",
    "\\mathbf{A}' \\mathbf{U}^{A_t} = \\mathbf{B}^{A_t} \\Leftrightarrow \\mathbf{U}^{A_t} = \\mathbf{A}'{}^{-1} \\mathbf{B}^{A_t}\n",
    "$$"
   ]
  },
  {
   "cell_type": "markdown",
   "metadata": {},
   "source": [
    "我们将通过上述方式生成的 $U_{ai}^{A_t}$ 记为 `U_1_ai_by_inv`："
   ]
  },
  {
   "cell_type": "code",
   "execution_count": 48,
   "metadata": {},
   "outputs": [],
   "source": [
    "U_1_ai_by_inv = np.einsum(\"PQ, AtP -> AtQ\", np.linalg.inv(Ap.reshape(nvir * nocc, nvir * nocc)), B_1[:, :, sv, so].reshape(natm, 3, nvir * nocc))\n",
    "U_1_ai_by_inv.shape = (natm, 3, nvir, nocc)"
   ]
  },
  {
   "cell_type": "markdown",
   "metadata": {},
   "source": [
    "稍微降低判据后，可以认为与 PySCF 库函数 `cphf.solve` 给出了近乎一致的 $U_{ai}^{A_t}$："
   ]
  },
  {
   "cell_type": "code",
   "execution_count": 49,
   "metadata": {},
   "outputs": [
    {
     "data": {
      "text/plain": [
       "True"
      ]
     },
     "execution_count": 49,
     "metadata": {},
     "output_type": "execute_result"
    }
   ],
   "source": [
    "np.allclose(U_1_ai_by_inv, U_1_ai, atol=1e-5)"
   ]
  },
  {
   "cell_type": "markdown",
   "metadata": {
    "heading_collapsed": true
   },
   "source": [
    "### 演示 (2) Newton-Krylov 求解 CP-HF 方程"
   ]
  },
  {
   "cell_type": "markdown",
   "metadata": {
    "hidden": true
   },
   "source": [
    "我们可以不借助于四维的 A 张量或 PySCF 的库函数，而直接使用 `Ax0_Core` 求解 CP-HF 方程。我们借助的是 SciPy 的 [optimize.newton_krylov](https://docs.scipy.org/doc/scipy/reference/generated/scipy.optimize.newton_krylov.html)"
   ]
  },
  {
   "cell_type": "code",
   "execution_count": 50,
   "metadata": {
    "hidden": true
   },
   "outputs": [
    {
     "data": {
      "text/plain": [
       "<function scipy.optimize.nonlin.newton_krylov(F, xin, iter=None, rdiff=None, method='lgmres', inner_maxiter=20, inner_M=None, outer_k=10, verbose=False, maxiter=None, f_tol=None, f_rtol=None, x_tol=None, x_rtol=None, tol_norm=None, line_search='armijo', callback=None, **kw)>"
      ]
     },
     "execution_count": 50,
     "metadata": {},
     "output_type": "execute_result"
    }
   ],
   "source": [
    "from scipy.optimize import newton_krylov\n",
    "newton_krylov"
   ]
  },
  {
   "cell_type": "markdown",
   "metadata": {
    "hidden": true
   },
   "source": [
    "该函数所解决的是 $f(x) = 0$ 的问题，但 $x$ 可以延伸为矩阵或张量。在我们当前的问题中，$x$ 就是 U 矩阵的非占-占据部分，`f(X)` $f(x)$ 就是\n",
    "\n",
    "$$\n",
    "f_{ai} [U_{bj}^{A_t}] = (\\varepsilon_a - \\varepsilon_i) U_{ai}^{A_t} + A_{ai, bj} U_{bj}^{A_t} + B_{ai}^{A_t}\n",
    "$$"
   ]
  },
  {
   "cell_type": "code",
   "execution_count": 51,
   "metadata": {
    "hidden": true
   },
   "outputs": [],
   "source": [
    "def f(X):\n",
    "    return (\n",
    "        + (ev[:, None] - eo[None, :]) * X\n",
    "        + Ax0_Core(sv, so, sv, so)(X)\n",
    "        + B_1[:, :, sv, so]\n",
    "    )"
   ]
  },
  {
   "cell_type": "markdown",
   "metadata": {
    "hidden": true
   },
   "source": [
    "我们注意到 `newton_krylov` 的必须输入参数有两个：`F` 可以是上面定义的 `f(X)`；而 `xin` 表示的是初猜的 U 矩阵。尽管一般来说，初猜 U 矩阵定义为\n",
    "\n",
    "$$\n",
    "U_{ai}^{A_t} (\\mathtt{initial}) = \\frac{B_{ai}^{A_t}}{\\varepsilon_a - \\varepsilon_i}\n",
    "$$"
   ]
  },
  {
   "cell_type": "markdown",
   "metadata": {
    "hidden": true
   },
   "source": [
    "但事实上，这个初猜是通过令 $A_{ai, bj} U_{bj}^{A_t} \\simeq 0$ 的前提下给出的，因此让 U 矩阵的初猜为零初猜也未尝不可。通过上述方法获得的 U 矩阵 $U_{ai}^{A_t}$ 记为 `U_1_ai_by_scipy`："
   ]
  },
  {
   "cell_type": "code",
   "execution_count": 52,
   "metadata": {
    "hidden": true
   },
   "outputs": [
    {
     "name": "stdout",
     "output_type": "stream",
     "text": [
      "0:  |F(x)| = 0.000213289; step 1\n",
      "1:  |F(x)| = 3.19646e-08; step 1\n"
     ]
    },
    {
     "data": {
      "text/plain": [
       "(4, 3, 13, 9)"
      ]
     },
     "execution_count": 52,
     "metadata": {},
     "output_type": "execute_result"
    }
   ],
   "source": [
    "U_1_ai_by_scipy = newton_krylov(f, np.zeros((natm, 3, nvir, nocc)), verbose=True)\n",
    "U_1_ai_by_scipy.shape"
   ]
  },
  {
   "cell_type": "markdown",
   "metadata": {
    "hidden": true
   },
   "source": [
    "就像上一个任务一样，我们可以验证它与 PySCF 库函数所给出的 U 矩阵非占-占据部分近乎一致："
   ]
  },
  {
   "cell_type": "code",
   "execution_count": 53,
   "metadata": {
    "hidden": true
   },
   "outputs": [
    {
     "data": {
      "text/plain": [
       "True"
      ]
     },
     "execution_count": 53,
     "metadata": {},
     "output_type": "execute_result"
    }
   ],
   "source": [
    "np.allclose(U_1_ai_by_scipy, U_1_ai, atol=1e-5)"
   ]
  },
  {
   "cell_type": "markdown",
   "metadata": {
    "heading_collapsed": true
   },
   "source": [
    "### 演示 (3) CP-HF 方程求解效率与精度"
   ]
  },
  {
   "cell_type": "markdown",
   "metadata": {
    "hidden": true
   },
   "source": [
    "我们先了解三种 CP-HF 方程求解的效率。在这里我们就顺便总结一下三种实现方法了。"
   ]
  },
  {
   "cell_type": "markdown",
   "metadata": {
    "hidden": true
   },
   "source": [
    "**矩阵求逆**\n",
    "\n",
    "$$\n",
    "\\mathbf{U}^{A_t} = \\mathbf{A}'{}^{-1} \\mathbf{B}^{A_t}\n",
    "$$\n",
    "\n",
    "但为了测评该方法的效率，我们需要尽量将耗时但预先已经计算的一些变量也放在这里考虑。"
   ]
  },
  {
   "cell_type": "code",
   "execution_count": 54,
   "metadata": {
    "hidden": true
   },
   "outputs": [
    {
     "name": "stdout",
     "output_type": "stream",
     "text": [
      "40.2 ms ± 795 µs per loop (mean ± std. dev. of 7 runs, 10 loops each)\n"
     ]
    }
   ],
   "source": [
    "%%timeit\n",
    "eri0_ao = mol.intor(\"int2e\")\n",
    "A_0_ao = 4 * eri0_ao - eri0_ao.swapaxes(-2, -3) - eri0_ao.swapaxes(-1, -3)\n",
    "A_0_aibj = np.einsum(\"ua, vi, uvkl, kb, lj -> aibj\", Cv, Co, A_0_ao, Cv, Co)\n",
    "delta_aibj = np.eye(nvir * nocc).reshape(nvir, nocc, nvir, nocc)\n",
    "D_ai = - (ev[:, None] - eo[None, :])\n",
    "Ap = D_ai * delta_aibj - A_0_aibj\n",
    "U_1_ai_by_inv = np.einsum(\"PQ, AtP -> AtQ\", np.linalg.inv(Ap.reshape(nvir * nocc, nvir * nocc)), B_1[:, :, sv, so].reshape(natm, 3, nvir * nocc))\n",
    "U_1_ai_by_inv.shape = (natm, 3, nvir, nocc)"
   ]
  },
  {
   "cell_type": "markdown",
   "metadata": {
    "hidden": true
   },
   "source": [
    "**Newton Krylov 方法**\n",
    "\n",
    "$$\n",
    "f_{ai} [U_{bj}^{A_t}] = (\\varepsilon_a - \\varepsilon_i) U_{ai}^{A_t} + A_{ai, bj} U_{bj}^{A_t} + B_{ai}^{A_t} = 0\n",
    "$$\n",
    "\n",
    "该方法可能很强地受制于算法效率。"
   ]
  },
  {
   "cell_type": "code",
   "execution_count": 55,
   "metadata": {
    "hidden": true
   },
   "outputs": [
    {
     "name": "stdout",
     "output_type": "stream",
     "text": [
      "121 ms ± 610 µs per loop (mean ± std. dev. of 7 runs, 10 loops each)\n"
     ]
    }
   ],
   "source": [
    "%%timeit\n",
    "def f(X):\n",
    "    return (\n",
    "        + (ev[:, None] - eo[None, :]) * X\n",
    "        + Ax0_Core(sv, so, sv, so)(X)\n",
    "        + B_1[:, :, sv, so]\n",
    "    )\n",
    "U_1_ai_by_scipy = newton_krylov(f, np.zeros((natm, 3, nvir, nocc)))"
   ]
  },
  {
   "cell_type": "markdown",
   "metadata": {
    "hidden": true
   },
   "source": [
    "**PySCF 库函数**\n",
    "\n",
    "$$\n",
    "- (\\varepsilon_a - \\varepsilon_i) U_{ai}^{A_t} - A_{ai, bj} U_{bj}^{A_t} = B_{ai}^{A_t}\n",
    "$$\n",
    "\n",
    "PySCF 库函数是专门求解 CP-HF 方程的程序，效率也相对来说最快，并且避免消耗 $O(o^2 v^2)$ 大小的内存。"
   ]
  },
  {
   "cell_type": "code",
   "execution_count": 56,
   "metadata": {
    "hidden": true
   },
   "outputs": [
    {
     "name": "stdout",
     "output_type": "stream",
     "text": [
      "20.3 ms ± 276 µs per loop (mean ± std. dev. of 7 runs, 10 loops each)\n"
     ]
    }
   ],
   "source": [
    "%%timeit\n",
    "U_1_ai = cphf.solve(\n",
    "    Ax0_Core(sv, so, sv, so, in_cphf=True),\n",
    "    e,\n",
    "    gradh.scf_eng.mo_occ,\n",
    "    B_1[:, :, sv, so].reshape(natm * 3, nvir, nocc),\n",
    "    tol=1e-6,\n",
    ")[0].reshape(natm, 3, nvir, nocc)"
   ]
  },
  {
   "cell_type": "markdown",
   "metadata": {
    "hidden": true
   },
   "source": [
    "随后我们来考虑 CP-HF 方程解的精度。事实上，若 $U_{ai}^{A_t}$ 是精确的 U 矩阵，那么在 Newton-Krylov 方法中定义的函数 $f_{ai} [U_{bj}^{A_t}]$ 应当返回零值。因此，$f_{ai} [U_{bj}^{A_t}]$ 约接近零值，U 矩阵就越准确。下面依次列举在上述判标下，通过矩阵求逆、Newton-Krylov 方法、PySCF 库函数方法给出的 U 矩阵的误差："
   ]
  },
  {
   "cell_type": "code",
   "execution_count": 57,
   "metadata": {
    "hidden": true
   },
   "outputs": [
    {
     "data": {
      "text/plain": [
       "6.344837409101838e-12"
      ]
     },
     "execution_count": 57,
     "metadata": {},
     "output_type": "execute_result"
    }
   ],
   "source": [
    "np.abs(f(U_1_ai_by_inv)).sum()"
   ]
  },
  {
   "cell_type": "code",
   "execution_count": 58,
   "metadata": {
    "hidden": true,
    "scrolled": true
   },
   "outputs": [
    {
     "data": {
      "text/plain": [
       "2.2214958361450946e-06"
      ]
     },
     "execution_count": 58,
     "metadata": {},
     "output_type": "execute_result"
    }
   ],
   "source": [
    "np.abs(f(U_1_ai_by_scipy)).sum()"
   ]
  },
  {
   "cell_type": "code",
   "execution_count": 59,
   "metadata": {
    "hidden": true,
    "scrolled": true
   },
   "outputs": [
    {
     "data": {
      "text/plain": [
       "0.0011647429761251387"
      ]
     },
     "execution_count": 59,
     "metadata": {},
     "output_type": "execute_result"
    }
   ],
   "source": [
    "np.abs(f(U_1_ai)).sum()"
   ]
  },
  {
   "cell_type": "markdown",
   "metadata": {
    "hidden": true
   },
   "source": [
    "看起来 PySCF 库给出的 U 矩阵相当糟糕；但在不少情况下，这种大小的误差是可以接受的。若要提高 PySCF 库函数所导出的 U 矩阵精度，需要考虑两件事。首先需要更改一下 `~/.pyscf_conf.py` 文件，譬如"
   ]
  },
  {
   "cell_type": "code",
   "execution_count": 60,
   "metadata": {
    "hidden": true
   },
   "outputs": [
    {
     "name": "stdout",
     "output_type": "stream",
     "text": [
      "lib_linalg_helper_safe_eigh_lindep = 1e-50\n",
      "lib_linalg_helper_davidson_lindep = 1e-50\n",
      "lib_linalg_helper_dsolve_lindep = 1e-50\n",
      "lib_linalg_helper_davidson_max_memory = 4000\n",
      "\n"
     ]
    }
   ],
   "source": [
    "with open(\"/home/a/.pyscf_conf.py\", \"r\") as file:\n",
    "    print(file.read())"
   ]
  },
  {
   "cell_type": "markdown",
   "metadata": {
    "hidden": true
   },
   "source": [
    "其次是可以更改 `cphf.solve` 函数中 `tol` 选项；这会增加一些运行时间，但可以得到更好的收敛精度："
   ]
  },
  {
   "cell_type": "code",
   "execution_count": 61,
   "metadata": {
    "hidden": true
   },
   "outputs": [],
   "source": [
    "U_1_ai_hightol = cphf.solve(\n",
    "    Ax0_Core(sv, so, sv, so, in_cphf=True),\n",
    "    e,\n",
    "    gradh.scf_eng.mo_occ,\n",
    "    B_1[:, :, sv, so].reshape(natm * 3, nvir, nocc),\n",
    "    tol=1e-10,\n",
    ")[0].reshape(natm, 3, nvir, nocc)"
   ]
  },
  {
   "cell_type": "code",
   "execution_count": 62,
   "metadata": {
    "hidden": true
   },
   "outputs": [
    {
     "data": {
      "text/plain": [
       "1.4449779919797419e-06"
      ]
     },
     "execution_count": 62,
     "metadata": {},
     "output_type": "execute_result"
    }
   ],
   "source": [
    "np.abs(f(U_1_ai_hightol)).sum()"
   ]
  },
  {
   "cell_type": "markdown",
   "metadata": {},
   "source": [
    "## 参考任务解答"
   ]
  },
  {
   "cell_type": "markdown",
   "metadata": {
    "heading_collapsed": true
   },
   "source": [
    "### 任务 (1)"
   ]
  },
  {
   "cell_type": "code",
   "execution_count": 63,
   "metadata": {
    "hidden": true
   },
   "outputs": [
    {
     "data": {
      "text/plain": [
       "<pyscf.gto.mole.Mole at 0x7f24a9247be0>"
      ]
     },
     "execution_count": 63,
     "metadata": {},
     "output_type": "execute_result"
    }
   ],
   "source": [
    "mol_CH4 = gto.Mole()\n",
    "mol_CH4.atom = \"\"\"\n",
    "C       0.00000000    0.00000000   -0.00000000\n",
    "H      -0.00000000    0.00000000    1.08301642\n",
    "H      -0.00000000   -1.02107768   -0.36100547\n",
    "H       0.88427921    0.51053884   -0.36100547\n",
    "H      -0.88427921    0.51053884   -0.36100547\n",
    "\"\"\"\n",
    "mol_CH4.basis = \"6-31G\"\n",
    "mol_CH4.verbose = 0\n",
    "mol_CH4.build()"
   ]
  },
  {
   "cell_type": "code",
   "execution_count": 64,
   "metadata": {
    "hidden": true
   },
   "outputs": [],
   "source": [
    "gradh_CH4 = GradSCF({\"scf_eng\": scf.RHF(mol_CH4)})\n",
    "gradh_CH4_nr = GradSCF({\"scf_eng\": scf.RHF(mol_CH4), \"rotation\": False})"
   ]
  },
  {
   "cell_type": "code",
   "execution_count": 65,
   "metadata": {
    "hidden": true
   },
   "outputs": [
    {
     "data": {
      "application/javascript": [
       "/* Put everything inside the global mpl namespace */\n",
       "window.mpl = {};\n",
       "\n",
       "\n",
       "mpl.get_websocket_type = function() {\n",
       "    if (typeof(WebSocket) !== 'undefined') {\n",
       "        return WebSocket;\n",
       "    } else if (typeof(MozWebSocket) !== 'undefined') {\n",
       "        return MozWebSocket;\n",
       "    } else {\n",
       "        alert('Your browser does not have WebSocket support. ' +\n",
       "              'Please try Chrome, Safari or Firefox ≥ 6. ' +\n",
       "              'Firefox 4 and 5 are also supported but you ' +\n",
       "              'have to enable WebSockets in about:config.');\n",
       "    };\n",
       "}\n",
       "\n",
       "mpl.figure = function(figure_id, websocket, ondownload, parent_element) {\n",
       "    this.id = figure_id;\n",
       "\n",
       "    this.ws = websocket;\n",
       "\n",
       "    this.supports_binary = (this.ws.binaryType != undefined);\n",
       "\n",
       "    if (!this.supports_binary) {\n",
       "        var warnings = document.getElementById(\"mpl-warnings\");\n",
       "        if (warnings) {\n",
       "            warnings.style.display = 'block';\n",
       "            warnings.textContent = (\n",
       "                \"This browser does not support binary websocket messages. \" +\n",
       "                    \"Performance may be slow.\");\n",
       "        }\n",
       "    }\n",
       "\n",
       "    this.imageObj = new Image();\n",
       "\n",
       "    this.context = undefined;\n",
       "    this.message = undefined;\n",
       "    this.canvas = undefined;\n",
       "    this.rubberband_canvas = undefined;\n",
       "    this.rubberband_context = undefined;\n",
       "    this.format_dropdown = undefined;\n",
       "\n",
       "    this.image_mode = 'full';\n",
       "\n",
       "    this.root = $('<div/>');\n",
       "    this._root_extra_style(this.root)\n",
       "    this.root.attr('style', 'display: inline-block');\n",
       "\n",
       "    $(parent_element).append(this.root);\n",
       "\n",
       "    this._init_header(this);\n",
       "    this._init_canvas(this);\n",
       "    this._init_toolbar(this);\n",
       "\n",
       "    var fig = this;\n",
       "\n",
       "    this.waiting = false;\n",
       "\n",
       "    this.ws.onopen =  function () {\n",
       "            fig.send_message(\"supports_binary\", {value: fig.supports_binary});\n",
       "            fig.send_message(\"send_image_mode\", {});\n",
       "            if (mpl.ratio != 1) {\n",
       "                fig.send_message(\"set_dpi_ratio\", {'dpi_ratio': mpl.ratio});\n",
       "            }\n",
       "            fig.send_message(\"refresh\", {});\n",
       "        }\n",
       "\n",
       "    this.imageObj.onload = function() {\n",
       "            if (fig.image_mode == 'full') {\n",
       "                // Full images could contain transparency (where diff images\n",
       "                // almost always do), so we need to clear the canvas so that\n",
       "                // there is no ghosting.\n",
       "                fig.context.clearRect(0, 0, fig.canvas.width, fig.canvas.height);\n",
       "            }\n",
       "            fig.context.drawImage(fig.imageObj, 0, 0);\n",
       "        };\n",
       "\n",
       "    this.imageObj.onunload = function() {\n",
       "        fig.ws.close();\n",
       "    }\n",
       "\n",
       "    this.ws.onmessage = this._make_on_message_function(this);\n",
       "\n",
       "    this.ondownload = ondownload;\n",
       "}\n",
       "\n",
       "mpl.figure.prototype._init_header = function() {\n",
       "    var titlebar = $(\n",
       "        '<div class=\"ui-dialog-titlebar ui-widget-header ui-corner-all ' +\n",
       "        'ui-helper-clearfix\"/>');\n",
       "    var titletext = $(\n",
       "        '<div class=\"ui-dialog-title\" style=\"width: 100%; ' +\n",
       "        'text-align: center; padding: 3px;\"/>');\n",
       "    titlebar.append(titletext)\n",
       "    this.root.append(titlebar);\n",
       "    this.header = titletext[0];\n",
       "}\n",
       "\n",
       "\n",
       "\n",
       "mpl.figure.prototype._canvas_extra_style = function(canvas_div) {\n",
       "\n",
       "}\n",
       "\n",
       "\n",
       "mpl.figure.prototype._root_extra_style = function(canvas_div) {\n",
       "\n",
       "}\n",
       "\n",
       "mpl.figure.prototype._init_canvas = function() {\n",
       "    var fig = this;\n",
       "\n",
       "    var canvas_div = $('<div/>');\n",
       "\n",
       "    canvas_div.attr('style', 'position: relative; clear: both; outline: 0');\n",
       "\n",
       "    function canvas_keyboard_event(event) {\n",
       "        return fig.key_event(event, event['data']);\n",
       "    }\n",
       "\n",
       "    canvas_div.keydown('key_press', canvas_keyboard_event);\n",
       "    canvas_div.keyup('key_release', canvas_keyboard_event);\n",
       "    this.canvas_div = canvas_div\n",
       "    this._canvas_extra_style(canvas_div)\n",
       "    this.root.append(canvas_div);\n",
       "\n",
       "    var canvas = $('<canvas/>');\n",
       "    canvas.addClass('mpl-canvas');\n",
       "    canvas.attr('style', \"left: 0; top: 0; z-index: 0; outline: 0\")\n",
       "\n",
       "    this.canvas = canvas[0];\n",
       "    this.context = canvas[0].getContext(\"2d\");\n",
       "\n",
       "    var backingStore = this.context.backingStorePixelRatio ||\n",
       "\tthis.context.webkitBackingStorePixelRatio ||\n",
       "\tthis.context.mozBackingStorePixelRatio ||\n",
       "\tthis.context.msBackingStorePixelRatio ||\n",
       "\tthis.context.oBackingStorePixelRatio ||\n",
       "\tthis.context.backingStorePixelRatio || 1;\n",
       "\n",
       "    mpl.ratio = (window.devicePixelRatio || 1) / backingStore;\n",
       "\n",
       "    var rubberband = $('<canvas/>');\n",
       "    rubberband.attr('style', \"position: absolute; left: 0; top: 0; z-index: 1;\")\n",
       "\n",
       "    var pass_mouse_events = true;\n",
       "\n",
       "    canvas_div.resizable({\n",
       "        start: function(event, ui) {\n",
       "            pass_mouse_events = false;\n",
       "        },\n",
       "        resize: function(event, ui) {\n",
       "            fig.request_resize(ui.size.width, ui.size.height);\n",
       "        },\n",
       "        stop: function(event, ui) {\n",
       "            pass_mouse_events = true;\n",
       "            fig.request_resize(ui.size.width, ui.size.height);\n",
       "        },\n",
       "    });\n",
       "\n",
       "    function mouse_event_fn(event) {\n",
       "        if (pass_mouse_events)\n",
       "            return fig.mouse_event(event, event['data']);\n",
       "    }\n",
       "\n",
       "    rubberband.mousedown('button_press', mouse_event_fn);\n",
       "    rubberband.mouseup('button_release', mouse_event_fn);\n",
       "    // Throttle sequential mouse events to 1 every 20ms.\n",
       "    rubberband.mousemove('motion_notify', mouse_event_fn);\n",
       "\n",
       "    rubberband.mouseenter('figure_enter', mouse_event_fn);\n",
       "    rubberband.mouseleave('figure_leave', mouse_event_fn);\n",
       "\n",
       "    canvas_div.on(\"wheel\", function (event) {\n",
       "        event = event.originalEvent;\n",
       "        event['data'] = 'scroll'\n",
       "        if (event.deltaY < 0) {\n",
       "            event.step = 1;\n",
       "        } else {\n",
       "            event.step = -1;\n",
       "        }\n",
       "        mouse_event_fn(event);\n",
       "    });\n",
       "\n",
       "    canvas_div.append(canvas);\n",
       "    canvas_div.append(rubberband);\n",
       "\n",
       "    this.rubberband = rubberband;\n",
       "    this.rubberband_canvas = rubberband[0];\n",
       "    this.rubberband_context = rubberband[0].getContext(\"2d\");\n",
       "    this.rubberband_context.strokeStyle = \"#000000\";\n",
       "\n",
       "    this._resize_canvas = function(width, height) {\n",
       "        // Keep the size of the canvas, canvas container, and rubber band\n",
       "        // canvas in synch.\n",
       "        canvas_div.css('width', width)\n",
       "        canvas_div.css('height', height)\n",
       "\n",
       "        canvas.attr('width', width * mpl.ratio);\n",
       "        canvas.attr('height', height * mpl.ratio);\n",
       "        canvas.attr('style', 'width: ' + width + 'px; height: ' + height + 'px;');\n",
       "\n",
       "        rubberband.attr('width', width);\n",
       "        rubberband.attr('height', height);\n",
       "    }\n",
       "\n",
       "    // Set the figure to an initial 600x600px, this will subsequently be updated\n",
       "    // upon first draw.\n",
       "    this._resize_canvas(600, 600);\n",
       "\n",
       "    // Disable right mouse context menu.\n",
       "    $(this.rubberband_canvas).bind(\"contextmenu\",function(e){\n",
       "        return false;\n",
       "    });\n",
       "\n",
       "    function set_focus () {\n",
       "        canvas.focus();\n",
       "        canvas_div.focus();\n",
       "    }\n",
       "\n",
       "    window.setTimeout(set_focus, 100);\n",
       "}\n",
       "\n",
       "mpl.figure.prototype._init_toolbar = function() {\n",
       "    var fig = this;\n",
       "\n",
       "    var nav_element = $('<div/>');\n",
       "    nav_element.attr('style', 'width: 100%');\n",
       "    this.root.append(nav_element);\n",
       "\n",
       "    // Define a callback function for later on.\n",
       "    function toolbar_event(event) {\n",
       "        return fig.toolbar_button_onclick(event['data']);\n",
       "    }\n",
       "    function toolbar_mouse_event(event) {\n",
       "        return fig.toolbar_button_onmouseover(event['data']);\n",
       "    }\n",
       "\n",
       "    for(var toolbar_ind in mpl.toolbar_items) {\n",
       "        var name = mpl.toolbar_items[toolbar_ind][0];\n",
       "        var tooltip = mpl.toolbar_items[toolbar_ind][1];\n",
       "        var image = mpl.toolbar_items[toolbar_ind][2];\n",
       "        var method_name = mpl.toolbar_items[toolbar_ind][3];\n",
       "\n",
       "        if (!name) {\n",
       "            // put a spacer in here.\n",
       "            continue;\n",
       "        }\n",
       "        var button = $('<button/>');\n",
       "        button.addClass('ui-button ui-widget ui-state-default ui-corner-all ' +\n",
       "                        'ui-button-icon-only');\n",
       "        button.attr('role', 'button');\n",
       "        button.attr('aria-disabled', 'false');\n",
       "        button.click(method_name, toolbar_event);\n",
       "        button.mouseover(tooltip, toolbar_mouse_event);\n",
       "\n",
       "        var icon_img = $('<span/>');\n",
       "        icon_img.addClass('ui-button-icon-primary ui-icon');\n",
       "        icon_img.addClass(image);\n",
       "        icon_img.addClass('ui-corner-all');\n",
       "\n",
       "        var tooltip_span = $('<span/>');\n",
       "        tooltip_span.addClass('ui-button-text');\n",
       "        tooltip_span.html(tooltip);\n",
       "\n",
       "        button.append(icon_img);\n",
       "        button.append(tooltip_span);\n",
       "\n",
       "        nav_element.append(button);\n",
       "    }\n",
       "\n",
       "    var fmt_picker_span = $('<span/>');\n",
       "\n",
       "    var fmt_picker = $('<select/>');\n",
       "    fmt_picker.addClass('mpl-toolbar-option ui-widget ui-widget-content');\n",
       "    fmt_picker_span.append(fmt_picker);\n",
       "    nav_element.append(fmt_picker_span);\n",
       "    this.format_dropdown = fmt_picker[0];\n",
       "\n",
       "    for (var ind in mpl.extensions) {\n",
       "        var fmt = mpl.extensions[ind];\n",
       "        var option = $(\n",
       "            '<option/>', {selected: fmt === mpl.default_extension}).html(fmt);\n",
       "        fmt_picker.append(option);\n",
       "    }\n",
       "\n",
       "    // Add hover states to the ui-buttons\n",
       "    $( \".ui-button\" ).hover(\n",
       "        function() { $(this).addClass(\"ui-state-hover\");},\n",
       "        function() { $(this).removeClass(\"ui-state-hover\");}\n",
       "    );\n",
       "\n",
       "    var status_bar = $('<span class=\"mpl-message\"/>');\n",
       "    nav_element.append(status_bar);\n",
       "    this.message = status_bar[0];\n",
       "}\n",
       "\n",
       "mpl.figure.prototype.request_resize = function(x_pixels, y_pixels) {\n",
       "    // Request matplotlib to resize the figure. Matplotlib will then trigger a resize in the client,\n",
       "    // which will in turn request a refresh of the image.\n",
       "    this.send_message('resize', {'width': x_pixels, 'height': y_pixels});\n",
       "}\n",
       "\n",
       "mpl.figure.prototype.send_message = function(type, properties) {\n",
       "    properties['type'] = type;\n",
       "    properties['figure_id'] = this.id;\n",
       "    this.ws.send(JSON.stringify(properties));\n",
       "}\n",
       "\n",
       "mpl.figure.prototype.send_draw_message = function() {\n",
       "    if (!this.waiting) {\n",
       "        this.waiting = true;\n",
       "        this.ws.send(JSON.stringify({type: \"draw\", figure_id: this.id}));\n",
       "    }\n",
       "}\n",
       "\n",
       "\n",
       "mpl.figure.prototype.handle_save = function(fig, msg) {\n",
       "    var format_dropdown = fig.format_dropdown;\n",
       "    var format = format_dropdown.options[format_dropdown.selectedIndex].value;\n",
       "    fig.ondownload(fig, format);\n",
       "}\n",
       "\n",
       "\n",
       "mpl.figure.prototype.handle_resize = function(fig, msg) {\n",
       "    var size = msg['size'];\n",
       "    if (size[0] != fig.canvas.width || size[1] != fig.canvas.height) {\n",
       "        fig._resize_canvas(size[0], size[1]);\n",
       "        fig.send_message(\"refresh\", {});\n",
       "    };\n",
       "}\n",
       "\n",
       "mpl.figure.prototype.handle_rubberband = function(fig, msg) {\n",
       "    var x0 = msg['x0'] / mpl.ratio;\n",
       "    var y0 = (fig.canvas.height - msg['y0']) / mpl.ratio;\n",
       "    var x1 = msg['x1'] / mpl.ratio;\n",
       "    var y1 = (fig.canvas.height - msg['y1']) / mpl.ratio;\n",
       "    x0 = Math.floor(x0) + 0.5;\n",
       "    y0 = Math.floor(y0) + 0.5;\n",
       "    x1 = Math.floor(x1) + 0.5;\n",
       "    y1 = Math.floor(y1) + 0.5;\n",
       "    var min_x = Math.min(x0, x1);\n",
       "    var min_y = Math.min(y0, y1);\n",
       "    var width = Math.abs(x1 - x0);\n",
       "    var height = Math.abs(y1 - y0);\n",
       "\n",
       "    fig.rubberband_context.clearRect(\n",
       "        0, 0, fig.canvas.width / mpl.ratio, fig.canvas.height / mpl.ratio);\n",
       "\n",
       "    fig.rubberband_context.strokeRect(min_x, min_y, width, height);\n",
       "}\n",
       "\n",
       "mpl.figure.prototype.handle_figure_label = function(fig, msg) {\n",
       "    // Updates the figure title.\n",
       "    fig.header.textContent = msg['label'];\n",
       "}\n",
       "\n",
       "mpl.figure.prototype.handle_cursor = function(fig, msg) {\n",
       "    var cursor = msg['cursor'];\n",
       "    switch(cursor)\n",
       "    {\n",
       "    case 0:\n",
       "        cursor = 'pointer';\n",
       "        break;\n",
       "    case 1:\n",
       "        cursor = 'default';\n",
       "        break;\n",
       "    case 2:\n",
       "        cursor = 'crosshair';\n",
       "        break;\n",
       "    case 3:\n",
       "        cursor = 'move';\n",
       "        break;\n",
       "    }\n",
       "    fig.rubberband_canvas.style.cursor = cursor;\n",
       "}\n",
       "\n",
       "mpl.figure.prototype.handle_message = function(fig, msg) {\n",
       "    fig.message.textContent = msg['message'];\n",
       "}\n",
       "\n",
       "mpl.figure.prototype.handle_draw = function(fig, msg) {\n",
       "    // Request the server to send over a new figure.\n",
       "    fig.send_draw_message();\n",
       "}\n",
       "\n",
       "mpl.figure.prototype.handle_image_mode = function(fig, msg) {\n",
       "    fig.image_mode = msg['mode'];\n",
       "}\n",
       "\n",
       "mpl.figure.prototype.updated_canvas_event = function() {\n",
       "    // Called whenever the canvas gets updated.\n",
       "    this.send_message(\"ack\", {});\n",
       "}\n",
       "\n",
       "// A function to construct a web socket function for onmessage handling.\n",
       "// Called in the figure constructor.\n",
       "mpl.figure.prototype._make_on_message_function = function(fig) {\n",
       "    return function socket_on_message(evt) {\n",
       "        if (evt.data instanceof Blob) {\n",
       "            /* FIXME: We get \"Resource interpreted as Image but\n",
       "             * transferred with MIME type text/plain:\" errors on\n",
       "             * Chrome.  But how to set the MIME type?  It doesn't seem\n",
       "             * to be part of the websocket stream */\n",
       "            evt.data.type = \"image/png\";\n",
       "\n",
       "            /* Free the memory for the previous frames */\n",
       "            if (fig.imageObj.src) {\n",
       "                (window.URL || window.webkitURL).revokeObjectURL(\n",
       "                    fig.imageObj.src);\n",
       "            }\n",
       "\n",
       "            fig.imageObj.src = (window.URL || window.webkitURL).createObjectURL(\n",
       "                evt.data);\n",
       "            fig.updated_canvas_event();\n",
       "            fig.waiting = false;\n",
       "            return;\n",
       "        }\n",
       "        else if (typeof evt.data === 'string' && evt.data.slice(0, 21) == \"data:image/png;base64\") {\n",
       "            fig.imageObj.src = evt.data;\n",
       "            fig.updated_canvas_event();\n",
       "            fig.waiting = false;\n",
       "            return;\n",
       "        }\n",
       "\n",
       "        var msg = JSON.parse(evt.data);\n",
       "        var msg_type = msg['type'];\n",
       "\n",
       "        // Call the  \"handle_{type}\" callback, which takes\n",
       "        // the figure and JSON message as its only arguments.\n",
       "        try {\n",
       "            var callback = fig[\"handle_\" + msg_type];\n",
       "        } catch (e) {\n",
       "            console.log(\"No handler for the '\" + msg_type + \"' message type: \", msg);\n",
       "            return;\n",
       "        }\n",
       "\n",
       "        if (callback) {\n",
       "            try {\n",
       "                // console.log(\"Handling '\" + msg_type + \"' message: \", msg);\n",
       "                callback(fig, msg);\n",
       "            } catch (e) {\n",
       "                console.log(\"Exception inside the 'handler_\" + msg_type + \"' callback:\", e, e.stack, msg);\n",
       "            }\n",
       "        }\n",
       "    };\n",
       "}\n",
       "\n",
       "// from http://stackoverflow.com/questions/1114465/getting-mouse-location-in-canvas\n",
       "mpl.findpos = function(e) {\n",
       "    //this section is from http://www.quirksmode.org/js/events_properties.html\n",
       "    var targ;\n",
       "    if (!e)\n",
       "        e = window.event;\n",
       "    if (e.target)\n",
       "        targ = e.target;\n",
       "    else if (e.srcElement)\n",
       "        targ = e.srcElement;\n",
       "    if (targ.nodeType == 3) // defeat Safari bug\n",
       "        targ = targ.parentNode;\n",
       "\n",
       "    // jQuery normalizes the pageX and pageY\n",
       "    // pageX,Y are the mouse positions relative to the document\n",
       "    // offset() returns the position of the element relative to the document\n",
       "    var x = e.pageX - $(targ).offset().left;\n",
       "    var y = e.pageY - $(targ).offset().top;\n",
       "\n",
       "    return {\"x\": x, \"y\": y};\n",
       "};\n",
       "\n",
       "/*\n",
       " * return a copy of an object with only non-object keys\n",
       " * we need this to avoid circular references\n",
       " * http://stackoverflow.com/a/24161582/3208463\n",
       " */\n",
       "function simpleKeys (original) {\n",
       "  return Object.keys(original).reduce(function (obj, key) {\n",
       "    if (typeof original[key] !== 'object')\n",
       "        obj[key] = original[key]\n",
       "    return obj;\n",
       "  }, {});\n",
       "}\n",
       "\n",
       "mpl.figure.prototype.mouse_event = function(event, name) {\n",
       "    var canvas_pos = mpl.findpos(event)\n",
       "\n",
       "    if (name === 'button_press')\n",
       "    {\n",
       "        this.canvas.focus();\n",
       "        this.canvas_div.focus();\n",
       "    }\n",
       "\n",
       "    var x = canvas_pos.x * mpl.ratio;\n",
       "    var y = canvas_pos.y * mpl.ratio;\n",
       "\n",
       "    this.send_message(name, {x: x, y: y, button: event.button,\n",
       "                             step: event.step,\n",
       "                             guiEvent: simpleKeys(event)});\n",
       "\n",
       "    /* This prevents the web browser from automatically changing to\n",
       "     * the text insertion cursor when the button is pressed.  We want\n",
       "     * to control all of the cursor setting manually through the\n",
       "     * 'cursor' event from matplotlib */\n",
       "    event.preventDefault();\n",
       "    return false;\n",
       "}\n",
       "\n",
       "mpl.figure.prototype._key_event_extra = function(event, name) {\n",
       "    // Handle any extra behaviour associated with a key event\n",
       "}\n",
       "\n",
       "mpl.figure.prototype.key_event = function(event, name) {\n",
       "\n",
       "    // Prevent repeat events\n",
       "    if (name == 'key_press')\n",
       "    {\n",
       "        if (event.which === this._key)\n",
       "            return;\n",
       "        else\n",
       "            this._key = event.which;\n",
       "    }\n",
       "    if (name == 'key_release')\n",
       "        this._key = null;\n",
       "\n",
       "    var value = '';\n",
       "    if (event.ctrlKey && event.which != 17)\n",
       "        value += \"ctrl+\";\n",
       "    if (event.altKey && event.which != 18)\n",
       "        value += \"alt+\";\n",
       "    if (event.shiftKey && event.which != 16)\n",
       "        value += \"shift+\";\n",
       "\n",
       "    value += 'k';\n",
       "    value += event.which.toString();\n",
       "\n",
       "    this._key_event_extra(event, name);\n",
       "\n",
       "    this.send_message(name, {key: value,\n",
       "                             guiEvent: simpleKeys(event)});\n",
       "    return false;\n",
       "}\n",
       "\n",
       "mpl.figure.prototype.toolbar_button_onclick = function(name) {\n",
       "    if (name == 'download') {\n",
       "        this.handle_save(this, null);\n",
       "    } else {\n",
       "        this.send_message(\"toolbar_button\", {name: name});\n",
       "    }\n",
       "};\n",
       "\n",
       "mpl.figure.prototype.toolbar_button_onmouseover = function(tooltip) {\n",
       "    this.message.textContent = tooltip;\n",
       "};\n",
       "mpl.toolbar_items = [[\"Home\", \"Reset original view\", \"fa fa-home icon-home\", \"home\"], [\"Back\", \"Back to previous view\", \"fa fa-arrow-left icon-arrow-left\", \"back\"], [\"Forward\", \"Forward to next view\", \"fa fa-arrow-right icon-arrow-right\", \"forward\"], [\"\", \"\", \"\", \"\"], [\"Pan\", \"Pan axes with left mouse, zoom with right\", \"fa fa-arrows icon-move\", \"pan\"], [\"Zoom\", \"Zoom to rectangle\", \"fa fa-square-o icon-check-empty\", \"zoom\"], [\"\", \"\", \"\", \"\"], [\"Download\", \"Download plot\", \"fa fa-floppy-o icon-save\", \"download\"]];\n",
       "\n",
       "mpl.extensions = [\"eps\", \"pdf\", \"png\", \"ps\", \"raw\", \"svg\"];\n",
       "\n",
       "mpl.default_extension = \"png\";var comm_websocket_adapter = function(comm) {\n",
       "    // Create a \"websocket\"-like object which calls the given IPython comm\n",
       "    // object with the appropriate methods. Currently this is a non binary\n",
       "    // socket, so there is still some room for performance tuning.\n",
       "    var ws = {};\n",
       "\n",
       "    ws.close = function() {\n",
       "        comm.close()\n",
       "    };\n",
       "    ws.send = function(m) {\n",
       "        //console.log('sending', m);\n",
       "        comm.send(m);\n",
       "    };\n",
       "    // Register the callback with on_msg.\n",
       "    comm.on_msg(function(msg) {\n",
       "        //console.log('receiving', msg['content']['data'], msg);\n",
       "        // Pass the mpl event to the overridden (by mpl) onmessage function.\n",
       "        ws.onmessage(msg['content']['data'])\n",
       "    });\n",
       "    return ws;\n",
       "}\n",
       "\n",
       "mpl.mpl_figure_comm = function(comm, msg) {\n",
       "    // This is the function which gets called when the mpl process\n",
       "    // starts-up an IPython Comm through the \"matplotlib\" channel.\n",
       "\n",
       "    var id = msg.content.data.id;\n",
       "    // Get hold of the div created by the display call when the Comm\n",
       "    // socket was opened in Python.\n",
       "    var element = $(\"#\" + id);\n",
       "    var ws_proxy = comm_websocket_adapter(comm)\n",
       "\n",
       "    function ondownload(figure, format) {\n",
       "        window.open(figure.imageObj.src);\n",
       "    }\n",
       "\n",
       "    var fig = new mpl.figure(id, ws_proxy,\n",
       "                           ondownload,\n",
       "                           element.get(0));\n",
       "\n",
       "    // Call onopen now - mpl needs it, as it is assuming we've passed it a real\n",
       "    // web socket which is closed, not our websocket->open comm proxy.\n",
       "    ws_proxy.onopen();\n",
       "\n",
       "    fig.parent_element = element.get(0);\n",
       "    fig.cell_info = mpl.find_output_cell(\"<div id='\" + id + \"'></div>\");\n",
       "    if (!fig.cell_info) {\n",
       "        console.error(\"Failed to find cell for figure\", id, fig);\n",
       "        return;\n",
       "    }\n",
       "\n",
       "    var output_index = fig.cell_info[2]\n",
       "    var cell = fig.cell_info[0];\n",
       "\n",
       "};\n",
       "\n",
       "mpl.figure.prototype.handle_close = function(fig, msg) {\n",
       "    var width = fig.canvas.width/mpl.ratio\n",
       "    fig.root.unbind('remove')\n",
       "\n",
       "    // Update the output cell to use the data from the current canvas.\n",
       "    fig.push_to_output();\n",
       "    var dataURL = fig.canvas.toDataURL();\n",
       "    // Re-enable the keyboard manager in IPython - without this line, in FF,\n",
       "    // the notebook keyboard shortcuts fail.\n",
       "    IPython.keyboard_manager.enable()\n",
       "    $(fig.parent_element).html('<img src=\"' + dataURL + '\" width=\"' + width + '\">');\n",
       "    fig.close_ws(fig, msg);\n",
       "}\n",
       "\n",
       "mpl.figure.prototype.close_ws = function(fig, msg){\n",
       "    fig.send_message('closing', msg);\n",
       "    // fig.ws.close()\n",
       "}\n",
       "\n",
       "mpl.figure.prototype.push_to_output = function(remove_interactive) {\n",
       "    // Turn the data on the canvas into data in the output cell.\n",
       "    var width = this.canvas.width/mpl.ratio\n",
       "    var dataURL = this.canvas.toDataURL();\n",
       "    this.cell_info[1]['text/html'] = '<img src=\"' + dataURL + '\" width=\"' + width + '\">';\n",
       "}\n",
       "\n",
       "mpl.figure.prototype.updated_canvas_event = function() {\n",
       "    // Tell IPython that the notebook contents must change.\n",
       "    IPython.notebook.set_dirty(true);\n",
       "    this.send_message(\"ack\", {});\n",
       "    var fig = this;\n",
       "    // Wait a second, then push the new image to the DOM so\n",
       "    // that it is saved nicely (might be nice to debounce this).\n",
       "    setTimeout(function () { fig.push_to_output() }, 1000);\n",
       "}\n",
       "\n",
       "mpl.figure.prototype._init_toolbar = function() {\n",
       "    var fig = this;\n",
       "\n",
       "    var nav_element = $('<div/>');\n",
       "    nav_element.attr('style', 'width: 100%');\n",
       "    this.root.append(nav_element);\n",
       "\n",
       "    // Define a callback function for later on.\n",
       "    function toolbar_event(event) {\n",
       "        return fig.toolbar_button_onclick(event['data']);\n",
       "    }\n",
       "    function toolbar_mouse_event(event) {\n",
       "        return fig.toolbar_button_onmouseover(event['data']);\n",
       "    }\n",
       "\n",
       "    for(var toolbar_ind in mpl.toolbar_items){\n",
       "        var name = mpl.toolbar_items[toolbar_ind][0];\n",
       "        var tooltip = mpl.toolbar_items[toolbar_ind][1];\n",
       "        var image = mpl.toolbar_items[toolbar_ind][2];\n",
       "        var method_name = mpl.toolbar_items[toolbar_ind][3];\n",
       "\n",
       "        if (!name) { continue; };\n",
       "\n",
       "        var button = $('<button class=\"btn btn-default\" href=\"#\" title=\"' + name + '\"><i class=\"fa ' + image + ' fa-lg\"></i></button>');\n",
       "        button.click(method_name, toolbar_event);\n",
       "        button.mouseover(tooltip, toolbar_mouse_event);\n",
       "        nav_element.append(button);\n",
       "    }\n",
       "\n",
       "    // Add the status bar.\n",
       "    var status_bar = $('<span class=\"mpl-message\" style=\"text-align:right; float: right;\"/>');\n",
       "    nav_element.append(status_bar);\n",
       "    this.message = status_bar[0];\n",
       "\n",
       "    // Add the close button to the window.\n",
       "    var buttongrp = $('<div class=\"btn-group inline pull-right\"></div>');\n",
       "    var button = $('<button class=\"btn btn-mini btn-primary\" href=\"#\" title=\"Stop Interaction\"><i class=\"fa fa-power-off icon-remove icon-large\"></i></button>');\n",
       "    button.click(function (evt) { fig.handle_close(fig, {}); } );\n",
       "    button.mouseover('Stop Interaction', toolbar_mouse_event);\n",
       "    buttongrp.append(button);\n",
       "    var titlebar = this.root.find($('.ui-dialog-titlebar'));\n",
       "    titlebar.prepend(buttongrp);\n",
       "}\n",
       "\n",
       "mpl.figure.prototype._root_extra_style = function(el){\n",
       "    var fig = this\n",
       "    el.on(\"remove\", function(){\n",
       "\tfig.close_ws(fig, {});\n",
       "    });\n",
       "}\n",
       "\n",
       "mpl.figure.prototype._canvas_extra_style = function(el){\n",
       "    // this is important to make the div 'focusable\n",
       "    el.attr('tabindex', 0)\n",
       "    // reach out to IPython and tell the keyboard manager to turn it's self\n",
       "    // off when our div gets focus\n",
       "\n",
       "    // location in version 3\n",
       "    if (IPython.notebook.keyboard_manager) {\n",
       "        IPython.notebook.keyboard_manager.register_events(el);\n",
       "    }\n",
       "    else {\n",
       "        // location in version 2\n",
       "        IPython.keyboard_manager.register_events(el);\n",
       "    }\n",
       "\n",
       "}\n",
       "\n",
       "mpl.figure.prototype._key_event_extra = function(event, name) {\n",
       "    var manager = IPython.notebook.keyboard_manager;\n",
       "    if (!manager)\n",
       "        manager = IPython.keyboard_manager;\n",
       "\n",
       "    // Check for shift+enter\n",
       "    if (event.shiftKey && event.which == 13) {\n",
       "        this.canvas_div.blur();\n",
       "        // select the cell after this one\n",
       "        var index = IPython.notebook.find_cell_index(this.cell_info[0]);\n",
       "        IPython.notebook.select(index + 1);\n",
       "    }\n",
       "}\n",
       "\n",
       "mpl.figure.prototype.handle_save = function(fig, msg) {\n",
       "    fig.ondownload(fig, null);\n",
       "}\n",
       "\n",
       "\n",
       "mpl.find_output_cell = function(html_output) {\n",
       "    // Return the cell and output element which can be found *uniquely* in the notebook.\n",
       "    // Note - this is a bit hacky, but it is done because the \"notebook_saving.Notebook\"\n",
       "    // IPython event is triggered only after the cells have been serialised, which for\n",
       "    // our purposes (turning an active figure into a static one), is too late.\n",
       "    var cells = IPython.notebook.get_cells();\n",
       "    var ncells = cells.length;\n",
       "    for (var i=0; i<ncells; i++) {\n",
       "        var cell = cells[i];\n",
       "        if (cell.cell_type === 'code'){\n",
       "            for (var j=0; j<cell.output_area.outputs.length; j++) {\n",
       "                var data = cell.output_area.outputs[j];\n",
       "                if (data.data) {\n",
       "                    // IPython >= 3 moved mimebundle to data attribute of output\n",
       "                    data = data.data;\n",
       "                }\n",
       "                if (data['text/html'] == html_output) {\n",
       "                    return [cell, data, j];\n",
       "                }\n",
       "            }\n",
       "        }\n",
       "    }\n",
       "}\n",
       "\n",
       "// Register the function which deals with the matplotlib target/channel.\n",
       "// The kernel may be null if the page has been refreshed.\n",
       "if (IPython.notebook.kernel != null) {\n",
       "    IPython.notebook.kernel.comm_manager.register_target('matplotlib', mpl.mpl_figure_comm);\n",
       "}\n"
      ],
      "text/plain": [
       "<IPython.core.display.Javascript object>"
      ]
     },
     "metadata": {},
     "output_type": "display_data"
    },
    {
     "data": {
      "text/html": [
       "<img src=\"data:image/png;base64,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\" width=\"400\">"
      ],
      "text/plain": [
       "<IPython.core.display.HTML object>"
      ]
     },
     "metadata": {},
     "output_type": "display_data"
    }
   ],
   "source": [
    "fig, ax = plt.subplots(figsize=(4, 3))\n",
    "ax.hist(abs(gradh_CH4_nr.U_1.ravel()), bins=np.logspace(np.log10(1e-4), np.log10(1e10), 50), alpha=0.5)\n",
    "ax.hist(abs(gradh_CH4.U_1.ravel()), bins=np.logspace(np.log10(1e-4), np.log10(1e10), 50), alpha=0.5)\n",
    "ax.set_xscale(\"log\")\n",
    "fig.tight_layout()"
   ]
  },
  {
   "cell_type": "markdown",
   "metadata": {
    "hidden": true
   },
   "source": [
    "我们确实会发现，蓝色的条甚至可以延伸到 $10^{10}$ 量级。经过后文的叙述，我们应当能知道，由于甲烷分子具有 $T_d$ 对称性，因此存在三维不可约表示下的简并轨道，导致 $U_{ij}^{A_t}$ 或 $U_{ab}^{A_t}$ 计算式中，处在分母的 $\\varepsilon_i - \\varepsilon_j$ 或 $\\varepsilon_a - \\varepsilon_b$ 为零，从而产生巨大的数值问题。"
   ]
  },
  {
   "cell_type": "code",
   "execution_count": 66,
   "metadata": {
    "hidden": true
   },
   "outputs": [
    {
     "data": {
      "text/plain": [
       "array([-11.20416,  -0.94871,  -0.54481,  -0.54481,  -0.54481,   0.25607,   0.32516,   0.32516,   0.32516,   0.7408 ,   0.7408 ,   0.7408 ,   1.23234,\n",
       "         1.23234,   1.23234,   1.25106,   1.32904])"
      ]
     },
     "execution_count": 66,
     "metadata": {},
     "output_type": "execute_result"
    }
   ],
   "source": [
    "gradh_CH4.e"
   ]
  },
  {
   "cell_type": "markdown",
   "metadata": {
    "hidden": true
   },
   "source": [
    "而非对称的双氧水分子对称性较低，因此不会产生如此大的数值问题；但即使如此，若我们现在增大基组，则会增加大量的空轨道，从而缩小许多 $\\varepsilon_a - \\varepsilon_b$ 的值，进而数值问题也会越严重。因此，即使非对称双氧水不具有高对称性，也仍然需要避免在实际计算中使用 $U_{ij}^\\mathbb{A}$ 或 $U_{ab}^\\mathbb{A}$，而应用 $S_{pq}^\\mathbb{A}$ 或 $\\mathscr{U}_{pq}^\\mathbb{A}$ 替代。"
   ]
  },
  {
   "cell_type": "markdown",
   "metadata": {
    "heading_collapsed": true
   },
   "source": [
    "### 任务 (2)"
   ]
  },
  {
   "cell_type": "markdown",
   "metadata": {
    "hidden": true
   },
   "source": [
    "待证明等式是\n",
    "\n",
    "$$\n",
    "\\begin{align}\n",
    "\\frac{\\partial F_{\\mu \\nu}}{\\partial A_t}\n",
    "&= 2 \\left( (\\mu \\nu | \\kappa \\lambda) - \\frac{1}{2} (\\mu \\kappa | \\nu \\lambda) \\right) \\big( C_{\\kappa m} C_{\\lambda i} + C_{\\kappa i} C_{\\lambda m} \\big) U_{mi}^{A_t} \\\\\n",
    "&= \\big( 4 (\\mu \\nu | \\kappa \\lambda) - (\\mu \\kappa | \\nu \\lambda) - (\\mu \\lambda | \\kappa \\nu) \\big) C_{\\kappa m} C_{\\lambda i} U_{mi}^{A_t}\n",
    "\\end{align}\n",
    "$$"
   ]
  },
  {
   "cell_type": "markdown",
   "metadata": {
    "hidden": true
   },
   "source": [
    "首先，我们需要知道上面式子是对 $\\kappa, \\lambda, m, i$ 四个角标求和。我们将第一行的待证式拆开来写为 (非 Einstein Summation)\n",
    "\n",
    "$$\n",
    "\\sum_{\\kappa \\lambda m i} \\big( 2 (\\mu \\nu | \\kappa \\lambda) - (\\mu \\kappa | \\nu \\lambda) \\big) C_{\\kappa m} C_{\\lambda i} U_{mi}^{A_t} + \\sum_{\\kappa \\lambda m i} \\big( 2 (\\mu \\nu | \\kappa \\lambda) - (\\mu \\kappa | \\nu \\lambda) \\big) C_{\\kappa i} C_{\\lambda m} U_{mi}^{A_t}\n",
    "$$"
   ]
  },
  {
   "cell_type": "markdown",
   "metadata": {
    "hidden": true
   },
   "source": [
    "保持上式第一项不动，第二项交换角标 $\\kappa, \\lambda$ 得到\n",
    "\n",
    "$$\n",
    "\\sum_{\\lambda \\kappa m i} \\big( 2 (\\mu \\nu | \\lambda \\kappa) - (\\mu \\lambda | \\nu \\kappa) \\big) C_{\\lambda i} C_{\\kappa m} U_{mi}^{A_t}\n",
    "$$"
   ]
  },
  {
   "cell_type": "markdown",
   "metadata": {
    "hidden": true
   },
   "source": [
    "我们注意到，此时两项都有相同的公因式 $C_{\\kappa m} C_{\\lambda i} U_{mi}^{A_t}$ 可以提出来；剩下的部分相加即可：\n",
    "\n",
    "$$\n",
    "\\sum_{\\kappa \\lambda m i} \\big( 2 (\\mu \\nu | \\kappa \\lambda) + 2 (\\mu \\nu | \\lambda \\kappa) - (\\mu \\kappa | \\nu \\lambda) - (\\mu \\lambda | \\nu \\kappa) \\big) C_{\\kappa m} C_{\\lambda i} U_{mi}^{A_t}\n",
    "$$"
   ]
  },
  {
   "cell_type": "markdown",
   "metadata": {
    "hidden": true
   },
   "source": [
    "我们注意到原子轨道具有对称性，因此 $(\\mu \\nu | \\kappa \\lambda) = (\\mu \\nu | \\lambda \\kappa)$，以及 $(\\mu \\lambda | \\kappa \\nu)$；因此，上式可以写为\n",
    "\n",
    "$$\n",
    "\\sum_{\\kappa \\lambda m i} \\big( 4 (\\mu \\nu | \\kappa \\lambda) - (\\mu \\kappa | \\nu \\lambda) - (\\mu \\lambda | \\kappa \\nu) \\big) C_{\\kappa m} C_{\\lambda i} U_{mi}^{A_t}\n",
    "$$"
   ]
  },
  {
   "cell_type": "markdown",
   "metadata": {
    "hidden": true
   },
   "source": [
    "这就是待证等式的第二行了。"
   ]
  },
  {
   "cell_type": "markdown",
   "metadata": {
    "heading_collapsed": true
   },
   "source": [
    "### 任务 (3)"
   ]
  },
  {
   "cell_type": "markdown",
   "metadata": {
    "hidden": true
   },
   "source": [
    "待证等式是\n",
    "\n",
    "$$\n",
    "\\frac{\\partial F_{pq}}{\\partial {A_t}} = F_{pq}^{A_t} + A_{pq, mi} U_{mi}^{A_t} + F_{pm} U_{mq}^{A_t} + F_{mq} U_{mp}^{A_t}\n",
    "$$"
   ]
  },
  {
   "cell_type": "markdown",
   "metadata": {
    "hidden": true
   },
   "source": [
    "我们的推导前提是\n",
    "\n",
    "$$\n",
    "\\frac{\\partial F_{\\mu \\nu}}{\\partial A_t} = F_{\\mu \\nu}^{A_t} + A_{\\mu \\nu, \\kappa \\lambda} C_{\\kappa m} C_{\\lambda i} U_{mi}^{A_t}\n",
    "$$"
   ]
  },
  {
   "cell_type": "markdown",
   "metadata": {
    "hidden": true
   },
   "source": [
    "首先，通过 $F_{pq} = C_{\\mu p} F_{\\mu \\nu} C_{\\nu q}$ 我们知道\n",
    "\n",
    "$$\n",
    "\\frac{\\partial F_{pq}}{\\partial {A_t}} = C_{\\mu p} \\frac{\\partial F_{\\mu \\nu}}{\\partial A_t} C_{\\nu q} + F_{pm} U_{mq}^{A_t} + F_{mq} U_{mp}^{A_t}\n",
    "$$"
   ]
  },
  {
   "cell_type": "markdown",
   "metadata": {
    "hidden": true
   },
   "source": [
    "其中，\n",
    "\n",
    "$$\n",
    "\\begin{align}\n",
    "C_{\\mu p} \\frac{\\partial F_{\\mu \\nu}}{\\partial A_t} C_{\\nu q}\n",
    "&= C_{\\mu p} F_{\\mu \\nu}^{A_t} C_{\\nu q} + C_{\\mu p} C_{\\nu q} A_{\\mu \\nu, \\kappa \\lambda} C_{\\kappa m} C_{\\lambda i} U_{mi}^{A_t} \\\\\n",
    "&= F_{pq}^{A_t} + A_{pq, mi} U_{mi}^{A_t}\n",
    "\\end{align}\n",
    "$$"
   ]
  },
  {
   "cell_type": "markdown",
   "metadata": {
    "hidden": true
   },
   "source": [
    "证明完毕。"
   ]
  },
  {
   "cell_type": "markdown",
   "metadata": {
    "heading_collapsed": true
   },
   "source": [
    "### 任务 (4)"
   ]
  },
  {
   "cell_type": "markdown",
   "metadata": {
    "hidden": true
   },
   "source": [
    "我们要求取的全导数为\n",
    "\n",
    "$$\n",
    "\\frac{\\partial F_{pq}}{\\partial {A_t}} = F_{pq}^{A_t} + A_{pq, mi} U_{mi}^{A_t} + F_{pm} U_{mq}^{A_t} + F_{mq} U_{mp}^{A_t}\n",
    "$$"
   ]
  },
  {
   "cell_type": "markdown",
   "metadata": {
    "hidden": true
   },
   "source": [
    "解析导数我们记为 `d_F_0_mo` $\\partial_{A_t} F_{pq}$："
   ]
  },
  {
   "cell_type": "code",
   "execution_count": 67,
   "metadata": {
    "hidden": true
   },
   "outputs": [],
   "source": [
    "d_F_0_mo = (\n",
    "    + F_1_mo\n",
    "    + np.einsum(\"pqmi, Atmi -> Atpq\", A_0_mo[:, :, :, so], to_natm_3(gradh_nr.U_1)[:, :, :, so])\n",
    "    + np.einsum(\"pm, Atmq -> Atpq\", F_0_mo, to_natm_3(gradh_nr.U_1))\n",
    "    + np.einsum(\"mq, Atmp -> Atpq\", F_0_mo, to_natm_3(gradh_nr.U_1))\n",
    ")"
   ]
  },
  {
   "cell_type": "markdown",
   "metadata": {
    "hidden": true
   },
   "source": [
    "数值导数我们记为 `nd_F_0_mo`："
   ]
  },
  {
   "cell_type": "code",
   "execution_count": 68,
   "metadata": {
    "hidden": true
   },
   "outputs": [],
   "source": [
    "nd_F_0_mo = NumericDiff(gradn, lambda gradh: gradh.F_0_mo).derivative.reshape(natm, 3, nao, nao)"
   ]
  },
  {
   "cell_type": "markdown",
   "metadata": {
    "hidden": true
   },
   "source": [
    "但比较有意思的是，这次我们不能简单地通过查看图像来判断是否上述数值与解析导数是一致的："
   ]
  },
  {
   "cell_type": "code",
   "execution_count": 69,
   "metadata": {
    "hidden": true
   },
   "outputs": [
    {
     "data": {
      "application/javascript": [
       "/* Put everything inside the global mpl namespace */\n",
       "window.mpl = {};\n",
       "\n",
       "\n",
       "mpl.get_websocket_type = function() {\n",
       "    if (typeof(WebSocket) !== 'undefined') {\n",
       "        return WebSocket;\n",
       "    } else if (typeof(MozWebSocket) !== 'undefined') {\n",
       "        return MozWebSocket;\n",
       "    } else {\n",
       "        alert('Your browser does not have WebSocket support. ' +\n",
       "              'Please try Chrome, Safari or Firefox ≥ 6. ' +\n",
       "              'Firefox 4 and 5 are also supported but you ' +\n",
       "              'have to enable WebSockets in about:config.');\n",
       "    };\n",
       "}\n",
       "\n",
       "mpl.figure = function(figure_id, websocket, ondownload, parent_element) {\n",
       "    this.id = figure_id;\n",
       "\n",
       "    this.ws = websocket;\n",
       "\n",
       "    this.supports_binary = (this.ws.binaryType != undefined);\n",
       "\n",
       "    if (!this.supports_binary) {\n",
       "        var warnings = document.getElementById(\"mpl-warnings\");\n",
       "        if (warnings) {\n",
       "            warnings.style.display = 'block';\n",
       "            warnings.textContent = (\n",
       "                \"This browser does not support binary websocket messages. \" +\n",
       "                    \"Performance may be slow.\");\n",
       "        }\n",
       "    }\n",
       "\n",
       "    this.imageObj = new Image();\n",
       "\n",
       "    this.context = undefined;\n",
       "    this.message = undefined;\n",
       "    this.canvas = undefined;\n",
       "    this.rubberband_canvas = undefined;\n",
       "    this.rubberband_context = undefined;\n",
       "    this.format_dropdown = undefined;\n",
       "\n",
       "    this.image_mode = 'full';\n",
       "\n",
       "    this.root = $('<div/>');\n",
       "    this._root_extra_style(this.root)\n",
       "    this.root.attr('style', 'display: inline-block');\n",
       "\n",
       "    $(parent_element).append(this.root);\n",
       "\n",
       "    this._init_header(this);\n",
       "    this._init_canvas(this);\n",
       "    this._init_toolbar(this);\n",
       "\n",
       "    var fig = this;\n",
       "\n",
       "    this.waiting = false;\n",
       "\n",
       "    this.ws.onopen =  function () {\n",
       "            fig.send_message(\"supports_binary\", {value: fig.supports_binary});\n",
       "            fig.send_message(\"send_image_mode\", {});\n",
       "            if (mpl.ratio != 1) {\n",
       "                fig.send_message(\"set_dpi_ratio\", {'dpi_ratio': mpl.ratio});\n",
       "            }\n",
       "            fig.send_message(\"refresh\", {});\n",
       "        }\n",
       "\n",
       "    this.imageObj.onload = function() {\n",
       "            if (fig.image_mode == 'full') {\n",
       "                // Full images could contain transparency (where diff images\n",
       "                // almost always do), so we need to clear the canvas so that\n",
       "                // there is no ghosting.\n",
       "                fig.context.clearRect(0, 0, fig.canvas.width, fig.canvas.height);\n",
       "            }\n",
       "            fig.context.drawImage(fig.imageObj, 0, 0);\n",
       "        };\n",
       "\n",
       "    this.imageObj.onunload = function() {\n",
       "        fig.ws.close();\n",
       "    }\n",
       "\n",
       "    this.ws.onmessage = this._make_on_message_function(this);\n",
       "\n",
       "    this.ondownload = ondownload;\n",
       "}\n",
       "\n",
       "mpl.figure.prototype._init_header = function() {\n",
       "    var titlebar = $(\n",
       "        '<div class=\"ui-dialog-titlebar ui-widget-header ui-corner-all ' +\n",
       "        'ui-helper-clearfix\"/>');\n",
       "    var titletext = $(\n",
       "        '<div class=\"ui-dialog-title\" style=\"width: 100%; ' +\n",
       "        'text-align: center; padding: 3px;\"/>');\n",
       "    titlebar.append(titletext)\n",
       "    this.root.append(titlebar);\n",
       "    this.header = titletext[0];\n",
       "}\n",
       "\n",
       "\n",
       "\n",
       "mpl.figure.prototype._canvas_extra_style = function(canvas_div) {\n",
       "\n",
       "}\n",
       "\n",
       "\n",
       "mpl.figure.prototype._root_extra_style = function(canvas_div) {\n",
       "\n",
       "}\n",
       "\n",
       "mpl.figure.prototype._init_canvas = function() {\n",
       "    var fig = this;\n",
       "\n",
       "    var canvas_div = $('<div/>');\n",
       "\n",
       "    canvas_div.attr('style', 'position: relative; clear: both; outline: 0');\n",
       "\n",
       "    function canvas_keyboard_event(event) {\n",
       "        return fig.key_event(event, event['data']);\n",
       "    }\n",
       "\n",
       "    canvas_div.keydown('key_press', canvas_keyboard_event);\n",
       "    canvas_div.keyup('key_release', canvas_keyboard_event);\n",
       "    this.canvas_div = canvas_div\n",
       "    this._canvas_extra_style(canvas_div)\n",
       "    this.root.append(canvas_div);\n",
       "\n",
       "    var canvas = $('<canvas/>');\n",
       "    canvas.addClass('mpl-canvas');\n",
       "    canvas.attr('style', \"left: 0; top: 0; z-index: 0; outline: 0\")\n",
       "\n",
       "    this.canvas = canvas[0];\n",
       "    this.context = canvas[0].getContext(\"2d\");\n",
       "\n",
       "    var backingStore = this.context.backingStorePixelRatio ||\n",
       "\tthis.context.webkitBackingStorePixelRatio ||\n",
       "\tthis.context.mozBackingStorePixelRatio ||\n",
       "\tthis.context.msBackingStorePixelRatio ||\n",
       "\tthis.context.oBackingStorePixelRatio ||\n",
       "\tthis.context.backingStorePixelRatio || 1;\n",
       "\n",
       "    mpl.ratio = (window.devicePixelRatio || 1) / backingStore;\n",
       "\n",
       "    var rubberband = $('<canvas/>');\n",
       "    rubberband.attr('style', \"position: absolute; left: 0; top: 0; z-index: 1;\")\n",
       "\n",
       "    var pass_mouse_events = true;\n",
       "\n",
       "    canvas_div.resizable({\n",
       "        start: function(event, ui) {\n",
       "            pass_mouse_events = false;\n",
       "        },\n",
       "        resize: function(event, ui) {\n",
       "            fig.request_resize(ui.size.width, ui.size.height);\n",
       "        },\n",
       "        stop: function(event, ui) {\n",
       "            pass_mouse_events = true;\n",
       "            fig.request_resize(ui.size.width, ui.size.height);\n",
       "        },\n",
       "    });\n",
       "\n",
       "    function mouse_event_fn(event) {\n",
       "        if (pass_mouse_events)\n",
       "            return fig.mouse_event(event, event['data']);\n",
       "    }\n",
       "\n",
       "    rubberband.mousedown('button_press', mouse_event_fn);\n",
       "    rubberband.mouseup('button_release', mouse_event_fn);\n",
       "    // Throttle sequential mouse events to 1 every 20ms.\n",
       "    rubberband.mousemove('motion_notify', mouse_event_fn);\n",
       "\n",
       "    rubberband.mouseenter('figure_enter', mouse_event_fn);\n",
       "    rubberband.mouseleave('figure_leave', mouse_event_fn);\n",
       "\n",
       "    canvas_div.on(\"wheel\", function (event) {\n",
       "        event = event.originalEvent;\n",
       "        event['data'] = 'scroll'\n",
       "        if (event.deltaY < 0) {\n",
       "            event.step = 1;\n",
       "        } else {\n",
       "            event.step = -1;\n",
       "        }\n",
       "        mouse_event_fn(event);\n",
       "    });\n",
       "\n",
       "    canvas_div.append(canvas);\n",
       "    canvas_div.append(rubberband);\n",
       "\n",
       "    this.rubberband = rubberband;\n",
       "    this.rubberband_canvas = rubberband[0];\n",
       "    this.rubberband_context = rubberband[0].getContext(\"2d\");\n",
       "    this.rubberband_context.strokeStyle = \"#000000\";\n",
       "\n",
       "    this._resize_canvas = function(width, height) {\n",
       "        // Keep the size of the canvas, canvas container, and rubber band\n",
       "        // canvas in synch.\n",
       "        canvas_div.css('width', width)\n",
       "        canvas_div.css('height', height)\n",
       "\n",
       "        canvas.attr('width', width * mpl.ratio);\n",
       "        canvas.attr('height', height * mpl.ratio);\n",
       "        canvas.attr('style', 'width: ' + width + 'px; height: ' + height + 'px;');\n",
       "\n",
       "        rubberband.attr('width', width);\n",
       "        rubberband.attr('height', height);\n",
       "    }\n",
       "\n",
       "    // Set the figure to an initial 600x600px, this will subsequently be updated\n",
       "    // upon first draw.\n",
       "    this._resize_canvas(600, 600);\n",
       "\n",
       "    // Disable right mouse context menu.\n",
       "    $(this.rubberband_canvas).bind(\"contextmenu\",function(e){\n",
       "        return false;\n",
       "    });\n",
       "\n",
       "    function set_focus () {\n",
       "        canvas.focus();\n",
       "        canvas_div.focus();\n",
       "    }\n",
       "\n",
       "    window.setTimeout(set_focus, 100);\n",
       "}\n",
       "\n",
       "mpl.figure.prototype._init_toolbar = function() {\n",
       "    var fig = this;\n",
       "\n",
       "    var nav_element = $('<div/>');\n",
       "    nav_element.attr('style', 'width: 100%');\n",
       "    this.root.append(nav_element);\n",
       "\n",
       "    // Define a callback function for later on.\n",
       "    function toolbar_event(event) {\n",
       "        return fig.toolbar_button_onclick(event['data']);\n",
       "    }\n",
       "    function toolbar_mouse_event(event) {\n",
       "        return fig.toolbar_button_onmouseover(event['data']);\n",
       "    }\n",
       "\n",
       "    for(var toolbar_ind in mpl.toolbar_items) {\n",
       "        var name = mpl.toolbar_items[toolbar_ind][0];\n",
       "        var tooltip = mpl.toolbar_items[toolbar_ind][1];\n",
       "        var image = mpl.toolbar_items[toolbar_ind][2];\n",
       "        var method_name = mpl.toolbar_items[toolbar_ind][3];\n",
       "\n",
       "        if (!name) {\n",
       "            // put a spacer in here.\n",
       "            continue;\n",
       "        }\n",
       "        var button = $('<button/>');\n",
       "        button.addClass('ui-button ui-widget ui-state-default ui-corner-all ' +\n",
       "                        'ui-button-icon-only');\n",
       "        button.attr('role', 'button');\n",
       "        button.attr('aria-disabled', 'false');\n",
       "        button.click(method_name, toolbar_event);\n",
       "        button.mouseover(tooltip, toolbar_mouse_event);\n",
       "\n",
       "        var icon_img = $('<span/>');\n",
       "        icon_img.addClass('ui-button-icon-primary ui-icon');\n",
       "        icon_img.addClass(image);\n",
       "        icon_img.addClass('ui-corner-all');\n",
       "\n",
       "        var tooltip_span = $('<span/>');\n",
       "        tooltip_span.addClass('ui-button-text');\n",
       "        tooltip_span.html(tooltip);\n",
       "\n",
       "        button.append(icon_img);\n",
       "        button.append(tooltip_span);\n",
       "\n",
       "        nav_element.append(button);\n",
       "    }\n",
       "\n",
       "    var fmt_picker_span = $('<span/>');\n",
       "\n",
       "    var fmt_picker = $('<select/>');\n",
       "    fmt_picker.addClass('mpl-toolbar-option ui-widget ui-widget-content');\n",
       "    fmt_picker_span.append(fmt_picker);\n",
       "    nav_element.append(fmt_picker_span);\n",
       "    this.format_dropdown = fmt_picker[0];\n",
       "\n",
       "    for (var ind in mpl.extensions) {\n",
       "        var fmt = mpl.extensions[ind];\n",
       "        var option = $(\n",
       "            '<option/>', {selected: fmt === mpl.default_extension}).html(fmt);\n",
       "        fmt_picker.append(option);\n",
       "    }\n",
       "\n",
       "    // Add hover states to the ui-buttons\n",
       "    $( \".ui-button\" ).hover(\n",
       "        function() { $(this).addClass(\"ui-state-hover\");},\n",
       "        function() { $(this).removeClass(\"ui-state-hover\");}\n",
       "    );\n",
       "\n",
       "    var status_bar = $('<span class=\"mpl-message\"/>');\n",
       "    nav_element.append(status_bar);\n",
       "    this.message = status_bar[0];\n",
       "}\n",
       "\n",
       "mpl.figure.prototype.request_resize = function(x_pixels, y_pixels) {\n",
       "    // Request matplotlib to resize the figure. Matplotlib will then trigger a resize in the client,\n",
       "    // which will in turn request a refresh of the image.\n",
       "    this.send_message('resize', {'width': x_pixels, 'height': y_pixels});\n",
       "}\n",
       "\n",
       "mpl.figure.prototype.send_message = function(type, properties) {\n",
       "    properties['type'] = type;\n",
       "    properties['figure_id'] = this.id;\n",
       "    this.ws.send(JSON.stringify(properties));\n",
       "}\n",
       "\n",
       "mpl.figure.prototype.send_draw_message = function() {\n",
       "    if (!this.waiting) {\n",
       "        this.waiting = true;\n",
       "        this.ws.send(JSON.stringify({type: \"draw\", figure_id: this.id}));\n",
       "    }\n",
       "}\n",
       "\n",
       "\n",
       "mpl.figure.prototype.handle_save = function(fig, msg) {\n",
       "    var format_dropdown = fig.format_dropdown;\n",
       "    var format = format_dropdown.options[format_dropdown.selectedIndex].value;\n",
       "    fig.ondownload(fig, format);\n",
       "}\n",
       "\n",
       "\n",
       "mpl.figure.prototype.handle_resize = function(fig, msg) {\n",
       "    var size = msg['size'];\n",
       "    if (size[0] != fig.canvas.width || size[1] != fig.canvas.height) {\n",
       "        fig._resize_canvas(size[0], size[1]);\n",
       "        fig.send_message(\"refresh\", {});\n",
       "    };\n",
       "}\n",
       "\n",
       "mpl.figure.prototype.handle_rubberband = function(fig, msg) {\n",
       "    var x0 = msg['x0'] / mpl.ratio;\n",
       "    var y0 = (fig.canvas.height - msg['y0']) / mpl.ratio;\n",
       "    var x1 = msg['x1'] / mpl.ratio;\n",
       "    var y1 = (fig.canvas.height - msg['y1']) / mpl.ratio;\n",
       "    x0 = Math.floor(x0) + 0.5;\n",
       "    y0 = Math.floor(y0) + 0.5;\n",
       "    x1 = Math.floor(x1) + 0.5;\n",
       "    y1 = Math.floor(y1) + 0.5;\n",
       "    var min_x = Math.min(x0, x1);\n",
       "    var min_y = Math.min(y0, y1);\n",
       "    var width = Math.abs(x1 - x0);\n",
       "    var height = Math.abs(y1 - y0);\n",
       "\n",
       "    fig.rubberband_context.clearRect(\n",
       "        0, 0, fig.canvas.width / mpl.ratio, fig.canvas.height / mpl.ratio);\n",
       "\n",
       "    fig.rubberband_context.strokeRect(min_x, min_y, width, height);\n",
       "}\n",
       "\n",
       "mpl.figure.prototype.handle_figure_label = function(fig, msg) {\n",
       "    // Updates the figure title.\n",
       "    fig.header.textContent = msg['label'];\n",
       "}\n",
       "\n",
       "mpl.figure.prototype.handle_cursor = function(fig, msg) {\n",
       "    var cursor = msg['cursor'];\n",
       "    switch(cursor)\n",
       "    {\n",
       "    case 0:\n",
       "        cursor = 'pointer';\n",
       "        break;\n",
       "    case 1:\n",
       "        cursor = 'default';\n",
       "        break;\n",
       "    case 2:\n",
       "        cursor = 'crosshair';\n",
       "        break;\n",
       "    case 3:\n",
       "        cursor = 'move';\n",
       "        break;\n",
       "    }\n",
       "    fig.rubberband_canvas.style.cursor = cursor;\n",
       "}\n",
       "\n",
       "mpl.figure.prototype.handle_message = function(fig, msg) {\n",
       "    fig.message.textContent = msg['message'];\n",
       "}\n",
       "\n",
       "mpl.figure.prototype.handle_draw = function(fig, msg) {\n",
       "    // Request the server to send over a new figure.\n",
       "    fig.send_draw_message();\n",
       "}\n",
       "\n",
       "mpl.figure.prototype.handle_image_mode = function(fig, msg) {\n",
       "    fig.image_mode = msg['mode'];\n",
       "}\n",
       "\n",
       "mpl.figure.prototype.updated_canvas_event = function() {\n",
       "    // Called whenever the canvas gets updated.\n",
       "    this.send_message(\"ack\", {});\n",
       "}\n",
       "\n",
       "// A function to construct a web socket function for onmessage handling.\n",
       "// Called in the figure constructor.\n",
       "mpl.figure.prototype._make_on_message_function = function(fig) {\n",
       "    return function socket_on_message(evt) {\n",
       "        if (evt.data instanceof Blob) {\n",
       "            /* FIXME: We get \"Resource interpreted as Image but\n",
       "             * transferred with MIME type text/plain:\" errors on\n",
       "             * Chrome.  But how to set the MIME type?  It doesn't seem\n",
       "             * to be part of the websocket stream */\n",
       "            evt.data.type = \"image/png\";\n",
       "\n",
       "            /* Free the memory for the previous frames */\n",
       "            if (fig.imageObj.src) {\n",
       "                (window.URL || window.webkitURL).revokeObjectURL(\n",
       "                    fig.imageObj.src);\n",
       "            }\n",
       "\n",
       "            fig.imageObj.src = (window.URL || window.webkitURL).createObjectURL(\n",
       "                evt.data);\n",
       "            fig.updated_canvas_event();\n",
       "            fig.waiting = false;\n",
       "            return;\n",
       "        }\n",
       "        else if (typeof evt.data === 'string' && evt.data.slice(0, 21) == \"data:image/png;base64\") {\n",
       "            fig.imageObj.src = evt.data;\n",
       "            fig.updated_canvas_event();\n",
       "            fig.waiting = false;\n",
       "            return;\n",
       "        }\n",
       "\n",
       "        var msg = JSON.parse(evt.data);\n",
       "        var msg_type = msg['type'];\n",
       "\n",
       "        // Call the  \"handle_{type}\" callback, which takes\n",
       "        // the figure and JSON message as its only arguments.\n",
       "        try {\n",
       "            var callback = fig[\"handle_\" + msg_type];\n",
       "        } catch (e) {\n",
       "            console.log(\"No handler for the '\" + msg_type + \"' message type: \", msg);\n",
       "            return;\n",
       "        }\n",
       "\n",
       "        if (callback) {\n",
       "            try {\n",
       "                // console.log(\"Handling '\" + msg_type + \"' message: \", msg);\n",
       "                callback(fig, msg);\n",
       "            } catch (e) {\n",
       "                console.log(\"Exception inside the 'handler_\" + msg_type + \"' callback:\", e, e.stack, msg);\n",
       "            }\n",
       "        }\n",
       "    };\n",
       "}\n",
       "\n",
       "// from http://stackoverflow.com/questions/1114465/getting-mouse-location-in-canvas\n",
       "mpl.findpos = function(e) {\n",
       "    //this section is from http://www.quirksmode.org/js/events_properties.html\n",
       "    var targ;\n",
       "    if (!e)\n",
       "        e = window.event;\n",
       "    if (e.target)\n",
       "        targ = e.target;\n",
       "    else if (e.srcElement)\n",
       "        targ = e.srcElement;\n",
       "    if (targ.nodeType == 3) // defeat Safari bug\n",
       "        targ = targ.parentNode;\n",
       "\n",
       "    // jQuery normalizes the pageX and pageY\n",
       "    // pageX,Y are the mouse positions relative to the document\n",
       "    // offset() returns the position of the element relative to the document\n",
       "    var x = e.pageX - $(targ).offset().left;\n",
       "    var y = e.pageY - $(targ).offset().top;\n",
       "\n",
       "    return {\"x\": x, \"y\": y};\n",
       "};\n",
       "\n",
       "/*\n",
       " * return a copy of an object with only non-object keys\n",
       " * we need this to avoid circular references\n",
       " * http://stackoverflow.com/a/24161582/3208463\n",
       " */\n",
       "function simpleKeys (original) {\n",
       "  return Object.keys(original).reduce(function (obj, key) {\n",
       "    if (typeof original[key] !== 'object')\n",
       "        obj[key] = original[key]\n",
       "    return obj;\n",
       "  }, {});\n",
       "}\n",
       "\n",
       "mpl.figure.prototype.mouse_event = function(event, name) {\n",
       "    var canvas_pos = mpl.findpos(event)\n",
       "\n",
       "    if (name === 'button_press')\n",
       "    {\n",
       "        this.canvas.focus();\n",
       "        this.canvas_div.focus();\n",
       "    }\n",
       "\n",
       "    var x = canvas_pos.x * mpl.ratio;\n",
       "    var y = canvas_pos.y * mpl.ratio;\n",
       "\n",
       "    this.send_message(name, {x: x, y: y, button: event.button,\n",
       "                             step: event.step,\n",
       "                             guiEvent: simpleKeys(event)});\n",
       "\n",
       "    /* This prevents the web browser from automatically changing to\n",
       "     * the text insertion cursor when the button is pressed.  We want\n",
       "     * to control all of the cursor setting manually through the\n",
       "     * 'cursor' event from matplotlib */\n",
       "    event.preventDefault();\n",
       "    return false;\n",
       "}\n",
       "\n",
       "mpl.figure.prototype._key_event_extra = function(event, name) {\n",
       "    // Handle any extra behaviour associated with a key event\n",
       "}\n",
       "\n",
       "mpl.figure.prototype.key_event = function(event, name) {\n",
       "\n",
       "    // Prevent repeat events\n",
       "    if (name == 'key_press')\n",
       "    {\n",
       "        if (event.which === this._key)\n",
       "            return;\n",
       "        else\n",
       "            this._key = event.which;\n",
       "    }\n",
       "    if (name == 'key_release')\n",
       "        this._key = null;\n",
       "\n",
       "    var value = '';\n",
       "    if (event.ctrlKey && event.which != 17)\n",
       "        value += \"ctrl+\";\n",
       "    if (event.altKey && event.which != 18)\n",
       "        value += \"alt+\";\n",
       "    if (event.shiftKey && event.which != 16)\n",
       "        value += \"shift+\";\n",
       "\n",
       "    value += 'k';\n",
       "    value += event.which.toString();\n",
       "\n",
       "    this._key_event_extra(event, name);\n",
       "\n",
       "    this.send_message(name, {key: value,\n",
       "                             guiEvent: simpleKeys(event)});\n",
       "    return false;\n",
       "}\n",
       "\n",
       "mpl.figure.prototype.toolbar_button_onclick = function(name) {\n",
       "    if (name == 'download') {\n",
       "        this.handle_save(this, null);\n",
       "    } else {\n",
       "        this.send_message(\"toolbar_button\", {name: name});\n",
       "    }\n",
       "};\n",
       "\n",
       "mpl.figure.prototype.toolbar_button_onmouseover = function(tooltip) {\n",
       "    this.message.textContent = tooltip;\n",
       "};\n",
       "mpl.toolbar_items = [[\"Home\", \"Reset original view\", \"fa fa-home icon-home\", \"home\"], [\"Back\", \"Back to previous view\", \"fa fa-arrow-left icon-arrow-left\", \"back\"], [\"Forward\", \"Forward to next view\", \"fa fa-arrow-right icon-arrow-right\", \"forward\"], [\"\", \"\", \"\", \"\"], [\"Pan\", \"Pan axes with left mouse, zoom with right\", \"fa fa-arrows icon-move\", \"pan\"], [\"Zoom\", \"Zoom to rectangle\", \"fa fa-square-o icon-check-empty\", \"zoom\"], [\"\", \"\", \"\", \"\"], [\"Download\", \"Download plot\", \"fa fa-floppy-o icon-save\", \"download\"]];\n",
       "\n",
       "mpl.extensions = [\"eps\", \"pdf\", \"png\", \"ps\", \"raw\", \"svg\"];\n",
       "\n",
       "mpl.default_extension = \"png\";var comm_websocket_adapter = function(comm) {\n",
       "    // Create a \"websocket\"-like object which calls the given IPython comm\n",
       "    // object with the appropriate methods. Currently this is a non binary\n",
       "    // socket, so there is still some room for performance tuning.\n",
       "    var ws = {};\n",
       "\n",
       "    ws.close = function() {\n",
       "        comm.close()\n",
       "    };\n",
       "    ws.send = function(m) {\n",
       "        //console.log('sending', m);\n",
       "        comm.send(m);\n",
       "    };\n",
       "    // Register the callback with on_msg.\n",
       "    comm.on_msg(function(msg) {\n",
       "        //console.log('receiving', msg['content']['data'], msg);\n",
       "        // Pass the mpl event to the overridden (by mpl) onmessage function.\n",
       "        ws.onmessage(msg['content']['data'])\n",
       "    });\n",
       "    return ws;\n",
       "}\n",
       "\n",
       "mpl.mpl_figure_comm = function(comm, msg) {\n",
       "    // This is the function which gets called when the mpl process\n",
       "    // starts-up an IPython Comm through the \"matplotlib\" channel.\n",
       "\n",
       "    var id = msg.content.data.id;\n",
       "    // Get hold of the div created by the display call when the Comm\n",
       "    // socket was opened in Python.\n",
       "    var element = $(\"#\" + id);\n",
       "    var ws_proxy = comm_websocket_adapter(comm)\n",
       "\n",
       "    function ondownload(figure, format) {\n",
       "        window.open(figure.imageObj.src);\n",
       "    }\n",
       "\n",
       "    var fig = new mpl.figure(id, ws_proxy,\n",
       "                           ondownload,\n",
       "                           element.get(0));\n",
       "\n",
       "    // Call onopen now - mpl needs it, as it is assuming we've passed it a real\n",
       "    // web socket which is closed, not our websocket->open comm proxy.\n",
       "    ws_proxy.onopen();\n",
       "\n",
       "    fig.parent_element = element.get(0);\n",
       "    fig.cell_info = mpl.find_output_cell(\"<div id='\" + id + \"'></div>\");\n",
       "    if (!fig.cell_info) {\n",
       "        console.error(\"Failed to find cell for figure\", id, fig);\n",
       "        return;\n",
       "    }\n",
       "\n",
       "    var output_index = fig.cell_info[2]\n",
       "    var cell = fig.cell_info[0];\n",
       "\n",
       "};\n",
       "\n",
       "mpl.figure.prototype.handle_close = function(fig, msg) {\n",
       "    var width = fig.canvas.width/mpl.ratio\n",
       "    fig.root.unbind('remove')\n",
       "\n",
       "    // Update the output cell to use the data from the current canvas.\n",
       "    fig.push_to_output();\n",
       "    var dataURL = fig.canvas.toDataURL();\n",
       "    // Re-enable the keyboard manager in IPython - without this line, in FF,\n",
       "    // the notebook keyboard shortcuts fail.\n",
       "    IPython.keyboard_manager.enable()\n",
       "    $(fig.parent_element).html('<img src=\"' + dataURL + '\" width=\"' + width + '\">');\n",
       "    fig.close_ws(fig, msg);\n",
       "}\n",
       "\n",
       "mpl.figure.prototype.close_ws = function(fig, msg){\n",
       "    fig.send_message('closing', msg);\n",
       "    // fig.ws.close()\n",
       "}\n",
       "\n",
       "mpl.figure.prototype.push_to_output = function(remove_interactive) {\n",
       "    // Turn the data on the canvas into data in the output cell.\n",
       "    var width = this.canvas.width/mpl.ratio\n",
       "    var dataURL = this.canvas.toDataURL();\n",
       "    this.cell_info[1]['text/html'] = '<img src=\"' + dataURL + '\" width=\"' + width + '\">';\n",
       "}\n",
       "\n",
       "mpl.figure.prototype.updated_canvas_event = function() {\n",
       "    // Tell IPython that the notebook contents must change.\n",
       "    IPython.notebook.set_dirty(true);\n",
       "    this.send_message(\"ack\", {});\n",
       "    var fig = this;\n",
       "    // Wait a second, then push the new image to the DOM so\n",
       "    // that it is saved nicely (might be nice to debounce this).\n",
       "    setTimeout(function () { fig.push_to_output() }, 1000);\n",
       "}\n",
       "\n",
       "mpl.figure.prototype._init_toolbar = function() {\n",
       "    var fig = this;\n",
       "\n",
       "    var nav_element = $('<div/>');\n",
       "    nav_element.attr('style', 'width: 100%');\n",
       "    this.root.append(nav_element);\n",
       "\n",
       "    // Define a callback function for later on.\n",
       "    function toolbar_event(event) {\n",
       "        return fig.toolbar_button_onclick(event['data']);\n",
       "    }\n",
       "    function toolbar_mouse_event(event) {\n",
       "        return fig.toolbar_button_onmouseover(event['data']);\n",
       "    }\n",
       "\n",
       "    for(var toolbar_ind in mpl.toolbar_items){\n",
       "        var name = mpl.toolbar_items[toolbar_ind][0];\n",
       "        var tooltip = mpl.toolbar_items[toolbar_ind][1];\n",
       "        var image = mpl.toolbar_items[toolbar_ind][2];\n",
       "        var method_name = mpl.toolbar_items[toolbar_ind][3];\n",
       "\n",
       "        if (!name) { continue; };\n",
       "\n",
       "        var button = $('<button class=\"btn btn-default\" href=\"#\" title=\"' + name + '\"><i class=\"fa ' + image + ' fa-lg\"></i></button>');\n",
       "        button.click(method_name, toolbar_event);\n",
       "        button.mouseover(tooltip, toolbar_mouse_event);\n",
       "        nav_element.append(button);\n",
       "    }\n",
       "\n",
       "    // Add the status bar.\n",
       "    var status_bar = $('<span class=\"mpl-message\" style=\"text-align:right; float: right;\"/>');\n",
       "    nav_element.append(status_bar);\n",
       "    this.message = status_bar[0];\n",
       "\n",
       "    // Add the close button to the window.\n",
       "    var buttongrp = $('<div class=\"btn-group inline pull-right\"></div>');\n",
       "    var button = $('<button class=\"btn btn-mini btn-primary\" href=\"#\" title=\"Stop Interaction\"><i class=\"fa fa-power-off icon-remove icon-large\"></i></button>');\n",
       "    button.click(function (evt) { fig.handle_close(fig, {}); } );\n",
       "    button.mouseover('Stop Interaction', toolbar_mouse_event);\n",
       "    buttongrp.append(button);\n",
       "    var titlebar = this.root.find($('.ui-dialog-titlebar'));\n",
       "    titlebar.prepend(buttongrp);\n",
       "}\n",
       "\n",
       "mpl.figure.prototype._root_extra_style = function(el){\n",
       "    var fig = this\n",
       "    el.on(\"remove\", function(){\n",
       "\tfig.close_ws(fig, {});\n",
       "    });\n",
       "}\n",
       "\n",
       "mpl.figure.prototype._canvas_extra_style = function(el){\n",
       "    // this is important to make the div 'focusable\n",
       "    el.attr('tabindex', 0)\n",
       "    // reach out to IPython and tell the keyboard manager to turn it's self\n",
       "    // off when our div gets focus\n",
       "\n",
       "    // location in version 3\n",
       "    if (IPython.notebook.keyboard_manager) {\n",
       "        IPython.notebook.keyboard_manager.register_events(el);\n",
       "    }\n",
       "    else {\n",
       "        // location in version 2\n",
       "        IPython.keyboard_manager.register_events(el);\n",
       "    }\n",
       "\n",
       "}\n",
       "\n",
       "mpl.figure.prototype._key_event_extra = function(event, name) {\n",
       "    var manager = IPython.notebook.keyboard_manager;\n",
       "    if (!manager)\n",
       "        manager = IPython.keyboard_manager;\n",
       "\n",
       "    // Check for shift+enter\n",
       "    if (event.shiftKey && event.which == 13) {\n",
       "        this.canvas_div.blur();\n",
       "        // select the cell after this one\n",
       "        var index = IPython.notebook.find_cell_index(this.cell_info[0]);\n",
       "        IPython.notebook.select(index + 1);\n",
       "    }\n",
       "}\n",
       "\n",
       "mpl.figure.prototype.handle_save = function(fig, msg) {\n",
       "    fig.ondownload(fig, null);\n",
       "}\n",
       "\n",
       "\n",
       "mpl.find_output_cell = function(html_output) {\n",
       "    // Return the cell and output element which can be found *uniquely* in the notebook.\n",
       "    // Note - this is a bit hacky, but it is done because the \"notebook_saving.Notebook\"\n",
       "    // IPython event is triggered only after the cells have been serialised, which for\n",
       "    // our purposes (turning an active figure into a static one), is too late.\n",
       "    var cells = IPython.notebook.get_cells();\n",
       "    var ncells = cells.length;\n",
       "    for (var i=0; i<ncells; i++) {\n",
       "        var cell = cells[i];\n",
       "        if (cell.cell_type === 'code'){\n",
       "            for (var j=0; j<cell.output_area.outputs.length; j++) {\n",
       "                var data = cell.output_area.outputs[j];\n",
       "                if (data.data) {\n",
       "                    // IPython >= 3 moved mimebundle to data attribute of output\n",
       "                    data = data.data;\n",
       "                }\n",
       "                if (data['text/html'] == html_output) {\n",
       "                    return [cell, data, j];\n",
       "                }\n",
       "            }\n",
       "        }\n",
       "    }\n",
       "}\n",
       "\n",
       "// Register the function which deals with the matplotlib target/channel.\n",
       "// The kernel may be null if the page has been refreshed.\n",
       "if (IPython.notebook.kernel != null) {\n",
       "    IPython.notebook.kernel.comm_manager.register_target('matplotlib', mpl.mpl_figure_comm);\n",
       "}\n"
      ],
      "text/plain": [
       "<IPython.core.display.Javascript object>"
      ]
     },
     "metadata": {},
     "output_type": "display_data"
    },
    {
     "data": {
      "text/html": [
       "<img src=\"data:image/png;base64,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\" width=\"400\">"
      ],
      "text/plain": [
       "<IPython.core.display.HTML object>"
      ]
     },
     "metadata": {},
     "output_type": "display_data"
    }
   ],
   "source": [
    "fig, ax = plt.subplots(figsize=(4, 3))\n",
    "ax.hist(abs(d_F_0_mo.ravel() - nd_F_0_mo.ravel()), bins=np.logspace(np.log10(1e-11), np.log10(1e-1), 50), alpha=0.5)\n",
    "ax.hist(abs(nd_F_0_mo.ravel()), bins=np.logspace(np.log10(1e-11), np.log10(1e-1), 50), alpha=0.5)\n",
    "ax.set_xscale(\"log\")\n",
    "fig.tight_layout()"
   ]
  },
  {
   "cell_type": "markdown",
   "metadata": {
    "hidden": true
   },
   "source": [
    "这是因为，$\\partial F_{pq} = \\varepsilon_p \\delta_{pq}$，因此所有非对角元都会是零值；其导数也不例外。因此，若要验证我们计算出来的解析导数，需要做两件事。\n",
    "\n",
    "首先是判断非对角元是否近乎为零。我们先构造一个 `delta_Atpq` $\\delta_{pq}^{A_t}$，它会用来去除对角元的干扰；随后我们计算其余矩阵元的平均绝对值。"
   ]
  },
  {
   "cell_type": "code",
   "execution_count": 70,
   "metadata": {
    "hidden": true
   },
   "outputs": [
    {
     "name": "stdout",
     "output_type": "stream",
     "text": [
      "Average: 4.614724541799558e-07\n",
      "Maximum: 6.678304349949649e-05\n"
     ]
    }
   ],
   "source": [
    "delta_Atpq = np.eye(nmo).reshape(1, nmo, nmo).repeat(natm * 3, axis=0).reshape(natm, 3, nmo, nmo)\n",
    "print(\"Average:\", abs(d_F_0_mo * (1 - delta_Atpq)).sum() / (natm * 3 * nmo * (nmo - 1)))\n",
    "print(\"Maximum:\", np.max(d_F_0_mo * (1 - delta_Atpq)))"
   ]
  },
  {
   "cell_type": "markdown",
   "metadata": {
    "hidden": true
   },
   "source": [
    "其次再是判断对角元是否接近。我们活用 np.diagonal 函数来查看情况："
   ]
  },
  {
   "cell_type": "code",
   "execution_count": 71,
   "metadata": {
    "hidden": true
   },
   "outputs": [
    {
     "data": {
      "application/javascript": [
       "/* Put everything inside the global mpl namespace */\n",
       "window.mpl = {};\n",
       "\n",
       "\n",
       "mpl.get_websocket_type = function() {\n",
       "    if (typeof(WebSocket) !== 'undefined') {\n",
       "        return WebSocket;\n",
       "    } else if (typeof(MozWebSocket) !== 'undefined') {\n",
       "        return MozWebSocket;\n",
       "    } else {\n",
       "        alert('Your browser does not have WebSocket support. ' +\n",
       "              'Please try Chrome, Safari or Firefox ≥ 6. ' +\n",
       "              'Firefox 4 and 5 are also supported but you ' +\n",
       "              'have to enable WebSockets in about:config.');\n",
       "    };\n",
       "}\n",
       "\n",
       "mpl.figure = function(figure_id, websocket, ondownload, parent_element) {\n",
       "    this.id = figure_id;\n",
       "\n",
       "    this.ws = websocket;\n",
       "\n",
       "    this.supports_binary = (this.ws.binaryType != undefined);\n",
       "\n",
       "    if (!this.supports_binary) {\n",
       "        var warnings = document.getElementById(\"mpl-warnings\");\n",
       "        if (warnings) {\n",
       "            warnings.style.display = 'block';\n",
       "            warnings.textContent = (\n",
       "                \"This browser does not support binary websocket messages. \" +\n",
       "                    \"Performance may be slow.\");\n",
       "        }\n",
       "    }\n",
       "\n",
       "    this.imageObj = new Image();\n",
       "\n",
       "    this.context = undefined;\n",
       "    this.message = undefined;\n",
       "    this.canvas = undefined;\n",
       "    this.rubberband_canvas = undefined;\n",
       "    this.rubberband_context = undefined;\n",
       "    this.format_dropdown = undefined;\n",
       "\n",
       "    this.image_mode = 'full';\n",
       "\n",
       "    this.root = $('<div/>');\n",
       "    this._root_extra_style(this.root)\n",
       "    this.root.attr('style', 'display: inline-block');\n",
       "\n",
       "    $(parent_element).append(this.root);\n",
       "\n",
       "    this._init_header(this);\n",
       "    this._init_canvas(this);\n",
       "    this._init_toolbar(this);\n",
       "\n",
       "    var fig = this;\n",
       "\n",
       "    this.waiting = false;\n",
       "\n",
       "    this.ws.onopen =  function () {\n",
       "            fig.send_message(\"supports_binary\", {value: fig.supports_binary});\n",
       "            fig.send_message(\"send_image_mode\", {});\n",
       "            if (mpl.ratio != 1) {\n",
       "                fig.send_message(\"set_dpi_ratio\", {'dpi_ratio': mpl.ratio});\n",
       "            }\n",
       "            fig.send_message(\"refresh\", {});\n",
       "        }\n",
       "\n",
       "    this.imageObj.onload = function() {\n",
       "            if (fig.image_mode == 'full') {\n",
       "                // Full images could contain transparency (where diff images\n",
       "                // almost always do), so we need to clear the canvas so that\n",
       "                // there is no ghosting.\n",
       "                fig.context.clearRect(0, 0, fig.canvas.width, fig.canvas.height);\n",
       "            }\n",
       "            fig.context.drawImage(fig.imageObj, 0, 0);\n",
       "        };\n",
       "\n",
       "    this.imageObj.onunload = function() {\n",
       "        fig.ws.close();\n",
       "    }\n",
       "\n",
       "    this.ws.onmessage = this._make_on_message_function(this);\n",
       "\n",
       "    this.ondownload = ondownload;\n",
       "}\n",
       "\n",
       "mpl.figure.prototype._init_header = function() {\n",
       "    var titlebar = $(\n",
       "        '<div class=\"ui-dialog-titlebar ui-widget-header ui-corner-all ' +\n",
       "        'ui-helper-clearfix\"/>');\n",
       "    var titletext = $(\n",
       "        '<div class=\"ui-dialog-title\" style=\"width: 100%; ' +\n",
       "        'text-align: center; padding: 3px;\"/>');\n",
       "    titlebar.append(titletext)\n",
       "    this.root.append(titlebar);\n",
       "    this.header = titletext[0];\n",
       "}\n",
       "\n",
       "\n",
       "\n",
       "mpl.figure.prototype._canvas_extra_style = function(canvas_div) {\n",
       "\n",
       "}\n",
       "\n",
       "\n",
       "mpl.figure.prototype._root_extra_style = function(canvas_div) {\n",
       "\n",
       "}\n",
       "\n",
       "mpl.figure.prototype._init_canvas = function() {\n",
       "    var fig = this;\n",
       "\n",
       "    var canvas_div = $('<div/>');\n",
       "\n",
       "    canvas_div.attr('style', 'position: relative; clear: both; outline: 0');\n",
       "\n",
       "    function canvas_keyboard_event(event) {\n",
       "        return fig.key_event(event, event['data']);\n",
       "    }\n",
       "\n",
       "    canvas_div.keydown('key_press', canvas_keyboard_event);\n",
       "    canvas_div.keyup('key_release', canvas_keyboard_event);\n",
       "    this.canvas_div = canvas_div\n",
       "    this._canvas_extra_style(canvas_div)\n",
       "    this.root.append(canvas_div);\n",
       "\n",
       "    var canvas = $('<canvas/>');\n",
       "    canvas.addClass('mpl-canvas');\n",
       "    canvas.attr('style', \"left: 0; top: 0; z-index: 0; outline: 0\")\n",
       "\n",
       "    this.canvas = canvas[0];\n",
       "    this.context = canvas[0].getContext(\"2d\");\n",
       "\n",
       "    var backingStore = this.context.backingStorePixelRatio ||\n",
       "\tthis.context.webkitBackingStorePixelRatio ||\n",
       "\tthis.context.mozBackingStorePixelRatio ||\n",
       "\tthis.context.msBackingStorePixelRatio ||\n",
       "\tthis.context.oBackingStorePixelRatio ||\n",
       "\tthis.context.backingStorePixelRatio || 1;\n",
       "\n",
       "    mpl.ratio = (window.devicePixelRatio || 1) / backingStore;\n",
       "\n",
       "    var rubberband = $('<canvas/>');\n",
       "    rubberband.attr('style', \"position: absolute; left: 0; top: 0; z-index: 1;\")\n",
       "\n",
       "    var pass_mouse_events = true;\n",
       "\n",
       "    canvas_div.resizable({\n",
       "        start: function(event, ui) {\n",
       "            pass_mouse_events = false;\n",
       "        },\n",
       "        resize: function(event, ui) {\n",
       "            fig.request_resize(ui.size.width, ui.size.height);\n",
       "        },\n",
       "        stop: function(event, ui) {\n",
       "            pass_mouse_events = true;\n",
       "            fig.request_resize(ui.size.width, ui.size.height);\n",
       "        },\n",
       "    });\n",
       "\n",
       "    function mouse_event_fn(event) {\n",
       "        if (pass_mouse_events)\n",
       "            return fig.mouse_event(event, event['data']);\n",
       "    }\n",
       "\n",
       "    rubberband.mousedown('button_press', mouse_event_fn);\n",
       "    rubberband.mouseup('button_release', mouse_event_fn);\n",
       "    // Throttle sequential mouse events to 1 every 20ms.\n",
       "    rubberband.mousemove('motion_notify', mouse_event_fn);\n",
       "\n",
       "    rubberband.mouseenter('figure_enter', mouse_event_fn);\n",
       "    rubberband.mouseleave('figure_leave', mouse_event_fn);\n",
       "\n",
       "    canvas_div.on(\"wheel\", function (event) {\n",
       "        event = event.originalEvent;\n",
       "        event['data'] = 'scroll'\n",
       "        if (event.deltaY < 0) {\n",
       "            event.step = 1;\n",
       "        } else {\n",
       "            event.step = -1;\n",
       "        }\n",
       "        mouse_event_fn(event);\n",
       "    });\n",
       "\n",
       "    canvas_div.append(canvas);\n",
       "    canvas_div.append(rubberband);\n",
       "\n",
       "    this.rubberband = rubberband;\n",
       "    this.rubberband_canvas = rubberband[0];\n",
       "    this.rubberband_context = rubberband[0].getContext(\"2d\");\n",
       "    this.rubberband_context.strokeStyle = \"#000000\";\n",
       "\n",
       "    this._resize_canvas = function(width, height) {\n",
       "        // Keep the size of the canvas, canvas container, and rubber band\n",
       "        // canvas in synch.\n",
       "        canvas_div.css('width', width)\n",
       "        canvas_div.css('height', height)\n",
       "\n",
       "        canvas.attr('width', width * mpl.ratio);\n",
       "        canvas.attr('height', height * mpl.ratio);\n",
       "        canvas.attr('style', 'width: ' + width + 'px; height: ' + height + 'px;');\n",
       "\n",
       "        rubberband.attr('width', width);\n",
       "        rubberband.attr('height', height);\n",
       "    }\n",
       "\n",
       "    // Set the figure to an initial 600x600px, this will subsequently be updated\n",
       "    // upon first draw.\n",
       "    this._resize_canvas(600, 600);\n",
       "\n",
       "    // Disable right mouse context menu.\n",
       "    $(this.rubberband_canvas).bind(\"contextmenu\",function(e){\n",
       "        return false;\n",
       "    });\n",
       "\n",
       "    function set_focus () {\n",
       "        canvas.focus();\n",
       "        canvas_div.focus();\n",
       "    }\n",
       "\n",
       "    window.setTimeout(set_focus, 100);\n",
       "}\n",
       "\n",
       "mpl.figure.prototype._init_toolbar = function() {\n",
       "    var fig = this;\n",
       "\n",
       "    var nav_element = $('<div/>');\n",
       "    nav_element.attr('style', 'width: 100%');\n",
       "    this.root.append(nav_element);\n",
       "\n",
       "    // Define a callback function for later on.\n",
       "    function toolbar_event(event) {\n",
       "        return fig.toolbar_button_onclick(event['data']);\n",
       "    }\n",
       "    function toolbar_mouse_event(event) {\n",
       "        return fig.toolbar_button_onmouseover(event['data']);\n",
       "    }\n",
       "\n",
       "    for(var toolbar_ind in mpl.toolbar_items) {\n",
       "        var name = mpl.toolbar_items[toolbar_ind][0];\n",
       "        var tooltip = mpl.toolbar_items[toolbar_ind][1];\n",
       "        var image = mpl.toolbar_items[toolbar_ind][2];\n",
       "        var method_name = mpl.toolbar_items[toolbar_ind][3];\n",
       "\n",
       "        if (!name) {\n",
       "            // put a spacer in here.\n",
       "            continue;\n",
       "        }\n",
       "        var button = $('<button/>');\n",
       "        button.addClass('ui-button ui-widget ui-state-default ui-corner-all ' +\n",
       "                        'ui-button-icon-only');\n",
       "        button.attr('role', 'button');\n",
       "        button.attr('aria-disabled', 'false');\n",
       "        button.click(method_name, toolbar_event);\n",
       "        button.mouseover(tooltip, toolbar_mouse_event);\n",
       "\n",
       "        var icon_img = $('<span/>');\n",
       "        icon_img.addClass('ui-button-icon-primary ui-icon');\n",
       "        icon_img.addClass(image);\n",
       "        icon_img.addClass('ui-corner-all');\n",
       "\n",
       "        var tooltip_span = $('<span/>');\n",
       "        tooltip_span.addClass('ui-button-text');\n",
       "        tooltip_span.html(tooltip);\n",
       "\n",
       "        button.append(icon_img);\n",
       "        button.append(tooltip_span);\n",
       "\n",
       "        nav_element.append(button);\n",
       "    }\n",
       "\n",
       "    var fmt_picker_span = $('<span/>');\n",
       "\n",
       "    var fmt_picker = $('<select/>');\n",
       "    fmt_picker.addClass('mpl-toolbar-option ui-widget ui-widget-content');\n",
       "    fmt_picker_span.append(fmt_picker);\n",
       "    nav_element.append(fmt_picker_span);\n",
       "    this.format_dropdown = fmt_picker[0];\n",
       "\n",
       "    for (var ind in mpl.extensions) {\n",
       "        var fmt = mpl.extensions[ind];\n",
       "        var option = $(\n",
       "            '<option/>', {selected: fmt === mpl.default_extension}).html(fmt);\n",
       "        fmt_picker.append(option);\n",
       "    }\n",
       "\n",
       "    // Add hover states to the ui-buttons\n",
       "    $( \".ui-button\" ).hover(\n",
       "        function() { $(this).addClass(\"ui-state-hover\");},\n",
       "        function() { $(this).removeClass(\"ui-state-hover\");}\n",
       "    );\n",
       "\n",
       "    var status_bar = $('<span class=\"mpl-message\"/>');\n",
       "    nav_element.append(status_bar);\n",
       "    this.message = status_bar[0];\n",
       "}\n",
       "\n",
       "mpl.figure.prototype.request_resize = function(x_pixels, y_pixels) {\n",
       "    // Request matplotlib to resize the figure. Matplotlib will then trigger a resize in the client,\n",
       "    // which will in turn request a refresh of the image.\n",
       "    this.send_message('resize', {'width': x_pixels, 'height': y_pixels});\n",
       "}\n",
       "\n",
       "mpl.figure.prototype.send_message = function(type, properties) {\n",
       "    properties['type'] = type;\n",
       "    properties['figure_id'] = this.id;\n",
       "    this.ws.send(JSON.stringify(properties));\n",
       "}\n",
       "\n",
       "mpl.figure.prototype.send_draw_message = function() {\n",
       "    if (!this.waiting) {\n",
       "        this.waiting = true;\n",
       "        this.ws.send(JSON.stringify({type: \"draw\", figure_id: this.id}));\n",
       "    }\n",
       "}\n",
       "\n",
       "\n",
       "mpl.figure.prototype.handle_save = function(fig, msg) {\n",
       "    var format_dropdown = fig.format_dropdown;\n",
       "    var format = format_dropdown.options[format_dropdown.selectedIndex].value;\n",
       "    fig.ondownload(fig, format);\n",
       "}\n",
       "\n",
       "\n",
       "mpl.figure.prototype.handle_resize = function(fig, msg) {\n",
       "    var size = msg['size'];\n",
       "    if (size[0] != fig.canvas.width || size[1] != fig.canvas.height) {\n",
       "        fig._resize_canvas(size[0], size[1]);\n",
       "        fig.send_message(\"refresh\", {});\n",
       "    };\n",
       "}\n",
       "\n",
       "mpl.figure.prototype.handle_rubberband = function(fig, msg) {\n",
       "    var x0 = msg['x0'] / mpl.ratio;\n",
       "    var y0 = (fig.canvas.height - msg['y0']) / mpl.ratio;\n",
       "    var x1 = msg['x1'] / mpl.ratio;\n",
       "    var y1 = (fig.canvas.height - msg['y1']) / mpl.ratio;\n",
       "    x0 = Math.floor(x0) + 0.5;\n",
       "    y0 = Math.floor(y0) + 0.5;\n",
       "    x1 = Math.floor(x1) + 0.5;\n",
       "    y1 = Math.floor(y1) + 0.5;\n",
       "    var min_x = Math.min(x0, x1);\n",
       "    var min_y = Math.min(y0, y1);\n",
       "    var width = Math.abs(x1 - x0);\n",
       "    var height = Math.abs(y1 - y0);\n",
       "\n",
       "    fig.rubberband_context.clearRect(\n",
       "        0, 0, fig.canvas.width / mpl.ratio, fig.canvas.height / mpl.ratio);\n",
       "\n",
       "    fig.rubberband_context.strokeRect(min_x, min_y, width, height);\n",
       "}\n",
       "\n",
       "mpl.figure.prototype.handle_figure_label = function(fig, msg) {\n",
       "    // Updates the figure title.\n",
       "    fig.header.textContent = msg['label'];\n",
       "}\n",
       "\n",
       "mpl.figure.prototype.handle_cursor = function(fig, msg) {\n",
       "    var cursor = msg['cursor'];\n",
       "    switch(cursor)\n",
       "    {\n",
       "    case 0:\n",
       "        cursor = 'pointer';\n",
       "        break;\n",
       "    case 1:\n",
       "        cursor = 'default';\n",
       "        break;\n",
       "    case 2:\n",
       "        cursor = 'crosshair';\n",
       "        break;\n",
       "    case 3:\n",
       "        cursor = 'move';\n",
       "        break;\n",
       "    }\n",
       "    fig.rubberband_canvas.style.cursor = cursor;\n",
       "}\n",
       "\n",
       "mpl.figure.prototype.handle_message = function(fig, msg) {\n",
       "    fig.message.textContent = msg['message'];\n",
       "}\n",
       "\n",
       "mpl.figure.prototype.handle_draw = function(fig, msg) {\n",
       "    // Request the server to send over a new figure.\n",
       "    fig.send_draw_message();\n",
       "}\n",
       "\n",
       "mpl.figure.prototype.handle_image_mode = function(fig, msg) {\n",
       "    fig.image_mode = msg['mode'];\n",
       "}\n",
       "\n",
       "mpl.figure.prototype.updated_canvas_event = function() {\n",
       "    // Called whenever the canvas gets updated.\n",
       "    this.send_message(\"ack\", {});\n",
       "}\n",
       "\n",
       "// A function to construct a web socket function for onmessage handling.\n",
       "// Called in the figure constructor.\n",
       "mpl.figure.prototype._make_on_message_function = function(fig) {\n",
       "    return function socket_on_message(evt) {\n",
       "        if (evt.data instanceof Blob) {\n",
       "            /* FIXME: We get \"Resource interpreted as Image but\n",
       "             * transferred with MIME type text/plain:\" errors on\n",
       "             * Chrome.  But how to set the MIME type?  It doesn't seem\n",
       "             * to be part of the websocket stream */\n",
       "            evt.data.type = \"image/png\";\n",
       "\n",
       "            /* Free the memory for the previous frames */\n",
       "            if (fig.imageObj.src) {\n",
       "                (window.URL || window.webkitURL).revokeObjectURL(\n",
       "                    fig.imageObj.src);\n",
       "            }\n",
       "\n",
       "            fig.imageObj.src = (window.URL || window.webkitURL).createObjectURL(\n",
       "                evt.data);\n",
       "            fig.updated_canvas_event();\n",
       "            fig.waiting = false;\n",
       "            return;\n",
       "        }\n",
       "        else if (typeof evt.data === 'string' && evt.data.slice(0, 21) == \"data:image/png;base64\") {\n",
       "            fig.imageObj.src = evt.data;\n",
       "            fig.updated_canvas_event();\n",
       "            fig.waiting = false;\n",
       "            return;\n",
       "        }\n",
       "\n",
       "        var msg = JSON.parse(evt.data);\n",
       "        var msg_type = msg['type'];\n",
       "\n",
       "        // Call the  \"handle_{type}\" callback, which takes\n",
       "        // the figure and JSON message as its only arguments.\n",
       "        try {\n",
       "            var callback = fig[\"handle_\" + msg_type];\n",
       "        } catch (e) {\n",
       "            console.log(\"No handler for the '\" + msg_type + \"' message type: \", msg);\n",
       "            return;\n",
       "        }\n",
       "\n",
       "        if (callback) {\n",
       "            try {\n",
       "                // console.log(\"Handling '\" + msg_type + \"' message: \", msg);\n",
       "                callback(fig, msg);\n",
       "            } catch (e) {\n",
       "                console.log(\"Exception inside the 'handler_\" + msg_type + \"' callback:\", e, e.stack, msg);\n",
       "            }\n",
       "        }\n",
       "    };\n",
       "}\n",
       "\n",
       "// from http://stackoverflow.com/questions/1114465/getting-mouse-location-in-canvas\n",
       "mpl.findpos = function(e) {\n",
       "    //this section is from http://www.quirksmode.org/js/events_properties.html\n",
       "    var targ;\n",
       "    if (!e)\n",
       "        e = window.event;\n",
       "    if (e.target)\n",
       "        targ = e.target;\n",
       "    else if (e.srcElement)\n",
       "        targ = e.srcElement;\n",
       "    if (targ.nodeType == 3) // defeat Safari bug\n",
       "        targ = targ.parentNode;\n",
       "\n",
       "    // jQuery normalizes the pageX and pageY\n",
       "    // pageX,Y are the mouse positions relative to the document\n",
       "    // offset() returns the position of the element relative to the document\n",
       "    var x = e.pageX - $(targ).offset().left;\n",
       "    var y = e.pageY - $(targ).offset().top;\n",
       "\n",
       "    return {\"x\": x, \"y\": y};\n",
       "};\n",
       "\n",
       "/*\n",
       " * return a copy of an object with only non-object keys\n",
       " * we need this to avoid circular references\n",
       " * http://stackoverflow.com/a/24161582/3208463\n",
       " */\n",
       "function simpleKeys (original) {\n",
       "  return Object.keys(original).reduce(function (obj, key) {\n",
       "    if (typeof original[key] !== 'object')\n",
       "        obj[key] = original[key]\n",
       "    return obj;\n",
       "  }, {});\n",
       "}\n",
       "\n",
       "mpl.figure.prototype.mouse_event = function(event, name) {\n",
       "    var canvas_pos = mpl.findpos(event)\n",
       "\n",
       "    if (name === 'button_press')\n",
       "    {\n",
       "        this.canvas.focus();\n",
       "        this.canvas_div.focus();\n",
       "    }\n",
       "\n",
       "    var x = canvas_pos.x * mpl.ratio;\n",
       "    var y = canvas_pos.y * mpl.ratio;\n",
       "\n",
       "    this.send_message(name, {x: x, y: y, button: event.button,\n",
       "                             step: event.step,\n",
       "                             guiEvent: simpleKeys(event)});\n",
       "\n",
       "    /* This prevents the web browser from automatically changing to\n",
       "     * the text insertion cursor when the button is pressed.  We want\n",
       "     * to control all of the cursor setting manually through the\n",
       "     * 'cursor' event from matplotlib */\n",
       "    event.preventDefault();\n",
       "    return false;\n",
       "}\n",
       "\n",
       "mpl.figure.prototype._key_event_extra = function(event, name) {\n",
       "    // Handle any extra behaviour associated with a key event\n",
       "}\n",
       "\n",
       "mpl.figure.prototype.key_event = function(event, name) {\n",
       "\n",
       "    // Prevent repeat events\n",
       "    if (name == 'key_press')\n",
       "    {\n",
       "        if (event.which === this._key)\n",
       "            return;\n",
       "        else\n",
       "            this._key = event.which;\n",
       "    }\n",
       "    if (name == 'key_release')\n",
       "        this._key = null;\n",
       "\n",
       "    var value = '';\n",
       "    if (event.ctrlKey && event.which != 17)\n",
       "        value += \"ctrl+\";\n",
       "    if (event.altKey && event.which != 18)\n",
       "        value += \"alt+\";\n",
       "    if (event.shiftKey && event.which != 16)\n",
       "        value += \"shift+\";\n",
       "\n",
       "    value += 'k';\n",
       "    value += event.which.toString();\n",
       "\n",
       "    this._key_event_extra(event, name);\n",
       "\n",
       "    this.send_message(name, {key: value,\n",
       "                             guiEvent: simpleKeys(event)});\n",
       "    return false;\n",
       "}\n",
       "\n",
       "mpl.figure.prototype.toolbar_button_onclick = function(name) {\n",
       "    if (name == 'download') {\n",
       "        this.handle_save(this, null);\n",
       "    } else {\n",
       "        this.send_message(\"toolbar_button\", {name: name});\n",
       "    }\n",
       "};\n",
       "\n",
       "mpl.figure.prototype.toolbar_button_onmouseover = function(tooltip) {\n",
       "    this.message.textContent = tooltip;\n",
       "};\n",
       "mpl.toolbar_items = [[\"Home\", \"Reset original view\", \"fa fa-home icon-home\", \"home\"], [\"Back\", \"Back to previous view\", \"fa fa-arrow-left icon-arrow-left\", \"back\"], [\"Forward\", \"Forward to next view\", \"fa fa-arrow-right icon-arrow-right\", \"forward\"], [\"\", \"\", \"\", \"\"], [\"Pan\", \"Pan axes with left mouse, zoom with right\", \"fa fa-arrows icon-move\", \"pan\"], [\"Zoom\", \"Zoom to rectangle\", \"fa fa-square-o icon-check-empty\", \"zoom\"], [\"\", \"\", \"\", \"\"], [\"Download\", \"Download plot\", \"fa fa-floppy-o icon-save\", \"download\"]];\n",
       "\n",
       "mpl.extensions = [\"eps\", \"pdf\", \"png\", \"ps\", \"raw\", \"svg\"];\n",
       "\n",
       "mpl.default_extension = \"png\";var comm_websocket_adapter = function(comm) {\n",
       "    // Create a \"websocket\"-like object which calls the given IPython comm\n",
       "    // object with the appropriate methods. Currently this is a non binary\n",
       "    // socket, so there is still some room for performance tuning.\n",
       "    var ws = {};\n",
       "\n",
       "    ws.close = function() {\n",
       "        comm.close()\n",
       "    };\n",
       "    ws.send = function(m) {\n",
       "        //console.log('sending', m);\n",
       "        comm.send(m);\n",
       "    };\n",
       "    // Register the callback with on_msg.\n",
       "    comm.on_msg(function(msg) {\n",
       "        //console.log('receiving', msg['content']['data'], msg);\n",
       "        // Pass the mpl event to the overridden (by mpl) onmessage function.\n",
       "        ws.onmessage(msg['content']['data'])\n",
       "    });\n",
       "    return ws;\n",
       "}\n",
       "\n",
       "mpl.mpl_figure_comm = function(comm, msg) {\n",
       "    // This is the function which gets called when the mpl process\n",
       "    // starts-up an IPython Comm through the \"matplotlib\" channel.\n",
       "\n",
       "    var id = msg.content.data.id;\n",
       "    // Get hold of the div created by the display call when the Comm\n",
       "    // socket was opened in Python.\n",
       "    var element = $(\"#\" + id);\n",
       "    var ws_proxy = comm_websocket_adapter(comm)\n",
       "\n",
       "    function ondownload(figure, format) {\n",
       "        window.open(figure.imageObj.src);\n",
       "    }\n",
       "\n",
       "    var fig = new mpl.figure(id, ws_proxy,\n",
       "                           ondownload,\n",
       "                           element.get(0));\n",
       "\n",
       "    // Call onopen now - mpl needs it, as it is assuming we've passed it a real\n",
       "    // web socket which is closed, not our websocket->open comm proxy.\n",
       "    ws_proxy.onopen();\n",
       "\n",
       "    fig.parent_element = element.get(0);\n",
       "    fig.cell_info = mpl.find_output_cell(\"<div id='\" + id + \"'></div>\");\n",
       "    if (!fig.cell_info) {\n",
       "        console.error(\"Failed to find cell for figure\", id, fig);\n",
       "        return;\n",
       "    }\n",
       "\n",
       "    var output_index = fig.cell_info[2]\n",
       "    var cell = fig.cell_info[0];\n",
       "\n",
       "};\n",
       "\n",
       "mpl.figure.prototype.handle_close = function(fig, msg) {\n",
       "    var width = fig.canvas.width/mpl.ratio\n",
       "    fig.root.unbind('remove')\n",
       "\n",
       "    // Update the output cell to use the data from the current canvas.\n",
       "    fig.push_to_output();\n",
       "    var dataURL = fig.canvas.toDataURL();\n",
       "    // Re-enable the keyboard manager in IPython - without this line, in FF,\n",
       "    // the notebook keyboard shortcuts fail.\n",
       "    IPython.keyboard_manager.enable()\n",
       "    $(fig.parent_element).html('<img src=\"' + dataURL + '\" width=\"' + width + '\">');\n",
       "    fig.close_ws(fig, msg);\n",
       "}\n",
       "\n",
       "mpl.figure.prototype.close_ws = function(fig, msg){\n",
       "    fig.send_message('closing', msg);\n",
       "    // fig.ws.close()\n",
       "}\n",
       "\n",
       "mpl.figure.prototype.push_to_output = function(remove_interactive) {\n",
       "    // Turn the data on the canvas into data in the output cell.\n",
       "    var width = this.canvas.width/mpl.ratio\n",
       "    var dataURL = this.canvas.toDataURL();\n",
       "    this.cell_info[1]['text/html'] = '<img src=\"' + dataURL + '\" width=\"' + width + '\">';\n",
       "}\n",
       "\n",
       "mpl.figure.prototype.updated_canvas_event = function() {\n",
       "    // Tell IPython that the notebook contents must change.\n",
       "    IPython.notebook.set_dirty(true);\n",
       "    this.send_message(\"ack\", {});\n",
       "    var fig = this;\n",
       "    // Wait a second, then push the new image to the DOM so\n",
       "    // that it is saved nicely (might be nice to debounce this).\n",
       "    setTimeout(function () { fig.push_to_output() }, 1000);\n",
       "}\n",
       "\n",
       "mpl.figure.prototype._init_toolbar = function() {\n",
       "    var fig = this;\n",
       "\n",
       "    var nav_element = $('<div/>');\n",
       "    nav_element.attr('style', 'width: 100%');\n",
       "    this.root.append(nav_element);\n",
       "\n",
       "    // Define a callback function for later on.\n",
       "    function toolbar_event(event) {\n",
       "        return fig.toolbar_button_onclick(event['data']);\n",
       "    }\n",
       "    function toolbar_mouse_event(event) {\n",
       "        return fig.toolbar_button_onmouseover(event['data']);\n",
       "    }\n",
       "\n",
       "    for(var toolbar_ind in mpl.toolbar_items){\n",
       "        var name = mpl.toolbar_items[toolbar_ind][0];\n",
       "        var tooltip = mpl.toolbar_items[toolbar_ind][1];\n",
       "        var image = mpl.toolbar_items[toolbar_ind][2];\n",
       "        var method_name = mpl.toolbar_items[toolbar_ind][3];\n",
       "\n",
       "        if (!name) { continue; };\n",
       "\n",
       "        var button = $('<button class=\"btn btn-default\" href=\"#\" title=\"' + name + '\"><i class=\"fa ' + image + ' fa-lg\"></i></button>');\n",
       "        button.click(method_name, toolbar_event);\n",
       "        button.mouseover(tooltip, toolbar_mouse_event);\n",
       "        nav_element.append(button);\n",
       "    }\n",
       "\n",
       "    // Add the status bar.\n",
       "    var status_bar = $('<span class=\"mpl-message\" style=\"text-align:right; float: right;\"/>');\n",
       "    nav_element.append(status_bar);\n",
       "    this.message = status_bar[0];\n",
       "\n",
       "    // Add the close button to the window.\n",
       "    var buttongrp = $('<div class=\"btn-group inline pull-right\"></div>');\n",
       "    var button = $('<button class=\"btn btn-mini btn-primary\" href=\"#\" title=\"Stop Interaction\"><i class=\"fa fa-power-off icon-remove icon-large\"></i></button>');\n",
       "    button.click(function (evt) { fig.handle_close(fig, {}); } );\n",
       "    button.mouseover('Stop Interaction', toolbar_mouse_event);\n",
       "    buttongrp.append(button);\n",
       "    var titlebar = this.root.find($('.ui-dialog-titlebar'));\n",
       "    titlebar.prepend(buttongrp);\n",
       "}\n",
       "\n",
       "mpl.figure.prototype._root_extra_style = function(el){\n",
       "    var fig = this\n",
       "    el.on(\"remove\", function(){\n",
       "\tfig.close_ws(fig, {});\n",
       "    });\n",
       "}\n",
       "\n",
       "mpl.figure.prototype._canvas_extra_style = function(el){\n",
       "    // this is important to make the div 'focusable\n",
       "    el.attr('tabindex', 0)\n",
       "    // reach out to IPython and tell the keyboard manager to turn it's self\n",
       "    // off when our div gets focus\n",
       "\n",
       "    // location in version 3\n",
       "    if (IPython.notebook.keyboard_manager) {\n",
       "        IPython.notebook.keyboard_manager.register_events(el);\n",
       "    }\n",
       "    else {\n",
       "        // location in version 2\n",
       "        IPython.keyboard_manager.register_events(el);\n",
       "    }\n",
       "\n",
       "}\n",
       "\n",
       "mpl.figure.prototype._key_event_extra = function(event, name) {\n",
       "    var manager = IPython.notebook.keyboard_manager;\n",
       "    if (!manager)\n",
       "        manager = IPython.keyboard_manager;\n",
       "\n",
       "    // Check for shift+enter\n",
       "    if (event.shiftKey && event.which == 13) {\n",
       "        this.canvas_div.blur();\n",
       "        // select the cell after this one\n",
       "        var index = IPython.notebook.find_cell_index(this.cell_info[0]);\n",
       "        IPython.notebook.select(index + 1);\n",
       "    }\n",
       "}\n",
       "\n",
       "mpl.figure.prototype.handle_save = function(fig, msg) {\n",
       "    fig.ondownload(fig, null);\n",
       "}\n",
       "\n",
       "\n",
       "mpl.find_output_cell = function(html_output) {\n",
       "    // Return the cell and output element which can be found *uniquely* in the notebook.\n",
       "    // Note - this is a bit hacky, but it is done because the \"notebook_saving.Notebook\"\n",
       "    // IPython event is triggered only after the cells have been serialised, which for\n",
       "    // our purposes (turning an active figure into a static one), is too late.\n",
       "    var cells = IPython.notebook.get_cells();\n",
       "    var ncells = cells.length;\n",
       "    for (var i=0; i<ncells; i++) {\n",
       "        var cell = cells[i];\n",
       "        if (cell.cell_type === 'code'){\n",
       "            for (var j=0; j<cell.output_area.outputs.length; j++) {\n",
       "                var data = cell.output_area.outputs[j];\n",
       "                if (data.data) {\n",
       "                    // IPython >= 3 moved mimebundle to data attribute of output\n",
       "                    data = data.data;\n",
       "                }\n",
       "                if (data['text/html'] == html_output) {\n",
       "                    return [cell, data, j];\n",
       "                }\n",
       "            }\n",
       "        }\n",
       "    }\n",
       "}\n",
       "\n",
       "// Register the function which deals with the matplotlib target/channel.\n",
       "// The kernel may be null if the page has been refreshed.\n",
       "if (IPython.notebook.kernel != null) {\n",
       "    IPython.notebook.kernel.comm_manager.register_target('matplotlib', mpl.mpl_figure_comm);\n",
       "}\n"
      ],
      "text/plain": [
       "<IPython.core.display.Javascript object>"
      ]
     },
     "metadata": {},
     "output_type": "display_data"
    },
    {
     "data": {
      "text/html": [
       "<img src=\"data:image/png;base64,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\" width=\"400\">"
      ],
      "text/plain": [
       "<IPython.core.display.HTML object>"
      ]
     },
     "metadata": {},
     "output_type": "display_data"
    }
   ],
   "source": [
    "fig, ax = plt.subplots(figsize=(4, 3))\n",
    "ax.hist(abs(d_F_0_mo.diagonal(axis1=-2, axis2=-1).ravel() - nd_F_0_mo.diagonal(axis1=-2, axis2=-1).ravel()), bins=np.logspace(np.log10(1e-11), np.log10(1e-1), 50), alpha=0.5)\n",
    "ax.hist(abs(nd_F_0_mo.diagonal(axis1=-2, axis2=-1).ravel()), bins=np.logspace(np.log10(1e-11), np.log10(1e-1), 50), alpha=0.5)\n",
    "ax.set_xscale(\"log\")\n",
    "fig.tight_layout()"
   ]
  },
  {
   "cell_type": "markdown",
   "metadata": {
    "heading_collapsed": true
   },
   "source": [
    "### 任务 (5)"
   ]
  },
  {
   "cell_type": "markdown",
   "metadata": {
    "hidden": true
   },
   "source": [
    "我们需要利用的函数 `resp` 定义如下：\n",
    "\n",
    "$$\n",
    "\\mathtt{resp}_{\\mu \\nu} [X_{\\kappa \\lambda}^\\mathbb{A}] = \\big( (\\mu \\nu | \\kappa \\lambda) - \\frac{1}{2} (\\mu \\kappa| \\nu \\lambda) \\big) X_{\\kappa \\lambda}^\\mathbb{A}\n",
    "$$"
   ]
  },
  {
   "cell_type": "code",
   "execution_count": 72,
   "metadata": {
    "hidden": true
   },
   "outputs": [],
   "source": [
    "resp = _gen_rhf_response(gradh.scf_eng, mo_coeff=C, mo_occ=gradh.mo_occ, hermi=0)"
   ]
  },
  {
   "cell_type": "markdown",
   "metadata": {
    "hidden": true
   },
   "source": [
    "而原子轨道下的 A 矩阵定义如下：\n",
    "\n",
    "$$\n",
    "A_{\\mu \\nu, \\kappa \\lambda} = 4 (\\mu \\nu | \\kappa \\lambda) - (\\mu \\kappa | \\nu \\lambda) - (\\mu \\lambda | \\kappa \\nu)\n",
    "$$"
   ]
  },
  {
   "cell_type": "markdown",
   "metadata": {
    "hidden": true
   },
   "source": [
    "现在我们考虑\n",
    "\n",
    "$$\n",
    "\\begin{align}\n",
    "\\mathtt{resp}_{\\mu \\nu} [X_{\\kappa \\lambda}^\\mathbb{A} + X_{\\lambda \\kappa}^\\mathbb{A}]\n",
    "&= \\big( (\\mu \\nu | \\kappa \\lambda) - \\frac{1}{2} (\\mu \\kappa| \\nu \\lambda) \\big) X_{\\kappa \\lambda}^\\mathbb{A} + \\big( (\\mu \\nu | \\kappa \\lambda) - \\frac{1}{2} (\\mu \\kappa| \\nu \\lambda) \\big) X_{\\lambda \\kappa}^\\mathbb{A} \\\\\n",
    "&= \\big( (\\mu \\nu | \\kappa \\lambda) - \\frac{1}{2} (\\mu \\kappa| \\nu \\lambda) \\big) X_{\\kappa \\lambda}^\\mathbb{A} + \\big( (\\mu \\nu | \\lambda \\kappa) - \\frac{1}{2} (\\mu \\lambda| \\nu \\kappa) \\big) X_{\\kappa \\lambda}^\\mathbb{A} \\\\\n",
    "&= \\big( 2 (\\mu \\nu | \\kappa \\lambda) - \\frac{1}{2} (\\mu \\kappa| \\nu \\lambda) - \\frac{1}{2} (\\mu \\lambda| \\nu \\kappa) \\big) X_{\\kappa \\lambda}^\\mathbb{A} \\\\\n",
    "&= \\frac{1}{2} A_{\\mu \\nu, \\kappa \\lambda} X_{\\kappa \\lambda}^\\mathbb{A}\n",
    "\\end{align}\n",
    "$$"
   ]
  },
  {
   "cell_type": "markdown",
   "metadata": {
    "hidden": true
   },
   "source": [
    "从而，\n",
    "\n",
    "$$\n",
    "\\begin{align}\n",
    "A_{pq, mi} U_{mi}^\\mathbb{A}\n",
    "&= C_{\\mu p} C_{\\nu q} A_{\\mu \\nu, \\kappa \\lambda} C_{\\kappa m} C_{\\lambda i} U_{mi}^\\mathbb{A} \\\\\n",
    "&= 2 C_{\\mu p} C_{\\nu q} \\mathtt{resp}_{\\mu \\nu} [C_{\\kappa m} C_{\\lambda i} U_{mi}^\\mathbb{A} + C_{\\lambda m} C_{\\kappa i} U_{mi}^\\mathbb{A}]\n",
    "\\end{align}\n",
    "$$"
   ]
  },
  {
   "cell_type": "markdown",
   "metadata": {
    "hidden": true
   },
   "source": [
    "我们下面就计算 $2 C_{\\mu p} C_{\\nu q} [C_{\\kappa m} C_{\\lambda i} U_{mi}^\\mathbb{A} + \\mathrm{swap} (\\kappa, \\lambda)]$。首先我们会定义一个临时变量 `dmU` $U_{\\kappa \\lambda}^{A_t}$：\n",
    "\n",
    "$$\n",
    "U_{\\kappa \\lambda}^{A_t} = C_{\\kappa m} U_{mi}^{A_t} C_{\\lambda i} + \\mathrm{swap} (\\kappa, \\lambda)\n",
    "$$"
   ]
  },
  {
   "cell_type": "code",
   "execution_count": 73,
   "metadata": {
    "hidden": true
   },
   "outputs": [],
   "source": [
    "dmU = np.einsum(\"km, Atmi, li -> Atkl\", C, to_natm_3(gradh_nr.U_1[:, :, so]), Co)\n",
    "dmU += dmU.swapaxes(-1, -2)"
   ]
  },
  {
   "cell_type": "markdown",
   "metadata": {
    "hidden": true
   },
   "source": [
    "随后，我们就可以求取 $A_{pq, mi} U_{mi}^{A_t}$。用 `resp` 函数求取的结果我们记在 `AU_nr_resp` 中；但需要注意到，输入给 `resp` 的张量必须是只有三个维度的："
   ]
  },
  {
   "cell_type": "code",
   "execution_count": 74,
   "metadata": {
    "hidden": true
   },
   "outputs": [],
   "source": [
    "AU_nr_resp = 2 * np.einsum(\"up, vq, Atuv -> Atpq\", C, C, to_natm_3(resp(dmU.reshape(natm * 3, nao, nao))))"
   ]
  },
  {
   "cell_type": "markdown",
   "metadata": {
    "hidden": true
   },
   "source": [
    "最后我们验证一下上述计算是否正确。我们直接对 `A_0_mo[:, :, :, so]` $A_{pq, mi}$ 与 `to_natm_3(gradh_nr.U_1[:, :, so]))` $U_{mi}^{A_t}$ 作张量缩并即可："
   ]
  },
  {
   "cell_type": "code",
   "execution_count": 75,
   "metadata": {
    "hidden": true
   },
   "outputs": [
    {
     "data": {
      "text/plain": [
       "True"
      ]
     },
     "execution_count": 75,
     "metadata": {},
     "output_type": "execute_result"
    }
   ],
   "source": [
    "np.allclose(AU_nr_resp, np.einsum(\"pqmi, Atmi -> Atpq\", A_0_mo[:, :, :, so], to_natm_3(gradh_nr.U_1[:, :, so])))"
   ]
  },
  {
   "cell_type": "markdown",
   "metadata": {
    "heading_collapsed": true
   },
   "source": [
    "### 任务 (6)"
   ]
  },
  {
   "cell_type": "markdown",
   "metadata": {
    "hidden": true
   },
   "source": [
    "待证等式是\n",
    "\n",
    "$$\n",
    "\\frac{\\partial F_{pq}}{\\partial \\mathbb{A}} = F_{pq}^\\mathbb{A} - S_{pq}^\\mathbb{A} \\varepsilon_q - \\frac{1}{2} A_{pq, kl} S_{kl}^\\mathbb{A} + A_{pq, bj} U_{bj}^\\mathbb{A} + (\\varepsilon_p - \\varepsilon_q) U_{pq}^\\mathbb{A}\n",
    "$$"
   ]
  },
  {
   "cell_type": "markdown",
   "metadata": {
    "hidden": true
   },
   "source": [
    "证明前提是\n",
    "\n",
    "$$\n",
    "\\frac{\\partial F_{pq}}{\\partial \\mathbb{A}} = F_{pq}^\\mathbb{A} + A_{pq, mi} U_{mi}^\\mathbb{A} + F_{pm} U_{mq}^\\mathbb{A} + F_{mq} U_{mp}^\\mathbb{A}\n",
    "$$"
   ]
  },
  {
   "cell_type": "markdown",
   "metadata": {
    "hidden": true
   },
   "source": [
    "我们先看后面两项。根据 $F_{pq} = \\varepsilon_p \\delta_{pq}$，后两项有\n",
    "\n",
    "$$\n",
    "\\frac{\\partial F_{pq}}{\\partial \\mathbb{A}} \\leftarrow F_{pm} U_{mq}^\\mathbb{A} + F_{mq} U_{mp}^\\mathbb{A} = \\varepsilon_p U_{pq}^\\mathbb{A} + \\varepsilon_q U_{qp}^\\mathbb{A}\n",
    "$$"
   ]
  },
  {
   "cell_type": "markdown",
   "metadata": {
    "hidden": true
   },
   "source": [
    "利用 $U_{pq}^\\mathbb{A} + U_{qp}^\\mathbb{A} + S_{pq}^\\mathbb{A} = 0$，我们能推出 $U_{qp}^\\mathbb{A} = - S_{pq}^\\mathbb{A} - U_{pq}^\\mathbb{A}$；因此上式化为"
   ]
  },
  {
   "cell_type": "markdown",
   "metadata": {
    "hidden": true
   },
   "source": [
    "$$\n",
    "\\frac{\\partial F_{pq}}{\\partial \\mathbb{A}} \\leftarrow (\\varepsilon_p - \\varepsilon_q) U_{pq}^\\mathbb{A} - S_{pq}^\\mathbb{A} \\varepsilon_q\n",
    "$$"
   ]
  },
  {
   "cell_type": "markdown",
   "metadata": {
    "hidden": true
   },
   "source": [
    "我们再看 $A_{pq, mi} U_{mi}^\\mathbb{A}$ 一项。我们拆开 $m$ 作为占据轨道与非占轨道的情况，给出\n",
    "\n",
    "$$\n",
    "\\begin{align}\n",
    "\\frac{\\partial F_{pq}}{\\partial \\mathbb{A}} \\leftarrow A_{pq, mi} U_{mi}^\\mathbb{A}\n",
    "&= A_{pq, kl} U_{kl}^\\mathbb{A} + A_{pq, bj} U_{bj}^\\mathbb{A} \\\\\n",
    "&= \\frac{1}{2} (A_{pq, kl} U_{kl}^\\mathbb{A} + A_{pq, lk} U_{lk}^\\mathbb{A}) + A_{pq, bj} U_{bj}^\\mathbb{A} \\\\\n",
    "&= \\frac{1}{2} A_{pq, kl} (U_{kl}^\\mathbb{A} + U_{lk}^\\mathbb{A}) + A_{pq, bj} U_{bj}^\\mathbb{A} \\\\\n",
    "&= - \\frac{1}{2} A_{pq, kl} S_{kl}^\\mathbb{A} + A_{pq, bj} U_{bj}^\\mathbb{A}\n",
    "\\end{align}\n",
    "$$"
   ]
  },
  {
   "cell_type": "markdown",
   "metadata": {
    "hidden": true
   },
   "source": [
    "上述证明过程中，第二个等号利用到 $k, l$ 角标可交换；第三个等号利用到 A 张量的对称性 $A_{pq, kl} = A_{pq, lk}$；第四个等号利用到的是 $U_{pq}^\\mathbb{A} + U_{qp}^\\mathbb{A} + S_{pq}^\\mathbb{A} = 0$。"
   ]
  },
  {
   "cell_type": "markdown",
   "metadata": {
    "hidden": true
   },
   "source": [
    "至此就证明完毕了。下面我们通过待证等式的等式右生成 $\\partial_{A_t} F_{pq}$，生成的结果放在 `d_F_0_mo_simp` 中：\n",
    "\n",
    "$$\n",
    "\\frac{\\partial F_{pq}}{\\partial A_t} = F_{pq}^\\mathbb{A} - S_{pq}^{A_t} \\varepsilon_q - \\frac{1}{2} A_{pq, kl} S_{kl}^{A_t} + A_{pq, bj} U_{bj}^{A_t} + (\\varepsilon_p - \\varepsilon_q) U_{pq}^{A_t}\n",
    "$$"
   ]
  },
  {
   "cell_type": "code",
   "execution_count": 76,
   "metadata": {
    "hidden": true
   },
   "outputs": [],
   "source": [
    "d_F_0_mo_simp = (\n",
    "    + F_1_mo\n",
    "    - S_1_mo * e\n",
    "    - 0.5 * Ax0_Core(sa, sa, so, so)(S_1_mo[:, :, so, so])\n",
    "    + Ax0_Core(sa, sa, sv, so)(to_natm_3(gradh_nr.U_1_vo))\n",
    "    + (e[:, None] - e[None, :]) * (to_natm_3(gradh_nr.U_1))\n",
    ")"
   ]
  },
  {
   "cell_type": "markdown",
   "metadata": {
    "hidden": true
   },
   "source": [
    "我们在任务 (4) 中已经生成过 `d_F_0_mo` $\\partial_{A_t} F_{pq}$；我们可以核验这两者是否等价："
   ]
  },
  {
   "cell_type": "code",
   "execution_count": 77,
   "metadata": {
    "hidden": true
   },
   "outputs": [
    {
     "data": {
      "text/plain": [
       "True"
      ]
     },
     "execution_count": 77,
     "metadata": {},
     "output_type": "execute_result"
    }
   ],
   "source": [
    "np.allclose(d_F_0_mo_simp, d_F_0_mo, atol=1e-5)"
   ]
  },
  {
   "cell_type": "markdown",
   "metadata": {
    "heading_collapsed": true
   },
   "source": [
    "### 任务 (7)"
   ]
  },
  {
   "cell_type": "markdown",
   "metadata": {
    "hidden": true
   },
   "source": [
    "我们求取的目标 `U_1_vv` $U_{ab}^{A_t}$ 为\n",
    "\n",
    "$$\n",
    "\\begin{equation}\n",
    "\\left\\{\n",
    "\\begin{matrix}\n",
    "U_{ab}^\\mathbb{A} &= - \\frac{B_{ab}^\\mathbb{A} + A_{ab, ck} U_{ck}^\\mathbb{A}}{\\varepsilon_a - \\varepsilon_b} &\\quad (a \\neq b) \\\\\n",
    "U_{aa}^\\mathbb{A} &= - \\frac{1}{2} S_{aa}^\\mathbb{A}\n",
    "\\end{matrix}\n",
    "\\right.\n",
    "\\end{equation}\n",
    "$$"
   ]
  },
  {
   "cell_type": "code",
   "execution_count": 78,
   "metadata": {
    "hidden": true
   },
   "outputs": [
    {
     "data": {
      "text/plain": [
       "(4, 3, 13, 13)"
      ]
     },
     "execution_count": 78,
     "metadata": {},
     "output_type": "execute_result"
    }
   ],
   "source": [
    "U_1_vv = - (B_1[:, :, sv, sv] + Ax0_Core(sv, sv, sv, so)(U_1_ai)) / (ev[:, None] - ev[None, :])\n",
    "for p in range(nocc, nmo):\n",
    "    U_1_vv[:, :, p - nocc, p - nocc] = - S_1_mo[:, :, p, p] / 2\n",
    "U_1_vv.shape"
   ]
  },
  {
   "cell_type": "markdown",
   "metadata": {
    "hidden": true
   },
   "source": [
    "我们验证一下是否与 pyxdh 的结果一致："
   ]
  },
  {
   "cell_type": "code",
   "execution_count": 79,
   "metadata": {
    "hidden": true
   },
   "outputs": [
    {
     "data": {
      "text/plain": [
       "True"
      ]
     },
     "execution_count": 79,
     "metadata": {},
     "output_type": "execute_result"
    }
   ],
   "source": [
    "np.allclose(U_1_vv.ravel(), gradh_nr.U_1[:, sv, sv].ravel())"
   ]
  }
 ],
 "metadata": {
  "kernelspec": {
   "display_name": "Python 3",
   "language": "python",
   "name": "python3"
  },
  "language_info": {
   "codemirror_mode": {
    "name": "ipython",
    "version": 3
   },
   "file_extension": ".py",
   "mimetype": "text/x-python",
   "name": "python",
   "nbconvert_exporter": "python",
   "pygments_lexer": "ipython3",
   "version": "3.8.1"
  },
  "toc": {
   "base_numbering": 1,
   "nav_menu": {},
   "number_sections": true,
   "sideBar": true,
   "skip_h1_title": false,
   "title_cell": "Table of Contents",
   "title_sidebar": "Contents",
   "toc_cell": false,
   "toc_position": {
    "height": "calc(100% - 180px)",
    "left": "10px",
    "top": "150px",
    "width": "240px"
   },
   "toc_section_display": true,
   "toc_window_display": true
  }
 },
 "nbformat": 4,
 "nbformat_minor": 4
}
