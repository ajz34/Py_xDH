{
 "cells": [
  {
   "cell_type": "markdown",
   "metadata": {},
   "source": [
    "# RHF 核坐标梯度计算"
   ]
  },
  {
   "cell_type": "markdown",
   "metadata": {},
   "source": [
    "上一节，我们对 RHF 下的偶极矩作了计算。我们求取了 Hamiltonian Core 矩阵、重叠矩阵、ERI 积分的 Skeleton 导数。我们利用过 U 矩阵的特性，避免计算了较为复杂和耗时的 U 矩阵，从而只利用概念相对简单的 Skeleton 导数就解决了偶极矩计算。"
   ]
  },
  {
   "cell_type": "markdown",
   "metadata": {},
   "source": [
    "偶极矩也确实计算简单，并且可以从物理图景和一阶导数两种方式求得结果，因此可以作为一阶梯度计算不错的切入点。但也由于很多矩阵在电场下的导数为零，许多电场梯度所能给出的公式不能很好地推广到其它梯度响应性质，因此不是很好的切入点。在以后，我们会更多地使用核坐标梯度来引导学习各种响应性质。"
   ]
  },
  {
   "cell_type": "markdown",
   "metadata": {},
   "source": [
    "由于分子轨道的 Skeleton 导数从定义上是原子轨道 Skeleton 导数与轨道系数缩并而来，因此我们只要了解原子轨道的 Skeleton 导数的具体求取过程即可。后文不会对分子轨道的 Skeleton 作很翔实的说明。"
   ]
  },
  {
   "cell_type": "markdown",
   "metadata": {},
   "source": [
    "## 准备工作"
   ]
  },
  {
   "cell_type": "markdown",
   "metadata": {},
   "source": [
    "与上一节的情况不同的是，我们这里是对核坐标梯度求导。因此，上一节的偶极矩辅助类实例 `diph` 在这里替换为了梯度辅助类实例 `gradh`。"
   ]
  },
  {
   "cell_type": "code",
   "execution_count": 1,
   "metadata": {},
   "outputs": [],
   "source": [
    "%matplotlib notebook\n",
    "\n",
    "from pyscf import gto, scf, dft, lib\n",
    "import numpy as np\n",
    "from functools import partial\n",
    "import warnings\n",
    "from matplotlib import pyplot as plt\n",
    "from pyxdh.Utilities import NucCoordDerivGenerator, DipoleDerivGenerator, NumericDiff\n",
    "from pyxdh.DerivOnce import GradSCF\n",
    "\n",
    "np.einsum = partial(np.einsum, optimize=[\"greedy\", 1024 ** 3 * 2 / 8])\n",
    "np.allclose = partial(np.allclose, atol=1e-6, rtol=1e-4)\n",
    "np.set_printoptions(5, linewidth=150, suppress=True)\n",
    "warnings.filterwarnings(\"ignore\")"
   ]
  },
  {
   "cell_type": "code",
   "execution_count": 2,
   "metadata": {},
   "outputs": [
    {
     "data": {
      "text/plain": [
       "<pyscf.gto.mole.Mole at 0x7fc96c41e340>"
      ]
     },
     "execution_count": 2,
     "metadata": {},
     "output_type": "execute_result"
    }
   ],
   "source": [
    "mol = gto.Mole()\n",
    "mol.atom = \"\"\"\n",
    "O  0.0  0.0  0.0\n",
    "O  0.0  0.0  1.5\n",
    "H  1.5  0.0  0.0\n",
    "H  0.0  0.7  1.5\n",
    "\"\"\"\n",
    "mol.basis = \"6-31G\"\n",
    "mol.verbose = 0\n",
    "mol.build()"
   ]
  },
  {
   "cell_type": "code",
   "execution_count": 3,
   "metadata": {},
   "outputs": [],
   "source": [
    "gradh = GradSCF({\"scf_eng\": scf.RHF(mol)})"
   ]
  },
  {
   "cell_type": "code",
   "execution_count": 4,
   "metadata": {},
   "outputs": [],
   "source": [
    "nmo, nao, natm, nocc, nvir = gradh.nao, gradh.nao, gradh.natm, gradh.nocc, gradh.nvir\n",
    "so, sv, sa = gradh.so, gradh.sv, gradh.sa\n",
    "C, Co, Cv, e, eo, ev, D = gradh.C, gradh.Co, gradh.Cv, gradh.e, gradh.eo, gradh.ev, gradh.D\n",
    "H_0_ao, S_0_ao, eri0_ao, F_0_ao = gradh.H_0_ao, gradh.S_0_ao, gradh.eri0_ao, gradh.F_0_ao\n",
    "H_0_mo, S_0_mo, eri0_mo, F_0_mo = gradh.H_0_mo, gradh.S_0_mo, gradh.eri0_mo, gradh.F_0_mo"
   ]
  },
  {
   "cell_type": "code",
   "execution_count": 5,
   "metadata": {},
   "outputs": [],
   "source": [
    "def grad_generator(mol):\n",
    "    scf_eng = scf.RHF(mol)\n",
    "    config = {\n",
    "        \"scf_eng\": scf_eng,\n",
    "    }\n",
    "    return GradSCF(config)"
   ]
  },
  {
   "cell_type": "code",
   "execution_count": 6,
   "metadata": {},
   "outputs": [],
   "source": [
    "gradn = NucCoordDerivGenerator(mol, grad_generator)"
   ]
  },
  {
   "cell_type": "markdown",
   "metadata": {},
   "source": [
    "## 重叠矩阵 Skeleton 导数"
   ]
  },
  {
   "cell_type": "markdown",
   "metadata": {},
   "source": [
    "上一节我们先讨论了 Hamiltonian Core 导数；但在核坐标梯度中，Hamiltonian Core 导数并不是非常容易求取的。我们先讨论更为简单的重叠矩阵 Skeleton 导数。但即使重叠矩阵较为简单，其过程可能也会令新读者感到相当痛苦。"
   ]
  },
  {
   "cell_type": "markdown",
   "metadata": {},
   "source": [
    "### 解析导数 (1) 额外符号的引入"
   ]
  },
  {
   "cell_type": "markdown",
   "metadata": {},
   "source": [
    "重叠积分的定义是\n",
    "\n",
    "$$\n",
    "S_{\\mu \\nu} = \\langle \\mu | \\nu \\rangle = \\int \\phi_{\\mu} (\\boldsymbol{r}) \\phi_{\\nu} (\\boldsymbol{r}) \\, \\mathrm{d} \\boldsymbol{r}\n",
    "$$"
   ]
  },
  {
   "cell_type": "markdown",
   "metadata": {},
   "source": [
    "但是从上面的定义中，我们似乎看不到任何与核坐标有关的变量。\n",
    "\n",
    "事实上，原子轨道作为 Gaussian 函数基组，它的定义还与其对应的原子核坐标有关。因此，我们可以对原子轨道角标 $\\mu, \\nu$ 下方明确加上原子角标，并将函数的自变量写为电子坐标与基组中心的原子核坐标之差的形式：\n",
    "\n",
    "$$\n",
    "S_{\\mu \\nu} = \\int \\phi_{\\mu_{M_1}} (\\boldsymbol{r} - \\boldsymbol{M}_1) \\phi_{\\nu_{M_2}} (\\boldsymbol{r} - \\boldsymbol{M}_2) \\, \\mathrm{d} \\boldsymbol{r}\n",
    "$$"
   ]
  },
  {
   "cell_type": "markdown",
   "metadata": {},
   "source": [
    "需要说明，下标 $M_1, M_2$ 只是表明原子轨道 $\\mu$ 的中心在原子 $M_1$ 上，原子轨道 $\\nu$ 的中心在原子 $M_2$ 上。"
   ]
  },
  {
   "cell_type": "markdown",
   "metadata": {},
   "source": [
    "<div class=\"alert alert-info\">\n",
    "\n",
    "**记号说明**\n",
    "\n",
    "- 原子轨道下标原子角标 $\\mu_M$：\n",
    "    \n",
    "    - 若原子 $M$ 是原子轨道 $\\mu$ 作为 Gaussian 函数的中心，那么该角标的矩阵或张量值可能非零；\n",
    "    \n",
    "    - 但若 $M$ 并非 $\\mu$ 的中心，那么矩阵或张量值一定为零。\n",
    "\n",
    "这个符号有一点点类似于 Kronecker $\\delta$ 函数。如果我们不用 Einstein Summation 而只使用普通求和，那么用刚才的符号，下述表达式成立：\n",
    "\n",
    "$$\n",
    "S_{\\mu \\nu}\n",
    "= \\int \\phi_\\mu \\phi_\\nu \\, \\mathrm{d} \\boldsymbol{r}\n",
    "= \\sum_{M_1, M_2} \\int \\phi_{\\mu_{M_1}} \\phi_{\\nu_{M_2}} \\, \\mathrm{d} \\boldsymbol{r}\n",
    "$$\n",
    "\n",
    "</div>"
   ]
  },
  {
   "cell_type": "markdown",
   "metadata": {},
   "source": [
    "现在，我们对上式作关于原子核 $A$ 的 $t$ 坐标分量的导数："
   ]
  },
  {
   "cell_type": "markdown",
   "metadata": {},
   "source": [
    "$$\n",
    "S_{\\mu \\nu}^{A_t} = \\frac{\\partial S_{\\mu \\nu}}{\\partial A_t} =\n",
    "\\int \\frac{\\partial \\phi_{\\mu_{M_1}} (\\boldsymbol{r} - \\boldsymbol{M}_1)}{\\partial A_t} \\phi_{\\nu_{M_2}} (\\boldsymbol{r} - \\boldsymbol{M}_2) \\, \\mathrm{d} \\boldsymbol{r} +\n",
    "\\int \\phi_{\\mu_{M_1}} (\\boldsymbol{r} - \\boldsymbol{M}_1) \\frac{\\partial \\phi_{\\nu_{M_2}} (\\boldsymbol{r} - \\boldsymbol{M}_2)}{\\partial A_t} \\, \\mathrm{d} \\boldsymbol{r}\n",
    "$$"
   ]
  },
  {
   "cell_type": "markdown",
   "metadata": {},
   "source": [
    "上式多少有些冗长。事实上，上式的两项非常相似，差别仅仅是交换了 $\\mu, \\nu$ 而已。我们以后经常会使用如下记号简写：\n",
    "\n",
    "$$\n",
    "S_{\\mu \\nu}^{A_t} =\n",
    "\\int \\frac{\\partial \\phi_{\\mu_{M_1}} (\\boldsymbol{r} - \\boldsymbol{M}_1)}{\\partial A_t} \\phi_{\\nu_{M_2}} (\\boldsymbol{r} - \\boldsymbol{M}_2) \\, \\mathrm{d} \\boldsymbol{r} +\n",
    "\\mathrm{swap} (\\mu, \\nu)\n",
    "$$"
   ]
  },
  {
   "cell_type": "markdown",
   "metadata": {
    "heading_collapsed": true
   },
   "source": [
    "### $S_{\\mu \\nu}^{A_t}$ 稀疏性 (1) 程序结果演示"
   ]
  },
  {
   "cell_type": "markdown",
   "metadata": {
    "hidden": true
   },
   "source": [
    "在继续讨论之前，我们不妨先看一看重叠矩阵 Skeleton 导数的一些特性。`gradh.S_1_ao` 是 pyxdh 所生成的解析的 $S_{\\mu \\nu}^\\mathbb{A}$，其维度 $(\\mathbb{A}, \\mu, \\nu)$ 如下："
   ]
  },
  {
   "cell_type": "code",
   "execution_count": 7,
   "metadata": {
    "hidden": true
   },
   "outputs": [
    {
     "data": {
      "text/plain": [
       "(12, 22, 22)"
      ]
     },
     "execution_count": 7,
     "metadata": {},
     "output_type": "execute_result"
    }
   ],
   "source": [
    "gradh.S_1_ao.shape"
   ]
  },
  {
   "cell_type": "markdown",
   "metadata": {
    "hidden": true
   },
   "source": [
    "其第一个维度 $\\mathbb{A}$ 相当于原子核的坐标分量 $A_t$，但被压成了一个维度。因此，若要取索引为 1 的原子 (第二个氧原子) 的 $z$ 分量，则应当取 `gradh.S_1_ao[5]`。\n",
    "\n",
    "但这个矩阵仍然很庞大，我们不妨将这个矩阵拆开来看。"
   ]
  },
  {
   "cell_type": "markdown",
   "metadata": {
    "hidden": true
   },
   "source": [
    "我们首先取出 `gradh.S_1_ao[5]` 上述矩阵的索引 $[9, 18)$ 行、索引 $[0, 9) \\cup [18, 22)$ 列；这是上述矩阵 (除开其转置之外) 唯一有非零值的地方："
   ]
  },
  {
   "cell_type": "code",
   "execution_count": 8,
   "metadata": {
    "hidden": true
   },
   "outputs": [
    {
     "data": {
      "text/plain": [
       "array([[-0.     , -0.00166, -0.03032,  0.     ,  0.     , -0.00498,  0.     ,  0.     , -0.06593, -0.00006, -0.00817, -0.     ,  0.     ],\n",
       "       [-0.00166, -0.0604 , -0.16854,  0.     ,  0.     , -0.10281,  0.     ,  0.     , -0.27194, -0.00356, -0.05094, -0.     ,  0.     ],\n",
       "       [-0.03032, -0.16854, -0.25868,  0.     ,  0.     , -0.11283,  0.     ,  0.     , -0.20539, -0.0389 , -0.10756,  0.     ,  0.     ],\n",
       "       [ 0.     ,  0.     ,  0.     , -0.02832,  0.     ,  0.     , -0.1074 ,  0.     ,  0.     , -0.00526, -0.03049,  0.     ,  0.     ],\n",
       "       [ 0.     ,  0.     ,  0.     ,  0.     , -0.02832,  0.     ,  0.     , -0.1074 ,  0.     ,  0.     ,  0.     , -0.     , -0.     ],\n",
       "       [ 0.00498,  0.10281,  0.11283,  0.     ,  0.     ,  0.15701,  0.     ,  0.     ,  0.05342,  0.00443,  0.01699, -0.32959, -0.10123],\n",
       "       [ 0.     ,  0.     ,  0.     , -0.1074 ,  0.     ,  0.     , -0.25868,  0.     ,  0.     , -0.08229, -0.11849,  0.     ,  0.     ],\n",
       "       [ 0.     ,  0.     ,  0.     ,  0.     , -0.1074 ,  0.     ,  0.     , -0.25868,  0.     ,  0.     ,  0.     ,  0.     ,  0.     ],\n",
       "       [ 0.06593,  0.27194,  0.20539,  0.     ,  0.     ,  0.05342,  0.     ,  0.     , -0.21484,  0.05589,  0.04546, -0.43635, -0.31003]])"
      ]
     },
     "execution_count": 8,
     "metadata": {},
     "output_type": "execute_result"
    }
   ],
   "source": [
    "slice_mu = range(9, 18)\n",
    "slice_nu = (*range(0, 9), *range(18, 22))\n",
    "gradh.S_1_ao[5][slice_mu, :][:, slice_nu]"
   ]
  },
  {
   "cell_type": "markdown",
   "metadata": {
    "hidden": true
   },
   "source": [
    "其它的矩阵元的值近乎于为零。我们可以将矩阵元的绝对值和减去两倍上面子矩阵的矩阵元绝对值和，得到接近于 0 的结果："
   ]
  },
  {
   "cell_type": "code",
   "execution_count": 9,
   "metadata": {
    "hidden": true
   },
   "outputs": [
    {
     "data": {
      "text/plain": [
       "2.3092638912203256e-14"
      ]
     },
     "execution_count": 9,
     "metadata": {},
     "output_type": "execute_result"
    }
   ],
   "source": [
    "np.abs(gradh.S_1_ao[5]).sum() - 2 * np.abs(gradh.S_1_ao[5][slice_mu, :][:, slice_nu]).sum()"
   ]
  },
  {
   "cell_type": "markdown",
   "metadata": {
    "hidden": true
   },
   "source": [
    "因此，其实相当多的矩阵元是零值。"
   ]
  },
  {
   "cell_type": "markdown",
   "metadata": {
    "hidden": true
   },
   "source": [
    "这对于其它的原子核也是类似的。\n",
    "\n",
    "这种现象并非是偶然的。我们先回忆一下很早之前提及的 [原子轨道分割](../qcbasic/basis_integral.ipynb#壳层分割与原子轨道分割)。"
   ]
  },
  {
   "cell_type": "code",
   "execution_count": 10,
   "metadata": {
    "hidden": true,
    "scrolled": true
   },
   "outputs": [
    {
     "data": {
      "text/plain": [
       "array([[ 0,  5,  0,  9],\n",
       "       [ 5, 10,  9, 18],\n",
       "       [10, 12, 18, 20],\n",
       "       [12, 14, 20, 22]])"
      ]
     },
     "execution_count": 10,
     "metadata": {},
     "output_type": "execute_result"
    }
   ],
   "source": [
    "mol.aoslice_by_atom()"
   ]
  },
  {
   "cell_type": "markdown",
   "metadata": {
    "hidden": true
   },
   "source": [
    "因此，上述的非零的矩阵元所代表的的是，$\\mu$ 所代表的原子是第 2 个氧原子，$\\nu$ 所代表的原子是第 1 个氧原子和其它氢原子时，矩阵元是非零的。\n",
    "\n",
    "我们以后会为了便利，使用 `mol_slice` 函数给出原子轨道的分割："
   ]
  },
  {
   "cell_type": "code",
   "execution_count": 11,
   "metadata": {
    "hidden": true
   },
   "outputs": [],
   "source": [
    "def mol_slice(atm_id, mol=mol):\n",
    "    _, _, p0, p1 = mol.aoslice_by_atom()[atm_id]\n",
    "    return slice(p0, p1)"
   ]
  },
  {
   "cell_type": "markdown",
   "metadata": {
    "hidden": true
   },
   "source": [
    "譬如，我们要取出第二个氧原子 (索引为 1 的原子) 的所有原子轨道的话，下述代码就可以取出其分割："
   ]
  },
  {
   "cell_type": "code",
   "execution_count": 12,
   "metadata": {
    "hidden": true
   },
   "outputs": [
    {
     "data": {
      "text/plain": [
       "slice(9, 18, None)"
      ]
     },
     "execution_count": 12,
     "metadata": {},
     "output_type": "execute_result"
    }
   ],
   "source": [
    "mol_slice(1)"
   ]
  },
  {
   "cell_type": "markdown",
   "metadata": {
    "heading_collapsed": true
   },
   "source": [
    "### 解析导数 (2) 最终表达式"
   ]
  },
  {
   "cell_type": "markdown",
   "metadata": {
    "hidden": true
   },
   "source": [
    "接下来，我们看看为什么这么多矩阵元的值为零。我们先对下式作讨论。\n",
    "\n",
    "$$\n",
    "\\frac{\\partial \\phi_{\\mu_{M_1}} (\\boldsymbol{r} - \\boldsymbol{M}_1)}{\\partial A_t} \\phi_{\\nu_{M_2}} (\\boldsymbol{r} - \\boldsymbol{M}_2)\n",
    "$$"
   ]
  },
  {
   "cell_type": "markdown",
   "metadata": {
    "hidden": true
   },
   "source": [
    "我们定义 $\\boldsymbol{u} = \\boldsymbol{r} - \\boldsymbol{M}_1$，那么根据链式法则，\n",
    "\n",
    "$$\n",
    "\\frac{\\partial \\phi_{\\mu_{M_1}} (\\boldsymbol{r} - \\boldsymbol{M}_1)}{\\partial A_t}\n",
    "= \\frac{\\partial \\phi_{\\mu_{M_1}} (\\boldsymbol{u})}{\\partial A_t} = \\frac{\\partial \\phi_{\\mu_{M_1}} (\\boldsymbol{u})}{\\partial \\boldsymbol{u}} \\cdot \\frac{\\partial \\boldsymbol{u}}{\\partial A_t}\n",
    "$$"
   ]
  },
  {
   "cell_type": "markdown",
   "metadata": {
    "hidden": true
   },
   "source": [
    "先考察 $\\partial_{A_t} \\boldsymbol{u}$。由于 $\\boldsymbol{r}$ 是电子坐标，与原子核坐标分量 $A_t$ 无关，因此\n",
    "\n",
    "$$\n",
    "\\frac{\\partial \\boldsymbol{r}}{\\partial A_t} = \\boldsymbol{0}\n",
    "$$"
   ]
  },
  {
   "cell_type": "markdown",
   "metadata": {
    "hidden": true
   },
   "source": [
    "而若 $M_1$ 作为原子与原子 $A$ 不同，那么 $\\boldsymbol{M}_1$ 也与 $A_t$ 毫无关系：\n",
    "\n",
    "$$\n",
    "\\frac{\\partial \\boldsymbol{M}_1}{\\partial A_t} = \\boldsymbol{0} \\quad (M_1 \\neq A)\n",
    "$$"
   ]
  },
  {
   "cell_type": "markdown",
   "metadata": {
    "hidden": true
   },
   "source": [
    "但若 $M_1$ 就是原子 $A$，或者说原子轨道 $\\mu$ 的中心恰好是 $A$ 原子，那么\n",
    "\n",
    "$$\n",
    "\\frac{\\partial \\boldsymbol{M}_1}{\\partial A_t} = (\\delta_{tx}, \\delta_{ty}, \\delta_{tz}) \\quad (M_1 = A)\n",
    "$$"
   ]
  },
  {
   "cell_type": "markdown",
   "metadata": {
    "hidden": true
   },
   "source": [
    "之所以写成上式的形式，是因为首先我们注意到 $\\boldsymbol{M}_1 = \\boldsymbol{A}$ 本身是原子坐标，具有三个分量；如果我们将 $A_t$ 当作标量考虑，那么上述偏导结果还是三元素向量。\n",
    "\n",
    "那么，我们可以将 $\\boldsymbol{A}$ 写成向量 $(A_x, A_y, A_z)$ 的形式。$A_t$ 就是其中的一个分量；因此，求导的结果就是 $A_t$ 所在分量导数为 1，其余两个分量导数为零。这可以写成 Kronecker $\\delta$ 的形式。"
   ]
  },
  {
   "cell_type": "markdown",
   "metadata": {
    "hidden": true
   },
   "source": [
    "那么综合起来，我们可以写\n",
    "\n",
    "$$\n",
    "\\frac{\\partial \\boldsymbol{u}}{\\partial A_t} = - \\frac{\\partial \\boldsymbol{M}_1}{\\partial A_t} = - \\delta_{M_1 A} (\\delta_{tx}, \\delta_{ty}, \\delta_{tz})\n",
    "$$"
   ]
  },
  {
   "cell_type": "markdown",
   "metadata": {
    "hidden": true
   },
   "source": [
    "这也就意味着只有三维坐标 $\\boldsymbol{u}$ 中只有 $u_t$ 会对偏导产生贡献。因此，\n",
    "\n",
    "$$\n",
    "\\frac{\\partial \\phi_{\\mu_{M_1}} (\\boldsymbol{r} - \\boldsymbol{M}_1)}{\\partial A_t}\n",
    "= \\frac{\\partial \\phi_{\\mu_{M_1}} (\\boldsymbol{u})}{\\partial \\boldsymbol{u}} \\cdot \\frac{\\partial \\boldsymbol{u}}{\\partial A_t}\n",
    "= - \\frac{\\partial \\phi_{\\mu_{M_1}} (\\boldsymbol{u})}{\\partial u_t} \\delta_{M_1 A}\n",
    "= - \\frac{\\partial \\phi_{\\mu_A} (\\boldsymbol{u})}{\\partial u_t}\n",
    "$$"
   ]
  },
  {
   "cell_type": "markdown",
   "metadata": {
    "hidden": true
   },
   "source": [
    "化简至此，我们认为基本就够了。我们通常会将上式再缩写为\n",
    "\n",
    "$$\n",
    "\\frac{\\partial \\phi_{\\mu_{M_1}} (\\boldsymbol{r} - \\boldsymbol{M}_1)}{\\partial A_t} = - \\phi_{t \\mu_A}\n",
    "$$"
   ]
  },
  {
   "cell_type": "markdown",
   "metadata": {
    "hidden": true
   },
   "source": [
    "其中，简写记号 $\\phi_{t \\mu_A}$ 意味着原子轨道 $\\mu$ 只在原子 $A$ 上才显示有值，且该原子轨道被求过 $t$ 方向的偏导数。"
   ]
  },
  {
   "cell_type": "markdown",
   "metadata": {
    "hidden": true
   },
   "source": [
    "我们回顾这一段最初的问题，即重叠矩阵的 Skeleton 导数：\n",
    "\n",
    "$$\n",
    "\\begin{align}\n",
    "S_{\\mu \\nu}^{A_t}\n",
    "&= \\int \\frac{\\partial \\phi_{\\mu_{M_1}} (\\boldsymbol{r} - \\boldsymbol{M}_1)}{\\partial A_t} \\phi_{\\nu_{M_2}} (\\boldsymbol{r} - \\boldsymbol{M}_2) \\, \\mathrm{d} \\boldsymbol{r} +\n",
    "\\mathrm{swap} (\\mu, \\nu) \\\\\n",
    "&= - \\int \\phi_{t \\mu_A} \\phi_\\nu \\, \\mathrm{d} \\boldsymbol{r} + \\mathrm{swap} (\\mu, \\nu) \\\\\n",
    "&= - \\langle \\partial_t \\mu_A | \\nu \\rangle + \\mathrm{swap} (\\mu, \\nu)\n",
    "\\end{align}\n",
    "$$"
   ]
  },
  {
   "cell_type": "markdown",
   "metadata": {
    "hidden": true
   },
   "source": [
    "上面的表达式回答了为何 $S_{\\mu \\nu}^{A_t}$ 有这么多零值。这是因为，若 $\\mu$ 作为 Gaussian 函数的中心不是原子核 $A$，那么 $\\langle \\partial_t \\mu_A | \\nu \\rangle$ 为零值。即使说还有 $\\mathrm{swap} (\\mu, \\nu)$，但这个补上去的转置也仍然不会改变 $S_{\\mu \\nu}^{A_t}$ 是一个零值非常多的矩阵的状况。\n",
    "\n",
    "不仅仅是 $S_{\\mu \\nu}^{A_t}$，其它的不少 Skeleton 导数都具有这种稀疏性。尽管储存这种稀疏的矩阵一般来说总是低效的，但为了程序方便，我们通常都明确地在程序中使用稠密矩阵来储存这类稀疏矩阵。"
   ]
  },
  {
   "cell_type": "markdown",
   "metadata": {
    "hidden": true
   },
   "source": [
    "在这一小段的最后，我们回顾一下上述推导过程中，一个很常用的推论："
   ]
  },
  {
   "cell_type": "markdown",
   "metadata": {
    "hidden": true
   },
   "source": [
    "<div class=\"alert alert-info\">\n",
    "\n",
    "**常用推论**\n",
    "\n",
    "$$\n",
    "\\partial_{A_t} \\mu = - \\partial_t \\mu_A\n",
    "$$\n",
    "\n",
    "</div>"
   ]
  },
  {
   "cell_type": "markdown",
   "metadata": {
    "heading_collapsed": true
   },
   "source": [
    "### 解析导数 (3) 程序"
   ]
  },
  {
   "cell_type": "markdown",
   "metadata": {
    "hidden": true
   },
   "source": [
    "所幸的是，PySCF 中，支持对 $\\langle \\partial_t \\mu | \\nu \\rangle$ 积分的计算。该积分可以暂存为 `int1e_ipovlp`："
   ]
  },
  {
   "cell_type": "code",
   "execution_count": 13,
   "metadata": {
    "hidden": true
   },
   "outputs": [
    {
     "data": {
      "text/plain": [
       "(3, 22, 22)"
      ]
     },
     "execution_count": 13,
     "metadata": {},
     "output_type": "execute_result"
    }
   ],
   "source": [
    "int1e_ipovlp = mol.intor(\"int1e_ipovlp\")\n",
    "int1e_ipovlp.shape"
   ]
  },
  {
   "cell_type": "markdown",
   "metadata": {
    "hidden": true
   },
   "source": [
    "但这甚至与我们所期望的 $S_{\\mu \\nu}^{A_t}$ 的维度也完全不同；`int1e_ovlp` $\\langle \\partial_t \\mu | \\nu \\rangle$ 的维度是 $(t, \\mu, \\nu)$，而 $S_{\\mu \\nu}^{A_t}$ 的维度应当是 $(A, t, \\mu, \\nu)$ 或 $(\\mathbb{A} = A_t, \\mu, \\nu)$。\n",
    "\n",
    "这是因为 $\\langle \\partial_t \\mu | \\nu \\rangle$ 并不等同于 $\\langle \\partial_t \\mu_A | \\nu \\rangle$；后者引入了原子轨道和原子之间的关系。譬如，对于 $A$ 为第 2 个氧原子 (索引 1 的原子) 而言，$\\langle \\partial_t \\mu_A | \\nu \\rangle$ 积分中，当 $\\mu$ 处在其它原子上时，矩阵元应当都为零。我们可以用下述代码生成 $A$ 为第 2 个氧原子的 `S_1_ao_atom1` $S_{\\mu \\nu}^{A_t}$ (维度为 $(t, \\mu, \\nu)$)："
   ]
  },
  {
   "cell_type": "code",
   "execution_count": 14,
   "metadata": {
    "hidden": true
   },
   "outputs": [
    {
     "data": {
      "text/plain": [
       "True"
      ]
     },
     "execution_count": 14,
     "metadata": {},
     "output_type": "execute_result"
    }
   ],
   "source": [
    "S_1_ao_atom1 = np.zeros((3, nao, nao))\n",
    "sA = mol_slice(1)\n",
    "S_1_ao_atom1[:, sA, :] = - int1e_ipovlp[:, sA, :]\n",
    "S_1_ao_atom1 += S_1_ao_atom1.swapaxes(-1, -2)\n",
    "np.allclose(S_1_ao_atom1, gradh.S_1_ao[3:6])"
   ]
  },
  {
   "cell_type": "markdown",
   "metadata": {
    "hidden": true
   },
   "source": [
    "上述代码的\n",
    "\n",
    "- Line 1：生成维度为 $(t, \\mu, \\nu)$ 的零矩阵；\n",
    "\n",
    "- Line 2：给出第二个氧原子为中心的所有原子轨道 $\\mu_A$ 的索引；\n",
    "\n",
    "- Line 3：对所有处在原子 $A$ 上的原子轨道 $\\mu$，赋值 $-\\langle \\partial_t \\mu | \\nu \\rangle$；\n",
    "\n",
    "- Line 4：处理 $\\mathrm{swap}(\\mu, \\nu)$\n",
    "\n",
    "- Line 5：与真实结果进行比对。"
   ]
  },
  {
   "cell_type": "markdown",
   "metadata": {
    "hidden": true
   },
   "source": [
    "那么，对上面的程序作一点点延伸，就可以给出完整的、所有原子的 `S_1_ao` $S_{\\mu \\nu}^{A_t}$ 了 (维度 $(A, t, \\mu, \\nu)$)："
   ]
  },
  {
   "cell_type": "code",
   "execution_count": 15,
   "metadata": {
    "hidden": true
   },
   "outputs": [],
   "source": [
    "S_1_ao = np.zeros((natm, 3, nao, nao))\n",
    "for A in range(natm):\n",
    "    sA = mol_slice(A)\n",
    "    S_1_ao[A, :, sA, :] = - int1e_ipovlp[:, sA, :]\n",
    "S_1_ao += S_1_ao.swapaxes(-1, -2)"
   ]
  },
  {
   "cell_type": "markdown",
   "metadata": {
    "hidden": true
   },
   "source": [
    "我们可以将其与 pyxdh 所给出的 `gradh.S_1_ao` 作比较；但在此之前，我们注意到两者维度不同："
   ]
  },
  {
   "cell_type": "code",
   "execution_count": 16,
   "metadata": {
    "hidden": true
   },
   "outputs": [
    {
     "name": "stdout",
     "output_type": "stream",
     "text": [
      "Our's S_1_ao: (4, 3, 22, 22)\n",
      "pyxdh S_1_ao: (12, 22, 22)\n"
     ]
    }
   ],
   "source": [
    "print(\"Our's S_1_ao:\", S_1_ao.shape)\n",
    "print(\"pyxdh S_1_ao:\", gradh.S_1_ao.shape)"
   ]
  },
  {
   "cell_type": "markdown",
   "metadata": {
    "hidden": true
   },
   "source": [
    "这是因为 pyxdh 使用 $\\mathbb{A} = A_t$ 的方式存储各种解析导数，因此会将 $(A, t)$ 组合为一个维度。这么做在一阶响应性质中会是累赘，但在二阶响应性质的推导和编写上会轻松不少。我们在以后的一阶响应性质的文档中，统一还是拆分 $(A, t)$ 作为两个维度考虑。\n",
    "\n",
    "那么，为比较上述两个张量是否相等，可以完全压平再进行比较："
   ]
  },
  {
   "cell_type": "code",
   "execution_count": 17,
   "metadata": {
    "hidden": true
   },
   "outputs": [
    {
     "data": {
      "text/plain": [
       "True"
      ]
     },
     "execution_count": 17,
     "metadata": {},
     "output_type": "execute_result"
    }
   ],
   "source": [
    "np.allclose(S_1_ao.flatten(), gradh.S_1_ao.flatten())"
   ]
  },
  {
   "cell_type": "markdown",
   "metadata": {
    "heading_collapsed": true
   },
   "source": [
    "### $S_{\\mu \\nu}^{A_t}$ 稀疏性 (2) 详细解释"
   ]
  },
  {
   "cell_type": "markdown",
   "metadata": {
    "hidden": true
   },
   "source": [
    "我们刚才已经推导过，\n",
    "\n",
    "$$\n",
    "\\begin{align}\n",
    "S_{\\mu \\nu}^{A_t}\n",
    "&= - \\langle \\partial_t \\mu_A | \\nu \\rangle + \\mathrm{swap} (\\mu, \\nu) \\\\\n",
    "&= - \\langle \\partial_t \\mu_A | \\nu \\rangle - \\langle \\mu | \\partial_t \\nu_A \\rangle\n",
    "\\end{align}\n",
    "$$"
   ]
  },
  {
   "cell_type": "markdown",
   "metadata": {
    "hidden": true
   },
   "source": [
    "因此，容易知道对于原子 $A$ 来讲，$S^{A_t}_{\\mu \\nu}$ 中，若 $\\mu \\neq A$ 且 $\\nu \\neq A$，则 $S_{\\mu \\nu}^{A_t} = 0$。下面展示的是，当 $A$ 是第 2 个氧原子 (索引 1) 且 $t = z$ 分量时，$S_{\\mu \\nu}^{A_t}$ 中所有 $\\mu \\neq A$ 且 $\\nu \\neq A$ 的元素值："
   ]
  },
  {
   "cell_type": "code",
   "execution_count": 18,
   "metadata": {
    "hidden": true
   },
   "outputs": [
    {
     "data": {
      "text/plain": [
       "array([[0., 0., 0., 0., 0., 0., 0., 0., 0., 0., 0., 0., 0.],\n",
       "       [0., 0., 0., 0., 0., 0., 0., 0., 0., 0., 0., 0., 0.],\n",
       "       [0., 0., 0., 0., 0., 0., 0., 0., 0., 0., 0., 0., 0.],\n",
       "       [0., 0., 0., 0., 0., 0., 0., 0., 0., 0., 0., 0., 0.],\n",
       "       [0., 0., 0., 0., 0., 0., 0., 0., 0., 0., 0., 0., 0.],\n",
       "       [0., 0., 0., 0., 0., 0., 0., 0., 0., 0., 0., 0., 0.],\n",
       "       [0., 0., 0., 0., 0., 0., 0., 0., 0., 0., 0., 0., 0.],\n",
       "       [0., 0., 0., 0., 0., 0., 0., 0., 0., 0., 0., 0., 0.],\n",
       "       [0., 0., 0., 0., 0., 0., 0., 0., 0., 0., 0., 0., 0.],\n",
       "       [0., 0., 0., 0., 0., 0., 0., 0., 0., 0., 0., 0., 0.],\n",
       "       [0., 0., 0., 0., 0., 0., 0., 0., 0., 0., 0., 0., 0.],\n",
       "       [0., 0., 0., 0., 0., 0., 0., 0., 0., 0., 0., 0., 0.],\n",
       "       [0., 0., 0., 0., 0., 0., 0., 0., 0., 0., 0., 0., 0.]])"
      ]
     },
     "execution_count": 18,
     "metadata": {},
     "output_type": "execute_result"
    }
   ],
   "source": [
    "slice_mu = list(range(nao))[mol_slice(0)] + list(range(nao))[mol_slice(2)] + list(range(nao))[mol_slice(3)]\n",
    "slice_nu = list(range(nao))[mol_slice(0)] + list(range(nao))[mol_slice(2)] + list(range(nao))[mol_slice(3)]\n",
    "S_1_ao[1, 2][slice_mu, :][:, slice_nu]"
   ]
  },
  {
   "cell_type": "markdown",
   "metadata": {
    "hidden": true
   },
   "source": [
    "剩下的元素全部都可能非零吗？并非如此。$S^{A_t}_{\\mu \\nu}$ 中，若 $\\mu = A$ 且 $\\nu = A$，仍然有 $S_{\\mu \\nu}^{A_t} = 0$。"
   ]
  },
  {
   "cell_type": "code",
   "execution_count": 19,
   "metadata": {
    "hidden": true
   },
   "outputs": [
    {
     "data": {
      "text/plain": [
       "array([[ 0., -0.,  0., -0., -0.,  0., -0., -0.,  0.],\n",
       "       [-0., -0., -0., -0., -0., -0., -0., -0.,  0.],\n",
       "       [ 0., -0., -0., -0., -0., -0., -0., -0.,  0.],\n",
       "       [-0., -0., -0., -0., -0., -0., -0., -0., -0.],\n",
       "       [-0., -0., -0., -0., -0., -0., -0., -0., -0.],\n",
       "       [ 0., -0., -0., -0., -0., -0., -0., -0., -0.],\n",
       "       [-0., -0., -0., -0., -0., -0., -0., -0., -0.],\n",
       "       [-0., -0., -0., -0., -0., -0., -0., -0., -0.],\n",
       "       [ 0.,  0.,  0., -0., -0., -0., -0., -0., -0.]])"
      ]
     },
     "execution_count": 19,
     "metadata": {},
     "output_type": "execute_result"
    }
   ],
   "source": [
    "slice_mu = mol_slice(1)\n",
    "slice_nu = mol_slice(1)\n",
    "S_1_ao[1, 2][slice_mu, :][:, slice_nu]"
   ]
  },
  {
   "cell_type": "markdown",
   "metadata": {
    "hidden": true
   },
   "source": [
    "<div class=\"alert alert-info\">\n",
    "\n",
    "**任务 (1)**\n",
    "\n",
    "证明\n",
    "\n",
    "$$\n",
    "\\langle \\partial_t \\mu_A | \\nu_A \\rangle + \\mathrm{swap} (\\mu, \\nu) = 0\n",
    "$$\n",
    "\n",
    "</div>"
   ]
  },
  {
   "cell_type": "markdown",
   "metadata": {
    "hidden": true
   },
   "source": [
    "其它的情况 ($\\mu = A$ 且 $\\nu \\neq A$，或 $\\mu \\neq A$ 且 $\\nu = A$) 则未必为零值；但完全可能因为分子或原子轨道对称性，导致零值的产生。这种零值我们就不作讨论了。"
   ]
  },
  {
   "cell_type": "markdown",
   "metadata": {},
   "source": [
    "### 数值导数"
   ]
  },
  {
   "cell_type": "markdown",
   "metadata": {},
   "source": [
    "最后，我们用数值导数与解析导数相互验证来收尾这一段。定义数值导数 `nd_S_0_ao` $\\partial_{A_t} S_{\\mu \\nu}$："
   ]
  },
  {
   "cell_type": "code",
   "execution_count": 20,
   "metadata": {},
   "outputs": [
    {
     "data": {
      "text/plain": [
       "(12, 22, 22)"
      ]
     },
     "execution_count": 20,
     "metadata": {},
     "output_type": "execute_result"
    }
   ],
   "source": [
    "nd_S_0_ao = NumericDiff(gradn, lambda gradh: gradh.S_0_ao).derivative\n",
    "nd_S_0_ao.shape"
   ]
  },
  {
   "cell_type": "markdown",
   "metadata": {},
   "source": [
    "像上一节一样，我们绘制其与方才计算得到的 `S_1_ao` $S_{\\mu \\nu}^t$ 的误差图："
   ]
  },
  {
   "cell_type": "code",
   "execution_count": 21,
   "metadata": {},
   "outputs": [
    {
     "data": {
      "application/javascript": [
       "/* Put everything inside the global mpl namespace */\n",
       "window.mpl = {};\n",
       "\n",
       "\n",
       "mpl.get_websocket_type = function() {\n",
       "    if (typeof(WebSocket) !== 'undefined') {\n",
       "        return WebSocket;\n",
       "    } else if (typeof(MozWebSocket) !== 'undefined') {\n",
       "        return MozWebSocket;\n",
       "    } else {\n",
       "        alert('Your browser does not have WebSocket support. ' +\n",
       "              'Please try Chrome, Safari or Firefox ≥ 6. ' +\n",
       "              'Firefox 4 and 5 are also supported but you ' +\n",
       "              'have to enable WebSockets in about:config.');\n",
       "    };\n",
       "}\n",
       "\n",
       "mpl.figure = function(figure_id, websocket, ondownload, parent_element) {\n",
       "    this.id = figure_id;\n",
       "\n",
       "    this.ws = websocket;\n",
       "\n",
       "    this.supports_binary = (this.ws.binaryType != undefined);\n",
       "\n",
       "    if (!this.supports_binary) {\n",
       "        var warnings = document.getElementById(\"mpl-warnings\");\n",
       "        if (warnings) {\n",
       "            warnings.style.display = 'block';\n",
       "            warnings.textContent = (\n",
       "                \"This browser does not support binary websocket messages. \" +\n",
       "                    \"Performance may be slow.\");\n",
       "        }\n",
       "    }\n",
       "\n",
       "    this.imageObj = new Image();\n",
       "\n",
       "    this.context = undefined;\n",
       "    this.message = undefined;\n",
       "    this.canvas = undefined;\n",
       "    this.rubberband_canvas = undefined;\n",
       "    this.rubberband_context = undefined;\n",
       "    this.format_dropdown = undefined;\n",
       "\n",
       "    this.image_mode = 'full';\n",
       "\n",
       "    this.root = $('<div/>');\n",
       "    this._root_extra_style(this.root)\n",
       "    this.root.attr('style', 'display: inline-block');\n",
       "\n",
       "    $(parent_element).append(this.root);\n",
       "\n",
       "    this._init_header(this);\n",
       "    this._init_canvas(this);\n",
       "    this._init_toolbar(this);\n",
       "\n",
       "    var fig = this;\n",
       "\n",
       "    this.waiting = false;\n",
       "\n",
       "    this.ws.onopen =  function () {\n",
       "            fig.send_message(\"supports_binary\", {value: fig.supports_binary});\n",
       "            fig.send_message(\"send_image_mode\", {});\n",
       "            if (mpl.ratio != 1) {\n",
       "                fig.send_message(\"set_dpi_ratio\", {'dpi_ratio': mpl.ratio});\n",
       "            }\n",
       "            fig.send_message(\"refresh\", {});\n",
       "        }\n",
       "\n",
       "    this.imageObj.onload = function() {\n",
       "            if (fig.image_mode == 'full') {\n",
       "                // Full images could contain transparency (where diff images\n",
       "                // almost always do), so we need to clear the canvas so that\n",
       "                // there is no ghosting.\n",
       "                fig.context.clearRect(0, 0, fig.canvas.width, fig.canvas.height);\n",
       "            }\n",
       "            fig.context.drawImage(fig.imageObj, 0, 0);\n",
       "        };\n",
       "\n",
       "    this.imageObj.onunload = function() {\n",
       "        fig.ws.close();\n",
       "    }\n",
       "\n",
       "    this.ws.onmessage = this._make_on_message_function(this);\n",
       "\n",
       "    this.ondownload = ondownload;\n",
       "}\n",
       "\n",
       "mpl.figure.prototype._init_header = function() {\n",
       "    var titlebar = $(\n",
       "        '<div class=\"ui-dialog-titlebar ui-widget-header ui-corner-all ' +\n",
       "        'ui-helper-clearfix\"/>');\n",
       "    var titletext = $(\n",
       "        '<div class=\"ui-dialog-title\" style=\"width: 100%; ' +\n",
       "        'text-align: center; padding: 3px;\"/>');\n",
       "    titlebar.append(titletext)\n",
       "    this.root.append(titlebar);\n",
       "    this.header = titletext[0];\n",
       "}\n",
       "\n",
       "\n",
       "\n",
       "mpl.figure.prototype._canvas_extra_style = function(canvas_div) {\n",
       "\n",
       "}\n",
       "\n",
       "\n",
       "mpl.figure.prototype._root_extra_style = function(canvas_div) {\n",
       "\n",
       "}\n",
       "\n",
       "mpl.figure.prototype._init_canvas = function() {\n",
       "    var fig = this;\n",
       "\n",
       "    var canvas_div = $('<div/>');\n",
       "\n",
       "    canvas_div.attr('style', 'position: relative; clear: both; outline: 0');\n",
       "\n",
       "    function canvas_keyboard_event(event) {\n",
       "        return fig.key_event(event, event['data']);\n",
       "    }\n",
       "\n",
       "    canvas_div.keydown('key_press', canvas_keyboard_event);\n",
       "    canvas_div.keyup('key_release', canvas_keyboard_event);\n",
       "    this.canvas_div = canvas_div\n",
       "    this._canvas_extra_style(canvas_div)\n",
       "    this.root.append(canvas_div);\n",
       "\n",
       "    var canvas = $('<canvas/>');\n",
       "    canvas.addClass('mpl-canvas');\n",
       "    canvas.attr('style', \"left: 0; top: 0; z-index: 0; outline: 0\")\n",
       "\n",
       "    this.canvas = canvas[0];\n",
       "    this.context = canvas[0].getContext(\"2d\");\n",
       "\n",
       "    var backingStore = this.context.backingStorePixelRatio ||\n",
       "\tthis.context.webkitBackingStorePixelRatio ||\n",
       "\tthis.context.mozBackingStorePixelRatio ||\n",
       "\tthis.context.msBackingStorePixelRatio ||\n",
       "\tthis.context.oBackingStorePixelRatio ||\n",
       "\tthis.context.backingStorePixelRatio || 1;\n",
       "\n",
       "    mpl.ratio = (window.devicePixelRatio || 1) / backingStore;\n",
       "\n",
       "    var rubberband = $('<canvas/>');\n",
       "    rubberband.attr('style', \"position: absolute; left: 0; top: 0; z-index: 1;\")\n",
       "\n",
       "    var pass_mouse_events = true;\n",
       "\n",
       "    canvas_div.resizable({\n",
       "        start: function(event, ui) {\n",
       "            pass_mouse_events = false;\n",
       "        },\n",
       "        resize: function(event, ui) {\n",
       "            fig.request_resize(ui.size.width, ui.size.height);\n",
       "        },\n",
       "        stop: function(event, ui) {\n",
       "            pass_mouse_events = true;\n",
       "            fig.request_resize(ui.size.width, ui.size.height);\n",
       "        },\n",
       "    });\n",
       "\n",
       "    function mouse_event_fn(event) {\n",
       "        if (pass_mouse_events)\n",
       "            return fig.mouse_event(event, event['data']);\n",
       "    }\n",
       "\n",
       "    rubberband.mousedown('button_press', mouse_event_fn);\n",
       "    rubberband.mouseup('button_release', mouse_event_fn);\n",
       "    // Throttle sequential mouse events to 1 every 20ms.\n",
       "    rubberband.mousemove('motion_notify', mouse_event_fn);\n",
       "\n",
       "    rubberband.mouseenter('figure_enter', mouse_event_fn);\n",
       "    rubberband.mouseleave('figure_leave', mouse_event_fn);\n",
       "\n",
       "    canvas_div.on(\"wheel\", function (event) {\n",
       "        event = event.originalEvent;\n",
       "        event['data'] = 'scroll'\n",
       "        if (event.deltaY < 0) {\n",
       "            event.step = 1;\n",
       "        } else {\n",
       "            event.step = -1;\n",
       "        }\n",
       "        mouse_event_fn(event);\n",
       "    });\n",
       "\n",
       "    canvas_div.append(canvas);\n",
       "    canvas_div.append(rubberband);\n",
       "\n",
       "    this.rubberband = rubberband;\n",
       "    this.rubberband_canvas = rubberband[0];\n",
       "    this.rubberband_context = rubberband[0].getContext(\"2d\");\n",
       "    this.rubberband_context.strokeStyle = \"#000000\";\n",
       "\n",
       "    this._resize_canvas = function(width, height) {\n",
       "        // Keep the size of the canvas, canvas container, and rubber band\n",
       "        // canvas in synch.\n",
       "        canvas_div.css('width', width)\n",
       "        canvas_div.css('height', height)\n",
       "\n",
       "        canvas.attr('width', width * mpl.ratio);\n",
       "        canvas.attr('height', height * mpl.ratio);\n",
       "        canvas.attr('style', 'width: ' + width + 'px; height: ' + height + 'px;');\n",
       "\n",
       "        rubberband.attr('width', width);\n",
       "        rubberband.attr('height', height);\n",
       "    }\n",
       "\n",
       "    // Set the figure to an initial 600x600px, this will subsequently be updated\n",
       "    // upon first draw.\n",
       "    this._resize_canvas(600, 600);\n",
       "\n",
       "    // Disable right mouse context menu.\n",
       "    $(this.rubberband_canvas).bind(\"contextmenu\",function(e){\n",
       "        return false;\n",
       "    });\n",
       "\n",
       "    function set_focus () {\n",
       "        canvas.focus();\n",
       "        canvas_div.focus();\n",
       "    }\n",
       "\n",
       "    window.setTimeout(set_focus, 100);\n",
       "}\n",
       "\n",
       "mpl.figure.prototype._init_toolbar = function() {\n",
       "    var fig = this;\n",
       "\n",
       "    var nav_element = $('<div/>');\n",
       "    nav_element.attr('style', 'width: 100%');\n",
       "    this.root.append(nav_element);\n",
       "\n",
       "    // Define a callback function for later on.\n",
       "    function toolbar_event(event) {\n",
       "        return fig.toolbar_button_onclick(event['data']);\n",
       "    }\n",
       "    function toolbar_mouse_event(event) {\n",
       "        return fig.toolbar_button_onmouseover(event['data']);\n",
       "    }\n",
       "\n",
       "    for(var toolbar_ind in mpl.toolbar_items) {\n",
       "        var name = mpl.toolbar_items[toolbar_ind][0];\n",
       "        var tooltip = mpl.toolbar_items[toolbar_ind][1];\n",
       "        var image = mpl.toolbar_items[toolbar_ind][2];\n",
       "        var method_name = mpl.toolbar_items[toolbar_ind][3];\n",
       "\n",
       "        if (!name) {\n",
       "            // put a spacer in here.\n",
       "            continue;\n",
       "        }\n",
       "        var button = $('<button/>');\n",
       "        button.addClass('ui-button ui-widget ui-state-default ui-corner-all ' +\n",
       "                        'ui-button-icon-only');\n",
       "        button.attr('role', 'button');\n",
       "        button.attr('aria-disabled', 'false');\n",
       "        button.click(method_name, toolbar_event);\n",
       "        button.mouseover(tooltip, toolbar_mouse_event);\n",
       "\n",
       "        var icon_img = $('<span/>');\n",
       "        icon_img.addClass('ui-button-icon-primary ui-icon');\n",
       "        icon_img.addClass(image);\n",
       "        icon_img.addClass('ui-corner-all');\n",
       "\n",
       "        var tooltip_span = $('<span/>');\n",
       "        tooltip_span.addClass('ui-button-text');\n",
       "        tooltip_span.html(tooltip);\n",
       "\n",
       "        button.append(icon_img);\n",
       "        button.append(tooltip_span);\n",
       "\n",
       "        nav_element.append(button);\n",
       "    }\n",
       "\n",
       "    var fmt_picker_span = $('<span/>');\n",
       "\n",
       "    var fmt_picker = $('<select/>');\n",
       "    fmt_picker.addClass('mpl-toolbar-option ui-widget ui-widget-content');\n",
       "    fmt_picker_span.append(fmt_picker);\n",
       "    nav_element.append(fmt_picker_span);\n",
       "    this.format_dropdown = fmt_picker[0];\n",
       "\n",
       "    for (var ind in mpl.extensions) {\n",
       "        var fmt = mpl.extensions[ind];\n",
       "        var option = $(\n",
       "            '<option/>', {selected: fmt === mpl.default_extension}).html(fmt);\n",
       "        fmt_picker.append(option);\n",
       "    }\n",
       "\n",
       "    // Add hover states to the ui-buttons\n",
       "    $( \".ui-button\" ).hover(\n",
       "        function() { $(this).addClass(\"ui-state-hover\");},\n",
       "        function() { $(this).removeClass(\"ui-state-hover\");}\n",
       "    );\n",
       "\n",
       "    var status_bar = $('<span class=\"mpl-message\"/>');\n",
       "    nav_element.append(status_bar);\n",
       "    this.message = status_bar[0];\n",
       "}\n",
       "\n",
       "mpl.figure.prototype.request_resize = function(x_pixels, y_pixels) {\n",
       "    // Request matplotlib to resize the figure. Matplotlib will then trigger a resize in the client,\n",
       "    // which will in turn request a refresh of the image.\n",
       "    this.send_message('resize', {'width': x_pixels, 'height': y_pixels});\n",
       "}\n",
       "\n",
       "mpl.figure.prototype.send_message = function(type, properties) {\n",
       "    properties['type'] = type;\n",
       "    properties['figure_id'] = this.id;\n",
       "    this.ws.send(JSON.stringify(properties));\n",
       "}\n",
       "\n",
       "mpl.figure.prototype.send_draw_message = function() {\n",
       "    if (!this.waiting) {\n",
       "        this.waiting = true;\n",
       "        this.ws.send(JSON.stringify({type: \"draw\", figure_id: this.id}));\n",
       "    }\n",
       "}\n",
       "\n",
       "\n",
       "mpl.figure.prototype.handle_save = function(fig, msg) {\n",
       "    var format_dropdown = fig.format_dropdown;\n",
       "    var format = format_dropdown.options[format_dropdown.selectedIndex].value;\n",
       "    fig.ondownload(fig, format);\n",
       "}\n",
       "\n",
       "\n",
       "mpl.figure.prototype.handle_resize = function(fig, msg) {\n",
       "    var size = msg['size'];\n",
       "    if (size[0] != fig.canvas.width || size[1] != fig.canvas.height) {\n",
       "        fig._resize_canvas(size[0], size[1]);\n",
       "        fig.send_message(\"refresh\", {});\n",
       "    };\n",
       "}\n",
       "\n",
       "mpl.figure.prototype.handle_rubberband = function(fig, msg) {\n",
       "    var x0 = msg['x0'] / mpl.ratio;\n",
       "    var y0 = (fig.canvas.height - msg['y0']) / mpl.ratio;\n",
       "    var x1 = msg['x1'] / mpl.ratio;\n",
       "    var y1 = (fig.canvas.height - msg['y1']) / mpl.ratio;\n",
       "    x0 = Math.floor(x0) + 0.5;\n",
       "    y0 = Math.floor(y0) + 0.5;\n",
       "    x1 = Math.floor(x1) + 0.5;\n",
       "    y1 = Math.floor(y1) + 0.5;\n",
       "    var min_x = Math.min(x0, x1);\n",
       "    var min_y = Math.min(y0, y1);\n",
       "    var width = Math.abs(x1 - x0);\n",
       "    var height = Math.abs(y1 - y0);\n",
       "\n",
       "    fig.rubberband_context.clearRect(\n",
       "        0, 0, fig.canvas.width / mpl.ratio, fig.canvas.height / mpl.ratio);\n",
       "\n",
       "    fig.rubberband_context.strokeRect(min_x, min_y, width, height);\n",
       "}\n",
       "\n",
       "mpl.figure.prototype.handle_figure_label = function(fig, msg) {\n",
       "    // Updates the figure title.\n",
       "    fig.header.textContent = msg['label'];\n",
       "}\n",
       "\n",
       "mpl.figure.prototype.handle_cursor = function(fig, msg) {\n",
       "    var cursor = msg['cursor'];\n",
       "    switch(cursor)\n",
       "    {\n",
       "    case 0:\n",
       "        cursor = 'pointer';\n",
       "        break;\n",
       "    case 1:\n",
       "        cursor = 'default';\n",
       "        break;\n",
       "    case 2:\n",
       "        cursor = 'crosshair';\n",
       "        break;\n",
       "    case 3:\n",
       "        cursor = 'move';\n",
       "        break;\n",
       "    }\n",
       "    fig.rubberband_canvas.style.cursor = cursor;\n",
       "}\n",
       "\n",
       "mpl.figure.prototype.handle_message = function(fig, msg) {\n",
       "    fig.message.textContent = msg['message'];\n",
       "}\n",
       "\n",
       "mpl.figure.prototype.handle_draw = function(fig, msg) {\n",
       "    // Request the server to send over a new figure.\n",
       "    fig.send_draw_message();\n",
       "}\n",
       "\n",
       "mpl.figure.prototype.handle_image_mode = function(fig, msg) {\n",
       "    fig.image_mode = msg['mode'];\n",
       "}\n",
       "\n",
       "mpl.figure.prototype.updated_canvas_event = function() {\n",
       "    // Called whenever the canvas gets updated.\n",
       "    this.send_message(\"ack\", {});\n",
       "}\n",
       "\n",
       "// A function to construct a web socket function for onmessage handling.\n",
       "// Called in the figure constructor.\n",
       "mpl.figure.prototype._make_on_message_function = function(fig) {\n",
       "    return function socket_on_message(evt) {\n",
       "        if (evt.data instanceof Blob) {\n",
       "            /* FIXME: We get \"Resource interpreted as Image but\n",
       "             * transferred with MIME type text/plain:\" errors on\n",
       "             * Chrome.  But how to set the MIME type?  It doesn't seem\n",
       "             * to be part of the websocket stream */\n",
       "            evt.data.type = \"image/png\";\n",
       "\n",
       "            /* Free the memory for the previous frames */\n",
       "            if (fig.imageObj.src) {\n",
       "                (window.URL || window.webkitURL).revokeObjectURL(\n",
       "                    fig.imageObj.src);\n",
       "            }\n",
       "\n",
       "            fig.imageObj.src = (window.URL || window.webkitURL).createObjectURL(\n",
       "                evt.data);\n",
       "            fig.updated_canvas_event();\n",
       "            fig.waiting = false;\n",
       "            return;\n",
       "        }\n",
       "        else if (typeof evt.data === 'string' && evt.data.slice(0, 21) == \"data:image/png;base64\") {\n",
       "            fig.imageObj.src = evt.data;\n",
       "            fig.updated_canvas_event();\n",
       "            fig.waiting = false;\n",
       "            return;\n",
       "        }\n",
       "\n",
       "        var msg = JSON.parse(evt.data);\n",
       "        var msg_type = msg['type'];\n",
       "\n",
       "        // Call the  \"handle_{type}\" callback, which takes\n",
       "        // the figure and JSON message as its only arguments.\n",
       "        try {\n",
       "            var callback = fig[\"handle_\" + msg_type];\n",
       "        } catch (e) {\n",
       "            console.log(\"No handler for the '\" + msg_type + \"' message type: \", msg);\n",
       "            return;\n",
       "        }\n",
       "\n",
       "        if (callback) {\n",
       "            try {\n",
       "                // console.log(\"Handling '\" + msg_type + \"' message: \", msg);\n",
       "                callback(fig, msg);\n",
       "            } catch (e) {\n",
       "                console.log(\"Exception inside the 'handler_\" + msg_type + \"' callback:\", e, e.stack, msg);\n",
       "            }\n",
       "        }\n",
       "    };\n",
       "}\n",
       "\n",
       "// from http://stackoverflow.com/questions/1114465/getting-mouse-location-in-canvas\n",
       "mpl.findpos = function(e) {\n",
       "    //this section is from http://www.quirksmode.org/js/events_properties.html\n",
       "    var targ;\n",
       "    if (!e)\n",
       "        e = window.event;\n",
       "    if (e.target)\n",
       "        targ = e.target;\n",
       "    else if (e.srcElement)\n",
       "        targ = e.srcElement;\n",
       "    if (targ.nodeType == 3) // defeat Safari bug\n",
       "        targ = targ.parentNode;\n",
       "\n",
       "    // jQuery normalizes the pageX and pageY\n",
       "    // pageX,Y are the mouse positions relative to the document\n",
       "    // offset() returns the position of the element relative to the document\n",
       "    var x = e.pageX - $(targ).offset().left;\n",
       "    var y = e.pageY - $(targ).offset().top;\n",
       "\n",
       "    return {\"x\": x, \"y\": y};\n",
       "};\n",
       "\n",
       "/*\n",
       " * return a copy of an object with only non-object keys\n",
       " * we need this to avoid circular references\n",
       " * http://stackoverflow.com/a/24161582/3208463\n",
       " */\n",
       "function simpleKeys (original) {\n",
       "  return Object.keys(original).reduce(function (obj, key) {\n",
       "    if (typeof original[key] !== 'object')\n",
       "        obj[key] = original[key]\n",
       "    return obj;\n",
       "  }, {});\n",
       "}\n",
       "\n",
       "mpl.figure.prototype.mouse_event = function(event, name) {\n",
       "    var canvas_pos = mpl.findpos(event)\n",
       "\n",
       "    if (name === 'button_press')\n",
       "    {\n",
       "        this.canvas.focus();\n",
       "        this.canvas_div.focus();\n",
       "    }\n",
       "\n",
       "    var x = canvas_pos.x * mpl.ratio;\n",
       "    var y = canvas_pos.y * mpl.ratio;\n",
       "\n",
       "    this.send_message(name, {x: x, y: y, button: event.button,\n",
       "                             step: event.step,\n",
       "                             guiEvent: simpleKeys(event)});\n",
       "\n",
       "    /* This prevents the web browser from automatically changing to\n",
       "     * the text insertion cursor when the button is pressed.  We want\n",
       "     * to control all of the cursor setting manually through the\n",
       "     * 'cursor' event from matplotlib */\n",
       "    event.preventDefault();\n",
       "    return false;\n",
       "}\n",
       "\n",
       "mpl.figure.prototype._key_event_extra = function(event, name) {\n",
       "    // Handle any extra behaviour associated with a key event\n",
       "}\n",
       "\n",
       "mpl.figure.prototype.key_event = function(event, name) {\n",
       "\n",
       "    // Prevent repeat events\n",
       "    if (name == 'key_press')\n",
       "    {\n",
       "        if (event.which === this._key)\n",
       "            return;\n",
       "        else\n",
       "            this._key = event.which;\n",
       "    }\n",
       "    if (name == 'key_release')\n",
       "        this._key = null;\n",
       "\n",
       "    var value = '';\n",
       "    if (event.ctrlKey && event.which != 17)\n",
       "        value += \"ctrl+\";\n",
       "    if (event.altKey && event.which != 18)\n",
       "        value += \"alt+\";\n",
       "    if (event.shiftKey && event.which != 16)\n",
       "        value += \"shift+\";\n",
       "\n",
       "    value += 'k';\n",
       "    value += event.which.toString();\n",
       "\n",
       "    this._key_event_extra(event, name);\n",
       "\n",
       "    this.send_message(name, {key: value,\n",
       "                             guiEvent: simpleKeys(event)});\n",
       "    return false;\n",
       "}\n",
       "\n",
       "mpl.figure.prototype.toolbar_button_onclick = function(name) {\n",
       "    if (name == 'download') {\n",
       "        this.handle_save(this, null);\n",
       "    } else {\n",
       "        this.send_message(\"toolbar_button\", {name: name});\n",
       "    }\n",
       "};\n",
       "\n",
       "mpl.figure.prototype.toolbar_button_onmouseover = function(tooltip) {\n",
       "    this.message.textContent = tooltip;\n",
       "};\n",
       "mpl.toolbar_items = [[\"Home\", \"Reset original view\", \"fa fa-home icon-home\", \"home\"], [\"Back\", \"Back to previous view\", \"fa fa-arrow-left icon-arrow-left\", \"back\"], [\"Forward\", \"Forward to next view\", \"fa fa-arrow-right icon-arrow-right\", \"forward\"], [\"\", \"\", \"\", \"\"], [\"Pan\", \"Pan axes with left mouse, zoom with right\", \"fa fa-arrows icon-move\", \"pan\"], [\"Zoom\", \"Zoom to rectangle\", \"fa fa-square-o icon-check-empty\", \"zoom\"], [\"\", \"\", \"\", \"\"], [\"Download\", \"Download plot\", \"fa fa-floppy-o icon-save\", \"download\"]];\n",
       "\n",
       "mpl.extensions = [\"eps\", \"pdf\", \"png\", \"ps\", \"raw\", \"svg\"];\n",
       "\n",
       "mpl.default_extension = \"png\";var comm_websocket_adapter = function(comm) {\n",
       "    // Create a \"websocket\"-like object which calls the given IPython comm\n",
       "    // object with the appropriate methods. Currently this is a non binary\n",
       "    // socket, so there is still some room for performance tuning.\n",
       "    var ws = {};\n",
       "\n",
       "    ws.close = function() {\n",
       "        comm.close()\n",
       "    };\n",
       "    ws.send = function(m) {\n",
       "        //console.log('sending', m);\n",
       "        comm.send(m);\n",
       "    };\n",
       "    // Register the callback with on_msg.\n",
       "    comm.on_msg(function(msg) {\n",
       "        //console.log('receiving', msg['content']['data'], msg);\n",
       "        // Pass the mpl event to the overridden (by mpl) onmessage function.\n",
       "        ws.onmessage(msg['content']['data'])\n",
       "    });\n",
       "    return ws;\n",
       "}\n",
       "\n",
       "mpl.mpl_figure_comm = function(comm, msg) {\n",
       "    // This is the function which gets called when the mpl process\n",
       "    // starts-up an IPython Comm through the \"matplotlib\" channel.\n",
       "\n",
       "    var id = msg.content.data.id;\n",
       "    // Get hold of the div created by the display call when the Comm\n",
       "    // socket was opened in Python.\n",
       "    var element = $(\"#\" + id);\n",
       "    var ws_proxy = comm_websocket_adapter(comm)\n",
       "\n",
       "    function ondownload(figure, format) {\n",
       "        window.open(figure.imageObj.src);\n",
       "    }\n",
       "\n",
       "    var fig = new mpl.figure(id, ws_proxy,\n",
       "                           ondownload,\n",
       "                           element.get(0));\n",
       "\n",
       "    // Call onopen now - mpl needs it, as it is assuming we've passed it a real\n",
       "    // web socket which is closed, not our websocket->open comm proxy.\n",
       "    ws_proxy.onopen();\n",
       "\n",
       "    fig.parent_element = element.get(0);\n",
       "    fig.cell_info = mpl.find_output_cell(\"<div id='\" + id + \"'></div>\");\n",
       "    if (!fig.cell_info) {\n",
       "        console.error(\"Failed to find cell for figure\", id, fig);\n",
       "        return;\n",
       "    }\n",
       "\n",
       "    var output_index = fig.cell_info[2]\n",
       "    var cell = fig.cell_info[0];\n",
       "\n",
       "};\n",
       "\n",
       "mpl.figure.prototype.handle_close = function(fig, msg) {\n",
       "    var width = fig.canvas.width/mpl.ratio\n",
       "    fig.root.unbind('remove')\n",
       "\n",
       "    // Update the output cell to use the data from the current canvas.\n",
       "    fig.push_to_output();\n",
       "    var dataURL = fig.canvas.toDataURL();\n",
       "    // Re-enable the keyboard manager in IPython - without this line, in FF,\n",
       "    // the notebook keyboard shortcuts fail.\n",
       "    IPython.keyboard_manager.enable()\n",
       "    $(fig.parent_element).html('<img src=\"' + dataURL + '\" width=\"' + width + '\">');\n",
       "    fig.close_ws(fig, msg);\n",
       "}\n",
       "\n",
       "mpl.figure.prototype.close_ws = function(fig, msg){\n",
       "    fig.send_message('closing', msg);\n",
       "    // fig.ws.close()\n",
       "}\n",
       "\n",
       "mpl.figure.prototype.push_to_output = function(remove_interactive) {\n",
       "    // Turn the data on the canvas into data in the output cell.\n",
       "    var width = this.canvas.width/mpl.ratio\n",
       "    var dataURL = this.canvas.toDataURL();\n",
       "    this.cell_info[1]['text/html'] = '<img src=\"' + dataURL + '\" width=\"' + width + '\">';\n",
       "}\n",
       "\n",
       "mpl.figure.prototype.updated_canvas_event = function() {\n",
       "    // Tell IPython that the notebook contents must change.\n",
       "    IPython.notebook.set_dirty(true);\n",
       "    this.send_message(\"ack\", {});\n",
       "    var fig = this;\n",
       "    // Wait a second, then push the new image to the DOM so\n",
       "    // that it is saved nicely (might be nice to debounce this).\n",
       "    setTimeout(function () { fig.push_to_output() }, 1000);\n",
       "}\n",
       "\n",
       "mpl.figure.prototype._init_toolbar = function() {\n",
       "    var fig = this;\n",
       "\n",
       "    var nav_element = $('<div/>');\n",
       "    nav_element.attr('style', 'width: 100%');\n",
       "    this.root.append(nav_element);\n",
       "\n",
       "    // Define a callback function for later on.\n",
       "    function toolbar_event(event) {\n",
       "        return fig.toolbar_button_onclick(event['data']);\n",
       "    }\n",
       "    function toolbar_mouse_event(event) {\n",
       "        return fig.toolbar_button_onmouseover(event['data']);\n",
       "    }\n",
       "\n",
       "    for(var toolbar_ind in mpl.toolbar_items){\n",
       "        var name = mpl.toolbar_items[toolbar_ind][0];\n",
       "        var tooltip = mpl.toolbar_items[toolbar_ind][1];\n",
       "        var image = mpl.toolbar_items[toolbar_ind][2];\n",
       "        var method_name = mpl.toolbar_items[toolbar_ind][3];\n",
       "\n",
       "        if (!name) { continue; };\n",
       "\n",
       "        var button = $('<button class=\"btn btn-default\" href=\"#\" title=\"' + name + '\"><i class=\"fa ' + image + ' fa-lg\"></i></button>');\n",
       "        button.click(method_name, toolbar_event);\n",
       "        button.mouseover(tooltip, toolbar_mouse_event);\n",
       "        nav_element.append(button);\n",
       "    }\n",
       "\n",
       "    // Add the status bar.\n",
       "    var status_bar = $('<span class=\"mpl-message\" style=\"text-align:right; float: right;\"/>');\n",
       "    nav_element.append(status_bar);\n",
       "    this.message = status_bar[0];\n",
       "\n",
       "    // Add the close button to the window.\n",
       "    var buttongrp = $('<div class=\"btn-group inline pull-right\"></div>');\n",
       "    var button = $('<button class=\"btn btn-mini btn-primary\" href=\"#\" title=\"Stop Interaction\"><i class=\"fa fa-power-off icon-remove icon-large\"></i></button>');\n",
       "    button.click(function (evt) { fig.handle_close(fig, {}); } );\n",
       "    button.mouseover('Stop Interaction', toolbar_mouse_event);\n",
       "    buttongrp.append(button);\n",
       "    var titlebar = this.root.find($('.ui-dialog-titlebar'));\n",
       "    titlebar.prepend(buttongrp);\n",
       "}\n",
       "\n",
       "mpl.figure.prototype._root_extra_style = function(el){\n",
       "    var fig = this\n",
       "    el.on(\"remove\", function(){\n",
       "\tfig.close_ws(fig, {});\n",
       "    });\n",
       "}\n",
       "\n",
       "mpl.figure.prototype._canvas_extra_style = function(el){\n",
       "    // this is important to make the div 'focusable\n",
       "    el.attr('tabindex', 0)\n",
       "    // reach out to IPython and tell the keyboard manager to turn it's self\n",
       "    // off when our div gets focus\n",
       "\n",
       "    // location in version 3\n",
       "    if (IPython.notebook.keyboard_manager) {\n",
       "        IPython.notebook.keyboard_manager.register_events(el);\n",
       "    }\n",
       "    else {\n",
       "        // location in version 2\n",
       "        IPython.keyboard_manager.register_events(el);\n",
       "    }\n",
       "\n",
       "}\n",
       "\n",
       "mpl.figure.prototype._key_event_extra = function(event, name) {\n",
       "    var manager = IPython.notebook.keyboard_manager;\n",
       "    if (!manager)\n",
       "        manager = IPython.keyboard_manager;\n",
       "\n",
       "    // Check for shift+enter\n",
       "    if (event.shiftKey && event.which == 13) {\n",
       "        this.canvas_div.blur();\n",
       "        // select the cell after this one\n",
       "        var index = IPython.notebook.find_cell_index(this.cell_info[0]);\n",
       "        IPython.notebook.select(index + 1);\n",
       "    }\n",
       "}\n",
       "\n",
       "mpl.figure.prototype.handle_save = function(fig, msg) {\n",
       "    fig.ondownload(fig, null);\n",
       "}\n",
       "\n",
       "\n",
       "mpl.find_output_cell = function(html_output) {\n",
       "    // Return the cell and output element which can be found *uniquely* in the notebook.\n",
       "    // Note - this is a bit hacky, but it is done because the \"notebook_saving.Notebook\"\n",
       "    // IPython event is triggered only after the cells have been serialised, which for\n",
       "    // our purposes (turning an active figure into a static one), is too late.\n",
       "    var cells = IPython.notebook.get_cells();\n",
       "    var ncells = cells.length;\n",
       "    for (var i=0; i<ncells; i++) {\n",
       "        var cell = cells[i];\n",
       "        if (cell.cell_type === 'code'){\n",
       "            for (var j=0; j<cell.output_area.outputs.length; j++) {\n",
       "                var data = cell.output_area.outputs[j];\n",
       "                if (data.data) {\n",
       "                    // IPython >= 3 moved mimebundle to data attribute of output\n",
       "                    data = data.data;\n",
       "                }\n",
       "                if (data['text/html'] == html_output) {\n",
       "                    return [cell, data, j];\n",
       "                }\n",
       "            }\n",
       "        }\n",
       "    }\n",
       "}\n",
       "\n",
       "// Register the function which deals with the matplotlib target/channel.\n",
       "// The kernel may be null if the page has been refreshed.\n",
       "if (IPython.notebook.kernel != null) {\n",
       "    IPython.notebook.kernel.comm_manager.register_target('matplotlib', mpl.mpl_figure_comm);\n",
       "}\n"
      ],
      "text/plain": [
       "<IPython.core.display.Javascript object>"
      ]
     },
     "metadata": {},
     "output_type": "display_data"
    },
    {
     "data": {
      "text/html": [
       "<img src=\"data:image/png;base64,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\" width=\"400\">"
      ],
      "text/plain": [
       "<IPython.core.display.HTML object>"
      ]
     },
     "metadata": {},
     "output_type": "display_data"
    }
   ],
   "source": [
    "fig, ax = plt.subplots(figsize=(4, 3))\n",
    "ax.hist(abs(nd_S_0_ao.ravel() - S_1_ao.ravel()), bins=np.logspace(np.log10(1e-12), np.log10(1e-2), 50), alpha=0.5)\n",
    "ax.hist(abs(nd_S_0_ao.ravel()), bins=np.logspace(np.log10(1e-12), np.log10(1e-2), 50), alpha=0.5)\n",
    "ax.set_xscale(\"log\")\n",
    "fig.tight_layout()"
   ]
  },
  {
   "cell_type": "markdown",
   "metadata": {},
   "source": [
    "## Hamiltonian Core 导数"
   ]
  },
  {
   "cell_type": "markdown",
   "metadata": {
    "heading_collapsed": true
   },
   "source": [
    "### 解析梯度 (1) 原子轨道导数"
   ]
  },
  {
   "cell_type": "markdown",
   "metadata": {
    "hidden": true
   },
   "source": [
    "Hamiltonian Core 定义为\n",
    "\n",
    "$$\n",
    "\\hat h = \\hat t + \\hat v_\\mathrm{nuc}\n",
    "$$"
   ]
  },
  {
   "cell_type": "markdown",
   "metadata": {
    "hidden": true
   },
   "source": [
    "我们先考虑动能积分：\n",
    "\n",
    "$$\n",
    "\\begin{align}\n",
    "h_{\\mu \\nu}^{A_t} &\\leftarrow \\frac{\\partial}{\\partial A_t} \\langle \\mu | \\hat t | \\nu \\rangle \\\\\n",
    "&= \\langle \\partial_{A_t} \\mu | \\hat t | \\nu \\rangle + \\mathrm{swap} (\\mu, \\nu) \\\\\n",
    "&= - \\langle \\partial_t \\mu_A | \\hat t | \\nu \\rangle + \\mathrm{swap} (\\mu, \\nu)\n",
    "\\end{align}\n",
    "$$"
   ]
  },
  {
   "cell_type": "markdown",
   "metadata": {
    "hidden": true
   },
   "source": [
    "上面的第 3 行导出过程中，我们利用到了 $\\partial_{A_t} \\mu = - \\partial_t \\mu_A$ 的结论。"
   ]
  },
  {
   "cell_type": "markdown",
   "metadata": {
    "hidden": true
   },
   "source": [
    "<div class=\"alert alert-info\">\n",
    "\n",
    "**任务 (2)**\n",
    "\n",
    "请用简单的语言，简述为何下式为零：\n",
    "\n",
    "$$\n",
    "\\langle \\mu_A | \\partial_{A_t} \\hat t | \\nu_A \\rangle = 0\n",
    "$$\n",
    "\n",
    "</div>"
   ]
  },
  {
   "cell_type": "markdown",
   "metadata": {
    "hidden": true
   },
   "source": [
    "其中，$\\langle \\partial_t \\mu | \\hat t | \\nu \\rangle$ 积分在 PySCF 中可以通过 `int1e_ipkin` 获得。因此，动能部分的贡献大小是 `H_1_ao_kin`："
   ]
  },
  {
   "cell_type": "code",
   "execution_count": 22,
   "metadata": {
    "hidden": true
   },
   "outputs": [],
   "source": [
    "int1e_ipkin = mol.intor(\"int1e_ipkin\")\n",
    "H_1_ao_kin = np.zeros((natm, 3, nao, nao))\n",
    "for A in range(natm):\n",
    "    sA = mol_slice(A)\n",
    "    H_1_ao_kin[A, :, sA, :] = - int1e_ipkin[:, sA, :]\n",
    "H_1_ao_kin += H_1_ao_kin.swapaxes(-1, -2)"
   ]
  },
  {
   "cell_type": "markdown",
   "metadata": {
    "hidden": true
   },
   "source": [
    "随后我们考虑势能积分：\n",
    "\n",
    "$$\n",
    "\\begin{align}\n",
    "h_{\\mu \\nu}^{A_t} &\\leftarrow \\frac{\\partial}{\\partial A_t} \\langle \\mu | \\hat v_\\mathrm{nuc} | \\nu \\rangle \\\\\n",
    "&= \\langle \\partial_{A_t} \\mu | \\hat v_\\mathrm{nuc} | \\nu \\rangle + \\langle \\mu | \\hat v_\\mathrm{nuc} | \\partial_{A_t} \\nu \\rangle + \\langle \\mu | \\partial_{A_t} \\hat v_\\mathrm{nuc} | \\nu \\rangle\n",
    "\\end{align}\n",
    "$$"
   ]
  },
  {
   "cell_type": "markdown",
   "metadata": {
    "hidden": true
   },
   "source": [
    "我们指出，在势能积分中，$\\langle \\mu | \\partial_{A_t} \\hat v_\\mathrm{nuc} | \\nu \\rangle$ 一项并非是零；而这一项考虑起来也稍复杂一些，我们放在下一小段中叙述。这里我们先生成前两项的贡献大小 `H_1_ao_nuc1`：\n",
    "\n",
    "$$\n",
    "h_{\\mu \\nu}^{A_t} \\leftarrow - \\langle \\partial_t \\mu_A | \\hat v_\\mathrm{nuc} | \\nu \\rangle + \\mathrm{swap} (\\mu, \\nu)\n",
    "$$\n",
    "\n",
    "其中，$\\langle \\partial_t \\mu | \\hat v_\\mathrm{nuc} | \\nu \\rangle$ 积分在 PySCF 中可以通过 `int1e_ipnuc` 获得："
   ]
  },
  {
   "cell_type": "code",
   "execution_count": 23,
   "metadata": {
    "hidden": true
   },
   "outputs": [],
   "source": [
    "int1e_ipnuc = mol.intor(\"int1e_ipnuc\")\n",
    "H_1_ao_nuc1 = np.zeros((natm, 3, nao, nao))\n",
    "for A in range(natm):\n",
    "    sA = mol_slice(A)\n",
    "    H_1_ao_nuc1[A, :, sA, :] = - int1e_ipnuc[:, sA, :]\n",
    "H_1_ao_nuc1 += H_1_ao_nuc1.swapaxes(-1, -2)"
   ]
  },
  {
   "cell_type": "markdown",
   "metadata": {
    "heading_collapsed": true
   },
   "source": [
    "### 解析导数 (2) 核静电势算符导数"
   ]
  },
  {
   "cell_type": "markdown",
   "metadata": {
    "hidden": true
   },
   "source": [
    "这里我们处理 $\\langle \\mu | \\partial_{A_t} \\hat v_\\mathrm{nuc} | \\nu \\rangle$ 的计算。这里我们暂时不用 Einstein Summation。\n",
    "\n",
    "我们回顾到\n",
    "\n",
    "$$\n",
    "\\hat v_\\mathrm{nuc} = - \\sum_M \\frac{Z_M}{| \\boldsymbol{r} - \\boldsymbol{M} |}\n",
    "$$\n",
    "\n",
    "上式是对原子核索引 $M$ 求和。由于算符 $v_\\mathrm{nuc}$ 不像偏导算符，$v_\\mathrm{nuc}$ 可以当作数来对待，因此单独分析 $\\partial_{A_t} \\hat v_\\mathrm{nuc}$ 是有意义的。那么，\n",
    "\n",
    "$$\n",
    "\\partial_{A_t} \\hat v_\\mathrm{nuc} = - \\sum_M \\frac{\\partial}{\\partial A_t} \\frac{Z_M}{| \\boldsymbol{r} - \\boldsymbol{M} |}\n",
    "$$"
   ]
  },
  {
   "cell_type": "markdown",
   "metadata": {
    "hidden": true
   },
   "source": [
    "上式中，有可能与 $A_t$ 产生联系的只可能是 $M$ 原子核坐标 $\\boldsymbol{M}$。参考 $S_{\\mu \\nu}^{A_t}$ 导出过程分析，我们知道，若 $M \\neq A$，那么两者就无关了。因此，只有当 $M = A$ 时才能产生导数：\n",
    "\n",
    "$$\n",
    "\\partial_{A_t} \\hat v_\\mathrm{nuc} = - \\frac{\\partial}{\\partial A_t} \\frac{Z_A}{| \\boldsymbol{r} - \\boldsymbol{A} |}\n",
    "$$"
   ]
  },
  {
   "cell_type": "markdown",
   "metadata": {
    "hidden": true
   },
   "source": [
    "注意到上式并没有对任何角标作求和。下面我们利用一个小技巧，将关于 $A_t$ (原子核坐标分量) 的导数转为关于 $t$ (电子坐标分量) 的导数：\n",
    "\n",
    "$$\n",
    "\\frac{\\partial}{\\partial t} \\frac{Z_A}{| \\boldsymbol{r} - \\boldsymbol{A} |} = - \\frac{\\partial}{\\partial A_t} \\frac{Z_A}{| \\boldsymbol{r} - \\boldsymbol{A} |}\n",
    "$$"
   ]
  },
  {
   "cell_type": "markdown",
   "metadata": {
    "hidden": true
   },
   "source": [
    "<div class=\"alert alert-info\">\n",
    "\n",
    "**任务 (3)**\n",
    "\n",
    "请尝试证明上述等式。\n",
    "\n",
    "</div>"
   ]
  },
  {
   "cell_type": "markdown",
   "metadata": {
    "hidden": true
   },
   "source": [
    "因此，\n",
    "\n",
    "$$\n",
    "\\langle \\mu | \\partial_{A_t} \\hat v_\\mathrm{nuc} | \\nu \\rangle = \\langle \\mu | \\frac{\\partial}{\\partial t} \\frac{Z_A}{| \\boldsymbol{r} - \\boldsymbol{A} |} | \\nu \\rangle\n",
    "$$"
   ]
  },
  {
   "cell_type": "markdown",
   "metadata": {
    "hidden": true
   },
   "source": [
    "我们固然可以利用任务 (3) 的结论求取上述积分结果；但这不仅困难，而且 PySCF 中事实上没有提供类似于 $\\langle \\mu | r^3 | \\nu \\rangle$ 的积分程序。\n",
    "\n",
    "我们再使用一个小技巧：\n",
    "\n",
    "$$\n",
    "\\begin{align}\n",
    "\\langle \\mu | \\partial_{A_t} \\hat v_\\mathrm{nuc} | \\nu \\rangle\n",
    "&= \\int \\phi_\\mu \\phi_\\nu \\frac{\\partial}{\\partial t} \\frac{Z_A}{| \\boldsymbol{r} - \\boldsymbol{A} |} \\, \\mathrm{d} \\boldsymbol{r} \\\\\n",
    "&= - \\int \\frac{\\partial}{\\partial t} (\\phi_\\mu \\phi_\\nu) \\cdot \\frac{Z_A}{| \\boldsymbol{r} - \\boldsymbol{A} |} \\, \\mathrm{d} \\boldsymbol{r} \\\\\n",
    "&= - \\langle \\partial_t \\mu | \\frac{Z_A}{| \\boldsymbol{r} - \\boldsymbol{A} |} | \\nu \\rangle + \\mathrm{swap} (\\mu, \\nu)\n",
    "\\end{align}\n",
    "$$"
   ]
  },
  {
   "cell_type": "markdown",
   "metadata": {
    "hidden": true
   },
   "source": [
    "在 PySCF 中， $\\langle \\partial_t \\mu | r^{-1} | \\nu \\rangle$ 的积分可以用 `int1e_iprinv` 调出。我们知道，对于上面 $|\\boldsymbol{r} - \\boldsymbol{A}|^{-1}$ 这种情况，积分的求取需要先将原点移动至 $A$ 原子坐标即 $\\boldsymbol{A}$。这个程序的技巧在 [核排斥势积分](../qcbasic/basic_rhf.ipynb#核排斥势积分) 有所提及。我们将上述积分的结果储存在 `H_1_ao_nuc2` 中："
   ]
  },
  {
   "cell_type": "code",
   "execution_count": 24,
   "metadata": {
    "hidden": true
   },
   "outputs": [],
   "source": [
    "H_1_ao_nuc2 = np.zeros((natm, 3, nao, nao))\n",
    "Z_A = mol.atom_charges()\n",
    "for A in range(natm):\n",
    "    with mol.with_rinv_as_nucleus(A):\n",
    "        H_1_ao_nuc2[A] -= Z_A[A] * mol.intor(\"int1e_iprinv\")\n",
    "H_1_ao_nuc2 += H_1_ao_nuc2.swapaxes(-1, -2)"
   ]
  },
  {
   "cell_type": "markdown",
   "metadata": {
    "hidden": true
   },
   "source": [
    "<div class=\"alert alert-info\">\n",
    "\n",
    "**任务 (4)**\n",
    "\n",
    "请尝试证明上述推导过程的第二个等号：\n",
    "\n",
    "$$\n",
    "\\int \\phi_\\mu \\phi_\\nu \\frac{\\partial}{\\partial t} \\frac{Z_A}{| \\boldsymbol{r} - \\boldsymbol{A} |} \\, \\mathrm{d} \\boldsymbol{r}\n",
    "= - \\int \\frac{\\partial}{\\partial t} (\\phi_\\mu \\phi_\\nu) \\cdot \\frac{Z_A}{| \\boldsymbol{r} - \\boldsymbol{A} |} \\, \\mathrm{d} \\boldsymbol{r}\n",
    "$$\n",
    "\n",
    "</div>"
   ]
  },
  {
   "cell_type": "markdown",
   "metadata": {
    "hidden": true
   },
   "source": [
    "<div class=\"alert alert-info\">\n",
    "\n",
    "**任务 (5)**\n",
    "\n",
    "读者可能在这里意识到了，之所以我们利用下述小技巧 (将偏导从对原子分量偏导 $\\partial_{A_t}$ 转为对电子坐标分量偏导)\n",
    "\n",
    "$$\n",
    "\\frac{\\partial}{\\partial t} \\frac{Z_A}{| \\boldsymbol{r} - \\boldsymbol{A} |} = - \\frac{\\partial}{\\partial A_t} \\frac{Z_A}{| \\boldsymbol{r} - \\boldsymbol{A} |}\n",
    "$$\n",
    "\n",
    "是为了进一步证明任务 (4) 中所指出的公式。\n",
    "\n",
    "不利用上面的小技巧事实上很难推演出能程序化的表达式。退一步说，下述等式为何一般地不成立？\n",
    "\n",
    "$$\n",
    "\\int \\phi_\\mu \\phi_\\nu \\frac{\\partial}{\\partial A_t} \\frac{Z_A}{| \\boldsymbol{r} - \\boldsymbol{A} |} \\, \\mathrm{d} \\boldsymbol{r}\n",
    "\\not \\equiv - \\int \\frac{\\partial}{\\partial A_t} (\\phi_\\mu \\phi_\\nu) \\cdot \\frac{Z_A}{| \\boldsymbol{r} - \\boldsymbol{A} |} \\, \\mathrm{d} \\boldsymbol{r}\n",
    "$$\n",
    "\n",
    "</div>"
   ]
  },
  {
   "cell_type": "markdown",
   "metadata": {
    "heading_collapsed": true
   },
   "source": [
    "### 解析梯度总结与数值梯度"
   ]
  },
  {
   "cell_type": "markdown",
   "metadata": {
    "hidden": true
   },
   "source": [
    "至此，我们已经将所有的 $h_{\\mu \\nu}^{A_t}$ 的贡献项求取完毕了：\n",
    "\n",
    "$$\n",
    "h_{\\mu \\nu}^{A_t} = - \\langle \\partial_t \\mu_A | \\hat t | \\nu \\rangle - \\langle \\partial_t \\mu_A | \\hat v_\\mathrm{nuc} | \\nu \\rangle - \\langle \\partial_t \\mu | \\frac{Z_A}{| \\boldsymbol{r} - \\boldsymbol{A} |} | \\nu \\rangle + \\mathrm{swap} (\\mu, \\nu)\n",
    "$$"
   ]
  },
  {
   "cell_type": "markdown",
   "metadata": {
    "hidden": true
   },
   "source": [
    "综合上面几段代码，我们可以通过下述方式实现 `H_1_ao` $h_{\\mu \\nu}^{A_t}$："
   ]
  },
  {
   "cell_type": "code",
   "execution_count": 25,
   "metadata": {
    "hidden": true
   },
   "outputs": [],
   "source": [
    "int1e_ipkin = mol.intor(\"int1e_ipkin\")\n",
    "int1e_ipnuc = mol.intor(\"int1e_ipnuc\")\n",
    "Z_A = mol.atom_charges()"
   ]
  },
  {
   "cell_type": "code",
   "execution_count": 26,
   "metadata": {
    "hidden": true
   },
   "outputs": [],
   "source": [
    "H_1_ao = np.zeros((natm, 3, nao, nao))\n",
    "for A in range(natm):\n",
    "    sA = mol_slice(A)\n",
    "    H_1_ao[A, :, sA, :] -= int1e_ipkin[:, sA, :]\n",
    "    H_1_ao[A, :, sA, :] -= int1e_ipnuc[:, sA, :]\n",
    "    with mol.with_rinv_as_nucleus(A):\n",
    "        H_1_ao[A] -= Z_A[A] * mol.intor(\"int1e_iprinv\")\n",
    "H_1_ao += H_1_ao.swapaxes(-1, -2)"
   ]
  },
  {
   "cell_type": "markdown",
   "metadata": {
    "hidden": true
   },
   "source": [
    "这与 pyxdh 所实现的 $h_{\\mu \\nu}^{A_t}$ 完全一致："
   ]
  },
  {
   "cell_type": "code",
   "execution_count": 27,
   "metadata": {
    "hidden": true
   },
   "outputs": [
    {
     "data": {
      "text/plain": [
       "True"
      ]
     },
     "execution_count": 27,
     "metadata": {},
     "output_type": "execute_result"
    }
   ],
   "source": [
    "np.allclose(H_1_ao.ravel(), gradh.H_1_ao.ravel())"
   ]
  },
  {
   "cell_type": "markdown",
   "metadata": {
    "hidden": true
   },
   "source": [
    "我们也可以通过数值导数的方法生成 `nd_H_0_ao` $\\partial_{A_t} h_{\\mu \\nu}$ 并用图像验证其与 `H_1_ao` $h_{\\mu \\nu}^{A_t}$ 非常接近："
   ]
  },
  {
   "cell_type": "code",
   "execution_count": 28,
   "metadata": {
    "hidden": true
   },
   "outputs": [
    {
     "data": {
      "text/plain": [
       "(12, 22, 22)"
      ]
     },
     "execution_count": 28,
     "metadata": {},
     "output_type": "execute_result"
    }
   ],
   "source": [
    "nd_H_0_ao = NumericDiff(gradn, lambda gradh: gradh.H_0_ao).derivative\n",
    "nd_H_0_ao.shape"
   ]
  },
  {
   "cell_type": "code",
   "execution_count": 29,
   "metadata": {
    "hidden": true
   },
   "outputs": [
    {
     "data": {
      "application/javascript": [
       "/* Put everything inside the global mpl namespace */\n",
       "window.mpl = {};\n",
       "\n",
       "\n",
       "mpl.get_websocket_type = function() {\n",
       "    if (typeof(WebSocket) !== 'undefined') {\n",
       "        return WebSocket;\n",
       "    } else if (typeof(MozWebSocket) !== 'undefined') {\n",
       "        return MozWebSocket;\n",
       "    } else {\n",
       "        alert('Your browser does not have WebSocket support. ' +\n",
       "              'Please try Chrome, Safari or Firefox ≥ 6. ' +\n",
       "              'Firefox 4 and 5 are also supported but you ' +\n",
       "              'have to enable WebSockets in about:config.');\n",
       "    };\n",
       "}\n",
       "\n",
       "mpl.figure = function(figure_id, websocket, ondownload, parent_element) {\n",
       "    this.id = figure_id;\n",
       "\n",
       "    this.ws = websocket;\n",
       "\n",
       "    this.supports_binary = (this.ws.binaryType != undefined);\n",
       "\n",
       "    if (!this.supports_binary) {\n",
       "        var warnings = document.getElementById(\"mpl-warnings\");\n",
       "        if (warnings) {\n",
       "            warnings.style.display = 'block';\n",
       "            warnings.textContent = (\n",
       "                \"This browser does not support binary websocket messages. \" +\n",
       "                    \"Performance may be slow.\");\n",
       "        }\n",
       "    }\n",
       "\n",
       "    this.imageObj = new Image();\n",
       "\n",
       "    this.context = undefined;\n",
       "    this.message = undefined;\n",
       "    this.canvas = undefined;\n",
       "    this.rubberband_canvas = undefined;\n",
       "    this.rubberband_context = undefined;\n",
       "    this.format_dropdown = undefined;\n",
       "\n",
       "    this.image_mode = 'full';\n",
       "\n",
       "    this.root = $('<div/>');\n",
       "    this._root_extra_style(this.root)\n",
       "    this.root.attr('style', 'display: inline-block');\n",
       "\n",
       "    $(parent_element).append(this.root);\n",
       "\n",
       "    this._init_header(this);\n",
       "    this._init_canvas(this);\n",
       "    this._init_toolbar(this);\n",
       "\n",
       "    var fig = this;\n",
       "\n",
       "    this.waiting = false;\n",
       "\n",
       "    this.ws.onopen =  function () {\n",
       "            fig.send_message(\"supports_binary\", {value: fig.supports_binary});\n",
       "            fig.send_message(\"send_image_mode\", {});\n",
       "            if (mpl.ratio != 1) {\n",
       "                fig.send_message(\"set_dpi_ratio\", {'dpi_ratio': mpl.ratio});\n",
       "            }\n",
       "            fig.send_message(\"refresh\", {});\n",
       "        }\n",
       "\n",
       "    this.imageObj.onload = function() {\n",
       "            if (fig.image_mode == 'full') {\n",
       "                // Full images could contain transparency (where diff images\n",
       "                // almost always do), so we need to clear the canvas so that\n",
       "                // there is no ghosting.\n",
       "                fig.context.clearRect(0, 0, fig.canvas.width, fig.canvas.height);\n",
       "            }\n",
       "            fig.context.drawImage(fig.imageObj, 0, 0);\n",
       "        };\n",
       "\n",
       "    this.imageObj.onunload = function() {\n",
       "        fig.ws.close();\n",
       "    }\n",
       "\n",
       "    this.ws.onmessage = this._make_on_message_function(this);\n",
       "\n",
       "    this.ondownload = ondownload;\n",
       "}\n",
       "\n",
       "mpl.figure.prototype._init_header = function() {\n",
       "    var titlebar = $(\n",
       "        '<div class=\"ui-dialog-titlebar ui-widget-header ui-corner-all ' +\n",
       "        'ui-helper-clearfix\"/>');\n",
       "    var titletext = $(\n",
       "        '<div class=\"ui-dialog-title\" style=\"width: 100%; ' +\n",
       "        'text-align: center; padding: 3px;\"/>');\n",
       "    titlebar.append(titletext)\n",
       "    this.root.append(titlebar);\n",
       "    this.header = titletext[0];\n",
       "}\n",
       "\n",
       "\n",
       "\n",
       "mpl.figure.prototype._canvas_extra_style = function(canvas_div) {\n",
       "\n",
       "}\n",
       "\n",
       "\n",
       "mpl.figure.prototype._root_extra_style = function(canvas_div) {\n",
       "\n",
       "}\n",
       "\n",
       "mpl.figure.prototype._init_canvas = function() {\n",
       "    var fig = this;\n",
       "\n",
       "    var canvas_div = $('<div/>');\n",
       "\n",
       "    canvas_div.attr('style', 'position: relative; clear: both; outline: 0');\n",
       "\n",
       "    function canvas_keyboard_event(event) {\n",
       "        return fig.key_event(event, event['data']);\n",
       "    }\n",
       "\n",
       "    canvas_div.keydown('key_press', canvas_keyboard_event);\n",
       "    canvas_div.keyup('key_release', canvas_keyboard_event);\n",
       "    this.canvas_div = canvas_div\n",
       "    this._canvas_extra_style(canvas_div)\n",
       "    this.root.append(canvas_div);\n",
       "\n",
       "    var canvas = $('<canvas/>');\n",
       "    canvas.addClass('mpl-canvas');\n",
       "    canvas.attr('style', \"left: 0; top: 0; z-index: 0; outline: 0\")\n",
       "\n",
       "    this.canvas = canvas[0];\n",
       "    this.context = canvas[0].getContext(\"2d\");\n",
       "\n",
       "    var backingStore = this.context.backingStorePixelRatio ||\n",
       "\tthis.context.webkitBackingStorePixelRatio ||\n",
       "\tthis.context.mozBackingStorePixelRatio ||\n",
       "\tthis.context.msBackingStorePixelRatio ||\n",
       "\tthis.context.oBackingStorePixelRatio ||\n",
       "\tthis.context.backingStorePixelRatio || 1;\n",
       "\n",
       "    mpl.ratio = (window.devicePixelRatio || 1) / backingStore;\n",
       "\n",
       "    var rubberband = $('<canvas/>');\n",
       "    rubberband.attr('style', \"position: absolute; left: 0; top: 0; z-index: 1;\")\n",
       "\n",
       "    var pass_mouse_events = true;\n",
       "\n",
       "    canvas_div.resizable({\n",
       "        start: function(event, ui) {\n",
       "            pass_mouse_events = false;\n",
       "        },\n",
       "        resize: function(event, ui) {\n",
       "            fig.request_resize(ui.size.width, ui.size.height);\n",
       "        },\n",
       "        stop: function(event, ui) {\n",
       "            pass_mouse_events = true;\n",
       "            fig.request_resize(ui.size.width, ui.size.height);\n",
       "        },\n",
       "    });\n",
       "\n",
       "    function mouse_event_fn(event) {\n",
       "        if (pass_mouse_events)\n",
       "            return fig.mouse_event(event, event['data']);\n",
       "    }\n",
       "\n",
       "    rubberband.mousedown('button_press', mouse_event_fn);\n",
       "    rubberband.mouseup('button_release', mouse_event_fn);\n",
       "    // Throttle sequential mouse events to 1 every 20ms.\n",
       "    rubberband.mousemove('motion_notify', mouse_event_fn);\n",
       "\n",
       "    rubberband.mouseenter('figure_enter', mouse_event_fn);\n",
       "    rubberband.mouseleave('figure_leave', mouse_event_fn);\n",
       "\n",
       "    canvas_div.on(\"wheel\", function (event) {\n",
       "        event = event.originalEvent;\n",
       "        event['data'] = 'scroll'\n",
       "        if (event.deltaY < 0) {\n",
       "            event.step = 1;\n",
       "        } else {\n",
       "            event.step = -1;\n",
       "        }\n",
       "        mouse_event_fn(event);\n",
       "    });\n",
       "\n",
       "    canvas_div.append(canvas);\n",
       "    canvas_div.append(rubberband);\n",
       "\n",
       "    this.rubberband = rubberband;\n",
       "    this.rubberband_canvas = rubberband[0];\n",
       "    this.rubberband_context = rubberband[0].getContext(\"2d\");\n",
       "    this.rubberband_context.strokeStyle = \"#000000\";\n",
       "\n",
       "    this._resize_canvas = function(width, height) {\n",
       "        // Keep the size of the canvas, canvas container, and rubber band\n",
       "        // canvas in synch.\n",
       "        canvas_div.css('width', width)\n",
       "        canvas_div.css('height', height)\n",
       "\n",
       "        canvas.attr('width', width * mpl.ratio);\n",
       "        canvas.attr('height', height * mpl.ratio);\n",
       "        canvas.attr('style', 'width: ' + width + 'px; height: ' + height + 'px;');\n",
       "\n",
       "        rubberband.attr('width', width);\n",
       "        rubberband.attr('height', height);\n",
       "    }\n",
       "\n",
       "    // Set the figure to an initial 600x600px, this will subsequently be updated\n",
       "    // upon first draw.\n",
       "    this._resize_canvas(600, 600);\n",
       "\n",
       "    // Disable right mouse context menu.\n",
       "    $(this.rubberband_canvas).bind(\"contextmenu\",function(e){\n",
       "        return false;\n",
       "    });\n",
       "\n",
       "    function set_focus () {\n",
       "        canvas.focus();\n",
       "        canvas_div.focus();\n",
       "    }\n",
       "\n",
       "    window.setTimeout(set_focus, 100);\n",
       "}\n",
       "\n",
       "mpl.figure.prototype._init_toolbar = function() {\n",
       "    var fig = this;\n",
       "\n",
       "    var nav_element = $('<div/>');\n",
       "    nav_element.attr('style', 'width: 100%');\n",
       "    this.root.append(nav_element);\n",
       "\n",
       "    // Define a callback function for later on.\n",
       "    function toolbar_event(event) {\n",
       "        return fig.toolbar_button_onclick(event['data']);\n",
       "    }\n",
       "    function toolbar_mouse_event(event) {\n",
       "        return fig.toolbar_button_onmouseover(event['data']);\n",
       "    }\n",
       "\n",
       "    for(var toolbar_ind in mpl.toolbar_items) {\n",
       "        var name = mpl.toolbar_items[toolbar_ind][0];\n",
       "        var tooltip = mpl.toolbar_items[toolbar_ind][1];\n",
       "        var image = mpl.toolbar_items[toolbar_ind][2];\n",
       "        var method_name = mpl.toolbar_items[toolbar_ind][3];\n",
       "\n",
       "        if (!name) {\n",
       "            // put a spacer in here.\n",
       "            continue;\n",
       "        }\n",
       "        var button = $('<button/>');\n",
       "        button.addClass('ui-button ui-widget ui-state-default ui-corner-all ' +\n",
       "                        'ui-button-icon-only');\n",
       "        button.attr('role', 'button');\n",
       "        button.attr('aria-disabled', 'false');\n",
       "        button.click(method_name, toolbar_event);\n",
       "        button.mouseover(tooltip, toolbar_mouse_event);\n",
       "\n",
       "        var icon_img = $('<span/>');\n",
       "        icon_img.addClass('ui-button-icon-primary ui-icon');\n",
       "        icon_img.addClass(image);\n",
       "        icon_img.addClass('ui-corner-all');\n",
       "\n",
       "        var tooltip_span = $('<span/>');\n",
       "        tooltip_span.addClass('ui-button-text');\n",
       "        tooltip_span.html(tooltip);\n",
       "\n",
       "        button.append(icon_img);\n",
       "        button.append(tooltip_span);\n",
       "\n",
       "        nav_element.append(button);\n",
       "    }\n",
       "\n",
       "    var fmt_picker_span = $('<span/>');\n",
       "\n",
       "    var fmt_picker = $('<select/>');\n",
       "    fmt_picker.addClass('mpl-toolbar-option ui-widget ui-widget-content');\n",
       "    fmt_picker_span.append(fmt_picker);\n",
       "    nav_element.append(fmt_picker_span);\n",
       "    this.format_dropdown = fmt_picker[0];\n",
       "\n",
       "    for (var ind in mpl.extensions) {\n",
       "        var fmt = mpl.extensions[ind];\n",
       "        var option = $(\n",
       "            '<option/>', {selected: fmt === mpl.default_extension}).html(fmt);\n",
       "        fmt_picker.append(option);\n",
       "    }\n",
       "\n",
       "    // Add hover states to the ui-buttons\n",
       "    $( \".ui-button\" ).hover(\n",
       "        function() { $(this).addClass(\"ui-state-hover\");},\n",
       "        function() { $(this).removeClass(\"ui-state-hover\");}\n",
       "    );\n",
       "\n",
       "    var status_bar = $('<span class=\"mpl-message\"/>');\n",
       "    nav_element.append(status_bar);\n",
       "    this.message = status_bar[0];\n",
       "}\n",
       "\n",
       "mpl.figure.prototype.request_resize = function(x_pixels, y_pixels) {\n",
       "    // Request matplotlib to resize the figure. Matplotlib will then trigger a resize in the client,\n",
       "    // which will in turn request a refresh of the image.\n",
       "    this.send_message('resize', {'width': x_pixels, 'height': y_pixels});\n",
       "}\n",
       "\n",
       "mpl.figure.prototype.send_message = function(type, properties) {\n",
       "    properties['type'] = type;\n",
       "    properties['figure_id'] = this.id;\n",
       "    this.ws.send(JSON.stringify(properties));\n",
       "}\n",
       "\n",
       "mpl.figure.prototype.send_draw_message = function() {\n",
       "    if (!this.waiting) {\n",
       "        this.waiting = true;\n",
       "        this.ws.send(JSON.stringify({type: \"draw\", figure_id: this.id}));\n",
       "    }\n",
       "}\n",
       "\n",
       "\n",
       "mpl.figure.prototype.handle_save = function(fig, msg) {\n",
       "    var format_dropdown = fig.format_dropdown;\n",
       "    var format = format_dropdown.options[format_dropdown.selectedIndex].value;\n",
       "    fig.ondownload(fig, format);\n",
       "}\n",
       "\n",
       "\n",
       "mpl.figure.prototype.handle_resize = function(fig, msg) {\n",
       "    var size = msg['size'];\n",
       "    if (size[0] != fig.canvas.width || size[1] != fig.canvas.height) {\n",
       "        fig._resize_canvas(size[0], size[1]);\n",
       "        fig.send_message(\"refresh\", {});\n",
       "    };\n",
       "}\n",
       "\n",
       "mpl.figure.prototype.handle_rubberband = function(fig, msg) {\n",
       "    var x0 = msg['x0'] / mpl.ratio;\n",
       "    var y0 = (fig.canvas.height - msg['y0']) / mpl.ratio;\n",
       "    var x1 = msg['x1'] / mpl.ratio;\n",
       "    var y1 = (fig.canvas.height - msg['y1']) / mpl.ratio;\n",
       "    x0 = Math.floor(x0) + 0.5;\n",
       "    y0 = Math.floor(y0) + 0.5;\n",
       "    x1 = Math.floor(x1) + 0.5;\n",
       "    y1 = Math.floor(y1) + 0.5;\n",
       "    var min_x = Math.min(x0, x1);\n",
       "    var min_y = Math.min(y0, y1);\n",
       "    var width = Math.abs(x1 - x0);\n",
       "    var height = Math.abs(y1 - y0);\n",
       "\n",
       "    fig.rubberband_context.clearRect(\n",
       "        0, 0, fig.canvas.width / mpl.ratio, fig.canvas.height / mpl.ratio);\n",
       "\n",
       "    fig.rubberband_context.strokeRect(min_x, min_y, width, height);\n",
       "}\n",
       "\n",
       "mpl.figure.prototype.handle_figure_label = function(fig, msg) {\n",
       "    // Updates the figure title.\n",
       "    fig.header.textContent = msg['label'];\n",
       "}\n",
       "\n",
       "mpl.figure.prototype.handle_cursor = function(fig, msg) {\n",
       "    var cursor = msg['cursor'];\n",
       "    switch(cursor)\n",
       "    {\n",
       "    case 0:\n",
       "        cursor = 'pointer';\n",
       "        break;\n",
       "    case 1:\n",
       "        cursor = 'default';\n",
       "        break;\n",
       "    case 2:\n",
       "        cursor = 'crosshair';\n",
       "        break;\n",
       "    case 3:\n",
       "        cursor = 'move';\n",
       "        break;\n",
       "    }\n",
       "    fig.rubberband_canvas.style.cursor = cursor;\n",
       "}\n",
       "\n",
       "mpl.figure.prototype.handle_message = function(fig, msg) {\n",
       "    fig.message.textContent = msg['message'];\n",
       "}\n",
       "\n",
       "mpl.figure.prototype.handle_draw = function(fig, msg) {\n",
       "    // Request the server to send over a new figure.\n",
       "    fig.send_draw_message();\n",
       "}\n",
       "\n",
       "mpl.figure.prototype.handle_image_mode = function(fig, msg) {\n",
       "    fig.image_mode = msg['mode'];\n",
       "}\n",
       "\n",
       "mpl.figure.prototype.updated_canvas_event = function() {\n",
       "    // Called whenever the canvas gets updated.\n",
       "    this.send_message(\"ack\", {});\n",
       "}\n",
       "\n",
       "// A function to construct a web socket function for onmessage handling.\n",
       "// Called in the figure constructor.\n",
       "mpl.figure.prototype._make_on_message_function = function(fig) {\n",
       "    return function socket_on_message(evt) {\n",
       "        if (evt.data instanceof Blob) {\n",
       "            /* FIXME: We get \"Resource interpreted as Image but\n",
       "             * transferred with MIME type text/plain:\" errors on\n",
       "             * Chrome.  But how to set the MIME type?  It doesn't seem\n",
       "             * to be part of the websocket stream */\n",
       "            evt.data.type = \"image/png\";\n",
       "\n",
       "            /* Free the memory for the previous frames */\n",
       "            if (fig.imageObj.src) {\n",
       "                (window.URL || window.webkitURL).revokeObjectURL(\n",
       "                    fig.imageObj.src);\n",
       "            }\n",
       "\n",
       "            fig.imageObj.src = (window.URL || window.webkitURL).createObjectURL(\n",
       "                evt.data);\n",
       "            fig.updated_canvas_event();\n",
       "            fig.waiting = false;\n",
       "            return;\n",
       "        }\n",
       "        else if (typeof evt.data === 'string' && evt.data.slice(0, 21) == \"data:image/png;base64\") {\n",
       "            fig.imageObj.src = evt.data;\n",
       "            fig.updated_canvas_event();\n",
       "            fig.waiting = false;\n",
       "            return;\n",
       "        }\n",
       "\n",
       "        var msg = JSON.parse(evt.data);\n",
       "        var msg_type = msg['type'];\n",
       "\n",
       "        // Call the  \"handle_{type}\" callback, which takes\n",
       "        // the figure and JSON message as its only arguments.\n",
       "        try {\n",
       "            var callback = fig[\"handle_\" + msg_type];\n",
       "        } catch (e) {\n",
       "            console.log(\"No handler for the '\" + msg_type + \"' message type: \", msg);\n",
       "            return;\n",
       "        }\n",
       "\n",
       "        if (callback) {\n",
       "            try {\n",
       "                // console.log(\"Handling '\" + msg_type + \"' message: \", msg);\n",
       "                callback(fig, msg);\n",
       "            } catch (e) {\n",
       "                console.log(\"Exception inside the 'handler_\" + msg_type + \"' callback:\", e, e.stack, msg);\n",
       "            }\n",
       "        }\n",
       "    };\n",
       "}\n",
       "\n",
       "// from http://stackoverflow.com/questions/1114465/getting-mouse-location-in-canvas\n",
       "mpl.findpos = function(e) {\n",
       "    //this section is from http://www.quirksmode.org/js/events_properties.html\n",
       "    var targ;\n",
       "    if (!e)\n",
       "        e = window.event;\n",
       "    if (e.target)\n",
       "        targ = e.target;\n",
       "    else if (e.srcElement)\n",
       "        targ = e.srcElement;\n",
       "    if (targ.nodeType == 3) // defeat Safari bug\n",
       "        targ = targ.parentNode;\n",
       "\n",
       "    // jQuery normalizes the pageX and pageY\n",
       "    // pageX,Y are the mouse positions relative to the document\n",
       "    // offset() returns the position of the element relative to the document\n",
       "    var x = e.pageX - $(targ).offset().left;\n",
       "    var y = e.pageY - $(targ).offset().top;\n",
       "\n",
       "    return {\"x\": x, \"y\": y};\n",
       "};\n",
       "\n",
       "/*\n",
       " * return a copy of an object with only non-object keys\n",
       " * we need this to avoid circular references\n",
       " * http://stackoverflow.com/a/24161582/3208463\n",
       " */\n",
       "function simpleKeys (original) {\n",
       "  return Object.keys(original).reduce(function (obj, key) {\n",
       "    if (typeof original[key] !== 'object')\n",
       "        obj[key] = original[key]\n",
       "    return obj;\n",
       "  }, {});\n",
       "}\n",
       "\n",
       "mpl.figure.prototype.mouse_event = function(event, name) {\n",
       "    var canvas_pos = mpl.findpos(event)\n",
       "\n",
       "    if (name === 'button_press')\n",
       "    {\n",
       "        this.canvas.focus();\n",
       "        this.canvas_div.focus();\n",
       "    }\n",
       "\n",
       "    var x = canvas_pos.x * mpl.ratio;\n",
       "    var y = canvas_pos.y * mpl.ratio;\n",
       "\n",
       "    this.send_message(name, {x: x, y: y, button: event.button,\n",
       "                             step: event.step,\n",
       "                             guiEvent: simpleKeys(event)});\n",
       "\n",
       "    /* This prevents the web browser from automatically changing to\n",
       "     * the text insertion cursor when the button is pressed.  We want\n",
       "     * to control all of the cursor setting manually through the\n",
       "     * 'cursor' event from matplotlib */\n",
       "    event.preventDefault();\n",
       "    return false;\n",
       "}\n",
       "\n",
       "mpl.figure.prototype._key_event_extra = function(event, name) {\n",
       "    // Handle any extra behaviour associated with a key event\n",
       "}\n",
       "\n",
       "mpl.figure.prototype.key_event = function(event, name) {\n",
       "\n",
       "    // Prevent repeat events\n",
       "    if (name == 'key_press')\n",
       "    {\n",
       "        if (event.which === this._key)\n",
       "            return;\n",
       "        else\n",
       "            this._key = event.which;\n",
       "    }\n",
       "    if (name == 'key_release')\n",
       "        this._key = null;\n",
       "\n",
       "    var value = '';\n",
       "    if (event.ctrlKey && event.which != 17)\n",
       "        value += \"ctrl+\";\n",
       "    if (event.altKey && event.which != 18)\n",
       "        value += \"alt+\";\n",
       "    if (event.shiftKey && event.which != 16)\n",
       "        value += \"shift+\";\n",
       "\n",
       "    value += 'k';\n",
       "    value += event.which.toString();\n",
       "\n",
       "    this._key_event_extra(event, name);\n",
       "\n",
       "    this.send_message(name, {key: value,\n",
       "                             guiEvent: simpleKeys(event)});\n",
       "    return false;\n",
       "}\n",
       "\n",
       "mpl.figure.prototype.toolbar_button_onclick = function(name) {\n",
       "    if (name == 'download') {\n",
       "        this.handle_save(this, null);\n",
       "    } else {\n",
       "        this.send_message(\"toolbar_button\", {name: name});\n",
       "    }\n",
       "};\n",
       "\n",
       "mpl.figure.prototype.toolbar_button_onmouseover = function(tooltip) {\n",
       "    this.message.textContent = tooltip;\n",
       "};\n",
       "mpl.toolbar_items = [[\"Home\", \"Reset original view\", \"fa fa-home icon-home\", \"home\"], [\"Back\", \"Back to previous view\", \"fa fa-arrow-left icon-arrow-left\", \"back\"], [\"Forward\", \"Forward to next view\", \"fa fa-arrow-right icon-arrow-right\", \"forward\"], [\"\", \"\", \"\", \"\"], [\"Pan\", \"Pan axes with left mouse, zoom with right\", \"fa fa-arrows icon-move\", \"pan\"], [\"Zoom\", \"Zoom to rectangle\", \"fa fa-square-o icon-check-empty\", \"zoom\"], [\"\", \"\", \"\", \"\"], [\"Download\", \"Download plot\", \"fa fa-floppy-o icon-save\", \"download\"]];\n",
       "\n",
       "mpl.extensions = [\"eps\", \"pdf\", \"png\", \"ps\", \"raw\", \"svg\"];\n",
       "\n",
       "mpl.default_extension = \"png\";var comm_websocket_adapter = function(comm) {\n",
       "    // Create a \"websocket\"-like object which calls the given IPython comm\n",
       "    // object with the appropriate methods. Currently this is a non binary\n",
       "    // socket, so there is still some room for performance tuning.\n",
       "    var ws = {};\n",
       "\n",
       "    ws.close = function() {\n",
       "        comm.close()\n",
       "    };\n",
       "    ws.send = function(m) {\n",
       "        //console.log('sending', m);\n",
       "        comm.send(m);\n",
       "    };\n",
       "    // Register the callback with on_msg.\n",
       "    comm.on_msg(function(msg) {\n",
       "        //console.log('receiving', msg['content']['data'], msg);\n",
       "        // Pass the mpl event to the overridden (by mpl) onmessage function.\n",
       "        ws.onmessage(msg['content']['data'])\n",
       "    });\n",
       "    return ws;\n",
       "}\n",
       "\n",
       "mpl.mpl_figure_comm = function(comm, msg) {\n",
       "    // This is the function which gets called when the mpl process\n",
       "    // starts-up an IPython Comm through the \"matplotlib\" channel.\n",
       "\n",
       "    var id = msg.content.data.id;\n",
       "    // Get hold of the div created by the display call when the Comm\n",
       "    // socket was opened in Python.\n",
       "    var element = $(\"#\" + id);\n",
       "    var ws_proxy = comm_websocket_adapter(comm)\n",
       "\n",
       "    function ondownload(figure, format) {\n",
       "        window.open(figure.imageObj.src);\n",
       "    }\n",
       "\n",
       "    var fig = new mpl.figure(id, ws_proxy,\n",
       "                           ondownload,\n",
       "                           element.get(0));\n",
       "\n",
       "    // Call onopen now - mpl needs it, as it is assuming we've passed it a real\n",
       "    // web socket which is closed, not our websocket->open comm proxy.\n",
       "    ws_proxy.onopen();\n",
       "\n",
       "    fig.parent_element = element.get(0);\n",
       "    fig.cell_info = mpl.find_output_cell(\"<div id='\" + id + \"'></div>\");\n",
       "    if (!fig.cell_info) {\n",
       "        console.error(\"Failed to find cell for figure\", id, fig);\n",
       "        return;\n",
       "    }\n",
       "\n",
       "    var output_index = fig.cell_info[2]\n",
       "    var cell = fig.cell_info[0];\n",
       "\n",
       "};\n",
       "\n",
       "mpl.figure.prototype.handle_close = function(fig, msg) {\n",
       "    var width = fig.canvas.width/mpl.ratio\n",
       "    fig.root.unbind('remove')\n",
       "\n",
       "    // Update the output cell to use the data from the current canvas.\n",
       "    fig.push_to_output();\n",
       "    var dataURL = fig.canvas.toDataURL();\n",
       "    // Re-enable the keyboard manager in IPython - without this line, in FF,\n",
       "    // the notebook keyboard shortcuts fail.\n",
       "    IPython.keyboard_manager.enable()\n",
       "    $(fig.parent_element).html('<img src=\"' + dataURL + '\" width=\"' + width + '\">');\n",
       "    fig.close_ws(fig, msg);\n",
       "}\n",
       "\n",
       "mpl.figure.prototype.close_ws = function(fig, msg){\n",
       "    fig.send_message('closing', msg);\n",
       "    // fig.ws.close()\n",
       "}\n",
       "\n",
       "mpl.figure.prototype.push_to_output = function(remove_interactive) {\n",
       "    // Turn the data on the canvas into data in the output cell.\n",
       "    var width = this.canvas.width/mpl.ratio\n",
       "    var dataURL = this.canvas.toDataURL();\n",
       "    this.cell_info[1]['text/html'] = '<img src=\"' + dataURL + '\" width=\"' + width + '\">';\n",
       "}\n",
       "\n",
       "mpl.figure.prototype.updated_canvas_event = function() {\n",
       "    // Tell IPython that the notebook contents must change.\n",
       "    IPython.notebook.set_dirty(true);\n",
       "    this.send_message(\"ack\", {});\n",
       "    var fig = this;\n",
       "    // Wait a second, then push the new image to the DOM so\n",
       "    // that it is saved nicely (might be nice to debounce this).\n",
       "    setTimeout(function () { fig.push_to_output() }, 1000);\n",
       "}\n",
       "\n",
       "mpl.figure.prototype._init_toolbar = function() {\n",
       "    var fig = this;\n",
       "\n",
       "    var nav_element = $('<div/>');\n",
       "    nav_element.attr('style', 'width: 100%');\n",
       "    this.root.append(nav_element);\n",
       "\n",
       "    // Define a callback function for later on.\n",
       "    function toolbar_event(event) {\n",
       "        return fig.toolbar_button_onclick(event['data']);\n",
       "    }\n",
       "    function toolbar_mouse_event(event) {\n",
       "        return fig.toolbar_button_onmouseover(event['data']);\n",
       "    }\n",
       "\n",
       "    for(var toolbar_ind in mpl.toolbar_items){\n",
       "        var name = mpl.toolbar_items[toolbar_ind][0];\n",
       "        var tooltip = mpl.toolbar_items[toolbar_ind][1];\n",
       "        var image = mpl.toolbar_items[toolbar_ind][2];\n",
       "        var method_name = mpl.toolbar_items[toolbar_ind][3];\n",
       "\n",
       "        if (!name) { continue; };\n",
       "\n",
       "        var button = $('<button class=\"btn btn-default\" href=\"#\" title=\"' + name + '\"><i class=\"fa ' + image + ' fa-lg\"></i></button>');\n",
       "        button.click(method_name, toolbar_event);\n",
       "        button.mouseover(tooltip, toolbar_mouse_event);\n",
       "        nav_element.append(button);\n",
       "    }\n",
       "\n",
       "    // Add the status bar.\n",
       "    var status_bar = $('<span class=\"mpl-message\" style=\"text-align:right; float: right;\"/>');\n",
       "    nav_element.append(status_bar);\n",
       "    this.message = status_bar[0];\n",
       "\n",
       "    // Add the close button to the window.\n",
       "    var buttongrp = $('<div class=\"btn-group inline pull-right\"></div>');\n",
       "    var button = $('<button class=\"btn btn-mini btn-primary\" href=\"#\" title=\"Stop Interaction\"><i class=\"fa fa-power-off icon-remove icon-large\"></i></button>');\n",
       "    button.click(function (evt) { fig.handle_close(fig, {}); } );\n",
       "    button.mouseover('Stop Interaction', toolbar_mouse_event);\n",
       "    buttongrp.append(button);\n",
       "    var titlebar = this.root.find($('.ui-dialog-titlebar'));\n",
       "    titlebar.prepend(buttongrp);\n",
       "}\n",
       "\n",
       "mpl.figure.prototype._root_extra_style = function(el){\n",
       "    var fig = this\n",
       "    el.on(\"remove\", function(){\n",
       "\tfig.close_ws(fig, {});\n",
       "    });\n",
       "}\n",
       "\n",
       "mpl.figure.prototype._canvas_extra_style = function(el){\n",
       "    // this is important to make the div 'focusable\n",
       "    el.attr('tabindex', 0)\n",
       "    // reach out to IPython and tell the keyboard manager to turn it's self\n",
       "    // off when our div gets focus\n",
       "\n",
       "    // location in version 3\n",
       "    if (IPython.notebook.keyboard_manager) {\n",
       "        IPython.notebook.keyboard_manager.register_events(el);\n",
       "    }\n",
       "    else {\n",
       "        // location in version 2\n",
       "        IPython.keyboard_manager.register_events(el);\n",
       "    }\n",
       "\n",
       "}\n",
       "\n",
       "mpl.figure.prototype._key_event_extra = function(event, name) {\n",
       "    var manager = IPython.notebook.keyboard_manager;\n",
       "    if (!manager)\n",
       "        manager = IPython.keyboard_manager;\n",
       "\n",
       "    // Check for shift+enter\n",
       "    if (event.shiftKey && event.which == 13) {\n",
       "        this.canvas_div.blur();\n",
       "        // select the cell after this one\n",
       "        var index = IPython.notebook.find_cell_index(this.cell_info[0]);\n",
       "        IPython.notebook.select(index + 1);\n",
       "    }\n",
       "}\n",
       "\n",
       "mpl.figure.prototype.handle_save = function(fig, msg) {\n",
       "    fig.ondownload(fig, null);\n",
       "}\n",
       "\n",
       "\n",
       "mpl.find_output_cell = function(html_output) {\n",
       "    // Return the cell and output element which can be found *uniquely* in the notebook.\n",
       "    // Note - this is a bit hacky, but it is done because the \"notebook_saving.Notebook\"\n",
       "    // IPython event is triggered only after the cells have been serialised, which for\n",
       "    // our purposes (turning an active figure into a static one), is too late.\n",
       "    var cells = IPython.notebook.get_cells();\n",
       "    var ncells = cells.length;\n",
       "    for (var i=0; i<ncells; i++) {\n",
       "        var cell = cells[i];\n",
       "        if (cell.cell_type === 'code'){\n",
       "            for (var j=0; j<cell.output_area.outputs.length; j++) {\n",
       "                var data = cell.output_area.outputs[j];\n",
       "                if (data.data) {\n",
       "                    // IPython >= 3 moved mimebundle to data attribute of output\n",
       "                    data = data.data;\n",
       "                }\n",
       "                if (data['text/html'] == html_output) {\n",
       "                    return [cell, data, j];\n",
       "                }\n",
       "            }\n",
       "        }\n",
       "    }\n",
       "}\n",
       "\n",
       "// Register the function which deals with the matplotlib target/channel.\n",
       "// The kernel may be null if the page has been refreshed.\n",
       "if (IPython.notebook.kernel != null) {\n",
       "    IPython.notebook.kernel.comm_manager.register_target('matplotlib', mpl.mpl_figure_comm);\n",
       "}\n"
      ],
      "text/plain": [
       "<IPython.core.display.Javascript object>"
      ]
     },
     "metadata": {},
     "output_type": "display_data"
    },
    {
     "data": {
      "text/html": [
       "<img src=\"data:image/png;base64,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\" width=\"400\">"
      ],
      "text/plain": [
       "<IPython.core.display.HTML object>"
      ]
     },
     "metadata": {},
     "output_type": "display_data"
    }
   ],
   "source": [
    "fig, ax = plt.subplots(figsize=(4, 3))\n",
    "ax.hist(abs(nd_H_0_ao.ravel() - H_1_ao.ravel()), bins=np.logspace(np.log10(1e-12), np.log10(1e-2), 50), alpha=0.5)\n",
    "ax.hist(abs(nd_H_0_ao.ravel()), bins=np.logspace(np.log10(1e-12), np.log10(1e-2), 50), alpha=0.5)\n",
    "ax.set_xscale(\"log\")\n",
    "fig.tight_layout()"
   ]
  },
  {
   "cell_type": "markdown",
   "metadata": {},
   "source": [
    "## ERI 积分导数"
   ]
  },
  {
   "cell_type": "markdown",
   "metadata": {
    "heading_collapsed": true
   },
   "source": [
    "### 解析导数"
   ]
  },
  {
   "cell_type": "markdown",
   "metadata": {
    "hidden": true
   },
   "source": [
    "我们借助 $\\partial_{A_t} \\mu = \\partial_t \\mu_A$ 的结论，可以得到\n",
    "\n",
    "$$\n",
    "\\begin{align}\n",
    "(\\mu \\nu | \\kappa \\lambda)^{A_t} = \\frac{\\partial}{\\partial A_t} (\\mu \\nu | \\kappa \\lambda) &= - \\big[ (\\partial_t \\mu_A \\nu | \\kappa \\lambda) + (\\mu \\partial_t \\nu_A | \\kappa \\lambda) + (\\mu \\nu | \\partial_t \\kappa_A \\lambda) + (\\mu \\nu | \\kappa \\partial_t \\lambda_A) \\big] \\\\\n",
    "&= - (\\partial_t \\mu_A \\nu | \\kappa \\lambda) + \\mathrm{swap} (\\mu, \\nu) + \\mathrm{swap} (\\mu \\nu, \\kappa \\lambda)\n",
    "\\end{align}\n",
    "$$"
   ]
  },
  {
   "cell_type": "markdown",
   "metadata": {
    "hidden": true
   },
   "source": [
    "上面展示了两种 ERI 积分的导数表达式，分别对应了两种程序实现 `eri1_ao` $(\\mu \\nu | \\kappa \\lambda)^{A_t}$ 的方式。第一种采用第一行的思路；其中，我们利用到 PySCF 中 $(\\partial_t \\mu \\nu | \\kappa \\lambda)$ 可以用 `int2e_ip1` 调出："
   ]
  },
  {
   "cell_type": "code",
   "execution_count": 30,
   "metadata": {
    "hidden": true
   },
   "outputs": [],
   "source": [
    "int2e_ip1 = mol.intor(\"int2e_ip1\")"
   ]
  },
  {
   "cell_type": "code",
   "execution_count": 31,
   "metadata": {
    "hidden": true
   },
   "outputs": [
    {
     "data": {
      "text/plain": [
       "(4, 3, 22, 22, 22, 22)"
      ]
     },
     "execution_count": 31,
     "metadata": {},
     "output_type": "execute_result"
    }
   ],
   "source": [
    "eri1_ao = np.zeros((natm, 3, nao, nao, nao, nao))\n",
    "for A in range(natm):\n",
    "    sA = mol_slice(A)\n",
    "    eri1_ao[A, :, sA, :, :, :] -= int2e_ip1[:, sA]\n",
    "    eri1_ao[A, :, :, sA, :, :] -= int2e_ip1[:, sA].transpose(0, 2, 1, 3, 4)\n",
    "    eri1_ao[A, :, :, :, sA, :] -= int2e_ip1[:, sA].transpose(0, 3, 4, 1, 2)\n",
    "    eri1_ao[A, :, :, :, :, sA] -= int2e_ip1[:, sA].transpose(0, 3, 4, 2, 1)\n",
    "eri1_ao.shape"
   ]
  },
  {
   "cell_type": "markdown",
   "metadata": {
    "hidden": true
   },
   "source": [
    "它与 pyxdh 中给出的结果相同："
   ]
  },
  {
   "cell_type": "code",
   "execution_count": 32,
   "metadata": {
    "hidden": true
   },
   "outputs": [
    {
     "data": {
      "text/plain": [
       "True"
      ]
     },
     "execution_count": 32,
     "metadata": {},
     "output_type": "execute_result"
    }
   ],
   "source": [
    "np.allclose(eri1_ao.ravel(), gradh.eri1_ao.ravel())"
   ]
  },
  {
   "cell_type": "markdown",
   "metadata": {
    "hidden": true
   },
   "source": [
    "第二行的思路则可以用下述代码实现："
   ]
  },
  {
   "cell_type": "code",
   "execution_count": 33,
   "metadata": {
    "hidden": true
   },
   "outputs": [
    {
     "data": {
      "text/plain": [
       "(4, 3, 22, 22, 22, 22)"
      ]
     },
     "execution_count": 33,
     "metadata": {},
     "output_type": "execute_result"
    }
   ],
   "source": [
    "eri1_ao = np.zeros((natm, 3, nao, nao, nao, nao))\n",
    "for A in range(natm):\n",
    "    sA = mol_slice(A)\n",
    "    eri1_ao[A, :, sA, :, :, :] -= int2e_ip1[:, sA]\n",
    "eri1_ao += eri1_ao.swapaxes(-3, -4)\n",
    "eri1_ao += eri1_ao.swapaxes(-1, -3).swapaxes(-2, -4)\n",
    "eri1_ao.shape"
   ]
  },
  {
   "cell_type": "code",
   "execution_count": 34,
   "metadata": {
    "hidden": true
   },
   "outputs": [
    {
     "data": {
      "text/plain": [
       "True"
      ]
     },
     "execution_count": 34,
     "metadata": {},
     "output_type": "execute_result"
    }
   ],
   "source": [
    "np.allclose(eri1_ao.ravel(), gradh.eri1_ao.ravel())"
   ]
  },
  {
   "cell_type": "markdown",
   "metadata": {
    "hidden": true
   },
   "source": [
    "这两种方法在后文中都有可能使用。"
   ]
  },
  {
   "cell_type": "markdown",
   "metadata": {
    "heading_collapsed": true
   },
   "source": [
    "### 数值梯度"
   ]
  },
  {
   "cell_type": "markdown",
   "metadata": {
    "hidden": true
   },
   "source": [
    "`nd_eri0_ao` 表示 $\\partial_{A_t} (\\mu \\nu | \\kappa \\lambda)$："
   ]
  },
  {
   "cell_type": "code",
   "execution_count": 35,
   "metadata": {
    "hidden": true
   },
   "outputs": [
    {
     "data": {
      "text/plain": [
       "(12, 22, 22, 22, 22)"
      ]
     },
     "execution_count": 35,
     "metadata": {},
     "output_type": "execute_result"
    }
   ],
   "source": [
    "nd_eri0_ao = NumericDiff(gradn, lambda gradh: gradh.eri0_ao).derivative\n",
    "nd_eri0_ao.shape"
   ]
  },
  {
   "cell_type": "markdown",
   "metadata": {
    "hidden": true
   },
   "source": [
    "其与解析的 `eri1_ao` $(\\mu \\nu | \\kappa \\lambda)^{A_t}$ 的对比为："
   ]
  },
  {
   "cell_type": "code",
   "execution_count": 36,
   "metadata": {
    "hidden": true
   },
   "outputs": [
    {
     "data": {
      "application/javascript": [
       "/* Put everything inside the global mpl namespace */\n",
       "window.mpl = {};\n",
       "\n",
       "\n",
       "mpl.get_websocket_type = function() {\n",
       "    if (typeof(WebSocket) !== 'undefined') {\n",
       "        return WebSocket;\n",
       "    } else if (typeof(MozWebSocket) !== 'undefined') {\n",
       "        return MozWebSocket;\n",
       "    } else {\n",
       "        alert('Your browser does not have WebSocket support. ' +\n",
       "              'Please try Chrome, Safari or Firefox ≥ 6. ' +\n",
       "              'Firefox 4 and 5 are also supported but you ' +\n",
       "              'have to enable WebSockets in about:config.');\n",
       "    };\n",
       "}\n",
       "\n",
       "mpl.figure = function(figure_id, websocket, ondownload, parent_element) {\n",
       "    this.id = figure_id;\n",
       "\n",
       "    this.ws = websocket;\n",
       "\n",
       "    this.supports_binary = (this.ws.binaryType != undefined);\n",
       "\n",
       "    if (!this.supports_binary) {\n",
       "        var warnings = document.getElementById(\"mpl-warnings\");\n",
       "        if (warnings) {\n",
       "            warnings.style.display = 'block';\n",
       "            warnings.textContent = (\n",
       "                \"This browser does not support binary websocket messages. \" +\n",
       "                    \"Performance may be slow.\");\n",
       "        }\n",
       "    }\n",
       "\n",
       "    this.imageObj = new Image();\n",
       "\n",
       "    this.context = undefined;\n",
       "    this.message = undefined;\n",
       "    this.canvas = undefined;\n",
       "    this.rubberband_canvas = undefined;\n",
       "    this.rubberband_context = undefined;\n",
       "    this.format_dropdown = undefined;\n",
       "\n",
       "    this.image_mode = 'full';\n",
       "\n",
       "    this.root = $('<div/>');\n",
       "    this._root_extra_style(this.root)\n",
       "    this.root.attr('style', 'display: inline-block');\n",
       "\n",
       "    $(parent_element).append(this.root);\n",
       "\n",
       "    this._init_header(this);\n",
       "    this._init_canvas(this);\n",
       "    this._init_toolbar(this);\n",
       "\n",
       "    var fig = this;\n",
       "\n",
       "    this.waiting = false;\n",
       "\n",
       "    this.ws.onopen =  function () {\n",
       "            fig.send_message(\"supports_binary\", {value: fig.supports_binary});\n",
       "            fig.send_message(\"send_image_mode\", {});\n",
       "            if (mpl.ratio != 1) {\n",
       "                fig.send_message(\"set_dpi_ratio\", {'dpi_ratio': mpl.ratio});\n",
       "            }\n",
       "            fig.send_message(\"refresh\", {});\n",
       "        }\n",
       "\n",
       "    this.imageObj.onload = function() {\n",
       "            if (fig.image_mode == 'full') {\n",
       "                // Full images could contain transparency (where diff images\n",
       "                // almost always do), so we need to clear the canvas so that\n",
       "                // there is no ghosting.\n",
       "                fig.context.clearRect(0, 0, fig.canvas.width, fig.canvas.height);\n",
       "            }\n",
       "            fig.context.drawImage(fig.imageObj, 0, 0);\n",
       "        };\n",
       "\n",
       "    this.imageObj.onunload = function() {\n",
       "        fig.ws.close();\n",
       "    }\n",
       "\n",
       "    this.ws.onmessage = this._make_on_message_function(this);\n",
       "\n",
       "    this.ondownload = ondownload;\n",
       "}\n",
       "\n",
       "mpl.figure.prototype._init_header = function() {\n",
       "    var titlebar = $(\n",
       "        '<div class=\"ui-dialog-titlebar ui-widget-header ui-corner-all ' +\n",
       "        'ui-helper-clearfix\"/>');\n",
       "    var titletext = $(\n",
       "        '<div class=\"ui-dialog-title\" style=\"width: 100%; ' +\n",
       "        'text-align: center; padding: 3px;\"/>');\n",
       "    titlebar.append(titletext)\n",
       "    this.root.append(titlebar);\n",
       "    this.header = titletext[0];\n",
       "}\n",
       "\n",
       "\n",
       "\n",
       "mpl.figure.prototype._canvas_extra_style = function(canvas_div) {\n",
       "\n",
       "}\n",
       "\n",
       "\n",
       "mpl.figure.prototype._root_extra_style = function(canvas_div) {\n",
       "\n",
       "}\n",
       "\n",
       "mpl.figure.prototype._init_canvas = function() {\n",
       "    var fig = this;\n",
       "\n",
       "    var canvas_div = $('<div/>');\n",
       "\n",
       "    canvas_div.attr('style', 'position: relative; clear: both; outline: 0');\n",
       "\n",
       "    function canvas_keyboard_event(event) {\n",
       "        return fig.key_event(event, event['data']);\n",
       "    }\n",
       "\n",
       "    canvas_div.keydown('key_press', canvas_keyboard_event);\n",
       "    canvas_div.keyup('key_release', canvas_keyboard_event);\n",
       "    this.canvas_div = canvas_div\n",
       "    this._canvas_extra_style(canvas_div)\n",
       "    this.root.append(canvas_div);\n",
       "\n",
       "    var canvas = $('<canvas/>');\n",
       "    canvas.addClass('mpl-canvas');\n",
       "    canvas.attr('style', \"left: 0; top: 0; z-index: 0; outline: 0\")\n",
       "\n",
       "    this.canvas = canvas[0];\n",
       "    this.context = canvas[0].getContext(\"2d\");\n",
       "\n",
       "    var backingStore = this.context.backingStorePixelRatio ||\n",
       "\tthis.context.webkitBackingStorePixelRatio ||\n",
       "\tthis.context.mozBackingStorePixelRatio ||\n",
       "\tthis.context.msBackingStorePixelRatio ||\n",
       "\tthis.context.oBackingStorePixelRatio ||\n",
       "\tthis.context.backingStorePixelRatio || 1;\n",
       "\n",
       "    mpl.ratio = (window.devicePixelRatio || 1) / backingStore;\n",
       "\n",
       "    var rubberband = $('<canvas/>');\n",
       "    rubberband.attr('style', \"position: absolute; left: 0; top: 0; z-index: 1;\")\n",
       "\n",
       "    var pass_mouse_events = true;\n",
       "\n",
       "    canvas_div.resizable({\n",
       "        start: function(event, ui) {\n",
       "            pass_mouse_events = false;\n",
       "        },\n",
       "        resize: function(event, ui) {\n",
       "            fig.request_resize(ui.size.width, ui.size.height);\n",
       "        },\n",
       "        stop: function(event, ui) {\n",
       "            pass_mouse_events = true;\n",
       "            fig.request_resize(ui.size.width, ui.size.height);\n",
       "        },\n",
       "    });\n",
       "\n",
       "    function mouse_event_fn(event) {\n",
       "        if (pass_mouse_events)\n",
       "            return fig.mouse_event(event, event['data']);\n",
       "    }\n",
       "\n",
       "    rubberband.mousedown('button_press', mouse_event_fn);\n",
       "    rubberband.mouseup('button_release', mouse_event_fn);\n",
       "    // Throttle sequential mouse events to 1 every 20ms.\n",
       "    rubberband.mousemove('motion_notify', mouse_event_fn);\n",
       "\n",
       "    rubberband.mouseenter('figure_enter', mouse_event_fn);\n",
       "    rubberband.mouseleave('figure_leave', mouse_event_fn);\n",
       "\n",
       "    canvas_div.on(\"wheel\", function (event) {\n",
       "        event = event.originalEvent;\n",
       "        event['data'] = 'scroll'\n",
       "        if (event.deltaY < 0) {\n",
       "            event.step = 1;\n",
       "        } else {\n",
       "            event.step = -1;\n",
       "        }\n",
       "        mouse_event_fn(event);\n",
       "    });\n",
       "\n",
       "    canvas_div.append(canvas);\n",
       "    canvas_div.append(rubberband);\n",
       "\n",
       "    this.rubberband = rubberband;\n",
       "    this.rubberband_canvas = rubberband[0];\n",
       "    this.rubberband_context = rubberband[0].getContext(\"2d\");\n",
       "    this.rubberband_context.strokeStyle = \"#000000\";\n",
       "\n",
       "    this._resize_canvas = function(width, height) {\n",
       "        // Keep the size of the canvas, canvas container, and rubber band\n",
       "        // canvas in synch.\n",
       "        canvas_div.css('width', width)\n",
       "        canvas_div.css('height', height)\n",
       "\n",
       "        canvas.attr('width', width * mpl.ratio);\n",
       "        canvas.attr('height', height * mpl.ratio);\n",
       "        canvas.attr('style', 'width: ' + width + 'px; height: ' + height + 'px;');\n",
       "\n",
       "        rubberband.attr('width', width);\n",
       "        rubberband.attr('height', height);\n",
       "    }\n",
       "\n",
       "    // Set the figure to an initial 600x600px, this will subsequently be updated\n",
       "    // upon first draw.\n",
       "    this._resize_canvas(600, 600);\n",
       "\n",
       "    // Disable right mouse context menu.\n",
       "    $(this.rubberband_canvas).bind(\"contextmenu\",function(e){\n",
       "        return false;\n",
       "    });\n",
       "\n",
       "    function set_focus () {\n",
       "        canvas.focus();\n",
       "        canvas_div.focus();\n",
       "    }\n",
       "\n",
       "    window.setTimeout(set_focus, 100);\n",
       "}\n",
       "\n",
       "mpl.figure.prototype._init_toolbar = function() {\n",
       "    var fig = this;\n",
       "\n",
       "    var nav_element = $('<div/>');\n",
       "    nav_element.attr('style', 'width: 100%');\n",
       "    this.root.append(nav_element);\n",
       "\n",
       "    // Define a callback function for later on.\n",
       "    function toolbar_event(event) {\n",
       "        return fig.toolbar_button_onclick(event['data']);\n",
       "    }\n",
       "    function toolbar_mouse_event(event) {\n",
       "        return fig.toolbar_button_onmouseover(event['data']);\n",
       "    }\n",
       "\n",
       "    for(var toolbar_ind in mpl.toolbar_items) {\n",
       "        var name = mpl.toolbar_items[toolbar_ind][0];\n",
       "        var tooltip = mpl.toolbar_items[toolbar_ind][1];\n",
       "        var image = mpl.toolbar_items[toolbar_ind][2];\n",
       "        var method_name = mpl.toolbar_items[toolbar_ind][3];\n",
       "\n",
       "        if (!name) {\n",
       "            // put a spacer in here.\n",
       "            continue;\n",
       "        }\n",
       "        var button = $('<button/>');\n",
       "        button.addClass('ui-button ui-widget ui-state-default ui-corner-all ' +\n",
       "                        'ui-button-icon-only');\n",
       "        button.attr('role', 'button');\n",
       "        button.attr('aria-disabled', 'false');\n",
       "        button.click(method_name, toolbar_event);\n",
       "        button.mouseover(tooltip, toolbar_mouse_event);\n",
       "\n",
       "        var icon_img = $('<span/>');\n",
       "        icon_img.addClass('ui-button-icon-primary ui-icon');\n",
       "        icon_img.addClass(image);\n",
       "        icon_img.addClass('ui-corner-all');\n",
       "\n",
       "        var tooltip_span = $('<span/>');\n",
       "        tooltip_span.addClass('ui-button-text');\n",
       "        tooltip_span.html(tooltip);\n",
       "\n",
       "        button.append(icon_img);\n",
       "        button.append(tooltip_span);\n",
       "\n",
       "        nav_element.append(button);\n",
       "    }\n",
       "\n",
       "    var fmt_picker_span = $('<span/>');\n",
       "\n",
       "    var fmt_picker = $('<select/>');\n",
       "    fmt_picker.addClass('mpl-toolbar-option ui-widget ui-widget-content');\n",
       "    fmt_picker_span.append(fmt_picker);\n",
       "    nav_element.append(fmt_picker_span);\n",
       "    this.format_dropdown = fmt_picker[0];\n",
       "\n",
       "    for (var ind in mpl.extensions) {\n",
       "        var fmt = mpl.extensions[ind];\n",
       "        var option = $(\n",
       "            '<option/>', {selected: fmt === mpl.default_extension}).html(fmt);\n",
       "        fmt_picker.append(option);\n",
       "    }\n",
       "\n",
       "    // Add hover states to the ui-buttons\n",
       "    $( \".ui-button\" ).hover(\n",
       "        function() { $(this).addClass(\"ui-state-hover\");},\n",
       "        function() { $(this).removeClass(\"ui-state-hover\");}\n",
       "    );\n",
       "\n",
       "    var status_bar = $('<span class=\"mpl-message\"/>');\n",
       "    nav_element.append(status_bar);\n",
       "    this.message = status_bar[0];\n",
       "}\n",
       "\n",
       "mpl.figure.prototype.request_resize = function(x_pixels, y_pixels) {\n",
       "    // Request matplotlib to resize the figure. Matplotlib will then trigger a resize in the client,\n",
       "    // which will in turn request a refresh of the image.\n",
       "    this.send_message('resize', {'width': x_pixels, 'height': y_pixels});\n",
       "}\n",
       "\n",
       "mpl.figure.prototype.send_message = function(type, properties) {\n",
       "    properties['type'] = type;\n",
       "    properties['figure_id'] = this.id;\n",
       "    this.ws.send(JSON.stringify(properties));\n",
       "}\n",
       "\n",
       "mpl.figure.prototype.send_draw_message = function() {\n",
       "    if (!this.waiting) {\n",
       "        this.waiting = true;\n",
       "        this.ws.send(JSON.stringify({type: \"draw\", figure_id: this.id}));\n",
       "    }\n",
       "}\n",
       "\n",
       "\n",
       "mpl.figure.prototype.handle_save = function(fig, msg) {\n",
       "    var format_dropdown = fig.format_dropdown;\n",
       "    var format = format_dropdown.options[format_dropdown.selectedIndex].value;\n",
       "    fig.ondownload(fig, format);\n",
       "}\n",
       "\n",
       "\n",
       "mpl.figure.prototype.handle_resize = function(fig, msg) {\n",
       "    var size = msg['size'];\n",
       "    if (size[0] != fig.canvas.width || size[1] != fig.canvas.height) {\n",
       "        fig._resize_canvas(size[0], size[1]);\n",
       "        fig.send_message(\"refresh\", {});\n",
       "    };\n",
       "}\n",
       "\n",
       "mpl.figure.prototype.handle_rubberband = function(fig, msg) {\n",
       "    var x0 = msg['x0'] / mpl.ratio;\n",
       "    var y0 = (fig.canvas.height - msg['y0']) / mpl.ratio;\n",
       "    var x1 = msg['x1'] / mpl.ratio;\n",
       "    var y1 = (fig.canvas.height - msg['y1']) / mpl.ratio;\n",
       "    x0 = Math.floor(x0) + 0.5;\n",
       "    y0 = Math.floor(y0) + 0.5;\n",
       "    x1 = Math.floor(x1) + 0.5;\n",
       "    y1 = Math.floor(y1) + 0.5;\n",
       "    var min_x = Math.min(x0, x1);\n",
       "    var min_y = Math.min(y0, y1);\n",
       "    var width = Math.abs(x1 - x0);\n",
       "    var height = Math.abs(y1 - y0);\n",
       "\n",
       "    fig.rubberband_context.clearRect(\n",
       "        0, 0, fig.canvas.width / mpl.ratio, fig.canvas.height / mpl.ratio);\n",
       "\n",
       "    fig.rubberband_context.strokeRect(min_x, min_y, width, height);\n",
       "}\n",
       "\n",
       "mpl.figure.prototype.handle_figure_label = function(fig, msg) {\n",
       "    // Updates the figure title.\n",
       "    fig.header.textContent = msg['label'];\n",
       "}\n",
       "\n",
       "mpl.figure.prototype.handle_cursor = function(fig, msg) {\n",
       "    var cursor = msg['cursor'];\n",
       "    switch(cursor)\n",
       "    {\n",
       "    case 0:\n",
       "        cursor = 'pointer';\n",
       "        break;\n",
       "    case 1:\n",
       "        cursor = 'default';\n",
       "        break;\n",
       "    case 2:\n",
       "        cursor = 'crosshair';\n",
       "        break;\n",
       "    case 3:\n",
       "        cursor = 'move';\n",
       "        break;\n",
       "    }\n",
       "    fig.rubberband_canvas.style.cursor = cursor;\n",
       "}\n",
       "\n",
       "mpl.figure.prototype.handle_message = function(fig, msg) {\n",
       "    fig.message.textContent = msg['message'];\n",
       "}\n",
       "\n",
       "mpl.figure.prototype.handle_draw = function(fig, msg) {\n",
       "    // Request the server to send over a new figure.\n",
       "    fig.send_draw_message();\n",
       "}\n",
       "\n",
       "mpl.figure.prototype.handle_image_mode = function(fig, msg) {\n",
       "    fig.image_mode = msg['mode'];\n",
       "}\n",
       "\n",
       "mpl.figure.prototype.updated_canvas_event = function() {\n",
       "    // Called whenever the canvas gets updated.\n",
       "    this.send_message(\"ack\", {});\n",
       "}\n",
       "\n",
       "// A function to construct a web socket function for onmessage handling.\n",
       "// Called in the figure constructor.\n",
       "mpl.figure.prototype._make_on_message_function = function(fig) {\n",
       "    return function socket_on_message(evt) {\n",
       "        if (evt.data instanceof Blob) {\n",
       "            /* FIXME: We get \"Resource interpreted as Image but\n",
       "             * transferred with MIME type text/plain:\" errors on\n",
       "             * Chrome.  But how to set the MIME type?  It doesn't seem\n",
       "             * to be part of the websocket stream */\n",
       "            evt.data.type = \"image/png\";\n",
       "\n",
       "            /* Free the memory for the previous frames */\n",
       "            if (fig.imageObj.src) {\n",
       "                (window.URL || window.webkitURL).revokeObjectURL(\n",
       "                    fig.imageObj.src);\n",
       "            }\n",
       "\n",
       "            fig.imageObj.src = (window.URL || window.webkitURL).createObjectURL(\n",
       "                evt.data);\n",
       "            fig.updated_canvas_event();\n",
       "            fig.waiting = false;\n",
       "            return;\n",
       "        }\n",
       "        else if (typeof evt.data === 'string' && evt.data.slice(0, 21) == \"data:image/png;base64\") {\n",
       "            fig.imageObj.src = evt.data;\n",
       "            fig.updated_canvas_event();\n",
       "            fig.waiting = false;\n",
       "            return;\n",
       "        }\n",
       "\n",
       "        var msg = JSON.parse(evt.data);\n",
       "        var msg_type = msg['type'];\n",
       "\n",
       "        // Call the  \"handle_{type}\" callback, which takes\n",
       "        // the figure and JSON message as its only arguments.\n",
       "        try {\n",
       "            var callback = fig[\"handle_\" + msg_type];\n",
       "        } catch (e) {\n",
       "            console.log(\"No handler for the '\" + msg_type + \"' message type: \", msg);\n",
       "            return;\n",
       "        }\n",
       "\n",
       "        if (callback) {\n",
       "            try {\n",
       "                // console.log(\"Handling '\" + msg_type + \"' message: \", msg);\n",
       "                callback(fig, msg);\n",
       "            } catch (e) {\n",
       "                console.log(\"Exception inside the 'handler_\" + msg_type + \"' callback:\", e, e.stack, msg);\n",
       "            }\n",
       "        }\n",
       "    };\n",
       "}\n",
       "\n",
       "// from http://stackoverflow.com/questions/1114465/getting-mouse-location-in-canvas\n",
       "mpl.findpos = function(e) {\n",
       "    //this section is from http://www.quirksmode.org/js/events_properties.html\n",
       "    var targ;\n",
       "    if (!e)\n",
       "        e = window.event;\n",
       "    if (e.target)\n",
       "        targ = e.target;\n",
       "    else if (e.srcElement)\n",
       "        targ = e.srcElement;\n",
       "    if (targ.nodeType == 3) // defeat Safari bug\n",
       "        targ = targ.parentNode;\n",
       "\n",
       "    // jQuery normalizes the pageX and pageY\n",
       "    // pageX,Y are the mouse positions relative to the document\n",
       "    // offset() returns the position of the element relative to the document\n",
       "    var x = e.pageX - $(targ).offset().left;\n",
       "    var y = e.pageY - $(targ).offset().top;\n",
       "\n",
       "    return {\"x\": x, \"y\": y};\n",
       "};\n",
       "\n",
       "/*\n",
       " * return a copy of an object with only non-object keys\n",
       " * we need this to avoid circular references\n",
       " * http://stackoverflow.com/a/24161582/3208463\n",
       " */\n",
       "function simpleKeys (original) {\n",
       "  return Object.keys(original).reduce(function (obj, key) {\n",
       "    if (typeof original[key] !== 'object')\n",
       "        obj[key] = original[key]\n",
       "    return obj;\n",
       "  }, {});\n",
       "}\n",
       "\n",
       "mpl.figure.prototype.mouse_event = function(event, name) {\n",
       "    var canvas_pos = mpl.findpos(event)\n",
       "\n",
       "    if (name === 'button_press')\n",
       "    {\n",
       "        this.canvas.focus();\n",
       "        this.canvas_div.focus();\n",
       "    }\n",
       "\n",
       "    var x = canvas_pos.x * mpl.ratio;\n",
       "    var y = canvas_pos.y * mpl.ratio;\n",
       "\n",
       "    this.send_message(name, {x: x, y: y, button: event.button,\n",
       "                             step: event.step,\n",
       "                             guiEvent: simpleKeys(event)});\n",
       "\n",
       "    /* This prevents the web browser from automatically changing to\n",
       "     * the text insertion cursor when the button is pressed.  We want\n",
       "     * to control all of the cursor setting manually through the\n",
       "     * 'cursor' event from matplotlib */\n",
       "    event.preventDefault();\n",
       "    return false;\n",
       "}\n",
       "\n",
       "mpl.figure.prototype._key_event_extra = function(event, name) {\n",
       "    // Handle any extra behaviour associated with a key event\n",
       "}\n",
       "\n",
       "mpl.figure.prototype.key_event = function(event, name) {\n",
       "\n",
       "    // Prevent repeat events\n",
       "    if (name == 'key_press')\n",
       "    {\n",
       "        if (event.which === this._key)\n",
       "            return;\n",
       "        else\n",
       "            this._key = event.which;\n",
       "    }\n",
       "    if (name == 'key_release')\n",
       "        this._key = null;\n",
       "\n",
       "    var value = '';\n",
       "    if (event.ctrlKey && event.which != 17)\n",
       "        value += \"ctrl+\";\n",
       "    if (event.altKey && event.which != 18)\n",
       "        value += \"alt+\";\n",
       "    if (event.shiftKey && event.which != 16)\n",
       "        value += \"shift+\";\n",
       "\n",
       "    value += 'k';\n",
       "    value += event.which.toString();\n",
       "\n",
       "    this._key_event_extra(event, name);\n",
       "\n",
       "    this.send_message(name, {key: value,\n",
       "                             guiEvent: simpleKeys(event)});\n",
       "    return false;\n",
       "}\n",
       "\n",
       "mpl.figure.prototype.toolbar_button_onclick = function(name) {\n",
       "    if (name == 'download') {\n",
       "        this.handle_save(this, null);\n",
       "    } else {\n",
       "        this.send_message(\"toolbar_button\", {name: name});\n",
       "    }\n",
       "};\n",
       "\n",
       "mpl.figure.prototype.toolbar_button_onmouseover = function(tooltip) {\n",
       "    this.message.textContent = tooltip;\n",
       "};\n",
       "mpl.toolbar_items = [[\"Home\", \"Reset original view\", \"fa fa-home icon-home\", \"home\"], [\"Back\", \"Back to previous view\", \"fa fa-arrow-left icon-arrow-left\", \"back\"], [\"Forward\", \"Forward to next view\", \"fa fa-arrow-right icon-arrow-right\", \"forward\"], [\"\", \"\", \"\", \"\"], [\"Pan\", \"Pan axes with left mouse, zoom with right\", \"fa fa-arrows icon-move\", \"pan\"], [\"Zoom\", \"Zoom to rectangle\", \"fa fa-square-o icon-check-empty\", \"zoom\"], [\"\", \"\", \"\", \"\"], [\"Download\", \"Download plot\", \"fa fa-floppy-o icon-save\", \"download\"]];\n",
       "\n",
       "mpl.extensions = [\"eps\", \"pdf\", \"png\", \"ps\", \"raw\", \"svg\"];\n",
       "\n",
       "mpl.default_extension = \"png\";var comm_websocket_adapter = function(comm) {\n",
       "    // Create a \"websocket\"-like object which calls the given IPython comm\n",
       "    // object with the appropriate methods. Currently this is a non binary\n",
       "    // socket, so there is still some room for performance tuning.\n",
       "    var ws = {};\n",
       "\n",
       "    ws.close = function() {\n",
       "        comm.close()\n",
       "    };\n",
       "    ws.send = function(m) {\n",
       "        //console.log('sending', m);\n",
       "        comm.send(m);\n",
       "    };\n",
       "    // Register the callback with on_msg.\n",
       "    comm.on_msg(function(msg) {\n",
       "        //console.log('receiving', msg['content']['data'], msg);\n",
       "        // Pass the mpl event to the overridden (by mpl) onmessage function.\n",
       "        ws.onmessage(msg['content']['data'])\n",
       "    });\n",
       "    return ws;\n",
       "}\n",
       "\n",
       "mpl.mpl_figure_comm = function(comm, msg) {\n",
       "    // This is the function which gets called when the mpl process\n",
       "    // starts-up an IPython Comm through the \"matplotlib\" channel.\n",
       "\n",
       "    var id = msg.content.data.id;\n",
       "    // Get hold of the div created by the display call when the Comm\n",
       "    // socket was opened in Python.\n",
       "    var element = $(\"#\" + id);\n",
       "    var ws_proxy = comm_websocket_adapter(comm)\n",
       "\n",
       "    function ondownload(figure, format) {\n",
       "        window.open(figure.imageObj.src);\n",
       "    }\n",
       "\n",
       "    var fig = new mpl.figure(id, ws_proxy,\n",
       "                           ondownload,\n",
       "                           element.get(0));\n",
       "\n",
       "    // Call onopen now - mpl needs it, as it is assuming we've passed it a real\n",
       "    // web socket which is closed, not our websocket->open comm proxy.\n",
       "    ws_proxy.onopen();\n",
       "\n",
       "    fig.parent_element = element.get(0);\n",
       "    fig.cell_info = mpl.find_output_cell(\"<div id='\" + id + \"'></div>\");\n",
       "    if (!fig.cell_info) {\n",
       "        console.error(\"Failed to find cell for figure\", id, fig);\n",
       "        return;\n",
       "    }\n",
       "\n",
       "    var output_index = fig.cell_info[2]\n",
       "    var cell = fig.cell_info[0];\n",
       "\n",
       "};\n",
       "\n",
       "mpl.figure.prototype.handle_close = function(fig, msg) {\n",
       "    var width = fig.canvas.width/mpl.ratio\n",
       "    fig.root.unbind('remove')\n",
       "\n",
       "    // Update the output cell to use the data from the current canvas.\n",
       "    fig.push_to_output();\n",
       "    var dataURL = fig.canvas.toDataURL();\n",
       "    // Re-enable the keyboard manager in IPython - without this line, in FF,\n",
       "    // the notebook keyboard shortcuts fail.\n",
       "    IPython.keyboard_manager.enable()\n",
       "    $(fig.parent_element).html('<img src=\"' + dataURL + '\" width=\"' + width + '\">');\n",
       "    fig.close_ws(fig, msg);\n",
       "}\n",
       "\n",
       "mpl.figure.prototype.close_ws = function(fig, msg){\n",
       "    fig.send_message('closing', msg);\n",
       "    // fig.ws.close()\n",
       "}\n",
       "\n",
       "mpl.figure.prototype.push_to_output = function(remove_interactive) {\n",
       "    // Turn the data on the canvas into data in the output cell.\n",
       "    var width = this.canvas.width/mpl.ratio\n",
       "    var dataURL = this.canvas.toDataURL();\n",
       "    this.cell_info[1]['text/html'] = '<img src=\"' + dataURL + '\" width=\"' + width + '\">';\n",
       "}\n",
       "\n",
       "mpl.figure.prototype.updated_canvas_event = function() {\n",
       "    // Tell IPython that the notebook contents must change.\n",
       "    IPython.notebook.set_dirty(true);\n",
       "    this.send_message(\"ack\", {});\n",
       "    var fig = this;\n",
       "    // Wait a second, then push the new image to the DOM so\n",
       "    // that it is saved nicely (might be nice to debounce this).\n",
       "    setTimeout(function () { fig.push_to_output() }, 1000);\n",
       "}\n",
       "\n",
       "mpl.figure.prototype._init_toolbar = function() {\n",
       "    var fig = this;\n",
       "\n",
       "    var nav_element = $('<div/>');\n",
       "    nav_element.attr('style', 'width: 100%');\n",
       "    this.root.append(nav_element);\n",
       "\n",
       "    // Define a callback function for later on.\n",
       "    function toolbar_event(event) {\n",
       "        return fig.toolbar_button_onclick(event['data']);\n",
       "    }\n",
       "    function toolbar_mouse_event(event) {\n",
       "        return fig.toolbar_button_onmouseover(event['data']);\n",
       "    }\n",
       "\n",
       "    for(var toolbar_ind in mpl.toolbar_items){\n",
       "        var name = mpl.toolbar_items[toolbar_ind][0];\n",
       "        var tooltip = mpl.toolbar_items[toolbar_ind][1];\n",
       "        var image = mpl.toolbar_items[toolbar_ind][2];\n",
       "        var method_name = mpl.toolbar_items[toolbar_ind][3];\n",
       "\n",
       "        if (!name) { continue; };\n",
       "\n",
       "        var button = $('<button class=\"btn btn-default\" href=\"#\" title=\"' + name + '\"><i class=\"fa ' + image + ' fa-lg\"></i></button>');\n",
       "        button.click(method_name, toolbar_event);\n",
       "        button.mouseover(tooltip, toolbar_mouse_event);\n",
       "        nav_element.append(button);\n",
       "    }\n",
       "\n",
       "    // Add the status bar.\n",
       "    var status_bar = $('<span class=\"mpl-message\" style=\"text-align:right; float: right;\"/>');\n",
       "    nav_element.append(status_bar);\n",
       "    this.message = status_bar[0];\n",
       "\n",
       "    // Add the close button to the window.\n",
       "    var buttongrp = $('<div class=\"btn-group inline pull-right\"></div>');\n",
       "    var button = $('<button class=\"btn btn-mini btn-primary\" href=\"#\" title=\"Stop Interaction\"><i class=\"fa fa-power-off icon-remove icon-large\"></i></button>');\n",
       "    button.click(function (evt) { fig.handle_close(fig, {}); } );\n",
       "    button.mouseover('Stop Interaction', toolbar_mouse_event);\n",
       "    buttongrp.append(button);\n",
       "    var titlebar = this.root.find($('.ui-dialog-titlebar'));\n",
       "    titlebar.prepend(buttongrp);\n",
       "}\n",
       "\n",
       "mpl.figure.prototype._root_extra_style = function(el){\n",
       "    var fig = this\n",
       "    el.on(\"remove\", function(){\n",
       "\tfig.close_ws(fig, {});\n",
       "    });\n",
       "}\n",
       "\n",
       "mpl.figure.prototype._canvas_extra_style = function(el){\n",
       "    // this is important to make the div 'focusable\n",
       "    el.attr('tabindex', 0)\n",
       "    // reach out to IPython and tell the keyboard manager to turn it's self\n",
       "    // off when our div gets focus\n",
       "\n",
       "    // location in version 3\n",
       "    if (IPython.notebook.keyboard_manager) {\n",
       "        IPython.notebook.keyboard_manager.register_events(el);\n",
       "    }\n",
       "    else {\n",
       "        // location in version 2\n",
       "        IPython.keyboard_manager.register_events(el);\n",
       "    }\n",
       "\n",
       "}\n",
       "\n",
       "mpl.figure.prototype._key_event_extra = function(event, name) {\n",
       "    var manager = IPython.notebook.keyboard_manager;\n",
       "    if (!manager)\n",
       "        manager = IPython.keyboard_manager;\n",
       "\n",
       "    // Check for shift+enter\n",
       "    if (event.shiftKey && event.which == 13) {\n",
       "        this.canvas_div.blur();\n",
       "        // select the cell after this one\n",
       "        var index = IPython.notebook.find_cell_index(this.cell_info[0]);\n",
       "        IPython.notebook.select(index + 1);\n",
       "    }\n",
       "}\n",
       "\n",
       "mpl.figure.prototype.handle_save = function(fig, msg) {\n",
       "    fig.ondownload(fig, null);\n",
       "}\n",
       "\n",
       "\n",
       "mpl.find_output_cell = function(html_output) {\n",
       "    // Return the cell and output element which can be found *uniquely* in the notebook.\n",
       "    // Note - this is a bit hacky, but it is done because the \"notebook_saving.Notebook\"\n",
       "    // IPython event is triggered only after the cells have been serialised, which for\n",
       "    // our purposes (turning an active figure into a static one), is too late.\n",
       "    var cells = IPython.notebook.get_cells();\n",
       "    var ncells = cells.length;\n",
       "    for (var i=0; i<ncells; i++) {\n",
       "        var cell = cells[i];\n",
       "        if (cell.cell_type === 'code'){\n",
       "            for (var j=0; j<cell.output_area.outputs.length; j++) {\n",
       "                var data = cell.output_area.outputs[j];\n",
       "                if (data.data) {\n",
       "                    // IPython >= 3 moved mimebundle to data attribute of output\n",
       "                    data = data.data;\n",
       "                }\n",
       "                if (data['text/html'] == html_output) {\n",
       "                    return [cell, data, j];\n",
       "                }\n",
       "            }\n",
       "        }\n",
       "    }\n",
       "}\n",
       "\n",
       "// Register the function which deals with the matplotlib target/channel.\n",
       "// The kernel may be null if the page has been refreshed.\n",
       "if (IPython.notebook.kernel != null) {\n",
       "    IPython.notebook.kernel.comm_manager.register_target('matplotlib', mpl.mpl_figure_comm);\n",
       "}\n"
      ],
      "text/plain": [
       "<IPython.core.display.Javascript object>"
      ]
     },
     "metadata": {},
     "output_type": "display_data"
    },
    {
     "data": {
      "text/html": [
       "<img src=\"data:image/png;base64,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\" width=\"400\">"
      ],
      "text/plain": [
       "<IPython.core.display.HTML object>"
      ]
     },
     "metadata": {},
     "output_type": "display_data"
    }
   ],
   "source": [
    "fig, ax = plt.subplots(figsize=(4, 3))\n",
    "ax.hist(abs(nd_eri0_ao.ravel() - eri1_ao.ravel()), bins=np.logspace(np.log10(1e-12), np.log10(1e-2), 50), alpha=0.5)\n",
    "ax.hist(abs(nd_eri0_ao.ravel()), bins=np.logspace(np.log10(1e-12), np.log10(1e-2), 50), alpha=0.5)\n",
    "ax.set_xscale(\"log\")\n",
    "fig.tight_layout()"
   ]
  },
  {
   "cell_type": "markdown",
   "metadata": {},
   "source": [
    "## 电子态能量导数"
   ]
  },
  {
   "cell_type": "markdown",
   "metadata": {},
   "source": [
    "有了上面的准备工作之后，我们就可以求取电子态能量在原子核坐标分量下的导数 `E_1` $\\partial_{A_t} E_\\mathrm{elec}$ 了。在此之前，我们对任意变量的能量导数作叙述。\n",
    "\n",
    "根据\n",
    "\n",
    "$$\n",
    "E_\\mathrm{elec} = h_{\\mu \\nu} D_{\\mu \\nu} + \\frac{1}{2} D_{\\mu \\nu} (\\mu \\nu | \\kappa \\lambda) D_{\\kappa \\lambda} - \\frac{1}{4} D_{\\mu \\nu} (\\mu \\kappa | \\nu \\lambda) D_{\\kappa \\lambda}\n",
    "$$\n",
    "\n",
    "我们有\n",
    "\n",
    "$$\n",
    "\\begin{align}\n",
    "\\frac{\\partial E_\\mathrm{elec}}{\\partial \\mathbb{A}}\n",
    "&= \\frac{\\partial h_{\\mu \\nu}}{\\partial \\mathbb{A}} D_{\\mu \\nu} + \\frac{1}{2} D_{\\mu \\nu} \\frac{\\partial (\\mu \\nu | \\kappa \\lambda)}{\\partial \\mathbb{A}} D_{\\kappa \\lambda} - \\frac{1}{4} D_{\\mu \\nu} \\frac{\\partial (\\mu \\kappa | \\nu \\lambda)}{\\partial \\mathbb{A}} D_{\\kappa \\lambda} + F_{\\mu \\nu} \\frac{\\partial D_{\\mu \\nu}}{\\partial \\mathbb{A}} \\\\\n",
    "&= \\left( h_{\\mu \\nu}^\\mathbb{A} + \\frac{1}{2} (\\mu \\nu | \\kappa \\lambda)^\\mathbb{A} D_{\\kappa \\lambda} - \\frac{1}{4} (\\mu \\kappa | \\nu \\lambda)^\\mathbb{A} D_{\\kappa \\lambda} \\right) D_{\\mu \\nu} - 2 F_{ij} S_{ij}^\\mathbb{A}\n",
    "\\end{align}\n",
    "$$\n",
    "\n",
    "这与在上一篇文档求取 $S_{\\mu \\nu}^t$ 的推演非常类似，使用到的也几乎仅仅是链式法则。\n",
    "\n",
    "关于 $F_{\\mu \\nu} \\frac{\\partial D_{\\mu \\nu}}{\\partial \\mathbb{A}}$ 一项是如何出现的，请参考上一份文档的 [任务 (3)](dip_rhf_skeleton.ipynb#任务-(3))。"
   ]
  },
  {
   "cell_type": "markdown",
   "metadata": {},
   "source": [
    "<div class=\"alert alert-info\">\n",
    "\n",
    "**任务 (6)**\n",
    "\n",
    "请证明\n",
    "\n",
    "$$\n",
    "\\frac{\\partial E_\\mathrm{elec}}{\\partial \\mathbb{A}} \\leftarrow F_{\\mu \\nu} \\frac{\\partial D_{\\mu \\nu}}{\\partial \\mathbb{A}} = - 2 F_{ij} S_{ij}^\\mathbb{A}\n",
    "$$\n",
    "\n",
    "上式等式左对 $\\mu, \\nu$ 求和，等式右对 $i, j$ 求和。\n",
    "\n",
    "</div>"
   ]
  },
  {
   "cell_type": "markdown",
   "metadata": {},
   "source": [
    "上面的表达式对于 RHF 方法，是具有普适性的；因此，普适的 $\\mathbb{A}$ 替换为特化的 $A_t$ 后，有电子态能量在原子核坐标分量下的导数\n",
    "\n",
    "$$\n",
    "\\frac{\\partial E_\\mathrm{elec}}{\\partial A_t} = \\left( h_{\\mu \\nu}^{A_t} + \\frac{1}{2} (\\mu \\nu | \\kappa \\lambda)^{A_t} D_{\\kappa \\lambda} - \\frac{1}{4} (\\mu \\kappa | \\nu \\lambda)^{A_t} D_{\\kappa \\lambda} \\right) D_{\\mu \\nu} - 2 F_{ij} S_{ij}^{A_t}\n",
    "$$\n",
    "\n",
    "为程序编写的方便，我们也可以拆开写为\n",
    "\n",
    "$$\n",
    "\\frac{\\partial E_\\mathrm{elec}}{\\partial A_t} = h_{\\mu \\nu}^{A_t} D_{\\mu \\nu} + \\frac{1}{2} (\\mu \\nu | \\kappa \\lambda)^{A_t} D_{\\mu \\nu} D_{\\kappa \\lambda} - \\frac{1}{4} (\\mu \\kappa | \\nu \\lambda)^{A_t} D_{\\mu \\nu} D_{\\kappa \\lambda}  - 2 F_{ij} S_{ij}^{A_t}\n",
    "$$"
   ]
  },
  {
   "cell_type": "markdown",
   "metadata": {},
   "source": [
    "该导数可以在程序中写作 `E_1_elec` $\\partial_{A_t} E_\\mathrm{elec}$；在此之前我们先生成 `S_1_mo` $S_{ij}^{A_t}$：\n",
    "\n",
    "$$\n",
    "S_{pq}^{A_t} = C_{\\mu p} S_{\\mu \\nu}^{A_t} C_{\\nu q}\n",
    "$$"
   ]
  },
  {
   "cell_type": "code",
   "execution_count": 37,
   "metadata": {},
   "outputs": [],
   "source": [
    "S_1_mo = np.einsum(\"up, Atuv, vq -> Atpq\", C, S_1_ao, C)"
   ]
  },
  {
   "cell_type": "code",
   "execution_count": 38,
   "metadata": {},
   "outputs": [
    {
     "data": {
      "text/plain": [
       "array([[-1.13535, -0.32849, -8.72549],\n",
       "       [-0.34059, -3.84987,  8.36218],\n",
       "       [ 1.50674, -0.01438, -0.37139],\n",
       "       [-0.03081,  4.19273,  0.73471]])"
      ]
     },
     "execution_count": 38,
     "metadata": {},
     "output_type": "execute_result"
    }
   ],
   "source": [
    "E_1_elec = (\n",
    "    +        np.einsum(\"Atuv, uv -> At\", H_1_ao, D)\n",
    "    + 0.5  * np.einsum(\"Atuvkl, uv, kl -> At\", eri1_ao, D, D)\n",
    "    - 0.25 * np.einsum(\"Atukvl, uv, kl -> At\", eri1_ao, D, D)\n",
    "    - 2    * np.einsum(\"ij, Atij -> At\", F_0_mo[so, so], S_1_mo[:, :, so, so])\n",
    ")\n",
    "E_1_elec"
   ]
  },
  {
   "cell_type": "markdown",
   "metadata": {},
   "source": [
    "通过数值导数，我们也能得到 `nd_E_0_elec` $\\partial_{A_t} E_\\mathrm{elec}$："
   ]
  },
  {
   "cell_type": "code",
   "execution_count": 39,
   "metadata": {},
   "outputs": [
    {
     "data": {
      "text/plain": [
       "array([[-1.13535, -0.32849, -8.72549],\n",
       "       [-0.34059, -3.84987,  8.36218],\n",
       "       [ 1.50674, -0.01438, -0.37139],\n",
       "       [-0.03081,  4.19273,  0.73471]])"
      ]
     },
     "execution_count": 39,
     "metadata": {},
     "output_type": "execute_result"
    }
   ],
   "source": [
    "nd_E_0_elec = NumericDiff(gradn, lambda gradh: gradh.scf_eng.energy_elec()[0]).derivative.reshape(natm, 3)\n",
    "nd_E_0_elec"
   ]
  },
  {
   "cell_type": "markdown",
   "metadata": {},
   "source": [
    "下面我们对比数值导数与解析导数之间的差别。由于能量梯度是最终的结果，我们用更严苛的 np.allclose 来验证结果："
   ]
  },
  {
   "cell_type": "code",
   "execution_count": 40,
   "metadata": {},
   "outputs": [
    {
     "data": {
      "text/plain": [
       "True"
      ]
     },
     "execution_count": 40,
     "metadata": {},
     "output_type": "execute_result"
    }
   ],
   "source": [
    "np.allclose(E_1_elec, nd_E_0_elec)"
   ]
  },
  {
   "cell_type": "markdown",
   "metadata": {},
   "source": [
    "## 原子核互斥能导数"
   ]
  },
  {
   "cell_type": "markdown",
   "metadata": {},
   "source": [
    "这一段我们暂时不用 Einstein Summation。\n",
    "\n",
    "我们回顾原子核互斥能的计算：\n",
    "\n",
    "$$\n",
    "E_\\mathrm{nuc} = \\frac{1}{2} \\sum_{M N} \\frac{Z_M Z_N}{| \\boldsymbol{M} - \\boldsymbol{N} |} = \\frac{1}{2} \\sum_{M N} Z_{MN} r_{MN}^{-1}\n",
    "$$\n",
    "\n",
    "其中，$M, N$ 为原子角标，\n",
    "\n",
    "$$\n",
    "\\begin{align}\n",
    "Z_{MN} &= Z_M Z_N \\\\\n",
    "r_{MN} &= | \\boldsymbol{M} - \\boldsymbol{N} |\n",
    "\\end{align}\n",
    "$$"
   ]
  },
  {
   "cell_type": "markdown",
   "metadata": {},
   "source": [
    "现在，我们对上式作关于 $A_t$ 的导数：\n",
    "\n",
    "$$\n",
    "\\frac{\\partial E_\\mathrm{nuc}}{\\partial A_t} = \\frac{1}{2} \\sum_{M N} Z_{MN} \\frac{\\partial}{\\partial A_t} r_{MN}^{-1}\n",
    "$$"
   ]
  },
  {
   "cell_type": "markdown",
   "metadata": {},
   "source": [
    "到这里我们先回顾 $r_{MN}$ 的定义：\n",
    "\n",
    "$$\n",
    "r_{MN} = \\sqrt{\\sum_{t} (M_t - N_t)^2}\n",
    "$$"
   ]
  },
  {
   "cell_type": "markdown",
   "metadata": {},
   "source": [
    "因此，\n",
    "\n",
    "$$\n",
    "\\begin{align}\n",
    "\\frac{\\partial}{\\partial A_t} r_{MN}^{-1}\n",
    "&= \\frac{\\partial}{\\partial A_t} \\left( \\sum_t (M_t - N_t)^2 \\right)^{-1/2} \\\\\n",
    "&= - \\frac{1}{2} \\left( \\sum_t (M_t - N_t)^2 \\right)^{-3/2} \\frac{\\partial}{\\partial A_t} \\sum_t (M_t - N_t)^2 \\\\\n",
    "&= - r_{MN}^{-3} (M_t - N_t) (\\delta_{MA} - \\delta_{NA})\n",
    "\\end{align}\n",
    "$$"
   ]
  },
  {
   "cell_type": "markdown",
   "metadata": {},
   "source": [
    "为了程序实现的便利，我们会定义\n",
    "\n",
    "$$\n",
    "V_{MNt} = M_t - N_t\n",
    "$$\n",
    "\n",
    "该张量会具有 $V_{MNt} = - V_{NMt}$ 的反对称性质。因此，"
   ]
  },
  {
   "cell_type": "markdown",
   "metadata": {},
   "source": [
    "$$\n",
    "\\begin{align}\n",
    "\\frac{\\partial E_\\mathrm{nuc}}{\\partial A_t}\n",
    "&= - \\frac{1}{2} \\sum_{M N} Z_{MN} r_{MN}^{-3} V_{MNt} (\\delta_{MA} - \\delta_{NA}) \\\\\n",
    "&= - \\frac{1}{2} \\left( \\sum_{N} Z_{AN} r_{AN}^{-3} V_{ANt} - \\sum_{M} Z_{MA} r_{MA}^{-3/2} V_{MAt} \\right) \\\\\n",
    "&= - \\sum_M Z_{AM} r_{AM}^{-3} V_{AMt}\n",
    "\\end{align}\n",
    "$$"
   ]
  },
  {
   "cell_type": "markdown",
   "metadata": {},
   "source": [
    "在程序中，我们定义\n",
    "\n",
    "- `nuc_Z` $Z_{MN}$\n",
    "\n",
    "- `nuc_rinv` $r_{MN}^{-1}$\n",
    "\n",
    "- `nuc_V` $V_{MNt}$"
   ]
  },
  {
   "cell_type": "code",
   "execution_count": 41,
   "metadata": {},
   "outputs": [],
   "source": [
    "nuc_Z = np.einsum(\"M, N -> MN\", mol.atom_charges(), mol.atom_charges())\n",
    "nuc_V = lib.direct_sum(\"Mt - Nt -> MNt\", mol.atom_coords(), mol.atom_coords())\n",
    "nuc_rinv = 1 / (np.linalg.norm(nuc_V, axis=2) + np.diag([np.inf] * natm))"
   ]
  },
  {
   "cell_type": "markdown",
   "metadata": {},
   "source": [
    "那么，程序实现 `E_1_nuc` $\\partial_{A_t} E_\\mathrm{nuc}$ 可以表示如下："
   ]
  },
  {
   "cell_type": "code",
   "execution_count": 42,
   "metadata": {},
   "outputs": [
    {
     "data": {
      "text/plain": [
       "array([[ 0.99566,  0.34575,  8.70615],\n",
       "       [ 0.35202,  4.57189, -8.31727],\n",
       "       [-1.38536,  0.01759,  0.3897 ],\n",
       "       [ 0.03768, -4.93523, -0.77858]])"
      ]
     },
     "execution_count": 42,
     "metadata": {},
     "output_type": "execute_result"
    }
   ],
   "source": [
    "E_1_nuc = - np.einsum(\"AM, AM, AMt -> At\", nuc_Z, nuc_rinv**3, nuc_V)\n",
    "E_1_nuc"
   ]
  },
  {
   "cell_type": "markdown",
   "metadata": {},
   "source": [
    "我们也可以用过数值导数方式给出 `nd_E_0_nuc` $\\partial_{A_t} E_\\mathrm{nuc}$："
   ]
  },
  {
   "cell_type": "code",
   "execution_count": 43,
   "metadata": {},
   "outputs": [
    {
     "data": {
      "text/plain": [
       "array([[ 0.99566,  0.34575,  8.70615],\n",
       "       [ 0.35202,  4.5719 , -8.31727],\n",
       "       [-1.38536,  0.01759,  0.3897 ],\n",
       "       [ 0.03768, -4.93523, -0.77858]])"
      ]
     },
     "execution_count": 43,
     "metadata": {},
     "output_type": "execute_result"
    }
   ],
   "source": [
    "nd_E_0_nuc = NumericDiff(gradn, lambda gradh: gradh.scf_eng.energy_nuc()).derivative.reshape(natm, 3)\n",
    "nd_E_0_nuc"
   ]
  },
  {
   "cell_type": "markdown",
   "metadata": {},
   "source": [
    "可以验证，数值导数与解析导数之间近乎相等："
   ]
  },
  {
   "cell_type": "code",
   "execution_count": 44,
   "metadata": {},
   "outputs": [
    {
     "data": {
      "text/plain": [
       "True"
      ]
     },
     "execution_count": 44,
     "metadata": {},
     "output_type": "execute_result"
    }
   ],
   "source": [
    "np.allclose(E_1_nuc, nd_E_0_nuc)"
   ]
  },
  {
   "cell_type": "markdown",
   "metadata": {},
   "source": [
    "## 分子总能量导数"
   ]
  },
  {
   "cell_type": "markdown",
   "metadata": {},
   "source": [
    "综上，整个分子最终的能量导数为 `E_1`\n",
    "\n",
    "$$\n",
    "\\frac{\\partial E}{\\partial A_t} = \\frac{\\partial E_\\mathrm{elec}}{\\partial A_t} + \\frac{\\partial E_\\mathrm{nuc}}{\\partial A_t}\n",
    "$$"
   ]
  },
  {
   "cell_type": "code",
   "execution_count": 45,
   "metadata": {},
   "outputs": [
    {
     "data": {
      "text/plain": [
       "array([[-0.13969,  0.01726, -0.01934],\n",
       "       [ 0.01143,  0.72202,  0.04491],\n",
       "       [ 0.12139,  0.00321,  0.01831],\n",
       "       [ 0.00688, -0.7425 , -0.04387]])"
      ]
     },
     "execution_count": 45,
     "metadata": {},
     "output_type": "execute_result"
    }
   ],
   "source": [
    "E_1 = E_1_elec + E_1_nuc\n",
    "E_1"
   ]
  },
  {
   "cell_type": "markdown",
   "metadata": {},
   "source": [
    "可见，分子总能量的导数总体来说并不大；这是因为电子态能量导数与核排斥能导数两个相当大的矩阵正负抵消导致的。"
   ]
  },
  {
   "cell_type": "markdown",
   "metadata": {},
   "source": [
    "上述导数在 pyxdh 中，以 `gradh.E_1` property 呈现："
   ]
  },
  {
   "cell_type": "code",
   "execution_count": 46,
   "metadata": {},
   "outputs": [
    {
     "data": {
      "text/plain": [
       "True"
      ]
     },
     "execution_count": 46,
     "metadata": {},
     "output_type": "execute_result"
    }
   ],
   "source": [
    "np.allclose(E_1.ravel(), gradh.E_1.ravel())"
   ]
  },
  {
   "cell_type": "markdown",
   "metadata": {},
   "source": [
    "最后，我们通过验证数值导数 `nd_E_0` $\\partial_{A_t} E$ 的方式，来确定我们方才推演的解析导数确实是正确的："
   ]
  },
  {
   "cell_type": "code",
   "execution_count": 47,
   "metadata": {},
   "outputs": [
    {
     "data": {
      "text/plain": [
       "array([[-0.13969,  0.01726, -0.01934],\n",
       "       [ 0.01143,  0.72202,  0.04491],\n",
       "       [ 0.12139,  0.00321,  0.01831],\n",
       "       [ 0.00688, -0.7425 , -0.04387]])"
      ]
     },
     "execution_count": 47,
     "metadata": {},
     "output_type": "execute_result"
    }
   ],
   "source": [
    "nd_E_0 = NumericDiff(gradn, lambda gradh: gradh.eng).derivative.reshape(natm, 3)\n",
    "nd_E_0"
   ]
  },
  {
   "cell_type": "code",
   "execution_count": 48,
   "metadata": {},
   "outputs": [
    {
     "data": {
      "text/plain": [
       "True"
      ]
     },
     "execution_count": 48,
     "metadata": {},
     "output_type": "execute_result"
    }
   ],
   "source": [
    "np.allclose(E_1, nd_E_0)"
   ]
  },
  {
   "cell_type": "markdown",
   "metadata": {},
   "source": [
    "## 参考任务解答"
   ]
  },
  {
   "cell_type": "markdown",
   "metadata": {},
   "source": [
    "### 任务 (1)"
   ]
  },
  {
   "cell_type": "markdown",
   "metadata": {},
   "source": [
    "首先，我们指出，$\\langle \\partial_t \\mu_A | \\nu_A \\rangle$ 并不为零；譬如对于原子 $A$ 代表第 1 个氢原子 (索引 2) 的情形，我们给出 $\\langle \\partial_z \\mu_A | \\nu_A \\rangle$："
   ]
  },
  {
   "cell_type": "code",
   "execution_count": 49,
   "metadata": {
    "scrolled": true
   },
   "outputs": [
    {
     "data": {
      "text/plain": [
       "array([[-0.     ,  0.     , -0.     ,  0.     ,  0.     , -1.51402,  0.     ,  0.     , -0.16843],\n",
       "       [ 0.     ,  0.     ,  0.     ,  0.     ,  0.     , -0.68687,  0.     ,  0.     , -0.6159 ],\n",
       "       [-0.     ,  0.     ,  0.     ,  0.     ,  0.     , -0.2606 ,  0.     ,  0.     , -0.51962],\n",
       "       [ 0.     ,  0.     ,  0.     ,  0.     ,  0.     ,  0.     ,  0.     ,  0.     ,  0.     ],\n",
       "       [ 0.     ,  0.     ,  0.     ,  0.     ,  0.     ,  0.     ,  0.     ,  0.     ,  0.     ],\n",
       "       [ 1.51402,  0.68687,  0.2606 ,  0.     ,  0.     ,  0.     ,  0.     ,  0.     ,  0.     ],\n",
       "       [ 0.     ,  0.     ,  0.     ,  0.     ,  0.     ,  0.     ,  0.     ,  0.     ,  0.     ],\n",
       "       [ 0.     ,  0.     ,  0.     ,  0.     ,  0.     ,  0.     ,  0.     ,  0.     ,  0.     ],\n",
       "       [ 0.16843,  0.6159 ,  0.51962,  0.     ,  0.     ,  0.     ,  0.     ,  0.     ,  0.     ]])"
      ]
     },
     "execution_count": 49,
     "metadata": {},
     "output_type": "execute_result"
    }
   ],
   "source": [
    "sA = mol_slice(1)\n",
    "int1e_ipovlp[2, sA, sA]"
   ]
  },
  {
   "cell_type": "markdown",
   "metadata": {},
   "source": [
    "但我们注意到这是一个反对称矩阵，因此求 $\\langle \\partial_z \\mu_A | \\nu_A \\rangle$ 加上其转置即 $\\langle \\mu_A | \\partial_z \\nu_A \\rangle$ 后，该矩阵就变成了零值了。"
   ]
  },
  {
   "cell_type": "markdown",
   "metadata": {},
   "source": [
    "事实上，$\\langle \\partial_z \\mu | \\nu \\rangle$ 作为张量本身就是反对称的，或者说\n",
    "\n",
    "$$\n",
    "\\langle \\partial_z \\mu | \\nu \\rangle = - \\langle \\mu | \\partial_z \\nu \\rangle\n",
    "$$\n",
    "\n",
    "也可以说，$\\partial_z$ 算符是反厄米的。"
   ]
  },
  {
   "cell_type": "markdown",
   "metadata": {},
   "source": [
    "简单地说，使用分部积分法，\n",
    "\n",
    "$$\n",
    "\\begin{align}\n",
    "\\langle \\partial_z \\mu | \\nu \\rangle\n",
    "&= \\int_{-\\infty}^{+\\infty} \\int_{-\\infty}^{+\\infty} \\int_{-\\infty}^{+\\infty} \\frac{\\partial \\phi_\\mu}{\\partial_z} \\phi_\\nu \\, \\mathrm{d} z \\, \\mathrm{d} y \\, \\mathrm{d} x \\\\\n",
    "&= \\int_{-\\infty}^{+\\infty} \\int_{-\\infty}^{+\\infty} \\left( \\phi_\\mu \\phi_\\nu \\big|_{z \\rightarrow -\\infty}^{+\\infty} - \\int_{-\\infty}^{+\\infty} \\phi_\\mu \\frac{\\partial \\phi_\\nu}{\\partial_z} \\, \\mathrm{d} z \\right) \\, \\mathrm{d} y \\, \\mathrm{d} x\n",
    "\\end{align}\n",
    "$$"
   ]
  },
  {
   "cell_type": "markdown",
   "metadata": {},
   "source": [
    "而我们知道，作为原子轨道基组的 Gaussian 函数具有当坐标距离中心无穷远时，函数取值为零的性质，即\n",
    "\n",
    "$$\n",
    "\\lim_{z \\rightarrow \\pm \\infty} \\phi (x, y, z) = 0, \\quad \\forall x, y \\in \\mathbb{R}\n",
    "$$\n",
    "\n",
    "这条公式算是断言，我们就不作证明了。与其有关的问题是波函数 (或基组) 的平方可积性质。\n",
    "\n",
    "那么，上式就化为了\n",
    "\n",
    "$$\n",
    "\\langle \\partial_z \\mu | \\nu \\rangle = - \\int_{-\\infty}^{+\\infty} \\int_{-\\infty}^{+\\infty} \\int_{-\\infty}^{+\\infty} \\phi_\\mu \\frac{\\partial \\phi_\\nu}{\\partial_z} \\, \\mathrm{d} z \\, \\mathrm{d} y \\, \\mathrm{d} x = \\langle \\mu | \\partial_z \\nu \\rangle\n",
    "$$"
   ]
  },
  {
   "cell_type": "markdown",
   "metadata": {},
   "source": [
    "显然这对其它两种分量的导数也适用；因此，\n",
    "\n",
    "$$\n",
    "\\langle \\partial_t \\mu | \\nu \\rangle + \\langle \\mu | \\partial_t \\nu \\rangle = \\langle \\partial_t \\mu | \\nu \\rangle + \\mathrm{swap} (\\mu, \\nu) = 0\n",
    "$$"
   ]
  },
  {
   "cell_type": "markdown",
   "metadata": {},
   "source": [
    "若 $\\mu, \\nu$ 被限定都在原子 $A$ 上，上式仍然成立，因此命题得证。"
   ]
  },
  {
   "cell_type": "markdown",
   "metadata": {},
   "source": [
    "但上述的证明过程可能会让我们误认为，既然 $S_{\\mu \\nu}^t$ 就是通过 $\\langle \\partial_t \\mu | \\nu \\rangle$ 生成的，那么看起来所有值都会是零。事实上，\n",
    "\n",
    "$$\n",
    "\\langle \\partial_t \\mu_A | \\nu_B \\rangle + \\langle \\mu_B | \\partial_t \\nu_A \\rangle \\not\\equiv 0\n",
    "$$\n",
    "\n",
    "这是因为，如果 $\\mu$ 在 $A$ 原子上且 $\\nu$ 在 $B$ 原子上，那么 $\\langle \\partial_t \\mu_A | \\nu_B \\rangle \\not\\equiv 0$；但假使现在 $A \\neq B$，那么一定有 $\\langle \\mu_B | \\partial_t \\nu_A \\rangle = 0$；因此，上式的左边未必为零。这里 $\\not\\equiv$ 符号的意义是未必为零。"
   ]
  },
  {
   "cell_type": "markdown",
   "metadata": {
    "heading_collapsed": true
   },
   "source": [
    "### 任务 (2)"
   ]
  },
  {
   "cell_type": "markdown",
   "metadata": {
    "hidden": true
   },
   "source": [
    "这是因为 $\\hat t$ 算符是对电子坐标的导数；它与原子核完全无关，因此在原子核坐标分量 $A_t$ 下不可能有任何导数出现。"
   ]
  },
  {
   "cell_type": "markdown",
   "metadata": {
    "heading_collapsed": true
   },
   "source": [
    "### 任务 (3)"
   ]
  },
  {
   "cell_type": "markdown",
   "metadata": {
    "hidden": true
   },
   "source": [
    "待证等式为\n",
    "\n",
    "$$\n",
    "\\frac{\\partial}{\\partial t} \\frac{Z_A}{| \\boldsymbol{r} - \\boldsymbol{A} |} = - \\frac{\\partial}{\\partial A_t} \\frac{Z_A}{| \\boldsymbol{r} - \\boldsymbol{A} |}\n",
    "$$"
   ]
  },
  {
   "cell_type": "markdown",
   "metadata": {
    "hidden": true
   },
   "source": [
    "注意到我们可以写 (距离的定义是通过 $L_2$ Norm 给出的)\n",
    "\n",
    "$$\n",
    "| \\boldsymbol{r} - \\boldsymbol{A} | = \\sqrt{\\sum_{s} (s - A_s)^2}\n",
    "$$\n",
    "\n",
    "其中，$s$ 与 $t$ 一样代表坐标分量，$s \\in \\{ x, y, z \\}$。"
   ]
  },
  {
   "cell_type": "markdown",
   "metadata": {
    "hidden": true
   },
   "source": [
    "因此，等式左边有：\n",
    "\n",
    "$$\n",
    "\\begin{align}\n",
    "\\frac{\\partial}{\\partial t} \\frac{Z_A}{| \\boldsymbol{r} - \\boldsymbol{A} |}\n",
    "&= Z_A \\frac{\\partial}{\\partial t} \\left( \\sum_{s} (s - A_s)^2 \\right)^{- 1/2} \\\\\n",
    "&= - \\frac{1}{2} Z_A \\left( \\sum_{s} (s - A_s)^2 \\right)^{- 3/2} \\frac{\\partial}{\\partial t} \\sum_{s} (s - A_s)^2 \\\\\n",
    "&= - \\frac{1}{2} \\frac{Z_A}{| \\boldsymbol{r} - \\boldsymbol{A} |^3} \\frac{\\partial}{\\partial t} (t - A_t)^2 \\\\\n",
    "&= - \\frac{Z_A (t - A_t)}{| \\boldsymbol{r} - \\boldsymbol{A} |^3}\n",
    "\\end{align}\n",
    "$$"
   ]
  },
  {
   "cell_type": "markdown",
   "metadata": {
    "hidden": true
   },
   "source": [
    "其中，第三个等号利用到了当 $s \\in \\{ y, z \\}$ 时，$s$ 与被求导变量 $t$ 无关，因此导数必然为零的性质。"
   ]
  },
  {
   "cell_type": "markdown",
   "metadata": {
    "hidden": true
   },
   "source": [
    "仿照上面的推导，应当能发现\n",
    "\n",
    "$$\n",
    "\\frac{\\partial}{\\partial A_t} \\frac{Z_A}{| \\boldsymbol{r} - \\boldsymbol{A} |} = \\frac{Z_A (t - A_t)}{| \\boldsymbol{r} - \\boldsymbol{A} |^3}\n",
    "$$\n",
    "\n",
    "因此，命题得证。"
   ]
  },
  {
   "cell_type": "markdown",
   "metadata": {},
   "source": [
    "### 任务 (4)"
   ]
  },
  {
   "cell_type": "markdown",
   "metadata": {},
   "source": [
    "思路同任务 (1)。这里就不详细展开了。"
   ]
  },
  {
   "cell_type": "markdown",
   "metadata": {},
   "source": [
    "### 任务 (5)"
   ]
  },
  {
   "cell_type": "markdown",
   "metadata": {},
   "source": [
    "因为分部积分只适用于被偏导变量与被积分的微元变量相同的情形。在\n",
    "\n",
    "$$\n",
    "\\int \\phi_\\mu \\phi_\\nu \\frac{\\partial}{\\partial A_t} \\frac{Z_A}{| \\boldsymbol{r} - \\boldsymbol{A} |} \\, \\mathrm{d} \\boldsymbol{r}\n",
    "\\not \\equiv - \\int \\frac{\\partial}{\\partial A_t} (\\phi_\\mu \\phi_\\nu) \\cdot \\frac{Z_A}{| \\boldsymbol{r} - \\boldsymbol{A} |} \\, \\mathrm{d} \\boldsymbol{r}\n",
    "$$\n",
    "\n",
    "中，被偏导变量是 $A_t$，被积分微元是三维向量 $\\boldsymbol{r}$，或者是三重积分下的三个变量 $(x, y, z)$。$A_t$ 与 $(x, y, z)$ 之间毫无关系，因此不能套用分部积分的公式推演思路。"
   ]
  },
  {
   "cell_type": "markdown",
   "metadata": {},
   "source": [
    "进一步说，$\\partial_t$ 一般来说是反厄米算符，而 $\\partial_{A_t}$ 一般不具有厄米或反厄米性质。"
   ]
  },
  {
   "cell_type": "markdown",
   "metadata": {},
   "source": [
    "### 任务 (6)"
   ]
  },
  {
   "cell_type": "markdown",
   "metadata": {},
   "source": [
    "下述的推演过程与上一篇文档的 [任务 (4)](dip_rhf_skeleton.ipynb#任务-(4)) 非常相似。"
   ]
  },
  {
   "cell_type": "markdown",
   "metadata": {},
   "source": [
    "待证明等式为\n",
    "\n",
    "$$\n",
    "\\frac{\\partial E_\\mathrm{elec}}{\\partial \\mathbb{A}} \\leftarrow F_{\\mu \\nu} \\frac{\\partial D_{\\mu \\nu}}{\\partial \\mathbb{A}} = - 2 F_{ij} S_{ij}^\\mathbb{A}\n",
    "$$"
   ]
  },
  {
   "cell_type": "markdown",
   "metadata": {},
   "source": [
    "首先，通过链式法则，有\n",
    "\n",
    "$$\n",
    "\\frac{\\partial D_{\\mu \\nu}}{\\partial \\mathbb{A}}\n",
    "= \\frac{\\partial (2 C_{\\mu i} C_{\\nu i})}{\\partial \\mathbb{A}}\n",
    "= 2 \\left( \\frac{\\partial (C_{\\mu i})}{\\partial \\mathbb{A}} C_{\\nu i} + C_{\\mu i} \\frac{\\partial (C_{\\nu i})}{\\partial \\mathbb{A}} \\right)\n",
    "$$"
   ]
  },
  {
   "cell_type": "markdown",
   "metadata": {},
   "source": [
    "根据 U 矩阵定义，有\n",
    "\n",
    "$$\n",
    "\\frac{\\partial D_{\\mu \\nu}}{\\partial \\mathbb{A}} = 2 \\big( C_{\\mu m} U_{mi}^\\mathbb{A} C_{\\nu i} + C_{\\nu m} U_{mi}^\\mathbb{A} C_{\\mu i} \\big)\n",
    "$$"
   ]
  },
  {
   "cell_type": "markdown",
   "metadata": {},
   "source": [
    "上式与 $F_{\\mu \\nu}$ 缩并后，有\n",
    "\n",
    "$$\n",
    "\\begin{align}\n",
    "\\frac{\\partial E_\\mathrm{elec}}{\\partial \\mathbb{A}} \\leftarrow F_{\\mu \\nu} \\frac{\\partial D_{\\mu \\nu}}{\\partial \\mathbb{A}}\n",
    "&= 2 \\big( C_{\\mu m} F_{\\mu \\nu} C_{\\nu i} U_{mi}^\\mathbb{A} + C_{\\mu i} F_{\\mu \\nu} C_{\\nu m} U_{mi}^\\mathbb{A} \\big) \\\\\n",
    "&= 2 (F_{mi} + F_{im}) U_{mi}^\\mathbb{A} \\\\\n",
    "&= 4 F_{mi} U_{mi}^\\mathbb{A}\n",
    "\\end{align}\n",
    "$$\n",
    "\n",
    "其中，最后一个等号利用了 Fock 矩阵的对称性。"
   ]
  },
  {
   "cell_type": "markdown",
   "metadata": {},
   "source": [
    "对于 RHF 而言，Fock 矩阵的非占-占据部分为零，即 $F_{ai} = 0$，因此上式中全轨道角标 $m$ 只在处于占据轨道时才有值；因此\n",
    "\n",
    "$$\n",
    "\\begin{align}\n",
    "\\frac{\\partial E_\\mathrm{elec}}{\\partial \\mathbb{A}} \\leftarrow F_{\\mu \\nu} \\frac{\\partial D_{\\mu \\nu}}{\\partial \\mathbb{A}}\n",
    "&= 4 F_{mi} U_{mi}^\\mathbb{A} = 2 F_{ji} U_{ji}^\\mathbb{A} \\\\\n",
    "&= 2 \\big( F_{ij} U_{ij}^\\mathbb{A} + F_{ji} U_{ji}^\\mathbb{A} \\big) \\\\\n",
    "&= 2 F_{ij} (U_{ij}^\\mathbb{A} + U_{ji}^\\mathbb{A}) \\\\\n",
    "&= -2 F_{ij} S_{ij}^\\mathbb{A}\n",
    "\\end{align}\n",
    "$$"
   ]
  },
  {
   "cell_type": "markdown",
   "metadata": {},
   "source": [
    "上式的第 2 行利用了求和角标可交换的特性，第 3 行利用了 Fock 矩阵的对称性，第 4 行利用了\n",
    "\n",
    "$$\n",
    "U_{ij}^\\mathbb{A} + U_{ji}^\\mathbb{A} + S_{ij}^\\mathbb{A} = 0\n",
    "$$"
   ]
  }
 ],
 "metadata": {
  "kernelspec": {
   "display_name": "Python 3",
   "language": "python",
   "name": "python3"
  },
  "language_info": {
   "codemirror_mode": {
    "name": "ipython",
    "version": 3
   },
   "file_extension": ".py",
   "mimetype": "text/x-python",
   "name": "python",
   "nbconvert_exporter": "python",
   "pygments_lexer": "ipython3",
   "version": "3.8.1"
  },
  "toc": {
   "base_numbering": 1,
   "nav_menu": {},
   "number_sections": true,
   "sideBar": true,
   "skip_h1_title": false,
   "title_cell": "Table of Contents",
   "title_sidebar": "Contents",
   "toc_cell": false,
   "toc_position": {
    "height": "calc(100% - 180px)",
    "left": "10px",
    "top": "150px",
    "width": "209px"
   },
   "toc_section_display": true,
   "toc_window_display": true
  }
 },
 "nbformat": 4,
 "nbformat_minor": 4
}
