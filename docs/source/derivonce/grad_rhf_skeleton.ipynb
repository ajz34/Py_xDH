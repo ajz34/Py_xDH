{
 "cells": [
  {
   "cell_type": "markdown",
   "metadata": {},
   "source": [
    "# RHF 核坐标梯度计算"
   ]
  },
  {
   "cell_type": "markdown",
   "metadata": {},
   "source": [
    "上一节，我们对 RHF 下的偶极矩作了计算。我们求取了 Hamiltonian Core 矩阵、重叠矩阵、ERI 积分的 Skeleton 导数。我们利用过 U 矩阵的特性，避免计算了较为复杂和耗时的 U 矩阵，从而只利用概念相对简单的 Skeleton 导数就解决了偶极矩计算。"
   ]
  },
  {
   "cell_type": "markdown",
   "metadata": {},
   "source": [
    "偶极矩也确实计算简单，并且可以从物理图景和一阶导数两种方式求得结果，因此可以作为一阶梯度计算不错的切入点。但也由于很多矩阵在电场下的导数为零，许多电场梯度所能给出的公式不能很好地推广到其它梯度响应性质，因此不是很好的切入点。在以后，我们会更多地使用核坐标梯度来引导学习各种响应性质。"
   ]
  },
  {
   "cell_type": "markdown",
   "metadata": {},
   "source": [
    "由于分子轨道的 Skeleton 导数从定义上是原子轨道 Skeleton 导数与轨道系数缩并而来，因此我们只要了解原子轨道的 Skeleton 导数的具体求取过程即可。后文不会对分子轨道的 Skeleton 作很翔实的说明。"
   ]
  },
  {
   "cell_type": "markdown",
   "metadata": {},
   "source": [
    "## 准备工作"
   ]
  },
  {
   "cell_type": "markdown",
   "metadata": {},
   "source": [
    "与上一节的情况不同的是，我们这里是对核坐标梯度求导。因此，上一节的偶极矩辅助类实例 `diph` 在这里替换为了梯度辅助类实例 `gradh`。"
   ]
  },
  {
   "cell_type": "code",
   "execution_count": 1,
   "metadata": {},
   "outputs": [],
   "source": [
    "%matplotlib notebook\n",
    "\n",
    "from pyscf import gto, scf, dft, lib\n",
    "import numpy as np\n",
    "from functools import partial\n",
    "import warnings\n",
    "from matplotlib import pyplot as plt\n",
    "from pyxdh.Utilities import NucCoordDerivGenerator, DipoleDerivGenerator, NumericDiff\n",
    "from pyxdh.DerivOnce import GradSCF\n",
    "\n",
    "np.einsum = partial(np.einsum, optimize=[\"greedy\", 1024 ** 3 * 2 / 8])\n",
    "np.allclose = partial(np.allclose, atol=1e-6, rtol=1e-4)\n",
    "np.set_printoptions(5, linewidth=150, suppress=True)\n",
    "warnings.filterwarnings(\"ignore\")"
   ]
  },
  {
   "cell_type": "code",
   "execution_count": 2,
   "metadata": {},
   "outputs": [
    {
     "data": {
      "text/plain": [
       "<pyscf.gto.mole.Mole at 0x7f64c4f7c940>"
      ]
     },
     "execution_count": 2,
     "metadata": {},
     "output_type": "execute_result"
    }
   ],
   "source": [
    "mol = gto.Mole()\n",
    "mol.atom = \"\"\"\n",
    "O  0.0  0.0  0.0\n",
    "O  0.0  0.0  1.5\n",
    "H  1.0  0.0  0.0\n",
    "H  0.0  0.7  1.0\n",
    "\"\"\"\n",
    "mol.basis = \"6-31G\"\n",
    "mol.verbose = 0\n",
    "mol.build()"
   ]
  },
  {
   "cell_type": "code",
   "execution_count": 3,
   "metadata": {},
   "outputs": [],
   "source": [
    "gradh = GradSCF({\"scf_eng\": scf.RHF(mol)})"
   ]
  },
  {
   "cell_type": "code",
   "execution_count": 4,
   "metadata": {},
   "outputs": [],
   "source": [
    "nmo, nao, natm, nocc, nvir = gradh.nao, gradh.nao, gradh.natm, gradh.nocc, gradh.nvir\n",
    "so, sv, sa = gradh.so, gradh.sv, gradh.sa\n",
    "C, Co, Cv, e, eo, ev, D = gradh.C, gradh.Co, gradh.Cv, gradh.e, gradh.eo, gradh.ev, gradh.D\n",
    "H_0_ao, S_0_ao, eri0_ao, F_0_ao = gradh.H_0_ao, gradh.S_0_ao, gradh.eri0_ao, gradh.F_0_ao\n",
    "H_0_mo, S_0_mo, eri0_mo, F_0_mo = gradh.H_0_mo, gradh.S_0_mo, gradh.eri0_mo, gradh.F_0_mo"
   ]
  },
  {
   "cell_type": "code",
   "execution_count": 5,
   "metadata": {},
   "outputs": [],
   "source": [
    "def grad_generator(mol):\n",
    "    scf_eng = scf.RHF(mol)\n",
    "    config = {\n",
    "        \"scf_eng\": scf_eng,\n",
    "    }\n",
    "    return GradSCF(config)"
   ]
  },
  {
   "cell_type": "code",
   "execution_count": 6,
   "metadata": {},
   "outputs": [],
   "source": [
    "gradn = NucCoordDerivGenerator(mol, grad_generator)"
   ]
  },
  {
   "cell_type": "markdown",
   "metadata": {},
   "source": [
    "## 重叠矩阵 Skeleton 导数"
   ]
  },
  {
   "cell_type": "markdown",
   "metadata": {},
   "source": [
    "上一节我们先讨论了 Hamiltonian Core 导数；但在核坐标梯度中，Hamiltonian Core 导数并不是非常容易求取的。我们先讨论更为简单的重叠矩阵 Skeleton 导数。但即使重叠矩阵较为简单，其过程可能也会令新读者感到相当痛苦。"
   ]
  },
  {
   "cell_type": "markdown",
   "metadata": {},
   "source": [
    "### 解析导数 (1) 额外符号的引入"
   ]
  },
  {
   "cell_type": "markdown",
   "metadata": {},
   "source": [
    "重叠积分的定义是\n",
    "\n",
    "$$\n",
    "S_{\\mu \\nu} = \\langle \\mu | \\nu \\rangle = \\int \\phi_{\\mu} (\\boldsymbol{r}) \\phi_{\\nu} (\\boldsymbol{r}) \\, \\mathrm{d} \\boldsymbol{r}\n",
    "$$"
   ]
  },
  {
   "cell_type": "markdown",
   "metadata": {},
   "source": [
    "但是从上面的定义中，我们似乎看不到任何与核坐标有关的变量。\n",
    "\n",
    "事实上，原子轨道作为 Gaussian 函数基组，它的定义还与其对应的原子核坐标有关。因此，我们可以对原子轨道角标 $\\mu, \\nu$ 下方明确加上原子角标，并将函数的自变量写为电子坐标与基组中心的原子核坐标之差的形式：\n",
    "\n",
    "$$\n",
    "S_{\\mu \\nu} = \\int \\phi_{\\mu_{M_1}} (\\boldsymbol{r} - \\boldsymbol{M}_1) \\phi_{\\nu_{M_2}} (\\boldsymbol{r} - \\boldsymbol{M}_2) \\, \\mathrm{d} \\boldsymbol{r}\n",
    "$$"
   ]
  },
  {
   "cell_type": "markdown",
   "metadata": {},
   "source": [
    "需要说明，下标 $M_1, M_2$ 只是表明原子轨道 $\\mu$ 的中心在原子 $M_1$ 上，原子轨道 $\\nu$ 的中心在原子 $M_2$ 上。"
   ]
  },
  {
   "cell_type": "markdown",
   "metadata": {},
   "source": [
    "<div class=\"alert alert-info\">\n",
    "\n",
    "**记号说明**\n",
    "\n",
    "- 原子轨道下标原子角标 $\\mu_M$：\n",
    "    \n",
    "    - 若原子 $M$ 是原子轨道 $\\mu$ 作为 Gaussian 函数的中心，那么该角标的矩阵或张量值可能非零；\n",
    "    \n",
    "    - 但若 $M$ 并非 $\\mu$ 的中心，那么矩阵或张量值一定为零。\n",
    "\n",
    "这个符号有一点点类似于 Kronecker $\\delta$ 函数。如果我们不用 Einstein Summation 而只使用普通求和，那么用刚才的符号，下述表达式成立：\n",
    "\n",
    "$$\n",
    "S_{\\mu \\nu}\n",
    "= \\int \\phi_\\mu \\phi_\\nu \\, \\mathrm{d} \\boldsymbol{r}\n",
    "= \\sum_{M_1, M_2} \\int \\phi_{\\mu_{M_1}} \\phi_{\\nu_{M_2}} \\, \\mathrm{d} \\boldsymbol{r}\n",
    "$$\n",
    "\n",
    "</div>"
   ]
  },
  {
   "cell_type": "markdown",
   "metadata": {},
   "source": [
    "现在，我们对上式作关于原子核 $A$ 的 $t$ 坐标分量的导数："
   ]
  },
  {
   "cell_type": "markdown",
   "metadata": {},
   "source": [
    "$$\n",
    "S_{\\mu \\nu}^{A_t} = \\frac{\\partial S_{\\mu \\nu}}{\\partial A_t} =\n",
    "\\int \\frac{\\partial \\phi_{\\mu_{M_1}} (\\boldsymbol{r} - \\boldsymbol{M}_1)}{\\partial A_t} \\phi_{\\nu_{M_2}} (\\boldsymbol{r} - \\boldsymbol{M}_2) \\, \\mathrm{d} \\boldsymbol{r} +\n",
    "\\int \\phi_{\\mu_{M_1}} (\\boldsymbol{r} - \\boldsymbol{M}_1) \\frac{\\partial \\phi_{\\nu_{M_2}} (\\boldsymbol{r} - \\boldsymbol{M}_2)}{\\partial A_t} \\, \\mathrm{d} \\boldsymbol{r}\n",
    "$$"
   ]
  },
  {
   "cell_type": "markdown",
   "metadata": {},
   "source": [
    "上式多少有些冗长。事实上，上式的两项非常相似，差别仅仅是交换了 $\\mu, \\nu$ 而已。我们以后经常会使用如下记号简写：\n",
    "\n",
    "$$\n",
    "S_{\\mu \\nu}^{A_t} =\n",
    "\\int \\frac{\\partial \\phi_{\\mu_{M_1}} (\\boldsymbol{r} - \\boldsymbol{M}_1)}{\\partial A_t} \\phi_{\\nu_{M_2}} (\\boldsymbol{r} - \\boldsymbol{M}_2) \\, \\mathrm{d} \\boldsymbol{r} +\n",
    "\\mathrm{swap} (\\mu, \\nu)\n",
    "$$"
   ]
  },
  {
   "cell_type": "markdown",
   "metadata": {},
   "source": [
    "### $S_{\\mu \\nu}^{A_t}$ 稀疏性 (1) 程序结果演示"
   ]
  },
  {
   "cell_type": "markdown",
   "metadata": {},
   "source": [
    "在继续讨论之前，我们不妨先看一看重叠矩阵 Skeleton 导数的一些特性。`gradh.S_1_ao` 是 pyxdh 所生成的解析的 $S_{\\mu \\nu}^\\mathbb{A}$，其维度 $(\\mathbb{A}, \\mu, \\nu)$ 如下："
   ]
  },
  {
   "cell_type": "code",
   "execution_count": 7,
   "metadata": {},
   "outputs": [
    {
     "data": {
      "text/plain": [
       "(12, 22, 22)"
      ]
     },
     "execution_count": 7,
     "metadata": {},
     "output_type": "execute_result"
    }
   ],
   "source": [
    "gradh.S_1_ao.shape"
   ]
  },
  {
   "cell_type": "markdown",
   "metadata": {},
   "source": [
    "其第一个维度 $\\mathbb{A}$ 相当于原子核的坐标分量 $A_t$，但被压成了一个维度。因此，若要取索引为 1 的原子 (第二个氧原子) 的 $z$ 分量，则应当取 `gradh.S_1_ao[5]`。\n",
    "\n",
    "但这个矩阵仍然很庞大，我们不妨将这个矩阵拆开来看。"
   ]
  },
  {
   "cell_type": "markdown",
   "metadata": {},
   "source": [
    "我们首先取出 `gradh.S_1_ao[5]` 上述矩阵的索引 $[9, 18)$ 行、索引 $[0, 9) \\cup [18, 22)$ 列；这是上述矩阵 (除开其转置之外) 唯一有非零值的地方："
   ]
  },
  {
   "cell_type": "code",
   "execution_count": 8,
   "metadata": {},
   "outputs": [
    {
     "data": {
      "text/plain": [
       "array([[-0.     , -0.00166, -0.03032,  0.     ,  0.     , -0.00498,  0.     ,  0.     , -0.06593, -0.00084, -0.01656, -0.05936, -0.0228 ],\n",
       "       [-0.00166, -0.0604 , -0.16854,  0.     ,  0.     , -0.10281,  0.     ,  0.     , -0.27194, -0.02041, -0.09431, -0.25276, -0.10814],\n",
       "       [-0.03032, -0.16854, -0.25868,  0.     ,  0.     , -0.11283,  0.     ,  0.     , -0.20539, -0.09265, -0.16881, -0.17951, -0.1391 ],\n",
       "       [ 0.     ,  0.     ,  0.     , -0.02832,  0.     ,  0.     , -0.1074 ,  0.     ,  0.     , -0.02096, -0.03809,  0.     ,  0.     ],\n",
       "       [ 0.     ,  0.     ,  0.     ,  0.     , -0.02832,  0.     ,  0.     , -0.1074 ,  0.     ,  0.     ,  0.     , -0.25164, -0.03143],\n",
       "       [ 0.00498,  0.10281,  0.11283,  0.     ,  0.     ,  0.15701,  0.     ,  0.     ,  0.05342,  0.02655,  0.03186, -0.03344, -0.06682],\n",
       "       [ 0.     ,  0.     ,  0.     , -0.1074 ,  0.     ,  0.     , -0.25868,  0.     ,  0.     , -0.1314 , -0.12397,  0.     ,  0.     ],\n",
       "       [ 0.     ,  0.     ,  0.     ,  0.     , -0.1074 ,  0.     ,  0.     , -0.25868,  0.     ,  0.     ,  0.     , -0.18089, -0.07151],\n",
       "       [ 0.06593,  0.27194,  0.20539,  0.     ,  0.     ,  0.05342,  0.     ,  0.     , -0.21484,  0.13419,  0.07135, -0.23641, -0.23223]])"
      ]
     },
     "execution_count": 8,
     "metadata": {},
     "output_type": "execute_result"
    }
   ],
   "source": [
    "slice_mu = range(9, 18)\n",
    "slice_nu = (*range(0, 9), *range(18, 22))\n",
    "gradh.S_1_ao[5][slice_mu, :][:, slice_nu]"
   ]
  },
  {
   "cell_type": "markdown",
   "metadata": {},
   "source": [
    "其它的矩阵元的值近乎于为零。我们可以将矩阵元的绝对值和减去两倍上面子矩阵的矩阵元绝对值和，得到接近于 0 的结果："
   ]
  },
  {
   "cell_type": "code",
   "execution_count": 9,
   "metadata": {},
   "outputs": [
    {
     "data": {
      "text/plain": [
       "2.3092638912203256e-14"
      ]
     },
     "execution_count": 9,
     "metadata": {},
     "output_type": "execute_result"
    }
   ],
   "source": [
    "np.abs(gradh.S_1_ao[5]).sum() - 2 * np.abs(gradh.S_1_ao[5][slice_mu, :][:, slice_nu]).sum()"
   ]
  },
  {
   "cell_type": "markdown",
   "metadata": {},
   "source": [
    "因此，其实相当多的矩阵元是零值。"
   ]
  },
  {
   "cell_type": "markdown",
   "metadata": {},
   "source": [
    "这对于其它的原子核也是类似的。\n",
    "\n",
    "这种现象并非是偶然的。我们先回忆一下很早之前提及的 [原子轨道分割](../qcbasic/basis_integral.ipynb#壳层分割与原子轨道分割)。"
   ]
  },
  {
   "cell_type": "code",
   "execution_count": 10,
   "metadata": {
    "scrolled": true
   },
   "outputs": [
    {
     "data": {
      "text/plain": [
       "array([[ 0,  5,  0,  9],\n",
       "       [ 5, 10,  9, 18],\n",
       "       [10, 12, 18, 20],\n",
       "       [12, 14, 20, 22]])"
      ]
     },
     "execution_count": 10,
     "metadata": {},
     "output_type": "execute_result"
    }
   ],
   "source": [
    "mol.aoslice_by_atom()"
   ]
  },
  {
   "cell_type": "markdown",
   "metadata": {},
   "source": [
    "因此，上述的非零的矩阵元所代表的的是，$\\mu$ 所代表的原子是第 2 个氧原子，$\\nu$ 所代表的原子是第 1 个氧原子和其它氢原子时，矩阵元是非零的。\n",
    "\n",
    "我们以后会为了便利，使用 `mol_slice` 函数给出原子轨道的分割："
   ]
  },
  {
   "cell_type": "code",
   "execution_count": 11,
   "metadata": {},
   "outputs": [],
   "source": [
    "def mol_slice(atm_id, mol=mol):\n",
    "    _, _, p0, p1 = mol.aoslice_by_atom()[atm_id]\n",
    "    return slice(p0, p1)"
   ]
  },
  {
   "cell_type": "markdown",
   "metadata": {},
   "source": [
    "譬如，我们要取出第二个氧原子 (索引为 1 的原子) 的所有原子轨道的话，下述代码就可以取出其分割："
   ]
  },
  {
   "cell_type": "code",
   "execution_count": 12,
   "metadata": {},
   "outputs": [
    {
     "data": {
      "text/plain": [
       "slice(9, 18, None)"
      ]
     },
     "execution_count": 12,
     "metadata": {},
     "output_type": "execute_result"
    }
   ],
   "source": [
    "mol_slice(1)"
   ]
  },
  {
   "cell_type": "markdown",
   "metadata": {},
   "source": [
    "### 解析导数 (2) 最终表达式"
   ]
  },
  {
   "cell_type": "markdown",
   "metadata": {},
   "source": [
    "接下来，我们看看为什么这么多矩阵元的值为零。我们先对下式作讨论。\n",
    "\n",
    "$$\n",
    "\\frac{\\partial \\phi_{\\mu_{M_1}} (\\boldsymbol{r} - \\boldsymbol{M}_1)}{\\partial A_t} \\phi_{\\nu_{M_2}} (\\boldsymbol{r} - \\boldsymbol{M}_2)\n",
    "$$"
   ]
  },
  {
   "cell_type": "markdown",
   "metadata": {},
   "source": [
    "我们定义 $\\boldsymbol{u} = \\boldsymbol{r} - \\boldsymbol{M}_1$，那么根据链式法则，\n",
    "\n",
    "$$\n",
    "\\frac{\\partial \\phi_{\\mu_{M_1}} (\\boldsymbol{r} - \\boldsymbol{M}_1)}{\\partial A_t}\n",
    "= \\frac{\\partial \\phi_{\\mu_{M_1}} (\\boldsymbol{u})}{\\partial A_t} = \\frac{\\partial \\phi_{\\mu_{M_1}} (\\boldsymbol{u})}{\\partial \\boldsymbol{u}} \\cdot \\frac{\\partial \\boldsymbol{u}}{\\partial A_t}\n",
    "$$"
   ]
  },
  {
   "cell_type": "markdown",
   "metadata": {},
   "source": [
    "先考察 $\\partial_{A_t} \\boldsymbol{u}$。由于 $\\boldsymbol{r}$ 是电子坐标，与原子核坐标分量 $A_t$ 无关，因此\n",
    "\n",
    "$$\n",
    "\\frac{\\partial \\boldsymbol{r}}{\\partial A_t} = \\boldsymbol{0}\n",
    "$$"
   ]
  },
  {
   "cell_type": "markdown",
   "metadata": {},
   "source": [
    "而若 $M_1$ 作为原子与原子 $A$ 不同，那么 $\\boldsymbol{M}_1$ 也与 $A_t$ 毫无关系：\n",
    "\n",
    "$$\n",
    "\\frac{\\partial \\boldsymbol{M}_1}{\\partial A_t} = \\boldsymbol{0} \\quad (M_1 \\neq A)\n",
    "$$"
   ]
  },
  {
   "cell_type": "markdown",
   "metadata": {},
   "source": [
    "但若 $M_1$ 就是原子 $A$，或者说原子轨道 $\\mu$ 的中心恰好是 $A$ 原子，那么\n",
    "\n",
    "$$\n",
    "\\frac{\\partial \\boldsymbol{M}_1}{\\partial A_t} = (\\delta_{tx}, \\delta_{ty}, \\delta_{tz}) \\quad (M_1 = A)\n",
    "$$"
   ]
  },
  {
   "cell_type": "markdown",
   "metadata": {},
   "source": [
    "之所以写成上式的形式，是因为首先我们注意到 $\\boldsymbol{M}_1 = \\boldsymbol{A}$ 本身是原子坐标，具有三个分量；如果我们将 $A_t$ 当作标量考虑，那么上述偏导结果还是三元素向量。\n",
    "\n",
    "那么，我们可以将 $\\boldsymbol{A}$ 写成向量 $(A_x, A_y, A_z)$ 的形式。$A_t$ 就是其中的一个分量；因此，求导的结果就是 $A_t$ 所在分量导数为 1，其余两个分量导数为零。这可以写成 Kronecker $\\delta$ 的形式。"
   ]
  },
  {
   "cell_type": "markdown",
   "metadata": {},
   "source": [
    "那么综合起来，我们可以写\n",
    "\n",
    "$$\n",
    "\\frac{\\partial \\boldsymbol{u}}{\\partial A_t} = - \\frac{\\partial \\boldsymbol{M}_1}{\\partial A_t} = - \\delta_{M_1 A} (\\delta_{tx}, \\delta_{ty}, \\delta_{tz})\n",
    "$$"
   ]
  },
  {
   "cell_type": "markdown",
   "metadata": {},
   "source": [
    "这也就意味着只有三维坐标 $\\boldsymbol{u}$ 中只有 $u_t$ 会对偏导产生贡献。因此，\n",
    "\n",
    "$$\n",
    "\\frac{\\partial \\phi_{\\mu_{M_1}} (\\boldsymbol{r} - \\boldsymbol{M}_1)}{\\partial A_t}\n",
    "= \\frac{\\partial \\phi_{\\mu_{M_1}} (\\boldsymbol{u})}{\\partial \\boldsymbol{u}} \\cdot \\frac{\\partial \\boldsymbol{u}}{\\partial A_t}\n",
    "= - \\frac{\\partial \\phi_{\\mu_{M_1}} (\\boldsymbol{u})}{\\partial u_t} \\delta_{M_1 A}\n",
    "= - \\frac{\\partial \\phi_{\\mu_A} (\\boldsymbol{u})}{\\partial u_t}\n",
    "$$"
   ]
  },
  {
   "cell_type": "markdown",
   "metadata": {},
   "source": [
    "化简至此，我们认为基本就够了。我们通常会将上式再缩写为\n",
    "\n",
    "$$\n",
    "\\frac{\\partial \\phi_{\\mu_{M_1}} (\\boldsymbol{r} - \\boldsymbol{M}_1)}{\\partial A_t} = - \\phi_{t \\mu_A}\n",
    "$$"
   ]
  },
  {
   "cell_type": "markdown",
   "metadata": {},
   "source": [
    "其中，简写记号 $\\phi_{t \\mu_A}$ 意味着原子轨道 $\\mu$ 只在原子 $A$ 上才显示有值，且该原子轨道被求过 $t$ 方向的偏导数。"
   ]
  },
  {
   "cell_type": "markdown",
   "metadata": {},
   "source": [
    "我们回顾这一段最初的问题，即重叠矩阵的 Skeleton 导数：\n",
    "\n",
    "$$\n",
    "\\begin{align}\n",
    "S_{\\mu \\nu}^{A_t}\n",
    "&= \\int \\frac{\\partial \\phi_{\\mu_{M_1}} (\\boldsymbol{r} - \\boldsymbol{M}_1)}{\\partial A_t} \\phi_{\\nu_{M_2}} (\\boldsymbol{r} - \\boldsymbol{M}_2) \\, \\mathrm{d} \\boldsymbol{r} +\n",
    "\\mathrm{swap} (\\mu, \\nu) \\\\\n",
    "&= - \\int \\phi_{t \\mu_A} \\phi_\\nu \\, \\mathrm{d} \\boldsymbol{r} + \\mathrm{swap} (\\mu, \\nu) \\\\\n",
    "&= - \\langle \\partial_t \\mu_A | \\nu \\rangle + \\mathrm{swap} (\\mu, \\nu)\n",
    "\\end{align}\n",
    "$$"
   ]
  },
  {
   "cell_type": "markdown",
   "metadata": {},
   "source": [
    "上面的表达式回答了为何 $S_{\\mu \\nu}^{A_t}$ 有这么多零值。这是因为，若 $\\mu$ 作为 Gaussian 函数的中心不是原子核 $A$，那么 $\\langle \\partial_t \\mu_A | \\nu \\rangle$ 为零值。即使说还有 $\\mathrm{swap} (\\mu, \\nu)$，但这个补上去的转置也仍然不会改变 $S_{\\mu \\nu}^{A_t}$ 是一个零值非常多的矩阵的状况。\n",
    "\n",
    "不仅仅是 $S_{\\mu \\nu}^{A_t}$，其它的不少 Skeleton 导数都具有这种稀疏性。尽管储存这种稀疏的矩阵一般来说总是低效的，但为了程序方便，我们通常都明确地在程序中使用稠密矩阵来储存这类稀疏矩阵。"
   ]
  },
  {
   "cell_type": "markdown",
   "metadata": {},
   "source": [
    "在这一小段的最后，我们回顾一下上述推导过程中，一个很常用的推论："
   ]
  },
  {
   "cell_type": "markdown",
   "metadata": {},
   "source": [
    "<div class=\"alert alert-info\">\n",
    "\n",
    "**常用推论**\n",
    "\n",
    "$$\n",
    "\\partial_{A_t} \\mu = - \\partial_t \\mu_A\n",
    "$$\n",
    "\n",
    "</div>"
   ]
  },
  {
   "cell_type": "markdown",
   "metadata": {},
   "source": [
    "### 解析导数 (3) 程序"
   ]
  },
  {
   "cell_type": "markdown",
   "metadata": {},
   "source": [
    "所幸的是，PySCF 中，支持对 $\\langle \\partial_t \\mu | \\nu \\rangle$ 积分的计算。该积分可以暂存为 `int1e_ipovlp`："
   ]
  },
  {
   "cell_type": "code",
   "execution_count": 13,
   "metadata": {},
   "outputs": [
    {
     "data": {
      "text/plain": [
       "(3, 22, 22)"
      ]
     },
     "execution_count": 13,
     "metadata": {},
     "output_type": "execute_result"
    }
   ],
   "source": [
    "int1e_ipovlp = mol.intor(\"int1e_ipovlp\")\n",
    "int1e_ipovlp.shape"
   ]
  },
  {
   "cell_type": "markdown",
   "metadata": {},
   "source": [
    "但这甚至与我们所期望的 $S_{\\mu \\nu}^{A_t}$ 的维度也完全不同；`int1e_ovlp` $\\langle \\partial_t \\mu | \\nu \\rangle$ 的维度是 $(t, \\mu, \\nu)$，而 $S_{\\mu \\nu}^{A_t}$ 的维度应当是 $(A, t, \\mu, \\nu)$ 或 $(\\mathbb{A} = A_t, \\mu, \\nu)$。\n",
    "\n",
    "这是因为 $\\langle \\partial_t \\mu | \\nu \\rangle$ 并不等同于 $\\langle \\partial_t \\mu_A | \\nu \\rangle$；后者引入了原子轨道和原子之间的关系。譬如，对于 $A$ 为第 2 个氧原子 (索引 1 的原子) 而言，$\\langle \\partial_t \\mu_A | \\nu \\rangle$ 积分中，当 $\\mu$ 处在其它原子上时，矩阵元应当都为零。我们可以用下述代码生成 $A$ 为第 2 个氧原子的 `S_1_ao_atom1` $S_{\\mu \\nu}^{A_t}$ (维度为 $(t, \\mu, \\nu)$)："
   ]
  },
  {
   "cell_type": "code",
   "execution_count": 14,
   "metadata": {},
   "outputs": [
    {
     "data": {
      "text/plain": [
       "True"
      ]
     },
     "execution_count": 14,
     "metadata": {},
     "output_type": "execute_result"
    }
   ],
   "source": [
    "S_1_ao_atom1 = np.zeros((3, nao, nao))\n",
    "sA = mol_slice(1)\n",
    "S_1_ao_atom1[:, sA, :] = - int1e_ipovlp[:, sA, :]\n",
    "S_1_ao_atom1 += S_1_ao_atom1.swapaxes(-1, -2)\n",
    "np.allclose(S_1_ao_atom1, gradh.S_1_ao[3:6])"
   ]
  },
  {
   "cell_type": "markdown",
   "metadata": {},
   "source": [
    "上述代码的\n",
    "\n",
    "- Line 1：生成维度为 $(t, \\mu, \\nu)$ 的零矩阵；\n",
    "\n",
    "- Line 2：给出第二个氧原子为中心的所有原子轨道 $\\mu_A$ 的索引；\n",
    "\n",
    "- Line 3：对所有处在原子 $A$ 上的原子轨道 $\\mu$，赋值 $-\\langle \\partial_t \\mu | \\nu \\rangle$；\n",
    "\n",
    "- Line 4：处理 $\\mathrm{swap}(\\mu, \\nu)$\n",
    "\n",
    "- Line 5：与真实结果进行比对。"
   ]
  },
  {
   "cell_type": "markdown",
   "metadata": {},
   "source": [
    "那么，对上面的程序作一点点延伸，就可以给出完整的、所有原子的 `S_1_ao` $S_{\\mu \\nu}^{A_t}$ 了 (维度 $(A, t, \\mu, \\nu)$)："
   ]
  },
  {
   "cell_type": "code",
   "execution_count": 15,
   "metadata": {},
   "outputs": [],
   "source": [
    "S_1_ao = np.zeros((natm, 3, nao, nao))\n",
    "for A in range(natm):\n",
    "    sA = mol_slice(A)\n",
    "    S_1_ao[A, :, sA, :] = - int1e_ipovlp[:, sA, :]\n",
    "S_1_ao += S_1_ao.swapaxes(-1, -2)"
   ]
  },
  {
   "cell_type": "markdown",
   "metadata": {},
   "source": [
    "我们可以将其与 pyxdh 所给出的 `gradh.S_1_ao` 作比较；但在此之前，我们注意到两者维度不同："
   ]
  },
  {
   "cell_type": "code",
   "execution_count": 16,
   "metadata": {},
   "outputs": [
    {
     "name": "stdout",
     "output_type": "stream",
     "text": [
      "Our's S_1_ao: (4, 3, 22, 22)\n",
      "pyxdh S_1_ao: (12, 22, 22)\n"
     ]
    }
   ],
   "source": [
    "print(\"Our's S_1_ao:\", S_1_ao.shape)\n",
    "print(\"pyxdh S_1_ao:\", gradh.S_1_ao.shape)"
   ]
  },
  {
   "cell_type": "markdown",
   "metadata": {},
   "source": [
    "这是因为 pyxdh 使用 $\\mathbb{A} = A_t$ 的方式存储各种解析导数，因此会将 $(A, t)$ 组合为一个维度。这么做在一阶响应性质中会是累赘，但在二阶响应性质的推导和编写上会轻松不少。我们在以后的一阶响应性质的文档中，统一还是拆分 $(A, t)$ 作为两个维度考虑。\n",
    "\n",
    "那么，为比较上述两个张量是否相等，可以完全压平再进行比较："
   ]
  },
  {
   "cell_type": "code",
   "execution_count": 17,
   "metadata": {},
   "outputs": [
    {
     "data": {
      "text/plain": [
       "True"
      ]
     },
     "execution_count": 17,
     "metadata": {},
     "output_type": "execute_result"
    }
   ],
   "source": [
    "np.allclose(S_1_ao.flatten(), gradh.S_1_ao.flatten())"
   ]
  },
  {
   "cell_type": "markdown",
   "metadata": {},
   "source": [
    "### $S_{\\mu \\nu}^{A_t}$ 稀疏性 (2) 详细解释"
   ]
  },
  {
   "cell_type": "markdown",
   "metadata": {},
   "source": [
    "我们刚才已经推导过，\n",
    "\n",
    "$$\n",
    "\\begin{align}\n",
    "S_{\\mu \\nu}^{A_t}\n",
    "&= - \\langle \\partial_t \\mu_A | \\nu \\rangle + \\mathrm{swap} (\\mu, \\nu) \\\\\n",
    "&= - \\langle \\partial_t \\mu_A | \\nu \\rangle - \\langle \\mu | \\partial_t \\nu_A \\rangle\n",
    "\\end{align}\n",
    "$$"
   ]
  },
  {
   "cell_type": "markdown",
   "metadata": {},
   "source": [
    "因此，容易知道对于原子 $A$ 来讲，$S^{A_t}_{\\mu \\nu}$ 中，若 $\\mu \\neq A$ 且 $\\nu \\neq A$，则 $S_{\\mu \\nu}^{A_t} = 0$。下面展示的是，当 $A$ 是第 2 个氧原子 (索引 1) 且 $t = z$ 分量时，$S_{\\mu \\nu}^{A_t}$ 中所有 $\\mu \\neq A$ 且 $\\nu \\neq A$ 的元素值："
   ]
  },
  {
   "cell_type": "code",
   "execution_count": 18,
   "metadata": {},
   "outputs": [
    {
     "data": {
      "text/plain": [
       "array([[0., 0., 0., 0., 0., 0., 0., 0., 0., 0., 0., 0., 0.],\n",
       "       [0., 0., 0., 0., 0., 0., 0., 0., 0., 0., 0., 0., 0.],\n",
       "       [0., 0., 0., 0., 0., 0., 0., 0., 0., 0., 0., 0., 0.],\n",
       "       [0., 0., 0., 0., 0., 0., 0., 0., 0., 0., 0., 0., 0.],\n",
       "       [0., 0., 0., 0., 0., 0., 0., 0., 0., 0., 0., 0., 0.],\n",
       "       [0., 0., 0., 0., 0., 0., 0., 0., 0., 0., 0., 0., 0.],\n",
       "       [0., 0., 0., 0., 0., 0., 0., 0., 0., 0., 0., 0., 0.],\n",
       "       [0., 0., 0., 0., 0., 0., 0., 0., 0., 0., 0., 0., 0.],\n",
       "       [0., 0., 0., 0., 0., 0., 0., 0., 0., 0., 0., 0., 0.],\n",
       "       [0., 0., 0., 0., 0., 0., 0., 0., 0., 0., 0., 0., 0.],\n",
       "       [0., 0., 0., 0., 0., 0., 0., 0., 0., 0., 0., 0., 0.],\n",
       "       [0., 0., 0., 0., 0., 0., 0., 0., 0., 0., 0., 0., 0.],\n",
       "       [0., 0., 0., 0., 0., 0., 0., 0., 0., 0., 0., 0., 0.]])"
      ]
     },
     "execution_count": 18,
     "metadata": {},
     "output_type": "execute_result"
    }
   ],
   "source": [
    "slice_mu = list(range(nao))[mol_slice(0)] + list(range(nao))[mol_slice(2)] + list(range(nao))[mol_slice(3)]\n",
    "slice_nu = list(range(nao))[mol_slice(0)] + list(range(nao))[mol_slice(2)] + list(range(nao))[mol_slice(3)]\n",
    "S_1_ao[1, 2][slice_mu, :][:, slice_nu]"
   ]
  },
  {
   "cell_type": "markdown",
   "metadata": {},
   "source": [
    "剩下的元素全部都可能非零吗？并非如此。$S^{A_t}_{\\mu \\nu}$ 中，若 $\\mu = A$ 且 $\\nu = A$，仍然有 $S_{\\mu \\nu}^{A_t} = 0$。"
   ]
  },
  {
   "cell_type": "code",
   "execution_count": 19,
   "metadata": {},
   "outputs": [
    {
     "data": {
      "text/plain": [
       "array([[ 0., -0.,  0., -0., -0.,  0., -0., -0.,  0.],\n",
       "       [-0., -0., -0., -0., -0., -0., -0., -0.,  0.],\n",
       "       [ 0., -0., -0., -0., -0., -0., -0., -0.,  0.],\n",
       "       [-0., -0., -0., -0., -0., -0., -0., -0., -0.],\n",
       "       [-0., -0., -0., -0., -0., -0., -0., -0., -0.],\n",
       "       [ 0., -0., -0., -0., -0., -0., -0., -0., -0.],\n",
       "       [-0., -0., -0., -0., -0., -0., -0., -0., -0.],\n",
       "       [-0., -0., -0., -0., -0., -0., -0., -0., -0.],\n",
       "       [ 0.,  0.,  0., -0., -0., -0., -0., -0., -0.]])"
      ]
     },
     "execution_count": 19,
     "metadata": {},
     "output_type": "execute_result"
    }
   ],
   "source": [
    "slice_mu = mol_slice(1)\n",
    "slice_nu = mol_slice(1)\n",
    "S_1_ao[1, 2][slice_mu, :][:, slice_nu]"
   ]
  },
  {
   "cell_type": "markdown",
   "metadata": {},
   "source": [
    "<div class=\"alert alert-info\">\n",
    "\n",
    "**任务 (1)**\n",
    "\n",
    "证明\n",
    "\n",
    "$$\n",
    "\\langle \\partial_t \\mu_A | \\nu_A \\rangle + \\mathrm{swap} (\\mu, \\nu) = 0\n",
    "$$\n",
    "\n",
    "</div>"
   ]
  },
  {
   "cell_type": "markdown",
   "metadata": {},
   "source": [
    "其它的情况 ($\\mu = A$ 且 $\\nu \\neq A$，或 $\\mu \\neq A$ 且 $\\nu = A$) 则未必为零值；但完全可能因为分子或原子轨道对称性，导致零值的产生。这种零值我们就不作讨论了。"
   ]
  },
  {
   "cell_type": "markdown",
   "metadata": {},
   "source": [
    "### 数值导数"
   ]
  },
  {
   "cell_type": "markdown",
   "metadata": {},
   "source": [
    "最后，我们用数值导数与解析导数相互验证来收尾这一段。定义数值导数 `nd_S_0_ao` $\\partial_{A_t} S_{\\mu \\nu}$："
   ]
  },
  {
   "cell_type": "code",
   "execution_count": 20,
   "metadata": {},
   "outputs": [
    {
     "data": {
      "text/plain": [
       "(12, 22, 22)"
      ]
     },
     "execution_count": 20,
     "metadata": {},
     "output_type": "execute_result"
    }
   ],
   "source": [
    "nd_S_0_ao = NumericDiff(gradn, lambda gradh: gradh.S_0_ao).derivative\n",
    "nd_S_0_ao.shape"
   ]
  },
  {
   "cell_type": "markdown",
   "metadata": {},
   "source": [
    "像上一节一样，我们绘制其与方才计算得到的 `S_1_ao` $S_{\\mu \\nu}^t$ 的误差图："
   ]
  },
  {
   "cell_type": "code",
   "execution_count": 21,
   "metadata": {},
   "outputs": [
    {
     "data": {
      "application/javascript": [
       "/* Put everything inside the global mpl namespace */\n",
       "window.mpl = {};\n",
       "\n",
       "\n",
       "mpl.get_websocket_type = function() {\n",
       "    if (typeof(WebSocket) !== 'undefined') {\n",
       "        return WebSocket;\n",
       "    } else if (typeof(MozWebSocket) !== 'undefined') {\n",
       "        return MozWebSocket;\n",
       "    } else {\n",
       "        alert('Your browser does not have WebSocket support. ' +\n",
       "              'Please try Chrome, Safari or Firefox ≥ 6. ' +\n",
       "              'Firefox 4 and 5 are also supported but you ' +\n",
       "              'have to enable WebSockets in about:config.');\n",
       "    };\n",
       "}\n",
       "\n",
       "mpl.figure = function(figure_id, websocket, ondownload, parent_element) {\n",
       "    this.id = figure_id;\n",
       "\n",
       "    this.ws = websocket;\n",
       "\n",
       "    this.supports_binary = (this.ws.binaryType != undefined);\n",
       "\n",
       "    if (!this.supports_binary) {\n",
       "        var warnings = document.getElementById(\"mpl-warnings\");\n",
       "        if (warnings) {\n",
       "            warnings.style.display = 'block';\n",
       "            warnings.textContent = (\n",
       "                \"This browser does not support binary websocket messages. \" +\n",
       "                    \"Performance may be slow.\");\n",
       "        }\n",
       "    }\n",
       "\n",
       "    this.imageObj = new Image();\n",
       "\n",
       "    this.context = undefined;\n",
       "    this.message = undefined;\n",
       "    this.canvas = undefined;\n",
       "    this.rubberband_canvas = undefined;\n",
       "    this.rubberband_context = undefined;\n",
       "    this.format_dropdown = undefined;\n",
       "\n",
       "    this.image_mode = 'full';\n",
       "\n",
       "    this.root = $('<div/>');\n",
       "    this._root_extra_style(this.root)\n",
       "    this.root.attr('style', 'display: inline-block');\n",
       "\n",
       "    $(parent_element).append(this.root);\n",
       "\n",
       "    this._init_header(this);\n",
       "    this._init_canvas(this);\n",
       "    this._init_toolbar(this);\n",
       "\n",
       "    var fig = this;\n",
       "\n",
       "    this.waiting = false;\n",
       "\n",
       "    this.ws.onopen =  function () {\n",
       "            fig.send_message(\"supports_binary\", {value: fig.supports_binary});\n",
       "            fig.send_message(\"send_image_mode\", {});\n",
       "            if (mpl.ratio != 1) {\n",
       "                fig.send_message(\"set_dpi_ratio\", {'dpi_ratio': mpl.ratio});\n",
       "            }\n",
       "            fig.send_message(\"refresh\", {});\n",
       "        }\n",
       "\n",
       "    this.imageObj.onload = function() {\n",
       "            if (fig.image_mode == 'full') {\n",
       "                // Full images could contain transparency (where diff images\n",
       "                // almost always do), so we need to clear the canvas so that\n",
       "                // there is no ghosting.\n",
       "                fig.context.clearRect(0, 0, fig.canvas.width, fig.canvas.height);\n",
       "            }\n",
       "            fig.context.drawImage(fig.imageObj, 0, 0);\n",
       "        };\n",
       "\n",
       "    this.imageObj.onunload = function() {\n",
       "        fig.ws.close();\n",
       "    }\n",
       "\n",
       "    this.ws.onmessage = this._make_on_message_function(this);\n",
       "\n",
       "    this.ondownload = ondownload;\n",
       "}\n",
       "\n",
       "mpl.figure.prototype._init_header = function() {\n",
       "    var titlebar = $(\n",
       "        '<div class=\"ui-dialog-titlebar ui-widget-header ui-corner-all ' +\n",
       "        'ui-helper-clearfix\"/>');\n",
       "    var titletext = $(\n",
       "        '<div class=\"ui-dialog-title\" style=\"width: 100%; ' +\n",
       "        'text-align: center; padding: 3px;\"/>');\n",
       "    titlebar.append(titletext)\n",
       "    this.root.append(titlebar);\n",
       "    this.header = titletext[0];\n",
       "}\n",
       "\n",
       "\n",
       "\n",
       "mpl.figure.prototype._canvas_extra_style = function(canvas_div) {\n",
       "\n",
       "}\n",
       "\n",
       "\n",
       "mpl.figure.prototype._root_extra_style = function(canvas_div) {\n",
       "\n",
       "}\n",
       "\n",
       "mpl.figure.prototype._init_canvas = function() {\n",
       "    var fig = this;\n",
       "\n",
       "    var canvas_div = $('<div/>');\n",
       "\n",
       "    canvas_div.attr('style', 'position: relative; clear: both; outline: 0');\n",
       "\n",
       "    function canvas_keyboard_event(event) {\n",
       "        return fig.key_event(event, event['data']);\n",
       "    }\n",
       "\n",
       "    canvas_div.keydown('key_press', canvas_keyboard_event);\n",
       "    canvas_div.keyup('key_release', canvas_keyboard_event);\n",
       "    this.canvas_div = canvas_div\n",
       "    this._canvas_extra_style(canvas_div)\n",
       "    this.root.append(canvas_div);\n",
       "\n",
       "    var canvas = $('<canvas/>');\n",
       "    canvas.addClass('mpl-canvas');\n",
       "    canvas.attr('style', \"left: 0; top: 0; z-index: 0; outline: 0\")\n",
       "\n",
       "    this.canvas = canvas[0];\n",
       "    this.context = canvas[0].getContext(\"2d\");\n",
       "\n",
       "    var backingStore = this.context.backingStorePixelRatio ||\n",
       "\tthis.context.webkitBackingStorePixelRatio ||\n",
       "\tthis.context.mozBackingStorePixelRatio ||\n",
       "\tthis.context.msBackingStorePixelRatio ||\n",
       "\tthis.context.oBackingStorePixelRatio ||\n",
       "\tthis.context.backingStorePixelRatio || 1;\n",
       "\n",
       "    mpl.ratio = (window.devicePixelRatio || 1) / backingStore;\n",
       "\n",
       "    var rubberband = $('<canvas/>');\n",
       "    rubberband.attr('style', \"position: absolute; left: 0; top: 0; z-index: 1;\")\n",
       "\n",
       "    var pass_mouse_events = true;\n",
       "\n",
       "    canvas_div.resizable({\n",
       "        start: function(event, ui) {\n",
       "            pass_mouse_events = false;\n",
       "        },\n",
       "        resize: function(event, ui) {\n",
       "            fig.request_resize(ui.size.width, ui.size.height);\n",
       "        },\n",
       "        stop: function(event, ui) {\n",
       "            pass_mouse_events = true;\n",
       "            fig.request_resize(ui.size.width, ui.size.height);\n",
       "        },\n",
       "    });\n",
       "\n",
       "    function mouse_event_fn(event) {\n",
       "        if (pass_mouse_events)\n",
       "            return fig.mouse_event(event, event['data']);\n",
       "    }\n",
       "\n",
       "    rubberband.mousedown('button_press', mouse_event_fn);\n",
       "    rubberband.mouseup('button_release', mouse_event_fn);\n",
       "    // Throttle sequential mouse events to 1 every 20ms.\n",
       "    rubberband.mousemove('motion_notify', mouse_event_fn);\n",
       "\n",
       "    rubberband.mouseenter('figure_enter', mouse_event_fn);\n",
       "    rubberband.mouseleave('figure_leave', mouse_event_fn);\n",
       "\n",
       "    canvas_div.on(\"wheel\", function (event) {\n",
       "        event = event.originalEvent;\n",
       "        event['data'] = 'scroll'\n",
       "        if (event.deltaY < 0) {\n",
       "            event.step = 1;\n",
       "        } else {\n",
       "            event.step = -1;\n",
       "        }\n",
       "        mouse_event_fn(event);\n",
       "    });\n",
       "\n",
       "    canvas_div.append(canvas);\n",
       "    canvas_div.append(rubberband);\n",
       "\n",
       "    this.rubberband = rubberband;\n",
       "    this.rubberband_canvas = rubberband[0];\n",
       "    this.rubberband_context = rubberband[0].getContext(\"2d\");\n",
       "    this.rubberband_context.strokeStyle = \"#000000\";\n",
       "\n",
       "    this._resize_canvas = function(width, height) {\n",
       "        // Keep the size of the canvas, canvas container, and rubber band\n",
       "        // canvas in synch.\n",
       "        canvas_div.css('width', width)\n",
       "        canvas_div.css('height', height)\n",
       "\n",
       "        canvas.attr('width', width * mpl.ratio);\n",
       "        canvas.attr('height', height * mpl.ratio);\n",
       "        canvas.attr('style', 'width: ' + width + 'px; height: ' + height + 'px;');\n",
       "\n",
       "        rubberband.attr('width', width);\n",
       "        rubberband.attr('height', height);\n",
       "    }\n",
       "\n",
       "    // Set the figure to an initial 600x600px, this will subsequently be updated\n",
       "    // upon first draw.\n",
       "    this._resize_canvas(600, 600);\n",
       "\n",
       "    // Disable right mouse context menu.\n",
       "    $(this.rubberband_canvas).bind(\"contextmenu\",function(e){\n",
       "        return false;\n",
       "    });\n",
       "\n",
       "    function set_focus () {\n",
       "        canvas.focus();\n",
       "        canvas_div.focus();\n",
       "    }\n",
       "\n",
       "    window.setTimeout(set_focus, 100);\n",
       "}\n",
       "\n",
       "mpl.figure.prototype._init_toolbar = function() {\n",
       "    var fig = this;\n",
       "\n",
       "    var nav_element = $('<div/>');\n",
       "    nav_element.attr('style', 'width: 100%');\n",
       "    this.root.append(nav_element);\n",
       "\n",
       "    // Define a callback function for later on.\n",
       "    function toolbar_event(event) {\n",
       "        return fig.toolbar_button_onclick(event['data']);\n",
       "    }\n",
       "    function toolbar_mouse_event(event) {\n",
       "        return fig.toolbar_button_onmouseover(event['data']);\n",
       "    }\n",
       "\n",
       "    for(var toolbar_ind in mpl.toolbar_items) {\n",
       "        var name = mpl.toolbar_items[toolbar_ind][0];\n",
       "        var tooltip = mpl.toolbar_items[toolbar_ind][1];\n",
       "        var image = mpl.toolbar_items[toolbar_ind][2];\n",
       "        var method_name = mpl.toolbar_items[toolbar_ind][3];\n",
       "\n",
       "        if (!name) {\n",
       "            // put a spacer in here.\n",
       "            continue;\n",
       "        }\n",
       "        var button = $('<button/>');\n",
       "        button.addClass('ui-button ui-widget ui-state-default ui-corner-all ' +\n",
       "                        'ui-button-icon-only');\n",
       "        button.attr('role', 'button');\n",
       "        button.attr('aria-disabled', 'false');\n",
       "        button.click(method_name, toolbar_event);\n",
       "        button.mouseover(tooltip, toolbar_mouse_event);\n",
       "\n",
       "        var icon_img = $('<span/>');\n",
       "        icon_img.addClass('ui-button-icon-primary ui-icon');\n",
       "        icon_img.addClass(image);\n",
       "        icon_img.addClass('ui-corner-all');\n",
       "\n",
       "        var tooltip_span = $('<span/>');\n",
       "        tooltip_span.addClass('ui-button-text');\n",
       "        tooltip_span.html(tooltip);\n",
       "\n",
       "        button.append(icon_img);\n",
       "        button.append(tooltip_span);\n",
       "\n",
       "        nav_element.append(button);\n",
       "    }\n",
       "\n",
       "    var fmt_picker_span = $('<span/>');\n",
       "\n",
       "    var fmt_picker = $('<select/>');\n",
       "    fmt_picker.addClass('mpl-toolbar-option ui-widget ui-widget-content');\n",
       "    fmt_picker_span.append(fmt_picker);\n",
       "    nav_element.append(fmt_picker_span);\n",
       "    this.format_dropdown = fmt_picker[0];\n",
       "\n",
       "    for (var ind in mpl.extensions) {\n",
       "        var fmt = mpl.extensions[ind];\n",
       "        var option = $(\n",
       "            '<option/>', {selected: fmt === mpl.default_extension}).html(fmt);\n",
       "        fmt_picker.append(option);\n",
       "    }\n",
       "\n",
       "    // Add hover states to the ui-buttons\n",
       "    $( \".ui-button\" ).hover(\n",
       "        function() { $(this).addClass(\"ui-state-hover\");},\n",
       "        function() { $(this).removeClass(\"ui-state-hover\");}\n",
       "    );\n",
       "\n",
       "    var status_bar = $('<span class=\"mpl-message\"/>');\n",
       "    nav_element.append(status_bar);\n",
       "    this.message = status_bar[0];\n",
       "}\n",
       "\n",
       "mpl.figure.prototype.request_resize = function(x_pixels, y_pixels) {\n",
       "    // Request matplotlib to resize the figure. Matplotlib will then trigger a resize in the client,\n",
       "    // which will in turn request a refresh of the image.\n",
       "    this.send_message('resize', {'width': x_pixels, 'height': y_pixels});\n",
       "}\n",
       "\n",
       "mpl.figure.prototype.send_message = function(type, properties) {\n",
       "    properties['type'] = type;\n",
       "    properties['figure_id'] = this.id;\n",
       "    this.ws.send(JSON.stringify(properties));\n",
       "}\n",
       "\n",
       "mpl.figure.prototype.send_draw_message = function() {\n",
       "    if (!this.waiting) {\n",
       "        this.waiting = true;\n",
       "        this.ws.send(JSON.stringify({type: \"draw\", figure_id: this.id}));\n",
       "    }\n",
       "}\n",
       "\n",
       "\n",
       "mpl.figure.prototype.handle_save = function(fig, msg) {\n",
       "    var format_dropdown = fig.format_dropdown;\n",
       "    var format = format_dropdown.options[format_dropdown.selectedIndex].value;\n",
       "    fig.ondownload(fig, format);\n",
       "}\n",
       "\n",
       "\n",
       "mpl.figure.prototype.handle_resize = function(fig, msg) {\n",
       "    var size = msg['size'];\n",
       "    if (size[0] != fig.canvas.width || size[1] != fig.canvas.height) {\n",
       "        fig._resize_canvas(size[0], size[1]);\n",
       "        fig.send_message(\"refresh\", {});\n",
       "    };\n",
       "}\n",
       "\n",
       "mpl.figure.prototype.handle_rubberband = function(fig, msg) {\n",
       "    var x0 = msg['x0'] / mpl.ratio;\n",
       "    var y0 = (fig.canvas.height - msg['y0']) / mpl.ratio;\n",
       "    var x1 = msg['x1'] / mpl.ratio;\n",
       "    var y1 = (fig.canvas.height - msg['y1']) / mpl.ratio;\n",
       "    x0 = Math.floor(x0) + 0.5;\n",
       "    y0 = Math.floor(y0) + 0.5;\n",
       "    x1 = Math.floor(x1) + 0.5;\n",
       "    y1 = Math.floor(y1) + 0.5;\n",
       "    var min_x = Math.min(x0, x1);\n",
       "    var min_y = Math.min(y0, y1);\n",
       "    var width = Math.abs(x1 - x0);\n",
       "    var height = Math.abs(y1 - y0);\n",
       "\n",
       "    fig.rubberband_context.clearRect(\n",
       "        0, 0, fig.canvas.width / mpl.ratio, fig.canvas.height / mpl.ratio);\n",
       "\n",
       "    fig.rubberband_context.strokeRect(min_x, min_y, width, height);\n",
       "}\n",
       "\n",
       "mpl.figure.prototype.handle_figure_label = function(fig, msg) {\n",
       "    // Updates the figure title.\n",
       "    fig.header.textContent = msg['label'];\n",
       "}\n",
       "\n",
       "mpl.figure.prototype.handle_cursor = function(fig, msg) {\n",
       "    var cursor = msg['cursor'];\n",
       "    switch(cursor)\n",
       "    {\n",
       "    case 0:\n",
       "        cursor = 'pointer';\n",
       "        break;\n",
       "    case 1:\n",
       "        cursor = 'default';\n",
       "        break;\n",
       "    case 2:\n",
       "        cursor = 'crosshair';\n",
       "        break;\n",
       "    case 3:\n",
       "        cursor = 'move';\n",
       "        break;\n",
       "    }\n",
       "    fig.rubberband_canvas.style.cursor = cursor;\n",
       "}\n",
       "\n",
       "mpl.figure.prototype.handle_message = function(fig, msg) {\n",
       "    fig.message.textContent = msg['message'];\n",
       "}\n",
       "\n",
       "mpl.figure.prototype.handle_draw = function(fig, msg) {\n",
       "    // Request the server to send over a new figure.\n",
       "    fig.send_draw_message();\n",
       "}\n",
       "\n",
       "mpl.figure.prototype.handle_image_mode = function(fig, msg) {\n",
       "    fig.image_mode = msg['mode'];\n",
       "}\n",
       "\n",
       "mpl.figure.prototype.updated_canvas_event = function() {\n",
       "    // Called whenever the canvas gets updated.\n",
       "    this.send_message(\"ack\", {});\n",
       "}\n",
       "\n",
       "// A function to construct a web socket function for onmessage handling.\n",
       "// Called in the figure constructor.\n",
       "mpl.figure.prototype._make_on_message_function = function(fig) {\n",
       "    return function socket_on_message(evt) {\n",
       "        if (evt.data instanceof Blob) {\n",
       "            /* FIXME: We get \"Resource interpreted as Image but\n",
       "             * transferred with MIME type text/plain:\" errors on\n",
       "             * Chrome.  But how to set the MIME type?  It doesn't seem\n",
       "             * to be part of the websocket stream */\n",
       "            evt.data.type = \"image/png\";\n",
       "\n",
       "            /* Free the memory for the previous frames */\n",
       "            if (fig.imageObj.src) {\n",
       "                (window.URL || window.webkitURL).revokeObjectURL(\n",
       "                    fig.imageObj.src);\n",
       "            }\n",
       "\n",
       "            fig.imageObj.src = (window.URL || window.webkitURL).createObjectURL(\n",
       "                evt.data);\n",
       "            fig.updated_canvas_event();\n",
       "            fig.waiting = false;\n",
       "            return;\n",
       "        }\n",
       "        else if (typeof evt.data === 'string' && evt.data.slice(0, 21) == \"data:image/png;base64\") {\n",
       "            fig.imageObj.src = evt.data;\n",
       "            fig.updated_canvas_event();\n",
       "            fig.waiting = false;\n",
       "            return;\n",
       "        }\n",
       "\n",
       "        var msg = JSON.parse(evt.data);\n",
       "        var msg_type = msg['type'];\n",
       "\n",
       "        // Call the  \"handle_{type}\" callback, which takes\n",
       "        // the figure and JSON message as its only arguments.\n",
       "        try {\n",
       "            var callback = fig[\"handle_\" + msg_type];\n",
       "        } catch (e) {\n",
       "            console.log(\"No handler for the '\" + msg_type + \"' message type: \", msg);\n",
       "            return;\n",
       "        }\n",
       "\n",
       "        if (callback) {\n",
       "            try {\n",
       "                // console.log(\"Handling '\" + msg_type + \"' message: \", msg);\n",
       "                callback(fig, msg);\n",
       "            } catch (e) {\n",
       "                console.log(\"Exception inside the 'handler_\" + msg_type + \"' callback:\", e, e.stack, msg);\n",
       "            }\n",
       "        }\n",
       "    };\n",
       "}\n",
       "\n",
       "// from http://stackoverflow.com/questions/1114465/getting-mouse-location-in-canvas\n",
       "mpl.findpos = function(e) {\n",
       "    //this section is from http://www.quirksmode.org/js/events_properties.html\n",
       "    var targ;\n",
       "    if (!e)\n",
       "        e = window.event;\n",
       "    if (e.target)\n",
       "        targ = e.target;\n",
       "    else if (e.srcElement)\n",
       "        targ = e.srcElement;\n",
       "    if (targ.nodeType == 3) // defeat Safari bug\n",
       "        targ = targ.parentNode;\n",
       "\n",
       "    // jQuery normalizes the pageX and pageY\n",
       "    // pageX,Y are the mouse positions relative to the document\n",
       "    // offset() returns the position of the element relative to the document\n",
       "    var x = e.pageX - $(targ).offset().left;\n",
       "    var y = e.pageY - $(targ).offset().top;\n",
       "\n",
       "    return {\"x\": x, \"y\": y};\n",
       "};\n",
       "\n",
       "/*\n",
       " * return a copy of an object with only non-object keys\n",
       " * we need this to avoid circular references\n",
       " * http://stackoverflow.com/a/24161582/3208463\n",
       " */\n",
       "function simpleKeys (original) {\n",
       "  return Object.keys(original).reduce(function (obj, key) {\n",
       "    if (typeof original[key] !== 'object')\n",
       "        obj[key] = original[key]\n",
       "    return obj;\n",
       "  }, {});\n",
       "}\n",
       "\n",
       "mpl.figure.prototype.mouse_event = function(event, name) {\n",
       "    var canvas_pos = mpl.findpos(event)\n",
       "\n",
       "    if (name === 'button_press')\n",
       "    {\n",
       "        this.canvas.focus();\n",
       "        this.canvas_div.focus();\n",
       "    }\n",
       "\n",
       "    var x = canvas_pos.x * mpl.ratio;\n",
       "    var y = canvas_pos.y * mpl.ratio;\n",
       "\n",
       "    this.send_message(name, {x: x, y: y, button: event.button,\n",
       "                             step: event.step,\n",
       "                             guiEvent: simpleKeys(event)});\n",
       "\n",
       "    /* This prevents the web browser from automatically changing to\n",
       "     * the text insertion cursor when the button is pressed.  We want\n",
       "     * to control all of the cursor setting manually through the\n",
       "     * 'cursor' event from matplotlib */\n",
       "    event.preventDefault();\n",
       "    return false;\n",
       "}\n",
       "\n",
       "mpl.figure.prototype._key_event_extra = function(event, name) {\n",
       "    // Handle any extra behaviour associated with a key event\n",
       "}\n",
       "\n",
       "mpl.figure.prototype.key_event = function(event, name) {\n",
       "\n",
       "    // Prevent repeat events\n",
       "    if (name == 'key_press')\n",
       "    {\n",
       "        if (event.which === this._key)\n",
       "            return;\n",
       "        else\n",
       "            this._key = event.which;\n",
       "    }\n",
       "    if (name == 'key_release')\n",
       "        this._key = null;\n",
       "\n",
       "    var value = '';\n",
       "    if (event.ctrlKey && event.which != 17)\n",
       "        value += \"ctrl+\";\n",
       "    if (event.altKey && event.which != 18)\n",
       "        value += \"alt+\";\n",
       "    if (event.shiftKey && event.which != 16)\n",
       "        value += \"shift+\";\n",
       "\n",
       "    value += 'k';\n",
       "    value += event.which.toString();\n",
       "\n",
       "    this._key_event_extra(event, name);\n",
       "\n",
       "    this.send_message(name, {key: value,\n",
       "                             guiEvent: simpleKeys(event)});\n",
       "    return false;\n",
       "}\n",
       "\n",
       "mpl.figure.prototype.toolbar_button_onclick = function(name) {\n",
       "    if (name == 'download') {\n",
       "        this.handle_save(this, null);\n",
       "    } else {\n",
       "        this.send_message(\"toolbar_button\", {name: name});\n",
       "    }\n",
       "};\n",
       "\n",
       "mpl.figure.prototype.toolbar_button_onmouseover = function(tooltip) {\n",
       "    this.message.textContent = tooltip;\n",
       "};\n",
       "mpl.toolbar_items = [[\"Home\", \"Reset original view\", \"fa fa-home icon-home\", \"home\"], [\"Back\", \"Back to previous view\", \"fa fa-arrow-left icon-arrow-left\", \"back\"], [\"Forward\", \"Forward to next view\", \"fa fa-arrow-right icon-arrow-right\", \"forward\"], [\"\", \"\", \"\", \"\"], [\"Pan\", \"Pan axes with left mouse, zoom with right\", \"fa fa-arrows icon-move\", \"pan\"], [\"Zoom\", \"Zoom to rectangle\", \"fa fa-square-o icon-check-empty\", \"zoom\"], [\"\", \"\", \"\", \"\"], [\"Download\", \"Download plot\", \"fa fa-floppy-o icon-save\", \"download\"]];\n",
       "\n",
       "mpl.extensions = [\"eps\", \"pdf\", \"png\", \"ps\", \"raw\", \"svg\"];\n",
       "\n",
       "mpl.default_extension = \"png\";var comm_websocket_adapter = function(comm) {\n",
       "    // Create a \"websocket\"-like object which calls the given IPython comm\n",
       "    // object with the appropriate methods. Currently this is a non binary\n",
       "    // socket, so there is still some room for performance tuning.\n",
       "    var ws = {};\n",
       "\n",
       "    ws.close = function() {\n",
       "        comm.close()\n",
       "    };\n",
       "    ws.send = function(m) {\n",
       "        //console.log('sending', m);\n",
       "        comm.send(m);\n",
       "    };\n",
       "    // Register the callback with on_msg.\n",
       "    comm.on_msg(function(msg) {\n",
       "        //console.log('receiving', msg['content']['data'], msg);\n",
       "        // Pass the mpl event to the overridden (by mpl) onmessage function.\n",
       "        ws.onmessage(msg['content']['data'])\n",
       "    });\n",
       "    return ws;\n",
       "}\n",
       "\n",
       "mpl.mpl_figure_comm = function(comm, msg) {\n",
       "    // This is the function which gets called when the mpl process\n",
       "    // starts-up an IPython Comm through the \"matplotlib\" channel.\n",
       "\n",
       "    var id = msg.content.data.id;\n",
       "    // Get hold of the div created by the display call when the Comm\n",
       "    // socket was opened in Python.\n",
       "    var element = $(\"#\" + id);\n",
       "    var ws_proxy = comm_websocket_adapter(comm)\n",
       "\n",
       "    function ondownload(figure, format) {\n",
       "        window.open(figure.imageObj.src);\n",
       "    }\n",
       "\n",
       "    var fig = new mpl.figure(id, ws_proxy,\n",
       "                           ondownload,\n",
       "                           element.get(0));\n",
       "\n",
       "    // Call onopen now - mpl needs it, as it is assuming we've passed it a real\n",
       "    // web socket which is closed, not our websocket->open comm proxy.\n",
       "    ws_proxy.onopen();\n",
       "\n",
       "    fig.parent_element = element.get(0);\n",
       "    fig.cell_info = mpl.find_output_cell(\"<div id='\" + id + \"'></div>\");\n",
       "    if (!fig.cell_info) {\n",
       "        console.error(\"Failed to find cell for figure\", id, fig);\n",
       "        return;\n",
       "    }\n",
       "\n",
       "    var output_index = fig.cell_info[2]\n",
       "    var cell = fig.cell_info[0];\n",
       "\n",
       "};\n",
       "\n",
       "mpl.figure.prototype.handle_close = function(fig, msg) {\n",
       "    var width = fig.canvas.width/mpl.ratio\n",
       "    fig.root.unbind('remove')\n",
       "\n",
       "    // Update the output cell to use the data from the current canvas.\n",
       "    fig.push_to_output();\n",
       "    var dataURL = fig.canvas.toDataURL();\n",
       "    // Re-enable the keyboard manager in IPython - without this line, in FF,\n",
       "    // the notebook keyboard shortcuts fail.\n",
       "    IPython.keyboard_manager.enable()\n",
       "    $(fig.parent_element).html('<img src=\"' + dataURL + '\" width=\"' + width + '\">');\n",
       "    fig.close_ws(fig, msg);\n",
       "}\n",
       "\n",
       "mpl.figure.prototype.close_ws = function(fig, msg){\n",
       "    fig.send_message('closing', msg);\n",
       "    // fig.ws.close()\n",
       "}\n",
       "\n",
       "mpl.figure.prototype.push_to_output = function(remove_interactive) {\n",
       "    // Turn the data on the canvas into data in the output cell.\n",
       "    var width = this.canvas.width/mpl.ratio\n",
       "    var dataURL = this.canvas.toDataURL();\n",
       "    this.cell_info[1]['text/html'] = '<img src=\"' + dataURL + '\" width=\"' + width + '\">';\n",
       "}\n",
       "\n",
       "mpl.figure.prototype.updated_canvas_event = function() {\n",
       "    // Tell IPython that the notebook contents must change.\n",
       "    IPython.notebook.set_dirty(true);\n",
       "    this.send_message(\"ack\", {});\n",
       "    var fig = this;\n",
       "    // Wait a second, then push the new image to the DOM so\n",
       "    // that it is saved nicely (might be nice to debounce this).\n",
       "    setTimeout(function () { fig.push_to_output() }, 1000);\n",
       "}\n",
       "\n",
       "mpl.figure.prototype._init_toolbar = function() {\n",
       "    var fig = this;\n",
       "\n",
       "    var nav_element = $('<div/>');\n",
       "    nav_element.attr('style', 'width: 100%');\n",
       "    this.root.append(nav_element);\n",
       "\n",
       "    // Define a callback function for later on.\n",
       "    function toolbar_event(event) {\n",
       "        return fig.toolbar_button_onclick(event['data']);\n",
       "    }\n",
       "    function toolbar_mouse_event(event) {\n",
       "        return fig.toolbar_button_onmouseover(event['data']);\n",
       "    }\n",
       "\n",
       "    for(var toolbar_ind in mpl.toolbar_items){\n",
       "        var name = mpl.toolbar_items[toolbar_ind][0];\n",
       "        var tooltip = mpl.toolbar_items[toolbar_ind][1];\n",
       "        var image = mpl.toolbar_items[toolbar_ind][2];\n",
       "        var method_name = mpl.toolbar_items[toolbar_ind][3];\n",
       "\n",
       "        if (!name) { continue; };\n",
       "\n",
       "        var button = $('<button class=\"btn btn-default\" href=\"#\" title=\"' + name + '\"><i class=\"fa ' + image + ' fa-lg\"></i></button>');\n",
       "        button.click(method_name, toolbar_event);\n",
       "        button.mouseover(tooltip, toolbar_mouse_event);\n",
       "        nav_element.append(button);\n",
       "    }\n",
       "\n",
       "    // Add the status bar.\n",
       "    var status_bar = $('<span class=\"mpl-message\" style=\"text-align:right; float: right;\"/>');\n",
       "    nav_element.append(status_bar);\n",
       "    this.message = status_bar[0];\n",
       "\n",
       "    // Add the close button to the window.\n",
       "    var buttongrp = $('<div class=\"btn-group inline pull-right\"></div>');\n",
       "    var button = $('<button class=\"btn btn-mini btn-primary\" href=\"#\" title=\"Stop Interaction\"><i class=\"fa fa-power-off icon-remove icon-large\"></i></button>');\n",
       "    button.click(function (evt) { fig.handle_close(fig, {}); } );\n",
       "    button.mouseover('Stop Interaction', toolbar_mouse_event);\n",
       "    buttongrp.append(button);\n",
       "    var titlebar = this.root.find($('.ui-dialog-titlebar'));\n",
       "    titlebar.prepend(buttongrp);\n",
       "}\n",
       "\n",
       "mpl.figure.prototype._root_extra_style = function(el){\n",
       "    var fig = this\n",
       "    el.on(\"remove\", function(){\n",
       "\tfig.close_ws(fig, {});\n",
       "    });\n",
       "}\n",
       "\n",
       "mpl.figure.prototype._canvas_extra_style = function(el){\n",
       "    // this is important to make the div 'focusable\n",
       "    el.attr('tabindex', 0)\n",
       "    // reach out to IPython and tell the keyboard manager to turn it's self\n",
       "    // off when our div gets focus\n",
       "\n",
       "    // location in version 3\n",
       "    if (IPython.notebook.keyboard_manager) {\n",
       "        IPython.notebook.keyboard_manager.register_events(el);\n",
       "    }\n",
       "    else {\n",
       "        // location in version 2\n",
       "        IPython.keyboard_manager.register_events(el);\n",
       "    }\n",
       "\n",
       "}\n",
       "\n",
       "mpl.figure.prototype._key_event_extra = function(event, name) {\n",
       "    var manager = IPython.notebook.keyboard_manager;\n",
       "    if (!manager)\n",
       "        manager = IPython.keyboard_manager;\n",
       "\n",
       "    // Check for shift+enter\n",
       "    if (event.shiftKey && event.which == 13) {\n",
       "        this.canvas_div.blur();\n",
       "        // select the cell after this one\n",
       "        var index = IPython.notebook.find_cell_index(this.cell_info[0]);\n",
       "        IPython.notebook.select(index + 1);\n",
       "    }\n",
       "}\n",
       "\n",
       "mpl.figure.prototype.handle_save = function(fig, msg) {\n",
       "    fig.ondownload(fig, null);\n",
       "}\n",
       "\n",
       "\n",
       "mpl.find_output_cell = function(html_output) {\n",
       "    // Return the cell and output element which can be found *uniquely* in the notebook.\n",
       "    // Note - this is a bit hacky, but it is done because the \"notebook_saving.Notebook\"\n",
       "    // IPython event is triggered only after the cells have been serialised, which for\n",
       "    // our purposes (turning an active figure into a static one), is too late.\n",
       "    var cells = IPython.notebook.get_cells();\n",
       "    var ncells = cells.length;\n",
       "    for (var i=0; i<ncells; i++) {\n",
       "        var cell = cells[i];\n",
       "        if (cell.cell_type === 'code'){\n",
       "            for (var j=0; j<cell.output_area.outputs.length; j++) {\n",
       "                var data = cell.output_area.outputs[j];\n",
       "                if (data.data) {\n",
       "                    // IPython >= 3 moved mimebundle to data attribute of output\n",
       "                    data = data.data;\n",
       "                }\n",
       "                if (data['text/html'] == html_output) {\n",
       "                    return [cell, data, j];\n",
       "                }\n",
       "            }\n",
       "        }\n",
       "    }\n",
       "}\n",
       "\n",
       "// Register the function which deals with the matplotlib target/channel.\n",
       "// The kernel may be null if the page has been refreshed.\n",
       "if (IPython.notebook.kernel != null) {\n",
       "    IPython.notebook.kernel.comm_manager.register_target('matplotlib', mpl.mpl_figure_comm);\n",
       "}\n"
      ],
      "text/plain": [
       "<IPython.core.display.Javascript object>"
      ]
     },
     "metadata": {},
     "output_type": "display_data"
    },
    {
     "data": {
      "text/html": [
       "<img src=\"data:image/png;base64,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\" width=\"400\">"
      ],
      "text/plain": [
       "<IPython.core.display.HTML object>"
      ]
     },
     "metadata": {},
     "output_type": "display_data"
    }
   ],
   "source": [
    "fig, ax = plt.subplots(figsize=(4, 3))\n",
    "ax.hist(abs(nd_S_0_ao.ravel() - S_1_ao.ravel()), bins=np.logspace(np.log10(1e-12), np.log10(1e-2), 50), alpha=0.5)\n",
    "ax.hist(abs(nd_S_0_ao.ravel()), bins=np.logspace(np.log10(1e-12), np.log10(1e-2), 50), alpha=0.5)\n",
    "ax.set_xscale(\"log\")\n",
    "fig.tight_layout()"
   ]
  },
  {
   "cell_type": "markdown",
   "metadata": {},
   "source": [
    "## Hamiltonian Core 导数"
   ]
  },
  {
   "cell_type": "markdown",
   "metadata": {},
   "source": [
    "### 解析梯度 (1) 原子轨道导数"
   ]
  },
  {
   "cell_type": "markdown",
   "metadata": {},
   "source": [
    "Hamiltonian Core 定义为\n",
    "\n",
    "$$\n",
    "\\hat h = \\hat t + \\hat v_\\mathrm{nuc}\n",
    "$$"
   ]
  },
  {
   "cell_type": "markdown",
   "metadata": {},
   "source": [
    "我们先考虑动能积分：\n",
    "\n",
    "$$\n",
    "\\begin{align}\n",
    "h_{\\mu \\nu}^{A_t} &\\leftarrow \\frac{\\partial}{\\partial A_t} \\langle \\mu | \\hat t | \\nu \\rangle \\\\\n",
    "&= \\langle \\partial_{A_t} \\mu | \\hat t | \\nu \\rangle + \\mathrm{swap} (\\mu, \\nu) \\\\\n",
    "&= - \\langle \\partial_t \\mu_A | \\hat t | \\nu \\rangle + \\mathrm{swap} (\\mu, \\nu)\n",
    "\\end{align}\n",
    "$$"
   ]
  },
  {
   "cell_type": "markdown",
   "metadata": {},
   "source": [
    "上面的第 3 行导出过程中，我们利用到了 $\\partial_{A_t} \\mu = - \\partial_t \\mu_A$ 的结论。"
   ]
  },
  {
   "cell_type": "markdown",
   "metadata": {},
   "source": [
    "<div class=\"alert alert-info\">\n",
    "\n",
    "**任务 (2)**\n",
    "\n",
    "请用简单的语言，简述为何下式为零：\n",
    "\n",
    "$$\n",
    "\\langle \\mu_A | \\partial_{A_t} \\hat t | \\nu_A \\rangle = 0\n",
    "$$\n",
    "\n",
    "</div>"
   ]
  },
  {
   "cell_type": "markdown",
   "metadata": {},
   "source": [
    "其中，$\\langle \\partial_t \\mu | \\hat t | \\nu \\rangle$ 积分在 PySCF 中可以通过 `int1e_ipkin` 获得。因此，动能部分的贡献大小是 `H_1_ao_kin`："
   ]
  },
  {
   "cell_type": "code",
   "execution_count": 22,
   "metadata": {},
   "outputs": [],
   "source": [
    "int1e_ipkin = mol.intor(\"int1e_ipkin\")\n",
    "H_1_ao_kin = np.zeros((natm, 3, nao, nao))\n",
    "for A in range(natm):\n",
    "    sA = mol_slice(A)\n",
    "    H_1_ao_kin[A, :, sA, :] = - int1e_ipkin[:, sA, :]\n",
    "H_1_ao_kin += H_1_ao_kin.swapaxes(-1, -2)"
   ]
  },
  {
   "cell_type": "markdown",
   "metadata": {},
   "source": [
    "随后我们考虑势能积分：\n",
    "\n",
    "$$\n",
    "\\begin{align}\n",
    "h_{\\mu \\nu}^{A_t} &\\leftarrow \\frac{\\partial}{\\partial A_t} \\langle \\mu | \\hat v_\\mathrm{nuc} | \\nu \\rangle \\\\\n",
    "&= \\langle \\partial_{A_t} \\mu | \\hat v_\\mathrm{nuc} | \\nu \\rangle + \\langle \\mu | \\hat v_\\mathrm{nuc} | \\partial_{A_t} \\nu \\rangle + \\langle \\mu | \\partial_{A_t} \\hat v_\\mathrm{nuc} | \\nu \\rangle\n",
    "\\end{align}\n",
    "$$"
   ]
  },
  {
   "cell_type": "markdown",
   "metadata": {},
   "source": [
    "我们指出，在势能积分中，$\\langle \\mu | \\partial_{A_t} \\hat v_\\mathrm{nuc} | \\nu \\rangle$ 一项并非是零；而这一项考虑起来也稍复杂一些，我们放在下一小段中叙述。这里我们先生成前两项的贡献大小 `H_1_ao_nuc1`：\n",
    "\n",
    "$$\n",
    "h_{\\mu \\nu}^{A_t} \\leftarrow - \\langle \\partial_t \\mu_A | \\hat v_\\mathrm{nuc} | \\nu \\rangle + \\mathrm{swap} (\\mu, \\nu)\n",
    "$$\n",
    "\n",
    "其中，$\\langle \\partial_t \\mu | \\hat v_\\mathrm{nuc} | \\nu \\rangle$ 积分在 PySCF 中可以通过 `int1e_ipnuc` 获得："
   ]
  },
  {
   "cell_type": "code",
   "execution_count": 23,
   "metadata": {},
   "outputs": [],
   "source": [
    "int1e_ipnuc = mol.intor(\"int1e_ipnuc\")\n",
    "H_1_ao_nuc1 = np.zeros((natm, 3, nao, nao))\n",
    "for A in range(natm):\n",
    "    sA = mol_slice(A)\n",
    "    H_1_ao_nuc1[A, :, sA, :] = - int1e_ipnuc[:, sA, :]\n",
    "H_1_ao_nuc1 += H_1_ao_nuc1.swapaxes(-1, -2)"
   ]
  },
  {
   "cell_type": "markdown",
   "metadata": {},
   "source": [
    "### 解析导数 (2) 核静电势算符导数"
   ]
  },
  {
   "cell_type": "markdown",
   "metadata": {},
   "source": [
    "这里我们处理 $\\langle \\mu | \\partial_{A_t} \\hat v_\\mathrm{nuc} | \\nu \\rangle$ 的计算。这里我们暂时不用 Einstein Summation。\n",
    "\n",
    "我们回顾到\n",
    "\n",
    "$$\n",
    "\\hat v_\\mathrm{nuc} = - \\sum_M \\frac{Z_M}{| \\boldsymbol{r} - \\boldsymbol{M} |}\n",
    "$$\n",
    "\n",
    "上式是对原子核索引 $M$ 求和。由于算符 $v_\\mathrm{nuc}$ 不像偏导算符，$v_\\mathrm{nuc}$ 可以当作数来对待，因此单独分析 $\\partial_{A_t} \\hat v_\\mathrm{nuc}$ 是有意义的。那么，\n",
    "\n",
    "$$\n",
    "\\partial_{A_t} \\hat v_\\mathrm{nuc} = - \\sum_M \\frac{\\partial}{\\partial A_t} \\frac{Z_M}{| \\boldsymbol{r} - \\boldsymbol{M} |}\n",
    "$$"
   ]
  },
  {
   "cell_type": "markdown",
   "metadata": {},
   "source": [
    "上式中，有可能与 $A_t$ 产生联系的只可能是 $M$ 原子核坐标 $\\boldsymbol{M}$。参考 $S_{\\mu \\nu}^{A_t}$ 导出过程分析，我们知道，若 $M \\neq A$，那么两者就无关了。因此，只有当 $M = A$ 时才能产生导数：\n",
    "\n",
    "$$\n",
    "\\partial_{A_t} \\hat v_\\mathrm{nuc} = - \\frac{\\partial}{\\partial A_t} \\frac{Z_A}{| \\boldsymbol{r} - \\boldsymbol{A} |}\n",
    "$$"
   ]
  },
  {
   "cell_type": "markdown",
   "metadata": {},
   "source": [
    "注意到上式并没有对任何角标作求和。下面我们利用一个小技巧，将关于 $A_t$ (原子核坐标分量) 的导数转为关于 $t$ (电子坐标分量) 的导数：\n",
    "\n",
    "$$\n",
    "\\frac{\\partial}{\\partial t} \\frac{Z_A}{| \\boldsymbol{r} - \\boldsymbol{A} |} = - \\frac{\\partial}{\\partial A_t} \\frac{Z_A}{| \\boldsymbol{r} - \\boldsymbol{A} |}\n",
    "$$"
   ]
  },
  {
   "cell_type": "markdown",
   "metadata": {},
   "source": [
    "<div class=\"alert alert-info\">\n",
    "\n",
    "**任务 (3)**\n",
    "\n",
    "请尝试证明上述等式。\n",
    "\n",
    "</div>"
   ]
  },
  {
   "cell_type": "markdown",
   "metadata": {},
   "source": [
    "因此，\n",
    "\n",
    "$$\n",
    "\\langle \\mu | \\partial_{A_t} \\hat v_\\mathrm{nuc} | \\nu \\rangle = \\langle \\mu | \\frac{\\partial}{\\partial t} \\frac{Z_A}{| \\boldsymbol{r} - \\boldsymbol{A} |} | \\nu \\rangle\n",
    "$$"
   ]
  },
  {
   "cell_type": "markdown",
   "metadata": {},
   "source": [
    "我们固然可以利用任务 (3) 的结论求取上述积分结果；但这不仅困难，而且 PySCF 中事实上没有提供类似于 $\\langle \\mu | r^3 | \\nu \\rangle$ 的积分程序。\n",
    "\n",
    "我们再使用一个小技巧：\n",
    "\n",
    "$$\n",
    "\\begin{align}\n",
    "\\langle \\mu | \\partial_{A_t} \\hat v_\\mathrm{nuc} | \\nu \\rangle\n",
    "&= \\int \\phi_\\mu \\phi_\\nu \\frac{\\partial}{\\partial t} \\frac{Z_A}{| \\boldsymbol{r} - \\boldsymbol{A} |} \\, \\mathrm{d} \\boldsymbol{r} \\\\\n",
    "&= - \\int \\frac{\\partial}{\\partial t} (\\phi_\\mu \\phi_\\nu) \\cdot \\frac{Z_A}{| \\boldsymbol{r} - \\boldsymbol{A} |} \\, \\mathrm{d} \\boldsymbol{r} \\\\\n",
    "&= - \\langle \\partial_t \\mu | \\frac{Z_A}{| \\boldsymbol{r} - \\boldsymbol{A} |} | \\nu \\rangle + \\mathrm{swap} (\\mu, \\nu)\n",
    "\\end{align}\n",
    "$$"
   ]
  },
  {
   "cell_type": "markdown",
   "metadata": {},
   "source": [
    "在 PySCF 中， $\\langle \\partial_t \\mu | r^{-1} | \\nu \\rangle$ 的积分可以用 `int1e_iprinv` 调出。我们知道，对于上面 $|\\boldsymbol{r} - \\boldsymbol{A}|^{-1}$ 这种情况，积分的求取需要先将原点移动至 $A$ 原子坐标即 $\\boldsymbol{A}$。这个程序的技巧在 [核排斥势积分](../qcbasic/basic_rhf.ipynb#核排斥势积分) 有所提及。我们将上述积分的结果储存在 `H_1_ao_nuc2` 中："
   ]
  },
  {
   "cell_type": "code",
   "execution_count": 24,
   "metadata": {},
   "outputs": [],
   "source": [
    "H_1_ao_nuc2 = np.zeros((natm, 3, nao, nao))\n",
    "Z_A = mol.atom_charges()\n",
    "for A in range(natm):\n",
    "    with mol.with_rinv_as_nucleus(A):\n",
    "        H_1_ao_nuc2[A] -= Z_A[A] * mol.intor(\"int1e_iprinv\")\n",
    "H_1_ao_nuc2 += H_1_ao_nuc2.swapaxes(-1, -2)"
   ]
  },
  {
   "cell_type": "markdown",
   "metadata": {},
   "source": [
    "<div class=\"alert alert-info\">\n",
    "\n",
    "**任务 (4)**\n",
    "\n",
    "请尝试证明上述推导过程的第二个等号：\n",
    "\n",
    "$$\n",
    "\\int \\phi_\\mu \\phi_\\nu \\frac{\\partial}{\\partial t} \\frac{Z_A}{| \\boldsymbol{r} - \\boldsymbol{A} |} \\, \\mathrm{d} \\boldsymbol{r}\n",
    "= - \\int \\frac{\\partial}{\\partial t} (\\phi_\\mu \\phi_\\nu) \\cdot \\frac{Z_A}{| \\boldsymbol{r} - \\boldsymbol{A} |} \\, \\mathrm{d} \\boldsymbol{r}\n",
    "$$\n",
    "\n",
    "</div>"
   ]
  },
  {
   "cell_type": "markdown",
   "metadata": {},
   "source": [
    "<div class=\"alert alert-info\">\n",
    "\n",
    "**任务 (5)**\n",
    "\n",
    "读者可能在这里意识到了，之所以我们利用下述小技巧 (将偏导从对原子分量偏导 $\\partial_{A_t}$ 转为对电子坐标分量偏导)\n",
    "\n",
    "$$\n",
    "\\frac{\\partial}{\\partial t} \\frac{Z_A}{| \\boldsymbol{r} - \\boldsymbol{A} |} = - \\frac{\\partial}{\\partial A_t} \\frac{Z_A}{| \\boldsymbol{r} - \\boldsymbol{A} |}\n",
    "$$\n",
    "\n",
    "是为了进一步证明任务 (4) 中所指出的公式。\n",
    "\n",
    "不利用上面的小技巧事实上很难推演出能程序化的表达式。退一步说，下述等式为何一般地不成立？\n",
    "\n",
    "$$\n",
    "\\int \\phi_\\mu \\phi_\\nu \\frac{\\partial}{\\partial A_t} \\frac{Z_A}{| \\boldsymbol{r} - \\boldsymbol{A} |} \\, \\mathrm{d} \\boldsymbol{r}\n",
    "\\not \\equiv - \\int \\frac{\\partial}{\\partial A_t} (\\phi_\\mu \\phi_\\nu) \\cdot \\frac{Z_A}{| \\boldsymbol{r} - \\boldsymbol{A} |} \\, \\mathrm{d} \\boldsymbol{r}\n",
    "$$\n",
    "\n",
    "</div>"
   ]
  },
  {
   "cell_type": "markdown",
   "metadata": {},
   "source": [
    "### 解析梯度总结与数值梯度"
   ]
  },
  {
   "cell_type": "markdown",
   "metadata": {},
   "source": [
    "至此，我们已经将所有的 $h_{\\mu \\nu}^{A_t}$ 的贡献项求取完毕了：\n",
    "\n",
    "$$\n",
    "h_{\\mu \\nu}^{A_t} = - \\langle \\partial_t \\mu_A | \\hat t | \\nu \\rangle - \\langle \\partial_t \\mu_A | \\hat v_\\mathrm{nuc} | \\nu \\rangle - \\langle \\partial_t \\mu | \\frac{Z_A}{| \\boldsymbol{r} - \\boldsymbol{A} |} | \\nu \\rangle + \\mathrm{swap} (\\mu, \\nu)\n",
    "$$"
   ]
  },
  {
   "cell_type": "markdown",
   "metadata": {},
   "source": [
    "综合上面几段代码，我们可以通过下述方式实现 `H_1_ao` $h_{\\mu \\nu}^{A_t}$："
   ]
  },
  {
   "cell_type": "code",
   "execution_count": 25,
   "metadata": {},
   "outputs": [],
   "source": [
    "int1e_ipkin = mol.intor(\"int1e_ipkin\")\n",
    "int1e_ipnuc = mol.intor(\"int1e_ipnuc\")\n",
    "Z_A = mol.atom_charges()"
   ]
  },
  {
   "cell_type": "code",
   "execution_count": 26,
   "metadata": {},
   "outputs": [],
   "source": [
    "H_1_ao = np.zeros((natm, 3, nao, nao))\n",
    "for A in range(natm):\n",
    "    sA = mol_slice(A)\n",
    "    H_1_ao[A, :, sA, :] -= int1e_ipkin[:, sA, :]\n",
    "    H_1_ao[A, :, sA, :] -= int1e_ipnuc[:, sA, :]\n",
    "    with mol.with_rinv_as_nucleus(A):\n",
    "        H_1_ao[A] -= Z_A[A] * mol.intor(\"int1e_iprinv\")\n",
    "H_1_ao += H_1_ao.swapaxes(-1, -2)"
   ]
  },
  {
   "cell_type": "markdown",
   "metadata": {},
   "source": [
    "这与 pyxdh 所实现的 $h_{\\mu \\nu}^{A_t}$ 完全一致："
   ]
  },
  {
   "cell_type": "code",
   "execution_count": 27,
   "metadata": {},
   "outputs": [
    {
     "data": {
      "text/plain": [
       "True"
      ]
     },
     "execution_count": 27,
     "metadata": {},
     "output_type": "execute_result"
    }
   ],
   "source": [
    "np.allclose(H_1_ao.ravel(), gradh.H_1_ao.ravel())"
   ]
  },
  {
   "cell_type": "markdown",
   "metadata": {},
   "source": [
    "我们也可以通过数值导数的方法生成 `nd_H_0_ao` $\\partial_{A_t} h_{\\mu \\nu}$ 并用图像验证其与 `H_1_ao` $h_{\\mu \\nu}^{A_t}$ 非常接近："
   ]
  },
  {
   "cell_type": "code",
   "execution_count": 28,
   "metadata": {},
   "outputs": [
    {
     "data": {
      "text/plain": [
       "(12, 22, 22)"
      ]
     },
     "execution_count": 28,
     "metadata": {},
     "output_type": "execute_result"
    }
   ],
   "source": [
    "nd_H_0_ao = NumericDiff(gradn, lambda gradh: gradh.H_0_ao).derivative\n",
    "nd_H_0_ao.shape"
   ]
  },
  {
   "cell_type": "code",
   "execution_count": 29,
   "metadata": {},
   "outputs": [
    {
     "data": {
      "application/javascript": [
       "/* Put everything inside the global mpl namespace */\n",
       "window.mpl = {};\n",
       "\n",
       "\n",
       "mpl.get_websocket_type = function() {\n",
       "    if (typeof(WebSocket) !== 'undefined') {\n",
       "        return WebSocket;\n",
       "    } else if (typeof(MozWebSocket) !== 'undefined') {\n",
       "        return MozWebSocket;\n",
       "    } else {\n",
       "        alert('Your browser does not have WebSocket support. ' +\n",
       "              'Please try Chrome, Safari or Firefox ≥ 6. ' +\n",
       "              'Firefox 4 and 5 are also supported but you ' +\n",
       "              'have to enable WebSockets in about:config.');\n",
       "    };\n",
       "}\n",
       "\n",
       "mpl.figure = function(figure_id, websocket, ondownload, parent_element) {\n",
       "    this.id = figure_id;\n",
       "\n",
       "    this.ws = websocket;\n",
       "\n",
       "    this.supports_binary = (this.ws.binaryType != undefined);\n",
       "\n",
       "    if (!this.supports_binary) {\n",
       "        var warnings = document.getElementById(\"mpl-warnings\");\n",
       "        if (warnings) {\n",
       "            warnings.style.display = 'block';\n",
       "            warnings.textContent = (\n",
       "                \"This browser does not support binary websocket messages. \" +\n",
       "                    \"Performance may be slow.\");\n",
       "        }\n",
       "    }\n",
       "\n",
       "    this.imageObj = new Image();\n",
       "\n",
       "    this.context = undefined;\n",
       "    this.message = undefined;\n",
       "    this.canvas = undefined;\n",
       "    this.rubberband_canvas = undefined;\n",
       "    this.rubberband_context = undefined;\n",
       "    this.format_dropdown = undefined;\n",
       "\n",
       "    this.image_mode = 'full';\n",
       "\n",
       "    this.root = $('<div/>');\n",
       "    this._root_extra_style(this.root)\n",
       "    this.root.attr('style', 'display: inline-block');\n",
       "\n",
       "    $(parent_element).append(this.root);\n",
       "\n",
       "    this._init_header(this);\n",
       "    this._init_canvas(this);\n",
       "    this._init_toolbar(this);\n",
       "\n",
       "    var fig = this;\n",
       "\n",
       "    this.waiting = false;\n",
       "\n",
       "    this.ws.onopen =  function () {\n",
       "            fig.send_message(\"supports_binary\", {value: fig.supports_binary});\n",
       "            fig.send_message(\"send_image_mode\", {});\n",
       "            if (mpl.ratio != 1) {\n",
       "                fig.send_message(\"set_dpi_ratio\", {'dpi_ratio': mpl.ratio});\n",
       "            }\n",
       "            fig.send_message(\"refresh\", {});\n",
       "        }\n",
       "\n",
       "    this.imageObj.onload = function() {\n",
       "            if (fig.image_mode == 'full') {\n",
       "                // Full images could contain transparency (where diff images\n",
       "                // almost always do), so we need to clear the canvas so that\n",
       "                // there is no ghosting.\n",
       "                fig.context.clearRect(0, 0, fig.canvas.width, fig.canvas.height);\n",
       "            }\n",
       "            fig.context.drawImage(fig.imageObj, 0, 0);\n",
       "        };\n",
       "\n",
       "    this.imageObj.onunload = function() {\n",
       "        fig.ws.close();\n",
       "    }\n",
       "\n",
       "    this.ws.onmessage = this._make_on_message_function(this);\n",
       "\n",
       "    this.ondownload = ondownload;\n",
       "}\n",
       "\n",
       "mpl.figure.prototype._init_header = function() {\n",
       "    var titlebar = $(\n",
       "        '<div class=\"ui-dialog-titlebar ui-widget-header ui-corner-all ' +\n",
       "        'ui-helper-clearfix\"/>');\n",
       "    var titletext = $(\n",
       "        '<div class=\"ui-dialog-title\" style=\"width: 100%; ' +\n",
       "        'text-align: center; padding: 3px;\"/>');\n",
       "    titlebar.append(titletext)\n",
       "    this.root.append(titlebar);\n",
       "    this.header = titletext[0];\n",
       "}\n",
       "\n",
       "\n",
       "\n",
       "mpl.figure.prototype._canvas_extra_style = function(canvas_div) {\n",
       "\n",
       "}\n",
       "\n",
       "\n",
       "mpl.figure.prototype._root_extra_style = function(canvas_div) {\n",
       "\n",
       "}\n",
       "\n",
       "mpl.figure.prototype._init_canvas = function() {\n",
       "    var fig = this;\n",
       "\n",
       "    var canvas_div = $('<div/>');\n",
       "\n",
       "    canvas_div.attr('style', 'position: relative; clear: both; outline: 0');\n",
       "\n",
       "    function canvas_keyboard_event(event) {\n",
       "        return fig.key_event(event, event['data']);\n",
       "    }\n",
       "\n",
       "    canvas_div.keydown('key_press', canvas_keyboard_event);\n",
       "    canvas_div.keyup('key_release', canvas_keyboard_event);\n",
       "    this.canvas_div = canvas_div\n",
       "    this._canvas_extra_style(canvas_div)\n",
       "    this.root.append(canvas_div);\n",
       "\n",
       "    var canvas = $('<canvas/>');\n",
       "    canvas.addClass('mpl-canvas');\n",
       "    canvas.attr('style', \"left: 0; top: 0; z-index: 0; outline: 0\")\n",
       "\n",
       "    this.canvas = canvas[0];\n",
       "    this.context = canvas[0].getContext(\"2d\");\n",
       "\n",
       "    var backingStore = this.context.backingStorePixelRatio ||\n",
       "\tthis.context.webkitBackingStorePixelRatio ||\n",
       "\tthis.context.mozBackingStorePixelRatio ||\n",
       "\tthis.context.msBackingStorePixelRatio ||\n",
       "\tthis.context.oBackingStorePixelRatio ||\n",
       "\tthis.context.backingStorePixelRatio || 1;\n",
       "\n",
       "    mpl.ratio = (window.devicePixelRatio || 1) / backingStore;\n",
       "\n",
       "    var rubberband = $('<canvas/>');\n",
       "    rubberband.attr('style', \"position: absolute; left: 0; top: 0; z-index: 1;\")\n",
       "\n",
       "    var pass_mouse_events = true;\n",
       "\n",
       "    canvas_div.resizable({\n",
       "        start: function(event, ui) {\n",
       "            pass_mouse_events = false;\n",
       "        },\n",
       "        resize: function(event, ui) {\n",
       "            fig.request_resize(ui.size.width, ui.size.height);\n",
       "        },\n",
       "        stop: function(event, ui) {\n",
       "            pass_mouse_events = true;\n",
       "            fig.request_resize(ui.size.width, ui.size.height);\n",
       "        },\n",
       "    });\n",
       "\n",
       "    function mouse_event_fn(event) {\n",
       "        if (pass_mouse_events)\n",
       "            return fig.mouse_event(event, event['data']);\n",
       "    }\n",
       "\n",
       "    rubberband.mousedown('button_press', mouse_event_fn);\n",
       "    rubberband.mouseup('button_release', mouse_event_fn);\n",
       "    // Throttle sequential mouse events to 1 every 20ms.\n",
       "    rubberband.mousemove('motion_notify', mouse_event_fn);\n",
       "\n",
       "    rubberband.mouseenter('figure_enter', mouse_event_fn);\n",
       "    rubberband.mouseleave('figure_leave', mouse_event_fn);\n",
       "\n",
       "    canvas_div.on(\"wheel\", function (event) {\n",
       "        event = event.originalEvent;\n",
       "        event['data'] = 'scroll'\n",
       "        if (event.deltaY < 0) {\n",
       "            event.step = 1;\n",
       "        } else {\n",
       "            event.step = -1;\n",
       "        }\n",
       "        mouse_event_fn(event);\n",
       "    });\n",
       "\n",
       "    canvas_div.append(canvas);\n",
       "    canvas_div.append(rubberband);\n",
       "\n",
       "    this.rubberband = rubberband;\n",
       "    this.rubberband_canvas = rubberband[0];\n",
       "    this.rubberband_context = rubberband[0].getContext(\"2d\");\n",
       "    this.rubberband_context.strokeStyle = \"#000000\";\n",
       "\n",
       "    this._resize_canvas = function(width, height) {\n",
       "        // Keep the size of the canvas, canvas container, and rubber band\n",
       "        // canvas in synch.\n",
       "        canvas_div.css('width', width)\n",
       "        canvas_div.css('height', height)\n",
       "\n",
       "        canvas.attr('width', width * mpl.ratio);\n",
       "        canvas.attr('height', height * mpl.ratio);\n",
       "        canvas.attr('style', 'width: ' + width + 'px; height: ' + height + 'px;');\n",
       "\n",
       "        rubberband.attr('width', width);\n",
       "        rubberband.attr('height', height);\n",
       "    }\n",
       "\n",
       "    // Set the figure to an initial 600x600px, this will subsequently be updated\n",
       "    // upon first draw.\n",
       "    this._resize_canvas(600, 600);\n",
       "\n",
       "    // Disable right mouse context menu.\n",
       "    $(this.rubberband_canvas).bind(\"contextmenu\",function(e){\n",
       "        return false;\n",
       "    });\n",
       "\n",
       "    function set_focus () {\n",
       "        canvas.focus();\n",
       "        canvas_div.focus();\n",
       "    }\n",
       "\n",
       "    window.setTimeout(set_focus, 100);\n",
       "}\n",
       "\n",
       "mpl.figure.prototype._init_toolbar = function() {\n",
       "    var fig = this;\n",
       "\n",
       "    var nav_element = $('<div/>');\n",
       "    nav_element.attr('style', 'width: 100%');\n",
       "    this.root.append(nav_element);\n",
       "\n",
       "    // Define a callback function for later on.\n",
       "    function toolbar_event(event) {\n",
       "        return fig.toolbar_button_onclick(event['data']);\n",
       "    }\n",
       "    function toolbar_mouse_event(event) {\n",
       "        return fig.toolbar_button_onmouseover(event['data']);\n",
       "    }\n",
       "\n",
       "    for(var toolbar_ind in mpl.toolbar_items) {\n",
       "        var name = mpl.toolbar_items[toolbar_ind][0];\n",
       "        var tooltip = mpl.toolbar_items[toolbar_ind][1];\n",
       "        var image = mpl.toolbar_items[toolbar_ind][2];\n",
       "        var method_name = mpl.toolbar_items[toolbar_ind][3];\n",
       "\n",
       "        if (!name) {\n",
       "            // put a spacer in here.\n",
       "            continue;\n",
       "        }\n",
       "        var button = $('<button/>');\n",
       "        button.addClass('ui-button ui-widget ui-state-default ui-corner-all ' +\n",
       "                        'ui-button-icon-only');\n",
       "        button.attr('role', 'button');\n",
       "        button.attr('aria-disabled', 'false');\n",
       "        button.click(method_name, toolbar_event);\n",
       "        button.mouseover(tooltip, toolbar_mouse_event);\n",
       "\n",
       "        var icon_img = $('<span/>');\n",
       "        icon_img.addClass('ui-button-icon-primary ui-icon');\n",
       "        icon_img.addClass(image);\n",
       "        icon_img.addClass('ui-corner-all');\n",
       "\n",
       "        var tooltip_span = $('<span/>');\n",
       "        tooltip_span.addClass('ui-button-text');\n",
       "        tooltip_span.html(tooltip);\n",
       "\n",
       "        button.append(icon_img);\n",
       "        button.append(tooltip_span);\n",
       "\n",
       "        nav_element.append(button);\n",
       "    }\n",
       "\n",
       "    var fmt_picker_span = $('<span/>');\n",
       "\n",
       "    var fmt_picker = $('<select/>');\n",
       "    fmt_picker.addClass('mpl-toolbar-option ui-widget ui-widget-content');\n",
       "    fmt_picker_span.append(fmt_picker);\n",
       "    nav_element.append(fmt_picker_span);\n",
       "    this.format_dropdown = fmt_picker[0];\n",
       "\n",
       "    for (var ind in mpl.extensions) {\n",
       "        var fmt = mpl.extensions[ind];\n",
       "        var option = $(\n",
       "            '<option/>', {selected: fmt === mpl.default_extension}).html(fmt);\n",
       "        fmt_picker.append(option);\n",
       "    }\n",
       "\n",
       "    // Add hover states to the ui-buttons\n",
       "    $( \".ui-button\" ).hover(\n",
       "        function() { $(this).addClass(\"ui-state-hover\");},\n",
       "        function() { $(this).removeClass(\"ui-state-hover\");}\n",
       "    );\n",
       "\n",
       "    var status_bar = $('<span class=\"mpl-message\"/>');\n",
       "    nav_element.append(status_bar);\n",
       "    this.message = status_bar[0];\n",
       "}\n",
       "\n",
       "mpl.figure.prototype.request_resize = function(x_pixels, y_pixels) {\n",
       "    // Request matplotlib to resize the figure. Matplotlib will then trigger a resize in the client,\n",
       "    // which will in turn request a refresh of the image.\n",
       "    this.send_message('resize', {'width': x_pixels, 'height': y_pixels});\n",
       "}\n",
       "\n",
       "mpl.figure.prototype.send_message = function(type, properties) {\n",
       "    properties['type'] = type;\n",
       "    properties['figure_id'] = this.id;\n",
       "    this.ws.send(JSON.stringify(properties));\n",
       "}\n",
       "\n",
       "mpl.figure.prototype.send_draw_message = function() {\n",
       "    if (!this.waiting) {\n",
       "        this.waiting = true;\n",
       "        this.ws.send(JSON.stringify({type: \"draw\", figure_id: this.id}));\n",
       "    }\n",
       "}\n",
       "\n",
       "\n",
       "mpl.figure.prototype.handle_save = function(fig, msg) {\n",
       "    var format_dropdown = fig.format_dropdown;\n",
       "    var format = format_dropdown.options[format_dropdown.selectedIndex].value;\n",
       "    fig.ondownload(fig, format);\n",
       "}\n",
       "\n",
       "\n",
       "mpl.figure.prototype.handle_resize = function(fig, msg) {\n",
       "    var size = msg['size'];\n",
       "    if (size[0] != fig.canvas.width || size[1] != fig.canvas.height) {\n",
       "        fig._resize_canvas(size[0], size[1]);\n",
       "        fig.send_message(\"refresh\", {});\n",
       "    };\n",
       "}\n",
       "\n",
       "mpl.figure.prototype.handle_rubberband = function(fig, msg) {\n",
       "    var x0 = msg['x0'] / mpl.ratio;\n",
       "    var y0 = (fig.canvas.height - msg['y0']) / mpl.ratio;\n",
       "    var x1 = msg['x1'] / mpl.ratio;\n",
       "    var y1 = (fig.canvas.height - msg['y1']) / mpl.ratio;\n",
       "    x0 = Math.floor(x0) + 0.5;\n",
       "    y0 = Math.floor(y0) + 0.5;\n",
       "    x1 = Math.floor(x1) + 0.5;\n",
       "    y1 = Math.floor(y1) + 0.5;\n",
       "    var min_x = Math.min(x0, x1);\n",
       "    var min_y = Math.min(y0, y1);\n",
       "    var width = Math.abs(x1 - x0);\n",
       "    var height = Math.abs(y1 - y0);\n",
       "\n",
       "    fig.rubberband_context.clearRect(\n",
       "        0, 0, fig.canvas.width / mpl.ratio, fig.canvas.height / mpl.ratio);\n",
       "\n",
       "    fig.rubberband_context.strokeRect(min_x, min_y, width, height);\n",
       "}\n",
       "\n",
       "mpl.figure.prototype.handle_figure_label = function(fig, msg) {\n",
       "    // Updates the figure title.\n",
       "    fig.header.textContent = msg['label'];\n",
       "}\n",
       "\n",
       "mpl.figure.prototype.handle_cursor = function(fig, msg) {\n",
       "    var cursor = msg['cursor'];\n",
       "    switch(cursor)\n",
       "    {\n",
       "    case 0:\n",
       "        cursor = 'pointer';\n",
       "        break;\n",
       "    case 1:\n",
       "        cursor = 'default';\n",
       "        break;\n",
       "    case 2:\n",
       "        cursor = 'crosshair';\n",
       "        break;\n",
       "    case 3:\n",
       "        cursor = 'move';\n",
       "        break;\n",
       "    }\n",
       "    fig.rubberband_canvas.style.cursor = cursor;\n",
       "}\n",
       "\n",
       "mpl.figure.prototype.handle_message = function(fig, msg) {\n",
       "    fig.message.textContent = msg['message'];\n",
       "}\n",
       "\n",
       "mpl.figure.prototype.handle_draw = function(fig, msg) {\n",
       "    // Request the server to send over a new figure.\n",
       "    fig.send_draw_message();\n",
       "}\n",
       "\n",
       "mpl.figure.prototype.handle_image_mode = function(fig, msg) {\n",
       "    fig.image_mode = msg['mode'];\n",
       "}\n",
       "\n",
       "mpl.figure.prototype.updated_canvas_event = function() {\n",
       "    // Called whenever the canvas gets updated.\n",
       "    this.send_message(\"ack\", {});\n",
       "}\n",
       "\n",
       "// A function to construct a web socket function for onmessage handling.\n",
       "// Called in the figure constructor.\n",
       "mpl.figure.prototype._make_on_message_function = function(fig) {\n",
       "    return function socket_on_message(evt) {\n",
       "        if (evt.data instanceof Blob) {\n",
       "            /* FIXME: We get \"Resource interpreted as Image but\n",
       "             * transferred with MIME type text/plain:\" errors on\n",
       "             * Chrome.  But how to set the MIME type?  It doesn't seem\n",
       "             * to be part of the websocket stream */\n",
       "            evt.data.type = \"image/png\";\n",
       "\n",
       "            /* Free the memory for the previous frames */\n",
       "            if (fig.imageObj.src) {\n",
       "                (window.URL || window.webkitURL).revokeObjectURL(\n",
       "                    fig.imageObj.src);\n",
       "            }\n",
       "\n",
       "            fig.imageObj.src = (window.URL || window.webkitURL).createObjectURL(\n",
       "                evt.data);\n",
       "            fig.updated_canvas_event();\n",
       "            fig.waiting = false;\n",
       "            return;\n",
       "        }\n",
       "        else if (typeof evt.data === 'string' && evt.data.slice(0, 21) == \"data:image/png;base64\") {\n",
       "            fig.imageObj.src = evt.data;\n",
       "            fig.updated_canvas_event();\n",
       "            fig.waiting = false;\n",
       "            return;\n",
       "        }\n",
       "\n",
       "        var msg = JSON.parse(evt.data);\n",
       "        var msg_type = msg['type'];\n",
       "\n",
       "        // Call the  \"handle_{type}\" callback, which takes\n",
       "        // the figure and JSON message as its only arguments.\n",
       "        try {\n",
       "            var callback = fig[\"handle_\" + msg_type];\n",
       "        } catch (e) {\n",
       "            console.log(\"No handler for the '\" + msg_type + \"' message type: \", msg);\n",
       "            return;\n",
       "        }\n",
       "\n",
       "        if (callback) {\n",
       "            try {\n",
       "                // console.log(\"Handling '\" + msg_type + \"' message: \", msg);\n",
       "                callback(fig, msg);\n",
       "            } catch (e) {\n",
       "                console.log(\"Exception inside the 'handler_\" + msg_type + \"' callback:\", e, e.stack, msg);\n",
       "            }\n",
       "        }\n",
       "    };\n",
       "}\n",
       "\n",
       "// from http://stackoverflow.com/questions/1114465/getting-mouse-location-in-canvas\n",
       "mpl.findpos = function(e) {\n",
       "    //this section is from http://www.quirksmode.org/js/events_properties.html\n",
       "    var targ;\n",
       "    if (!e)\n",
       "        e = window.event;\n",
       "    if (e.target)\n",
       "        targ = e.target;\n",
       "    else if (e.srcElement)\n",
       "        targ = e.srcElement;\n",
       "    if (targ.nodeType == 3) // defeat Safari bug\n",
       "        targ = targ.parentNode;\n",
       "\n",
       "    // jQuery normalizes the pageX and pageY\n",
       "    // pageX,Y are the mouse positions relative to the document\n",
       "    // offset() returns the position of the element relative to the document\n",
       "    var x = e.pageX - $(targ).offset().left;\n",
       "    var y = e.pageY - $(targ).offset().top;\n",
       "\n",
       "    return {\"x\": x, \"y\": y};\n",
       "};\n",
       "\n",
       "/*\n",
       " * return a copy of an object with only non-object keys\n",
       " * we need this to avoid circular references\n",
       " * http://stackoverflow.com/a/24161582/3208463\n",
       " */\n",
       "function simpleKeys (original) {\n",
       "  return Object.keys(original).reduce(function (obj, key) {\n",
       "    if (typeof original[key] !== 'object')\n",
       "        obj[key] = original[key]\n",
       "    return obj;\n",
       "  }, {});\n",
       "}\n",
       "\n",
       "mpl.figure.prototype.mouse_event = function(event, name) {\n",
       "    var canvas_pos = mpl.findpos(event)\n",
       "\n",
       "    if (name === 'button_press')\n",
       "    {\n",
       "        this.canvas.focus();\n",
       "        this.canvas_div.focus();\n",
       "    }\n",
       "\n",
       "    var x = canvas_pos.x * mpl.ratio;\n",
       "    var y = canvas_pos.y * mpl.ratio;\n",
       "\n",
       "    this.send_message(name, {x: x, y: y, button: event.button,\n",
       "                             step: event.step,\n",
       "                             guiEvent: simpleKeys(event)});\n",
       "\n",
       "    /* This prevents the web browser from automatically changing to\n",
       "     * the text insertion cursor when the button is pressed.  We want\n",
       "     * to control all of the cursor setting manually through the\n",
       "     * 'cursor' event from matplotlib */\n",
       "    event.preventDefault();\n",
       "    return false;\n",
       "}\n",
       "\n",
       "mpl.figure.prototype._key_event_extra = function(event, name) {\n",
       "    // Handle any extra behaviour associated with a key event\n",
       "}\n",
       "\n",
       "mpl.figure.prototype.key_event = function(event, name) {\n",
       "\n",
       "    // Prevent repeat events\n",
       "    if (name == 'key_press')\n",
       "    {\n",
       "        if (event.which === this._key)\n",
       "            return;\n",
       "        else\n",
       "            this._key = event.which;\n",
       "    }\n",
       "    if (name == 'key_release')\n",
       "        this._key = null;\n",
       "\n",
       "    var value = '';\n",
       "    if (event.ctrlKey && event.which != 17)\n",
       "        value += \"ctrl+\";\n",
       "    if (event.altKey && event.which != 18)\n",
       "        value += \"alt+\";\n",
       "    if (event.shiftKey && event.which != 16)\n",
       "        value += \"shift+\";\n",
       "\n",
       "    value += 'k';\n",
       "    value += event.which.toString();\n",
       "\n",
       "    this._key_event_extra(event, name);\n",
       "\n",
       "    this.send_message(name, {key: value,\n",
       "                             guiEvent: simpleKeys(event)});\n",
       "    return false;\n",
       "}\n",
       "\n",
       "mpl.figure.prototype.toolbar_button_onclick = function(name) {\n",
       "    if (name == 'download') {\n",
       "        this.handle_save(this, null);\n",
       "    } else {\n",
       "        this.send_message(\"toolbar_button\", {name: name});\n",
       "    }\n",
       "};\n",
       "\n",
       "mpl.figure.prototype.toolbar_button_onmouseover = function(tooltip) {\n",
       "    this.message.textContent = tooltip;\n",
       "};\n",
       "mpl.toolbar_items = [[\"Home\", \"Reset original view\", \"fa fa-home icon-home\", \"home\"], [\"Back\", \"Back to previous view\", \"fa fa-arrow-left icon-arrow-left\", \"back\"], [\"Forward\", \"Forward to next view\", \"fa fa-arrow-right icon-arrow-right\", \"forward\"], [\"\", \"\", \"\", \"\"], [\"Pan\", \"Pan axes with left mouse, zoom with right\", \"fa fa-arrows icon-move\", \"pan\"], [\"Zoom\", \"Zoom to rectangle\", \"fa fa-square-o icon-check-empty\", \"zoom\"], [\"\", \"\", \"\", \"\"], [\"Download\", \"Download plot\", \"fa fa-floppy-o icon-save\", \"download\"]];\n",
       "\n",
       "mpl.extensions = [\"eps\", \"pdf\", \"png\", \"ps\", \"raw\", \"svg\"];\n",
       "\n",
       "mpl.default_extension = \"png\";var comm_websocket_adapter = function(comm) {\n",
       "    // Create a \"websocket\"-like object which calls the given IPython comm\n",
       "    // object with the appropriate methods. Currently this is a non binary\n",
       "    // socket, so there is still some room for performance tuning.\n",
       "    var ws = {};\n",
       "\n",
       "    ws.close = function() {\n",
       "        comm.close()\n",
       "    };\n",
       "    ws.send = function(m) {\n",
       "        //console.log('sending', m);\n",
       "        comm.send(m);\n",
       "    };\n",
       "    // Register the callback with on_msg.\n",
       "    comm.on_msg(function(msg) {\n",
       "        //console.log('receiving', msg['content']['data'], msg);\n",
       "        // Pass the mpl event to the overridden (by mpl) onmessage function.\n",
       "        ws.onmessage(msg['content']['data'])\n",
       "    });\n",
       "    return ws;\n",
       "}\n",
       "\n",
       "mpl.mpl_figure_comm = function(comm, msg) {\n",
       "    // This is the function which gets called when the mpl process\n",
       "    // starts-up an IPython Comm through the \"matplotlib\" channel.\n",
       "\n",
       "    var id = msg.content.data.id;\n",
       "    // Get hold of the div created by the display call when the Comm\n",
       "    // socket was opened in Python.\n",
       "    var element = $(\"#\" + id);\n",
       "    var ws_proxy = comm_websocket_adapter(comm)\n",
       "\n",
       "    function ondownload(figure, format) {\n",
       "        window.open(figure.imageObj.src);\n",
       "    }\n",
       "\n",
       "    var fig = new mpl.figure(id, ws_proxy,\n",
       "                           ondownload,\n",
       "                           element.get(0));\n",
       "\n",
       "    // Call onopen now - mpl needs it, as it is assuming we've passed it a real\n",
       "    // web socket which is closed, not our websocket->open comm proxy.\n",
       "    ws_proxy.onopen();\n",
       "\n",
       "    fig.parent_element = element.get(0);\n",
       "    fig.cell_info = mpl.find_output_cell(\"<div id='\" + id + \"'></div>\");\n",
       "    if (!fig.cell_info) {\n",
       "        console.error(\"Failed to find cell for figure\", id, fig);\n",
       "        return;\n",
       "    }\n",
       "\n",
       "    var output_index = fig.cell_info[2]\n",
       "    var cell = fig.cell_info[0];\n",
       "\n",
       "};\n",
       "\n",
       "mpl.figure.prototype.handle_close = function(fig, msg) {\n",
       "    var width = fig.canvas.width/mpl.ratio\n",
       "    fig.root.unbind('remove')\n",
       "\n",
       "    // Update the output cell to use the data from the current canvas.\n",
       "    fig.push_to_output();\n",
       "    var dataURL = fig.canvas.toDataURL();\n",
       "    // Re-enable the keyboard manager in IPython - without this line, in FF,\n",
       "    // the notebook keyboard shortcuts fail.\n",
       "    IPython.keyboard_manager.enable()\n",
       "    $(fig.parent_element).html('<img src=\"' + dataURL + '\" width=\"' + width + '\">');\n",
       "    fig.close_ws(fig, msg);\n",
       "}\n",
       "\n",
       "mpl.figure.prototype.close_ws = function(fig, msg){\n",
       "    fig.send_message('closing', msg);\n",
       "    // fig.ws.close()\n",
       "}\n",
       "\n",
       "mpl.figure.prototype.push_to_output = function(remove_interactive) {\n",
       "    // Turn the data on the canvas into data in the output cell.\n",
       "    var width = this.canvas.width/mpl.ratio\n",
       "    var dataURL = this.canvas.toDataURL();\n",
       "    this.cell_info[1]['text/html'] = '<img src=\"' + dataURL + '\" width=\"' + width + '\">';\n",
       "}\n",
       "\n",
       "mpl.figure.prototype.updated_canvas_event = function() {\n",
       "    // Tell IPython that the notebook contents must change.\n",
       "    IPython.notebook.set_dirty(true);\n",
       "    this.send_message(\"ack\", {});\n",
       "    var fig = this;\n",
       "    // Wait a second, then push the new image to the DOM so\n",
       "    // that it is saved nicely (might be nice to debounce this).\n",
       "    setTimeout(function () { fig.push_to_output() }, 1000);\n",
       "}\n",
       "\n",
       "mpl.figure.prototype._init_toolbar = function() {\n",
       "    var fig = this;\n",
       "\n",
       "    var nav_element = $('<div/>');\n",
       "    nav_element.attr('style', 'width: 100%');\n",
       "    this.root.append(nav_element);\n",
       "\n",
       "    // Define a callback function for later on.\n",
       "    function toolbar_event(event) {\n",
       "        return fig.toolbar_button_onclick(event['data']);\n",
       "    }\n",
       "    function toolbar_mouse_event(event) {\n",
       "        return fig.toolbar_button_onmouseover(event['data']);\n",
       "    }\n",
       "\n",
       "    for(var toolbar_ind in mpl.toolbar_items){\n",
       "        var name = mpl.toolbar_items[toolbar_ind][0];\n",
       "        var tooltip = mpl.toolbar_items[toolbar_ind][1];\n",
       "        var image = mpl.toolbar_items[toolbar_ind][2];\n",
       "        var method_name = mpl.toolbar_items[toolbar_ind][3];\n",
       "\n",
       "        if (!name) { continue; };\n",
       "\n",
       "        var button = $('<button class=\"btn btn-default\" href=\"#\" title=\"' + name + '\"><i class=\"fa ' + image + ' fa-lg\"></i></button>');\n",
       "        button.click(method_name, toolbar_event);\n",
       "        button.mouseover(tooltip, toolbar_mouse_event);\n",
       "        nav_element.append(button);\n",
       "    }\n",
       "\n",
       "    // Add the status bar.\n",
       "    var status_bar = $('<span class=\"mpl-message\" style=\"text-align:right; float: right;\"/>');\n",
       "    nav_element.append(status_bar);\n",
       "    this.message = status_bar[0];\n",
       "\n",
       "    // Add the close button to the window.\n",
       "    var buttongrp = $('<div class=\"btn-group inline pull-right\"></div>');\n",
       "    var button = $('<button class=\"btn btn-mini btn-primary\" href=\"#\" title=\"Stop Interaction\"><i class=\"fa fa-power-off icon-remove icon-large\"></i></button>');\n",
       "    button.click(function (evt) { fig.handle_close(fig, {}); } );\n",
       "    button.mouseover('Stop Interaction', toolbar_mouse_event);\n",
       "    buttongrp.append(button);\n",
       "    var titlebar = this.root.find($('.ui-dialog-titlebar'));\n",
       "    titlebar.prepend(buttongrp);\n",
       "}\n",
       "\n",
       "mpl.figure.prototype._root_extra_style = function(el){\n",
       "    var fig = this\n",
       "    el.on(\"remove\", function(){\n",
       "\tfig.close_ws(fig, {});\n",
       "    });\n",
       "}\n",
       "\n",
       "mpl.figure.prototype._canvas_extra_style = function(el){\n",
       "    // this is important to make the div 'focusable\n",
       "    el.attr('tabindex', 0)\n",
       "    // reach out to IPython and tell the keyboard manager to turn it's self\n",
       "    // off when our div gets focus\n",
       "\n",
       "    // location in version 3\n",
       "    if (IPython.notebook.keyboard_manager) {\n",
       "        IPython.notebook.keyboard_manager.register_events(el);\n",
       "    }\n",
       "    else {\n",
       "        // location in version 2\n",
       "        IPython.keyboard_manager.register_events(el);\n",
       "    }\n",
       "\n",
       "}\n",
       "\n",
       "mpl.figure.prototype._key_event_extra = function(event, name) {\n",
       "    var manager = IPython.notebook.keyboard_manager;\n",
       "    if (!manager)\n",
       "        manager = IPython.keyboard_manager;\n",
       "\n",
       "    // Check for shift+enter\n",
       "    if (event.shiftKey && event.which == 13) {\n",
       "        this.canvas_div.blur();\n",
       "        // select the cell after this one\n",
       "        var index = IPython.notebook.find_cell_index(this.cell_info[0]);\n",
       "        IPython.notebook.select(index + 1);\n",
       "    }\n",
       "}\n",
       "\n",
       "mpl.figure.prototype.handle_save = function(fig, msg) {\n",
       "    fig.ondownload(fig, null);\n",
       "}\n",
       "\n",
       "\n",
       "mpl.find_output_cell = function(html_output) {\n",
       "    // Return the cell and output element which can be found *uniquely* in the notebook.\n",
       "    // Note - this is a bit hacky, but it is done because the \"notebook_saving.Notebook\"\n",
       "    // IPython event is triggered only after the cells have been serialised, which for\n",
       "    // our purposes (turning an active figure into a static one), is too late.\n",
       "    var cells = IPython.notebook.get_cells();\n",
       "    var ncells = cells.length;\n",
       "    for (var i=0; i<ncells; i++) {\n",
       "        var cell = cells[i];\n",
       "        if (cell.cell_type === 'code'){\n",
       "            for (var j=0; j<cell.output_area.outputs.length; j++) {\n",
       "                var data = cell.output_area.outputs[j];\n",
       "                if (data.data) {\n",
       "                    // IPython >= 3 moved mimebundle to data attribute of output\n",
       "                    data = data.data;\n",
       "                }\n",
       "                if (data['text/html'] == html_output) {\n",
       "                    return [cell, data, j];\n",
       "                }\n",
       "            }\n",
       "        }\n",
       "    }\n",
       "}\n",
       "\n",
       "// Register the function which deals with the matplotlib target/channel.\n",
       "// The kernel may be null if the page has been refreshed.\n",
       "if (IPython.notebook.kernel != null) {\n",
       "    IPython.notebook.kernel.comm_manager.register_target('matplotlib', mpl.mpl_figure_comm);\n",
       "}\n"
      ],
      "text/plain": [
       "<IPython.core.display.Javascript object>"
      ]
     },
     "metadata": {},
     "output_type": "display_data"
    },
    {
     "data": {
      "text/html": [
       "<img src=\"data:image/png;base64,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\" width=\"400\">"
      ],
      "text/plain": [
       "<IPython.core.display.HTML object>"
      ]
     },
     "metadata": {},
     "output_type": "display_data"
    }
   ],
   "source": [
    "fig, ax = plt.subplots(figsize=(4, 3))\n",
    "ax.hist(abs(nd_H_0_ao.ravel() - H_1_ao.ravel()), bins=np.logspace(np.log10(1e-12), np.log10(1e-2), 50), alpha=0.5)\n",
    "ax.hist(abs(nd_H_0_ao.ravel()), bins=np.logspace(np.log10(1e-12), np.log10(1e-2), 50), alpha=0.5)\n",
    "ax.set_xscale(\"log\")\n",
    "fig.tight_layout()"
   ]
  },
  {
   "cell_type": "markdown",
   "metadata": {},
   "source": [
    "## ERI 积分导数"
   ]
  },
  {
   "cell_type": "markdown",
   "metadata": {},
   "source": [
    "### 解析导数"
   ]
  },
  {
   "cell_type": "markdown",
   "metadata": {},
   "source": [
    "我们借助 $\\partial_{A_t} \\mu = \\partial_t \\mu_A$ 的结论，可以得到\n",
    "\n",
    "$$\n",
    "\\begin{align}\n",
    "(\\mu \\nu | \\kappa \\lambda)^{A_t} = \\frac{\\partial}{\\partial A_t} (\\mu \\nu | \\kappa \\lambda) &= - \\big[ (\\partial_t \\mu_A \\nu | \\kappa \\lambda) + (\\mu \\partial_t \\nu_A | \\kappa \\lambda) + (\\mu \\nu | \\partial_t \\kappa_A \\lambda) + (\\mu \\nu | \\kappa \\partial_t \\lambda_A) \\big] \\\\\n",
    "&= - (\\partial_t \\mu_A \\nu | \\kappa \\lambda) + \\mathrm{swap} (\\mu, \\nu) + \\mathrm{swap} (\\mu \\nu, \\kappa \\lambda)\n",
    "\\end{align}\n",
    "$$"
   ]
  },
  {
   "cell_type": "markdown",
   "metadata": {},
   "source": [
    "上面展示了两种 ERI 积分的导数表达式，分别对应了两种程序实现 `eri1_ao` $(\\mu \\nu | \\kappa \\lambda)^{A_t}$ 的方式。第一种采用第一行的思路；其中，我们利用到 PySCF 中 $(\\partial_t \\mu \\nu | \\kappa \\lambda)$ 可以用 `int2e_ip1` 调出："
   ]
  },
  {
   "cell_type": "code",
   "execution_count": 30,
   "metadata": {},
   "outputs": [],
   "source": [
    "int2e_ip1 = mol.intor(\"int2e_ip1\")"
   ]
  },
  {
   "cell_type": "code",
   "execution_count": 31,
   "metadata": {},
   "outputs": [
    {
     "data": {
      "text/plain": [
       "(4, 3, 22, 22, 22, 22)"
      ]
     },
     "execution_count": 31,
     "metadata": {},
     "output_type": "execute_result"
    }
   ],
   "source": [
    "eri1_ao = np.zeros((natm, 3, nao, nao, nao, nao))\n",
    "for A in range(natm):\n",
    "    sA = mol_slice(A)\n",
    "    eri1_ao[A, :, sA, :, :, :] -= int2e_ip1[:, sA]\n",
    "    eri1_ao[A, :, :, sA, :, :] -= int2e_ip1[:, sA].transpose(0, 2, 1, 3, 4)\n",
    "    eri1_ao[A, :, :, :, sA, :] -= int2e_ip1[:, sA].transpose(0, 3, 4, 1, 2)\n",
    "    eri1_ao[A, :, :, :, :, sA] -= int2e_ip1[:, sA].transpose(0, 3, 4, 2, 1)\n",
    "eri1_ao.shape"
   ]
  },
  {
   "cell_type": "markdown",
   "metadata": {},
   "source": [
    "它与 pyxdh 中给出的结果相同："
   ]
  },
  {
   "cell_type": "code",
   "execution_count": 32,
   "metadata": {},
   "outputs": [
    {
     "data": {
      "text/plain": [
       "True"
      ]
     },
     "execution_count": 32,
     "metadata": {},
     "output_type": "execute_result"
    }
   ],
   "source": [
    "np.allclose(eri1_ao.ravel(), gradh.eri1_ao.ravel())"
   ]
  },
  {
   "cell_type": "markdown",
   "metadata": {},
   "source": [
    "第二行的思路则可以用下述代码实现："
   ]
  },
  {
   "cell_type": "code",
   "execution_count": 33,
   "metadata": {},
   "outputs": [
    {
     "data": {
      "text/plain": [
       "(4, 3, 22, 22, 22, 22)"
      ]
     },
     "execution_count": 33,
     "metadata": {},
     "output_type": "execute_result"
    }
   ],
   "source": [
    "eri1_ao = np.zeros((natm, 3, nao, nao, nao, nao))\n",
    "for A in range(natm):\n",
    "    sA = mol_slice(A)\n",
    "    eri1_ao[A, :, sA, :, :, :] -= int2e_ip1[:, sA]\n",
    "eri1_ao += eri1_ao.swapaxes(-3, -4)\n",
    "eri1_ao += eri1_ao.swapaxes(-1, -3).swapaxes(-2, -4)\n",
    "eri1_ao.shape"
   ]
  },
  {
   "cell_type": "code",
   "execution_count": 34,
   "metadata": {},
   "outputs": [
    {
     "data": {
      "text/plain": [
       "True"
      ]
     },
     "execution_count": 34,
     "metadata": {},
     "output_type": "execute_result"
    }
   ],
   "source": [
    "np.allclose(eri1_ao.ravel(), gradh.eri1_ao.ravel())"
   ]
  },
  {
   "cell_type": "markdown",
   "metadata": {},
   "source": [
    "这两种方法在后文中都有可能使用。"
   ]
  },
  {
   "cell_type": "markdown",
   "metadata": {},
   "source": [
    "### 数值梯度"
   ]
  },
  {
   "cell_type": "markdown",
   "metadata": {},
   "source": [
    "`nd_eri0_ao` 表示 $\\partial_{A_t} (\\mu \\nu | \\kappa \\lambda)$："
   ]
  },
  {
   "cell_type": "code",
   "execution_count": 35,
   "metadata": {},
   "outputs": [
    {
     "data": {
      "text/plain": [
       "(12, 22, 22, 22, 22)"
      ]
     },
     "execution_count": 35,
     "metadata": {},
     "output_type": "execute_result"
    }
   ],
   "source": [
    "nd_eri0_ao = NumericDiff(gradn, lambda gradh: gradh.eri0_ao).derivative\n",
    "nd_eri0_ao.shape"
   ]
  },
  {
   "cell_type": "markdown",
   "metadata": {},
   "source": [
    "其与解析的 `eri1_ao` $(\\mu \\nu | \\kappa \\lambda)^{A_t}$ 的对比为："
   ]
  },
  {
   "cell_type": "code",
   "execution_count": 36,
   "metadata": {},
   "outputs": [
    {
     "data": {
      "application/javascript": [
       "/* Put everything inside the global mpl namespace */\n",
       "window.mpl = {};\n",
       "\n",
       "\n",
       "mpl.get_websocket_type = function() {\n",
       "    if (typeof(WebSocket) !== 'undefined') {\n",
       "        return WebSocket;\n",
       "    } else if (typeof(MozWebSocket) !== 'undefined') {\n",
       "        return MozWebSocket;\n",
       "    } else {\n",
       "        alert('Your browser does not have WebSocket support. ' +\n",
       "              'Please try Chrome, Safari or Firefox ≥ 6. ' +\n",
       "              'Firefox 4 and 5 are also supported but you ' +\n",
       "              'have to enable WebSockets in about:config.');\n",
       "    };\n",
       "}\n",
       "\n",
       "mpl.figure = function(figure_id, websocket, ondownload, parent_element) {\n",
       "    this.id = figure_id;\n",
       "\n",
       "    this.ws = websocket;\n",
       "\n",
       "    this.supports_binary = (this.ws.binaryType != undefined);\n",
       "\n",
       "    if (!this.supports_binary) {\n",
       "        var warnings = document.getElementById(\"mpl-warnings\");\n",
       "        if (warnings) {\n",
       "            warnings.style.display = 'block';\n",
       "            warnings.textContent = (\n",
       "                \"This browser does not support binary websocket messages. \" +\n",
       "                    \"Performance may be slow.\");\n",
       "        }\n",
       "    }\n",
       "\n",
       "    this.imageObj = new Image();\n",
       "\n",
       "    this.context = undefined;\n",
       "    this.message = undefined;\n",
       "    this.canvas = undefined;\n",
       "    this.rubberband_canvas = undefined;\n",
       "    this.rubberband_context = undefined;\n",
       "    this.format_dropdown = undefined;\n",
       "\n",
       "    this.image_mode = 'full';\n",
       "\n",
       "    this.root = $('<div/>');\n",
       "    this._root_extra_style(this.root)\n",
       "    this.root.attr('style', 'display: inline-block');\n",
       "\n",
       "    $(parent_element).append(this.root);\n",
       "\n",
       "    this._init_header(this);\n",
       "    this._init_canvas(this);\n",
       "    this._init_toolbar(this);\n",
       "\n",
       "    var fig = this;\n",
       "\n",
       "    this.waiting = false;\n",
       "\n",
       "    this.ws.onopen =  function () {\n",
       "            fig.send_message(\"supports_binary\", {value: fig.supports_binary});\n",
       "            fig.send_message(\"send_image_mode\", {});\n",
       "            if (mpl.ratio != 1) {\n",
       "                fig.send_message(\"set_dpi_ratio\", {'dpi_ratio': mpl.ratio});\n",
       "            }\n",
       "            fig.send_message(\"refresh\", {});\n",
       "        }\n",
       "\n",
       "    this.imageObj.onload = function() {\n",
       "            if (fig.image_mode == 'full') {\n",
       "                // Full images could contain transparency (where diff images\n",
       "                // almost always do), so we need to clear the canvas so that\n",
       "                // there is no ghosting.\n",
       "                fig.context.clearRect(0, 0, fig.canvas.width, fig.canvas.height);\n",
       "            }\n",
       "            fig.context.drawImage(fig.imageObj, 0, 0);\n",
       "        };\n",
       "\n",
       "    this.imageObj.onunload = function() {\n",
       "        fig.ws.close();\n",
       "    }\n",
       "\n",
       "    this.ws.onmessage = this._make_on_message_function(this);\n",
       "\n",
       "    this.ondownload = ondownload;\n",
       "}\n",
       "\n",
       "mpl.figure.prototype._init_header = function() {\n",
       "    var titlebar = $(\n",
       "        '<div class=\"ui-dialog-titlebar ui-widget-header ui-corner-all ' +\n",
       "        'ui-helper-clearfix\"/>');\n",
       "    var titletext = $(\n",
       "        '<div class=\"ui-dialog-title\" style=\"width: 100%; ' +\n",
       "        'text-align: center; padding: 3px;\"/>');\n",
       "    titlebar.append(titletext)\n",
       "    this.root.append(titlebar);\n",
       "    this.header = titletext[0];\n",
       "}\n",
       "\n",
       "\n",
       "\n",
       "mpl.figure.prototype._canvas_extra_style = function(canvas_div) {\n",
       "\n",
       "}\n",
       "\n",
       "\n",
       "mpl.figure.prototype._root_extra_style = function(canvas_div) {\n",
       "\n",
       "}\n",
       "\n",
       "mpl.figure.prototype._init_canvas = function() {\n",
       "    var fig = this;\n",
       "\n",
       "    var canvas_div = $('<div/>');\n",
       "\n",
       "    canvas_div.attr('style', 'position: relative; clear: both; outline: 0');\n",
       "\n",
       "    function canvas_keyboard_event(event) {\n",
       "        return fig.key_event(event, event['data']);\n",
       "    }\n",
       "\n",
       "    canvas_div.keydown('key_press', canvas_keyboard_event);\n",
       "    canvas_div.keyup('key_release', canvas_keyboard_event);\n",
       "    this.canvas_div = canvas_div\n",
       "    this._canvas_extra_style(canvas_div)\n",
       "    this.root.append(canvas_div);\n",
       "\n",
       "    var canvas = $('<canvas/>');\n",
       "    canvas.addClass('mpl-canvas');\n",
       "    canvas.attr('style', \"left: 0; top: 0; z-index: 0; outline: 0\")\n",
       "\n",
       "    this.canvas = canvas[0];\n",
       "    this.context = canvas[0].getContext(\"2d\");\n",
       "\n",
       "    var backingStore = this.context.backingStorePixelRatio ||\n",
       "\tthis.context.webkitBackingStorePixelRatio ||\n",
       "\tthis.context.mozBackingStorePixelRatio ||\n",
       "\tthis.context.msBackingStorePixelRatio ||\n",
       "\tthis.context.oBackingStorePixelRatio ||\n",
       "\tthis.context.backingStorePixelRatio || 1;\n",
       "\n",
       "    mpl.ratio = (window.devicePixelRatio || 1) / backingStore;\n",
       "\n",
       "    var rubberband = $('<canvas/>');\n",
       "    rubberband.attr('style', \"position: absolute; left: 0; top: 0; z-index: 1;\")\n",
       "\n",
       "    var pass_mouse_events = true;\n",
       "\n",
       "    canvas_div.resizable({\n",
       "        start: function(event, ui) {\n",
       "            pass_mouse_events = false;\n",
       "        },\n",
       "        resize: function(event, ui) {\n",
       "            fig.request_resize(ui.size.width, ui.size.height);\n",
       "        },\n",
       "        stop: function(event, ui) {\n",
       "            pass_mouse_events = true;\n",
       "            fig.request_resize(ui.size.width, ui.size.height);\n",
       "        },\n",
       "    });\n",
       "\n",
       "    function mouse_event_fn(event) {\n",
       "        if (pass_mouse_events)\n",
       "            return fig.mouse_event(event, event['data']);\n",
       "    }\n",
       "\n",
       "    rubberband.mousedown('button_press', mouse_event_fn);\n",
       "    rubberband.mouseup('button_release', mouse_event_fn);\n",
       "    // Throttle sequential mouse events to 1 every 20ms.\n",
       "    rubberband.mousemove('motion_notify', mouse_event_fn);\n",
       "\n",
       "    rubberband.mouseenter('figure_enter', mouse_event_fn);\n",
       "    rubberband.mouseleave('figure_leave', mouse_event_fn);\n",
       "\n",
       "    canvas_div.on(\"wheel\", function (event) {\n",
       "        event = event.originalEvent;\n",
       "        event['data'] = 'scroll'\n",
       "        if (event.deltaY < 0) {\n",
       "            event.step = 1;\n",
       "        } else {\n",
       "            event.step = -1;\n",
       "        }\n",
       "        mouse_event_fn(event);\n",
       "    });\n",
       "\n",
       "    canvas_div.append(canvas);\n",
       "    canvas_div.append(rubberband);\n",
       "\n",
       "    this.rubberband = rubberband;\n",
       "    this.rubberband_canvas = rubberband[0];\n",
       "    this.rubberband_context = rubberband[0].getContext(\"2d\");\n",
       "    this.rubberband_context.strokeStyle = \"#000000\";\n",
       "\n",
       "    this._resize_canvas = function(width, height) {\n",
       "        // Keep the size of the canvas, canvas container, and rubber band\n",
       "        // canvas in synch.\n",
       "        canvas_div.css('width', width)\n",
       "        canvas_div.css('height', height)\n",
       "\n",
       "        canvas.attr('width', width * mpl.ratio);\n",
       "        canvas.attr('height', height * mpl.ratio);\n",
       "        canvas.attr('style', 'width: ' + width + 'px; height: ' + height + 'px;');\n",
       "\n",
       "        rubberband.attr('width', width);\n",
       "        rubberband.attr('height', height);\n",
       "    }\n",
       "\n",
       "    // Set the figure to an initial 600x600px, this will subsequently be updated\n",
       "    // upon first draw.\n",
       "    this._resize_canvas(600, 600);\n",
       "\n",
       "    // Disable right mouse context menu.\n",
       "    $(this.rubberband_canvas).bind(\"contextmenu\",function(e){\n",
       "        return false;\n",
       "    });\n",
       "\n",
       "    function set_focus () {\n",
       "        canvas.focus();\n",
       "        canvas_div.focus();\n",
       "    }\n",
       "\n",
       "    window.setTimeout(set_focus, 100);\n",
       "}\n",
       "\n",
       "mpl.figure.prototype._init_toolbar = function() {\n",
       "    var fig = this;\n",
       "\n",
       "    var nav_element = $('<div/>');\n",
       "    nav_element.attr('style', 'width: 100%');\n",
       "    this.root.append(nav_element);\n",
       "\n",
       "    // Define a callback function for later on.\n",
       "    function toolbar_event(event) {\n",
       "        return fig.toolbar_button_onclick(event['data']);\n",
       "    }\n",
       "    function toolbar_mouse_event(event) {\n",
       "        return fig.toolbar_button_onmouseover(event['data']);\n",
       "    }\n",
       "\n",
       "    for(var toolbar_ind in mpl.toolbar_items) {\n",
       "        var name = mpl.toolbar_items[toolbar_ind][0];\n",
       "        var tooltip = mpl.toolbar_items[toolbar_ind][1];\n",
       "        var image = mpl.toolbar_items[toolbar_ind][2];\n",
       "        var method_name = mpl.toolbar_items[toolbar_ind][3];\n",
       "\n",
       "        if (!name) {\n",
       "            // put a spacer in here.\n",
       "            continue;\n",
       "        }\n",
       "        var button = $('<button/>');\n",
       "        button.addClass('ui-button ui-widget ui-state-default ui-corner-all ' +\n",
       "                        'ui-button-icon-only');\n",
       "        button.attr('role', 'button');\n",
       "        button.attr('aria-disabled', 'false');\n",
       "        button.click(method_name, toolbar_event);\n",
       "        button.mouseover(tooltip, toolbar_mouse_event);\n",
       "\n",
       "        var icon_img = $('<span/>');\n",
       "        icon_img.addClass('ui-button-icon-primary ui-icon');\n",
       "        icon_img.addClass(image);\n",
       "        icon_img.addClass('ui-corner-all');\n",
       "\n",
       "        var tooltip_span = $('<span/>');\n",
       "        tooltip_span.addClass('ui-button-text');\n",
       "        tooltip_span.html(tooltip);\n",
       "\n",
       "        button.append(icon_img);\n",
       "        button.append(tooltip_span);\n",
       "\n",
       "        nav_element.append(button);\n",
       "    }\n",
       "\n",
       "    var fmt_picker_span = $('<span/>');\n",
       "\n",
       "    var fmt_picker = $('<select/>');\n",
       "    fmt_picker.addClass('mpl-toolbar-option ui-widget ui-widget-content');\n",
       "    fmt_picker_span.append(fmt_picker);\n",
       "    nav_element.append(fmt_picker_span);\n",
       "    this.format_dropdown = fmt_picker[0];\n",
       "\n",
       "    for (var ind in mpl.extensions) {\n",
       "        var fmt = mpl.extensions[ind];\n",
       "        var option = $(\n",
       "            '<option/>', {selected: fmt === mpl.default_extension}).html(fmt);\n",
       "        fmt_picker.append(option);\n",
       "    }\n",
       "\n",
       "    // Add hover states to the ui-buttons\n",
       "    $( \".ui-button\" ).hover(\n",
       "        function() { $(this).addClass(\"ui-state-hover\");},\n",
       "        function() { $(this).removeClass(\"ui-state-hover\");}\n",
       "    );\n",
       "\n",
       "    var status_bar = $('<span class=\"mpl-message\"/>');\n",
       "    nav_element.append(status_bar);\n",
       "    this.message = status_bar[0];\n",
       "}\n",
       "\n",
       "mpl.figure.prototype.request_resize = function(x_pixels, y_pixels) {\n",
       "    // Request matplotlib to resize the figure. Matplotlib will then trigger a resize in the client,\n",
       "    // which will in turn request a refresh of the image.\n",
       "    this.send_message('resize', {'width': x_pixels, 'height': y_pixels});\n",
       "}\n",
       "\n",
       "mpl.figure.prototype.send_message = function(type, properties) {\n",
       "    properties['type'] = type;\n",
       "    properties['figure_id'] = this.id;\n",
       "    this.ws.send(JSON.stringify(properties));\n",
       "}\n",
       "\n",
       "mpl.figure.prototype.send_draw_message = function() {\n",
       "    if (!this.waiting) {\n",
       "        this.waiting = true;\n",
       "        this.ws.send(JSON.stringify({type: \"draw\", figure_id: this.id}));\n",
       "    }\n",
       "}\n",
       "\n",
       "\n",
       "mpl.figure.prototype.handle_save = function(fig, msg) {\n",
       "    var format_dropdown = fig.format_dropdown;\n",
       "    var format = format_dropdown.options[format_dropdown.selectedIndex].value;\n",
       "    fig.ondownload(fig, format);\n",
       "}\n",
       "\n",
       "\n",
       "mpl.figure.prototype.handle_resize = function(fig, msg) {\n",
       "    var size = msg['size'];\n",
       "    if (size[0] != fig.canvas.width || size[1] != fig.canvas.height) {\n",
       "        fig._resize_canvas(size[0], size[1]);\n",
       "        fig.send_message(\"refresh\", {});\n",
       "    };\n",
       "}\n",
       "\n",
       "mpl.figure.prototype.handle_rubberband = function(fig, msg) {\n",
       "    var x0 = msg['x0'] / mpl.ratio;\n",
       "    var y0 = (fig.canvas.height - msg['y0']) / mpl.ratio;\n",
       "    var x1 = msg['x1'] / mpl.ratio;\n",
       "    var y1 = (fig.canvas.height - msg['y1']) / mpl.ratio;\n",
       "    x0 = Math.floor(x0) + 0.5;\n",
       "    y0 = Math.floor(y0) + 0.5;\n",
       "    x1 = Math.floor(x1) + 0.5;\n",
       "    y1 = Math.floor(y1) + 0.5;\n",
       "    var min_x = Math.min(x0, x1);\n",
       "    var min_y = Math.min(y0, y1);\n",
       "    var width = Math.abs(x1 - x0);\n",
       "    var height = Math.abs(y1 - y0);\n",
       "\n",
       "    fig.rubberband_context.clearRect(\n",
       "        0, 0, fig.canvas.width / mpl.ratio, fig.canvas.height / mpl.ratio);\n",
       "\n",
       "    fig.rubberband_context.strokeRect(min_x, min_y, width, height);\n",
       "}\n",
       "\n",
       "mpl.figure.prototype.handle_figure_label = function(fig, msg) {\n",
       "    // Updates the figure title.\n",
       "    fig.header.textContent = msg['label'];\n",
       "}\n",
       "\n",
       "mpl.figure.prototype.handle_cursor = function(fig, msg) {\n",
       "    var cursor = msg['cursor'];\n",
       "    switch(cursor)\n",
       "    {\n",
       "    case 0:\n",
       "        cursor = 'pointer';\n",
       "        break;\n",
       "    case 1:\n",
       "        cursor = 'default';\n",
       "        break;\n",
       "    case 2:\n",
       "        cursor = 'crosshair';\n",
       "        break;\n",
       "    case 3:\n",
       "        cursor = 'move';\n",
       "        break;\n",
       "    }\n",
       "    fig.rubberband_canvas.style.cursor = cursor;\n",
       "}\n",
       "\n",
       "mpl.figure.prototype.handle_message = function(fig, msg) {\n",
       "    fig.message.textContent = msg['message'];\n",
       "}\n",
       "\n",
       "mpl.figure.prototype.handle_draw = function(fig, msg) {\n",
       "    // Request the server to send over a new figure.\n",
       "    fig.send_draw_message();\n",
       "}\n",
       "\n",
       "mpl.figure.prototype.handle_image_mode = function(fig, msg) {\n",
       "    fig.image_mode = msg['mode'];\n",
       "}\n",
       "\n",
       "mpl.figure.prototype.updated_canvas_event = function() {\n",
       "    // Called whenever the canvas gets updated.\n",
       "    this.send_message(\"ack\", {});\n",
       "}\n",
       "\n",
       "// A function to construct a web socket function for onmessage handling.\n",
       "// Called in the figure constructor.\n",
       "mpl.figure.prototype._make_on_message_function = function(fig) {\n",
       "    return function socket_on_message(evt) {\n",
       "        if (evt.data instanceof Blob) {\n",
       "            /* FIXME: We get \"Resource interpreted as Image but\n",
       "             * transferred with MIME type text/plain:\" errors on\n",
       "             * Chrome.  But how to set the MIME type?  It doesn't seem\n",
       "             * to be part of the websocket stream */\n",
       "            evt.data.type = \"image/png\";\n",
       "\n",
       "            /* Free the memory for the previous frames */\n",
       "            if (fig.imageObj.src) {\n",
       "                (window.URL || window.webkitURL).revokeObjectURL(\n",
       "                    fig.imageObj.src);\n",
       "            }\n",
       "\n",
       "            fig.imageObj.src = (window.URL || window.webkitURL).createObjectURL(\n",
       "                evt.data);\n",
       "            fig.updated_canvas_event();\n",
       "            fig.waiting = false;\n",
       "            return;\n",
       "        }\n",
       "        else if (typeof evt.data === 'string' && evt.data.slice(0, 21) == \"data:image/png;base64\") {\n",
       "            fig.imageObj.src = evt.data;\n",
       "            fig.updated_canvas_event();\n",
       "            fig.waiting = false;\n",
       "            return;\n",
       "        }\n",
       "\n",
       "        var msg = JSON.parse(evt.data);\n",
       "        var msg_type = msg['type'];\n",
       "\n",
       "        // Call the  \"handle_{type}\" callback, which takes\n",
       "        // the figure and JSON message as its only arguments.\n",
       "        try {\n",
       "            var callback = fig[\"handle_\" + msg_type];\n",
       "        } catch (e) {\n",
       "            console.log(\"No handler for the '\" + msg_type + \"' message type: \", msg);\n",
       "            return;\n",
       "        }\n",
       "\n",
       "        if (callback) {\n",
       "            try {\n",
       "                // console.log(\"Handling '\" + msg_type + \"' message: \", msg);\n",
       "                callback(fig, msg);\n",
       "            } catch (e) {\n",
       "                console.log(\"Exception inside the 'handler_\" + msg_type + \"' callback:\", e, e.stack, msg);\n",
       "            }\n",
       "        }\n",
       "    };\n",
       "}\n",
       "\n",
       "// from http://stackoverflow.com/questions/1114465/getting-mouse-location-in-canvas\n",
       "mpl.findpos = function(e) {\n",
       "    //this section is from http://www.quirksmode.org/js/events_properties.html\n",
       "    var targ;\n",
       "    if (!e)\n",
       "        e = window.event;\n",
       "    if (e.target)\n",
       "        targ = e.target;\n",
       "    else if (e.srcElement)\n",
       "        targ = e.srcElement;\n",
       "    if (targ.nodeType == 3) // defeat Safari bug\n",
       "        targ = targ.parentNode;\n",
       "\n",
       "    // jQuery normalizes the pageX and pageY\n",
       "    // pageX,Y are the mouse positions relative to the document\n",
       "    // offset() returns the position of the element relative to the document\n",
       "    var x = e.pageX - $(targ).offset().left;\n",
       "    var y = e.pageY - $(targ).offset().top;\n",
       "\n",
       "    return {\"x\": x, \"y\": y};\n",
       "};\n",
       "\n",
       "/*\n",
       " * return a copy of an object with only non-object keys\n",
       " * we need this to avoid circular references\n",
       " * http://stackoverflow.com/a/24161582/3208463\n",
       " */\n",
       "function simpleKeys (original) {\n",
       "  return Object.keys(original).reduce(function (obj, key) {\n",
       "    if (typeof original[key] !== 'object')\n",
       "        obj[key] = original[key]\n",
       "    return obj;\n",
       "  }, {});\n",
       "}\n",
       "\n",
       "mpl.figure.prototype.mouse_event = function(event, name) {\n",
       "    var canvas_pos = mpl.findpos(event)\n",
       "\n",
       "    if (name === 'button_press')\n",
       "    {\n",
       "        this.canvas.focus();\n",
       "        this.canvas_div.focus();\n",
       "    }\n",
       "\n",
       "    var x = canvas_pos.x * mpl.ratio;\n",
       "    var y = canvas_pos.y * mpl.ratio;\n",
       "\n",
       "    this.send_message(name, {x: x, y: y, button: event.button,\n",
       "                             step: event.step,\n",
       "                             guiEvent: simpleKeys(event)});\n",
       "\n",
       "    /* This prevents the web browser from automatically changing to\n",
       "     * the text insertion cursor when the button is pressed.  We want\n",
       "     * to control all of the cursor setting manually through the\n",
       "     * 'cursor' event from matplotlib */\n",
       "    event.preventDefault();\n",
       "    return false;\n",
       "}\n",
       "\n",
       "mpl.figure.prototype._key_event_extra = function(event, name) {\n",
       "    // Handle any extra behaviour associated with a key event\n",
       "}\n",
       "\n",
       "mpl.figure.prototype.key_event = function(event, name) {\n",
       "\n",
       "    // Prevent repeat events\n",
       "    if (name == 'key_press')\n",
       "    {\n",
       "        if (event.which === this._key)\n",
       "            return;\n",
       "        else\n",
       "            this._key = event.which;\n",
       "    }\n",
       "    if (name == 'key_release')\n",
       "        this._key = null;\n",
       "\n",
       "    var value = '';\n",
       "    if (event.ctrlKey && event.which != 17)\n",
       "        value += \"ctrl+\";\n",
       "    if (event.altKey && event.which != 18)\n",
       "        value += \"alt+\";\n",
       "    if (event.shiftKey && event.which != 16)\n",
       "        value += \"shift+\";\n",
       "\n",
       "    value += 'k';\n",
       "    value += event.which.toString();\n",
       "\n",
       "    this._key_event_extra(event, name);\n",
       "\n",
       "    this.send_message(name, {key: value,\n",
       "                             guiEvent: simpleKeys(event)});\n",
       "    return false;\n",
       "}\n",
       "\n",
       "mpl.figure.prototype.toolbar_button_onclick = function(name) {\n",
       "    if (name == 'download') {\n",
       "        this.handle_save(this, null);\n",
       "    } else {\n",
       "        this.send_message(\"toolbar_button\", {name: name});\n",
       "    }\n",
       "};\n",
       "\n",
       "mpl.figure.prototype.toolbar_button_onmouseover = function(tooltip) {\n",
       "    this.message.textContent = tooltip;\n",
       "};\n",
       "mpl.toolbar_items = [[\"Home\", \"Reset original view\", \"fa fa-home icon-home\", \"home\"], [\"Back\", \"Back to previous view\", \"fa fa-arrow-left icon-arrow-left\", \"back\"], [\"Forward\", \"Forward to next view\", \"fa fa-arrow-right icon-arrow-right\", \"forward\"], [\"\", \"\", \"\", \"\"], [\"Pan\", \"Pan axes with left mouse, zoom with right\", \"fa fa-arrows icon-move\", \"pan\"], [\"Zoom\", \"Zoom to rectangle\", \"fa fa-square-o icon-check-empty\", \"zoom\"], [\"\", \"\", \"\", \"\"], [\"Download\", \"Download plot\", \"fa fa-floppy-o icon-save\", \"download\"]];\n",
       "\n",
       "mpl.extensions = [\"eps\", \"pdf\", \"png\", \"ps\", \"raw\", \"svg\"];\n",
       "\n",
       "mpl.default_extension = \"png\";var comm_websocket_adapter = function(comm) {\n",
       "    // Create a \"websocket\"-like object which calls the given IPython comm\n",
       "    // object with the appropriate methods. Currently this is a non binary\n",
       "    // socket, so there is still some room for performance tuning.\n",
       "    var ws = {};\n",
       "\n",
       "    ws.close = function() {\n",
       "        comm.close()\n",
       "    };\n",
       "    ws.send = function(m) {\n",
       "        //console.log('sending', m);\n",
       "        comm.send(m);\n",
       "    };\n",
       "    // Register the callback with on_msg.\n",
       "    comm.on_msg(function(msg) {\n",
       "        //console.log('receiving', msg['content']['data'], msg);\n",
       "        // Pass the mpl event to the overridden (by mpl) onmessage function.\n",
       "        ws.onmessage(msg['content']['data'])\n",
       "    });\n",
       "    return ws;\n",
       "}\n",
       "\n",
       "mpl.mpl_figure_comm = function(comm, msg) {\n",
       "    // This is the function which gets called when the mpl process\n",
       "    // starts-up an IPython Comm through the \"matplotlib\" channel.\n",
       "\n",
       "    var id = msg.content.data.id;\n",
       "    // Get hold of the div created by the display call when the Comm\n",
       "    // socket was opened in Python.\n",
       "    var element = $(\"#\" + id);\n",
       "    var ws_proxy = comm_websocket_adapter(comm)\n",
       "\n",
       "    function ondownload(figure, format) {\n",
       "        window.open(figure.imageObj.src);\n",
       "    }\n",
       "\n",
       "    var fig = new mpl.figure(id, ws_proxy,\n",
       "                           ondownload,\n",
       "                           element.get(0));\n",
       "\n",
       "    // Call onopen now - mpl needs it, as it is assuming we've passed it a real\n",
       "    // web socket which is closed, not our websocket->open comm proxy.\n",
       "    ws_proxy.onopen();\n",
       "\n",
       "    fig.parent_element = element.get(0);\n",
       "    fig.cell_info = mpl.find_output_cell(\"<div id='\" + id + \"'></div>\");\n",
       "    if (!fig.cell_info) {\n",
       "        console.error(\"Failed to find cell for figure\", id, fig);\n",
       "        return;\n",
       "    }\n",
       "\n",
       "    var output_index = fig.cell_info[2]\n",
       "    var cell = fig.cell_info[0];\n",
       "\n",
       "};\n",
       "\n",
       "mpl.figure.prototype.handle_close = function(fig, msg) {\n",
       "    var width = fig.canvas.width/mpl.ratio\n",
       "    fig.root.unbind('remove')\n",
       "\n",
       "    // Update the output cell to use the data from the current canvas.\n",
       "    fig.push_to_output();\n",
       "    var dataURL = fig.canvas.toDataURL();\n",
       "    // Re-enable the keyboard manager in IPython - without this line, in FF,\n",
       "    // the notebook keyboard shortcuts fail.\n",
       "    IPython.keyboard_manager.enable()\n",
       "    $(fig.parent_element).html('<img src=\"' + dataURL + '\" width=\"' + width + '\">');\n",
       "    fig.close_ws(fig, msg);\n",
       "}\n",
       "\n",
       "mpl.figure.prototype.close_ws = function(fig, msg){\n",
       "    fig.send_message('closing', msg);\n",
       "    // fig.ws.close()\n",
       "}\n",
       "\n",
       "mpl.figure.prototype.push_to_output = function(remove_interactive) {\n",
       "    // Turn the data on the canvas into data in the output cell.\n",
       "    var width = this.canvas.width/mpl.ratio\n",
       "    var dataURL = this.canvas.toDataURL();\n",
       "    this.cell_info[1]['text/html'] = '<img src=\"' + dataURL + '\" width=\"' + width + '\">';\n",
       "}\n",
       "\n",
       "mpl.figure.prototype.updated_canvas_event = function() {\n",
       "    // Tell IPython that the notebook contents must change.\n",
       "    IPython.notebook.set_dirty(true);\n",
       "    this.send_message(\"ack\", {});\n",
       "    var fig = this;\n",
       "    // Wait a second, then push the new image to the DOM so\n",
       "    // that it is saved nicely (might be nice to debounce this).\n",
       "    setTimeout(function () { fig.push_to_output() }, 1000);\n",
       "}\n",
       "\n",
       "mpl.figure.prototype._init_toolbar = function() {\n",
       "    var fig = this;\n",
       "\n",
       "    var nav_element = $('<div/>');\n",
       "    nav_element.attr('style', 'width: 100%');\n",
       "    this.root.append(nav_element);\n",
       "\n",
       "    // Define a callback function for later on.\n",
       "    function toolbar_event(event) {\n",
       "        return fig.toolbar_button_onclick(event['data']);\n",
       "    }\n",
       "    function toolbar_mouse_event(event) {\n",
       "        return fig.toolbar_button_onmouseover(event['data']);\n",
       "    }\n",
       "\n",
       "    for(var toolbar_ind in mpl.toolbar_items){\n",
       "        var name = mpl.toolbar_items[toolbar_ind][0];\n",
       "        var tooltip = mpl.toolbar_items[toolbar_ind][1];\n",
       "        var image = mpl.toolbar_items[toolbar_ind][2];\n",
       "        var method_name = mpl.toolbar_items[toolbar_ind][3];\n",
       "\n",
       "        if (!name) { continue; };\n",
       "\n",
       "        var button = $('<button class=\"btn btn-default\" href=\"#\" title=\"' + name + '\"><i class=\"fa ' + image + ' fa-lg\"></i></button>');\n",
       "        button.click(method_name, toolbar_event);\n",
       "        button.mouseover(tooltip, toolbar_mouse_event);\n",
       "        nav_element.append(button);\n",
       "    }\n",
       "\n",
       "    // Add the status bar.\n",
       "    var status_bar = $('<span class=\"mpl-message\" style=\"text-align:right; float: right;\"/>');\n",
       "    nav_element.append(status_bar);\n",
       "    this.message = status_bar[0];\n",
       "\n",
       "    // Add the close button to the window.\n",
       "    var buttongrp = $('<div class=\"btn-group inline pull-right\"></div>');\n",
       "    var button = $('<button class=\"btn btn-mini btn-primary\" href=\"#\" title=\"Stop Interaction\"><i class=\"fa fa-power-off icon-remove icon-large\"></i></button>');\n",
       "    button.click(function (evt) { fig.handle_close(fig, {}); } );\n",
       "    button.mouseover('Stop Interaction', toolbar_mouse_event);\n",
       "    buttongrp.append(button);\n",
       "    var titlebar = this.root.find($('.ui-dialog-titlebar'));\n",
       "    titlebar.prepend(buttongrp);\n",
       "}\n",
       "\n",
       "mpl.figure.prototype._root_extra_style = function(el){\n",
       "    var fig = this\n",
       "    el.on(\"remove\", function(){\n",
       "\tfig.close_ws(fig, {});\n",
       "    });\n",
       "}\n",
       "\n",
       "mpl.figure.prototype._canvas_extra_style = function(el){\n",
       "    // this is important to make the div 'focusable\n",
       "    el.attr('tabindex', 0)\n",
       "    // reach out to IPython and tell the keyboard manager to turn it's self\n",
       "    // off when our div gets focus\n",
       "\n",
       "    // location in version 3\n",
       "    if (IPython.notebook.keyboard_manager) {\n",
       "        IPython.notebook.keyboard_manager.register_events(el);\n",
       "    }\n",
       "    else {\n",
       "        // location in version 2\n",
       "        IPython.keyboard_manager.register_events(el);\n",
       "    }\n",
       "\n",
       "}\n",
       "\n",
       "mpl.figure.prototype._key_event_extra = function(event, name) {\n",
       "    var manager = IPython.notebook.keyboard_manager;\n",
       "    if (!manager)\n",
       "        manager = IPython.keyboard_manager;\n",
       "\n",
       "    // Check for shift+enter\n",
       "    if (event.shiftKey && event.which == 13) {\n",
       "        this.canvas_div.blur();\n",
       "        // select the cell after this one\n",
       "        var index = IPython.notebook.find_cell_index(this.cell_info[0]);\n",
       "        IPython.notebook.select(index + 1);\n",
       "    }\n",
       "}\n",
       "\n",
       "mpl.figure.prototype.handle_save = function(fig, msg) {\n",
       "    fig.ondownload(fig, null);\n",
       "}\n",
       "\n",
       "\n",
       "mpl.find_output_cell = function(html_output) {\n",
       "    // Return the cell and output element which can be found *uniquely* in the notebook.\n",
       "    // Note - this is a bit hacky, but it is done because the \"notebook_saving.Notebook\"\n",
       "    // IPython event is triggered only after the cells have been serialised, which for\n",
       "    // our purposes (turning an active figure into a static one), is too late.\n",
       "    var cells = IPython.notebook.get_cells();\n",
       "    var ncells = cells.length;\n",
       "    for (var i=0; i<ncells; i++) {\n",
       "        var cell = cells[i];\n",
       "        if (cell.cell_type === 'code'){\n",
       "            for (var j=0; j<cell.output_area.outputs.length; j++) {\n",
       "                var data = cell.output_area.outputs[j];\n",
       "                if (data.data) {\n",
       "                    // IPython >= 3 moved mimebundle to data attribute of output\n",
       "                    data = data.data;\n",
       "                }\n",
       "                if (data['text/html'] == html_output) {\n",
       "                    return [cell, data, j];\n",
       "                }\n",
       "            }\n",
       "        }\n",
       "    }\n",
       "}\n",
       "\n",
       "// Register the function which deals with the matplotlib target/channel.\n",
       "// The kernel may be null if the page has been refreshed.\n",
       "if (IPython.notebook.kernel != null) {\n",
       "    IPython.notebook.kernel.comm_manager.register_target('matplotlib', mpl.mpl_figure_comm);\n",
       "}\n"
      ],
      "text/plain": [
       "<IPython.core.display.Javascript object>"
      ]
     },
     "metadata": {},
     "output_type": "display_data"
    },
    {
     "data": {
      "text/html": [
       "<img src=\"data:image/png;base64,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\" width=\"400\">"
      ],
      "text/plain": [
       "<IPython.core.display.HTML object>"
      ]
     },
     "metadata": {},
     "output_type": "display_data"
    }
   ],
   "source": [
    "fig, ax = plt.subplots(figsize=(4, 3))\n",
    "ax.hist(abs(nd_eri0_ao.ravel() - eri1_ao.ravel()), bins=np.logspace(np.log10(1e-12), np.log10(1e-2), 50), alpha=0.5)\n",
    "ax.hist(abs(nd_eri0_ao.ravel()), bins=np.logspace(np.log10(1e-12), np.log10(1e-2), 50), alpha=0.5)\n",
    "ax.set_xscale(\"log\")\n",
    "fig.tight_layout()"
   ]
  },
  {
   "cell_type": "markdown",
   "metadata": {},
   "source": [
    "## 电子态能量导数"
   ]
  },
  {
   "cell_type": "markdown",
   "metadata": {},
   "source": [
    "有了上面的准备工作之后，我们就可以求取电子态能量在原子核坐标分量下的导数 `E_1` $\\partial_{A_t} E_\\mathrm{elec}$ 了。在此之前，我们对任意变量的能量导数作叙述。\n",
    "\n",
    "根据\n",
    "\n",
    "$$\n",
    "E_\\mathrm{elec} = h_{\\mu \\nu} D_{\\mu \\nu} + \\frac{1}{2} D_{\\mu \\nu} (\\mu \\nu | \\kappa \\lambda) D_{\\kappa \\lambda} - \\frac{1}{4} D_{\\mu \\nu} (\\mu \\kappa | \\nu \\lambda) D_{\\kappa \\lambda}\n",
    "$$\n",
    "\n",
    "我们有\n",
    "\n",
    "$$\n",
    "\\begin{align}\n",
    "\\frac{\\partial E_\\mathrm{elec}}{\\partial \\mathbb{A}}\n",
    "&= \\frac{\\partial h_{\\mu \\nu}}{\\partial \\mathbb{A}} D_{\\mu \\nu} + \\frac{1}{2} D_{\\mu \\nu} \\frac{\\partial (\\mu \\nu | \\kappa \\lambda)}{\\partial \\mathbb{A}} D_{\\kappa \\lambda} - \\frac{1}{4} D_{\\mu \\nu} \\frac{\\partial (\\mu \\kappa | \\nu \\lambda)}{\\partial \\mathbb{A}} D_{\\kappa \\lambda} + F_{\\mu \\nu} \\frac{\\partial D_{\\mu \\nu}}{\\partial \\mathbb{A}} \\\\\n",
    "&= \\left( h_{\\mu \\nu}^\\mathbb{A} + \\frac{1}{2} (\\mu \\nu | \\kappa \\lambda)^\\mathbb{A} D_{\\kappa \\lambda} - \\frac{1}{4} (\\mu \\kappa | \\nu \\lambda)^\\mathbb{A} D_{\\kappa \\lambda} \\right) D_{\\mu \\nu} - 2 F_{ij} S_{ij}^\\mathbb{A}\n",
    "\\end{align}\n",
    "$$\n",
    "\n",
    "这与在上一篇文档求取 $S_{\\mu \\nu}^t$ 的推演非常类似，使用到的也几乎仅仅是链式法则。\n",
    "\n",
    "关于 $F_{\\mu \\nu} \\frac{\\partial D_{\\mu \\nu}}{\\partial \\mathbb{A}}$ 一项是如何出现的，请参考上一份文档的 [任务 (3)](dip_rhf_skeleton.ipynb#任务-(3))。"
   ]
  },
  {
   "cell_type": "markdown",
   "metadata": {},
   "source": [
    "<div class=\"alert alert-info\">\n",
    "\n",
    "**任务 (6)**\n",
    "\n",
    "请证明\n",
    "\n",
    "$$\n",
    "\\frac{\\partial E_\\mathrm{elec}}{\\partial \\mathbb{A}} \\leftarrow F_{\\mu \\nu} \\frac{\\partial D_{\\mu \\nu}}{\\partial \\mathbb{A}} = - 2 F_{ij} S_{ij}^\\mathbb{A}\n",
    "$$\n",
    "\n",
    "上式等式左对 $\\mu, \\nu$ 求和，等式右对 $i, j$ 求和。\n",
    "\n",
    "</div>"
   ]
  },
  {
   "cell_type": "markdown",
   "metadata": {},
   "source": [
    "上面的表达式对于 RHF 方法，是具有普适性的；因此，普适的 $\\mathbb{A}$ 替换为特化的 $A_t$ 后，有电子态能量在原子核坐标分量下的导数\n",
    "\n",
    "$$\n",
    "\\frac{\\partial E_\\mathrm{elec}}{\\partial A_t} = \\left( h_{\\mu \\nu}^{A_t} + \\frac{1}{2} (\\mu \\nu | \\kappa \\lambda)^{A_t} D_{\\kappa \\lambda} - \\frac{1}{4} (\\mu \\kappa | \\nu \\lambda)^{A_t} D_{\\kappa \\lambda} \\right) D_{\\mu \\nu} - 2 F_{ij} S_{ij}^{A_t}\n",
    "$$\n",
    "\n",
    "为程序编写的方便，我们也可以拆开写为\n",
    "\n",
    "$$\n",
    "\\frac{\\partial E_\\mathrm{elec}}{\\partial A_t} = h_{\\mu \\nu}^{A_t} D_{\\mu \\nu} + \\frac{1}{2} (\\mu \\nu | \\kappa \\lambda)^{A_t} D_{\\mu \\nu} D_{\\kappa \\lambda} - \\frac{1}{4} (\\mu \\kappa | \\nu \\lambda)^{A_t} D_{\\mu \\nu} D_{\\kappa \\lambda}  - 2 F_{ij} S_{ij}^{A_t}\n",
    "$$"
   ]
  },
  {
   "cell_type": "markdown",
   "metadata": {},
   "source": [
    "该导数可以在程序中写作 `E_1_elec` $\\partial_{A_t} E_\\mathrm{elec}$；在此之前我们先生成 `S_1_mo` $S_{ij}^{A_t}$：\n",
    "\n",
    "$$\n",
    "S_{pq}^{A_t} = C_{\\mu p} S_{\\mu \\nu}^{A_t} C_{\\nu q}\n",
    "$$"
   ]
  },
  {
   "cell_type": "code",
   "execution_count": 37,
   "metadata": {},
   "outputs": [],
   "source": [
    "S_1_mo = np.einsum(\"up, Atuv, vq -> Atpq\", C, S_1_ao, C)"
   ]
  },
  {
   "cell_type": "code",
   "execution_count": 38,
   "metadata": {},
   "outputs": [
    {
     "data": {
      "text/plain": [
       "array([[-2.3075 , -0.7927 , -9.10088],\n",
       "       [-0.36945, -2.32149, 10.18083],\n",
       "       [ 2.72808, -0.0358 , -0.60531],\n",
       "       [-0.05114,  3.14999, -0.47464]])"
      ]
     },
     "execution_count": 38,
     "metadata": {},
     "output_type": "execute_result"
    }
   ],
   "source": [
    "E_1_elec = (\n",
    "    +        np.einsum(\"Atuv, uv -> At\", H_1_ao, D)\n",
    "    + 0.5  * np.einsum(\"Atuvkl, uv, kl -> At\", eri1_ao, D, D)\n",
    "    - 0.25 * np.einsum(\"Atukvl, uv, kl -> At\", eri1_ao, D, D)\n",
    "    - 2    * np.einsum(\"ij, Atij -> At\", F_0_mo[so, so], S_1_mo[:, :, so, so])\n",
    ")\n",
    "E_1_elec"
   ]
  },
  {
   "cell_type": "markdown",
   "metadata": {},
   "source": [
    "通过数值导数，我们也能得到 `nd_E_0_elec` $\\partial_{A_t} E_\\mathrm{elec}$："
   ]
  },
  {
   "cell_type": "code",
   "execution_count": 39,
   "metadata": {},
   "outputs": [
    {
     "data": {
      "text/plain": [
       "array([[-2.3075 , -0.7927 , -9.10088],\n",
       "       [-0.36945, -2.32149, 10.18083],\n",
       "       [ 2.72808, -0.0358 , -0.60531],\n",
       "       [-0.05114,  3.14999, -0.47464]])"
      ]
     },
     "execution_count": 39,
     "metadata": {},
     "output_type": "execute_result"
    }
   ],
   "source": [
    "nd_E_0_elec = NumericDiff(gradn, lambda gradh: gradh.scf_eng.energy_elec()[0]).derivative.reshape(natm, 3)\n",
    "nd_E_0_elec"
   ]
  },
  {
   "cell_type": "markdown",
   "metadata": {},
   "source": [
    "下面我们对比数值导数与解析导数之间的差别。由于能量梯度是最终的结果，我们用更严苛的 np.allclose 来验证结果："
   ]
  },
  {
   "cell_type": "code",
   "execution_count": 40,
   "metadata": {},
   "outputs": [
    {
     "data": {
      "text/plain": [
       "True"
      ]
     },
     "execution_count": 40,
     "metadata": {},
     "output_type": "execute_result"
    }
   ],
   "source": [
    "np.allclose(E_1_elec, nd_E_0_elec)"
   ]
  },
  {
   "cell_type": "markdown",
   "metadata": {},
   "source": [
    "## 原子核互斥能导数"
   ]
  },
  {
   "cell_type": "markdown",
   "metadata": {},
   "source": [
    "这一段我们暂时不用 Einstein Summation。\n",
    "\n",
    "我们回顾原子核互斥能的计算：\n",
    "\n",
    "$$\n",
    "E_\\mathrm{nuc} = \\frac{1}{2} \\sum_{M N} \\frac{Z_M Z_N}{| \\boldsymbol{M} - \\boldsymbol{N} |} = \\frac{1}{2} \\sum_{M N} Z_{MN} r_{MN}^{-1}\n",
    "$$\n",
    "\n",
    "其中，$M, N$ 为原子角标，\n",
    "\n",
    "$$\n",
    "\\begin{align}\n",
    "Z_{MN} &= Z_M Z_N \\\\\n",
    "r_{MN} &= | \\boldsymbol{M} - \\boldsymbol{N} |\n",
    "\\end{align}\n",
    "$$"
   ]
  },
  {
   "cell_type": "markdown",
   "metadata": {},
   "source": [
    "现在，我们对上式作关于 $A_t$ 的导数：\n",
    "\n",
    "$$\n",
    "\\frac{\\partial E_\\mathrm{nuc}}{\\partial A_t} = \\frac{1}{2} \\sum_{M N} Z_{MN} \\frac{\\partial}{\\partial A_t} r_{MN}^{-1}\n",
    "$$"
   ]
  },
  {
   "cell_type": "markdown",
   "metadata": {},
   "source": [
    "到这里我们先回顾 $r_{MN}$ 的定义：\n",
    "\n",
    "$$\n",
    "r_{MN} = \\sqrt{\\sum_{t} (M_t - N_t)^2}\n",
    "$$"
   ]
  },
  {
   "cell_type": "markdown",
   "metadata": {},
   "source": [
    "因此，\n",
    "\n",
    "$$\n",
    "\\begin{align}\n",
    "\\frac{\\partial}{\\partial A_t} r_{MN}^{-1}\n",
    "&= \\frac{\\partial}{\\partial A_t} \\left( \\sum_t (M_t - N_t)^2 \\right)^{-1/2} \\\\\n",
    "&= - \\frac{1}{2} \\left( \\sum_t (M_t - N_t)^2 \\right)^{-3/2} \\frac{\\partial}{\\partial A_t} \\sum_t (M_t - N_t)^2 \\\\\n",
    "&= - r_{MN}^{-3} (M_t - N_t) (\\delta_{MA} - \\delta_{NA})\n",
    "\\end{align}\n",
    "$$"
   ]
  },
  {
   "cell_type": "markdown",
   "metadata": {},
   "source": [
    "为了程序实现的便利，我们会定义\n",
    "\n",
    "$$\n",
    "V_{MNt} = M_t - N_t\n",
    "$$\n",
    "\n",
    "该张量会具有 $V_{MNt} = - V_{NMt}$ 的反对称性质。因此，"
   ]
  },
  {
   "cell_type": "markdown",
   "metadata": {},
   "source": [
    "$$\n",
    "\\begin{align}\n",
    "\\frac{\\partial E_\\mathrm{nuc}}{\\partial A_t}\n",
    "&= - \\frac{1}{2} \\sum_{M N} Z_{MN} r_{MN}^{-3} V_{MNt} (\\delta_{MA} - \\delta_{NA}) \\\\\n",
    "&= - \\frac{1}{2} \\left( \\sum_{N} Z_{AN} r_{AN}^{-3} V_{ANt} - \\sum_{M} Z_{MA} r_{MA}^{-3/2} V_{MAt} \\right) \\\\\n",
    "&= - \\sum_M Z_{AM} r_{AM}^{-3} V_{AMt}\n",
    "\\end{align}\n",
    "$$"
   ]
  },
  {
   "cell_type": "markdown",
   "metadata": {},
   "source": [
    "在程序中，我们定义\n",
    "\n",
    "- `nuc_Z` $Z_{MN}$\n",
    "\n",
    "- `nuc_rinv` $r_{MN}^{-1}$\n",
    "\n",
    "- `nuc_V` $V_{MNt}$"
   ]
  },
  {
   "cell_type": "code",
   "execution_count": 41,
   "metadata": {},
   "outputs": [],
   "source": [
    "nuc_Z = np.einsum(\"M, N -> MN\", mol.atom_charges(), mol.atom_charges())\n",
    "nuc_V = lib.direct_sum(\"Mt - Nt -> MNt\", mol.atom_coords(), mol.atom_coords())\n",
    "nuc_rinv = 1 / (np.linalg.norm(nuc_V, axis=2) + np.diag([np.inf] * natm))"
   ]
  },
  {
   "cell_type": "markdown",
   "metadata": {},
   "source": [
    "那么，程序实现 `E_1_nuc` $\\partial_{A_t} E_\\mathrm{nuc}$ 可以表示如下："
   ]
  },
  {
   "cell_type": "code",
   "execution_count": 42,
   "metadata": {},
   "outputs": [
    {
     "data": {
      "text/plain": [
       "array([[  2.24023,   0.86221,   9.19698],\n",
       "       [  0.38236,   2.46344, -10.29839],\n",
       "       [ -2.69385,   0.04989,   0.6448 ],\n",
       "       [  0.07127,  -3.37554,   0.45661]])"
      ]
     },
     "execution_count": 42,
     "metadata": {},
     "output_type": "execute_result"
    }
   ],
   "source": [
    "E_1_nuc = - np.einsum(\"AM, AM, AMt -> At\", nuc_Z, nuc_rinv**3, nuc_V)\n",
    "E_1_nuc"
   ]
  },
  {
   "cell_type": "markdown",
   "metadata": {},
   "source": [
    "我们也可以用过数值导数方式给出 `nd_E_0_nuc` $\\partial_{A_t} E_\\mathrm{nuc}$："
   ]
  },
  {
   "cell_type": "code",
   "execution_count": 43,
   "metadata": {},
   "outputs": [
    {
     "data": {
      "text/plain": [
       "array([[  2.24023,   0.86221,   9.19698],\n",
       "       [  0.38236,   2.46344, -10.29839],\n",
       "       [ -2.69385,   0.04989,   0.6448 ],\n",
       "       [  0.07127,  -3.37554,   0.45661]])"
      ]
     },
     "execution_count": 43,
     "metadata": {},
     "output_type": "execute_result"
    }
   ],
   "source": [
    "nd_E_0_nuc = NumericDiff(gradn, lambda gradh: gradh.scf_eng.energy_nuc()).derivative.reshape(natm, 3)\n",
    "nd_E_0_nuc"
   ]
  },
  {
   "cell_type": "markdown",
   "metadata": {},
   "source": [
    "可以验证，数值导数与解析导数之间近乎相等："
   ]
  },
  {
   "cell_type": "code",
   "execution_count": 44,
   "metadata": {},
   "outputs": [
    {
     "data": {
      "text/plain": [
       "True"
      ]
     },
     "execution_count": 44,
     "metadata": {},
     "output_type": "execute_result"
    }
   ],
   "source": [
    "np.allclose(E_1_nuc, nd_E_0_nuc)"
   ]
  },
  {
   "cell_type": "markdown",
   "metadata": {},
   "source": [
    "## 分子总能量导数"
   ]
  },
  {
   "cell_type": "markdown",
   "metadata": {},
   "source": [
    "综上，整个分子最终的能量导数为 `E_1`\n",
    "\n",
    "$$\n",
    "\\frac{\\partial E}{\\partial A_t} = \\frac{\\partial E_\\mathrm{elec}}{\\partial A_t} + \\frac{\\partial E_\\mathrm{nuc}}{\\partial A_t}\n",
    "$$"
   ]
  },
  {
   "cell_type": "code",
   "execution_count": 45,
   "metadata": {},
   "outputs": [
    {
     "data": {
      "text/plain": [
       "array([[-0.06727,  0.06951,  0.0961 ],\n",
       "       [ 0.01291,  0.14195, -0.11756],\n",
       "       [ 0.03423,  0.01409,  0.03949],\n",
       "       [ 0.02013, -0.22555, -0.01803]])"
      ]
     },
     "execution_count": 45,
     "metadata": {},
     "output_type": "execute_result"
    }
   ],
   "source": [
    "E_1 = E_1_elec + E_1_nuc\n",
    "E_1"
   ]
  },
  {
   "cell_type": "markdown",
   "metadata": {},
   "source": [
    "可见，分子总能量的导数总体来说并不大；这是因为电子态能量导数与核排斥能导数两个相当大的矩阵正负抵消导致的。"
   ]
  },
  {
   "cell_type": "markdown",
   "metadata": {},
   "source": [
    "上述导数在 pyxdh 中，以 `gradh.E_1` property 呈现："
   ]
  },
  {
   "cell_type": "code",
   "execution_count": 46,
   "metadata": {},
   "outputs": [
    {
     "data": {
      "text/plain": [
       "True"
      ]
     },
     "execution_count": 46,
     "metadata": {},
     "output_type": "execute_result"
    }
   ],
   "source": [
    "np.allclose(E_1.ravel(), gradh.E_1.ravel())"
   ]
  },
  {
   "cell_type": "markdown",
   "metadata": {},
   "source": [
    "最后，我们通过验证数值导数 `nd_E_0` $\\partial_{A_t} E$ 的方式，来确定我们方才推演的解析导数确实是正确的："
   ]
  },
  {
   "cell_type": "code",
   "execution_count": 47,
   "metadata": {},
   "outputs": [
    {
     "data": {
      "text/plain": [
       "array([[-0.06727,  0.06951,  0.0961 ],\n",
       "       [ 0.01291,  0.14195, -0.11756],\n",
       "       [ 0.03423,  0.01409,  0.03949],\n",
       "       [ 0.02013, -0.22555, -0.01803]])"
      ]
     },
     "execution_count": 47,
     "metadata": {},
     "output_type": "execute_result"
    }
   ],
   "source": [
    "nd_E_0 = NumericDiff(gradn, lambda gradh: gradh.eng).derivative.reshape(natm, 3)\n",
    "nd_E_0"
   ]
  },
  {
   "cell_type": "code",
   "execution_count": 48,
   "metadata": {},
   "outputs": [
    {
     "data": {
      "text/plain": [
       "True"
      ]
     },
     "execution_count": 48,
     "metadata": {},
     "output_type": "execute_result"
    }
   ],
   "source": [
    "np.allclose(E_1, nd_E_0)"
   ]
  },
  {
   "cell_type": "markdown",
   "metadata": {},
   "source": [
    "## 参考任务解答"
   ]
  },
  {
   "cell_type": "markdown",
   "metadata": {},
   "source": [
    "### 任务 (1)"
   ]
  },
  {
   "cell_type": "markdown",
   "metadata": {},
   "source": [
    "首先，我们指出，$\\langle \\partial_t \\mu_A | \\nu_A \\rangle$ 并不为零；譬如对于原子 $A$ 代表第 1 个氢原子 (索引 2) 的情形，我们给出 $\\langle \\partial_z \\mu_A | \\nu_A \\rangle$："
   ]
  },
  {
   "cell_type": "code",
   "execution_count": 49,
   "metadata": {
    "scrolled": true
   },
   "outputs": [
    {
     "data": {
      "text/plain": [
       "array([[-0.     ,  0.     , -0.     ,  0.     ,  0.     , -1.51402,  0.     ,  0.     , -0.16843],\n",
       "       [ 0.     ,  0.     ,  0.     ,  0.     ,  0.     , -0.68687,  0.     ,  0.     , -0.6159 ],\n",
       "       [-0.     ,  0.     ,  0.     ,  0.     ,  0.     , -0.2606 ,  0.     ,  0.     , -0.51962],\n",
       "       [ 0.     ,  0.     ,  0.     ,  0.     ,  0.     ,  0.     ,  0.     ,  0.     ,  0.     ],\n",
       "       [ 0.     ,  0.     ,  0.     ,  0.     ,  0.     ,  0.     ,  0.     ,  0.     ,  0.     ],\n",
       "       [ 1.51402,  0.68687,  0.2606 ,  0.     ,  0.     ,  0.     ,  0.     ,  0.     ,  0.     ],\n",
       "       [ 0.     ,  0.     ,  0.     ,  0.     ,  0.     ,  0.     ,  0.     ,  0.     ,  0.     ],\n",
       "       [ 0.     ,  0.     ,  0.     ,  0.     ,  0.     ,  0.     ,  0.     ,  0.     ,  0.     ],\n",
       "       [ 0.16843,  0.6159 ,  0.51962,  0.     ,  0.     ,  0.     ,  0.     ,  0.     ,  0.     ]])"
      ]
     },
     "execution_count": 49,
     "metadata": {},
     "output_type": "execute_result"
    }
   ],
   "source": [
    "sA = mol_slice(1)\n",
    "int1e_ipovlp[2, sA, sA]"
   ]
  },
  {
   "cell_type": "markdown",
   "metadata": {},
   "source": [
    "但我们注意到这是一个反对称矩阵，因此求 $\\langle \\partial_z \\mu_A | \\nu_A \\rangle$ 加上其转置即 $\\langle \\mu_A | \\partial_z \\nu_A \\rangle$ 后，该矩阵就变成了零值了。"
   ]
  },
  {
   "cell_type": "markdown",
   "metadata": {},
   "source": [
    "事实上，$\\langle \\partial_z \\mu | \\nu \\rangle$ 作为张量本身就是反对称的，或者说\n",
    "\n",
    "$$\n",
    "\\langle \\partial_z \\mu | \\nu \\rangle = - \\langle \\mu | \\partial_z \\nu \\rangle\n",
    "$$\n",
    "\n",
    "也可以说，$\\partial_z$ 算符是反厄米的。"
   ]
  },
  {
   "cell_type": "markdown",
   "metadata": {},
   "source": [
    "简单地说，使用分部积分法，\n",
    "\n",
    "$$\n",
    "\\begin{align}\n",
    "\\langle \\partial_z \\mu | \\nu \\rangle\n",
    "&= \\int_{-\\infty}^{+\\infty} \\int_{-\\infty}^{+\\infty} \\int_{-\\infty}^{+\\infty} \\frac{\\partial \\phi_\\mu}{\\partial_z} \\phi_\\nu \\, \\mathrm{d} z \\, \\mathrm{d} y \\, \\mathrm{d} x \\\\\n",
    "&= \\int_{-\\infty}^{+\\infty} \\int_{-\\infty}^{+\\infty} \\left( \\phi_\\mu \\phi_\\nu \\big|_{z \\rightarrow -\\infty}^{+\\infty} - \\int_{-\\infty}^{+\\infty} \\phi_\\mu \\frac{\\partial \\phi_\\nu}{\\partial_z} \\, \\mathrm{d} z \\right) \\, \\mathrm{d} y \\, \\mathrm{d} x\n",
    "\\end{align}\n",
    "$$"
   ]
  },
  {
   "cell_type": "markdown",
   "metadata": {},
   "source": [
    "而我们知道，作为原子轨道基组的 Gaussian 函数具有当坐标距离中心无穷远时，函数取值为零的性质，即\n",
    "\n",
    "$$\n",
    "\\lim_{z \\rightarrow \\pm \\infty} \\phi (x, y, z) = 0, \\quad \\forall x, y \\in \\mathbb{R}\n",
    "$$\n",
    "\n",
    "这条公式算是断言，我们就不作证明了。与其有关的问题是波函数 (或基组) 的平方可积性质。\n",
    "\n",
    "那么，上式就化为了\n",
    "\n",
    "$$\n",
    "\\langle \\partial_z \\mu | \\nu \\rangle = - \\int_{-\\infty}^{+\\infty} \\int_{-\\infty}^{+\\infty} \\int_{-\\infty}^{+\\infty} \\phi_\\mu \\frac{\\partial \\phi_\\nu}{\\partial_z} \\, \\mathrm{d} z \\, \\mathrm{d} y \\, \\mathrm{d} x = \\langle \\mu | \\partial_z \\nu \\rangle\n",
    "$$"
   ]
  },
  {
   "cell_type": "markdown",
   "metadata": {},
   "source": [
    "显然这对其它两种分量的导数也适用；因此，\n",
    "\n",
    "$$\n",
    "\\langle \\partial_t \\mu | \\nu \\rangle + \\langle \\mu | \\partial_t \\nu \\rangle = \\langle \\partial_t \\mu | \\nu \\rangle + \\mathrm{swap} (\\mu, \\nu) = 0\n",
    "$$"
   ]
  },
  {
   "cell_type": "markdown",
   "metadata": {},
   "source": [
    "若 $\\mu, \\nu$ 被限定都在原子 $A$ 上，上式仍然成立，因此命题得证。"
   ]
  },
  {
   "cell_type": "markdown",
   "metadata": {},
   "source": [
    "但上述的证明过程可能会让我们误认为，既然 $S_{\\mu \\nu}^t$ 就是通过 $\\langle \\partial_t \\mu | \\nu \\rangle$ 生成的，那么看起来所有值都会是零。事实上，\n",
    "\n",
    "$$\n",
    "\\langle \\partial_t \\mu_A | \\nu_B \\rangle + \\langle \\mu_B | \\partial_t \\nu_A \\rangle \\not\\equiv 0\n",
    "$$\n",
    "\n",
    "这是因为，如果 $\\mu$ 在 $A$ 原子上且 $\\nu$ 在 $B$ 原子上，那么 $\\langle \\partial_t \\mu_A | \\nu_B \\rangle \\not\\equiv 0$；但假使现在 $A \\neq B$，那么一定有 $\\langle \\mu_B | \\partial_t \\nu_A \\rangle = 0$；因此，上式的左边未必为零。这里 $\\not\\equiv$ 符号的意义是未必为零。"
   ]
  },
  {
   "cell_type": "markdown",
   "metadata": {},
   "source": [
    "### 任务 (2)"
   ]
  },
  {
   "cell_type": "markdown",
   "metadata": {},
   "source": [
    "这是因为 $\\hat t$ 算符是对电子坐标的导数；它与原子核完全无关，因此在原子核坐标分量 $A_t$ 下不可能有任何导数出现。"
   ]
  },
  {
   "cell_type": "markdown",
   "metadata": {},
   "source": [
    "### 任务 (3)"
   ]
  },
  {
   "cell_type": "markdown",
   "metadata": {},
   "source": [
    "待证等式为\n",
    "\n",
    "$$\n",
    "\\frac{\\partial}{\\partial t} \\frac{Z_A}{| \\boldsymbol{r} - \\boldsymbol{A} |} = - \\frac{\\partial}{\\partial A_t} \\frac{Z_A}{| \\boldsymbol{r} - \\boldsymbol{A} |}\n",
    "$$"
   ]
  },
  {
   "cell_type": "markdown",
   "metadata": {},
   "source": [
    "注意到我们可以写 (距离的定义是通过 $L_2$ Norm 给出的)\n",
    "\n",
    "$$\n",
    "| \\boldsymbol{r} - \\boldsymbol{A} | = \\sqrt{\\sum_{s} (s - A_s)^2}\n",
    "$$\n",
    "\n",
    "其中，$s$ 与 $t$ 一样代表坐标分量，$s \\in \\{ x, y, z \\}$。"
   ]
  },
  {
   "cell_type": "markdown",
   "metadata": {},
   "source": [
    "因此，等式左边有：\n",
    "\n",
    "$$\n",
    "\\begin{align}\n",
    "\\frac{\\partial}{\\partial t} \\frac{Z_A}{| \\boldsymbol{r} - \\boldsymbol{A} |}\n",
    "&= Z_A \\frac{\\partial}{\\partial t} \\left( \\sum_{s} (s - A_s)^2 \\right)^{- 1/2} \\\\\n",
    "&= - \\frac{1}{2} Z_A \\left( \\sum_{s} (s - A_s)^2 \\right)^{- 3/2} \\frac{\\partial}{\\partial t} \\sum_{s} (s - A_s)^2 \\\\\n",
    "&= - \\frac{1}{2} \\frac{Z_A}{| \\boldsymbol{r} - \\boldsymbol{A} |^3} \\frac{\\partial}{\\partial t} (t - A_t)^2 \\\\\n",
    "&= - \\frac{Z_A (t - A_t)}{| \\boldsymbol{r} - \\boldsymbol{A} |^3}\n",
    "\\end{align}\n",
    "$$"
   ]
  },
  {
   "cell_type": "markdown",
   "metadata": {},
   "source": [
    "其中，第三个等号利用到了当 $s \\in \\{ y, z \\}$ 时，$s$ 与被求导变量 $t$ 无关，因此导数必然为零的性质。"
   ]
  },
  {
   "cell_type": "markdown",
   "metadata": {},
   "source": [
    "仿照上面的推导，应当能发现\n",
    "\n",
    "$$\n",
    "\\frac{\\partial}{\\partial A_t} \\frac{Z_A}{| \\boldsymbol{r} - \\boldsymbol{A} |} = \\frac{Z_A (t - A_t)}{| \\boldsymbol{r} - \\boldsymbol{A} |^3}\n",
    "$$\n",
    "\n",
    "因此，命题得证。"
   ]
  },
  {
   "cell_type": "markdown",
   "metadata": {},
   "source": [
    "### 任务 (4)"
   ]
  },
  {
   "cell_type": "markdown",
   "metadata": {},
   "source": [
    "思路同任务 (1)。这里就不详细展开了。"
   ]
  },
  {
   "cell_type": "markdown",
   "metadata": {},
   "source": [
    "### 任务 (5)"
   ]
  },
  {
   "cell_type": "markdown",
   "metadata": {},
   "source": [
    "因为分部积分只适用于被偏导变量与被积分的微元变量相同的情形。在\n",
    "\n",
    "$$\n",
    "\\int \\phi_\\mu \\phi_\\nu \\frac{\\partial}{\\partial A_t} \\frac{Z_A}{| \\boldsymbol{r} - \\boldsymbol{A} |} \\, \\mathrm{d} \\boldsymbol{r}\n",
    "\\not \\equiv - \\int \\frac{\\partial}{\\partial A_t} (\\phi_\\mu \\phi_\\nu) \\cdot \\frac{Z_A}{| \\boldsymbol{r} - \\boldsymbol{A} |} \\, \\mathrm{d} \\boldsymbol{r}\n",
    "$$\n",
    "\n",
    "中，被偏导变量是 $A_t$，被积分微元是三维向量 $\\boldsymbol{r}$，或者是三重积分下的三个变量 $(x, y, z)$。$A_t$ 与 $(x, y, z)$ 之间毫无关系，因此不能套用分部积分的公式推演思路。"
   ]
  },
  {
   "cell_type": "markdown",
   "metadata": {},
   "source": [
    "进一步说，$\\partial_t$ 一般来说是反厄米算符，而 $\\partial_{A_t}$ 一般不具有厄米或反厄米性质。"
   ]
  },
  {
   "cell_type": "markdown",
   "metadata": {},
   "source": [
    "### 任务 (6)"
   ]
  },
  {
   "cell_type": "markdown",
   "metadata": {},
   "source": [
    "下述的推演过程与上一篇文档的 [任务 (4)](dip_rhf_skeleton.ipynb#任务-(4)) 非常相似。"
   ]
  },
  {
   "cell_type": "markdown",
   "metadata": {},
   "source": [
    "待证明等式为\n",
    "\n",
    "$$\n",
    "\\frac{\\partial E_\\mathrm{elec}}{\\partial \\mathbb{A}} \\leftarrow F_{\\mu \\nu} \\frac{\\partial D_{\\mu \\nu}}{\\partial \\mathbb{A}} = - 2 F_{ij} S_{ij}^\\mathbb{A}\n",
    "$$"
   ]
  },
  {
   "cell_type": "markdown",
   "metadata": {},
   "source": [
    "首先，通过链式法则，有\n",
    "\n",
    "$$\n",
    "\\frac{\\partial D_{\\mu \\nu}}{\\partial \\mathbb{A}}\n",
    "= \\frac{\\partial (2 C_{\\mu i} C_{\\nu i})}{\\partial \\mathbb{A}}\n",
    "= 2 \\left( \\frac{\\partial (C_{\\mu i})}{\\partial \\mathbb{A}} C_{\\nu i} + C_{\\mu i} \\frac{\\partial (C_{\\nu i})}{\\partial \\mathbb{A}} \\right)\n",
    "$$"
   ]
  },
  {
   "cell_type": "markdown",
   "metadata": {},
   "source": [
    "根据 U 矩阵定义，有\n",
    "\n",
    "$$\n",
    "\\frac{\\partial D_{\\mu \\nu}}{\\partial \\mathbb{A}} = 2 \\big( C_{\\mu m} U_{mi}^\\mathbb{A} C_{\\nu i} + C_{\\nu m} U_{mi}^\\mathbb{A} C_{\\mu i} \\big)\n",
    "$$"
   ]
  },
  {
   "cell_type": "markdown",
   "metadata": {},
   "source": [
    "上式与 $F_{\\mu \\nu}$ 缩并后，有\n",
    "\n",
    "$$\n",
    "\\begin{align}\n",
    "\\frac{\\partial E_\\mathrm{elec}}{\\partial \\mathbb{A}} \\leftarrow F_{\\mu \\nu} \\frac{\\partial D_{\\mu \\nu}}{\\partial \\mathbb{A}}\n",
    "&= 2 \\big( C_{\\mu m} F_{\\mu \\nu} C_{\\nu i} U_{mi}^\\mathbb{A} + C_{\\mu i} F_{\\mu \\nu} C_{\\nu m} U_{mi}^\\mathbb{A} \\big) \\\\\n",
    "&= 2 (F_{mi} + F_{im}) U_{mi}^\\mathbb{A} \\\\\n",
    "&= 4 F_{mi} U_{mi}^\\mathbb{A}\n",
    "\\end{align}\n",
    "$$\n",
    "\n",
    "其中，最后一个等号利用了 Fock 矩阵的对称性。"
   ]
  },
  {
   "cell_type": "markdown",
   "metadata": {},
   "source": [
    "对于 RHF 而言，Fock 矩阵的非占-占据部分为零，即 $F_{ai} = 0$，因此上式中全轨道角标 $m$ 只在处于占据轨道时才有值；因此\n",
    "\n",
    "$$\n",
    "\\begin{align}\n",
    "\\frac{\\partial E_\\mathrm{elec}}{\\partial \\mathbb{A}} \\leftarrow F_{\\mu \\nu} \\frac{\\partial D_{\\mu \\nu}}{\\partial \\mathbb{A}}\n",
    "&= 4 F_{mi} U_{mi}^\\mathbb{A} = 2 F_{ji} U_{ji}^\\mathbb{A} \\\\\n",
    "&= 2 \\big( F_{ij} U_{ij}^\\mathbb{A} + F_{ji} U_{ji}^\\mathbb{A} \\big) \\\\\n",
    "&= 2 F_{ij} (U_{ij}^\\mathbb{A} + U_{ji}^\\mathbb{A}) \\\\\n",
    "&= -2 F_{ij} S_{ij}^\\mathbb{A}\n",
    "\\end{align}\n",
    "$$"
   ]
  },
  {
   "cell_type": "markdown",
   "metadata": {},
   "source": [
    "上式的第 2 行利用了求和角标可交换的特性，第 3 行利用了 Fock 矩阵的对称性，第 4 行利用了\n",
    "\n",
    "$$\n",
    "U_{ij}^\\mathbb{A} + U_{ji}^\\mathbb{A} + S_{ij}^\\mathbb{A} = 0\n",
    "$$"
   ]
  }
 ],
 "metadata": {
  "kernelspec": {
   "display_name": "Python 3",
   "language": "python",
   "name": "python3"
  },
  "language_info": {
   "codemirror_mode": {
    "name": "ipython",
    "version": 3
   },
   "file_extension": ".py",
   "mimetype": "text/x-python",
   "name": "python",
   "nbconvert_exporter": "python",
   "pygments_lexer": "ipython3",
   "version": "3.8.1"
  },
  "toc": {
   "base_numbering": 1,
   "nav_menu": {},
   "number_sections": true,
   "sideBar": true,
   "skip_h1_title": false,
   "title_cell": "Table of Contents",
   "title_sidebar": "Contents",
   "toc_cell": false,
   "toc_position": {
    "height": "calc(100% - 180px)",
    "left": "10px",
    "top": "150px",
    "width": "209px"
   },
   "toc_section_display": true,
   "toc_window_display": true
  }
 },
 "nbformat": 4,
 "nbformat_minor": 4
}
