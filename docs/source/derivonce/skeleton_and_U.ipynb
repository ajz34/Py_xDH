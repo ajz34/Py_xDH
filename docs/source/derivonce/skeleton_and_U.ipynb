{
 "cells": [
  {
   "cell_type": "markdown",
   "metadata": {},
   "source": [
    "# Skeleton 导数与 U 导数概述"
   ]
  },
  {
   "cell_type": "markdown",
   "metadata": {},
   "source": [
    "我们曾经介绍过，对分子梯度 (分子力，向量或矩阵) 的导数是 Hessian。这就是矩阵导数的一个例子。它就是这一节的讨论的矩阵全导数的一个例子。但我们曾经计算的是数值梯度。\n",
    "\n",
    "从今之后，我们的目标是求取解析梯度。数值梯度也是重要的，但它的意义在于验证解析梯度的正确性。\n",
    "\n",
    "显然，我们如果要求取分子梯度性质，就需要对能量或一些矩阵作全导数计算。所谓全导数，就是一般意义下的导数。但为了化简计算或对计算分项作分类，我们会引入新的用语，称为 Skeleton 导数 (原子轨道矩阵导数)。"
   ]
  },
  {
   "cell_type": "markdown",
   "metadata": {},
   "source": [
    "<div class=\"alert alert-info\">\n",
    "\n",
    "**记号说明**\n",
    "\n",
    "我们重新强调一些记号：\n",
    "\n",
    "- 上下标 $A, B, M$：原子；对于双氧水，可以是两个氢、两个氧原子中的任意一个；\n",
    "\n",
    "- 三维向量 $\\boldsymbol{A}, \\boldsymbol{B}, \\boldsymbol{M}$：原子三维笛卡尔坐标；\n",
    "\n",
    "- 三维向量 $\\boldsymbol{r}$：电子坐标；\n",
    "\n",
    "- 下标 $t, s, r, w$：三维笛卡尔坐标分量，取值范围 $\\{ x, y, z \\}$；\n",
    "\n",
    "- 上标或标量 $A_t, B_s$：原子坐标的坐标分量；\n",
    "\n",
    "- 标量 $r$：线段长度，譬如 $r_{AB}$ 表示原子 $A$ 到 $B$ 的距离；\n",
    "\n",
    "- 电荷标量 $Z_A$：$A$ 原子的核电荷数；\n",
    "\n",
    "- 函数或格点 $\\phi$：作为函数的原子轨道。\n",
    "\n",
    "一些常用下标如下：\n",
    "\n",
    "- 下标 $\\mu, \\nu, \\kappa, \\lambda$ 表示原子轨道角标，在程序中用 `u, v, k, l` 表示；\n",
    "\n",
    "- 下标 $i, j, k, l$ 表示占据分子轨道角标；\n",
    "\n",
    "- 下标 $a, b, c$ 表示非占分子轨道角标；\n",
    "\n",
    "- 下标 $p, q, r, s, m$ 表示任意轨道角标。\n",
    "\n",
    "</div>"
   ]
  },
  {
   "cell_type": "markdown",
   "metadata": {},
   "source": [
    "<div class=\"alert alert-info\">\n",
    "\n",
    "**补充记号说明**\n",
    "\n",
    "- 上角标或普通数值 $\\mathbb{A}, \\mathbb{B}$：任意被求导量，可以是原子核坐标分量或电荷坐标分量。\n",
    "\n",
    "</div>"
   ]
  },
  {
   "cell_type": "markdown",
   "metadata": {},
   "source": [
    "我们拿 Hamiltonian Core 举例。我们称 Hamiltonian Core 矩阵在被求导量 $\\mathbb{A}$ 下的导数为 Skeleton 导数：\n",
    "\n",
    "$$\n",
    "h_{\\mu \\nu}^\\mathbb{A} = \\frac{\\partial h_{\\mu \\nu}}{\\partial \\mathbb{A}}\n",
    "$$"
   ]
  },
  {
   "cell_type": "markdown",
   "metadata": {},
   "source": [
    "但我们也很经常处理分子轨道下的 Hamiltonian Core 矩阵。对于这类矩阵，我们定义 Skeleton 导数为\n",
    "\n",
    "$$\n",
    "h_{pq}^\\mathbb{A} = C_{\\mu p} h_{\\mu \\nu}^\\mathbb{A} C_{\\nu q}\n",
    "$$"
   ]
  },
  {
   "cell_type": "markdown",
   "metadata": {},
   "source": [
    "事实上，分子轨道下的 Hamiltonian Core 矩阵的全导数包含对分子轨道的导数项：\n",
    "\n",
    "$$\n",
    "\\frac{\\partial h_{pq}}{\\partial \\mathbb{A}} = \\frac{\\partial C_{\\mu p}}{\\partial \\mathbb{A}} h_{\\mu \\nu} C_{\\nu q} + C_{\\mu p} h_{\\mu \\nu}^\\mathbb{A} C_{\\nu q} +  C_{\\mu p} h_{\\mu \\nu} \\frac{\\partial C_{\\nu q}}{\\partial \\mathbb{A}}\n",
    "$$\n",
    "\n",
    "因此，Skeleton 的意义是，在一个矩阵的全导数中，去除其与分子轨道导数有关的量。我们依据下式定义 U 矩阵 $U_{mp}^\\mathbb{A}$ (Yamaguchi, p398, G.1)\n",
    "\n",
    "$$\n",
    "\\frac{\\partial C_{\\mu p}}{\\partial \\mathbb{A}} = C_{\\mu m} U_{mp}^\\mathbb{A}\n",
    "$$\n",
    "\n",
    "那么，上面的分子轨道下 Hamiltonian Core 矩阵全导数可以写为\n",
    "\n",
    "$$\n",
    "\\frac{\\partial h_{pq}}{\\partial \\mathbb{A}} = h_{pq}^\\mathbb{A} + h_{pm} U_{mq}^\\mathbb{A} + h_{mq} U_{mp}^\\mathbb{A}\n",
    "$$\n",
    "\n",
    "上式只有第一项是 Skeleton 导数。我们以后经常称后两项为 U 导数。"
   ]
  },
  {
   "cell_type": "markdown",
   "metadata": {},
   "source": [
    "<div class=\"alert alert-info\">\n",
    "\n",
    "**任务 (1)**\n",
    "\n",
    "证明上一个等式。\n",
    "\n",
    "</div>"
   ]
  },
  {
   "cell_type": "markdown",
   "metadata": {},
   "source": [
    "因此，Skeleton 导数也可以视作不产生 U 矩阵的导数。以后我们经常会遇到 Skeleton 导数，其符号也类似于 $h_{pq}^\\mathbb{A}$，但存在例外。因此，作者决定每次出现新的符号时都额外作一次定义。"
   ]
  },
  {
   "cell_type": "markdown",
   "metadata": {},
   "source": [
    "关于 U 矩阵，其中一个相当重要的性质是：\n",
    "\n",
    "$$\n",
    "S_{pq}^\\mathbb{A} + U_{pq}^\\mathbb{A} + U_{qp}^\\mathbb{A} = 0\n",
    "$$\n",
    "\n",
    "一个重要的特性是，U 矩阵一般是普通矩阵，而非通常量化中所看到的对称矩阵。因为这个特性，我们在处理 U 矩阵的对称性时需要小心。"
   ]
  },
  {
   "cell_type": "markdown",
   "metadata": {},
   "source": [
    "<div class=\"alert alert-info\">\n",
    "\n",
    "**任务 (2)**\n",
    "\n",
    "在任务 (1) 所被证明的对于 Hamiltonian Core 成立的等式，套用到重叠矩阵也同样成立。请说明上式成立。\n",
    "\n",
    "</div>"
   ]
  },
  {
   "cell_type": "markdown",
   "metadata": {},
   "source": [
    "## 任务参考答案"
   ]
  },
  {
   "cell_type": "markdown",
   "metadata": {},
   "source": [
    "### 任务 (1)"
   ]
  },
  {
   "cell_type": "markdown",
   "metadata": {},
   "source": [
    "我们将 $\\frac{\\partial C_{\\mu p}}{\\partial \\mathbb{A}}$ 的定义式代入 $\\frac{\\partial h_{pq}}{\\partial \\mathbb{A}}$ 的导出式中，得到\n",
    "\n",
    "$$\n",
    "\\begin{align}\n",
    "\\frac{\\partial h_{pq}}{\\partial \\mathbb{A}} &= C_{\\mu p} h_{\\mu \\nu}^\\mathbb{A} C_{\\nu q} + C_{\\mu m} U_{mp}^\\mathbb{A} h_{\\mu \\nu} C_{\\nu q} + C_{\\mu p} h_{\\mu \\nu} C_{\\mu m} U_{mq}^\\mathbb{A} \\\\\n",
    "&= h_{pq}^\\mathbb{A} + C_{\\mu m} h_{\\mu \\nu} C_{\\nu q} U_{mp}^\\mathbb{A} + C_{\\mu p} h_{\\mu \\nu} C_{\\mu m} U_{mq}^\\mathbb{A} \\\\\n",
    "&= h_{pq}^\\mathbb{A} + h_{mq} U_{mp}^\\mathbb{A} + h_{pm} U_{mq}^\\mathbb{A}\n",
    "\\end{align}\n",
    "$$"
   ]
  },
  {
   "cell_type": "markdown",
   "metadata": {},
   "source": [
    "### 任务 (2)"
   ]
  },
  {
   "cell_type": "markdown",
   "metadata": {},
   "source": [
    "我们知道\n",
    "\n",
    "$$\n",
    "\\frac{\\partial S_{pq}}{\\partial \\mathbb{A}} = S_{pq}^\\mathbb{A} + S_{pm} U_{mq}^\\mathbb{A} + S_{mq} U_{mp}^\\mathbb{A}\n",
    "$$"
   ]
  },
  {
   "cell_type": "markdown",
   "metadata": {},
   "source": [
    "但同时，根据定义，\n",
    "\n",
    "$$\n",
    "S_{pq} = \\delta_{pq}\n",
    "$$"
   ]
  },
  {
   "cell_type": "markdown",
   "metadata": {},
   "source": [
    "因此，分子轨道下的重叠矩阵是严格的单位矩阵，对任何物理量的导数为零，即\n",
    "\n",
    "$$\n",
    "\\frac{\\partial S_{pq}}{\\partial \\mathbb{A}} = 0\n",
    "$$\n",
    "\n",
    "因此，上式化为\n",
    "\n",
    "$$\n",
    "0 = S_{pq}^\\mathbb{A} + \\delta_{pm} U_{mq}^\\mathbb{A} + \\delta_{mq} U_{mp}^\\mathbb{A} = S_{pq}^\\mathbb{A} + U_{pq}^\\mathbb{A} + U_{qp}^\\mathbb{A}\n",
    "$$"
   ]
  }
 ],
 "metadata": {
  "kernelspec": {
   "display_name": "Python 3",
   "language": "python",
   "name": "python3"
  },
  "language_info": {
   "codemirror_mode": {
    "name": "ipython",
    "version": 3
   },
   "file_extension": ".py",
   "mimetype": "text/x-python",
   "name": "python",
   "nbconvert_exporter": "python",
   "pygments_lexer": "ipython3",
   "version": "3.8.1"
  },
  "toc": {
   "base_numbering": 1,
   "nav_menu": {},
   "number_sections": true,
   "sideBar": true,
   "skip_h1_title": false,
   "title_cell": "Table of Contents",
   "title_sidebar": "Contents",
   "toc_cell": false,
   "toc_position": {},
   "toc_section_display": true,
   "toc_window_display": false
  }
 },
 "nbformat": 4,
 "nbformat_minor": 4
}
