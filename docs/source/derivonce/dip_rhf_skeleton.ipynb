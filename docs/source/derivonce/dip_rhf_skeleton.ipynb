{
 "cells": [
  {
   "cell_type": "markdown",
   "metadata": {},
   "source": [
    "# RHF 偶极矩计算"
   ]
  },
  {
   "cell_type": "markdown",
   "metadata": {},
   "source": [
    "我们在曾经的文档中，已经讨论了解析 RHF 的公式表达式了；但我们尚未系统地推导偶极矩的解析梯度。这一节我们系统地推导 RHF 偶极矩，并且确立以后文档的风格。"
   ]
  },
  {
   "cell_type": "markdown",
   "metadata": {},
   "source": [
    "我们之前说到，任何导数通常都可以分为 Skeleton 导数与 U 导数；但对于 RHF 的一阶梯度响应性质，U 导数可以通过巧妙的数学方式避免。因此，我们只需要学会 Skeleton 导数的求取就可以完成 RHF 的偶极矩计算。"
   ]
  },
  {
   "cell_type": "markdown",
   "metadata": {},
   "source": [
    "## 准备工作与符号定义"
   ]
  },
  {
   "cell_type": "markdown",
   "metadata": {},
   "source": [
    "我们假定以后会始终引入如下的库函数和设定："
   ]
  },
  {
   "cell_type": "code",
   "execution_count": 1,
   "metadata": {},
   "outputs": [],
   "source": [
    "%matplotlib notebook\n",
    "\n",
    "from pyscf import gto, scf, dft, lib\n",
    "import numpy as np\n",
    "from functools import partial\n",
    "import warnings\n",
    "from matplotlib import pyplot as plt\n",
    "from pyxdh.Utilities import NucCoordDerivGenerator, DipoleDerivGenerator, NumericDiff\n",
    "\n",
    "np.einsum = partial(np.einsum, optimize=[\"greedy\", 1024 ** 3 * 2 / 8])\n",
    "np.allclose = partial(np.allclose, atol=1e-6, rtol=1e-4)\n",
    "np.set_printoptions(5, linewidth=150, suppress=True)\n",
    "warnings.filterwarnings(\"ignore\")"
   ]
  },
  {
   "cell_type": "markdown",
   "metadata": {},
   "source": [
    "以后的文档可能会在正文前，花大量代码进行准备工作。这些代码可能会非常相似，但有细微的变化。譬如\n",
    "\n",
    "- 量化方法上，有 RHF 自洽场、GGA 自洽场、GGA 非自洽、MP2 后自洽、bDH 后自洽、xDH 后自洽型；\n",
    "\n",
    "- 一阶梯度上，有电场导数、核坐标导数；\n",
    "\n",
    "- 二阶梯度上，有核坐标二阶导数、电场二阶导数、核坐标与电场混合导数。\n",
    "\n",
    "读者可能需要注意到这些差距。"
   ]
  },
  {
   "cell_type": "markdown",
   "metadata": {},
   "source": [
    "其中一部分变量是我们以后也会经常用到的、物理意义始终不变的变量：\n",
    "\n",
    "- `mol` 分子实例，类型为 `gto.Mole`"
   ]
  },
  {
   "cell_type": "code",
   "execution_count": 2,
   "metadata": {},
   "outputs": [
    {
     "data": {
      "text/plain": [
       "<pyscf.gto.mole.Mole at 0x7f89c5c28220>"
      ]
     },
     "execution_count": 2,
     "metadata": {},
     "output_type": "execute_result"
    }
   ],
   "source": [
    "mol = gto.Mole()\n",
    "mol.atom = \"\"\"\n",
    "O  0.0  0.0  0.0\n",
    "O  0.0  0.0  1.5\n",
    "H  1.0  0.0  0.0\n",
    "H  0.0  0.7  1.0\n",
    "\"\"\"\n",
    "mol.basis = \"6-31G\"\n",
    "mol.verbose = 0\n",
    "mol.build()"
   ]
  },
  {
   "cell_type": "markdown",
   "metadata": {},
   "source": [
    "- `nao` $n_\\mathrm{AO}$ 原子轨道数量 (基组数量)；\n",
    "\n",
    "- `nmo` $n_\\mathrm{MO}$ 分子轨道数量，被定义为与原子轨道数量相同； \n",
    "\n",
    "- `nocc` $n_\\mathrm{occ}$ 占据轨道数量，在闭壳层中被定义为电子数的一半；\n",
    "\n",
    "- `nvir` $n_\\mathrm{vir}$ 非占轨道数量，$n_\\mathrm{MO} - n_\\mathrm{occ}$；\n",
    "\n",
    "- `so`, `sv`, `sa` 分别为占据、非占、全部轨道的分割。"
   ]
  },
  {
   "cell_type": "code",
   "execution_count": 3,
   "metadata": {},
   "outputs": [],
   "source": [
    "nmo, nao, natm = mol.nao, mol.nao, mol.natm\n",
    "nocc = mol.nelec[0]\n",
    "nvir = nmo - nocc\n",
    "so, sv, sa = slice(0, nocc), slice(nocc, nmo), slice(0, nmo)"
   ]
  },
  {
   "cell_type": "markdown",
   "metadata": {},
   "source": [
    "- `H_0_ao` $h_{\\mu \\nu}$ 原子轨道 Hamiltonian Core 矩阵；\n",
    "\n",
    "- `S_0_ao` $S_{\\mu \\nu}$ 原子轨道重叠矩阵；\n",
    "\n",
    "- `eri0_ao` $(\\mu \\nu | \\kappa \\lambda)$ 原子轨道 ERI 积分。"
   ]
  },
  {
   "cell_type": "code",
   "execution_count": 4,
   "metadata": {},
   "outputs": [],
   "source": [
    "H_0_ao = mol.intor(\"int1e_kin\") + mol.intor(\"int1e_nuc\")\n",
    "S_0_ao = mol.intor(\"int1e_ovlp\")\n",
    "eri0_ao = mol.intor(\"int2e\")"
   ]
  },
  {
   "cell_type": "markdown",
   "metadata": {},
   "source": [
    "我们暂且先定义下述非普遍的自洽场过程 `diph` 是通过 `DipoleSCF` 类实现的："
   ]
  },
  {
   "cell_type": "code",
   "execution_count": 5,
   "metadata": {},
   "outputs": [],
   "source": [
    "from pyxdh.DerivOnce import DipoleSCF\n",
    "diph = DipoleSCF({\"scf_eng\": scf.RHF(mol)})"
   ]
  },
  {
   "cell_type": "markdown",
   "metadata": {},
   "source": [
    "经过自洽场计算后的量有 (不论是 GGA 或是 RHF)：\n",
    "\n",
    "- `C` $C_{\\mu p}$ 轨道系数；\n",
    "\n",
    "- `Co` $C_{\\mu i}$, `Cv` $C_{\\mu a}$ 分别为占据轨道系数、非占轨道系数\n",
    "\n",
    "- `e` $\\varepsilon_p$ 轨道能；\n",
    "\n",
    "- `eo` $\\varepsilon_i$, `ev` $\\varepsilon_a$ 分别为占据轨道能、非占轨道能；\n",
    "\n",
    "- `D` $D_{\\mu \\nu}$ 原子轨道密度矩阵。"
   ]
  },
  {
   "cell_type": "code",
   "execution_count": 6,
   "metadata": {},
   "outputs": [],
   "source": [
    "C = diph.C\n",
    "Co, Cv = C[:, so], C[:, sv]\n",
    "e = diph.e\n",
    "eo, ev = e[so], e[sv]\n",
    "D = diph.D"
   ]
  },
  {
   "cell_type": "markdown",
   "metadata": {},
   "source": [
    "- `F_0_ao` $F_{\\mu \\nu}$ 原子轨道 Fock 矩阵 (需要留意 Fock 矩阵与上述原子轨道矩阵不同，是与分子轨道系数相关的量)；"
   ]
  },
  {
   "cell_type": "code",
   "execution_count": 7,
   "metadata": {},
   "outputs": [],
   "source": [
    "F_0_ao = diph.F_0_ao"
   ]
  },
  {
   "cell_type": "markdown",
   "metadata": {},
   "source": [
    "下面是依靠分子轨道方能定义的量：\n",
    "\n",
    "- `H_0_mo` $h_{pq}$ 分子轨道 Hamiltonian Core 矩阵；\n",
    "\n",
    "- `S_0_mo` $S_{pq}$ 分子轨道重叠矩阵；\n",
    "\n",
    "- `F_0_mo` $F_{pq}$ 分子轨道 Fock 矩阵；\n",
    "\n",
    "- `eri0_mo` $(pq | rs)$ 分子轨道 ERI 积分。"
   ]
  },
  {
   "cell_type": "code",
   "execution_count": 8,
   "metadata": {},
   "outputs": [],
   "source": [
    "H_0_mo = diph.H_0_mo\n",
    "S_0_mo = diph.S_0_mo\n",
    "F_0_mo = diph.F_0_mo\n",
    "eri0_mo = diph.eri0_mo"
   ]
  },
  {
   "cell_type": "markdown",
   "metadata": {},
   "source": [
    "其余的变量通常是与梯度有关的量，这些变量名可能会在以后介绍。"
   ]
  },
  {
   "cell_type": "markdown",
   "metadata": {},
   "source": [
    "在继续进行文档之前，我们先定义偶极矩的数值梯度辅助类 `DipoleDerivGenerator` 实例 `dipn`："
   ]
  },
  {
   "cell_type": "code",
   "execution_count": 9,
   "metadata": {},
   "outputs": [],
   "source": [
    "def dipn_generator(component, interval):\n",
    "    scf_eng = scf.RHF(mol)\n",
    "    def get_hcore(mol=mol):\n",
    "        return scf.rhf.get_hcore(mol) - interval * mol.intor(\"int1e_r\")[component]\n",
    "    scf_eng.get_hcore = get_hcore\n",
    "    config = {\n",
    "        \"scf_eng\": scf_eng,\n",
    "    }\n",
    "    return DipoleSCF(config)"
   ]
  },
  {
   "cell_type": "code",
   "execution_count": 10,
   "metadata": {},
   "outputs": [],
   "source": [
    "dipn = DipoleDerivGenerator(dipn_generator)"
   ]
  },
  {
   "cell_type": "markdown",
   "metadata": {},
   "source": [
    "## Hamiltonian Core Skeleton 导数"
   ]
  },
  {
   "cell_type": "markdown",
   "metadata": {},
   "source": [
    "### 解析梯度"
   ]
  },
  {
   "cell_type": "markdown",
   "metadata": {},
   "source": [
    "我们在普通的 RHF 计算中，Hamiltonian Core 是动能与原子核静电势能导出量之和：\n",
    "\n",
    "$$\n",
    "\\begin{align}\n",
    "\\hat h = \\hat t + \\hat v_\\mathrm{nuc} &= - \\frac{1}{2} \\frac{\\partial^2}{\\partial t^2} - \\frac{Z_M}{| \\boldsymbol{r} - \\boldsymbol{M} |} \\quad (\\textsf{Einsum form}) \\\\\n",
    "&= - \\frac{1}{2} \\sum_r \\frac{\\partial^2}{\\partial t^2} - \\sum_M \\frac{Z_M}{| \\boldsymbol{r} - \\boldsymbol{M} |} \\quad (\\textsf{Ordinary form})\n",
    "\\end{align}\n",
    "$$"
   ]
  },
  {
   "cell_type": "markdown",
   "metadata": {},
   "source": [
    "若不作更多说明，我们以后通常用上面的作者所定义的 Einsum Form 进行公式描述 (这与正统的 Einstein Summation 近乎完全不同)。但可能会非常不直观，因此读者可能需要习惯这些记号，或者自己创立自己的公式符号体系。"
   ]
  },
  {
   "cell_type": "markdown",
   "metadata": {},
   "source": [
    "我们对上面的表达式作补充说明。第一项的 $t$ 是坐标分量，而非 $\\hat t$ 的动能算符一意。第二项的 $M$ 表示原子；我们知道对于单个电子而言，静电势能是各个原子对其势能的和；因此对 $M$ 求和。而 $\\hat h$ 事实上是与电子坐标 $\\boldsymbol{r}$ 有关的算符，因此不需要对 $\\boldsymbol{r}$ 进行求和。"
   ]
  },
  {
   "cell_type": "markdown",
   "metadata": {},
   "source": [
    "但上述量与电场完全无关。我们提到过，偶极矩是分子在外加电场下的能量微扰表征。这个外加电场可以附加在 Hamiltonian Core 上，因此我们这篇文档讨论的 Hamiltonian Core 实际上是\n",
    "\n",
    "$$\n",
    "\\begin{align}\n",
    "\\hat h (F_t) &= - \\frac{1}{2} \\frac{\\partial^2}{\\partial t^2} - \\frac{Z_M}{| \\boldsymbol{r} - \\boldsymbol{M} |} - F_t \\quad (\\textsf{Einsum form}) \\\\\n",
    "&= - \\frac{1}{2} \\sum_r \\frac{\\partial^2}{\\partial t^2} - \\sum_M \\frac{Z_M}{| \\boldsymbol{r} - \\boldsymbol{M} |} - \\sum_t F_t t \\quad (\\textsf{Ordinary form})\n",
    "\\end{align}\n",
    "$$"
   ]
  },
  {
   "cell_type": "markdown",
   "metadata": {},
   "source": [
    "那么，其对应的 Hamiltonian Core 矩阵为\n",
    "\n",
    "$$\n",
    "h_{\\mu \\nu} (F_t) = \\langle \\mu | - \\frac{1}{2} \\frac{\\partial^2}{\\partial t^2} - \\frac{Z_M}{| \\boldsymbol{r} - \\boldsymbol{M} |} | \\nu \\rangle - F_t \\langle \\mu | t | \\nu \\rangle\n",
    "$$"
   ]
  },
  {
   "cell_type": "markdown",
   "metadata": {},
   "source": [
    "那么，\n",
    "\n",
    "$$\n",
    "\\frac{\\partial h_{\\mu \\nu} (F_t)}{\\partial F_t} = - \\langle \\mu | t | \\nu \\rangle = - t_{\\mu \\nu}\n",
    "$$"
   ]
  },
  {
   "cell_type": "markdown",
   "metadata": {},
   "source": [
    "对于上述表达式，我们也会简写为\n",
    "\n",
    "$$\n",
    "h_{\\mu \\nu}^t = \\frac{\\partial h_{\\mu \\nu}}{\\partial F_t} = - t_{\\mu \\nu}\n",
    "$$"
   ]
  },
  {
   "cell_type": "markdown",
   "metadata": {},
   "source": [
    "上述的矩阵将会是维度 $(t, \\mu, \\nu)$ 的张量 `H_1_ao`，其在 PySCF 中可以通过如下方式生成："
   ]
  },
  {
   "cell_type": "code",
   "execution_count": 11,
   "metadata": {},
   "outputs": [
    {
     "data": {
      "text/plain": [
       "(3, 22, 22)"
      ]
     },
     "execution_count": 11,
     "metadata": {},
     "output_type": "execute_result"
    }
   ],
   "source": [
    "H_1_ao = - mol.intor(\"int1e_r\")\n",
    "H_1_ao.shape"
   ]
  },
  {
   "cell_type": "markdown",
   "metadata": {},
   "source": [
    "符号 `H_1_ao` 相对于 `H_0_ao` 而言，改变的 1 代表一阶 Skeleton 导数 $h_{\\mu \\nu}^\\mathbb{A}$；而对于电场导数，它就特例化为 $h_{\\mu \\nu}^t$。\n",
    "\n",
    "这个符号也会用在所有以 `DerivOnce` 为基类的类的实例中，譬如偶极计算实例 `diph` 的 `H_1_ao` property 就可以导出 $h_{\\mu \\nu}^t$。我们可以验证上面计算得到的 `H_1_ao` 与 `DipoleSCF` 给出的 `H_1_ao` 是相等的："
   ]
  },
  {
   "cell_type": "code",
   "execution_count": 12,
   "metadata": {},
   "outputs": [
    {
     "data": {
      "text/plain": [
       "True"
      ]
     },
     "execution_count": 12,
     "metadata": {},
     "output_type": "execute_result"
    }
   ],
   "source": [
    "np.allclose(H_1_ao, diph.H_1_ao)"
   ]
  },
  {
   "cell_type": "markdown",
   "metadata": {},
   "source": [
    "### 数值梯度"
   ]
  },
  {
   "cell_type": "markdown",
   "metadata": {},
   "source": [
    "我们可以通过 `dipn` 来辅助作三点差分所给出的 `nd_H_0_ao` $\\partial_{F_t} h_{\\mu \\nu}$："
   ]
  },
  {
   "cell_type": "code",
   "execution_count": 13,
   "metadata": {
    "scrolled": true
   },
   "outputs": [
    {
     "data": {
      "text/plain": [
       "(3, 22, 22)"
      ]
     },
     "execution_count": 13,
     "metadata": {},
     "output_type": "execute_result"
    }
   ],
   "source": [
    "nd_H_0_ao = NumericDiff(dipn, lambda diph: diph.H_0_ao).derivative\n",
    "nd_H_0_ao.shape"
   ]
  },
  {
   "cell_type": "markdown",
   "metadata": {},
   "source": [
    "上式中的 `nd_H_0_ao` 可以用来验证我们所计算的 $h_{\\mu \\nu}^t$ `H_1_ao`；之所以起名 `nd_H_0_ao`，是因为它是 `H_0_ao` $h_{\\mu \\nu}$ 的数值导数 (Numerical Derivative)。"
   ]
  },
  {
   "cell_type": "markdown",
   "metadata": {},
   "source": [
    "我们以后通常下述的图像来表明方才所计算的密度矩阵梯度是正确的。\n",
    "\n",
    "下图表示的是误差的直方图。其中，\n",
    "\n",
    "- 蓝色条表示数值矩阵值与解析矩阵值之间的误差，橙色条表示数值导数矩阵本身的值。\n",
    "\n",
    "- 横坐标表示矩阵数值大小，纵坐标表示处在某一区间的矩阵数值数量。\n",
    "\n",
    "因此，若蓝色条越靠左，表明数值矩阵与解析矩阵在绝对误差上越小；蓝色与橙色条差距越大，表明数值矩阵与解析矩阵在相对误差上越小。"
   ]
  },
  {
   "cell_type": "code",
   "execution_count": 14,
   "metadata": {},
   "outputs": [
    {
     "data": {
      "application/javascript": [
       "/* Put everything inside the global mpl namespace */\n",
       "window.mpl = {};\n",
       "\n",
       "\n",
       "mpl.get_websocket_type = function() {\n",
       "    if (typeof(WebSocket) !== 'undefined') {\n",
       "        return WebSocket;\n",
       "    } else if (typeof(MozWebSocket) !== 'undefined') {\n",
       "        return MozWebSocket;\n",
       "    } else {\n",
       "        alert('Your browser does not have WebSocket support. ' +\n",
       "              'Please try Chrome, Safari or Firefox ≥ 6. ' +\n",
       "              'Firefox 4 and 5 are also supported but you ' +\n",
       "              'have to enable WebSockets in about:config.');\n",
       "    };\n",
       "}\n",
       "\n",
       "mpl.figure = function(figure_id, websocket, ondownload, parent_element) {\n",
       "    this.id = figure_id;\n",
       "\n",
       "    this.ws = websocket;\n",
       "\n",
       "    this.supports_binary = (this.ws.binaryType != undefined);\n",
       "\n",
       "    if (!this.supports_binary) {\n",
       "        var warnings = document.getElementById(\"mpl-warnings\");\n",
       "        if (warnings) {\n",
       "            warnings.style.display = 'block';\n",
       "            warnings.textContent = (\n",
       "                \"This browser does not support binary websocket messages. \" +\n",
       "                    \"Performance may be slow.\");\n",
       "        }\n",
       "    }\n",
       "\n",
       "    this.imageObj = new Image();\n",
       "\n",
       "    this.context = undefined;\n",
       "    this.message = undefined;\n",
       "    this.canvas = undefined;\n",
       "    this.rubberband_canvas = undefined;\n",
       "    this.rubberband_context = undefined;\n",
       "    this.format_dropdown = undefined;\n",
       "\n",
       "    this.image_mode = 'full';\n",
       "\n",
       "    this.root = $('<div/>');\n",
       "    this._root_extra_style(this.root)\n",
       "    this.root.attr('style', 'display: inline-block');\n",
       "\n",
       "    $(parent_element).append(this.root);\n",
       "\n",
       "    this._init_header(this);\n",
       "    this._init_canvas(this);\n",
       "    this._init_toolbar(this);\n",
       "\n",
       "    var fig = this;\n",
       "\n",
       "    this.waiting = false;\n",
       "\n",
       "    this.ws.onopen =  function () {\n",
       "            fig.send_message(\"supports_binary\", {value: fig.supports_binary});\n",
       "            fig.send_message(\"send_image_mode\", {});\n",
       "            if (mpl.ratio != 1) {\n",
       "                fig.send_message(\"set_dpi_ratio\", {'dpi_ratio': mpl.ratio});\n",
       "            }\n",
       "            fig.send_message(\"refresh\", {});\n",
       "        }\n",
       "\n",
       "    this.imageObj.onload = function() {\n",
       "            if (fig.image_mode == 'full') {\n",
       "                // Full images could contain transparency (where diff images\n",
       "                // almost always do), so we need to clear the canvas so that\n",
       "                // there is no ghosting.\n",
       "                fig.context.clearRect(0, 0, fig.canvas.width, fig.canvas.height);\n",
       "            }\n",
       "            fig.context.drawImage(fig.imageObj, 0, 0);\n",
       "        };\n",
       "\n",
       "    this.imageObj.onunload = function() {\n",
       "        fig.ws.close();\n",
       "    }\n",
       "\n",
       "    this.ws.onmessage = this._make_on_message_function(this);\n",
       "\n",
       "    this.ondownload = ondownload;\n",
       "}\n",
       "\n",
       "mpl.figure.prototype._init_header = function() {\n",
       "    var titlebar = $(\n",
       "        '<div class=\"ui-dialog-titlebar ui-widget-header ui-corner-all ' +\n",
       "        'ui-helper-clearfix\"/>');\n",
       "    var titletext = $(\n",
       "        '<div class=\"ui-dialog-title\" style=\"width: 100%; ' +\n",
       "        'text-align: center; padding: 3px;\"/>');\n",
       "    titlebar.append(titletext)\n",
       "    this.root.append(titlebar);\n",
       "    this.header = titletext[0];\n",
       "}\n",
       "\n",
       "\n",
       "\n",
       "mpl.figure.prototype._canvas_extra_style = function(canvas_div) {\n",
       "\n",
       "}\n",
       "\n",
       "\n",
       "mpl.figure.prototype._root_extra_style = function(canvas_div) {\n",
       "\n",
       "}\n",
       "\n",
       "mpl.figure.prototype._init_canvas = function() {\n",
       "    var fig = this;\n",
       "\n",
       "    var canvas_div = $('<div/>');\n",
       "\n",
       "    canvas_div.attr('style', 'position: relative; clear: both; outline: 0');\n",
       "\n",
       "    function canvas_keyboard_event(event) {\n",
       "        return fig.key_event(event, event['data']);\n",
       "    }\n",
       "\n",
       "    canvas_div.keydown('key_press', canvas_keyboard_event);\n",
       "    canvas_div.keyup('key_release', canvas_keyboard_event);\n",
       "    this.canvas_div = canvas_div\n",
       "    this._canvas_extra_style(canvas_div)\n",
       "    this.root.append(canvas_div);\n",
       "\n",
       "    var canvas = $('<canvas/>');\n",
       "    canvas.addClass('mpl-canvas');\n",
       "    canvas.attr('style', \"left: 0; top: 0; z-index: 0; outline: 0\")\n",
       "\n",
       "    this.canvas = canvas[0];\n",
       "    this.context = canvas[0].getContext(\"2d\");\n",
       "\n",
       "    var backingStore = this.context.backingStorePixelRatio ||\n",
       "\tthis.context.webkitBackingStorePixelRatio ||\n",
       "\tthis.context.mozBackingStorePixelRatio ||\n",
       "\tthis.context.msBackingStorePixelRatio ||\n",
       "\tthis.context.oBackingStorePixelRatio ||\n",
       "\tthis.context.backingStorePixelRatio || 1;\n",
       "\n",
       "    mpl.ratio = (window.devicePixelRatio || 1) / backingStore;\n",
       "\n",
       "    var rubberband = $('<canvas/>');\n",
       "    rubberband.attr('style', \"position: absolute; left: 0; top: 0; z-index: 1;\")\n",
       "\n",
       "    var pass_mouse_events = true;\n",
       "\n",
       "    canvas_div.resizable({\n",
       "        start: function(event, ui) {\n",
       "            pass_mouse_events = false;\n",
       "        },\n",
       "        resize: function(event, ui) {\n",
       "            fig.request_resize(ui.size.width, ui.size.height);\n",
       "        },\n",
       "        stop: function(event, ui) {\n",
       "            pass_mouse_events = true;\n",
       "            fig.request_resize(ui.size.width, ui.size.height);\n",
       "        },\n",
       "    });\n",
       "\n",
       "    function mouse_event_fn(event) {\n",
       "        if (pass_mouse_events)\n",
       "            return fig.mouse_event(event, event['data']);\n",
       "    }\n",
       "\n",
       "    rubberband.mousedown('button_press', mouse_event_fn);\n",
       "    rubberband.mouseup('button_release', mouse_event_fn);\n",
       "    // Throttle sequential mouse events to 1 every 20ms.\n",
       "    rubberband.mousemove('motion_notify', mouse_event_fn);\n",
       "\n",
       "    rubberband.mouseenter('figure_enter', mouse_event_fn);\n",
       "    rubberband.mouseleave('figure_leave', mouse_event_fn);\n",
       "\n",
       "    canvas_div.on(\"wheel\", function (event) {\n",
       "        event = event.originalEvent;\n",
       "        event['data'] = 'scroll'\n",
       "        if (event.deltaY < 0) {\n",
       "            event.step = 1;\n",
       "        } else {\n",
       "            event.step = -1;\n",
       "        }\n",
       "        mouse_event_fn(event);\n",
       "    });\n",
       "\n",
       "    canvas_div.append(canvas);\n",
       "    canvas_div.append(rubberband);\n",
       "\n",
       "    this.rubberband = rubberband;\n",
       "    this.rubberband_canvas = rubberband[0];\n",
       "    this.rubberband_context = rubberband[0].getContext(\"2d\");\n",
       "    this.rubberband_context.strokeStyle = \"#000000\";\n",
       "\n",
       "    this._resize_canvas = function(width, height) {\n",
       "        // Keep the size of the canvas, canvas container, and rubber band\n",
       "        // canvas in synch.\n",
       "        canvas_div.css('width', width)\n",
       "        canvas_div.css('height', height)\n",
       "\n",
       "        canvas.attr('width', width * mpl.ratio);\n",
       "        canvas.attr('height', height * mpl.ratio);\n",
       "        canvas.attr('style', 'width: ' + width + 'px; height: ' + height + 'px;');\n",
       "\n",
       "        rubberband.attr('width', width);\n",
       "        rubberband.attr('height', height);\n",
       "    }\n",
       "\n",
       "    // Set the figure to an initial 600x600px, this will subsequently be updated\n",
       "    // upon first draw.\n",
       "    this._resize_canvas(600, 600);\n",
       "\n",
       "    // Disable right mouse context menu.\n",
       "    $(this.rubberband_canvas).bind(\"contextmenu\",function(e){\n",
       "        return false;\n",
       "    });\n",
       "\n",
       "    function set_focus () {\n",
       "        canvas.focus();\n",
       "        canvas_div.focus();\n",
       "    }\n",
       "\n",
       "    window.setTimeout(set_focus, 100);\n",
       "}\n",
       "\n",
       "mpl.figure.prototype._init_toolbar = function() {\n",
       "    var fig = this;\n",
       "\n",
       "    var nav_element = $('<div/>');\n",
       "    nav_element.attr('style', 'width: 100%');\n",
       "    this.root.append(nav_element);\n",
       "\n",
       "    // Define a callback function for later on.\n",
       "    function toolbar_event(event) {\n",
       "        return fig.toolbar_button_onclick(event['data']);\n",
       "    }\n",
       "    function toolbar_mouse_event(event) {\n",
       "        return fig.toolbar_button_onmouseover(event['data']);\n",
       "    }\n",
       "\n",
       "    for(var toolbar_ind in mpl.toolbar_items) {\n",
       "        var name = mpl.toolbar_items[toolbar_ind][0];\n",
       "        var tooltip = mpl.toolbar_items[toolbar_ind][1];\n",
       "        var image = mpl.toolbar_items[toolbar_ind][2];\n",
       "        var method_name = mpl.toolbar_items[toolbar_ind][3];\n",
       "\n",
       "        if (!name) {\n",
       "            // put a spacer in here.\n",
       "            continue;\n",
       "        }\n",
       "        var button = $('<button/>');\n",
       "        button.addClass('ui-button ui-widget ui-state-default ui-corner-all ' +\n",
       "                        'ui-button-icon-only');\n",
       "        button.attr('role', 'button');\n",
       "        button.attr('aria-disabled', 'false');\n",
       "        button.click(method_name, toolbar_event);\n",
       "        button.mouseover(tooltip, toolbar_mouse_event);\n",
       "\n",
       "        var icon_img = $('<span/>');\n",
       "        icon_img.addClass('ui-button-icon-primary ui-icon');\n",
       "        icon_img.addClass(image);\n",
       "        icon_img.addClass('ui-corner-all');\n",
       "\n",
       "        var tooltip_span = $('<span/>');\n",
       "        tooltip_span.addClass('ui-button-text');\n",
       "        tooltip_span.html(tooltip);\n",
       "\n",
       "        button.append(icon_img);\n",
       "        button.append(tooltip_span);\n",
       "\n",
       "        nav_element.append(button);\n",
       "    }\n",
       "\n",
       "    var fmt_picker_span = $('<span/>');\n",
       "\n",
       "    var fmt_picker = $('<select/>');\n",
       "    fmt_picker.addClass('mpl-toolbar-option ui-widget ui-widget-content');\n",
       "    fmt_picker_span.append(fmt_picker);\n",
       "    nav_element.append(fmt_picker_span);\n",
       "    this.format_dropdown = fmt_picker[0];\n",
       "\n",
       "    for (var ind in mpl.extensions) {\n",
       "        var fmt = mpl.extensions[ind];\n",
       "        var option = $(\n",
       "            '<option/>', {selected: fmt === mpl.default_extension}).html(fmt);\n",
       "        fmt_picker.append(option);\n",
       "    }\n",
       "\n",
       "    // Add hover states to the ui-buttons\n",
       "    $( \".ui-button\" ).hover(\n",
       "        function() { $(this).addClass(\"ui-state-hover\");},\n",
       "        function() { $(this).removeClass(\"ui-state-hover\");}\n",
       "    );\n",
       "\n",
       "    var status_bar = $('<span class=\"mpl-message\"/>');\n",
       "    nav_element.append(status_bar);\n",
       "    this.message = status_bar[0];\n",
       "}\n",
       "\n",
       "mpl.figure.prototype.request_resize = function(x_pixels, y_pixels) {\n",
       "    // Request matplotlib to resize the figure. Matplotlib will then trigger a resize in the client,\n",
       "    // which will in turn request a refresh of the image.\n",
       "    this.send_message('resize', {'width': x_pixels, 'height': y_pixels});\n",
       "}\n",
       "\n",
       "mpl.figure.prototype.send_message = function(type, properties) {\n",
       "    properties['type'] = type;\n",
       "    properties['figure_id'] = this.id;\n",
       "    this.ws.send(JSON.stringify(properties));\n",
       "}\n",
       "\n",
       "mpl.figure.prototype.send_draw_message = function() {\n",
       "    if (!this.waiting) {\n",
       "        this.waiting = true;\n",
       "        this.ws.send(JSON.stringify({type: \"draw\", figure_id: this.id}));\n",
       "    }\n",
       "}\n",
       "\n",
       "\n",
       "mpl.figure.prototype.handle_save = function(fig, msg) {\n",
       "    var format_dropdown = fig.format_dropdown;\n",
       "    var format = format_dropdown.options[format_dropdown.selectedIndex].value;\n",
       "    fig.ondownload(fig, format);\n",
       "}\n",
       "\n",
       "\n",
       "mpl.figure.prototype.handle_resize = function(fig, msg) {\n",
       "    var size = msg['size'];\n",
       "    if (size[0] != fig.canvas.width || size[1] != fig.canvas.height) {\n",
       "        fig._resize_canvas(size[0], size[1]);\n",
       "        fig.send_message(\"refresh\", {});\n",
       "    };\n",
       "}\n",
       "\n",
       "mpl.figure.prototype.handle_rubberband = function(fig, msg) {\n",
       "    var x0 = msg['x0'] / mpl.ratio;\n",
       "    var y0 = (fig.canvas.height - msg['y0']) / mpl.ratio;\n",
       "    var x1 = msg['x1'] / mpl.ratio;\n",
       "    var y1 = (fig.canvas.height - msg['y1']) / mpl.ratio;\n",
       "    x0 = Math.floor(x0) + 0.5;\n",
       "    y0 = Math.floor(y0) + 0.5;\n",
       "    x1 = Math.floor(x1) + 0.5;\n",
       "    y1 = Math.floor(y1) + 0.5;\n",
       "    var min_x = Math.min(x0, x1);\n",
       "    var min_y = Math.min(y0, y1);\n",
       "    var width = Math.abs(x1 - x0);\n",
       "    var height = Math.abs(y1 - y0);\n",
       "\n",
       "    fig.rubberband_context.clearRect(\n",
       "        0, 0, fig.canvas.width / mpl.ratio, fig.canvas.height / mpl.ratio);\n",
       "\n",
       "    fig.rubberband_context.strokeRect(min_x, min_y, width, height);\n",
       "}\n",
       "\n",
       "mpl.figure.prototype.handle_figure_label = function(fig, msg) {\n",
       "    // Updates the figure title.\n",
       "    fig.header.textContent = msg['label'];\n",
       "}\n",
       "\n",
       "mpl.figure.prototype.handle_cursor = function(fig, msg) {\n",
       "    var cursor = msg['cursor'];\n",
       "    switch(cursor)\n",
       "    {\n",
       "    case 0:\n",
       "        cursor = 'pointer';\n",
       "        break;\n",
       "    case 1:\n",
       "        cursor = 'default';\n",
       "        break;\n",
       "    case 2:\n",
       "        cursor = 'crosshair';\n",
       "        break;\n",
       "    case 3:\n",
       "        cursor = 'move';\n",
       "        break;\n",
       "    }\n",
       "    fig.rubberband_canvas.style.cursor = cursor;\n",
       "}\n",
       "\n",
       "mpl.figure.prototype.handle_message = function(fig, msg) {\n",
       "    fig.message.textContent = msg['message'];\n",
       "}\n",
       "\n",
       "mpl.figure.prototype.handle_draw = function(fig, msg) {\n",
       "    // Request the server to send over a new figure.\n",
       "    fig.send_draw_message();\n",
       "}\n",
       "\n",
       "mpl.figure.prototype.handle_image_mode = function(fig, msg) {\n",
       "    fig.image_mode = msg['mode'];\n",
       "}\n",
       "\n",
       "mpl.figure.prototype.updated_canvas_event = function() {\n",
       "    // Called whenever the canvas gets updated.\n",
       "    this.send_message(\"ack\", {});\n",
       "}\n",
       "\n",
       "// A function to construct a web socket function for onmessage handling.\n",
       "// Called in the figure constructor.\n",
       "mpl.figure.prototype._make_on_message_function = function(fig) {\n",
       "    return function socket_on_message(evt) {\n",
       "        if (evt.data instanceof Blob) {\n",
       "            /* FIXME: We get \"Resource interpreted as Image but\n",
       "             * transferred with MIME type text/plain:\" errors on\n",
       "             * Chrome.  But how to set the MIME type?  It doesn't seem\n",
       "             * to be part of the websocket stream */\n",
       "            evt.data.type = \"image/png\";\n",
       "\n",
       "            /* Free the memory for the previous frames */\n",
       "            if (fig.imageObj.src) {\n",
       "                (window.URL || window.webkitURL).revokeObjectURL(\n",
       "                    fig.imageObj.src);\n",
       "            }\n",
       "\n",
       "            fig.imageObj.src = (window.URL || window.webkitURL).createObjectURL(\n",
       "                evt.data);\n",
       "            fig.updated_canvas_event();\n",
       "            fig.waiting = false;\n",
       "            return;\n",
       "        }\n",
       "        else if (typeof evt.data === 'string' && evt.data.slice(0, 21) == \"data:image/png;base64\") {\n",
       "            fig.imageObj.src = evt.data;\n",
       "            fig.updated_canvas_event();\n",
       "            fig.waiting = false;\n",
       "            return;\n",
       "        }\n",
       "\n",
       "        var msg = JSON.parse(evt.data);\n",
       "        var msg_type = msg['type'];\n",
       "\n",
       "        // Call the  \"handle_{type}\" callback, which takes\n",
       "        // the figure and JSON message as its only arguments.\n",
       "        try {\n",
       "            var callback = fig[\"handle_\" + msg_type];\n",
       "        } catch (e) {\n",
       "            console.log(\"No handler for the '\" + msg_type + \"' message type: \", msg);\n",
       "            return;\n",
       "        }\n",
       "\n",
       "        if (callback) {\n",
       "            try {\n",
       "                // console.log(\"Handling '\" + msg_type + \"' message: \", msg);\n",
       "                callback(fig, msg);\n",
       "            } catch (e) {\n",
       "                console.log(\"Exception inside the 'handler_\" + msg_type + \"' callback:\", e, e.stack, msg);\n",
       "            }\n",
       "        }\n",
       "    };\n",
       "}\n",
       "\n",
       "// from http://stackoverflow.com/questions/1114465/getting-mouse-location-in-canvas\n",
       "mpl.findpos = function(e) {\n",
       "    //this section is from http://www.quirksmode.org/js/events_properties.html\n",
       "    var targ;\n",
       "    if (!e)\n",
       "        e = window.event;\n",
       "    if (e.target)\n",
       "        targ = e.target;\n",
       "    else if (e.srcElement)\n",
       "        targ = e.srcElement;\n",
       "    if (targ.nodeType == 3) // defeat Safari bug\n",
       "        targ = targ.parentNode;\n",
       "\n",
       "    // jQuery normalizes the pageX and pageY\n",
       "    // pageX,Y are the mouse positions relative to the document\n",
       "    // offset() returns the position of the element relative to the document\n",
       "    var x = e.pageX - $(targ).offset().left;\n",
       "    var y = e.pageY - $(targ).offset().top;\n",
       "\n",
       "    return {\"x\": x, \"y\": y};\n",
       "};\n",
       "\n",
       "/*\n",
       " * return a copy of an object with only non-object keys\n",
       " * we need this to avoid circular references\n",
       " * http://stackoverflow.com/a/24161582/3208463\n",
       " */\n",
       "function simpleKeys (original) {\n",
       "  return Object.keys(original).reduce(function (obj, key) {\n",
       "    if (typeof original[key] !== 'object')\n",
       "        obj[key] = original[key]\n",
       "    return obj;\n",
       "  }, {});\n",
       "}\n",
       "\n",
       "mpl.figure.prototype.mouse_event = function(event, name) {\n",
       "    var canvas_pos = mpl.findpos(event)\n",
       "\n",
       "    if (name === 'button_press')\n",
       "    {\n",
       "        this.canvas.focus();\n",
       "        this.canvas_div.focus();\n",
       "    }\n",
       "\n",
       "    var x = canvas_pos.x * mpl.ratio;\n",
       "    var y = canvas_pos.y * mpl.ratio;\n",
       "\n",
       "    this.send_message(name, {x: x, y: y, button: event.button,\n",
       "                             step: event.step,\n",
       "                             guiEvent: simpleKeys(event)});\n",
       "\n",
       "    /* This prevents the web browser from automatically changing to\n",
       "     * the text insertion cursor when the button is pressed.  We want\n",
       "     * to control all of the cursor setting manually through the\n",
       "     * 'cursor' event from matplotlib */\n",
       "    event.preventDefault();\n",
       "    return false;\n",
       "}\n",
       "\n",
       "mpl.figure.prototype._key_event_extra = function(event, name) {\n",
       "    // Handle any extra behaviour associated with a key event\n",
       "}\n",
       "\n",
       "mpl.figure.prototype.key_event = function(event, name) {\n",
       "\n",
       "    // Prevent repeat events\n",
       "    if (name == 'key_press')\n",
       "    {\n",
       "        if (event.which === this._key)\n",
       "            return;\n",
       "        else\n",
       "            this._key = event.which;\n",
       "    }\n",
       "    if (name == 'key_release')\n",
       "        this._key = null;\n",
       "\n",
       "    var value = '';\n",
       "    if (event.ctrlKey && event.which != 17)\n",
       "        value += \"ctrl+\";\n",
       "    if (event.altKey && event.which != 18)\n",
       "        value += \"alt+\";\n",
       "    if (event.shiftKey && event.which != 16)\n",
       "        value += \"shift+\";\n",
       "\n",
       "    value += 'k';\n",
       "    value += event.which.toString();\n",
       "\n",
       "    this._key_event_extra(event, name);\n",
       "\n",
       "    this.send_message(name, {key: value,\n",
       "                             guiEvent: simpleKeys(event)});\n",
       "    return false;\n",
       "}\n",
       "\n",
       "mpl.figure.prototype.toolbar_button_onclick = function(name) {\n",
       "    if (name == 'download') {\n",
       "        this.handle_save(this, null);\n",
       "    } else {\n",
       "        this.send_message(\"toolbar_button\", {name: name});\n",
       "    }\n",
       "};\n",
       "\n",
       "mpl.figure.prototype.toolbar_button_onmouseover = function(tooltip) {\n",
       "    this.message.textContent = tooltip;\n",
       "};\n",
       "mpl.toolbar_items = [[\"Home\", \"Reset original view\", \"fa fa-home icon-home\", \"home\"], [\"Back\", \"Back to previous view\", \"fa fa-arrow-left icon-arrow-left\", \"back\"], [\"Forward\", \"Forward to next view\", \"fa fa-arrow-right icon-arrow-right\", \"forward\"], [\"\", \"\", \"\", \"\"], [\"Pan\", \"Pan axes with left mouse, zoom with right\", \"fa fa-arrows icon-move\", \"pan\"], [\"Zoom\", \"Zoom to rectangle\", \"fa fa-square-o icon-check-empty\", \"zoom\"], [\"\", \"\", \"\", \"\"], [\"Download\", \"Download plot\", \"fa fa-floppy-o icon-save\", \"download\"]];\n",
       "\n",
       "mpl.extensions = [\"eps\", \"pdf\", \"png\", \"ps\", \"raw\", \"svg\"];\n",
       "\n",
       "mpl.default_extension = \"png\";var comm_websocket_adapter = function(comm) {\n",
       "    // Create a \"websocket\"-like object which calls the given IPython comm\n",
       "    // object with the appropriate methods. Currently this is a non binary\n",
       "    // socket, so there is still some room for performance tuning.\n",
       "    var ws = {};\n",
       "\n",
       "    ws.close = function() {\n",
       "        comm.close()\n",
       "    };\n",
       "    ws.send = function(m) {\n",
       "        //console.log('sending', m);\n",
       "        comm.send(m);\n",
       "    };\n",
       "    // Register the callback with on_msg.\n",
       "    comm.on_msg(function(msg) {\n",
       "        //console.log('receiving', msg['content']['data'], msg);\n",
       "        // Pass the mpl event to the overridden (by mpl) onmessage function.\n",
       "        ws.onmessage(msg['content']['data'])\n",
       "    });\n",
       "    return ws;\n",
       "}\n",
       "\n",
       "mpl.mpl_figure_comm = function(comm, msg) {\n",
       "    // This is the function which gets called when the mpl process\n",
       "    // starts-up an IPython Comm through the \"matplotlib\" channel.\n",
       "\n",
       "    var id = msg.content.data.id;\n",
       "    // Get hold of the div created by the display call when the Comm\n",
       "    // socket was opened in Python.\n",
       "    var element = $(\"#\" + id);\n",
       "    var ws_proxy = comm_websocket_adapter(comm)\n",
       "\n",
       "    function ondownload(figure, format) {\n",
       "        window.open(figure.imageObj.src);\n",
       "    }\n",
       "\n",
       "    var fig = new mpl.figure(id, ws_proxy,\n",
       "                           ondownload,\n",
       "                           element.get(0));\n",
       "\n",
       "    // Call onopen now - mpl needs it, as it is assuming we've passed it a real\n",
       "    // web socket which is closed, not our websocket->open comm proxy.\n",
       "    ws_proxy.onopen();\n",
       "\n",
       "    fig.parent_element = element.get(0);\n",
       "    fig.cell_info = mpl.find_output_cell(\"<div id='\" + id + \"'></div>\");\n",
       "    if (!fig.cell_info) {\n",
       "        console.error(\"Failed to find cell for figure\", id, fig);\n",
       "        return;\n",
       "    }\n",
       "\n",
       "    var output_index = fig.cell_info[2]\n",
       "    var cell = fig.cell_info[0];\n",
       "\n",
       "};\n",
       "\n",
       "mpl.figure.prototype.handle_close = function(fig, msg) {\n",
       "    var width = fig.canvas.width/mpl.ratio\n",
       "    fig.root.unbind('remove')\n",
       "\n",
       "    // Update the output cell to use the data from the current canvas.\n",
       "    fig.push_to_output();\n",
       "    var dataURL = fig.canvas.toDataURL();\n",
       "    // Re-enable the keyboard manager in IPython - without this line, in FF,\n",
       "    // the notebook keyboard shortcuts fail.\n",
       "    IPython.keyboard_manager.enable()\n",
       "    $(fig.parent_element).html('<img src=\"' + dataURL + '\" width=\"' + width + '\">');\n",
       "    fig.close_ws(fig, msg);\n",
       "}\n",
       "\n",
       "mpl.figure.prototype.close_ws = function(fig, msg){\n",
       "    fig.send_message('closing', msg);\n",
       "    // fig.ws.close()\n",
       "}\n",
       "\n",
       "mpl.figure.prototype.push_to_output = function(remove_interactive) {\n",
       "    // Turn the data on the canvas into data in the output cell.\n",
       "    var width = this.canvas.width/mpl.ratio\n",
       "    var dataURL = this.canvas.toDataURL();\n",
       "    this.cell_info[1]['text/html'] = '<img src=\"' + dataURL + '\" width=\"' + width + '\">';\n",
       "}\n",
       "\n",
       "mpl.figure.prototype.updated_canvas_event = function() {\n",
       "    // Tell IPython that the notebook contents must change.\n",
       "    IPython.notebook.set_dirty(true);\n",
       "    this.send_message(\"ack\", {});\n",
       "    var fig = this;\n",
       "    // Wait a second, then push the new image to the DOM so\n",
       "    // that it is saved nicely (might be nice to debounce this).\n",
       "    setTimeout(function () { fig.push_to_output() }, 1000);\n",
       "}\n",
       "\n",
       "mpl.figure.prototype._init_toolbar = function() {\n",
       "    var fig = this;\n",
       "\n",
       "    var nav_element = $('<div/>');\n",
       "    nav_element.attr('style', 'width: 100%');\n",
       "    this.root.append(nav_element);\n",
       "\n",
       "    // Define a callback function for later on.\n",
       "    function toolbar_event(event) {\n",
       "        return fig.toolbar_button_onclick(event['data']);\n",
       "    }\n",
       "    function toolbar_mouse_event(event) {\n",
       "        return fig.toolbar_button_onmouseover(event['data']);\n",
       "    }\n",
       "\n",
       "    for(var toolbar_ind in mpl.toolbar_items){\n",
       "        var name = mpl.toolbar_items[toolbar_ind][0];\n",
       "        var tooltip = mpl.toolbar_items[toolbar_ind][1];\n",
       "        var image = mpl.toolbar_items[toolbar_ind][2];\n",
       "        var method_name = mpl.toolbar_items[toolbar_ind][3];\n",
       "\n",
       "        if (!name) { continue; };\n",
       "\n",
       "        var button = $('<button class=\"btn btn-default\" href=\"#\" title=\"' + name + '\"><i class=\"fa ' + image + ' fa-lg\"></i></button>');\n",
       "        button.click(method_name, toolbar_event);\n",
       "        button.mouseover(tooltip, toolbar_mouse_event);\n",
       "        nav_element.append(button);\n",
       "    }\n",
       "\n",
       "    // Add the status bar.\n",
       "    var status_bar = $('<span class=\"mpl-message\" style=\"text-align:right; float: right;\"/>');\n",
       "    nav_element.append(status_bar);\n",
       "    this.message = status_bar[0];\n",
       "\n",
       "    // Add the close button to the window.\n",
       "    var buttongrp = $('<div class=\"btn-group inline pull-right\"></div>');\n",
       "    var button = $('<button class=\"btn btn-mini btn-primary\" href=\"#\" title=\"Stop Interaction\"><i class=\"fa fa-power-off icon-remove icon-large\"></i></button>');\n",
       "    button.click(function (evt) { fig.handle_close(fig, {}); } );\n",
       "    button.mouseover('Stop Interaction', toolbar_mouse_event);\n",
       "    buttongrp.append(button);\n",
       "    var titlebar = this.root.find($('.ui-dialog-titlebar'));\n",
       "    titlebar.prepend(buttongrp);\n",
       "}\n",
       "\n",
       "mpl.figure.prototype._root_extra_style = function(el){\n",
       "    var fig = this\n",
       "    el.on(\"remove\", function(){\n",
       "\tfig.close_ws(fig, {});\n",
       "    });\n",
       "}\n",
       "\n",
       "mpl.figure.prototype._canvas_extra_style = function(el){\n",
       "    // this is important to make the div 'focusable\n",
       "    el.attr('tabindex', 0)\n",
       "    // reach out to IPython and tell the keyboard manager to turn it's self\n",
       "    // off when our div gets focus\n",
       "\n",
       "    // location in version 3\n",
       "    if (IPython.notebook.keyboard_manager) {\n",
       "        IPython.notebook.keyboard_manager.register_events(el);\n",
       "    }\n",
       "    else {\n",
       "        // location in version 2\n",
       "        IPython.keyboard_manager.register_events(el);\n",
       "    }\n",
       "\n",
       "}\n",
       "\n",
       "mpl.figure.prototype._key_event_extra = function(event, name) {\n",
       "    var manager = IPython.notebook.keyboard_manager;\n",
       "    if (!manager)\n",
       "        manager = IPython.keyboard_manager;\n",
       "\n",
       "    // Check for shift+enter\n",
       "    if (event.shiftKey && event.which == 13) {\n",
       "        this.canvas_div.blur();\n",
       "        // select the cell after this one\n",
       "        var index = IPython.notebook.find_cell_index(this.cell_info[0]);\n",
       "        IPython.notebook.select(index + 1);\n",
       "    }\n",
       "}\n",
       "\n",
       "mpl.figure.prototype.handle_save = function(fig, msg) {\n",
       "    fig.ondownload(fig, null);\n",
       "}\n",
       "\n",
       "\n",
       "mpl.find_output_cell = function(html_output) {\n",
       "    // Return the cell and output element which can be found *uniquely* in the notebook.\n",
       "    // Note - this is a bit hacky, but it is done because the \"notebook_saving.Notebook\"\n",
       "    // IPython event is triggered only after the cells have been serialised, which for\n",
       "    // our purposes (turning an active figure into a static one), is too late.\n",
       "    var cells = IPython.notebook.get_cells();\n",
       "    var ncells = cells.length;\n",
       "    for (var i=0; i<ncells; i++) {\n",
       "        var cell = cells[i];\n",
       "        if (cell.cell_type === 'code'){\n",
       "            for (var j=0; j<cell.output_area.outputs.length; j++) {\n",
       "                var data = cell.output_area.outputs[j];\n",
       "                if (data.data) {\n",
       "                    // IPython >= 3 moved mimebundle to data attribute of output\n",
       "                    data = data.data;\n",
       "                }\n",
       "                if (data['text/html'] == html_output) {\n",
       "                    return [cell, data, j];\n",
       "                }\n",
       "            }\n",
       "        }\n",
       "    }\n",
       "}\n",
       "\n",
       "// Register the function which deals with the matplotlib target/channel.\n",
       "// The kernel may be null if the page has been refreshed.\n",
       "if (IPython.notebook.kernel != null) {\n",
       "    IPython.notebook.kernel.comm_manager.register_target('matplotlib', mpl.mpl_figure_comm);\n",
       "}\n"
      ],
      "text/plain": [
       "<IPython.core.display.Javascript object>"
      ]
     },
     "metadata": {},
     "output_type": "display_data"
    },
    {
     "data": {
      "text/html": [
       "<img src=\"data:image/png;base64,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\" width=\"400\">"
      ],
      "text/plain": [
       "<IPython.core.display.HTML object>"
      ]
     },
     "metadata": {},
     "output_type": "display_data"
    }
   ],
   "source": [
    "fig, ax = plt.subplots(figsize=(4, 3))\n",
    "ax.hist(abs(nd_H_0_ao - H_1_ao).ravel(), bins=np.logspace(np.log10(1e-12),np.log10(1e-2), 50), alpha=0.5)\n",
    "ax.hist(abs(nd_H_0_ao).ravel(), bins=np.logspace(np.log10(1e-12),np.log10(1e-2), 50), alpha=0.5)\n",
    "ax.set_xscale(\"log\")\n",
    "fig.tight_layout()"
   ]
  },
  {
   "cell_type": "markdown",
   "metadata": {},
   "source": [
    "这表明，我们计算所得到的解析梯度 `H_1_ao` $h_{\\mu \\nu}^t$ 确实地与数值梯度非常接近 `nd_H_0_ao`。\n",
    "\n",
    "我们以后对于每一个可以求数值梯度验证的量，都会进行上述图像的绘制。尽管在当前的例子中，解析矩阵与数值矩阵的差距非常小，以至于在 `np.allclose` 函数下这两个矩阵也会被认为是近似相等的："
   ]
  },
  {
   "cell_type": "code",
   "execution_count": 15,
   "metadata": {},
   "outputs": [
    {
     "data": {
      "text/plain": [
       "True"
      ]
     },
     "execution_count": 15,
     "metadata": {},
     "output_type": "execute_result"
    }
   ],
   "source": [
    "np.allclose(H_1_ao, nd_H_0_ao)"
   ]
  },
  {
   "cell_type": "markdown",
   "metadata": {},
   "source": [
    "但在以后更为广泛的情况中，解析与数值矩阵未必能通过 `np.allclose` 的判断；因此需要绘制上述图像来确认。一般来说，只要蓝色条 (解析与数值矩阵之差) 绝大部分元素小于 $10^{-6}$、且与橙色条 (数值矩阵) 能明显区分，一般就可以了；因为矩阵最后都需要经过运算才能得到最终的偶极矩或分子力，在计算的过程中这些误差多少会被消除。"
   ]
  },
  {
   "cell_type": "markdown",
   "metadata": {},
   "source": [
    "### 分子轨道的 Skeleton 导数"
   ]
  },
  {
   "cell_type": "markdown",
   "metadata": {},
   "source": [
    "我们已经介绍了原子轨道下的 Skeleton 导数；分子轨道的 Skeleton 导数可以用下式简单地给出：\n",
    "\n",
    "$$\n",
    "h_{pq}^t = C_{\\mu p} h_{\\mu \\nu}^t C_{\\nu q}\n",
    "$$"
   ]
  },
  {
   "cell_type": "code",
   "execution_count": 16,
   "metadata": {},
   "outputs": [
    {
     "data": {
      "text/plain": [
       "(3, 22, 22)"
      ]
     },
     "execution_count": 16,
     "metadata": {},
     "output_type": "execute_result"
    }
   ],
   "source": [
    "H_1_mo = np.einsum(\"up, tuv, vq -> tpq\", C, H_1_ao, C)\n",
    "H_1_mo.shape"
   ]
  },
  {
   "cell_type": "markdown",
   "metadata": {},
   "source": [
    "可以验证在 `DipoleSCF` 中实现的 `H_1_mo` property 与上述输出是相同的："
   ]
  },
  {
   "cell_type": "code",
   "execution_count": 17,
   "metadata": {},
   "outputs": [
    {
     "data": {
      "text/plain": [
       "True"
      ]
     },
     "execution_count": 17,
     "metadata": {},
     "output_type": "execute_result"
    }
   ],
   "source": [
    "np.allclose(H_1_mo, diph.H_1_mo)"
   ]
  },
  {
   "cell_type": "markdown",
   "metadata": {},
   "source": [
    "但是，就如上一篇文档所言，\n",
    "\n",
    "$$\n",
    "\\frac{\\partial h_{pq}}{\\partial F_t} \\neq h_{pq}^t\n",
    "$$"
   ]
  },
  {
   "cell_type": "markdown",
   "metadata": {},
   "source": [
    "我们不妨先生成数值导数 `deriv_H_0_mo` $\\partial_{F_t} h_{pq}$："
   ]
  },
  {
   "cell_type": "code",
   "execution_count": 18,
   "metadata": {},
   "outputs": [
    {
     "data": {
      "text/plain": [
       "(3, 22, 22)"
      ]
     },
     "execution_count": 18,
     "metadata": {},
     "output_type": "execute_result"
    }
   ],
   "source": [
    "nd_H_0_mo = NumericDiff(dipn, lambda diph: diph.H_0_mo).derivative\n",
    "nd_H_0_mo.shape"
   ]
  },
  {
   "cell_type": "markdown",
   "metadata": {},
   "source": [
    "我们尝试绘制 `deriv_H_0_mo` $\\partial_{F_t} h_{pq}$ 与 `H_1_mo` 的差距 $h_{pq}^t$："
   ]
  },
  {
   "cell_type": "code",
   "execution_count": 19,
   "metadata": {},
   "outputs": [
    {
     "data": {
      "application/javascript": [
       "/* Put everything inside the global mpl namespace */\n",
       "window.mpl = {};\n",
       "\n",
       "\n",
       "mpl.get_websocket_type = function() {\n",
       "    if (typeof(WebSocket) !== 'undefined') {\n",
       "        return WebSocket;\n",
       "    } else if (typeof(MozWebSocket) !== 'undefined') {\n",
       "        return MozWebSocket;\n",
       "    } else {\n",
       "        alert('Your browser does not have WebSocket support. ' +\n",
       "              'Please try Chrome, Safari or Firefox ≥ 6. ' +\n",
       "              'Firefox 4 and 5 are also supported but you ' +\n",
       "              'have to enable WebSockets in about:config.');\n",
       "    };\n",
       "}\n",
       "\n",
       "mpl.figure = function(figure_id, websocket, ondownload, parent_element) {\n",
       "    this.id = figure_id;\n",
       "\n",
       "    this.ws = websocket;\n",
       "\n",
       "    this.supports_binary = (this.ws.binaryType != undefined);\n",
       "\n",
       "    if (!this.supports_binary) {\n",
       "        var warnings = document.getElementById(\"mpl-warnings\");\n",
       "        if (warnings) {\n",
       "            warnings.style.display = 'block';\n",
       "            warnings.textContent = (\n",
       "                \"This browser does not support binary websocket messages. \" +\n",
       "                    \"Performance may be slow.\");\n",
       "        }\n",
       "    }\n",
       "\n",
       "    this.imageObj = new Image();\n",
       "\n",
       "    this.context = undefined;\n",
       "    this.message = undefined;\n",
       "    this.canvas = undefined;\n",
       "    this.rubberband_canvas = undefined;\n",
       "    this.rubberband_context = undefined;\n",
       "    this.format_dropdown = undefined;\n",
       "\n",
       "    this.image_mode = 'full';\n",
       "\n",
       "    this.root = $('<div/>');\n",
       "    this._root_extra_style(this.root)\n",
       "    this.root.attr('style', 'display: inline-block');\n",
       "\n",
       "    $(parent_element).append(this.root);\n",
       "\n",
       "    this._init_header(this);\n",
       "    this._init_canvas(this);\n",
       "    this._init_toolbar(this);\n",
       "\n",
       "    var fig = this;\n",
       "\n",
       "    this.waiting = false;\n",
       "\n",
       "    this.ws.onopen =  function () {\n",
       "            fig.send_message(\"supports_binary\", {value: fig.supports_binary});\n",
       "            fig.send_message(\"send_image_mode\", {});\n",
       "            if (mpl.ratio != 1) {\n",
       "                fig.send_message(\"set_dpi_ratio\", {'dpi_ratio': mpl.ratio});\n",
       "            }\n",
       "            fig.send_message(\"refresh\", {});\n",
       "        }\n",
       "\n",
       "    this.imageObj.onload = function() {\n",
       "            if (fig.image_mode == 'full') {\n",
       "                // Full images could contain transparency (where diff images\n",
       "                // almost always do), so we need to clear the canvas so that\n",
       "                // there is no ghosting.\n",
       "                fig.context.clearRect(0, 0, fig.canvas.width, fig.canvas.height);\n",
       "            }\n",
       "            fig.context.drawImage(fig.imageObj, 0, 0);\n",
       "        };\n",
       "\n",
       "    this.imageObj.onunload = function() {\n",
       "        fig.ws.close();\n",
       "    }\n",
       "\n",
       "    this.ws.onmessage = this._make_on_message_function(this);\n",
       "\n",
       "    this.ondownload = ondownload;\n",
       "}\n",
       "\n",
       "mpl.figure.prototype._init_header = function() {\n",
       "    var titlebar = $(\n",
       "        '<div class=\"ui-dialog-titlebar ui-widget-header ui-corner-all ' +\n",
       "        'ui-helper-clearfix\"/>');\n",
       "    var titletext = $(\n",
       "        '<div class=\"ui-dialog-title\" style=\"width: 100%; ' +\n",
       "        'text-align: center; padding: 3px;\"/>');\n",
       "    titlebar.append(titletext)\n",
       "    this.root.append(titlebar);\n",
       "    this.header = titletext[0];\n",
       "}\n",
       "\n",
       "\n",
       "\n",
       "mpl.figure.prototype._canvas_extra_style = function(canvas_div) {\n",
       "\n",
       "}\n",
       "\n",
       "\n",
       "mpl.figure.prototype._root_extra_style = function(canvas_div) {\n",
       "\n",
       "}\n",
       "\n",
       "mpl.figure.prototype._init_canvas = function() {\n",
       "    var fig = this;\n",
       "\n",
       "    var canvas_div = $('<div/>');\n",
       "\n",
       "    canvas_div.attr('style', 'position: relative; clear: both; outline: 0');\n",
       "\n",
       "    function canvas_keyboard_event(event) {\n",
       "        return fig.key_event(event, event['data']);\n",
       "    }\n",
       "\n",
       "    canvas_div.keydown('key_press', canvas_keyboard_event);\n",
       "    canvas_div.keyup('key_release', canvas_keyboard_event);\n",
       "    this.canvas_div = canvas_div\n",
       "    this._canvas_extra_style(canvas_div)\n",
       "    this.root.append(canvas_div);\n",
       "\n",
       "    var canvas = $('<canvas/>');\n",
       "    canvas.addClass('mpl-canvas');\n",
       "    canvas.attr('style', \"left: 0; top: 0; z-index: 0; outline: 0\")\n",
       "\n",
       "    this.canvas = canvas[0];\n",
       "    this.context = canvas[0].getContext(\"2d\");\n",
       "\n",
       "    var backingStore = this.context.backingStorePixelRatio ||\n",
       "\tthis.context.webkitBackingStorePixelRatio ||\n",
       "\tthis.context.mozBackingStorePixelRatio ||\n",
       "\tthis.context.msBackingStorePixelRatio ||\n",
       "\tthis.context.oBackingStorePixelRatio ||\n",
       "\tthis.context.backingStorePixelRatio || 1;\n",
       "\n",
       "    mpl.ratio = (window.devicePixelRatio || 1) / backingStore;\n",
       "\n",
       "    var rubberband = $('<canvas/>');\n",
       "    rubberband.attr('style', \"position: absolute; left: 0; top: 0; z-index: 1;\")\n",
       "\n",
       "    var pass_mouse_events = true;\n",
       "\n",
       "    canvas_div.resizable({\n",
       "        start: function(event, ui) {\n",
       "            pass_mouse_events = false;\n",
       "        },\n",
       "        resize: function(event, ui) {\n",
       "            fig.request_resize(ui.size.width, ui.size.height);\n",
       "        },\n",
       "        stop: function(event, ui) {\n",
       "            pass_mouse_events = true;\n",
       "            fig.request_resize(ui.size.width, ui.size.height);\n",
       "        },\n",
       "    });\n",
       "\n",
       "    function mouse_event_fn(event) {\n",
       "        if (pass_mouse_events)\n",
       "            return fig.mouse_event(event, event['data']);\n",
       "    }\n",
       "\n",
       "    rubberband.mousedown('button_press', mouse_event_fn);\n",
       "    rubberband.mouseup('button_release', mouse_event_fn);\n",
       "    // Throttle sequential mouse events to 1 every 20ms.\n",
       "    rubberband.mousemove('motion_notify', mouse_event_fn);\n",
       "\n",
       "    rubberband.mouseenter('figure_enter', mouse_event_fn);\n",
       "    rubberband.mouseleave('figure_leave', mouse_event_fn);\n",
       "\n",
       "    canvas_div.on(\"wheel\", function (event) {\n",
       "        event = event.originalEvent;\n",
       "        event['data'] = 'scroll'\n",
       "        if (event.deltaY < 0) {\n",
       "            event.step = 1;\n",
       "        } else {\n",
       "            event.step = -1;\n",
       "        }\n",
       "        mouse_event_fn(event);\n",
       "    });\n",
       "\n",
       "    canvas_div.append(canvas);\n",
       "    canvas_div.append(rubberband);\n",
       "\n",
       "    this.rubberband = rubberband;\n",
       "    this.rubberband_canvas = rubberband[0];\n",
       "    this.rubberband_context = rubberband[0].getContext(\"2d\");\n",
       "    this.rubberband_context.strokeStyle = \"#000000\";\n",
       "\n",
       "    this._resize_canvas = function(width, height) {\n",
       "        // Keep the size of the canvas, canvas container, and rubber band\n",
       "        // canvas in synch.\n",
       "        canvas_div.css('width', width)\n",
       "        canvas_div.css('height', height)\n",
       "\n",
       "        canvas.attr('width', width * mpl.ratio);\n",
       "        canvas.attr('height', height * mpl.ratio);\n",
       "        canvas.attr('style', 'width: ' + width + 'px; height: ' + height + 'px;');\n",
       "\n",
       "        rubberband.attr('width', width);\n",
       "        rubberband.attr('height', height);\n",
       "    }\n",
       "\n",
       "    // Set the figure to an initial 600x600px, this will subsequently be updated\n",
       "    // upon first draw.\n",
       "    this._resize_canvas(600, 600);\n",
       "\n",
       "    // Disable right mouse context menu.\n",
       "    $(this.rubberband_canvas).bind(\"contextmenu\",function(e){\n",
       "        return false;\n",
       "    });\n",
       "\n",
       "    function set_focus () {\n",
       "        canvas.focus();\n",
       "        canvas_div.focus();\n",
       "    }\n",
       "\n",
       "    window.setTimeout(set_focus, 100);\n",
       "}\n",
       "\n",
       "mpl.figure.prototype._init_toolbar = function() {\n",
       "    var fig = this;\n",
       "\n",
       "    var nav_element = $('<div/>');\n",
       "    nav_element.attr('style', 'width: 100%');\n",
       "    this.root.append(nav_element);\n",
       "\n",
       "    // Define a callback function for later on.\n",
       "    function toolbar_event(event) {\n",
       "        return fig.toolbar_button_onclick(event['data']);\n",
       "    }\n",
       "    function toolbar_mouse_event(event) {\n",
       "        return fig.toolbar_button_onmouseover(event['data']);\n",
       "    }\n",
       "\n",
       "    for(var toolbar_ind in mpl.toolbar_items) {\n",
       "        var name = mpl.toolbar_items[toolbar_ind][0];\n",
       "        var tooltip = mpl.toolbar_items[toolbar_ind][1];\n",
       "        var image = mpl.toolbar_items[toolbar_ind][2];\n",
       "        var method_name = mpl.toolbar_items[toolbar_ind][3];\n",
       "\n",
       "        if (!name) {\n",
       "            // put a spacer in here.\n",
       "            continue;\n",
       "        }\n",
       "        var button = $('<button/>');\n",
       "        button.addClass('ui-button ui-widget ui-state-default ui-corner-all ' +\n",
       "                        'ui-button-icon-only');\n",
       "        button.attr('role', 'button');\n",
       "        button.attr('aria-disabled', 'false');\n",
       "        button.click(method_name, toolbar_event);\n",
       "        button.mouseover(tooltip, toolbar_mouse_event);\n",
       "\n",
       "        var icon_img = $('<span/>');\n",
       "        icon_img.addClass('ui-button-icon-primary ui-icon');\n",
       "        icon_img.addClass(image);\n",
       "        icon_img.addClass('ui-corner-all');\n",
       "\n",
       "        var tooltip_span = $('<span/>');\n",
       "        tooltip_span.addClass('ui-button-text');\n",
       "        tooltip_span.html(tooltip);\n",
       "\n",
       "        button.append(icon_img);\n",
       "        button.append(tooltip_span);\n",
       "\n",
       "        nav_element.append(button);\n",
       "    }\n",
       "\n",
       "    var fmt_picker_span = $('<span/>');\n",
       "\n",
       "    var fmt_picker = $('<select/>');\n",
       "    fmt_picker.addClass('mpl-toolbar-option ui-widget ui-widget-content');\n",
       "    fmt_picker_span.append(fmt_picker);\n",
       "    nav_element.append(fmt_picker_span);\n",
       "    this.format_dropdown = fmt_picker[0];\n",
       "\n",
       "    for (var ind in mpl.extensions) {\n",
       "        var fmt = mpl.extensions[ind];\n",
       "        var option = $(\n",
       "            '<option/>', {selected: fmt === mpl.default_extension}).html(fmt);\n",
       "        fmt_picker.append(option);\n",
       "    }\n",
       "\n",
       "    // Add hover states to the ui-buttons\n",
       "    $( \".ui-button\" ).hover(\n",
       "        function() { $(this).addClass(\"ui-state-hover\");},\n",
       "        function() { $(this).removeClass(\"ui-state-hover\");}\n",
       "    );\n",
       "\n",
       "    var status_bar = $('<span class=\"mpl-message\"/>');\n",
       "    nav_element.append(status_bar);\n",
       "    this.message = status_bar[0];\n",
       "}\n",
       "\n",
       "mpl.figure.prototype.request_resize = function(x_pixels, y_pixels) {\n",
       "    // Request matplotlib to resize the figure. Matplotlib will then trigger a resize in the client,\n",
       "    // which will in turn request a refresh of the image.\n",
       "    this.send_message('resize', {'width': x_pixels, 'height': y_pixels});\n",
       "}\n",
       "\n",
       "mpl.figure.prototype.send_message = function(type, properties) {\n",
       "    properties['type'] = type;\n",
       "    properties['figure_id'] = this.id;\n",
       "    this.ws.send(JSON.stringify(properties));\n",
       "}\n",
       "\n",
       "mpl.figure.prototype.send_draw_message = function() {\n",
       "    if (!this.waiting) {\n",
       "        this.waiting = true;\n",
       "        this.ws.send(JSON.stringify({type: \"draw\", figure_id: this.id}));\n",
       "    }\n",
       "}\n",
       "\n",
       "\n",
       "mpl.figure.prototype.handle_save = function(fig, msg) {\n",
       "    var format_dropdown = fig.format_dropdown;\n",
       "    var format = format_dropdown.options[format_dropdown.selectedIndex].value;\n",
       "    fig.ondownload(fig, format);\n",
       "}\n",
       "\n",
       "\n",
       "mpl.figure.prototype.handle_resize = function(fig, msg) {\n",
       "    var size = msg['size'];\n",
       "    if (size[0] != fig.canvas.width || size[1] != fig.canvas.height) {\n",
       "        fig._resize_canvas(size[0], size[1]);\n",
       "        fig.send_message(\"refresh\", {});\n",
       "    };\n",
       "}\n",
       "\n",
       "mpl.figure.prototype.handle_rubberband = function(fig, msg) {\n",
       "    var x0 = msg['x0'] / mpl.ratio;\n",
       "    var y0 = (fig.canvas.height - msg['y0']) / mpl.ratio;\n",
       "    var x1 = msg['x1'] / mpl.ratio;\n",
       "    var y1 = (fig.canvas.height - msg['y1']) / mpl.ratio;\n",
       "    x0 = Math.floor(x0) + 0.5;\n",
       "    y0 = Math.floor(y0) + 0.5;\n",
       "    x1 = Math.floor(x1) + 0.5;\n",
       "    y1 = Math.floor(y1) + 0.5;\n",
       "    var min_x = Math.min(x0, x1);\n",
       "    var min_y = Math.min(y0, y1);\n",
       "    var width = Math.abs(x1 - x0);\n",
       "    var height = Math.abs(y1 - y0);\n",
       "\n",
       "    fig.rubberband_context.clearRect(\n",
       "        0, 0, fig.canvas.width / mpl.ratio, fig.canvas.height / mpl.ratio);\n",
       "\n",
       "    fig.rubberband_context.strokeRect(min_x, min_y, width, height);\n",
       "}\n",
       "\n",
       "mpl.figure.prototype.handle_figure_label = function(fig, msg) {\n",
       "    // Updates the figure title.\n",
       "    fig.header.textContent = msg['label'];\n",
       "}\n",
       "\n",
       "mpl.figure.prototype.handle_cursor = function(fig, msg) {\n",
       "    var cursor = msg['cursor'];\n",
       "    switch(cursor)\n",
       "    {\n",
       "    case 0:\n",
       "        cursor = 'pointer';\n",
       "        break;\n",
       "    case 1:\n",
       "        cursor = 'default';\n",
       "        break;\n",
       "    case 2:\n",
       "        cursor = 'crosshair';\n",
       "        break;\n",
       "    case 3:\n",
       "        cursor = 'move';\n",
       "        break;\n",
       "    }\n",
       "    fig.rubberband_canvas.style.cursor = cursor;\n",
       "}\n",
       "\n",
       "mpl.figure.prototype.handle_message = function(fig, msg) {\n",
       "    fig.message.textContent = msg['message'];\n",
       "}\n",
       "\n",
       "mpl.figure.prototype.handle_draw = function(fig, msg) {\n",
       "    // Request the server to send over a new figure.\n",
       "    fig.send_draw_message();\n",
       "}\n",
       "\n",
       "mpl.figure.prototype.handle_image_mode = function(fig, msg) {\n",
       "    fig.image_mode = msg['mode'];\n",
       "}\n",
       "\n",
       "mpl.figure.prototype.updated_canvas_event = function() {\n",
       "    // Called whenever the canvas gets updated.\n",
       "    this.send_message(\"ack\", {});\n",
       "}\n",
       "\n",
       "// A function to construct a web socket function for onmessage handling.\n",
       "// Called in the figure constructor.\n",
       "mpl.figure.prototype._make_on_message_function = function(fig) {\n",
       "    return function socket_on_message(evt) {\n",
       "        if (evt.data instanceof Blob) {\n",
       "            /* FIXME: We get \"Resource interpreted as Image but\n",
       "             * transferred with MIME type text/plain:\" errors on\n",
       "             * Chrome.  But how to set the MIME type?  It doesn't seem\n",
       "             * to be part of the websocket stream */\n",
       "            evt.data.type = \"image/png\";\n",
       "\n",
       "            /* Free the memory for the previous frames */\n",
       "            if (fig.imageObj.src) {\n",
       "                (window.URL || window.webkitURL).revokeObjectURL(\n",
       "                    fig.imageObj.src);\n",
       "            }\n",
       "\n",
       "            fig.imageObj.src = (window.URL || window.webkitURL).createObjectURL(\n",
       "                evt.data);\n",
       "            fig.updated_canvas_event();\n",
       "            fig.waiting = false;\n",
       "            return;\n",
       "        }\n",
       "        else if (typeof evt.data === 'string' && evt.data.slice(0, 21) == \"data:image/png;base64\") {\n",
       "            fig.imageObj.src = evt.data;\n",
       "            fig.updated_canvas_event();\n",
       "            fig.waiting = false;\n",
       "            return;\n",
       "        }\n",
       "\n",
       "        var msg = JSON.parse(evt.data);\n",
       "        var msg_type = msg['type'];\n",
       "\n",
       "        // Call the  \"handle_{type}\" callback, which takes\n",
       "        // the figure and JSON message as its only arguments.\n",
       "        try {\n",
       "            var callback = fig[\"handle_\" + msg_type];\n",
       "        } catch (e) {\n",
       "            console.log(\"No handler for the '\" + msg_type + \"' message type: \", msg);\n",
       "            return;\n",
       "        }\n",
       "\n",
       "        if (callback) {\n",
       "            try {\n",
       "                // console.log(\"Handling '\" + msg_type + \"' message: \", msg);\n",
       "                callback(fig, msg);\n",
       "            } catch (e) {\n",
       "                console.log(\"Exception inside the 'handler_\" + msg_type + \"' callback:\", e, e.stack, msg);\n",
       "            }\n",
       "        }\n",
       "    };\n",
       "}\n",
       "\n",
       "// from http://stackoverflow.com/questions/1114465/getting-mouse-location-in-canvas\n",
       "mpl.findpos = function(e) {\n",
       "    //this section is from http://www.quirksmode.org/js/events_properties.html\n",
       "    var targ;\n",
       "    if (!e)\n",
       "        e = window.event;\n",
       "    if (e.target)\n",
       "        targ = e.target;\n",
       "    else if (e.srcElement)\n",
       "        targ = e.srcElement;\n",
       "    if (targ.nodeType == 3) // defeat Safari bug\n",
       "        targ = targ.parentNode;\n",
       "\n",
       "    // jQuery normalizes the pageX and pageY\n",
       "    // pageX,Y are the mouse positions relative to the document\n",
       "    // offset() returns the position of the element relative to the document\n",
       "    var x = e.pageX - $(targ).offset().left;\n",
       "    var y = e.pageY - $(targ).offset().top;\n",
       "\n",
       "    return {\"x\": x, \"y\": y};\n",
       "};\n",
       "\n",
       "/*\n",
       " * return a copy of an object with only non-object keys\n",
       " * we need this to avoid circular references\n",
       " * http://stackoverflow.com/a/24161582/3208463\n",
       " */\n",
       "function simpleKeys (original) {\n",
       "  return Object.keys(original).reduce(function (obj, key) {\n",
       "    if (typeof original[key] !== 'object')\n",
       "        obj[key] = original[key]\n",
       "    return obj;\n",
       "  }, {});\n",
       "}\n",
       "\n",
       "mpl.figure.prototype.mouse_event = function(event, name) {\n",
       "    var canvas_pos = mpl.findpos(event)\n",
       "\n",
       "    if (name === 'button_press')\n",
       "    {\n",
       "        this.canvas.focus();\n",
       "        this.canvas_div.focus();\n",
       "    }\n",
       "\n",
       "    var x = canvas_pos.x * mpl.ratio;\n",
       "    var y = canvas_pos.y * mpl.ratio;\n",
       "\n",
       "    this.send_message(name, {x: x, y: y, button: event.button,\n",
       "                             step: event.step,\n",
       "                             guiEvent: simpleKeys(event)});\n",
       "\n",
       "    /* This prevents the web browser from automatically changing to\n",
       "     * the text insertion cursor when the button is pressed.  We want\n",
       "     * to control all of the cursor setting manually through the\n",
       "     * 'cursor' event from matplotlib */\n",
       "    event.preventDefault();\n",
       "    return false;\n",
       "}\n",
       "\n",
       "mpl.figure.prototype._key_event_extra = function(event, name) {\n",
       "    // Handle any extra behaviour associated with a key event\n",
       "}\n",
       "\n",
       "mpl.figure.prototype.key_event = function(event, name) {\n",
       "\n",
       "    // Prevent repeat events\n",
       "    if (name == 'key_press')\n",
       "    {\n",
       "        if (event.which === this._key)\n",
       "            return;\n",
       "        else\n",
       "            this._key = event.which;\n",
       "    }\n",
       "    if (name == 'key_release')\n",
       "        this._key = null;\n",
       "\n",
       "    var value = '';\n",
       "    if (event.ctrlKey && event.which != 17)\n",
       "        value += \"ctrl+\";\n",
       "    if (event.altKey && event.which != 18)\n",
       "        value += \"alt+\";\n",
       "    if (event.shiftKey && event.which != 16)\n",
       "        value += \"shift+\";\n",
       "\n",
       "    value += 'k';\n",
       "    value += event.which.toString();\n",
       "\n",
       "    this._key_event_extra(event, name);\n",
       "\n",
       "    this.send_message(name, {key: value,\n",
       "                             guiEvent: simpleKeys(event)});\n",
       "    return false;\n",
       "}\n",
       "\n",
       "mpl.figure.prototype.toolbar_button_onclick = function(name) {\n",
       "    if (name == 'download') {\n",
       "        this.handle_save(this, null);\n",
       "    } else {\n",
       "        this.send_message(\"toolbar_button\", {name: name});\n",
       "    }\n",
       "};\n",
       "\n",
       "mpl.figure.prototype.toolbar_button_onmouseover = function(tooltip) {\n",
       "    this.message.textContent = tooltip;\n",
       "};\n",
       "mpl.toolbar_items = [[\"Home\", \"Reset original view\", \"fa fa-home icon-home\", \"home\"], [\"Back\", \"Back to previous view\", \"fa fa-arrow-left icon-arrow-left\", \"back\"], [\"Forward\", \"Forward to next view\", \"fa fa-arrow-right icon-arrow-right\", \"forward\"], [\"\", \"\", \"\", \"\"], [\"Pan\", \"Pan axes with left mouse, zoom with right\", \"fa fa-arrows icon-move\", \"pan\"], [\"Zoom\", \"Zoom to rectangle\", \"fa fa-square-o icon-check-empty\", \"zoom\"], [\"\", \"\", \"\", \"\"], [\"Download\", \"Download plot\", \"fa fa-floppy-o icon-save\", \"download\"]];\n",
       "\n",
       "mpl.extensions = [\"eps\", \"pdf\", \"png\", \"ps\", \"raw\", \"svg\"];\n",
       "\n",
       "mpl.default_extension = \"png\";var comm_websocket_adapter = function(comm) {\n",
       "    // Create a \"websocket\"-like object which calls the given IPython comm\n",
       "    // object with the appropriate methods. Currently this is a non binary\n",
       "    // socket, so there is still some room for performance tuning.\n",
       "    var ws = {};\n",
       "\n",
       "    ws.close = function() {\n",
       "        comm.close()\n",
       "    };\n",
       "    ws.send = function(m) {\n",
       "        //console.log('sending', m);\n",
       "        comm.send(m);\n",
       "    };\n",
       "    // Register the callback with on_msg.\n",
       "    comm.on_msg(function(msg) {\n",
       "        //console.log('receiving', msg['content']['data'], msg);\n",
       "        // Pass the mpl event to the overridden (by mpl) onmessage function.\n",
       "        ws.onmessage(msg['content']['data'])\n",
       "    });\n",
       "    return ws;\n",
       "}\n",
       "\n",
       "mpl.mpl_figure_comm = function(comm, msg) {\n",
       "    // This is the function which gets called when the mpl process\n",
       "    // starts-up an IPython Comm through the \"matplotlib\" channel.\n",
       "\n",
       "    var id = msg.content.data.id;\n",
       "    // Get hold of the div created by the display call when the Comm\n",
       "    // socket was opened in Python.\n",
       "    var element = $(\"#\" + id);\n",
       "    var ws_proxy = comm_websocket_adapter(comm)\n",
       "\n",
       "    function ondownload(figure, format) {\n",
       "        window.open(figure.imageObj.src);\n",
       "    }\n",
       "\n",
       "    var fig = new mpl.figure(id, ws_proxy,\n",
       "                           ondownload,\n",
       "                           element.get(0));\n",
       "\n",
       "    // Call onopen now - mpl needs it, as it is assuming we've passed it a real\n",
       "    // web socket which is closed, not our websocket->open comm proxy.\n",
       "    ws_proxy.onopen();\n",
       "\n",
       "    fig.parent_element = element.get(0);\n",
       "    fig.cell_info = mpl.find_output_cell(\"<div id='\" + id + \"'></div>\");\n",
       "    if (!fig.cell_info) {\n",
       "        console.error(\"Failed to find cell for figure\", id, fig);\n",
       "        return;\n",
       "    }\n",
       "\n",
       "    var output_index = fig.cell_info[2]\n",
       "    var cell = fig.cell_info[0];\n",
       "\n",
       "};\n",
       "\n",
       "mpl.figure.prototype.handle_close = function(fig, msg) {\n",
       "    var width = fig.canvas.width/mpl.ratio\n",
       "    fig.root.unbind('remove')\n",
       "\n",
       "    // Update the output cell to use the data from the current canvas.\n",
       "    fig.push_to_output();\n",
       "    var dataURL = fig.canvas.toDataURL();\n",
       "    // Re-enable the keyboard manager in IPython - without this line, in FF,\n",
       "    // the notebook keyboard shortcuts fail.\n",
       "    IPython.keyboard_manager.enable()\n",
       "    $(fig.parent_element).html('<img src=\"' + dataURL + '\" width=\"' + width + '\">');\n",
       "    fig.close_ws(fig, msg);\n",
       "}\n",
       "\n",
       "mpl.figure.prototype.close_ws = function(fig, msg){\n",
       "    fig.send_message('closing', msg);\n",
       "    // fig.ws.close()\n",
       "}\n",
       "\n",
       "mpl.figure.prototype.push_to_output = function(remove_interactive) {\n",
       "    // Turn the data on the canvas into data in the output cell.\n",
       "    var width = this.canvas.width/mpl.ratio\n",
       "    var dataURL = this.canvas.toDataURL();\n",
       "    this.cell_info[1]['text/html'] = '<img src=\"' + dataURL + '\" width=\"' + width + '\">';\n",
       "}\n",
       "\n",
       "mpl.figure.prototype.updated_canvas_event = function() {\n",
       "    // Tell IPython that the notebook contents must change.\n",
       "    IPython.notebook.set_dirty(true);\n",
       "    this.send_message(\"ack\", {});\n",
       "    var fig = this;\n",
       "    // Wait a second, then push the new image to the DOM so\n",
       "    // that it is saved nicely (might be nice to debounce this).\n",
       "    setTimeout(function () { fig.push_to_output() }, 1000);\n",
       "}\n",
       "\n",
       "mpl.figure.prototype._init_toolbar = function() {\n",
       "    var fig = this;\n",
       "\n",
       "    var nav_element = $('<div/>');\n",
       "    nav_element.attr('style', 'width: 100%');\n",
       "    this.root.append(nav_element);\n",
       "\n",
       "    // Define a callback function for later on.\n",
       "    function toolbar_event(event) {\n",
       "        return fig.toolbar_button_onclick(event['data']);\n",
       "    }\n",
       "    function toolbar_mouse_event(event) {\n",
       "        return fig.toolbar_button_onmouseover(event['data']);\n",
       "    }\n",
       "\n",
       "    for(var toolbar_ind in mpl.toolbar_items){\n",
       "        var name = mpl.toolbar_items[toolbar_ind][0];\n",
       "        var tooltip = mpl.toolbar_items[toolbar_ind][1];\n",
       "        var image = mpl.toolbar_items[toolbar_ind][2];\n",
       "        var method_name = mpl.toolbar_items[toolbar_ind][3];\n",
       "\n",
       "        if (!name) { continue; };\n",
       "\n",
       "        var button = $('<button class=\"btn btn-default\" href=\"#\" title=\"' + name + '\"><i class=\"fa ' + image + ' fa-lg\"></i></button>');\n",
       "        button.click(method_name, toolbar_event);\n",
       "        button.mouseover(tooltip, toolbar_mouse_event);\n",
       "        nav_element.append(button);\n",
       "    }\n",
       "\n",
       "    // Add the status bar.\n",
       "    var status_bar = $('<span class=\"mpl-message\" style=\"text-align:right; float: right;\"/>');\n",
       "    nav_element.append(status_bar);\n",
       "    this.message = status_bar[0];\n",
       "\n",
       "    // Add the close button to the window.\n",
       "    var buttongrp = $('<div class=\"btn-group inline pull-right\"></div>');\n",
       "    var button = $('<button class=\"btn btn-mini btn-primary\" href=\"#\" title=\"Stop Interaction\"><i class=\"fa fa-power-off icon-remove icon-large\"></i></button>');\n",
       "    button.click(function (evt) { fig.handle_close(fig, {}); } );\n",
       "    button.mouseover('Stop Interaction', toolbar_mouse_event);\n",
       "    buttongrp.append(button);\n",
       "    var titlebar = this.root.find($('.ui-dialog-titlebar'));\n",
       "    titlebar.prepend(buttongrp);\n",
       "}\n",
       "\n",
       "mpl.figure.prototype._root_extra_style = function(el){\n",
       "    var fig = this\n",
       "    el.on(\"remove\", function(){\n",
       "\tfig.close_ws(fig, {});\n",
       "    });\n",
       "}\n",
       "\n",
       "mpl.figure.prototype._canvas_extra_style = function(el){\n",
       "    // this is important to make the div 'focusable\n",
       "    el.attr('tabindex', 0)\n",
       "    // reach out to IPython and tell the keyboard manager to turn it's self\n",
       "    // off when our div gets focus\n",
       "\n",
       "    // location in version 3\n",
       "    if (IPython.notebook.keyboard_manager) {\n",
       "        IPython.notebook.keyboard_manager.register_events(el);\n",
       "    }\n",
       "    else {\n",
       "        // location in version 2\n",
       "        IPython.keyboard_manager.register_events(el);\n",
       "    }\n",
       "\n",
       "}\n",
       "\n",
       "mpl.figure.prototype._key_event_extra = function(event, name) {\n",
       "    var manager = IPython.notebook.keyboard_manager;\n",
       "    if (!manager)\n",
       "        manager = IPython.keyboard_manager;\n",
       "\n",
       "    // Check for shift+enter\n",
       "    if (event.shiftKey && event.which == 13) {\n",
       "        this.canvas_div.blur();\n",
       "        // select the cell after this one\n",
       "        var index = IPython.notebook.find_cell_index(this.cell_info[0]);\n",
       "        IPython.notebook.select(index + 1);\n",
       "    }\n",
       "}\n",
       "\n",
       "mpl.figure.prototype.handle_save = function(fig, msg) {\n",
       "    fig.ondownload(fig, null);\n",
       "}\n",
       "\n",
       "\n",
       "mpl.find_output_cell = function(html_output) {\n",
       "    // Return the cell and output element which can be found *uniquely* in the notebook.\n",
       "    // Note - this is a bit hacky, but it is done because the \"notebook_saving.Notebook\"\n",
       "    // IPython event is triggered only after the cells have been serialised, which for\n",
       "    // our purposes (turning an active figure into a static one), is too late.\n",
       "    var cells = IPython.notebook.get_cells();\n",
       "    var ncells = cells.length;\n",
       "    for (var i=0; i<ncells; i++) {\n",
       "        var cell = cells[i];\n",
       "        if (cell.cell_type === 'code'){\n",
       "            for (var j=0; j<cell.output_area.outputs.length; j++) {\n",
       "                var data = cell.output_area.outputs[j];\n",
       "                if (data.data) {\n",
       "                    // IPython >= 3 moved mimebundle to data attribute of output\n",
       "                    data = data.data;\n",
       "                }\n",
       "                if (data['text/html'] == html_output) {\n",
       "                    return [cell, data, j];\n",
       "                }\n",
       "            }\n",
       "        }\n",
       "    }\n",
       "}\n",
       "\n",
       "// Register the function which deals with the matplotlib target/channel.\n",
       "// The kernel may be null if the page has been refreshed.\n",
       "if (IPython.notebook.kernel != null) {\n",
       "    IPython.notebook.kernel.comm_manager.register_target('matplotlib', mpl.mpl_figure_comm);\n",
       "}\n"
      ],
      "text/plain": [
       "<IPython.core.display.Javascript object>"
      ]
     },
     "metadata": {},
     "output_type": "display_data"
    },
    {
     "data": {
      "text/html": [
       "<img src=\"data:image/png;base64,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\" width=\"400\">"
      ],
      "text/plain": [
       "<IPython.core.display.HTML object>"
      ]
     },
     "metadata": {},
     "output_type": "display_data"
    }
   ],
   "source": [
    "fig, ax = plt.subplots(figsize=(4, 3))\n",
    "ax.hist(abs(nd_H_0_mo - H_1_mo).ravel(), bins=np.logspace(np.log10(1e-7),np.log10(1e2), 50), alpha=0.5)\n",
    "ax.hist(abs(nd_H_0_mo).ravel(), bins=np.logspace(np.log10(1e-7),np.log10(1e2), 50), alpha=0.5)\n",
    "ax.set_xscale(\"log\")\n",
    "fig.tight_layout()"
   ]
  },
  {
   "cell_type": "markdown",
   "metadata": {},
   "source": [
    "可见，$\\partial_{F_t} h_{pq}$ 与 $h_{pq}^t$ 之间相差巨大。关于这一点，我们会在以后进一步陈述。"
   ]
  },
  {
   "cell_type": "markdown",
   "metadata": {},
   "source": [
    "## 重叠矩阵 Skeleton 导数"
   ]
  },
  {
   "cell_type": "markdown",
   "metadata": {},
   "source": [
    "我们回顾重叠矩阵的定义：\n",
    "\n",
    "$$\n",
    "S_{\\mu \\nu} = \\langle \\mu | \\nu \\rangle = \\int \\phi_\\mu (\\boldsymbol{r}) \\phi_\\nu (\\boldsymbol{r}) \\, \\mathrm{d} \\boldsymbol{r}\n",
    "$$"
   ]
  },
  {
   "cell_type": "markdown",
   "metadata": {},
   "source": [
    "该矩阵仅仅与电荷坐标与原子核坐标有关，与电场量无关。因此，\n",
    "\n",
    "$$\n",
    "\\frac{\\partial S_{\\mu \\nu}}{\\partial F_t} = S_{\\mu \\nu}^t = 0\n",
    "$$"
   ]
  },
  {
   "cell_type": "markdown",
   "metadata": {},
   "source": [
    "事实上，`DipoleSCF` 类给出的 `S_1_ao` $S_{\\mu \\nu}^t$ 就被定义为了标量 0。"
   ]
  },
  {
   "cell_type": "code",
   "execution_count": 20,
   "metadata": {},
   "outputs": [
    {
     "data": {
      "text/plain": [
       "0"
      ]
     },
     "execution_count": 20,
     "metadata": {},
     "output_type": "execute_result"
    }
   ],
   "source": [
    "diph.S_1_ao"
   ]
  },
  {
   "cell_type": "markdown",
   "metadata": {},
   "source": [
    "但需要注意，$S_{\\mu \\nu}^t$ 从定义上并非是标量，而是维度为 $(t, \\mu, \\nu)$ 的张量，其中每个元素的值为零。数值导数 `nd_S_0_ao` $\\partial_{F_t} S_{\\mu \\nu}$ 的结果如下："
   ]
  },
  {
   "cell_type": "code",
   "execution_count": 21,
   "metadata": {},
   "outputs": [
    {
     "data": {
      "text/plain": [
       "(3, 22, 22)"
      ]
     },
     "execution_count": 21,
     "metadata": {},
     "output_type": "execute_result"
    }
   ],
   "source": [
    "nd_S_0_ao = NumericDiff(dipn, lambda diph: diph.S_0_ao).derivative\n",
    "nd_S_0_ao.shape"
   ]
  },
  {
   "cell_type": "markdown",
   "metadata": {},
   "source": [
    "其绝对值最大的元素就是零："
   ]
  },
  {
   "cell_type": "code",
   "execution_count": 22,
   "metadata": {},
   "outputs": [
    {
     "data": {
      "text/plain": [
       "0.0"
      ]
     },
     "execution_count": 22,
     "metadata": {},
     "output_type": "execute_result"
    }
   ],
   "source": [
    "np.abs(nd_S_0_ao).max()"
   ]
  },
  {
   "cell_type": "markdown",
   "metadata": {},
   "source": [
    "对应地，分子轨道下的重叠矩阵导数 $S_{pq}^t$ 也为零："
   ]
  },
  {
   "cell_type": "code",
   "execution_count": 23,
   "metadata": {},
   "outputs": [
    {
     "data": {
      "text/plain": [
       "0"
      ]
     },
     "execution_count": 23,
     "metadata": {},
     "output_type": "execute_result"
    }
   ],
   "source": [
    "diph.S_1_mo"
   ]
  },
  {
   "cell_type": "markdown",
   "metadata": {},
   "source": [
    "<div class=\"alert alert-info\">\n",
    "\n",
    "**任务 (1)**\n",
    "\n",
    "我们方才提及，\n",
    "\n",
    "$$\n",
    "\\frac{\\partial h_{pq}}{\\partial F_t} \\neq h_{pq}^t\n",
    "$$\n",
    "\n",
    "这类等式普遍来说是不成立的，但\n",
    "\n",
    "$$\n",
    "\\frac{\\partial S_{pq}}{\\partial F_t} = S_{pq}^t = 0\n",
    "$$\n",
    "\n",
    "请说明上述等式成立的原因。\n",
    "\n",
    "</div>"
   ]
  },
  {
   "cell_type": "markdown",
   "metadata": {},
   "source": [
    "## ERI 积分 Skeleton 导数"
   ]
  },
  {
   "cell_type": "markdown",
   "metadata": {},
   "source": [
    "我们回顾 ERI 积分的定义：\n",
    "\n",
    "$$\n",
    "(\\mu \\nu | \\kappa \\lambda) = \\int \\phi_\\mu (\\boldsymbol{r}_1) \\phi_\\nu (\\boldsymbol{r}_1) \\frac{1}{| \\boldsymbol{r}_1 - \\boldsymbol{r}_2 |} \\phi_\\kappa (\\boldsymbol{r}_2) \\phi_\\lambda (\\boldsymbol{r}_2) \\, \\mathrm{d} \\boldsymbol{r}_1 \\, \\mathrm{d} \\boldsymbol{r}_2\n",
    "$$"
   ]
  },
  {
   "cell_type": "markdown",
   "metadata": {},
   "source": [
    "我们会发现上述量也仅仅是关于电荷坐标与原子核坐标的量，因此，其 Skeleton 导数\n",
    "\n",
    "$$\n",
    "\\frac{\\partial (\\mu \\nu | \\kappa \\lambda)}{\\partial F_t} = (\\mu \\nu | \\kappa \\lambda)^t = 0\n",
    "$$"
   ]
  },
  {
   "cell_type": "markdown",
   "metadata": {},
   "source": [
    "上述量储存在 `diph` 的 `eri1_ao` property 中："
   ]
  },
  {
   "cell_type": "code",
   "execution_count": 24,
   "metadata": {},
   "outputs": [
    {
     "data": {
      "text/plain": [
       "0"
      ]
     },
     "execution_count": 24,
     "metadata": {},
     "output_type": "execute_result"
    }
   ],
   "source": [
    "diph.eri1_ao"
   ]
  },
  {
   "cell_type": "markdown",
   "metadata": {},
   "source": [
    "那么，其对应的分子轨道 Skeleton 导数也为零："
   ]
  },
  {
   "cell_type": "code",
   "execution_count": 25,
   "metadata": {},
   "outputs": [
    {
     "data": {
      "text/plain": [
       "0"
      ]
     },
     "execution_count": 25,
     "metadata": {},
     "output_type": "execute_result"
    }
   ],
   "source": [
    "diph.eri1_mo"
   ]
  },
  {
   "cell_type": "markdown",
   "metadata": {},
   "source": [
    "<div class=\"alert alert-info\">\n",
    "\n",
    "**任务 (2)**\n",
    "\n",
    "尽管 $S_{pq}^t = 0$ 且 $(\\mu \\nu | \\kappa \\lambda)^t = 0$，但 $\\partial_{F_t} S_{pq} = S_{pq}^t = 0$ 这样的结论不能直接套用到 $(pq|rs)$ 上。请用程序验证\n",
    "\n",
    "$$\n",
    "\\frac{\\partial (pq|rs)}{\\partial F_t} \\neq (pq|rs)^t = 0\n",
    "$$\n",
    "\n",
    "</div>"
   ]
  },
  {
   "cell_type": "markdown",
   "metadata": {},
   "source": [
    "## 电子态能量导数"
   ]
  },
  {
   "cell_type": "markdown",
   "metadata": {},
   "source": [
    "### 解析导数"
   ]
  },
  {
   "cell_type": "markdown",
   "metadata": {},
   "source": [
    "我们知道，总能量可以分为电子能量 $E_\\mathrm{elec}$ 与原子核能量 $E_\\mathrm{nuc}$。我们先回顾电子能量的计算过程：\n",
    "\n",
    "$$\n",
    "E_\\mathrm{elec} = h_{\\mu \\nu} D_{\\mu \\nu} + \\frac{1}{2} D_{\\mu \\nu} (\\mu \\nu | \\kappa \\lambda) D_{\\kappa \\lambda} - \\frac{1}{4} D_{\\mu \\nu} (\\mu \\kappa | \\nu \\lambda) D_{\\kappa \\lambda}\n",
    "$$"
   ]
  },
  {
   "cell_type": "markdown",
   "metadata": {},
   "source": [
    "我们通过链式法则，应当能知道：\n",
    "\n",
    "$$\n",
    "\\begin{align}\n",
    "\\frac{\\partial E_\\mathrm{elec}}{\\partial F_t} &=\n",
    "\\frac{\\partial h_{\\mu \\nu}}{\\partial F_t} D_{\\mu \\nu} + \\frac{1}{2} D_{\\mu \\nu} \\frac{\\partial (\\mu \\nu | \\kappa \\lambda)}{\\partial F_t} D_{\\kappa \\lambda} - \\frac{1}{4} D_{\\mu \\nu} \\frac{\\partial (\\mu \\kappa | \\nu \\lambda)}{\\partial F_t} D_{\\kappa \\lambda} \\\\\n",
    "&\\quad + F_{\\mu \\nu} \\frac{\\partial D_{\\mu \\nu}}{\\partial F_t} \n",
    "\\end{align}\n",
    "$$"
   ]
  },
  {
   "cell_type": "markdown",
   "metadata": {},
   "source": [
    "其中，上式的第一行是 Skeleton 导数的集合，而第二行是与分子轨道有关的导数，即 U 导数的集合。"
   ]
  },
  {
   "cell_type": "markdown",
   "metadata": {},
   "source": [
    "<div class=\"alert alert-info\">\n",
    "\n",
    "**任务 (3)**\n",
    "\n",
    "上式的第一行是非常显然能导出的；请说明第二行的导出过程。\n",
    "\n",
    "</div>"
   ]
  },
  {
   "cell_type": "markdown",
   "metadata": {},
   "source": [
    "但是，上式的四项中，除了第一项之外，其余三项都为零。"
   ]
  },
  {
   "cell_type": "markdown",
   "metadata": {},
   "source": [
    "<div class=\"alert alert-info\">\n",
    "\n",
    "**任务 (4)**\n",
    "\n",
    "上式第二、第三项中 Skeleton 导数 $(\\mu \\nu | \\kappa \\lambda)^t$ 为零，因此值为零；这是很容易理解的。\n",
    "\n",
    "请证明第四项也为零。\n",
    "\n",
    "</div>"
   ]
  },
  {
   "cell_type": "markdown",
   "metadata": {},
   "source": [
    "因此，\n",
    "\n",
    "$$\n",
    "\\frac{\\partial E_\\mathrm{elec}}{\\partial F_t} = h_{\\mu \\nu}^t D_{\\mu \\nu}\n",
    "$$"
   ]
  },
  {
   "cell_type": "markdown",
   "metadata": {},
   "source": [
    "我们将变量 `dip_elec` 定义为 $\\partial_{F_t} E_\\mathrm{elec}$："
   ]
  },
  {
   "cell_type": "code",
   "execution_count": 26,
   "metadata": {},
   "outputs": [
    {
     "data": {
      "text/plain": [
       "array([ -0.99981,  -0.65982, -24.86113])"
      ]
     },
     "execution_count": 26,
     "metadata": {},
     "output_type": "execute_result"
    }
   ],
   "source": [
    "dip_elec = np.einsum(\"tuv, uv -> t\", H_1_ao, D)\n",
    "dip_elec"
   ]
  },
  {
   "cell_type": "markdown",
   "metadata": {},
   "source": [
    "### 数值导数"
   ]
  },
  {
   "cell_type": "markdown",
   "metadata": {},
   "source": [
    "我们可以用 PySCF 的 `energy_elec` method 求出电子态能量并作数值导数："
   ]
  },
  {
   "cell_type": "code",
   "execution_count": 27,
   "metadata": {},
   "outputs": [
    {
     "data": {
      "text/plain": [
       "array([ -0.99981,  -0.65982, -24.86113])"
      ]
     },
     "execution_count": 27,
     "metadata": {},
     "output_type": "execute_result"
    }
   ],
   "source": [
    "nd_E_elec = NumericDiff(dipn, lambda diph: diph.scf_eng.energy_elec()[0]).derivative\n",
    "nd_E_elec"
   ]
  },
  {
   "cell_type": "markdown",
   "metadata": {},
   "source": [
    "我们会发现，数值导数与解析导数的值近乎一致："
   ]
  },
  {
   "cell_type": "code",
   "execution_count": 28,
   "metadata": {},
   "outputs": [
    {
     "data": {
      "text/plain": [
       "True"
      ]
     },
     "execution_count": 28,
     "metadata": {},
     "output_type": "execute_result"
    }
   ],
   "source": [
    "np.allclose(dip_elec, nd_E_elec)"
   ]
  },
  {
   "cell_type": "markdown",
   "metadata": {},
   "source": [
    "<div class=\"alert alert-info\">\n",
    "\n",
    "**程序用法**\n",
    "\n",
    "尽管我们曾经提到过要用 pyplot 绘图查看数值导数与解析导数的差异，但这是针对中间计算矩阵而用的，因为中间计算矩阵即使误差较大也未必会对结果带来影响。\n",
    "\n",
    "但对作为最终结果的贡献项，我们仍然要用 np.allclose 核验。np.allclose 是更为严苛的核验方式。\n",
    "\n",
    "</div>"
   ]
  },
  {
   "cell_type": "markdown",
   "metadata": {},
   "source": [
    "我们 [曾经](../numdiff/num_dip.ipynb) 用较为物理的方式，提到过计算电子云对偶极矩的贡献大小。这里我们用了解析导数的方式对其作呈现；两者的推导结论是相同的。"
   ]
  },
  {
   "cell_type": "markdown",
   "metadata": {},
   "source": [
    "## 原子核互斥能导数"
   ]
  },
  {
   "cell_type": "markdown",
   "metadata": {},
   "source": [
    "原子核互斥能对偶极矩的贡献也非常重要；但我们不作更多说明。其推导参考 [之前的文档](../numdiff/num_dip.ipynb)；我们定义该贡献为 `dip_nuc`：\n",
    "\n",
    "$$\n",
    "\\frac{\\partial E_\\mathrm{nuc}}{\\partial F_t} = Z_A A_t\n",
    "$$"
   ]
  },
  {
   "cell_type": "code",
   "execution_count": 29,
   "metadata": {},
   "outputs": [
    {
     "data": {
      "text/plain": [
       "array([ 1.88973,  1.32281, 24.56644])"
      ]
     },
     "execution_count": 29,
     "metadata": {},
     "output_type": "execute_result"
    }
   ],
   "source": [
    "dip_nuc = np.einsum(\"A, At -> t\", mol.atom_charges(), mol.atom_coords())\n",
    "dip_nuc"
   ]
  },
  {
   "cell_type": "markdown",
   "metadata": {},
   "source": [
    "那么，最后我们将两个偶极矩贡献量相加，得到 `dip_total`\n",
    "\n",
    "$$\n",
    "\\frac{\\partial E}{\\partial F_t} = \\frac{\\partial E_\\mathrm{elec}}{\\partial F_t} + \\frac{\\partial E_\\mathrm{nuc}}{\\partial F_t}\n",
    "$$"
   ]
  },
  {
   "cell_type": "code",
   "execution_count": 30,
   "metadata": {},
   "outputs": [
    {
     "data": {
      "text/plain": [
       "array([ 0.88992,  0.66299, -0.29469])"
      ]
     },
     "execution_count": 30,
     "metadata": {},
     "output_type": "execute_result"
    }
   ],
   "source": [
    "dip_total = dip_elec + dip_nuc\n",
    "dip_total"
   ]
  },
  {
   "cell_type": "markdown",
   "metadata": {},
   "source": [
    "需要留意，该总和量暂时不能通过求数值导数获得；这是因为在 PySCF 中或 pyxdh 中，核坐标导数没有写为 $F_t$ 的因变量。因此，我们看到的对总能量的导数会是电子态能量导数；这是错误的。"
   ]
  },
  {
   "cell_type": "code",
   "execution_count": 31,
   "metadata": {},
   "outputs": [
    {
     "data": {
      "text/plain": [
       "array([ -0.99981,  -0.65982, -24.86113])"
      ]
     },
     "execution_count": 31,
     "metadata": {},
     "output_type": "execute_result"
    }
   ],
   "source": [
    "nd_eng = NumericDiff(dipn, lambda diph: diph.eng).derivative\n",
    "nd_eng  ## Wrong total energy derivative to get dipole!"
   ]
  },
  {
   "cell_type": "markdown",
   "metadata": {},
   "source": [
    "最后，我们声明我们的计算结果与 PySCF 所给出的结果完全相同："
   ]
  },
  {
   "cell_type": "code",
   "execution_count": 32,
   "metadata": {},
   "outputs": [
    {
     "data": {
      "text/plain": [
       "array([ 0.88992,  0.66299, -0.29469])"
      ]
     },
     "execution_count": 32,
     "metadata": {},
     "output_type": "execute_result"
    }
   ],
   "source": [
    "dip_total_pyscf = diph.scf_eng.dip_moment(unit=\"A.U.\", verbose=0)\n",
    "dip_total_pyscf"
   ]
  },
  {
   "cell_type": "code",
   "execution_count": 33,
   "metadata": {},
   "outputs": [
    {
     "data": {
      "text/plain": [
       "True"
      ]
     },
     "execution_count": 33,
     "metadata": {},
     "output_type": "execute_result"
    }
   ],
   "source": [
    "np.allclose(dip_total, dip_total_pyscf)"
   ]
  },
  {
   "cell_type": "markdown",
   "metadata": {},
   "source": [
    "## 参考任务解答"
   ]
  },
  {
   "cell_type": "markdown",
   "metadata": {},
   "source": [
    "### 任务 (1)"
   ]
  },
  {
   "cell_type": "markdown",
   "metadata": {},
   "source": [
    "正如上一篇文档 [任务 (2)](skeleton_and_U.ipynb#任务-(2)) 所言，由于 $S_{pq} = \\delta_{pq}$，因此 $S_{pq}$ 与外加电场 $F_t$ 完全无关；故 $\\partial_{F_t} S_{pq}$ 为零。"
   ]
  },
  {
   "cell_type": "markdown",
   "metadata": {},
   "source": [
    "### 任务 (2)"
   ]
  },
  {
   "cell_type": "markdown",
   "metadata": {},
   "source": [
    "计算 $(pq|rs)$ 的方法，在 `diph` 中是 `eri0_mo` property。我们将 $\\partial_{F_t} (pq|rs)$ 记为 `nd_eri0_mo`："
   ]
  },
  {
   "cell_type": "code",
   "execution_count": 34,
   "metadata": {},
   "outputs": [
    {
     "data": {
      "text/plain": [
       "(3, 22, 22, 22, 22)"
      ]
     },
     "execution_count": 34,
     "metadata": {},
     "output_type": "execute_result"
    }
   ],
   "source": [
    "nd_eri0_mo = NumericDiff(dipn, lambda diph: diph.eri0_mo).derivative\n",
    "nd_eri0_mo.shape"
   ]
  },
  {
   "cell_type": "markdown",
   "metadata": {},
   "source": [
    "该张量显然不是零张量；我们能发现，绝大多数值处于 $10^{-2}$ 数量级。"
   ]
  },
  {
   "cell_type": "code",
   "execution_count": 35,
   "metadata": {},
   "outputs": [
    {
     "data": {
      "application/javascript": [
       "/* Put everything inside the global mpl namespace */\n",
       "window.mpl = {};\n",
       "\n",
       "\n",
       "mpl.get_websocket_type = function() {\n",
       "    if (typeof(WebSocket) !== 'undefined') {\n",
       "        return WebSocket;\n",
       "    } else if (typeof(MozWebSocket) !== 'undefined') {\n",
       "        return MozWebSocket;\n",
       "    } else {\n",
       "        alert('Your browser does not have WebSocket support. ' +\n",
       "              'Please try Chrome, Safari or Firefox ≥ 6. ' +\n",
       "              'Firefox 4 and 5 are also supported but you ' +\n",
       "              'have to enable WebSockets in about:config.');\n",
       "    };\n",
       "}\n",
       "\n",
       "mpl.figure = function(figure_id, websocket, ondownload, parent_element) {\n",
       "    this.id = figure_id;\n",
       "\n",
       "    this.ws = websocket;\n",
       "\n",
       "    this.supports_binary = (this.ws.binaryType != undefined);\n",
       "\n",
       "    if (!this.supports_binary) {\n",
       "        var warnings = document.getElementById(\"mpl-warnings\");\n",
       "        if (warnings) {\n",
       "            warnings.style.display = 'block';\n",
       "            warnings.textContent = (\n",
       "                \"This browser does not support binary websocket messages. \" +\n",
       "                    \"Performance may be slow.\");\n",
       "        }\n",
       "    }\n",
       "\n",
       "    this.imageObj = new Image();\n",
       "\n",
       "    this.context = undefined;\n",
       "    this.message = undefined;\n",
       "    this.canvas = undefined;\n",
       "    this.rubberband_canvas = undefined;\n",
       "    this.rubberband_context = undefined;\n",
       "    this.format_dropdown = undefined;\n",
       "\n",
       "    this.image_mode = 'full';\n",
       "\n",
       "    this.root = $('<div/>');\n",
       "    this._root_extra_style(this.root)\n",
       "    this.root.attr('style', 'display: inline-block');\n",
       "\n",
       "    $(parent_element).append(this.root);\n",
       "\n",
       "    this._init_header(this);\n",
       "    this._init_canvas(this);\n",
       "    this._init_toolbar(this);\n",
       "\n",
       "    var fig = this;\n",
       "\n",
       "    this.waiting = false;\n",
       "\n",
       "    this.ws.onopen =  function () {\n",
       "            fig.send_message(\"supports_binary\", {value: fig.supports_binary});\n",
       "            fig.send_message(\"send_image_mode\", {});\n",
       "            if (mpl.ratio != 1) {\n",
       "                fig.send_message(\"set_dpi_ratio\", {'dpi_ratio': mpl.ratio});\n",
       "            }\n",
       "            fig.send_message(\"refresh\", {});\n",
       "        }\n",
       "\n",
       "    this.imageObj.onload = function() {\n",
       "            if (fig.image_mode == 'full') {\n",
       "                // Full images could contain transparency (where diff images\n",
       "                // almost always do), so we need to clear the canvas so that\n",
       "                // there is no ghosting.\n",
       "                fig.context.clearRect(0, 0, fig.canvas.width, fig.canvas.height);\n",
       "            }\n",
       "            fig.context.drawImage(fig.imageObj, 0, 0);\n",
       "        };\n",
       "\n",
       "    this.imageObj.onunload = function() {\n",
       "        fig.ws.close();\n",
       "    }\n",
       "\n",
       "    this.ws.onmessage = this._make_on_message_function(this);\n",
       "\n",
       "    this.ondownload = ondownload;\n",
       "}\n",
       "\n",
       "mpl.figure.prototype._init_header = function() {\n",
       "    var titlebar = $(\n",
       "        '<div class=\"ui-dialog-titlebar ui-widget-header ui-corner-all ' +\n",
       "        'ui-helper-clearfix\"/>');\n",
       "    var titletext = $(\n",
       "        '<div class=\"ui-dialog-title\" style=\"width: 100%; ' +\n",
       "        'text-align: center; padding: 3px;\"/>');\n",
       "    titlebar.append(titletext)\n",
       "    this.root.append(titlebar);\n",
       "    this.header = titletext[0];\n",
       "}\n",
       "\n",
       "\n",
       "\n",
       "mpl.figure.prototype._canvas_extra_style = function(canvas_div) {\n",
       "\n",
       "}\n",
       "\n",
       "\n",
       "mpl.figure.prototype._root_extra_style = function(canvas_div) {\n",
       "\n",
       "}\n",
       "\n",
       "mpl.figure.prototype._init_canvas = function() {\n",
       "    var fig = this;\n",
       "\n",
       "    var canvas_div = $('<div/>');\n",
       "\n",
       "    canvas_div.attr('style', 'position: relative; clear: both; outline: 0');\n",
       "\n",
       "    function canvas_keyboard_event(event) {\n",
       "        return fig.key_event(event, event['data']);\n",
       "    }\n",
       "\n",
       "    canvas_div.keydown('key_press', canvas_keyboard_event);\n",
       "    canvas_div.keyup('key_release', canvas_keyboard_event);\n",
       "    this.canvas_div = canvas_div\n",
       "    this._canvas_extra_style(canvas_div)\n",
       "    this.root.append(canvas_div);\n",
       "\n",
       "    var canvas = $('<canvas/>');\n",
       "    canvas.addClass('mpl-canvas');\n",
       "    canvas.attr('style', \"left: 0; top: 0; z-index: 0; outline: 0\")\n",
       "\n",
       "    this.canvas = canvas[0];\n",
       "    this.context = canvas[0].getContext(\"2d\");\n",
       "\n",
       "    var backingStore = this.context.backingStorePixelRatio ||\n",
       "\tthis.context.webkitBackingStorePixelRatio ||\n",
       "\tthis.context.mozBackingStorePixelRatio ||\n",
       "\tthis.context.msBackingStorePixelRatio ||\n",
       "\tthis.context.oBackingStorePixelRatio ||\n",
       "\tthis.context.backingStorePixelRatio || 1;\n",
       "\n",
       "    mpl.ratio = (window.devicePixelRatio || 1) / backingStore;\n",
       "\n",
       "    var rubberband = $('<canvas/>');\n",
       "    rubberband.attr('style', \"position: absolute; left: 0; top: 0; z-index: 1;\")\n",
       "\n",
       "    var pass_mouse_events = true;\n",
       "\n",
       "    canvas_div.resizable({\n",
       "        start: function(event, ui) {\n",
       "            pass_mouse_events = false;\n",
       "        },\n",
       "        resize: function(event, ui) {\n",
       "            fig.request_resize(ui.size.width, ui.size.height);\n",
       "        },\n",
       "        stop: function(event, ui) {\n",
       "            pass_mouse_events = true;\n",
       "            fig.request_resize(ui.size.width, ui.size.height);\n",
       "        },\n",
       "    });\n",
       "\n",
       "    function mouse_event_fn(event) {\n",
       "        if (pass_mouse_events)\n",
       "            return fig.mouse_event(event, event['data']);\n",
       "    }\n",
       "\n",
       "    rubberband.mousedown('button_press', mouse_event_fn);\n",
       "    rubberband.mouseup('button_release', mouse_event_fn);\n",
       "    // Throttle sequential mouse events to 1 every 20ms.\n",
       "    rubberband.mousemove('motion_notify', mouse_event_fn);\n",
       "\n",
       "    rubberband.mouseenter('figure_enter', mouse_event_fn);\n",
       "    rubberband.mouseleave('figure_leave', mouse_event_fn);\n",
       "\n",
       "    canvas_div.on(\"wheel\", function (event) {\n",
       "        event = event.originalEvent;\n",
       "        event['data'] = 'scroll'\n",
       "        if (event.deltaY < 0) {\n",
       "            event.step = 1;\n",
       "        } else {\n",
       "            event.step = -1;\n",
       "        }\n",
       "        mouse_event_fn(event);\n",
       "    });\n",
       "\n",
       "    canvas_div.append(canvas);\n",
       "    canvas_div.append(rubberband);\n",
       "\n",
       "    this.rubberband = rubberband;\n",
       "    this.rubberband_canvas = rubberband[0];\n",
       "    this.rubberband_context = rubberband[0].getContext(\"2d\");\n",
       "    this.rubberband_context.strokeStyle = \"#000000\";\n",
       "\n",
       "    this._resize_canvas = function(width, height) {\n",
       "        // Keep the size of the canvas, canvas container, and rubber band\n",
       "        // canvas in synch.\n",
       "        canvas_div.css('width', width)\n",
       "        canvas_div.css('height', height)\n",
       "\n",
       "        canvas.attr('width', width * mpl.ratio);\n",
       "        canvas.attr('height', height * mpl.ratio);\n",
       "        canvas.attr('style', 'width: ' + width + 'px; height: ' + height + 'px;');\n",
       "\n",
       "        rubberband.attr('width', width);\n",
       "        rubberband.attr('height', height);\n",
       "    }\n",
       "\n",
       "    // Set the figure to an initial 600x600px, this will subsequently be updated\n",
       "    // upon first draw.\n",
       "    this._resize_canvas(600, 600);\n",
       "\n",
       "    // Disable right mouse context menu.\n",
       "    $(this.rubberband_canvas).bind(\"contextmenu\",function(e){\n",
       "        return false;\n",
       "    });\n",
       "\n",
       "    function set_focus () {\n",
       "        canvas.focus();\n",
       "        canvas_div.focus();\n",
       "    }\n",
       "\n",
       "    window.setTimeout(set_focus, 100);\n",
       "}\n",
       "\n",
       "mpl.figure.prototype._init_toolbar = function() {\n",
       "    var fig = this;\n",
       "\n",
       "    var nav_element = $('<div/>');\n",
       "    nav_element.attr('style', 'width: 100%');\n",
       "    this.root.append(nav_element);\n",
       "\n",
       "    // Define a callback function for later on.\n",
       "    function toolbar_event(event) {\n",
       "        return fig.toolbar_button_onclick(event['data']);\n",
       "    }\n",
       "    function toolbar_mouse_event(event) {\n",
       "        return fig.toolbar_button_onmouseover(event['data']);\n",
       "    }\n",
       "\n",
       "    for(var toolbar_ind in mpl.toolbar_items) {\n",
       "        var name = mpl.toolbar_items[toolbar_ind][0];\n",
       "        var tooltip = mpl.toolbar_items[toolbar_ind][1];\n",
       "        var image = mpl.toolbar_items[toolbar_ind][2];\n",
       "        var method_name = mpl.toolbar_items[toolbar_ind][3];\n",
       "\n",
       "        if (!name) {\n",
       "            // put a spacer in here.\n",
       "            continue;\n",
       "        }\n",
       "        var button = $('<button/>');\n",
       "        button.addClass('ui-button ui-widget ui-state-default ui-corner-all ' +\n",
       "                        'ui-button-icon-only');\n",
       "        button.attr('role', 'button');\n",
       "        button.attr('aria-disabled', 'false');\n",
       "        button.click(method_name, toolbar_event);\n",
       "        button.mouseover(tooltip, toolbar_mouse_event);\n",
       "\n",
       "        var icon_img = $('<span/>');\n",
       "        icon_img.addClass('ui-button-icon-primary ui-icon');\n",
       "        icon_img.addClass(image);\n",
       "        icon_img.addClass('ui-corner-all');\n",
       "\n",
       "        var tooltip_span = $('<span/>');\n",
       "        tooltip_span.addClass('ui-button-text');\n",
       "        tooltip_span.html(tooltip);\n",
       "\n",
       "        button.append(icon_img);\n",
       "        button.append(tooltip_span);\n",
       "\n",
       "        nav_element.append(button);\n",
       "    }\n",
       "\n",
       "    var fmt_picker_span = $('<span/>');\n",
       "\n",
       "    var fmt_picker = $('<select/>');\n",
       "    fmt_picker.addClass('mpl-toolbar-option ui-widget ui-widget-content');\n",
       "    fmt_picker_span.append(fmt_picker);\n",
       "    nav_element.append(fmt_picker_span);\n",
       "    this.format_dropdown = fmt_picker[0];\n",
       "\n",
       "    for (var ind in mpl.extensions) {\n",
       "        var fmt = mpl.extensions[ind];\n",
       "        var option = $(\n",
       "            '<option/>', {selected: fmt === mpl.default_extension}).html(fmt);\n",
       "        fmt_picker.append(option);\n",
       "    }\n",
       "\n",
       "    // Add hover states to the ui-buttons\n",
       "    $( \".ui-button\" ).hover(\n",
       "        function() { $(this).addClass(\"ui-state-hover\");},\n",
       "        function() { $(this).removeClass(\"ui-state-hover\");}\n",
       "    );\n",
       "\n",
       "    var status_bar = $('<span class=\"mpl-message\"/>');\n",
       "    nav_element.append(status_bar);\n",
       "    this.message = status_bar[0];\n",
       "}\n",
       "\n",
       "mpl.figure.prototype.request_resize = function(x_pixels, y_pixels) {\n",
       "    // Request matplotlib to resize the figure. Matplotlib will then trigger a resize in the client,\n",
       "    // which will in turn request a refresh of the image.\n",
       "    this.send_message('resize', {'width': x_pixels, 'height': y_pixels});\n",
       "}\n",
       "\n",
       "mpl.figure.prototype.send_message = function(type, properties) {\n",
       "    properties['type'] = type;\n",
       "    properties['figure_id'] = this.id;\n",
       "    this.ws.send(JSON.stringify(properties));\n",
       "}\n",
       "\n",
       "mpl.figure.prototype.send_draw_message = function() {\n",
       "    if (!this.waiting) {\n",
       "        this.waiting = true;\n",
       "        this.ws.send(JSON.stringify({type: \"draw\", figure_id: this.id}));\n",
       "    }\n",
       "}\n",
       "\n",
       "\n",
       "mpl.figure.prototype.handle_save = function(fig, msg) {\n",
       "    var format_dropdown = fig.format_dropdown;\n",
       "    var format = format_dropdown.options[format_dropdown.selectedIndex].value;\n",
       "    fig.ondownload(fig, format);\n",
       "}\n",
       "\n",
       "\n",
       "mpl.figure.prototype.handle_resize = function(fig, msg) {\n",
       "    var size = msg['size'];\n",
       "    if (size[0] != fig.canvas.width || size[1] != fig.canvas.height) {\n",
       "        fig._resize_canvas(size[0], size[1]);\n",
       "        fig.send_message(\"refresh\", {});\n",
       "    };\n",
       "}\n",
       "\n",
       "mpl.figure.prototype.handle_rubberband = function(fig, msg) {\n",
       "    var x0 = msg['x0'] / mpl.ratio;\n",
       "    var y0 = (fig.canvas.height - msg['y0']) / mpl.ratio;\n",
       "    var x1 = msg['x1'] / mpl.ratio;\n",
       "    var y1 = (fig.canvas.height - msg['y1']) / mpl.ratio;\n",
       "    x0 = Math.floor(x0) + 0.5;\n",
       "    y0 = Math.floor(y0) + 0.5;\n",
       "    x1 = Math.floor(x1) + 0.5;\n",
       "    y1 = Math.floor(y1) + 0.5;\n",
       "    var min_x = Math.min(x0, x1);\n",
       "    var min_y = Math.min(y0, y1);\n",
       "    var width = Math.abs(x1 - x0);\n",
       "    var height = Math.abs(y1 - y0);\n",
       "\n",
       "    fig.rubberband_context.clearRect(\n",
       "        0, 0, fig.canvas.width / mpl.ratio, fig.canvas.height / mpl.ratio);\n",
       "\n",
       "    fig.rubberband_context.strokeRect(min_x, min_y, width, height);\n",
       "}\n",
       "\n",
       "mpl.figure.prototype.handle_figure_label = function(fig, msg) {\n",
       "    // Updates the figure title.\n",
       "    fig.header.textContent = msg['label'];\n",
       "}\n",
       "\n",
       "mpl.figure.prototype.handle_cursor = function(fig, msg) {\n",
       "    var cursor = msg['cursor'];\n",
       "    switch(cursor)\n",
       "    {\n",
       "    case 0:\n",
       "        cursor = 'pointer';\n",
       "        break;\n",
       "    case 1:\n",
       "        cursor = 'default';\n",
       "        break;\n",
       "    case 2:\n",
       "        cursor = 'crosshair';\n",
       "        break;\n",
       "    case 3:\n",
       "        cursor = 'move';\n",
       "        break;\n",
       "    }\n",
       "    fig.rubberband_canvas.style.cursor = cursor;\n",
       "}\n",
       "\n",
       "mpl.figure.prototype.handle_message = function(fig, msg) {\n",
       "    fig.message.textContent = msg['message'];\n",
       "}\n",
       "\n",
       "mpl.figure.prototype.handle_draw = function(fig, msg) {\n",
       "    // Request the server to send over a new figure.\n",
       "    fig.send_draw_message();\n",
       "}\n",
       "\n",
       "mpl.figure.prototype.handle_image_mode = function(fig, msg) {\n",
       "    fig.image_mode = msg['mode'];\n",
       "}\n",
       "\n",
       "mpl.figure.prototype.updated_canvas_event = function() {\n",
       "    // Called whenever the canvas gets updated.\n",
       "    this.send_message(\"ack\", {});\n",
       "}\n",
       "\n",
       "// A function to construct a web socket function for onmessage handling.\n",
       "// Called in the figure constructor.\n",
       "mpl.figure.prototype._make_on_message_function = function(fig) {\n",
       "    return function socket_on_message(evt) {\n",
       "        if (evt.data instanceof Blob) {\n",
       "            /* FIXME: We get \"Resource interpreted as Image but\n",
       "             * transferred with MIME type text/plain:\" errors on\n",
       "             * Chrome.  But how to set the MIME type?  It doesn't seem\n",
       "             * to be part of the websocket stream */\n",
       "            evt.data.type = \"image/png\";\n",
       "\n",
       "            /* Free the memory for the previous frames */\n",
       "            if (fig.imageObj.src) {\n",
       "                (window.URL || window.webkitURL).revokeObjectURL(\n",
       "                    fig.imageObj.src);\n",
       "            }\n",
       "\n",
       "            fig.imageObj.src = (window.URL || window.webkitURL).createObjectURL(\n",
       "                evt.data);\n",
       "            fig.updated_canvas_event();\n",
       "            fig.waiting = false;\n",
       "            return;\n",
       "        }\n",
       "        else if (typeof evt.data === 'string' && evt.data.slice(0, 21) == \"data:image/png;base64\") {\n",
       "            fig.imageObj.src = evt.data;\n",
       "            fig.updated_canvas_event();\n",
       "            fig.waiting = false;\n",
       "            return;\n",
       "        }\n",
       "\n",
       "        var msg = JSON.parse(evt.data);\n",
       "        var msg_type = msg['type'];\n",
       "\n",
       "        // Call the  \"handle_{type}\" callback, which takes\n",
       "        // the figure and JSON message as its only arguments.\n",
       "        try {\n",
       "            var callback = fig[\"handle_\" + msg_type];\n",
       "        } catch (e) {\n",
       "            console.log(\"No handler for the '\" + msg_type + \"' message type: \", msg);\n",
       "            return;\n",
       "        }\n",
       "\n",
       "        if (callback) {\n",
       "            try {\n",
       "                // console.log(\"Handling '\" + msg_type + \"' message: \", msg);\n",
       "                callback(fig, msg);\n",
       "            } catch (e) {\n",
       "                console.log(\"Exception inside the 'handler_\" + msg_type + \"' callback:\", e, e.stack, msg);\n",
       "            }\n",
       "        }\n",
       "    };\n",
       "}\n",
       "\n",
       "// from http://stackoverflow.com/questions/1114465/getting-mouse-location-in-canvas\n",
       "mpl.findpos = function(e) {\n",
       "    //this section is from http://www.quirksmode.org/js/events_properties.html\n",
       "    var targ;\n",
       "    if (!e)\n",
       "        e = window.event;\n",
       "    if (e.target)\n",
       "        targ = e.target;\n",
       "    else if (e.srcElement)\n",
       "        targ = e.srcElement;\n",
       "    if (targ.nodeType == 3) // defeat Safari bug\n",
       "        targ = targ.parentNode;\n",
       "\n",
       "    // jQuery normalizes the pageX and pageY\n",
       "    // pageX,Y are the mouse positions relative to the document\n",
       "    // offset() returns the position of the element relative to the document\n",
       "    var x = e.pageX - $(targ).offset().left;\n",
       "    var y = e.pageY - $(targ).offset().top;\n",
       "\n",
       "    return {\"x\": x, \"y\": y};\n",
       "};\n",
       "\n",
       "/*\n",
       " * return a copy of an object with only non-object keys\n",
       " * we need this to avoid circular references\n",
       " * http://stackoverflow.com/a/24161582/3208463\n",
       " */\n",
       "function simpleKeys (original) {\n",
       "  return Object.keys(original).reduce(function (obj, key) {\n",
       "    if (typeof original[key] !== 'object')\n",
       "        obj[key] = original[key]\n",
       "    return obj;\n",
       "  }, {});\n",
       "}\n",
       "\n",
       "mpl.figure.prototype.mouse_event = function(event, name) {\n",
       "    var canvas_pos = mpl.findpos(event)\n",
       "\n",
       "    if (name === 'button_press')\n",
       "    {\n",
       "        this.canvas.focus();\n",
       "        this.canvas_div.focus();\n",
       "    }\n",
       "\n",
       "    var x = canvas_pos.x * mpl.ratio;\n",
       "    var y = canvas_pos.y * mpl.ratio;\n",
       "\n",
       "    this.send_message(name, {x: x, y: y, button: event.button,\n",
       "                             step: event.step,\n",
       "                             guiEvent: simpleKeys(event)});\n",
       "\n",
       "    /* This prevents the web browser from automatically changing to\n",
       "     * the text insertion cursor when the button is pressed.  We want\n",
       "     * to control all of the cursor setting manually through the\n",
       "     * 'cursor' event from matplotlib */\n",
       "    event.preventDefault();\n",
       "    return false;\n",
       "}\n",
       "\n",
       "mpl.figure.prototype._key_event_extra = function(event, name) {\n",
       "    // Handle any extra behaviour associated with a key event\n",
       "}\n",
       "\n",
       "mpl.figure.prototype.key_event = function(event, name) {\n",
       "\n",
       "    // Prevent repeat events\n",
       "    if (name == 'key_press')\n",
       "    {\n",
       "        if (event.which === this._key)\n",
       "            return;\n",
       "        else\n",
       "            this._key = event.which;\n",
       "    }\n",
       "    if (name == 'key_release')\n",
       "        this._key = null;\n",
       "\n",
       "    var value = '';\n",
       "    if (event.ctrlKey && event.which != 17)\n",
       "        value += \"ctrl+\";\n",
       "    if (event.altKey && event.which != 18)\n",
       "        value += \"alt+\";\n",
       "    if (event.shiftKey && event.which != 16)\n",
       "        value += \"shift+\";\n",
       "\n",
       "    value += 'k';\n",
       "    value += event.which.toString();\n",
       "\n",
       "    this._key_event_extra(event, name);\n",
       "\n",
       "    this.send_message(name, {key: value,\n",
       "                             guiEvent: simpleKeys(event)});\n",
       "    return false;\n",
       "}\n",
       "\n",
       "mpl.figure.prototype.toolbar_button_onclick = function(name) {\n",
       "    if (name == 'download') {\n",
       "        this.handle_save(this, null);\n",
       "    } else {\n",
       "        this.send_message(\"toolbar_button\", {name: name});\n",
       "    }\n",
       "};\n",
       "\n",
       "mpl.figure.prototype.toolbar_button_onmouseover = function(tooltip) {\n",
       "    this.message.textContent = tooltip;\n",
       "};\n",
       "mpl.toolbar_items = [[\"Home\", \"Reset original view\", \"fa fa-home icon-home\", \"home\"], [\"Back\", \"Back to previous view\", \"fa fa-arrow-left icon-arrow-left\", \"back\"], [\"Forward\", \"Forward to next view\", \"fa fa-arrow-right icon-arrow-right\", \"forward\"], [\"\", \"\", \"\", \"\"], [\"Pan\", \"Pan axes with left mouse, zoom with right\", \"fa fa-arrows icon-move\", \"pan\"], [\"Zoom\", \"Zoom to rectangle\", \"fa fa-square-o icon-check-empty\", \"zoom\"], [\"\", \"\", \"\", \"\"], [\"Download\", \"Download plot\", \"fa fa-floppy-o icon-save\", \"download\"]];\n",
       "\n",
       "mpl.extensions = [\"eps\", \"pdf\", \"png\", \"ps\", \"raw\", \"svg\"];\n",
       "\n",
       "mpl.default_extension = \"png\";var comm_websocket_adapter = function(comm) {\n",
       "    // Create a \"websocket\"-like object which calls the given IPython comm\n",
       "    // object with the appropriate methods. Currently this is a non binary\n",
       "    // socket, so there is still some room for performance tuning.\n",
       "    var ws = {};\n",
       "\n",
       "    ws.close = function() {\n",
       "        comm.close()\n",
       "    };\n",
       "    ws.send = function(m) {\n",
       "        //console.log('sending', m);\n",
       "        comm.send(m);\n",
       "    };\n",
       "    // Register the callback with on_msg.\n",
       "    comm.on_msg(function(msg) {\n",
       "        //console.log('receiving', msg['content']['data'], msg);\n",
       "        // Pass the mpl event to the overridden (by mpl) onmessage function.\n",
       "        ws.onmessage(msg['content']['data'])\n",
       "    });\n",
       "    return ws;\n",
       "}\n",
       "\n",
       "mpl.mpl_figure_comm = function(comm, msg) {\n",
       "    // This is the function which gets called when the mpl process\n",
       "    // starts-up an IPython Comm through the \"matplotlib\" channel.\n",
       "\n",
       "    var id = msg.content.data.id;\n",
       "    // Get hold of the div created by the display call when the Comm\n",
       "    // socket was opened in Python.\n",
       "    var element = $(\"#\" + id);\n",
       "    var ws_proxy = comm_websocket_adapter(comm)\n",
       "\n",
       "    function ondownload(figure, format) {\n",
       "        window.open(figure.imageObj.src);\n",
       "    }\n",
       "\n",
       "    var fig = new mpl.figure(id, ws_proxy,\n",
       "                           ondownload,\n",
       "                           element.get(0));\n",
       "\n",
       "    // Call onopen now - mpl needs it, as it is assuming we've passed it a real\n",
       "    // web socket which is closed, not our websocket->open comm proxy.\n",
       "    ws_proxy.onopen();\n",
       "\n",
       "    fig.parent_element = element.get(0);\n",
       "    fig.cell_info = mpl.find_output_cell(\"<div id='\" + id + \"'></div>\");\n",
       "    if (!fig.cell_info) {\n",
       "        console.error(\"Failed to find cell for figure\", id, fig);\n",
       "        return;\n",
       "    }\n",
       "\n",
       "    var output_index = fig.cell_info[2]\n",
       "    var cell = fig.cell_info[0];\n",
       "\n",
       "};\n",
       "\n",
       "mpl.figure.prototype.handle_close = function(fig, msg) {\n",
       "    var width = fig.canvas.width/mpl.ratio\n",
       "    fig.root.unbind('remove')\n",
       "\n",
       "    // Update the output cell to use the data from the current canvas.\n",
       "    fig.push_to_output();\n",
       "    var dataURL = fig.canvas.toDataURL();\n",
       "    // Re-enable the keyboard manager in IPython - without this line, in FF,\n",
       "    // the notebook keyboard shortcuts fail.\n",
       "    IPython.keyboard_manager.enable()\n",
       "    $(fig.parent_element).html('<img src=\"' + dataURL + '\" width=\"' + width + '\">');\n",
       "    fig.close_ws(fig, msg);\n",
       "}\n",
       "\n",
       "mpl.figure.prototype.close_ws = function(fig, msg){\n",
       "    fig.send_message('closing', msg);\n",
       "    // fig.ws.close()\n",
       "}\n",
       "\n",
       "mpl.figure.prototype.push_to_output = function(remove_interactive) {\n",
       "    // Turn the data on the canvas into data in the output cell.\n",
       "    var width = this.canvas.width/mpl.ratio\n",
       "    var dataURL = this.canvas.toDataURL();\n",
       "    this.cell_info[1]['text/html'] = '<img src=\"' + dataURL + '\" width=\"' + width + '\">';\n",
       "}\n",
       "\n",
       "mpl.figure.prototype.updated_canvas_event = function() {\n",
       "    // Tell IPython that the notebook contents must change.\n",
       "    IPython.notebook.set_dirty(true);\n",
       "    this.send_message(\"ack\", {});\n",
       "    var fig = this;\n",
       "    // Wait a second, then push the new image to the DOM so\n",
       "    // that it is saved nicely (might be nice to debounce this).\n",
       "    setTimeout(function () { fig.push_to_output() }, 1000);\n",
       "}\n",
       "\n",
       "mpl.figure.prototype._init_toolbar = function() {\n",
       "    var fig = this;\n",
       "\n",
       "    var nav_element = $('<div/>');\n",
       "    nav_element.attr('style', 'width: 100%');\n",
       "    this.root.append(nav_element);\n",
       "\n",
       "    // Define a callback function for later on.\n",
       "    function toolbar_event(event) {\n",
       "        return fig.toolbar_button_onclick(event['data']);\n",
       "    }\n",
       "    function toolbar_mouse_event(event) {\n",
       "        return fig.toolbar_button_onmouseover(event['data']);\n",
       "    }\n",
       "\n",
       "    for(var toolbar_ind in mpl.toolbar_items){\n",
       "        var name = mpl.toolbar_items[toolbar_ind][0];\n",
       "        var tooltip = mpl.toolbar_items[toolbar_ind][1];\n",
       "        var image = mpl.toolbar_items[toolbar_ind][2];\n",
       "        var method_name = mpl.toolbar_items[toolbar_ind][3];\n",
       "\n",
       "        if (!name) { continue; };\n",
       "\n",
       "        var button = $('<button class=\"btn btn-default\" href=\"#\" title=\"' + name + '\"><i class=\"fa ' + image + ' fa-lg\"></i></button>');\n",
       "        button.click(method_name, toolbar_event);\n",
       "        button.mouseover(tooltip, toolbar_mouse_event);\n",
       "        nav_element.append(button);\n",
       "    }\n",
       "\n",
       "    // Add the status bar.\n",
       "    var status_bar = $('<span class=\"mpl-message\" style=\"text-align:right; float: right;\"/>');\n",
       "    nav_element.append(status_bar);\n",
       "    this.message = status_bar[0];\n",
       "\n",
       "    // Add the close button to the window.\n",
       "    var buttongrp = $('<div class=\"btn-group inline pull-right\"></div>');\n",
       "    var button = $('<button class=\"btn btn-mini btn-primary\" href=\"#\" title=\"Stop Interaction\"><i class=\"fa fa-power-off icon-remove icon-large\"></i></button>');\n",
       "    button.click(function (evt) { fig.handle_close(fig, {}); } );\n",
       "    button.mouseover('Stop Interaction', toolbar_mouse_event);\n",
       "    buttongrp.append(button);\n",
       "    var titlebar = this.root.find($('.ui-dialog-titlebar'));\n",
       "    titlebar.prepend(buttongrp);\n",
       "}\n",
       "\n",
       "mpl.figure.prototype._root_extra_style = function(el){\n",
       "    var fig = this\n",
       "    el.on(\"remove\", function(){\n",
       "\tfig.close_ws(fig, {});\n",
       "    });\n",
       "}\n",
       "\n",
       "mpl.figure.prototype._canvas_extra_style = function(el){\n",
       "    // this is important to make the div 'focusable\n",
       "    el.attr('tabindex', 0)\n",
       "    // reach out to IPython and tell the keyboard manager to turn it's self\n",
       "    // off when our div gets focus\n",
       "\n",
       "    // location in version 3\n",
       "    if (IPython.notebook.keyboard_manager) {\n",
       "        IPython.notebook.keyboard_manager.register_events(el);\n",
       "    }\n",
       "    else {\n",
       "        // location in version 2\n",
       "        IPython.keyboard_manager.register_events(el);\n",
       "    }\n",
       "\n",
       "}\n",
       "\n",
       "mpl.figure.prototype._key_event_extra = function(event, name) {\n",
       "    var manager = IPython.notebook.keyboard_manager;\n",
       "    if (!manager)\n",
       "        manager = IPython.keyboard_manager;\n",
       "\n",
       "    // Check for shift+enter\n",
       "    if (event.shiftKey && event.which == 13) {\n",
       "        this.canvas_div.blur();\n",
       "        // select the cell after this one\n",
       "        var index = IPython.notebook.find_cell_index(this.cell_info[0]);\n",
       "        IPython.notebook.select(index + 1);\n",
       "    }\n",
       "}\n",
       "\n",
       "mpl.figure.prototype.handle_save = function(fig, msg) {\n",
       "    fig.ondownload(fig, null);\n",
       "}\n",
       "\n",
       "\n",
       "mpl.find_output_cell = function(html_output) {\n",
       "    // Return the cell and output element which can be found *uniquely* in the notebook.\n",
       "    // Note - this is a bit hacky, but it is done because the \"notebook_saving.Notebook\"\n",
       "    // IPython event is triggered only after the cells have been serialised, which for\n",
       "    // our purposes (turning an active figure into a static one), is too late.\n",
       "    var cells = IPython.notebook.get_cells();\n",
       "    var ncells = cells.length;\n",
       "    for (var i=0; i<ncells; i++) {\n",
       "        var cell = cells[i];\n",
       "        if (cell.cell_type === 'code'){\n",
       "            for (var j=0; j<cell.output_area.outputs.length; j++) {\n",
       "                var data = cell.output_area.outputs[j];\n",
       "                if (data.data) {\n",
       "                    // IPython >= 3 moved mimebundle to data attribute of output\n",
       "                    data = data.data;\n",
       "                }\n",
       "                if (data['text/html'] == html_output) {\n",
       "                    return [cell, data, j];\n",
       "                }\n",
       "            }\n",
       "        }\n",
       "    }\n",
       "}\n",
       "\n",
       "// Register the function which deals with the matplotlib target/channel.\n",
       "// The kernel may be null if the page has been refreshed.\n",
       "if (IPython.notebook.kernel != null) {\n",
       "    IPython.notebook.kernel.comm_manager.register_target('matplotlib', mpl.mpl_figure_comm);\n",
       "}\n"
      ],
      "text/plain": [
       "<IPython.core.display.Javascript object>"
      ]
     },
     "metadata": {},
     "output_type": "display_data"
    },
    {
     "data": {
      "text/html": [
       "<img src=\"data:image/png;base64,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\" width=\"400\">"
      ],
      "text/plain": [
       "<IPython.core.display.HTML object>"
      ]
     },
     "metadata": {},
     "output_type": "display_data"
    }
   ],
   "source": [
    "fig, ax = plt.subplots(figsize=(4, 3))\n",
    "ax.hist(abs(nd_eri0_mo).ravel(), bins=np.logspace(np.log10(1e-7),np.log10(1e2), 50), alpha=0.5)\n",
    "ax.set_xscale(\"log\")\n",
    "fig.tight_layout()"
   ]
  },
  {
   "cell_type": "markdown",
   "metadata": {},
   "source": [
    "### 任务 (3)"
   ]
  },
  {
   "cell_type": "markdown",
   "metadata": {},
   "source": [
    "$$\n",
    "E_\\mathrm{elec} = h_{\\mu \\nu} D_{\\mu \\nu} + \\frac{1}{2} D_{\\mu \\nu} (\\mu \\nu | \\kappa \\lambda) D_{\\kappa \\lambda} - \\frac{1}{4} D_{\\mu \\nu} (\\mu \\kappa | \\nu \\lambda) D_{\\kappa \\lambda}\n",
    "$$\n",
    "\n",
    "上式除开 Skeleton 导数之外，就是所有对密度矩阵 $D_{\\mu \\nu}$ 或 $D_{\\kappa \\lambda}$ 的导数贡献了："
   ]
  },
  {
   "cell_type": "markdown",
   "metadata": {},
   "source": [
    "$$\n",
    "\\begin{align}\n",
    "\\frac{\\partial E_\\mathrm{elec}}{\\partial F_t} \\leftarrow h_{\\mu \\nu} \\frac{\\partial D_{\\mu \\nu}}{\\partial F_t} + \\frac{1}{2} \\frac{\\partial D_{\\mu \\nu}}{\\partial F_t} (\\mu \\nu | \\kappa \\lambda) D_{\\kappa \\lambda} + \\frac{1}{2} D_{\\mu \\nu} (\\mu \\nu | \\kappa \\lambda) \\frac{\\partial D_{\\kappa \\lambda}}{\\partial F_t} - \\frac{1}{4} \\frac{\\partial D_{\\mu \\nu}}{\\partial F_t} (\\mu \\kappa | \\nu \\lambda) D_{\\kappa \\lambda} - \\frac{1}{4} D_{\\mu \\nu} (\\mu \\kappa | \\nu \\lambda) \\frac{\\partial D_{\\kappa \\lambda}}{\\partial F_t}\n",
    "\\end{align}\n",
    "$$"
   ]
  },
  {
   "cell_type": "markdown",
   "metadata": {},
   "source": [
    "上式的向左箭头意指贡献而非等价。我们指出，上式的第 2、3 项是相等的。我们先用普通的求和形式写出上面的第 2、3 项：\n",
    "\n",
    "$$\n",
    "\\begin{align}\n",
    "\\textsf{Term 2}&: \\, \\frac{1}{2} \\sum_{\\mu \\nu \\kappa \\lambda} \\frac{\\partial D_{\\mu \\nu}}{\\partial F_t} (\\mu \\nu | \\kappa \\lambda) D_{\\kappa \\lambda} \\\\\n",
    "\\textsf{Term 3}&: \\, \\frac{1}{2} \\sum_{\\mu \\nu \\kappa \\lambda} D_{\\mu \\nu} (\\mu \\nu | \\kappa \\lambda) \\frac{\\partial D_{\\kappa \\lambda}}{\\partial F_t}\n",
    "\\end{align}\n",
    "$$"
   ]
  },
  {
   "cell_type": "markdown",
   "metadata": {},
   "source": [
    "既然是求和，那么角标符号就不再重要。我们将第 3 项的角标 $(\\mu, \\nu, \\kappa, \\lambda)$ 替换为 $(\\kappa, \\lambda, \\mu, \\nu)$，得到\n",
    "\n",
    "$$\n",
    "\\textsf{Term 3}: \\, \\frac{1}{2} \\sum_{\\kappa \\lambda \\mu \\nu} D_{\\kappa \\lambda} (\\kappa \\lambda | \\mu \\nu) \\frac{\\partial D_{\\mu \\nu}}{\\partial F_t}\n",
    "$$"
   ]
  },
  {
   "cell_type": "markdown",
   "metadata": {},
   "source": [
    "这里需要利用到 ERI 积分的对称性\n",
    "\n",
    "$$\n",
    "(\\kappa \\lambda | \\mu \\nu) = (\\mu \\nu | \\kappa \\lambda)\n",
    "$$\n",
    "\n",
    "就得到了与第 2 项完全一模一样的结果。\n",
    "\n",
    "对于第 4、5 项亦作同样处理，得到\n",
    "\n",
    "$$\n",
    "\\begin{align}\n",
    "\\frac{\\partial E_\\mathrm{elec}}{\\partial F_t} &\\leftarrow h_{\\mu \\nu} \\frac{\\partial D_{\\mu \\nu}}{\\partial F_t} + \\frac{\\partial D_{\\mu \\nu}}{\\partial F_t} (\\mu \\nu | \\kappa \\lambda) D_{\\kappa \\lambda} - \\frac{1}{2} \\frac{\\partial D_{\\mu \\nu}}{\\partial F_t} (\\mu \\kappa | \\nu \\lambda) D_{\\kappa \\lambda} \\\\\n",
    "&= \\big( h_{\\mu \\nu} + (\\mu \\nu | \\kappa \\lambda) D_{\\kappa \\lambda} - \\frac{1}{2} (\\mu \\kappa | \\nu \\lambda) D_{\\kappa \\lambda} \\big) \\frac{\\partial D_{\\mu \\nu}}{\\partial F_t} \\\\\n",
    "&= F_{\\mu \\nu} \\frac{\\partial D_{\\mu \\nu}}{\\partial F_t}\n",
    "\\end{align}\n",
    "$$"
   ]
  },
  {
   "cell_type": "markdown",
   "metadata": {},
   "source": [
    "关于 RHF 下 Fock 矩阵的形式，读者可能需要自行回忆一下。我们在此用程序表明 RHF 下，\n",
    "\n",
    "$$\n",
    "F_{\\mu \\nu} = h_{\\mu \\nu} + (\\mu \\nu | \\kappa \\lambda) D_{\\kappa \\lambda} - \\frac{1}{2} (\\mu \\kappa | \\nu \\lambda) D_{\\kappa \\lambda}\n",
    "$$"
   ]
  },
  {
   "cell_type": "code",
   "execution_count": 36,
   "metadata": {},
   "outputs": [
    {
     "data": {
      "text/plain": [
       "True"
      ]
     },
     "execution_count": 36,
     "metadata": {},
     "output_type": "execute_result"
    }
   ],
   "source": [
    "np.allclose(\n",
    "    + H_0_ao\n",
    "    + np.einsum(\"uvkl, kl -> uv\", eri0_ao, D)\n",
    "    - 0.5 * np.einsum(\"ukvl, kl -> uv\", eri0_ao, D),\n",
    "    F_0_ao\n",
    ")"
   ]
  },
  {
   "cell_type": "markdown",
   "metadata": {},
   "source": [
    "### 任务 (4)"
   ]
  },
  {
   "cell_type": "markdown",
   "metadata": {},
   "source": [
    "我们继续对上一个任务中没有化简完的 $\\partial_{F_t} D_{\\mu \\nu}$ 作展开。我们知道，密度矩阵从定义上是占据轨道矩阵的缩并：\n",
    "\n",
    "$$\n",
    "D_{\\mu \\nu} = 2 C_{\\mu i} C_{\\nu i}\n",
    "$$\n",
    "\n",
    "那么，根据链式法则，有\n",
    "\n",
    "$$\n",
    "\\frac{\\partial D_{\\mu \\nu}}{\\partial F_t} = \\frac{\\partial C_{\\mu i}}{\\partial F_t} C_{\\nu i} + C_{\\mu i} \\frac{\\partial C_{\\nu i}}{\\partial F_t}\n",
    "$$"
   ]
  },
  {
   "cell_type": "markdown",
   "metadata": {},
   "source": [
    "根据 U 矩阵定义\n",
    "\n",
    "$$\n",
    "\\frac{\\partial C_{\\mu p}}{\\partial \\mathbb{A}} = C_{\\mu m} U_{mp}^\\mathbb{A}\n",
    "$$"
   ]
  },
  {
   "cell_type": "markdown",
   "metadata": {},
   "source": [
    "代入链式法则导出式，得到\n",
    "\n",
    "$$\n",
    "\\frac{\\partial D_{\\mu \\nu}}{\\partial F_t} = 2 \\big( C_{\\mu m} U_{mi}^t C_{\\nu i} + C_{\\mu i} C_{\\nu m} U_{mi}^t \\big)\n",
    "$$"
   ]
  },
  {
   "cell_type": "markdown",
   "metadata": {},
   "source": [
    "上式中出现了看上去非常相似的两项；但这两项并非是相等，而是互为转置。我们以后会用 `U_1` 表示 U 矩阵 (但 U 矩阵分为安全与非安全的，但现在还不需要了解这些)："
   ]
  },
  {
   "cell_type": "code",
   "execution_count": 37,
   "metadata": {},
   "outputs": [],
   "source": [
    "U_1 = diph.U_1"
   ]
  },
  {
   "cell_type": "markdown",
   "metadata": {},
   "source": [
    "用 np.allclose 可以验证其互为转置关系："
   ]
  },
  {
   "cell_type": "code",
   "execution_count": 38,
   "metadata": {},
   "outputs": [
    {
     "data": {
      "text/plain": [
       "True"
      ]
     },
     "execution_count": 38,
     "metadata": {},
     "output_type": "execute_result"
    }
   ],
   "source": [
    "np.allclose(\n",
    "    np.einsum(\"um, tmi, vi -> tuv\", C, U_1[:, sa, so], Co),\n",
    "    np.einsum(\"ui, vm, tmi -> tuv\", Co, C, U_1[:, sa, so]).swapaxes(-1, -2)\n",
    ")"
   ]
  },
  {
   "cell_type": "markdown",
   "metadata": {},
   "source": [
    "将 $\\partial_{F_t} D_{\\mu \\nu}$ 结果代入，得到\n",
    "\n",
    "$$\n",
    "\\frac{\\partial E_\\mathrm{elec}}{\\partial F_t} \\leftarrow F_{\\mu \\nu} 2 \\frac{\\partial D_{\\mu \\nu}}{\\partial F_t} = 4 (F_{mi} + F_{im}) U_{mi}^t = 2 F_{mi} U_{mi}^t\n",
    "$$"
   ]
  },
  {
   "cell_type": "markdown",
   "metadata": {},
   "source": [
    "我们将上述矩阵分为两部分考虑。若 $m$ 处在非占轨道，则\n",
    "\n",
    "$$\n",
    "\\frac{\\partial E_\\mathrm{elec}}{\\partial F_t} \\leftarrow 4 F_{ai} U_{ai}^t = 0\n",
    "$$\n",
    "\n",
    "这是因为从 RHF 定义上，$F_{ai} = 0$。"
   ]
  },
  {
   "cell_type": "markdown",
   "metadata": {},
   "source": [
    "剩下的部分是 $m$ 处于占据轨道，则\n",
    "\n",
    "$$\n",
    "\\frac{\\partial E_\\mathrm{elec}}{\\partial F_t} \\leftarrow 4 F_{ji} U_{ji}^t = 2 \\big( F_{ij} U_{ij}^t + F_{ji} U_{ji}^t \\big) = 2 F_{ij} (U_{ij}^t + U_{ji}^t) = 0\n",
    "$$"
   ]
  },
  {
   "cell_type": "markdown",
   "metadata": {},
   "source": [
    "上式的\n",
    "\n",
    "- 第一个等号利用到的是对 $(i, j)$ 求和等价于对 $(j, i)$ 求和，因此可以互换 $(i, j)$ 角标而不影响结果；\n",
    "\n",
    "- 第二个等号利用到的是 $F_{ij} = F_{ji}$ 即 Fock 矩阵是对称矩阵；\n",
    "\n",
    "- 第三个等号利用到的是 $U_{ij}^t + U_{ji}^t = - S_{ij}^t = 0$，其更为一般的结论 $S_{pq}^\\mathbb{A} + U_{pq}^\\mathbb{A} + U_{qp}^\\mathbb{A} = 0$ 我们已经在上一节的任务中证明了。"
   ]
  }
 ],
 "metadata": {
  "kernelspec": {
   "display_name": "Python 3",
   "language": "python",
   "name": "python3"
  },
  "language_info": {
   "codemirror_mode": {
    "name": "ipython",
    "version": 3
   },
   "file_extension": ".py",
   "mimetype": "text/x-python",
   "name": "python",
   "nbconvert_exporter": "python",
   "pygments_lexer": "ipython3",
   "version": "3.8.1"
  },
  "toc": {
   "base_numbering": 1,
   "nav_menu": {},
   "number_sections": true,
   "sideBar": true,
   "skip_h1_title": false,
   "title_cell": "Table of Contents",
   "title_sidebar": "Contents",
   "toc_cell": false,
   "toc_position": {
    "height": "calc(100% - 180px)",
    "left": "10px",
    "top": "150px",
    "width": "262.6px"
   },
   "toc_section_display": true,
   "toc_window_display": true
  }
 },
 "nbformat": 4,
 "nbformat_minor": 4
}
