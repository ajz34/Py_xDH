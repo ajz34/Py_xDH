{
 "cells": [
  {
   "cell_type": "markdown",
   "metadata": {},
   "source": [
    "# RHF 偶极矩计算"
   ]
  },
  {
   "cell_type": "markdown",
   "metadata": {},
   "source": [
    "我们在曾经的文档中，已经讨论了解析 RHF 的公式表达式了；但我们尚未系统地推导偶极矩的解析梯度。这一节我们系统地推导 RHF 偶极矩，并且确立以后文档的风格。"
   ]
  },
  {
   "cell_type": "markdown",
   "metadata": {},
   "source": [
    "我们之前说到，任何导数通常都可以分为 Skeleton 导数与 U 导数；但对于 RHF 的一阶梯度响应性质，U 导数可以通过巧妙的数学方式避免。因此，我们只需要学会 Skeleton 导数的求取就可以完成 RHF 的偶极矩计算。"
   ]
  },
  {
   "cell_type": "markdown",
   "metadata": {},
   "source": [
    "## 准备工作与符号定义"
   ]
  },
  {
   "cell_type": "markdown",
   "metadata": {},
   "source": [
    "我们假定以后会始终引入如下的库函数和设定："
   ]
  },
  {
   "cell_type": "code",
   "execution_count": 1,
   "metadata": {},
   "outputs": [],
   "source": [
    "%matplotlib notebook\n",
    "\n",
    "from pyscf import gto, scf, dft, lib\n",
    "import numpy as np\n",
    "from functools import partial\n",
    "import warnings\n",
    "from matplotlib import pyplot as plt\n",
    "from pyxdh.Utilities import NucCoordDerivGenerator, DipoleDerivGenerator, NumericDiff\n",
    "\n",
    "np.einsum = partial(np.einsum, optimize=[\"greedy\", 1024 ** 3 * 2 / 8])\n",
    "np.allclose = partial(np.allclose, atol=1e-6, rtol=1e-4)\n",
    "np.set_printoptions(5, linewidth=150, suppress=True)\n",
    "warnings.filterwarnings(\"ignore\")"
   ]
  },
  {
   "cell_type": "markdown",
   "metadata": {},
   "source": [
    "以后的文档可能会在正文前，花大量代码进行准备工作。这些代码可能会非常相似，但有细微的变化。譬如\n",
    "\n",
    "- 量化方法上，有 RHF 自洽场、GGA 自洽场、GGA 非自洽、MP2 后自洽、bDH 后自洽、xDH 后自洽型；\n",
    "\n",
    "- 一阶梯度上，有电场导数、核坐标导数；\n",
    "\n",
    "- 二阶梯度上，有核坐标二阶导数、电场二阶导数、核坐标与电场混合导数。\n",
    "\n",
    "读者可能需要注意到这些差距。"
   ]
  },
  {
   "cell_type": "markdown",
   "metadata": {},
   "source": [
    "其中一部分变量是我们以后也会经常用到的、物理意义始终不变的变量：\n",
    "\n",
    "- `mol` 分子实例，类型为 `gto.Mole`"
   ]
  },
  {
   "cell_type": "code",
   "execution_count": 2,
   "metadata": {},
   "outputs": [
    {
     "data": {
      "text/plain": [
       "<pyscf.gto.mole.Mole at 0x7fc78c17ef40>"
      ]
     },
     "execution_count": 2,
     "metadata": {},
     "output_type": "execute_result"
    }
   ],
   "source": [
    "mol = gto.Mole()\n",
    "mol.atom = \"\"\"\n",
    "O  0.0  0.0  0.0\n",
    "O  0.0  0.0  1.5\n",
    "H  1.5  0.0  0.0\n",
    "H  0.0  0.7  1.5\n",
    "\"\"\"\n",
    "mol.basis = \"6-31G\"\n",
    "mol.verbose = 0\n",
    "mol.build()"
   ]
  },
  {
   "cell_type": "markdown",
   "metadata": {},
   "source": [
    "- `nao` $n_\\mathrm{AO}$ 原子轨道数量 (基组数量)；\n",
    "\n",
    "- `nmo` $n_\\mathrm{MO}$ 分子轨道数量，被定义为与原子轨道数量相同； \n",
    "\n",
    "- `nocc` $n_\\mathrm{occ}$ 占据轨道数量，在闭壳层中被定义为电子数的一半；\n",
    "\n",
    "- `nvir` $n_\\mathrm{vir}$ 非占轨道数量，$n_\\mathrm{MO} - n_\\mathrm{occ}$；\n",
    "\n",
    "- `so`, `sv`, `sa` 分别为占据、非占、全部轨道的分割。"
   ]
  },
  {
   "cell_type": "code",
   "execution_count": 3,
   "metadata": {},
   "outputs": [],
   "source": [
    "nmo, nao, natm = mol.nao, mol.nao, mol.natm\n",
    "nocc = mol.nelec[0]\n",
    "nvir = nmo - nocc\n",
    "so, sv, sa = slice(0, nocc), slice(nocc, nmo), slice(0, nmo)"
   ]
  },
  {
   "cell_type": "markdown",
   "metadata": {},
   "source": [
    "- `H_0_ao` $h_{\\mu \\nu}$ 原子轨道 Hamiltonian Core 矩阵；\n",
    "\n",
    "- `S_0_ao` $S_{\\mu \\nu}$ 原子轨道重叠矩阵；\n",
    "\n",
    "- `eri0_ao` $(\\mu \\nu | \\kappa \\lambda)$ 原子轨道 ERI 积分。"
   ]
  },
  {
   "cell_type": "code",
   "execution_count": 4,
   "metadata": {},
   "outputs": [],
   "source": [
    "H_0_ao = mol.intor(\"int1e_kin\") + mol.intor(\"int1e_nuc\")\n",
    "S_0_ao = mol.intor(\"int1e_ovlp\")\n",
    "eri0_ao = mol.intor(\"int2e\")"
   ]
  },
  {
   "cell_type": "markdown",
   "metadata": {},
   "source": [
    "我们暂且先定义下述非普遍的自洽场过程 `diph` 是通过 `DipoleSCF` 类实现的："
   ]
  },
  {
   "cell_type": "code",
   "execution_count": 5,
   "metadata": {},
   "outputs": [],
   "source": [
    "from pyxdh.DerivOnce import DipoleSCF\n",
    "diph = DipoleSCF({\"scf_eng\": scf.RHF(mol)})"
   ]
  },
  {
   "cell_type": "markdown",
   "metadata": {},
   "source": [
    "经过自洽场计算后的量有 (不论是 GGA 或是 RHF)：\n",
    "\n",
    "- `C` $C_{\\mu p}$ 轨道系数；\n",
    "\n",
    "- `Co` $C_{\\mu i}$, `Cv` $C_{\\mu a}$ 分别为占据轨道系数、非占轨道系数\n",
    "\n",
    "- `e` $\\varepsilon_p$ 轨道能；\n",
    "\n",
    "- `eo` $\\varepsilon_i$, `ev` $\\varepsilon_a$ 分别为占据轨道能、非占轨道能；\n",
    "\n",
    "- `D` $D_{\\mu \\nu}$ 原子轨道密度矩阵。"
   ]
  },
  {
   "cell_type": "code",
   "execution_count": 6,
   "metadata": {},
   "outputs": [],
   "source": [
    "C = diph.C\n",
    "Co, Cv = C[:, so], C[:, sv]\n",
    "e = diph.e\n",
    "eo, ev = e[so], e[sv]\n",
    "D = diph.D"
   ]
  },
  {
   "cell_type": "markdown",
   "metadata": {},
   "source": [
    "- `F_0_ao` $F_{\\mu \\nu}$ 原子轨道 Fock 矩阵 (需要留意 Fock 矩阵与上述原子轨道矩阵不同，是与分子轨道系数相关的量)；"
   ]
  },
  {
   "cell_type": "code",
   "execution_count": 7,
   "metadata": {},
   "outputs": [],
   "source": [
    "F_0_ao = diph.F_0_ao"
   ]
  },
  {
   "cell_type": "markdown",
   "metadata": {},
   "source": [
    "下面是依靠分子轨道方能定义的量：\n",
    "\n",
    "- `H_0_mo` $h_{pq}$ 分子轨道 Hamiltonian Core 矩阵；\n",
    "\n",
    "- `S_0_mo` $S_{pq}$ 分子轨道重叠矩阵；\n",
    "\n",
    "- `F_0_mo` $F_{pq}$ 分子轨道 Fock 矩阵；\n",
    "\n",
    "- `eri0_mo` $(pq | rs)$ 分子轨道 ERI 积分。"
   ]
  },
  {
   "cell_type": "code",
   "execution_count": 8,
   "metadata": {},
   "outputs": [],
   "source": [
    "H_0_mo = diph.H_0_mo\n",
    "S_0_mo = diph.S_0_mo\n",
    "F_0_mo = diph.F_0_mo\n",
    "eri0_mo = diph.eri0_mo"
   ]
  },
  {
   "cell_type": "markdown",
   "metadata": {},
   "source": [
    "其余的变量通常是与梯度有关的量，这些变量名可能会在以后介绍。"
   ]
  },
  {
   "cell_type": "markdown",
   "metadata": {},
   "source": [
    "在继续进行文档之前，我们先定义偶极矩的数值梯度辅助类 `DipoleDerivGenerator` 实例 `dipn`："
   ]
  },
  {
   "cell_type": "code",
   "execution_count": 9,
   "metadata": {},
   "outputs": [],
   "source": [
    "def dipn_generator(component, interval):\n",
    "    scf_eng = scf.RHF(mol)\n",
    "    def get_hcore(mol=mol):\n",
    "        return scf.rhf.get_hcore(mol) - interval * mol.intor(\"int1e_r\")[component]\n",
    "    scf_eng.get_hcore = get_hcore\n",
    "    config = {\n",
    "        \"scf_eng\": scf_eng,\n",
    "    }\n",
    "    return DipoleSCF(config)"
   ]
  },
  {
   "cell_type": "code",
   "execution_count": 10,
   "metadata": {},
   "outputs": [],
   "source": [
    "dipn = DipoleDerivGenerator(dipn_generator)"
   ]
  },
  {
   "cell_type": "markdown",
   "metadata": {},
   "source": [
    "## Hamiltonian Core Skeleton 导数"
   ]
  },
  {
   "cell_type": "markdown",
   "metadata": {},
   "source": [
    "### 解析梯度"
   ]
  },
  {
   "cell_type": "markdown",
   "metadata": {},
   "source": [
    "我们在普通的 RHF 计算中，Hamiltonian Core 是动能与原子核静电势能导出量之和：\n",
    "\n",
    "$$\n",
    "\\begin{align}\n",
    "\\hat h = \\hat t + \\hat v_\\mathrm{nuc} &= - \\frac{1}{2} \\frac{\\partial^2}{\\partial t^2} - \\frac{Z_M}{| \\boldsymbol{r} - \\boldsymbol{M} |} \\quad (\\textsf{Einsum form}) \\\\\n",
    "&= - \\frac{1}{2} \\sum_r \\frac{\\partial^2}{\\partial t^2} - \\sum_M \\frac{Z_M}{| \\boldsymbol{r} - \\boldsymbol{M} |} \\quad (\\textsf{Ordinary form})\n",
    "\\end{align}\n",
    "$$"
   ]
  },
  {
   "cell_type": "markdown",
   "metadata": {},
   "source": [
    "若不作更多说明，我们以后通常用上面的作者所定义的 Einsum Form 进行公式描述 (这与正统的 Einstein Summation 近乎完全不同)。但可能会非常不直观，因此读者可能需要习惯这些记号，或者自己创立自己的公式符号体系。"
   ]
  },
  {
   "cell_type": "markdown",
   "metadata": {},
   "source": [
    "我们对上面的表达式作补充说明。第一项的 $t$ 是坐标分量，而非 $\\hat t$ 的动能算符一意。第二项的 $M$ 表示原子；我们知道对于单个电子而言，静电势能是各个原子对其势能的和；因此对 $M$ 求和。而 $\\hat h$ 事实上是与电子坐标 $\\boldsymbol{r}$ 有关的算符，因此不需要对 $\\boldsymbol{r}$ 进行求和。"
   ]
  },
  {
   "cell_type": "markdown",
   "metadata": {},
   "source": [
    "但上述量与电场完全无关。我们提到过，偶极矩是分子在外加电场下的能量微扰表征。这个外加电场可以附加在 Hamiltonian Core 上，因此我们这篇文档讨论的 Hamiltonian Core 实际上是\n",
    "\n",
    "$$\n",
    "\\begin{align}\n",
    "\\hat h (F_t) &= - \\frac{1}{2} \\frac{\\partial^2}{\\partial t^2} - \\frac{Z_M}{| \\boldsymbol{r} - \\boldsymbol{M} |} - F_t \\quad (\\textsf{Einsum form}) \\\\\n",
    "&= - \\frac{1}{2} \\sum_r \\frac{\\partial^2}{\\partial t^2} - \\sum_M \\frac{Z_M}{| \\boldsymbol{r} - \\boldsymbol{M} |} - \\sum_t F_t t \\quad (\\textsf{Ordinary form})\n",
    "\\end{align}\n",
    "$$"
   ]
  },
  {
   "cell_type": "markdown",
   "metadata": {},
   "source": [
    "那么，其对应的 Hamiltonian Core 矩阵为\n",
    "\n",
    "$$\n",
    "h_{\\mu \\nu} (F_t) = \\langle \\mu | - \\frac{1}{2} \\frac{\\partial^2}{\\partial t^2} - \\frac{Z_M}{| \\boldsymbol{r} - \\boldsymbol{M} |} | \\nu \\rangle - F_t \\langle \\mu | t | \\nu \\rangle\n",
    "$$"
   ]
  },
  {
   "cell_type": "markdown",
   "metadata": {},
   "source": [
    "那么，\n",
    "\n",
    "$$\n",
    "\\frac{\\partial h_{\\mu \\nu} (F_t)}{\\partial F_t} = - \\langle \\mu | t | \\nu \\rangle = - t_{\\mu \\nu}\n",
    "$$"
   ]
  },
  {
   "cell_type": "markdown",
   "metadata": {},
   "source": [
    "对于上述表达式，我们也会简写为\n",
    "\n",
    "$$\n",
    "h_{\\mu \\nu}^t = \\frac{\\partial h_{\\mu \\nu}}{\\partial F_t} = - t_{\\mu \\nu}\n",
    "$$"
   ]
  },
  {
   "cell_type": "markdown",
   "metadata": {},
   "source": [
    "上述的矩阵将会是维度 $(t, \\mu, \\nu)$ 的张量 `H_1_ao`，其在 PySCF 中可以通过如下方式生成："
   ]
  },
  {
   "cell_type": "code",
   "execution_count": 11,
   "metadata": {},
   "outputs": [
    {
     "data": {
      "text/plain": [
       "(3, 22, 22)"
      ]
     },
     "execution_count": 11,
     "metadata": {},
     "output_type": "execute_result"
    }
   ],
   "source": [
    "H_1_ao = - mol.intor(\"int1e_r\")\n",
    "H_1_ao.shape"
   ]
  },
  {
   "cell_type": "markdown",
   "metadata": {},
   "source": [
    "符号 `H_1_ao` 相对于 `H_0_ao` 而言，改变的 1 代表一阶 Skeleton 导数 $h_{\\mu \\nu}^\\mathbb{A}$；而对于电场导数，它就特例化为 $h_{\\mu \\nu}^t$。\n",
    "\n",
    "这个符号也会用在所有以 `DerivOnce` 为基类的类的实例中，譬如偶极计算实例 `diph` 的 `H_1_ao` property 就可以导出 $h_{\\mu \\nu}^t$。我们可以验证上面计算得到的 `H_1_ao` 与 `DipoleSCF` 给出的 `H_1_ao` 是相等的："
   ]
  },
  {
   "cell_type": "code",
   "execution_count": 12,
   "metadata": {},
   "outputs": [
    {
     "data": {
      "text/plain": [
       "True"
      ]
     },
     "execution_count": 12,
     "metadata": {},
     "output_type": "execute_result"
    }
   ],
   "source": [
    "np.allclose(H_1_ao, diph.H_1_ao)"
   ]
  },
  {
   "cell_type": "markdown",
   "metadata": {},
   "source": [
    "### 数值梯度"
   ]
  },
  {
   "cell_type": "markdown",
   "metadata": {},
   "source": [
    "我们可以通过 `dipn` 来辅助作三点差分所给出的 `nd_H_0_ao` $\\frac{\\partial h_{\\mu \\nu}}{\\partial t}$："
   ]
  },
  {
   "cell_type": "code",
   "execution_count": 13,
   "metadata": {
    "scrolled": true
   },
   "outputs": [
    {
     "data": {
      "text/plain": [
       "(3, 22, 22)"
      ]
     },
     "execution_count": 13,
     "metadata": {},
     "output_type": "execute_result"
    }
   ],
   "source": [
    "nd_H_0_ao = NumericDiff(dipn, lambda diph: diph.H_0_ao).derivative\n",
    "nd_H_0_ao.shape"
   ]
  },
  {
   "cell_type": "markdown",
   "metadata": {},
   "source": [
    "上式中的 `nd_H_0_ao` 可以用来验证我们所计算的 $h_{\\mu \\nu}^t$ `H_1_ao`；之所以起名 `nd_H_0_ao`，是因为它是 `H_0_ao` $h_{\\mu \\nu}$ 的数值导数 (Numerical Derivative)。"
   ]
  },
  {
   "cell_type": "markdown",
   "metadata": {},
   "source": [
    "我们以后通常下述的图像来表明方才所计算的密度矩阵梯度是正确的。\n",
    "\n",
    "下图表示的是误差的直方图。其中，\n",
    "\n",
    "- 蓝色条表示数值矩阵值与解析矩阵值之间的误差，橙色条表示数值导数矩阵本身的值。\n",
    "\n",
    "- 横坐标表示矩阵数值大小，纵坐标表示处在某一区间的矩阵数值数量。\n",
    "\n",
    "因此，若蓝色条越靠左，表明数值矩阵与解析矩阵在绝对误差上越小；蓝色与橙色条差距越大，表明数值矩阵与解析矩阵在相对误差上越小。"
   ]
  },
  {
   "cell_type": "code",
   "execution_count": 14,
   "metadata": {},
   "outputs": [
    {
     "data": {
      "application/javascript": [
       "/* Put everything inside the global mpl namespace */\n",
       "window.mpl = {};\n",
       "\n",
       "\n",
       "mpl.get_websocket_type = function() {\n",
       "    if (typeof(WebSocket) !== 'undefined') {\n",
       "        return WebSocket;\n",
       "    } else if (typeof(MozWebSocket) !== 'undefined') {\n",
       "        return MozWebSocket;\n",
       "    } else {\n",
       "        alert('Your browser does not have WebSocket support. ' +\n",
       "              'Please try Chrome, Safari or Firefox ≥ 6. ' +\n",
       "              'Firefox 4 and 5 are also supported but you ' +\n",
       "              'have to enable WebSockets in about:config.');\n",
       "    };\n",
       "}\n",
       "\n",
       "mpl.figure = function(figure_id, websocket, ondownload, parent_element) {\n",
       "    this.id = figure_id;\n",
       "\n",
       "    this.ws = websocket;\n",
       "\n",
       "    this.supports_binary = (this.ws.binaryType != undefined);\n",
       "\n",
       "    if (!this.supports_binary) {\n",
       "        var warnings = document.getElementById(\"mpl-warnings\");\n",
       "        if (warnings) {\n",
       "            warnings.style.display = 'block';\n",
       "            warnings.textContent = (\n",
       "                \"This browser does not support binary websocket messages. \" +\n",
       "                    \"Performance may be slow.\");\n",
       "        }\n",
       "    }\n",
       "\n",
       "    this.imageObj = new Image();\n",
       "\n",
       "    this.context = undefined;\n",
       "    this.message = undefined;\n",
       "    this.canvas = undefined;\n",
       "    this.rubberband_canvas = undefined;\n",
       "    this.rubberband_context = undefined;\n",
       "    this.format_dropdown = undefined;\n",
       "\n",
       "    this.image_mode = 'full';\n",
       "\n",
       "    this.root = $('<div/>');\n",
       "    this._root_extra_style(this.root)\n",
       "    this.root.attr('style', 'display: inline-block');\n",
       "\n",
       "    $(parent_element).append(this.root);\n",
       "\n",
       "    this._init_header(this);\n",
       "    this._init_canvas(this);\n",
       "    this._init_toolbar(this);\n",
       "\n",
       "    var fig = this;\n",
       "\n",
       "    this.waiting = false;\n",
       "\n",
       "    this.ws.onopen =  function () {\n",
       "            fig.send_message(\"supports_binary\", {value: fig.supports_binary});\n",
       "            fig.send_message(\"send_image_mode\", {});\n",
       "            if (mpl.ratio != 1) {\n",
       "                fig.send_message(\"set_dpi_ratio\", {'dpi_ratio': mpl.ratio});\n",
       "            }\n",
       "            fig.send_message(\"refresh\", {});\n",
       "        }\n",
       "\n",
       "    this.imageObj.onload = function() {\n",
       "            if (fig.image_mode == 'full') {\n",
       "                // Full images could contain transparency (where diff images\n",
       "                // almost always do), so we need to clear the canvas so that\n",
       "                // there is no ghosting.\n",
       "                fig.context.clearRect(0, 0, fig.canvas.width, fig.canvas.height);\n",
       "            }\n",
       "            fig.context.drawImage(fig.imageObj, 0, 0);\n",
       "        };\n",
       "\n",
       "    this.imageObj.onunload = function() {\n",
       "        fig.ws.close();\n",
       "    }\n",
       "\n",
       "    this.ws.onmessage = this._make_on_message_function(this);\n",
       "\n",
       "    this.ondownload = ondownload;\n",
       "}\n",
       "\n",
       "mpl.figure.prototype._init_header = function() {\n",
       "    var titlebar = $(\n",
       "        '<div class=\"ui-dialog-titlebar ui-widget-header ui-corner-all ' +\n",
       "        'ui-helper-clearfix\"/>');\n",
       "    var titletext = $(\n",
       "        '<div class=\"ui-dialog-title\" style=\"width: 100%; ' +\n",
       "        'text-align: center; padding: 3px;\"/>');\n",
       "    titlebar.append(titletext)\n",
       "    this.root.append(titlebar);\n",
       "    this.header = titletext[0];\n",
       "}\n",
       "\n",
       "\n",
       "\n",
       "mpl.figure.prototype._canvas_extra_style = function(canvas_div) {\n",
       "\n",
       "}\n",
       "\n",
       "\n",
       "mpl.figure.prototype._root_extra_style = function(canvas_div) {\n",
       "\n",
       "}\n",
       "\n",
       "mpl.figure.prototype._init_canvas = function() {\n",
       "    var fig = this;\n",
       "\n",
       "    var canvas_div = $('<div/>');\n",
       "\n",
       "    canvas_div.attr('style', 'position: relative; clear: both; outline: 0');\n",
       "\n",
       "    function canvas_keyboard_event(event) {\n",
       "        return fig.key_event(event, event['data']);\n",
       "    }\n",
       "\n",
       "    canvas_div.keydown('key_press', canvas_keyboard_event);\n",
       "    canvas_div.keyup('key_release', canvas_keyboard_event);\n",
       "    this.canvas_div = canvas_div\n",
       "    this._canvas_extra_style(canvas_div)\n",
       "    this.root.append(canvas_div);\n",
       "\n",
       "    var canvas = $('<canvas/>');\n",
       "    canvas.addClass('mpl-canvas');\n",
       "    canvas.attr('style', \"left: 0; top: 0; z-index: 0; outline: 0\")\n",
       "\n",
       "    this.canvas = canvas[0];\n",
       "    this.context = canvas[0].getContext(\"2d\");\n",
       "\n",
       "    var backingStore = this.context.backingStorePixelRatio ||\n",
       "\tthis.context.webkitBackingStorePixelRatio ||\n",
       "\tthis.context.mozBackingStorePixelRatio ||\n",
       "\tthis.context.msBackingStorePixelRatio ||\n",
       "\tthis.context.oBackingStorePixelRatio ||\n",
       "\tthis.context.backingStorePixelRatio || 1;\n",
       "\n",
       "    mpl.ratio = (window.devicePixelRatio || 1) / backingStore;\n",
       "\n",
       "    var rubberband = $('<canvas/>');\n",
       "    rubberband.attr('style', \"position: absolute; left: 0; top: 0; z-index: 1;\")\n",
       "\n",
       "    var pass_mouse_events = true;\n",
       "\n",
       "    canvas_div.resizable({\n",
       "        start: function(event, ui) {\n",
       "            pass_mouse_events = false;\n",
       "        },\n",
       "        resize: function(event, ui) {\n",
       "            fig.request_resize(ui.size.width, ui.size.height);\n",
       "        },\n",
       "        stop: function(event, ui) {\n",
       "            pass_mouse_events = true;\n",
       "            fig.request_resize(ui.size.width, ui.size.height);\n",
       "        },\n",
       "    });\n",
       "\n",
       "    function mouse_event_fn(event) {\n",
       "        if (pass_mouse_events)\n",
       "            return fig.mouse_event(event, event['data']);\n",
       "    }\n",
       "\n",
       "    rubberband.mousedown('button_press', mouse_event_fn);\n",
       "    rubberband.mouseup('button_release', mouse_event_fn);\n",
       "    // Throttle sequential mouse events to 1 every 20ms.\n",
       "    rubberband.mousemove('motion_notify', mouse_event_fn);\n",
       "\n",
       "    rubberband.mouseenter('figure_enter', mouse_event_fn);\n",
       "    rubberband.mouseleave('figure_leave', mouse_event_fn);\n",
       "\n",
       "    canvas_div.on(\"wheel\", function (event) {\n",
       "        event = event.originalEvent;\n",
       "        event['data'] = 'scroll'\n",
       "        if (event.deltaY < 0) {\n",
       "            event.step = 1;\n",
       "        } else {\n",
       "            event.step = -1;\n",
       "        }\n",
       "        mouse_event_fn(event);\n",
       "    });\n",
       "\n",
       "    canvas_div.append(canvas);\n",
       "    canvas_div.append(rubberband);\n",
       "\n",
       "    this.rubberband = rubberband;\n",
       "    this.rubberband_canvas = rubberband[0];\n",
       "    this.rubberband_context = rubberband[0].getContext(\"2d\");\n",
       "    this.rubberband_context.strokeStyle = \"#000000\";\n",
       "\n",
       "    this._resize_canvas = function(width, height) {\n",
       "        // Keep the size of the canvas, canvas container, and rubber band\n",
       "        // canvas in synch.\n",
       "        canvas_div.css('width', width)\n",
       "        canvas_div.css('height', height)\n",
       "\n",
       "        canvas.attr('width', width * mpl.ratio);\n",
       "        canvas.attr('height', height * mpl.ratio);\n",
       "        canvas.attr('style', 'width: ' + width + 'px; height: ' + height + 'px;');\n",
       "\n",
       "        rubberband.attr('width', width);\n",
       "        rubberband.attr('height', height);\n",
       "    }\n",
       "\n",
       "    // Set the figure to an initial 600x600px, this will subsequently be updated\n",
       "    // upon first draw.\n",
       "    this._resize_canvas(600, 600);\n",
       "\n",
       "    // Disable right mouse context menu.\n",
       "    $(this.rubberband_canvas).bind(\"contextmenu\",function(e){\n",
       "        return false;\n",
       "    });\n",
       "\n",
       "    function set_focus () {\n",
       "        canvas.focus();\n",
       "        canvas_div.focus();\n",
       "    }\n",
       "\n",
       "    window.setTimeout(set_focus, 100);\n",
       "}\n",
       "\n",
       "mpl.figure.prototype._init_toolbar = function() {\n",
       "    var fig = this;\n",
       "\n",
       "    var nav_element = $('<div/>');\n",
       "    nav_element.attr('style', 'width: 100%');\n",
       "    this.root.append(nav_element);\n",
       "\n",
       "    // Define a callback function for later on.\n",
       "    function toolbar_event(event) {\n",
       "        return fig.toolbar_button_onclick(event['data']);\n",
       "    }\n",
       "    function toolbar_mouse_event(event) {\n",
       "        return fig.toolbar_button_onmouseover(event['data']);\n",
       "    }\n",
       "\n",
       "    for(var toolbar_ind in mpl.toolbar_items) {\n",
       "        var name = mpl.toolbar_items[toolbar_ind][0];\n",
       "        var tooltip = mpl.toolbar_items[toolbar_ind][1];\n",
       "        var image = mpl.toolbar_items[toolbar_ind][2];\n",
       "        var method_name = mpl.toolbar_items[toolbar_ind][3];\n",
       "\n",
       "        if (!name) {\n",
       "            // put a spacer in here.\n",
       "            continue;\n",
       "        }\n",
       "        var button = $('<button/>');\n",
       "        button.addClass('ui-button ui-widget ui-state-default ui-corner-all ' +\n",
       "                        'ui-button-icon-only');\n",
       "        button.attr('role', 'button');\n",
       "        button.attr('aria-disabled', 'false');\n",
       "        button.click(method_name, toolbar_event);\n",
       "        button.mouseover(tooltip, toolbar_mouse_event);\n",
       "\n",
       "        var icon_img = $('<span/>');\n",
       "        icon_img.addClass('ui-button-icon-primary ui-icon');\n",
       "        icon_img.addClass(image);\n",
       "        icon_img.addClass('ui-corner-all');\n",
       "\n",
       "        var tooltip_span = $('<span/>');\n",
       "        tooltip_span.addClass('ui-button-text');\n",
       "        tooltip_span.html(tooltip);\n",
       "\n",
       "        button.append(icon_img);\n",
       "        button.append(tooltip_span);\n",
       "\n",
       "        nav_element.append(button);\n",
       "    }\n",
       "\n",
       "    var fmt_picker_span = $('<span/>');\n",
       "\n",
       "    var fmt_picker = $('<select/>');\n",
       "    fmt_picker.addClass('mpl-toolbar-option ui-widget ui-widget-content');\n",
       "    fmt_picker_span.append(fmt_picker);\n",
       "    nav_element.append(fmt_picker_span);\n",
       "    this.format_dropdown = fmt_picker[0];\n",
       "\n",
       "    for (var ind in mpl.extensions) {\n",
       "        var fmt = mpl.extensions[ind];\n",
       "        var option = $(\n",
       "            '<option/>', {selected: fmt === mpl.default_extension}).html(fmt);\n",
       "        fmt_picker.append(option);\n",
       "    }\n",
       "\n",
       "    // Add hover states to the ui-buttons\n",
       "    $( \".ui-button\" ).hover(\n",
       "        function() { $(this).addClass(\"ui-state-hover\");},\n",
       "        function() { $(this).removeClass(\"ui-state-hover\");}\n",
       "    );\n",
       "\n",
       "    var status_bar = $('<span class=\"mpl-message\"/>');\n",
       "    nav_element.append(status_bar);\n",
       "    this.message = status_bar[0];\n",
       "}\n",
       "\n",
       "mpl.figure.prototype.request_resize = function(x_pixels, y_pixels) {\n",
       "    // Request matplotlib to resize the figure. Matplotlib will then trigger a resize in the client,\n",
       "    // which will in turn request a refresh of the image.\n",
       "    this.send_message('resize', {'width': x_pixels, 'height': y_pixels});\n",
       "}\n",
       "\n",
       "mpl.figure.prototype.send_message = function(type, properties) {\n",
       "    properties['type'] = type;\n",
       "    properties['figure_id'] = this.id;\n",
       "    this.ws.send(JSON.stringify(properties));\n",
       "}\n",
       "\n",
       "mpl.figure.prototype.send_draw_message = function() {\n",
       "    if (!this.waiting) {\n",
       "        this.waiting = true;\n",
       "        this.ws.send(JSON.stringify({type: \"draw\", figure_id: this.id}));\n",
       "    }\n",
       "}\n",
       "\n",
       "\n",
       "mpl.figure.prototype.handle_save = function(fig, msg) {\n",
       "    var format_dropdown = fig.format_dropdown;\n",
       "    var format = format_dropdown.options[format_dropdown.selectedIndex].value;\n",
       "    fig.ondownload(fig, format);\n",
       "}\n",
       "\n",
       "\n",
       "mpl.figure.prototype.handle_resize = function(fig, msg) {\n",
       "    var size = msg['size'];\n",
       "    if (size[0] != fig.canvas.width || size[1] != fig.canvas.height) {\n",
       "        fig._resize_canvas(size[0], size[1]);\n",
       "        fig.send_message(\"refresh\", {});\n",
       "    };\n",
       "}\n",
       "\n",
       "mpl.figure.prototype.handle_rubberband = function(fig, msg) {\n",
       "    var x0 = msg['x0'] / mpl.ratio;\n",
       "    var y0 = (fig.canvas.height - msg['y0']) / mpl.ratio;\n",
       "    var x1 = msg['x1'] / mpl.ratio;\n",
       "    var y1 = (fig.canvas.height - msg['y1']) / mpl.ratio;\n",
       "    x0 = Math.floor(x0) + 0.5;\n",
       "    y0 = Math.floor(y0) + 0.5;\n",
       "    x1 = Math.floor(x1) + 0.5;\n",
       "    y1 = Math.floor(y1) + 0.5;\n",
       "    var min_x = Math.min(x0, x1);\n",
       "    var min_y = Math.min(y0, y1);\n",
       "    var width = Math.abs(x1 - x0);\n",
       "    var height = Math.abs(y1 - y0);\n",
       "\n",
       "    fig.rubberband_context.clearRect(\n",
       "        0, 0, fig.canvas.width / mpl.ratio, fig.canvas.height / mpl.ratio);\n",
       "\n",
       "    fig.rubberband_context.strokeRect(min_x, min_y, width, height);\n",
       "}\n",
       "\n",
       "mpl.figure.prototype.handle_figure_label = function(fig, msg) {\n",
       "    // Updates the figure title.\n",
       "    fig.header.textContent = msg['label'];\n",
       "}\n",
       "\n",
       "mpl.figure.prototype.handle_cursor = function(fig, msg) {\n",
       "    var cursor = msg['cursor'];\n",
       "    switch(cursor)\n",
       "    {\n",
       "    case 0:\n",
       "        cursor = 'pointer';\n",
       "        break;\n",
       "    case 1:\n",
       "        cursor = 'default';\n",
       "        break;\n",
       "    case 2:\n",
       "        cursor = 'crosshair';\n",
       "        break;\n",
       "    case 3:\n",
       "        cursor = 'move';\n",
       "        break;\n",
       "    }\n",
       "    fig.rubberband_canvas.style.cursor = cursor;\n",
       "}\n",
       "\n",
       "mpl.figure.prototype.handle_message = function(fig, msg) {\n",
       "    fig.message.textContent = msg['message'];\n",
       "}\n",
       "\n",
       "mpl.figure.prototype.handle_draw = function(fig, msg) {\n",
       "    // Request the server to send over a new figure.\n",
       "    fig.send_draw_message();\n",
       "}\n",
       "\n",
       "mpl.figure.prototype.handle_image_mode = function(fig, msg) {\n",
       "    fig.image_mode = msg['mode'];\n",
       "}\n",
       "\n",
       "mpl.figure.prototype.updated_canvas_event = function() {\n",
       "    // Called whenever the canvas gets updated.\n",
       "    this.send_message(\"ack\", {});\n",
       "}\n",
       "\n",
       "// A function to construct a web socket function for onmessage handling.\n",
       "// Called in the figure constructor.\n",
       "mpl.figure.prototype._make_on_message_function = function(fig) {\n",
       "    return function socket_on_message(evt) {\n",
       "        if (evt.data instanceof Blob) {\n",
       "            /* FIXME: We get \"Resource interpreted as Image but\n",
       "             * transferred with MIME type text/plain:\" errors on\n",
       "             * Chrome.  But how to set the MIME type?  It doesn't seem\n",
       "             * to be part of the websocket stream */\n",
       "            evt.data.type = \"image/png\";\n",
       "\n",
       "            /* Free the memory for the previous frames */\n",
       "            if (fig.imageObj.src) {\n",
       "                (window.URL || window.webkitURL).revokeObjectURL(\n",
       "                    fig.imageObj.src);\n",
       "            }\n",
       "\n",
       "            fig.imageObj.src = (window.URL || window.webkitURL).createObjectURL(\n",
       "                evt.data);\n",
       "            fig.updated_canvas_event();\n",
       "            fig.waiting = false;\n",
       "            return;\n",
       "        }\n",
       "        else if (typeof evt.data === 'string' && evt.data.slice(0, 21) == \"data:image/png;base64\") {\n",
       "            fig.imageObj.src = evt.data;\n",
       "            fig.updated_canvas_event();\n",
       "            fig.waiting = false;\n",
       "            return;\n",
       "        }\n",
       "\n",
       "        var msg = JSON.parse(evt.data);\n",
       "        var msg_type = msg['type'];\n",
       "\n",
       "        // Call the  \"handle_{type}\" callback, which takes\n",
       "        // the figure and JSON message as its only arguments.\n",
       "        try {\n",
       "            var callback = fig[\"handle_\" + msg_type];\n",
       "        } catch (e) {\n",
       "            console.log(\"No handler for the '\" + msg_type + \"' message type: \", msg);\n",
       "            return;\n",
       "        }\n",
       "\n",
       "        if (callback) {\n",
       "            try {\n",
       "                // console.log(\"Handling '\" + msg_type + \"' message: \", msg);\n",
       "                callback(fig, msg);\n",
       "            } catch (e) {\n",
       "                console.log(\"Exception inside the 'handler_\" + msg_type + \"' callback:\", e, e.stack, msg);\n",
       "            }\n",
       "        }\n",
       "    };\n",
       "}\n",
       "\n",
       "// from http://stackoverflow.com/questions/1114465/getting-mouse-location-in-canvas\n",
       "mpl.findpos = function(e) {\n",
       "    //this section is from http://www.quirksmode.org/js/events_properties.html\n",
       "    var targ;\n",
       "    if (!e)\n",
       "        e = window.event;\n",
       "    if (e.target)\n",
       "        targ = e.target;\n",
       "    else if (e.srcElement)\n",
       "        targ = e.srcElement;\n",
       "    if (targ.nodeType == 3) // defeat Safari bug\n",
       "        targ = targ.parentNode;\n",
       "\n",
       "    // jQuery normalizes the pageX and pageY\n",
       "    // pageX,Y are the mouse positions relative to the document\n",
       "    // offset() returns the position of the element relative to the document\n",
       "    var x = e.pageX - $(targ).offset().left;\n",
       "    var y = e.pageY - $(targ).offset().top;\n",
       "\n",
       "    return {\"x\": x, \"y\": y};\n",
       "};\n",
       "\n",
       "/*\n",
       " * return a copy of an object with only non-object keys\n",
       " * we need this to avoid circular references\n",
       " * http://stackoverflow.com/a/24161582/3208463\n",
       " */\n",
       "function simpleKeys (original) {\n",
       "  return Object.keys(original).reduce(function (obj, key) {\n",
       "    if (typeof original[key] !== 'object')\n",
       "        obj[key] = original[key]\n",
       "    return obj;\n",
       "  }, {});\n",
       "}\n",
       "\n",
       "mpl.figure.prototype.mouse_event = function(event, name) {\n",
       "    var canvas_pos = mpl.findpos(event)\n",
       "\n",
       "    if (name === 'button_press')\n",
       "    {\n",
       "        this.canvas.focus();\n",
       "        this.canvas_div.focus();\n",
       "    }\n",
       "\n",
       "    var x = canvas_pos.x * mpl.ratio;\n",
       "    var y = canvas_pos.y * mpl.ratio;\n",
       "\n",
       "    this.send_message(name, {x: x, y: y, button: event.button,\n",
       "                             step: event.step,\n",
       "                             guiEvent: simpleKeys(event)});\n",
       "\n",
       "    /* This prevents the web browser from automatically changing to\n",
       "     * the text insertion cursor when the button is pressed.  We want\n",
       "     * to control all of the cursor setting manually through the\n",
       "     * 'cursor' event from matplotlib */\n",
       "    event.preventDefault();\n",
       "    return false;\n",
       "}\n",
       "\n",
       "mpl.figure.prototype._key_event_extra = function(event, name) {\n",
       "    // Handle any extra behaviour associated with a key event\n",
       "}\n",
       "\n",
       "mpl.figure.prototype.key_event = function(event, name) {\n",
       "\n",
       "    // Prevent repeat events\n",
       "    if (name == 'key_press')\n",
       "    {\n",
       "        if (event.which === this._key)\n",
       "            return;\n",
       "        else\n",
       "            this._key = event.which;\n",
       "    }\n",
       "    if (name == 'key_release')\n",
       "        this._key = null;\n",
       "\n",
       "    var value = '';\n",
       "    if (event.ctrlKey && event.which != 17)\n",
       "        value += \"ctrl+\";\n",
       "    if (event.altKey && event.which != 18)\n",
       "        value += \"alt+\";\n",
       "    if (event.shiftKey && event.which != 16)\n",
       "        value += \"shift+\";\n",
       "\n",
       "    value += 'k';\n",
       "    value += event.which.toString();\n",
       "\n",
       "    this._key_event_extra(event, name);\n",
       "\n",
       "    this.send_message(name, {key: value,\n",
       "                             guiEvent: simpleKeys(event)});\n",
       "    return false;\n",
       "}\n",
       "\n",
       "mpl.figure.prototype.toolbar_button_onclick = function(name) {\n",
       "    if (name == 'download') {\n",
       "        this.handle_save(this, null);\n",
       "    } else {\n",
       "        this.send_message(\"toolbar_button\", {name: name});\n",
       "    }\n",
       "};\n",
       "\n",
       "mpl.figure.prototype.toolbar_button_onmouseover = function(tooltip) {\n",
       "    this.message.textContent = tooltip;\n",
       "};\n",
       "mpl.toolbar_items = [[\"Home\", \"Reset original view\", \"fa fa-home icon-home\", \"home\"], [\"Back\", \"Back to previous view\", \"fa fa-arrow-left icon-arrow-left\", \"back\"], [\"Forward\", \"Forward to next view\", \"fa fa-arrow-right icon-arrow-right\", \"forward\"], [\"\", \"\", \"\", \"\"], [\"Pan\", \"Pan axes with left mouse, zoom with right\", \"fa fa-arrows icon-move\", \"pan\"], [\"Zoom\", \"Zoom to rectangle\", \"fa fa-square-o icon-check-empty\", \"zoom\"], [\"\", \"\", \"\", \"\"], [\"Download\", \"Download plot\", \"fa fa-floppy-o icon-save\", \"download\"]];\n",
       "\n",
       "mpl.extensions = [\"eps\", \"pdf\", \"png\", \"ps\", \"raw\", \"svg\"];\n",
       "\n",
       "mpl.default_extension = \"png\";var comm_websocket_adapter = function(comm) {\n",
       "    // Create a \"websocket\"-like object which calls the given IPython comm\n",
       "    // object with the appropriate methods. Currently this is a non binary\n",
       "    // socket, so there is still some room for performance tuning.\n",
       "    var ws = {};\n",
       "\n",
       "    ws.close = function() {\n",
       "        comm.close()\n",
       "    };\n",
       "    ws.send = function(m) {\n",
       "        //console.log('sending', m);\n",
       "        comm.send(m);\n",
       "    };\n",
       "    // Register the callback with on_msg.\n",
       "    comm.on_msg(function(msg) {\n",
       "        //console.log('receiving', msg['content']['data'], msg);\n",
       "        // Pass the mpl event to the overridden (by mpl) onmessage function.\n",
       "        ws.onmessage(msg['content']['data'])\n",
       "    });\n",
       "    return ws;\n",
       "}\n",
       "\n",
       "mpl.mpl_figure_comm = function(comm, msg) {\n",
       "    // This is the function which gets called when the mpl process\n",
       "    // starts-up an IPython Comm through the \"matplotlib\" channel.\n",
       "\n",
       "    var id = msg.content.data.id;\n",
       "    // Get hold of the div created by the display call when the Comm\n",
       "    // socket was opened in Python.\n",
       "    var element = $(\"#\" + id);\n",
       "    var ws_proxy = comm_websocket_adapter(comm)\n",
       "\n",
       "    function ondownload(figure, format) {\n",
       "        window.open(figure.imageObj.src);\n",
       "    }\n",
       "\n",
       "    var fig = new mpl.figure(id, ws_proxy,\n",
       "                           ondownload,\n",
       "                           element.get(0));\n",
       "\n",
       "    // Call onopen now - mpl needs it, as it is assuming we've passed it a real\n",
       "    // web socket which is closed, not our websocket->open comm proxy.\n",
       "    ws_proxy.onopen();\n",
       "\n",
       "    fig.parent_element = element.get(0);\n",
       "    fig.cell_info = mpl.find_output_cell(\"<div id='\" + id + \"'></div>\");\n",
       "    if (!fig.cell_info) {\n",
       "        console.error(\"Failed to find cell for figure\", id, fig);\n",
       "        return;\n",
       "    }\n",
       "\n",
       "    var output_index = fig.cell_info[2]\n",
       "    var cell = fig.cell_info[0];\n",
       "\n",
       "};\n",
       "\n",
       "mpl.figure.prototype.handle_close = function(fig, msg) {\n",
       "    var width = fig.canvas.width/mpl.ratio\n",
       "    fig.root.unbind('remove')\n",
       "\n",
       "    // Update the output cell to use the data from the current canvas.\n",
       "    fig.push_to_output();\n",
       "    var dataURL = fig.canvas.toDataURL();\n",
       "    // Re-enable the keyboard manager in IPython - without this line, in FF,\n",
       "    // the notebook keyboard shortcuts fail.\n",
       "    IPython.keyboard_manager.enable()\n",
       "    $(fig.parent_element).html('<img src=\"' + dataURL + '\" width=\"' + width + '\">');\n",
       "    fig.close_ws(fig, msg);\n",
       "}\n",
       "\n",
       "mpl.figure.prototype.close_ws = function(fig, msg){\n",
       "    fig.send_message('closing', msg);\n",
       "    // fig.ws.close()\n",
       "}\n",
       "\n",
       "mpl.figure.prototype.push_to_output = function(remove_interactive) {\n",
       "    // Turn the data on the canvas into data in the output cell.\n",
       "    var width = this.canvas.width/mpl.ratio\n",
       "    var dataURL = this.canvas.toDataURL();\n",
       "    this.cell_info[1]['text/html'] = '<img src=\"' + dataURL + '\" width=\"' + width + '\">';\n",
       "}\n",
       "\n",
       "mpl.figure.prototype.updated_canvas_event = function() {\n",
       "    // Tell IPython that the notebook contents must change.\n",
       "    IPython.notebook.set_dirty(true);\n",
       "    this.send_message(\"ack\", {});\n",
       "    var fig = this;\n",
       "    // Wait a second, then push the new image to the DOM so\n",
       "    // that it is saved nicely (might be nice to debounce this).\n",
       "    setTimeout(function () { fig.push_to_output() }, 1000);\n",
       "}\n",
       "\n",
       "mpl.figure.prototype._init_toolbar = function() {\n",
       "    var fig = this;\n",
       "\n",
       "    var nav_element = $('<div/>');\n",
       "    nav_element.attr('style', 'width: 100%');\n",
       "    this.root.append(nav_element);\n",
       "\n",
       "    // Define a callback function for later on.\n",
       "    function toolbar_event(event) {\n",
       "        return fig.toolbar_button_onclick(event['data']);\n",
       "    }\n",
       "    function toolbar_mouse_event(event) {\n",
       "        return fig.toolbar_button_onmouseover(event['data']);\n",
       "    }\n",
       "\n",
       "    for(var toolbar_ind in mpl.toolbar_items){\n",
       "        var name = mpl.toolbar_items[toolbar_ind][0];\n",
       "        var tooltip = mpl.toolbar_items[toolbar_ind][1];\n",
       "        var image = mpl.toolbar_items[toolbar_ind][2];\n",
       "        var method_name = mpl.toolbar_items[toolbar_ind][3];\n",
       "\n",
       "        if (!name) { continue; };\n",
       "\n",
       "        var button = $('<button class=\"btn btn-default\" href=\"#\" title=\"' + name + '\"><i class=\"fa ' + image + ' fa-lg\"></i></button>');\n",
       "        button.click(method_name, toolbar_event);\n",
       "        button.mouseover(tooltip, toolbar_mouse_event);\n",
       "        nav_element.append(button);\n",
       "    }\n",
       "\n",
       "    // Add the status bar.\n",
       "    var status_bar = $('<span class=\"mpl-message\" style=\"text-align:right; float: right;\"/>');\n",
       "    nav_element.append(status_bar);\n",
       "    this.message = status_bar[0];\n",
       "\n",
       "    // Add the close button to the window.\n",
       "    var buttongrp = $('<div class=\"btn-group inline pull-right\"></div>');\n",
       "    var button = $('<button class=\"btn btn-mini btn-primary\" href=\"#\" title=\"Stop Interaction\"><i class=\"fa fa-power-off icon-remove icon-large\"></i></button>');\n",
       "    button.click(function (evt) { fig.handle_close(fig, {}); } );\n",
       "    button.mouseover('Stop Interaction', toolbar_mouse_event);\n",
       "    buttongrp.append(button);\n",
       "    var titlebar = this.root.find($('.ui-dialog-titlebar'));\n",
       "    titlebar.prepend(buttongrp);\n",
       "}\n",
       "\n",
       "mpl.figure.prototype._root_extra_style = function(el){\n",
       "    var fig = this\n",
       "    el.on(\"remove\", function(){\n",
       "\tfig.close_ws(fig, {});\n",
       "    });\n",
       "}\n",
       "\n",
       "mpl.figure.prototype._canvas_extra_style = function(el){\n",
       "    // this is important to make the div 'focusable\n",
       "    el.attr('tabindex', 0)\n",
       "    // reach out to IPython and tell the keyboard manager to turn it's self\n",
       "    // off when our div gets focus\n",
       "\n",
       "    // location in version 3\n",
       "    if (IPython.notebook.keyboard_manager) {\n",
       "        IPython.notebook.keyboard_manager.register_events(el);\n",
       "    }\n",
       "    else {\n",
       "        // location in version 2\n",
       "        IPython.keyboard_manager.register_events(el);\n",
       "    }\n",
       "\n",
       "}\n",
       "\n",
       "mpl.figure.prototype._key_event_extra = function(event, name) {\n",
       "    var manager = IPython.notebook.keyboard_manager;\n",
       "    if (!manager)\n",
       "        manager = IPython.keyboard_manager;\n",
       "\n",
       "    // Check for shift+enter\n",
       "    if (event.shiftKey && event.which == 13) {\n",
       "        this.canvas_div.blur();\n",
       "        // select the cell after this one\n",
       "        var index = IPython.notebook.find_cell_index(this.cell_info[0]);\n",
       "        IPython.notebook.select(index + 1);\n",
       "    }\n",
       "}\n",
       "\n",
       "mpl.figure.prototype.handle_save = function(fig, msg) {\n",
       "    fig.ondownload(fig, null);\n",
       "}\n",
       "\n",
       "\n",
       "mpl.find_output_cell = function(html_output) {\n",
       "    // Return the cell and output element which can be found *uniquely* in the notebook.\n",
       "    // Note - this is a bit hacky, but it is done because the \"notebook_saving.Notebook\"\n",
       "    // IPython event is triggered only after the cells have been serialised, which for\n",
       "    // our purposes (turning an active figure into a static one), is too late.\n",
       "    var cells = IPython.notebook.get_cells();\n",
       "    var ncells = cells.length;\n",
       "    for (var i=0; i<ncells; i++) {\n",
       "        var cell = cells[i];\n",
       "        if (cell.cell_type === 'code'){\n",
       "            for (var j=0; j<cell.output_area.outputs.length; j++) {\n",
       "                var data = cell.output_area.outputs[j];\n",
       "                if (data.data) {\n",
       "                    // IPython >= 3 moved mimebundle to data attribute of output\n",
       "                    data = data.data;\n",
       "                }\n",
       "                if (data['text/html'] == html_output) {\n",
       "                    return [cell, data, j];\n",
       "                }\n",
       "            }\n",
       "        }\n",
       "    }\n",
       "}\n",
       "\n",
       "// Register the function which deals with the matplotlib target/channel.\n",
       "// The kernel may be null if the page has been refreshed.\n",
       "if (IPython.notebook.kernel != null) {\n",
       "    IPython.notebook.kernel.comm_manager.register_target('matplotlib', mpl.mpl_figure_comm);\n",
       "}\n"
      ],
      "text/plain": [
       "<IPython.core.display.Javascript object>"
      ]
     },
     "metadata": {},
     "output_type": "display_data"
    },
    {
     "data": {
      "text/html": [
       "<img src=\"data:image/png;base64,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\" width=\"400\">"
      ],
      "text/plain": [
       "<IPython.core.display.HTML object>"
      ]
     },
     "metadata": {},
     "output_type": "display_data"
    }
   ],
   "source": [
    "fig, ax = plt.subplots(figsize=(4, 3))\n",
    "ax.hist(abs(nd_H_0_ao - H_1_ao).ravel(), bins=np.logspace(np.log10(1e-12),np.log10(1e-2), 50), alpha=0.5)\n",
    "ax.hist(abs(nd_H_0_ao).ravel(), bins=np.logspace(np.log10(1e-12),np.log10(1e-2), 50), alpha=0.5)\n",
    "ax.set_xscale(\"log\")\n",
    "fig.tight_layout()"
   ]
  },
  {
   "cell_type": "markdown",
   "metadata": {},
   "source": [
    "这表明，我们计算所得到的解析梯度 `H_1_ao` $h_{\\mu \\nu}^t$ 确实地与数值梯度非常接近 `nd_H_0_ao`。\n",
    "\n",
    "我们以后对于每一个可以求数值梯度验证的量，都会进行上述图像的绘制。尽管在当前的例子中，解析矩阵与数值矩阵的差距非常小，以至于在 `np.allclose` 函数下这两个矩阵也会被认为是近似相等的："
   ]
  },
  {
   "cell_type": "code",
   "execution_count": 15,
   "metadata": {},
   "outputs": [
    {
     "data": {
      "text/plain": [
       "True"
      ]
     },
     "execution_count": 15,
     "metadata": {},
     "output_type": "execute_result"
    }
   ],
   "source": [
    "np.allclose(H_1_ao, nd_H_0_ao)"
   ]
  },
  {
   "cell_type": "markdown",
   "metadata": {},
   "source": [
    "但在以后更为广泛的情况中，解析与数值矩阵未必能通过 `np.allclose` 的判断；因此需要绘制上述图像来确认。一般来说，只要蓝色条 (解析与数值矩阵之差) 绝大部分元素小于 $10^{-6}$、且与橙色条 (数值矩阵) 能明显区分，一般就可以了；因为矩阵最后都需要经过运算才能得到最终的偶极矩或分子力，在计算的过程中这些误差多少会被消除。"
   ]
  },
  {
   "cell_type": "markdown",
   "metadata": {},
   "source": [
    "### 分子轨道的 Skeleton 导数"
   ]
  },
  {
   "cell_type": "markdown",
   "metadata": {},
   "source": [
    "我们已经介绍了原子轨道下的 Skeleton 导数；分子轨道的 Skeleton 导数可以用下式简单地给出：\n",
    "\n",
    "$$\n",
    "h_{pq}^t = C_{\\mu p} h_{\\mu \\nu}^t C_{\\nu q}\n",
    "$$"
   ]
  },
  {
   "cell_type": "code",
   "execution_count": 16,
   "metadata": {},
   "outputs": [
    {
     "data": {
      "text/plain": [
       "(3, 22, 22)"
      ]
     },
     "execution_count": 16,
     "metadata": {},
     "output_type": "execute_result"
    }
   ],
   "source": [
    "H_1_mo = np.einsum(\"up, tuv, vq -> tpq\", C, H_1_ao, C)\n",
    "H_1_mo.shape"
   ]
  },
  {
   "cell_type": "markdown",
   "metadata": {},
   "source": [
    "可以验证在 `DipoleSCF` 中实现的 `H_1_mo` property 与上述输出是相同的："
   ]
  },
  {
   "cell_type": "code",
   "execution_count": 17,
   "metadata": {},
   "outputs": [
    {
     "data": {
      "text/plain": [
       "True"
      ]
     },
     "execution_count": 17,
     "metadata": {},
     "output_type": "execute_result"
    }
   ],
   "source": [
    "np.allclose(H_1_mo, diph.H_1_mo)"
   ]
  },
  {
   "cell_type": "markdown",
   "metadata": {},
   "source": [
    "但是，就如上一篇文档所言，\n",
    "\n",
    "$$\n",
    "\\frac{\\partial h_{pq}}{\\partial F_t} \\neq h_{pq}^t\n",
    "$$"
   ]
  },
  {
   "cell_type": "markdown",
   "metadata": {},
   "source": [
    "我们不妨先生成数值导数 `deriv_H_0_mo` $\\frac{\\partial h_{pq}}{\\partial F_t}$："
   ]
  },
  {
   "cell_type": "code",
   "execution_count": 18,
   "metadata": {},
   "outputs": [
    {
     "data": {
      "text/plain": [
       "(3, 22, 22)"
      ]
     },
     "execution_count": 18,
     "metadata": {},
     "output_type": "execute_result"
    }
   ],
   "source": [
    "nd_H_0_mo = NumericDiff(dipn, lambda diph: diph.H_0_mo).derivative\n",
    "nd_H_0_mo.shape"
   ]
  },
  {
   "cell_type": "markdown",
   "metadata": {},
   "source": [
    "我们尝试绘制 `deriv_H_0_mo` $\\frac{\\partial h_{pq}}{\\partial F_t}$ 与 `H_1_mo` 的差距 $h_{pq}^t$："
   ]
  },
  {
   "cell_type": "code",
   "execution_count": 19,
   "metadata": {},
   "outputs": [
    {
     "data": {
      "application/javascript": [
       "/* Put everything inside the global mpl namespace */\n",
       "window.mpl = {};\n",
       "\n",
       "\n",
       "mpl.get_websocket_type = function() {\n",
       "    if (typeof(WebSocket) !== 'undefined') {\n",
       "        return WebSocket;\n",
       "    } else if (typeof(MozWebSocket) !== 'undefined') {\n",
       "        return MozWebSocket;\n",
       "    } else {\n",
       "        alert('Your browser does not have WebSocket support. ' +\n",
       "              'Please try Chrome, Safari or Firefox ≥ 6. ' +\n",
       "              'Firefox 4 and 5 are also supported but you ' +\n",
       "              'have to enable WebSockets in about:config.');\n",
       "    };\n",
       "}\n",
       "\n",
       "mpl.figure = function(figure_id, websocket, ondownload, parent_element) {\n",
       "    this.id = figure_id;\n",
       "\n",
       "    this.ws = websocket;\n",
       "\n",
       "    this.supports_binary = (this.ws.binaryType != undefined);\n",
       "\n",
       "    if (!this.supports_binary) {\n",
       "        var warnings = document.getElementById(\"mpl-warnings\");\n",
       "        if (warnings) {\n",
       "            warnings.style.display = 'block';\n",
       "            warnings.textContent = (\n",
       "                \"This browser does not support binary websocket messages. \" +\n",
       "                    \"Performance may be slow.\");\n",
       "        }\n",
       "    }\n",
       "\n",
       "    this.imageObj = new Image();\n",
       "\n",
       "    this.context = undefined;\n",
       "    this.message = undefined;\n",
       "    this.canvas = undefined;\n",
       "    this.rubberband_canvas = undefined;\n",
       "    this.rubberband_context = undefined;\n",
       "    this.format_dropdown = undefined;\n",
       "\n",
       "    this.image_mode = 'full';\n",
       "\n",
       "    this.root = $('<div/>');\n",
       "    this._root_extra_style(this.root)\n",
       "    this.root.attr('style', 'display: inline-block');\n",
       "\n",
       "    $(parent_element).append(this.root);\n",
       "\n",
       "    this._init_header(this);\n",
       "    this._init_canvas(this);\n",
       "    this._init_toolbar(this);\n",
       "\n",
       "    var fig = this;\n",
       "\n",
       "    this.waiting = false;\n",
       "\n",
       "    this.ws.onopen =  function () {\n",
       "            fig.send_message(\"supports_binary\", {value: fig.supports_binary});\n",
       "            fig.send_message(\"send_image_mode\", {});\n",
       "            if (mpl.ratio != 1) {\n",
       "                fig.send_message(\"set_dpi_ratio\", {'dpi_ratio': mpl.ratio});\n",
       "            }\n",
       "            fig.send_message(\"refresh\", {});\n",
       "        }\n",
       "\n",
       "    this.imageObj.onload = function() {\n",
       "            if (fig.image_mode == 'full') {\n",
       "                // Full images could contain transparency (where diff images\n",
       "                // almost always do), so we need to clear the canvas so that\n",
       "                // there is no ghosting.\n",
       "                fig.context.clearRect(0, 0, fig.canvas.width, fig.canvas.height);\n",
       "            }\n",
       "            fig.context.drawImage(fig.imageObj, 0, 0);\n",
       "        };\n",
       "\n",
       "    this.imageObj.onunload = function() {\n",
       "        fig.ws.close();\n",
       "    }\n",
       "\n",
       "    this.ws.onmessage = this._make_on_message_function(this);\n",
       "\n",
       "    this.ondownload = ondownload;\n",
       "}\n",
       "\n",
       "mpl.figure.prototype._init_header = function() {\n",
       "    var titlebar = $(\n",
       "        '<div class=\"ui-dialog-titlebar ui-widget-header ui-corner-all ' +\n",
       "        'ui-helper-clearfix\"/>');\n",
       "    var titletext = $(\n",
       "        '<div class=\"ui-dialog-title\" style=\"width: 100%; ' +\n",
       "        'text-align: center; padding: 3px;\"/>');\n",
       "    titlebar.append(titletext)\n",
       "    this.root.append(titlebar);\n",
       "    this.header = titletext[0];\n",
       "}\n",
       "\n",
       "\n",
       "\n",
       "mpl.figure.prototype._canvas_extra_style = function(canvas_div) {\n",
       "\n",
       "}\n",
       "\n",
       "\n",
       "mpl.figure.prototype._root_extra_style = function(canvas_div) {\n",
       "\n",
       "}\n",
       "\n",
       "mpl.figure.prototype._init_canvas = function() {\n",
       "    var fig = this;\n",
       "\n",
       "    var canvas_div = $('<div/>');\n",
       "\n",
       "    canvas_div.attr('style', 'position: relative; clear: both; outline: 0');\n",
       "\n",
       "    function canvas_keyboard_event(event) {\n",
       "        return fig.key_event(event, event['data']);\n",
       "    }\n",
       "\n",
       "    canvas_div.keydown('key_press', canvas_keyboard_event);\n",
       "    canvas_div.keyup('key_release', canvas_keyboard_event);\n",
       "    this.canvas_div = canvas_div\n",
       "    this._canvas_extra_style(canvas_div)\n",
       "    this.root.append(canvas_div);\n",
       "\n",
       "    var canvas = $('<canvas/>');\n",
       "    canvas.addClass('mpl-canvas');\n",
       "    canvas.attr('style', \"left: 0; top: 0; z-index: 0; outline: 0\")\n",
       "\n",
       "    this.canvas = canvas[0];\n",
       "    this.context = canvas[0].getContext(\"2d\");\n",
       "\n",
       "    var backingStore = this.context.backingStorePixelRatio ||\n",
       "\tthis.context.webkitBackingStorePixelRatio ||\n",
       "\tthis.context.mozBackingStorePixelRatio ||\n",
       "\tthis.context.msBackingStorePixelRatio ||\n",
       "\tthis.context.oBackingStorePixelRatio ||\n",
       "\tthis.context.backingStorePixelRatio || 1;\n",
       "\n",
       "    mpl.ratio = (window.devicePixelRatio || 1) / backingStore;\n",
       "\n",
       "    var rubberband = $('<canvas/>');\n",
       "    rubberband.attr('style', \"position: absolute; left: 0; top: 0; z-index: 1;\")\n",
       "\n",
       "    var pass_mouse_events = true;\n",
       "\n",
       "    canvas_div.resizable({\n",
       "        start: function(event, ui) {\n",
       "            pass_mouse_events = false;\n",
       "        },\n",
       "        resize: function(event, ui) {\n",
       "            fig.request_resize(ui.size.width, ui.size.height);\n",
       "        },\n",
       "        stop: function(event, ui) {\n",
       "            pass_mouse_events = true;\n",
       "            fig.request_resize(ui.size.width, ui.size.height);\n",
       "        },\n",
       "    });\n",
       "\n",
       "    function mouse_event_fn(event) {\n",
       "        if (pass_mouse_events)\n",
       "            return fig.mouse_event(event, event['data']);\n",
       "    }\n",
       "\n",
       "    rubberband.mousedown('button_press', mouse_event_fn);\n",
       "    rubberband.mouseup('button_release', mouse_event_fn);\n",
       "    // Throttle sequential mouse events to 1 every 20ms.\n",
       "    rubberband.mousemove('motion_notify', mouse_event_fn);\n",
       "\n",
       "    rubberband.mouseenter('figure_enter', mouse_event_fn);\n",
       "    rubberband.mouseleave('figure_leave', mouse_event_fn);\n",
       "\n",
       "    canvas_div.on(\"wheel\", function (event) {\n",
       "        event = event.originalEvent;\n",
       "        event['data'] = 'scroll'\n",
       "        if (event.deltaY < 0) {\n",
       "            event.step = 1;\n",
       "        } else {\n",
       "            event.step = -1;\n",
       "        }\n",
       "        mouse_event_fn(event);\n",
       "    });\n",
       "\n",
       "    canvas_div.append(canvas);\n",
       "    canvas_div.append(rubberband);\n",
       "\n",
       "    this.rubberband = rubberband;\n",
       "    this.rubberband_canvas = rubberband[0];\n",
       "    this.rubberband_context = rubberband[0].getContext(\"2d\");\n",
       "    this.rubberband_context.strokeStyle = \"#000000\";\n",
       "\n",
       "    this._resize_canvas = function(width, height) {\n",
       "        // Keep the size of the canvas, canvas container, and rubber band\n",
       "        // canvas in synch.\n",
       "        canvas_div.css('width', width)\n",
       "        canvas_div.css('height', height)\n",
       "\n",
       "        canvas.attr('width', width * mpl.ratio);\n",
       "        canvas.attr('height', height * mpl.ratio);\n",
       "        canvas.attr('style', 'width: ' + width + 'px; height: ' + height + 'px;');\n",
       "\n",
       "        rubberband.attr('width', width);\n",
       "        rubberband.attr('height', height);\n",
       "    }\n",
       "\n",
       "    // Set the figure to an initial 600x600px, this will subsequently be updated\n",
       "    // upon first draw.\n",
       "    this._resize_canvas(600, 600);\n",
       "\n",
       "    // Disable right mouse context menu.\n",
       "    $(this.rubberband_canvas).bind(\"contextmenu\",function(e){\n",
       "        return false;\n",
       "    });\n",
       "\n",
       "    function set_focus () {\n",
       "        canvas.focus();\n",
       "        canvas_div.focus();\n",
       "    }\n",
       "\n",
       "    window.setTimeout(set_focus, 100);\n",
       "}\n",
       "\n",
       "mpl.figure.prototype._init_toolbar = function() {\n",
       "    var fig = this;\n",
       "\n",
       "    var nav_element = $('<div/>');\n",
       "    nav_element.attr('style', 'width: 100%');\n",
       "    this.root.append(nav_element);\n",
       "\n",
       "    // Define a callback function for later on.\n",
       "    function toolbar_event(event) {\n",
       "        return fig.toolbar_button_onclick(event['data']);\n",
       "    }\n",
       "    function toolbar_mouse_event(event) {\n",
       "        return fig.toolbar_button_onmouseover(event['data']);\n",
       "    }\n",
       "\n",
       "    for(var toolbar_ind in mpl.toolbar_items) {\n",
       "        var name = mpl.toolbar_items[toolbar_ind][0];\n",
       "        var tooltip = mpl.toolbar_items[toolbar_ind][1];\n",
       "        var image = mpl.toolbar_items[toolbar_ind][2];\n",
       "        var method_name = mpl.toolbar_items[toolbar_ind][3];\n",
       "\n",
       "        if (!name) {\n",
       "            // put a spacer in here.\n",
       "            continue;\n",
       "        }\n",
       "        var button = $('<button/>');\n",
       "        button.addClass('ui-button ui-widget ui-state-default ui-corner-all ' +\n",
       "                        'ui-button-icon-only');\n",
       "        button.attr('role', 'button');\n",
       "        button.attr('aria-disabled', 'false');\n",
       "        button.click(method_name, toolbar_event);\n",
       "        button.mouseover(tooltip, toolbar_mouse_event);\n",
       "\n",
       "        var icon_img = $('<span/>');\n",
       "        icon_img.addClass('ui-button-icon-primary ui-icon');\n",
       "        icon_img.addClass(image);\n",
       "        icon_img.addClass('ui-corner-all');\n",
       "\n",
       "        var tooltip_span = $('<span/>');\n",
       "        tooltip_span.addClass('ui-button-text');\n",
       "        tooltip_span.html(tooltip);\n",
       "\n",
       "        button.append(icon_img);\n",
       "        button.append(tooltip_span);\n",
       "\n",
       "        nav_element.append(button);\n",
       "    }\n",
       "\n",
       "    var fmt_picker_span = $('<span/>');\n",
       "\n",
       "    var fmt_picker = $('<select/>');\n",
       "    fmt_picker.addClass('mpl-toolbar-option ui-widget ui-widget-content');\n",
       "    fmt_picker_span.append(fmt_picker);\n",
       "    nav_element.append(fmt_picker_span);\n",
       "    this.format_dropdown = fmt_picker[0];\n",
       "\n",
       "    for (var ind in mpl.extensions) {\n",
       "        var fmt = mpl.extensions[ind];\n",
       "        var option = $(\n",
       "            '<option/>', {selected: fmt === mpl.default_extension}).html(fmt);\n",
       "        fmt_picker.append(option);\n",
       "    }\n",
       "\n",
       "    // Add hover states to the ui-buttons\n",
       "    $( \".ui-button\" ).hover(\n",
       "        function() { $(this).addClass(\"ui-state-hover\");},\n",
       "        function() { $(this).removeClass(\"ui-state-hover\");}\n",
       "    );\n",
       "\n",
       "    var status_bar = $('<span class=\"mpl-message\"/>');\n",
       "    nav_element.append(status_bar);\n",
       "    this.message = status_bar[0];\n",
       "}\n",
       "\n",
       "mpl.figure.prototype.request_resize = function(x_pixels, y_pixels) {\n",
       "    // Request matplotlib to resize the figure. Matplotlib will then trigger a resize in the client,\n",
       "    // which will in turn request a refresh of the image.\n",
       "    this.send_message('resize', {'width': x_pixels, 'height': y_pixels});\n",
       "}\n",
       "\n",
       "mpl.figure.prototype.send_message = function(type, properties) {\n",
       "    properties['type'] = type;\n",
       "    properties['figure_id'] = this.id;\n",
       "    this.ws.send(JSON.stringify(properties));\n",
       "}\n",
       "\n",
       "mpl.figure.prototype.send_draw_message = function() {\n",
       "    if (!this.waiting) {\n",
       "        this.waiting = true;\n",
       "        this.ws.send(JSON.stringify({type: \"draw\", figure_id: this.id}));\n",
       "    }\n",
       "}\n",
       "\n",
       "\n",
       "mpl.figure.prototype.handle_save = function(fig, msg) {\n",
       "    var format_dropdown = fig.format_dropdown;\n",
       "    var format = format_dropdown.options[format_dropdown.selectedIndex].value;\n",
       "    fig.ondownload(fig, format);\n",
       "}\n",
       "\n",
       "\n",
       "mpl.figure.prototype.handle_resize = function(fig, msg) {\n",
       "    var size = msg['size'];\n",
       "    if (size[0] != fig.canvas.width || size[1] != fig.canvas.height) {\n",
       "        fig._resize_canvas(size[0], size[1]);\n",
       "        fig.send_message(\"refresh\", {});\n",
       "    };\n",
       "}\n",
       "\n",
       "mpl.figure.prototype.handle_rubberband = function(fig, msg) {\n",
       "    var x0 = msg['x0'] / mpl.ratio;\n",
       "    var y0 = (fig.canvas.height - msg['y0']) / mpl.ratio;\n",
       "    var x1 = msg['x1'] / mpl.ratio;\n",
       "    var y1 = (fig.canvas.height - msg['y1']) / mpl.ratio;\n",
       "    x0 = Math.floor(x0) + 0.5;\n",
       "    y0 = Math.floor(y0) + 0.5;\n",
       "    x1 = Math.floor(x1) + 0.5;\n",
       "    y1 = Math.floor(y1) + 0.5;\n",
       "    var min_x = Math.min(x0, x1);\n",
       "    var min_y = Math.min(y0, y1);\n",
       "    var width = Math.abs(x1 - x0);\n",
       "    var height = Math.abs(y1 - y0);\n",
       "\n",
       "    fig.rubberband_context.clearRect(\n",
       "        0, 0, fig.canvas.width / mpl.ratio, fig.canvas.height / mpl.ratio);\n",
       "\n",
       "    fig.rubberband_context.strokeRect(min_x, min_y, width, height);\n",
       "}\n",
       "\n",
       "mpl.figure.prototype.handle_figure_label = function(fig, msg) {\n",
       "    // Updates the figure title.\n",
       "    fig.header.textContent = msg['label'];\n",
       "}\n",
       "\n",
       "mpl.figure.prototype.handle_cursor = function(fig, msg) {\n",
       "    var cursor = msg['cursor'];\n",
       "    switch(cursor)\n",
       "    {\n",
       "    case 0:\n",
       "        cursor = 'pointer';\n",
       "        break;\n",
       "    case 1:\n",
       "        cursor = 'default';\n",
       "        break;\n",
       "    case 2:\n",
       "        cursor = 'crosshair';\n",
       "        break;\n",
       "    case 3:\n",
       "        cursor = 'move';\n",
       "        break;\n",
       "    }\n",
       "    fig.rubberband_canvas.style.cursor = cursor;\n",
       "}\n",
       "\n",
       "mpl.figure.prototype.handle_message = function(fig, msg) {\n",
       "    fig.message.textContent = msg['message'];\n",
       "}\n",
       "\n",
       "mpl.figure.prototype.handle_draw = function(fig, msg) {\n",
       "    // Request the server to send over a new figure.\n",
       "    fig.send_draw_message();\n",
       "}\n",
       "\n",
       "mpl.figure.prototype.handle_image_mode = function(fig, msg) {\n",
       "    fig.image_mode = msg['mode'];\n",
       "}\n",
       "\n",
       "mpl.figure.prototype.updated_canvas_event = function() {\n",
       "    // Called whenever the canvas gets updated.\n",
       "    this.send_message(\"ack\", {});\n",
       "}\n",
       "\n",
       "// A function to construct a web socket function for onmessage handling.\n",
       "// Called in the figure constructor.\n",
       "mpl.figure.prototype._make_on_message_function = function(fig) {\n",
       "    return function socket_on_message(evt) {\n",
       "        if (evt.data instanceof Blob) {\n",
       "            /* FIXME: We get \"Resource interpreted as Image but\n",
       "             * transferred with MIME type text/plain:\" errors on\n",
       "             * Chrome.  But how to set the MIME type?  It doesn't seem\n",
       "             * to be part of the websocket stream */\n",
       "            evt.data.type = \"image/png\";\n",
       "\n",
       "            /* Free the memory for the previous frames */\n",
       "            if (fig.imageObj.src) {\n",
       "                (window.URL || window.webkitURL).revokeObjectURL(\n",
       "                    fig.imageObj.src);\n",
       "            }\n",
       "\n",
       "            fig.imageObj.src = (window.URL || window.webkitURL).createObjectURL(\n",
       "                evt.data);\n",
       "            fig.updated_canvas_event();\n",
       "            fig.waiting = false;\n",
       "            return;\n",
       "        }\n",
       "        else if (typeof evt.data === 'string' && evt.data.slice(0, 21) == \"data:image/png;base64\") {\n",
       "            fig.imageObj.src = evt.data;\n",
       "            fig.updated_canvas_event();\n",
       "            fig.waiting = false;\n",
       "            return;\n",
       "        }\n",
       "\n",
       "        var msg = JSON.parse(evt.data);\n",
       "        var msg_type = msg['type'];\n",
       "\n",
       "        // Call the  \"handle_{type}\" callback, which takes\n",
       "        // the figure and JSON message as its only arguments.\n",
       "        try {\n",
       "            var callback = fig[\"handle_\" + msg_type];\n",
       "        } catch (e) {\n",
       "            console.log(\"No handler for the '\" + msg_type + \"' message type: \", msg);\n",
       "            return;\n",
       "        }\n",
       "\n",
       "        if (callback) {\n",
       "            try {\n",
       "                // console.log(\"Handling '\" + msg_type + \"' message: \", msg);\n",
       "                callback(fig, msg);\n",
       "            } catch (e) {\n",
       "                console.log(\"Exception inside the 'handler_\" + msg_type + \"' callback:\", e, e.stack, msg);\n",
       "            }\n",
       "        }\n",
       "    };\n",
       "}\n",
       "\n",
       "// from http://stackoverflow.com/questions/1114465/getting-mouse-location-in-canvas\n",
       "mpl.findpos = function(e) {\n",
       "    //this section is from http://www.quirksmode.org/js/events_properties.html\n",
       "    var targ;\n",
       "    if (!e)\n",
       "        e = window.event;\n",
       "    if (e.target)\n",
       "        targ = e.target;\n",
       "    else if (e.srcElement)\n",
       "        targ = e.srcElement;\n",
       "    if (targ.nodeType == 3) // defeat Safari bug\n",
       "        targ = targ.parentNode;\n",
       "\n",
       "    // jQuery normalizes the pageX and pageY\n",
       "    // pageX,Y are the mouse positions relative to the document\n",
       "    // offset() returns the position of the element relative to the document\n",
       "    var x = e.pageX - $(targ).offset().left;\n",
       "    var y = e.pageY - $(targ).offset().top;\n",
       "\n",
       "    return {\"x\": x, \"y\": y};\n",
       "};\n",
       "\n",
       "/*\n",
       " * return a copy of an object with only non-object keys\n",
       " * we need this to avoid circular references\n",
       " * http://stackoverflow.com/a/24161582/3208463\n",
       " */\n",
       "function simpleKeys (original) {\n",
       "  return Object.keys(original).reduce(function (obj, key) {\n",
       "    if (typeof original[key] !== 'object')\n",
       "        obj[key] = original[key]\n",
       "    return obj;\n",
       "  }, {});\n",
       "}\n",
       "\n",
       "mpl.figure.prototype.mouse_event = function(event, name) {\n",
       "    var canvas_pos = mpl.findpos(event)\n",
       "\n",
       "    if (name === 'button_press')\n",
       "    {\n",
       "        this.canvas.focus();\n",
       "        this.canvas_div.focus();\n",
       "    }\n",
       "\n",
       "    var x = canvas_pos.x * mpl.ratio;\n",
       "    var y = canvas_pos.y * mpl.ratio;\n",
       "\n",
       "    this.send_message(name, {x: x, y: y, button: event.button,\n",
       "                             step: event.step,\n",
       "                             guiEvent: simpleKeys(event)});\n",
       "\n",
       "    /* This prevents the web browser from automatically changing to\n",
       "     * the text insertion cursor when the button is pressed.  We want\n",
       "     * to control all of the cursor setting manually through the\n",
       "     * 'cursor' event from matplotlib */\n",
       "    event.preventDefault();\n",
       "    return false;\n",
       "}\n",
       "\n",
       "mpl.figure.prototype._key_event_extra = function(event, name) {\n",
       "    // Handle any extra behaviour associated with a key event\n",
       "}\n",
       "\n",
       "mpl.figure.prototype.key_event = function(event, name) {\n",
       "\n",
       "    // Prevent repeat events\n",
       "    if (name == 'key_press')\n",
       "    {\n",
       "        if (event.which === this._key)\n",
       "            return;\n",
       "        else\n",
       "            this._key = event.which;\n",
       "    }\n",
       "    if (name == 'key_release')\n",
       "        this._key = null;\n",
       "\n",
       "    var value = '';\n",
       "    if (event.ctrlKey && event.which != 17)\n",
       "        value += \"ctrl+\";\n",
       "    if (event.altKey && event.which != 18)\n",
       "        value += \"alt+\";\n",
       "    if (event.shiftKey && event.which != 16)\n",
       "        value += \"shift+\";\n",
       "\n",
       "    value += 'k';\n",
       "    value += event.which.toString();\n",
       "\n",
       "    this._key_event_extra(event, name);\n",
       "\n",
       "    this.send_message(name, {key: value,\n",
       "                             guiEvent: simpleKeys(event)});\n",
       "    return false;\n",
       "}\n",
       "\n",
       "mpl.figure.prototype.toolbar_button_onclick = function(name) {\n",
       "    if (name == 'download') {\n",
       "        this.handle_save(this, null);\n",
       "    } else {\n",
       "        this.send_message(\"toolbar_button\", {name: name});\n",
       "    }\n",
       "};\n",
       "\n",
       "mpl.figure.prototype.toolbar_button_onmouseover = function(tooltip) {\n",
       "    this.message.textContent = tooltip;\n",
       "};\n",
       "mpl.toolbar_items = [[\"Home\", \"Reset original view\", \"fa fa-home icon-home\", \"home\"], [\"Back\", \"Back to previous view\", \"fa fa-arrow-left icon-arrow-left\", \"back\"], [\"Forward\", \"Forward to next view\", \"fa fa-arrow-right icon-arrow-right\", \"forward\"], [\"\", \"\", \"\", \"\"], [\"Pan\", \"Pan axes with left mouse, zoom with right\", \"fa fa-arrows icon-move\", \"pan\"], [\"Zoom\", \"Zoom to rectangle\", \"fa fa-square-o icon-check-empty\", \"zoom\"], [\"\", \"\", \"\", \"\"], [\"Download\", \"Download plot\", \"fa fa-floppy-o icon-save\", \"download\"]];\n",
       "\n",
       "mpl.extensions = [\"eps\", \"pdf\", \"png\", \"ps\", \"raw\", \"svg\"];\n",
       "\n",
       "mpl.default_extension = \"png\";var comm_websocket_adapter = function(comm) {\n",
       "    // Create a \"websocket\"-like object which calls the given IPython comm\n",
       "    // object with the appropriate methods. Currently this is a non binary\n",
       "    // socket, so there is still some room for performance tuning.\n",
       "    var ws = {};\n",
       "\n",
       "    ws.close = function() {\n",
       "        comm.close()\n",
       "    };\n",
       "    ws.send = function(m) {\n",
       "        //console.log('sending', m);\n",
       "        comm.send(m);\n",
       "    };\n",
       "    // Register the callback with on_msg.\n",
       "    comm.on_msg(function(msg) {\n",
       "        //console.log('receiving', msg['content']['data'], msg);\n",
       "        // Pass the mpl event to the overridden (by mpl) onmessage function.\n",
       "        ws.onmessage(msg['content']['data'])\n",
       "    });\n",
       "    return ws;\n",
       "}\n",
       "\n",
       "mpl.mpl_figure_comm = function(comm, msg) {\n",
       "    // This is the function which gets called when the mpl process\n",
       "    // starts-up an IPython Comm through the \"matplotlib\" channel.\n",
       "\n",
       "    var id = msg.content.data.id;\n",
       "    // Get hold of the div created by the display call when the Comm\n",
       "    // socket was opened in Python.\n",
       "    var element = $(\"#\" + id);\n",
       "    var ws_proxy = comm_websocket_adapter(comm)\n",
       "\n",
       "    function ondownload(figure, format) {\n",
       "        window.open(figure.imageObj.src);\n",
       "    }\n",
       "\n",
       "    var fig = new mpl.figure(id, ws_proxy,\n",
       "                           ondownload,\n",
       "                           element.get(0));\n",
       "\n",
       "    // Call onopen now - mpl needs it, as it is assuming we've passed it a real\n",
       "    // web socket which is closed, not our websocket->open comm proxy.\n",
       "    ws_proxy.onopen();\n",
       "\n",
       "    fig.parent_element = element.get(0);\n",
       "    fig.cell_info = mpl.find_output_cell(\"<div id='\" + id + \"'></div>\");\n",
       "    if (!fig.cell_info) {\n",
       "        console.error(\"Failed to find cell for figure\", id, fig);\n",
       "        return;\n",
       "    }\n",
       "\n",
       "    var output_index = fig.cell_info[2]\n",
       "    var cell = fig.cell_info[0];\n",
       "\n",
       "};\n",
       "\n",
       "mpl.figure.prototype.handle_close = function(fig, msg) {\n",
       "    var width = fig.canvas.width/mpl.ratio\n",
       "    fig.root.unbind('remove')\n",
       "\n",
       "    // Update the output cell to use the data from the current canvas.\n",
       "    fig.push_to_output();\n",
       "    var dataURL = fig.canvas.toDataURL();\n",
       "    // Re-enable the keyboard manager in IPython - without this line, in FF,\n",
       "    // the notebook keyboard shortcuts fail.\n",
       "    IPython.keyboard_manager.enable()\n",
       "    $(fig.parent_element).html('<img src=\"' + dataURL + '\" width=\"' + width + '\">');\n",
       "    fig.close_ws(fig, msg);\n",
       "}\n",
       "\n",
       "mpl.figure.prototype.close_ws = function(fig, msg){\n",
       "    fig.send_message('closing', msg);\n",
       "    // fig.ws.close()\n",
       "}\n",
       "\n",
       "mpl.figure.prototype.push_to_output = function(remove_interactive) {\n",
       "    // Turn the data on the canvas into data in the output cell.\n",
       "    var width = this.canvas.width/mpl.ratio\n",
       "    var dataURL = this.canvas.toDataURL();\n",
       "    this.cell_info[1]['text/html'] = '<img src=\"' + dataURL + '\" width=\"' + width + '\">';\n",
       "}\n",
       "\n",
       "mpl.figure.prototype.updated_canvas_event = function() {\n",
       "    // Tell IPython that the notebook contents must change.\n",
       "    IPython.notebook.set_dirty(true);\n",
       "    this.send_message(\"ack\", {});\n",
       "    var fig = this;\n",
       "    // Wait a second, then push the new image to the DOM so\n",
       "    // that it is saved nicely (might be nice to debounce this).\n",
       "    setTimeout(function () { fig.push_to_output() }, 1000);\n",
       "}\n",
       "\n",
       "mpl.figure.prototype._init_toolbar = function() {\n",
       "    var fig = this;\n",
       "\n",
       "    var nav_element = $('<div/>');\n",
       "    nav_element.attr('style', 'width: 100%');\n",
       "    this.root.append(nav_element);\n",
       "\n",
       "    // Define a callback function for later on.\n",
       "    function toolbar_event(event) {\n",
       "        return fig.toolbar_button_onclick(event['data']);\n",
       "    }\n",
       "    function toolbar_mouse_event(event) {\n",
       "        return fig.toolbar_button_onmouseover(event['data']);\n",
       "    }\n",
       "\n",
       "    for(var toolbar_ind in mpl.toolbar_items){\n",
       "        var name = mpl.toolbar_items[toolbar_ind][0];\n",
       "        var tooltip = mpl.toolbar_items[toolbar_ind][1];\n",
       "        var image = mpl.toolbar_items[toolbar_ind][2];\n",
       "        var method_name = mpl.toolbar_items[toolbar_ind][3];\n",
       "\n",
       "        if (!name) { continue; };\n",
       "\n",
       "        var button = $('<button class=\"btn btn-default\" href=\"#\" title=\"' + name + '\"><i class=\"fa ' + image + ' fa-lg\"></i></button>');\n",
       "        button.click(method_name, toolbar_event);\n",
       "        button.mouseover(tooltip, toolbar_mouse_event);\n",
       "        nav_element.append(button);\n",
       "    }\n",
       "\n",
       "    // Add the status bar.\n",
       "    var status_bar = $('<span class=\"mpl-message\" style=\"text-align:right; float: right;\"/>');\n",
       "    nav_element.append(status_bar);\n",
       "    this.message = status_bar[0];\n",
       "\n",
       "    // Add the close button to the window.\n",
       "    var buttongrp = $('<div class=\"btn-group inline pull-right\"></div>');\n",
       "    var button = $('<button class=\"btn btn-mini btn-primary\" href=\"#\" title=\"Stop Interaction\"><i class=\"fa fa-power-off icon-remove icon-large\"></i></button>');\n",
       "    button.click(function (evt) { fig.handle_close(fig, {}); } );\n",
       "    button.mouseover('Stop Interaction', toolbar_mouse_event);\n",
       "    buttongrp.append(button);\n",
       "    var titlebar = this.root.find($('.ui-dialog-titlebar'));\n",
       "    titlebar.prepend(buttongrp);\n",
       "}\n",
       "\n",
       "mpl.figure.prototype._root_extra_style = function(el){\n",
       "    var fig = this\n",
       "    el.on(\"remove\", function(){\n",
       "\tfig.close_ws(fig, {});\n",
       "    });\n",
       "}\n",
       "\n",
       "mpl.figure.prototype._canvas_extra_style = function(el){\n",
       "    // this is important to make the div 'focusable\n",
       "    el.attr('tabindex', 0)\n",
       "    // reach out to IPython and tell the keyboard manager to turn it's self\n",
       "    // off when our div gets focus\n",
       "\n",
       "    // location in version 3\n",
       "    if (IPython.notebook.keyboard_manager) {\n",
       "        IPython.notebook.keyboard_manager.register_events(el);\n",
       "    }\n",
       "    else {\n",
       "        // location in version 2\n",
       "        IPython.keyboard_manager.register_events(el);\n",
       "    }\n",
       "\n",
       "}\n",
       "\n",
       "mpl.figure.prototype._key_event_extra = function(event, name) {\n",
       "    var manager = IPython.notebook.keyboard_manager;\n",
       "    if (!manager)\n",
       "        manager = IPython.keyboard_manager;\n",
       "\n",
       "    // Check for shift+enter\n",
       "    if (event.shiftKey && event.which == 13) {\n",
       "        this.canvas_div.blur();\n",
       "        // select the cell after this one\n",
       "        var index = IPython.notebook.find_cell_index(this.cell_info[0]);\n",
       "        IPython.notebook.select(index + 1);\n",
       "    }\n",
       "}\n",
       "\n",
       "mpl.figure.prototype.handle_save = function(fig, msg) {\n",
       "    fig.ondownload(fig, null);\n",
       "}\n",
       "\n",
       "\n",
       "mpl.find_output_cell = function(html_output) {\n",
       "    // Return the cell and output element which can be found *uniquely* in the notebook.\n",
       "    // Note - this is a bit hacky, but it is done because the \"notebook_saving.Notebook\"\n",
       "    // IPython event is triggered only after the cells have been serialised, which for\n",
       "    // our purposes (turning an active figure into a static one), is too late.\n",
       "    var cells = IPython.notebook.get_cells();\n",
       "    var ncells = cells.length;\n",
       "    for (var i=0; i<ncells; i++) {\n",
       "        var cell = cells[i];\n",
       "        if (cell.cell_type === 'code'){\n",
       "            for (var j=0; j<cell.output_area.outputs.length; j++) {\n",
       "                var data = cell.output_area.outputs[j];\n",
       "                if (data.data) {\n",
       "                    // IPython >= 3 moved mimebundle to data attribute of output\n",
       "                    data = data.data;\n",
       "                }\n",
       "                if (data['text/html'] == html_output) {\n",
       "                    return [cell, data, j];\n",
       "                }\n",
       "            }\n",
       "        }\n",
       "    }\n",
       "}\n",
       "\n",
       "// Register the function which deals with the matplotlib target/channel.\n",
       "// The kernel may be null if the page has been refreshed.\n",
       "if (IPython.notebook.kernel != null) {\n",
       "    IPython.notebook.kernel.comm_manager.register_target('matplotlib', mpl.mpl_figure_comm);\n",
       "}\n"
      ],
      "text/plain": [
       "<IPython.core.display.Javascript object>"
      ]
     },
     "metadata": {},
     "output_type": "display_data"
    },
    {
     "data": {
      "text/html": [
       "<img src=\"data:image/png;base64,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\" width=\"400\">"
      ],
      "text/plain": [
       "<IPython.core.display.HTML object>"
      ]
     },
     "metadata": {},
     "output_type": "display_data"
    }
   ],
   "source": [
    "fig, ax = plt.subplots(figsize=(4, 3))\n",
    "ax.hist(abs(nd_H_0_mo - H_1_mo).ravel(), bins=np.logspace(np.log10(1e-7),np.log10(1e2), 50), alpha=0.5)\n",
    "ax.hist(abs(nd_H_0_mo).ravel(), bins=np.logspace(np.log10(1e-7),np.log10(1e2), 50), alpha=0.5)\n",
    "ax.set_xscale(\"log\")\n",
    "fig.tight_layout()"
   ]
  },
  {
   "cell_type": "markdown",
   "metadata": {},
   "source": [
    "可见，$\\frac{\\partial h_{pq}}{\\partial F_t}$ 与 $h_{pq}^t$ 之间相差巨大。关于这一点，我们会在以后进一步陈述。"
   ]
  },
  {
   "cell_type": "markdown",
   "metadata": {},
   "source": [
    "## 重叠矩阵 Skeleton 导数"
   ]
  },
  {
   "cell_type": "markdown",
   "metadata": {},
   "source": [
    "我们回顾重叠矩阵的定义：\n",
    "\n",
    "$$\n",
    "S_{\\mu \\nu} = \\langle \\mu | \\nu \\rangle = \\int \\phi_\\mu (\\boldsymbol{r}) \\phi_\\nu (\\boldsymbol{r}) \\, \\mathrm{d} \\boldsymbol{r}\n",
    "$$"
   ]
  },
  {
   "cell_type": "markdown",
   "metadata": {},
   "source": [
    "该矩阵仅仅与电荷坐标与原子核坐标有关，与电场量无关。因此，\n",
    "\n",
    "$$\n",
    "\\frac{\\partial S_{\\mu \\nu}}{\\partial F_t} = S_{\\mu \\nu}^t = 0\n",
    "$$"
   ]
  },
  {
   "cell_type": "markdown",
   "metadata": {},
   "source": [
    "事实上，`DipoleSCF` 类给出的 `S_1_ao` $S_{\\mu \\nu}^t$ 就被定义为了标量 0。"
   ]
  },
  {
   "cell_type": "code",
   "execution_count": 20,
   "metadata": {},
   "outputs": [
    {
     "data": {
      "text/plain": [
       "0"
      ]
     },
     "execution_count": 20,
     "metadata": {},
     "output_type": "execute_result"
    }
   ],
   "source": [
    "diph.S_1_ao"
   ]
  },
  {
   "cell_type": "markdown",
   "metadata": {},
   "source": [
    "但需要注意，$S_{\\mu \\nu}^t$ 从定义上并非是标量，而是维度为 $(t, \\mu, \\nu)$ 的张量，其中每个元素的值为零。数值导数 `nd_S_0_ao` $\\frac{\\partial S_{\\mu \\nu}}{\\partial F_t}$ 的结果如下："
   ]
  },
  {
   "cell_type": "code",
   "execution_count": 21,
   "metadata": {},
   "outputs": [
    {
     "data": {
      "text/plain": [
       "(3, 22, 22)"
      ]
     },
     "execution_count": 21,
     "metadata": {},
     "output_type": "execute_result"
    }
   ],
   "source": [
    "nd_S_0_ao = NumericDiff(dipn, lambda diph: diph.S_0_ao).derivative\n",
    "nd_S_0_ao.shape"
   ]
  },
  {
   "cell_type": "markdown",
   "metadata": {},
   "source": [
    "其绝对值最大的元素就是零："
   ]
  },
  {
   "cell_type": "code",
   "execution_count": 22,
   "metadata": {},
   "outputs": [
    {
     "data": {
      "text/plain": [
       "0.0"
      ]
     },
     "execution_count": 22,
     "metadata": {},
     "output_type": "execute_result"
    }
   ],
   "source": [
    "np.abs(nd_S_0_ao).max()"
   ]
  },
  {
   "cell_type": "markdown",
   "metadata": {},
   "source": [
    "对应地，分子轨道下的重叠矩阵导数 $S_{pq}^t$ 也为零："
   ]
  },
  {
   "cell_type": "code",
   "execution_count": 23,
   "metadata": {},
   "outputs": [
    {
     "data": {
      "text/plain": [
       "0"
      ]
     },
     "execution_count": 23,
     "metadata": {},
     "output_type": "execute_result"
    }
   ],
   "source": [
    "diph.S_1_mo"
   ]
  },
  {
   "cell_type": "markdown",
   "metadata": {},
   "source": [
    "<div class=\"alert alert-info\">\n",
    "\n",
    "**任务 (1)**\n",
    "\n",
    "我们方才提及，\n",
    "\n",
    "$$\n",
    "\\frac{\\partial h_{pq}}{\\partial F_t} \\neq h_{pq}^t\n",
    "$$\n",
    "\n",
    "这类等式普遍来说是不成立的，但\n",
    "\n",
    "$$\n",
    "\\frac{\\partial S_{pq}}{\\partial F_t} = S_{pq}^t = 0\n",
    "$$\n",
    "\n",
    "请说明上述等式成立的原因。\n",
    "\n",
    "</div>"
   ]
  },
  {
   "cell_type": "markdown",
   "metadata": {},
   "source": [
    "## ERI 积分 Skeleton 导数"
   ]
  },
  {
   "cell_type": "markdown",
   "metadata": {},
   "source": [
    "我们回顾 ERI 积分的定义：\n",
    "\n",
    "$$\n",
    "(\\mu \\nu | \\kappa \\lambda) = \\int \\phi_\\mu (\\boldsymbol{r}_1) \\phi_\\nu (\\boldsymbol{r}_1) \\frac{1}{| \\boldsymbol{r}_1 - \\boldsymbol{r}_2 |} \\phi_\\kappa (\\boldsymbol{r}_2) \\phi_\\lambda (\\boldsymbol{r}_2) \\, \\mathrm{d} \\boldsymbol{r}_1 \\, \\mathrm{d} \\boldsymbol{r}_2\n",
    "$$"
   ]
  },
  {
   "cell_type": "markdown",
   "metadata": {},
   "source": [
    "我们会发现上述量也仅仅是关于电荷坐标与原子核坐标的量，因此，其 Skeleton 导数\n",
    "\n",
    "$$\n",
    "\\frac{\\partial (\\mu \\nu | \\kappa \\lambda)}{\\partial F_t} = (\\mu \\nu | \\kappa \\lambda)^t = 0\n",
    "$$"
   ]
  },
  {
   "cell_type": "markdown",
   "metadata": {},
   "source": [
    "上述量储存在 `diph` 的 `eri1_ao` property 中："
   ]
  },
  {
   "cell_type": "code",
   "execution_count": 24,
   "metadata": {},
   "outputs": [
    {
     "data": {
      "text/plain": [
       "0"
      ]
     },
     "execution_count": 24,
     "metadata": {},
     "output_type": "execute_result"
    }
   ],
   "source": [
    "diph.eri1_ao"
   ]
  },
  {
   "cell_type": "markdown",
   "metadata": {},
   "source": [
    "那么，其对应的分子轨道 Skeleton 导数也为零："
   ]
  },
  {
   "cell_type": "code",
   "execution_count": 25,
   "metadata": {},
   "outputs": [
    {
     "data": {
      "text/plain": [
       "0"
      ]
     },
     "execution_count": 25,
     "metadata": {},
     "output_type": "execute_result"
    }
   ],
   "source": [
    "diph.eri1_mo"
   ]
  },
  {
   "cell_type": "markdown",
   "metadata": {},
   "source": [
    "<div class=\"alert alert-info\">\n",
    "\n",
    "**任务 (2)**\n",
    "\n",
    "尽管 $S_{pq}^t = 0$ 且 $(\\mu \\nu | \\kappa \\lambda)^t = 0$，但 $\\frac{\\partial S_{pq}}{\\partial F_t} = S_{pq}^t = 0$ 这样的结论不能直接套用到 $(pq|rs)$ 上。请用程序验证\n",
    "\n",
    "$$\n",
    "\\frac{\\partial (pq|rs)}{\\partial F_t} \\neq (pq|rs)^t = 0\n",
    "$$\n",
    "\n",
    "</div>"
   ]
  },
  {
   "cell_type": "markdown",
   "metadata": {},
   "source": [
    "## 电子能量导数"
   ]
  },
  {
   "cell_type": "markdown",
   "metadata": {},
   "source": [
    "### 解析导数"
   ]
  },
  {
   "cell_type": "markdown",
   "metadata": {},
   "source": [
    "我们知道，总能量可以分为电子能量 $E_\\mathrm{elec}$ 与原子核能量 $E_\\mathrm{nuc}$。我们先回顾电子能量的计算过程：\n",
    "\n",
    "$$\n",
    "E_\\mathrm{elec} = h_{\\mu \\nu} D_{\\mu \\nu} + \\frac{1}{2} D_{\\mu \\nu} (\\mu \\nu | \\kappa \\lambda) D_{\\kappa \\lambda} - \\frac{1}{4} D_{\\mu \\nu} (\\mu  \\lambda| \\kappa \\nu) D_{\\kappa \\lambda}\n",
    "$$"
   ]
  },
  {
   "cell_type": "markdown",
   "metadata": {},
   "source": [
    "我们通过链式法则，应当能知道：\n",
    "\n",
    "$$\n",
    "\\begin{align}\n",
    "\\frac{\\partial E_\\mathrm{elec}}{\\partial F_t} &=\n",
    "\\frac{\\partial h_{\\mu \\nu}}{\\partial F_t} D_{\\mu \\nu} + \\frac{1}{2} D_{\\mu \\nu} \\frac{\\partial (\\mu \\nu | \\kappa \\lambda)}{\\partial F_t} D_{\\kappa \\lambda} - \\frac{1}{4} D_{\\mu \\nu} \\frac{\\partial (\\mu  \\lambda| \\kappa \\nu)}{\\partial F_t} D_{\\kappa \\lambda} \\\\\n",
    "&\\quad + F_{\\mu \\nu} \\frac{\\partial D_{\\mu \\nu}}{\\partial F_t} \n",
    "\\end{align}\n",
    "$$"
   ]
  },
  {
   "cell_type": "markdown",
   "metadata": {},
   "source": [
    "其中，上式的第一行是 Skeleton 导数的集合，而第二行是与分子轨道有关的导数，即 U 导数的集合。"
   ]
  },
  {
   "cell_type": "markdown",
   "metadata": {},
   "source": [
    "<div class=\"alert alert-info\">\n",
    "\n",
    "**任务 (3)**\n",
    "\n",
    "上式的第一行是非常显然能导出的；请说明第二行的导出过程。\n",
    "\n",
    "</div>"
   ]
  },
  {
   "cell_type": "markdown",
   "metadata": {},
   "source": [
    "但是，上式的四项中，除了第一项之外，其余三项都为零。"
   ]
  },
  {
   "cell_type": "markdown",
   "metadata": {},
   "source": [
    "<div class=\"alert alert-info\">\n",
    "\n",
    "**任务 (4)**\n",
    "\n",
    "上式第二、第三项中 Skeleton 导数 $(\\mu \\nu | \\kappa \\lambda)^t$ 为零，因此值为零；这是很容易理解的。\n",
    "\n",
    "请证明第四项也为零。\n",
    "\n",
    "</div>"
   ]
  },
  {
   "cell_type": "markdown",
   "metadata": {},
   "source": [
    "因此，\n",
    "\n",
    "$$\n",
    "\\frac{\\partial E_\\mathrm{elec}}{\\partial F_t} = h_{\\mu \\nu}^t D_{\\mu \\nu}\n",
    "$$"
   ]
  },
  {
   "cell_type": "markdown",
   "metadata": {},
   "source": [
    "我们将变量 `dip_elec` 定义为 $\\frac{\\partial E_\\mathrm{elec}}{\\partial F_t}$："
   ]
  },
  {
   "cell_type": "code",
   "execution_count": 26,
   "metadata": {},
   "outputs": [
    {
     "data": {
      "text/plain": [
       "array([ -1.8821 ,  -0.57429, -25.5329 ])"
      ]
     },
     "execution_count": 26,
     "metadata": {},
     "output_type": "execute_result"
    }
   ],
   "source": [
    "dip_elec = np.einsum(\"tuv, uv -> t\", H_1_ao, D)\n",
    "dip_elec"
   ]
  },
  {
   "cell_type": "markdown",
   "metadata": {},
   "source": [
    "### 数值导数"
   ]
  },
  {
   "cell_type": "markdown",
   "metadata": {},
   "source": [
    "我们可以用 PySCF 的 `energy_elec` method 求出电子态能量并作数值导数："
   ]
  },
  {
   "cell_type": "code",
   "execution_count": 27,
   "metadata": {},
   "outputs": [
    {
     "data": {
      "text/plain": [
       "array([ -1.8821 ,  -0.57429, -25.5329 ])"
      ]
     },
     "execution_count": 27,
     "metadata": {},
     "output_type": "execute_result"
    }
   ],
   "source": [
    "nd_E_elec = NumericDiff(dipn, lambda diph: diph.scf_eng.energy_elec()[0]).derivative\n",
    "nd_E_elec"
   ]
  },
  {
   "cell_type": "markdown",
   "metadata": {},
   "source": [
    "我们会发现，数值导数与解析导数的值近乎一致："
   ]
  },
  {
   "cell_type": "code",
   "execution_count": 28,
   "metadata": {},
   "outputs": [
    {
     "data": {
      "text/plain": [
       "True"
      ]
     },
     "execution_count": 28,
     "metadata": {},
     "output_type": "execute_result"
    }
   ],
   "source": [
    "np.allclose(dip_elec, nd_E_elec)"
   ]
  },
  {
   "cell_type": "markdown",
   "metadata": {},
   "source": [
    "<div class=\"alert alert-info\">\n",
    "\n",
    "**程序用法**\n",
    "\n",
    "尽管我们曾经提到过要用 pyplot 绘图查看数值导数与解析导数的差异，但这是针对中间计算矩阵而用的，因为中间计算矩阵即使误差较大也未必会对结果带来影响。\n",
    "\n",
    "但对作为最终结果的贡献项，我们仍然要用 np.allclose 核验。np.allclose 是更为严苛的核验方式。\n",
    "\n",
    "</div>"
   ]
  },
  {
   "cell_type": "markdown",
   "metadata": {},
   "source": [
    "我们 [曾经](../numdiff/num_dip.ipynb) 用较为物理的方式，提到过计算电子云对偶极矩的贡献大小。这里我们用了解析导数的方式对其作呈现；两者的推导结论是相同的。"
   ]
  },
  {
   "cell_type": "markdown",
   "metadata": {},
   "source": [
    "## 原子核互斥能导数"
   ]
  },
  {
   "cell_type": "markdown",
   "metadata": {},
   "source": [
    "原子核互斥能对偶极矩的贡献也非常重要；但我们不作更多说明。其推导参考 [之前的文档](../numdiff/num_dip.ipynb)；我们定义该贡献为 `dip_nuc`：\n",
    "\n",
    "$$\n",
    "\\frac{\\partial E_\\mathrm{nuc}}{\\partial F_t} = Z_A A_t\n",
    "$$"
   ]
  },
  {
   "cell_type": "code",
   "execution_count": 29,
   "metadata": {},
   "outputs": [
    {
     "data": {
      "text/plain": [
       "array([ 2.83459,  1.32281, 25.5113 ])"
      ]
     },
     "execution_count": 29,
     "metadata": {},
     "output_type": "execute_result"
    }
   ],
   "source": [
    "dip_nuc = np.einsum(\"A, At -> t\", mol.atom_charges(), mol.atom_coords())\n",
    "dip_nuc"
   ]
  },
  {
   "cell_type": "markdown",
   "metadata": {},
   "source": [
    "那么，最后我们将两个偶极矩贡献量相加，得到 `dip_total`\n",
    "\n",
    "$$\n",
    "\\frac{\\partial E}{\\partial F_t} = \\frac{\\partial E_\\mathrm{elec}}{\\partial F_t} + \\frac{\\partial E_\\mathrm{nuc}}{\\partial F_t}\n",
    "$$"
   ]
  },
  {
   "cell_type": "code",
   "execution_count": 30,
   "metadata": {},
   "outputs": [
    {
     "data": {
      "text/plain": [
       "array([ 0.95249,  0.74852, -0.0216 ])"
      ]
     },
     "execution_count": 30,
     "metadata": {},
     "output_type": "execute_result"
    }
   ],
   "source": [
    "dip_total = dip_elec + dip_nuc\n",
    "dip_total"
   ]
  },
  {
   "cell_type": "markdown",
   "metadata": {},
   "source": [
    "需要留意，该总和量暂时不能通过求数值导数获得；这是因为在 PySCF 中或 pyxdh 中，核坐标导数没有写为 $F_t$ 的因变量。因此，我们看到的对总能量的导数会是电子态能量导数；这是错误的。"
   ]
  },
  {
   "cell_type": "code",
   "execution_count": 31,
   "metadata": {},
   "outputs": [
    {
     "data": {
      "text/plain": [
       "array([ -1.8821 ,  -0.57429, -25.5329 ])"
      ]
     },
     "execution_count": 31,
     "metadata": {},
     "output_type": "execute_result"
    }
   ],
   "source": [
    "nd_eng = NumericDiff(dipn, lambda diph: diph.eng).derivative\n",
    "nd_eng  ## Wrong total energy derivative to get dipole!"
   ]
  },
  {
   "cell_type": "markdown",
   "metadata": {},
   "source": [
    "最后，我们声明我们的计算结果与 PySCF 所给出的结果完全相同："
   ]
  },
  {
   "cell_type": "code",
   "execution_count": 32,
   "metadata": {},
   "outputs": [
    {
     "data": {
      "text/plain": [
       "array([ 0.95249,  0.74852, -0.0216 ])"
      ]
     },
     "execution_count": 32,
     "metadata": {},
     "output_type": "execute_result"
    }
   ],
   "source": [
    "dip_total_pyscf = diph.scf_eng.dip_moment(unit=\"A.U.\", verbose=0)\n",
    "dip_total_pyscf"
   ]
  },
  {
   "cell_type": "code",
   "execution_count": 33,
   "metadata": {},
   "outputs": [
    {
     "data": {
      "text/plain": [
       "True"
      ]
     },
     "execution_count": 33,
     "metadata": {},
     "output_type": "execute_result"
    }
   ],
   "source": [
    "np.allclose(dip_total, dip_total_pyscf)"
   ]
  },
  {
   "cell_type": "markdown",
   "metadata": {},
   "source": [
    "## 参考任务解答"
   ]
  },
  {
   "cell_type": "markdown",
   "metadata": {},
   "source": [
    "### 任务 (1)"
   ]
  },
  {
   "cell_type": "markdown",
   "metadata": {},
   "source": [
    "正如上一篇文档 [任务 (2)](skeleton_and_U.ipynb#任务-(2)) 所言，由于 $S_{pq} = \\delta_{pq}$，因此 $S_{pq}$ 与外加电场 $F_t$ 完全无关；故 $\\frac{\\partial S_{pq}}{\\partial F_t}$ 为零。"
   ]
  },
  {
   "cell_type": "markdown",
   "metadata": {},
   "source": [
    "### 任务 (2)"
   ]
  },
  {
   "cell_type": "markdown",
   "metadata": {},
   "source": [
    "计算 $(pq|rs)$ 的方法，在 `diph` 中是 `eri0_mo` property。我们将 $\\frac{\\partial (pq|rs)}{\\partial F_t}$ 记为 `nd_eri0_mo`："
   ]
  },
  {
   "cell_type": "code",
   "execution_count": 34,
   "metadata": {},
   "outputs": [
    {
     "data": {
      "text/plain": [
       "(3, 22, 22, 22, 22)"
      ]
     },
     "execution_count": 34,
     "metadata": {},
     "output_type": "execute_result"
    }
   ],
   "source": [
    "nd_eri0_mo = NumericDiff(dipn, lambda diph: diph.eri0_mo).derivative\n",
    "nd_eri0_mo.shape"
   ]
  },
  {
   "cell_type": "markdown",
   "metadata": {},
   "source": [
    "该张量显然不是零张量；我们能发现，绝大多数值处于 $10^{-2}$ 数量级。"
   ]
  },
  {
   "cell_type": "code",
   "execution_count": 35,
   "metadata": {},
   "outputs": [
    {
     "data": {
      "application/javascript": [
       "/* Put everything inside the global mpl namespace */\n",
       "window.mpl = {};\n",
       "\n",
       "\n",
       "mpl.get_websocket_type = function() {\n",
       "    if (typeof(WebSocket) !== 'undefined') {\n",
       "        return WebSocket;\n",
       "    } else if (typeof(MozWebSocket) !== 'undefined') {\n",
       "        return MozWebSocket;\n",
       "    } else {\n",
       "        alert('Your browser does not have WebSocket support. ' +\n",
       "              'Please try Chrome, Safari or Firefox ≥ 6. ' +\n",
       "              'Firefox 4 and 5 are also supported but you ' +\n",
       "              'have to enable WebSockets in about:config.');\n",
       "    };\n",
       "}\n",
       "\n",
       "mpl.figure = function(figure_id, websocket, ondownload, parent_element) {\n",
       "    this.id = figure_id;\n",
       "\n",
       "    this.ws = websocket;\n",
       "\n",
       "    this.supports_binary = (this.ws.binaryType != undefined);\n",
       "\n",
       "    if (!this.supports_binary) {\n",
       "        var warnings = document.getElementById(\"mpl-warnings\");\n",
       "        if (warnings) {\n",
       "            warnings.style.display = 'block';\n",
       "            warnings.textContent = (\n",
       "                \"This browser does not support binary websocket messages. \" +\n",
       "                    \"Performance may be slow.\");\n",
       "        }\n",
       "    }\n",
       "\n",
       "    this.imageObj = new Image();\n",
       "\n",
       "    this.context = undefined;\n",
       "    this.message = undefined;\n",
       "    this.canvas = undefined;\n",
       "    this.rubberband_canvas = undefined;\n",
       "    this.rubberband_context = undefined;\n",
       "    this.format_dropdown = undefined;\n",
       "\n",
       "    this.image_mode = 'full';\n",
       "\n",
       "    this.root = $('<div/>');\n",
       "    this._root_extra_style(this.root)\n",
       "    this.root.attr('style', 'display: inline-block');\n",
       "\n",
       "    $(parent_element).append(this.root);\n",
       "\n",
       "    this._init_header(this);\n",
       "    this._init_canvas(this);\n",
       "    this._init_toolbar(this);\n",
       "\n",
       "    var fig = this;\n",
       "\n",
       "    this.waiting = false;\n",
       "\n",
       "    this.ws.onopen =  function () {\n",
       "            fig.send_message(\"supports_binary\", {value: fig.supports_binary});\n",
       "            fig.send_message(\"send_image_mode\", {});\n",
       "            if (mpl.ratio != 1) {\n",
       "                fig.send_message(\"set_dpi_ratio\", {'dpi_ratio': mpl.ratio});\n",
       "            }\n",
       "            fig.send_message(\"refresh\", {});\n",
       "        }\n",
       "\n",
       "    this.imageObj.onload = function() {\n",
       "            if (fig.image_mode == 'full') {\n",
       "                // Full images could contain transparency (where diff images\n",
       "                // almost always do), so we need to clear the canvas so that\n",
       "                // there is no ghosting.\n",
       "                fig.context.clearRect(0, 0, fig.canvas.width, fig.canvas.height);\n",
       "            }\n",
       "            fig.context.drawImage(fig.imageObj, 0, 0);\n",
       "        };\n",
       "\n",
       "    this.imageObj.onunload = function() {\n",
       "        fig.ws.close();\n",
       "    }\n",
       "\n",
       "    this.ws.onmessage = this._make_on_message_function(this);\n",
       "\n",
       "    this.ondownload = ondownload;\n",
       "}\n",
       "\n",
       "mpl.figure.prototype._init_header = function() {\n",
       "    var titlebar = $(\n",
       "        '<div class=\"ui-dialog-titlebar ui-widget-header ui-corner-all ' +\n",
       "        'ui-helper-clearfix\"/>');\n",
       "    var titletext = $(\n",
       "        '<div class=\"ui-dialog-title\" style=\"width: 100%; ' +\n",
       "        'text-align: center; padding: 3px;\"/>');\n",
       "    titlebar.append(titletext)\n",
       "    this.root.append(titlebar);\n",
       "    this.header = titletext[0];\n",
       "}\n",
       "\n",
       "\n",
       "\n",
       "mpl.figure.prototype._canvas_extra_style = function(canvas_div) {\n",
       "\n",
       "}\n",
       "\n",
       "\n",
       "mpl.figure.prototype._root_extra_style = function(canvas_div) {\n",
       "\n",
       "}\n",
       "\n",
       "mpl.figure.prototype._init_canvas = function() {\n",
       "    var fig = this;\n",
       "\n",
       "    var canvas_div = $('<div/>');\n",
       "\n",
       "    canvas_div.attr('style', 'position: relative; clear: both; outline: 0');\n",
       "\n",
       "    function canvas_keyboard_event(event) {\n",
       "        return fig.key_event(event, event['data']);\n",
       "    }\n",
       "\n",
       "    canvas_div.keydown('key_press', canvas_keyboard_event);\n",
       "    canvas_div.keyup('key_release', canvas_keyboard_event);\n",
       "    this.canvas_div = canvas_div\n",
       "    this._canvas_extra_style(canvas_div)\n",
       "    this.root.append(canvas_div);\n",
       "\n",
       "    var canvas = $('<canvas/>');\n",
       "    canvas.addClass('mpl-canvas');\n",
       "    canvas.attr('style', \"left: 0; top: 0; z-index: 0; outline: 0\")\n",
       "\n",
       "    this.canvas = canvas[0];\n",
       "    this.context = canvas[0].getContext(\"2d\");\n",
       "\n",
       "    var backingStore = this.context.backingStorePixelRatio ||\n",
       "\tthis.context.webkitBackingStorePixelRatio ||\n",
       "\tthis.context.mozBackingStorePixelRatio ||\n",
       "\tthis.context.msBackingStorePixelRatio ||\n",
       "\tthis.context.oBackingStorePixelRatio ||\n",
       "\tthis.context.backingStorePixelRatio || 1;\n",
       "\n",
       "    mpl.ratio = (window.devicePixelRatio || 1) / backingStore;\n",
       "\n",
       "    var rubberband = $('<canvas/>');\n",
       "    rubberband.attr('style', \"position: absolute; left: 0; top: 0; z-index: 1;\")\n",
       "\n",
       "    var pass_mouse_events = true;\n",
       "\n",
       "    canvas_div.resizable({\n",
       "        start: function(event, ui) {\n",
       "            pass_mouse_events = false;\n",
       "        },\n",
       "        resize: function(event, ui) {\n",
       "            fig.request_resize(ui.size.width, ui.size.height);\n",
       "        },\n",
       "        stop: function(event, ui) {\n",
       "            pass_mouse_events = true;\n",
       "            fig.request_resize(ui.size.width, ui.size.height);\n",
       "        },\n",
       "    });\n",
       "\n",
       "    function mouse_event_fn(event) {\n",
       "        if (pass_mouse_events)\n",
       "            return fig.mouse_event(event, event['data']);\n",
       "    }\n",
       "\n",
       "    rubberband.mousedown('button_press', mouse_event_fn);\n",
       "    rubberband.mouseup('button_release', mouse_event_fn);\n",
       "    // Throttle sequential mouse events to 1 every 20ms.\n",
       "    rubberband.mousemove('motion_notify', mouse_event_fn);\n",
       "\n",
       "    rubberband.mouseenter('figure_enter', mouse_event_fn);\n",
       "    rubberband.mouseleave('figure_leave', mouse_event_fn);\n",
       "\n",
       "    canvas_div.on(\"wheel\", function (event) {\n",
       "        event = event.originalEvent;\n",
       "        event['data'] = 'scroll'\n",
       "        if (event.deltaY < 0) {\n",
       "            event.step = 1;\n",
       "        } else {\n",
       "            event.step = -1;\n",
       "        }\n",
       "        mouse_event_fn(event);\n",
       "    });\n",
       "\n",
       "    canvas_div.append(canvas);\n",
       "    canvas_div.append(rubberband);\n",
       "\n",
       "    this.rubberband = rubberband;\n",
       "    this.rubberband_canvas = rubberband[0];\n",
       "    this.rubberband_context = rubberband[0].getContext(\"2d\");\n",
       "    this.rubberband_context.strokeStyle = \"#000000\";\n",
       "\n",
       "    this._resize_canvas = function(width, height) {\n",
       "        // Keep the size of the canvas, canvas container, and rubber band\n",
       "        // canvas in synch.\n",
       "        canvas_div.css('width', width)\n",
       "        canvas_div.css('height', height)\n",
       "\n",
       "        canvas.attr('width', width * mpl.ratio);\n",
       "        canvas.attr('height', height * mpl.ratio);\n",
       "        canvas.attr('style', 'width: ' + width + 'px; height: ' + height + 'px;');\n",
       "\n",
       "        rubberband.attr('width', width);\n",
       "        rubberband.attr('height', height);\n",
       "    }\n",
       "\n",
       "    // Set the figure to an initial 600x600px, this will subsequently be updated\n",
       "    // upon first draw.\n",
       "    this._resize_canvas(600, 600);\n",
       "\n",
       "    // Disable right mouse context menu.\n",
       "    $(this.rubberband_canvas).bind(\"contextmenu\",function(e){\n",
       "        return false;\n",
       "    });\n",
       "\n",
       "    function set_focus () {\n",
       "        canvas.focus();\n",
       "        canvas_div.focus();\n",
       "    }\n",
       "\n",
       "    window.setTimeout(set_focus, 100);\n",
       "}\n",
       "\n",
       "mpl.figure.prototype._init_toolbar = function() {\n",
       "    var fig = this;\n",
       "\n",
       "    var nav_element = $('<div/>');\n",
       "    nav_element.attr('style', 'width: 100%');\n",
       "    this.root.append(nav_element);\n",
       "\n",
       "    // Define a callback function for later on.\n",
       "    function toolbar_event(event) {\n",
       "        return fig.toolbar_button_onclick(event['data']);\n",
       "    }\n",
       "    function toolbar_mouse_event(event) {\n",
       "        return fig.toolbar_button_onmouseover(event['data']);\n",
       "    }\n",
       "\n",
       "    for(var toolbar_ind in mpl.toolbar_items) {\n",
       "        var name = mpl.toolbar_items[toolbar_ind][0];\n",
       "        var tooltip = mpl.toolbar_items[toolbar_ind][1];\n",
       "        var image = mpl.toolbar_items[toolbar_ind][2];\n",
       "        var method_name = mpl.toolbar_items[toolbar_ind][3];\n",
       "\n",
       "        if (!name) {\n",
       "            // put a spacer in here.\n",
       "            continue;\n",
       "        }\n",
       "        var button = $('<button/>');\n",
       "        button.addClass('ui-button ui-widget ui-state-default ui-corner-all ' +\n",
       "                        'ui-button-icon-only');\n",
       "        button.attr('role', 'button');\n",
       "        button.attr('aria-disabled', 'false');\n",
       "        button.click(method_name, toolbar_event);\n",
       "        button.mouseover(tooltip, toolbar_mouse_event);\n",
       "\n",
       "        var icon_img = $('<span/>');\n",
       "        icon_img.addClass('ui-button-icon-primary ui-icon');\n",
       "        icon_img.addClass(image);\n",
       "        icon_img.addClass('ui-corner-all');\n",
       "\n",
       "        var tooltip_span = $('<span/>');\n",
       "        tooltip_span.addClass('ui-button-text');\n",
       "        tooltip_span.html(tooltip);\n",
       "\n",
       "        button.append(icon_img);\n",
       "        button.append(tooltip_span);\n",
       "\n",
       "        nav_element.append(button);\n",
       "    }\n",
       "\n",
       "    var fmt_picker_span = $('<span/>');\n",
       "\n",
       "    var fmt_picker = $('<select/>');\n",
       "    fmt_picker.addClass('mpl-toolbar-option ui-widget ui-widget-content');\n",
       "    fmt_picker_span.append(fmt_picker);\n",
       "    nav_element.append(fmt_picker_span);\n",
       "    this.format_dropdown = fmt_picker[0];\n",
       "\n",
       "    for (var ind in mpl.extensions) {\n",
       "        var fmt = mpl.extensions[ind];\n",
       "        var option = $(\n",
       "            '<option/>', {selected: fmt === mpl.default_extension}).html(fmt);\n",
       "        fmt_picker.append(option);\n",
       "    }\n",
       "\n",
       "    // Add hover states to the ui-buttons\n",
       "    $( \".ui-button\" ).hover(\n",
       "        function() { $(this).addClass(\"ui-state-hover\");},\n",
       "        function() { $(this).removeClass(\"ui-state-hover\");}\n",
       "    );\n",
       "\n",
       "    var status_bar = $('<span class=\"mpl-message\"/>');\n",
       "    nav_element.append(status_bar);\n",
       "    this.message = status_bar[0];\n",
       "}\n",
       "\n",
       "mpl.figure.prototype.request_resize = function(x_pixels, y_pixels) {\n",
       "    // Request matplotlib to resize the figure. Matplotlib will then trigger a resize in the client,\n",
       "    // which will in turn request a refresh of the image.\n",
       "    this.send_message('resize', {'width': x_pixels, 'height': y_pixels});\n",
       "}\n",
       "\n",
       "mpl.figure.prototype.send_message = function(type, properties) {\n",
       "    properties['type'] = type;\n",
       "    properties['figure_id'] = this.id;\n",
       "    this.ws.send(JSON.stringify(properties));\n",
       "}\n",
       "\n",
       "mpl.figure.prototype.send_draw_message = function() {\n",
       "    if (!this.waiting) {\n",
       "        this.waiting = true;\n",
       "        this.ws.send(JSON.stringify({type: \"draw\", figure_id: this.id}));\n",
       "    }\n",
       "}\n",
       "\n",
       "\n",
       "mpl.figure.prototype.handle_save = function(fig, msg) {\n",
       "    var format_dropdown = fig.format_dropdown;\n",
       "    var format = format_dropdown.options[format_dropdown.selectedIndex].value;\n",
       "    fig.ondownload(fig, format);\n",
       "}\n",
       "\n",
       "\n",
       "mpl.figure.prototype.handle_resize = function(fig, msg) {\n",
       "    var size = msg['size'];\n",
       "    if (size[0] != fig.canvas.width || size[1] != fig.canvas.height) {\n",
       "        fig._resize_canvas(size[0], size[1]);\n",
       "        fig.send_message(\"refresh\", {});\n",
       "    };\n",
       "}\n",
       "\n",
       "mpl.figure.prototype.handle_rubberband = function(fig, msg) {\n",
       "    var x0 = msg['x0'] / mpl.ratio;\n",
       "    var y0 = (fig.canvas.height - msg['y0']) / mpl.ratio;\n",
       "    var x1 = msg['x1'] / mpl.ratio;\n",
       "    var y1 = (fig.canvas.height - msg['y1']) / mpl.ratio;\n",
       "    x0 = Math.floor(x0) + 0.5;\n",
       "    y0 = Math.floor(y0) + 0.5;\n",
       "    x1 = Math.floor(x1) + 0.5;\n",
       "    y1 = Math.floor(y1) + 0.5;\n",
       "    var min_x = Math.min(x0, x1);\n",
       "    var min_y = Math.min(y0, y1);\n",
       "    var width = Math.abs(x1 - x0);\n",
       "    var height = Math.abs(y1 - y0);\n",
       "\n",
       "    fig.rubberband_context.clearRect(\n",
       "        0, 0, fig.canvas.width / mpl.ratio, fig.canvas.height / mpl.ratio);\n",
       "\n",
       "    fig.rubberband_context.strokeRect(min_x, min_y, width, height);\n",
       "}\n",
       "\n",
       "mpl.figure.prototype.handle_figure_label = function(fig, msg) {\n",
       "    // Updates the figure title.\n",
       "    fig.header.textContent = msg['label'];\n",
       "}\n",
       "\n",
       "mpl.figure.prototype.handle_cursor = function(fig, msg) {\n",
       "    var cursor = msg['cursor'];\n",
       "    switch(cursor)\n",
       "    {\n",
       "    case 0:\n",
       "        cursor = 'pointer';\n",
       "        break;\n",
       "    case 1:\n",
       "        cursor = 'default';\n",
       "        break;\n",
       "    case 2:\n",
       "        cursor = 'crosshair';\n",
       "        break;\n",
       "    case 3:\n",
       "        cursor = 'move';\n",
       "        break;\n",
       "    }\n",
       "    fig.rubberband_canvas.style.cursor = cursor;\n",
       "}\n",
       "\n",
       "mpl.figure.prototype.handle_message = function(fig, msg) {\n",
       "    fig.message.textContent = msg['message'];\n",
       "}\n",
       "\n",
       "mpl.figure.prototype.handle_draw = function(fig, msg) {\n",
       "    // Request the server to send over a new figure.\n",
       "    fig.send_draw_message();\n",
       "}\n",
       "\n",
       "mpl.figure.prototype.handle_image_mode = function(fig, msg) {\n",
       "    fig.image_mode = msg['mode'];\n",
       "}\n",
       "\n",
       "mpl.figure.prototype.updated_canvas_event = function() {\n",
       "    // Called whenever the canvas gets updated.\n",
       "    this.send_message(\"ack\", {});\n",
       "}\n",
       "\n",
       "// A function to construct a web socket function for onmessage handling.\n",
       "// Called in the figure constructor.\n",
       "mpl.figure.prototype._make_on_message_function = function(fig) {\n",
       "    return function socket_on_message(evt) {\n",
       "        if (evt.data instanceof Blob) {\n",
       "            /* FIXME: We get \"Resource interpreted as Image but\n",
       "             * transferred with MIME type text/plain:\" errors on\n",
       "             * Chrome.  But how to set the MIME type?  It doesn't seem\n",
       "             * to be part of the websocket stream */\n",
       "            evt.data.type = \"image/png\";\n",
       "\n",
       "            /* Free the memory for the previous frames */\n",
       "            if (fig.imageObj.src) {\n",
       "                (window.URL || window.webkitURL).revokeObjectURL(\n",
       "                    fig.imageObj.src);\n",
       "            }\n",
       "\n",
       "            fig.imageObj.src = (window.URL || window.webkitURL).createObjectURL(\n",
       "                evt.data);\n",
       "            fig.updated_canvas_event();\n",
       "            fig.waiting = false;\n",
       "            return;\n",
       "        }\n",
       "        else if (typeof evt.data === 'string' && evt.data.slice(0, 21) == \"data:image/png;base64\") {\n",
       "            fig.imageObj.src = evt.data;\n",
       "            fig.updated_canvas_event();\n",
       "            fig.waiting = false;\n",
       "            return;\n",
       "        }\n",
       "\n",
       "        var msg = JSON.parse(evt.data);\n",
       "        var msg_type = msg['type'];\n",
       "\n",
       "        // Call the  \"handle_{type}\" callback, which takes\n",
       "        // the figure and JSON message as its only arguments.\n",
       "        try {\n",
       "            var callback = fig[\"handle_\" + msg_type];\n",
       "        } catch (e) {\n",
       "            console.log(\"No handler for the '\" + msg_type + \"' message type: \", msg);\n",
       "            return;\n",
       "        }\n",
       "\n",
       "        if (callback) {\n",
       "            try {\n",
       "                // console.log(\"Handling '\" + msg_type + \"' message: \", msg);\n",
       "                callback(fig, msg);\n",
       "            } catch (e) {\n",
       "                console.log(\"Exception inside the 'handler_\" + msg_type + \"' callback:\", e, e.stack, msg);\n",
       "            }\n",
       "        }\n",
       "    };\n",
       "}\n",
       "\n",
       "// from http://stackoverflow.com/questions/1114465/getting-mouse-location-in-canvas\n",
       "mpl.findpos = function(e) {\n",
       "    //this section is from http://www.quirksmode.org/js/events_properties.html\n",
       "    var targ;\n",
       "    if (!e)\n",
       "        e = window.event;\n",
       "    if (e.target)\n",
       "        targ = e.target;\n",
       "    else if (e.srcElement)\n",
       "        targ = e.srcElement;\n",
       "    if (targ.nodeType == 3) // defeat Safari bug\n",
       "        targ = targ.parentNode;\n",
       "\n",
       "    // jQuery normalizes the pageX and pageY\n",
       "    // pageX,Y are the mouse positions relative to the document\n",
       "    // offset() returns the position of the element relative to the document\n",
       "    var x = e.pageX - $(targ).offset().left;\n",
       "    var y = e.pageY - $(targ).offset().top;\n",
       "\n",
       "    return {\"x\": x, \"y\": y};\n",
       "};\n",
       "\n",
       "/*\n",
       " * return a copy of an object with only non-object keys\n",
       " * we need this to avoid circular references\n",
       " * http://stackoverflow.com/a/24161582/3208463\n",
       " */\n",
       "function simpleKeys (original) {\n",
       "  return Object.keys(original).reduce(function (obj, key) {\n",
       "    if (typeof original[key] !== 'object')\n",
       "        obj[key] = original[key]\n",
       "    return obj;\n",
       "  }, {});\n",
       "}\n",
       "\n",
       "mpl.figure.prototype.mouse_event = function(event, name) {\n",
       "    var canvas_pos = mpl.findpos(event)\n",
       "\n",
       "    if (name === 'button_press')\n",
       "    {\n",
       "        this.canvas.focus();\n",
       "        this.canvas_div.focus();\n",
       "    }\n",
       "\n",
       "    var x = canvas_pos.x * mpl.ratio;\n",
       "    var y = canvas_pos.y * mpl.ratio;\n",
       "\n",
       "    this.send_message(name, {x: x, y: y, button: event.button,\n",
       "                             step: event.step,\n",
       "                             guiEvent: simpleKeys(event)});\n",
       "\n",
       "    /* This prevents the web browser from automatically changing to\n",
       "     * the text insertion cursor when the button is pressed.  We want\n",
       "     * to control all of the cursor setting manually through the\n",
       "     * 'cursor' event from matplotlib */\n",
       "    event.preventDefault();\n",
       "    return false;\n",
       "}\n",
       "\n",
       "mpl.figure.prototype._key_event_extra = function(event, name) {\n",
       "    // Handle any extra behaviour associated with a key event\n",
       "}\n",
       "\n",
       "mpl.figure.prototype.key_event = function(event, name) {\n",
       "\n",
       "    // Prevent repeat events\n",
       "    if (name == 'key_press')\n",
       "    {\n",
       "        if (event.which === this._key)\n",
       "            return;\n",
       "        else\n",
       "            this._key = event.which;\n",
       "    }\n",
       "    if (name == 'key_release')\n",
       "        this._key = null;\n",
       "\n",
       "    var value = '';\n",
       "    if (event.ctrlKey && event.which != 17)\n",
       "        value += \"ctrl+\";\n",
       "    if (event.altKey && event.which != 18)\n",
       "        value += \"alt+\";\n",
       "    if (event.shiftKey && event.which != 16)\n",
       "        value += \"shift+\";\n",
       "\n",
       "    value += 'k';\n",
       "    value += event.which.toString();\n",
       "\n",
       "    this._key_event_extra(event, name);\n",
       "\n",
       "    this.send_message(name, {key: value,\n",
       "                             guiEvent: simpleKeys(event)});\n",
       "    return false;\n",
       "}\n",
       "\n",
       "mpl.figure.prototype.toolbar_button_onclick = function(name) {\n",
       "    if (name == 'download') {\n",
       "        this.handle_save(this, null);\n",
       "    } else {\n",
       "        this.send_message(\"toolbar_button\", {name: name});\n",
       "    }\n",
       "};\n",
       "\n",
       "mpl.figure.prototype.toolbar_button_onmouseover = function(tooltip) {\n",
       "    this.message.textContent = tooltip;\n",
       "};\n",
       "mpl.toolbar_items = [[\"Home\", \"Reset original view\", \"fa fa-home icon-home\", \"home\"], [\"Back\", \"Back to previous view\", \"fa fa-arrow-left icon-arrow-left\", \"back\"], [\"Forward\", \"Forward to next view\", \"fa fa-arrow-right icon-arrow-right\", \"forward\"], [\"\", \"\", \"\", \"\"], [\"Pan\", \"Pan axes with left mouse, zoom with right\", \"fa fa-arrows icon-move\", \"pan\"], [\"Zoom\", \"Zoom to rectangle\", \"fa fa-square-o icon-check-empty\", \"zoom\"], [\"\", \"\", \"\", \"\"], [\"Download\", \"Download plot\", \"fa fa-floppy-o icon-save\", \"download\"]];\n",
       "\n",
       "mpl.extensions = [\"eps\", \"pdf\", \"png\", \"ps\", \"raw\", \"svg\"];\n",
       "\n",
       "mpl.default_extension = \"png\";var comm_websocket_adapter = function(comm) {\n",
       "    // Create a \"websocket\"-like object which calls the given IPython comm\n",
       "    // object with the appropriate methods. Currently this is a non binary\n",
       "    // socket, so there is still some room for performance tuning.\n",
       "    var ws = {};\n",
       "\n",
       "    ws.close = function() {\n",
       "        comm.close()\n",
       "    };\n",
       "    ws.send = function(m) {\n",
       "        //console.log('sending', m);\n",
       "        comm.send(m);\n",
       "    };\n",
       "    // Register the callback with on_msg.\n",
       "    comm.on_msg(function(msg) {\n",
       "        //console.log('receiving', msg['content']['data'], msg);\n",
       "        // Pass the mpl event to the overridden (by mpl) onmessage function.\n",
       "        ws.onmessage(msg['content']['data'])\n",
       "    });\n",
       "    return ws;\n",
       "}\n",
       "\n",
       "mpl.mpl_figure_comm = function(comm, msg) {\n",
       "    // This is the function which gets called when the mpl process\n",
       "    // starts-up an IPython Comm through the \"matplotlib\" channel.\n",
       "\n",
       "    var id = msg.content.data.id;\n",
       "    // Get hold of the div created by the display call when the Comm\n",
       "    // socket was opened in Python.\n",
       "    var element = $(\"#\" + id);\n",
       "    var ws_proxy = comm_websocket_adapter(comm)\n",
       "\n",
       "    function ondownload(figure, format) {\n",
       "        window.open(figure.imageObj.src);\n",
       "    }\n",
       "\n",
       "    var fig = new mpl.figure(id, ws_proxy,\n",
       "                           ondownload,\n",
       "                           element.get(0));\n",
       "\n",
       "    // Call onopen now - mpl needs it, as it is assuming we've passed it a real\n",
       "    // web socket which is closed, not our websocket->open comm proxy.\n",
       "    ws_proxy.onopen();\n",
       "\n",
       "    fig.parent_element = element.get(0);\n",
       "    fig.cell_info = mpl.find_output_cell(\"<div id='\" + id + \"'></div>\");\n",
       "    if (!fig.cell_info) {\n",
       "        console.error(\"Failed to find cell for figure\", id, fig);\n",
       "        return;\n",
       "    }\n",
       "\n",
       "    var output_index = fig.cell_info[2]\n",
       "    var cell = fig.cell_info[0];\n",
       "\n",
       "};\n",
       "\n",
       "mpl.figure.prototype.handle_close = function(fig, msg) {\n",
       "    var width = fig.canvas.width/mpl.ratio\n",
       "    fig.root.unbind('remove')\n",
       "\n",
       "    // Update the output cell to use the data from the current canvas.\n",
       "    fig.push_to_output();\n",
       "    var dataURL = fig.canvas.toDataURL();\n",
       "    // Re-enable the keyboard manager in IPython - without this line, in FF,\n",
       "    // the notebook keyboard shortcuts fail.\n",
       "    IPython.keyboard_manager.enable()\n",
       "    $(fig.parent_element).html('<img src=\"' + dataURL + '\" width=\"' + width + '\">');\n",
       "    fig.close_ws(fig, msg);\n",
       "}\n",
       "\n",
       "mpl.figure.prototype.close_ws = function(fig, msg){\n",
       "    fig.send_message('closing', msg);\n",
       "    // fig.ws.close()\n",
       "}\n",
       "\n",
       "mpl.figure.prototype.push_to_output = function(remove_interactive) {\n",
       "    // Turn the data on the canvas into data in the output cell.\n",
       "    var width = this.canvas.width/mpl.ratio\n",
       "    var dataURL = this.canvas.toDataURL();\n",
       "    this.cell_info[1]['text/html'] = '<img src=\"' + dataURL + '\" width=\"' + width + '\">';\n",
       "}\n",
       "\n",
       "mpl.figure.prototype.updated_canvas_event = function() {\n",
       "    // Tell IPython that the notebook contents must change.\n",
       "    IPython.notebook.set_dirty(true);\n",
       "    this.send_message(\"ack\", {});\n",
       "    var fig = this;\n",
       "    // Wait a second, then push the new image to the DOM so\n",
       "    // that it is saved nicely (might be nice to debounce this).\n",
       "    setTimeout(function () { fig.push_to_output() }, 1000);\n",
       "}\n",
       "\n",
       "mpl.figure.prototype._init_toolbar = function() {\n",
       "    var fig = this;\n",
       "\n",
       "    var nav_element = $('<div/>');\n",
       "    nav_element.attr('style', 'width: 100%');\n",
       "    this.root.append(nav_element);\n",
       "\n",
       "    // Define a callback function for later on.\n",
       "    function toolbar_event(event) {\n",
       "        return fig.toolbar_button_onclick(event['data']);\n",
       "    }\n",
       "    function toolbar_mouse_event(event) {\n",
       "        return fig.toolbar_button_onmouseover(event['data']);\n",
       "    }\n",
       "\n",
       "    for(var toolbar_ind in mpl.toolbar_items){\n",
       "        var name = mpl.toolbar_items[toolbar_ind][0];\n",
       "        var tooltip = mpl.toolbar_items[toolbar_ind][1];\n",
       "        var image = mpl.toolbar_items[toolbar_ind][2];\n",
       "        var method_name = mpl.toolbar_items[toolbar_ind][3];\n",
       "\n",
       "        if (!name) { continue; };\n",
       "\n",
       "        var button = $('<button class=\"btn btn-default\" href=\"#\" title=\"' + name + '\"><i class=\"fa ' + image + ' fa-lg\"></i></button>');\n",
       "        button.click(method_name, toolbar_event);\n",
       "        button.mouseover(tooltip, toolbar_mouse_event);\n",
       "        nav_element.append(button);\n",
       "    }\n",
       "\n",
       "    // Add the status bar.\n",
       "    var status_bar = $('<span class=\"mpl-message\" style=\"text-align:right; float: right;\"/>');\n",
       "    nav_element.append(status_bar);\n",
       "    this.message = status_bar[0];\n",
       "\n",
       "    // Add the close button to the window.\n",
       "    var buttongrp = $('<div class=\"btn-group inline pull-right\"></div>');\n",
       "    var button = $('<button class=\"btn btn-mini btn-primary\" href=\"#\" title=\"Stop Interaction\"><i class=\"fa fa-power-off icon-remove icon-large\"></i></button>');\n",
       "    button.click(function (evt) { fig.handle_close(fig, {}); } );\n",
       "    button.mouseover('Stop Interaction', toolbar_mouse_event);\n",
       "    buttongrp.append(button);\n",
       "    var titlebar = this.root.find($('.ui-dialog-titlebar'));\n",
       "    titlebar.prepend(buttongrp);\n",
       "}\n",
       "\n",
       "mpl.figure.prototype._root_extra_style = function(el){\n",
       "    var fig = this\n",
       "    el.on(\"remove\", function(){\n",
       "\tfig.close_ws(fig, {});\n",
       "    });\n",
       "}\n",
       "\n",
       "mpl.figure.prototype._canvas_extra_style = function(el){\n",
       "    // this is important to make the div 'focusable\n",
       "    el.attr('tabindex', 0)\n",
       "    // reach out to IPython and tell the keyboard manager to turn it's self\n",
       "    // off when our div gets focus\n",
       "\n",
       "    // location in version 3\n",
       "    if (IPython.notebook.keyboard_manager) {\n",
       "        IPython.notebook.keyboard_manager.register_events(el);\n",
       "    }\n",
       "    else {\n",
       "        // location in version 2\n",
       "        IPython.keyboard_manager.register_events(el);\n",
       "    }\n",
       "\n",
       "}\n",
       "\n",
       "mpl.figure.prototype._key_event_extra = function(event, name) {\n",
       "    var manager = IPython.notebook.keyboard_manager;\n",
       "    if (!manager)\n",
       "        manager = IPython.keyboard_manager;\n",
       "\n",
       "    // Check for shift+enter\n",
       "    if (event.shiftKey && event.which == 13) {\n",
       "        this.canvas_div.blur();\n",
       "        // select the cell after this one\n",
       "        var index = IPython.notebook.find_cell_index(this.cell_info[0]);\n",
       "        IPython.notebook.select(index + 1);\n",
       "    }\n",
       "}\n",
       "\n",
       "mpl.figure.prototype.handle_save = function(fig, msg) {\n",
       "    fig.ondownload(fig, null);\n",
       "}\n",
       "\n",
       "\n",
       "mpl.find_output_cell = function(html_output) {\n",
       "    // Return the cell and output element which can be found *uniquely* in the notebook.\n",
       "    // Note - this is a bit hacky, but it is done because the \"notebook_saving.Notebook\"\n",
       "    // IPython event is triggered only after the cells have been serialised, which for\n",
       "    // our purposes (turning an active figure into a static one), is too late.\n",
       "    var cells = IPython.notebook.get_cells();\n",
       "    var ncells = cells.length;\n",
       "    for (var i=0; i<ncells; i++) {\n",
       "        var cell = cells[i];\n",
       "        if (cell.cell_type === 'code'){\n",
       "            for (var j=0; j<cell.output_area.outputs.length; j++) {\n",
       "                var data = cell.output_area.outputs[j];\n",
       "                if (data.data) {\n",
       "                    // IPython >= 3 moved mimebundle to data attribute of output\n",
       "                    data = data.data;\n",
       "                }\n",
       "                if (data['text/html'] == html_output) {\n",
       "                    return [cell, data, j];\n",
       "                }\n",
       "            }\n",
       "        }\n",
       "    }\n",
       "}\n",
       "\n",
       "// Register the function which deals with the matplotlib target/channel.\n",
       "// The kernel may be null if the page has been refreshed.\n",
       "if (IPython.notebook.kernel != null) {\n",
       "    IPython.notebook.kernel.comm_manager.register_target('matplotlib', mpl.mpl_figure_comm);\n",
       "}\n"
      ],
      "text/plain": [
       "<IPython.core.display.Javascript object>"
      ]
     },
     "metadata": {},
     "output_type": "display_data"
    },
    {
     "data": {
      "text/html": [
       "<img src=\"data:image/png;base64,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\" width=\"400\">"
      ],
      "text/plain": [
       "<IPython.core.display.HTML object>"
      ]
     },
     "metadata": {},
     "output_type": "display_data"
    }
   ],
   "source": [
    "fig, ax = plt.subplots(figsize=(4, 3))\n",
    "ax.hist(abs(nd_eri0_mo).ravel(), bins=np.logspace(np.log10(1e-7),np.log10(1e2), 50), alpha=0.5)\n",
    "ax.set_xscale(\"log\")\n",
    "fig.tight_layout()"
   ]
  },
  {
   "cell_type": "markdown",
   "metadata": {},
   "source": [
    "### 任务 (3)"
   ]
  },
  {
   "cell_type": "markdown",
   "metadata": {},
   "source": [
    "$$\n",
    "E_\\mathrm{elec} = h_{\\mu \\nu} D_{\\mu \\nu} + \\frac{1}{2} D_{\\mu \\nu} (\\mu \\nu | \\kappa \\lambda) D_{\\kappa \\lambda} - \\frac{1}{4} D_{\\mu \\nu} (\\mu  \\lambda| \\kappa \\nu) D_{\\kappa \\lambda}\n",
    "$$\n",
    "\n",
    "上式除开 Skeleton 导数之外，就是所有对密度矩阵 $D_{\\mu \\nu}$ 或 $D_{\\kappa \\lambda}$ 的导数贡献了："
   ]
  },
  {
   "cell_type": "markdown",
   "metadata": {},
   "source": [
    "$$\n",
    "\\begin{align}\n",
    "\\frac{\\partial E_\\mathrm{elec}}{\\partial F_t} \\leftarrow h_{\\mu \\nu} \\frac{\\partial D_{\\mu \\nu}}{\\partial F_t} + \\frac{1}{2} \\frac{\\partial D_{\\mu \\nu}}{\\partial F_t} (\\mu \\nu | \\kappa \\lambda) D_{\\kappa \\lambda} + \\frac{1}{2} D_{\\mu \\nu} (\\mu \\nu | \\kappa \\lambda) \\frac{\\partial D_{\\kappa \\lambda}}{\\partial F_t} - \\frac{1}{4} \\frac{\\partial D_{\\mu \\nu}}{\\partial F_t} (\\mu  \\lambda| \\kappa \\nu) D_{\\kappa \\lambda} - \\frac{1}{4} D_{\\mu \\nu} (\\mu  \\lambda| \\kappa \\nu) \\frac{\\partial D_{\\kappa \\lambda}}{\\partial F_t}\n",
    "\\end{align}\n",
    "$$"
   ]
  },
  {
   "cell_type": "markdown",
   "metadata": {},
   "source": [
    "上式的向左箭头意指贡献而非等价。我们指出，上式的第 2、3 项是相等的。我们先用普通的求和形式写出上面的第 2、3 项：\n",
    "\n",
    "$$\n",
    "\\begin{align}\n",
    "\\textsf{Term 2}&: \\, \\frac{1}{2} \\sum_{\\mu \\nu \\kappa \\lambda} \\frac{\\partial D_{\\mu \\nu}}{\\partial F_t} (\\mu \\nu | \\kappa \\lambda) D_{\\kappa \\lambda} \\\\\n",
    "\\textsf{Term 3}&: \\, \\frac{1}{2} \\sum_{\\mu \\nu \\kappa \\lambda} D_{\\mu \\nu} (\\mu \\nu | \\kappa \\lambda) \\frac{\\partial D_{\\kappa \\lambda}}{\\partial F_t}\n",
    "\\end{align}\n",
    "$$"
   ]
  },
  {
   "cell_type": "markdown",
   "metadata": {},
   "source": [
    "既然是求和，那么角标符号就不再重要。我们将第 3 项的角标 $(\\mu, \\nu, \\kappa, \\lambda)$ 替换为 $(\\kappa, \\lambda, \\mu, \\nu)$，得到\n",
    "\n",
    "$$\n",
    "\\textsf{Term 3}: \\, \\frac{1}{2} \\sum_{\\kappa \\lambda \\mu \\nu} D_{\\kappa \\lambda} (\\kappa \\lambda | \\mu \\nu) \\frac{\\partial D_{\\mu \\nu}}{\\partial F_t}\n",
    "$$"
   ]
  },
  {
   "cell_type": "markdown",
   "metadata": {},
   "source": [
    "这里需要利用到 ERI 积分的对称性\n",
    "\n",
    "$$\n",
    "(\\kappa \\lambda | \\mu \\nu) = (\\mu \\nu | \\kappa \\lambda)\n",
    "$$\n",
    "\n",
    "就得到了与第 2 项完全一模一样的结果。\n",
    "\n",
    "对于第 4、5 项亦作同样处理，得到\n",
    "\n",
    "$$\n",
    "\\begin{align}\n",
    "\\frac{\\partial E_\\mathrm{elec}}{\\partial F_t} &\\leftarrow h_{\\mu \\nu} \\frac{\\partial D_{\\mu \\nu}}{\\partial F_t} + \\frac{\\partial D_{\\mu \\nu}}{\\partial F_t} (\\mu \\nu | \\kappa \\lambda) D_{\\kappa \\lambda} - \\frac{1}{2} \\frac{\\partial D_{\\mu \\nu}}{\\partial F_t} (\\mu \\lambda| \\kappa \\nu) D_{\\kappa \\lambda} \\\\\n",
    "&= \\big( h_{\\mu \\nu} + (\\mu \\nu | \\kappa \\lambda) D_{\\kappa \\lambda} - \\frac{1}{2} (\\mu \\lambda| \\kappa \\nu) D_{\\kappa \\lambda} \\big) \\frac{\\partial D_{\\mu \\nu}}{\\partial F_t} \\\\\n",
    "&= F_{\\mu \\nu} \\frac{\\partial D_{\\mu \\nu}}{\\partial F_t}\n",
    "\\end{align}\n",
    "$$"
   ]
  },
  {
   "cell_type": "markdown",
   "metadata": {},
   "source": [
    "关于 RHF 下 Fock 矩阵的形式，读者可能需要自行回忆一下。我们在此用程序表明 RHF 下，\n",
    "\n",
    "$$\n",
    "F_{\\mu \\nu} = h_{\\mu \\nu} + (\\mu \\nu | \\kappa \\lambda) D_{\\kappa \\lambda} - \\frac{1}{2} (\\mu \\lambda| \\kappa \\nu) D_{\\kappa \\lambda}\n",
    "$$"
   ]
  },
  {
   "cell_type": "code",
   "execution_count": 36,
   "metadata": {},
   "outputs": [
    {
     "data": {
      "text/plain": [
       "True"
      ]
     },
     "execution_count": 36,
     "metadata": {},
     "output_type": "execute_result"
    }
   ],
   "source": [
    "np.allclose(\n",
    "    + H_0_ao\n",
    "    + np.einsum(\"uvkl, kl -> uv\", eri0_ao, D)\n",
    "    - 0.5 * np.einsum(\"ukvl, kl -> uv\", eri0_ao, D),\n",
    "    F_0_ao\n",
    ")"
   ]
  },
  {
   "cell_type": "markdown",
   "metadata": {},
   "source": [
    "### 任务 (4)"
   ]
  },
  {
   "cell_type": "markdown",
   "metadata": {},
   "source": [
    "<div class=\"alert alert-info\">\n",
    "\n",
    "**任务 (4)**\n",
    "\n",
    "上式第二、第三项中 Skeleton 导数 $(\\mu \\nu | \\kappa \\lambda)^t$ 为零，因此值为零；这是很容易理解的。\n",
    "\n",
    "请证明第四项也为零。\n",
    "\n",
    "</div>"
   ]
  },
  {
   "cell_type": "markdown",
   "metadata": {},
   "source": [
    "我们继续对上一个任务中没有化简完的 $\\frac{\\partial D_{\\mu \\nu}}{\\partial F_t}$ 作展开。我们知道，密度矩阵从定义上是占据轨道矩阵的缩并：\n",
    "\n",
    "$$\n",
    "D_{\\mu \\nu} = C_{\\mu i} C_{\\nu i}\n",
    "$$\n",
    "\n",
    "那么，根据链式法则，有\n",
    "\n",
    "$$\n",
    "\\frac{\\partial D_{\\mu \\nu}}{\\partial F_t} = \\frac{\\partial C_{\\mu i}}{\\partial F_t} C_{\\nu i} + C_{\\mu i} \\frac{\\partial C_{\\nu i}}{\\partial F_t}\n",
    "$$"
   ]
  },
  {
   "cell_type": "markdown",
   "metadata": {},
   "source": [
    "根据 U 矩阵定义\n",
    "\n",
    "$$\n",
    "\\frac{\\partial C_{\\mu p}}{\\partial \\mathbb{A}} = C_{\\mu m} U_{mp}^\\mathbb{A}\n",
    "$$"
   ]
  },
  {
   "cell_type": "markdown",
   "metadata": {},
   "source": [
    "代入链式法则导出式，得到\n",
    "\n",
    "$$\n",
    "\\frac{\\partial D_{\\mu \\nu}}{\\partial F_t} = C_{\\mu m} U_{mi}^t C_{\\nu i} + C_{\\mu i} C_{\\nu m} U_{mi}^t\n",
    "$$"
   ]
  },
  {
   "cell_type": "markdown",
   "metadata": {},
   "source": [
    "上式中出现了看上去非常相似的两项；但这两项并非是相等，而是互为转置。我们以后会用 `U_1` 表示 U 矩阵 (但 U 矩阵分为安全与非安全的，但现在还不需要了解这些)："
   ]
  },
  {
   "cell_type": "code",
   "execution_count": 37,
   "metadata": {},
   "outputs": [],
   "source": [
    "U_1 = diph.U_1"
   ]
  },
  {
   "cell_type": "markdown",
   "metadata": {},
   "source": [
    "用 np.allclose 可以验证其互为转置关系："
   ]
  },
  {
   "cell_type": "code",
   "execution_count": 38,
   "metadata": {},
   "outputs": [
    {
     "data": {
      "text/plain": [
       "True"
      ]
     },
     "execution_count": 38,
     "metadata": {},
     "output_type": "execute_result"
    }
   ],
   "source": [
    "np.allclose(\n",
    "    np.einsum(\"um, tmi, vi -> tuv\", C, U_1[:, sa, so], Co),\n",
    "    np.einsum(\"ui, vm, tmi -> tuv\", Co, C, U_1[:, sa, so]).swapaxes(-1, -2)\n",
    ")"
   ]
  },
  {
   "cell_type": "markdown",
   "metadata": {},
   "source": [
    "将 $\\frac{\\partial D_{\\mu \\nu}}{\\partial F_t}$ 结果代入，得到\n",
    "\n",
    "$$\n",
    "\\frac{\\partial E_\\mathrm{elec}}{\\partial F_t} \\leftarrow F_{\\mu \\nu} \\frac{\\partial D_{\\mu \\nu}}{\\partial F_t} = (F_{mi} + F_{im}) U_{mi}^t = 2 F_{mi} U_{mi}^t\n",
    "$$"
   ]
  },
  {
   "cell_type": "markdown",
   "metadata": {},
   "source": [
    "我们将上述矩阵分为两部分考虑。若 $m$ 处在非占轨道，则\n",
    "\n",
    "$$\n",
    "\\frac{\\partial E_\\mathrm{elec}}{\\partial F_t} \\leftarrow 2 F_{ai} U_{ai}^t = 0\n",
    "$$\n",
    "\n",
    "这是因为从 RHF 定义上，$F_{ai} = 0$。"
   ]
  },
  {
   "cell_type": "markdown",
   "metadata": {},
   "source": [
    "剩下的部分是 $m$ 处于占据轨道，则\n",
    "\n",
    "$$\n",
    "\\frac{\\partial E_\\mathrm{elec}}{\\partial F_t} \\leftarrow 2 F_{ji} U_{ji}^t = F_{ij} U_{ij}^t + F_{ji} U_{ji}^t = F_{ij} (U_{ij}^t + U_{ji}^t) = 0\n",
    "$$"
   ]
  },
  {
   "cell_type": "markdown",
   "metadata": {},
   "source": [
    "上式的\n",
    "\n",
    "- 第一个等号利用到的是对 $(i, j)$ 求和等价于对 $(j, i)$ 求和，因此可以互换 $(i, j)$ 角标而不影响结果；\n",
    "\n",
    "- 第二个等号利用到的是 $F_{ij} = F_{ji}$ 即 Fock 矩阵是对称矩阵；\n",
    "\n",
    "- 第三个等号利用到的是 $U_{ij}^t + U_{ji}^t = - S_{ij}^t = 0$，其更为一般的结论 $S_{pq}^\\mathbb{A} + U_{pq}^\\mathbb{A} + U_{qp}^\\mathbb{A} = 0$ 我们已经在上一节的任务中证明了。"
   ]
  }
 ],
 "metadata": {
  "kernelspec": {
   "display_name": "Python 3",
   "language": "python",
   "name": "python3"
  },
  "language_info": {
   "codemirror_mode": {
    "name": "ipython",
    "version": 3
   },
   "file_extension": ".py",
   "mimetype": "text/x-python",
   "name": "python",
   "nbconvert_exporter": "python",
   "pygments_lexer": "ipython3",
   "version": "3.8.1"
  },
  "toc": {
   "base_numbering": 1,
   "nav_menu": {},
   "number_sections": true,
   "sideBar": true,
   "skip_h1_title": false,
   "title_cell": "Table of Contents",
   "title_sidebar": "Contents",
   "toc_cell": false,
   "toc_position": {
    "height": "calc(100% - 180px)",
    "left": "10px",
    "top": "150px",
    "width": "262.6px"
   },
   "toc_section_display": true,
   "toc_window_display": true
  }
 },
 "nbformat": 4,
 "nbformat_minor": 4
}
