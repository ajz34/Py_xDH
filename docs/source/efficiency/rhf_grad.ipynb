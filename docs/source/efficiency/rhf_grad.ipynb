{
 "cells": [
  {
   "cell_type": "markdown",
   "metadata": {},
   "source": [
    "# 重新学习 RHF 核坐标梯度笔记"
   ]
  },
  {
   "cell_type": "markdown",
   "metadata": {},
   "source": [
    "## 初始化"
   ]
  },
  {
   "cell_type": "code",
   "execution_count": 1,
   "metadata": {},
   "outputs": [],
   "source": [
    "from pyscf import gto, scf, grad, hessian, lib\n",
    "import numpy as np\n",
    "from functools import partial\n",
    "import h5py\n",
    "from pyscf.scf import _vhf\n",
    "\n",
    "from pyxdh.DerivOnce import GradSCF\n",
    "\n",
    "np.set_printoptions(4, suppress=True, linewidth=180)\n",
    "np.einsum = partial(np.einsum, optimize=[\"greedy\", 1024 ** 3 * 2 / 8])"
   ]
  },
  {
   "cell_type": "code",
   "execution_count": 2,
   "metadata": {},
   "outputs": [
    {
     "data": {
      "text/plain": [
       "<pyscf.gto.mole.Mole at 0x7f2550327640>"
      ]
     },
     "execution_count": 2,
     "metadata": {},
     "output_type": "execute_result"
    }
   ],
   "source": [
    "mol = gto.Mole()\n",
    "mol.atom = \"\"\"\n",
    "N  0.  0.  0.\n",
    "H  1.5 0.  0.2\n",
    "H  0.1 1.2 0.\n",
    "H  0.  0.  1.\n",
    "\"\"\"\n",
    "mol.basis = \"6-31G\"\n",
    "mol.verbose = 0\n",
    "mol.build()"
   ]
  },
  {
   "cell_type": "code",
   "execution_count": 3,
   "metadata": {},
   "outputs": [
    {
     "data": {
      "text/plain": [
       "array([[-0.1408, -0.1166, -0.0278],\n",
       "       [ 0.0947,  0.0102,  0.0289],\n",
       "       [ 0.0195,  0.0815,  0.0225],\n",
       "       [ 0.0266,  0.025 , -0.0236]])"
      ]
     },
     "execution_count": 3,
     "metadata": {},
     "output_type": "execute_result"
    }
   ],
   "source": [
    "mf_scf = scf.RHF(mol).run()\n",
    "mf_grad = grad.RHF(mf_scf).run()\n",
    "mf_hess = hessian.RHF(mf_scf).run()\n",
    "mf_grad.de"
   ]
  },
  {
   "cell_type": "code",
   "execution_count": 4,
   "metadata": {},
   "outputs": [
    {
     "data": {
      "text/plain": [
       "array([[-0.1408, -0.1166, -0.0278],\n",
       "       [ 0.0947,  0.0102,  0.0289],\n",
       "       [ 0.0195,  0.0815,  0.0225],\n",
       "       [ 0.0266,  0.025 , -0.0236]])"
      ]
     },
     "execution_count": 4,
     "metadata": {},
     "output_type": "execute_result"
    }
   ],
   "source": [
    "gradh = GradSCF({\"scf_eng\": mf_scf})\n",
    "gradh.E_1"
   ]
  },
  {
   "cell_type": "markdown",
   "metadata": {},
   "source": [
    "## PySCF 函数"
   ]
  },
  {
   "cell_type": "markdown",
   "metadata": {},
   "source": [
    "### `hcore_generator`"
   ]
  },
  {
   "cell_type": "markdown",
   "metadata": {},
   "source": [
    "用于生成 $h_{\\mu \\nu}^{A_t}$，与 `gradh.H_1_ao` 对应。`hcore_generator` 是函数生成器。生成的函数的输入参量是原子序号 $A$，输出是 $h_{\\mu \\nu}^{A_t}$。"
   ]
  },
  {
   "cell_type": "code",
   "execution_count": 5,
   "metadata": {},
   "outputs": [],
   "source": [
    "hcore_deriv = mf_grad.hcore_generator(mol)"
   ]
  },
  {
   "cell_type": "code",
   "execution_count": 6,
   "metadata": {
    "scrolled": true
   },
   "outputs": [
    {
     "data": {
      "text/plain": [
       "True"
      ]
     },
     "execution_count": 6,
     "metadata": {},
     "output_type": "execute_result"
    }
   ],
   "source": [
    "np.allclose(hcore_deriv(0), gradh.H_1_ao[:3])"
   ]
  },
  {
   "cell_type": "markdown",
   "metadata": {},
   "source": [
    "### `get_ovlp`"
   ]
  },
  {
   "cell_type": "markdown",
   "metadata": {},
   "source": [
    "用于生成与 $S_{\\mu \\nu}^{A_t}$ 有关的量 $- (\\partial_t \\mu | \\nu)$。**注意：** 并非直接生成 $S_{\\mu \\nu}^{A_t}$。同时注意负号。"
   ]
  },
  {
   "cell_type": "code",
   "execution_count": 7,
   "metadata": {},
   "outputs": [
    {
     "data": {
      "text/plain": [
       "True"
      ]
     },
     "execution_count": 7,
     "metadata": {},
     "output_type": "execute_result"
    }
   ],
   "source": [
    "np.allclose(mf_grad.get_ovlp(mol), - mol.intor(\"int1e_ipovlp\"))"
   ]
  },
  {
   "cell_type": "markdown",
   "metadata": {},
   "source": [
    "### `make_rdm1e`"
   ]
  },
  {
   "cell_type": "markdown",
   "metadata": {},
   "source": [
    "用于生成轨道能加权密度 $R_{\\mu \\nu} [\\varepsilon_i]$。\n",
    "\n",
    "$$\n",
    "R_{\\mu \\nu} [\\varepsilon_i] := 2 C_{\\mu i} \\varepsilon_i C_{\\nu i}\n",
    "$$"
   ]
  },
  {
   "cell_type": "code",
   "execution_count": 8,
   "metadata": {},
   "outputs": [],
   "source": [
    "Co, eo = gradh.Co, gradh.eo"
   ]
  },
  {
   "cell_type": "code",
   "execution_count": 9,
   "metadata": {},
   "outputs": [
    {
     "data": {
      "text/plain": [
       "True"
      ]
     },
     "execution_count": 9,
     "metadata": {},
     "output_type": "execute_result"
    }
   ],
   "source": [
    "np.allclose(\n",
    "    2 * np.einsum(\"ui, i, vi -> uv\", Co, eo, Co),\n",
    "    mf_grad.make_rdm1e(mf_scf.mo_energy, mf_scf.mo_coeff, mf_scf.mo_occ),\n",
    ")"
   ]
  },
  {
   "cell_type": "markdown",
   "metadata": {},
   "source": [
    "**einsum 效率警告：** 此处不适合用 einsum。"
   ]
  },
  {
   "cell_type": "code",
   "execution_count": 10,
   "metadata": {},
   "outputs": [
    {
     "data": {
      "text/plain": [
       "True"
      ]
     },
     "execution_count": 10,
     "metadata": {},
     "output_type": "execute_result"
    }
   ],
   "source": [
    "np.allclose(\n",
    "    2 * np.einsum(\"ui, i, vi -> uv\", Co, eo, Co),\n",
    "    2 * (Co * eo) @ Co.T,\n",
    ")"
   ]
  },
  {
   "cell_type": "code",
   "execution_count": 11,
   "metadata": {},
   "outputs": [
    {
     "name": "stdout",
     "output_type": "stream",
     "text": [
      "121 µs ± 11.7 µs per loop (mean ± std. dev. of 7 runs, 1000 loops each)\n"
     ]
    }
   ],
   "source": [
    "%%timeit -r 7 -n 1000\n",
    "2 * np.einsum(\"ui, i, vi -> uv\", Co, eo, Co)"
   ]
  },
  {
   "cell_type": "code",
   "execution_count": 12,
   "metadata": {},
   "outputs": [
    {
     "name": "stdout",
     "output_type": "stream",
     "text": [
      "5.36 µs ± 847 ns per loop (mean ± std. dev. of 7 runs, 1000 loops each)\n"
     ]
    }
   ],
   "source": [
    "%%timeit -r 7 -n 1000\n",
    "2 * (Co * eo) @ Co.T"
   ]
  },
  {
   "cell_type": "markdown",
   "metadata": {},
   "source": [
    "### `get_j`, `get_k`"
   ]
  },
  {
   "cell_type": "markdown",
   "metadata": {},
   "source": [
    "作张量缩并\n",
    "\n",
    "$$\n",
    "\\begin{align}\n",
    "J_{\\mu \\nu}^t [R_{\\lambda \\kappa}] &= - (\\partial_t \\mu \\nu | \\kappa \\lambda) R_{\\lambda \\kappa} \\\\\n",
    "K_{\\mu \\lambda}^t [R_{\\nu \\lambda}] &= - (\\partial_t \\mu \\nu | \\kappa \\lambda) R_{\\nu \\kappa}\n",
    "\\end{align}\n",
    "$$\n",
    "\n",
    "这个程序与 `get_jk` 有关。其底层调用是 `scf._vhf.direct_mapdm`。我们在后文讨论该函数。"
   ]
  },
  {
   "cell_type": "code",
   "execution_count": 13,
   "metadata": {},
   "outputs": [
    {
     "data": {
      "text/plain": [
       "True"
      ]
     },
     "execution_count": 13,
     "metadata": {},
     "output_type": "execute_result"
    }
   ],
   "source": [
    "np.allclose(\n",
    "    - np.einsum(\"tuvkl, kl -> tuv\", mol.intor(\"int2e_ip1\"), gradh.D),\n",
    "    mf_grad.get_j(),\n",
    ")"
   ]
  },
  {
   "cell_type": "code",
   "execution_count": 14,
   "metadata": {},
   "outputs": [
    {
     "data": {
      "text/plain": [
       "True"
      ]
     },
     "execution_count": 14,
     "metadata": {},
     "output_type": "execute_result"
    }
   ],
   "source": [
    "np.allclose(\n",
    "    - np.einsum(\"tuvkl, vk -> tul\", mol.intor(\"int2e_ip1\"), gradh.D),\n",
    "    mf_grad.get_k(),\n",
    ")"
   ]
  },
  {
   "cell_type": "markdown",
   "metadata": {},
   "source": [
    "**记号误认警告：** 注意等式左右的下角标，这里刻意用了与 PySCF 本体程序类似的记号。但在理解程序上比较关键。如果采用 pyxdh 的习惯，公式应写为\n",
    "\n",
    "$$\n",
    "\\begin{align}\n",
    "J_{\\mu \\nu}^t [R_{\\kappa \\lambda}] &= - (\\partial_t \\mu \\nu | \\kappa \\lambda) R_{\\kappa \\lambda} \\\\\n",
    "K_{\\mu \\nu}^t [R_{\\kappa \\lambda}] &= - (\\partial_t \\mu \\kappa | \\nu \\lambda) R_{\\kappa \\lambda}\n",
    "\\end{align}\n",
    "$$"
   ]
  },
  {
   "cell_type": "markdown",
   "metadata": {},
   "source": [
    "**函数效率警告：** 存在更高效的函数 `get_jk`。这里不介绍其调用方式。"
   ]
  },
  {
   "cell_type": "code",
   "execution_count": 15,
   "metadata": {},
   "outputs": [
    {
     "name": "stdout",
     "output_type": "stream",
     "text": [
      "33.5 ms ± 1.35 ms per loop (mean ± std. dev. of 7 runs, 10 loops each)\n"
     ]
    }
   ],
   "source": [
    "%%timeit -n 10\n",
    "mf_grad.get_j()"
   ]
  },
  {
   "cell_type": "code",
   "execution_count": 16,
   "metadata": {},
   "outputs": [
    {
     "name": "stdout",
     "output_type": "stream",
     "text": [
      "35.2 ms ± 1.5 ms per loop (mean ± std. dev. of 7 runs, 10 loops each)\n"
     ]
    }
   ],
   "source": [
    "%%timeit -n 10\n",
    "mf_grad.get_jk()"
   ]
  },
  {
   "cell_type": "markdown",
   "metadata": {},
   "source": [
    "### `_vhf.direct_mapdm`"
   ]
  },
  {
   "cell_type": "markdown",
   "metadata": {},
   "source": [
    "该函数专门地用于计算双电子积分与密度矩阵的缩并。"
   ]
  },
  {
   "cell_type": "code",
   "execution_count": 17,
   "metadata": {},
   "outputs": [
    {
     "data": {
      "text/plain": [
       "<function pyscf.scf._vhf.direct_mapdm(intor, aosym, jkdescript, dms, ncomp, atm, bas, env, vhfopt=None, cintopt=None, shls_slice=None)>"
      ]
     },
     "execution_count": 17,
     "metadata": {},
     "output_type": "execute_result"
    }
   ],
   "source": [
    "_vhf.direct_mapdm"
   ]
  },
  {
   "cell_type": "markdown",
   "metadata": {},
   "source": [
    "- `intor` 双电子积分的类型\n",
    "\n",
    "    - 必须要指定积分形式，譬如 `int2e_ip1` 是不允许的。如果所求的分子积分是球谐形式，那么就需要在后面增加词尾 `_sph`，从而是 `int2e_ip1_sph`。\n",
    "    \n",
    "    - 词尾的增加可以是 `mol._add_suffix(\"int2e_ip1\")`。一般球谐是 `_sph`，笛卡尔是 `_cart`，其他两种是 `_spinor`, `_ssc`。\n",
    "\n",
    "- `aosym` 双电子积分的对称性\n",
    "    \n",
    "    - 尽管可以从 `intor` 关键词推断，但必须要手动指定。使用时需要非常谨慎。如果不清楚用哪个，可以使用 `s1` 而保证结果不会错，但这会大大降低积分效率。\n",
    "    \n",
    "    - 可能的选项是 `s8`, `s4`, `s2ij`, `s2kl`, `s1`, `aa4`, `a4ij`, `a4kl`, `a2ij`, `a2kl`。这在 `scf._vhf` 文件中有所说明。\n",
    "    \n",
    "    - 所有的双电子积分假设维度是 $(t, i, j, k, l)$。`s2ij` 表示互换 $i, j$ 角标结果不变，即 $g^t_{ij, kl} = g^t_{kl, ij}$。`a4ij` 表示 $i, j$ 反对称而 $k, l$ 对称。`a2ij` 表示 $i, j$ 反对称。\n",
    "    \n",
    "    - 举例而言，$(\\partial_t \\mu \\nu | \\kappa \\lambda)$ 具有二重对称性：$(\\partial_t \\mu \\nu | \\kappa \\lambda) = (\\partial_t \\mu \\nu | \\lambda \\kappa)$。由于是后两个角标对称，因此对称性记为 `s2kl`。\n",
    "    \n",
    "    - 它不代表密度矩阵的对称性。同时，密度矩阵是否对称不会很影响计算效率。\n",
    "\n",
    "- `jkdescript` 张量缩并方式\n",
    "\n",
    "    - 对于类库伦积分，`lk->s1ij` 表示 $(\\partial_t \\mu \\nu | \\kappa \\lambda) R_{\\kappa \\lambda}$。由于最终的结果对于 $\\mu, \\nu$ 不对称，因此这里是 `s1`。\n",
    "    \n",
    "    - 密度角标只支持 `ji`, `lk`, `li`, `jk`；结果角标只支持 `_s1`, `_s2` 与 `kl`, `ij`, `kj`, `il` 的组合。\n",
    "\n",
    "- `dms` 密度矩阵，形状必须是 2 维度方阵或 3 维度张量\n",
    "\n",
    "- `ncomp` 双电子积分的大小指标\n",
    "\n",
    "    - 尽管可以从 `intor` 关键词推断，但必须要手动指定。\n",
    "    \n",
    "    - 对于 $(\\partial_t \\mu \\nu | \\kappa \\lambda)$，由于 $t$ 是 $x, y, z$ 三个方向，因此该值为 3。\n",
    "\n",
    "- `atm`, `bas`, `env` 均是分子自身的参量，一般不需要更改"
   ]
  },
  {
   "cell_type": "markdown",
   "metadata": {},
   "source": [
    "下面观察一下输出维度。如果张量缩并方式有 2 种，密度矩阵有 5 个，双电子积分大小有 3 个，那么输出的结果也会是 `(2, 5, 3, nao, nao)` 大小的张量。"
   ]
  },
  {
   "cell_type": "code",
   "execution_count": 18,
   "metadata": {},
   "outputs": [],
   "source": [
    "R_rand = np.random.randn(5, mol.nao, mol.nao)"
   ]
  },
  {
   "cell_type": "code",
   "execution_count": 19,
   "metadata": {},
   "outputs": [
    {
     "data": {
      "text/plain": [
       "(2, 5, 3, 15, 15)"
      ]
     },
     "execution_count": 19,
     "metadata": {},
     "output_type": "execute_result"
    }
   ],
   "source": [
    "res = _vhf.direct_mapdm(\"int2e_ip1_sph\", \"s2kl\", ('lk->s1ij', 'jk->s1il'), R_rand, 3, mol._atm, mol._bas, mol._env)\n",
    "np.array(res).shape"
   ]
  },
  {
   "cell_type": "code",
   "execution_count": 20,
   "metadata": {},
   "outputs": [
    {
     "data": {
      "text/plain": [
       "(True, True)"
      ]
     },
     "execution_count": 20,
     "metadata": {},
     "output_type": "execute_result"
    }
   ],
   "source": [
    "np.allclose(np.einsum(\"tijkl, Blk -> Btij\", mol.intor(\"int2e_ip1\"), R_rand), res[0]), \\\n",
    "np.allclose(np.einsum(\"tijkl, Bjk -> Btil\", mol.intor(\"int2e_ip1\"), R_rand), res[1])"
   ]
  },
  {
   "cell_type": "markdown",
   "metadata": {},
   "source": [
    "**指定对称性对效率的改变巨大：** 若电子积分是二重对称的，那么如果程序中降低对称性，效率会恰好低一倍。往往双电子积分与密度矩阵缩并是次要性能关键步；它对性能的影响不小。因此要谨慎处理。"
   ]
  },
  {
   "cell_type": "code",
   "execution_count": 21,
   "metadata": {},
   "outputs": [
    {
     "name": "stdout",
     "output_type": "stream",
     "text": [
      "34.9 ms ± 1.78 ms per loop (mean ± std. dev. of 7 runs, 5 loops each)\n"
     ]
    }
   ],
   "source": [
    "%%timeit -n 5\n",
    "_vhf.direct_mapdm(\"int2e_ip1_sph\", \"s2kl\", 'lk->s1ij', R_rand, 3, mol._atm, mol._bas, mol._env)"
   ]
  },
  {
   "cell_type": "code",
   "execution_count": 22,
   "metadata": {},
   "outputs": [
    {
     "name": "stdout",
     "output_type": "stream",
     "text": [
      "60.9 ms ± 2.79 ms per loop (mean ± std. dev. of 7 runs, 5 loops each)\n"
     ]
    }
   ],
   "source": [
    "%%timeit -n 5\n",
    "_vhf.direct_mapdm(\"int2e_ip1_sph\", \"s1\", 'lk->s1ij', R_rand, 3, mol._atm, mol._bas, mol._env)"
   ]
  },
  {
   "cell_type": "markdown",
   "metadata": {},
   "source": [
    "**效率随体系不同而不同：** 在小体系下，直接在内存中储存所有双电子积分，并且不考虑对称性地进行积分反而效率更高。但如果体系扩大，使用 `_vhf.direct_mapdm` 的必要性就出来了。同时，由于我们无法承受 $O(N^4)$ 大小的内存量，因此有必要时就使用 `_vhf.direct_mapdm` 或者其他 `_vhf` 函数。"
   ]
  },
  {
   "cell_type": "code",
   "execution_count": 23,
   "metadata": {},
   "outputs": [
    {
     "name": "stdout",
     "output_type": "stream",
     "text": [
      "15.9 ms ± 1.66 ms per loop (mean ± std. dev. of 7 runs, 5 loops each)\n"
     ]
    }
   ],
   "source": [
    "%%timeit -n 5\n",
    "np.einsum(\"tuvkl, Bkl -> Btuv\", mol.intor(\"int2e_ip1\"), R_rand)"
   ]
  },
  {
   "cell_type": "code",
   "execution_count": 24,
   "metadata": {},
   "outputs": [],
   "source": [
    "mol_large = gto.Mole()\n",
    "mol_large.atom = \"\"\"\n",
    "N  0.  0.  0.\n",
    "H  1.5 0.  0.2\n",
    "H  0.1 1.2 0.\n",
    "H  0.  0.  1.\n",
    "\"\"\"\n",
    "mol_large.basis = \"cc-pVTZ\"\n",
    "mol_large.verbose = 0\n",
    "mol_large.build()\n",
    "R_rand_large = np.random.randn(5, mol_large.nao, mol_large.nao)"
   ]
  },
  {
   "cell_type": "code",
   "execution_count": 25,
   "metadata": {
    "scrolled": true
   },
   "outputs": [
    {
     "name": "stdout",
     "output_type": "stream",
     "text": [
      "659 ms ± 9.3 ms per loop (mean ± std. dev. of 7 runs, 2 loops each)\n"
     ]
    }
   ],
   "source": [
    "%%timeit -n 2\n",
    "np.einsum(\"tuvkl, Bkl -> Btuv\", mol_large.intor(\"int2e_ip1\"), R_rand_large)"
   ]
  },
  {
   "cell_type": "code",
   "execution_count": 26,
   "metadata": {},
   "outputs": [
    {
     "name": "stdout",
     "output_type": "stream",
     "text": [
      "487 ms ± 9.11 ms per loop (mean ± std. dev. of 7 runs, 2 loops each)\n"
     ]
    }
   ],
   "source": [
    "%%timeit -n 2\n",
    "_vhf.direct_mapdm(\"int2e_ip1_sph\", \"s2kl\", ('lk->s1ij', 'jk->s1il'), R_rand_large, 3, mol_large._atm, mol_large._bas, mol_large._env)"
   ]
  },
  {
   "cell_type": "markdown",
   "metadata": {},
   "source": [
    "## 能量的一阶梯度"
   ]
  },
  {
   "cell_type": "markdown",
   "metadata": {},
   "source": [
    "在写可以实用化的一阶梯度程序时，需要考虑到的最重要因素之一，是内存的大小。\n",
    "\n",
    "内存大小不能超过平方级别，甚至不允许是 $(n_\\mathrm{atom}, n_\\mathrm{AO}, n_\\mathrm{AO})$ 大小。因此，处理时需要尽可能将原子分离开，更不能出现双电子积分。"
   ]
  },
  {
   "cell_type": "markdown",
   "metadata": {},
   "source": [
    "### pyxdh 实现方式"
   ]
  },
  {
   "cell_type": "markdown",
   "metadata": {},
   "source": [
    "pyxdh 的实现方式是：\n",
    "\n",
    "$$\n",
    "\\frac{\\partial E_\\mathrm{tot}}{\\partial A_t} = h_{\\mu \\nu}^{A_t} D_{\\mu \\nu} + \\frac{1}{2} (\\mu \\nu | \\kappa \\lambda)^{A_t} D_{\\mu \\nu} D_{\\kappa \\lambda} - \\frac{1}{4} (\\mu \\kappa | \\nu \\lambda)^{A_t} D_{\\mu \\nu} D_{\\kappa \\lambda} - 2 F_{ij} S_{ij}^{A_t} + \\frac{\\partial E_\\mathrm{nuc}}{\\partial A_t}\n",
    "$$"
   ]
  },
  {
   "cell_type": "code",
   "execution_count": 27,
   "metadata": {},
   "outputs": [],
   "source": [
    "so = gradh.so\n",
    "D = gradh.D"
   ]
  },
  {
   "cell_type": "code",
   "execution_count": 28,
   "metadata": {},
   "outputs": [
    {
     "name": "stderr",
     "output_type": "stream",
     "text": [
      "/home/a/miniconda3/lib/python3.8/site-packages/pyxdh/DerivOnce/deriv_once_scf.py:309: UserWarning: eri1_ao: 4-idx tensor ERI should be not used!\n",
      "  warnings.warn(\"eri1_ao: 4-idx tensor ERI should be not used!\")\n"
     ]
    },
    {
     "data": {
      "text/plain": [
       "array([[-0.1408, -0.1166, -0.0278],\n",
       "       [ 0.0947,  0.0102,  0.0289],\n",
       "       [ 0.0195,  0.0815,  0.0225],\n",
       "       [ 0.0266,  0.025 , -0.0236]])"
      ]
     },
     "execution_count": 28,
     "metadata": {},
     "output_type": "execute_result"
    }
   ],
   "source": [
    "(\n",
    "    +        np.einsum(\"Auv, uv -> A\", gradh.H_1_ao, D)\n",
    "    + 0.5  * np.einsum(\"Auvkl, uv, kl -> A\", gradh.eri1_ao, D, D)\n",
    "    - 0.25 * np.einsum(\"Aukvl, uv, kl -> A\", gradh.eri1_ao, D, D)\n",
    "    - 2    * np.einsum(\"ij, Aij -> A\", gradh.F_0_mo[so, so], gradh.S_1_mo[:, so, so])\n",
    "    + mf_grad.grad_nuc().flatten()\n",
    ").reshape(mol.natm, 3)"
   ]
  },
  {
   "cell_type": "markdown",
   "metadata": {},
   "source": [
    "### Hamilton Core 贡献项"
   ]
  },
  {
   "cell_type": "markdown",
   "metadata": {},
   "source": [
    "这个拆分是非常容易的："
   ]
  },
  {
   "cell_type": "code",
   "execution_count": 29,
   "metadata": {},
   "outputs": [],
   "source": [
    "hcore_deriv = mf_grad.hcore_generator(mol)"
   ]
  },
  {
   "cell_type": "code",
   "execution_count": 30,
   "metadata": {},
   "outputs": [],
   "source": [
    "contrib_hcore = np.zeros((mol.natm, 3))\n",
    "for A in range(mol.natm):\n",
    "    contrib_hcore[A] += np.einsum(\"tuv, uv -> t\", hcore_deriv(A), D)"
   ]
  },
  {
   "cell_type": "code",
   "execution_count": 31,
   "metadata": {},
   "outputs": [
    {
     "data": {
      "text/plain": [
       "True"
      ]
     },
     "execution_count": 31,
     "metadata": {},
     "output_type": "execute_result"
    }
   ],
   "source": [
    "np.allclose(contrib_hcore.flatten(), np.einsum(\"Auv, uv -> A\", gradh.H_1_ao, D))"
   ]
  },
  {
   "cell_type": "markdown",
   "metadata": {},
   "source": [
    "### J 积分"
   ]
  },
  {
   "cell_type": "markdown",
   "metadata": {},
   "source": [
    "依据对称性，我们注意到\n",
    "\n",
    "$$\n",
    "\\partial_{A_t} E_\\mathrm{tot} \\leftarrow \\frac{1}{2} \\partial_{A_t} (\\mu \\nu | \\kappa \\lambda) D_{\\mu \\nu} D_{\\kappa \\lambda} = 2 (\\partial_{A_t} \\mu \\nu | \\kappa \\lambda) D_{\\mu \\nu} D_{\\kappa \\lambda} = - 2 (\\partial_t \\mu_A \\nu | \\kappa \\lambda) D_{\\mu_A \\nu} D_{\\kappa \\lambda} = 2 J_{\\mu_A \\nu} [D_{\\kappa \\lambda}] D_{\\mu_A \\nu}\n",
    "$$"
   ]
  },
  {
   "cell_type": "code",
   "execution_count": 32,
   "metadata": {},
   "outputs": [],
   "source": [
    "mol_slice = gradh.mol_slice"
   ]
  },
  {
   "cell_type": "code",
   "execution_count": 33,
   "metadata": {},
   "outputs": [],
   "source": [
    "vj = - _vhf.direct_mapdm(\"int2e_ip1_sph\", \"s2kl\", 'lk->s1ij', D, 3, mol._atm, mol._bas, mol._env)"
   ]
  },
  {
   "cell_type": "code",
   "execution_count": 34,
   "metadata": {},
   "outputs": [],
   "source": [
    "contrib_vj = np.zeros((mol.natm, 3))\n",
    "for A in range(mol.natm):\n",
    "    sA = mol_slice(A)\n",
    "    contrib_vj[A] += 2 * np.einsum(\"tuv, uv -> t\", vj[:, sA, :], D[sA, :])"
   ]
  },
  {
   "cell_type": "code",
   "execution_count": 35,
   "metadata": {},
   "outputs": [
    {
     "data": {
      "text/plain": [
       "True"
      ]
     },
     "execution_count": 35,
     "metadata": {},
     "output_type": "execute_result"
    }
   ],
   "source": [
    "np.allclose(contrib_vj.flatten(), 0.5 * np.einsum(\"Auvkl, uv, kl -> A\", gradh.eri1_ao, D, D))"
   ]
  },
  {
   "cell_type": "markdown",
   "metadata": {},
   "source": [
    "### K 积分"
   ]
  },
  {
   "cell_type": "markdown",
   "metadata": {},
   "source": [
    "非常类似地，我们可以得到\n",
    "\n",
    "$$\n",
    "\\partial_{A_t} E_\\mathrm{tot} \\leftarrow - \\frac{1}{4} \\partial_{A_t} (\\mu \\nu | \\kappa \\lambda) D_{\\mu \\kappa} D_{\\nu \\lambda} = - K_{\\mu_A \\kappa} [D_{\\nu \\lambda}] D_{\\mu_A \\kappa}\n",
    "$$"
   ]
  },
  {
   "cell_type": "code",
   "execution_count": 36,
   "metadata": {},
   "outputs": [],
   "source": [
    "vk = - _vhf.direct_mapdm(\"int2e_ip1_sph\", \"s2kl\", 'jk->s1il', D, 3, mol._atm, mol._bas, mol._env)"
   ]
  },
  {
   "cell_type": "code",
   "execution_count": 37,
   "metadata": {},
   "outputs": [],
   "source": [
    "contrib_vk = np.zeros((mol.natm, 3))\n",
    "for A in range(mol.natm):\n",
    "    sA = mol_slice(A)\n",
    "    contrib_vk[A] += - np.einsum(\"tuv, uv -> t\", vk[:, sA, :], D[sA, :])"
   ]
  },
  {
   "cell_type": "code",
   "execution_count": 38,
   "metadata": {},
   "outputs": [
    {
     "data": {
      "text/plain": [
       "True"
      ]
     },
     "execution_count": 38,
     "metadata": {},
     "output_type": "execute_result"
    }
   ],
   "source": [
    "np.allclose(contrib_vk.flatten(), - 0.25 * np.einsum(\"Aukvl, uv, kl -> A\", gradh.eri1_ao, D, D))"
   ]
  },
  {
   "cell_type": "markdown",
   "metadata": {},
   "source": [
    "### 能量加权部分"
   ]
  },
  {
   "cell_type": "markdown",
   "metadata": {},
   "source": [
    "$$\n",
    "\\partial_{A_t} E_\\mathrm{tot} \\leftarrow - 2 F_{ij} S_{ij}^{A_t} = - (2 F_{ij} C_{\\mu i} C_{\\nu j}) \\partial_{A_t} (\\mu | \\nu) = 2 R_{\\mu_A \\nu} [F_{ij}] (\\partial_t \\mu_A | \\nu)\n",
    "$$"
   ]
  },
  {
   "cell_type": "code",
   "execution_count": 39,
   "metadata": {},
   "outputs": [],
   "source": [
    "dme0 = mf_grad.make_rdm1e(mf_scf.mo_energy, mf_scf.mo_coeff, mf_scf.mo_occ)\n",
    "s1 = mf_grad.get_ovlp(mol)"
   ]
  },
  {
   "cell_type": "code",
   "execution_count": 40,
   "metadata": {},
   "outputs": [],
   "source": [
    "contrib_dme0 = np.zeros((mol.natm, 3))\n",
    "for A in range(mol.natm):\n",
    "    sA = mol_slice(A)\n",
    "    contrib_dme0[A] += - 2 * np.einsum(\"tuv, uv -> t\", s1[:, sA, :], dme0[sA, :])"
   ]
  },
  {
   "cell_type": "code",
   "execution_count": 41,
   "metadata": {},
   "outputs": [
    {
     "data": {
      "text/plain": [
       "True"
      ]
     },
     "execution_count": 41,
     "metadata": {},
     "output_type": "execute_result"
    }
   ],
   "source": [
    "np.allclose(contrib_dme0.flatten(), - 2 * np.einsum(\"ij, Aij -> A\", gradh.F_0_mo[so, so], gradh.S_1_mo[:, so, so]))"
   ]
  },
  {
   "cell_type": "markdown",
   "metadata": {},
   "source": [
    "### 最终加和"
   ]
  },
  {
   "cell_type": "code",
   "execution_count": 42,
   "metadata": {},
   "outputs": [
    {
     "data": {
      "text/plain": [
       "array([[-0.1408, -0.1166, -0.0278],\n",
       "       [ 0.0947,  0.0102,  0.0289],\n",
       "       [ 0.0195,  0.0815,  0.0225],\n",
       "       [ 0.0266,  0.025 , -0.0236]])"
      ]
     },
     "execution_count": 42,
     "metadata": {},
     "output_type": "execute_result"
    }
   ],
   "source": [
    "contrib_hcore + contrib_vj + contrib_vk + contrib_dme0 + mf_grad.grad_nuc()"
   ]
  }
 ],
 "metadata": {
  "kernelspec": {
   "display_name": "Python 3",
   "language": "python",
   "name": "python3"
  },
  "language_info": {
   "codemirror_mode": {
    "name": "ipython",
    "version": 3
   },
   "file_extension": ".py",
   "mimetype": "text/x-python",
   "name": "python",
   "nbconvert_exporter": "python",
   "pygments_lexer": "ipython3",
   "version": "3.8.3"
  },
  "toc": {
   "base_numbering": 1,
   "nav_menu": {},
   "number_sections": true,
   "sideBar": true,
   "skip_h1_title": false,
   "title_cell": "Table of Contents",
   "title_sidebar": "Contents",
   "toc_cell": false,
   "toc_position": {},
   "toc_section_display": true,
   "toc_window_display": false
  }
 },
 "nbformat": 4,
 "nbformat_minor": 4
}
