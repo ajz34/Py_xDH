{
 "cells": [
  {
   "cell_type": "markdown",
   "metadata": {},
   "source": [
    "# 简单理解 PySCF 临时文件 chkfile 使用"
   ]
  },
  {
   "cell_type": "markdown",
   "metadata": {},
   "source": [
    "这份文档会介绍 PySCF 的 chkfile 功能。\n",
    "\n",
    "chkfile 类似于 Gaussian 的 checkpoint 文件。对于自洽场方法，它用于储存分子信息、自洽场轨道等等。\n",
    "\n",
    "PySCF 是通过 Python 的 h5py 实现；换言之，PySCF 的 chkfile 相当于 h5py 的高级接口。"
   ]
  },
  {
   "cell_type": "markdown",
   "metadata": {},
   "source": [
    "## 初始化"
   ]
  },
  {
   "cell_type": "code",
   "execution_count": 1,
   "metadata": {},
   "outputs": [],
   "source": [
    "from pyscf import gto, scf, hessian, lib\n",
    "import numpy as np\n",
    "import h5py\n",
    "\n",
    "np.set_printoptions(5, suppress=True, linewidth=150)"
   ]
  },
  {
   "cell_type": "code",
   "execution_count": 2,
   "metadata": {},
   "outputs": [
    {
     "data": {
      "text/plain": [
       "<pyscf.gto.mole.Mole at 0x7f5a90112be0>"
      ]
     },
     "execution_count": 2,
     "metadata": {},
     "output_type": "execute_result"
    }
   ],
   "source": [
    "mol = gto.Mole()\n",
    "mol.atom = \"\"\"\n",
    "N  0.  0.  0.\n",
    "H  1.5 0.  0.2\n",
    "H  0.1 1.2 0.\n",
    "H  0.  0.  1.\n",
    "\"\"\"\n",
    "mol.basis = \"6-31G\"\n",
    "mol.verbose = 0\n",
    "mol.build()"
   ]
  },
  {
   "cell_type": "code",
   "execution_count": 3,
   "metadata": {},
   "outputs": [],
   "source": [
    "scf_eng = scf.RHF(mol).run()\n",
    "scf_hess = hessian.RHF(scf_eng).run()"
   ]
  },
  {
   "cell_type": "markdown",
   "metadata": {},
   "source": [
    "## 介绍"
   ]
  },
  {
   "cell_type": "markdown",
   "metadata": {},
   "source": [
    "### h5py 文件与内容结构"
   ]
  },
  {
   "cell_type": "markdown",
   "metadata": {},
   "source": [
    "临时文件的位置如下："
   ]
  },
  {
   "cell_type": "code",
   "execution_count": 4,
   "metadata": {},
   "outputs": [
    {
     "data": {
      "text/plain": [
       "'/home/a/Documents/2021-03-01-MP2_pyscf_prop/tmp94oic47h'"
      ]
     },
     "execution_count": 4,
     "metadata": {},
     "output_type": "execute_result"
    }
   ],
   "source": [
    "scf_eng.chkfile"
   ]
  },
  {
   "cell_type": "markdown",
   "metadata": {},
   "source": [
    "该文件可以使用 h5py 直接进行读写。我们先了解文件目录结构。\n",
    "\n",
    "该文件的顶层目录是"
   ]
  },
  {
   "cell_type": "code",
   "execution_count": 5,
   "metadata": {},
   "outputs": [
    {
     "name": "stdout",
     "output_type": "stream",
     "text": [
      "<KeysViewHDF5 ['mol', 'scf', 'scf_f1ao', 'scf_mo1']>\n"
     ]
    }
   ],
   "source": [
    "with h5py.File(scf_eng.chkfile, \"r\") as f:\n",
    "    print(f.keys())"
   ]
  },
  {
   "cell_type": "markdown",
   "metadata": {},
   "source": [
    "对于 `scf` 键值，其子目录是"
   ]
  },
  {
   "cell_type": "code",
   "execution_count": 6,
   "metadata": {},
   "outputs": [
    {
     "name": "stdout",
     "output_type": "stream",
     "text": [
      "<KeysViewHDF5 ['e_tot', 'mo_coeff', 'mo_energy', 'mo_occ']>\n"
     ]
    }
   ],
   "source": [
    "with h5py.File(scf_eng.chkfile, \"r\") as f:\n",
    "    print(f[\"scf\"].keys())"
   ]
  },
  {
   "cell_type": "markdown",
   "metadata": {},
   "source": [
    "事实上，我们可以用 `scf/e_tot` 直接获得能量的结果；但需要注意，在最后需要加 `[()]` 以获得结果，否则得到的是 `h5py.Dataset` 类实例："
   ]
  },
  {
   "cell_type": "code",
   "execution_count": 7,
   "metadata": {},
   "outputs": [
    {
     "name": "stdout",
     "output_type": "stream",
     "text": [
      "-56.02979155465495\n"
     ]
    }
   ],
   "source": [
    "with h5py.File(scf_eng.chkfile, \"r\") as f:\n",
    "    print(f[\"scf/e_tot\"][()])"
   ]
  },
  {
   "cell_type": "markdown",
   "metadata": {},
   "source": [
    "最后，我们可以使用下面的小程序，打印出完整的 chkfile 文件结构："
   ]
  },
  {
   "cell_type": "code",
   "execution_count": 8,
   "metadata": {},
   "outputs": [],
   "source": [
    "def print_h5py_group_dir(f):\n",
    "    spl = f.name.split(\"/\")\n",
    "    level = len(spl) - 1 if len(f.name) > 1 else 0\n",
    "    name = spl[-1]\n",
    "    if isinstance(f, h5py.Group):\n",
    "        if not isinstance(f, (h5py.File)):\n",
    "            print(\"  \"*(level-1) + \"|- \" + name)\n",
    "        for k in f.keys():\n",
    "            print_h5py_group_dir(f[k])\n",
    "    else:\n",
    "        val = f[()]\n",
    "        if not isinstance(val, np.ndarray):\n",
    "            print(\"  \"*(level-1) + \"|- \" + name + \": \" + str(type(val)))\n",
    "        else:\n",
    "            print(\"  \"*(level-1) + \"|- \" + name + \": \" + str(type(val)) + \", dtype: \" + str(val.dtype))"
   ]
  },
  {
   "cell_type": "code",
   "execution_count": 9,
   "metadata": {
    "scrolled": true
   },
   "outputs": [
    {
     "name": "stdout",
     "output_type": "stream",
     "text": [
      "|- mol: <class 'bytes'>\n",
      "|- scf\n",
      "  |- e_tot: <class 'numpy.float64'>\n",
      "  |- mo_coeff: <class 'numpy.ndarray'>, dtype: float64\n",
      "  |- mo_energy: <class 'numpy.ndarray'>, dtype: float64\n",
      "  |- mo_occ: <class 'numpy.ndarray'>, dtype: float64\n",
      "|- scf_f1ao\n",
      "  |- 0: <class 'numpy.ndarray'>, dtype: float64\n",
      "  |- 1: <class 'numpy.ndarray'>, dtype: float64\n",
      "  |- 2: <class 'numpy.ndarray'>, dtype: float64\n",
      "  |- 3: <class 'numpy.ndarray'>, dtype: float64\n",
      "|- scf_mo1\n",
      "  |- 0: <class 'numpy.ndarray'>, dtype: float64\n",
      "  |- 1: <class 'numpy.ndarray'>, dtype: float64\n",
      "  |- 2: <class 'numpy.ndarray'>, dtype: float64\n",
      "  |- 3: <class 'numpy.ndarray'>, dtype: float64\n"
     ]
    }
   ],
   "source": [
    "with h5py.File(scf_eng.chkfile, \"r\") as f:\n",
    "    print_h5py_group_dir(f)"
   ]
  },
  {
   "cell_type": "markdown",
   "metadata": {},
   "source": [
    "### 读取数据"
   ]
  },
  {
   "cell_type": "markdown",
   "metadata": {},
   "source": [
    "PySCF 具有自己的读取 chkfile 的方式。作为高级 API，它确实更方便一些。"
   ]
  },
  {
   "cell_type": "markdown",
   "metadata": {},
   "source": [
    "读取特定的数组或结果，可以直接用下述代码实现："
   ]
  },
  {
   "cell_type": "code",
   "execution_count": 10,
   "metadata": {},
   "outputs": [
    {
     "data": {
      "text/plain": [
       "(15, 15)"
      ]
     },
     "execution_count": 10,
     "metadata": {},
     "output_type": "execute_result"
    }
   ],
   "source": [
    "lib.chkfile.load(scf_eng.chkfile, \"scf/mo_coeff\").shape"
   ]
  },
  {
   "cell_type": "markdown",
   "metadata": {},
   "source": [
    "如果读取的是某个目录结构，那么它会将所有的子目录或子数据结果递归地转换为字典，储存到内存："
   ]
  },
  {
   "cell_type": "code",
   "execution_count": 11,
   "metadata": {},
   "outputs": [
    {
     "data": {
      "text/plain": [
       "dict_keys(['e_tot', 'mo_coeff', 'mo_energy', 'mo_occ'])"
      ]
     },
     "execution_count": 11,
     "metadata": {},
     "output_type": "execute_result"
    }
   ],
   "source": [
    "lib.chkfile.load(scf_eng.chkfile, \"scf\").keys()"
   ]
  },
  {
   "cell_type": "markdown",
   "metadata": {},
   "source": [
    "### 储存数据"
   ]
  },
  {
   "cell_type": "markdown",
   "metadata": {},
   "source": [
    "PySCF 支持三种储存的方法，单独的结果、列表与字典。"
   ]
  },
  {
   "cell_type": "code",
   "execution_count": 12,
   "metadata": {},
   "outputs": [],
   "source": [
    "val_float = 0.4\n",
    "val_list = [1.4, 1.8]\n",
    "val_dict = {\"foo\": 2.4, \"bar\": 2.8}"
   ]
  },
  {
   "cell_type": "code",
   "execution_count": 13,
   "metadata": {},
   "outputs": [],
   "source": [
    "lib.chkfile.dump(scf_eng.chkfile, \"val_float\", val_float)\n",
    "lib.chkfile.dump(scf_eng.chkfile, \"val_list\", val_list)\n",
    "lib.chkfile.dump(scf_eng.chkfile, \"val_dict\", val_dict)"
   ]
  },
  {
   "cell_type": "markdown",
   "metadata": {},
   "source": [
    "其数据结构如下："
   ]
  },
  {
   "cell_type": "code",
   "execution_count": 14,
   "metadata": {},
   "outputs": [
    {
     "name": "stdout",
     "output_type": "stream",
     "text": [
      "|- mol: <class 'bytes'>\n",
      "|- scf\n",
      "  |- e_tot: <class 'numpy.float64'>\n",
      "  |- mo_coeff: <class 'numpy.ndarray'>, dtype: float64\n",
      "  |- mo_energy: <class 'numpy.ndarray'>, dtype: float64\n",
      "  |- mo_occ: <class 'numpy.ndarray'>, dtype: float64\n",
      "|- scf_f1ao\n",
      "  |- 0: <class 'numpy.ndarray'>, dtype: float64\n",
      "  |- 1: <class 'numpy.ndarray'>, dtype: float64\n",
      "  |- 2: <class 'numpy.ndarray'>, dtype: float64\n",
      "  |- 3: <class 'numpy.ndarray'>, dtype: float64\n",
      "|- scf_mo1\n",
      "  |- 0: <class 'numpy.ndarray'>, dtype: float64\n",
      "  |- 1: <class 'numpy.ndarray'>, dtype: float64\n",
      "  |- 2: <class 'numpy.ndarray'>, dtype: float64\n",
      "  |- 3: <class 'numpy.ndarray'>, dtype: float64\n",
      "|- val_dict\n",
      "  |- bar: <class 'numpy.float64'>\n",
      "  |- foo: <class 'numpy.float64'>\n",
      "|- val_float: <class 'numpy.float64'>\n",
      "|- val_list__from_list__\n",
      "  |- 000000: <class 'numpy.float64'>\n",
      "  |- 000001: <class 'numpy.float64'>\n"
     ]
    }
   ],
   "source": [
    "with h5py.File(scf_eng.chkfile, \"r\") as f:\n",
    "    print_h5py_group_dir(f)"
   ]
  },
  {
   "cell_type": "markdown",
   "metadata": {},
   "source": [
    "其中，列表的情况是比较特殊的。在 PySCF 中，列表名称以 `__from_list__` 结尾。其读取也会生成列表而非字典。"
   ]
  },
  {
   "cell_type": "code",
   "execution_count": 15,
   "metadata": {},
   "outputs": [
    {
     "data": {
      "text/plain": [
       "[1.4, 1.8]"
      ]
     },
     "execution_count": 15,
     "metadata": {},
     "output_type": "execute_result"
    }
   ],
   "source": [
    "lib.chkfile.load(scf_eng.chkfile, \"val_list\")"
   ]
  },
  {
   "cell_type": "markdown",
   "metadata": {},
   "source": [
    "储存数据的值是可以覆盖的。譬如更改 `val_float` 的数值："
   ]
  },
  {
   "cell_type": "code",
   "execution_count": 16,
   "metadata": {},
   "outputs": [
    {
     "data": {
      "text/plain": [
       "10.5"
      ]
     },
     "execution_count": 16,
     "metadata": {},
     "output_type": "execute_result"
    }
   ],
   "source": [
    "lib.chkfile.dump(scf_eng.chkfile, \"val_float\", 10.5)\n",
    "lib.chkfile.load(scf_eng.chkfile, \"val_float\")"
   ]
  },
  {
   "cell_type": "markdown",
   "metadata": {},
   "source": [
    "### 直接对 `File` 对象写入数据"
   ]
  },
  {
   "cell_type": "markdown",
   "metadata": {},
   "source": [
    "作为一种特殊情况，我们现在拥有的不是 `chkfile` 的名称 (譬如这里的 `scf_eng.chkfile`)，而是一个可以读写的实际文件："
   ]
  },
  {
   "cell_type": "code",
   "execution_count": 17,
   "metadata": {},
   "outputs": [],
   "source": [
    "f = h5py.File(scf_eng.chkfile, \"a\")"
   ]
  },
  {
   "cell_type": "markdown",
   "metadata": {},
   "source": [
    "此时可以用下述方式直接进行写入操作："
   ]
  },
  {
   "cell_type": "code",
   "execution_count": 18,
   "metadata": {},
   "outputs": [
    {
     "data": {
      "text/plain": [
       "<HDF5 dataset \"grp2\": shape (), type \"|O\">"
      ]
     },
     "execution_count": 18,
     "metadata": {},
     "output_type": "execute_result"
    }
   ],
   "source": [
    "f.create_dataset(\"grp1/grp2\", data=\"val3\")"
   ]
  },
  {
   "cell_type": "code",
   "execution_count": 19,
   "metadata": {},
   "outputs": [
    {
     "data": {
      "text/plain": [
       "b'val3'"
      ]
     },
     "execution_count": 19,
     "metadata": {},
     "output_type": "execute_result"
    }
   ],
   "source": [
    "f[\"grp1/grp2\"][()]"
   ]
  },
  {
   "cell_type": "markdown",
   "metadata": {},
   "source": [
    "这种情况在使用 `lib.H5TmpFile()` 生成的 hdf5 文件时比较实用。"
   ]
  }
 ],
 "metadata": {
  "kernelspec": {
   "display_name": "Python 3",
   "language": "python",
   "name": "python3"
  },
  "language_info": {
   "codemirror_mode": {
    "name": "ipython",
    "version": 3
   },
   "file_extension": ".py",
   "mimetype": "text/x-python",
   "name": "python",
   "nbconvert_exporter": "python",
   "pygments_lexer": "ipython3",
   "version": "3.8.3"
  },
  "toc": {
   "base_numbering": 1,
   "nav_menu": {},
   "number_sections": true,
   "sideBar": true,
   "skip_h1_title": false,
   "title_cell": "Table of Contents",
   "title_sidebar": "Contents",
   "toc_cell": false,
   "toc_position": {},
   "toc_section_display": true,
   "toc_window_display": false
  }
 },
 "nbformat": 4,
 "nbformat_minor": 4
}
