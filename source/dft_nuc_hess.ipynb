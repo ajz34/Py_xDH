{
 "cells": [
  {
   "cell_type": "markdown",
   "metadata": {},
   "source": [
    "# GGA 核坐标梯度性质"
   ]
  },
  {
   "cell_type": "markdown",
   "metadata": {},
   "source": [
    "在这一节中，我们将会进一步拓展核坐标梯度性质的学习，将 GGA 引入 SCF，获得 GGA 的一阶核梯度与二阶核梯度的性质．这里所指的 GGA 是以 GGA 为基础的泛函，包括杂化的与非杂化的．双杂化的 GGA 将会在以后讨论．\n",
    "\n",
    "一般来说，近 30 年的中小规模分子量化计算的主流始终是 DFT 近似．这源于 DFT 近似的计算量与 HF 相当，但结果通常比 HF 优异许多，可以媲美最低阶的 Post-HF 方法 MP2 的结果．\n",
    "\n",
    "DFT 近似各式各样；一般来说，化学领域的最主流是 B3LYP，而物理领域的最主流是 PBE；这两者都是以 GGA 为基础的泛函．在这一节中，我们会以 B3LYP 为例，了解运用 PySCF 的底层函数来解决 B3LYP 的一阶梯度与二阶梯度．这里指的 PySCF 底层函数是指求取 DFT 积分格点的函数．\n",
    "\n",
    "关于 B3LYP 的能量的计算与调用细节，可以前往 [XYG3 能量](xyg3_energy.ipynb#输出-2：交换相关能格点求取) 文档的其中一小节．这一节的记号会稍有不同，但应当容易理解．许多基础的公式与程序细节这一节不再叙述．"
   ]
  },
  {
   "cell_type": "code",
   "execution_count": 1,
   "metadata": {},
   "outputs": [],
   "source": [
    "from pyscf import gto, scf, dft, grad, data, lib, hessian\n",
    "import numpy as np\n",
    "\n",
    "import pyscf.grad.rks\n",
    "import pyscf.hessian.rks\n",
    "np.set_printoptions(5, linewidth=150, suppress=True)"
   ]
  },
  {
   "cell_type": "markdown",
   "metadata": {},
   "source": [
    "## 准备工作"
   ]
  },
  {
   "cell_type": "markdown",
   "metadata": {},
   "source": [
    "### 顶层函数计算 RKS 梯度"
   ]
  },
  {
   "cell_type": "code",
   "execution_count": 2,
   "metadata": {},
   "outputs": [
    {
     "data": {
      "text/plain": [
       "<pyscf.gto.mole.Mole at 0x2b048fd0b128>"
      ]
     },
     "execution_count": 2,
     "metadata": {},
     "output_type": "execute_result"
    }
   ],
   "source": [
    "mol = gto.Mole()\n",
    "mol.atom = \"\"\"\n",
    "O  0.0  0.0  0.0\n",
    "O  0.0  0.0  1.5\n",
    "H  1.0  0.0  0.0\n",
    "H  0.0  1.0  1.5\n",
    "\"\"\"\n",
    "mol.basis = \"6-31G\"\n",
    "mol.build()"
   ]
  },
  {
   "cell_type": "code",
   "execution_count": 3,
   "metadata": {},
   "outputs": [
    {
     "name": "stdout",
     "output_type": "stream",
     "text": [
      "converged SCF energy = -151.477320518606\n"
     ]
    }
   ],
   "source": [
    "scf_eng = dft.RKS(mol)\n",
    "scf_eng.xc = \"b3lypg\"  # compare that to gaussian\n",
    "scf_eng.grids.atom_grid = (99, 590)\n",
    "scf_eng.grids.build()\n",
    "scf_eng.conv_tol = 1e-13\n",
    "energy_RKS = scf_eng.kernel()"
   ]
  },
  {
   "cell_type": "code",
   "execution_count": 4,
   "metadata": {},
   "outputs": [
    {
     "name": "stdout",
     "output_type": "stream",
     "text": [
      "--------------- RKS gradients ---------------\n",
      "         x                y                z\n",
      "0 O    -0.0271975153     0.0107158349     0.0176473933\n",
      "1 O     0.0107158349    -0.0271975153    -0.0176473933\n",
      "2 H     0.0099981076     0.0064834995     0.0257989619\n",
      "3 H     0.0064834995     0.0099981076    -0.0257989619\n",
      "----------------------------------------------\n"
     ]
    }
   ],
   "source": [
    "scf_grad = grad.rks.Gradients(scf_eng)\n",
    "grad_RKS = scf_grad.kernel()"
   ]
  },
  {
   "cell_type": "code",
   "execution_count": 5,
   "metadata": {},
   "outputs": [],
   "source": [
    "scf_hess = hessian.rks.Hessian(scf_eng)\n",
    "hess_RKS = scf_hess.kernel()"
   ]
  },
  {
   "cell_type": "code",
   "execution_count": null,
   "metadata": {},
   "outputs": [],
   "source": []
  },
  {
   "cell_type": "markdown",
   "metadata": {},
   "source": [
    "### 与 Gaussian 结果进行比对"
   ]
  },
  {
   "cell_type": "code",
   "execution_count": 6,
   "metadata": {},
   "outputs": [],
   "source": [
    "def val_from_fchk(key, file_path):\n",
    "    flag_read = False; expect_size = -1; vec = []\n",
    "    with open(file_path, \"r\") as file:\n",
    "        for l in file:\n",
    "            if (l[:len(key)] == key):\n",
    "                try: expect_size = int(l[len(key):].split()[2]); flag_read = True; continue\n",
    "                except IndexError: return float(l[len(key):].split()[1])\n",
    "            if (flag_read):\n",
    "                try: vec += [ float(i) for i in l.split() ]\n",
    "                except ValueError: break\n",
    "    if len(vec) != expect_size: raise ValueError(\"Number of expected size is not consistent with read-in size!\")\n",
    "    return np.array(vec)"
   ]
  },
  {
   "cell_type": "code",
   "execution_count": 7,
   "metadata": {},
   "outputs": [],
   "source": [
    "energy_Gaussian = val_from_fchk(\"SCF Energy\", \"include/B3LYP-hess.fch\")\n",
    "grad_Gaussian = val_from_fchk(\"Cartesian Gradient\", \"include/B3LYP-hess.fch\")\n",
    "hess_Gaussian = val_from_fchk(\"Cartesian Force Constants\", \"include/B3LYP-hess.fch\")"
   ]
  },
  {
   "cell_type": "markdown",
   "metadata": {},
   "source": [
    "由于 PySCF 的 DFT 积分与 Gaussian 仍然似乎略有不同，因此尽管数据大体能对上，但随着导数的阶越大，偏差也越大；二阶梯度在这两个程序的匹配精度只有 $10^{-4}$ 级别．"
   ]
  },
  {
   "cell_type": "code",
   "execution_count": 8,
   "metadata": {},
   "outputs": [
    {
     "name": "stdout",
     "output_type": "stream",
     "text": [
      "True\n",
      "True\n",
      "True\n"
     ]
    }
   ],
   "source": [
    "print(np.allclose(energy_RKS, energy_Gaussian))\n",
    "print(np.allclose(grad_RKS.reshape(-1), grad_Gaussian, atol=1e-5))\n",
    "d_hess = mol.natm * 3\n",
    "print(np.allclose(hess_RKS.swapaxes(1, 2).reshape(d_hess, d_hess)[np.tril_indices(d_hess)], hess_Gaussian, atol=1e-4))"
   ]
  },
  {
   "cell_type": "markdown",
   "metadata": {},
   "source": [
    "### RKS 重要中间量"
   ]
  },
  {
   "cell_type": "code",
   "execution_count": 9,
   "metadata": {},
   "outputs": [],
   "source": [
    "c_x = scf_eng._numint.hybrid_coeff(scf_eng.xc)\n",
    "\n",
    "nao = mol.nao\n",
    "nmo = scf_eng.mo_energy.shape[0]\n",
    "nelec = mol.nelectron\n",
    "nocc = mol.nelec[0]\n",
    "nvir = nmo - nocc\n",
    "\n",
    "C = scf_eng.mo_coeff\n",
    "Co = C[:, :nocc]\n",
    "Cv = C[:, nocc:]\n",
    "e = scf_eng.mo_energy\n",
    "eo = e[:nocc]\n",
    "ev = e[nocc:]\n",
    "mo_occ = scf_eng.mo_occ\n",
    "\n",
    "D = scf_eng.make_rdm1()\n",
    "De = np.einsum(\"ui, i, vi -> uv\", C, e * mo_occ, C)"
   ]
  },
  {
   "cell_type": "code",
   "execution_count": 10,
   "metadata": {},
   "outputs": [],
   "source": [
    "natm = mol.natm\n",
    "\n",
    "# grad-contrib\n",
    "int1e_ipovlp = mol.intor('int1e_ipovlp')\n",
    "int1e_ipkin = mol.intor(\"int1e_ipkin\")\n",
    "int1e_ipnuc = mol.intor(\"int1e_ipnuc\")\n",
    "int2e_ip1 = mol.intor(\"int2e_ip1\")\n",
    "\n",
    "# hess-contrib\n",
    "int1e_ipipkin = mol.intor(\"int1e_ipipkin\")\n",
    "int1e_ipkinip = mol.intor(\"int1e_ipkinip\")\n",
    "int1e_ipipnuc = mol.intor(\"int1e_ipipnuc\")\n",
    "int1e_ipnucip = mol.intor(\"int1e_ipnucip\")\n",
    "int2e_ipip1 = mol.intor(\"int2e_ipip1\")\n",
    "int2e_ipvip1 = mol.intor(\"int2e_ipvip1\")\n",
    "int2e_ip1ip2 = mol.intor(\"int2e_ip1ip2\")\n",
    "int1e_ipipovlp = mol.intor(\"int1e_ipipovlp\")\n",
    "int1e_ipovlpip = mol.intor(\"int1e_ipovlpip\")"
   ]
  },
  {
   "cell_type": "code",
   "execution_count": 11,
   "metadata": {},
   "outputs": [],
   "source": [
    "def mol_slice(atm_id):\n",
    "    _, _, p0, p1 = mol.aoslice_by_atom()[atm_id]\n",
    "    return slice(p0, p1)"
   ]
  },
  {
   "cell_type": "markdown",
   "metadata": {},
   "source": [
    "## GGA 一阶核坐标梯度"
   ]
  },
  {
   "cell_type": "markdown",
   "metadata": {},
   "source": [
    "### HF 部分"
   ]
  },
  {
   "cell_type": "markdown",
   "metadata": {},
   "source": [
    "GGA 的一阶梯度中，大部分仍然是 HF 的贡献．我们在以前已经讨论过 [HF 梯度](hf_nuc_grad.ipynb)；GGA 中，至多就是在交换积分的部分乘上杂化泛函的系数．对于 B3LYP，$c_x = 0.2$．"
   ]
  },
  {
   "cell_type": "code",
   "execution_count": 12,
   "metadata": {},
   "outputs": [],
   "source": [
    "def my_grad_hf(scf_eng):\n",
    "    mol = scf_eng.mol\n",
    "    C = scf_eng.mo_coeff\n",
    "    D = scf_eng.make_rdm1()\n",
    "    mo_occ = scf_eng.mo_occ\n",
    "    e = scf_eng.mo_energy\n",
    "    De = np.einsum(\"ui, i, vi -> uv\", C, e * mo_occ, C)\n",
    "    c_x = scf_eng._numint.hybrid_coeff(scf_eng.xc)\n",
    "    integrals  = - mol.intor(\"int1e_ipkin\") - mol.intor(\"int1e_ipnuc\") \\\n",
    "                 - np.einsum(\"tuvkl, kl -> tuv\", mol.intor('int2e_ip1'), D) \\\n",
    "                 + c_x * 0.5 * np.einsum(\"tukvl, kl -> tuv\", mol.intor('int2e_ip1'), D)\n",
    "    integral_ovlp = mol.intor('int1e_ipovlp')\n",
    "    grad_elec = np.zeros((mol.natm, 3))\n",
    "    for A in range(mol.natm):\n",
    "        sA = mol_slice(A)\n",
    "        grad_elec[A, :] += np.einsum(\"tuv, uv -> t\", integrals[:, sA], D[sA]) * 2\n",
    "        grad_elec[A, :] += np.einsum(\"tuv, uv -> t\", integral_ovlp[:, sA], De[sA]) * 2\n",
    "        with mol.with_rinv_as_nucleus(A):\n",
    "            grad_elec[A, :] -= np.einsum(\"tuv, uv -> t\", mol.intor(\"int1e_iprinv\") * mol.atom_charge(A), D) * 2\n",
    "    return grad_elec\n",
    "\n",
    "grad_hf = my_grad_hf(scf_eng)"
   ]
  },
  {
   "cell_type": "markdown",
   "metadata": {},
   "source": [
    "### GGA 部分"
   ]
  },
  {
   "cell_type": "markdown",
   "metadata": {},
   "source": [
    "GGA 电子态能量一阶梯度的另一个贡献的部分是交换相关能关于坐标的导数．能量导数的表达式的产生并非显然；下面简单叙述导数表达式的产生过程．"
   ]
  },
  {
   "cell_type": "markdown",
   "metadata": {},
   "source": [
    "首先，根据 [泛函变分的意义](https://en.wikipedia.org/wiki/Functional_derivative#Functional_derivative)，有下式成立：\n",
    "\n",
    "\\begin{equation}\n",
    "\\int \\frac{\\delta E_\\mathrm{xc}}{\\rho(\\boldsymbol{r})} f(\\boldsymbol{r}) \\, \\mathrm{d} \\boldsymbol{r} = \\lim_{\\varepsilon \\rightarrow 0} \\frac{E_\\mathrm{xc} [\\rho + \\varepsilon f] - E_\\mathrm{xc} [\\rho]}{\\varepsilon} = \\left. \\frac{\\partial}{\\partial t} E_\\mathrm{xc} [\\rho + \\varepsilon f] \\right|_{\\varepsilon \\rightarrow 0}\n",
    "\\tag{1} \\label{eq.1}\n",
    "\\end{equation}"
   ]
  },
  {
   "cell_type": "markdown",
   "metadata": {},
   "source": [
    "其次，我们从微元法的角度指出，如果现在 $\\varepsilon$ 指代原子核坐标分量的移动量 $A_t$；$\\rho$ 是未被微扰的密度，而 $\\rho + \\varepsilon f$ 是沿着 $\\varepsilon$ 所指代的方向被微扰后的电子密度，那么微扰密度将是 $f(\\boldsymbol{r}) = \\partial_{A_t} \\rho = D_{\\mu \\nu} \\partial_{A_t} (\\phi_\\mu \\phi_\\nu)$．我们将这个结果代入上式，则有\n",
    "\n",
    "\\begin{equation}\n",
    "\\left. \\frac{\\partial}{\\partial A_t} E_\\mathrm{xc} [\\rho + A_t \\partial_{A_t} \\rho] \\right|_{A_t \\rightarrow 0} = \\int \\frac{\\delta E_\\mathrm{xc}}{\\rho(\\boldsymbol{r})} \\frac{\\partial \\rho(\\boldsymbol{r})}{\\partial A_t} \\, \\mathrm{d} \\boldsymbol{r}\n",
    "\\end{equation}"
   ]
  },
  {
   "cell_type": "markdown",
   "metadata": {},
   "source": [
    "我们就认为上式即是交换相关能对原子核坐标分量 $A_t$ 的导数 $\\partial_{A_t} E_\\mathrm{xc} [\\rho]$ 了．因此，上式经过变分展开后可以写为"
   ]
  },
  {
   "cell_type": "markdown",
   "metadata": {},
   "source": [
    "\\begin{align}\n",
    "\\partial_{A_t} E_\\mathrm{xc}[\\rho]\n",
    "&= \\int \\Big( \\partial_\\rho f^\\mathrm{xc} \\cdot \\partial_{A_t} \\rho + 2 \\partial_\\gamma f^\\mathrm{xc} \\cdot \\partial_s \\rho \\cdot \\partial_s (\\partial_{A_t} \\rho) \\Big) \\, \\mathrm{d} \\boldsymbol{r} \\\\\n",
    "&= D_{\\mu \\nu} \\int \\Big( \\partial_\\rho f^\\mathrm{xc} \\cdot (\\partial_{A_t} \\phi_\\mu \\cdot \\phi_\\nu + \\phi_\\mu \\cdot \\partial_{A_t} \\phi_\\nu) \\\\\n",
    "&\\quad + 2 \\partial_\\gamma f^\\mathrm{xc} \\cdot \\partial_s \\rho \\cdot \\Big(\n",
    "\\partial_{A_t} \\partial_s \\phi_\\mu \\cdot \\phi_\\nu + \\phi_\\mu \\cdot \\partial_{A_t} \\partial_s \\phi_\\nu +\n",
    "\\partial_{A_t} \\phi_\\mu \\cdot \\partial_s \\phi_\\nu + \\partial_s \\phi_\\mu \\cdot \\partial_{A_t} \\phi_\\nu\n",
    "\\Big)\n",
    "\\, \\mathrm{d} \\boldsymbol{r} \\\\\n",
    "&= D_{\\mu \\nu} w_g \\cdot \\partial_\\rho f^\\mathrm{xc}_g \\cdot (\\partial_{A_t} \\phi_{g \\mu} \\cdot \\phi_{g \\nu} + \\phi_{g \\mu} \\cdot \\partial_{A_t} \\phi_{g \\nu}) \\\\\n",
    "&\\quad + 2 D_{\\mu \\nu} w_g \\cdot \\partial_\\gamma f^\\mathrm{xc}_g \\cdot \\partial_s \\rho_g \\cdot \\Big(\n",
    "\\partial_{A_t} \\partial_s \\phi_{g \\mu} \\cdot \\phi_{g \\nu} + \\phi_{g \\mu} \\cdot \\partial_{A_t} \\partial_s \\phi_{g \\nu} +\n",
    "\\partial_{A_t} \\phi_{g \\mu} \\cdot \\partial_s \\phi_{g \\nu} + \\partial_s \\phi_{g \\mu} \\cdot \\partial_{A_t} \\phi_{g \\nu}\n",
    "\\Big) \\\\\n",
    "&= 2 D_{\\mu \\nu} w_g \\cdot \\partial_\\rho f^\\mathrm{xc}_g \\cdot \\partial_{A_t} \\phi_{g \\mu} \\cdot \\phi_{g \\nu} +\n",
    "4 D_{\\mu \\nu} w_g \\cdot \\partial_\\gamma f^\\mathrm{xc}_g \\cdot \\partial_s \\rho_g \\cdot \\partial_{A_t} \\partial_s \\phi_{g \\mu} \\cdot \\phi_{g \\nu} +\n",
    "4 D_{\\mu \\nu} w_g \\cdot \\partial_\\gamma f^\\mathrm{xc}_g \\cdot \\partial_s \\rho_g \\cdot \\partial_{A_t} \\phi_{g \\mu} \\cdot \\partial_s \\phi_{g \\nu} \\\\\n",
    "&= - D_{\\mu_A \\nu} \\left( 2 w_g \\cdot \\partial_\\rho f^\\mathrm{xc}_g \\cdot \\partial_t \\phi_{g \\mu_A} \\cdot \\phi_{g \\nu} +\n",
    "4 w_g \\cdot \\partial_\\gamma f^\\mathrm{xc}_g \\cdot \\partial_s \\rho_g \\cdot \\partial_t \\partial_s \\phi_{g \\mu_A} \\cdot \\phi_{g \\nu} +\n",
    "4 w_g \\cdot \\partial_\\gamma f^\\mathrm{xc}_g \\cdot \\partial_s \\rho_g \\cdot \\partial_t \\phi_{g \\mu_A} \\cdot \\partial_s \\phi_{g \\nu} \\right)\n",
    "\\tag{2} \\label{eq.2}\n",
    "\\end{align}"
   ]
  },
  {
   "cell_type": "markdown",
   "metadata": {},
   "source": [
    "其中，上式的第一个等号是泛函变分的定义；第二个等号是将 $\\rho(\\boldsymbol{r}) = D_{\\mu \\nu} \\phi_{\\mu}(\\boldsymbol{r}) \\phi_{\\nu}(\\boldsymbol{r})$ 代入；第三个等号是将积分转换为格点求和；第四个等号是借用对 $\\mu, \\nu$ 求和时，两个角标可以互换而简化一半的项；第五个等号则是利用 $\\partial_{A_t} \\phi_{\\mu} = - \\partial_t \\phi_{\\mu_A}$，即对原子核坐标的导数等于对电子导数的负值，但只对当前原子核上的基轨道求导才有意义．"
   ]
  },
  {
   "cell_type": "markdown",
   "metadata": {},
   "source": [
    "由于后面将会大量碰到对轨道 $\\phi_{\\mu}$、泛函核 $f_{g}^\\mathrm{xc}$ 的偏导数，记号会变得非常麻烦．为了简记记号，让公式看起来更简洁，但又不影响公式的意义，以及公式到程序的对应，我们规定以下记号及其衍生记号：\n",
    "\n",
    "* $\\phi_{tsrg \\mu}$ = $\\partial_t \\partial_s \\partial_r \\phi_{g \\mu}$；以后，$t, s, r, w$ 放在下标时表示三维坐标分量；\n",
    "\n",
    "* $f_{\\rho \\gamma g}$ = $\\partial_\\rho \\partial_\\gamma f_{g}^\\mathrm{xc}$；\n",
    "\n",
    "那么式 [(2)](#mjx-eqn-eq.2) 可以简记为"
   ]
  },
  {
   "cell_type": "markdown",
   "metadata": {},
   "source": [
    "\\begin{equation}\n",
    "\\partial_{A_t} E_\\mathrm{xc}[\\rho] = - D_{\\mu_A \\nu} \\big(\n",
    "2 w_g f_{\\rho g} \\phi_{t g \\mu_A} \\phi_{g \\nu} + 4 w_g f_{\\gamma g} \\rho_{s g} \\phi_{tsg \\mu_A} \\phi_{g \\nu} + 4 w_g f_{\\gamma g} \\rho_{sg} \\phi_{tg \\mu_A} \\phi_{s \\nu}\n",
    "\\big)\n",
    "\\tag{3} \\label{eq.3}\n",
    "\\end{equation}"
   ]
  },
  {
   "cell_type": "markdown",
   "metadata": {},
   "source": [
    "简单的代码展示如下．完整执行上述公式的部分是第 (4) 与 (5) 部分．前 (3) 部分基本可以参考 [之前的文档](xyg3_energy.ipynb#输出-2：交换相关能格点求取)；不过以前只是求了 GGA 的 Fock 矩阵，最多需要基轨道的一阶导数 $\\partial_t \\phi_{g \\mu}$；但在 GGA 梯度的任务里，则需要基轨道的二阶导数 $\\partial_t \\partial_s \\phi_{g \\nu}$．这部分的生成中，需要将 `scf_eng._numint.block_loop` 传入的第 4 个参数改为 2，以表示需要二阶导数信息；同时新生成了 `grid_ao_2` 储存这些二阶导数基轨道格点．"
   ]
  },
  {
   "cell_type": "code",
   "execution_count": 13,
   "metadata": {},
   "outputs": [],
   "source": [
    "def my_grad_gga(scf_eng):\n",
    "    mol = scf_eng.mol\n",
    "    D = scf_eng.make_rdm1()\n",
    "    # (1) generate \\phi_{g \\mu}, \\partial_{t} \\phi_{g \\mu}, \\partial_{ts} \\phi_{g \\mu}\n",
    "    grid_ao, grid_mask, grid_weight, grid_coords = next(scf_eng._numint.block_loop(mol, scf_eng.grids, nao, 2, 2000))\n",
    "    ngrid = grid_ao.shape[1]\n",
    "    grid_ao_0 = grid_ao[0]\n",
    "    grid_ao_1 = grid_ao[1:4]\n",
    "    grid_ao_2 = [\n",
    "        [ grid_ao[4], grid_ao[5], grid_ao[6] ],\n",
    "        [ grid_ao[5], grid_ao[7], grid_ao[8] ],\n",
    "        [ grid_ao[6], grid_ao[8], grid_ao[9] ],\n",
    "    ]\n",
    "    # (2) generate \\rho_g, \\partial_s \\rho_g\n",
    "    grid_rho = np.einsum(\"uv, tgu, gv -> tg\", D, grid_ao[0:4], grid_ao_0, optimize=True)\n",
    "    grid_rho[1:] *= 2\n",
    "    grid_rho_0 = grid_rho[0]\n",
    "    grid_rho_1 = grid_rho[1:4]\n",
    "    # (3) generate \\partial_\\rho f_g^\\mathrm{xc}, \\partial_\\gamma f_g^\\mathrm{xc}\n",
    "    grid_fr, grid_fg = scf_eng._numint.eval_xc(scf_eng.xc, grid_rho, deriv=1)[1][0:2]\n",
    "    # (4) generate atomic basis part of xc derivative\n",
    "    integrals = np.zeros((3, nao, nao))\n",
    "    integrals -= 2 * np.einsum(\"g, g, tgu, gv -> tuv\",      grid_weight, grid_fr, grid_ao_1,  grid_ao_0,            optimize=True)\n",
    "    integrals -= 4 * np.einsum(\"g, g, sg, sgv, tgu -> tuv\", grid_weight, grid_fg, grid_rho_1, grid_ao_1, grid_ao_1, optimize=True)\n",
    "    integrals -= 4 * np.einsum(\"g, g, sg, tsgu, gv -> tuv\", grid_weight, grid_fg, grid_rho_1, grid_ao_2, grid_ao_0, optimize=True)\n",
    "    # (5) summation by different atoms\n",
    "    grad_elec = np.zeros((mol.natm, 3))\n",
    "    for atm_id in range(mol.natm):\n",
    "        _, _, p0, p1 = mol.aoslice_by_atom()[atm_id]\n",
    "        grad_elec[atm_id, :] += np.einsum(\"tuv, uv -> t\", integrals[:, p0:p1], D[p0:p1])\n",
    "    return grad_elec\n",
    "\n",
    "grad_gga = my_grad_gga(scf_eng)"
   ]
  },
  {
   "cell_type": "markdown",
   "metadata": {},
   "source": [
    "GGA 的一阶梯度的所有部分都求取完毕．我们只需要将其与 HF 部分相加，就可以得到总的 GGA 电子能量梯度．"
   ]
  },
  {
   "cell_type": "code",
   "execution_count": 14,
   "metadata": {},
   "outputs": [
    {
     "data": {
      "text/plain": [
       "True"
      ]
     },
     "execution_count": 14,
     "metadata": {},
     "output_type": "execute_result"
    }
   ],
   "source": [
    "np.allclose(grad_hf + grad_gga, scf_grad.grad_elec())"
   ]
  },
  {
   "cell_type": "code",
   "execution_count": null,
   "metadata": {},
   "outputs": [],
   "source": []
  },
  {
   "cell_type": "markdown",
   "metadata": {},
   "source": [
    "## GGA 二阶梯度"
   ]
  },
  {
   "cell_type": "code",
   "execution_count": 15,
   "metadata": {},
   "outputs": [],
   "source": [
    "grid_ao, grid_mask, grid_weight, grid_coords = next(scf_eng._numint.block_loop(mol, scf_eng.grids, nao, 3, 2000))\n",
    "ngrid = grid_ao.shape[1]"
   ]
  },
  {
   "cell_type": "code",
   "execution_count": 16,
   "metadata": {},
   "outputs": [],
   "source": [
    "grid_ao_0  = grid_ao[0]\n",
    "grid_ao_1  = grid_ao[1:4]\n",
    "grid_ao_2T = grid_ao[4:10]\n",
    "\n",
    "XX, XY, XZ, YY, YZ, ZZ = range(4, 10)\n",
    "XXX, XXY, XXZ, XYY, XYZ, XZZ, YYY, YYZ, YZZ, ZZZ = range(10, 20)\n",
    "\n",
    "grid_ao_2 = np.array([\n",
    "    [grid_ao[XX], grid_ao[XY], grid_ao[XZ]],\n",
    "    [grid_ao[XY], grid_ao[YY], grid_ao[YZ]],\n",
    "    [grid_ao[XZ], grid_ao[YZ], grid_ao[ZZ]],\n",
    "])\n",
    "grid_ao_3T = np.array([\n",
    "    [grid_ao[XXX], grid_ao[XXY], grid_ao[XXZ], grid_ao[XYY], grid_ao[XYZ], grid_ao[XZZ]],\n",
    "    [grid_ao[XXY], grid_ao[XYY], grid_ao[XYZ], grid_ao[YYY], grid_ao[YYZ], grid_ao[YZZ]],\n",
    "    [grid_ao[XXZ], grid_ao[XYZ], grid_ao[XZZ], grid_ao[YYZ], grid_ao[YZZ], grid_ao[ZZZ]],\n",
    "])"
   ]
  },
  {
   "cell_type": "code",
   "execution_count": 17,
   "metadata": {},
   "outputs": [],
   "source": [
    "grid_rho = np.einsum(\"uv, tgu, gv -> tg\", D, grid_ao[0:4], grid_ao_0, optimize=True)\n",
    "grid_rho[1:] *= 2\n",
    "grid_rho_0 = grid_rho[0]\n",
    "grid_rho_1 = grid_rho[1:4]"
   ]
  },
  {
   "cell_type": "code",
   "execution_count": 18,
   "metadata": {},
   "outputs": [],
   "source": [
    "grid_vxc, grid_fxc = scf_eng._numint.eval_xc(scf_eng.xc, grid_rho, deriv=2)[1:3]\n",
    "grid_fr, grid_fg = grid_vxc[0:2]\n",
    "grid_frr, grid_frg, grid_fgg = grid_fxc[0:3]"
   ]
  },
  {
   "cell_type": "markdown",
   "metadata": {},
   "source": [
    "### 同核部分"
   ]
  },
  {
   "cell_type": "code",
   "execution_count": 19,
   "metadata": {},
   "outputs": [],
   "source": [
    "vxc_diag  = np.einsum(\"g, g, Tgu, gv -> Tuv\", grid_weight, grid_fr, grid_ao_2T, grid_ao_0, optimize=True)\n",
    "vxc_diag += 2 * np.einsum(\"g, g, rg, rTgu, gv -> Tuv\", grid_weight, grid_fg, grid_rho_1, grid_ao_3T, grid_ao_0, optimize=True)\n",
    "vxc_diag += 2 * np.einsum(\"g, g, rg, Tgu, rgv -> Tuv\", grid_weight, grid_fg, grid_rho_1, grid_ao_2T, grid_ao_1, optimize=True)\n",
    "XX, XY, XZ, YY, YZ, ZZ = range(6)\n",
    "vxc_diag = vxc_diag[[XX, XY, XZ, XY, YY, YZ, XZ, YZ, ZZ]]\n",
    "vxc_diag.shape = (3, 3, nao, nao)"
   ]
  },
  {
   "cell_type": "code",
   "execution_count": 20,
   "metadata": {},
   "outputs": [],
   "source": [
    "vxc_diag_pyscf = hessian.rks._get_vxc_diag(scf_hess, C, mo_occ, 2000)"
   ]
  },
  {
   "cell_type": "code",
   "execution_count": 21,
   "metadata": {},
   "outputs": [
    {
     "data": {
      "text/plain": [
       "True"
      ]
     },
     "execution_count": 21,
     "metadata": {},
     "output_type": "execute_result"
    }
   ],
   "source": [
    "np.allclose(vxc_diag_pyscf, vxc_diag)"
   ]
  },
  {
   "cell_type": "code",
   "execution_count": 22,
   "metadata": {},
   "outputs": [],
   "source": [
    "hess_veff_diag = np.zeros((natm, natm, 3, 3))\n",
    "for A in range(natm):\n",
    "    sA = mol_slice(A)\n",
    "    hess_veff_diag[A, A] = np.einsum(\"tsuv, uv -> ts\", vxc_diag[:, :, sA], D[sA]) * 2"
   ]
  },
  {
   "cell_type": "markdown",
   "metadata": {},
   "source": [
    "### 异核部分"
   ]
  },
  {
   "cell_type": "code",
   "execution_count": 23,
   "metadata": {},
   "outputs": [],
   "source": [
    "partial_hess_pyscf = scf_hess.partial_hess_elec()"
   ]
  },
  {
   "cell_type": "code",
   "execution_count": 24,
   "metadata": {},
   "outputs": [],
   "source": [
    "from pyscf.dft import numint\n",
    "import time"
   ]
  },
  {
   "cell_type": "code",
   "execution_count": 25,
   "metadata": {},
   "outputs": [],
   "source": [
    "vxc_deriv2_pyscf = hessian.rks._get_vxc_deriv2(scf_hess, C, mo_occ, 16000)\n",
    "hess_deriv2_pyscf = np.zeros((natm, natm, 3, 3))\n",
    "for A in range(natm):\n",
    "    for B in range(natm):\n",
    "        sA, sB = mol_slice(A), mol_slice(B)\n",
    "        hess_deriv2_pyscf[A, B] = np.einsum(\"tsuv, uv -> ts\", vxc_deriv2_pyscf[A, :, :, sB], D[sB]) * 2"
   ]
  },
  {
   "cell_type": "markdown",
   "metadata": {},
   "source": [
    "### Time"
   ]
  },
  {
   "cell_type": "code",
   "execution_count": 26,
   "metadata": {},
   "outputs": [
    {
     "name": "stdout",
     "output_type": "stream",
     "text": [
      "3.644152879714966\n",
      "9.904576301574707\n",
      "10.93254017829895\n",
      "0.004670143127441406\n"
     ]
    }
   ],
   "source": [
    "# %%time\n",
    "\n",
    "#---\n",
    "time0 = time.time();\n",
    "vmat = np.zeros((mol.natm,3,3,nao,nao))\n",
    "dR_rho1 = np.zeros((3, 4, ngrid))\n",
    "dR_rho1_0  = 2 * np.einsum(\"tgk , gl , li -> tgki \", grid_ao_1, grid_ao_0, Co, optimize=True)\n",
    "dR_rho1_1  = 2 * np.einsum(\"tsgk, gl , li -> tsgki\", grid_ao_2, grid_ao_0, Co, optimize=True)\n",
    "dR_rho1_1 += 2 * np.einsum(\"tgk , sgl, li -> tsgki\", grid_ao_1, grid_ao_1, Co, optimize=True)\n",
    "print(time.time() - time0)\n",
    "\n",
    "#---\n",
    "time0 = time.time();\n",
    "wv_0 = np.zeros((3, ngrid, nao, nocc))\n",
    "wv_1 = np.zeros((3, 3, ngrid, nao, nocc))\n",
    "wv_0 += .5* np.einsum(\"g, g, tgki          -> tgki \", grid_weight, grid_frr, dR_rho1_0,                         optimize=True)\n",
    "wv_1 += 2 * np.einsum(\"g, g, tgki , rg     -> trgki\", grid_weight, grid_frg, dR_rho1_0, grid_rho_1,             optimize=True)\n",
    "wv_0 +=     np.einsum(\"g, g, trgki, rg     -> tgki \", grid_weight, grid_frg, dR_rho1_1, grid_rho_1,             optimize=True)\n",
    "wv_1 += 4 * np.einsum(\"g, g, tsgki, sg, rg -> trgki\", grid_weight, grid_fgg, dR_rho1_1, grid_rho_1, grid_rho_1, optimize=True)\n",
    "wv_1 += 2 * np.einsum(\"g, g, trgki         -> trgki\", grid_weight, grid_fg,  dR_rho1_1,                         optimize=True)\n",
    "print(time.time() - time0)\n",
    "\n",
    "#---\n",
    "time0 = time.time();\n",
    "vmat  = np.einsum(\"tgki,  sgu,  gv , vj -> tskuij\", wv_0, grid_ao_1, grid_ao_0, Co, optimize=True)\n",
    "vmat += np.einsum(\"tgki,  gv,   sgu, vj -> tskuij\", wv_0, grid_ao_0, grid_ao_1, Co, optimize=True)\n",
    "vmat += np.einsum(\"trgki, srgu, gv , vj -> tskuij\", wv_1, grid_ao_2, grid_ao_0, Co, optimize=True)\n",
    "vmat += np.einsum(\"trgki, rgv,  sgu, vj -> tskuij\", wv_1, grid_ao_1, grid_ao_1, Co, optimize=True)\n",
    "print(time.time() - time0)\n",
    "\n",
    "#---\n",
    "time0 = time.time();\n",
    "hess_vmat_tmp = np.zeros((natm, natm, 3, 3))\n",
    "for A in range(natm):\n",
    "    for B in range(natm):\n",
    "        sA, sB = mol_slice(A), mol_slice(B)\n",
    "        hess_vmat_tmp[A, B] = 8 * np.einsum(\"tskuij, ki, uj -> ts\", vmat[:, :, sA, sB], Co[sA], Co[sB])\n",
    "print(time.time() - time0)"
   ]
  },
  {
   "cell_type": "code",
   "execution_count": null,
   "metadata": {},
   "outputs": [],
   "source": []
  },
  {
   "cell_type": "code",
   "execution_count": 53,
   "metadata": {},
   "outputs": [
    {
     "name": "stdout",
     "output_type": "stream",
     "text": [
      "0.3527677059173584\n",
      "0.12494540214538574\n",
      "1.4512510299682617\n"
     ]
    }
   ],
   "source": [
    "timeA = timeB = timeC = 0\n",
    "hess_deriv2 = np.zeros((natm, natm, 3, 3))\n",
    "\n",
    "for A in range(natm):\n",
    "    sA = mol_slice(A)\n",
    "\n",
    "    #---\n",
    "    time0 = time.time();\n",
    "    grid_A_rho_1  = 2 * np.einsum(\"tgk , gl , kl -> tg \", grid_ao_1[:, :, sA],    grid_ao_0, D[sA], optimize=True)\n",
    "    grid_A_rho_2  = 2 * np.einsum(\"trgk, gl , kl -> trg\", grid_ao_2[:, :, :, sA], grid_ao_0, D[sA], optimize=True)\n",
    "    grid_A_rho_2 += 2 * np.einsum(\"tgk , rgl, kl -> trg\", grid_ao_1[:, :, sA],    grid_ao_1, D[sA], optimize=True)\n",
    "    timeA += time.time() - time0\n",
    "\n",
    "    #---\n",
    "    time0 = time.time();\n",
    "    wv_0 = np.zeros((3, ngrid))\n",
    "    wv_1 = np.zeros((3, 3, ngrid))\n",
    "    wv_0 += .5* np.einsum(\"g, g, tg          -> tg \", grid_weight, grid_frr, grid_A_rho_1,                         optimize=True)\n",
    "    wv_1 += 2 * np.einsum(\"g, g, tg , rg     -> trg\", grid_weight, grid_frg, grid_A_rho_1, grid_rho_1,             optimize=True)\n",
    "    wv_0 +=     np.einsum(\"g, g, trg, rg     -> tg \", grid_weight, grid_frg, grid_A_rho_2, grid_rho_1,             optimize=True)\n",
    "    wv_1 += 4 * np.einsum(\"g, g, twg, rg, wg -> trg\", grid_weight, grid_fgg, grid_A_rho_2, grid_rho_1, grid_rho_1, optimize=True)\n",
    "    wv_1 += 2 * np.einsum(\"g, g, trg         -> trg\", grid_weight, grid_fg,  grid_A_rho_2,                         optimize=True)\n",
    "    timeB += time.time() - time0\n",
    "\n",
    "    #---\n",
    "    time0 = time.time();\n",
    "    for B in range(natm):\n",
    "        sB = mol_slice(B)\n",
    "        hess_deriv2[A, B]  = 4 * np.einsum(\"tg,  sgu,  gv , uv -> ts\", wv_0, grid_ao_1[:, :, sB],    grid_ao_0, D[sB], optimize=True) \n",
    "        hess_deriv2[A, B] += 2 * np.einsum(\"trg, srgu, gv , uv -> ts\", wv_1, grid_ao_2[:, :, :, sB], grid_ao_0, D[sB], optimize=True)\n",
    "        hess_deriv2[A, B] += 2 * np.einsum(\"trg, sgu,  rgv, uv -> ts\", wv_1, grid_ao_1[:, :, sB],    grid_ao_1, D[sB], optimize=True)\n",
    "        hess_deriv2[B, A] = hess_deriv2[A, B].T\n",
    "    timeC += time.time() - time0\n",
    "\n",
    "#---\n",
    "        \n",
    "print(timeA)\n",
    "print(timeB)\n",
    "print(timeC)"
   ]
  },
  {
   "cell_type": "code",
   "execution_count": 54,
   "metadata": {},
   "outputs": [
    {
     "data": {
      "text/plain": [
       "True"
      ]
     },
     "execution_count": 54,
     "metadata": {},
     "output_type": "execute_result"
    }
   ],
   "source": [
    "ipip  = 0.5 * np.einsum(\"g, g, sgu, tgv -> tsuv\", grid_weight, grid_fr, grid_ao_1, grid_ao_1, optimize=True)\n",
    "ipip += 2 * np.einsum(\"g, g, rg, rsgu, tgv -> tsuv\", grid_weight, grid_fg, grid_rho_1, grid_ao_2, grid_ao_1, optimize=True)\n",
    "\n",
    "for A in range(natm):\n",
    "    for B in range(natm):\n",
    "        sA, sB = mol_slice(A), mol_slice(B)\n",
    "        hess_deriv2[A, B] += np.einsum(\"tsuv, uv -> ts\", ipip[:, :, sB, sA], D[sB, sA]) * 2\n",
    "        hess_deriv2[A, B] += np.einsum(\"stvu, uv -> ts\", ipip[:, :, sA, sB], D[sB, sA]) * 2\n",
    "np.allclose(hess_deriv2, hess_deriv2_pyscf)"
   ]
  },
  {
   "cell_type": "code",
   "execution_count": 49,
   "metadata": {},
   "outputs": [
    {
     "data": {
      "text/plain": [
       "array([[[[ 0.     ,  0.     , -0.     ],\n",
       "         [-0.     ,  0.     , -0.     ],\n",
       "         [-0.     ,  0.     ,  0.     ]],\n",
       "\n",
       "        [[-0.     , -0.00236,  0.03204],\n",
       "         [ 0.00236,  0.     ,  0.03204],\n",
       "         [-0.03204, -0.03204, -0.     ]],\n",
       "\n",
       "        [[-0.     , -0.00206, -0.022  ],\n",
       "         [ 0.00206,  0.     ,  0.00012],\n",
       "         [ 0.022  , -0.00012,  0.     ]],\n",
       "\n",
       "        [[-0.     ,  0.00128,  0.00187],\n",
       "         [-0.00128,  0.     , -0.00794],\n",
       "         [-0.00187,  0.00794, -0.     ]]],\n",
       "\n",
       "\n",
       "       [[[-0.     , -0.     ,  0.     ],\n",
       "         [ 0.     ,  0.     ,  0.     ],\n",
       "         [-0.     ,  0.     , -0.     ]],\n",
       "\n",
       "        [[ 0.     , -0.     ,  0.     ],\n",
       "         [ 0.     ,  0.     ,  0.     ],\n",
       "         [-0.     , -0.     ,  0.     ]],\n",
       "\n",
       "        [[-0.     , -0.00128,  0.00794],\n",
       "         [ 0.00128,  0.     , -0.00187],\n",
       "         [-0.00794,  0.00187, -0.     ]],\n",
       "\n",
       "        [[-0.     ,  0.00206, -0.00012],\n",
       "         [-0.00206,  0.     ,  0.022  ],\n",
       "         [ 0.00012, -0.022  ,  0.     ]]],\n",
       "\n",
       "\n",
       "       [[[-0.     ,  0.     ,  0.     ],\n",
       "         [-0.     ,  0.     ,  0.     ],\n",
       "         [-0.     ,  0.     ,  0.     ]],\n",
       "\n",
       "        [[-0.     ,  0.     ,  0.     ],\n",
       "         [-0.     ,  0.     ,  0.     ],\n",
       "         [ 0.     , -0.     ,  0.     ]],\n",
       "\n",
       "        [[ 0.     , -0.     , -0.     ],\n",
       "         [-0.     ,  0.     ,  0.     ],\n",
       "         [-0.     ,  0.     ,  0.     ]],\n",
       "\n",
       "        [[-0.     , -0.00012, -0.00007],\n",
       "         [ 0.00012, -0.     , -0.00007],\n",
       "         [ 0.00007,  0.00007, -0.     ]]],\n",
       "\n",
       "\n",
       "       [[[-0.     ,  0.     , -0.     ],\n",
       "         [ 0.     , -0.     , -0.     ],\n",
       "         [ 0.     , -0.     ,  0.     ]],\n",
       "\n",
       "        [[-0.     , -0.     , -0.     ],\n",
       "         [-0.     ,  0.     , -0.     ],\n",
       "         [ 0.     , -0.     ,  0.     ]],\n",
       "\n",
       "        [[-0.     ,  0.     , -0.     ],\n",
       "         [ 0.     , -0.     ,  0.     ],\n",
       "         [-0.     ,  0.     , -0.     ]],\n",
       "\n",
       "        [[ 0.     , -0.     ,  0.     ],\n",
       "         [ 0.     ,  0.     ,  0.     ],\n",
       "         [-0.     ,  0.     , -0.     ]]]])"
      ]
     },
     "execution_count": 49,
     "metadata": {},
     "output_type": "execute_result"
    }
   ],
   "source": [
    "hess_deriv2 - hess_deriv2_pyscf"
   ]
  },
  {
   "cell_type": "code",
   "execution_count": null,
   "metadata": {},
   "outputs": [],
   "source": []
  },
  {
   "cell_type": "code",
   "execution_count": null,
   "metadata": {},
   "outputs": [],
   "source": []
  },
  {
   "cell_type": "code",
   "execution_count": null,
   "metadata": {},
   "outputs": [],
   "source": []
  },
  {
   "cell_type": "code",
   "execution_count": 32,
   "metadata": {},
   "outputs": [],
   "source": [
    "def get_hess_ao_noU_hcore(A, B):\n",
    "    ao_matrix = np.zeros((3 * 3, nao, nao))\n",
    "    zA, zB = mol.atom_charge(A), mol.atom_charge(B)\n",
    "    sA, sB = mol_slice(A), mol_slice(B)\n",
    "    if (A == B):\n",
    "        ao_matrix[:, sA] += int1e_ipipkin[:, sA]\n",
    "        ao_matrix[:, sA] += int1e_ipipnuc[:, sA]\n",
    "        with mol.with_rinv_as_nucleus(A):\n",
    "            ao_matrix -= zA * mol.intor('int1e_ipiprinv')\n",
    "            ao_matrix -= zA * mol.intor('int1e_iprinvip')\n",
    "    ao_matrix[:, sA, sB] += int1e_ipkinip[:, sA, sB]\n",
    "    ao_matrix[:, sA, sB] += int1e_ipnucip[:, sA, sB]\n",
    "    with mol.with_rinv_as_nucleus(B):\n",
    "        ao_matrix[:, sA] += zB * mol.intor('int1e_ipiprinv')[:, sA]\n",
    "        ao_matrix[:, sA] += zB * mol.intor('int1e_iprinvip')[:, sA]\n",
    "    with mol.with_rinv_as_nucleus(A):\n",
    "        ao_matrix[:, sB] += zA * mol.intor('int1e_ipiprinv')[:, sB]\n",
    "        ao_matrix[:, sB] += zA * mol.intor('int1e_iprinvip').swapaxes(1, 2)[:, sB]\n",
    "    ao_matrix += ao_matrix.swapaxes(1, 2)\n",
    "    return ao_matrix\n",
    "\n",
    "eri_mat1 = np.einsum(\"Tuvkl, kl -> Tuv\", int2e_ipip1, D) * 2 - c_x * np.einsum(\"Tukvl, kl -> Tuv\", int2e_ipip1, D)\n",
    "eri_mat2 = np.einsum(\"Tuvkl, kl -> Tuv\", int2e_ipvip1, D) * 2 - c_x * np.einsum(\"Tukvl, kl -> Tuv\", int2e_ip1ip2, D)\n",
    "eri_tensor1 = int2e_ip1ip2 * 4 - c_x * int2e_ipvip1.swapaxes(2, 3) - c_x * int2e_ip1ip2.swapaxes(2, 4)\n",
    "\n",
    "def get_hess_ao_noU_eri(A, B):\n",
    "    ao_matrix = np.zeros((9, nao, nao))\n",
    "    sA, sB = mol_slice(A), mol_slice(B)\n",
    "    if (A == B):\n",
    "        ao_matrix[:, sA] += eri_mat1[:, sA]\n",
    "    ao_matrix[:, sA, sB] += eri_mat2[:, sA, sB]\n",
    "    ao_matrix[:, sA] += np.einsum(\"Tuvkl, kl -> Tuv\", eri_tensor1[:, sA, :, sB], D[sB])\n",
    "    return ao_matrix\n",
    "\n",
    "def get_hess_ao_noU_S(A, B):\n",
    "    ao_matrix = np.zeros((9, nao, nao))\n",
    "    sA, sB = mol_slice(A), mol_slice(B)\n",
    "    if (A == B):\n",
    "        ao_matrix[:, sA] -= int1e_ipipovlp[:, sA] * 2\n",
    "    ao_matrix[:, sA, sB] -= int1e_ipovlpip[:, sA, sB] * 2\n",
    "    return ao_matrix\n",
    "\n",
    "def get_hess_noU(A, B):\n",
    "    return (np.einsum(\"Tuv, uv -> T\", get_hess_ao_noU_hcore(A, B) + get_hess_ao_noU_eri(A, B), D).reshape(3, 3)\n",
    "            + np.einsum(\"Tuv, uv -> T\",  + get_hess_ao_noU_S(A, B), De).reshape(3, 3))\n",
    "\n",
    "hess_noU_noGGA = np.array([ [ get_hess_noU(A, B) for B in range(natm) ] for A in range(natm) ])"
   ]
  },
  {
   "cell_type": "code",
   "execution_count": 33,
   "metadata": {},
   "outputs": [
    {
     "data": {
      "text/plain": [
       "True"
      ]
     },
     "execution_count": 33,
     "metadata": {},
     "output_type": "execute_result"
    }
   ],
   "source": [
    "np.allclose(\n",
    "    hess_noU_noGGA + hess_veff_diag + hess_deriv2,\n",
    "    partial_hess_pyscf\n",
    ")"
   ]
  },
  {
   "cell_type": "code",
   "execution_count": null,
   "metadata": {},
   "outputs": [],
   "source": []
  },
  {
   "cell_type": "code",
   "execution_count": null,
   "metadata": {},
   "outputs": [],
   "source": []
  },
  {
   "cell_type": "code",
   "execution_count": null,
   "metadata": {},
   "outputs": [],
   "source": []
  },
  {
   "cell_type": "code",
   "execution_count": null,
   "metadata": {},
   "outputs": [],
   "source": []
  },
  {
   "cell_type": "code",
   "execution_count": null,
   "metadata": {},
   "outputs": [],
   "source": []
  },
  {
   "cell_type": "code",
   "execution_count": null,
   "metadata": {},
   "outputs": [],
   "source": []
  },
  {
   "cell_type": "code",
   "execution_count": null,
   "metadata": {},
   "outputs": [],
   "source": []
  },
  {
   "cell_type": "code",
   "execution_count": null,
   "metadata": {},
   "outputs": [],
   "source": []
  },
  {
   "cell_type": "code",
   "execution_count": null,
   "metadata": {},
   "outputs": [],
   "source": []
  },
  {
   "cell_type": "code",
   "execution_count": null,
   "metadata": {},
   "outputs": [],
   "source": []
  },
  {
   "cell_type": "code",
   "execution_count": null,
   "metadata": {},
   "outputs": [],
   "source": []
  },
  {
   "cell_type": "code",
   "execution_count": null,
   "metadata": {},
   "outputs": [],
   "source": []
  },
  {
   "cell_type": "code",
   "execution_count": null,
   "metadata": {},
   "outputs": [],
   "source": []
  },
  {
   "cell_type": "code",
   "execution_count": null,
   "metadata": {},
   "outputs": [],
   "source": [
    "def get_hess_ao_noU_hcore(A, B):\n",
    "    ao_matrix = np.zeros((3 * 3, nao, nao))\n",
    "    zA, zB = mol.atom_charge(A), mol.atom_charge(B)\n",
    "    sA, sB = mol_slice(A), mol_slice(B)\n",
    "    if (A == B):\n",
    "        ao_matrix[:, sA] += int1e_ipipkin[:, sA]\n",
    "        ao_matrix[:, sA] += int1e_ipipnuc[:, sA]\n",
    "        with mol.with_rinv_as_nucleus(A):\n",
    "            ao_matrix -= zA * mol.intor('int1e_ipiprinv')\n",
    "            ao_matrix -= zA * mol.intor('int1e_iprinvip')\n",
    "    ao_matrix[:, sA, sB] += int1e_ipkinip[:, sA, sB]\n",
    "    ao_matrix[:, sA, sB] += int1e_ipnucip[:, sA, sB]\n",
    "    with mol.with_rinv_as_nucleus(B):\n",
    "        ao_matrix[:, sA] += zB * mol.intor('int1e_ipiprinv')[:, sA]\n",
    "        ao_matrix[:, sA] += zB * mol.intor('int1e_iprinvip')[:, sA]\n",
    "    with mol.with_rinv_as_nucleus(A):\n",
    "        ao_matrix[:, sB] += zA * mol.intor('int1e_ipiprinv')[:, sB]\n",
    "        ao_matrix[:, sB] += zA * mol.intor('int1e_iprinvip').swapaxes(1, 2)[:, sB]\n",
    "    ao_matrix += ao_matrix.swapaxes(1, 2)\n",
    "    return ao_matrix\n",
    "\n",
    "eri_mat1 = np.einsum(\"Tuvkl, kl -> Tuv\", int2e_ipip1, D) * 2 - c_x * np.einsum(\"Tukvl, kl -> Tuv\", int2e_ipip1, D)\n",
    "eri_mat2 = np.einsum(\"Tuvkl, kl -> Tuv\", int2e_ipvip1, D) * 2 - c_x * np.einsum(\"Tukvl, kl -> Tuv\", int2e_ip1ip2, D)\n",
    "eri_tensor1 = int2e_ip1ip2 * 4 - c_x * int2e_ipvip1.swapaxes(2, 3) - c_x * int2e_ip1ip2.swapaxes(2, 4)\n",
    "\n",
    "def get_hess_ao_noU_eri(A, B):\n",
    "    ao_matrix = np.zeros((9, nao, nao))\n",
    "    sA, sB = mol_slice(A), mol_slice(B)\n",
    "    if (A == B):\n",
    "        ao_matrix[:, sA] += eri_mat1[:, sA]\n",
    "    ao_matrix[:, sA, sB] += eri_mat2[:, sA, sB]\n",
    "    ao_matrix[:, sA] += np.einsum(\"Tuvkl, kl -> Tuv\", eri_tensor1[:, sA, :, sB], D[sB])\n",
    "    return ao_matrix\n",
    "\n",
    "def get_hess_ao_noU_S(A, B):\n",
    "    ao_matrix = np.zeros((9, nao, nao))\n",
    "    sA, sB = mol_slice(A), mol_slice(B)\n",
    "    if (A == B):\n",
    "        ao_matrix[:, sA] -= int1e_ipipovlp[:, sA] * 2\n",
    "    ao_matrix[:, sA, sB] -= int1e_ipovlpip[:, sA, sB] * 2\n",
    "    return ao_matrix\n",
    "\n",
    "def get_hess_noU(A, B):\n",
    "    return (np.einsum(\"Tuv, uv -> T\", get_hess_ao_noU_hcore(A, B) + get_hess_ao_noU_eri(A, B), D).reshape(3, 3)\n",
    "            + np.einsum(\"Tuv, uv -> T\",  + get_hess_ao_noU_S(A, B), De).reshape(3, 3))\n",
    "\n",
    "hess_noU_noGGA = np.array([ [ get_hess_noU(A, B) for B in range(natm) ] for A in range(natm) ])"
   ]
  },
  {
   "cell_type": "code",
   "execution_count": null,
   "metadata": {},
   "outputs": [],
   "source": [
    "np.allclose(\n",
    "    hess_noU_noGGA + hess_veff_diag + hess_deriv2_pyscf,\n",
    "    scf_hess.partial_hess_elec()\n",
    ")"
   ]
  },
  {
   "cell_type": "code",
   "execution_count": null,
   "metadata": {},
   "outputs": [],
   "source": []
  },
  {
   "cell_type": "code",
   "execution_count": null,
   "metadata": {},
   "outputs": [],
   "source": []
  },
  {
   "cell_type": "code",
   "execution_count": null,
   "metadata": {},
   "outputs": [],
   "source": []
  },
  {
   "cell_type": "code",
   "execution_count": null,
   "metadata": {},
   "outputs": [],
   "source": []
  },
  {
   "cell_type": "code",
   "execution_count": null,
   "metadata": {},
   "outputs": [],
   "source": []
  },
  {
   "cell_type": "code",
   "execution_count": null,
   "metadata": {},
   "outputs": [],
   "source": []
  },
  {
   "cell_type": "code",
   "execution_count": null,
   "metadata": {},
   "outputs": [],
   "source": []
  },
  {
   "cell_type": "code",
   "execution_count": null,
   "metadata": {},
   "outputs": [],
   "source": []
  },
  {
   "cell_type": "code",
   "execution_count": null,
   "metadata": {},
   "outputs": [],
   "source": []
  },
  {
   "cell_type": "code",
   "execution_count": null,
   "metadata": {},
   "outputs": [],
   "source": []
  },
  {
   "cell_type": "code",
   "execution_count": null,
   "metadata": {},
   "outputs": [],
   "source": []
  },
  {
   "cell_type": "code",
   "execution_count": null,
   "metadata": {},
   "outputs": [],
   "source": []
  },
  {
   "cell_type": "code",
   "execution_count": null,
   "metadata": {},
   "outputs": [],
   "source": []
  },
  {
   "cell_type": "code",
   "execution_count": null,
   "metadata": {},
   "outputs": [],
   "source": []
  },
  {
   "cell_type": "code",
   "execution_count": null,
   "metadata": {},
   "outputs": [],
   "source": []
  },
  {
   "cell_type": "code",
   "execution_count": null,
   "metadata": {},
   "outputs": [],
   "source": []
  },
  {
   "cell_type": "code",
   "execution_count": null,
   "metadata": {},
   "outputs": [],
   "source": []
  },
  {
   "cell_type": "markdown",
   "metadata": {},
   "source": [
    "## TMP"
   ]
  },
  {
   "cell_type": "code",
   "execution_count": null,
   "metadata": {},
   "outputs": [],
   "source": [
    "%%time\n",
    "\n",
    "vmat = np.zeros((mol.natm,3,3,nao,nao))\n",
    "ipip = np.zeros((3,3,nao,nao))\n",
    "\n",
    "ni = scf_eng._numint\n",
    "xctype = ni._xc_type(scf_eng.xc)\n",
    "aoslices = mol.aoslice_by_atom()\n",
    "shls_slice = (0, mol.nbas)\n",
    "ao_loc = mol.ao_loc_nr()\n",
    "\n",
    "# grid_rho: rho = ni.eval_rho2(mol, ao[:4], mo_coeff, mo_occ, mask, 'GGA')\n",
    "# grid_vxc, grid_fxc: vxc, fxc = ni.eval_xc(mf.xc, rho, 0, deriv=2)[1:3]\n",
    "\n",
    "#--------------------------------------------------------------------------\n",
    "\n",
    "#-- wv = numint._rks_gga_wv0(grid_rho, grid_vxc, grid_weight)\n",
    "\n",
    "# wv = np.zeros((4, ngrid))\n",
    "# wv[0] = 0.5 * np.einsum(\"g, g -> g\", grid_weight, grid_fr)\n",
    "# wv[1:4] = 2 * np.einsum(\"g, g, rg -> rg\", grid_weight, grid_fg, grid_rho_1)\n",
    "\n",
    "#--------------------------------------------------------------------------\n",
    "\n",
    "#-- aow = grad.rks._make_dR_dao_w(grid_ao, wv)\n",
    "\n",
    "# aow = np.einsum(\"tgu, g -> tgu\", grid_ao_1, wv[0])\n",
    "# aow += np.einsum(\"trgu, rg -> tgu\", grid_ao_2, wv[1:4])\n",
    "\n",
    "#--------------------------------------------------------------------------\n",
    "\n",
    "aow = 0.5 * np.einsum(\"g, g, sgv -> sgv\", grid_weight, grid_fr, grid_ao_1, optimize=True)\n",
    "aow += 2 * np.einsum(\"g, g, rg, rsgv -> sgv\", grid_weight, grid_fg, grid_rho_1, grid_ao_2, optimize=True)\n",
    "\n",
    "#==========================================================================\n",
    "\n",
    "#-- hessian.rks._d1d2_dot_(ipip, mol, aow, grid_ao[1:4], grid_mask, ao_loc, False)\n",
    "# ipip = np.einsum(\"sgu, tgv -> tsuv\", aow, grid_ao_1)\n",
    "\n",
    "ipip += 0.5 * np.einsum(\"g, g, sgu, tgv -> tsuv\", grid_weight, grid_fr, grid_ao_1, grid_ao_1, optimize=True)\n",
    "ipip += 2 * np.einsum(\"g, g, rg, rsgu, tgv -> tsuv\", grid_weight, grid_fg, grid_rho_1, grid_ao_2, grid_ao_1, optimize=True)\n",
    "\n",
    "#--------------------------------------------------------------------------\n",
    "\n",
    "#-- ao_dm0 = [numint._dot_ao_dm(mol, grid_ao[i], D, grid_mask, shls_slice, ao_loc)\n",
    "#--           for i in range(4)]\n",
    "\n",
    "ao_dm0 = np.einsum(\"uv, sgv -> sgu\", D, grid_ao[0:4])\n",
    "\n",
    "#--------------------------------------------------------------------------\n",
    "\n",
    "for ia in range(natm):\n",
    "    sA = mol_slice(ia)\n",
    "#--------------------------------------------------------------------------\n",
    "    #--- wv = dR_rho1 = hessian.rks._make_dR_rho1(grid_ao, ao_dm0, ia, aoslices)\n",
    "    wv = np.zeros((3, 4, ngrid))\n",
    "    dR_rho1 = np.zeros((3, 4, ngrid))\n",
    "    dR_rho1[:, 0] = 2 * np.einsum(\"tgu, uv, gv -> tg\", grid_ao_1[:, :, sA], D[sA], grid_ao_0, optimize=True)\n",
    "    dR_rho1[:, 1:4] = 2 * np.einsum(\"tsgu, uv, gv -> tsg\", grid_ao_2[:, :, :, sA], D[sA], grid_ao_0, optimize=True)\n",
    "    dR_rho1[:, 1:4] += 2 * np.einsum(\"tgu, uv, sgv -> tsg\", grid_ao_1[:, :, sA], D[sA], grid_ao_1, optimize=True)\n",
    "#--------------------------------------------------------------------------\n",
    "    #--- wv[0] = numint._rks_gga_wv1(grid_rho, dR_rho1[0], grid_vxc, grid_fxc, grid_weight)\n",
    "    #--- wv[1] = numint._rks_gga_wv1(grid_rho, dR_rho1[1], grid_vxc, grid_fxc, grid_weight)\n",
    "    #--- wv[2] = numint._rks_gga_wv1(grid_rho, dR_rho1[2], grid_vxc, grid_fxc, grid_weight)\n",
    "    \n",
    "    # wv[0, 0] = 0.5 * np.einsum(\"g, g, g -> g\", grid_weight, grid_frr, dR_rho1[0, 0], optimize=True)\n",
    "    # wv[0, 0] += np.einsum(\"g, g, rg, rg -> g\", grid_weight, grid_frg, dR_rho1[0, 1:4], grid_rho_1, optimize=True)\n",
    "    \n",
    "    # wv[0, 1:4] = 2 * np.einsum(\"g, g, g, sg -> sg\", grid_weight, grid_frg, dR_rho1[0, 0], grid_rho_1, optimize=True)\n",
    "    # wv[0, 1:4] += 4 * np.einsum(\"g, g, rg, rg, sg -> sg\", grid_weight, grid_fgg, grid_rho_1, dR_rho1[0, 1:4], grid_rho_1, optimize=True)\n",
    "    # wv[0, 1:4] += 2 * np.einsum(\"g, g, sg -> sg\", grid_weight, grid_fg, dR_rho1[0, 1:4], optimize=True)\n",
    "    \n",
    "    wv[:, 0] = 0.5 * np.einsum(\"g, g, tg -> tg\", grid_weight, grid_frr, dR_rho1[:, 0], optimize=True)\n",
    "    wv[:, 0] += np.einsum(\"g, g, trg, rg -> tg\", grid_weight, grid_frg, dR_rho1[:, 1:4], grid_rho_1, optimize=True)\n",
    "    wv[:, 1:4] = 2 * np.einsum(\"g, g, tg, sg -> tsg\", grid_weight, grid_frg, dR_rho1[:, 0], grid_rho_1, optimize=True)\n",
    "    wv[:, 1:4] += 4 * np.einsum(\"g, g, rg, trg, sg -> tsg\", grid_weight, grid_fgg, grid_rho_1, dR_rho1[:, 1:4], grid_rho_1, optimize=True)\n",
    "    wv[:, 1:4] += 2 * np.einsum(\"g, g, tsg -> tsg\", grid_weight, grid_fg, dR_rho1[:, 1:4], optimize=True)\n",
    "#--------------------------------------------------------------------------\n",
    "    #--- aow = grad.rks._make_dR_dao_w(grid_ao, wv[0])\n",
    "    #--- grad.rks._d1_dot_(vmat[ia,0], mol, aow, grid_ao[0], grid_mask, ao_loc, True)\n",
    "    #--- aow = grad.rks._make_dR_dao_w(grid_ao, wv[1])\n",
    "    #--- grad.rks._d1_dot_(vmat[ia,1], mol, aow, grid_ao[0], grid_mask, ao_loc, True)\n",
    "    #--- aow = grad.rks._make_dR_dao_w(grid_ao, wv[2])\n",
    "    #--- grad.rks._d1_dot_(vmat[ia,2], mol, aow, grid_ao[0], grid_mask, ao_loc, True)\n",
    "    \n",
    "    # print(vmat[ia, 0])\n",
    "    # print(vmat[ia, 0].shape)\n",
    "    # tmp = np.zeros((3, nao, nao))\n",
    "    # tmp += np.einsum(\"g, sgu, gv -> suv\", wv[0, 0], grid_ao_1, grid_ao_0)\n",
    "    # tmp += np.einsum(\"rg, srgu, gv -> suv\", wv[0, 1:4], grid_ao_2, grid_ao_0)\n",
    "    # print(np.allclose(tmp, vmat[ia, 0]))\n",
    "    \n",
    "    vmat[ia] += np.einsum(\"tg, sgu, gv -> tsuv\", wv[:, 0], grid_ao_1, grid_ao_0, optimize=True)\n",
    "    vmat[ia] += np.einsum(\"trg, srgu, gv -> tsuv\", wv[:, 1:4], grid_ao_2, grid_ao_0, optimize=True)\n",
    "#--------------------------------------------------------------------------\n",
    "    #--- aow = np.einsum('npi,Xnp->Xpi', grid_ao[:4], wv)\n",
    "    #--- hessian.rks._d1d2_dot_(vmat[ia], mol, grid_ao[1:4], aow, grid_mask, ao_loc, False)\n",
    "    vmat[ia] += np.einsum(\"trg, rgv, sgu -> tsuv\", wv, grid_ao[:4], grid_ao_1, optimize=True)\n",
    "#--------------------------------------------------------------------------\n",
    "ao_dm0 = aow = None\n",
    "\n",
    "for ia in range(mol.natm):\n",
    "    p0, p1 = aoslices[ia][2:]\n",
    "    vmat[ia,:,:,:,p0:p1] += ipip[:,:,:,p0:p1]\n",
    "    vmat[ia,:,:,:,p0:p1] += ipip[:,:,p0:p1].transpose(1,0,3,2)\n",
    "    \n",
    "print(np.allclose(vmat, vxc_deriv2_pyscf))"
   ]
  }
 ],
 "metadata": {
  "kernelspec": {
   "display_name": "Python 3",
   "language": "python",
   "name": "python3"
  },
  "language_info": {
   "codemirror_mode": {
    "name": "ipython",
    "version": 3
   },
   "file_extension": ".py",
   "mimetype": "text/x-python",
   "name": "python",
   "nbconvert_exporter": "python",
   "pygments_lexer": "ipython3",
   "version": "3.6.6"
  }
 },
 "nbformat": 4,
 "nbformat_minor": 2
}
